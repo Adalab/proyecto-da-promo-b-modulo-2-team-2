{
 "cells": [
  {
   "cell_type": "code",
   "execution_count": 1,
   "metadata": {},
   "outputs": [
    {
     "name": "stdout",
     "output_type": "stream",
     "text": [
      "Collecting tqdm\n",
      "  Downloading tqdm-4.66.4-py3-none-any.whl.metadata (57 kB)\n",
      "     ---------------------------------------- 0.0/57.6 kB ? eta -:--:--\n",
      "     ---------------------------------------- 0.0/57.6 kB ? eta -:--:--\n",
      "     ------------- ------------------------ 20.5/57.6 kB 682.7 kB/s eta 0:00:01\n",
      "     ------------- ------------------------ 20.5/57.6 kB 682.7 kB/s eta 0:00:01\n",
      "     ------------- ------------------------ 20.5/57.6 kB 682.7 kB/s eta 0:00:01\n",
      "     ------------- ------------------------ 20.5/57.6 kB 682.7 kB/s eta 0:00:01\n",
      "     -------------------------------------- 57.6/57.6 kB 276.7 kB/s eta 0:00:00\n",
      "Requirement already satisfied: colorama in c:\\users\\lulú\\appdata\\local\\packages\\pythonsoftwarefoundation.python.3.11_qbz5n2kfra8p0\\localcache\\local-packages\\python311\\site-packages (from tqdm) (0.4.6)\n",
      "Downloading tqdm-4.66.4-py3-none-any.whl (78 kB)\n",
      "   ---------------------------------------- 0.0/78.3 kB ? eta -:--:--\n",
      "   --------------- ------------------------ 30.7/78.3 kB 1.3 MB/s eta 0:00:01\n",
      "   -------------------- ------------------- 41.0/78.3 kB 960.0 kB/s eta 0:00:01\n",
      "   ---------------------------------------- 78.3/78.3 kB 872.2 kB/s eta 0:00:00\n",
      "Installing collected packages: tqdm\n",
      "Successfully installed tqdm-4.66.4\n"
     ]
    },
    {
     "name": "stderr",
     "output_type": "stream",
     "text": [
      "\n",
      "[notice] A new release of pip is available: 24.0 -> 24.1.2\n",
      "[notice] To update, run: C:\\Users\\Lulú\\AppData\\Local\\Microsoft\\WindowsApps\\PythonSoftwareFoundation.Python.3.11_qbz5n2kfra8p0\\python.exe -m pip install --upgrade pip\n"
     ]
    }
   ],
   "source": [
    "## instalamos la librería tqdm\n",
    "! pip install tqdm"
   ]
  },
  {
   "cell_type": "code",
   "execution_count": 2,
   "metadata": {},
   "outputs": [],
   "source": [
    "## importamos las librerias necesarias\n",
    "\n",
    "import requests\n",
    "import pandas as pd\n",
    "from time import sleep\n",
    "from tqdm import tqdm"
   ]
  },
  {
   "cell_type": "code",
   "execution_count": 4,
   "metadata": {},
   "outputs": [
    {
     "name": "stdout",
     "output_type": "stream",
     "text": [
      "Action\n",
      "1980\n",
      "[]\n"
     ]
    }
   ],
   "source": [
    "## extraccion datos por genero de película y años \n",
    "\n",
    "genreList = ['Action'] #, 'Mystery', 'Romance']\n",
    "movielist = []\n",
    "\n",
    "for genre in genreList:\n",
    "    print(genre)\n",
    "    for year in range(1980,1981):\n",
    "        print(year)\n",
    "        url = f\"https://dev.adalab.es/api/cinema/movies?{year}=2010&genre={genre}\"\n",
    "        sleep(5)\n",
    "        response = requests.get(url)\n",
    "        if response.status_code == 200:\n",
    "            movies = response.json()['results']\n",
    "            for index,movie in enumerate(movies):\n",
    "                if movie [index]['type'] == 'Movie' or 'Short':\n",
    "                    resultado = []\n",
    "                    resultado.append(movie['idOwner'])\n",
    "                    resultado.append(movie['title'])\n",
    "                    resultado.append(movie['type'])\n",
    "                    resultado.append(movie['year'])\n",
    "                    resultado.append(movie['genre'])\n",
    "\n",
    "                    movielist.append(tuple(resultado))            \n",
    "        else: \n",
    "            print(\"Vaya, algo ha ido mal\")\n",
    "\n",
    "print(movielist)"
   ]
  },
  {
   "cell_type": "code",
   "execution_count": null,
   "metadata": {},
   "outputs": [],
   "source": [
    "## convertirlo en un Dataframe\n",
    "\n",
    "df = pd.DataFrame(movielist, columns = ['','',''])\n",
    "\n",
    "df.to_csv\n",
    "\n",
    "df_final = pd.concat([dfmiembro1,dfmiembro2,dfmiembro3...], axis=0)\n",
    " \n",
    " # axis = 0 indica que me lo una por las columnas                  \n"
   ]
  }
 ],
 "metadata": {
  "kernelspec": {
   "display_name": ".venv",
   "language": "python",
   "name": "python3"
  },
  "language_info": {
   "codemirror_mode": {
    "name": "ipython",
    "version": 3
   },
   "file_extension": ".py",
   "mimetype": "text/x-python",
   "name": "python",
   "nbconvert_exporter": "python",
   "pygments_lexer": "ipython3",
   "version": "3.11.9"
  }
 },
 "nbformat": 4,
 "nbformat_minor": 2
}
