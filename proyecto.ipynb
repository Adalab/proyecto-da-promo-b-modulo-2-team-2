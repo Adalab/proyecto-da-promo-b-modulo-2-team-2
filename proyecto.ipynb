{
 "cells": [
  {
   "cell_type": "code",
   "execution_count": null,
   "metadata": {},
   "outputs": [],
   "source": [
    "## importamos las librerias necesarias\n",
    "\n",
    "import requests\n",
    "import pandas as pd\n",
    "from time import sleep\n",
    "from tqdm import tqdm"
   ]
  },
  {
   "cell_type": "code",
   "execution_count": null,
   "metadata": {},
   "outputs": [],
   "source": [
    "## extraccion datos por genero de película y años \n",
    "\n",
    "genreList = ['Drama']\n",
    "movielist = []\n",
    "\n",
    "for genre in genreList:\n",
    "    print(genre)\n",
    "    for year in range(1980,1996):\n",
    "        print(year)\n",
    "        url = f\"https://dev.adalab.es/api/cinema/movies?{year}=2010&genre={genre}\"\n",
    "        sleep(2)\n",
    "        response = requests.get(url)\n",
    "        if response.status_code == 200:\n",
    "            movie = response.json()['results']\n",
    "            for index,movie in enumerate(films):\n",
    "                resultado = []\n",
    "                resultado.append(movie['title'])\n",
    "                resultado.append(year)    \n",
    "                movielist.append(resultado)            \n",
    "        else: \n",
    "            print(\"Vaya, algo ha ido mal\")\n",
    "\n",
    "print(movielist)"
   ]
  },
  {
   "cell_type": "code",
   "execution_count": null,
   "metadata": {},
   "outputs": [],
   "source": [
    "## convertirlo en un Dataframe\n",
    "\n",
    "df = pd.DataFrame(movielist, columns = ['','',''])\n",
    "\n",
    "df.to_csv\n",
    "\n",
    "df_final = pd.concat([dfmiembro1,dfmiembro2,dfmiembro3...], axis=0)\n",
    " \n",
    " # axis = 0 indica que me lo una por las columnas                  \n"
   ]
  }
 ],
 "metadata": {
  "language_info": {
   "name": "python"
  }
 },
 "nbformat": 4,
 "nbformat_minor": 2
}
