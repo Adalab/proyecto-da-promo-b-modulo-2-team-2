{
 "cells": [
  {
   "cell_type": "code",
   "execution_count": 1,
   "metadata": {},
   "outputs": [
    {
     "name": "stdout",
     "output_type": "stream",
     "text": [
      "Collecting tqdm\n",
      "  Downloading tqdm-4.66.4-py3-none-any.whl.metadata (57 kB)\n",
      "     ---------------------------------------- 0.0/57.6 kB ? eta -:--:--\n",
      "     ---------------------------------------- 0.0/57.6 kB ? eta -:--:--\n",
      "     ------------- ------------------------ 20.5/57.6 kB 682.7 kB/s eta 0:00:01\n",
      "     ------------- ------------------------ 20.5/57.6 kB 682.7 kB/s eta 0:00:01\n",
      "     ------------- ------------------------ 20.5/57.6 kB 682.7 kB/s eta 0:00:01\n",
      "     ------------- ------------------------ 20.5/57.6 kB 682.7 kB/s eta 0:00:01\n",
      "     -------------------------------------- 57.6/57.6 kB 276.7 kB/s eta 0:00:00\n",
      "Requirement already satisfied: colorama in c:\\users\\lulú\\appdata\\local\\packages\\pythonsoftwarefoundation.python.3.11_qbz5n2kfra8p0\\localcache\\local-packages\\python311\\site-packages (from tqdm) (0.4.6)\n",
      "Downloading tqdm-4.66.4-py3-none-any.whl (78 kB)\n",
      "   ---------------------------------------- 0.0/78.3 kB ? eta -:--:--\n",
      "   --------------- ------------------------ 30.7/78.3 kB 1.3 MB/s eta 0:00:01\n",
      "   -------------------- ------------------- 41.0/78.3 kB 960.0 kB/s eta 0:00:01\n",
      "   ---------------------------------------- 78.3/78.3 kB 872.2 kB/s eta 0:00:00\n",
      "Installing collected packages: tqdm\n",
      "Successfully installed tqdm-4.66.4\n"
     ]
    },
    {
     "name": "stderr",
     "output_type": "stream",
     "text": [
      "\n",
      "[notice] A new release of pip is available: 24.0 -> 24.1.2\n",
      "[notice] To update, run: C:\\Users\\Lulú\\AppData\\Local\\Microsoft\\WindowsApps\\PythonSoftwareFoundation.Python.3.11_qbz5n2kfra8p0\\python.exe -m pip install --upgrade pip\n"
     ]
    }
   ],
   "source": [
    "## instalamos la librería tqdm\n",
    "! pip install tqdm"
   ]
  },
  {
   "cell_type": "code",
   "execution_count": 9,
   "metadata": {},
   "outputs": [],
   "source": [
    "## importamos las librerias necesarias\n",
    "\n",
    "import requests\n",
    "import pandas as pd\n",
    "from time import sleep\n",
    "from tqdm import tqdm"
   ]
  },
  {
   "cell_type": "code",
   "execution_count": 11,
   "metadata": {},
   "outputs": [
    {
     "name": "stdout",
     "output_type": "stream",
     "text": [
      "Action\n",
      "1980\n",
      "[('tt0075859', 'De draken van Bruce Lee', 'Movie', '1980', 'Action'), ('tt0076321', 'Liu he ba fa', 'Movie', '1980', 'Action'), ('tt0076580', 'Qian zuo guai', 'Movie', '1980', 'Action'), ('tt0077634', 'The Great Skycopter Rescue', 'Movie', '1980', 'Action'), ('tt0076709', 'Si wang ta', 'Movie', '1980', 'Action'), ('tt0078428', 'Shao Lin yu Wu Dang', 'Movie', '1980', 'Action'), ('tt0077645', 'Mie jue qi qi', 'Movie', '1980', 'Action'), ('tt0079106', \"L'empreinte des géants\", 'Movie', '1980', 'Action'), ('tt0078941', 'Carlos el terrorista', 'Movie', '1980', 'Action'), ('tt0078726', 'Ba jue', 'Movie', '1980', 'Action'), ('tt0075859', 'De draken van Bruce Lee', 'Movie', '1980', 'Action'), ('tt0076321', 'Liu he ba fa', 'Movie', '1980', 'Action'), ('tt0076580', 'Qian zuo guai', 'Movie', '1980', 'Action'), ('tt0077634', 'The Great Skycopter Rescue', 'Movie', '1980', 'Action'), ('tt0076709', 'Si wang ta', 'Movie', '1980', 'Action'), ('tt0078428', 'Shao Lin yu Wu Dang', 'Movie', '1980', 'Action'), ('tt0077645', 'Mie jue qi qi', 'Movie', '1980', 'Action'), ('tt0079106', \"L'empreinte des géants\", 'Movie', '1980', 'Action'), ('tt0078941', 'Carlos el terrorista', 'Movie', '1980', 'Action'), ('tt0078726', 'Ba jue', 'Movie', '1980', 'Action'), ('tt0075859', 'De draken van Bruce Lee', 'Movie', '1980', 'Action'), ('tt0076321', 'Liu he ba fa', 'Movie', '1980', 'Action'), ('tt0076580', 'Qian zuo guai', 'Movie', '1980', 'Action'), ('tt0077634', 'The Great Skycopter Rescue', 'Movie', '1980', 'Action'), ('tt0076709', 'Si wang ta', 'Movie', '1980', 'Action'), ('tt0078428', 'Shao Lin yu Wu Dang', 'Movie', '1980', 'Action'), ('tt0077645', 'Mie jue qi qi', 'Movie', '1980', 'Action'), ('tt0079106', \"L'empreinte des géants\", 'Movie', '1980', 'Action'), ('tt0078941', 'Carlos el terrorista', 'Movie', '1980', 'Action'), ('tt0078726', 'Ba jue', 'Movie', '1980', 'Action'), ('tt0075859', 'De draken van Bruce Lee', 'Movie', '1980', 'Action'), ('tt0076321', 'Liu he ba fa', 'Movie', '1980', 'Action'), ('tt0076580', 'Qian zuo guai', 'Movie', '1980', 'Action'), ('tt0077634', 'The Great Skycopter Rescue', 'Movie', '1980', 'Action'), ('tt0076709', 'Si wang ta', 'Movie', '1980', 'Action'), ('tt0078428', 'Shao Lin yu Wu Dang', 'Movie', '1980', 'Action'), ('tt0077645', 'Mie jue qi qi', 'Movie', '1980', 'Action'), ('tt0079106', \"L'empreinte des géants\", 'Movie', '1980', 'Action'), ('tt0078941', 'Carlos el terrorista', 'Movie', '1980', 'Action'), ('tt0078726', 'Ba jue', 'Movie', '1980', 'Action')]\n"
     ]
    }
   ],
   "source": [
    "## extraccion datos por genero de película y años \n",
    "\n",
    "genreList = ['Action']\n",
    "actionmovielist = []\n",
    "\n",
    "for genre in tqdm(genreList):\n",
    "    print(genre)\n",
    "    \n",
    "    for year in range(1980,1996):\n",
    "        print(year)\n",
    "        url = f\"https://dev.adalab.es/api/cinema/movies?year={year}&genre={genre}\"\n",
    "        sleep(5)\n",
    "        response = requests.get(url)\n",
    "        if response.status_code == 200:\n",
    "            movies = response.json()['results']\n",
    "            for index,movie in enumerate(movies):\n",
    "                if movie ['type'] == 'Movie' or movie ['type'] == 'Short':\n",
    "                    resultado = []\n",
    "                    resultado.append(movie['idOwner'])\n",
    "                    resultado.append(movie['title'])\n",
    "                    resultado.append(movie['type'])\n",
    "                    resultado.append(movie['year'])\n",
    "                    resultado.append(movie['genre'])\n",
    "\n",
    "                    actionmovielist.append(tuple(resultado))            \n",
    "        else: \n",
    "            print(\"Vaya, algo ha ido mal\")\n",
    "\n",
    "print(actionmovielist)"
   ]
  },
  {
   "cell_type": "code",
   "execution_count": 12,
   "metadata": {},
   "outputs": [],
   "source": [
    "## convertirlo en un Dataframe\n",
    "\n",
    "df = pd.DataFrame(actionmovielist, columns = ['','',''])\n",
    "\n",
    "df.to_csv('Action.csv')\n",
    "\n",
    "# df_final = pd.concat([dfmiembro1,dfmiembro2,dfmiembro3...], axis=0)\n",
    " \n",
    " # axis = 0 indica que me lo una por las columnas                  \n"
   ]
  },
  {
   "cell_type": "code",
   "execution_count": null,
   "metadata": {},
   "outputs": [],
   "source": []
  }
 ],
 "metadata": {
  "kernelspec": {
   "display_name": ".venv",
   "language": "python",
   "name": "python3"
  },
  "language_info": {
   "codemirror_mode": {
    "name": "ipython",
    "version": 3
   },
   "file_extension": ".py",
   "mimetype": "text/x-python",
   "name": "python",
   "nbconvert_exporter": "python",
   "pygments_lexer": "ipython3",
   "version": "3.12.4"
  }
 },
 "nbformat": 4,
 "nbformat_minor": 2
}
