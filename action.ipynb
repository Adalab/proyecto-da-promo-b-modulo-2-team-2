{
 "cells": [
  {
   "cell_type": "code",
   "execution_count": 1,
   "metadata": {},
   "outputs": [
    {
     "name": "stdout",
     "output_type": "stream",
     "text": [
      "Requirement already satisfied: tqdm in c:\\users\\laura romero\\appdata\\local\\packages\\pythonsoftwarefoundation.python.3.11_qbz5n2kfra8p0\\localcache\\local-packages\\python311\\site-packages (4.66.4)\n",
      "Requirement already satisfied: colorama in c:\\users\\laura romero\\appdata\\local\\packages\\pythonsoftwarefoundation.python.3.11_qbz5n2kfra8p0\\localcache\\local-packages\\python311\\site-packages (from tqdm) (0.4.6)\n"
     ]
    },
    {
     "name": "stderr",
     "output_type": "stream",
     "text": [
      "\n",
      "[notice] A new release of pip is available: 24.0 -> 24.1.1\n",
      "[notice] To update, run: C:\\Users\\Laura Romero\\AppData\\Local\\Microsoft\\WindowsApps\\PythonSoftwareFoundation.Python.3.11_qbz5n2kfra8p0\\python.exe -m pip install --upgrade pip\n"
     ]
    }
   ],
   "source": [
    "## instalamos la librería tqdm\n",
    "! pip install tqdm"
   ]
  },
  {
   "cell_type": "code",
   "execution_count": 2,
   "metadata": {},
   "outputs": [],
   "source": [
    "## importamos las librerias necesarias\n",
    "\n",
    "import requests\n",
    "import pandas as pd\n",
    "from time import sleep\n",
    "from tqdm import tqdm"
   ]
  },
  {
   "cell_type": "code",
   "execution_count": 4,
   "metadata": {},
   "outputs": [
    {
     "name": "stdout",
     "output_type": "stream",
     "text": [
      "Action\n"
     ]
    },
    {
     "name": "stderr",
     "output_type": "stream",
     "text": [
      "  0%|          | 0/16 [00:00<?, ?it/s]"
     ]
    },
    {
     "name": "stdout",
     "output_type": "stream",
     "text": [
      "1980\n"
     ]
    },
    {
     "name": "stderr",
     "output_type": "stream",
     "text": [
      "  6%|▋         | 1/16 [00:05<01:22,  5.47s/it]"
     ]
    },
    {
     "name": "stdout",
     "output_type": "stream",
     "text": [
      "1981\n"
     ]
    },
    {
     "name": "stderr",
     "output_type": "stream",
     "text": [
      " 12%|█▎        | 2/16 [00:10<01:15,  5.41s/it]"
     ]
    },
    {
     "name": "stdout",
     "output_type": "stream",
     "text": [
      "1982\n"
     ]
    },
    {
     "name": "stderr",
     "output_type": "stream",
     "text": [
      " 19%|█▉        | 3/16 [00:16<01:10,  5.39s/it]"
     ]
    },
    {
     "name": "stdout",
     "output_type": "stream",
     "text": [
      "1983\n"
     ]
    },
    {
     "name": "stderr",
     "output_type": "stream",
     "text": [
      " 25%|██▌       | 4/16 [00:21<01:04,  5.38s/it]"
     ]
    },
    {
     "name": "stdout",
     "output_type": "stream",
     "text": [
      "1984\n"
     ]
    },
    {
     "name": "stderr",
     "output_type": "stream",
     "text": [
      " 31%|███▏      | 5/16 [00:26<00:59,  5.39s/it]"
     ]
    },
    {
     "name": "stdout",
     "output_type": "stream",
     "text": [
      "1985\n"
     ]
    },
    {
     "name": "stderr",
     "output_type": "stream",
     "text": [
      " 38%|███▊      | 6/16 [00:32<00:53,  5.38s/it]"
     ]
    },
    {
     "name": "stdout",
     "output_type": "stream",
     "text": [
      "1986\n"
     ]
    },
    {
     "name": "stderr",
     "output_type": "stream",
     "text": [
      " 44%|████▍     | 7/16 [00:37<00:48,  5.39s/it]"
     ]
    },
    {
     "name": "stdout",
     "output_type": "stream",
     "text": [
      "1987\n"
     ]
    },
    {
     "name": "stderr",
     "output_type": "stream",
     "text": [
      " 50%|█████     | 8/16 [00:43<00:42,  5.37s/it]"
     ]
    },
    {
     "name": "stdout",
     "output_type": "stream",
     "text": [
      "1988\n"
     ]
    },
    {
     "name": "stderr",
     "output_type": "stream",
     "text": [
      " 56%|█████▋    | 9/16 [00:48<00:37,  5.36s/it]"
     ]
    },
    {
     "name": "stdout",
     "output_type": "stream",
     "text": [
      "1989\n"
     ]
    },
    {
     "name": "stderr",
     "output_type": "stream",
     "text": [
      " 62%|██████▎   | 10/16 [00:53<00:32,  5.35s/it]"
     ]
    },
    {
     "name": "stdout",
     "output_type": "stream",
     "text": [
      "1990\n"
     ]
    },
    {
     "name": "stderr",
     "output_type": "stream",
     "text": [
      " 69%|██████▉   | 11/16 [00:59<00:26,  5.35s/it]"
     ]
    },
    {
     "name": "stdout",
     "output_type": "stream",
     "text": [
      "1991\n"
     ]
    },
    {
     "name": "stderr",
     "output_type": "stream",
     "text": [
      " 75%|███████▌  | 12/16 [01:04<00:21,  5.34s/it]"
     ]
    },
    {
     "name": "stdout",
     "output_type": "stream",
     "text": [
      "1992\n"
     ]
    },
    {
     "name": "stderr",
     "output_type": "stream",
     "text": [
      " 81%|████████▏ | 13/16 [01:09<00:16,  5.39s/it]"
     ]
    },
    {
     "name": "stdout",
     "output_type": "stream",
     "text": [
      "1993\n"
     ]
    },
    {
     "name": "stderr",
     "output_type": "stream",
     "text": [
      " 88%|████████▊ | 14/16 [01:15<00:10,  5.38s/it]"
     ]
    },
    {
     "name": "stdout",
     "output_type": "stream",
     "text": [
      "1994\n"
     ]
    },
    {
     "name": "stderr",
     "output_type": "stream",
     "text": [
      " 94%|█████████▍| 15/16 [01:20<00:05,  5.37s/it]"
     ]
    },
    {
     "name": "stdout",
     "output_type": "stream",
     "text": [
      "1995\n"
     ]
    },
    {
     "name": "stderr",
     "output_type": "stream",
     "text": [
      "100%|██████████| 16/16 [01:25<00:00,  5.37s/it]"
     ]
    },
    {
     "name": "stdout",
     "output_type": "stream",
     "text": [
      "[('tt0075859', 'De draken van Bruce Lee', 'Movie', '1980', 'Action'), ('tt0076321', 'Liu he ba fa', 'Movie', '1980', 'Action'), ('tt0076580', 'Qian zuo guai', 'Movie', '1980', 'Action'), ('tt0077634', 'The Great Skycopter Rescue', 'Movie', '1980', 'Action'), ('tt0076709', 'Si wang ta', 'Movie', '1980', 'Action'), ('tt0078428', 'Shao Lin yu Wu Dang', 'Movie', '1980', 'Action'), ('tt0077645', 'Mie jue qi qi', 'Movie', '1980', 'Action'), ('tt0079106', \"L'empreinte des géants\", 'Movie', '1980', 'Action'), ('tt0078941', 'Carlos el terrorista', 'Movie', '1980', 'Action'), ('tt0078726', 'Ba jue', 'Movie', '1980', 'Action'), ('tt0075859', 'De draken van Bruce Lee', 'Movie', '1980', 'Action'), ('tt0076321', 'Liu he ba fa', 'Movie', '1980', 'Action'), ('tt0076580', 'Qian zuo guai', 'Movie', '1980', 'Action'), ('tt0077634', 'The Great Skycopter Rescue', 'Movie', '1980', 'Action'), ('tt0076709', 'Si wang ta', 'Movie', '1980', 'Action'), ('tt0078428', 'Shao Lin yu Wu Dang', 'Movie', '1980', 'Action'), ('tt0077645', 'Mie jue qi qi', 'Movie', '1980', 'Action'), ('tt0079106', \"L'empreinte des géants\", 'Movie', '1980', 'Action'), ('tt0078941', 'Carlos el terrorista', 'Movie', '1980', 'Action'), ('tt0078726', 'Ba jue', 'Movie', '1980', 'Action'), ('tt0075859', 'De draken van Bruce Lee', 'Movie', '1980', 'Action'), ('tt0076321', 'Liu he ba fa', 'Movie', '1980', 'Action'), ('tt0076580', 'Qian zuo guai', 'Movie', '1980', 'Action'), ('tt0077634', 'The Great Skycopter Rescue', 'Movie', '1980', 'Action'), ('tt0076709', 'Si wang ta', 'Movie', '1980', 'Action'), ('tt0078428', 'Shao Lin yu Wu Dang', 'Movie', '1980', 'Action'), ('tt0077645', 'Mie jue qi qi', 'Movie', '1980', 'Action'), ('tt0079106', \"L'empreinte des géants\", 'Movie', '1980', 'Action'), ('tt0078941', 'Carlos el terrorista', 'Movie', '1980', 'Action'), ('tt0078726', 'Ba jue', 'Movie', '1980', 'Action'), ('tt0075859', 'De draken van Bruce Lee', 'Movie', '1980', 'Action'), ('tt0076321', 'Liu he ba fa', 'Movie', '1980', 'Action'), ('tt0076580', 'Qian zuo guai', 'Movie', '1980', 'Action'), ('tt0077634', 'The Great Skycopter Rescue', 'Movie', '1980', 'Action'), ('tt0076709', 'Si wang ta', 'Movie', '1980', 'Action'), ('tt0078428', 'Shao Lin yu Wu Dang', 'Movie', '1980', 'Action'), ('tt0077645', 'Mie jue qi qi', 'Movie', '1980', 'Action'), ('tt0079106', \"L'empreinte des géants\", 'Movie', '1980', 'Action'), ('tt0078941', 'Carlos el terrorista', 'Movie', '1980', 'Action'), ('tt0078726', 'Ba jue', 'Movie', '1980', 'Action'), ('tt0067100', 'Firecracker', 'Movie', '1981', 'Action'), ('tt0077472', 'Jie quan da dong kau', 'Movie', '1981', 'Action'), ('tt0078918', 'The Bushido Blade', 'Movie', '1981', 'Action'), ('tt0079712', 'Perro callejero II', 'Movie', '1981', 'Action'), ('tt0079896', 'She diao ying xiong chuan san ji', 'Movie', '1981', 'Action'), ('tt0079888', 'Shang Hai Tan da ye', 'Movie', '1981', 'Action'), ('tt0080501', 'Car Crash', 'Movie', '1981', 'Action'), ('tt0080441', 'Asalto al casino', 'Movie', '1981', 'Action'), ('tt0080514', 'Chakra', 'Movie', '1981', 'Action'), ('tt0080481', 'Burning Rubber', 'Movie', '1981', 'Action'), ('tt0067100', 'Firecracker', 'Movie', '1981', 'Action'), ('tt0077472', 'Jie quan da dong kau', 'Movie', '1981', 'Action'), ('tt0078918', 'The Bushido Blade', 'Movie', '1981', 'Action'), ('tt0079712', 'Perro callejero II', 'Movie', '1981', 'Action'), ('tt0079896', 'She diao ying xiong chuan san ji', 'Movie', '1981', 'Action'), ('tt0079888', 'Shang Hai Tan da ye', 'Movie', '1981', 'Action'), ('tt0080501', 'Car Crash', 'Movie', '1981', 'Action'), ('tt0080441', 'Asalto al casino', 'Movie', '1981', 'Action'), ('tt0080514', 'Chakra', 'Movie', '1981', 'Action'), ('tt0080481', 'Burning Rubber', 'Movie', '1981', 'Action'), ('tt0067100', 'Firecracker', 'Movie', '1981', 'Action'), ('tt0077472', 'Jie quan da dong kau', 'Movie', '1981', 'Action'), ('tt0078918', 'The Bushido Blade', 'Movie', '1981', 'Action'), ('tt0079712', 'Perro callejero II', 'Movie', '1981', 'Action'), ('tt0079896', 'She diao ying xiong chuan san ji', 'Movie', '1981', 'Action'), ('tt0079888', 'Shang Hai Tan da ye', 'Movie', '1981', 'Action'), ('tt0080501', 'Car Crash', 'Movie', '1981', 'Action'), ('tt0080441', 'Asalto al casino', 'Movie', '1981', 'Action'), ('tt0080514', 'Chakra', 'Movie', '1981', 'Action'), ('tt0080481', 'Burning Rubber', 'Movie', '1981', 'Action'), ('tt0067100', 'Firecracker', 'Movie', '1981', 'Action'), ('tt0077472', 'Jie quan da dong kau', 'Movie', '1981', 'Action'), ('tt0078918', 'The Bushido Blade', 'Movie', '1981', 'Action'), ('tt0079712', 'Perro callejero II', 'Movie', '1981', 'Action'), ('tt0079896', 'She diao ying xiong chuan san ji', 'Movie', '1981', 'Action'), ('tt0079888', 'Shang Hai Tan da ye', 'Movie', '1981', 'Action'), ('tt0080501', 'Car Crash', 'Movie', '1981', 'Action'), ('tt0080441', 'Asalto al casino', 'Movie', '1981', 'Action'), ('tt0080514', 'Chakra', 'Movie', '1981', 'Action'), ('tt0080481', 'Burning Rubber', 'Movie', '1981', 'Action'), ('tt0078376', 'Tennessee Stallion', 'Movie', '1982', 'Action'), ('tt0079358', 'Han shan fei hu', 'Movie', '1982', 'Action'), ('tt0079899', 'Shen diao xia lü', 'Movie', '1982', 'Action'), ('tt0079891', 'Shao Lin si', 'Movie', '1982', 'Action'), ('tt0080872', 'Highpoint', 'Movie', '1982', 'Action'), ('tt0082133', 'Caligola: La storia mai raccontata', 'Movie', '1982', 'Action'), ('tt0082338', 'Turkey Shoot', 'Movie', '1982', 'Action'), ('tt0082673', 'Long de ying zi', 'Movie', '1982', 'Action'), ('tt0082250', 'Death Wish II', 'Movie', '1982', 'Action'), ('tt0082532', 'How Sleep the Brave', 'Movie', '1982', 'Action'), ('tt0078376', 'Tennessee Stallion', 'Movie', '1982', 'Action'), ('tt0079358', 'Han shan fei hu', 'Movie', '1982', 'Action'), ('tt0079899', 'Shen diao xia lü', 'Movie', '1982', 'Action'), ('tt0079891', 'Shao Lin si', 'Movie', '1982', 'Action'), ('tt0080872', 'Highpoint', 'Movie', '1982', 'Action'), ('tt0082133', 'Caligola: La storia mai raccontata', 'Movie', '1982', 'Action'), ('tt0082338', 'Turkey Shoot', 'Movie', '1982', 'Action'), ('tt0082673', 'Long de ying zi', 'Movie', '1982', 'Action'), ('tt0082250', 'Death Wish II', 'Movie', '1982', 'Action'), ('tt0082532', 'How Sleep the Brave', 'Movie', '1982', 'Action'), ('tt0078376', 'Tennessee Stallion', 'Movie', '1982', 'Action'), ('tt0079358', 'Han shan fei hu', 'Movie', '1982', 'Action'), ('tt0079899', 'Shen diao xia lü', 'Movie', '1982', 'Action'), ('tt0079891', 'Shao Lin si', 'Movie', '1982', 'Action'), ('tt0080872', 'Highpoint', 'Movie', '1982', 'Action'), ('tt0082133', 'Caligola: La storia mai raccontata', 'Movie', '1982', 'Action'), ('tt0082338', 'Turkey Shoot', 'Movie', '1982', 'Action'), ('tt0082673', 'Long de ying zi', 'Movie', '1982', 'Action'), ('tt0082250', 'Death Wish II', 'Movie', '1982', 'Action'), ('tt0082532', 'How Sleep the Brave', 'Movie', '1982', 'Action'), ('tt0078376', 'Tennessee Stallion', 'Movie', '1982', 'Action'), ('tt0079358', 'Han shan fei hu', 'Movie', '1982', 'Action'), ('tt0079899', 'Shen diao xia lü', 'Movie', '1982', 'Action'), ('tt0079891', 'Shao Lin si', 'Movie', '1982', 'Action'), ('tt0080872', 'Highpoint', 'Movie', '1982', 'Action'), ('tt0082133', 'Caligola: La storia mai raccontata', 'Movie', '1982', 'Action'), ('tt0082338', 'Turkey Shoot', 'Movie', '1982', 'Action'), ('tt0082673', 'Long de ying zi', 'Movie', '1982', 'Action'), ('tt0082250', 'Death Wish II', 'Movie', '1982', 'Action'), ('tt0082532', 'How Sleep the Brave', 'Movie', '1982', 'Action'), ('tt0077329', 'Bing xue qing guan ying xiong dan', 'Movie', '1983', 'Action'), ('tt0078393', 'Tian can bian', 'Movie', '1983', 'Action'), ('tt0079509', 'Mi ni te gong dui', 'Movie', '1983', 'Action'), ('tt0082566', 'Intrusion: Cambodia', 'Movie', '1983', 'Action'), ('tt0083062', 'Shao Lin yu Wu Dang', 'Movie', '1983', 'Action'), ('tt0084256', 'Yang guo yu xiao long nu', 'Movie', '1983', 'Action'), ('tt0084297', 'Man tian shen fo', 'Movie', '1983', 'Action'), ('tt0084540', 'Le prix du danger', 'Movie', '1983', 'Action'), ('tt0084836', 'USA, violación y venganza', 'Movie', '1983', 'Action'), ('tt0077329', 'Bing xue qing guan ying xiong dan', 'Movie', '1983', 'Action'), ('tt0078393', 'Tian can bian', 'Movie', '1983', 'Action'), ('tt0079509', 'Mi ni te gong dui', 'Movie', '1983', 'Action'), ('tt0082566', 'Intrusion: Cambodia', 'Movie', '1983', 'Action'), ('tt0083062', 'Shao Lin yu Wu Dang', 'Movie', '1983', 'Action'), ('tt0084256', 'Yang guo yu xiao long nu', 'Movie', '1983', 'Action'), ('tt0084297', 'Man tian shen fo', 'Movie', '1983', 'Action'), ('tt0084540', 'Le prix du danger', 'Movie', '1983', 'Action'), ('tt0084836', 'USA, violación y venganza', 'Movie', '1983', 'Action'), ('tt0077329', 'Bing xue qing guan ying xiong dan', 'Movie', '1983', 'Action'), ('tt0078393', 'Tian can bian', 'Movie', '1983', 'Action'), ('tt0079509', 'Mi ni te gong dui', 'Movie', '1983', 'Action'), ('tt0082566', 'Intrusion: Cambodia', 'Movie', '1983', 'Action'), ('tt0083062', 'Shao Lin yu Wu Dang', 'Movie', '1983', 'Action'), ('tt0084256', 'Yang guo yu xiao long nu', 'Movie', '1983', 'Action'), ('tt0084297', 'Man tian shen fo', 'Movie', '1983', 'Action'), ('tt0084540', 'Le prix du danger', 'Movie', '1983', 'Action'), ('tt0084836', 'USA, violación y venganza', 'Movie', '1983', 'Action'), ('tt0077329', 'Bing xue qing guan ying xiong dan', 'Movie', '1983', 'Action'), ('tt0078393', 'Tian can bian', 'Movie', '1983', 'Action'), ('tt0079509', 'Mi ni te gong dui', 'Movie', '1983', 'Action'), ('tt0082566', 'Intrusion: Cambodia', 'Movie', '1983', 'Action'), ('tt0083062', 'Shao Lin yu Wu Dang', 'Movie', '1983', 'Action'), ('tt0084256', 'Yang guo yu xiao long nu', 'Movie', '1983', 'Action'), ('tt0084297', 'Man tian shen fo', 'Movie', '1983', 'Action'), ('tt0084540', 'Le prix du danger', 'Movie', '1983', 'Action'), ('tt0084836', 'USA, violación y venganza', 'Movie', '1983', 'Action'), ('tt0081716', 'Qing ren kan dao', 'Movie', '1984', 'Action'), ('tt0083061', 'Shang Hai tan: Shi san tai bao', 'Movie', '1984', 'Action'), ('tt0083541', 'Alley Cat', 'Movie', '1984', 'Action'), ('tt0085289', 'Canicule', 'Movie', '1984', 'Action'), ('tt0085454', 'Don Camillo', 'Movie', '1984', 'Action'), ('tt0085312', \"Les cavaliers de l'orage\", 'Movie', '1984', 'Action'), ('tt0084279', 'Luna de sangre', 'Movie', '1984', 'Action'), ('tt0085460', 'Dreptate în lanturi', 'Movie', '1984', 'Action'), ('tt0085540', \"L'ultimo guerriero\", 'Movie', '1984', 'Action'), ('tt0084738', 'Fan wan di', 'Movie', '1984', 'Action'), ('tt0081716', 'Qing ren kan dao', 'Movie', '1984', 'Action'), ('tt0083061', 'Shang Hai tan: Shi san tai bao', 'Movie', '1984', 'Action'), ('tt0083541', 'Alley Cat', 'Movie', '1984', 'Action'), ('tt0085289', 'Canicule', 'Movie', '1984', 'Action'), ('tt0085454', 'Don Camillo', 'Movie', '1984', 'Action'), ('tt0085312', \"Les cavaliers de l'orage\", 'Movie', '1984', 'Action'), ('tt0084279', 'Luna de sangre', 'Movie', '1984', 'Action'), ('tt0085460', 'Dreptate în lanturi', 'Movie', '1984', 'Action'), ('tt0085540', \"L'ultimo guerriero\", 'Movie', '1984', 'Action'), ('tt0084738', 'Fan wan di', 'Movie', '1984', 'Action'), ('tt0081716', 'Qing ren kan dao', 'Movie', '1984', 'Action'), ('tt0083061', 'Shang Hai tan: Shi san tai bao', 'Movie', '1984', 'Action'), ('tt0083541', 'Alley Cat', 'Movie', '1984', 'Action'), ('tt0085289', 'Canicule', 'Movie', '1984', 'Action'), ('tt0085454', 'Don Camillo', 'Movie', '1984', 'Action'), ('tt0085312', \"Les cavaliers de l'orage\", 'Movie', '1984', 'Action'), ('tt0084279', 'Luna de sangre', 'Movie', '1984', 'Action'), ('tt0085460', 'Dreptate în lanturi', 'Movie', '1984', 'Action'), ('tt0085540', \"L'ultimo guerriero\", 'Movie', '1984', 'Action'), ('tt0084738', 'Fan wan di', 'Movie', '1984', 'Action'), ('tt0081716', 'Qing ren kan dao', 'Movie', '1984', 'Action'), ('tt0083061', 'Shang Hai tan: Shi san tai bao', 'Movie', '1984', 'Action'), ('tt0083541', 'Alley Cat', 'Movie', '1984', 'Action'), ('tt0085289', 'Canicule', 'Movie', '1984', 'Action'), ('tt0085454', 'Don Camillo', 'Movie', '1984', 'Action'), ('tt0085312', \"Les cavaliers de l'orage\", 'Movie', '1984', 'Action'), ('tt0084279', 'Luna de sangre', 'Movie', '1984', 'Action'), ('tt0085460', 'Dreptate în lanturi', 'Movie', '1984', 'Action'), ('tt0085540', \"L'ultimo guerriero\", 'Movie', '1984', 'Action'), ('tt0084738', 'Fan wan di', 'Movie', '1984', 'Action'), ('tt0082674', 'Long fa wei', 'Movie', '1985', 'Action'), ('tt0084324', 'Meri Jung', 'Movie', '1985', 'Action'), ('tt0083509', '24 Hours to Midnight', 'Movie', '1985', 'Action'), ('tt0085860', 'Lola la trailera', 'Movie', '1985', 'Action'), ('tt0085437', 'Di zi ye feng kuang', 'Movie', '1985', 'Action'), ('tt0086566', 'Walking the Edge', 'Movie', '1985', 'Action'), ('tt0088137', 'Sloane', 'Movie', '1985', 'Action'), ('tt0087130', 'DEFCON-4', 'Movie', '1985', 'Action'), ('tt0082674', 'Long fa wei', 'Movie', '1985', 'Action'), ('tt0084324', 'Meri Jung', 'Movie', '1985', 'Action'), ('tt0083509', '24 Hours to Midnight', 'Movie', '1985', 'Action'), ('tt0085860', 'Lola la trailera', 'Movie', '1985', 'Action'), ('tt0085437', 'Di zi ye feng kuang', 'Movie', '1985', 'Action'), ('tt0086566', 'Walking the Edge', 'Movie', '1985', 'Action'), ('tt0088137', 'Sloane', 'Movie', '1985', 'Action'), ('tt0087130', 'DEFCON-4', 'Movie', '1985', 'Action'), ('tt0082674', 'Long fa wei', 'Movie', '1985', 'Action'), ('tt0084324', 'Meri Jung', 'Movie', '1985', 'Action'), ('tt0083509', '24 Hours to Midnight', 'Movie', '1985', 'Action'), ('tt0085860', 'Lola la trailera', 'Movie', '1985', 'Action'), ('tt0085437', 'Di zi ye feng kuang', 'Movie', '1985', 'Action'), ('tt0086566', 'Walking the Edge', 'Movie', '1985', 'Action'), ('tt0088137', 'Sloane', 'Movie', '1985', 'Action'), ('tt0087130', 'DEFCON-4', 'Movie', '1985', 'Action'), ('tt0082674', 'Long fa wei', 'Movie', '1985', 'Action'), ('tt0084324', 'Meri Jung', 'Movie', '1985', 'Action'), ('tt0083509', '24 Hours to Midnight', 'Movie', '1985', 'Action'), ('tt0085860', 'Lola la trailera', 'Movie', '1985', 'Action'), ('tt0085437', 'Di zi ye feng kuang', 'Movie', '1985', 'Action'), ('tt0086566', 'Walking the Edge', 'Movie', '1985', 'Action'), ('tt0088137', 'Sloane', 'Movie', '1985', 'Action'), ('tt0087130', 'DEFCON-4', 'Movie', '1985', 'Action'), ('tt0066020', '7 xiao fu', 'Movie', '1986', 'Action'), ('tt0066151', 'Ninja Destroyer', 'Movie', '1986', 'Action'), ('tt0081236', 'Ninja Champion', 'Movie', '1986', 'Action'), ('tt0084668', 'Da Shang Hai 1937', 'Movie', '1986', 'Action'), ('tt0087945', 'Prison Ship', 'Movie', '1986', 'Action'), ('tt0086930', 'Bad Girls Dormitory', 'Movie', '1986', 'Action'), ('tt0089861', 'Qi yuan', 'Movie', '1986', 'Action'), ('tt0087368', 'Gruz bez markirovki', 'Movie', '1986', 'Action'), ('tt0089930', 'Roller Blade', 'Movie', '1986', 'Action'), ('tt0066020', '7 xiao fu', 'Movie', '1986', 'Action'), ('tt0066151', 'Ninja Destroyer', 'Movie', '1986', 'Action'), ('tt0081236', 'Ninja Champion', 'Movie', '1986', 'Action'), ('tt0084668', 'Da Shang Hai 1937', 'Movie', '1986', 'Action'), ('tt0087945', 'Prison Ship', 'Movie', '1986', 'Action'), ('tt0086930', 'Bad Girls Dormitory', 'Movie', '1986', 'Action'), ('tt0089861', 'Qi yuan', 'Movie', '1986', 'Action'), ('tt0087368', 'Gruz bez markirovki', 'Movie', '1986', 'Action'), ('tt0089930', 'Roller Blade', 'Movie', '1986', 'Action'), ('tt0066020', '7 xiao fu', 'Movie', '1986', 'Action'), ('tt0066151', 'Ninja Destroyer', 'Movie', '1986', 'Action'), ('tt0081236', 'Ninja Champion', 'Movie', '1986', 'Action'), ('tt0084668', 'Da Shang Hai 1937', 'Movie', '1986', 'Action'), ('tt0087945', 'Prison Ship', 'Movie', '1986', 'Action'), ('tt0086930', 'Bad Girls Dormitory', 'Movie', '1986', 'Action'), ('tt0089861', 'Qi yuan', 'Movie', '1986', 'Action'), ('tt0087368', 'Gruz bez markirovki', 'Movie', '1986', 'Action'), ('tt0089930', 'Roller Blade', 'Movie', '1986', 'Action'), ('tt0066020', '7 xiao fu', 'Movie', '1986', 'Action'), ('tt0066151', 'Ninja Destroyer', 'Movie', '1986', 'Action'), ('tt0081236', 'Ninja Champion', 'Movie', '1986', 'Action'), ('tt0084668', 'Da Shang Hai 1937', 'Movie', '1986', 'Action'), ('tt0087945', 'Prison Ship', 'Movie', '1986', 'Action'), ('tt0086930', 'Bad Girls Dormitory', 'Movie', '1986', 'Action'), ('tt0089861', 'Qi yuan', 'Movie', '1986', 'Action'), ('tt0087368', 'Gruz bez markirovki', 'Movie', '1986', 'Action'), ('tt0089930', 'Roller Blade', 'Movie', '1986', 'Action'), ('tt0090170', 'Thunder II', 'Movie', '1987', 'Action'), ('tt0088962', 'Crime Killer', 'Movie', '1987', 'Action'), ('tt0090302', 'Wai Si-Lei chuen kei', 'Movie', '1987', 'Action'), ('tt0089563', 'Masterblaster', 'Movie', '1987', 'Action'), ('tt0091012', 'Equalizer 2000', 'Movie', '1987', 'Action'), ('tt0090847', 'City of Shadows', 'Movie', '1987', 'Action'), ('tt0090956', 'Dung fong tuk ying', 'Movie', '1987', 'Action'), ('tt0090902', 'The Danger Zone', 'Movie', '1987', 'Action'), ('tt0090170', 'Thunder II', 'Movie', '1987', 'Action'), ('tt0088962', 'Crime Killer', 'Movie', '1987', 'Action'), ('tt0090302', 'Wai Si-Lei chuen kei', 'Movie', '1987', 'Action'), ('tt0089563', 'Masterblaster', 'Movie', '1987', 'Action'), ('tt0091012', 'Equalizer 2000', 'Movie', '1987', 'Action'), ('tt0090847', 'City of Shadows', 'Movie', '1987', 'Action'), ('tt0090956', 'Dung fong tuk ying', 'Movie', '1987', 'Action'), ('tt0090902', 'The Danger Zone', 'Movie', '1987', 'Action'), ('tt0090170', 'Thunder II', 'Movie', '1987', 'Action'), ('tt0088962', 'Crime Killer', 'Movie', '1987', 'Action'), ('tt0090302', 'Wai Si-Lei chuen kei', 'Movie', '1987', 'Action'), ('tt0089563', 'Masterblaster', 'Movie', '1987', 'Action'), ('tt0091012', 'Equalizer 2000', 'Movie', '1987', 'Action'), ('tt0090847', 'City of Shadows', 'Movie', '1987', 'Action'), ('tt0090956', 'Dung fong tuk ying', 'Movie', '1987', 'Action'), ('tt0090902', 'The Danger Zone', 'Movie', '1987', 'Action'), ('tt0090170', 'Thunder II', 'Movie', '1987', 'Action'), ('tt0088962', 'Crime Killer', 'Movie', '1987', 'Action'), ('tt0090302', 'Wai Si-Lei chuen kei', 'Movie', '1987', 'Action'), ('tt0089563', 'Masterblaster', 'Movie', '1987', 'Action'), ('tt0091012', 'Equalizer 2000', 'Movie', '1987', 'Action'), ('tt0090847', 'City of Shadows', 'Movie', '1987', 'Action'), ('tt0090956', 'Dung fong tuk ying', 'Movie', '1987', 'Action'), ('tt0090902', 'The Danger Zone', 'Movie', '1987', 'Action'), ('tt0090587', 'Guo jiang', 'Movie', '1988', 'Action'), ('tt0090292', 'Un maledetto soldato', 'Movie', '1988', 'Action'), ('tt0090681', 'Ba wang nu fu xing', 'Movie', '1988', 'Action'), ('tt0092841', 'Dead Man Walking', 'Movie', '1988', 'Action'), ('tt0092787', 'Escuadrón', 'Movie', '1988', 'Action'), ('tt0093171', 'Hell Comes to Frogtown', 'Movie', '1988', 'Action'), ('tt0091285', 'Java Burn', 'Movie', '1988', 'Action'), ('tt0093983', 'Skeleton Coast', 'Movie', '1988', 'Action'), ('tt0092582', 'The Arrogant', 'Movie', '1988', 'Action'), ('tt0093663', 'The Occultist', 'Movie', '1988', 'Action'), ('tt0090587', 'Guo jiang', 'Movie', '1988', 'Action'), ('tt0090292', 'Un maledetto soldato', 'Movie', '1988', 'Action'), ('tt0090681', 'Ba wang nu fu xing', 'Movie', '1988', 'Action'), ('tt0092841', 'Dead Man Walking', 'Movie', '1988', 'Action'), ('tt0092787', 'Escuadrón', 'Movie', '1988', 'Action'), ('tt0093171', 'Hell Comes to Frogtown', 'Movie', '1988', 'Action'), ('tt0091285', 'Java Burn', 'Movie', '1988', 'Action'), ('tt0093983', 'Skeleton Coast', 'Movie', '1988', 'Action'), ('tt0092582', 'The Arrogant', 'Movie', '1988', 'Action'), ('tt0093663', 'The Occultist', 'Movie', '1988', 'Action'), ('tt0090587', 'Guo jiang', 'Movie', '1988', 'Action'), ('tt0090292', 'Un maledetto soldato', 'Movie', '1988', 'Action'), ('tt0090681', 'Ba wang nu fu xing', 'Movie', '1988', 'Action'), ('tt0092841', 'Dead Man Walking', 'Movie', '1988', 'Action'), ('tt0092787', 'Escuadrón', 'Movie', '1988', 'Action'), ('tt0093171', 'Hell Comes to Frogtown', 'Movie', '1988', 'Action'), ('tt0091285', 'Java Burn', 'Movie', '1988', 'Action'), ('tt0093983', 'Skeleton Coast', 'Movie', '1988', 'Action'), ('tt0092582', 'The Arrogant', 'Movie', '1988', 'Action'), ('tt0093663', 'The Occultist', 'Movie', '1988', 'Action'), ('tt0090587', 'Guo jiang', 'Movie', '1988', 'Action'), ('tt0090292', 'Un maledetto soldato', 'Movie', '1988', 'Action'), ('tt0090681', 'Ba wang nu fu xing', 'Movie', '1988', 'Action'), ('tt0092841', 'Dead Man Walking', 'Movie', '1988', 'Action'), ('tt0092787', 'Escuadrón', 'Movie', '1988', 'Action'), ('tt0093171', 'Hell Comes to Frogtown', 'Movie', '1988', 'Action'), ('tt0091285', 'Java Burn', 'Movie', '1988', 'Action'), ('tt0093983', 'Skeleton Coast', 'Movie', '1988', 'Action'), ('tt0092582', 'The Arrogant', 'Movie', '1988', 'Action'), ('tt0093663', 'The Occultist', 'Movie', '1988', 'Action'), ('tt0080828', 'Gui yao gui', 'Movie', '1989', 'Action'), ('tt0089996', 'Qi pi liang', 'Movie', '1989', 'Action'), ('tt0089382', 'Joshilaay', 'Movie', '1989', 'Action'), ('tt0090334', 'Wizards of the Lost Kingdom II', 'Movie', '1989', 'Action'), ('tt0093268', 'Interzone', 'Movie', '1989', 'Action'), ('tt0094386', 'Zui hou de feng kuang', 'Movie', '1989', 'Action'), ('tt0094384', 'Zombie vs. Ninja', 'Movie', '1989', 'Action'), ('tt0094607', 'Accidents', 'Movie', '1989', 'Action'), ('tt0092531', 'Alien Private Eye', 'Movie', '1989', 'Action'), ('tt0094620', 'After Death (Oltre la morte)', 'Movie', '1989', 'Action'), ('tt0080828', 'Gui yao gui', 'Movie', '1989', 'Action'), ('tt0089996', 'Qi pi liang', 'Movie', '1989', 'Action'), ('tt0089382', 'Joshilaay', 'Movie', '1989', 'Action'), ('tt0090334', 'Wizards of the Lost Kingdom II', 'Movie', '1989', 'Action'), ('tt0093268', 'Interzone', 'Movie', '1989', 'Action'), ('tt0094386', 'Zui hou de feng kuang', 'Movie', '1989', 'Action'), ('tt0094384', 'Zombie vs. Ninja', 'Movie', '1989', 'Action'), ('tt0094607', 'Accidents', 'Movie', '1989', 'Action'), ('tt0092531', 'Alien Private Eye', 'Movie', '1989', 'Action'), ('tt0094620', 'After Death (Oltre la morte)', 'Movie', '1989', 'Action'), ('tt0080828', 'Gui yao gui', 'Movie', '1989', 'Action'), ('tt0089996', 'Qi pi liang', 'Movie', '1989', 'Action'), ('tt0089382', 'Joshilaay', 'Movie', '1989', 'Action'), ('tt0090334', 'Wizards of the Lost Kingdom II', 'Movie', '1989', 'Action'), ('tt0093268', 'Interzone', 'Movie', '1989', 'Action'), ('tt0094386', 'Zui hou de feng kuang', 'Movie', '1989', 'Action'), ('tt0094384', 'Zombie vs. Ninja', 'Movie', '1989', 'Action'), ('tt0094607', 'Accidents', 'Movie', '1989', 'Action'), ('tt0092531', 'Alien Private Eye', 'Movie', '1989', 'Action'), ('tt0094620', 'After Death (Oltre la morte)', 'Movie', '1989', 'Action'), ('tt0080828', 'Gui yao gui', 'Movie', '1989', 'Action'), ('tt0089996', 'Qi pi liang', 'Movie', '1989', 'Action'), ('tt0089382', 'Joshilaay', 'Movie', '1989', 'Action'), ('tt0090334', 'Wizards of the Lost Kingdom II', 'Movie', '1989', 'Action'), ('tt0093268', 'Interzone', 'Movie', '1989', 'Action'), ('tt0094386', 'Zui hou de feng kuang', 'Movie', '1989', 'Action'), ('tt0094384', 'Zombie vs. Ninja', 'Movie', '1989', 'Action'), ('tt0094607', 'Accidents', 'Movie', '1989', 'Action'), ('tt0092531', 'Alien Private Eye', 'Movie', '1989', 'Action'), ('tt0094620', 'After Death (Oltre la morte)', 'Movie', '1989', 'Action'), ('tt0075259', 'Spy Story', 'Movie', '1990', 'Action'), ('tt0090869', 'Comando terrorista', 'Movie', '1990', 'Action'), ('tt0092926', 'Dragon Hunt', 'Movie', '1990', 'Action'), ('tt0094376', 'Huang jia shi jie zhi: Zhong jian ren', 'Movie', '1990', 'Action'), ('tt0094004', 'Soldier of Fortune', 'Movie', '1990', 'Action'), ('tt0093989', 'Xian sha lu', 'Movie', '1990', 'Action'), ('tt0095095', 'Emperor of the Bronx', 'Movie', '1990', 'Action'), ('tt0095290', 'Hei hai ba wang hua', 'Movie', '1990', 'Action'), ('tt0095840', 'Payback', 'Movie', '1990', 'Action'), ('tt0096469', 'Wu ye tian shi', 'Movie', '1990', 'Action'), ('tt0075259', 'Spy Story', 'Movie', '1990', 'Action'), ('tt0090869', 'Comando terrorista', 'Movie', '1990', 'Action'), ('tt0092926', 'Dragon Hunt', 'Movie', '1990', 'Action'), ('tt0094376', 'Huang jia shi jie zhi: Zhong jian ren', 'Movie', '1990', 'Action'), ('tt0094004', 'Soldier of Fortune', 'Movie', '1990', 'Action'), ('tt0093989', 'Xian sha lu', 'Movie', '1990', 'Action'), ('tt0095095', 'Emperor of the Bronx', 'Movie', '1990', 'Action'), ('tt0095290', 'Hei hai ba wang hua', 'Movie', '1990', 'Action'), ('tt0095840', 'Payback', 'Movie', '1990', 'Action'), ('tt0096469', 'Wu ye tian shi', 'Movie', '1990', 'Action'), ('tt0075259', 'Spy Story', 'Movie', '1990', 'Action'), ('tt0090869', 'Comando terrorista', 'Movie', '1990', 'Action'), ('tt0092926', 'Dragon Hunt', 'Movie', '1990', 'Action'), ('tt0094376', 'Huang jia shi jie zhi: Zhong jian ren', 'Movie', '1990', 'Action'), ('tt0094004', 'Soldier of Fortune', 'Movie', '1990', 'Action'), ('tt0093989', 'Xian sha lu', 'Movie', '1990', 'Action'), ('tt0095095', 'Emperor of the Bronx', 'Movie', '1990', 'Action'), ('tt0095290', 'Hei hai ba wang hua', 'Movie', '1990', 'Action'), ('tt0095840', 'Payback', 'Movie', '1990', 'Action'), ('tt0096469', 'Wu ye tian shi', 'Movie', '1990', 'Action'), ('tt0075259', 'Spy Story', 'Movie', '1990', 'Action'), ('tt0090869', 'Comando terrorista', 'Movie', '1990', 'Action'), ('tt0092926', 'Dragon Hunt', 'Movie', '1990', 'Action'), ('tt0094376', 'Huang jia shi jie zhi: Zhong jian ren', 'Movie', '1990', 'Action'), ('tt0094004', 'Soldier of Fortune', 'Movie', '1990', 'Action'), ('tt0093989', 'Xian sha lu', 'Movie', '1990', 'Action'), ('tt0095095', 'Emperor of the Bronx', 'Movie', '1990', 'Action'), ('tt0095290', 'Hei hai ba wang hua', 'Movie', '1990', 'Action'), ('tt0095840', 'Payback', 'Movie', '1990', 'Action'), ('tt0096469', 'Wu ye tian shi', 'Movie', '1990', 'Action'), ('tt0077432', 'Dip huet kei bing', 'Movie', '1991', 'Action'), ('tt0088267', 'Tian di xuan men', 'Movie', '1991', 'Action'), ('tt0095111', 'El heroob', 'Movie', '1991', 'Action'), ('tt0094926', 'Curse of the Crystal Eye', 'Movie', '1991', 'Action'), ('tt0097318', 'Eye of the Widow', 'Movie', '1991', 'Action'), ('tt0097864', 'Meng gui hu li jing', 'Movie', '1991', 'Action'), ('tt0077432', 'Dip huet kei bing', 'Movie', '1991', 'Action'), ('tt0088267', 'Tian di xuan men', 'Movie', '1991', 'Action'), ('tt0095111', 'El heroob', 'Movie', '1991', 'Action'), ('tt0094926', 'Curse of the Crystal Eye', 'Movie', '1991', 'Action'), ('tt0097318', 'Eye of the Widow', 'Movie', '1991', 'Action'), ('tt0097864', 'Meng gui hu li jing', 'Movie', '1991', 'Action'), ('tt0077432', 'Dip huet kei bing', 'Movie', '1991', 'Action'), ('tt0088267', 'Tian di xuan men', 'Movie', '1991', 'Action'), ('tt0095111', 'El heroob', 'Movie', '1991', 'Action'), ('tt0094926', 'Curse of the Crystal Eye', 'Movie', '1991', 'Action'), ('tt0097318', 'Eye of the Widow', 'Movie', '1991', 'Action'), ('tt0097864', 'Meng gui hu li jing', 'Movie', '1991', 'Action'), ('tt0077432', 'Dip huet kei bing', 'Movie', '1991', 'Action'), ('tt0088267', 'Tian di xuan men', 'Movie', '1991', 'Action'), ('tt0095111', 'El heroob', 'Movie', '1991', 'Action'), ('tt0094926', 'Curse of the Crystal Eye', 'Movie', '1991', 'Action'), ('tt0097318', 'Eye of the Widow', 'Movie', '1991', 'Action'), ('tt0097864', 'Meng gui hu li jing', 'Movie', '1991', 'Action'), ('tt0095335', 'Gun gun hong chun', 'Movie', '1992', 'Action'), ('tt0097775', 'Long hang tian xia', 'Movie', '1992', 'Action'), ('tt0097064', 'Circle of Fear', 'Movie', '1992', 'Action'), ('tt0099814', 'Hurricane Smith', 'Movie', '1992', 'Action'), ('tt0099793', 'Hong tian huang jia jiang', 'Movie', '1992', 'Action'), ('tt0100195', 'Sha qiu zhan shi', 'Movie', '1992', 'Action'), ('tt0101828', 'Eternal Fist', 'Movie', '1992', 'Action'), ('tt0101288', 'Al filo de la ley', 'Movie', '1992', 'Action'), ('tt0102073', 'Humlaa', 'Movie', '1992', 'Action'), ('tt0095335', 'Gun gun hong chun', 'Movie', '1992', 'Action'), ('tt0097775', 'Long hang tian xia', 'Movie', '1992', 'Action'), ('tt0097064', 'Circle of Fear', 'Movie', '1992', 'Action'), ('tt0099814', 'Hurricane Smith', 'Movie', '1992', 'Action'), ('tt0099793', 'Hong tian huang jia jiang', 'Movie', '1992', 'Action'), ('tt0100195', 'Sha qiu zhan shi', 'Movie', '1992', 'Action'), ('tt0101828', 'Eternal Fist', 'Movie', '1992', 'Action'), ('tt0101288', 'Al filo de la ley', 'Movie', '1992', 'Action'), ('tt0102073', 'Humlaa', 'Movie', '1992', 'Action'), ('tt0095335', 'Gun gun hong chun', 'Movie', '1992', 'Action'), ('tt0097775', 'Long hang tian xia', 'Movie', '1992', 'Action'), ('tt0097064', 'Circle of Fear', 'Movie', '1992', 'Action'), ('tt0099814', 'Hurricane Smith', 'Movie', '1992', 'Action'), ('tt0099793', 'Hong tian huang jia jiang', 'Movie', '1992', 'Action'), ('tt0100195', 'Sha qiu zhan shi', 'Movie', '1992', 'Action'), ('tt0101828', 'Eternal Fist', 'Movie', '1992', 'Action'), ('tt0101288', 'Al filo de la ley', 'Movie', '1992', 'Action'), ('tt0102073', 'Humlaa', 'Movie', '1992', 'Action'), ('tt0095335', 'Gun gun hong chun', 'Movie', '1992', 'Action'), ('tt0097775', 'Long hang tian xia', 'Movie', '1992', 'Action'), ('tt0097064', 'Circle of Fear', 'Movie', '1992', 'Action'), ('tt0099814', 'Hurricane Smith', 'Movie', '1992', 'Action'), ('tt0099793', 'Hong tian huang jia jiang', 'Movie', '1992', 'Action'), ('tt0100195', 'Sha qiu zhan shi', 'Movie', '1992', 'Action'), ('tt0101828', 'Eternal Fist', 'Movie', '1992', 'Action'), ('tt0101288', 'Al filo de la ley', 'Movie', '1992', 'Action'), ('tt0102073', 'Humlaa', 'Movie', '1992', 'Action'), ('tt0095745', 'Ninja Vengeance', 'Movie', '1993', 'Action'), ('tt0096090', 'Leung seung ching yuen', 'Movie', '1993', 'Action'), ('tt0097984', 'Shen tong', 'Movie', '1993', 'Action'), ('tt0099917', 'Kamen raidâ Zetto Ô', 'Movie', '1993', 'Action'), ('tt0098965', 'Little Ninjas', 'Movie', '1993', 'Action'), ('tt0103592', '1/3 qing ren', 'Movie', '1993', 'Action'), ('tt0101928', 'Full Impact', 'Movie', '1993', 'Action'), ('tt0095745', 'Ninja Vengeance', 'Movie', '1993', 'Action'), ('tt0096090', 'Leung seung ching yuen', 'Movie', '1993', 'Action'), ('tt0097984', 'Shen tong', 'Movie', '1993', 'Action'), ('tt0099917', 'Kamen raidâ Zetto Ô', 'Movie', '1993', 'Action'), ('tt0098965', 'Little Ninjas', 'Movie', '1993', 'Action'), ('tt0103592', '1/3 qing ren', 'Movie', '1993', 'Action'), ('tt0101928', 'Full Impact', 'Movie', '1993', 'Action'), ('tt0095745', 'Ninja Vengeance', 'Movie', '1993', 'Action'), ('tt0096090', 'Leung seung ching yuen', 'Movie', '1993', 'Action'), ('tt0097984', 'Shen tong', 'Movie', '1993', 'Action'), ('tt0099917', 'Kamen raidâ Zetto Ô', 'Movie', '1993', 'Action'), ('tt0098965', 'Little Ninjas', 'Movie', '1993', 'Action'), ('tt0103592', '1/3 qing ren', 'Movie', '1993', 'Action'), ('tt0101928', 'Full Impact', 'Movie', '1993', 'Action'), ('tt0095745', 'Ninja Vengeance', 'Movie', '1993', 'Action'), ('tt0096090', 'Leung seung ching yuen', 'Movie', '1993', 'Action'), ('tt0097984', 'Shen tong', 'Movie', '1993', 'Action'), ('tt0099917', 'Kamen raidâ Zetto Ô', 'Movie', '1993', 'Action'), ('tt0098965', 'Little Ninjas', 'Movie', '1993', 'Action'), ('tt0103592', '1/3 qing ren', 'Movie', '1993', 'Action'), ('tt0101928', 'Full Impact', 'Movie', '1993', 'Action'), ('tt0101616', 'Coolie No. 1', 'Movie', '1995', 'Action'), ('tt0105881', 'Magkasangga 2000', 'Movie', '1995', 'Action'), ('tt0109178', 'Automatic', 'Movie', '1995', 'Action'), ('tt0109033', 'Abducted II: The Reunion', 'Movie', '1995', 'Action'), ('tt0109536', 'The Dangerous', 'Movie', '1995', 'Action'), ('tt0101616', 'Coolie No. 1', 'Movie', '1995', 'Action'), ('tt0105881', 'Magkasangga 2000', 'Movie', '1995', 'Action'), ('tt0109178', 'Automatic', 'Movie', '1995', 'Action'), ('tt0109033', 'Abducted II: The Reunion', 'Movie', '1995', 'Action'), ('tt0109536', 'The Dangerous', 'Movie', '1995', 'Action'), ('tt0101616', 'Coolie No. 1', 'Movie', '1995', 'Action'), ('tt0105881', 'Magkasangga 2000', 'Movie', '1995', 'Action'), ('tt0109178', 'Automatic', 'Movie', '1995', 'Action'), ('tt0109033', 'Abducted II: The Reunion', 'Movie', '1995', 'Action'), ('tt0109536', 'The Dangerous', 'Movie', '1995', 'Action'), ('tt0101616', 'Coolie No. 1', 'Movie', '1995', 'Action'), ('tt0105881', 'Magkasangga 2000', 'Movie', '1995', 'Action'), ('tt0109178', 'Automatic', 'Movie', '1995', 'Action'), ('tt0109033', 'Abducted II: The Reunion', 'Movie', '1995', 'Action'), ('tt0109536', 'The Dangerous', 'Movie', '1995', 'Action')]\n"
     ]
    },
    {
     "name": "stderr",
     "output_type": "stream",
     "text": [
      "\n"
     ]
    }
   ],
   "source": [
    "## extraccion datos por genero de película y años \n",
    "\n",
    "genreList = ['Action']\n",
    "actionmovielist = []\n",
    "\n",
    "for genre in genreList:\n",
    "    print(genre)\n",
    "    \n",
    "    for year in tqdm(range(1980,1996)):\n",
    "        print(year)\n",
    "        url = f\"https://dev.adalab.es/api/cinema/movies?year={year}&genre={genre}\"\n",
    "        sleep(5)\n",
    "        response = requests.get(url)\n",
    "        if response.status_code == 200:\n",
    "            movies = response.json()['results']\n",
    "            for index,movie in enumerate(movies):\n",
    "                if movie ['type'] == 'Movie' or movie ['type'] == 'Short':\n",
    "                    resultado = []\n",
    "                    resultado.append(movie['idOwner'])\n",
    "                    resultado.append(movie['title'])\n",
    "                    resultado.append(movie['type'])\n",
    "                    resultado.append(movie['year'])\n",
    "                    resultado.append(movie['genre'])\n",
    "\n",
    "                    actionmovielist.append(tuple(resultado))            \n",
    "        else: \n",
    "            print(f\"Vaya, algo ha ido mal, el motivo es {response.status_code}\")\n",
    "\n",
    "print(actionmovielist)"
   ]
  },
  {
   "cell_type": "code",
   "execution_count": 5,
   "metadata": {},
   "outputs": [],
   "source": [
    "## convertirlo en un Dataframe\n",
    "\n",
    "df = pd.DataFrame(actionmovielist, columns = ['idOwner','Title','Type','Year','Genre'])\n",
    "\n",
    "df.to_csv('Action.csv')\n",
    "\n",
    "# df_final = pd.concat([dfmiembro1,dfmiembro2,dfmiembro3...], axis=0)\n",
    " \n",
    " # axis = 0 indica que me lo una por las columnas                  \n"
   ]
  }
 ],
 "metadata": {
  "kernelspec": {
   "display_name": ".venv",
   "language": "python",
   "name": "python3"
  },
  "language_info": {
   "codemirror_mode": {
    "name": "ipython",
    "version": 3
   },
   "file_extension": ".py",
   "mimetype": "text/x-python",
   "name": "python",
   "nbconvert_exporter": "python",
   "pygments_lexer": "ipython3",
   "version": "3.11.9"
  }
 },
 "nbformat": 4,
 "nbformat_minor": 2
}
