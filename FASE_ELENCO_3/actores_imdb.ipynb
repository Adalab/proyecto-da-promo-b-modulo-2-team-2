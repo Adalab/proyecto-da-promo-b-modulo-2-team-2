{
 "cells": [
  {
   "cell_type": "code",
   "execution_count": 1,
   "metadata": {},
   "outputs": [],
   "source": [
    "import pandas as pd\n",
    "from selenium import webdriver  # Selenium es una herramienta para automatizar la interacción con navegadores web.\n",
    "from webdriver_manager.chrome import ChromeDriverManager  # ChromeDriverManager gestiona la instalación del controlador de Chrome.\n",
    "from selenium.webdriver.common.keys import Keys  # Keys es útil para simular eventos de teclado en Selenium.\n",
    "from selenium.webdriver.support.ui import Select  # Select se utiliza para interactuar con elementos <select> en páginas web.\n",
    "from tqdm import tqdm\n",
    "from time import sleep"
   ]
  },
  {
   "cell_type": "code",
   "execution_count": 3,
   "metadata": {},
   "outputs": [
    {
     "name": "stdout",
     "output_type": "stream",
     "text": [
      "    Unnamed: 0    idOwner                                Title   Type  Year  \\\n",
      "0            0  tt0078508                            Wolf Lake  Movie  1980   \n",
      "1            1  tt0078805                           Attentatet  Movie  1980   \n",
      "2            2  tt0078895                           The Border  Movie  1980   \n",
      "3            3  tt0079145                        La femme flic  Movie  1980   \n",
      "4            4  tt0078053  Ópalo de fuego: Mercaderes del sexo  Movie  1980   \n",
      "5            5  tt0079181                      Fuego en el mar  Movie  1981   \n",
      "6            6  tt0079341      El infierno de todos tan temido  Movie  1981   \n",
      "7            7  tt0079706                              Paydirt  Movie  1981   \n",
      "8            8  tt0080608                Demasiado para Gálvez  Movie  1981   \n",
      "9            9  tt0080915                   Image of the Beast  Movie  1981   \n",
      "10          10  tt0082504                            Haathkadi  Movie  1982   \n",
      "11          11  tt0082342                     Espion, lève-toi  Movie  1982   \n",
      "12          12  tt0083906                               Eureka  Movie  1983   \n",
      "13          13  tt0083581              Asalto al Banco Central  Movie  1983   \n",
      "14          14  tt0084158                J'ai épousé une ombre  Movie  1983   \n",
      "15          15  tt0085528                           Les fauves  Movie  1984   \n",
      "16          16  tt0085627           I guerrieri dell'anno 2072  Movie  1984   \n",
      "17          17  tt0085645                       Hanyatt-homlok  Movie  1984   \n",
      "18          18  tt0085420               Delitto in Formula Uno  Movie  1984   \n",
      "19          19  tt0087882                        Parfait amour  Movie  1985   \n",
      "20          20  tt0086931                         Bahía blanca  Movie  1985   \n",
      "21          21  tt0087942                           Prime Risk  Movie  1985   \n",
      "22          22  tt0087344                        Godzilla 1985  Movie  1985   \n",
      "23          23  tt0089923                           Robachicos  Movie  1986   \n",
      "24          24  tt0088809                        Birds of Prey  Movie  1986   \n",
      "25          25  tt0089499                                 Lola  Movie  1986   \n",
      "26          26  tt0089118                                  F/X  Movie  1986   \n",
      "27          27  tt0089972                              Schmutz  Movie  1987   \n",
      "28          28  tt0090738                          Black Widow  Movie  1987   \n",
      "29          29  tt0090765              Boran - Zeit zum Zielen  Movie  1987   \n",
      "30          30  tt0092771               El complot dels anells  Movie  1988   \n",
      "31          31  tt0092966                   En toute innocence  Movie  1988   \n",
      "32          32  tt0094710                        Bangkok Story  Movie  1989   \n",
      "33          33  tt0093662                     Object of Desire  Movie  1990   \n",
      "34          34  tt0094666                      Any Man's Death  Movie  1990   \n",
      "35          35  tt0094857                   Chi se da feng bao  Movie  1990   \n",
      "36          36  tt0099587               Flight of the Intruder  Movie  1991   \n",
      "37          37  tt0099577                             Firehead  Movie  1991   \n",
      "38          38  tt0097928                         Murder Blues  Movie  1991   \n",
      "39          39  tt0100111                    Los mares del sur  Movie  1992   \n",
      "40          40  tt0101860                       Fatal Instinct  Movie  1992   \n",
      "41          41  tt0102000               Happy Birthday, Türke!  Movie  1992   \n",
      "42          42  tt0101395                          Backsliding  Movie  1992   \n",
      "43          43  tt0101759                     A Woman's Secret  Movie  1992   \n",
      "44          44  tt0101736                  Diplomatic Immunity  Movie  1992   \n",
      "45          45  tt0102253                  El laberinto griego  Movie  1993   \n",
      "46          46  tt0104683                           Laser Moon  Movie  1993   \n",
      "47          47  tt0102821                      Russian Holiday  Movie  1993   \n",
      "48          48  tt0104807                  Maang lui 72 siu si  Movie  1993   \n",
      "49          49  tt0103022               In a Moment of Passion  Movie  1993   \n",
      "50          50  tt0105054                  Sul filo del rasoio  Movie  1994   \n",
      "51          51  tt0105230                             Redheads  Movie  1994   \n",
      "52          52  tt0105463                            April One  Movie  1994   \n",
      "53          53  tt0106946                       Forced to Kill  Movie  1994   \n",
      "54          54  tt0106874                           Fatal Past  Movie  1994   \n",
      "55          55  tt0106479                       Breaking Point  Movie  1994   \n",
      "56          56  tt0095102              Les ennemis de la mafia  Movie  1995   \n",
      "57          57  tt0109034                      Above Suspicion  Movie  1995   \n",
      "58          58  tt0109532               Dangerous Indiscretion  Movie  1995   \n",
      "\n",
      "       Genre  \n",
      "0   Thriller  \n",
      "1   Thriller  \n",
      "2   Thriller  \n",
      "3   Thriller  \n",
      "4   Thriller  \n",
      "5   Thriller  \n",
      "6   Thriller  \n",
      "7   Thriller  \n",
      "8   Thriller  \n",
      "9   Thriller  \n",
      "10  Thriller  \n",
      "11  Thriller  \n",
      "12  Thriller  \n",
      "13  Thriller  \n",
      "14  Thriller  \n",
      "15  Thriller  \n",
      "16  Thriller  \n",
      "17  Thriller  \n",
      "18  Thriller  \n",
      "19  Thriller  \n",
      "20  Thriller  \n",
      "21  Thriller  \n",
      "22  Thriller  \n",
      "23  Thriller  \n",
      "24  Thriller  \n",
      "25  Thriller  \n",
      "26  Thriller  \n",
      "27  Thriller  \n",
      "28  Thriller  \n",
      "29  Thriller  \n",
      "30  Thriller  \n",
      "31  Thriller  \n",
      "32  Thriller  \n",
      "33  Thriller  \n",
      "34  Thriller  \n",
      "35  Thriller  \n",
      "36  Thriller  \n",
      "37  Thriller  \n",
      "38  Thriller  \n",
      "39  Thriller  \n",
      "40  Thriller  \n",
      "41  Thriller  \n",
      "42  Thriller  \n",
      "43  Thriller  \n",
      "44  Thriller  \n",
      "45  Thriller  \n",
      "46  Thriller  \n",
      "47  Thriller  \n",
      "48  Thriller  \n",
      "49  Thriller  \n",
      "50  Thriller  \n",
      "51  Thriller  \n",
      "52  Thriller  \n",
      "53  Thriller  \n",
      "54  Thriller  \n",
      "55  Thriller  \n",
      "56  Thriller  \n",
      "57  Thriller  \n",
      "58  Thriller  \n",
      "['tt0078508', 'tt0078805', 'tt0078895', 'tt0079145', 'tt0078053', 'tt0079181', 'tt0079341', 'tt0079706', 'tt0080608', 'tt0080915', 'tt0082504', 'tt0082342', 'tt0083906', 'tt0083581', 'tt0084158', 'tt0085528', 'tt0085627', 'tt0085645', 'tt0085420', 'tt0087882', 'tt0086931', 'tt0087942', 'tt0087344', 'tt0089923', 'tt0088809', 'tt0089499', 'tt0089118', 'tt0089972', 'tt0090738', 'tt0090765', 'tt0092771', 'tt0092966', 'tt0094710', 'tt0093662', 'tt0094666', 'tt0094857', 'tt0099587', 'tt0099577', 'tt0097928', 'tt0100111', 'tt0101860', 'tt0102000', 'tt0101395', 'tt0101759', 'tt0101736', 'tt0102253', 'tt0104683', 'tt0102821', 'tt0104807', 'tt0103022', 'tt0105054', 'tt0105230', 'tt0105463', 'tt0106946', 'tt0106874', 'tt0106479', 'tt0095102', 'tt0109034', 'tt0109532']\n"
     ]
    }
   ],
   "source": [
    "df_thriller = pd.read_csv(\"../FASE_API_1/Thriller.csv\")\n",
    "\n",
    "print(df_thriller)\n",
    "\n",
    "idOwner = []\n",
    "\n",
    "for i in df_thriller[\"idOwner\"]:\n",
    "    idOwner.append(i)\n",
    " \n",
    "\n",
    "print(idOwner)"
   ]
  },
  {
   "cell_type": "code",
   "execution_count": 4,
   "metadata": {},
   "outputs": [
    {
     "data": {
      "text/plain": [
       "['tt0078508', 'tt0078805', 'tt0078895']"
      ]
     },
     "execution_count": 4,
     "metadata": {},
     "output_type": "execute_result"
    }
   ],
   "source": [
    "lista_id_peliculas_cortas = idOwner[:3]\n",
    "lista_id_peliculas_cortas"
   ]
  },
  {
   "cell_type": "code",
   "execution_count": 5,
   "metadata": {},
   "outputs": [
    {
     "name": "stderr",
     "output_type": "stream",
     "text": [
      " 33%|███▎      | 1/3 [00:11<00:23, 11.80s/it]"
     ]
    },
    {
     "name": "stdout",
     "output_type": "stream",
     "text": [
      "No se encontraron actores\n",
      "No se encontraron actores\n"
     ]
    },
    {
     "name": "stderr",
     "output_type": "stream",
     "text": [
      "100%|██████████| 3/3 [00:25<00:00,  8.35s/it]\n"
     ]
    }
   ],
   "source": [
    "driver = webdriver.Chrome()\n",
    "\n",
    "driver.get('https://www.imdb.com/')\n",
    "\n",
    "driver.maximize_window()\n",
    "\n",
    "sleep (3)\n",
    "\n",
    "list_actors_by_movie = []\n",
    "\n",
    "list_all_actors = []\n",
    "\n",
    "for peli in tqdm(lista_id_peliculas_cortas):\n",
    "    \n",
    "    driver.find_element('css selector', '#suggestion-search').send_keys(peli, Keys.ENTER)\n",
    "    for i in range(1,10): # porque estamos cogiendo los 10 primeros actores\n",
    "        try:\n",
    "            actor = driver.find_element('css selector', f'#__next > main > div > section.ipc-page-background.ipc-page-background--base.sc-c41b9732-0.NeSef > div > section > div > div.sc-978e9339-1.ihWZgK.ipc-page-grid__item.ipc-page-grid__item--span-2 > section.ipc-page-section.ipc-page-section--base.sc-bfec09a1-0.jgUBLM.title-cast.title-cast--movie.celwidget > div.ipc-shoveler.ipc-shoveler--base.ipc-shoveler--page0.title-cast__grid > div.ipc-sub-grid.ipc-sub-grid--page-span-2.ipc-sub-grid--wraps-at-above-l.ipc-shoveler__grid > div:nth-child({i}) > div.sc-bfec09a1-7.gWwKlt > a').text\n",
    "            list_actors_by_movie.append({'nombre': actor, 'id_pelicula': peli})\n",
    "            # Para no repetir los actores y sacar una lista de actores:\n",
    "            \n",
    "            if(actor not in list_all_actors):\n",
    "                list_all_actors.append(actor)\n",
    "            \n",
    "        except:\n",
    "            print('No se encontraron actores')\n",
    "\n",
    "\n",
    "    "
   ]
  },
  {
   "cell_type": "code",
   "execution_count": 6,
   "metadata": {},
   "outputs": [
    {
     "data": {
      "text/plain": [
       "[{'nombre': 'Rod Steiger', 'id_pelicula': 'tt0078508'},\n",
       " {'nombre': 'David Huffman', 'id_pelicula': 'tt0078508'},\n",
       " {'nombre': 'Robin Mattson', 'id_pelicula': 'tt0078508'},\n",
       " {'nombre': 'Jerry Hardin', 'id_pelicula': 'tt0078508'},\n",
       " {'nombre': 'Richard Herd', 'id_pelicula': 'tt0078508'},\n",
       " {'nombre': 'Paul Mantee', 'id_pelicula': 'tt0078508'},\n",
       " {'nombre': 'Conrad Hool', 'id_pelicula': 'tt0078508'},\n",
       " {'nombre': 'Willie Andréason', 'id_pelicula': 'tt0078805'},\n",
       " {'nombre': 'Vivian Falk', 'id_pelicula': 'tt0078805'},\n",
       " {'nombre': 'Roland Johansson', 'id_pelicula': 'tt0078805'},\n",
       " {'nombre': 'Thomas Johansson', 'id_pelicula': 'tt0078805'},\n",
       " {'nombre': 'Marina Lindahl', 'id_pelicula': 'tt0078805'},\n",
       " {'nombre': 'Christina Lindberg', 'id_pelicula': 'tt0078805'},\n",
       " {'nombre': 'Dan Lindhe', 'id_pelicula': 'tt0078805'},\n",
       " {'nombre': 'Per Oscarsson', 'id_pelicula': 'tt0078805'},\n",
       " {'nombre': 'Carl-Erik Proft', 'id_pelicula': 'tt0078805'},\n",
       " {'nombre': 'Telly Savalas', 'id_pelicula': 'tt0078895'},\n",
       " {'nombre': 'Danny De La Paz', 'id_pelicula': 'tt0078895'},\n",
       " {'nombre': 'Eddie Albert', 'id_pelicula': 'tt0078895'},\n",
       " {'nombre': 'Michael V. Gazzo', 'id_pelicula': 'tt0078895'},\n",
       " {'nombre': 'Cecilia Camacho', 'id_pelicula': 'tt0078895'},\n",
       " {'nombre': 'Robin Clarke', 'id_pelicula': 'tt0078895'},\n",
       " {'nombre': 'Mary McCusker', 'id_pelicula': 'tt0078895'},\n",
       " {'nombre': 'Herman Blood', 'id_pelicula': 'tt0078895'},\n",
       " {'nombre': 'Noé Murayama', 'id_pelicula': 'tt0078895'}]"
      ]
     },
     "execution_count": 6,
     "metadata": {},
     "output_type": "execute_result"
    }
   ],
   "source": [
    "list_actors_by_movie"
   ]
  },
  {
   "cell_type": "code",
   "execution_count": 7,
   "metadata": {},
   "outputs": [
    {
     "data": {
      "text/plain": [
       "['Rod Steiger',\n",
       " 'David Huffman',\n",
       " 'Robin Mattson',\n",
       " 'Jerry Hardin',\n",
       " 'Richard Herd',\n",
       " 'Paul Mantee',\n",
       " 'Conrad Hool',\n",
       " 'Willie Andréason',\n",
       " 'Vivian Falk',\n",
       " 'Roland Johansson',\n",
       " 'Thomas Johansson',\n",
       " 'Marina Lindahl',\n",
       " 'Christina Lindberg',\n",
       " 'Dan Lindhe',\n",
       " 'Per Oscarsson',\n",
       " 'Carl-Erik Proft',\n",
       " 'Telly Savalas',\n",
       " 'Danny De La Paz',\n",
       " 'Eddie Albert',\n",
       " 'Michael V. Gazzo',\n",
       " 'Cecilia Camacho',\n",
       " 'Robin Clarke',\n",
       " 'Mary McCusker',\n",
       " 'Herman Blood',\n",
       " 'Noé Murayama']"
      ]
     },
     "execution_count": 7,
     "metadata": {},
     "output_type": "execute_result"
    }
   ],
   "source": [
    "list_all_actors"
   ]
  },
  {
   "cell_type": "code",
   "execution_count": null,
   "metadata": {},
   "outputs": [],
   "source": [
    "# Por cada uno de los actores, voy a buscar la información"
   ]
  },
  {
   "cell_type": "code",
   "execution_count": 8,
   "metadata": {},
   "outputs": [
    {
     "data": {
      "text/plain": [
       "['Rod Steiger', 'David Huffman', 'Robin Mattson']"
      ]
     },
     "execution_count": 8,
     "metadata": {},
     "output_type": "execute_result"
    }
   ],
   "source": [
    "lista_actors_min = list_all_actors[:3]\n",
    "lista_actors_min"
   ]
  },
  {
   "cell_type": "code",
   "execution_count": 9,
   "metadata": {},
   "outputs": [
    {
     "ename": "SyntaxError",
     "evalue": "unexpected EOF while parsing (1394144410.py, line 24)",
     "output_type": "error",
     "traceback": [
      "\u001b[0;36m  File \u001b[0;32m\"/var/folders/bs/l3gt0xp560x7j_9ydmgrywcw0000gn/T/ipykernel_21458/1394144410.py\"\u001b[0;36m, line \u001b[0;32m24\u001b[0m\n\u001b[0;31m    \u001b[0m\n\u001b[0m    ^\u001b[0m\n\u001b[0;31mSyntaxError\u001b[0m\u001b[0;31m:\u001b[0m unexpected EOF while parsing\n"
     ]
    }
   ],
   "source": [
    "driver = webdriver.Chrome()\n",
    "\n",
    "driver.get('https://www.imdb.com/')\n",
    "\n",
    "driver.maximize_window()\n",
    "\n",
    "sleep (3)\n",
    "\n",
    "lista_info_actores = []\n",
    "nacimiento = None\n",
    "conocido = []\n",
    "premios = []\n",
    "que_hace = []\n",
    "\n",
    "for actor in tqdm(lista_actors_min):\n",
    "    driver.find_element('css selector', '#suggestion-search').send_keys(actor, Keys.ENTER)\n",
    "    driver.find_element('xpath', '//*[@id=\"__next\"]/main/div/section[1]/div/section/div/div[1]/section[3]/div[2]/div[2]/div[1]/div[2]/a').click()\n",
    "    \n",
    "    sleep(2)\n",
    "    \n",
    "    try:\n",
    "        nacimiento = driver.find_element('css selector', '#__next > main > div > section.ipc-page-background.ipc-page-background--base.sc-c41b9732-0.NeSef > section > div:nth-child(5) > section > section > div.sc-491663c0-4.yjUiO > div.sc-491663c0-6.lnlBxO > div.sc-491663c0-11.cvvyMK > section > aside > div > span:nth-child(2)').text\n",
    "        \n",
    "    "
   ]
  },
  {
   "cell_type": "code",
   "execution_count": null,
   "metadata": {},
   "outputs": [],
   "source": [
    "#__next > main > div > section.ipc-page-background.ipc-page-background--base.sc-c41b9732-0.NeSef > section > div:nth-child(5) > section > section > div.sc-491663c0-4.yjUiO > div.sc-491663c0-6.lnlBxO > div.sc-491663c0-10.rbXFE > section > div > div > div"
   ]
  }
 ],
 "metadata": {
  "kernelspec": {
   "display_name": "Python 3",
   "language": "python",
   "name": "python3"
  },
  "language_info": {
   "codemirror_mode": {
    "name": "ipython",
    "version": 3
   },
   "file_extension": ".py",
   "mimetype": "text/x-python",
   "name": "python",
   "nbconvert_exporter": "python",
   "pygments_lexer": "ipython3",
   "version": "3.12.4"
  }
 },
 "nbformat": 4,
 "nbformat_minor": 2
}
