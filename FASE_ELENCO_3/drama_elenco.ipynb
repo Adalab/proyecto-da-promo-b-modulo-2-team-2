{
 "cells": [
  {
   "cell_type": "code",
   "execution_count": 1,
   "metadata": {},
   "outputs": [],
   "source": [
    "import pandas as pd\n",
    "from selenium import webdriver  # Selenium es una herramienta para automatizar la interacción con navegadores web.\n",
    "from webdriver_manager.chrome import ChromeDriverManager  # ChromeDriverManager gestiona la instalación del controlador de Chrome.\n",
    "from selenium.webdriver.common.keys import Keys  # Keys es útil para simular eventos de teclado en Selenium.\n",
    "from selenium.webdriver.support.ui import Select  # Select se utiliza para interactuar con elementos <select> en páginas web.\n",
    "from tqdm import tqdm\n",
    "from time import sleep"
   ]
  },
  {
   "cell_type": "code",
   "execution_count": 2,
   "metadata": {},
   "outputs": [
    {
     "name": "stdout",
     "output_type": "stream",
     "text": [
      "       idOwner                          Title   Type  Year  Genre\n",
      "0    tt0075859        De draken van Bruce Lee  Movie  1980  Drama\n",
      "1    tt0075631       Acto dos Feitos da Guiné  Movie  1980  Drama\n",
      "2    tt0076043                      Fontamara  Movie  1980  Drama\n",
      "3    tt0076321                   Liu he ba fa  Movie  1980  Drama\n",
      "4    tt0076276                Ko to tamo peva  Movie  1980  Drama\n",
      "..         ...                            ...    ...   ...    ...\n",
      "101  tt0102739         ¡Que vivan los crotos!  Movie  1995  Drama\n",
      "102  tt0105096                Paraíso Perdido  Movie  1995  Drama\n",
      "103  tt0105298                   Running Wild  Movie  1995  Drama\n",
      "104  tt0106616  Las cosas del querer 2ª parte  Movie  1995  Drama\n",
      "105  tt0107070                     Halbe Welt  Movie  1995  Drama\n",
      "\n",
      "[106 rows x 5 columns]\n",
      "['tt0075859', 'tt0075631', 'tt0076043', 'tt0076321', 'tt0076276', 'tt0077366', 'tt0062181', 'tt0067100', 'tt0075187', 'tt0077389', 'tt0076769', 'tt0077472', 'tt0077960', 'tt0078376', 'tt0077722', 'tt0078769', 'tt0078178', 'tt0079358', 'tt0079891', 'tt0079799', 'tt0080508', 'tt0080554', 'tt0036606', 'tt0057461', 'tt0065530', 'tt0077329', 'tt0079246', 'tt0080867', 'tt0080824', 'tt0082578', 'tt0071261', 'tt0080570', 'tt0081716', 'tt0082972', 'tt0083969', 'tt0084384', 'tt0084388', 'tt0082491', 'tt0083852', 'tt0075745', 'tt0084324', 'tt0085155', 'tt0085185', 'tt0085309', 'tt0067625', 'tt0086021', 'tt0085986', 'tt0086909', 'tt0087210', 'tt0087944', 'tt0067694', 'tt0076900', 'tt0084549', 'tt0084460', 'tt0085916', 'tt0086584', 'tt0086836', 'tt0072818', 'tt0082668', 'tt0088274', 'tt0090292', 'tt0065108', 'tt0083731', 'tt0084548', 'tt0087374', 'tt0088900', 'tt0089996', 'tt0089382', 'tt0091234', 'tt0059325', 'tt0059900', 'tt0065188', 'tt0068494', 'tt0075259', 'tt0081721', 'tt0090665', 'tt0093646', 'tt0077432', 'tt0084015', 'tt0092507', 'tt0094841', 'tt0094900', 'tt0095111', 'tt0082891', 'tt0084447', 'tt0095761', 'tt0096222', 'tt0097631', 'tt0099104', 'tt0099437', 'tt0099639', 'tt0015724', 'tt0081145', 'tt0084551', 'tt0091490', 'tt0095745', 'tt0097984', 'tt0099640', 'tt0099917', 'tt0099996', 'tt0100267', 'tt0102739', 'tt0105096', 'tt0105298', 'tt0106616', 'tt0107070']\n"
     ]
    }
   ],
   "source": [
    "df_drama = pd.read_csv(\"Drama.csv\")\n",
    "\n",
    "print(df_drama)\n",
    "\n",
    "idOwner = []\n",
    "\n",
    "for i in df_drama[\"idOwner\"]:\n",
    "    idOwner.append(i)\n",
    "    \n",
    "\n",
    "print(idOwner)"
   ]
  },
  {
   "cell_type": "code",
   "execution_count": 3,
   "metadata": {},
   "outputs": [
    {
     "data": {
      "text/plain": [
       "['tt0075859',\n",
       " 'tt0075631',\n",
       " 'tt0076043',\n",
       " 'tt0076321',\n",
       " 'tt0076276',\n",
       " 'tt0077366',\n",
       " 'tt0062181',\n",
       " 'tt0067100',\n",
       " 'tt0075187',\n",
       " 'tt0077389']"
      ]
     },
     "execution_count": 3,
     "metadata": {},
     "output_type": "execute_result"
    }
   ],
   "source": [
    "lista_id_peliculas_cortas = idOwner[:10]\n",
    "lista_id_peliculas_cortas"
   ]
  },
  {
   "cell_type": "code",
   "execution_count": 9,
   "metadata": {},
   "outputs": [
    {
     "name": "stderr",
     "output_type": "stream",
     "text": [
      " 20%|██        | 2/10 [00:09<00:37,  4.63s/it]"
     ]
    },
    {
     "name": "stdout",
     "output_type": "stream",
     "text": [
      "No se encontraron actores\n",
      "No se encontraron actores\n",
      "No se encontraron actores\n"
     ]
    },
    {
     "name": "stderr",
     "output_type": "stream",
     "text": [
      "100%|██████████| 10/10 [00:53<00:00,  5.31s/it]\n"
     ]
    }
   ],
   "source": [
    "driver = webdriver.Chrome()\n",
    "\n",
    "driver.get('https://www.imdb.com/')\n",
    "\n",
    "driver.maximize_window()\n",
    "\n",
    "sleep (3)\n",
    "\n",
    "list_actors_by_movie = []\n",
    "\n",
    "list_all_actors = []\n",
    "\n",
    "for peli in tqdm(lista_id_peliculas_cortas):\n",
    "    \n",
    "    driver.find_element('css selector', '#suggestion-search').send_keys(peli, Keys.ENTER)\n",
    "    \n",
    "    sleep(2)\n",
    "    \n",
    "    for i in range(1,6): # porque estamos cogiendo los 10 primeros actores\n",
    "        try:\n",
    "            actor = driver.find_element('css selector', f'#__next > main > div > section.ipc-page-background.ipc-page-background--base.sc-c41b9732-0.NeSef > div > section > div > div.sc-978e9339-1.ihWZgK.ipc-page-grid__item.ipc-page-grid__item--span-2 > section.ipc-page-section.ipc-page-section--base.sc-bfec09a1-0.jgUBLM.title-cast.title-cast--movie.celwidget > div.ipc-shoveler.ipc-shoveler--base.ipc-shoveler--page0.title-cast__grid > div.ipc-sub-grid.ipc-sub-grid--page-span-2.ipc-sub-grid--wraps-at-above-l.ipc-shoveler__grid > div:nth-child({i}) > div.sc-bfec09a1-7.gWwKlt > a').text\n",
    "            list_actors_by_movie.append({'nombre': actor, 'id_pelicula': peli})\n",
    "            # Para no repetir los actores y sacar una lista de actores:\n",
    "            \n",
    "            if(actor not in list_all_actors):\n",
    "                list_all_actors.append(actor)\n",
    "            \n",
    "        except:\n",
    "            print('No se encontraron actores')\n",
    "\n",
    "driver.close()\n",
    "    "
   ]
  },
  {
   "cell_type": "code",
   "execution_count": 8,
   "metadata": {},
   "outputs": [
    {
     "data": {
      "text/plain": [
       "[{'nombre': 'Ryong Keo', 'id_pelicula': 'tt0075859'},\n",
       " {'nombre': 'Irina Shevchenko', 'id_pelicula': 'tt0075859'},\n",
       " {'nombre': 'Bruce Le', 'id_pelicula': 'tt0075859'},\n",
       " {'nombre': 'Il-do Jang', 'id_pelicula': 'tt0075859'},\n",
       " {'nombre': 'Bruce Thai', 'id_pelicula': 'tt0075859'},\n",
       " {'nombre': 'José Gomes', 'id_pelicula': 'tt0075631'},\n",
       " {'nombre': 'Virgílio Massinge', 'id_pelicula': 'tt0075631'},\n",
       " {'nombre': 'Michele Placido', 'id_pelicula': 'tt0076043'},\n",
       " {'nombre': 'Ida Di Benedetto', 'id_pelicula': 'tt0076043'},\n",
       " {'nombre': 'Antonella Murgia', 'id_pelicula': 'tt0076043'},\n",
       " {'nombre': 'Imma Piro', 'id_pelicula': 'tt0076043'},\n",
       " {'nombre': 'Antonio Orlando', 'id_pelicula': 'tt0076043'},\n",
       " {'nombre': 'David Chiang', 'id_pelicula': 'tt0076321'},\n",
       " {'nombre': 'Hua Yueh', 'id_pelicula': 'tt0076321'},\n",
       " {'nombre': 'Paul Chun', 'id_pelicula': 'tt0076321'},\n",
       " {'nombre': 'Siu-Tin Yuen', 'id_pelicula': 'tt0076321'},\n",
       " {'nombre': 'Nancy Yen', 'id_pelicula': 'tt0076321'},\n",
       " {'nombre': 'Pavle Vuisic', 'id_pelicula': 'tt0076276'},\n",
       " {'nombre': 'Dragan Nikolic', 'id_pelicula': 'tt0076276'},\n",
       " {'nombre': \"Danilo 'Bata' Stojkovic\", 'id_pelicula': 'tt0076276'},\n",
       " {'nombre': 'Aleksandar Bercek', 'id_pelicula': 'tt0076276'},\n",
       " {'nombre': 'Neda Arneric', 'id_pelicula': 'tt0076276'},\n",
       " {'nombre': 'Ana Ofelia Murguía', 'id_pelicula': 'tt0077366'},\n",
       " {'nombre': 'Sergio Jiménez', 'id_pelicula': 'tt0077366'},\n",
       " {'nombre': 'Jorge Humberto Robles', 'id_pelicula': 'tt0077366'},\n",
       " {'nombre': 'Rebeca Aranoni', 'id_pelicula': 'tt0077366'},\n",
       " {'nombre': 'Patricia Bernal', 'id_pelicula': 'tt0077366'},\n",
       " {'nombre': 'Jerzy Skolimowski', 'id_pelicula': 'tt0062181'},\n",
       " {'nombre': 'Joanna Szczerbic', 'id_pelicula': 'tt0062181'},\n",
       " {'nombre': 'Tadeusz Lomnicki', 'id_pelicula': 'tt0062181'},\n",
       " {'nombre': 'Adam Hanuszkiewicz', 'id_pelicula': 'tt0062181'},\n",
       " {'nombre': 'Bogumil Kobiela', 'id_pelicula': 'tt0062181'},\n",
       " {'nombre': 'Jillian Kesner', 'id_pelicula': 'tt0067100'},\n",
       " {'nombre': 'Darby Hinton', 'id_pelicula': 'tt0067100'},\n",
       " {'nombre': 'Rey Malonzo', 'id_pelicula': 'tt0067100'},\n",
       " {'nombre': 'Ken Metcalfe', 'id_pelicula': 'tt0067100'},\n",
       " {'nombre': 'Pete Cooper', 'id_pelicula': 'tt0067100'},\n",
       " {'nombre': 'Hilda Bernard', 'id_pelicula': 'tt0075187'},\n",
       " {'nombre': 'María Aurelia Bisutti', 'id_pelicula': 'tt0075187'},\n",
       " {'nombre': 'Tom Castronuova', 'id_pelicula': 'tt0075187'},\n",
       " {'nombre': 'Elena Cruz', 'id_pelicula': 'tt0075187'},\n",
       " {'nombre': 'María José Demare', 'id_pelicula': 'tt0075187'},\n",
       " {'nombre': 'Sasha Montenegro', 'id_pelicula': 'tt0077389'},\n",
       " {'nombre': 'Eduardo de la Peña', 'id_pelicula': 'tt0077389'},\n",
       " {'nombre': 'Katy Jurado', 'id_pelicula': 'tt0077389'},\n",
       " {'nombre': 'Cecilia Leger', 'id_pelicula': 'tt0077389'},\n",
       " {'nombre': 'Julissa', 'id_pelicula': 'tt0077389'}]"
      ]
     },
     "execution_count": 8,
     "metadata": {},
     "output_type": "execute_result"
    }
   ],
   "source": [
    "list_actors_by_movie"
   ]
  },
  {
   "cell_type": "code",
   "execution_count": 10,
   "metadata": {},
   "outputs": [
    {
     "data": {
      "text/plain": [
       "['Ryong Keo',\n",
       " 'Irina Shevchenko',\n",
       " 'Bruce Le',\n",
       " 'Il-do Jang',\n",
       " 'Bruce Thai',\n",
       " 'José Gomes',\n",
       " 'Virgílio Massinge',\n",
       " 'Michele Placido',\n",
       " 'Ida Di Benedetto',\n",
       " 'Antonella Murgia',\n",
       " 'Imma Piro',\n",
       " 'Antonio Orlando',\n",
       " 'David Chiang',\n",
       " 'Hua Yueh',\n",
       " 'Paul Chun',\n",
       " 'Siu-Tin Yuen',\n",
       " 'Nancy Yen',\n",
       " 'Pavle Vuisic',\n",
       " 'Dragan Nikolic',\n",
       " \"Danilo 'Bata' Stojkovic\",\n",
       " 'Aleksandar Bercek',\n",
       " 'Neda Arneric',\n",
       " 'Ana Ofelia Murguía',\n",
       " 'Sergio Jiménez',\n",
       " 'Jorge Humberto Robles',\n",
       " 'Rebeca Aranoni',\n",
       " 'Patricia Bernal',\n",
       " 'Jerzy Skolimowski',\n",
       " 'Joanna Szczerbic',\n",
       " 'Tadeusz Lomnicki',\n",
       " 'Adam Hanuszkiewicz',\n",
       " 'Bogumil Kobiela',\n",
       " 'Jillian Kesner',\n",
       " 'Darby Hinton',\n",
       " 'Rey Malonzo',\n",
       " 'Ken Metcalfe',\n",
       " 'Pete Cooper',\n",
       " 'Hilda Bernard',\n",
       " 'María Aurelia Bisutti',\n",
       " 'Tom Castronuova',\n",
       " 'Elena Cruz',\n",
       " 'María José Demare',\n",
       " 'Sasha Montenegro',\n",
       " 'Eduardo de la Peña',\n",
       " 'Katy Jurado',\n",
       " 'Cecilia Leger',\n",
       " 'Julissa']"
      ]
     },
     "execution_count": 10,
     "metadata": {},
     "output_type": "execute_result"
    }
   ],
   "source": [
    "list_all_actors"
   ]
  },
  {
   "cell_type": "code",
   "execution_count": 11,
   "metadata": {},
   "outputs": [
    {
     "name": "stderr",
     "output_type": "stream",
     "text": [
      "  0%|          | 0/47 [00:00<?, ?it/s]"
     ]
    },
    {
     "name": "stdout",
     "output_type": "stream",
     "text": [
      "Este actor no tiene premios\n"
     ]
    },
    {
     "name": "stderr",
     "output_type": "stream",
     "text": [
      "  2%|▏         | 1/47 [00:09<07:27,  9.73s/it]"
     ]
    },
    {
     "name": "stdout",
     "output_type": "stream",
     "text": [
      "El actor Irina Shevchenko no es conocido por nada más  \n",
      "Este actor no tiene premios\n"
     ]
    },
    {
     "name": "stderr",
     "output_type": "stream",
     "text": [
      "  4%|▍         | 2/47 [00:18<06:43,  8.96s/it]"
     ]
    },
    {
     "name": "stdout",
     "output_type": "stream",
     "text": [
      "Entramos en los premios\n"
     ]
    },
    {
     "name": "stderr",
     "output_type": "stream",
     "text": [
      "  6%|▋         | 3/47 [00:31<07:55, 10.81s/it]"
     ]
    },
    {
     "name": "stdout",
     "output_type": "stream",
     "text": [
      "Este actor no tiene premios\n"
     ]
    },
    {
     "name": "stderr",
     "output_type": "stream",
     "text": [
      "  9%|▊         | 4/47 [00:40<07:19, 10.21s/it]"
     ]
    },
    {
     "name": "stdout",
     "output_type": "stream",
     "text": [
      "El actor Bruce Thai no es conocido por nada más  \n",
      "Este actor no tiene premios\n"
     ]
    },
    {
     "name": "stderr",
     "output_type": "stream",
     "text": [
      " 11%|█         | 5/47 [00:48<06:40,  9.52s/it]"
     ]
    },
    {
     "name": "stdout",
     "output_type": "stream",
     "text": [
      "Este actor no tiene premios\n"
     ]
    },
    {
     "name": "stderr",
     "output_type": "stream",
     "text": [
      " 13%|█▎        | 6/47 [00:58<06:29,  9.49s/it]"
     ]
    },
    {
     "name": "stdout",
     "output_type": "stream",
     "text": [
      "El actor Virgílio Massinge no es conocido por nada más  \n",
      "Este actor no tiene premios\n"
     ]
    },
    {
     "name": "stderr",
     "output_type": "stream",
     "text": [
      " 15%|█▍        | 7/47 [01:06<06:07,  9.18s/it]"
     ]
    },
    {
     "name": "stdout",
     "output_type": "stream",
     "text": [
      "Entramos en los premios\n"
     ]
    },
    {
     "name": "stderr",
     "output_type": "stream",
     "text": [
      " 19%|█▉        | 9/47 [01:35<07:23, 11.67s/it]"
     ]
    },
    {
     "name": "stdout",
     "output_type": "stream",
     "text": [
      "Este actor no tiene premios\n"
     ]
    },
    {
     "name": "stderr",
     "output_type": "stream",
     "text": [
      " 21%|██▏       | 10/47 [01:45<06:49, 11.06s/it]"
     ]
    },
    {
     "name": "stdout",
     "output_type": "stream",
     "text": [
      "Este actor no tiene premios\n"
     ]
    },
    {
     "name": "stderr",
     "output_type": "stream",
     "text": [
      " 23%|██▎       | 11/47 [01:54<06:16, 10.45s/it]"
     ]
    },
    {
     "name": "stdout",
     "output_type": "stream",
     "text": [
      "Este actor no tiene premios\n"
     ]
    },
    {
     "name": "stderr",
     "output_type": "stream",
     "text": [
      " 26%|██▌       | 12/47 [02:05<06:04, 10.41s/it]"
     ]
    },
    {
     "name": "stdout",
     "output_type": "stream",
     "text": [
      "Entramos en los premios\n"
     ]
    },
    {
     "name": "stderr",
     "output_type": "stream",
     "text": [
      " 28%|██▊       | 13/47 [02:19<06:39, 11.74s/it]"
     ]
    },
    {
     "name": "stdout",
     "output_type": "stream",
     "text": [
      "Este actor no tiene premios\n"
     ]
    },
    {
     "name": "stderr",
     "output_type": "stream",
     "text": [
      " 30%|██▉       | 14/47 [02:28<05:56, 10.81s/it]"
     ]
    },
    {
     "name": "stdout",
     "output_type": "stream",
     "text": [
      "Entramos en los premios\n"
     ]
    },
    {
     "name": "stderr",
     "output_type": "stream",
     "text": [
      " 32%|███▏      | 15/47 [02:42<06:19, 11.86s/it]"
     ]
    },
    {
     "name": "stdout",
     "output_type": "stream",
     "text": [
      "Entramos en los premios\n"
     ]
    },
    {
     "name": "stderr",
     "output_type": "stream",
     "text": [
      " 34%|███▍      | 16/47 [02:59<06:54, 13.38s/it]"
     ]
    },
    {
     "name": "stdout",
     "output_type": "stream",
     "text": [
      "Este actor no tiene premios\n"
     ]
    },
    {
     "name": "stderr",
     "output_type": "stream",
     "text": [
      " 45%|████▍     | 21/47 [03:55<04:57, 11.45s/it]"
     ]
    },
    {
     "name": "stdout",
     "output_type": "stream",
     "text": [
      "Entramos en los premios\n"
     ]
    },
    {
     "name": "stderr",
     "output_type": "stream",
     "text": [
      " 53%|█████▎    | 25/47 [04:42<04:05, 11.16s/it]"
     ]
    },
    {
     "name": "stdout",
     "output_type": "stream",
     "text": [
      "El actor Rebeca Aranoni no es conocido por nada más  \n",
      "Este actor no tiene premios\n"
     ]
    },
    {
     "name": "stderr",
     "output_type": "stream",
     "text": [
      " 55%|█████▌    | 26/47 [04:53<03:50, 11.00s/it]"
     ]
    },
    {
     "name": "stdout",
     "output_type": "stream",
     "text": [
      "Entramos en los premios\n"
     ]
    },
    {
     "name": "stderr",
     "output_type": "stream",
     "text": [
      " 57%|█████▋    | 27/47 [05:09<04:12, 12.65s/it]"
     ]
    },
    {
     "name": "stdout",
     "output_type": "stream",
     "text": [
      "Entramos en los premios\n"
     ]
    },
    {
     "name": "stderr",
     "output_type": "stream",
     "text": [
      " 60%|█████▉    | 28/47 [05:32<04:55, 15.58s/it]"
     ]
    },
    {
     "name": "stdout",
     "output_type": "stream",
     "text": [
      "Este actor no tiene premios\n"
     ]
    },
    {
     "name": "stderr",
     "output_type": "stream",
     "text": [
      " 62%|██████▏   | 29/47 [05:42<04:10, 13.93s/it]"
     ]
    },
    {
     "name": "stdout",
     "output_type": "stream",
     "text": [
      "Entramos en los premios\n"
     ]
    },
    {
     "name": "stderr",
     "output_type": "stream",
     "text": [
      " 64%|██████▍   | 30/47 [05:58<04:06, 14.51s/it]"
     ]
    },
    {
     "name": "stdout",
     "output_type": "stream",
     "text": [
      "Este actor no tiene premios\n"
     ]
    },
    {
     "name": "stderr",
     "output_type": "stream",
     "text": [
      " 66%|██████▌   | 31/47 [06:09<03:36, 13.52s/it]"
     ]
    },
    {
     "name": "stdout",
     "output_type": "stream",
     "text": [
      "Este actor no tiene premios\n"
     ]
    },
    {
     "name": "stderr",
     "output_type": "stream",
     "text": [
      " 68%|██████▊   | 32/47 [06:19<03:06, 12.44s/it]"
     ]
    },
    {
     "name": "stdout",
     "output_type": "stream",
     "text": [
      "Este actor no tiene premios\n"
     ]
    },
    {
     "name": "stderr",
     "output_type": "stream",
     "text": [
      " 70%|███████   | 33/47 [06:31<02:52, 12.29s/it]"
     ]
    },
    {
     "name": "stdout",
     "output_type": "stream",
     "text": [
      "Entramos en los premios\n"
     ]
    },
    {
     "name": "stderr",
     "output_type": "stream",
     "text": [
      " 72%|███████▏  | 34/47 [06:47<02:55, 13.53s/it]"
     ]
    },
    {
     "name": "stdout",
     "output_type": "stream",
     "text": [
      "Este actor no tiene premios\n"
     ]
    },
    {
     "name": "stderr",
     "output_type": "stream",
     "text": [
      " 74%|███████▍  | 35/47 [06:58<02:34, 12.88s/it]"
     ]
    },
    {
     "name": "stdout",
     "output_type": "stream",
     "text": [
      "Este actor no tiene premios\n"
     ]
    },
    {
     "name": "stderr",
     "output_type": "stream",
     "text": [
      " 77%|███████▋  | 36/47 [07:09<02:14, 12.27s/it]"
     ]
    },
    {
     "name": "stdout",
     "output_type": "stream",
     "text": [
      "Este actor no tiene premios\n"
     ]
    },
    {
     "name": "stderr",
     "output_type": "stream",
     "text": [
      " 81%|████████  | 38/47 [07:32<01:46, 11.84s/it]"
     ]
    },
    {
     "name": "stdout",
     "output_type": "stream",
     "text": [
      "Este actor no tiene premios\n"
     ]
    },
    {
     "name": "stderr",
     "output_type": "stream",
     "text": [
      " 83%|████████▎ | 39/47 [07:43<01:31, 11.50s/it]"
     ]
    },
    {
     "name": "stdout",
     "output_type": "stream",
     "text": [
      "El actor Tom Castronuova no es conocido por nada más  \n",
      "Este actor no tiene premios\n"
     ]
    },
    {
     "name": "stderr",
     "output_type": "stream",
     "text": [
      " 85%|████████▌ | 40/47 [07:53<01:16, 10.90s/it]"
     ]
    },
    {
     "name": "stdout",
     "output_type": "stream",
     "text": [
      "Este actor no tiene premios\n"
     ]
    },
    {
     "name": "stderr",
     "output_type": "stream",
     "text": [
      " 87%|████████▋ | 41/47 [08:03<01:04, 10.78s/it]"
     ]
    },
    {
     "name": "stdout",
     "output_type": "stream",
     "text": [
      "Entramos en los premios\n"
     ]
    },
    {
     "name": "stderr",
     "output_type": "stream",
     "text": [
      " 89%|████████▉ | 42/47 [08:17<00:58, 11.72s/it]"
     ]
    },
    {
     "name": "stdout",
     "output_type": "stream",
     "text": [
      "Entramos en los premios\n"
     ]
    },
    {
     "name": "stderr",
     "output_type": "stream",
     "text": [
      " 91%|█████████▏| 43/47 [08:33<00:51, 12.86s/it]"
     ]
    },
    {
     "name": "stdout",
     "output_type": "stream",
     "text": [
      "Este actor no tiene premios\n"
     ]
    },
    {
     "name": "stderr",
     "output_type": "stream",
     "text": [
      " 94%|█████████▎| 44/47 [08:43<00:36, 12.14s/it]"
     ]
    },
    {
     "name": "stdout",
     "output_type": "stream",
     "text": [
      "Entramos en los premios\n"
     ]
    },
    {
     "name": "stderr",
     "output_type": "stream",
     "text": [
      " 96%|█████████▌| 45/47 [09:01<00:27, 13.83s/it]"
     ]
    },
    {
     "name": "stdout",
     "output_type": "stream",
     "text": [
      "Este actor no tiene premios\n"
     ]
    },
    {
     "name": "stderr",
     "output_type": "stream",
     "text": [
      " 98%|█████████▊| 46/47 [09:12<00:13, 13.11s/it]"
     ]
    },
    {
     "name": "stdout",
     "output_type": "stream",
     "text": [
      "Entramos en los premios\n"
     ]
    },
    {
     "name": "stderr",
     "output_type": "stream",
     "text": [
      "100%|██████████| 47/47 [09:27<00:00, 12.08s/it]\n"
     ]
    }
   ],
   "source": [
    "driver = webdriver.Chrome()\n",
    "\n",
    "driver.get('https://www.imdb.com/')\n",
    "\n",
    "driver.maximize_window()\n",
    "\n",
    "sleep (5)\n",
    "\n",
    "#Cookies\n",
    "driver.find_element('css selector', '#__next > div > div > div.sc-jrcTuL.bPmWiM > div > button.icb-btn.sc-bcXHqe.sc-dkrFOg.sc-iBYQkv.dcvrLS.ddtuHe.dRCGjd').click()\n",
    "\n",
    "sleep(2)\n",
    "\n",
    "nacimiento = []\n",
    "premios_actor = []\n",
    "conocido = []\n",
    "pelis = []\n",
    "\n",
    "  \n",
    "for actor in tqdm(list_all_actors):\n",
    "    conocido_por = []\n",
    "    ganados = []\n",
    "    nominaciones = []\n",
    "    peliculas = []\n",
    "    # buscamos al actor\n",
    "    driver.find_element('css selector', '#suggestion-search').send_keys(actor, Keys.ENTER)\n",
    "    \n",
    "    # clickamos en la primera coincidencia\n",
    "    driver.find_element('css selector', '#__next > main > div.ipc-page-content-container.ipc-page-content-container--full.sc-e51f9d6d-0.Fmvqg > div.ipc-page-content-container.ipc-page-content-container--center > section > div > div.ipc-page-grid__item.ipc-page-grid__item--span-2 > section:nth-child(4) > div.sc-e8e4ce7-2.iXsuvN > ul > li:nth-child(1) > div.ipc-metadata-list-summary-item__c > div > a').click()\n",
    "    \n",
    "    # añadimos fecha nacimiento_actor\n",
    "    \n",
    "    try:\n",
    "        nacimiento.append(driver.find_element('xpath', '//*[@id=\"__next\"]/main/div/section[1]/section/div[3]/section/section/div[3]/div/div[2]/section/aside/div/span[2]').text)\n",
    "    \n",
    "    except:\n",
    "        nacimiento.append(None)  \n",
    "    \n",
    "    try: \n",
    "        for elemento in range (1,5):\n",
    "            \n",
    "            conocido_por.append(driver.find_element('css selector', f'#__next > main > div > section.ipc-page-background.ipc-page-background--base.sc-c41b9732-0.NeSef > div > section > div > div.sc-978e9339-1.ihWZgK.ipc-page-grid__item.ipc-page-grid__item--span-2 > div.celwidget > section:nth-child(1) > div.sc-1c5b3162-0.fFgRFS > div > div.ipc-sub-grid.ipc-sub-grid--page-span-2.ipc-sub-grid--wraps-at-above-l.ipc-shoveler__grid > div:nth-child({elemento}) > div.ipc-primary-image-list-card__content > div.ipc-primary-image-list-card__content-top > a').text)\n",
    "\n",
    "        conocido.append(tuple(conocido_por))\n",
    "    except:\n",
    "        print(f\"El actor {actor} no es conocido por nada más  \")\n",
    "    \n",
    "    # añadimos lista 10 peliculas en las que ha participado\n",
    "    \n",
    "    try: \n",
    "        \n",
    "        for peli in range(1,10):\n",
    "            \n",
    "            try:\n",
    "        \n",
    "                peliculas.append(driver.find_element('xpath', f'#accordion-item-actor-previous-projects > div > ul > li:nth-child({peli}) > div.ipc-metadata-list-summary-item__c > div.ipc-metadata-list-summary-item__tc > a').text)\n",
    "        \n",
    "                pelis.append(tuple(peliculas))\n",
    "        \n",
    "            except: \n",
    "                try:\n",
    "                    peliculas.append(driver.find_element('xpath', '//*[@id=\"accordion-item-actor-previous-projects\"]/div/ul/li[1]/div[2]/div[1]/a').text)\n",
    "                                                        #//*[@id=\"accordion-item-actor-previous-projects\"]/div/ul/li[2]/div[2]/div[1]/a\n",
    "                \n",
    "                except:\n",
    "                    peliculas.append(None)\n",
    "\n",
    "    except:\n",
    "        print(f\"el actor {actor} no tiene más peliculas\")\n",
    "        \n",
    "    # accedemos a premios\n",
    "    \n",
    "    try:\n",
    "        driver.find_element('css selector', '#__next > main > div > section.ipc-page-background.ipc-page-background--base.sc-c41b9732-0.NeSef > div > section > div > div.sc-978e9339-1.ihWZgK.ipc-page-grid__item.ipc-page-grid__item--span-2 > section:nth-child(3) > div > ul > li > div').click()\n",
    "    \n",
    "    except:\n",
    "        try: # hago el try dos veces porque en el primer intento consigo que el navegador se mueva al elemento y en el except es cuando consigo clickearlo\n",
    "            sleep(3)\n",
    "            driver.find_element('css selector', '#__next > main > div > section.ipc-page-background.ipc-page-background--base.sc-c41b9732-0.NeSef > div > section > div > div.sc-978e9339-1.ihWZgK.ipc-page-grid__item.ipc-page-grid__item--span-2 > section:nth-child(3) > div > ul > li > div').click()\n",
    "            \n",
    "            print('Entramos en los premios')\n",
    "        except:\n",
    "            print(\"Este actor no tiene premios\")\n",
    "\n",
    "    for premio in range (1,11):\n",
    "        try: \n",
    "            # premios ganados\n",
    "            ganados.append(driver.find_element('css selector', f'#__next > main > div > section > div > section > div > div.sc-978e9339-1.ihWZgK.ipc-page-grid__item.ipc-page-grid__item--span-2 > section:nth-child(3) > div.sc-f65f65be-0.bBlII > ul > li:nth-child({premio}) > div.ipc-metadata-list-summary-item__c > div > a').text)\n",
    "            # nominaciones                                                    \n",
    "            nominaciones.append(driver.find_element('css selector', f'#__next > main > div > section > div > section > div > div.sc-978e9339-1.ihWZgK.ipc-page-grid__item.ipc-page-grid__item--span-2 > section:nth-child(4) > div.sc-f65f65be-0.bBlII > ul > li:nth-child({premio}) > div.ipc-metadata-list-summary-item__c > div > a').text)\n",
    "\n",
    "        except:                                                  \n",
    "            pass\n",
    "    \n",
    "    # comprobamos si tiene premio ganado o nominacion, si es así lo añadimos al diccionario de premios por actor\n",
    "    if len(ganados) > 0 or len(nominaciones) > 0:\n",
    "        premios_actor.append({'premios ganados': ganados, 'nominaciones': nominaciones})\n",
    "    \n",
    "    else:\n",
    "        premios_actor.append(None)\n",
    "    \n",
    "    driver.back()\n",
    "\n",
    "\n",
    "driver.close()\n",
    "\n",
    "    "
   ]
  },
  {
   "cell_type": "code",
   "execution_count": 12,
   "metadata": {},
   "outputs": [
    {
     "data": {
      "text/plain": [
       "[('La saga de Bruce Lee',\n",
       "  'Sahyeong samgeol',\n",
       "  'Heukpyo bigaek',\n",
       "  'Xunzhao shiqu de Zongshi'),\n",
       " ('Furia oriental',\n",
       "  'El furor del dragón',\n",
       "  'Operación Dragón',\n",
       "  'Karate a muerte en Bangkok'),\n",
       " ('La saga de Bruce Lee',\n",
       "  'Failan',\n",
       "  'The Blazing Ninja',\n",
       "  'Escuadrón de los ninjas'),\n",
       " (\"La hija de D'Artagnan\",\n",
       "  'One Foot in the Grave',\n",
       "  'Entre Marido e Mulher...',\n",
       "  'Um Chapéu de Palha de Itália'),\n",
       " ('La piovra',\n",
       "  'Romanzo criminale',\n",
       "  'La sombra de Caravaggio',\n",
       "  'Un eroe borghese'),\n",
       " ('Fontamara',\n",
       "  \"Immacolata e Concetta, l'altra gelosia\",\n",
       "  'Der Schlaf der Vernunft',\n",
       "  'El reino de Nápoles'),\n",
       " ('Cristina, adolescente pervertida',\n",
       "  'Perry Grant, agente di ferro',\n",
       "  'I diavoli di Spartivento',\n",
       "  'El fugitivo del tren de Berlín'),\n",
       " ('El capo de Corleone',\n",
       "  'Signora Volpe',\n",
       "  'Vieni, vieni amore mio',\n",
       "  'Il maresciallo Rocca'),\n",
       " ('Saló o los 120 días de Sodoma',\n",
       "  'La piovra',\n",
       "  'Der Rosenkönig',\n",
       "  'Le strelle nel fosso'),\n",
       " ('Ci Ma', 'Bao chou', 'Los 5 Maestros de Shaolin', 'Bak yat ji ha'),\n",
       " ('Da zui xia', 'Xi you ji', 'Tres reinos', 'Tie shan gong zhu'),\n",
       " ('San bat liu ching',\n",
       "  'Din lo jing juen',\n",
       "  'Do ma daan',\n",
       "  'La venganza del dragón'),\n",
       " ('El mono borracho en el ojo del tigre',\n",
       "  'Zui xia Su Qi Er',\n",
       "  'La serpiente a la sombra del águila',\n",
       "  'Loco Loco Kung Fu'),\n",
       " ('Tie jiao wa', 'Tie san jiao', 'Sheng long huo hu', 'Chu Liu Xiang'),\n",
       " ('Línea no regular',\n",
       "  'Povratak otpisanih',\n",
       "  'Maratonci trce pocasni krug',\n",
       "  'Tri koraka u prazno'),\n",
       " ('Balkan ekspres', 'Línea no regular', 'El halcón', 'Nacionalna klasa'),\n",
       " ('Balkanski spijun',\n",
       "  'Underground',\n",
       "  'Maratonci trce pocasni krug',\n",
       "  'Zimovanje u Jakobsfeldu'),\n",
       " ('Línea no regular', 'Uvod u drugi zivot', 'El polvorín', 'Juzni vetar'),\n",
       " ('Ispravi se, Delfina',\n",
       "  'Haloa - praznik kurvi',\n",
       "  'Shaft en África',\n",
       "  'Línea no regular'),\n",
       " ('Coco', 'Mi querido Tom Mix', 'Cadena perpetua', 'La reina de la noche'),\n",
       " ('Mujeres engañadas', 'Angélica', 'La traición', 'El engaño'),\n",
       " ('El infierno de todos tan temido',\n",
       "  'El tres de copas',\n",
       "  'Pafnucio Santo',\n",
       "  'Gabriel y Gabriela'),\n",
       " ('Amar te duele',\n",
       "  'Todos queremos a alguien',\n",
       "  'Pobre rico... pobre',\n",
       "  'La otra mitad del sol'),\n",
       " ('Los Vengadores', 'EO', 'Essential Killing', '11 minut'),\n",
       " ('La barrera', 'Agnieszka 46', 'Dialóg 20-40-60', 'Los días de Mateo'),\n",
       " ('Coronel Wolodyjowski',\n",
       "  'El diluvio',\n",
       "  '... gdziekolwiek jestes, panie prezydencie...',\n",
       "  'Wizja lokalna 1901'),\n",
       " ('Spóznieni przechodnie',\n",
       "  'Teatr Telewizji',\n",
       "  'Zuzanna i chlopcy',\n",
       "  'Marzenia do spelnienia'),\n",
       " ('Lalka', 'Do widzenia, do jutra...', 'Przeprowadzka', 'Cenizas y diamantes'),\n",
       " ('Puño desnudo', 'The Student Body', 'Mork y Mindy', 'Beverly Hills Vamp'),\n",
       " ('Daniel Boone',\n",
       "  'Christmas Wishes and Mistletoe Kisses',\n",
       "  'Days of Our Lives',\n",
       "  'Texas Rising'),\n",
       " ('Batang North Harbor',\n",
       "  'Twin Fists for the Blackmasters',\n",
       "  'Limbas ng Cavite',\n",
       "  'Kumander .45'),\n",
       " ('La colina de la hamburguesa',\n",
       "  'Apocalypse Now',\n",
       "  'TNT Jackson',\n",
       "  'Desaparecido en combate'),\n",
       " ('Apocalypse Now', 'Up from the Depths', 'Puño desnudo', 'Stryker'),\n",
       " ('Antonella', 'Rebelde Way', 'La extraña dama', 'Celeste'),\n",
       " ('Los de la mesa 10',\n",
       "  'Amorina',\n",
       "  'Ese que no la quiere',\n",
       "  'El cielo es para todos'),\n",
       " ('La canción de Buenos Aires',\n",
       "  'Un tranvía llamado Deseo',\n",
       "  'Contigo y aquí',\n",
       "  'Dónde pueda quererte'),\n",
       " ('Presos del olvido',\n",
       "  'Naranjo en flor',\n",
       "  'Solamente ella',\n",
       "  'Los gauchos judíos'),\n",
       " ('Las vías del amor',\n",
       "  'Llámenme Mike',\n",
       "  'Santo contra los asesinos de otros mundos',\n",
       "  'Santo y Blue Demon contra el doctor Frankenstein'),\n",
       " ('El hombre del tiempo',\n",
       "  'Bunker Z (Zulu)',\n",
       "  'Erin Brockovich',\n",
       "  'Nothing Is Private'),\n",
       " ('Solo ante el peligro',\n",
       "  'Hoguera de odios',\n",
       "  'Fe, esperanza y caridad',\n",
       "  'Un secreto de Esperanza'),\n",
       " ('El Topo', 'Sin salida', 'Nos veremos en el cielo', 'La marca de Satanás'),\n",
       " ('Isla de los muertos',\n",
       "  'D.F./Distrito Federal',\n",
       "  'Dulce desafío',\n",
       "  'Pedro Páramo')]"
      ]
     },
     "execution_count": 12,
     "metadata": {},
     "output_type": "execute_result"
    }
   ],
   "source": [
    "conocido"
   ]
  },
  {
   "cell_type": "code",
   "execution_count": 13,
   "metadata": {},
   "outputs": [
    {
     "data": {
      "text/plain": [
       "[None,\n",
       " None,\n",
       " {'premios ganados': ['1972 Ganador Special Jury Award'],\n",
       "  'nominaciones': ['1967 Nominado Gold Medal']},\n",
       " None,\n",
       " None,\n",
       " None,\n",
       " None,\n",
       " {'premios ganados': [\"1999 Ganador Actor's Mission Award\"],\n",
       "  'nominaciones': ['1989 Ganador Bambi']},\n",
       " {'premios ganados': ['1985 Nominado David', '1981 Nominado David'],\n",
       "  'nominaciones': ['1988 Ganador François Truffaut Award']},\n",
       " None,\n",
       " None,\n",
       " None,\n",
       " {'premios ganados': ['1973 Ganador APFF Award', '1970 Ganador APFF Award'],\n",
       "  'nominaciones': ['2024 Ganador Hong Kong Film Award']},\n",
       " None,\n",
       " {'premios ganados': ['1996 Nominado Golden Bauhinia'],\n",
       "  'nominaciones': ['2016 Nominado Golden Horse Award']},\n",
       " {'premios ganados': ['1979 Nominado Golden Horse Award'], 'nominaciones': []},\n",
       " None,\n",
       " {'premios ganados': ['1977 Ganador Golden Arena',\n",
       "   '1958 Ganador Golden Arena'],\n",
       "  'nominaciones': ['1983 Ganador Slavica Award',\n",
       "   '1977 Ganador Car Konstantin Award']},\n",
       " {'premios ganados': ['1981 Ganador Golden Arena',\n",
       "   '1968 Ganador Special Award'],\n",
       "  'nominaciones': ['2000 Ganador Pavle Vuicis Award',\n",
       "   '1983 Ganador Plaquette']},\n",
       " {'premios ganados': ['1984 Ganador Golden Arena'], 'nominaciones': []},\n",
       " {'premios ganados': ['1980 Ganador Golden Arena'],\n",
       "  'nominaciones': ['2013 Ganador Car Konstantin Award']},\n",
       " {'premios ganados': ['1988 Ganador Golden Arena',\n",
       "   '1977 Ganador Silver Arena'],\n",
       "  'nominaciones': ['2018 Ganador Belgrade Victor']},\n",
       " {'premios ganados': ['2011 Ganador Special Golden Ariel',\n",
       "   '2001 Nominado Silver Ariel',\n",
       "   '2001 Nominado Silver Ariel',\n",
       "   '2000 Nominado Silver Ariel',\n",
       "   '1998 Nominado Silver Ariel'],\n",
       "  'nominaciones': ['1991 Ganador Best Actress']},\n",
       " {'premios ganados': ['1983 Nominado Silver Ariel',\n",
       "   '1974 Nominado Silver Ariel',\n",
       "   '1972 Nominado Silver Ariel'],\n",
       "  'nominaciones': ['2000 Ganador TVyNovelas',\n",
       "   '1989 Nominado TVyNovelas',\n",
       "   '1987 Nominado TVyNovelas']},\n",
       " {'premios ganados': ['1980 Nominado Silver Ariel'], 'nominaciones': []},\n",
       " None,\n",
       " {'premios ganados': ['2018 Nominado Silver Goddess'], 'nominaciones': []},\n",
       " {'premios ganados': ['1967 Ganador Golden Berlin Bear',\n",
       "   '1967 Ganador UNICRIT Award'],\n",
       "  'nominaciones': ['2022 Ganador Marshal of the Kujawsko-Pomorskie Region Film Award',\n",
       "   '2010 Ganador Lifetime Achievement Award for Directing']},\n",
       " None,\n",
       " {'premios ganados': ['1969 Ganador Golden Prize'],\n",
       "  'nominaciones': ['2009 Ganador Film Award']},\n",
       " None,\n",
       " None,\n",
       " None,\n",
       " {'premios ganados': ['2019 Ganador Best Faith Based Film'],\n",
       "  'nominaciones': ['2019 Ganador Wild Bunch Film Festival Award']},\n",
       " None,\n",
       " None,\n",
       " None,\n",
       " {'premios ganados': ['2011 Nominado Premio Martín Fierro',\n",
       "   '2009 Nominado Premio Martín Fierro',\n",
       "   '1992 Ganador Premio Martín Fierro'],\n",
       "  'nominaciones': []},\n",
       " None,\n",
       " None,\n",
       " None,\n",
       " {'premios ganados': ['2002 Nominado Silver Condor'], 'nominaciones': []},\n",
       " {'premios ganados': ['2003 Ganador TVyNovelas'], 'nominaciones': []},\n",
       " None,\n",
       " {'premios ganados': ['1999 Ganador Silver Ariel',\n",
       "   '1997 Ganador Special Golden Ariel',\n",
       "   '1982 Nominado Silver Ariel',\n",
       "   '1974 Ganador Silver Ariel',\n",
       "   '1954 Ganador Silver Ariel'],\n",
       "  'nominaciones': ['1955 Nominado Oscar']},\n",
       " None,\n",
       " {'premios ganados': ['1982 Ganador Silver Ariel',\n",
       "   '1972 Nominado Silver Ariel'],\n",
       "  'nominaciones': ['1990 Nominado TVyNovelas', '1987 Nominado TVyNovelas']}]"
      ]
     },
     "execution_count": 13,
     "metadata": {},
     "output_type": "execute_result"
    }
   ],
   "source": [
    "premios_actor"
   ]
  },
  {
   "cell_type": "code",
   "execution_count": 14,
   "metadata": {},
   "outputs": [
    {
     "name": "stdout",
     "output_type": "stream",
     "text": [
      "[None, None, ('1972 Ganador Special Jury Award',), None, None, None, None, (\"1999 Ganador Actor's Mission Award\",), ('1985 Nominado David', '1981 Nominado David'), None, None, None, ('1973 Ganador APFF Award', '1970 Ganador APFF Award'), None, ('1996 Nominado Golden Bauhinia',), ('1979 Nominado Golden Horse Award',), None, ('1977 Ganador Golden Arena', '1958 Ganador Golden Arena'), ('1981 Ganador Golden Arena', '1968 Ganador Special Award'), ('1984 Ganador Golden Arena',), ('1980 Ganador Golden Arena',), ('1988 Ganador Golden Arena', '1977 Ganador Silver Arena'), ('2011 Ganador Special Golden Ariel', '2001 Nominado Silver Ariel', '2001 Nominado Silver Ariel', '2000 Nominado Silver Ariel', '1998 Nominado Silver Ariel'), ('1983 Nominado Silver Ariel', '1974 Nominado Silver Ariel', '1972 Nominado Silver Ariel'), ('1980 Nominado Silver Ariel',), None, ('2018 Nominado Silver Goddess',), ('1967 Ganador Golden Berlin Bear', '1967 Ganador UNICRIT Award'), None, ('1969 Ganador Golden Prize',), None, None, None, ('2019 Ganador Best Faith Based Film',), None, None, None, ('2011 Nominado Premio Martín Fierro', '2009 Nominado Premio Martín Fierro', '1992 Ganador Premio Martín Fierro'), None, None, None, ('2002 Nominado Silver Condor',), ('2003 Ganador TVyNovelas',), None, ('1999 Ganador Silver Ariel', '1997 Ganador Special Golden Ariel', '1982 Nominado Silver Ariel', '1974 Ganador Silver Ariel', '1954 Ganador Silver Ariel'), None, ('1982 Ganador Silver Ariel', '1972 Nominado Silver Ariel')]\n",
      "[None, None, ('1967 Nominado Gold Medal',), None, None, None, None, ('1989 Ganador Bambi',), ('1988 Ganador François Truffaut Award',), None, None, None, ('2024 Ganador Hong Kong Film Award',), None, ('2016 Nominado Golden Horse Award',), (), None, ('1983 Ganador Slavica Award', '1977 Ganador Car Konstantin Award'), ('2000 Ganador Pavle Vuicis Award', '1983 Ganador Plaquette'), (), ('2013 Ganador Car Konstantin Award',), ('2018 Ganador Belgrade Victor',), ('1991 Ganador Best Actress',), ('2000 Ganador TVyNovelas', '1989 Nominado TVyNovelas', '1987 Nominado TVyNovelas'), (), None, (), ('2022 Ganador Marshal of the Kujawsko-Pomorskie Region Film Award', '2010 Ganador Lifetime Achievement Award for Directing'), None, ('2009 Ganador Film Award',), None, None, None, ('2019 Ganador Wild Bunch Film Festival Award',), None, None, None, (), None, None, None, (), (), None, ('1955 Nominado Oscar',), None, ('1990 Nominado TVyNovelas', '1987 Nominado TVyNovelas')]\n"
     ]
    }
   ],
   "source": [
    "premios = []\n",
    "nominaciones = []\n",
    "\n",
    "# Iterar sobre cada diccionario en la lista\n",
    "for persona in premios_actor:\n",
    "    \n",
    "    if persona is None:\n",
    "        premios.append(None)\n",
    "        continue\n",
    "    else:\n",
    "        premios_ganados = persona.get('premios ganados', [])\n",
    "        premios.append(tuple(premios_ganados))\n",
    "\n",
    "# Imprimir la lista de todos los premios ganados\n",
    "print(premios)\n",
    "\n",
    "for persona in premios_actor:\n",
    "    \n",
    "    if persona is None:\n",
    "        nominaciones.append(None)\n",
    "        continue\n",
    "    else:\n",
    "        premios_ganados = persona[\"nominaciones\"]\n",
    "        nominaciones.append(tuple(premios_ganados))\n",
    "        \n",
    "print(nominaciones)"
   ]
  },
  {
   "cell_type": "code",
   "execution_count": 15,
   "metadata": {},
   "outputs": [
    {
     "data": {
      "text/plain": [
       "[('Ryong Keo',\n",
       "  '1940',\n",
       "  None,\n",
       "  None,\n",
       "  ('La saga de Bruce Lee',\n",
       "   'Sahyeong samgeol',\n",
       "   'Heukpyo bigaek',\n",
       "   'Xunzhao shiqu de Zongshi')),\n",
       " ('Irina Shevchenko',\n",
       "  None,\n",
       "  None,\n",
       "  None,\n",
       "  ('Furia oriental',\n",
       "   'El furor del dragón',\n",
       "   'Operación Dragón',\n",
       "   'Karate a muerte en Bangkok')),\n",
       " ('Bruce Le',\n",
       "  '27 de noviembre de 1940',\n",
       "  ('1972 Ganador Special Jury Award',),\n",
       "  ('1967 Nominado Gold Medal',),\n",
       "  ('La saga de Bruce Lee',\n",
       "   'Failan',\n",
       "   'The Blazing Ninja',\n",
       "   'Escuadrón de los ninjas')),\n",
       " ('Il-do Jang',\n",
       "  None,\n",
       "  None,\n",
       "  None,\n",
       "  (\"La hija de D'Artagnan\",\n",
       "   'One Foot in the Grave',\n",
       "   'Entre Marido e Mulher...',\n",
       "   'Um Chapéu de Palha de Itália')),\n",
       " ('Bruce Thai',\n",
       "  None,\n",
       "  None,\n",
       "  None,\n",
       "  ('La piovra',\n",
       "   'Romanzo criminale',\n",
       "   'La sombra de Caravaggio',\n",
       "   'Un eroe borghese')),\n",
       " ('José Gomes',\n",
       "  '8 de diciembre de 1938',\n",
       "  None,\n",
       "  None,\n",
       "  ('Fontamara',\n",
       "   \"Immacolata e Concetta, l'altra gelosia\",\n",
       "   'Der Schlaf der Vernunft',\n",
       "   'El reino de Nápoles')),\n",
       " ('Virgílio Massinge',\n",
       "  None,\n",
       "  None,\n",
       "  None,\n",
       "  ('Cristina, adolescente pervertida',\n",
       "   'Perry Grant, agente di ferro',\n",
       "   'I diavoli di Spartivento',\n",
       "   'El fugitivo del tren de Berlín')),\n",
       " ('Michele Placido',\n",
       "  '19 de mayo de 1946',\n",
       "  (\"1999 Ganador Actor's Mission Award\",),\n",
       "  ('1989 Ganador Bambi',),\n",
       "  ('El capo de Corleone',\n",
       "   'Signora Volpe',\n",
       "   'Vieni, vieni amore mio',\n",
       "   'Il maresciallo Rocca')),\n",
       " ('Ida Di Benedetto',\n",
       "  '3 de junio de 1940',\n",
       "  ('1985 Nominado David', '1981 Nominado David'),\n",
       "  ('1988 Ganador François Truffaut Award',),\n",
       "  ('Saló o los 120 días de Sodoma',\n",
       "   'La piovra',\n",
       "   'Der Rosenkönig',\n",
       "   'Le strelle nel fosso')),\n",
       " ('Antonella Murgia',\n",
       "  '26 de junio de 1942',\n",
       "  None,\n",
       "  None,\n",
       "  ('Ci Ma', 'Bao chou', 'Los 5 Maestros de Shaolin', 'Bak yat ji ha')),\n",
       " ('Imma Piro',\n",
       "  '8 de diciembre de 1956',\n",
       "  None,\n",
       "  None,\n",
       "  ('Da zui xia', 'Xi you ji', 'Tres reinos', 'Tie shan gong zhu')),\n",
       " ('Antonio Orlando',\n",
       "  '15 de marzo de 1960',\n",
       "  None,\n",
       "  None,\n",
       "  ('San bat liu ching',\n",
       "   'Din lo jing juen',\n",
       "   'Do ma daan',\n",
       "   'La venganza del dragón')),\n",
       " ('David Chiang',\n",
       "  '29 de junio de 1947',\n",
       "  ('1973 Ganador APFF Award', '1970 Ganador APFF Award'),\n",
       "  ('2024 Ganador Hong Kong Film Award',),\n",
       "  ('El mono borracho en el ojo del tigre',\n",
       "   'Zui xia Su Qi Er',\n",
       "   'La serpiente a la sombra del águila',\n",
       "   'Loco Loco Kung Fu')),\n",
       " ('Hua Yueh',\n",
       "  '13 de julio de 1942',\n",
       "  None,\n",
       "  None,\n",
       "  ('Tie jiao wa', 'Tie san jiao', 'Sheng long huo hu', 'Chu Liu Xiang')),\n",
       " ('Paul Chun',\n",
       "  '17 de mayo de 1945',\n",
       "  ('1996 Nominado Golden Bauhinia',),\n",
       "  ('2016 Nominado Golden Horse Award',),\n",
       "  ('Línea no regular',\n",
       "   'Povratak otpisanih',\n",
       "   'Maratonci trce pocasni krug',\n",
       "   'Tri koraka u prazno')),\n",
       " ('Siu-Tin Yuen',\n",
       "  '27 de noviembre de 1912',\n",
       "  ('1979 Nominado Golden Horse Award',),\n",
       "  (),\n",
       "  ('Balkan ekspres', 'Línea no regular', 'El halcón', 'Nacionalna klasa')),\n",
       " ('Nancy Yen',\n",
       "  '1949',\n",
       "  None,\n",
       "  None,\n",
       "  ('Balkanski spijun',\n",
       "   'Underground',\n",
       "   'Maratonci trce pocasni krug',\n",
       "   'Zimovanje u Jakobsfeldu')),\n",
       " ('Pavle Vuisic',\n",
       "  '10 de julio de 1926',\n",
       "  ('1977 Ganador Golden Arena', '1958 Ganador Golden Arena'),\n",
       "  ('1983 Ganador Slavica Award', '1977 Ganador Car Konstantin Award'),\n",
       "  ('Línea no regular', 'Uvod u drugi zivot', 'El polvorín', 'Juzni vetar')),\n",
       " ('Dragan Nikolic',\n",
       "  '20 de agosto de 1943',\n",
       "  ('1981 Ganador Golden Arena', '1968 Ganador Special Award'),\n",
       "  ('2000 Ganador Pavle Vuicis Award', '1983 Ganador Plaquette'),\n",
       "  ('Ispravi se, Delfina',\n",
       "   'Haloa - praznik kurvi',\n",
       "   'Shaft en África',\n",
       "   'Línea no regular')),\n",
       " (\"Danilo 'Bata' Stojkovic\",\n",
       "  '11 de agosto de 1934',\n",
       "  ('1984 Ganador Golden Arena',),\n",
       "  (),\n",
       "  ('Coco', 'Mi querido Tom Mix', 'Cadena perpetua', 'La reina de la noche')),\n",
       " ('Aleksandar Bercek',\n",
       "  '4 de septiembre de 1950',\n",
       "  ('1980 Ganador Golden Arena',),\n",
       "  ('2013 Ganador Car Konstantin Award',),\n",
       "  ('Mujeres engañadas', 'Angélica', 'La traición', 'El engaño')),\n",
       " ('Neda Arneric',\n",
       "  '15 de julio de 1953',\n",
       "  ('1988 Ganador Golden Arena', '1977 Ganador Silver Arena'),\n",
       "  ('2018 Ganador Belgrade Victor',),\n",
       "  ('El infierno de todos tan temido',\n",
       "   'El tres de copas',\n",
       "   'Pafnucio Santo',\n",
       "   'Gabriel y Gabriela')),\n",
       " ('Ana Ofelia Murguía',\n",
       "  '8 de diciembre de 1933',\n",
       "  ('2011 Ganador Special Golden Ariel',\n",
       "   '2001 Nominado Silver Ariel',\n",
       "   '2001 Nominado Silver Ariel',\n",
       "   '2000 Nominado Silver Ariel',\n",
       "   '1998 Nominado Silver Ariel'),\n",
       "  ('1991 Ganador Best Actress',),\n",
       "  ('Amar te duele',\n",
       "   'Todos queremos a alguien',\n",
       "   'Pobre rico... pobre',\n",
       "   'La otra mitad del sol')),\n",
       " ('Sergio Jiménez',\n",
       "  '17 de diciembre de 1937',\n",
       "  ('1983 Nominado Silver Ariel',\n",
       "   '1974 Nominado Silver Ariel',\n",
       "   '1972 Nominado Silver Ariel'),\n",
       "  ('2000 Ganador TVyNovelas',\n",
       "   '1989 Nominado TVyNovelas',\n",
       "   '1987 Nominado TVyNovelas'),\n",
       "  ('Los Vengadores', 'EO', 'Essential Killing', '11 minut')),\n",
       " ('Jorge Humberto Robles',\n",
       "  '20 de agosto de 1943',\n",
       "  ('1980 Nominado Silver Ariel',),\n",
       "  (),\n",
       "  ('La barrera', 'Agnieszka 46', 'Dialóg 20-40-60', 'Los días de Mateo')),\n",
       " ('Rebeca Aranoni',\n",
       "  None,\n",
       "  None,\n",
       "  None,\n",
       "  ('Coronel Wolodyjowski',\n",
       "   'El diluvio',\n",
       "   '... gdziekolwiek jestes, panie prezydencie...',\n",
       "   'Wizja lokalna 1901')),\n",
       " ('Patricia Bernal',\n",
       "  'mayo de 1961',\n",
       "  ('2018 Nominado Silver Goddess',),\n",
       "  (),\n",
       "  ('Spóznieni przechodnie',\n",
       "   'Teatr Telewizji',\n",
       "   'Zuzanna i chlopcy',\n",
       "   'Marzenia do spelnienia')),\n",
       " ('Jerzy Skolimowski',\n",
       "  '5 de mayo de 1938',\n",
       "  ('1967 Ganador Golden Berlin Bear', '1967 Ganador UNICRIT Award'),\n",
       "  ('2022 Ganador Marshal of the Kujawsko-Pomorskie Region Film Award',\n",
       "   '2010 Ganador Lifetime Achievement Award for Directing'),\n",
       "  ('Lalka',\n",
       "   'Do widzenia, do jutra...',\n",
       "   'Przeprowadzka',\n",
       "   'Cenizas y diamantes')),\n",
       " ('Joanna Szczerbic',\n",
       "  '13 de junio de 1941',\n",
       "  None,\n",
       "  None,\n",
       "  ('Puño desnudo', 'The Student Body', 'Mork y Mindy', 'Beverly Hills Vamp')),\n",
       " ('Tadeusz Lomnicki',\n",
       "  '18 de julio de 1927',\n",
       "  ('1969 Ganador Golden Prize',),\n",
       "  ('2009 Ganador Film Award',),\n",
       "  ('Daniel Boone',\n",
       "   'Christmas Wishes and Mistletoe Kisses',\n",
       "   'Days of Our Lives',\n",
       "   'Texas Rising')),\n",
       " ('Adam Hanuszkiewicz',\n",
       "  '16 de junio de 1924',\n",
       "  None,\n",
       "  None,\n",
       "  ('Batang North Harbor',\n",
       "   'Twin Fists for the Blackmasters',\n",
       "   'Limbas ng Cavite',\n",
       "   'Kumander .45')),\n",
       " ('Bogumil Kobiela',\n",
       "  '31 de mayo de 1931',\n",
       "  None,\n",
       "  None,\n",
       "  ('La colina de la hamburguesa',\n",
       "   'Apocalypse Now',\n",
       "   'TNT Jackson',\n",
       "   'Desaparecido en combate')),\n",
       " ('Jillian Kesner',\n",
       "  '9 de agosto de 1949',\n",
       "  None,\n",
       "  None,\n",
       "  ('Apocalypse Now', 'Up from the Depths', 'Puño desnudo', 'Stryker')),\n",
       " ('Darby Hinton',\n",
       "  '19 de agosto de 1957',\n",
       "  ('2019 Ganador Best Faith Based Film',),\n",
       "  ('2019 Ganador Wild Bunch Film Festival Award',),\n",
       "  ('Antonella', 'Rebelde Way', 'La extraña dama', 'Celeste')),\n",
       " ('Rey Malonzo',\n",
       "  None,\n",
       "  None,\n",
       "  None,\n",
       "  ('Los de la mesa 10',\n",
       "   'Amorina',\n",
       "   'Ese que no la quiere',\n",
       "   'El cielo es para todos')),\n",
       " ('Ken Metcalfe',\n",
       "  None,\n",
       "  None,\n",
       "  None,\n",
       "  ('La canción de Buenos Aires',\n",
       "   'Un tranvía llamado Deseo',\n",
       "   'Contigo y aquí',\n",
       "   'Dónde pueda quererte')),\n",
       " ('Pete Cooper',\n",
       "  None,\n",
       "  None,\n",
       "  None,\n",
       "  ('Presos del olvido',\n",
       "   'Naranjo en flor',\n",
       "   'Solamente ella',\n",
       "   'Los gauchos judíos')),\n",
       " ('Hilda Bernard',\n",
       "  '29 de octubre de 1920',\n",
       "  ('2011 Nominado Premio Martín Fierro',\n",
       "   '2009 Nominado Premio Martín Fierro',\n",
       "   '1992 Ganador Premio Martín Fierro'),\n",
       "  (),\n",
       "  ('Las vías del amor',\n",
       "   'Llámenme Mike',\n",
       "   'Santo contra los asesinos de otros mundos',\n",
       "   'Santo y Blue Demon contra el doctor Frankenstein')),\n",
       " ('María Aurelia Bisutti',\n",
       "  '20 de junio de 1930',\n",
       "  None,\n",
       "  None,\n",
       "  ('El hombre del tiempo',\n",
       "   'Bunker Z (Zulu)',\n",
       "   'Erin Brockovich',\n",
       "   'Nothing Is Private')),\n",
       " ('Tom Castronuova',\n",
       "  None,\n",
       "  None,\n",
       "  None,\n",
       "  ('Solo ante el peligro',\n",
       "   'Hoguera de odios',\n",
       "   'Fe, esperanza y caridad',\n",
       "   'Un secreto de Esperanza')),\n",
       " ('Elena Cruz',\n",
       "  '27 de noviembre de 1926',\n",
       "  None,\n",
       "  None,\n",
       "  ('El Topo', 'Sin salida', 'Nos veremos en el cielo', 'La marca de Satanás')),\n",
       " ('María José Demare',\n",
       "  '12 de abril de 1949',\n",
       "  ('2002 Nominado Silver Condor',),\n",
       "  (),\n",
       "  ('Isla de los muertos',\n",
       "   'D.F./Distrito Federal',\n",
       "   'Dulce desafío',\n",
       "   'Pedro Páramo'))]"
      ]
     },
     "execution_count": 15,
     "metadata": {},
     "output_type": "execute_result"
    }
   ],
   "source": [
    "drama_elenco = list(tuple(zip(list_all_actors,nacimiento, premios, nominaciones, conocido)))\n",
    "\n",
    "drama_elenco"
   ]
  },
  {
   "cell_type": "code",
   "execution_count": 16,
   "metadata": {},
   "outputs": [
    {
     "data": {
      "text/html": [
       "<div>\n",
       "<style scoped>\n",
       "    .dataframe tbody tr th:only-of-type {\n",
       "        vertical-align: middle;\n",
       "    }\n",
       "\n",
       "    .dataframe tbody tr th {\n",
       "        vertical-align: top;\n",
       "    }\n",
       "\n",
       "    .dataframe thead th {\n",
       "        text-align: right;\n",
       "    }\n",
       "</style>\n",
       "<table border=\"1\" class=\"dataframe\">\n",
       "  <thead>\n",
       "    <tr style=\"text-align: right;\">\n",
       "      <th></th>\n",
       "      <th>Nombre</th>\n",
       "      <th>Nacimiento</th>\n",
       "      <th>Premios</th>\n",
       "      <th>Nominaciones</th>\n",
       "      <th>Conocido por</th>\n",
       "    </tr>\n",
       "  </thead>\n",
       "  <tbody>\n",
       "    <tr>\n",
       "      <th>0</th>\n",
       "      <td>Ryong Keo</td>\n",
       "      <td>1940</td>\n",
       "      <td>None</td>\n",
       "      <td>None</td>\n",
       "      <td>(La saga de Bruce Lee, Sahyeong samgeol, Heukp...</td>\n",
       "    </tr>\n",
       "    <tr>\n",
       "      <th>1</th>\n",
       "      <td>Irina Shevchenko</td>\n",
       "      <td>None</td>\n",
       "      <td>None</td>\n",
       "      <td>None</td>\n",
       "      <td>(Furia oriental, El furor del dragón, Operació...</td>\n",
       "    </tr>\n",
       "    <tr>\n",
       "      <th>2</th>\n",
       "      <td>Bruce Le</td>\n",
       "      <td>27 de noviembre de 1940</td>\n",
       "      <td>(1972 Ganador Special Jury Award,)</td>\n",
       "      <td>(1967 Nominado Gold Medal,)</td>\n",
       "      <td>(La saga de Bruce Lee, Failan, The Blazing Nin...</td>\n",
       "    </tr>\n",
       "    <tr>\n",
       "      <th>3</th>\n",
       "      <td>Il-do Jang</td>\n",
       "      <td>None</td>\n",
       "      <td>None</td>\n",
       "      <td>None</td>\n",
       "      <td>(La hija de D'Artagnan, One Foot in the Grave,...</td>\n",
       "    </tr>\n",
       "    <tr>\n",
       "      <th>4</th>\n",
       "      <td>Bruce Thai</td>\n",
       "      <td>None</td>\n",
       "      <td>None</td>\n",
       "      <td>None</td>\n",
       "      <td>(La piovra, Romanzo criminale, La sombra de Ca...</td>\n",
       "    </tr>\n",
       "    <tr>\n",
       "      <th>5</th>\n",
       "      <td>José Gomes</td>\n",
       "      <td>8 de diciembre de 1938</td>\n",
       "      <td>None</td>\n",
       "      <td>None</td>\n",
       "      <td>(Fontamara, Immacolata e Concetta, l'altra gel...</td>\n",
       "    </tr>\n",
       "    <tr>\n",
       "      <th>6</th>\n",
       "      <td>Virgílio Massinge</td>\n",
       "      <td>None</td>\n",
       "      <td>None</td>\n",
       "      <td>None</td>\n",
       "      <td>(Cristina, adolescente pervertida, Perry Grant...</td>\n",
       "    </tr>\n",
       "    <tr>\n",
       "      <th>7</th>\n",
       "      <td>Michele Placido</td>\n",
       "      <td>19 de mayo de 1946</td>\n",
       "      <td>(1999 Ganador Actor's Mission Award,)</td>\n",
       "      <td>(1989 Ganador Bambi,)</td>\n",
       "      <td>(El capo de Corleone, Signora Volpe, Vieni, vi...</td>\n",
       "    </tr>\n",
       "    <tr>\n",
       "      <th>8</th>\n",
       "      <td>Ida Di Benedetto</td>\n",
       "      <td>3 de junio de 1940</td>\n",
       "      <td>(1985 Nominado David, 1981 Nominado David)</td>\n",
       "      <td>(1988 Ganador François Truffaut Award,)</td>\n",
       "      <td>(Saló o los 120 días de Sodoma, La piovra, Der...</td>\n",
       "    </tr>\n",
       "    <tr>\n",
       "      <th>9</th>\n",
       "      <td>Antonella Murgia</td>\n",
       "      <td>26 de junio de 1942</td>\n",
       "      <td>None</td>\n",
       "      <td>None</td>\n",
       "      <td>(Ci Ma, Bao chou, Los 5 Maestros de Shaolin, B...</td>\n",
       "    </tr>\n",
       "    <tr>\n",
       "      <th>10</th>\n",
       "      <td>Imma Piro</td>\n",
       "      <td>8 de diciembre de 1956</td>\n",
       "      <td>None</td>\n",
       "      <td>None</td>\n",
       "      <td>(Da zui xia, Xi you ji, Tres reinos, Tie shan ...</td>\n",
       "    </tr>\n",
       "    <tr>\n",
       "      <th>11</th>\n",
       "      <td>Antonio Orlando</td>\n",
       "      <td>15 de marzo de 1960</td>\n",
       "      <td>None</td>\n",
       "      <td>None</td>\n",
       "      <td>(San bat liu ching, Din lo jing juen, Do ma da...</td>\n",
       "    </tr>\n",
       "    <tr>\n",
       "      <th>12</th>\n",
       "      <td>David Chiang</td>\n",
       "      <td>29 de junio de 1947</td>\n",
       "      <td>(1973 Ganador APFF Award, 1970 Ganador APFF Aw...</td>\n",
       "      <td>(2024 Ganador Hong Kong Film Award,)</td>\n",
       "      <td>(El mono borracho en el ojo del tigre, Zui xia...</td>\n",
       "    </tr>\n",
       "    <tr>\n",
       "      <th>13</th>\n",
       "      <td>Hua Yueh</td>\n",
       "      <td>13 de julio de 1942</td>\n",
       "      <td>None</td>\n",
       "      <td>None</td>\n",
       "      <td>(Tie jiao wa, Tie san jiao, Sheng long huo hu,...</td>\n",
       "    </tr>\n",
       "    <tr>\n",
       "      <th>14</th>\n",
       "      <td>Paul Chun</td>\n",
       "      <td>17 de mayo de 1945</td>\n",
       "      <td>(1996 Nominado Golden Bauhinia,)</td>\n",
       "      <td>(2016 Nominado Golden Horse Award,)</td>\n",
       "      <td>(Línea no regular, Povratak otpisanih, Maraton...</td>\n",
       "    </tr>\n",
       "    <tr>\n",
       "      <th>15</th>\n",
       "      <td>Siu-Tin Yuen</td>\n",
       "      <td>27 de noviembre de 1912</td>\n",
       "      <td>(1979 Nominado Golden Horse Award,)</td>\n",
       "      <td>()</td>\n",
       "      <td>(Balkan ekspres, Línea no regular, El halcón, ...</td>\n",
       "    </tr>\n",
       "    <tr>\n",
       "      <th>16</th>\n",
       "      <td>Nancy Yen</td>\n",
       "      <td>1949</td>\n",
       "      <td>None</td>\n",
       "      <td>None</td>\n",
       "      <td>(Balkanski spijun, Underground, Maratonci trce...</td>\n",
       "    </tr>\n",
       "    <tr>\n",
       "      <th>17</th>\n",
       "      <td>Pavle Vuisic</td>\n",
       "      <td>10 de julio de 1926</td>\n",
       "      <td>(1977 Ganador Golden Arena, 1958 Ganador Golde...</td>\n",
       "      <td>(1983 Ganador Slavica Award, 1977 Ganador Car ...</td>\n",
       "      <td>(Línea no regular, Uvod u drugi zivot, El polv...</td>\n",
       "    </tr>\n",
       "    <tr>\n",
       "      <th>18</th>\n",
       "      <td>Dragan Nikolic</td>\n",
       "      <td>20 de agosto de 1943</td>\n",
       "      <td>(1981 Ganador Golden Arena, 1968 Ganador Speci...</td>\n",
       "      <td>(2000 Ganador Pavle Vuicis Award, 1983 Ganador...</td>\n",
       "      <td>(Ispravi se, Delfina, Haloa - praznik kurvi, S...</td>\n",
       "    </tr>\n",
       "    <tr>\n",
       "      <th>19</th>\n",
       "      <td>Danilo 'Bata' Stojkovic</td>\n",
       "      <td>11 de agosto de 1934</td>\n",
       "      <td>(1984 Ganador Golden Arena,)</td>\n",
       "      <td>()</td>\n",
       "      <td>(Coco, Mi querido Tom Mix, Cadena perpetua, La...</td>\n",
       "    </tr>\n",
       "    <tr>\n",
       "      <th>20</th>\n",
       "      <td>Aleksandar Bercek</td>\n",
       "      <td>4 de septiembre de 1950</td>\n",
       "      <td>(1980 Ganador Golden Arena,)</td>\n",
       "      <td>(2013 Ganador Car Konstantin Award,)</td>\n",
       "      <td>(Mujeres engañadas, Angélica, La traición, El ...</td>\n",
       "    </tr>\n",
       "    <tr>\n",
       "      <th>21</th>\n",
       "      <td>Neda Arneric</td>\n",
       "      <td>15 de julio de 1953</td>\n",
       "      <td>(1988 Ganador Golden Arena, 1977 Ganador Silve...</td>\n",
       "      <td>(2018 Ganador Belgrade Victor,)</td>\n",
       "      <td>(El infierno de todos tan temido, El tres de c...</td>\n",
       "    </tr>\n",
       "    <tr>\n",
       "      <th>22</th>\n",
       "      <td>Ana Ofelia Murguía</td>\n",
       "      <td>8 de diciembre de 1933</td>\n",
       "      <td>(2011 Ganador Special Golden Ariel, 2001 Nomin...</td>\n",
       "      <td>(1991 Ganador Best Actress,)</td>\n",
       "      <td>(Amar te duele, Todos queremos a alguien, Pobr...</td>\n",
       "    </tr>\n",
       "    <tr>\n",
       "      <th>23</th>\n",
       "      <td>Sergio Jiménez</td>\n",
       "      <td>17 de diciembre de 1937</td>\n",
       "      <td>(1983 Nominado Silver Ariel, 1974 Nominado Sil...</td>\n",
       "      <td>(2000 Ganador TVyNovelas, 1989 Nominado TVyNov...</td>\n",
       "      <td>(Los Vengadores, EO, Essential Killing, 11 minut)</td>\n",
       "    </tr>\n",
       "    <tr>\n",
       "      <th>24</th>\n",
       "      <td>Jorge Humberto Robles</td>\n",
       "      <td>20 de agosto de 1943</td>\n",
       "      <td>(1980 Nominado Silver Ariel,)</td>\n",
       "      <td>()</td>\n",
       "      <td>(La barrera, Agnieszka 46, Dialóg 20-40-60, Lo...</td>\n",
       "    </tr>\n",
       "    <tr>\n",
       "      <th>25</th>\n",
       "      <td>Rebeca Aranoni</td>\n",
       "      <td>None</td>\n",
       "      <td>None</td>\n",
       "      <td>None</td>\n",
       "      <td>(Coronel Wolodyjowski, El diluvio, ... gdzieko...</td>\n",
       "    </tr>\n",
       "    <tr>\n",
       "      <th>26</th>\n",
       "      <td>Patricia Bernal</td>\n",
       "      <td>mayo de 1961</td>\n",
       "      <td>(2018 Nominado Silver Goddess,)</td>\n",
       "      <td>()</td>\n",
       "      <td>(Spóznieni przechodnie, Teatr Telewizji, Zuzan...</td>\n",
       "    </tr>\n",
       "    <tr>\n",
       "      <th>27</th>\n",
       "      <td>Jerzy Skolimowski</td>\n",
       "      <td>5 de mayo de 1938</td>\n",
       "      <td>(1967 Ganador Golden Berlin Bear, 1967 Ganador...</td>\n",
       "      <td>(2022 Ganador Marshal of the Kujawsko-Pomorski...</td>\n",
       "      <td>(Lalka, Do widzenia, do jutra..., Przeprowadzk...</td>\n",
       "    </tr>\n",
       "    <tr>\n",
       "      <th>28</th>\n",
       "      <td>Joanna Szczerbic</td>\n",
       "      <td>13 de junio de 1941</td>\n",
       "      <td>None</td>\n",
       "      <td>None</td>\n",
       "      <td>(Puño desnudo, The Student Body, Mork y Mindy,...</td>\n",
       "    </tr>\n",
       "    <tr>\n",
       "      <th>29</th>\n",
       "      <td>Tadeusz Lomnicki</td>\n",
       "      <td>18 de julio de 1927</td>\n",
       "      <td>(1969 Ganador Golden Prize,)</td>\n",
       "      <td>(2009 Ganador Film Award,)</td>\n",
       "      <td>(Daniel Boone, Christmas Wishes and Mistletoe ...</td>\n",
       "    </tr>\n",
       "    <tr>\n",
       "      <th>30</th>\n",
       "      <td>Adam Hanuszkiewicz</td>\n",
       "      <td>16 de junio de 1924</td>\n",
       "      <td>None</td>\n",
       "      <td>None</td>\n",
       "      <td>(Batang North Harbor, Twin Fists for the Black...</td>\n",
       "    </tr>\n",
       "    <tr>\n",
       "      <th>31</th>\n",
       "      <td>Bogumil Kobiela</td>\n",
       "      <td>31 de mayo de 1931</td>\n",
       "      <td>None</td>\n",
       "      <td>None</td>\n",
       "      <td>(La colina de la hamburguesa, Apocalypse Now, ...</td>\n",
       "    </tr>\n",
       "    <tr>\n",
       "      <th>32</th>\n",
       "      <td>Jillian Kesner</td>\n",
       "      <td>9 de agosto de 1949</td>\n",
       "      <td>None</td>\n",
       "      <td>None</td>\n",
       "      <td>(Apocalypse Now, Up from the Depths, Puño desn...</td>\n",
       "    </tr>\n",
       "    <tr>\n",
       "      <th>33</th>\n",
       "      <td>Darby Hinton</td>\n",
       "      <td>19 de agosto de 1957</td>\n",
       "      <td>(2019 Ganador Best Faith Based Film,)</td>\n",
       "      <td>(2019 Ganador Wild Bunch Film Festival Award,)</td>\n",
       "      <td>(Antonella, Rebelde Way, La extraña dama, Cele...</td>\n",
       "    </tr>\n",
       "    <tr>\n",
       "      <th>34</th>\n",
       "      <td>Rey Malonzo</td>\n",
       "      <td>None</td>\n",
       "      <td>None</td>\n",
       "      <td>None</td>\n",
       "      <td>(Los de la mesa 10, Amorina, Ese que no la qui...</td>\n",
       "    </tr>\n",
       "    <tr>\n",
       "      <th>35</th>\n",
       "      <td>Ken Metcalfe</td>\n",
       "      <td>None</td>\n",
       "      <td>None</td>\n",
       "      <td>None</td>\n",
       "      <td>(La canción de Buenos Aires, Un tranvía llamad...</td>\n",
       "    </tr>\n",
       "    <tr>\n",
       "      <th>36</th>\n",
       "      <td>Pete Cooper</td>\n",
       "      <td>None</td>\n",
       "      <td>None</td>\n",
       "      <td>None</td>\n",
       "      <td>(Presos del olvido, Naranjo en flor, Solamente...</td>\n",
       "    </tr>\n",
       "    <tr>\n",
       "      <th>37</th>\n",
       "      <td>Hilda Bernard</td>\n",
       "      <td>29 de octubre de 1920</td>\n",
       "      <td>(2011 Nominado Premio Martín Fierro, 2009 Nomi...</td>\n",
       "      <td>()</td>\n",
       "      <td>(Las vías del amor, Llámenme Mike, Santo contr...</td>\n",
       "    </tr>\n",
       "    <tr>\n",
       "      <th>38</th>\n",
       "      <td>María Aurelia Bisutti</td>\n",
       "      <td>20 de junio de 1930</td>\n",
       "      <td>None</td>\n",
       "      <td>None</td>\n",
       "      <td>(El hombre del tiempo, Bunker Z (Zulu), Erin B...</td>\n",
       "    </tr>\n",
       "    <tr>\n",
       "      <th>39</th>\n",
       "      <td>Tom Castronuova</td>\n",
       "      <td>None</td>\n",
       "      <td>None</td>\n",
       "      <td>None</td>\n",
       "      <td>(Solo ante el peligro, Hoguera de odios, Fe, e...</td>\n",
       "    </tr>\n",
       "    <tr>\n",
       "      <th>40</th>\n",
       "      <td>Elena Cruz</td>\n",
       "      <td>27 de noviembre de 1926</td>\n",
       "      <td>None</td>\n",
       "      <td>None</td>\n",
       "      <td>(El Topo, Sin salida, Nos veremos en el cielo,...</td>\n",
       "    </tr>\n",
       "    <tr>\n",
       "      <th>41</th>\n",
       "      <td>María José Demare</td>\n",
       "      <td>12 de abril de 1949</td>\n",
       "      <td>(2002 Nominado Silver Condor,)</td>\n",
       "      <td>()</td>\n",
       "      <td>(Isla de los muertos, D.F./Distrito Federal, D...</td>\n",
       "    </tr>\n",
       "  </tbody>\n",
       "</table>\n",
       "</div>"
      ],
      "text/plain": [
       "                     Nombre               Nacimiento  \\\n",
       "0                 Ryong Keo                     1940   \n",
       "1          Irina Shevchenko                     None   \n",
       "2                  Bruce Le  27 de noviembre de 1940   \n",
       "3                Il-do Jang                     None   \n",
       "4                Bruce Thai                     None   \n",
       "5                José Gomes   8 de diciembre de 1938   \n",
       "6         Virgílio Massinge                     None   \n",
       "7           Michele Placido       19 de mayo de 1946   \n",
       "8          Ida Di Benedetto       3 de junio de 1940   \n",
       "9          Antonella Murgia      26 de junio de 1942   \n",
       "10                Imma Piro   8 de diciembre de 1956   \n",
       "11          Antonio Orlando      15 de marzo de 1960   \n",
       "12             David Chiang      29 de junio de 1947   \n",
       "13                 Hua Yueh      13 de julio de 1942   \n",
       "14                Paul Chun       17 de mayo de 1945   \n",
       "15             Siu-Tin Yuen  27 de noviembre de 1912   \n",
       "16                Nancy Yen                     1949   \n",
       "17             Pavle Vuisic      10 de julio de 1926   \n",
       "18           Dragan Nikolic     20 de agosto de 1943   \n",
       "19  Danilo 'Bata' Stojkovic     11 de agosto de 1934   \n",
       "20        Aleksandar Bercek  4 de septiembre de 1950   \n",
       "21             Neda Arneric      15 de julio de 1953   \n",
       "22       Ana Ofelia Murguía   8 de diciembre de 1933   \n",
       "23           Sergio Jiménez  17 de diciembre de 1937   \n",
       "24    Jorge Humberto Robles     20 de agosto de 1943   \n",
       "25           Rebeca Aranoni                     None   \n",
       "26          Patricia Bernal             mayo de 1961   \n",
       "27        Jerzy Skolimowski        5 de mayo de 1938   \n",
       "28         Joanna Szczerbic      13 de junio de 1941   \n",
       "29         Tadeusz Lomnicki      18 de julio de 1927   \n",
       "30       Adam Hanuszkiewicz      16 de junio de 1924   \n",
       "31          Bogumil Kobiela       31 de mayo de 1931   \n",
       "32           Jillian Kesner      9 de agosto de 1949   \n",
       "33             Darby Hinton     19 de agosto de 1957   \n",
       "34              Rey Malonzo                     None   \n",
       "35             Ken Metcalfe                     None   \n",
       "36              Pete Cooper                     None   \n",
       "37            Hilda Bernard    29 de octubre de 1920   \n",
       "38    María Aurelia Bisutti      20 de junio de 1930   \n",
       "39          Tom Castronuova                     None   \n",
       "40               Elena Cruz  27 de noviembre de 1926   \n",
       "41        María José Demare      12 de abril de 1949   \n",
       "\n",
       "                                              Premios  \\\n",
       "0                                                None   \n",
       "1                                                None   \n",
       "2                  (1972 Ganador Special Jury Award,)   \n",
       "3                                                None   \n",
       "4                                                None   \n",
       "5                                                None   \n",
       "6                                                None   \n",
       "7               (1999 Ganador Actor's Mission Award,)   \n",
       "8          (1985 Nominado David, 1981 Nominado David)   \n",
       "9                                                None   \n",
       "10                                               None   \n",
       "11                                               None   \n",
       "12  (1973 Ganador APFF Award, 1970 Ganador APFF Aw...   \n",
       "13                                               None   \n",
       "14                   (1996 Nominado Golden Bauhinia,)   \n",
       "15                (1979 Nominado Golden Horse Award,)   \n",
       "16                                               None   \n",
       "17  (1977 Ganador Golden Arena, 1958 Ganador Golde...   \n",
       "18  (1981 Ganador Golden Arena, 1968 Ganador Speci...   \n",
       "19                       (1984 Ganador Golden Arena,)   \n",
       "20                       (1980 Ganador Golden Arena,)   \n",
       "21  (1988 Ganador Golden Arena, 1977 Ganador Silve...   \n",
       "22  (2011 Ganador Special Golden Ariel, 2001 Nomin...   \n",
       "23  (1983 Nominado Silver Ariel, 1974 Nominado Sil...   \n",
       "24                      (1980 Nominado Silver Ariel,)   \n",
       "25                                               None   \n",
       "26                    (2018 Nominado Silver Goddess,)   \n",
       "27  (1967 Ganador Golden Berlin Bear, 1967 Ganador...   \n",
       "28                                               None   \n",
       "29                       (1969 Ganador Golden Prize,)   \n",
       "30                                               None   \n",
       "31                                               None   \n",
       "32                                               None   \n",
       "33              (2019 Ganador Best Faith Based Film,)   \n",
       "34                                               None   \n",
       "35                                               None   \n",
       "36                                               None   \n",
       "37  (2011 Nominado Premio Martín Fierro, 2009 Nomi...   \n",
       "38                                               None   \n",
       "39                                               None   \n",
       "40                                               None   \n",
       "41                     (2002 Nominado Silver Condor,)   \n",
       "\n",
       "                                         Nominaciones  \\\n",
       "0                                                None   \n",
       "1                                                None   \n",
       "2                         (1967 Nominado Gold Medal,)   \n",
       "3                                                None   \n",
       "4                                                None   \n",
       "5                                                None   \n",
       "6                                                None   \n",
       "7                               (1989 Ganador Bambi,)   \n",
       "8             (1988 Ganador François Truffaut Award,)   \n",
       "9                                                None   \n",
       "10                                               None   \n",
       "11                                               None   \n",
       "12               (2024 Ganador Hong Kong Film Award,)   \n",
       "13                                               None   \n",
       "14                (2016 Nominado Golden Horse Award,)   \n",
       "15                                                 ()   \n",
       "16                                               None   \n",
       "17  (1983 Ganador Slavica Award, 1977 Ganador Car ...   \n",
       "18  (2000 Ganador Pavle Vuicis Award, 1983 Ganador...   \n",
       "19                                                 ()   \n",
       "20               (2013 Ganador Car Konstantin Award,)   \n",
       "21                    (2018 Ganador Belgrade Victor,)   \n",
       "22                       (1991 Ganador Best Actress,)   \n",
       "23  (2000 Ganador TVyNovelas, 1989 Nominado TVyNov...   \n",
       "24                                                 ()   \n",
       "25                                               None   \n",
       "26                                                 ()   \n",
       "27  (2022 Ganador Marshal of the Kujawsko-Pomorski...   \n",
       "28                                               None   \n",
       "29                         (2009 Ganador Film Award,)   \n",
       "30                                               None   \n",
       "31                                               None   \n",
       "32                                               None   \n",
       "33     (2019 Ganador Wild Bunch Film Festival Award,)   \n",
       "34                                               None   \n",
       "35                                               None   \n",
       "36                                               None   \n",
       "37                                                 ()   \n",
       "38                                               None   \n",
       "39                                               None   \n",
       "40                                               None   \n",
       "41                                                 ()   \n",
       "\n",
       "                                         Conocido por  \n",
       "0   (La saga de Bruce Lee, Sahyeong samgeol, Heukp...  \n",
       "1   (Furia oriental, El furor del dragón, Operació...  \n",
       "2   (La saga de Bruce Lee, Failan, The Blazing Nin...  \n",
       "3   (La hija de D'Artagnan, One Foot in the Grave,...  \n",
       "4   (La piovra, Romanzo criminale, La sombra de Ca...  \n",
       "5   (Fontamara, Immacolata e Concetta, l'altra gel...  \n",
       "6   (Cristina, adolescente pervertida, Perry Grant...  \n",
       "7   (El capo de Corleone, Signora Volpe, Vieni, vi...  \n",
       "8   (Saló o los 120 días de Sodoma, La piovra, Der...  \n",
       "9   (Ci Ma, Bao chou, Los 5 Maestros de Shaolin, B...  \n",
       "10  (Da zui xia, Xi you ji, Tres reinos, Tie shan ...  \n",
       "11  (San bat liu ching, Din lo jing juen, Do ma da...  \n",
       "12  (El mono borracho en el ojo del tigre, Zui xia...  \n",
       "13  (Tie jiao wa, Tie san jiao, Sheng long huo hu,...  \n",
       "14  (Línea no regular, Povratak otpisanih, Maraton...  \n",
       "15  (Balkan ekspres, Línea no regular, El halcón, ...  \n",
       "16  (Balkanski spijun, Underground, Maratonci trce...  \n",
       "17  (Línea no regular, Uvod u drugi zivot, El polv...  \n",
       "18  (Ispravi se, Delfina, Haloa - praznik kurvi, S...  \n",
       "19  (Coco, Mi querido Tom Mix, Cadena perpetua, La...  \n",
       "20  (Mujeres engañadas, Angélica, La traición, El ...  \n",
       "21  (El infierno de todos tan temido, El tres de c...  \n",
       "22  (Amar te duele, Todos queremos a alguien, Pobr...  \n",
       "23  (Los Vengadores, EO, Essential Killing, 11 minut)  \n",
       "24  (La barrera, Agnieszka 46, Dialóg 20-40-60, Lo...  \n",
       "25  (Coronel Wolodyjowski, El diluvio, ... gdzieko...  \n",
       "26  (Spóznieni przechodnie, Teatr Telewizji, Zuzan...  \n",
       "27  (Lalka, Do widzenia, do jutra..., Przeprowadzk...  \n",
       "28  (Puño desnudo, The Student Body, Mork y Mindy,...  \n",
       "29  (Daniel Boone, Christmas Wishes and Mistletoe ...  \n",
       "30  (Batang North Harbor, Twin Fists for the Black...  \n",
       "31  (La colina de la hamburguesa, Apocalypse Now, ...  \n",
       "32  (Apocalypse Now, Up from the Depths, Puño desn...  \n",
       "33  (Antonella, Rebelde Way, La extraña dama, Cele...  \n",
       "34  (Los de la mesa 10, Amorina, Ese que no la qui...  \n",
       "35  (La canción de Buenos Aires, Un tranvía llamad...  \n",
       "36  (Presos del olvido, Naranjo en flor, Solamente...  \n",
       "37  (Las vías del amor, Llámenme Mike, Santo contr...  \n",
       "38  (El hombre del tiempo, Bunker Z (Zulu), Erin B...  \n",
       "39  (Solo ante el peligro, Hoguera de odios, Fe, e...  \n",
       "40  (El Topo, Sin salida, Nos veremos en el cielo,...  \n",
       "41  (Isla de los muertos, D.F./Distrito Federal, D...  "
      ]
     },
     "execution_count": 16,
     "metadata": {},
     "output_type": "execute_result"
    }
   ],
   "source": [
    "df_elenco = pd.DataFrame(drama_elenco)\n",
    "df_elenco.columns = ['Nombre', 'Nacimiento', 'Premios', 'Nominaciones', 'Conocido por']\n",
    "df_elenco"
   ]
  },
  {
   "cell_type": "code",
   "execution_count": 17,
   "metadata": {},
   "outputs": [],
   "source": [
    "df_elenco.to_csv(\"Drama_elenco.csv\")"
   ]
  }
 ],
 "metadata": {
  "kernelspec": {
   "display_name": "Python 3",
   "language": "python",
   "name": "python3"
  },
  "language_info": {
   "codemirror_mode": {
    "name": "ipython",
    "version": 3
   },
   "file_extension": ".py",
   "mimetype": "text/x-python",
   "name": "python",
   "nbconvert_exporter": "python",
   "pygments_lexer": "ipython3",
   "version": "3.12.4"
  }
 },
 "nbformat": 4,
 "nbformat_minor": 2
}
