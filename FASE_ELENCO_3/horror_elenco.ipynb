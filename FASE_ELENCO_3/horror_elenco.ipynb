{
 "cells": [
  {
   "cell_type": "code",
   "execution_count": 1,
   "metadata": {},
   "outputs": [],
   "source": [
    "import pandas as pd\n",
    "from selenium import webdriver  # Selenium es una herramienta para automatizar la interacción con navegadores web.\n",
    "from webdriver_manager.chrome import ChromeDriverManager  # ChromeDriverManager gestiona la instalación del controlador de Chrome.\n",
    "from selenium.webdriver.common.keys import Keys  # Keys es útil para simular eventos de teclado en Selenium.\n",
    "from selenium.webdriver.support.ui import Select  # Select se utiliza para interactuar con elementos <select> en páginas web.\n",
    "from tqdm import tqdm\n",
    "from time import sleep"
   ]
  },
  {
   "cell_type": "code",
   "execution_count": 2,
   "metadata": {},
   "outputs": [
    {
     "name": "stdout",
     "output_type": "stream",
     "text": [
      "     Unnamed: 0    idOwner                        Title   Type  Year   Genre\n",
      "0             0  tt0074994              Tempyo no iraka  Movie  1980  Horror\n",
      "1             1  tt0078113                     Primitif  Movie  1980  Horror\n",
      "2             2  tt0077567           The Sleep of Death  Movie  1980  Horror\n",
      "3             3  tt0078791  Aquella casa en las afueras  Movie  1980  Horror\n",
      "4             4  tt0078806                    The Attic  Movie  1980  Horror\n",
      "..          ...        ...                          ...    ...   ...     ...\n",
      "104         104  tt0109723       Embrace of the Vampire  Movie  1995  Horror\n",
      "105         105  tt0110604                  Témoin muet  Movie  1995  Horror\n",
      "106         106  tt0111574       The Upstairs Neighbour  Movie  1995  Horror\n",
      "107         107  tt0111464                     Toughguy  Movie  1995  Horror\n",
      "108         108  tt0111244                    Sorceress  Movie  1995  Horror\n",
      "\n",
      "[109 rows x 6 columns]\n",
      "['tt0074994', 'tt0078113', 'tt0077567', 'tt0078791', 'tt0078806', 'tt0078936', 'tt0078749', 'tt0078880', 'tt0078935', 'tt0073604', 'tt0073706', 'tt0078871', 'tt0078751', 'tt0080362', 'tt0080440', 'tt0080607', 'tt0073537', 'tt0075035', 'tt0080438', 'tt0080787', 'tt0082537', 'tt0082334', 'tt0082025', 'tt0081432', 'tt0083146', 'tt0082914', 'tt0082379', 'tt0083973', 'tt0082841', 'tt0083361', 'tt0084678', 'tt0085233', 'tt0073265', 'tt0081366', 'tt0084107', 'tt0085364', 'tt0085628', 'tt0085442', 'tt0086176', 'tt0086563', 'tt0068958', 'tt0080583', 'tt0086288', 'tt0086849', 'tt0087909', 'tt0087798', 'tt0089395', 'tt0089850', 'tt0088092', 'tt0089993', 'tt0088745', 'tt0090057', 'tt0090364', 'tt0085253', 'tt0087319', 'tt0089238', 'tt0088959', 'tt0090271', 'tt0090644', 'tt0089561', 'tt0088828', 'tt0093090', 'tt0092863', 'tt0092853', 'tt0092254', 'tt0089452', 'tt0091192', 'tt0094720', 'tt0094271', 'tt0094693', 'tt0093523', 'tt0093211', 'tt0094997', 'tt0096871', 'tt0096830', 'tt0095878', 'tt0096954', 'tt0097726', 'tt0098136', 'tt0099180', 'tt0078006', 'tt0100430', 'tt0100483', 'tt0100688', 'tt0099059', 'tt0099722', 'tt0099562', 'tt0100108', 'tt0099757', 'tt0101368', 'tt0101652', 'tt0101493', 'tt0101628', 'tt0102222', 'tt0103743', 'tt0104053', 'tt0105883', 'tt0105785', 'tt0100881', 'tt0106402', 'tt0106983', 'tt0106790', 'tt0109546', 'tt0109415', 'tt0109723', 'tt0110604', 'tt0111574', 'tt0111464', 'tt0111244']\n"
     ]
    }
   ],
   "source": [
    "df_horror = pd.read_csv(\"Horror.csv\")\n",
    "\n",
    "print(df_horror)\n",
    "\n",
    "idOwner = []\n",
    "\n",
    "for i in df_horror[\"idOwner\"]:\n",
    "    idOwner.append(i)\n",
    "    \n",
    "\n",
    "print(idOwner)"
   ]
  },
  {
   "cell_type": "code",
   "execution_count": 3,
   "metadata": {},
   "outputs": [
    {
     "data": {
      "text/plain": [
       "['tt0074994', 'tt0078113', 'tt0077567']"
      ]
     },
     "execution_count": 3,
     "metadata": {},
     "output_type": "execute_result"
    }
   ],
   "source": [
    "lista_id_peliculas_cortas = idOwner[:3]\n",
    "lista_id_peliculas_cortas"
   ]
  },
  {
   "cell_type": "code",
   "execution_count": 4,
   "metadata": {},
   "outputs": [
    {
     "name": "stderr",
     "output_type": "stream",
     "text": [
      "100%|██████████| 3/3 [00:11<00:00,  3.87s/it]\n"
     ]
    }
   ],
   "source": [
    "driver = webdriver.Chrome()\n",
    "\n",
    "driver.get('https://www.imdb.com/')\n",
    "\n",
    "driver.maximize_window()\n",
    "\n",
    "sleep (3)\n",
    "\n",
    "list_actors_by_movie = []\n",
    "\n",
    "list_all_actors = []\n",
    "\n",
    "for peli in tqdm(lista_id_peliculas_cortas):\n",
    "    \n",
    "    driver.find_element('css selector', '#suggestion-search').send_keys(peli, Keys.ENTER)\n",
    "    for i in range(1,10): # porque estamos cogiendo los 10 primeros actores\n",
    "        try:\n",
    "            actor = driver.find_element('css selector', f'#__next > main > div > section.ipc-page-background.ipc-page-background--base.sc-c41b9732-0.NeSef > div > section > div > div.sc-978e9339-1.ihWZgK.ipc-page-grid__item.ipc-page-grid__item--span-2 > section.ipc-page-section.ipc-page-section--base.sc-bfec09a1-0.jgUBLM.title-cast.title-cast--movie.celwidget > div.ipc-shoveler.ipc-shoveler--base.ipc-shoveler--page0.title-cast__grid > div.ipc-sub-grid.ipc-sub-grid--page-span-2.ipc-sub-grid--wraps-at-above-l.ipc-shoveler__grid > div:nth-child({i}) > div.sc-bfec09a1-7.gWwKlt > a').text\n",
    "            list_actors_by_movie.append({'nombre': actor, 'id_pelicula': peli})\n",
    "            # Para no repetir los actores y sacar una lista de actores:\n",
    "            \n",
    "            if(actor not in list_all_actors):\n",
    "                list_all_actors.append(actor)\n",
    "            \n",
    "        except:\n",
    "            print('No se encontraron actores')\n",
    "\n",
    "\n",
    "    "
   ]
  },
  {
   "cell_type": "code",
   "execution_count": 5,
   "metadata": {},
   "outputs": [
    {
     "data": {
      "text/plain": [
       "[{'nombre': 'Katsuo Nakamura', 'id_pelicula': 'tt0074994'},\n",
       " {'nombre': 'Masaaki Daimon', 'id_pelicula': 'tt0074994'},\n",
       " {'nombre': 'Mitsuo Hamada', 'id_pelicula': 'tt0074994'},\n",
       " {'nombre': 'Daigo Kusano', 'id_pelicula': 'tt0074994'},\n",
       " {'nombre': 'Mieko Takamine', 'id_pelicula': 'tt0074994'},\n",
       " {'nombre': 'Mariko Fuji', 'id_pelicula': 'tt0074994'},\n",
       " {'nombre': 'Hisashi Igawa', 'id_pelicula': 'tt0074994'},\n",
       " {'nombre': 'Yôichi Numata', 'id_pelicula': 'tt0074994'},\n",
       " {'nombre': 'Takashi Shimura', 'id_pelicula': 'tt0074994'},\n",
       " {'nombre': 'Enny Haryono', 'id_pelicula': 'tt0078113'},\n",
       " {'nombre': 'Barry Prima', 'id_pelicula': 'tt0078113'},\n",
       " {'nombre': 'Johann Mardjono', 'id_pelicula': 'tt0078113'},\n",
       " {'nombre': 'Rukman Herman', 'id_pelicula': 'tt0078113'},\n",
       " {'nombre': 'Jafarpree York', 'id_pelicula': 'tt0078113'},\n",
       " {'nombre': 'Novita Rully', 'id_pelicula': 'tt0078113'},\n",
       " {'nombre': 'Youstine Rais', 'id_pelicula': 'tt0078113'},\n",
       " {'nombre': 'Michael Kelly', 'id_pelicula': 'tt0078113'},\n",
       " {'nombre': 'Rengga Takengon', 'id_pelicula': 'tt0078113'},\n",
       " {'nombre': 'Per Oscarsson', 'id_pelicula': 'tt0077567'},\n",
       " {'nombre': 'Patrick Magee', 'id_pelicula': 'tt0077567'},\n",
       " {'nombre': 'Marilù Tolo', 'id_pelicula': 'tt0077567'},\n",
       " {'nombre': 'Brendan Price', 'id_pelicula': 'tt0077567'},\n",
       " {'nombre': 'Niall Toibin', 'id_pelicula': 'tt0077567'},\n",
       " {'nombre': 'Curd Jürgens', 'id_pelicula': 'tt0077567'},\n",
       " {'nombre': 'Kay Maclaren', 'id_pelicula': 'tt0077567'},\n",
       " {'nombre': 'Barry Cassin', 'id_pelicula': 'tt0077567'},\n",
       " {'nombre': 'Christopher Casson', 'id_pelicula': 'tt0077567'}]"
      ]
     },
     "execution_count": 5,
     "metadata": {},
     "output_type": "execute_result"
    }
   ],
   "source": [
    "list_actors_by_movie"
   ]
  },
  {
   "cell_type": "code",
   "execution_count": 6,
   "metadata": {},
   "outputs": [
    {
     "data": {
      "text/plain": [
       "['Katsuo Nakamura',\n",
       " 'Masaaki Daimon',\n",
       " 'Mitsuo Hamada',\n",
       " 'Daigo Kusano',\n",
       " 'Mieko Takamine',\n",
       " 'Mariko Fuji',\n",
       " 'Hisashi Igawa',\n",
       " 'Yôichi Numata',\n",
       " 'Takashi Shimura',\n",
       " 'Enny Haryono',\n",
       " 'Barry Prima',\n",
       " 'Johann Mardjono',\n",
       " 'Rukman Herman',\n",
       " 'Jafarpree York',\n",
       " 'Novita Rully',\n",
       " 'Youstine Rais',\n",
       " 'Michael Kelly',\n",
       " 'Rengga Takengon',\n",
       " 'Per Oscarsson',\n",
       " 'Patrick Magee',\n",
       " 'Marilù Tolo',\n",
       " 'Brendan Price',\n",
       " 'Niall Toibin',\n",
       " 'Curd Jürgens',\n",
       " 'Kay Maclaren',\n",
       " 'Barry Cassin',\n",
       " 'Christopher Casson']"
      ]
     },
     "execution_count": 6,
     "metadata": {},
     "output_type": "execute_result"
    }
   ],
   "source": [
    "list_all_actors"
   ]
  },
  {
   "cell_type": "code",
   "execution_count": 32,
   "metadata": {},
   "outputs": [
    {
     "name": "stderr",
     "output_type": "stream",
     "text": [
      "  0%|          | 0/3 [00:00<?, ?it/s]"
     ]
    },
    {
     "name": "stdout",
     "output_type": "stream",
     "text": [
      "Entramos en los premios\n"
     ]
    },
    {
     "name": "stderr",
     "output_type": "stream",
     "text": [
      " 33%|███▎      | 1/3 [00:12<00:25, 12.92s/it]"
     ]
    },
    {
     "name": "stdout",
     "output_type": "stream",
     "text": [
      "Este actor no tiene premios\n"
     ]
    },
    {
     "name": "stderr",
     "output_type": "stream",
     "text": [
      " 67%|██████▋   | 2/3 [00:21<00:10, 10.09s/it]"
     ]
    },
    {
     "name": "stdout",
     "output_type": "stream",
     "text": [
      "Este actor no tiene premios\n"
     ]
    },
    {
     "name": "stderr",
     "output_type": "stream",
     "text": [
      "100%|██████████| 3/3 [00:28<00:00,  9.58s/it]\n",
      "  0%|          | 0/3 [00:00<?, ?it/s]"
     ]
    },
    {
     "name": "stdout",
     "output_type": "stream",
     "text": [
      "Entramos en los premios\n"
     ]
    },
    {
     "name": "stderr",
     "output_type": "stream",
     "text": [
      " 33%|███▎      | 1/3 [00:11<00:23, 11.75s/it]"
     ]
    },
    {
     "name": "stdout",
     "output_type": "stream",
     "text": [
      "Este actor no tiene premios\n"
     ]
    },
    {
     "name": "stderr",
     "output_type": "stream",
     "text": [
      " 67%|██████▋   | 2/3 [00:21<00:10, 10.76s/it]"
     ]
    },
    {
     "name": "stdout",
     "output_type": "stream",
     "text": [
      "Este actor no tiene premios\n"
     ]
    },
    {
     "name": "stderr",
     "output_type": "stream",
     "text": [
      "100%|██████████| 3/3 [00:29<00:00,  9.79s/it]\n",
      "  0%|          | 0/3 [00:00<?, ?it/s]"
     ]
    },
    {
     "name": "stdout",
     "output_type": "stream",
     "text": [
      "Entramos en los premios\n"
     ]
    },
    {
     "name": "stderr",
     "output_type": "stream",
     "text": [
      " 33%|███▎      | 1/3 [00:11<00:22, 11.42s/it]"
     ]
    },
    {
     "name": "stdout",
     "output_type": "stream",
     "text": [
      "Este actor no tiene premios\n"
     ]
    },
    {
     "name": "stderr",
     "output_type": "stream",
     "text": [
      " 67%|██████▋   | 2/3 [00:19<00:09,  9.71s/it]"
     ]
    },
    {
     "name": "stdout",
     "output_type": "stream",
     "text": [
      "Este actor no tiene premios\n"
     ]
    },
    {
     "name": "stderr",
     "output_type": "stream",
     "text": [
      "100%|██████████| 3/3 [00:27<00:00,  9.26s/it]\n"
     ]
    }
   ],
   "source": [
    "driver = webdriver.Chrome()\n",
    "\n",
    "driver.get('https://www.imdb.com/')\n",
    "\n",
    "driver.maximize_window()\n",
    "\n",
    "sleep (5)\n",
    "\n",
    "#Cookies\n",
    "driver.find_element('css selector', '#__next > div > div > div.sc-jrcTuL.bPmWiM > div > button.icb-btn.sc-bcXHqe.sc-dkrFOg.sc-iBYQkv.dcvrLS.ddtuHe.dRCGjd').click()\n",
    "\n",
    "sleep(2)\n",
    "\n",
    "nacimiento = []\n",
    "premios_actor = []\n",
    "conocido = []\n",
    "pelis = []\n",
    "\n",
    "for peli in lista_id_peliculas_cortas:\n",
    "    for actor in tqdm(list_all_actors[:3]):\n",
    "        conocido_por = []\n",
    "        ganados = []\n",
    "        nominaciones = []\n",
    "        peliculas = []\n",
    "        # buscamos al actor\n",
    "        driver.find_element('css selector', '#suggestion-search').send_keys(actor, Keys.ENTER)\n",
    "        \n",
    "        # clickamos en la primera coincidencia\n",
    "        driver.find_element('css selector', '#__next > main > div.ipc-page-content-container.ipc-page-content-container--full.sc-e51f9d6d-0.Fmvqg > div.ipc-page-content-container.ipc-page-content-container--center > section > div > div.ipc-page-grid__item.ipc-page-grid__item--span-2 > section:nth-child(4) > div.sc-e8e4ce7-2.iXsuvN > ul > li:nth-child(1) > div.ipc-metadata-list-summary-item__c > div > a').click()\n",
    "        \n",
    "        # añadimos fecha nacimiento_actor\n",
    "        \n",
    "        try:\n",
    "            nacimiento.append(driver.find_element('xpath', '//*[@id=\"__next\"]/main/div/section[1]/section/div[3]/section/section/div[3]/div/div[2]/section/aside/div/span[2]').text)\n",
    "        \n",
    "        except:\n",
    "            nacimiento.append(None)  \n",
    "        \n",
    "        try: \n",
    "            for elemento in range (1,5):\n",
    "                \n",
    "                conocido_por.append(driver.find_element('css selector', f'#__next > main > div > section.ipc-page-background.ipc-page-background--base.sc-c41b9732-0.NeSef > div > section > div > div.sc-978e9339-1.ihWZgK.ipc-page-grid__item.ipc-page-grid__item--span-2 > div.celwidget > section:nth-child(1) > div.sc-1c5b3162-0.fFgRFS > div > div.ipc-sub-grid.ipc-sub-grid--page-span-2.ipc-sub-grid--wraps-at-above-l.ipc-shoveler__grid > div:nth-child({elemento}) > div.ipc-primary-image-list-card__content > div.ipc-primary-image-list-card__content-top > a').text)\n",
    "\n",
    "            conocido.append(tuple(conocido_por))\n",
    "        except:\n",
    "            print(f\"El actor {actor} no es conocido por nada más  \")\n",
    "        \n",
    "        # añadimos lista 10 peliculas en las que ha participado\n",
    "        \n",
    "        try: \n",
    "            \n",
    "            for peli in range(1,10):\n",
    "                \n",
    "                try:\n",
    "            \n",
    "                    peliculas.append(driver.find_element('xpath', f'#accordion-item-actor-previous-projects > div > ul > li:nth-child({peli}) > div.ipc-metadata-list-summary-item__c > div.ipc-metadata-list-summary-item__tc > a').text)\n",
    "            \n",
    "                    pelis.append(tuple(peliculas))\n",
    "            \n",
    "                except: \n",
    "                    try:\n",
    "                        peliculas.append(driver.find_element('xpath', '//*[@id=\"accordion-item-actor-previous-projects\"]/div/ul/li[1]/div[2]/div[1]/a').text)\n",
    "                                                            #//*[@id=\"accordion-item-actor-previous-projects\"]/div/ul/li[2]/div[2]/div[1]/a\n",
    "                    \n",
    "                    except:\n",
    "                        peliculas.append(None)\n",
    "\n",
    "        except:\n",
    "            print(f\"el actor {actor} no tiene más peliculas\")\n",
    "            \n",
    "        # accedemos a premios\n",
    "        \n",
    "        try:\n",
    "            driver.find_element('css selector', '#__next > main > div > section.ipc-page-background.ipc-page-background--base.sc-c41b9732-0.NeSef > div > section > div > div.sc-978e9339-1.ihWZgK.ipc-page-grid__item.ipc-page-grid__item--span-2 > section:nth-child(3) > div > ul > li > div').click()\n",
    "        \n",
    "        except:\n",
    "            try: # hago el try dos veces porque en el primer intento consigo que el navegador se mueva al elemento y en el except es cuando consigo clickearlo\n",
    "                sleep(3)\n",
    "                driver.find_element('css selector', '#__next > main > div > section.ipc-page-background.ipc-page-background--base.sc-c41b9732-0.NeSef > div > section > div > div.sc-978e9339-1.ihWZgK.ipc-page-grid__item.ipc-page-grid__item--span-2 > section:nth-child(3) > div > ul > li > div').click()\n",
    "                \n",
    "                print('Entramos en los premios')\n",
    "            except:\n",
    "                print(\"Este actor no tiene premios\")\n",
    "\n",
    "        for premio in range (1,11):\n",
    "            try: \n",
    "                # premios ganados\n",
    "                ganados.append(driver.find_element('css selector', f'#__next > main > div > section > div > section > div > div.sc-978e9339-1.ihWZgK.ipc-page-grid__item.ipc-page-grid__item--span-2 > section:nth-child(3) > div.sc-f65f65be-0.bBlII > ul > li:nth-child({premio}) > div.ipc-metadata-list-summary-item__c > div > a').text)\n",
    "                # nominaciones                                                    \n",
    "                nominaciones.append(driver.find_element('css selector', f'#__next > main > div > section > div > section > div > div.sc-978e9339-1.ihWZgK.ipc-page-grid__item.ipc-page-grid__item--span-2 > section:nth-child(4) > div.sc-f65f65be-0.bBlII > ul > li:nth-child({premio}) > div.ipc-metadata-list-summary-item__c > div > a').text)\n",
    "\n",
    "            except:                                                  \n",
    "                pass\n",
    "        \n",
    "        # comprobamos si tiene premio ganado o nominacion, si es así lo añadimos al diccionario de premios por actor\n",
    "        if len(ganados) > 0 or len(nominaciones) > 0:\n",
    "            premios_actor.append({'premios ganados': ganados, 'nominaciones': nominaciones})\n",
    "        \n",
    "        else:\n",
    "            premios_actor.append(None)\n",
    "        \n",
    "        driver.back()\n",
    "\n",
    "\n",
    "driver.close()\n",
    "\n",
    "    # #__next > main > div.ipc-page-content-container.ipc-page-content-container--full.sc-e51f9d6d-0.Fmvqg > div.ipc-page-content-container.ipc-page-content-container--center > section > div > div.ipc-page-grid__item.ipc-page-grid__item--span-2 > section:nth-child(5) > div.sc-e8e4ce7-2.iXsuvN > ul > li > div.ipc-metadata-list-summary-item__c > div > a\n",
    "    #accordion-item-actor-previous-projects > div > ul > li:nth-child(1) > div.ipc-metadata-list-summary-item__c > div.ipc-metadata-list-summary-item__tc > a\n",
    "\n",
    "        "
   ]
  },
  {
   "cell_type": "code",
   "execution_count": 33,
   "metadata": {},
   "outputs": [
    {
     "data": {
      "text/plain": [
       "[('Shirikurae Magoichi', 'Kagerô-za', 'Rabu retâ', 'Umi no koto'),\n",
       " ('Godzilla contra Cibergodzilla, máquina de destrucción',\n",
       "  'Lady Snowblood',\n",
       "  '2009: Lost Memories',\n",
       "  'Urutoraman Eiteî'),\n",
       " ('Hikaru umi', 'Burai yori daikanbu', 'Shiosai', 'Aoi sanmyaku'),\n",
       " ('Shirikurae Magoichi', 'Kagerô-za', 'Rabu retâ', 'Umi no koto'),\n",
       " ('Godzilla contra Cibergodzilla, máquina de destrucción',\n",
       "  'Lady Snowblood',\n",
       "  '2009: Lost Memories',\n",
       "  'Urutoraman Eiteî'),\n",
       " ('Hikaru umi', 'Burai yori daikanbu', 'Shiosai', 'Aoi sanmyaku'),\n",
       " ('Shirikurae Magoichi', 'Kagerô-za', 'Rabu retâ', 'Umi no koto'),\n",
       " ('Godzilla contra Cibergodzilla, máquina de destrucción',\n",
       "  'Lady Snowblood',\n",
       "  '2009: Lost Memories',\n",
       "  'Urutoraman Eiteî'),\n",
       " ('Hikaru umi', 'Burai yori daikanbu', 'Shiosai', 'Aoi sanmyaku')]"
      ]
     },
     "execution_count": 33,
     "metadata": {},
     "output_type": "execute_result"
    }
   ],
   "source": [
    "conocido"
   ]
  },
  {
   "cell_type": "code",
   "execution_count": 23,
   "metadata": {},
   "outputs": [
    {
     "data": {
      "text/plain": [
       "[{'premios ganados': ['1966 Ganador APFF Award'],\n",
       "  'nominaciones': ['1981 Ganador Hochi Film Award']},\n",
       " None,\n",
       " None]"
      ]
     },
     "execution_count": 23,
     "metadata": {},
     "output_type": "execute_result"
    }
   ],
   "source": [
    "premios_actor"
   ]
  },
  {
   "cell_type": "code",
   "execution_count": 34,
   "metadata": {},
   "outputs": [
    {
     "name": "stdout",
     "output_type": "stream",
     "text": [
      "[('1966 Ganador APFF Award',), None, None, ('1966 Ganador APFF Award',), None, None, ('1966 Ganador APFF Award',), None, None]\n",
      "[('1981 Ganador Hochi Film Award',), None, None, ('1981 Ganador Hochi Film Award',), None, None, ('1981 Ganador Hochi Film Award',), None, None]\n"
     ]
    }
   ],
   "source": [
    "premios = []\n",
    "nominaciones = []\n",
    "\n",
    "# Iterar sobre cada diccionario en la lista\n",
    "for persona in premios_actor:\n",
    "    \n",
    "    if persona is None:\n",
    "        premios.append(None)\n",
    "        continue\n",
    "    else:\n",
    "        premios_ganados = persona.get('premios ganados', [])\n",
    "        premios.append(tuple(premios_ganados))\n",
    "\n",
    "# Imprimir la lista de todos los premios ganados\n",
    "print(premios)\n",
    "\n",
    "for persona in premios_actor:\n",
    "    \n",
    "    if persona is None:\n",
    "        nominaciones.append(None)\n",
    "        continue\n",
    "    else:\n",
    "        premios_ganados = persona.get('nominaciones', [])\n",
    "        nominaciones.append(tuple(premios_ganados))\n",
    "        \n",
    "print(nominaciones)"
   ]
  },
  {
   "cell_type": "code",
   "execution_count": 35,
   "metadata": {},
   "outputs": [
    {
     "data": {
      "text/plain": [
       "[('Katsuo Nakamura',\n",
       "  '23 de abril de 1938',\n",
       "  ('Shirikurae Magoichi', 'Kagerô-za', 'Rabu retâ', 'Umi no koto'),\n",
       "  {'premios ganados': ['1966 Ganador APFF Award'],\n",
       "   'nominaciones': ['1981 Ganador Hochi Film Award']},\n",
       "  ('Shirikurae Magoichi', 'Kagerô-za', 'Rabu retâ', 'Umi no koto')),\n",
       " ('Masaaki Daimon',\n",
       "  None,\n",
       "  ('Godzilla contra Cibergodzilla, máquina de destrucción',\n",
       "   'Lady Snowblood',\n",
       "   '2009: Lost Memories',\n",
       "   'Urutoraman Eiteî'),\n",
       "  None,\n",
       "  ('Godzilla contra Cibergodzilla, máquina de destrucción',\n",
       "   'Lady Snowblood',\n",
       "   '2009: Lost Memories',\n",
       "   'Urutoraman Eiteî')),\n",
       " ('Mitsuo Hamada',\n",
       "  '1 de octubre de 1943',\n",
       "  ('Hikaru umi', 'Burai yori daikanbu', 'Shiosai', 'Aoi sanmyaku'),\n",
       "  None,\n",
       "  ('Hikaru umi', 'Burai yori daikanbu', 'Shiosai', 'Aoi sanmyaku')),\n",
       " ('Daigo Kusano',\n",
       "  '23 de abril de 1938',\n",
       "  ('Shirikurae Magoichi', 'Kagerô-za', 'Rabu retâ', 'Umi no koto'),\n",
       "  {'premios ganados': ['1966 Ganador APFF Award'],\n",
       "   'nominaciones': ['1981 Ganador Hochi Film Award']},\n",
       "  ('Shirikurae Magoichi', 'Kagerô-za', 'Rabu retâ', 'Umi no koto')),\n",
       " ('Mieko Takamine',\n",
       "  None,\n",
       "  ('Godzilla contra Cibergodzilla, máquina de destrucción',\n",
       "   'Lady Snowblood',\n",
       "   '2009: Lost Memories',\n",
       "   'Urutoraman Eiteî'),\n",
       "  None,\n",
       "  ('Godzilla contra Cibergodzilla, máquina de destrucción',\n",
       "   'Lady Snowblood',\n",
       "   '2009: Lost Memories',\n",
       "   'Urutoraman Eiteî')),\n",
       " ('Mariko Fuji',\n",
       "  '1 de octubre de 1943',\n",
       "  ('Hikaru umi', 'Burai yori daikanbu', 'Shiosai', 'Aoi sanmyaku'),\n",
       "  None,\n",
       "  ('Hikaru umi', 'Burai yori daikanbu', 'Shiosai', 'Aoi sanmyaku')),\n",
       " ('Hisashi Igawa',\n",
       "  '23 de abril de 1938',\n",
       "  ('Shirikurae Magoichi', 'Kagerô-za', 'Rabu retâ', 'Umi no koto'),\n",
       "  {'premios ganados': ['1966 Ganador APFF Award'],\n",
       "   'nominaciones': ['1981 Ganador Hochi Film Award']},\n",
       "  ('Shirikurae Magoichi', 'Kagerô-za', 'Rabu retâ', 'Umi no koto')),\n",
       " ('Yôichi Numata',\n",
       "  None,\n",
       "  ('Godzilla contra Cibergodzilla, máquina de destrucción',\n",
       "   'Lady Snowblood',\n",
       "   '2009: Lost Memories',\n",
       "   'Urutoraman Eiteî'),\n",
       "  None,\n",
       "  ('Godzilla contra Cibergodzilla, máquina de destrucción',\n",
       "   'Lady Snowblood',\n",
       "   '2009: Lost Memories',\n",
       "   'Urutoraman Eiteî')),\n",
       " ('Takashi Shimura',\n",
       "  '1 de octubre de 1943',\n",
       "  ('Hikaru umi', 'Burai yori daikanbu', 'Shiosai', 'Aoi sanmyaku'),\n",
       "  None,\n",
       "  ('Hikaru umi', 'Burai yori daikanbu', 'Shiosai', 'Aoi sanmyaku'))]"
      ]
     },
     "execution_count": 35,
     "metadata": {},
     "output_type": "execute_result"
    }
   ],
   "source": [
    "horror_elenco = list(tuple(zip(list_all_actors,nacimiento,conocido,premios_actor, conocido)))\n",
    "\n",
    "horror_elenco"
   ]
  },
  {
   "cell_type": "code",
   "execution_count": 36,
   "metadata": {},
   "outputs": [
    {
     "data": {
      "text/html": [
       "<div>\n",
       "<style scoped>\n",
       "    .dataframe tbody tr th:only-of-type {\n",
       "        vertical-align: middle;\n",
       "    }\n",
       "\n",
       "    .dataframe tbody tr th {\n",
       "        vertical-align: top;\n",
       "    }\n",
       "\n",
       "    .dataframe thead th {\n",
       "        text-align: right;\n",
       "    }\n",
       "</style>\n",
       "<table border=\"1\" class=\"dataframe\">\n",
       "  <thead>\n",
       "    <tr style=\"text-align: right;\">\n",
       "      <th></th>\n",
       "      <th>Nombre</th>\n",
       "      <th>Nacimiento</th>\n",
       "      <th>Premios</th>\n",
       "      <th>Nominaciones</th>\n",
       "      <th>Conocidos por</th>\n",
       "    </tr>\n",
       "  </thead>\n",
       "  <tbody>\n",
       "    <tr>\n",
       "      <th>0</th>\n",
       "      <td>Katsuo Nakamura</td>\n",
       "      <td>23 de abril de 1938</td>\n",
       "      <td>(Shirikurae Magoichi, Kagerô-za, Rabu retâ, Um...</td>\n",
       "      <td>{'premios ganados': ['1966 Ganador APFF Award'...</td>\n",
       "      <td>(Shirikurae Magoichi, Kagerô-za, Rabu retâ, Um...</td>\n",
       "    </tr>\n",
       "    <tr>\n",
       "      <th>1</th>\n",
       "      <td>Masaaki Daimon</td>\n",
       "      <td>None</td>\n",
       "      <td>(Godzilla contra Cibergodzilla, máquina de des...</td>\n",
       "      <td>None</td>\n",
       "      <td>(Godzilla contra Cibergodzilla, máquina de des...</td>\n",
       "    </tr>\n",
       "    <tr>\n",
       "      <th>2</th>\n",
       "      <td>Mitsuo Hamada</td>\n",
       "      <td>1 de octubre de 1943</td>\n",
       "      <td>(Hikaru umi, Burai yori daikanbu, Shiosai, Aoi...</td>\n",
       "      <td>None</td>\n",
       "      <td>(Hikaru umi, Burai yori daikanbu, Shiosai, Aoi...</td>\n",
       "    </tr>\n",
       "    <tr>\n",
       "      <th>3</th>\n",
       "      <td>Daigo Kusano</td>\n",
       "      <td>23 de abril de 1938</td>\n",
       "      <td>(Shirikurae Magoichi, Kagerô-za, Rabu retâ, Um...</td>\n",
       "      <td>{'premios ganados': ['1966 Ganador APFF Award'...</td>\n",
       "      <td>(Shirikurae Magoichi, Kagerô-za, Rabu retâ, Um...</td>\n",
       "    </tr>\n",
       "    <tr>\n",
       "      <th>4</th>\n",
       "      <td>Mieko Takamine</td>\n",
       "      <td>None</td>\n",
       "      <td>(Godzilla contra Cibergodzilla, máquina de des...</td>\n",
       "      <td>None</td>\n",
       "      <td>(Godzilla contra Cibergodzilla, máquina de des...</td>\n",
       "    </tr>\n",
       "    <tr>\n",
       "      <th>5</th>\n",
       "      <td>Mariko Fuji</td>\n",
       "      <td>1 de octubre de 1943</td>\n",
       "      <td>(Hikaru umi, Burai yori daikanbu, Shiosai, Aoi...</td>\n",
       "      <td>None</td>\n",
       "      <td>(Hikaru umi, Burai yori daikanbu, Shiosai, Aoi...</td>\n",
       "    </tr>\n",
       "    <tr>\n",
       "      <th>6</th>\n",
       "      <td>Hisashi Igawa</td>\n",
       "      <td>23 de abril de 1938</td>\n",
       "      <td>(Shirikurae Magoichi, Kagerô-za, Rabu retâ, Um...</td>\n",
       "      <td>{'premios ganados': ['1966 Ganador APFF Award'...</td>\n",
       "      <td>(Shirikurae Magoichi, Kagerô-za, Rabu retâ, Um...</td>\n",
       "    </tr>\n",
       "    <tr>\n",
       "      <th>7</th>\n",
       "      <td>Yôichi Numata</td>\n",
       "      <td>None</td>\n",
       "      <td>(Godzilla contra Cibergodzilla, máquina de des...</td>\n",
       "      <td>None</td>\n",
       "      <td>(Godzilla contra Cibergodzilla, máquina de des...</td>\n",
       "    </tr>\n",
       "    <tr>\n",
       "      <th>8</th>\n",
       "      <td>Takashi Shimura</td>\n",
       "      <td>1 de octubre de 1943</td>\n",
       "      <td>(Hikaru umi, Burai yori daikanbu, Shiosai, Aoi...</td>\n",
       "      <td>None</td>\n",
       "      <td>(Hikaru umi, Burai yori daikanbu, Shiosai, Aoi...</td>\n",
       "    </tr>\n",
       "  </tbody>\n",
       "</table>\n",
       "</div>"
      ],
      "text/plain": [
       "            Nombre            Nacimiento  \\\n",
       "0  Katsuo Nakamura   23 de abril de 1938   \n",
       "1   Masaaki Daimon                  None   \n",
       "2    Mitsuo Hamada  1 de octubre de 1943   \n",
       "3     Daigo Kusano   23 de abril de 1938   \n",
       "4   Mieko Takamine                  None   \n",
       "5      Mariko Fuji  1 de octubre de 1943   \n",
       "6    Hisashi Igawa   23 de abril de 1938   \n",
       "7    Yôichi Numata                  None   \n",
       "8  Takashi Shimura  1 de octubre de 1943   \n",
       "\n",
       "                                             Premios  \\\n",
       "0  (Shirikurae Magoichi, Kagerô-za, Rabu retâ, Um...   \n",
       "1  (Godzilla contra Cibergodzilla, máquina de des...   \n",
       "2  (Hikaru umi, Burai yori daikanbu, Shiosai, Aoi...   \n",
       "3  (Shirikurae Magoichi, Kagerô-za, Rabu retâ, Um...   \n",
       "4  (Godzilla contra Cibergodzilla, máquina de des...   \n",
       "5  (Hikaru umi, Burai yori daikanbu, Shiosai, Aoi...   \n",
       "6  (Shirikurae Magoichi, Kagerô-za, Rabu retâ, Um...   \n",
       "7  (Godzilla contra Cibergodzilla, máquina de des...   \n",
       "8  (Hikaru umi, Burai yori daikanbu, Shiosai, Aoi...   \n",
       "\n",
       "                                        Nominaciones  \\\n",
       "0  {'premios ganados': ['1966 Ganador APFF Award'...   \n",
       "1                                               None   \n",
       "2                                               None   \n",
       "3  {'premios ganados': ['1966 Ganador APFF Award'...   \n",
       "4                                               None   \n",
       "5                                               None   \n",
       "6  {'premios ganados': ['1966 Ganador APFF Award'...   \n",
       "7                                               None   \n",
       "8                                               None   \n",
       "\n",
       "                                       Conocidos por  \n",
       "0  (Shirikurae Magoichi, Kagerô-za, Rabu retâ, Um...  \n",
       "1  (Godzilla contra Cibergodzilla, máquina de des...  \n",
       "2  (Hikaru umi, Burai yori daikanbu, Shiosai, Aoi...  \n",
       "3  (Shirikurae Magoichi, Kagerô-za, Rabu retâ, Um...  \n",
       "4  (Godzilla contra Cibergodzilla, máquina de des...  \n",
       "5  (Hikaru umi, Burai yori daikanbu, Shiosai, Aoi...  \n",
       "6  (Shirikurae Magoichi, Kagerô-za, Rabu retâ, Um...  \n",
       "7  (Godzilla contra Cibergodzilla, máquina de des...  \n",
       "8  (Hikaru umi, Burai yori daikanbu, Shiosai, Aoi...  "
      ]
     },
     "execution_count": 36,
     "metadata": {},
     "output_type": "execute_result"
    }
   ],
   "source": [
    "df_elenco = pd.DataFrame(horror_elenco)\n",
    "df_elenco.columns = ['Nombre', 'Nacimiento', 'Premios', 'Nominaciones', 'Conocidos por']\n",
    "df_elenco"
   ]
  }
 ],
 "metadata": {
  "kernelspec": {
   "display_name": "Python 3",
   "language": "python",
   "name": "python3"
  },
  "language_info": {
   "codemirror_mode": {
    "name": "ipython",
    "version": 3
   },
   "file_extension": ".py",
   "mimetype": "text/x-python",
   "name": "python",
   "nbconvert_exporter": "python",
   "pygments_lexer": "ipython3",
   "version": "3.12.4"
  }
 },
 "nbformat": 4,
 "nbformat_minor": 2
}
