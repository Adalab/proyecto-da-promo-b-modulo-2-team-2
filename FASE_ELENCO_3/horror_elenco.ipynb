{
 "cells": [
  {
   "cell_type": "code",
   "execution_count": 1,
   "metadata": {},
   "outputs": [],
   "source": [
    "import pandas as pd\n",
    "from selenium import webdriver  # Selenium es una herramienta para automatizar la interacción con navegadores web.\n",
    "from webdriver_manager.chrome import ChromeDriverManager  # ChromeDriverManager gestiona la instalación del controlador de Chrome.\n",
    "from selenium.webdriver.common.keys import Keys  # Keys es útil para simular eventos de teclado en Selenium.\n",
    "from selenium.webdriver.support.ui import Select  # Select se utiliza para interactuar con elementos <select> en páginas web.\n",
    "from tqdm import tqdm\n",
    "from time import sleep"
   ]
  },
  {
   "cell_type": "code",
   "execution_count": 2,
   "metadata": {},
   "outputs": [
    {
     "name": "stdout",
     "output_type": "stream",
     "text": [
      "     Unnamed: 0    idOwner                        Title   Type  Year   Genre\n",
      "0             0  tt0074994              Tempyo no iraka  Movie  1980  Horror\n",
      "1             1  tt0078113                     Primitif  Movie  1980  Horror\n",
      "2             2  tt0077567           The Sleep of Death  Movie  1980  Horror\n",
      "3             3  tt0078791  Aquella casa en las afueras  Movie  1980  Horror\n",
      "4             4  tt0078806                    The Attic  Movie  1980  Horror\n",
      "..          ...        ...                          ...    ...   ...     ...\n",
      "104         104  tt0109723       Embrace of the Vampire  Movie  1995  Horror\n",
      "105         105  tt0110604                  Témoin muet  Movie  1995  Horror\n",
      "106         106  tt0111574       The Upstairs Neighbour  Movie  1995  Horror\n",
      "107         107  tt0111464                     Toughguy  Movie  1995  Horror\n",
      "108         108  tt0111244                    Sorceress  Movie  1995  Horror\n",
      "\n",
      "[109 rows x 6 columns]\n",
      "['tt0074994', 'tt0078113', 'tt0077567', 'tt0078791', 'tt0078806', 'tt0078936', 'tt0078749', 'tt0078880', 'tt0078935', 'tt0073604', 'tt0073706', 'tt0078871', 'tt0078751', 'tt0080362', 'tt0080440', 'tt0080607', 'tt0073537', 'tt0075035', 'tt0080438', 'tt0080787', 'tt0082537', 'tt0082334', 'tt0082025', 'tt0081432', 'tt0083146', 'tt0082914', 'tt0082379', 'tt0083973', 'tt0082841', 'tt0083361', 'tt0084678', 'tt0085233', 'tt0073265', 'tt0081366', 'tt0084107', 'tt0085364', 'tt0085628', 'tt0085442', 'tt0086176', 'tt0086563', 'tt0068958', 'tt0080583', 'tt0086288', 'tt0086849', 'tt0087909', 'tt0087798', 'tt0089395', 'tt0089850', 'tt0088092', 'tt0089993', 'tt0088745', 'tt0090057', 'tt0090364', 'tt0085253', 'tt0087319', 'tt0089238', 'tt0088959', 'tt0090271', 'tt0090644', 'tt0089561', 'tt0088828', 'tt0093090', 'tt0092863', 'tt0092853', 'tt0092254', 'tt0089452', 'tt0091192', 'tt0094720', 'tt0094271', 'tt0094693', 'tt0093523', 'tt0093211', 'tt0094997', 'tt0096871', 'tt0096830', 'tt0095878', 'tt0096954', 'tt0097726', 'tt0098136', 'tt0099180', 'tt0078006', 'tt0100430', 'tt0100483', 'tt0100688', 'tt0099059', 'tt0099722', 'tt0099562', 'tt0100108', 'tt0099757', 'tt0101368', 'tt0101652', 'tt0101493', 'tt0101628', 'tt0102222', 'tt0103743', 'tt0104053', 'tt0105883', 'tt0105785', 'tt0100881', 'tt0106402', 'tt0106983', 'tt0106790', 'tt0109546', 'tt0109415', 'tt0109723', 'tt0110604', 'tt0111574', 'tt0111464', 'tt0111244']\n"
     ]
    }
   ],
   "source": [
    "df_horror = pd.read_csv(\"../FASE_API_1/Horror.csv\")\n",
    "\n",
    "print(df_horror)\n",
    "\n",
    "idOwner = []\n",
    "\n",
    "for i in df_horror[\"idOwner\"]:\n",
    "    idOwner.append(i)\n",
    "    \n",
    "\n",
    "print(idOwner)"
   ]
  },
  {
   "cell_type": "code",
   "execution_count": 3,
   "metadata": {},
   "outputs": [
    {
     "data": {
      "text/plain": [
       "['tt0074994', 'tt0078113', 'tt0077567']"
      ]
     },
     "execution_count": 3,
     "metadata": {},
     "output_type": "execute_result"
    }
   ],
   "source": [
    "lista_id_peliculas_cortas = idOwner[:3]\n",
    "lista_id_peliculas_cortas"
   ]
  },
  {
   "cell_type": "code",
   "execution_count": 21,
   "metadata": {},
   "outputs": [
    {
     "name": "stderr",
     "output_type": "stream",
     "text": [
      "100%|██████████| 3/3 [00:12<00:00,  4.10s/it]\n"
     ]
    }
   ],
   "source": [
    "driver = webdriver.Chrome()\n",
    "\n",
    "driver.get('https://www.imdb.com/')\n",
    "\n",
    "driver.maximize_window()\n",
    "\n",
    "sleep (3)\n",
    "\n",
    "list_actors_by_movie = []\n",
    "\n",
    "list_all_actors = []\n",
    "\n",
    "for peli in tqdm(idOwner):\n",
    "    \n",
    "    driver.find_element('css selector', '#suggestion-search').send_keys(peli, Keys.ENTER)\n",
    "    for i in range(1,10): # porque estamos cogiendo los 10 primeros actores\n",
    "        try:\n",
    "            actor = driver.find_element('css selector', f'#__next > main > div > section.ipc-page-background.ipc-page-background--base.sc-c41b9732-0.NeSef > div > section > div > div.sc-978e9339-1.ihWZgK.ipc-page-grid__item.ipc-page-grid__item--span-2 > section.ipc-page-section.ipc-page-section--base.sc-bfec09a1-0.jgUBLM.title-cast.title-cast--movie.celwidget > div.ipc-shoveler.ipc-shoveler--base.ipc-shoveler--page0.title-cast__grid > div.ipc-sub-grid.ipc-sub-grid--page-span-2.ipc-sub-grid--wraps-at-above-l.ipc-shoveler__grid > div:nth-child({i}) > div.sc-bfec09a1-7.gWwKlt > a').text\n",
    "            list_actors_by_movie.append({'nombre': actor, 'id_pelicula': peli})\n",
    "            # Para no repetir los actores y sacar una lista de actores:\n",
    "            \n",
    "            if(actor not in list_all_actors):\n",
    "                list_all_actors.append(actor)\n",
    "            \n",
    "        except:\n",
    "            print('No se encontraron actores')\n",
    "\n",
    "\n",
    "    "
   ]
  },
  {
   "cell_type": "code",
   "execution_count": 22,
   "metadata": {},
   "outputs": [
    {
     "data": {
      "text/plain": [
       "[{'nombre': 'Katsuo Nakamura', 'id_pelicula': 'tt0074994'},\n",
       " {'nombre': 'Masaaki Daimon', 'id_pelicula': 'tt0074994'},\n",
       " {'nombre': 'Mitsuo Hamada', 'id_pelicula': 'tt0074994'},\n",
       " {'nombre': 'Daigo Kusano', 'id_pelicula': 'tt0074994'},\n",
       " {'nombre': 'Mieko Takamine', 'id_pelicula': 'tt0074994'},\n",
       " {'nombre': 'Mariko Fuji', 'id_pelicula': 'tt0074994'},\n",
       " {'nombre': 'Hisashi Igawa', 'id_pelicula': 'tt0074994'},\n",
       " {'nombre': 'Yôichi Numata', 'id_pelicula': 'tt0074994'},\n",
       " {'nombre': 'Takashi Shimura', 'id_pelicula': 'tt0074994'},\n",
       " {'nombre': 'Enny Haryono', 'id_pelicula': 'tt0078113'},\n",
       " {'nombre': 'Barry Prima', 'id_pelicula': 'tt0078113'},\n",
       " {'nombre': 'Johann Mardjono', 'id_pelicula': 'tt0078113'},\n",
       " {'nombre': 'Rukman Herman', 'id_pelicula': 'tt0078113'},\n",
       " {'nombre': 'Jafarpree York', 'id_pelicula': 'tt0078113'},\n",
       " {'nombre': 'Novita Rully', 'id_pelicula': 'tt0078113'},\n",
       " {'nombre': 'Youstine Rais', 'id_pelicula': 'tt0078113'},\n",
       " {'nombre': 'Michael Kelly', 'id_pelicula': 'tt0078113'},\n",
       " {'nombre': 'Rengga Takengon', 'id_pelicula': 'tt0078113'},\n",
       " {'nombre': 'Per Oscarsson', 'id_pelicula': 'tt0077567'},\n",
       " {'nombre': 'Patrick Magee', 'id_pelicula': 'tt0077567'},\n",
       " {'nombre': 'Marilù Tolo', 'id_pelicula': 'tt0077567'},\n",
       " {'nombre': 'Brendan Price', 'id_pelicula': 'tt0077567'},\n",
       " {'nombre': 'Niall Toibin', 'id_pelicula': 'tt0077567'},\n",
       " {'nombre': 'Curd Jürgens', 'id_pelicula': 'tt0077567'},\n",
       " {'nombre': 'Kay Maclaren', 'id_pelicula': 'tt0077567'},\n",
       " {'nombre': 'Barry Cassin', 'id_pelicula': 'tt0077567'},\n",
       " {'nombre': 'Christopher Casson', 'id_pelicula': 'tt0077567'}]"
      ]
     },
     "execution_count": 22,
     "metadata": {},
     "output_type": "execute_result"
    }
   ],
   "source": [
    "list_actors_by_movie"
   ]
  },
  {
   "cell_type": "code",
   "execution_count": 23,
   "metadata": {},
   "outputs": [
    {
     "data": {
      "text/plain": [
       "['Katsuo Nakamura',\n",
       " 'Masaaki Daimon',\n",
       " 'Mitsuo Hamada',\n",
       " 'Daigo Kusano',\n",
       " 'Mieko Takamine',\n",
       " 'Mariko Fuji',\n",
       " 'Hisashi Igawa',\n",
       " 'Yôichi Numata',\n",
       " 'Takashi Shimura',\n",
       " 'Enny Haryono',\n",
       " 'Barry Prima',\n",
       " 'Johann Mardjono',\n",
       " 'Rukman Herman',\n",
       " 'Jafarpree York',\n",
       " 'Novita Rully',\n",
       " 'Youstine Rais',\n",
       " 'Michael Kelly',\n",
       " 'Rengga Takengon',\n",
       " 'Per Oscarsson',\n",
       " 'Patrick Magee',\n",
       " 'Marilù Tolo',\n",
       " 'Brendan Price',\n",
       " 'Niall Toibin',\n",
       " 'Curd Jürgens',\n",
       " 'Kay Maclaren',\n",
       " 'Barry Cassin',\n",
       " 'Christopher Casson']"
      ]
     },
     "execution_count": 23,
     "metadata": {},
     "output_type": "execute_result"
    }
   ],
   "source": [
    "list_all_actors"
   ]
  },
  {
   "cell_type": "code",
   "execution_count": null,
   "metadata": {},
   "outputs": [],
   "source": [
    "# Por cada uno de los actores, voy a buscar la información"
   ]
  },
  {
   "cell_type": "code",
   "execution_count": 24,
   "metadata": {},
   "outputs": [
    {
     "data": {
      "text/plain": [
       "['Katsuo Nakamura', 'Masaaki Daimon', 'Mitsuo Hamada']"
      ]
     },
     "execution_count": 24,
     "metadata": {},
     "output_type": "execute_result"
    }
   ],
   "source": [
    "lista_actors_min = list_all_actors[:3]\n",
    "lista_actors_min"
   ]
  },
  {
   "cell_type": "code",
   "execution_count": null,
   "metadata": {},
   "outputs": [],
   "source": [
    "driver = webdriver.Chrome()\n",
    "\n",
    "driver.get('https://www.imdb.com/')\n",
    "\n",
    "driver.maximize_window()\n",
    "\n",
    "sleep (3)\n",
    "\n",
    "lista_info_actores = []\n",
    "nacimiento = None\n",
    "conocido = []\n",
    "premios = []\n",
    "que_hace = []\n",
    "\n",
    "for actor in tqdm(lista_actors_min):\n",
    "    driver.find_element('css selector', '#suggestion-search').send_keys(actor, Keys.ENTER)\n",
    "    driver.find_element('xpath', '//*[@id=\"__next\"]/main/div/section[1]/div/section/div/div[1]/section[3]/div[2]/div[2]/div[1]/div[2]/a').click()\n",
    "    \n",
    "    sleep(2)\n",
    "    \n",
    "    try:\n",
    "        nacimiento = driver.find_element('css selector', '#__next > main > div > section.ipc-page-background.ipc-page-background--base.sc-c41b9732-0.NeSef > section > div:nth-child(5) > section > section > div.sc-491663c0-4.yjUiO > div.sc-491663c0-6.lnlBxO > div.sc-491663c0-11.cvvyMK > section > aside > div > span:nth-child(2)').text\n",
    "        \n",
    "    "
   ]
  }
 ],
 "metadata": {
  "kernelspec": {
   "display_name": "Python 3",
   "language": "python",
   "name": "python3"
  },
  "language_info": {
   "codemirror_mode": {
    "name": "ipython",
    "version": 3
   },
   "file_extension": ".py",
   "mimetype": "text/x-python",
   "name": "python",
   "nbconvert_exporter": "python",
   "pygments_lexer": "ipython3",
   "version": "3.12.4"
  }
 },
 "nbformat": 4,
 "nbformat_minor": 2
}
