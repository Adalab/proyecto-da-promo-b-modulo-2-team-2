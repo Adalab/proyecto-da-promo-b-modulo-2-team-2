{
 "cells": [
  {
   "cell_type": "code",
   "execution_count": 1,
   "metadata": {},
   "outputs": [],
   "source": [
    "import pandas as pd\n",
    "from selenium import webdriver  # Selenium es una herramienta para automatizar la interacción con navegadores web.\n",
    "from webdriver_manager.chrome import ChromeDriverManager  # ChromeDriverManager gestiona la instalación del controlador de Chrome.\n",
    "from selenium.webdriver.common.keys import Keys  # Keys es útil para simular eventos de teclado en Selenium.\n",
    "from selenium.webdriver.support.ui import Select  # Select se utiliza para interactuar con elementos <select> en páginas web.\n",
    "from tqdm import tqdm\n",
    "from time import sleep"
   ]
  },
  {
   "cell_type": "code",
   "execution_count": 2,
   "metadata": {},
   "outputs": [
    {
     "name": "stdout",
     "output_type": "stream",
     "text": [
      "     Unnamed: 0    idOwner                        Title   Type  Year   Genre\n",
      "0             0  tt0074994              Tempyo no iraka  Movie  1980  Horror\n",
      "1             1  tt0078113                     Primitif  Movie  1980  Horror\n",
      "2             2  tt0077567           The Sleep of Death  Movie  1980  Horror\n",
      "3             3  tt0078791  Aquella casa en las afueras  Movie  1980  Horror\n",
      "4             4  tt0078806                    The Attic  Movie  1980  Horror\n",
      "..          ...        ...                          ...    ...   ...     ...\n",
      "104         104  tt0109723       Embrace of the Vampire  Movie  1995  Horror\n",
      "105         105  tt0110604                  Témoin muet  Movie  1995  Horror\n",
      "106         106  tt0111574       The Upstairs Neighbour  Movie  1995  Horror\n",
      "107         107  tt0111464                     Toughguy  Movie  1995  Horror\n",
      "108         108  tt0111244                    Sorceress  Movie  1995  Horror\n",
      "\n",
      "[109 rows x 6 columns]\n",
      "['tt0074994', 'tt0078113', 'tt0077567', 'tt0078791', 'tt0078806', 'tt0078936', 'tt0078749', 'tt0078880', 'tt0078935', 'tt0073604', 'tt0073706', 'tt0078871', 'tt0078751', 'tt0080362', 'tt0080440', 'tt0080607', 'tt0073537', 'tt0075035', 'tt0080438', 'tt0080787', 'tt0082537', 'tt0082334', 'tt0082025', 'tt0081432', 'tt0083146', 'tt0082914', 'tt0082379', 'tt0083973', 'tt0082841', 'tt0083361', 'tt0084678', 'tt0085233', 'tt0073265', 'tt0081366', 'tt0084107', 'tt0085364', 'tt0085628', 'tt0085442', 'tt0086176', 'tt0086563', 'tt0068958', 'tt0080583', 'tt0086288', 'tt0086849', 'tt0087909', 'tt0087798', 'tt0089395', 'tt0089850', 'tt0088092', 'tt0089993', 'tt0088745', 'tt0090057', 'tt0090364', 'tt0085253', 'tt0087319', 'tt0089238', 'tt0088959', 'tt0090271', 'tt0090644', 'tt0089561', 'tt0088828', 'tt0093090', 'tt0092863', 'tt0092853', 'tt0092254', 'tt0089452', 'tt0091192', 'tt0094720', 'tt0094271', 'tt0094693', 'tt0093523', 'tt0093211', 'tt0094997', 'tt0096871', 'tt0096830', 'tt0095878', 'tt0096954', 'tt0097726', 'tt0098136', 'tt0099180', 'tt0078006', 'tt0100430', 'tt0100483', 'tt0100688', 'tt0099059', 'tt0099722', 'tt0099562', 'tt0100108', 'tt0099757', 'tt0101368', 'tt0101652', 'tt0101493', 'tt0101628', 'tt0102222', 'tt0103743', 'tt0104053', 'tt0105883', 'tt0105785', 'tt0100881', 'tt0106402', 'tt0106983', 'tt0106790', 'tt0109546', 'tt0109415', 'tt0109723', 'tt0110604', 'tt0111574', 'tt0111464', 'tt0111244']\n"
     ]
    }
   ],
   "source": [
    "df_horror = pd.read_csv(\"Horror.csv\")\n",
    "\n",
    "print(df_horror)\n",
    "\n",
    "idOwner = []\n",
    "\n",
    "for i in df_horror[\"idOwner\"]:\n",
    "    idOwner.append(i)\n",
    "    \n",
    "\n",
    "print(idOwner)"
   ]
  },
  {
   "cell_type": "code",
   "execution_count": 37,
   "metadata": {},
   "outputs": [
    {
     "data": {
      "text/plain": [
       "['tt0074994',\n",
       " 'tt0078113',\n",
       " 'tt0077567',\n",
       " 'tt0078791',\n",
       " 'tt0078806',\n",
       " 'tt0078936',\n",
       " 'tt0078749',\n",
       " 'tt0078880',\n",
       " 'tt0078935',\n",
       " 'tt0073604']"
      ]
     },
     "execution_count": 37,
     "metadata": {},
     "output_type": "execute_result"
    }
   ],
   "source": [
    "lista_id_peliculas_cortas = idOwner[:10]\n",
    "lista_id_peliculas_cortas"
   ]
  },
  {
   "cell_type": "code",
   "execution_count": 45,
   "metadata": {},
   "outputs": [
    {
     "name": "stderr",
     "output_type": "stream",
     "text": [
      "100%|██████████| 10/10 [00:42<00:00,  4.29s/it]\n"
     ]
    }
   ],
   "source": [
    "driver = webdriver.Chrome()\n",
    "\n",
    "driver.get('https://www.imdb.com/')\n",
    "\n",
    "driver.maximize_window()\n",
    "\n",
    "sleep (3)\n",
    "\n",
    "list_actors_by_movie = []\n",
    "\n",
    "list_all_actors = []\n",
    "\n",
    "for peli in tqdm(lista_id_peliculas_cortas):\n",
    "    \n",
    "    driver.find_element('css selector', '#suggestion-search').send_keys(peli, Keys.ENTER)\n",
    "    for i in range(1,6): # porque estamos cogiendo los 10 primeros actores\n",
    "        try:\n",
    "            actor = driver.find_element('css selector', f'#__next > main > div > section.ipc-page-background.ipc-page-background--base.sc-c41b9732-0.NeSef > div > section > div > div.sc-978e9339-1.ihWZgK.ipc-page-grid__item.ipc-page-grid__item--span-2 > section.ipc-page-section.ipc-page-section--base.sc-bfec09a1-0.jgUBLM.title-cast.title-cast--movie.celwidget > div.ipc-shoveler.ipc-shoveler--base.ipc-shoveler--page0.title-cast__grid > div.ipc-sub-grid.ipc-sub-grid--page-span-2.ipc-sub-grid--wraps-at-above-l.ipc-shoveler__grid > div:nth-child({i}) > div.sc-bfec09a1-7.gWwKlt > a').text\n",
    "            list_actors_by_movie.append({'nombre': actor, 'id_pelicula': peli})\n",
    "            # Para no repetir los actores y sacar una lista de actores:\n",
    "            \n",
    "            if(actor not in list_all_actors):\n",
    "                list_all_actors.append(actor)\n",
    "            \n",
    "        except:\n",
    "            print('No se encontraron actores')\n",
    "\n",
    "driver.close()\n",
    "    "
   ]
  },
  {
   "cell_type": "code",
   "execution_count": 46,
   "metadata": {},
   "outputs": [
    {
     "data": {
      "text/plain": [
       "[{'nombre': 'Katsuo Nakamura', 'id_pelicula': 'tt0074994'},\n",
       " {'nombre': 'Masaaki Daimon', 'id_pelicula': 'tt0074994'},\n",
       " {'nombre': 'Mitsuo Hamada', 'id_pelicula': 'tt0074994'},\n",
       " {'nombre': 'Daigo Kusano', 'id_pelicula': 'tt0074994'},\n",
       " {'nombre': 'Mieko Takamine', 'id_pelicula': 'tt0074994'},\n",
       " {'nombre': 'Enny Haryono', 'id_pelicula': 'tt0078113'},\n",
       " {'nombre': 'Barry Prima', 'id_pelicula': 'tt0078113'},\n",
       " {'nombre': 'Johann Mardjono', 'id_pelicula': 'tt0078113'},\n",
       " {'nombre': 'Rukman Herman', 'id_pelicula': 'tt0078113'},\n",
       " {'nombre': 'Jafarpree York', 'id_pelicula': 'tt0078113'},\n",
       " {'nombre': 'Per Oscarsson', 'id_pelicula': 'tt0077567'},\n",
       " {'nombre': 'Patrick Magee', 'id_pelicula': 'tt0077567'},\n",
       " {'nombre': 'Marilù Tolo', 'id_pelicula': 'tt0077567'},\n",
       " {'nombre': 'Brendan Price', 'id_pelicula': 'tt0077567'},\n",
       " {'nombre': 'Niall Toibin', 'id_pelicula': 'tt0077567'},\n",
       " {'nombre': 'Javier Escrivá', 'id_pelicula': 'tt0078791'},\n",
       " {'nombre': 'Silvia Aguilar', 'id_pelicula': 'tt0078791'},\n",
       " {'nombre': 'Alida Valli', 'id_pelicula': 'tt0078791'},\n",
       " {'nombre': 'Mara Goyanes', 'id_pelicula': 'tt0078791'},\n",
       " {'nombre': 'Carmen Maura', 'id_pelicula': 'tt0078791'},\n",
       " {'nombre': 'Carrie Snodgress', 'id_pelicula': 'tt0078806'},\n",
       " {'nombre': 'Ray Milland', 'id_pelicula': 'tt0078806'},\n",
       " {'nombre': 'Ruth Cox', 'id_pelicula': 'tt0078806'},\n",
       " {'nombre': 'Rosemary Murphy', 'id_pelicula': 'tt0078806'},\n",
       " {'nombre': 'Frances Bay', 'id_pelicula': 'tt0078806'},\n",
       " {'nombre': 'Al Cliver', 'id_pelicula': 'tt0078936'},\n",
       " {'nombre': 'Sabrina Siani', 'id_pelicula': 'tt0078936'},\n",
       " {'nombre': 'Jérôme Foulon', 'id_pelicula': 'tt0078936'},\n",
       " {'nombre': 'Lina Romay', 'id_pelicula': 'tt0078936'},\n",
       " {'nombre': 'Shirley Knight', 'id_pelicula': 'tt0078936'},\n",
       " {'nombre': 'Belinda Mayne', 'id_pelicula': 'tt0078749'},\n",
       " {'nombre': 'Mark Bodin', 'id_pelicula': 'tt0078749'},\n",
       " {'nombre': 'Roberto Barrese', 'id_pelicula': 'tt0078749'},\n",
       " {'nombre': 'Benedetta Fantoli', 'id_pelicula': 'tt0078749'},\n",
       " {'nombre': 'Michele Soavi', 'id_pelicula': 'tt0078749'},\n",
       " {'nombre': 'James Johnson', 'id_pelicula': 'tt0078880'},\n",
       " {'nombre': 'Judith-Marie Bergan', 'id_pelicula': 'tt0078880'},\n",
       " {'nombre': 'Jerry McGee', 'id_pelicula': 'tt0078880'},\n",
       " {'nombre': 'Ian Scott', 'id_pelicula': 'tt0078880'},\n",
       " {'nombre': 'Patrick Hines', 'id_pelicula': 'tt0078880'},\n",
       " {'nombre': 'Robert Kerman', 'id_pelicula': 'tt0078935'},\n",
       " {'nombre': 'Francesca Ciardi', 'id_pelicula': 'tt0078935'},\n",
       " {'nombre': 'Perry Pirkanen', 'id_pelicula': 'tt0078935'},\n",
       " {'nombre': 'Luca Barbareschi', 'id_pelicula': 'tt0078935'},\n",
       " {'nombre': 'Salvatore Basile', 'id_pelicula': 'tt0078935'},\n",
       " {'nombre': 'Paul Callaway', 'id_pelicula': 'tt0073604'},\n",
       " {'nombre': 'Richard Lange', 'id_pelicula': 'tt0073604'},\n",
       " {'nombre': 'Glenn Scherer', 'id_pelicula': 'tt0073604'},\n",
       " {'nombre': 'Brad Ellingson', 'id_pelicula': 'tt0073604'},\n",
       " {'nombre': 'Karen McDiarmid', 'id_pelicula': 'tt0073604'}]"
      ]
     },
     "execution_count": 46,
     "metadata": {},
     "output_type": "execute_result"
    }
   ],
   "source": [
    "list_actors_by_movie"
   ]
  },
  {
   "cell_type": "code",
   "execution_count": 48,
   "metadata": {},
   "outputs": [
    {
     "data": {
      "text/plain": [
       "['Katsuo Nakamura',\n",
       " 'Masaaki Daimon',\n",
       " 'Mitsuo Hamada',\n",
       " 'Daigo Kusano',\n",
       " 'Mieko Takamine',\n",
       " 'Enny Haryono',\n",
       " 'Barry Prima',\n",
       " 'Johann Mardjono',\n",
       " 'Rukman Herman',\n",
       " 'Jafarpree York',\n",
       " 'Per Oscarsson',\n",
       " 'Patrick Magee',\n",
       " 'Marilù Tolo',\n",
       " 'Brendan Price',\n",
       " 'Niall Toibin',\n",
       " 'Javier Escrivá',\n",
       " 'Silvia Aguilar',\n",
       " 'Alida Valli',\n",
       " 'Mara Goyanes',\n",
       " 'Carmen Maura',\n",
       " 'Carrie Snodgress',\n",
       " 'Ray Milland',\n",
       " 'Ruth Cox',\n",
       " 'Rosemary Murphy',\n",
       " 'Frances Bay',\n",
       " 'Al Cliver',\n",
       " 'Sabrina Siani',\n",
       " 'Jérôme Foulon',\n",
       " 'Lina Romay',\n",
       " 'Shirley Knight',\n",
       " 'Belinda Mayne',\n",
       " 'Mark Bodin',\n",
       " 'Roberto Barrese',\n",
       " 'Benedetta Fantoli',\n",
       " 'Michele Soavi',\n",
       " 'James Johnson',\n",
       " 'Judith-Marie Bergan',\n",
       " 'Jerry McGee',\n",
       " 'Ian Scott',\n",
       " 'Patrick Hines',\n",
       " 'Robert Kerman',\n",
       " 'Francesca Ciardi',\n",
       " 'Perry Pirkanen',\n",
       " 'Luca Barbareschi',\n",
       " 'Salvatore Basile',\n",
       " 'Paul Callaway',\n",
       " 'Richard Lange',\n",
       " 'Glenn Scherer',\n",
       " 'Brad Ellingson',\n",
       " 'Karen McDiarmid']"
      ]
     },
     "execution_count": 48,
     "metadata": {},
     "output_type": "execute_result"
    }
   ],
   "source": [
    "list_all_actors"
   ]
  },
  {
   "cell_type": "code",
   "execution_count": 52,
   "metadata": {},
   "outputs": [
    {
     "name": "stderr",
     "output_type": "stream",
     "text": [
      "  0%|          | 0/50 [00:00<?, ?it/s]"
     ]
    },
    {
     "name": "stdout",
     "output_type": "stream",
     "text": [
      "Entramos en los premios\n"
     ]
    },
    {
     "name": "stderr",
     "output_type": "stream",
     "text": [
      "  2%|▏         | 1/50 [00:14<12:10, 14.91s/it]"
     ]
    },
    {
     "name": "stdout",
     "output_type": "stream",
     "text": [
      "Este actor no tiene premios\n"
     ]
    },
    {
     "name": "stderr",
     "output_type": "stream",
     "text": [
      "  4%|▍         | 2/50 [00:24<09:22, 11.72s/it]"
     ]
    },
    {
     "name": "stdout",
     "output_type": "stream",
     "text": [
      "Este actor no tiene premios\n"
     ]
    },
    {
     "name": "stderr",
     "output_type": "stream",
     "text": [
      "  6%|▌         | 3/50 [00:33<08:15, 10.54s/it]"
     ]
    },
    {
     "name": "stdout",
     "output_type": "stream",
     "text": [
      "Este actor no tiene premios\n"
     ]
    },
    {
     "name": "stderr",
     "output_type": "stream",
     "text": [
      "  8%|▊         | 4/50 [00:42<07:31,  9.81s/it]"
     ]
    },
    {
     "name": "stdout",
     "output_type": "stream",
     "text": [
      "Entramos en los premios\n"
     ]
    },
    {
     "name": "stderr",
     "output_type": "stream",
     "text": [
      " 10%|█         | 5/50 [00:55<08:13, 10.97s/it]"
     ]
    },
    {
     "name": "stdout",
     "output_type": "stream",
     "text": [
      "Este actor no tiene premios\n"
     ]
    },
    {
     "name": "stderr",
     "output_type": "stream",
     "text": [
      " 14%|█▍        | 7/50 [01:13<07:10, 10.01s/it]"
     ]
    },
    {
     "name": "stdout",
     "output_type": "stream",
     "text": [
      "Este actor no tiene premios\n"
     ]
    },
    {
     "name": "stderr",
     "output_type": "stream",
     "text": [
      " 16%|█▌        | 8/50 [01:22<06:45,  9.65s/it]"
     ]
    },
    {
     "name": "stdout",
     "output_type": "stream",
     "text": [
      "Este actor no tiene premios\n"
     ]
    },
    {
     "name": "stderr",
     "output_type": "stream",
     "text": [
      " 18%|█▊        | 9/50 [01:32<06:40,  9.76s/it]"
     ]
    },
    {
     "name": "stdout",
     "output_type": "stream",
     "text": [
      "El actor Jafarpree York no es conocido por nada más  \n",
      "Este actor no tiene premios\n"
     ]
    },
    {
     "name": "stderr",
     "output_type": "stream",
     "text": [
      " 20%|██        | 10/50 [01:41<06:20,  9.51s/it]"
     ]
    },
    {
     "name": "stdout",
     "output_type": "stream",
     "text": [
      "Entramos en los premios\n"
     ]
    },
    {
     "name": "stderr",
     "output_type": "stream",
     "text": [
      " 22%|██▏       | 11/50 [01:56<07:13, 11.12s/it]"
     ]
    },
    {
     "name": "stdout",
     "output_type": "stream",
     "text": [
      "Este actor no tiene premios\n"
     ]
    },
    {
     "name": "stderr",
     "output_type": "stream",
     "text": [
      " 24%|██▍       | 12/50 [02:06<06:55, 10.94s/it]"
     ]
    },
    {
     "name": "stdout",
     "output_type": "stream",
     "text": [
      "Este actor no tiene premios\n"
     ]
    },
    {
     "name": "stderr",
     "output_type": "stream",
     "text": [
      " 26%|██▌       | 13/50 [02:16<06:31, 10.58s/it]"
     ]
    },
    {
     "name": "stdout",
     "output_type": "stream",
     "text": [
      "Este actor no tiene premios\n"
     ]
    },
    {
     "name": "stderr",
     "output_type": "stream",
     "text": [
      " 28%|██▊       | 14/50 [02:25<06:04, 10.13s/it]"
     ]
    },
    {
     "name": "stdout",
     "output_type": "stream",
     "text": [
      "Este actor no tiene premios\n"
     ]
    },
    {
     "name": "stderr",
     "output_type": "stream",
     "text": [
      " 32%|███▏      | 16/50 [02:43<05:20,  9.43s/it]"
     ]
    },
    {
     "name": "stdout",
     "output_type": "stream",
     "text": [
      "Este actor no tiene premios\n"
     ]
    },
    {
     "name": "stderr",
     "output_type": "stream",
     "text": [
      " 34%|███▍      | 17/50 [02:51<05:03,  9.19s/it]"
     ]
    },
    {
     "name": "stdout",
     "output_type": "stream",
     "text": [
      "Entramos en los premios\n"
     ]
    },
    {
     "name": "stderr",
     "output_type": "stream",
     "text": [
      " 36%|███▌      | 18/50 [03:06<05:44, 10.77s/it]"
     ]
    },
    {
     "name": "stdout",
     "output_type": "stream",
     "text": [
      "Este actor no tiene premios\n"
     ]
    },
    {
     "name": "stderr",
     "output_type": "stream",
     "text": [
      " 38%|███▊      | 19/50 [03:15<05:22, 10.39s/it]"
     ]
    },
    {
     "name": "stdout",
     "output_type": "stream",
     "text": [
      "Entramos en los premios\n"
     ]
    },
    {
     "name": "stderr",
     "output_type": "stream",
     "text": [
      " 40%|████      | 20/50 [03:35<06:31, 13.03s/it]"
     ]
    },
    {
     "name": "stdout",
     "output_type": "stream",
     "text": [
      "Entramos en los premios\n"
     ]
    },
    {
     "name": "stderr",
     "output_type": "stream",
     "text": [
      " 42%|████▏     | 21/50 [03:48<06:22, 13.19s/it]"
     ]
    },
    {
     "name": "stdout",
     "output_type": "stream",
     "text": [
      "Entramos en los premios\n"
     ]
    },
    {
     "name": "stderr",
     "output_type": "stream",
     "text": [
      " 44%|████▍     | 22/50 [04:05<06:40, 14.30s/it]"
     ]
    },
    {
     "name": "stdout",
     "output_type": "stream",
     "text": [
      "Este actor no tiene premios\n"
     ]
    },
    {
     "name": "stderr",
     "output_type": "stream",
     "text": [
      " 46%|████▌     | 23/50 [04:14<05:42, 12.70s/it]"
     ]
    },
    {
     "name": "stdout",
     "output_type": "stream",
     "text": [
      "Entramos en los premios\n"
     ]
    },
    {
     "name": "stderr",
     "output_type": "stream",
     "text": [
      " 48%|████▊     | 24/50 [04:29<05:49, 13.45s/it]"
     ]
    },
    {
     "name": "stdout",
     "output_type": "stream",
     "text": [
      "Entramos en los premios\n"
     ]
    },
    {
     "name": "stderr",
     "output_type": "stream",
     "text": [
      " 50%|█████     | 25/50 [04:43<05:39, 13.57s/it]"
     ]
    },
    {
     "name": "stdout",
     "output_type": "stream",
     "text": [
      "Entramos en los premios\n"
     ]
    },
    {
     "name": "stderr",
     "output_type": "stream",
     "text": [
      " 52%|█████▏    | 26/50 [04:57<05:30, 13.78s/it]"
     ]
    },
    {
     "name": "stdout",
     "output_type": "stream",
     "text": [
      "Este actor no tiene premios\n"
     ]
    },
    {
     "name": "stderr",
     "output_type": "stream",
     "text": [
      " 56%|█████▌    | 28/50 [05:21<04:43, 12.91s/it]"
     ]
    },
    {
     "name": "stdout",
     "output_type": "stream",
     "text": [
      "Este actor no tiene premios\n"
     ]
    },
    {
     "name": "stderr",
     "output_type": "stream",
     "text": [
      " 58%|█████▊    | 29/50 [05:33<04:25, 12.66s/it]"
     ]
    },
    {
     "name": "stdout",
     "output_type": "stream",
     "text": [
      "Este actor no tiene premios\n"
     ]
    },
    {
     "name": "stderr",
     "output_type": "stream",
     "text": [
      " 60%|██████    | 30/50 [05:48<04:24, 13.22s/it]"
     ]
    },
    {
     "name": "stdout",
     "output_type": "stream",
     "text": [
      "Este actor no tiene premios\n"
     ]
    },
    {
     "name": "stderr",
     "output_type": "stream",
     "text": [
      " 62%|██████▏   | 31/50 [06:00<04:03, 12.79s/it]"
     ]
    },
    {
     "name": "stdout",
     "output_type": "stream",
     "text": [
      "Este actor no tiene premios\n"
     ]
    },
    {
     "name": "stderr",
     "output_type": "stream",
     "text": [
      " 64%|██████▍   | 32/50 [06:11<03:40, 12.25s/it]"
     ]
    },
    {
     "name": "stdout",
     "output_type": "stream",
     "text": [
      "El actor Roberto Barrese no es conocido por nada más  \n",
      "Este actor no tiene premios\n"
     ]
    },
    {
     "name": "stderr",
     "output_type": "stream",
     "text": [
      " 66%|██████▌   | 33/50 [06:22<03:20, 11.82s/it]"
     ]
    },
    {
     "name": "stdout",
     "output_type": "stream",
     "text": [
      "Este actor no tiene premios\n"
     ]
    },
    {
     "name": "stderr",
     "output_type": "stream",
     "text": [
      " 68%|██████▊   | 34/50 [06:33<03:05, 11.60s/it]"
     ]
    },
    {
     "name": "stdout",
     "output_type": "stream",
     "text": [
      "Este actor no tiene premios\n"
     ]
    },
    {
     "name": "stderr",
     "output_type": "stream",
     "text": [
      " 70%|███████   | 35/50 [06:47<03:05, 12.36s/it]"
     ]
    },
    {
     "name": "stdout",
     "output_type": "stream",
     "text": [
      "Este actor no tiene premios\n"
     ]
    },
    {
     "name": "stderr",
     "output_type": "stream",
     "text": [
      " 72%|███████▏  | 36/50 [06:58<02:49, 12.09s/it]"
     ]
    },
    {
     "name": "stdout",
     "output_type": "stream",
     "text": [
      "Este actor no tiene premios\n"
     ]
    },
    {
     "name": "stderr",
     "output_type": "stream",
     "text": [
      " 74%|███████▍  | 37/50 [07:09<02:31, 11.64s/it]"
     ]
    },
    {
     "name": "stdout",
     "output_type": "stream",
     "text": [
      "Este actor no tiene premios\n"
     ]
    },
    {
     "name": "stderr",
     "output_type": "stream",
     "text": [
      " 76%|███████▌  | 38/50 [07:20<02:17, 11.46s/it]"
     ]
    },
    {
     "name": "stdout",
     "output_type": "stream",
     "text": [
      "Este actor no tiene premios\n"
     ]
    },
    {
     "name": "stderr",
     "output_type": "stream",
     "text": [
      " 78%|███████▊  | 39/50 [07:31<02:06, 11.46s/it]"
     ]
    },
    {
     "name": "stdout",
     "output_type": "stream",
     "text": [
      "Este actor no tiene premios\n"
     ]
    },
    {
     "name": "stderr",
     "output_type": "stream",
     "text": [
      " 80%|████████  | 40/50 [07:42<01:53, 11.35s/it]"
     ]
    },
    {
     "name": "stdout",
     "output_type": "stream",
     "text": [
      "El actor Robert Kerman no es conocido por nada más  \n",
      "Este actor no tiene premios\n"
     ]
    },
    {
     "name": "stderr",
     "output_type": "stream",
     "text": [
      " 82%|████████▏ | 41/50 [07:53<01:39, 11.08s/it]"
     ]
    },
    {
     "name": "stdout",
     "output_type": "stream",
     "text": [
      "Este actor no tiene premios\n"
     ]
    },
    {
     "name": "stderr",
     "output_type": "stream",
     "text": [
      " 84%|████████▍ | 42/50 [08:04<01:28, 11.01s/it]"
     ]
    },
    {
     "name": "stdout",
     "output_type": "stream",
     "text": [
      "El actor Perry Pirkanen no es conocido por nada más  \n",
      "Este actor no tiene premios\n"
     ]
    },
    {
     "name": "stderr",
     "output_type": "stream",
     "text": [
      " 86%|████████▌ | 43/50 [08:14<01:16, 10.88s/it]"
     ]
    },
    {
     "name": "stdout",
     "output_type": "stream",
     "text": [
      "Este actor no tiene premios\n"
     ]
    },
    {
     "name": "stderr",
     "output_type": "stream",
     "text": [
      " 88%|████████▊ | 44/50 [08:29<01:12, 12.02s/it]"
     ]
    },
    {
     "name": "stdout",
     "output_type": "stream",
     "text": [
      "Este actor no tiene premios\n"
     ]
    },
    {
     "name": "stderr",
     "output_type": "stream",
     "text": [
      " 90%|█████████ | 45/50 [08:41<01:00, 12.08s/it]"
     ]
    },
    {
     "name": "stdout",
     "output_type": "stream",
     "text": [
      "El actor Paul Callaway no es conocido por nada más  \n",
      "Este actor no tiene premios\n"
     ]
    },
    {
     "name": "stderr",
     "output_type": "stream",
     "text": [
      " 92%|█████████▏| 46/50 [08:52<00:46, 11.68s/it]"
     ]
    },
    {
     "name": "stdout",
     "output_type": "stream",
     "text": [
      "El actor Richard Lange no es conocido por nada más  \n",
      "Este actor no tiene premios\n"
     ]
    },
    {
     "name": "stderr",
     "output_type": "stream",
     "text": [
      " 94%|█████████▍| 47/50 [09:03<00:34, 11.37s/it]"
     ]
    },
    {
     "name": "stdout",
     "output_type": "stream",
     "text": [
      "Este actor no tiene premios\n"
     ]
    },
    {
     "name": "stderr",
     "output_type": "stream",
     "text": [
      " 96%|█████████▌| 48/50 [09:13<00:22, 11.23s/it]"
     ]
    },
    {
     "name": "stdout",
     "output_type": "stream",
     "text": [
      "El actor Brad Ellingson no es conocido por nada más  \n",
      "Este actor no tiene premios\n"
     ]
    },
    {
     "name": "stderr",
     "output_type": "stream",
     "text": [
      " 98%|█████████▊| 49/50 [09:22<00:10, 10.52s/it]"
     ]
    },
    {
     "name": "stdout",
     "output_type": "stream",
     "text": [
      "El actor Karen McDiarmid no es conocido por nada más  \n",
      "Este actor no tiene premios\n"
     ]
    },
    {
     "name": "stderr",
     "output_type": "stream",
     "text": [
      "100%|██████████| 50/50 [09:31<00:00, 11.42s/it]\n"
     ]
    }
   ],
   "source": [
    "driver = webdriver.Chrome()\n",
    "\n",
    "driver.get('https://www.imdb.com/')\n",
    "\n",
    "driver.maximize_window()\n",
    "\n",
    "sleep (5)\n",
    "\n",
    "#Cookies\n",
    "driver.find_element('css selector', '#__next > div > div > div.sc-jrcTuL.bPmWiM > div > button.icb-btn.sc-bcXHqe.sc-dkrFOg.sc-iBYQkv.dcvrLS.ddtuHe.dRCGjd').click()\n",
    "\n",
    "sleep(2)\n",
    "\n",
    "nacimiento = []\n",
    "premios_actor = []\n",
    "conocido = []\n",
    "pelis = []\n",
    "\n",
    "  \n",
    "for actor in tqdm(list_all_actors):\n",
    "    conocido_por = []\n",
    "    ganados = []\n",
    "    nominaciones = []\n",
    "    peliculas = []\n",
    "    # buscamos al actor\n",
    "    driver.find_element('css selector', '#suggestion-search').send_keys(actor, Keys.ENTER)\n",
    "    \n",
    "    # clickamos en la primera coincidencia\n",
    "    driver.find_element('css selector', '#__next > main > div.ipc-page-content-container.ipc-page-content-container--full.sc-e51f9d6d-0.Fmvqg > div.ipc-page-content-container.ipc-page-content-container--center > section > div > div.ipc-page-grid__item.ipc-page-grid__item--span-2 > section:nth-child(4) > div.sc-e8e4ce7-2.iXsuvN > ul > li:nth-child(1) > div.ipc-metadata-list-summary-item__c > div > a').click()\n",
    "    \n",
    "    # añadimos fecha nacimiento_actor\n",
    "    \n",
    "    try:\n",
    "        nacimiento.append(driver.find_element('xpath', '//*[@id=\"__next\"]/main/div/section[1]/section/div[3]/section/section/div[3]/div/div[2]/section/aside/div/span[2]').text)\n",
    "    \n",
    "    except:\n",
    "        nacimiento.append(None)  \n",
    "    \n",
    "    try: \n",
    "        for elemento in range (1,5):\n",
    "            \n",
    "            conocido_por.append(driver.find_element('css selector', f'#__next > main > div > section.ipc-page-background.ipc-page-background--base.sc-c41b9732-0.NeSef > div > section > div > div.sc-978e9339-1.ihWZgK.ipc-page-grid__item.ipc-page-grid__item--span-2 > div.celwidget > section:nth-child(1) > div.sc-1c5b3162-0.fFgRFS > div > div.ipc-sub-grid.ipc-sub-grid--page-span-2.ipc-sub-grid--wraps-at-above-l.ipc-shoveler__grid > div:nth-child({elemento}) > div.ipc-primary-image-list-card__content > div.ipc-primary-image-list-card__content-top > a').text)\n",
    "\n",
    "        conocido.append(tuple(conocido_por))\n",
    "    except:\n",
    "        print(f\"El actor {actor} no es conocido por nada más  \")\n",
    "    \n",
    "    # añadimos lista 10 peliculas en las que ha participado\n",
    "    \n",
    "    try: \n",
    "        \n",
    "        for peli in range(1,10):\n",
    "            \n",
    "            try:\n",
    "        \n",
    "                peliculas.append(driver.find_element('xpath', f'#accordion-item-actor-previous-projects > div > ul > li:nth-child({peli}) > div.ipc-metadata-list-summary-item__c > div.ipc-metadata-list-summary-item__tc > a').text)\n",
    "        \n",
    "                pelis.append(tuple(peliculas))\n",
    "        \n",
    "            except: \n",
    "                try:\n",
    "                    peliculas.append(driver.find_element('xpath', '//*[@id=\"accordion-item-actor-previous-projects\"]/div/ul/li[1]/div[2]/div[1]/a').text)\n",
    "                                                        #//*[@id=\"accordion-item-actor-previous-projects\"]/div/ul/li[2]/div[2]/div[1]/a\n",
    "                \n",
    "                except:\n",
    "                    peliculas.append(None)\n",
    "\n",
    "    except:\n",
    "        print(f\"el actor {actor} no tiene más peliculas\")\n",
    "        \n",
    "    # accedemos a premios\n",
    "    \n",
    "    try:\n",
    "        driver.find_element('css selector', '#__next > main > div > section.ipc-page-background.ipc-page-background--base.sc-c41b9732-0.NeSef > div > section > div > div.sc-978e9339-1.ihWZgK.ipc-page-grid__item.ipc-page-grid__item--span-2 > section:nth-child(3) > div > ul > li > div').click()\n",
    "    \n",
    "    except:\n",
    "        try: # hago el try dos veces porque en el primer intento consigo que el navegador se mueva al elemento y en el except es cuando consigo clickearlo\n",
    "            sleep(3)\n",
    "            driver.find_element('css selector', '#__next > main > div > section.ipc-page-background.ipc-page-background--base.sc-c41b9732-0.NeSef > div > section > div > div.sc-978e9339-1.ihWZgK.ipc-page-grid__item.ipc-page-grid__item--span-2 > section:nth-child(3) > div > ul > li > div').click()\n",
    "            \n",
    "            print('Entramos en los premios')\n",
    "        except:\n",
    "            print(\"Este actor no tiene premios\")\n",
    "\n",
    "    for premio in range (1,11):\n",
    "        try: \n",
    "            # premios ganados\n",
    "            ganados.append(driver.find_element('css selector', f'#__next > main > div > section > div > section > div > div.sc-978e9339-1.ihWZgK.ipc-page-grid__item.ipc-page-grid__item--span-2 > section:nth-child(3) > div.sc-f65f65be-0.bBlII > ul > li:nth-child({premio}) > div.ipc-metadata-list-summary-item__c > div > a').text)\n",
    "            # nominaciones                                                    \n",
    "            nominaciones.append(driver.find_element('css selector', f'#__next > main > div > section > div > section > div > div.sc-978e9339-1.ihWZgK.ipc-page-grid__item.ipc-page-grid__item--span-2 > section:nth-child(4) > div.sc-f65f65be-0.bBlII > ul > li:nth-child({premio}) > div.ipc-metadata-list-summary-item__c > div > a').text)\n",
    "\n",
    "        except:                                                  \n",
    "            pass\n",
    "    \n",
    "    # comprobamos si tiene premio ganado o nominacion, si es así lo añadimos al diccionario de premios por actor\n",
    "    if len(ganados) > 0 or len(nominaciones) > 0:\n",
    "        premios_actor.append({'premios ganados': ganados, 'nominaciones': nominaciones})\n",
    "    \n",
    "    else:\n",
    "        premios_actor.append(None)\n",
    "    \n",
    "    driver.back()\n",
    "\n",
    "\n",
    "driver.close()\n",
    "\n",
    "# #__next > main > div.ipc-page-content-container.ipc-page-content-container--full.sc-e51f9d6d-0.Fmvqg > div.ipc-page-content-container.ipc-page-content-container--center > section > div > div.ipc-page-grid__item.ipc-page-grid__item--span-2 > section:nth-child(5) > div.sc-e8e4ce7-2.iXsuvN > ul > li > div.ipc-metadata-list-summary-item__c > div > a\n",
    "#accordion-item-actor-previous-projects > div > ul > li:nth-child(1) > div.ipc-metadata-list-summary-item__c > div.ipc-metadata-list-summary-item__tc > a\n",
    "\n",
    "    "
   ]
  },
  {
   "cell_type": "code",
   "execution_count": 53,
   "metadata": {},
   "outputs": [
    {
     "data": {
      "text/plain": [
       "[('Shirikurae Magoichi', 'Kagerô-za', 'Rabu retâ', 'Umi no koto'),\n",
       " ('Godzilla contra Cibergodzilla, máquina de destrucción',\n",
       "  'Lady Snowblood',\n",
       "  '2009: Lost Memories',\n",
       "  'Urutoraman Eiteî'),\n",
       " ('Hikaru umi', 'Burai yori daikanbu', 'Shiosai', 'Aoi sanmyaku'),\n",
       " ('Mirâman', 'Urutoraman Tarô', 'Mirâman', 'Terremoto 81'),\n",
       " ('Inugami-ke no ichizoku',\n",
       "  'Hordas salvajes',\n",
       "  'Sanada Yukimura no bouryaku',\n",
       "  'Hana no nagadosu'),\n",
       " ('Primitif',\n",
       "  'Perhitungan terakhir',\n",
       "  'Tuyul Eee Ketemu Lagi',\n",
       "  'Gara-gara janda kaya'),\n",
       " ('The Warrior: El guerrero',\n",
       "  'Bajing Ireng dan Jaka Sembung',\n",
       "  'Pintu Harmonika',\n",
       "  'Si Buta Lawan Jaka Sembung'),\n",
       " ('Resplandeciente batalla',\n",
       "  'Aladin dan Lampu Wasiat',\n",
       "  'Primitif',\n",
       "  'Jakarta Jakarta'),\n",
       " ('Jaka Swara', 'The Warrior: El guerrero', 'Ratu Buaya', 'Noda X'),\n",
       " ('Sult',\n",
       "  'Millennium 2: La chica que soñaba con una cerilla y un bidón de gasolina',\n",
       "  'Ronja',\n",
       "  'Sverige åt svenskarna'),\n",
       " ('La naranja mecánica', 'Zulú', 'Carros de fuego', 'Barry Lyndon'),\n",
       " ('Matrimonio a la italiana',\n",
       "  'Misión Lisboa',\n",
       "  'La Eneida',\n",
       "  'Los últimos días de Pompeya'),\n",
       " ('Emmerdale', 'The Chinese Puzzle', 'Doctor Who', 'Target'),\n",
       " ('Un horizonte muy lejano', 'El magistrado inglés', 'Confesiones', 'RawHead'),\n",
       " ('Molokai, la isla maldita',\n",
       "  'El chulo',\n",
       "  'Don Quijote cabalga de nuevo',\n",
       "  'El príncipe encadenado'),\n",
       " ('Bichos Muy Raros', 'Curro Jiménez', 'El felino', 'Donde hay patrón...'),\n",
       " ('El tercer hombre',\n",
       "  'Suspiria',\n",
       "  'Los ojos sin rostro',\n",
       "  'El proceso Paradine'),\n",
       " ('Historias para no dormir',\n",
       "  'Tiempo de amor',\n",
       "  'Muere una mujer',\n",
       "  'Periodistas'),\n",
       " (\"Mujeres al borde de un ataque de 'nervios'\",\n",
       "  'Volver',\n",
       "  'La comunidad',\n",
       "  '¡Ay, Carmela!'),\n",
       " ('Diario de una esposa desesperada',\n",
       "  'El jinete pálido',\n",
       "  'Juegos salvajes',\n",
       "  'La ley de Murphy'),\n",
       " ('Días sin huella', 'Crimen perfecto', 'Love Story', 'Los intrusos'),\n",
       " ('Días felices',\n",
       "  'The Hardy Boys/Nancy Drew Mysteries',\n",
       "  'Enredo',\n",
       "  'California'),\n",
       " ('Matar a un ruiseñor',\n",
       "  'Eleanor and Franklin',\n",
       "  'Poderosa Afrodita',\n",
       "  'Más allá de la muerte'),\n",
       " ('Terciopelo azul', 'Terminagolf', 'Inspector Gadget', 'Planes de boda'),\n",
       " ('Bronx, lucha final',\n",
       "  'Nueva York bajo el terror de los zombies',\n",
       "  'Laura',\n",
       "  'Lujuria'),\n",
       " ('El trono de fuego',\n",
       "  '2020 Los Rangers de Texas',\n",
       "  'La última misión',\n",
       "  'Playa perdida'),\n",
       " ('Los hijos del naúfrago',\n",
       "  'Passage du désir',\n",
       "  'Service volé',\n",
       "  'Par accident'),\n",
       " ('El ataque de las vampiras',\n",
       "  'El mirón y la exhibicionista',\n",
       "  'Una rajita para dos',\n",
       "  'El reformatorio de las perdidas'),\n",
       " ('Mejor... imposible',\n",
       "  'Superpoli de centro comercial',\n",
       "  'Play Boy: el rey del mando',\n",
       "  'Dulce pájaro de juventud'),\n",
       " ('Krull', 'Alien 2: Sobre la tierra', 'Goliath está esperando', 'Lassiter'),\n",
       " ('La nouvelle malle des Indes',\n",
       "  'Delitto di stato',\n",
       "  'Alien 2: Sobre la tierra',\n",
       "  'Lo studente'),\n",
       " ('Alien 2: Sobre la tierra',\n",
       "  'Los invasores del abismo',\n",
       "  'Cerdos con alas',\n",
       "  'Berlín interior'),\n",
       " ('Mi novia es un zombie',\n",
       "  'Aquarius',\n",
       "  'Camino sin retorno',\n",
       "  'El secreto de los hermanos Grimm'),\n",
       " ('Saturday Night Live', '¡Ave, César!', 'Tuca & Bertie', 'Better Call Saul'),\n",
       " ('Aberración', 'Furia', 'Hart y Hart', 'Rabia de sangre'),\n",
       " ('La quema', 'Banished', 'Convoy', 'Ha nacido una estrella'),\n",
       " ('Big Bang', 'Conan', 'Shameless', 'MADtv'),\n",
       " ('1776', 'Amadeus', 'Martin Luther King', 'Rabia de sangre'),\n",
       " ('Holocausto caníbal', 'Death Walks', 'Road Rage', 'El túnel'),\n",
       " ('Nebbie e delitti', 'The Palace', 'Dolceroma', \"That's Amore\"),\n",
       " ('Holocausto caníbal', 'Daño colateral', 'La misión', 'Cobra Verde'),\n",
       " ('Cocoon: El retorno',\n",
       "  'B.L. Stryker',\n",
       "  'Miami Sands',\n",
       "  'Rana: La leyenda del lago de las sombras')]"
      ]
     },
     "execution_count": 53,
     "metadata": {},
     "output_type": "execute_result"
    }
   ],
   "source": [
    "conocido"
   ]
  },
  {
   "cell_type": "code",
   "execution_count": 54,
   "metadata": {},
   "outputs": [
    {
     "data": {
      "text/plain": [
       "[{'premios ganados': ['1966 Ganador APFF Award'],\n",
       "  'nominaciones': ['1981 Ganador Hochi Film Award']},\n",
       " None,\n",
       " None,\n",
       " None,\n",
       " {'premios ganados': ['1991 Ganador Special Award'],\n",
       "  'nominaciones': ['1986 Ganador Special Award']},\n",
       " None,\n",
       " {'premios ganados': ['2013 Nominado Piala Maya'], 'nominaciones': []},\n",
       " None,\n",
       " None,\n",
       " None,\n",
       " {'premios ganados': ['1967 Ganador Bodil'],\n",
       "  'nominaciones': ['1966 Ganador Best Actor']},\n",
       " None,\n",
       " None,\n",
       " None,\n",
       " None,\n",
       " {'premios ganados': ['1960 Ganador CEC Award'],\n",
       "  'nominaciones': ['1960 Ganador Fotogramas de Plata']},\n",
       " None,\n",
       " {'premios ganados': ['1991 Ganador Career David',\n",
       "   '1991 Nominado David',\n",
       "   '1982 Ganador David'],\n",
       "  'nominaciones': ['1964 Nominado Golden Globe']},\n",
       " None,\n",
       " {'premios ganados': ['2004 Nominado Silver Condor',\n",
       "   '2002 Nominado Silver Condor'],\n",
       "  'nominaciones': ['1988 Ganador Golden Precolumbian Circle']},\n",
       " {'premios ganados': ['1971 Nominado Oscar'],\n",
       "  'nominaciones': ['1972 Nominado BAFTA Film Award']},\n",
       " {'premios ganados': ['1946 Ganador Oscar'],\n",
       "  'nominaciones': ['1946 Ganador Best Actor']},\n",
       " None,\n",
       " {'premios ganados': ['1977 Nominado Primetime Emmy',\n",
       "   '1976 Ganador Primetime Emmy'],\n",
       "  'nominaciones': ['1961 Ganador Clarence Derwent Award']},\n",
       " {'premios ganados': ['1997 Ganador Gemini'], 'nominaciones': []},\n",
       " {'premios ganados': ['1975 Nominado Silver Ribbon'], 'nominaciones': []},\n",
       " None,\n",
       " {'premios ganados': ['2003 Ganador TV Award'],\n",
       "  'nominaciones': ['1992 Ganador Lucas']},\n",
       " None,\n",
       " None,\n",
       " None,\n",
       " None,\n",
       " None,\n",
       " None,\n",
       " None,\n",
       " None,\n",
       " None,\n",
       " None,\n",
       " None,\n",
       " None,\n",
       " None,\n",
       " None,\n",
       " None,\n",
       " None,\n",
       " None,\n",
       " None,\n",
       " None,\n",
       " None,\n",
       " None,\n",
       " None]"
      ]
     },
     "execution_count": 54,
     "metadata": {},
     "output_type": "execute_result"
    }
   ],
   "source": [
    "premios_actor"
   ]
  },
  {
   "cell_type": "code",
   "execution_count": 68,
   "metadata": {},
   "outputs": [
    {
     "name": "stdout",
     "output_type": "stream",
     "text": [
      "[('1966 Ganador APFF Award',), None, None, None, ('1991 Ganador Special Award',), None, ('2013 Nominado Piala Maya',), None, None, None, ('1967 Ganador Bodil',), None, None, None, None, ('1960 Ganador CEC Award',), None, ('1991 Ganador Career David', '1991 Nominado David', '1982 Ganador David'), None, ('2004 Nominado Silver Condor', '2002 Nominado Silver Condor'), ('1971 Nominado Oscar',), ('1946 Ganador Oscar',), None, ('1977 Nominado Primetime Emmy', '1976 Ganador Primetime Emmy'), ('1997 Ganador Gemini',), ('1975 Nominado Silver Ribbon',), None, ('2003 Ganador TV Award',), None, None, None, None, None, None, None, None, None, None, None, None, None, None, None, None, None, None, None, None, None, None]\n",
      "[('1981 Ganador Hochi Film Award',), None, None, None, ('1986 Ganador Special Award',), None, (), None, None, None, ('1966 Ganador Best Actor',), None, None, None, None, ('1960 Ganador Fotogramas de Plata',), None, ('1964 Nominado Golden Globe',), None, ('1988 Ganador Golden Precolumbian Circle',), ('1972 Nominado BAFTA Film Award',), ('1946 Ganador Best Actor',), None, ('1961 Ganador Clarence Derwent Award',), (), (), None, ('1992 Ganador Lucas',), None, None, None, None, None, None, None, None, None, None, None, None, None, None, None, None, None, None, None, None, None, None]\n"
     ]
    }
   ],
   "source": [
    "premios = []\n",
    "nominaciones = []\n",
    "\n",
    "# Iterar sobre cada diccionario en la lista\n",
    "for persona in premios_actor:\n",
    "    \n",
    "    if persona is None:\n",
    "        premios.append(None)\n",
    "        continue\n",
    "    else:\n",
    "        premios_ganados = persona.get('premios ganados', [])\n",
    "        premios.append(tuple(premios_ganados))\n",
    "\n",
    "# Imprimir la lista de todos los premios ganados\n",
    "print(premios)\n",
    "\n",
    "for persona in premios_actor:\n",
    "    \n",
    "    if persona is None:\n",
    "        nominaciones.append(None)\n",
    "        continue\n",
    "    else:\n",
    "        premios_ganados = persona[\"nominaciones\"]\n",
    "        nominaciones.append(tuple(premios_ganados))\n",
    "        \n",
    "print(nominaciones)"
   ]
  },
  {
   "cell_type": "code",
   "execution_count": 71,
   "metadata": {},
   "outputs": [
    {
     "data": {
      "text/plain": [
       "[('Katsuo Nakamura',\n",
       "  '23 de abril de 1938',\n",
       "  ('1966 Ganador APFF Award',),\n",
       "  ('1981 Ganador Hochi Film Award',),\n",
       "  ('Shirikurae Magoichi', 'Kagerô-za', 'Rabu retâ', 'Umi no koto')),\n",
       " ('Masaaki Daimon',\n",
       "  None,\n",
       "  None,\n",
       "  None,\n",
       "  ('Godzilla contra Cibergodzilla, máquina de destrucción',\n",
       "   'Lady Snowblood',\n",
       "   '2009: Lost Memories',\n",
       "   'Urutoraman Eiteî')),\n",
       " ('Mitsuo Hamada',\n",
       "  '1 de octubre de 1943',\n",
       "  None,\n",
       "  None,\n",
       "  ('Hikaru umi', 'Burai yori daikanbu', 'Shiosai', 'Aoi sanmyaku')),\n",
       " ('Daigo Kusano',\n",
       "  '7 de septiembre de 1939',\n",
       "  None,\n",
       "  None,\n",
       "  ('Mirâman', 'Urutoraman Tarô', 'Mirâman', 'Terremoto 81')),\n",
       " ('Mieko Takamine',\n",
       "  '2 de diciembre de 1918',\n",
       "  ('1991 Ganador Special Award',),\n",
       "  ('1986 Ganador Special Award',),\n",
       "  ('Inugami-ke no ichizoku',\n",
       "   'Hordas salvajes',\n",
       "   'Sanada Yukimura no bouryaku',\n",
       "   'Hana no nagadosu')),\n",
       " ('Enny Haryono',\n",
       "  None,\n",
       "  None,\n",
       "  None,\n",
       "  ('Primitif',\n",
       "   'Perhitungan terakhir',\n",
       "   'Tuyul Eee Ketemu Lagi',\n",
       "   'Gara-gara janda kaya')),\n",
       " ('Barry Prima',\n",
       "  '1955',\n",
       "  ('2013 Nominado Piala Maya',),\n",
       "  (),\n",
       "  ('The Warrior: El guerrero',\n",
       "   'Bajing Ireng dan Jaka Sembung',\n",
       "   'Pintu Harmonika',\n",
       "   'Si Buta Lawan Jaka Sembung')),\n",
       " ('Johann Mardjono',\n",
       "  None,\n",
       "  None,\n",
       "  None,\n",
       "  ('Resplandeciente batalla',\n",
       "   'Aladin dan Lampu Wasiat',\n",
       "   'Primitif',\n",
       "   'Jakarta Jakarta')),\n",
       " ('Rukman Herman',\n",
       "  '2 de marzo de 1939',\n",
       "  None,\n",
       "  None,\n",
       "  ('Jaka Swara', 'The Warrior: El guerrero', 'Ratu Buaya', 'Noda X')),\n",
       " ('Jafarpree York',\n",
       "  None,\n",
       "  None,\n",
       "  None,\n",
       "  ('Sult',\n",
       "   'Millennium 2: La chica que soñaba con una cerilla y un bidón de gasolina',\n",
       "   'Ronja',\n",
       "   'Sverige åt svenskarna')),\n",
       " ('Per Oscarsson',\n",
       "  '28 de enero de 1927',\n",
       "  ('1967 Ganador Bodil',),\n",
       "  ('1966 Ganador Best Actor',),\n",
       "  ('La naranja mecánica', 'Zulú', 'Carros de fuego', 'Barry Lyndon')),\n",
       " ('Patrick Magee',\n",
       "  '31 de marzo de 1922',\n",
       "  None,\n",
       "  None,\n",
       "  ('Matrimonio a la italiana',\n",
       "   'Misión Lisboa',\n",
       "   'La Eneida',\n",
       "   'Los últimos días de Pompeya')),\n",
       " ('Marilù Tolo',\n",
       "  '16 de enero de 1943',\n",
       "  None,\n",
       "  None,\n",
       "  ('Emmerdale', 'The Chinese Puzzle', 'Doctor Who', 'Target')),\n",
       " ('Brendan Price',\n",
       "  '24 de junio de 1947',\n",
       "  None,\n",
       "  None,\n",
       "  ('Un horizonte muy lejano',\n",
       "   'El magistrado inglés',\n",
       "   'Confesiones',\n",
       "   'RawHead')),\n",
       " ('Niall Toibin',\n",
       "  '21 de noviembre de 1929',\n",
       "  None,\n",
       "  None,\n",
       "  ('Molokai, la isla maldita',\n",
       "   'El chulo',\n",
       "   'Don Quijote cabalga de nuevo',\n",
       "   'El príncipe encadenado')),\n",
       " ('Javier Escrivá',\n",
       "  '21 de julio de 1930',\n",
       "  ('1960 Ganador CEC Award',),\n",
       "  ('1960 Ganador Fotogramas de Plata',),\n",
       "  ('Bichos Muy Raros', 'Curro Jiménez', 'El felino', 'Donde hay patrón...')),\n",
       " ('Silvia Aguilar',\n",
       "  None,\n",
       "  None,\n",
       "  None,\n",
       "  ('El tercer hombre',\n",
       "   'Suspiria',\n",
       "   'Los ojos sin rostro',\n",
       "   'El proceso Paradine')),\n",
       " ('Alida Valli',\n",
       "  '31 de mayo de 1921',\n",
       "  ('1991 Ganador Career David', '1991 Nominado David', '1982 Ganador David'),\n",
       "  ('1964 Nominado Golden Globe',),\n",
       "  ('Historias para no dormir',\n",
       "   'Tiempo de amor',\n",
       "   'Muere una mujer',\n",
       "   'Periodistas')),\n",
       " ('Mara Goyanes',\n",
       "  '1942',\n",
       "  None,\n",
       "  None,\n",
       "  (\"Mujeres al borde de un ataque de 'nervios'\",\n",
       "   'Volver',\n",
       "   'La comunidad',\n",
       "   '¡Ay, Carmela!')),\n",
       " ('Carmen Maura',\n",
       "  '15 de septiembre de 1945',\n",
       "  ('2004 Nominado Silver Condor', '2002 Nominado Silver Condor'),\n",
       "  ('1988 Ganador Golden Precolumbian Circle',),\n",
       "  ('Diario de una esposa desesperada',\n",
       "   'El jinete pálido',\n",
       "   'Juegos salvajes',\n",
       "   'La ley de Murphy')),\n",
       " ('Carrie Snodgress',\n",
       "  '27 de octubre de 1945',\n",
       "  ('1971 Nominado Oscar',),\n",
       "  ('1972 Nominado BAFTA Film Award',),\n",
       "  ('Días sin huella', 'Crimen perfecto', 'Love Story', 'Los intrusos')),\n",
       " ('Ray Milland',\n",
       "  '3 de enero de 1907',\n",
       "  ('1946 Ganador Oscar',),\n",
       "  ('1946 Ganador Best Actor',),\n",
       "  ('Días felices',\n",
       "   'The Hardy Boys/Nancy Drew Mysteries',\n",
       "   'Enredo',\n",
       "   'California')),\n",
       " ('Ruth Cox',\n",
       "  '6 de febrero de 1953',\n",
       "  None,\n",
       "  None,\n",
       "  ('Matar a un ruiseñor',\n",
       "   'Eleanor and Franklin',\n",
       "   'Poderosa Afrodita',\n",
       "   'Más allá de la muerte')),\n",
       " ('Rosemary Murphy',\n",
       "  '13 de enero de 1925',\n",
       "  ('1977 Nominado Primetime Emmy', '1976 Ganador Primetime Emmy'),\n",
       "  ('1961 Ganador Clarence Derwent Award',),\n",
       "  ('Terciopelo azul', 'Terminagolf', 'Inspector Gadget', 'Planes de boda')),\n",
       " ('Frances Bay',\n",
       "  '23 de enero de 1919',\n",
       "  ('1997 Ganador Gemini',),\n",
       "  (),\n",
       "  ('Bronx, lucha final',\n",
       "   'Nueva York bajo el terror de los zombies',\n",
       "   'Laura',\n",
       "   'Lujuria')),\n",
       " ('Al Cliver',\n",
       "  '16 de julio de 1951',\n",
       "  ('1975 Nominado Silver Ribbon',),\n",
       "  (),\n",
       "  ('El trono de fuego',\n",
       "   '2020 Los Rangers de Texas',\n",
       "   'La última misión',\n",
       "   'Playa perdida')),\n",
       " ('Sabrina Siani',\n",
       "  '1963',\n",
       "  None,\n",
       "  None,\n",
       "  ('Los hijos del naúfrago',\n",
       "   'Passage du désir',\n",
       "   'Service volé',\n",
       "   'Par accident')),\n",
       " ('Jérôme Foulon',\n",
       "  None,\n",
       "  ('2003 Ganador TV Award',),\n",
       "  ('1992 Ganador Lucas',),\n",
       "  ('El ataque de las vampiras',\n",
       "   'El mirón y la exhibicionista',\n",
       "   'Una rajita para dos',\n",
       "   'El reformatorio de las perdidas')),\n",
       " ('Lina Romay',\n",
       "  '25 de junio de 1954',\n",
       "  None,\n",
       "  None,\n",
       "  ('Mejor... imposible',\n",
       "   'Superpoli de centro comercial',\n",
       "   'Play Boy: el rey del mando',\n",
       "   'Dulce pájaro de juventud')),\n",
       " ('Shirley Knight',\n",
       "  '5 de julio de 1936',\n",
       "  None,\n",
       "  None,\n",
       "  ('Krull', 'Alien 2: Sobre la tierra', 'Goliath está esperando', 'Lassiter')),\n",
       " ('Belinda Mayne',\n",
       "  '2 de octubre de 1954',\n",
       "  None,\n",
       "  None,\n",
       "  ('La nouvelle malle des Indes',\n",
       "   'Delitto di stato',\n",
       "   'Alien 2: Sobre la tierra',\n",
       "   'Lo studente')),\n",
       " ('Mark Bodin',\n",
       "  None,\n",
       "  None,\n",
       "  None,\n",
       "  ('Alien 2: Sobre la tierra',\n",
       "   'Los invasores del abismo',\n",
       "   'Cerdos con alas',\n",
       "   'Berlín interior')),\n",
       " ('Roberto Barrese',\n",
       "  None,\n",
       "  None,\n",
       "  None,\n",
       "  ('Mi novia es un zombie',\n",
       "   'Aquarius',\n",
       "   'Camino sin retorno',\n",
       "   'El secreto de los hermanos Grimm')),\n",
       " ('Benedetta Fantoli',\n",
       "  None,\n",
       "  None,\n",
       "  None,\n",
       "  ('Saturday Night Live',\n",
       "   '¡Ave, César!',\n",
       "   'Tuca & Bertie',\n",
       "   'Better Call Saul')),\n",
       " ('Michele Soavi',\n",
       "  '3 de julio de 1957',\n",
       "  None,\n",
       "  None,\n",
       "  ('Aberración', 'Furia', 'Hart y Hart', 'Rabia de sangre')),\n",
       " ('James Johnson',\n",
       "  '19 de julio de 1989',\n",
       "  None,\n",
       "  None,\n",
       "  ('La quema', 'Banished', 'Convoy', 'Ha nacido una estrella')),\n",
       " ('Judith-Marie Bergan',\n",
       "  '25 de noviembre de 1948',\n",
       "  None,\n",
       "  None,\n",
       "  ('Big Bang', 'Conan', 'Shameless', 'MADtv')),\n",
       " ('Jerry McGee',\n",
       "  '17 de noviembre de 1937',\n",
       "  None,\n",
       "  None,\n",
       "  ('1776', 'Amadeus', 'Martin Luther King', 'Rabia de sangre')),\n",
       " ('Ian Scott',\n",
       "  None,\n",
       "  None,\n",
       "  None,\n",
       "  ('Holocausto caníbal', 'Death Walks', 'Road Rage', 'El túnel')),\n",
       " ('Patrick Hines',\n",
       "  '17 de marzo de 1930',\n",
       "  None,\n",
       "  None,\n",
       "  ('Nebbie e delitti', 'The Palace', 'Dolceroma', \"That's Amore\")),\n",
       " ('Robert Kerman',\n",
       "  None,\n",
       "  None,\n",
       "  None,\n",
       "  ('Holocausto caníbal', 'Daño colateral', 'La misión', 'Cobra Verde')),\n",
       " ('Francesca Ciardi',\n",
       "  '26 de julio de 1954',\n",
       "  None,\n",
       "  None,\n",
       "  ('Cocoon: El retorno',\n",
       "   'B.L. Stryker',\n",
       "   'Miami Sands',\n",
       "   'Rana: La leyenda del lago de las sombras'))]"
      ]
     },
     "execution_count": 71,
     "metadata": {},
     "output_type": "execute_result"
    }
   ],
   "source": [
    "horror_elenco = list(tuple(zip(list_all_actors,nacimiento, premios, nominaciones, conocido)))\n",
    "\n",
    "horror_elenco"
   ]
  },
  {
   "cell_type": "code",
   "execution_count": 72,
   "metadata": {},
   "outputs": [
    {
     "data": {
      "text/html": [
       "<div>\n",
       "<style scoped>\n",
       "    .dataframe tbody tr th:only-of-type {\n",
       "        vertical-align: middle;\n",
       "    }\n",
       "\n",
       "    .dataframe tbody tr th {\n",
       "        vertical-align: top;\n",
       "    }\n",
       "\n",
       "    .dataframe thead th {\n",
       "        text-align: right;\n",
       "    }\n",
       "</style>\n",
       "<table border=\"1\" class=\"dataframe\">\n",
       "  <thead>\n",
       "    <tr style=\"text-align: right;\">\n",
       "      <th></th>\n",
       "      <th>Nombre</th>\n",
       "      <th>Nacimiento</th>\n",
       "      <th>Premios</th>\n",
       "      <th>Nominaciones</th>\n",
       "      <th>Conocido por</th>\n",
       "    </tr>\n",
       "  </thead>\n",
       "  <tbody>\n",
       "    <tr>\n",
       "      <th>0</th>\n",
       "      <td>Katsuo Nakamura</td>\n",
       "      <td>23 de abril de 1938</td>\n",
       "      <td>(1966 Ganador APFF Award,)</td>\n",
       "      <td>(1981 Ganador Hochi Film Award,)</td>\n",
       "      <td>(Shirikurae Magoichi, Kagerô-za, Rabu retâ, Um...</td>\n",
       "    </tr>\n",
       "    <tr>\n",
       "      <th>1</th>\n",
       "      <td>Masaaki Daimon</td>\n",
       "      <td>None</td>\n",
       "      <td>None</td>\n",
       "      <td>None</td>\n",
       "      <td>(Godzilla contra Cibergodzilla, máquina de des...</td>\n",
       "    </tr>\n",
       "    <tr>\n",
       "      <th>2</th>\n",
       "      <td>Mitsuo Hamada</td>\n",
       "      <td>1 de octubre de 1943</td>\n",
       "      <td>None</td>\n",
       "      <td>None</td>\n",
       "      <td>(Hikaru umi, Burai yori daikanbu, Shiosai, Aoi...</td>\n",
       "    </tr>\n",
       "    <tr>\n",
       "      <th>3</th>\n",
       "      <td>Daigo Kusano</td>\n",
       "      <td>7 de septiembre de 1939</td>\n",
       "      <td>None</td>\n",
       "      <td>None</td>\n",
       "      <td>(Mirâman, Urutoraman Tarô, Mirâman, Terremoto 81)</td>\n",
       "    </tr>\n",
       "    <tr>\n",
       "      <th>4</th>\n",
       "      <td>Mieko Takamine</td>\n",
       "      <td>2 de diciembre de 1918</td>\n",
       "      <td>(1991 Ganador Special Award,)</td>\n",
       "      <td>(1986 Ganador Special Award,)</td>\n",
       "      <td>(Inugami-ke no ichizoku, Hordas salvajes, Sana...</td>\n",
       "    </tr>\n",
       "    <tr>\n",
       "      <th>5</th>\n",
       "      <td>Enny Haryono</td>\n",
       "      <td>None</td>\n",
       "      <td>None</td>\n",
       "      <td>None</td>\n",
       "      <td>(Primitif, Perhitungan terakhir, Tuyul Eee Ket...</td>\n",
       "    </tr>\n",
       "    <tr>\n",
       "      <th>6</th>\n",
       "      <td>Barry Prima</td>\n",
       "      <td>1955</td>\n",
       "      <td>(2013 Nominado Piala Maya,)</td>\n",
       "      <td>()</td>\n",
       "      <td>(The Warrior: El guerrero, Bajing Ireng dan Ja...</td>\n",
       "    </tr>\n",
       "    <tr>\n",
       "      <th>7</th>\n",
       "      <td>Johann Mardjono</td>\n",
       "      <td>None</td>\n",
       "      <td>None</td>\n",
       "      <td>None</td>\n",
       "      <td>(Resplandeciente batalla, Aladin dan Lampu Was...</td>\n",
       "    </tr>\n",
       "    <tr>\n",
       "      <th>8</th>\n",
       "      <td>Rukman Herman</td>\n",
       "      <td>2 de marzo de 1939</td>\n",
       "      <td>None</td>\n",
       "      <td>None</td>\n",
       "      <td>(Jaka Swara, The Warrior: El guerrero, Ratu Bu...</td>\n",
       "    </tr>\n",
       "    <tr>\n",
       "      <th>9</th>\n",
       "      <td>Jafarpree York</td>\n",
       "      <td>None</td>\n",
       "      <td>None</td>\n",
       "      <td>None</td>\n",
       "      <td>(Sult, Millennium 2: La chica que soñaba con u...</td>\n",
       "    </tr>\n",
       "    <tr>\n",
       "      <th>10</th>\n",
       "      <td>Per Oscarsson</td>\n",
       "      <td>28 de enero de 1927</td>\n",
       "      <td>(1967 Ganador Bodil,)</td>\n",
       "      <td>(1966 Ganador Best Actor,)</td>\n",
       "      <td>(La naranja mecánica, Zulú, Carros de fuego, B...</td>\n",
       "    </tr>\n",
       "    <tr>\n",
       "      <th>11</th>\n",
       "      <td>Patrick Magee</td>\n",
       "      <td>31 de marzo de 1922</td>\n",
       "      <td>None</td>\n",
       "      <td>None</td>\n",
       "      <td>(Matrimonio a la italiana, Misión Lisboa, La E...</td>\n",
       "    </tr>\n",
       "    <tr>\n",
       "      <th>12</th>\n",
       "      <td>Marilù Tolo</td>\n",
       "      <td>16 de enero de 1943</td>\n",
       "      <td>None</td>\n",
       "      <td>None</td>\n",
       "      <td>(Emmerdale, The Chinese Puzzle, Doctor Who, Ta...</td>\n",
       "    </tr>\n",
       "    <tr>\n",
       "      <th>13</th>\n",
       "      <td>Brendan Price</td>\n",
       "      <td>24 de junio de 1947</td>\n",
       "      <td>None</td>\n",
       "      <td>None</td>\n",
       "      <td>(Un horizonte muy lejano, El magistrado inglés...</td>\n",
       "    </tr>\n",
       "    <tr>\n",
       "      <th>14</th>\n",
       "      <td>Niall Toibin</td>\n",
       "      <td>21 de noviembre de 1929</td>\n",
       "      <td>None</td>\n",
       "      <td>None</td>\n",
       "      <td>(Molokai, la isla maldita, El chulo, Don Quijo...</td>\n",
       "    </tr>\n",
       "    <tr>\n",
       "      <th>15</th>\n",
       "      <td>Javier Escrivá</td>\n",
       "      <td>21 de julio de 1930</td>\n",
       "      <td>(1960 Ganador CEC Award,)</td>\n",
       "      <td>(1960 Ganador Fotogramas de Plata,)</td>\n",
       "      <td>(Bichos Muy Raros, Curro Jiménez, El felino, D...</td>\n",
       "    </tr>\n",
       "    <tr>\n",
       "      <th>16</th>\n",
       "      <td>Silvia Aguilar</td>\n",
       "      <td>None</td>\n",
       "      <td>None</td>\n",
       "      <td>None</td>\n",
       "      <td>(El tercer hombre, Suspiria, Los ojos sin rost...</td>\n",
       "    </tr>\n",
       "    <tr>\n",
       "      <th>17</th>\n",
       "      <td>Alida Valli</td>\n",
       "      <td>31 de mayo de 1921</td>\n",
       "      <td>(1991 Ganador Career David, 1991 Nominado Davi...</td>\n",
       "      <td>(1964 Nominado Golden Globe,)</td>\n",
       "      <td>(Historias para no dormir, Tiempo de amor, Mue...</td>\n",
       "    </tr>\n",
       "    <tr>\n",
       "      <th>18</th>\n",
       "      <td>Mara Goyanes</td>\n",
       "      <td>1942</td>\n",
       "      <td>None</td>\n",
       "      <td>None</td>\n",
       "      <td>(Mujeres al borde de un ataque de 'nervios', V...</td>\n",
       "    </tr>\n",
       "    <tr>\n",
       "      <th>19</th>\n",
       "      <td>Carmen Maura</td>\n",
       "      <td>15 de septiembre de 1945</td>\n",
       "      <td>(2004 Nominado Silver Condor, 2002 Nominado Si...</td>\n",
       "      <td>(1988 Ganador Golden Precolumbian Circle,)</td>\n",
       "      <td>(Diario de una esposa desesperada, El jinete p...</td>\n",
       "    </tr>\n",
       "    <tr>\n",
       "      <th>20</th>\n",
       "      <td>Carrie Snodgress</td>\n",
       "      <td>27 de octubre de 1945</td>\n",
       "      <td>(1971 Nominado Oscar,)</td>\n",
       "      <td>(1972 Nominado BAFTA Film Award,)</td>\n",
       "      <td>(Días sin huella, Crimen perfecto, Love Story,...</td>\n",
       "    </tr>\n",
       "    <tr>\n",
       "      <th>21</th>\n",
       "      <td>Ray Milland</td>\n",
       "      <td>3 de enero de 1907</td>\n",
       "      <td>(1946 Ganador Oscar,)</td>\n",
       "      <td>(1946 Ganador Best Actor,)</td>\n",
       "      <td>(Días felices, The Hardy Boys/Nancy Drew Myste...</td>\n",
       "    </tr>\n",
       "    <tr>\n",
       "      <th>22</th>\n",
       "      <td>Ruth Cox</td>\n",
       "      <td>6 de febrero de 1953</td>\n",
       "      <td>None</td>\n",
       "      <td>None</td>\n",
       "      <td>(Matar a un ruiseñor, Eleanor and Franklin, Po...</td>\n",
       "    </tr>\n",
       "    <tr>\n",
       "      <th>23</th>\n",
       "      <td>Rosemary Murphy</td>\n",
       "      <td>13 de enero de 1925</td>\n",
       "      <td>(1977 Nominado Primetime Emmy, 1976 Ganador Pr...</td>\n",
       "      <td>(1961 Ganador Clarence Derwent Award,)</td>\n",
       "      <td>(Terciopelo azul, Terminagolf, Inspector Gadge...</td>\n",
       "    </tr>\n",
       "    <tr>\n",
       "      <th>24</th>\n",
       "      <td>Frances Bay</td>\n",
       "      <td>23 de enero de 1919</td>\n",
       "      <td>(1997 Ganador Gemini,)</td>\n",
       "      <td>()</td>\n",
       "      <td>(Bronx, lucha final, Nueva York bajo el terror...</td>\n",
       "    </tr>\n",
       "    <tr>\n",
       "      <th>25</th>\n",
       "      <td>Al Cliver</td>\n",
       "      <td>16 de julio de 1951</td>\n",
       "      <td>(1975 Nominado Silver Ribbon,)</td>\n",
       "      <td>()</td>\n",
       "      <td>(El trono de fuego, 2020 Los Rangers de Texas,...</td>\n",
       "    </tr>\n",
       "    <tr>\n",
       "      <th>26</th>\n",
       "      <td>Sabrina Siani</td>\n",
       "      <td>1963</td>\n",
       "      <td>None</td>\n",
       "      <td>None</td>\n",
       "      <td>(Los hijos del naúfrago, Passage du désir, Ser...</td>\n",
       "    </tr>\n",
       "    <tr>\n",
       "      <th>27</th>\n",
       "      <td>Jérôme Foulon</td>\n",
       "      <td>None</td>\n",
       "      <td>(2003 Ganador TV Award,)</td>\n",
       "      <td>(1992 Ganador Lucas,)</td>\n",
       "      <td>(El ataque de las vampiras, El mirón y la exhi...</td>\n",
       "    </tr>\n",
       "    <tr>\n",
       "      <th>28</th>\n",
       "      <td>Lina Romay</td>\n",
       "      <td>25 de junio de 1954</td>\n",
       "      <td>None</td>\n",
       "      <td>None</td>\n",
       "      <td>(Mejor... imposible, Superpoli de centro comer...</td>\n",
       "    </tr>\n",
       "    <tr>\n",
       "      <th>29</th>\n",
       "      <td>Shirley Knight</td>\n",
       "      <td>5 de julio de 1936</td>\n",
       "      <td>None</td>\n",
       "      <td>None</td>\n",
       "      <td>(Krull, Alien 2: Sobre la tierra, Goliath está...</td>\n",
       "    </tr>\n",
       "    <tr>\n",
       "      <th>30</th>\n",
       "      <td>Belinda Mayne</td>\n",
       "      <td>2 de octubre de 1954</td>\n",
       "      <td>None</td>\n",
       "      <td>None</td>\n",
       "      <td>(La nouvelle malle des Indes, Delitto di stato...</td>\n",
       "    </tr>\n",
       "    <tr>\n",
       "      <th>31</th>\n",
       "      <td>Mark Bodin</td>\n",
       "      <td>None</td>\n",
       "      <td>None</td>\n",
       "      <td>None</td>\n",
       "      <td>(Alien 2: Sobre la tierra, Los invasores del a...</td>\n",
       "    </tr>\n",
       "    <tr>\n",
       "      <th>32</th>\n",
       "      <td>Roberto Barrese</td>\n",
       "      <td>None</td>\n",
       "      <td>None</td>\n",
       "      <td>None</td>\n",
       "      <td>(Mi novia es un zombie, Aquarius, Camino sin r...</td>\n",
       "    </tr>\n",
       "    <tr>\n",
       "      <th>33</th>\n",
       "      <td>Benedetta Fantoli</td>\n",
       "      <td>None</td>\n",
       "      <td>None</td>\n",
       "      <td>None</td>\n",
       "      <td>(Saturday Night Live, ¡Ave, César!, Tuca &amp; Ber...</td>\n",
       "    </tr>\n",
       "    <tr>\n",
       "      <th>34</th>\n",
       "      <td>Michele Soavi</td>\n",
       "      <td>3 de julio de 1957</td>\n",
       "      <td>None</td>\n",
       "      <td>None</td>\n",
       "      <td>(Aberración, Furia, Hart y Hart, Rabia de sangre)</td>\n",
       "    </tr>\n",
       "    <tr>\n",
       "      <th>35</th>\n",
       "      <td>James Johnson</td>\n",
       "      <td>19 de julio de 1989</td>\n",
       "      <td>None</td>\n",
       "      <td>None</td>\n",
       "      <td>(La quema, Banished, Convoy, Ha nacido una est...</td>\n",
       "    </tr>\n",
       "    <tr>\n",
       "      <th>36</th>\n",
       "      <td>Judith-Marie Bergan</td>\n",
       "      <td>25 de noviembre de 1948</td>\n",
       "      <td>None</td>\n",
       "      <td>None</td>\n",
       "      <td>(Big Bang, Conan, Shameless, MADtv)</td>\n",
       "    </tr>\n",
       "    <tr>\n",
       "      <th>37</th>\n",
       "      <td>Jerry McGee</td>\n",
       "      <td>17 de noviembre de 1937</td>\n",
       "      <td>None</td>\n",
       "      <td>None</td>\n",
       "      <td>(1776, Amadeus, Martin Luther King, Rabia de s...</td>\n",
       "    </tr>\n",
       "    <tr>\n",
       "      <th>38</th>\n",
       "      <td>Ian Scott</td>\n",
       "      <td>None</td>\n",
       "      <td>None</td>\n",
       "      <td>None</td>\n",
       "      <td>(Holocausto caníbal, Death Walks, Road Rage, E...</td>\n",
       "    </tr>\n",
       "    <tr>\n",
       "      <th>39</th>\n",
       "      <td>Patrick Hines</td>\n",
       "      <td>17 de marzo de 1930</td>\n",
       "      <td>None</td>\n",
       "      <td>None</td>\n",
       "      <td>(Nebbie e delitti, The Palace, Dolceroma, That...</td>\n",
       "    </tr>\n",
       "    <tr>\n",
       "      <th>40</th>\n",
       "      <td>Robert Kerman</td>\n",
       "      <td>None</td>\n",
       "      <td>None</td>\n",
       "      <td>None</td>\n",
       "      <td>(Holocausto caníbal, Daño colateral, La misión...</td>\n",
       "    </tr>\n",
       "    <tr>\n",
       "      <th>41</th>\n",
       "      <td>Francesca Ciardi</td>\n",
       "      <td>26 de julio de 1954</td>\n",
       "      <td>None</td>\n",
       "      <td>None</td>\n",
       "      <td>(Cocoon: El retorno, B.L. Stryker, Miami Sands...</td>\n",
       "    </tr>\n",
       "  </tbody>\n",
       "</table>\n",
       "</div>"
      ],
      "text/plain": [
       "                 Nombre                Nacimiento  \\\n",
       "0       Katsuo Nakamura       23 de abril de 1938   \n",
       "1        Masaaki Daimon                      None   \n",
       "2         Mitsuo Hamada      1 de octubre de 1943   \n",
       "3          Daigo Kusano   7 de septiembre de 1939   \n",
       "4        Mieko Takamine    2 de diciembre de 1918   \n",
       "5          Enny Haryono                      None   \n",
       "6           Barry Prima                      1955   \n",
       "7       Johann Mardjono                      None   \n",
       "8         Rukman Herman        2 de marzo de 1939   \n",
       "9        Jafarpree York                      None   \n",
       "10        Per Oscarsson       28 de enero de 1927   \n",
       "11        Patrick Magee       31 de marzo de 1922   \n",
       "12          Marilù Tolo       16 de enero de 1943   \n",
       "13        Brendan Price       24 de junio de 1947   \n",
       "14         Niall Toibin   21 de noviembre de 1929   \n",
       "15       Javier Escrivá       21 de julio de 1930   \n",
       "16       Silvia Aguilar                      None   \n",
       "17          Alida Valli        31 de mayo de 1921   \n",
       "18         Mara Goyanes                      1942   \n",
       "19         Carmen Maura  15 de septiembre de 1945   \n",
       "20     Carrie Snodgress     27 de octubre de 1945   \n",
       "21          Ray Milland        3 de enero de 1907   \n",
       "22             Ruth Cox      6 de febrero de 1953   \n",
       "23      Rosemary Murphy       13 de enero de 1925   \n",
       "24          Frances Bay       23 de enero de 1919   \n",
       "25            Al Cliver       16 de julio de 1951   \n",
       "26        Sabrina Siani                      1963   \n",
       "27        Jérôme Foulon                      None   \n",
       "28           Lina Romay       25 de junio de 1954   \n",
       "29       Shirley Knight        5 de julio de 1936   \n",
       "30        Belinda Mayne      2 de octubre de 1954   \n",
       "31           Mark Bodin                      None   \n",
       "32      Roberto Barrese                      None   \n",
       "33    Benedetta Fantoli                      None   \n",
       "34        Michele Soavi        3 de julio de 1957   \n",
       "35        James Johnson       19 de julio de 1989   \n",
       "36  Judith-Marie Bergan   25 de noviembre de 1948   \n",
       "37          Jerry McGee   17 de noviembre de 1937   \n",
       "38            Ian Scott                      None   \n",
       "39        Patrick Hines       17 de marzo de 1930   \n",
       "40        Robert Kerman                      None   \n",
       "41     Francesca Ciardi       26 de julio de 1954   \n",
       "\n",
       "                                              Premios  \\\n",
       "0                          (1966 Ganador APFF Award,)   \n",
       "1                                                None   \n",
       "2                                                None   \n",
       "3                                                None   \n",
       "4                       (1991 Ganador Special Award,)   \n",
       "5                                                None   \n",
       "6                         (2013 Nominado Piala Maya,)   \n",
       "7                                                None   \n",
       "8                                                None   \n",
       "9                                                None   \n",
       "10                              (1967 Ganador Bodil,)   \n",
       "11                                               None   \n",
       "12                                               None   \n",
       "13                                               None   \n",
       "14                                               None   \n",
       "15                          (1960 Ganador CEC Award,)   \n",
       "16                                               None   \n",
       "17  (1991 Ganador Career David, 1991 Nominado Davi...   \n",
       "18                                               None   \n",
       "19  (2004 Nominado Silver Condor, 2002 Nominado Si...   \n",
       "20                             (1971 Nominado Oscar,)   \n",
       "21                              (1946 Ganador Oscar,)   \n",
       "22                                               None   \n",
       "23  (1977 Nominado Primetime Emmy, 1976 Ganador Pr...   \n",
       "24                             (1997 Ganador Gemini,)   \n",
       "25                     (1975 Nominado Silver Ribbon,)   \n",
       "26                                               None   \n",
       "27                           (2003 Ganador TV Award,)   \n",
       "28                                               None   \n",
       "29                                               None   \n",
       "30                                               None   \n",
       "31                                               None   \n",
       "32                                               None   \n",
       "33                                               None   \n",
       "34                                               None   \n",
       "35                                               None   \n",
       "36                                               None   \n",
       "37                                               None   \n",
       "38                                               None   \n",
       "39                                               None   \n",
       "40                                               None   \n",
       "41                                               None   \n",
       "\n",
       "                                  Nominaciones  \\\n",
       "0             (1981 Ganador Hochi Film Award,)   \n",
       "1                                         None   \n",
       "2                                         None   \n",
       "3                                         None   \n",
       "4                (1986 Ganador Special Award,)   \n",
       "5                                         None   \n",
       "6                                           ()   \n",
       "7                                         None   \n",
       "8                                         None   \n",
       "9                                         None   \n",
       "10                  (1966 Ganador Best Actor,)   \n",
       "11                                        None   \n",
       "12                                        None   \n",
       "13                                        None   \n",
       "14                                        None   \n",
       "15         (1960 Ganador Fotogramas de Plata,)   \n",
       "16                                        None   \n",
       "17               (1964 Nominado Golden Globe,)   \n",
       "18                                        None   \n",
       "19  (1988 Ganador Golden Precolumbian Circle,)   \n",
       "20           (1972 Nominado BAFTA Film Award,)   \n",
       "21                  (1946 Ganador Best Actor,)   \n",
       "22                                        None   \n",
       "23      (1961 Ganador Clarence Derwent Award,)   \n",
       "24                                          ()   \n",
       "25                                          ()   \n",
       "26                                        None   \n",
       "27                       (1992 Ganador Lucas,)   \n",
       "28                                        None   \n",
       "29                                        None   \n",
       "30                                        None   \n",
       "31                                        None   \n",
       "32                                        None   \n",
       "33                                        None   \n",
       "34                                        None   \n",
       "35                                        None   \n",
       "36                                        None   \n",
       "37                                        None   \n",
       "38                                        None   \n",
       "39                                        None   \n",
       "40                                        None   \n",
       "41                                        None   \n",
       "\n",
       "                                         Conocido por  \n",
       "0   (Shirikurae Magoichi, Kagerô-za, Rabu retâ, Um...  \n",
       "1   (Godzilla contra Cibergodzilla, máquina de des...  \n",
       "2   (Hikaru umi, Burai yori daikanbu, Shiosai, Aoi...  \n",
       "3   (Mirâman, Urutoraman Tarô, Mirâman, Terremoto 81)  \n",
       "4   (Inugami-ke no ichizoku, Hordas salvajes, Sana...  \n",
       "5   (Primitif, Perhitungan terakhir, Tuyul Eee Ket...  \n",
       "6   (The Warrior: El guerrero, Bajing Ireng dan Ja...  \n",
       "7   (Resplandeciente batalla, Aladin dan Lampu Was...  \n",
       "8   (Jaka Swara, The Warrior: El guerrero, Ratu Bu...  \n",
       "9   (Sult, Millennium 2: La chica que soñaba con u...  \n",
       "10  (La naranja mecánica, Zulú, Carros de fuego, B...  \n",
       "11  (Matrimonio a la italiana, Misión Lisboa, La E...  \n",
       "12  (Emmerdale, The Chinese Puzzle, Doctor Who, Ta...  \n",
       "13  (Un horizonte muy lejano, El magistrado inglés...  \n",
       "14  (Molokai, la isla maldita, El chulo, Don Quijo...  \n",
       "15  (Bichos Muy Raros, Curro Jiménez, El felino, D...  \n",
       "16  (El tercer hombre, Suspiria, Los ojos sin rost...  \n",
       "17  (Historias para no dormir, Tiempo de amor, Mue...  \n",
       "18  (Mujeres al borde de un ataque de 'nervios', V...  \n",
       "19  (Diario de una esposa desesperada, El jinete p...  \n",
       "20  (Días sin huella, Crimen perfecto, Love Story,...  \n",
       "21  (Días felices, The Hardy Boys/Nancy Drew Myste...  \n",
       "22  (Matar a un ruiseñor, Eleanor and Franklin, Po...  \n",
       "23  (Terciopelo azul, Terminagolf, Inspector Gadge...  \n",
       "24  (Bronx, lucha final, Nueva York bajo el terror...  \n",
       "25  (El trono de fuego, 2020 Los Rangers de Texas,...  \n",
       "26  (Los hijos del naúfrago, Passage du désir, Ser...  \n",
       "27  (El ataque de las vampiras, El mirón y la exhi...  \n",
       "28  (Mejor... imposible, Superpoli de centro comer...  \n",
       "29  (Krull, Alien 2: Sobre la tierra, Goliath está...  \n",
       "30  (La nouvelle malle des Indes, Delitto di stato...  \n",
       "31  (Alien 2: Sobre la tierra, Los invasores del a...  \n",
       "32  (Mi novia es un zombie, Aquarius, Camino sin r...  \n",
       "33  (Saturday Night Live, ¡Ave, César!, Tuca & Ber...  \n",
       "34  (Aberración, Furia, Hart y Hart, Rabia de sangre)  \n",
       "35  (La quema, Banished, Convoy, Ha nacido una est...  \n",
       "36                (Big Bang, Conan, Shameless, MADtv)  \n",
       "37  (1776, Amadeus, Martin Luther King, Rabia de s...  \n",
       "38  (Holocausto caníbal, Death Walks, Road Rage, E...  \n",
       "39  (Nebbie e delitti, The Palace, Dolceroma, That...  \n",
       "40  (Holocausto caníbal, Daño colateral, La misión...  \n",
       "41  (Cocoon: El retorno, B.L. Stryker, Miami Sands...  "
      ]
     },
     "execution_count": 72,
     "metadata": {},
     "output_type": "execute_result"
    }
   ],
   "source": [
    "df_elenco = pd.DataFrame(horror_elenco)\n",
    "df_elenco.columns = ['Nombre', 'Nacimiento', 'Premios', 'Nominaciones', 'Conocido por']\n",
    "df_elenco"
   ]
  },
  {
   "cell_type": "code",
   "execution_count": 73,
   "metadata": {},
   "outputs": [],
   "source": [
    "df_elenco.to_csv(\"Horror_elenco.csv\")"
   ]
  }
 ],
 "metadata": {
  "kernelspec": {
   "display_name": "Python 3",
   "language": "python",
   "name": "python3"
  },
  "language_info": {
   "codemirror_mode": {
    "name": "ipython",
    "version": 3
   },
   "file_extension": ".py",
   "mimetype": "text/x-python",
   "name": "python",
   "nbconvert_exporter": "python",
   "pygments_lexer": "ipython3",
   "version": "3.12.4"
  }
 },
 "nbformat": 4,
 "nbformat_minor": 2
}
