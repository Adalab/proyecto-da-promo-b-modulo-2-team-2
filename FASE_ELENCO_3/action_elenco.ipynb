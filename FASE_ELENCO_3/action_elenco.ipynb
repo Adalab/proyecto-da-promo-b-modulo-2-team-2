{
 "cells": [
  {
   "cell_type": "code",
   "execution_count": 1,
   "metadata": {},
   "outputs": [],
   "source": [
    "import pandas as pd\n",
    "from selenium import webdriver  # Selenium es una herramienta para automatizar la interacción con navegadores web.\n",
    "from webdriver_manager.chrome import ChromeDriverManager  # ChromeDriverManager gestiona la instalación del controlador de Chrome.\n",
    "from selenium.webdriver.common.keys import Keys  # Keys es útil para simular eventos de teclado en Selenium.\n",
    "from selenium.webdriver.support.ui import Select  # Select se utiliza para interactuar con elementos <select> en páginas web.\n",
    "from tqdm import tqdm\n",
    "from time import sleep"
   ]
  },
  {
   "cell_type": "code",
   "execution_count": 2,
   "metadata": {},
   "outputs": [
    {
     "name": "stdout",
     "output_type": "stream",
     "text": [
      "      idOwner                       Title   Type  Year   Genre\n",
      "0   tt0077634  The Great Skycopter Rescue  Movie  1980  Action\n",
      "1   tt0076709                  Si wang ta  Movie  1980  Action\n",
      "2   tt0078428         Shao Lin yu Wu Dang  Movie  1980  Action\n",
      "3   tt0077645               Mie jue qi qi  Movie  1980  Action\n",
      "4   tt0079106      L'empreinte des géants  Movie  1980  Action\n",
      "..        ...                         ...    ...   ...     ...\n",
      "91  tt0101928                 Full Impact  Movie  1993  Action\n",
      "92  tt0105881            Magkasangga 2000  Movie  1995  Action\n",
      "93  tt0109178                   Automatic  Movie  1995  Action\n",
      "94  tt0109033    Abducted II: The Reunion  Movie  1995  Action\n",
      "95  tt0109536               The Dangerous  Movie  1995  Action\n",
      "\n",
      "[96 rows x 5 columns]\n",
      "['tt0077634', 'tt0076709', 'tt0078428', 'tt0077645', 'tt0079106', 'tt0078941', 'tt0078726', 'tt0078918', 'tt0079712', 'tt0079896', 'tt0079888', 'tt0080501', 'tt0080441', 'tt0080514', 'tt0080481', 'tt0079899', 'tt0080872', 'tt0082133', 'tt0082338', 'tt0082673', 'tt0082250', 'tt0082532', 'tt0078393', 'tt0082566', 'tt0083062', 'tt0084256', 'tt0084297', 'tt0084540', 'tt0084836', 'tt0083061', 'tt0083541', 'tt0085289', 'tt0085454', 'tt0085312', 'tt0084279', 'tt0085460', 'tt0085540', 'tt0084738', 'tt0083509', 'tt0086566', 'tt0088137', 'tt0087130', 'tt0066151', 'tt0081236', 'tt0084668', 'tt0086930', 'tt0089861', 'tt0087368', 'tt0089930', 'tt0090170', 'tt0088962', 'tt0090302', 'tt0089563', 'tt0091012', 'tt0090847', 'tt0090956', 'tt0090902', 'tt0090587', 'tt0092841', 'tt0092787', 'tt0093171', 'tt0091285', 'tt0093983', 'tt0092582', 'tt0093663', 'tt0090334', 'tt0094386', 'tt0094384', 'tt0094607', 'tt0092531', 'tt0094620', 'tt0090869', 'tt0092926', 'tt0094376', 'tt0094004', 'tt0093989', 'tt0095095', 'tt0095290', 'tt0096469', 'tt0094926', 'tt0097318', 'tt0097864', 'tt0095335', 'tt0097064', 'tt0099814', 'tt0099793', 'tt0100195', 'tt0101828', 'tt0101288', 'tt0102073', 'tt0096090', 'tt0101928', 'tt0105881', 'tt0109178', 'tt0109033', 'tt0109536']\n"
     ]
    }
   ],
   "source": [
    "df_action = pd.read_csv(\"../info_tablas_csv/action.csv\")\n",
    "\n",
    "print(df_action)\n",
    "\n",
    "idOwner = []\n",
    "\n",
    "for i in df_action[\"idOwner\"]:\n",
    "    idOwner.append(i)\n",
    "    \n",
    "\n",
    "print(idOwner)"
   ]
  },
  {
   "cell_type": "code",
   "execution_count": 3,
   "metadata": {},
   "outputs": [
    {
     "data": {
      "text/plain": [
       "['tt0077634',\n",
       " 'tt0076709',\n",
       " 'tt0078428',\n",
       " 'tt0077645',\n",
       " 'tt0079106',\n",
       " 'tt0078941',\n",
       " 'tt0078726',\n",
       " 'tt0078918',\n",
       " 'tt0079712',\n",
       " 'tt0079896']"
      ]
     },
     "execution_count": 3,
     "metadata": {},
     "output_type": "execute_result"
    }
   ],
   "source": [
    "lista_id_peliculas_cortas = idOwner[:10]\n",
    "lista_id_peliculas_cortas"
   ]
  },
  {
   "cell_type": "code",
   "execution_count": 4,
   "metadata": {},
   "outputs": [
    {
     "name": "stderr",
     "output_type": "stream",
     "text": [
      "100%|██████████| 10/10 [00:40<00:00,  4.02s/it]\n"
     ]
    }
   ],
   "source": [
    "driver = webdriver.Chrome()\n",
    "\n",
    "driver.get('https://www.imdb.com/')\n",
    "\n",
    "driver.maximize_window()\n",
    "\n",
    "sleep (3)\n",
    "\n",
    "list_actors_by_movie = []\n",
    "\n",
    "list_all_actors = []\n",
    "\n",
    "for peli in tqdm(lista_id_peliculas_cortas):\n",
    "    \n",
    "    driver.find_element('css selector', '#suggestion-search').send_keys(peli, Keys.ENTER)\n",
    "    for i in range(1,6): # porque estamos cogiendo los 10 primeros actores\n",
    "        try:\n",
    "            actor = driver.find_element('css selector', f'#__next > main > div > section.ipc-page-background.ipc-page-background--base.sc-c41b9732-0.NeSef > div > section > div > div.sc-978e9339-1.ihWZgK.ipc-page-grid__item.ipc-page-grid__item--span-2 > section.ipc-page-section.ipc-page-section--base.sc-bfec09a1-0.jgUBLM.title-cast.title-cast--movie.celwidget > div.ipc-shoveler.ipc-shoveler--base.ipc-shoveler--page0.title-cast__grid > div.ipc-sub-grid.ipc-sub-grid--page-span-2.ipc-sub-grid--wraps-at-above-l.ipc-shoveler__grid > div:nth-child({i}) > div.sc-bfec09a1-7.gWwKlt > a').text\n",
    "            list_actors_by_movie.append({'nombre': actor, 'id_pelicula': peli})\n",
    "            # Para no repetir los actores y sacar una lista de actores:\n",
    "            \n",
    "            if(actor not in list_all_actors):\n",
    "                list_all_actors.append(actor)\n",
    "            \n",
    "        except:\n",
    "            print('No se encontraron actores')\n",
    "\n",
    "driver.close()\n",
    "    "
   ]
  },
  {
   "cell_type": "code",
   "execution_count": 5,
   "metadata": {},
   "outputs": [
    {
     "data": {
      "text/plain": [
       "[{'nombre': 'Aldo Ray', 'id_pelicula': 'tt0077634'},\n",
       " {'nombre': 'William Marshall', 'id_pelicula': 'tt0077634'},\n",
       " {'nombre': 'Terry Michos', 'id_pelicula': 'tt0077634'},\n",
       " {'nombre': 'Russell Johnson', 'id_pelicula': 'tt0077634'},\n",
       " {'nombre': 'Paul Tanashian', 'id_pelicula': 'tt0077634'},\n",
       " {'nombre': 'Bruce Lee', 'id_pelicula': 'tt0076709'},\n",
       " {'nombre': 'Tae-jeong Kim', 'id_pelicula': 'tt0076709'},\n",
       " {'nombre': 'Jeong-lee Hwang', 'id_pelicula': 'tt0076709'},\n",
       " {'nombre': 'Roy Horan', 'id_pelicula': 'tt0076709'},\n",
       " {'nombre': 'Roy Chiao', 'id_pelicula': 'tt0076709'},\n",
       " {'nombre': 'Meng Lo', 'id_pelicula': 'tt0078428'},\n",
       " {'nombre': 'Sheng Chiang', 'id_pelicula': 'tt0078428'},\n",
       " {'nombre': 'Li Wang', 'id_pelicula': 'tt0078428'},\n",
       " {'nombre': 'Feng Lu', 'id_pelicula': 'tt0078428'},\n",
       " {'nombre': 'Kei-San Chan', 'id_pelicula': 'tt0078428'},\n",
       " {'nombre': 'Bruce Le', 'id_pelicula': 'tt0077645'},\n",
       " {'nombre': 'Richard Harrison', 'id_pelicula': 'tt0077645'},\n",
       " {'nombre': 'Jeong-lee Hwang', 'id_pelicula': 'tt0077645'},\n",
       " {'nombre': 'Nadiuska', 'id_pelicula': 'tt0077645'},\n",
       " {'nombre': 'Brad Harris', 'id_pelicula': 'tt0077645'},\n",
       " {'nombre': 'Zoé Chauveau', 'id_pelicula': 'tt0079106'},\n",
       " {'nombre': 'Serge Reggiani', 'id_pelicula': 'tt0079106'},\n",
       " {'nombre': 'Mario Adorf', 'id_pelicula': 'tt0079106'},\n",
       " {'nombre': 'Andréa Ferréol', 'id_pelicula': 'tt0079106'},\n",
       " {'nombre': 'Raimund Harmstorf', 'id_pelicula': 'tt0079106'},\n",
       " {'nombre': 'Andrés García', 'id_pelicula': 'tt0078941'},\n",
       " {'nombre': 'Alicia Encinas', 'id_pelicula': 'tt0078941'},\n",
       " {'nombre': 'René Cardona III', 'id_pelicula': 'tt0078941'},\n",
       " {'nombre': 'Pablo Ferrel', 'id_pelicula': 'tt0078941'},\n",
       " {'nombre': 'Gloria Chávez', 'id_pelicula': 'tt0078941'},\n",
       " {'nombre': 'Feng Hsu', 'id_pelicula': 'tt0078726'},\n",
       " {'nombre': 'Yun Ling', 'id_pelicula': 'tt0078726'},\n",
       " {'nombre': 'Tao-Liang Tan', 'id_pelicula': 'tt0078726'},\n",
       " {'nombre': 'Michael Wai-Man Chan', 'id_pelicula': 'tt0078726'},\n",
       " {'nombre': 'Chung Wang', 'id_pelicula': 'tt0078726'},\n",
       " {'nombre': 'Richard Boone', 'id_pelicula': 'tt0078918'},\n",
       " {'nombre': 'Toshirô Mifune', 'id_pelicula': 'tt0078918'},\n",
       " {'nombre': 'Mike Starr', 'id_pelicula': 'tt0078918'},\n",
       " {'nombre': 'Timothy Patrick Murphy', 'id_pelicula': 'tt0078918'},\n",
       " {'nombre': 'Frank Converse', 'id_pelicula': 'tt0078918'},\n",
       " {'nombre': 'Valentín Trujillo', 'id_pelicula': 'tt0079712'},\n",
       " {'nombre': 'Blanca Guerra', 'id_pelicula': 'tt0079712'},\n",
       " {'nombre': 'Patricia Rivera', 'id_pelicula': 'tt0079712'},\n",
       " {'nombre': 'Narciso Busquets', 'id_pelicula': 'tt0079712'},\n",
       " {'nombre': 'Eric del Castillo', 'id_pelicula': 'tt0079712'},\n",
       " {'nombre': 'Sheng Fu', 'id_pelicula': 'tt0079896'},\n",
       " {'nombre': 'Niu Niu', 'id_pelicula': 'tt0079896'},\n",
       " {'nombre': 'Lung Ti', 'id_pelicula': 'tt0079896'},\n",
       " {'nombre': 'Tien-Chi Cheng', 'id_pelicula': 'tt0079896'},\n",
       " {'nombre': 'Sheng Chiang', 'id_pelicula': 'tt0079896'}]"
      ]
     },
     "execution_count": 5,
     "metadata": {},
     "output_type": "execute_result"
    }
   ],
   "source": [
    "list_actors_by_movie"
   ]
  },
  {
   "cell_type": "code",
   "execution_count": 6,
   "metadata": {},
   "outputs": [
    {
     "name": "stdout",
     "output_type": "stream",
     "text": [
      "[{'nombre': 'Aldo Ray', 'id_pelicula': 'tt0077634'}, {'nombre': 'William Marshall', 'id_pelicula': 'tt0077634'}, {'nombre': 'Terry Michos', 'id_pelicula': 'tt0077634'}, {'nombre': 'Russell Johnson', 'id_pelicula': 'tt0077634'}, {'nombre': 'Paul Tanashian', 'id_pelicula': 'tt0077634'}, {'nombre': 'Bruce Lee', 'id_pelicula': 'tt0076709'}, {'nombre': 'Tae-jeong Kim', 'id_pelicula': 'tt0076709'}, {'nombre': 'Jeong-lee Hwang', 'id_pelicula': 'tt0076709'}, {'nombre': 'Roy Horan', 'id_pelicula': 'tt0076709'}, {'nombre': 'Roy Chiao', 'id_pelicula': 'tt0076709'}, {'nombre': 'Meng Lo', 'id_pelicula': 'tt0078428'}, {'nombre': 'Sheng Chiang', 'id_pelicula': 'tt0078428'}, {'nombre': 'Li Wang', 'id_pelicula': 'tt0078428'}, {'nombre': 'Feng Lu', 'id_pelicula': 'tt0078428'}, {'nombre': 'Kei-San Chan', 'id_pelicula': 'tt0078428'}, {'nombre': 'Bruce Le', 'id_pelicula': 'tt0077645'}, {'nombre': 'Richard Harrison', 'id_pelicula': 'tt0077645'}, {'nombre': 'Jeong-lee Hwang', 'id_pelicula': 'tt0077645'}, {'nombre': 'Nadiuska', 'id_pelicula': 'tt0077645'}, {'nombre': 'Brad Harris', 'id_pelicula': 'tt0077645'}, {'nombre': 'Zoé Chauveau', 'id_pelicula': 'tt0079106'}, {'nombre': 'Serge Reggiani', 'id_pelicula': 'tt0079106'}, {'nombre': 'Mario Adorf', 'id_pelicula': 'tt0079106'}, {'nombre': 'Andréa Ferréol', 'id_pelicula': 'tt0079106'}, {'nombre': 'Raimund Harmstorf', 'id_pelicula': 'tt0079106'}, {'nombre': 'Andrés García', 'id_pelicula': 'tt0078941'}, {'nombre': 'Alicia Encinas', 'id_pelicula': 'tt0078941'}, {'nombre': 'René Cardona III', 'id_pelicula': 'tt0078941'}, {'nombre': 'Pablo Ferrel', 'id_pelicula': 'tt0078941'}, {'nombre': 'Gloria Chávez', 'id_pelicula': 'tt0078941'}, {'nombre': 'Feng Hsu', 'id_pelicula': 'tt0078726'}, {'nombre': 'Yun Ling', 'id_pelicula': 'tt0078726'}, {'nombre': 'Tao-Liang Tan', 'id_pelicula': 'tt0078726'}, {'nombre': 'Michael Wai-Man Chan', 'id_pelicula': 'tt0078726'}, {'nombre': 'Chung Wang', 'id_pelicula': 'tt0078726'}, {'nombre': 'Richard Boone', 'id_pelicula': 'tt0078918'}, {'nombre': 'Toshirô Mifune', 'id_pelicula': 'tt0078918'}, {'nombre': 'Mike Starr', 'id_pelicula': 'tt0078918'}, {'nombre': 'Timothy Patrick Murphy', 'id_pelicula': 'tt0078918'}, {'nombre': 'Frank Converse', 'id_pelicula': 'tt0078918'}, {'nombre': 'Valentín Trujillo', 'id_pelicula': 'tt0079712'}, {'nombre': 'Blanca Guerra', 'id_pelicula': 'tt0079712'}, {'nombre': 'Patricia Rivera', 'id_pelicula': 'tt0079712'}, {'nombre': 'Narciso Busquets', 'id_pelicula': 'tt0079712'}, {'nombre': 'Eric del Castillo', 'id_pelicula': 'tt0079712'}, {'nombre': 'Sheng Fu', 'id_pelicula': 'tt0079896'}, {'nombre': 'Niu Niu', 'id_pelicula': 'tt0079896'}, {'nombre': 'Lung Ti', 'id_pelicula': 'tt0079896'}, {'nombre': 'Tien-Chi Cheng', 'id_pelicula': 'tt0079896'}, {'nombre': 'Sheng Chiang', 'id_pelicula': 'tt0079896'}]\n"
     ]
    }
   ],
   "source": [
    "# lista con todos los actores de cada pelicula, pero si un actor ha salido en varias peliculas puede salir duplicado\n",
    "print(list_actors_by_movie)"
   ]
  },
  {
   "cell_type": "code",
   "execution_count": 7,
   "metadata": {},
   "outputs": [
    {
     "name": "stdout",
     "output_type": "stream",
     "text": [
      "['Aldo Ray', 'William Marshall', 'Terry Michos', 'Russell Johnson', 'Paul Tanashian', 'Bruce Lee', 'Tae-jeong Kim', 'Jeong-lee Hwang', 'Roy Horan', 'Roy Chiao', 'Meng Lo', 'Sheng Chiang', 'Li Wang', 'Feng Lu', 'Kei-San Chan', 'Bruce Le', 'Richard Harrison', 'Nadiuska', 'Brad Harris', 'Zoé Chauveau', 'Serge Reggiani', 'Mario Adorf', 'Andréa Ferréol', 'Raimund Harmstorf', 'Andrés García', 'Alicia Encinas', 'René Cardona III', 'Pablo Ferrel', 'Gloria Chávez', 'Feng Hsu', 'Yun Ling', 'Tao-Liang Tan', 'Michael Wai-Man Chan', 'Chung Wang', 'Richard Boone', 'Toshirô Mifune', 'Mike Starr', 'Timothy Patrick Murphy', 'Frank Converse', 'Valentín Trujillo', 'Blanca Guerra', 'Patricia Rivera', 'Narciso Busquets', 'Eric del Castillo', 'Sheng Fu', 'Niu Niu', 'Lung Ti', 'Tien-Chi Cheng']\n"
     ]
    }
   ],
   "source": [
    "# lista actores sin duplicados\n",
    "print(list_all_actors)"
   ]
  },
  {
   "cell_type": "code",
   "execution_count": 16,
   "metadata": {},
   "outputs": [
    {
     "data": {
      "text/plain": [
       "48"
      ]
     },
     "execution_count": 16,
     "metadata": {},
     "output_type": "execute_result"
    }
   ],
   "source": [
    "len(list_all_actors)"
   ]
  },
  {
   "cell_type": "code",
   "execution_count": 9,
   "metadata": {},
   "outputs": [
    {
     "name": "stderr",
     "output_type": "stream",
     "text": [
      "  0%|          | 0/48 [00:00<?, ?it/s]"
     ]
    },
    {
     "name": "stdout",
     "output_type": "stream",
     "text": [
      "Entramos en los premios\n"
     ]
    },
    {
     "name": "stderr",
     "output_type": "stream",
     "text": [
      "  2%|▏         | 1/48 [00:14<11:44, 14.98s/it]"
     ]
    },
    {
     "name": "stdout",
     "output_type": "stream",
     "text": [
      "Este actor no tiene premios\n"
     ]
    },
    {
     "name": "stderr",
     "output_type": "stream",
     "text": [
      "  4%|▍         | 2/48 [00:24<09:05, 11.86s/it]"
     ]
    },
    {
     "name": "stdout",
     "output_type": "stream",
     "text": [
      "Este actor no tiene premios\n"
     ]
    },
    {
     "name": "stderr",
     "output_type": "stream",
     "text": [
      "  6%|▋         | 3/48 [00:33<07:43, 10.29s/it]"
     ]
    },
    {
     "name": "stdout",
     "output_type": "stream",
     "text": [
      "Entramos en los premios\n"
     ]
    },
    {
     "name": "stderr",
     "output_type": "stream",
     "text": [
      "  8%|▊         | 4/48 [00:47<08:42, 11.87s/it]"
     ]
    },
    {
     "name": "stdout",
     "output_type": "stream",
     "text": [
      "El actor Paul Tanashian no es conocido por nada más  \n",
      "Este actor no tiene premios\n"
     ]
    },
    {
     "name": "stderr",
     "output_type": "stream",
     "text": [
      " 10%|█         | 5/48 [00:56<07:46, 10.86s/it]"
     ]
    },
    {
     "name": "stdout",
     "output_type": "stream",
     "text": [
      "Entramos en los premios\n"
     ]
    },
    {
     "name": "stderr",
     "output_type": "stream",
     "text": [
      " 12%|█▎        | 6/48 [01:10<08:20, 11.91s/it]"
     ]
    },
    {
     "name": "stdout",
     "output_type": "stream",
     "text": [
      "Este actor no tiene premios\n"
     ]
    },
    {
     "name": "stderr",
     "output_type": "stream",
     "text": [
      " 15%|█▍        | 7/48 [01:20<07:42, 11.27s/it]"
     ]
    },
    {
     "name": "stdout",
     "output_type": "stream",
     "text": [
      "Este actor no tiene premios\n"
     ]
    },
    {
     "name": "stderr",
     "output_type": "stream",
     "text": [
      " 17%|█▋        | 8/48 [01:30<07:14, 10.87s/it]"
     ]
    },
    {
     "name": "stdout",
     "output_type": "stream",
     "text": [
      "Este actor no tiene premios\n"
     ]
    },
    {
     "name": "stderr",
     "output_type": "stream",
     "text": [
      " 19%|█▉        | 9/48 [01:39<06:45, 10.40s/it]"
     ]
    },
    {
     "name": "stdout",
     "output_type": "stream",
     "text": [
      "Entramos en los premios\n"
     ]
    },
    {
     "name": "stderr",
     "output_type": "stream",
     "text": [
      " 21%|██        | 10/48 [01:51<06:55, 10.94s/it]"
     ]
    },
    {
     "name": "stdout",
     "output_type": "stream",
     "text": [
      "Este actor no tiene premios\n"
     ]
    },
    {
     "name": "stderr",
     "output_type": "stream",
     "text": [
      " 23%|██▎       | 11/48 [02:03<06:47, 11.02s/it]"
     ]
    },
    {
     "name": "stdout",
     "output_type": "stream",
     "text": [
      "Este actor no tiene premios\n"
     ]
    },
    {
     "name": "stderr",
     "output_type": "stream",
     "text": [
      " 25%|██▌       | 12/48 [02:13<06:27, 10.76s/it]"
     ]
    },
    {
     "name": "stdout",
     "output_type": "stream",
     "text": [
      "Este actor no tiene premios\n"
     ]
    },
    {
     "name": "stderr",
     "output_type": "stream",
     "text": [
      " 27%|██▋       | 13/48 [02:22<06:00, 10.31s/it]"
     ]
    },
    {
     "name": "stdout",
     "output_type": "stream",
     "text": [
      "Este actor no tiene premios\n"
     ]
    },
    {
     "name": "stderr",
     "output_type": "stream",
     "text": [
      " 29%|██▉       | 14/48 [02:32<05:47, 10.23s/it]"
     ]
    },
    {
     "name": "stdout",
     "output_type": "stream",
     "text": [
      "El actor Kei-San Chan no es conocido por nada más  \n",
      "Este actor no tiene premios\n"
     ]
    },
    {
     "name": "stderr",
     "output_type": "stream",
     "text": [
      " 31%|███▏      | 15/48 [02:40<05:15,  9.56s/it]"
     ]
    },
    {
     "name": "stdout",
     "output_type": "stream",
     "text": [
      "El actor Bruce Le no es conocido por nada más  \n",
      "Este actor no tiene premios\n"
     ]
    },
    {
     "name": "stderr",
     "output_type": "stream",
     "text": [
      " 33%|███▎      | 16/48 [02:47<04:37,  8.67s/it]"
     ]
    },
    {
     "name": "stdout",
     "output_type": "stream",
     "text": [
      "Este actor no tiene premios\n"
     ]
    },
    {
     "name": "stderr",
     "output_type": "stream",
     "text": [
      " 35%|███▌      | 17/48 [02:58<04:50,  9.38s/it]"
     ]
    },
    {
     "name": "stdout",
     "output_type": "stream",
     "text": [
      "Este actor no tiene premios\n"
     ]
    },
    {
     "name": "stderr",
     "output_type": "stream",
     "text": [
      " 38%|███▊      | 18/48 [03:07<04:39,  9.32s/it]"
     ]
    },
    {
     "name": "stdout",
     "output_type": "stream",
     "text": [
      "Este actor no tiene premios\n"
     ]
    },
    {
     "name": "stderr",
     "output_type": "stream",
     "text": [
      " 40%|███▉      | 19/48 [03:16<04:32,  9.39s/it]"
     ]
    },
    {
     "name": "stdout",
     "output_type": "stream",
     "text": [
      "Este actor no tiene premios\n"
     ]
    },
    {
     "name": "stderr",
     "output_type": "stream",
     "text": [
      " 42%|████▏     | 20/48 [03:24<04:10,  8.94s/it]"
     ]
    },
    {
     "name": "stdout",
     "output_type": "stream",
     "text": [
      "Este actor no tiene premios\n"
     ]
    },
    {
     "name": "stderr",
     "output_type": "stream",
     "text": [
      " 44%|████▍     | 21/48 [03:33<04:00,  8.92s/it]"
     ]
    },
    {
     "name": "stdout",
     "output_type": "stream",
     "text": [
      "Entramos en los premios\n"
     ]
    },
    {
     "name": "stderr",
     "output_type": "stream",
     "text": [
      " 46%|████▌     | 22/48 [03:52<05:05, 11.77s/it]"
     ]
    },
    {
     "name": "stdout",
     "output_type": "stream",
     "text": [
      "Entramos en los premios\n"
     ]
    },
    {
     "name": "stderr",
     "output_type": "stream",
     "text": [
      " 48%|████▊     | 23/48 [04:06<05:17, 12.70s/it]"
     ]
    },
    {
     "name": "stdout",
     "output_type": "stream",
     "text": [
      "Este actor no tiene premios\n"
     ]
    },
    {
     "name": "stderr",
     "output_type": "stream",
     "text": [
      " 50%|█████     | 24/48 [04:15<04:34, 11.42s/it]"
     ]
    },
    {
     "name": "stdout",
     "output_type": "stream",
     "text": [
      "Entramos en los premios\n"
     ]
    },
    {
     "name": "stderr",
     "output_type": "stream",
     "text": [
      " 52%|█████▏    | 25/48 [04:29<04:37, 12.08s/it]"
     ]
    },
    {
     "name": "stdout",
     "output_type": "stream",
     "text": [
      "Este actor no tiene premios\n"
     ]
    },
    {
     "name": "stderr",
     "output_type": "stream",
     "text": [
      " 54%|█████▍    | 26/48 [04:38<04:07, 11.27s/it]"
     ]
    },
    {
     "name": "stdout",
     "output_type": "stream",
     "text": [
      "Este actor no tiene premios\n"
     ]
    },
    {
     "name": "stderr",
     "output_type": "stream",
     "text": [
      " 56%|█████▋    | 27/48 [04:47<03:44, 10.70s/it]"
     ]
    },
    {
     "name": "stdout",
     "output_type": "stream",
     "text": [
      "Este actor no tiene premios\n"
     ]
    },
    {
     "name": "stderr",
     "output_type": "stream",
     "text": [
      " 58%|█████▊    | 28/48 [04:56<03:20, 10.05s/it]"
     ]
    },
    {
     "name": "stdout",
     "output_type": "stream",
     "text": [
      "El actor Gloria Chávez no es conocido por nada más  \n",
      "Este actor no tiene premios\n"
     ]
    },
    {
     "name": "stderr",
     "output_type": "stream",
     "text": [
      " 60%|██████    | 29/48 [05:03<02:57,  9.34s/it]"
     ]
    },
    {
     "name": "stdout",
     "output_type": "stream",
     "text": [
      "Entramos en los premios\n"
     ]
    },
    {
     "name": "stderr",
     "output_type": "stream",
     "text": [
      " 62%|██████▎   | 30/48 [05:22<03:39, 12.18s/it]"
     ]
    },
    {
     "name": "stdout",
     "output_type": "stream",
     "text": [
      "El actor Yun Ling no es conocido por nada más  \n",
      "Este actor no tiene premios\n"
     ]
    },
    {
     "name": "stderr",
     "output_type": "stream",
     "text": [
      " 65%|██████▍   | 31/48 [05:32<03:14, 11.44s/it]"
     ]
    },
    {
     "name": "stdout",
     "output_type": "stream",
     "text": [
      "Este actor no tiene premios\n"
     ]
    },
    {
     "name": "stderr",
     "output_type": "stream",
     "text": [
      " 67%|██████▋   | 32/48 [05:41<02:49, 10.60s/it]"
     ]
    },
    {
     "name": "stdout",
     "output_type": "stream",
     "text": [
      "Entramos en los premios\n"
     ]
    },
    {
     "name": "stderr",
     "output_type": "stream",
     "text": [
      " 69%|██████▉   | 33/48 [05:54<02:51, 11.45s/it]"
     ]
    },
    {
     "name": "stdout",
     "output_type": "stream",
     "text": [
      "Entramos en los premios\n"
     ]
    },
    {
     "name": "stderr",
     "output_type": "stream",
     "text": [
      " 71%|███████   | 34/48 [06:07<02:44, 11.75s/it]"
     ]
    },
    {
     "name": "stdout",
     "output_type": "stream",
     "text": [
      "Entramos en los premios\n"
     ]
    },
    {
     "name": "stderr",
     "output_type": "stream",
     "text": [
      " 73%|███████▎  | 35/48 [06:22<02:45, 12.73s/it]"
     ]
    },
    {
     "name": "stdout",
     "output_type": "stream",
     "text": [
      "Entramos en los premios\n"
     ]
    },
    {
     "name": "stderr",
     "output_type": "stream",
     "text": [
      " 75%|███████▌  | 36/48 [06:37<02:42, 13.51s/it]"
     ]
    },
    {
     "name": "stdout",
     "output_type": "stream",
     "text": [
      "Entramos en los premios\n"
     ]
    },
    {
     "name": "stderr",
     "output_type": "stream",
     "text": [
      " 77%|███████▋  | 37/48 [06:52<02:34, 14.08s/it]"
     ]
    },
    {
     "name": "stdout",
     "output_type": "stream",
     "text": [
      "Entramos en los premios\n"
     ]
    },
    {
     "name": "stderr",
     "output_type": "stream",
     "text": [
      " 79%|███████▉  | 38/48 [07:04<02:14, 13.49s/it]"
     ]
    },
    {
     "name": "stdout",
     "output_type": "stream",
     "text": [
      "Entramos en los premios\n"
     ]
    },
    {
     "name": "stderr",
     "output_type": "stream",
     "text": [
      " 81%|████████▏ | 39/48 [07:16<01:56, 12.98s/it]"
     ]
    },
    {
     "name": "stdout",
     "output_type": "stream",
     "text": [
      "Entramos en los premios\n"
     ]
    },
    {
     "name": "stderr",
     "output_type": "stream",
     "text": [
      " 83%|████████▎ | 40/48 [07:31<01:49, 13.65s/it]"
     ]
    },
    {
     "name": "stdout",
     "output_type": "stream",
     "text": [
      "Entramos en los premios\n"
     ]
    },
    {
     "name": "stderr",
     "output_type": "stream",
     "text": [
      " 85%|████████▌ | 41/48 [07:45<01:35, 13.58s/it]"
     ]
    },
    {
     "name": "stdout",
     "output_type": "stream",
     "text": [
      "Entramos en los premios\n"
     ]
    },
    {
     "name": "stderr",
     "output_type": "stream",
     "text": [
      " 88%|████████▊ | 42/48 [07:58<01:21, 13.53s/it]"
     ]
    },
    {
     "name": "stdout",
     "output_type": "stream",
     "text": [
      "Entramos en los premios\n"
     ]
    },
    {
     "name": "stderr",
     "output_type": "stream",
     "text": [
      " 90%|████████▉ | 43/48 [08:11<01:07, 13.41s/it]"
     ]
    },
    {
     "name": "stdout",
     "output_type": "stream",
     "text": [
      "Entramos en los premios\n"
     ]
    },
    {
     "name": "stderr",
     "output_type": "stream",
     "text": [
      " 92%|█████████▏| 44/48 [08:26<00:55, 13.91s/it]"
     ]
    },
    {
     "name": "stdout",
     "output_type": "stream",
     "text": [
      "Este actor no tiene premios\n"
     ]
    },
    {
     "name": "stderr",
     "output_type": "stream",
     "text": [
      " 94%|█████████▍| 45/48 [08:36<00:37, 12.53s/it]"
     ]
    },
    {
     "name": "stdout",
     "output_type": "stream",
     "text": [
      "Entramos en los premios\n"
     ]
    },
    {
     "name": "stderr",
     "output_type": "stream",
     "text": [
      " 96%|█████████▌| 46/48 [08:49<00:25, 12.78s/it]"
     ]
    },
    {
     "name": "stdout",
     "output_type": "stream",
     "text": [
      "Entramos en los premios\n"
     ]
    },
    {
     "name": "stderr",
     "output_type": "stream",
     "text": [
      " 98%|█████████▊| 47/48 [09:04<00:13, 13.40s/it]"
     ]
    },
    {
     "name": "stdout",
     "output_type": "stream",
     "text": [
      "Este actor no tiene premios\n"
     ]
    },
    {
     "name": "stderr",
     "output_type": "stream",
     "text": [
      "100%|██████████| 48/48 [09:14<00:00, 11.55s/it]\n"
     ]
    }
   ],
   "source": [
    "driver = webdriver.Chrome()\n",
    "\n",
    "driver.get('https://www.imdb.com/')\n",
    "\n",
    "driver.maximize_window()\n",
    "\n",
    "sleep (5)\n",
    "\n",
    "#Cookies\n",
    "driver.find_element('css selector', '#__next > div > div > div.sc-jrcTuL.bPmWiM > div > button.icb-btn.sc-bcXHqe.sc-dkrFOg.sc-iBYQkv.dcvrLS.ddtuHe.dRCGjd').click()\n",
    "\n",
    "sleep(2)\n",
    "\n",
    "nacimiento = []\n",
    "premios_actor = []\n",
    "conocido = []\n",
    "pelis = []\n",
    "\n",
    "  \n",
    "for actor in tqdm(list_all_actors):\n",
    "    conocido_por = []\n",
    "    ganados = []\n",
    "    nominaciones = []\n",
    "    peliculas = []\n",
    "    # buscamos al actor\n",
    "    driver.find_element('css selector', '#suggestion-search').send_keys(actor, Keys.ENTER)\n",
    "    \n",
    "    # clickamos en la primera coincidencia\n",
    "    driver.find_element('css selector', '#__next > main > div.ipc-page-content-container.ipc-page-content-container--full.sc-e51f9d6d-0.Fmvqg > div.ipc-page-content-container.ipc-page-content-container--center > section > div > div.ipc-page-grid__item.ipc-page-grid__item--span-2 > section:nth-child(4) > div.sc-e8e4ce7-2.iXsuvN > ul > li:nth-child(1) > div.ipc-metadata-list-summary-item__c > div > a').click()\n",
    "    \n",
    "    # añadimos fecha nacimiento_actor\n",
    "    \n",
    "    try:\n",
    "        nacimiento.append(driver.find_element('xpath', '//*[@id=\"__next\"]/main/div/section[1]/section/div[3]/section/section/div[3]/div/div[2]/section/aside/div/span[2]').text)\n",
    "    \n",
    "    except:\n",
    "        nacimiento.append(None)  \n",
    "    \n",
    "    try: \n",
    "        for elemento in range (1,5):\n",
    "            \n",
    "            conocido_por.append(driver.find_element('css selector', f'#__next > main > div > section.ipc-page-background.ipc-page-background--base.sc-c41b9732-0.NeSef > div > section > div > div.sc-978e9339-1.ihWZgK.ipc-page-grid__item.ipc-page-grid__item--span-2 > div.celwidget > section:nth-child(1) > div.sc-1c5b3162-0.fFgRFS > div > div.ipc-sub-grid.ipc-sub-grid--page-span-2.ipc-sub-grid--wraps-at-above-l.ipc-shoveler__grid > div:nth-child({elemento}) > div.ipc-primary-image-list-card__content > div.ipc-primary-image-list-card__content-top > a').text)\n",
    "\n",
    "        conocido.append(tuple(conocido_por))\n",
    "    except:\n",
    "        print(f\"El actor {actor} no es conocido por nada más  \")\n",
    "    \n",
    "    # añadimos lista 10 peliculas en las que ha participado\n",
    "    \n",
    "    try: \n",
    "        \n",
    "        for peli in range(1,10):\n",
    "            \n",
    "            try:\n",
    "        \n",
    "                peliculas.append(driver.find_element('xpath', f'#accordion-item-actor-previous-projects > div > ul > li:nth-child({peli}) > div.ipc-metadata-list-summary-item__c > div.ipc-metadata-list-summary-item__tc > a').text)\n",
    "        \n",
    "                pelis.append(tuple(peliculas))\n",
    "        \n",
    "            except: \n",
    "                try:\n",
    "                    peliculas.append(driver.find_element('xpath', '//*[@id=\"accordion-item-actor-previous-projects\"]/div/ul/li[1]/div[2]/div[1]/a').text)\n",
    "                                                        #//*[@id=\"accordion-item-actor-previous-projects\"]/div/ul/li[2]/div[2]/div[1]/a\n",
    "                \n",
    "                except:\n",
    "                    peliculas.append(None)\n",
    "\n",
    "    except:\n",
    "        print(f\"el actor {actor} no tiene más peliculas\")\n",
    "        \n",
    "    # accedemos a premios\n",
    "    \n",
    "    try:\n",
    "        driver.find_element('css selector', '#__next > main > div > section.ipc-page-background.ipc-page-background--base.sc-c41b9732-0.NeSef > div > section > div > div.sc-978e9339-1.ihWZgK.ipc-page-grid__item.ipc-page-grid__item--span-2 > section:nth-child(3) > div > ul > li > div').click()\n",
    "    \n",
    "    except:\n",
    "        try: # hago el try dos veces porque en el primer intento consigo que el navegador se mueva al elemento y en el except es cuando consigo clickearlo\n",
    "            sleep(3)\n",
    "            driver.find_element('css selector', '#__next > main > div > section.ipc-page-background.ipc-page-background--base.sc-c41b9732-0.NeSef > div > section > div > div.sc-978e9339-1.ihWZgK.ipc-page-grid__item.ipc-page-grid__item--span-2 > section:nth-child(3) > div > ul > li > div').click()\n",
    "            \n",
    "            print('Entramos en los premios')\n",
    "        except:\n",
    "            print(\"Este actor no tiene premios\")\n",
    "\n",
    "    for premio in range (1,11):\n",
    "        try: \n",
    "            # premios ganados\n",
    "            ganados.append(driver.find_element('css selector', f'#__next > main > div > section > div > section > div > div.sc-978e9339-1.ihWZgK.ipc-page-grid__item.ipc-page-grid__item--span-2 > section:nth-child(3) > div.sc-f65f65be-0.bBlII > ul > li:nth-child({premio}) > div.ipc-metadata-list-summary-item__c > div > a').text)\n",
    "            # nominaciones                                                    \n",
    "            nominaciones.append(driver.find_element('css selector', f'#__next > main > div > section > div > section > div > div.sc-978e9339-1.ihWZgK.ipc-page-grid__item.ipc-page-grid__item--span-2 > section:nth-child(4) > div.sc-f65f65be-0.bBlII > ul > li:nth-child({premio}) > div.ipc-metadata-list-summary-item__c > div > a').text)\n",
    "\n",
    "        except:                                                  \n",
    "            pass\n",
    "    \n",
    "    # comprobamos si tiene premio ganado o nominacion, si es así lo añadimos al diccionario de premios por actor\n",
    "    if len(ganados) > 0 or len(nominaciones) > 0:\n",
    "        premios_actor.append({'premios ganados': ganados, 'nominaciones': nominaciones})\n",
    "    \n",
    "    else:\n",
    "        premios_actor.append(None)\n",
    "    \n",
    "    driver.back()\n",
    "\n",
    "\n",
    "driver.close()\n",
    "\n",
    "# #__next > main > div.ipc-page-content-container.ipc-page-content-container--full.sc-e51f9d6d-0.Fmvqg > div.ipc-page-content-container.ipc-page-content-container--center > section > div > div.ipc-page-grid__item.ipc-page-grid__item--span-2 > section:nth-child(5) > div.sc-e8e4ce7-2.iXsuvN > ul > li > div.ipc-metadata-list-summary-item__c > div > a\n",
    "#accordion-item-actor-previous-projects > div > ul > li:nth-child(1) > div.ipc-metadata-list-summary-item__c > div.ipc-metadata-list-summary-item__tc > a\n",
    "\n",
    "    "
   ]
  },
  {
   "cell_type": "code",
   "execution_count": 12,
   "metadata": {},
   "outputs": [],
   "source": [
    "action_elenco = list(tuple(zip(list_all_actors,nacimiento,conocido,premios_actor)))"
   ]
  },
  {
   "cell_type": "code",
   "execution_count": 13,
   "metadata": {},
   "outputs": [
    {
     "data": {
      "text/plain": [
       "[('Aldo Ray',\n",
       "  '25 de septiembre de 1926',\n",
       "  ('No somos ángeles',\n",
       "   'La impetuosa',\n",
       "   'Nimh: El mundo secreto de la señora Brisby',\n",
       "   'El robo al banco de Inglaterra'),\n",
       "  {'premios ganados': ['1979 Ganador AFAA Award'],\n",
       "   'nominaciones': ['1953 Nominado Golden Globe']}),\n",
       " ('William Marshall',\n",
       "  '19 de agosto de 1924',\n",
       "  ('Drácula negro',\n",
       "   'Maverick',\n",
       "   'Grita Blácula grita (Drácula negro 2)',\n",
       "   'Demetrius y los gladiadores'),\n",
       "  None),\n",
       " ('Terry Michos',\n",
       "  '26 de diciembre de 1953',\n",
       "  ('Los amos de la noche',\n",
       "   'El gran desafío en helicóptero',\n",
       "   'Zoo Crew Two',\n",
       "   'Simon & Simon'),\n",
       "  None),\n",
       " ('Russell Johnson',\n",
       "  '10 de noviembre de 1924',\n",
       "  ('La isla de Gílligan',\n",
       "   'Regreso a la Tierra',\n",
       "   'Vinieron del espacio',\n",
       "   'El ataque de los cangrejos gigantes'),\n",
       "  {'premios ganados': ['2007 Nominado TV Land Award',\n",
       "    '2004 Ganador Pop Culture Award'],\n",
       "   'nominaciones': []}),\n",
       " ('Paul Tanashian',\n",
       "  '13 de marzo de 1960',\n",
       "  ('Furia oriental',\n",
       "   'El furor del dragón',\n",
       "   'Operación Dragón',\n",
       "   'Karate a muerte en Bangkok'),\n",
       "  None),\n",
       " ('Bruce Lee',\n",
       "  '27 de noviembre de 1940',\n",
       "  ('Juego con la muerte',\n",
       "   'Retroceder nunca, rendirse jamás',\n",
       "   'El último combate',\n",
       "   'Agassi chameuseyo'),\n",
       "  {'premios ganados': ['1972 Ganador Special Jury Award'],\n",
       "   'nominaciones': ['1967 Nominado Gold Medal']}),\n",
       " ('Tae-jeong Kim',\n",
       "  '5 de junio de 1957',\n",
       "  ('La Armadura Invencible',\n",
       "   'El mono borracho en el ojo del tigre',\n",
       "   'La serpiente a la sombra del águila',\n",
       "   'El último combate'),\n",
       "  None),\n",
       " ('Jeong-lee Hwang',\n",
       "  '21 de diciembre de 1944',\n",
       "  ('El último combate',\n",
       "   'La serpiente a la sombra del águila',\n",
       "   'Secuestro en Bangkok',\n",
       "   'The Art of High Impact Kicking'),\n",
       "  None),\n",
       " ('Roy Horan',\n",
       "  '12 de octubre de 2021',\n",
       "  ('Contacto sangriento',\n",
       "   'Indiana Jones y el templo maldito',\n",
       "   'Juego con la muerte',\n",
       "   'Nu ren si shi'),\n",
       "  None),\n",
       " ('Roy Chiao',\n",
       "  '16 de marzo de 1927',\n",
       "  ('Ip Man 3 (Dragon Master)',\n",
       "   'Ip Man 2',\n",
       "   'Hard-Boiled (Hervidero)',\n",
       "   'The Grandmaster'),\n",
       "  {'premios ganados': ['1996 Ganador Golden Bauhinia'],\n",
       "   'nominaciones': ['1995 Nominado Golden Horse Award']}),\n",
       " ('Meng Lo',\n",
       "  '4 de agosto de 1952',\n",
       "  ('Wu du', 'Cha shou', 'Tie qi men', 'Can que'),\n",
       "  None),\n",
       " ('Sheng Chiang',\n",
       "  '4 de abril de 1951',\n",
       "  ('Yunnan chong gu zhi Xian wang chuan shuo',\n",
       "   'Ye ban shu tou',\n",
       "   'Yat lo heung sai',\n",
       "   'Wo de VR nv you'),\n",
       "  None),\n",
       " ('Li Wang',\n",
       "  '6 de agosto de 1989',\n",
       "  ('Cha shou', 'Wu du', 'Lei tai', 'Xi shen bao chou'),\n",
       "  None),\n",
       " ('Feng Lu',\n",
       "  '5 de mayo de 1953',\n",
       "  ('Ninja Dragon',\n",
       "   'Three Men on Fire',\n",
       "   'Los espías de Beirut',\n",
       "   'Los gigantes de Roma'),\n",
       "  None),\n",
       " ('Kei-San Chan',\n",
       "  None,\n",
       "  ('Conan, el bárbaro',\n",
       "   'Otelo (Comando negro)',\n",
       "   'La muerte ronda a Mónica',\n",
       "   'La loca historia de los tres mosqueteros'),\n",
       "  None),\n",
       " ('Bruce Le',\n",
       "  None,\n",
       "  ('001, operación Caribe',\n",
       "   'Goliat contra los gigantes',\n",
       "   'Kommissar X - Drei goldene Schlangen',\n",
       "   'Comisario X y los tres perros verdes'),\n",
       "  None),\n",
       " ('Richard Harrison',\n",
       "  '26 de mayo de 1935',\n",
       "  (\"L'empreinte des géants\",\n",
       "   'Prostituta de día, señorita de noche',\n",
       "   'Moi, Fleur bleue',\n",
       "   'Corrupción en Grenoble'),\n",
       "  None),\n",
       " ('Nadiuska',\n",
       "  '19 de enero de 1952',\n",
       "  ('El gatopardo', 'París, bajos fondos', 'Los miserables', 'El confidente'),\n",
       "  None),\n",
       " ('Brad Harris',\n",
       "  '16 de julio de 1933',\n",
       "  ('El tambor de hojalata',\n",
       "   'Der große Bellheim',\n",
       "   'Der Schattenmann',\n",
       "   'Milán, calibre 9'),\n",
       "  None),\n",
       " ('Zoé Chauveau',\n",
       "  '28 de marzo de 1959',\n",
       "  ('El último metro',\n",
       "   'Zoo',\n",
       "   'El fantasma de la ópera',\n",
       "   'Astérix y Obélix contra César'),\n",
       "  None),\n",
       " ('Serge Reggiani',\n",
       "  '2 de mayo de 1922',\n",
       "  ('Mi erótico Sigfrido', 'La mano de hierro', 'Babeck', 'Miguel Strogoff'),\n",
       "  None),\n",
       " ('Mario Adorf',\n",
       "  '8 de septiembre de 1930',\n",
       "  ('El privilegio de amar', 'Chanoc', 'Toña machetes', 'El Pantera'),\n",
       "  {'premios ganados': ['1994 Ganador Adolf Grimme Award in Gold'],\n",
       "   'nominaciones': ['2016 Ganador Honorary Bambi']}),\n",
       " ('Andréa Ferréol',\n",
       "  '6 de enero de 1947',\n",
       "  ('Rina',\n",
       "   'Las momias de San Ángel',\n",
       "   'Jugandose la vida',\n",
       "   'La venganza de Maria'),\n",
       "  {'premios ganados': ['1981 Nominado César', '1976 Nominado César'],\n",
       "   'nominaciones': ['1997 Nominado David']}),\n",
       " ('Raimund Harmstorf',\n",
       "  '7 de octubre de 1939',\n",
       "  ('Alarido del terror',\n",
       "   'Fray Justicia',\n",
       "   'Un brillante propósito',\n",
       "   'Keiko en peligro'),\n",
       "  None),\n",
       " ('Andrés García',\n",
       "  '24 de mayo de 1941',\n",
       "  ('Deliciosa sinvergüenza',\n",
       "   'Las tres tumbas',\n",
       "   'Terror en los barrios',\n",
       "   'Mágica juventud'),\n",
       "  {'premios ganados': ['1974 Nominado Silver Ariel'],\n",
       "   'nominaciones': ['1986 Ganador Silver Goddess']}),\n",
       " ('Alicia Encinas',\n",
       "  '24 de abril de 1954',\n",
       "  ('Adiós a mi concubina', 'Ci ke', 'Un toque de zen', 'Gun gun hong chen'),\n",
       "  None),\n",
       " ('René Cardona III',\n",
       "  '1 de abril de 1962',\n",
       "  ('La mano de la muerte',\n",
       "   'Respirando fuego',\n",
       "   'Zhu Jiang da feng bao',\n",
       "   'Zui hou yi kou qi'),\n",
       "  None),\n",
       " ('Pablo Ferrel',\n",
       "  None,\n",
       "  ('Sha ren ai qing jie', 'The Lonely Killer', 'Shou kou', 'Po jie'),\n",
       "  None),\n",
       " ('Gloria Chávez',\n",
       "  None,\n",
       "  ('Vivir y morir en Los Ángeles',\n",
       "   'El chip prodigioso',\n",
       "   'Deadpool',\n",
       "   'Buscando un amigo para el fin del mundo'),\n",
       "  None),\n",
       " ('Feng Hsu',\n",
       "  '17 de agosto de 1950',\n",
       "  ('El pistolero de San Francisco',\n",
       "   'El último pistolero',\n",
       "   'El teatro de Richard Boone',\n",
       "   'Un hombre'),\n",
       "  {'premios ganados': ['1994 Ganador BAFTA Film Award'],\n",
       "   'nominaciones': ['2017 Ganador Lifetime Achievement Award']}),\n",
       " ('Yun Ling',\n",
       "  None,\n",
       "  ('Yojimbo', 'Los siete samuráis', 'El infierno del odio', 'Trono de sangre'),\n",
       "  None),\n",
       " ('Tao-Liang Tan',\n",
       "  '1947',\n",
       "  ('Ed Wood',\n",
       "   'Dos tontos muy tontos',\n",
       "   'Solos con nuestro tío',\n",
       "   'Muerte entre las flores'),\n",
       "  None),\n",
       " ('Michael Wai-Man Chan',\n",
       "  '10 de julio de 1946',\n",
       "  ('Vacaciones en el mar', 'Dallas', 'El triunfador', 'The Seekers'),\n",
       "  {'premios ganados': ['1983 Nominado Hong Kong Film Award'],\n",
       "   'nominaciones': []}),\n",
       " ('Chung Wang',\n",
       "  None,\n",
       "  ('La hora de las pistolas',\n",
       "   'Ana de las Tejas Verdes: la continuación',\n",
       "   'Baa Baa Black Sheep',\n",
       "   'Coronet Blue'),\n",
       "  {'premios ganados': ['1984 Nominado VMA'], 'nominaciones': []}),\n",
       " ('Richard Boone',\n",
       "  '18 de junio de 1917',\n",
       "  ('Violación', 'Rojo amanecer', 'Perro callejero', 'Yo el ejecutor'),\n",
       "  {'premios ganados': ['1964 Nominado Primetime Emmy',\n",
       "    '1960 Nominado Primetime Emmy',\n",
       "    '1959 Nominado Primetime Emmy',\n",
       "    '1955 Nominado Primetime Emmy',\n",
       "    '1955 Nominado Primetime Emmy'],\n",
       "   'nominaciones': ['1964 Nominado Golden Globe']}),\n",
       " ('Toshirô Mifune',\n",
       "  '1 de abril de 1920',\n",
       "  ('Santa Sangre',\n",
       "   'El imperio de la fortuna',\n",
       "   'Alma de hierro',\n",
       "   'Pedro Páramo'),\n",
       "  {'premios ganados': ['1956 Nominado BAFTA Film Award'],\n",
       "   'nominaciones': ['1981 Nominado Primetime Emmy']}),\n",
       " ('Mike Starr',\n",
       "  '29 de julio de 1950',\n",
       "  ('Tiempo de lobos',\n",
       "   'Agarren al de los huevos',\n",
       "   'Rosa de dos aromas',\n",
       "   'La perra de la frontera'),\n",
       "  {'premios ganados': ['2022 Ganador Award of Excellence'],\n",
       "   'nominaciones': ['2015 Ganador Lifetime Achievement Award']}),\n",
       " ('Timothy Patrick Murphy',\n",
       "  '3 de noviembre de 1959',\n",
       "  ('Pedro Páramo',\n",
       "   'Cadena perpetua',\n",
       "   'La casa al final de la calle',\n",
       "   'El gallo de oro'),\n",
       "  {'premios ganados': ['1984 Ganador Young Artist Award'],\n",
       "   'nominaciones': []}),\n",
       " ('Frank Converse',\n",
       "  '22 de mayo de 1938',\n",
       "  ('Amigas y rivales',\n",
       "   'Soy tu dueña',\n",
       "   'Mujeres engañadas',\n",
       "   'El ángel exterminador'),\n",
       "  {'premios ganados': ['1968 Nominado Gold Medal'], 'nominaciones': []}),\n",
       " ('Valentín Trujillo',\n",
       "  '28 de marzo de 1951',\n",
       "  ('Jue dai shuang jiao',\n",
       "   'Na Zha',\n",
       "   'Shao Lin si',\n",
       "   'Fang Shi Yu yu Hu Hui Qian'),\n",
       "  {'premios ganados': ['1989 Nominado Silver Ariel',\n",
       "    '1989 Nominado Silver Ariel',\n",
       "    '1989 Nominado Silver Ariel',\n",
       "    '1980 Nominado Silver Ariel'],\n",
       "   'nominaciones': ['1981 Ganador Premio ACE']}),\n",
       " ('Blanca Guerra',\n",
       "  '10 de enero de 1953',\n",
       "  ('Di Di ri ji',\n",
       "   'Yee dam hung seon',\n",
       "   'Duo shuai',\n",
       "   'She diao ying xiong zhuan'),\n",
       "  {'premios ganados': ['1999 Ganador Silver Ariel',\n",
       "    '1996 Nominado Silver Ariel',\n",
       "    '1995 Nominado Silver Ariel',\n",
       "    '1994 Ganador Silver Ariel',\n",
       "    '1988 Ganador Silver Ariel'],\n",
       "   'nominaciones': ['1991 Nominado Saturn Award']}),\n",
       " ('Patricia Rivera',\n",
       "  '25 de julio de 1956',\n",
       "  ('Un mañana mejor',\n",
       "   'La leyenda del luchador borracho',\n",
       "   'El camino del guerrero',\n",
       "   'Ci Ma'),\n",
       "  {'premios ganados': ['1990 Nominado Silver Ariel',\n",
       "    '1983 Ganador Silver Ariel'],\n",
       "   'nominaciones': []}),\n",
       " ('Narciso Busquets',\n",
       "  '8 de septiembre de 1929',\n",
       "  ('Ren zhe wu di',\n",
       "   'Hao xiao zi di xia yi zhao',\n",
       "   'Qi bu mi zong',\n",
       "   'Qian nu yun yu qing'),\n",
       "  {'premios ganados': ['1979 Nominado Silver Ariel'], 'nominaciones': []})]"
      ]
     },
     "execution_count": 13,
     "metadata": {},
     "output_type": "execute_result"
    }
   ],
   "source": [
    "action_elenco"
   ]
  },
  {
   "cell_type": "code",
   "execution_count": 14,
   "metadata": {},
   "outputs": [],
   "source": [
    "df_action_elenco = pd.DataFrame(action_elenco, columns= ['Nombre', 'Nacimiento', 'Conocido por', 'Premios'])"
   ]
  },
  {
   "cell_type": "code",
   "execution_count": 15,
   "metadata": {},
   "outputs": [
    {
     "data": {
      "text/html": [
       "<div>\n",
       "<style scoped>\n",
       "    .dataframe tbody tr th:only-of-type {\n",
       "        vertical-align: middle;\n",
       "    }\n",
       "\n",
       "    .dataframe tbody tr th {\n",
       "        vertical-align: top;\n",
       "    }\n",
       "\n",
       "    .dataframe thead th {\n",
       "        text-align: right;\n",
       "    }\n",
       "</style>\n",
       "<table border=\"1\" class=\"dataframe\">\n",
       "  <thead>\n",
       "    <tr style=\"text-align: right;\">\n",
       "      <th></th>\n",
       "      <th>Nombre</th>\n",
       "      <th>Nacimiento</th>\n",
       "      <th>Conocido por</th>\n",
       "      <th>Premios</th>\n",
       "    </tr>\n",
       "  </thead>\n",
       "  <tbody>\n",
       "    <tr>\n",
       "      <th>0</th>\n",
       "      <td>Aldo Ray</td>\n",
       "      <td>25 de septiembre de 1926</td>\n",
       "      <td>(No somos ángeles, La impetuosa, Nimh: El mund...</td>\n",
       "      <td>{'premios ganados': ['1979 Ganador AFAA Award'...</td>\n",
       "    </tr>\n",
       "    <tr>\n",
       "      <th>1</th>\n",
       "      <td>William Marshall</td>\n",
       "      <td>19 de agosto de 1924</td>\n",
       "      <td>(Drácula negro, Maverick, Grita Blácula grita ...</td>\n",
       "      <td>None</td>\n",
       "    </tr>\n",
       "    <tr>\n",
       "      <th>2</th>\n",
       "      <td>Terry Michos</td>\n",
       "      <td>26 de diciembre de 1953</td>\n",
       "      <td>(Los amos de la noche, El gran desafío en heli...</td>\n",
       "      <td>None</td>\n",
       "    </tr>\n",
       "    <tr>\n",
       "      <th>3</th>\n",
       "      <td>Russell Johnson</td>\n",
       "      <td>10 de noviembre de 1924</td>\n",
       "      <td>(La isla de Gílligan, Regreso a la Tierra, Vin...</td>\n",
       "      <td>{'premios ganados': ['2007 Nominado TV Land Aw...</td>\n",
       "    </tr>\n",
       "    <tr>\n",
       "      <th>4</th>\n",
       "      <td>Paul Tanashian</td>\n",
       "      <td>13 de marzo de 1960</td>\n",
       "      <td>(Furia oriental, El furor del dragón, Operació...</td>\n",
       "      <td>None</td>\n",
       "    </tr>\n",
       "    <tr>\n",
       "      <th>5</th>\n",
       "      <td>Bruce Lee</td>\n",
       "      <td>27 de noviembre de 1940</td>\n",
       "      <td>(Juego con la muerte, Retroceder nunca, rendir...</td>\n",
       "      <td>{'premios ganados': ['1972 Ganador Special Jur...</td>\n",
       "    </tr>\n",
       "    <tr>\n",
       "      <th>6</th>\n",
       "      <td>Tae-jeong Kim</td>\n",
       "      <td>5 de junio de 1957</td>\n",
       "      <td>(La Armadura Invencible, El mono borracho en e...</td>\n",
       "      <td>None</td>\n",
       "    </tr>\n",
       "    <tr>\n",
       "      <th>7</th>\n",
       "      <td>Jeong-lee Hwang</td>\n",
       "      <td>21 de diciembre de 1944</td>\n",
       "      <td>(El último combate, La serpiente a la sombra d...</td>\n",
       "      <td>None</td>\n",
       "    </tr>\n",
       "    <tr>\n",
       "      <th>8</th>\n",
       "      <td>Roy Horan</td>\n",
       "      <td>12 de octubre de 2021</td>\n",
       "      <td>(Contacto sangriento, Indiana Jones y el templ...</td>\n",
       "      <td>None</td>\n",
       "    </tr>\n",
       "    <tr>\n",
       "      <th>9</th>\n",
       "      <td>Roy Chiao</td>\n",
       "      <td>16 de marzo de 1927</td>\n",
       "      <td>(Ip Man 3 (Dragon Master), Ip Man 2, Hard-Boil...</td>\n",
       "      <td>{'premios ganados': ['1996 Ganador Golden Bauh...</td>\n",
       "    </tr>\n",
       "    <tr>\n",
       "      <th>10</th>\n",
       "      <td>Meng Lo</td>\n",
       "      <td>4 de agosto de 1952</td>\n",
       "      <td>(Wu du, Cha shou, Tie qi men, Can que)</td>\n",
       "      <td>None</td>\n",
       "    </tr>\n",
       "    <tr>\n",
       "      <th>11</th>\n",
       "      <td>Sheng Chiang</td>\n",
       "      <td>4 de abril de 1951</td>\n",
       "      <td>(Yunnan chong gu zhi Xian wang chuan shuo, Ye ...</td>\n",
       "      <td>None</td>\n",
       "    </tr>\n",
       "    <tr>\n",
       "      <th>12</th>\n",
       "      <td>Li Wang</td>\n",
       "      <td>6 de agosto de 1989</td>\n",
       "      <td>(Cha shou, Wu du, Lei tai, Xi shen bao chou)</td>\n",
       "      <td>None</td>\n",
       "    </tr>\n",
       "    <tr>\n",
       "      <th>13</th>\n",
       "      <td>Feng Lu</td>\n",
       "      <td>5 de mayo de 1953</td>\n",
       "      <td>(Ninja Dragon, Three Men on Fire, Los espías d...</td>\n",
       "      <td>None</td>\n",
       "    </tr>\n",
       "    <tr>\n",
       "      <th>14</th>\n",
       "      <td>Kei-San Chan</td>\n",
       "      <td>None</td>\n",
       "      <td>(Conan, el bárbaro, Otelo (Comando negro), La ...</td>\n",
       "      <td>None</td>\n",
       "    </tr>\n",
       "    <tr>\n",
       "      <th>15</th>\n",
       "      <td>Bruce Le</td>\n",
       "      <td>None</td>\n",
       "      <td>(001, operación Caribe, Goliat contra los giga...</td>\n",
       "      <td>None</td>\n",
       "    </tr>\n",
       "    <tr>\n",
       "      <th>16</th>\n",
       "      <td>Richard Harrison</td>\n",
       "      <td>26 de mayo de 1935</td>\n",
       "      <td>(L'empreinte des géants, Prostituta de día, se...</td>\n",
       "      <td>None</td>\n",
       "    </tr>\n",
       "    <tr>\n",
       "      <th>17</th>\n",
       "      <td>Nadiuska</td>\n",
       "      <td>19 de enero de 1952</td>\n",
       "      <td>(El gatopardo, París, bajos fondos, Los misera...</td>\n",
       "      <td>None</td>\n",
       "    </tr>\n",
       "    <tr>\n",
       "      <th>18</th>\n",
       "      <td>Brad Harris</td>\n",
       "      <td>16 de julio de 1933</td>\n",
       "      <td>(El tambor de hojalata, Der große Bellheim, De...</td>\n",
       "      <td>None</td>\n",
       "    </tr>\n",
       "    <tr>\n",
       "      <th>19</th>\n",
       "      <td>Zoé Chauveau</td>\n",
       "      <td>28 de marzo de 1959</td>\n",
       "      <td>(El último metro, Zoo, El fantasma de la ópera...</td>\n",
       "      <td>None</td>\n",
       "    </tr>\n",
       "    <tr>\n",
       "      <th>20</th>\n",
       "      <td>Serge Reggiani</td>\n",
       "      <td>2 de mayo de 1922</td>\n",
       "      <td>(Mi erótico Sigfrido, La mano de hierro, Babec...</td>\n",
       "      <td>None</td>\n",
       "    </tr>\n",
       "    <tr>\n",
       "      <th>21</th>\n",
       "      <td>Mario Adorf</td>\n",
       "      <td>8 de septiembre de 1930</td>\n",
       "      <td>(El privilegio de amar, Chanoc, Toña machetes,...</td>\n",
       "      <td>{'premios ganados': ['1994 Ganador Adolf Grimm...</td>\n",
       "    </tr>\n",
       "    <tr>\n",
       "      <th>22</th>\n",
       "      <td>Andréa Ferréol</td>\n",
       "      <td>6 de enero de 1947</td>\n",
       "      <td>(Rina, Las momias de San Ángel, Jugandose la v...</td>\n",
       "      <td>{'premios ganados': ['1981 Nominado César', '1...</td>\n",
       "    </tr>\n",
       "    <tr>\n",
       "      <th>23</th>\n",
       "      <td>Raimund Harmstorf</td>\n",
       "      <td>7 de octubre de 1939</td>\n",
       "      <td>(Alarido del terror, Fray Justicia, Un brillan...</td>\n",
       "      <td>None</td>\n",
       "    </tr>\n",
       "    <tr>\n",
       "      <th>24</th>\n",
       "      <td>Andrés García</td>\n",
       "      <td>24 de mayo de 1941</td>\n",
       "      <td>(Deliciosa sinvergüenza, Las tres tumbas, Terr...</td>\n",
       "      <td>{'premios ganados': ['1974 Nominado Silver Ari...</td>\n",
       "    </tr>\n",
       "    <tr>\n",
       "      <th>25</th>\n",
       "      <td>Alicia Encinas</td>\n",
       "      <td>24 de abril de 1954</td>\n",
       "      <td>(Adiós a mi concubina, Ci ke, Un toque de zen,...</td>\n",
       "      <td>None</td>\n",
       "    </tr>\n",
       "    <tr>\n",
       "      <th>26</th>\n",
       "      <td>René Cardona III</td>\n",
       "      <td>1 de abril de 1962</td>\n",
       "      <td>(La mano de la muerte, Respirando fuego, Zhu J...</td>\n",
       "      <td>None</td>\n",
       "    </tr>\n",
       "    <tr>\n",
       "      <th>27</th>\n",
       "      <td>Pablo Ferrel</td>\n",
       "      <td>None</td>\n",
       "      <td>(Sha ren ai qing jie, The Lonely Killer, Shou ...</td>\n",
       "      <td>None</td>\n",
       "    </tr>\n",
       "    <tr>\n",
       "      <th>28</th>\n",
       "      <td>Gloria Chávez</td>\n",
       "      <td>None</td>\n",
       "      <td>(Vivir y morir en Los Ángeles, El chip prodigi...</td>\n",
       "      <td>None</td>\n",
       "    </tr>\n",
       "    <tr>\n",
       "      <th>29</th>\n",
       "      <td>Feng Hsu</td>\n",
       "      <td>17 de agosto de 1950</td>\n",
       "      <td>(El pistolero de San Francisco, El último pist...</td>\n",
       "      <td>{'premios ganados': ['1994 Ganador BAFTA Film ...</td>\n",
       "    </tr>\n",
       "    <tr>\n",
       "      <th>30</th>\n",
       "      <td>Yun Ling</td>\n",
       "      <td>None</td>\n",
       "      <td>(Yojimbo, Los siete samuráis, El infierno del ...</td>\n",
       "      <td>None</td>\n",
       "    </tr>\n",
       "    <tr>\n",
       "      <th>31</th>\n",
       "      <td>Tao-Liang Tan</td>\n",
       "      <td>1947</td>\n",
       "      <td>(Ed Wood, Dos tontos muy tontos, Solos con nue...</td>\n",
       "      <td>None</td>\n",
       "    </tr>\n",
       "    <tr>\n",
       "      <th>32</th>\n",
       "      <td>Michael Wai-Man Chan</td>\n",
       "      <td>10 de julio de 1946</td>\n",
       "      <td>(Vacaciones en el mar, Dallas, El triunfador, ...</td>\n",
       "      <td>{'premios ganados': ['1983 Nominado Hong Kong ...</td>\n",
       "    </tr>\n",
       "    <tr>\n",
       "      <th>33</th>\n",
       "      <td>Chung Wang</td>\n",
       "      <td>None</td>\n",
       "      <td>(La hora de las pistolas, Ana de las Tejas Ver...</td>\n",
       "      <td>{'premios ganados': ['1984 Nominado VMA'], 'no...</td>\n",
       "    </tr>\n",
       "    <tr>\n",
       "      <th>34</th>\n",
       "      <td>Richard Boone</td>\n",
       "      <td>18 de junio de 1917</td>\n",
       "      <td>(Violación, Rojo amanecer, Perro callejero, Yo...</td>\n",
       "      <td>{'premios ganados': ['1964 Nominado Primetime ...</td>\n",
       "    </tr>\n",
       "    <tr>\n",
       "      <th>35</th>\n",
       "      <td>Toshirô Mifune</td>\n",
       "      <td>1 de abril de 1920</td>\n",
       "      <td>(Santa Sangre, El imperio de la fortuna, Alma ...</td>\n",
       "      <td>{'premios ganados': ['1956 Nominado BAFTA Film...</td>\n",
       "    </tr>\n",
       "    <tr>\n",
       "      <th>36</th>\n",
       "      <td>Mike Starr</td>\n",
       "      <td>29 de julio de 1950</td>\n",
       "      <td>(Tiempo de lobos, Agarren al de los huevos, Ro...</td>\n",
       "      <td>{'premios ganados': ['2022 Ganador Award of Ex...</td>\n",
       "    </tr>\n",
       "    <tr>\n",
       "      <th>37</th>\n",
       "      <td>Timothy Patrick Murphy</td>\n",
       "      <td>3 de noviembre de 1959</td>\n",
       "      <td>(Pedro Páramo, Cadena perpetua, La casa al fin...</td>\n",
       "      <td>{'premios ganados': ['1984 Ganador Young Artis...</td>\n",
       "    </tr>\n",
       "    <tr>\n",
       "      <th>38</th>\n",
       "      <td>Frank Converse</td>\n",
       "      <td>22 de mayo de 1938</td>\n",
       "      <td>(Amigas y rivales, Soy tu dueña, Mujeres engañ...</td>\n",
       "      <td>{'premios ganados': ['1968 Nominado Gold Medal...</td>\n",
       "    </tr>\n",
       "    <tr>\n",
       "      <th>39</th>\n",
       "      <td>Valentín Trujillo</td>\n",
       "      <td>28 de marzo de 1951</td>\n",
       "      <td>(Jue dai shuang jiao, Na Zha, Shao Lin si, Fan...</td>\n",
       "      <td>{'premios ganados': ['1989 Nominado Silver Ari...</td>\n",
       "    </tr>\n",
       "    <tr>\n",
       "      <th>40</th>\n",
       "      <td>Blanca Guerra</td>\n",
       "      <td>10 de enero de 1953</td>\n",
       "      <td>(Di Di ri ji, Yee dam hung seon, Duo shuai, Sh...</td>\n",
       "      <td>{'premios ganados': ['1999 Ganador Silver Arie...</td>\n",
       "    </tr>\n",
       "    <tr>\n",
       "      <th>41</th>\n",
       "      <td>Patricia Rivera</td>\n",
       "      <td>25 de julio de 1956</td>\n",
       "      <td>(Un mañana mejor, La leyenda del luchador borr...</td>\n",
       "      <td>{'premios ganados': ['1990 Nominado Silver Ari...</td>\n",
       "    </tr>\n",
       "    <tr>\n",
       "      <th>42</th>\n",
       "      <td>Narciso Busquets</td>\n",
       "      <td>8 de septiembre de 1929</td>\n",
       "      <td>(Ren zhe wu di, Hao xiao zi di xia yi zhao, Qi...</td>\n",
       "      <td>{'premios ganados': ['1979 Nominado Silver Ari...</td>\n",
       "    </tr>\n",
       "  </tbody>\n",
       "</table>\n",
       "</div>"
      ],
      "text/plain": [
       "                    Nombre                Nacimiento  \\\n",
       "0                 Aldo Ray  25 de septiembre de 1926   \n",
       "1         William Marshall      19 de agosto de 1924   \n",
       "2             Terry Michos   26 de diciembre de 1953   \n",
       "3          Russell Johnson   10 de noviembre de 1924   \n",
       "4           Paul Tanashian       13 de marzo de 1960   \n",
       "5                Bruce Lee   27 de noviembre de 1940   \n",
       "6            Tae-jeong Kim        5 de junio de 1957   \n",
       "7          Jeong-lee Hwang   21 de diciembre de 1944   \n",
       "8                Roy Horan     12 de octubre de 2021   \n",
       "9                Roy Chiao       16 de marzo de 1927   \n",
       "10                 Meng Lo       4 de agosto de 1952   \n",
       "11            Sheng Chiang        4 de abril de 1951   \n",
       "12                 Li Wang       6 de agosto de 1989   \n",
       "13                 Feng Lu         5 de mayo de 1953   \n",
       "14            Kei-San Chan                      None   \n",
       "15                Bruce Le                      None   \n",
       "16        Richard Harrison        26 de mayo de 1935   \n",
       "17                Nadiuska       19 de enero de 1952   \n",
       "18             Brad Harris       16 de julio de 1933   \n",
       "19            Zoé Chauveau       28 de marzo de 1959   \n",
       "20          Serge Reggiani         2 de mayo de 1922   \n",
       "21             Mario Adorf   8 de septiembre de 1930   \n",
       "22          Andréa Ferréol        6 de enero de 1947   \n",
       "23       Raimund Harmstorf      7 de octubre de 1939   \n",
       "24           Andrés García        24 de mayo de 1941   \n",
       "25          Alicia Encinas       24 de abril de 1954   \n",
       "26        René Cardona III        1 de abril de 1962   \n",
       "27            Pablo Ferrel                      None   \n",
       "28           Gloria Chávez                      None   \n",
       "29                Feng Hsu      17 de agosto de 1950   \n",
       "30                Yun Ling                      None   \n",
       "31           Tao-Liang Tan                      1947   \n",
       "32    Michael Wai-Man Chan       10 de julio de 1946   \n",
       "33              Chung Wang                      None   \n",
       "34           Richard Boone       18 de junio de 1917   \n",
       "35          Toshirô Mifune        1 de abril de 1920   \n",
       "36              Mike Starr       29 de julio de 1950   \n",
       "37  Timothy Patrick Murphy    3 de noviembre de 1959   \n",
       "38          Frank Converse        22 de mayo de 1938   \n",
       "39       Valentín Trujillo       28 de marzo de 1951   \n",
       "40           Blanca Guerra       10 de enero de 1953   \n",
       "41         Patricia Rivera       25 de julio de 1956   \n",
       "42        Narciso Busquets   8 de septiembre de 1929   \n",
       "\n",
       "                                         Conocido por  \\\n",
       "0   (No somos ángeles, La impetuosa, Nimh: El mund...   \n",
       "1   (Drácula negro, Maverick, Grita Blácula grita ...   \n",
       "2   (Los amos de la noche, El gran desafío en heli...   \n",
       "3   (La isla de Gílligan, Regreso a la Tierra, Vin...   \n",
       "4   (Furia oriental, El furor del dragón, Operació...   \n",
       "5   (Juego con la muerte, Retroceder nunca, rendir...   \n",
       "6   (La Armadura Invencible, El mono borracho en e...   \n",
       "7   (El último combate, La serpiente a la sombra d...   \n",
       "8   (Contacto sangriento, Indiana Jones y el templ...   \n",
       "9   (Ip Man 3 (Dragon Master), Ip Man 2, Hard-Boil...   \n",
       "10             (Wu du, Cha shou, Tie qi men, Can que)   \n",
       "11  (Yunnan chong gu zhi Xian wang chuan shuo, Ye ...   \n",
       "12       (Cha shou, Wu du, Lei tai, Xi shen bao chou)   \n",
       "13  (Ninja Dragon, Three Men on Fire, Los espías d...   \n",
       "14  (Conan, el bárbaro, Otelo (Comando negro), La ...   \n",
       "15  (001, operación Caribe, Goliat contra los giga...   \n",
       "16  (L'empreinte des géants, Prostituta de día, se...   \n",
       "17  (El gatopardo, París, bajos fondos, Los misera...   \n",
       "18  (El tambor de hojalata, Der große Bellheim, De...   \n",
       "19  (El último metro, Zoo, El fantasma de la ópera...   \n",
       "20  (Mi erótico Sigfrido, La mano de hierro, Babec...   \n",
       "21  (El privilegio de amar, Chanoc, Toña machetes,...   \n",
       "22  (Rina, Las momias de San Ángel, Jugandose la v...   \n",
       "23  (Alarido del terror, Fray Justicia, Un brillan...   \n",
       "24  (Deliciosa sinvergüenza, Las tres tumbas, Terr...   \n",
       "25  (Adiós a mi concubina, Ci ke, Un toque de zen,...   \n",
       "26  (La mano de la muerte, Respirando fuego, Zhu J...   \n",
       "27  (Sha ren ai qing jie, The Lonely Killer, Shou ...   \n",
       "28  (Vivir y morir en Los Ángeles, El chip prodigi...   \n",
       "29  (El pistolero de San Francisco, El último pist...   \n",
       "30  (Yojimbo, Los siete samuráis, El infierno del ...   \n",
       "31  (Ed Wood, Dos tontos muy tontos, Solos con nue...   \n",
       "32  (Vacaciones en el mar, Dallas, El triunfador, ...   \n",
       "33  (La hora de las pistolas, Ana de las Tejas Ver...   \n",
       "34  (Violación, Rojo amanecer, Perro callejero, Yo...   \n",
       "35  (Santa Sangre, El imperio de la fortuna, Alma ...   \n",
       "36  (Tiempo de lobos, Agarren al de los huevos, Ro...   \n",
       "37  (Pedro Páramo, Cadena perpetua, La casa al fin...   \n",
       "38  (Amigas y rivales, Soy tu dueña, Mujeres engañ...   \n",
       "39  (Jue dai shuang jiao, Na Zha, Shao Lin si, Fan...   \n",
       "40  (Di Di ri ji, Yee dam hung seon, Duo shuai, Sh...   \n",
       "41  (Un mañana mejor, La leyenda del luchador borr...   \n",
       "42  (Ren zhe wu di, Hao xiao zi di xia yi zhao, Qi...   \n",
       "\n",
       "                                              Premios  \n",
       "0   {'premios ganados': ['1979 Ganador AFAA Award'...  \n",
       "1                                                None  \n",
       "2                                                None  \n",
       "3   {'premios ganados': ['2007 Nominado TV Land Aw...  \n",
       "4                                                None  \n",
       "5   {'premios ganados': ['1972 Ganador Special Jur...  \n",
       "6                                                None  \n",
       "7                                                None  \n",
       "8                                                None  \n",
       "9   {'premios ganados': ['1996 Ganador Golden Bauh...  \n",
       "10                                               None  \n",
       "11                                               None  \n",
       "12                                               None  \n",
       "13                                               None  \n",
       "14                                               None  \n",
       "15                                               None  \n",
       "16                                               None  \n",
       "17                                               None  \n",
       "18                                               None  \n",
       "19                                               None  \n",
       "20                                               None  \n",
       "21  {'premios ganados': ['1994 Ganador Adolf Grimm...  \n",
       "22  {'premios ganados': ['1981 Nominado César', '1...  \n",
       "23                                               None  \n",
       "24  {'premios ganados': ['1974 Nominado Silver Ari...  \n",
       "25                                               None  \n",
       "26                                               None  \n",
       "27                                               None  \n",
       "28                                               None  \n",
       "29  {'premios ganados': ['1994 Ganador BAFTA Film ...  \n",
       "30                                               None  \n",
       "31                                               None  \n",
       "32  {'premios ganados': ['1983 Nominado Hong Kong ...  \n",
       "33  {'premios ganados': ['1984 Nominado VMA'], 'no...  \n",
       "34  {'premios ganados': ['1964 Nominado Primetime ...  \n",
       "35  {'premios ganados': ['1956 Nominado BAFTA Film...  \n",
       "36  {'premios ganados': ['2022 Ganador Award of Ex...  \n",
       "37  {'premios ganados': ['1984 Ganador Young Artis...  \n",
       "38  {'premios ganados': ['1968 Nominado Gold Medal...  \n",
       "39  {'premios ganados': ['1989 Nominado Silver Ari...  \n",
       "40  {'premios ganados': ['1999 Ganador Silver Arie...  \n",
       "41  {'premios ganados': ['1990 Nominado Silver Ari...  \n",
       "42  {'premios ganados': ['1979 Nominado Silver Ari...  "
      ]
     },
     "execution_count": 15,
     "metadata": {},
     "output_type": "execute_result"
    }
   ],
   "source": [
    "df_action_elenco"
   ]
  },
  {
   "cell_type": "code",
   "execution_count": 17,
   "metadata": {},
   "outputs": [],
   "source": [
    "df_action_elenco.to_csv('action_elenco.csv')"
   ]
  }
 ],
 "metadata": {
  "kernelspec": {
   "display_name": "Python 3",
   "language": "python",
   "name": "python3"
  },
  "language_info": {
   "codemirror_mode": {
    "name": "ipython",
    "version": 3
   },
   "file_extension": ".py",
   "mimetype": "text/x-python",
   "name": "python",
   "nbconvert_exporter": "python",
   "pygments_lexer": "ipython3",
   "version": "3.11.9"
  }
 },
 "nbformat": 4,
 "nbformat_minor": 2
}
