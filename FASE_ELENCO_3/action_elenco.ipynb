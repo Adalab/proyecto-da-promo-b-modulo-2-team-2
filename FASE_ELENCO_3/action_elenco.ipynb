{
 "cells": [
  {
   "cell_type": "code",
   "execution_count": 1,
   "metadata": {},
   "outputs": [],
   "source": [
    "import pandas as pd\n",
    "from selenium import webdriver  # Selenium es una herramienta para automatizar la interacción con navegadores web.\n",
    "from webdriver_manager.chrome import ChromeDriverManager  # ChromeDriverManager gestiona la instalación del controlador de Chrome.\n",
    "from selenium.webdriver.common.keys import Keys  # Keys es útil para simular eventos de teclado en Selenium.\n",
    "from selenium.webdriver.support.ui import Select  # Select se utiliza para interactuar con elementos <select> en páginas web.\n",
    "from tqdm import tqdm\n",
    "from time import sleep"
   ]
  },
  {
   "cell_type": "code",
   "execution_count": 2,
   "metadata": {},
   "outputs": [
    {
     "name": "stdout",
     "output_type": "stream",
     "text": [
      "      idOwner                       Title   Type  Year   Genre\n",
      "0   tt0077634  The Great Skycopter Rescue  Movie  1980  Action\n",
      "1   tt0076709                  Si wang ta  Movie  1980  Action\n",
      "2   tt0078428         Shao Lin yu Wu Dang  Movie  1980  Action\n",
      "3   tt0077645               Mie jue qi qi  Movie  1980  Action\n",
      "4   tt0079106      L'empreinte des géants  Movie  1980  Action\n",
      "..        ...                         ...    ...   ...     ...\n",
      "91  tt0101928                 Full Impact  Movie  1993  Action\n",
      "92  tt0105881            Magkasangga 2000  Movie  1995  Action\n",
      "93  tt0109178                   Automatic  Movie  1995  Action\n",
      "94  tt0109033    Abducted II: The Reunion  Movie  1995  Action\n",
      "95  tt0109536               The Dangerous  Movie  1995  Action\n",
      "\n",
      "[96 rows x 5 columns]\n",
      "['tt0077634', 'tt0076709', 'tt0078428', 'tt0077645', 'tt0079106', 'tt0078941', 'tt0078726', 'tt0078918', 'tt0079712', 'tt0079896', 'tt0079888', 'tt0080501', 'tt0080441', 'tt0080514', 'tt0080481', 'tt0079899', 'tt0080872', 'tt0082133', 'tt0082338', 'tt0082673', 'tt0082250', 'tt0082532', 'tt0078393', 'tt0082566', 'tt0083062', 'tt0084256', 'tt0084297', 'tt0084540', 'tt0084836', 'tt0083061', 'tt0083541', 'tt0085289', 'tt0085454', 'tt0085312', 'tt0084279', 'tt0085460', 'tt0085540', 'tt0084738', 'tt0083509', 'tt0086566', 'tt0088137', 'tt0087130', 'tt0066151', 'tt0081236', 'tt0084668', 'tt0086930', 'tt0089861', 'tt0087368', 'tt0089930', 'tt0090170', 'tt0088962', 'tt0090302', 'tt0089563', 'tt0091012', 'tt0090847', 'tt0090956', 'tt0090902', 'tt0090587', 'tt0092841', 'tt0092787', 'tt0093171', 'tt0091285', 'tt0093983', 'tt0092582', 'tt0093663', 'tt0090334', 'tt0094386', 'tt0094384', 'tt0094607', 'tt0092531', 'tt0094620', 'tt0090869', 'tt0092926', 'tt0094376', 'tt0094004', 'tt0093989', 'tt0095095', 'tt0095290', 'tt0096469', 'tt0094926', 'tt0097318', 'tt0097864', 'tt0095335', 'tt0097064', 'tt0099814', 'tt0099793', 'tt0100195', 'tt0101828', 'tt0101288', 'tt0102073', 'tt0096090', 'tt0101928', 'tt0105881', 'tt0109178', 'tt0109033', 'tt0109536']\n"
     ]
    }
   ],
   "source": [
    "df_action = pd.read_csv(\"../info_tablas_csv/action.csv\")\n",
    "\n",
    "print(df_action)\n",
    "\n",
    "idOwner = []\n",
    "\n",
    "for i in df_action[\"idOwner\"]:\n",
    "    idOwner.append(i)\n",
    "    \n",
    "\n",
    "print(idOwner)"
   ]
  },
  {
   "cell_type": "code",
   "execution_count": 36,
   "metadata": {},
   "outputs": [
    {
     "name": "stderr",
     "output_type": "stream",
     "text": [
      " 36%|███▋      | 35/96 [02:08<03:21,  3.30s/it]"
     ]
    },
    {
     "name": "stdout",
     "output_type": "stream",
     "text": [
      "No se encontraron actores\n",
      "No se encontraron actores\n"
     ]
    },
    {
     "name": "stderr",
     "output_type": "stream",
     "text": [
      " 49%|████▉     | 47/96 [02:49<02:47,  3.42s/it]"
     ]
    },
    {
     "name": "stdout",
     "output_type": "stream",
     "text": [
      "No se encontraron actores\n",
      "No se encontraron actores\n",
      "No se encontraron actores\n",
      "No se encontraron actores\n",
      "No se encontraron actores\n"
     ]
    },
    {
     "name": "stderr",
     "output_type": "stream",
     "text": [
      " 65%|██████▍   | 62/96 [03:42<01:52,  3.31s/it]"
     ]
    },
    {
     "name": "stdout",
     "output_type": "stream",
     "text": [
      "No se encontraron actores\n"
     ]
    },
    {
     "name": "stderr",
     "output_type": "stream",
     "text": [
      " 70%|██████▉   | 67/96 [04:00<01:42,  3.53s/it]"
     ]
    },
    {
     "name": "stdout",
     "output_type": "stream",
     "text": [
      "No se encontraron actores\n",
      "No se encontraron actores\n",
      "No se encontraron actores\n",
      "No se encontraron actores\n"
     ]
    },
    {
     "name": "stderr",
     "output_type": "stream",
     "text": [
      " 78%|███████▊  | 75/96 [04:30<01:16,  3.62s/it]"
     ]
    },
    {
     "name": "stdout",
     "output_type": "stream",
     "text": [
      "No se encontraron actores\n",
      "No se encontraron actores\n"
     ]
    },
    {
     "name": "stderr",
     "output_type": "stream",
     "text": [
      "100%|██████████| 96/96 [05:47<00:00,  3.62s/it]\n"
     ]
    }
   ],
   "source": [
    "driver = webdriver.Chrome()\n",
    "\n",
    "driver.get('https://www.imdb.com/')\n",
    "\n",
    "driver.maximize_window()\n",
    "\n",
    "sleep (3)\n",
    "\n",
    "driver.find_element('css selector','#__next > div > div > div.sc-jrcTuL.bPmWiM > div > button.icb-btn.sc-bcXHqe.sc-dkrFOg.sc-iBYQkv.dcvrLS.ddtuHe.dRCGjd').click()\n",
    "\n",
    "\n",
    "list_actors_by_movie = []\n",
    "list_all_actors = []\n",
    "\n",
    "for peli in tqdm(idOwner):\n",
    "    \n",
    "    driver.find_element('css selector', '#suggestion-search').send_keys(peli, Keys.ENTER)\n",
    "    for i in range(1,10): # porque estamos cogiendo los 10 primeros actores\n",
    "        try:\n",
    "            actor = driver.find_element('css selector', f'#__next > main > div > section.ipc-page-background.ipc-page-background--base.sc-c41b9732-0.NeSef > div > section > div > div.sc-978e9339-1.ihWZgK.ipc-page-grid__item.ipc-page-grid__item--span-2 > section.ipc-page-section.ipc-page-section--base.sc-bfec09a1-0.jgUBLM.title-cast.title-cast--movie.celwidget > div.ipc-shoveler.ipc-shoveler--base.ipc-shoveler--page0.title-cast__grid > div.ipc-sub-grid.ipc-sub-grid--page-span-2.ipc-sub-grid--wraps-at-above-l.ipc-shoveler__grid > div:nth-child({i}) > div.sc-bfec09a1-7.gWwKlt > a').text\n",
    "            list_actors_by_movie.append({'nombre': actor, 'id_pelicula': peli})\n",
    "            # Para no repetir los actores y sacar una lista de actores:\n",
    "            \n",
    "            if(actor not in list_all_actors):\n",
    "                list_all_actors.append(actor)\n",
    "            \n",
    "        except:\n",
    "            print('No se encontraron actores')\n",
    "\n",
    "\n",
    "    "
   ]
  },
  {
   "cell_type": "code",
   "execution_count": 37,
   "metadata": {},
   "outputs": [
    {
     "name": "stdout",
     "output_type": "stream",
     "text": [
      "[{'nombre': 'Aldo Ray', 'id_pelicula': 'tt0077634'}, {'nombre': 'William Marshall', 'id_pelicula': 'tt0077634'}, {'nombre': 'Terry Michos', 'id_pelicula': 'tt0077634'}, {'nombre': 'Russell Johnson', 'id_pelicula': 'tt0077634'}, {'nombre': 'Paul Tanashian', 'id_pelicula': 'tt0077634'}, {'nombre': 'Terri Taylor', 'id_pelicula': 'tt0077634'}, {'nombre': 'Richard C. Adams', 'id_pelicula': 'tt0077634'}, {'nombre': 'Maria Caso', 'id_pelicula': 'tt0077634'}, {'nombre': 'Kim Johnson', 'id_pelicula': 'tt0077634'}, {'nombre': 'Bruce Lee', 'id_pelicula': 'tt0076709'}, {'nombre': 'Tae-jeong Kim', 'id_pelicula': 'tt0076709'}, {'nombre': 'Jeong-lee Hwang', 'id_pelicula': 'tt0076709'}, {'nombre': 'Roy Horan', 'id_pelicula': 'tt0076709'}, {'nombre': 'Roy Chiao', 'id_pelicula': 'tt0076709'}, {'nombre': 'Hoi-Sang Lee', 'id_pelicula': 'tt0076709'}, {'nombre': 'Tiger Yang', 'id_pelicula': 'tt0076709'}, {'nombre': 'Li-Jen Hou', 'id_pelicula': 'tt0076709'}, {'nombre': 'Miranda Austin', 'id_pelicula': 'tt0076709'}, {'nombre': 'Meng Lo', 'id_pelicula': 'tt0078428'}, {'nombre': 'Sheng Chiang', 'id_pelicula': 'tt0078428'}, {'nombre': 'Li Wang', 'id_pelicula': 'tt0078428'}, {'nombre': 'Feng Lu', 'id_pelicula': 'tt0078428'}, {'nombre': 'Kei-San Chan', 'id_pelicula': 'tt0078428'}, {'nombre': 'Shu Gei Chan', 'id_pelicula': 'tt0078428'}, {'nombre': 'Chi-Shan Chen', 'id_pelicula': 'tt0078428'}, {'nombre': 'Han-Kuang Chen', 'id_pelicula': 'tt0078428'}, {'nombre': 'Chok-Chow Cheung', 'id_pelicula': 'tt0078428'}, {'nombre': 'Bruce Le', 'id_pelicula': 'tt0077645'}, {'nombre': 'Richard Harrison', 'id_pelicula': 'tt0077645'}, {'nombre': 'Jeong-lee Hwang', 'id_pelicula': 'tt0077645'}, {'nombre': 'Nadiuska', 'id_pelicula': 'tt0077645'}, {'nombre': 'Brad Harris', 'id_pelicula': 'tt0077645'}, {'nombre': 'May Hong', 'id_pelicula': 'tt0077645'}, {'nombre': 'Tito García', 'id_pelicula': 'tt0077645'}, {'nombre': 'Tao Chiang', 'id_pelicula': 'tt0077645'}, {'nombre': 'Sharon Shira', 'id_pelicula': 'tt0077645'}, {'nombre': 'Zoé Chauveau', 'id_pelicula': 'tt0079106'}, {'nombre': 'Serge Reggiani', 'id_pelicula': 'tt0079106'}, {'nombre': 'Mario Adorf', 'id_pelicula': 'tt0079106'}, {'nombre': 'Andréa Ferréol', 'id_pelicula': 'tt0079106'}, {'nombre': 'Raimund Harmstorf', 'id_pelicula': 'tt0079106'}, {'nombre': 'Dominique Laffin', 'id_pelicula': 'tt0079106'}, {'nombre': 'Patrick Chesnais', 'id_pelicula': 'tt0079106'}, {'nombre': 'Philippe Léotard', 'id_pelicula': 'tt0079106'}, {'nombre': 'Anne Wiazemsky', 'id_pelicula': 'tt0079106'}, {'nombre': 'Andrés García', 'id_pelicula': 'tt0078941'}, {'nombre': 'Alicia Encinas', 'id_pelicula': 'tt0078941'}, {'nombre': 'René Cardona III', 'id_pelicula': 'tt0078941'}, {'nombre': 'Pablo Ferrel', 'id_pelicula': 'tt0078941'}, {'nombre': 'Gloria Chávez', 'id_pelicula': 'tt0078941'}, {'nombre': 'Ángel Dupeyrón', 'id_pelicula': 'tt0078941'}, {'nombre': 'Fernando Palavicini', 'id_pelicula': 'tt0078941'}, {'nombre': 'Gerardo Castell', 'id_pelicula': 'tt0078941'}, {'nombre': 'Martha de Castro', 'id_pelicula': 'tt0078941'}, {'nombre': 'Feng Hsu', 'id_pelicula': 'tt0078726'}, {'nombre': 'Yun Ling', 'id_pelicula': 'tt0078726'}, {'nombre': 'Tao-Liang Tan', 'id_pelicula': 'tt0078726'}, {'nombre': 'Michael Wai-Man Chan', 'id_pelicula': 'tt0078726'}, {'nombre': 'Chung Wang', 'id_pelicula': 'tt0078726'}, {'nombre': 'Lily Li', 'id_pelicula': 'tt0078726'}, {'nombre': 'Danny Lee', 'id_pelicula': 'tt0078726'}, {'nombre': 'Mien Fang', 'id_pelicula': 'tt0078726'}, {'nombre': 'Hsin-Chun Huang', 'id_pelicula': 'tt0078726'}, {'nombre': 'Richard Boone', 'id_pelicula': 'tt0078918'}, {'nombre': 'Toshirô Mifune', 'id_pelicula': 'tt0078918'}, {'nombre': 'Mike Starr', 'id_pelicula': 'tt0078918'}, {'nombre': 'Timothy Patrick Murphy', 'id_pelicula': 'tt0078918'}, {'nombre': 'Frank Converse', 'id_pelicula': 'tt0078918'}, {'nombre': 'William Ross', 'id_pelicula': 'tt0078918'}, {'nombre': 'Bin Amatsu', 'id_pelicula': 'tt0078918'}, {'nombre': \"Shin'ichi Chiba\", 'id_pelicula': 'tt0078918'}, {'nombre': 'Iwae Arai', 'id_pelicula': 'tt0078918'}, {'nombre': 'Valentín Trujillo', 'id_pelicula': 'tt0079712'}, {'nombre': 'Blanca Guerra', 'id_pelicula': 'tt0079712'}, {'nombre': 'Patricia Rivera', 'id_pelicula': 'tt0079712'}, {'nombre': 'Narciso Busquets', 'id_pelicula': 'tt0079712'}, {'nombre': 'Eric del Castillo', 'id_pelicula': 'tt0079712'}, {'nombre': 'Ana Luisa Peluffo', 'id_pelicula': 'tt0079712'}, {'nombre': 'Sergio Goyri', 'id_pelicula': 'tt0079712'}, {'nombre': 'Rojo Grau', 'id_pelicula': 'tt0079712'}, {'nombre': 'Sergio Barrios', 'id_pelicula': 'tt0079712'}, {'nombre': 'Sheng Fu', 'id_pelicula': 'tt0079896'}, {'nombre': 'Niu Niu', 'id_pelicula': 'tt0079896'}, {'nombre': 'Lung Ti', 'id_pelicula': 'tt0079896'}, {'nombre': 'Tien-Chi Cheng', 'id_pelicula': 'tt0079896'}, {'nombre': 'Sheng Chiang', 'id_pelicula': 'tt0079896'}, {'nombre': 'Li Ching', 'id_pelicula': 'tt0079896'}, {'nombre': 'Kin-Ping Chow', 'id_pelicula': 'tt0079896'}, {'nombre': 'Ke Chu', 'id_pelicula': 'tt0079896'}, {'nombre': 'Jin Guo', 'id_pelicula': 'tt0079896'}, {'nombre': 'Ping An', 'id_pelicula': 'tt0079888'}, {'nombre': 'Lung Chan', 'id_pelicula': 'tt0079888'}, {'nombre': 'Hung-Lieh Chen', 'id_pelicula': 'tt0079888'}, {'nombre': 'Kai-Chun Chen', 'id_pelicula': 'tt0079888'}, {'nombre': 'Sing Chen', 'id_pelicula': 'tt0079888'}, {'nombre': 'Ching-Hsia Chiang', 'id_pelicula': 'tt0079888'}, {'nombre': 'Wei Chung', 'id_pelicula': 'tt0079888'}, {'nombre': 'Han Hsieh', 'id_pelicula': 'tt0079888'}, {'nombre': 'Chang-Sheng Ko', 'id_pelicula': 'tt0079888'}, {'nombre': 'Joey Travolta', 'id_pelicula': 'tt0080501'}, {'nombre': 'Vittorio Mezzogiorno', 'id_pelicula': 'tt0080501'}, {'nombre': 'Ana Obregón', 'id_pelicula': 'tt0080501'}, {'nombre': 'Ricardo Palacios', 'id_pelicula': 'tt0080501'}, {'nombre': 'John Steiner', 'id_pelicula': 'tt0080501'}, {'nombre': 'Sal Borgese', 'id_pelicula': 'tt0080501'}, {'nombre': 'Carlos Romano', 'id_pelicula': 'tt0080501'}, {'nombre': 'Douglas Sandoval', 'id_pelicula': 'tt0080501'}, {'nombre': 'Claudia Bono', 'id_pelicula': 'tt0080501'}, {'nombre': 'Peter Cushing', 'id_pelicula': 'tt0080441'}, {'nombre': 'Claudine Auger', 'id_pelicula': 'tt0080441'}, {'nombre': 'Hugo Stiglitz', 'id_pelicula': 'tt0080441'}, {'nombre': 'Max H. Boulois', 'id_pelicula': 'tt0080441'}, {'nombre': 'Brian Murphy', 'id_pelicula': 'tt0080441'}, {'nombre': 'Tony Fuentes', 'id_pelicula': 'tt0080441'}, {'nombre': 'Dan Forrest', 'id_pelicula': 'tt0080441'}, {'nombre': 'Hugo Blanco', 'id_pelicula': 'tt0080441'}, {'nombre': 'Fernando Sancho', 'id_pelicula': 'tt0080441'}, {'nombre': 'Savita Bajaj', 'id_pelicula': 'tt0080514'}, {'nombre': 'Arun Bakshi', 'id_pelicula': 'tt0080514'}, {'nombre': 'Suresh Bhagwat', 'id_pelicula': 'tt0080514'}, {'nombre': 'Suhas Bhalekar', 'id_pelicula': 'tt0080514'}, {'nombre': 'Ranjit Chowdhry', 'id_pelicula': 'tt0080514'}, {'nombre': 'Dilip Dhawan', 'id_pelicula': 'tt0080514'}, {'nombre': 'Kaluram Dhobale', 'id_pelicula': 'tt0080514'}, {'nombre': 'Salim Ghouse', 'id_pelicula': 'tt0080514'}, {'nombre': 'Rohini Hattangadi', 'id_pelicula': 'tt0080514'}, {'nombre': 'Olivia Pascal', 'id_pelicula': 'tt0080481'}, {'nombre': 'Alan Longmuir', 'id_pelicula': 'tt0080481'}, {'nombre': 'Sascha Hehn', 'id_pelicula': 'tt0080481'}, {'nombre': \"Stuart 'Woody' Wood\", 'id_pelicula': 'tt0080481'}, {'nombre': 'Derek Longmuir', 'id_pelicula': 'tt0080481'}, {'nombre': 'Duncan Faure', 'id_pelicula': 'tt0080481'}, {'nombre': 'Len Sparrowhawk', 'id_pelicula': 'tt0080481'}, {'nombre': 'Peter J. Elliott', 'id_pelicula': 'tt0080481'}, {'nombre': 'Yolanda Kloppers', 'id_pelicula': 'tt0080481'}, {'nombre': 'Sheng Fu', 'id_pelicula': 'tt0079899'}, {'nombre': 'Tien-Hsiang Lung', 'id_pelicula': 'tt0079899'}, {'nombre': 'Phillip Chung-Fung Kwok', 'id_pelicula': 'tt0079899'}, {'nombre': 'Gigi Suk Yee Wong', 'id_pelicula': 'tt0079899'}, {'nombre': 'Li Wang', 'id_pelicula': 'tt0079899'}, {'nombre': 'Hsueh-Erh Wen', 'id_pelicula': 'tt0079899'}, {'nombre': 'Siu-Ho Chin', 'id_pelicula': 'tt0079899'}, {'nombre': 'Sheng Chiang', 'id_pelicula': 'tt0079899'}, {'nombre': 'Ke Chu', 'id_pelicula': 'tt0079899'}, {'nombre': 'Richard Harris', 'id_pelicula': 'tt0080872'}, {'nombre': 'Christopher Plummer', 'id_pelicula': 'tt0080872'}, {'nombre': \"Beverly D'Angelo\", 'id_pelicula': 'tt0080872'}, {'nombre': 'Kate Reid', 'id_pelicula': 'tt0080872'}, {'nombre': 'Peter Donat', 'id_pelicula': 'tt0080872'}, {'nombre': 'Robin Gammell', 'id_pelicula': 'tt0080872'}, {'nombre': 'Saul Rubinek', 'id_pelicula': 'tt0080872'}, {'nombre': 'Maury Chaykin', 'id_pelicula': 'tt0080872'}, {'nombre': 'George Buza', 'id_pelicula': 'tt0080872'}, {'nombre': 'David Brandon', 'id_pelicula': 'tt0082133'}, {'nombre': 'Laura Gemser', 'id_pelicula': 'tt0082133'}, {'nombre': 'Luciano Bartoli', 'id_pelicula': 'tt0082133'}, {'nombre': 'Charles Borromel', 'id_pelicula': 'tt0082133'}, {'nombre': 'Fabiola Toledo', 'id_pelicula': 'tt0082133'}, {'nombre': \"Sasha D'Arc\", 'id_pelicula': 'tt0082133'}, {'nombre': 'Alessandro Freyberger', 'id_pelicula': 'tt0082133'}, {'nombre': 'Larry Dolgin', 'id_pelicula': 'tt0082133'}, {'nombre': 'Gabriele Tinti', 'id_pelicula': 'tt0082133'}, {'nombre': 'Steve Railsback', 'id_pelicula': 'tt0082338'}, {'nombre': 'Olivia Hussey', 'id_pelicula': 'tt0082338'}, {'nombre': 'Michael Craig', 'id_pelicula': 'tt0082338'}, {'nombre': 'Carmen Duncan', 'id_pelicula': 'tt0082338'}, {'nombre': 'Noel Ferrier', 'id_pelicula': 'tt0082338'}, {'nombre': 'Lynda Stoner', 'id_pelicula': 'tt0082338'}, {'nombre': 'Roger Ward', 'id_pelicula': 'tt0082338'}, {'nombre': 'Michael Petrovitch', 'id_pelicula': 'tt0082338'}, {'nombre': 'Gus Mercurio', 'id_pelicula': 'tt0082338'}, {'nombre': 'Bruce Li', 'id_pelicula': 'tt0082673'}, {'nombre': 'Lung Szema', 'id_pelicula': 'tt0082673'}, {'nombre': 'John Ladalski', 'id_pelicula': 'tt0082673'}, {'nombre': 'Ping-Ou Wei', 'id_pelicula': 'tt0082673'}, {'nombre': 'Kang Peng', 'id_pelicula': 'tt0082673'}, {'nombre': 'Ting Chao', 'id_pelicula': 'tt0082673'}, {'nombre': 'Yun-Wen Chang', 'id_pelicula': 'tt0082673'}, {'nombre': 'Yang Chiang', 'id_pelicula': 'tt0082673'}, {'nombre': 'Dan Inosanto', 'id_pelicula': 'tt0082673'}, {'nombre': 'Charles Bronson', 'id_pelicula': 'tt0082250'}, {'nombre': 'Jill Ireland', 'id_pelicula': 'tt0082250'}, {'nombre': 'Vincent Gardenia', 'id_pelicula': 'tt0082250'}, {'nombre': 'J.D. Cannon', 'id_pelicula': 'tt0082250'}, {'nombre': 'Anthony Franciosa', 'id_pelicula': 'tt0082250'}, {'nombre': 'Ben Frank', 'id_pelicula': 'tt0082250'}, {'nombre': 'Robin Sherwood', 'id_pelicula': 'tt0082250'}, {'nombre': 'Silvana Gallardo', 'id_pelicula': 'tt0082250'}, {'nombre': 'Robert F. Lyons', 'id_pelicula': 'tt0082250'}, {'nombre': 'Lawrence Day', 'id_pelicula': 'tt0082532'}, {'nombre': 'Luis Manuel', 'id_pelicula': 'tt0082532'}, {'nombre': 'Thomas M. Pollard', 'id_pelicula': 'tt0082532'}, {'nombre': 'Christopher Muncke', 'id_pelicula': 'tt0082532'}, {'nombre': 'Daniel Foley', 'id_pelicula': 'tt0082532'}, {'nombre': 'George Gabriel', 'id_pelicula': 'tt0082532'}, {'nombre': 'Steve Ballantine', 'id_pelicula': 'tt0082532'}, {'nombre': 'Earl Rhodes', 'id_pelicula': 'tt0082532'}, {'nombre': 'Edward Wylie', 'id_pelicula': 'tt0082532'}, {'nombre': 'Norman Chu', 'id_pelicula': 'tt0078393'}, {'nombre': 'Tony Liu', 'id_pelicula': 'tt0078393'}, {'nombre': 'Jung Wang', 'id_pelicula': 'tt0078393'}, {'nombre': 'Leanne Lau', 'id_pelicula': 'tt0078393'}, {'nombre': 'Alex Man', 'id_pelicula': 'tt0078393'}, {'nombre': 'Ching-Ching Yeung', 'id_pelicula': 'tt0078393'}, {'nombre': 'Szu-Chia Chen', 'id_pelicula': 'tt0078393'}, {'nombre': 'Kuan-Chung Ku', 'id_pelicula': 'tt0078393'}, {'nombre': 'Meng Lo', 'id_pelicula': 'tt0078393'}, {'nombre': 'Vic Vargas', 'id_pelicula': 'tt0082566'}, {'nombre': 'Richard Harrison', 'id_pelicula': 'tt0082566'}, {'nombre': 'Anthony Alonzo', 'id_pelicula': 'tt0082566'}, {'nombre': 'Robert Miller', 'id_pelicula': 'tt0082566'}, {'nombre': 'Dick Israel', 'id_pelicula': 'tt0082566'}, {'nombre': 'Jim Gaines', 'id_pelicula': 'tt0082566'}, {'nombre': 'Don Gordon Bell', 'id_pelicula': 'tt0082566'}, {'nombre': 'Tetchie Agbayani', 'id_pelicula': 'tt0082566'}, {'nombre': 'Bembol Roco', 'id_pelicula': 'tt0082566'}, {'nombre': 'Chia-Hui Liu', 'id_pelicula': 'tt0083062'}, {'nombre': 'Adam Cheng', 'id_pelicula': 'tt0083062'}, {'nombre': 'Li Ching', 'id_pelicula': 'tt0083062'}, {'nombre': 'Idy Chan', 'id_pelicula': 'tt0083062'}, {'nombre': 'Hwang-ki Baek', 'id_pelicula': 'tt0083062'}, {'nombre': 'Shen Chan', 'id_pelicula': 'tt0083062'}, {'nombre': 'Yung Chan', 'id_pelicula': 'tt0083062'}, {'nombre': 'Chiang Chen', 'id_pelicula': 'tt0083062'}, {'nombre': 'Hung Chen', 'id_pelicula': 'tt0083062'}, {'nombre': 'Leslie Cheung', 'id_pelicula': 'tt0084256'}, {'nombre': 'Jing-Jing Yung', 'id_pelicula': 'tt0084256'}, {'nombre': 'Kuan Tai Chen', 'id_pelicula': 'tt0084256'}, {'nombre': 'Leanne Lau', 'id_pelicula': 'tt0084256'}, {'nombre': 'Ni Tien', 'id_pelicula': 'tt0084256'}, {'nombre': 'Erik Ka-Kei Chan', 'id_pelicula': 'tt0084256'}, {'nombre': 'Lau Chan', 'id_pelicula': 'tt0084256'}, {'nombre': 'Yung Chan', 'id_pelicula': 'tt0084256'}, {'nombre': 'Tien-Chu Chin', 'id_pelicula': 'tt0084256'}, {'nombre': 'Siu-Ho Chin', 'id_pelicula': 'tt0084297'}, {'nombre': 'Kam Cheung', 'id_pelicula': 'tt0084297'}, {'nombre': 'Ju-Hua Pei', 'id_pelicula': 'tt0084297'}, {'nombre': 'Tien-Hsiang Lung', 'id_pelicula': 'tt0084297'}, {'nombre': 'Lieh Lo', 'id_pelicula': 'tt0084297'}, {'nombre': 'Ching-Ching Yeung', 'id_pelicula': 'tt0084297'}, {'nombre': 'Jeong-lee Hwang', 'id_pelicula': 'tt0084297'}, {'nombre': 'Shao-Hung Chan', 'id_pelicula': 'tt0084297'}, {'nombre': 'Wah Cheung', 'id_pelicula': 'tt0084297'}, {'nombre': 'Gérard Lanvin', 'id_pelicula': 'tt0084540'}, {'nombre': 'Michel Piccoli', 'id_pelicula': 'tt0084540'}, {'nombre': 'Marie-France Pisier', 'id_pelicula': 'tt0084540'}, {'nombre': 'Bruno Cremer', 'id_pelicula': 'tt0084540'}, {'nombre': 'Andréa Ferréol', 'id_pelicula': 'tt0084540'}, {'nombre': 'Jean Rougerie', 'id_pelicula': 'tt0084540'}, {'nombre': 'Jean-Claude Dreyfus', 'id_pelicula': 'tt0084540'}, {'nombre': 'Jean-Pierre Bagot', 'id_pelicula': 'tt0084540'}, {'nombre': 'Henri-Jacques Huet', 'id_pelicula': 'tt0084540'}, {'nombre': 'Pilar Alcón', 'id_pelicula': 'tt0084836'}, {'nombre': 'Werner Pochath', 'id_pelicula': 'tt0084836'}, {'nombre': 'Luis Rosillo', 'id_pelicula': 'tt0084836'}, {'nombre': 'Ricardo Palacios', 'id_pelicula': 'tt0084836'}, {'nombre': 'Emilio Alonso', 'id_pelicula': 'tt0084836'}, {'nombre': 'Manuel Díaz Velasco', 'id_pelicula': 'tt0084836'}, {'nombre': 'Ramón Lillo', 'id_pelicula': 'tt0084836'}, {'nombre': 'Rocío Freixas', 'id_pelicula': 'tt0084836'}, {'nombre': 'Ángel Menéndez', 'id_pelicula': 'tt0084836'}, {'nombre': 'Jimmy Wang Yu', 'id_pelicula': 'tt0083061'}, {'nombre': 'Kuan Tai Chen', 'id_pelicula': 'tt0083061'}, {'nombre': 'Danny Lee', 'id_pelicula': 'tt0083061'}, {'nombre': 'Sheng Chiang', 'id_pelicula': 'tt0083061'}, {'nombre': 'Chung Wang', 'id_pelicula': 'tt0083061'}, {'nombre': 'Feng Lu', 'id_pelicula': 'tt0083061'}, {'nombre': 'Ka-Yan Leung', 'id_pelicula': 'tt0083061'}, {'nombre': 'Hai-Ling Chu', 'id_pelicula': 'tt0083061'}, {'nombre': 'Andy Lau', 'id_pelicula': 'tt0083061'}, {'nombre': 'Karin Mani', 'id_pelicula': 'tt0083541'}, {'nombre': 'Robert Torti', 'id_pelicula': 'tt0083541'}, {'nombre': 'Britt Helfer', 'id_pelicula': 'tt0083541'}, {'nombre': 'Michael Wayne', 'id_pelicula': 'tt0083541'}, {'nombre': 'Jon Greene', 'id_pelicula': 'tt0083541'}, {'nombre': 'Jay Fisher', 'id_pelicula': 'tt0083541'}, {'nombre': 'Claudia Decea', 'id_pelicula': 'tt0083541'}, {'nombre': 'Tim Cutt', 'id_pelicula': 'tt0083541'}, {'nombre': 'Jay Walker', 'id_pelicula': 'tt0083541'}, {'nombre': 'Lee Marvin', 'id_pelicula': 'tt0085289'}, {'nombre': 'Miou-Miou', 'id_pelicula': 'tt0085289'}, {'nombre': 'Jean Carmet', 'id_pelicula': 'tt0085289'}, {'nombre': 'Victor Lanoux', 'id_pelicula': 'tt0085289'}, {'nombre': 'David Bennent', 'id_pelicula': 'tt0085289'}, {'nombre': 'Bernadette Lafont', 'id_pelicula': 'tt0085289'}, {'nombre': 'Grace de Capitani', 'id_pelicula': 'tt0085289'}, {'nombre': 'Tina Louise', 'id_pelicula': 'tt0085289'}, {'nombre': 'Muni', 'id_pelicula': 'tt0085289'}, {'nombre': 'Terence Hill', 'id_pelicula': 'tt0085454'}, {'nombre': 'Colin Blakely', 'id_pelicula': 'tt0085454'}, {'nombre': 'Mimsy Farmer', 'id_pelicula': 'tt0085454'}, {'nombre': 'Cyril Cusack', 'id_pelicula': 'tt0085454'}, {'nombre': 'Lew Ayres', 'id_pelicula': 'tt0085454'}, {'nombre': 'Andy Luotto', 'id_pelicula': 'tt0085454'}, {'nombre': 'Sam Whipple', 'id_pelicula': 'tt0085454'}, {'nombre': 'Ross Hill', 'id_pelicula': 'tt0085454'}, {'nombre': 'Joseph Ragno', 'id_pelicula': 'tt0085454'}, {'nombre': 'Marlène Jobert', 'id_pelicula': 'tt0085312'}, {'nombre': 'Gérard Klein', 'id_pelicula': 'tt0085312'}, {'nombre': 'Vittorio Mezzogiorno', 'id_pelicula': 'tt0085312'}, {'nombre': 'Wadeck Stanczak', 'id_pelicula': 'tt0085312'}, {'nombre': 'Pinkas Braun', 'id_pelicula': 'tt0085312'}, {'nombre': 'Agnès Garreau', 'id_pelicula': 'tt0085312'}, {'nombre': 'Jerzy Mierzejewski', 'id_pelicula': 'tt0085312'}, {'nombre': 'Hanns Zischler', 'id_pelicula': 'tt0085312'}, {'nombre': 'Jean Rougerie', 'id_pelicula': 'tt0085312'}, {'nombre': 'Alma Muriel', 'id_pelicula': 'tt0084279'}, {'nombre': 'Humberto Zurita', 'id_pelicula': 'tt0084279'}, {'nombre': 'José Carlos Ruiz', 'id_pelicula': 'tt0084279'}, {'nombre': 'Juan Ángel Martínez', 'id_pelicula': 'tt0084279'}, {'nombre': 'Ignacio Retes', 'id_pelicula': 'tt0084279'}, {'nombre': 'Charly Valentino', 'id_pelicula': 'tt0084279'}, {'nombre': 'Jorge Fegán', 'id_pelicula': 'tt0084279'}, {'nombre': 'Ovidiu Iuliu Moldovan', 'id_pelicula': 'tt0085460'}, {'nombre': 'Victor Rebengiuc', 'id_pelicula': 'tt0085460'}, {'nombre': 'Claudiu Bleont', 'id_pelicula': 'tt0085460'}, {'nombre': 'Petre Nicolae', 'id_pelicula': 'tt0085460'}, {'nombre': 'Sebastian Comanici', 'id_pelicula': 'tt0085460'}, {'nombre': 'Alfred Demetriu', 'id_pelicula': 'tt0085460'}, {'nombre': 'Vasile Nitulescu', 'id_pelicula': 'tt0085460'}, {'nombre': 'Patricia Grigoriu', 'id_pelicula': 'tt0085460'}, {'nombre': 'Ana-Maria Calinescu', 'id_pelicula': 'tt0085460'}, {'nombre': 'William Mang', 'id_pelicula': 'tt0085540'}, {'nombre': 'Marina Costa', 'id_pelicula': 'tt0085540'}, {'nombre': 'Harrison Muller', 'id_pelicula': 'tt0085540'}, {'nombre': 'Woody Strode', 'id_pelicula': 'tt0085540'}, {'nombre': 'Margie Newton', 'id_pelicula': 'tt0085540'}, {'nombre': 'Stefano Davanzati', 'id_pelicula': 'tt0085540'}, {'nombre': 'Renato Miracco', 'id_pelicula': 'tt0085540'}, {'nombre': 'Maria Romano', 'id_pelicula': 'tt0085540'}, {'nombre': 'Luca Giordana', 'id_pelicula': 'tt0085540'}, {'nombre': 'Chau-Wah Yim', 'id_pelicula': 'tt0084738'}, {'nombre': 'Yuan-Shen Huang', 'id_pelicula': 'tt0084738'}, {'nombre': 'Yat Fan Lau', 'id_pelicula': 'tt0084738'}, {'nombre': 'Yeong-moon Kwon', 'id_pelicula': 'tt0084738'}, {'nombre': 'Dan Lau', 'id_pelicula': 'tt0084738'}, {'nombre': 'Tyrus Bromley', 'id_pelicula': 'tt0084738'}, {'nombre': 'Michael Wai-Man Chan', 'id_pelicula': 'tt0084738'}, {'nombre': 'Tao Chiang', 'id_pelicula': 'tt0084738'}, {'nombre': 'Wei Chuang', 'id_pelicula': 'tt0084738'}, {'nombre': 'Bernie Pock', 'id_pelicula': 'tt0083509'}, {'nombre': 'Myra', 'id_pelicula': 'tt0083509'}, {'nombre': 'Cynthia Rothrock', 'id_pelicula': 'tt0083509'}, {'nombre': 'Stack Pierce', 'id_pelicula': 'tt0083509'}, {'nombre': 'Leo Fong', 'id_pelicula': 'tt0083509'}, {'nombre': 'Steve Quimby', 'id_pelicula': 'tt0083509'}, {'nombre': 'Stephen Moore', 'id_pelicula': 'tt0083509'}, {'nombre': 'Kenneth Walshman', 'id_pelicula': 'tt0083509'}, {'nombre': 'Mike Hamilton', 'id_pelicula': 'tt0083509'}, {'nombre': 'Nancy Kwan', 'id_pelicula': 'tt0086566'}, {'nombre': 'Robert Forster', 'id_pelicula': 'tt0086566'}, {'nombre': 'Joe Spinell', 'id_pelicula': 'tt0086566'}, {'nombre': 'A Martinez', 'id_pelicula': 'tt0086566'}, {'nombre': 'James McIntire', 'id_pelicula': 'tt0086566'}, {'nombre': 'Wayne Woodson', 'id_pelicula': 'tt0086566'}, {'nombre': 'Doug Toby', 'id_pelicula': 'tt0086566'}, {'nombre': 'Phil H. Fravel', 'id_pelicula': 'tt0086566'}, {'nombre': 'Luis Contreras', 'id_pelicula': 'tt0086566'}, {'nombre': 'Robert Resnick', 'id_pelicula': 'tt0088137'}, {'nombre': 'Debra Blee', 'id_pelicula': 'tt0088137'}, {'nombre': 'Raul Aragon', 'id_pelicula': 'tt0088137'}, {'nombre': 'Victor M. Ordonez', 'id_pelicula': 'tt0088137'}, {'nombre': 'Carissa Carlos', 'id_pelicula': 'tt0088137'}, {'nombre': 'Joonee Gamboa', 'id_pelicula': 'tt0088137'}, {'nombre': 'Ann Milhench', 'id_pelicula': 'tt0088137'}, {'nombre': 'Charles Black', 'id_pelicula': 'tt0088137'}, {'nombre': 'George E. Mahlberg', 'id_pelicula': 'tt0088137'}, {'nombre': 'Lenore Zann', 'id_pelicula': 'tt0087130'}, {'nombre': 'Maury Chaykin', 'id_pelicula': 'tt0087130'}, {'nombre': 'Kate Lynch', 'id_pelicula': 'tt0087130'}, {'nombre': 'Kevin King', 'id_pelicula': 'tt0087130'}, {'nombre': 'John Walsch', 'id_pelicula': 'tt0087130'}, {'nombre': 'Tim Choate', 'id_pelicula': 'tt0087130'}, {'nombre': 'Jeff Pustil', 'id_pelicula': 'tt0087130'}, {'nombre': 'Donna King', 'id_pelicula': 'tt0087130'}, {'nombre': 'Alan MacGillivray', 'id_pelicula': 'tt0087130'}, {'nombre': 'Na Yen Na', 'id_pelicula': 'tt0066151'}, {'nombre': 'Lak Apichat', 'id_pelicula': 'tt0066151'}, {'nombre': 'Anne Aswatep', 'id_pelicula': 'tt0066151'}, {'nombre': 'Bruce Baron', 'id_pelicula': 'tt0066151'}, {'nombre': 'Richard Bern', 'id_pelicula': 'tt0066151'}, {'nombre': 'David Chang', 'id_pelicula': 'tt0066151'}, {'nombre': 'Sorapong Chatree', 'id_pelicula': 'tt0066151'}, {'nombre': 'Richard Chit', 'id_pelicula': 'tt0066151'}, {'nombre': 'Rick Jenkins', 'id_pelicula': 'tt0066151'}, {'nombre': 'Bruce Baron', 'id_pelicula': 'tt0081236'}, {'nombre': 'Pierre Tremblay', 'id_pelicula': 'tt0081236'}, {'nombre': 'Phillip Ching', 'id_pelicula': 'tt0081236'}, {'nombre': 'Jack Lam', 'id_pelicula': 'tt0081236'}, {'nombre': 'Nancy Chang', 'id_pelicula': 'tt0081236'}, {'nombre': 'Richard Harrison', 'id_pelicula': 'tt0081236'}, {'nombre': 'James Chan', 'id_pelicula': 'tt0081236'}, {'nombre': 'Ryong Keo', 'id_pelicula': 'tt0081236'}, {'nombre': 'John Wong', 'id_pelicula': 'tt0081236'}, {'nombre': 'Xiaojian Xu', 'id_pelicula': 'tt0084668'}, {'nombre': 'Yuming Du', 'id_pelicula': 'tt0084668'}, {'nombre': 'Zhihua Dong', 'id_pelicula': 'tt0084668'}, {'nombre': 'Dongyu Fan', 'id_pelicula': 'tt0084668'}, {'nombre': 'Yongzhuan Gu', 'id_pelicula': 'tt0084668'}, {'nombre': 'Lijun Liu', 'id_pelicula': 'tt0084668'}, {'nombre': 'Huanyou Luo', 'id_pelicula': 'tt0084668'}, {'nombre': 'Lixin Mu', 'id_pelicula': 'tt0084668'}, {'nombre': 'Jiping Shi', 'id_pelicula': 'tt0084668'}, {'nombre': 'Carey Zuris', 'id_pelicula': 'tt0086930'}, {'nombre': 'Teresa Farley', 'id_pelicula': 'tt0086930'}, {'nombre': 'Natalie Savage', 'id_pelicula': 'tt0086930'}, {'nombre': 'Rick Gianasi', 'id_pelicula': 'tt0086930'}, {'nombre': 'Marita', 'id_pelicula': 'tt0086930'}, {'nombre': 'Jennifer Delora', 'id_pelicula': 'tt0086930'}, {'nombre': 'Donna Eskra', 'id_pelicula': 'tt0086930'}, {'nombre': 'Dan Barclay', 'id_pelicula': 'tt0086930'}, {'nombre': 'Rebecca Rothbaum', 'id_pelicula': 'tt0086930'}, {'nombre': 'Chow Yun-Fat', 'id_pelicula': 'tt0089861'}, {'nombre': 'Emily Chu', 'id_pelicula': 'tt0089861'}, {'nombre': 'Kit Ying Lam', 'id_pelicula': 'tt0089861'}, {'nombre': 'Dick Wei', 'id_pelicula': 'tt0089861'}, {'nombre': 'Aleksey Gorbunov', 'id_pelicula': 'tt0087368'}, {'nombre': 'Tõnu Kark', 'id_pelicula': 'tt0087368'}, {'nombre': 'Yuriy Grigorev', 'id_pelicula': 'tt0087368'}, {'nombre': 'Arnis Licitis', 'id_pelicula': 'tt0087368'}, {'nombre': 'Gediminas Girdvainis', 'id_pelicula': 'tt0087368'}, {'nombre': 'Givi Tokhadze', 'id_pelicula': 'tt0087368'}, {'nombre': 'Lina Shevchenko', 'id_pelicula': 'tt0087368'}, {'nombre': 'Vladimir Msryan', 'id_pelicula': 'tt0087368'}, {'nombre': 'Aleksandr Nikitchin', 'id_pelicula': 'tt0087368'}, {'nombre': 'Suzanne Solari', 'id_pelicula': 'tt0089930'}, {'nombre': 'Jeff Hutchinson', 'id_pelicula': 'tt0089930'}, {'nombre': 'Shaun Michelle', 'id_pelicula': 'tt0089930'}, {'nombre': 'Katina Garner', 'id_pelicula': 'tt0089930'}, {'nombre': 'Sam Mann', 'id_pelicula': 'tt0089930'}, {'nombre': 'Robby Taylor', 'id_pelicula': 'tt0089930'}, {'nombre': 'Christopher Ray', 'id_pelicula': 'tt0089930'}, {'nombre': 'Erin Michael', 'id_pelicula': 'tt0089930'}, {'nombre': 'Michael Cofield', 'id_pelicula': 'tt0089930'}, {'nombre': 'Mark Gregory', 'id_pelicula': 'tt0090170'}, {'nombre': 'Raimund Harmstorf', 'id_pelicula': 'tt0090170'}, {'nombre': 'Karen Reel', 'id_pelicula': 'tt0090170'}, {'nombre': 'Bo Svenson', 'id_pelicula': 'tt0090170'}, {'nombre': 'William Rice', 'id_pelicula': 'tt0090170'}, {'nombre': 'Vic Roych', 'id_pelicula': 'tt0090170'}, {'nombre': 'Clayton Tevis', 'id_pelicula': 'tt0090170'}, {'nombre': 'Bill Rossly', 'id_pelicula': 'tt0090170'}, {'nombre': 'Mike Bower', 'id_pelicula': 'tt0090170'}, {'nombre': 'Jamal Aladdin', 'id_pelicula': 'tt0088962'}, {'nombre': 'John Ales', 'id_pelicula': 'tt0088962'}, {'nombre': 'Charles Anderson', 'id_pelicula': 'tt0088962'}, {'nombre': 'George Pan Andreas', 'id_pelicula': 'tt0088962'}, {'nombre': 'Hadi Badrakham', 'id_pelicula': 'tt0088962'}, {'nombre': 'Jack Bliesener', 'id_pelicula': 'tt0088962'}, {'nombre': 'Ben Bridwell', 'id_pelicula': 'tt0088962'}, {'nombre': 'Verlaine Val Brown', 'id_pelicula': 'tt0088962'}, {'nombre': 'George Davis', 'id_pelicula': 'tt0088962'}, {'nombre': 'Samuel Hui', 'id_pelicula': 'tt0090302'}, {'nombre': 'Lung Ti', 'id_pelicula': 'tt0090302'}, {'nombre': 'Teddy Robin Kwan', 'id_pelicula': 'tt0090302'}, {'nombre': 'Joey Wang', 'id_pelicula': 'tt0090302'}, {'nombre': 'Alan Ko', 'id_pelicula': 'tt0090302'}, {'nombre': 'Bruce Baron', 'id_pelicula': 'tt0090302'}, {'nombre': 'Chun-kun Chan', 'id_pelicula': 'tt0090302'}, {'nombre': 'Shun Chien', 'id_pelicula': 'tt0090302'}, {'nombre': 'Eva Cobo', 'id_pelicula': 'tt0090302'}, {'nombre': 'Jeff Moldovan', 'id_pelicula': 'tt0089563'}, {'nombre': 'Donna Rosea', 'id_pelicula': 'tt0089563'}, {'nombre': 'Joe Hess', 'id_pelicula': 'tt0089563'}, {'nombre': 'Robert Goodman', 'id_pelicula': 'tt0089563'}, {'nombre': 'Richard St. George', 'id_pelicula': 'tt0089563'}, {'nombre': 'Jorge Gil', 'id_pelicula': 'tt0089563'}, {'nombre': 'Pete Lundblad Jr.', 'id_pelicula': 'tt0089563'}, {'nombre': 'Earleen Carey', 'id_pelicula': 'tt0089563'}, {'nombre': 'R.J. Reynolds', 'id_pelicula': 'tt0089563'}, {'nombre': 'Richard Norton', 'id_pelicula': 'tt0091012'}, {'nombre': 'Corinne Wahl', 'id_pelicula': 'tt0091012'}, {'nombre': 'William Steis', 'id_pelicula': 'tt0091012'}, {'nombre': 'Robert Patrick', 'id_pelicula': 'tt0091012'}, {'nombre': 'Frederick Bailey', 'id_pelicula': 'tt0091012'}, {'nombre': 'Rex Cutter', 'id_pelicula': 'tt0091012'}, {'nombre': 'Warren McLean', 'id_pelicula': 'tt0091012'}, {'nombre': 'Peter Shilton', 'id_pelicula': 'tt0091012'}, {'nombre': 'Don Gordon Bell', 'id_pelicula': 'tt0091012'}, {'nombre': 'Paul Coufos', 'id_pelicula': 'tt0090847'}, {'nombre': 'Damian Lee', 'id_pelicula': 'tt0090847'}, {'nombre': 'Marsha Levine', 'id_pelicula': 'tt0090847'}, {'nombre': 'Tony Rosato', 'id_pelicula': 'tt0090847'}, {'nombre': 'Timothy Burd', 'id_pelicula': 'tt0090847'}, {'nombre': 'Sonja Belliveau', 'id_pelicula': 'tt0090847'}, {'nombre': 'Benjamin Barrett', 'id_pelicula': 'tt0090847'}, {'nombre': 'Lawrence King-Phillips', 'id_pelicula': 'tt0090847'}, {'nombre': 'Brian Cooper', 'id_pelicula': 'tt0090847'}, {'nombre': 'Sammo Kam-Bo Hung', 'id_pelicula': 'tt0090956'}, {'nombre': 'Biao Yuen', 'id_pelicula': 'tt0090956'}, {'nombre': 'Haing S. Ngor', 'id_pelicula': 'tt0090956'}, {'nombre': 'Ching-Ying Lam', 'id_pelicula': 'tt0090956'}, {'nombre': 'Billy Lau', 'id_pelicula': 'tt0090956'}, {'nombre': 'Kwok-Keung Cheung', 'id_pelicula': 'tt0090956'}, {'nombre': 'Joyce Godenzi', 'id_pelicula': 'tt0090956'}, {'nombre': 'Man Yan Chiu', 'id_pelicula': 'tt0090956'}, {'nombre': 'Chi Jan Ha', 'id_pelicula': 'tt0090956'}, {'nombre': 'Michael Wayne', 'id_pelicula': 'tt0090902'}, {'nombre': 'Jason Williams', 'id_pelicula': 'tt0090902'}, {'nombre': 'Suzanne Tara', 'id_pelicula': 'tt0090902'}, {'nombre': 'Tom Friedman', 'id_pelicula': 'tt0090902'}, {'nombre': 'Jami Ferreira', 'id_pelicula': 'tt0090902'}, {'nombre': 'Teresa Truesdale', 'id_pelicula': 'tt0090902'}, {'nombre': 'Cynthia Gray', 'id_pelicula': 'tt0090902'}, {'nombre': 'Michael Carrier', 'id_pelicula': 'tt0090902'}, {'nombre': 'Dana Dowell', 'id_pelicula': 'tt0090902'}, {'nombre': 'Zhihua Dong', 'id_pelicula': 'tt0090587'}, {'nombre': 'Xiaojian Xu', 'id_pelicula': 'tt0090587'}, {'nombre': 'Yongzhuan Gu', 'id_pelicula': 'tt0090587'}, {'nombre': 'Yuming Du', 'id_pelicula': 'tt0090587'}, {'nombre': 'Changjiang Bi', 'id_pelicula': 'tt0090587'}, {'nombre': 'Er Gang Chen', 'id_pelicula': 'tt0090587'}, {'nombre': 'Yu Guo', 'id_pelicula': 'tt0090587'}, {'nombre': 'Pengshou Hao', 'id_pelicula': 'tt0090587'}, {'nombre': 'Fa-Yuan Li', 'id_pelicula': 'tt0090587'}, {'nombre': 'Wings Hauser', 'id_pelicula': 'tt0092841'}, {'nombre': 'Brion James', 'id_pelicula': 'tt0092841'}, {'nombre': 'Pamela Ludwig', 'id_pelicula': 'tt0092841'}, {'nombre': 'Leland Crooke', 'id_pelicula': 'tt0092841'}, {'nombre': 'Sy Richardson', 'id_pelicula': 'tt0092841'}, {'nombre': \"Joe D'Angerio\", 'id_pelicula': 'tt0092841'}, {'nombre': 'Tasia Valenza', 'id_pelicula': 'tt0092841'}, {'nombre': 'John Walter Davis', 'id_pelicula': 'tt0092841'}, {'nombre': 'Penelope Sudrow', 'id_pelicula': 'tt0092841'}, {'nombre': 'Jorge Rivero', 'id_pelicula': 'tt0092787'}, {'nombre': 'George Kennedy', 'id_pelicula': 'tt0092787'}, {'nombre': 'Andrew Stevens', 'id_pelicula': 'tt0092787'}, {'nombre': 'Isaac Hayes', 'id_pelicula': 'tt0092787'}, {'nombre': 'Louis Jourdan', 'id_pelicula': 'tt0092787'}, {'nombre': 'Kevin Bernhardt', 'id_pelicula': 'tt0092787'}, {'nombre': 'Hugo Stiglitz', 'id_pelicula': 'tt0092787'}, {'nombre': 'Simón Andreu', 'id_pelicula': 'tt0092787'}, {'nombre': 'Kabir Bedi', 'id_pelicula': 'tt0092787'}, {'nombre': 'Julius LeFlore', 'id_pelicula': 'tt0093171'}, {'nombre': 'RCB', 'id_pelicula': 'tt0093171'}, {'nombre': 'Roddy Piper', 'id_pelicula': 'tt0093171'}, {'nombre': 'William Smith', 'id_pelicula': 'tt0093171'}, {'nombre': 'Sandahl Bergman', 'id_pelicula': 'tt0093171'}, {'nombre': 'Eyde Byrde', 'id_pelicula': 'tt0093171'}, {'nombre': 'Lee Garlington', 'id_pelicula': 'tt0093171'}, {'nombre': 'Cec Verrell', 'id_pelicula': 'tt0093171'}, {'nombre': 'Suzanne Solari', 'id_pelicula': 'tt0093171'}, {'nombre': 'William Bell Sullivan', 'id_pelicula': 'tt0091285'}, {'nombre': 'Ava Lazar', 'id_pelicula': 'tt0091285'}, {'nombre': 'Ayu Azhari', 'id_pelicula': 'tt0091285'}, {'nombre': 'David Thornton', 'id_pelicula': 'tt0091285'}, {'nombre': 'Peter Fox', 'id_pelicula': 'tt0091285'}, {'nombre': 'Peter Bodzek', 'id_pelicula': 'tt0091285'}, {'nombre': 'Rima Melati', 'id_pelicula': 'tt0091285'}, {'nombre': 'Frans Tumbuan', 'id_pelicula': 'tt0091285'}, {'nombre': 'Ernest Borgnine', 'id_pelicula': 'tt0093983'}, {'nombre': 'Robert Vaughn', 'id_pelicula': 'tt0093983'}, {'nombre': 'Oliver Reed', 'id_pelicula': 'tt0093983'}, {'nombre': 'Herbert Lom', 'id_pelicula': 'tt0093983'}, {'nombre': 'Simon Sabela', 'id_pelicula': 'tt0093983'}, {'nombre': 'Daniel Greene', 'id_pelicula': 'tt0093983'}, {'nombre': 'Leon Isaac Kennedy', 'id_pelicula': 'tt0093983'}, {'nombre': 'Nancy Mulford', 'id_pelicula': 'tt0093983'}, {'nombre': 'Peter Kwong', 'id_pelicula': 'tt0093983'}, {'nombre': 'Sylvia Kristel', 'id_pelicula': 'tt0092582'}, {'nombre': 'Gary Graham', 'id_pelicula': 'tt0092582'}, {'nombre': 'Leigh Wood', 'id_pelicula': 'tt0092582'}, {'nombre': 'Joe Condon', 'id_pelicula': 'tt0092582'}, {'nombre': 'Brian Storm', 'id_pelicula': 'tt0092582'}, {'nombre': 'Michael Justin', 'id_pelicula': 'tt0092582'}, {'nombre': 'Jack Zavorak', 'id_pelicula': 'tt0092582'}, {'nombre': 'Dale Segal', 'id_pelicula': 'tt0092582'}, {'nombre': 'Tony Trudnick', 'id_pelicula': 'tt0092582'}, {'nombre': 'Rick Gianasi', 'id_pelicula': 'tt0093663'}, {'nombre': 'Joe Derrig', 'id_pelicula': 'tt0093663'}, {'nombre': 'Richard Mooney', 'id_pelicula': 'tt0093663'}, {'nombre': 'Jennifer Kanter', 'id_pelicula': 'tt0093663'}, {'nombre': 'Mizan Kirby', 'id_pelicula': 'tt0093663'}, {'nombre': 'Matt Mitler', 'id_pelicula': 'tt0093663'}, {'nombre': 'Anibal O. Lleras', 'id_pelicula': 'tt0093663'}, {'nombre': 'Betty Vaughn', 'id_pelicula': 'tt0093663'}, {'nombre': 'Kate Goldsborough', 'id_pelicula': 'tt0093663'}, {'nombre': 'Mel Welles', 'id_pelicula': 'tt0090334'}, {'nombre': 'Bobby Jacoby', 'id_pelicula': 'tt0090334'}, {'nombre': 'David Carradine', 'id_pelicula': 'tt0090334'}, {'nombre': 'Susan Lee Hoffman', 'id_pelicula': 'tt0090334'}, {'nombre': 'Blake Bahner', 'id_pelicula': 'tt0090334'}, {'nombre': 'Lana Clarkson', 'id_pelicula': 'tt0090334'}, {'nombre': 'Henry Brandon', 'id_pelicula': 'tt0090334'}, {'nombre': 'Wayne Grace', 'id_pelicula': 'tt0090334'}, {'nombre': 'Edward Blackoff', 'id_pelicula': 'tt0090334'}, {'nombre': 'Lili Jin', 'id_pelicula': 'tt0094386'}, {'nombre': 'Xiaoning Liu', 'id_pelicula': 'tt0094386'}, {'nombre': 'Jianhua Zheng', 'id_pelicula': 'tt0094386'}, {'nombre': 'Jianmin Zheng', 'id_pelicula': 'tt0094386'}, {'nombre': 'Lei Zhu', 'id_pelicula': 'tt0094386'}, {'nombre': 'Pierre Kirby', 'id_pelicula': 'tt0094384'}, {'nombre': 'Edowan Bersmea', 'id_pelicula': 'tt0094384'}, {'nombre': 'Dewey Bosworth', 'id_pelicula': 'tt0094384'}, {'nombre': 'Thomas Hartham', 'id_pelicula': 'tt0094384'}, {'nombre': 'Patrick Frzebar', 'id_pelicula': 'tt0094384'}, {'nombre': 'Renato Sala', 'id_pelicula': 'tt0094384'}, {'nombre': 'Mason Chang', 'id_pelicula': 'tt0094384'}, {'nombre': 'David Kim', 'id_pelicula': 'tt0094384'}, {'nombre': 'Mark Wang', 'id_pelicula': 'tt0094384'}, {'nombre': 'Edward Albert', 'id_pelicula': 'tt0094607'}, {'nombre': 'Leigh Taylor-Young', 'id_pelicula': 'tt0094607'}, {'nombre': 'Jon Cypher', 'id_pelicula': 'tt0094607'}, {'nombre': 'Ian Yule', 'id_pelicula': 'tt0094607'}, {'nombre': 'Candice Hillebrand', 'id_pelicula': 'tt0094607'}, {'nombre': 'Tony Caprari', 'id_pelicula': 'tt0094607'}, {'nombre': 'Gordon Mulholland', 'id_pelicula': 'tt0094607'}, {'nombre': 'Robin Smith', 'id_pelicula': 'tt0094607'}, {'nombre': 'Patrick Lyster', 'id_pelicula': 'tt0094607'}, {'nombre': 'Nicholas Hill', 'id_pelicula': 'tt0092531'}, {'nombre': 'Cliff Aduddell', 'id_pelicula': 'tt0092531'}, {'nombre': 'John Alexander', 'id_pelicula': 'tt0092531'}, {'nombre': 'Robert Axelrod', 'id_pelicula': 'tt0092531'}, {'nombre': 'Judith Burke', 'id_pelicula': 'tt0092531'}, {'nombre': 'Christina Cardan', 'id_pelicula': 'tt0092531'}, {'nombre': 'Scott Chenoweth', 'id_pelicula': 'tt0092531'}, {'nombre': 'Nur Nur Cummings', 'id_pelicula': 'tt0092531'}, {'nombre': 'Danny Hart', 'id_pelicula': 'tt0092531'}, {'nombre': 'Jeff Stryker', 'id_pelicula': 'tt0094620'}, {'nombre': 'Candice Daly', 'id_pelicula': 'tt0094620'}, {'nombre': 'Massimo Vanni', 'id_pelicula': 'tt0094620'}, {'nombre': 'Jim Gaines', 'id_pelicula': 'tt0094620'}, {'nombre': 'Donald Wilson', 'id_pelicula': 'tt0094620'}, {'nombre': 'Adrianne Joseph', 'id_pelicula': 'tt0094620'}, {'nombre': 'Jim Moss', 'id_pelicula': 'tt0094620'}, {'nombre': 'Nick Nicholson', 'id_pelicula': 'tt0094620'}, {'nombre': 'David Anderson', 'id_pelicula': 'tt0094620'}, {'nombre': 'Draguy Steiner', 'id_pelicula': 'tt0090869'}, {'nombre': 'Giuliano Trujillos', 'id_pelicula': 'tt0090869'}, {'nombre': 'Alex Aparissi', 'id_pelicula': 'tt0090869'}, {'nombre': 'Aldo Sambrell', 'id_pelicula': 'tt0090869'}, {'nombre': 'Alfonso Saura', 'id_pelicula': 'tt0090869'}, {'nombre': 'Edith Stenberger', 'id_pelicula': 'tt0090869'}, {'nombre': 'Cuco Caballero', 'id_pelicula': 'tt0090869'}, {'nombre': 'Glenn Fort', 'id_pelicula': 'tt0090869'}, {'nombre': 'John Marcos', 'id_pelicula': 'tt0090869'}, {'nombre': 'Michael McNamara', 'id_pelicula': 'tt0092926'}, {'nombre': 'Martin McNamara', 'id_pelicula': 'tt0092926'}, {'nombre': 'B. Bob', 'id_pelicula': 'tt0092926'}, {'nombre': 'Gord Prange', 'id_pelicula': 'tt0092926'}, {'nombre': 'Charles W. Ambrose', 'id_pelicula': 'tt0092926'}, {'nombre': 'Ed Tyson', 'id_pelicula': 'tt0092926'}, {'nombre': 'Heidi Romano', 'id_pelicula': 'tt0092926'}, {'nombre': 'Sheryl Foster', 'id_pelicula': 'tt0092926'}, {'nombre': 'Bernard Blair', 'id_pelicula': 'tt0092926'}, {'nombre': 'Cynthia Khan', 'id_pelicula': 'tt0094376'}, {'nombre': 'David Wu', 'id_pelicula': 'tt0094376'}, {'nombre': 'Elvina Kong', 'id_pelicula': 'tt0094376'}, {'nombre': 'Lieh Lo', 'id_pelicula': 'tt0094376'}, {'nombre': 'Kuan-Chung Ku', 'id_pelicula': 'tt0094376'}, {'nombre': 'Billy Chow', 'id_pelicula': 'tt0094376'}, {'nombre': 'Chris Kin-Sang Li', 'id_pelicula': 'tt0094376'}, {'nombre': 'Steve Tartalia', 'id_pelicula': 'tt0094376'}, {'nombre': 'Wai Wong', 'id_pelicula': 'tt0094376'}, {'nombre': 'Daniel Greene', 'id_pelicula': 'tt0094004'}, {'nombre': 'George H. Thausanij', 'id_pelicula': 'tt0094004'}, {'nombre': 'Savina Gersak', 'id_pelicula': 'tt0094004'}, {'nombre': 'Danuta Lato', 'id_pelicula': 'tt0094004'}, {'nombre': 'Branko Djuric', 'id_pelicula': 'tt0094004'}, {'nombre': 'Jean Sokol', 'id_pelicula': 'tt0094004'}, {'nombre': 'Bo Svenson', 'id_pelicula': 'tt0094004'}, {'nombre': 'Xiaojian Xu', 'id_pelicula': 'tt0093989'}, {'nombre': 'Rongquan Jia', 'id_pelicula': 'tt0093989'}, {'nombre': 'Yuming Du', 'id_pelicula': 'tt0093989'}, {'nombre': 'Long Zhou', 'id_pelicula': 'tt0093989'}, {'nombre': 'Jiming Chen', 'id_pelicula': 'tt0093989'}, {'nombre': 'Luowen Cui', 'id_pelicula': 'tt0093989'}, {'nombre': 'Yisong Cui', 'id_pelicula': 'tt0093989'}, {'nombre': 'Zhihua Dong', 'id_pelicula': 'tt0093989'}, {'nombre': 'Tianxiang Hu', 'id_pelicula': 'tt0093989'}, {'nombre': 'William Smith', 'id_pelicula': 'tt0095095'}, {'nombre': \"Alex D'Andrea\", 'id_pelicula': 'tt0095095'}, {'nombre': 'Charles T. Kanganis', 'id_pelicula': 'tt0095095'}, {'nombre': 'Adrian Drake', 'id_pelicula': 'tt0095095'}, {'nombre': 'Anthony Gioia', 'id_pelicula': 'tt0095095'}, {'nombre': 'Leisha Sukary', 'id_pelicula': 'tt0095095'}, {'nombre': 'Robbin Harvey', 'id_pelicula': 'tt0095095'}, {'nombre': 'Robert Gallo', 'id_pelicula': 'tt0095095'}, {'nombre': 'Raymond Martino', 'id_pelicula': 'tt0095095'}, {'nombre': 'Yukari Ôshima', 'id_pelicula': 'tt0095290'}, {'nombre': 'Kara Wai', 'id_pelicula': 'tt0095290'}, {'nombre': 'Tien-Lang Li', 'id_pelicula': 'tt0095290'}, {'nombre': 'Chi Jan Ha', 'id_pelicula': 'tt0095290'}, {'nombre': 'Jo-Jo Ngan', 'id_pelicula': 'tt0095290'}, {'nombre': 'Pui-Kei Chan', 'id_pelicula': 'tt0095290'}, {'nombre': 'Kwok-Kuen Chan', 'id_pelicula': 'tt0095290'}, {'nombre': 'Hsi Chang', 'id_pelicula': 'tt0095290'}, {'nombre': 'Chu-Fung Cheung', 'id_pelicula': 'tt0095290'}, {'nombre': 'Yukari Ôshima', 'id_pelicula': 'tt0096469'}, {'nombre': 'May Mei-Mei Lo', 'id_pelicula': 'tt0096469'}, {'nombre': 'Anglie Leung', 'id_pelicula': 'tt0096469'}, {'nombre': 'Suet-Man Chan', 'id_pelicula': 'tt0096469'}, {'nombre': 'Mark Cheng', 'id_pelicula': 'tt0096469'}, {'nombre': 'Tao Chiang', 'id_pelicula': 'tt0096469'}, {'nombre': 'Jeong-il Choi', 'id_pelicula': 'tt0096469'}, {'nombre': 'Nathan Chukueke', 'id_pelicula': 'tt0096469'}, {'nombre': 'Chi-Yung Chung', 'id_pelicula': 'tt0096469'}, {'nombre': 'Jameson Parker', 'id_pelicula': 'tt0094926'}, {'nombre': 'Cynthia Rhodes', 'id_pelicula': 'tt0094926'}, {'nombre': 'Mike Lane', 'id_pelicula': 'tt0094926'}, {'nombre': 'David Sherwood', 'id_pelicula': 'tt0094926'}, {'nombre': 'Andre Jacobs', 'id_pelicula': 'tt0094926'}, {'nombre': 'Johnny Nobel', 'id_pelicula': 'tt0094926'}, {'nombre': 'Anton Stoltz', 'id_pelicula': 'tt0094926'}, {'nombre': 'Douglas Bristow', 'id_pelicula': 'tt0094926'}, {'nombre': 'Farouk Valley-Omar', 'id_pelicula': 'tt0094926'}, {'nombre': 'Mike Marshall', 'id_pelicula': 'tt0097318'}, {'nombre': 'Benjamin Feitelson', 'id_pelicula': 'tt0097318'}, {'nombre': 'Richard Young', 'id_pelicula': 'tt0097318'}, {'nombre': 'Paul L. Smith', 'id_pelicula': 'tt0097318'}, {'nombre': 'Elvira Neustaedtl', 'id_pelicula': 'tt0097318'}, {'nombre': 'Erwin Strahl', 'id_pelicula': 'tt0097318'}, {'nombre': 'Nabila Khashoggi', 'id_pelicula': 'tt0097318'}, {'nombre': 'Norbert Blecha', 'id_pelicula': 'tt0097318'}, {'nombre': 'Sacha Briquet', 'id_pelicula': 'tt0097318'}, {'nombre': 'Sandra Kwan Yue Ng', 'id_pelicula': 'tt0097864'}, {'nombre': 'Charine Chan', 'id_pelicula': 'tt0097864'}, {'nombre': 'Fung Woo', 'id_pelicula': 'tt0097864'}, {'nombre': 'Gong Ng', 'id_pelicula': 'tt0097864'}, {'nombre': 'Fui-On Shing', 'id_pelicula': 'tt0097864'}, {'nombre': 'Pauline Yuk-Wan Wong', 'id_pelicula': 'tt0097864'}, {'nombre': 'Yi-Sheng Han', 'id_pelicula': 'tt0097864'}, {'nombre': 'King-Tan Yuen', 'id_pelicula': 'tt0097864'}, {'nombre': 'So-Foon Wong', 'id_pelicula': 'tt0097864'}, {'nombre': 'Phillip Ko', 'id_pelicula': 'tt0095335'}, {'nombre': 'Kara Wai', 'id_pelicula': 'tt0095335'}, {'nombre': 'Dick Wei', 'id_pelicula': 'tt0095335'}, {'nombre': 'Suet Ngai', 'id_pelicula': 'tt0095335'}, {'nombre': 'Yuen-Man Cheng', 'id_pelicula': 'tt0095335'}, {'nombre': 'Sing Fat Ng', 'id_pelicula': 'tt0095335'}, {'nombre': 'Feng Ku', 'id_pelicula': 'tt0095335'}, {'nombre': 'Man-Wah Tsui', 'id_pelicula': 'tt0095335'}, {'nombre': 'Hoi-San Kwan', 'id_pelicula': 'tt0095335'}, {'nombre': 'Patrick Dollaghan', 'id_pelicula': 'tt0097064'}, {'nombre': 'Wesley Pfenning', 'id_pelicula': 'tt0097064'}, {'nombre': 'Joey Aresco', 'id_pelicula': 'tt0097064'}, {'nombre': 'Vernon Wells', 'id_pelicula': 'tt0097064'}, {'nombre': 'Joe Mari Avellana', 'id_pelicula': 'tt0097064'}, {'nombre': 'Paul Holmes', 'id_pelicula': 'tt0097064'}, {'nombre': 'Marilyn Bautista', 'id_pelicula': 'tt0097064'}, {'nombre': 'Candy Courtier', 'id_pelicula': 'tt0097064'}, {'nombre': 'Riechelle Asis', 'id_pelicula': 'tt0097064'}, {'nombre': 'Carl Weathers', 'id_pelicula': 'tt0099814'}, {'nombre': 'Jürgen Prochnow', 'id_pelicula': 'tt0099814'}, {'nombre': 'Cassandra Delaney', 'id_pelicula': 'tt0099814'}, {'nombre': 'Tony Bonner', 'id_pelicula': 'tt0099814'}, {'nombre': 'David Argue', 'id_pelicula': 'tt0099814'}, {'nombre': 'John Ewart', 'id_pelicula': 'tt0099814'}, {'nombre': 'Louise McDonald', 'id_pelicula': 'tt0099814'}, {'nombre': 'Suzie MacKenzie', 'id_pelicula': 'tt0099814'}, {'nombre': 'Karen Hall', 'id_pelicula': 'tt0099814'}, {'nombre': 'Carrie Ng', 'id_pelicula': 'tt0099793'}, {'nombre': 'Kara Wai', 'id_pelicula': 'tt0099793'}, {'nombre': 'Dick Wei', 'id_pelicula': 'tt0099793'}, {'nombre': 'Kenneth Tsang', 'id_pelicula': 'tt0099793'}, {'nombre': 'Michiko Nishiwaki', 'id_pelicula': 'tt0099793'}, {'nombre': 'Pan Pan Yeung', 'id_pelicula': 'tt0099793'}, {'nombre': 'Ching-San Lee', 'id_pelicula': 'tt0099793'}, {'nombre': 'Alan Chung San Chui', 'id_pelicula': 'tt0099793'}, {'nombre': 'Yuen-Man Cheng', 'id_pelicula': 'tt0099793'}, {'nombre': 'Waise Lee', 'id_pelicula': 'tt0100195'}, {'nombre': 'Carrie Ng', 'id_pelicula': 'tt0100195'}, {'nombre': 'Timothy Zao', 'id_pelicula': 'tt0100195'}, {'nombre': 'Eddy Ko', 'id_pelicula': 'tt0100195'}, {'nombre': 'Roger Kwok', 'id_pelicula': 'tt0100195'}, {'nombre': 'Lai-Lam Ho', 'id_pelicula': 'tt0100195'}, {'nombre': 'Chu Fung Cheng', 'id_pelicula': 'tt0100195'}, {'nombre': 'Yuk-Shing Wan', 'id_pelicula': 'tt0100195'}, {'nombre': 'Narissara Vudthinammongrol', 'id_pelicula': 'tt0100195'}, {'nombre': 'Cynthia Khan', 'id_pelicula': 'tt0101828'}, {'nombre': 'Dale Cook', 'id_pelicula': 'tt0101828'}, {'nombre': 'Don Nakaya Neilsen', 'id_pelicula': 'tt0101828'}, {'nombre': 'Greg Douglass', 'id_pelicula': 'tt0101828'}, {'nombre': 'Jim Gaines', 'id_pelicula': 'tt0101828'}, {'nombre': 'Nick Nicholson', 'id_pelicula': 'tt0101828'}, {'nombre': 'Mick Monty', 'id_pelicula': 'tt0101828'}, {'nombre': 'Joanne Griffin', 'id_pelicula': 'tt0101828'}, {'nombre': 'Ned Hourani', 'id_pelicula': 'tt0101828'}, {'nombre': 'Rodolfo Ranni', 'id_pelicula': 'tt0101288'}, {'nombre': 'Gerardo Romano', 'id_pelicula': 'tt0101288'}, {'nombre': 'Katja Alemann', 'id_pelicula': 'tt0101288'}, {'nombre': 'Ulises Dumont', 'id_pelicula': 'tt0101288'}, {'nombre': 'Jorge Sassi', 'id_pelicula': 'tt0101288'}, {'nombre': 'Vando Villamil', 'id_pelicula': 'tt0101288'}, {'nombre': 'Marcos Woinsky', 'id_pelicula': 'tt0101288'}, {'nombre': 'Theodore McNabney', 'id_pelicula': 'tt0101288'}, {'nombre': 'Enrique Mazza', 'id_pelicula': 'tt0101288'}, {'nombre': 'Ashok Kumar', 'id_pelicula': 'tt0102073'}, {'nombre': 'Dharmendra', 'id_pelicula': 'tt0102073'}, {'nombre': 'Anil Kapoor', 'id_pelicula': 'tt0102073'}, {'nombre': 'Kimi Katkar', 'id_pelicula': 'tt0102073'}, {'nombre': 'Meenakshi Sheshadri', 'id_pelicula': 'tt0102073'}, {'nombre': 'Anupam Kher', 'id_pelicula': 'tt0102073'}, {'nombre': 'Shafi Inamdar', 'id_pelicula': 'tt0102073'}, {'nombre': 'Om Shivpuri', 'id_pelicula': 'tt0102073'}, {'nombre': 'Ashalata Wabgaonkar', 'id_pelicula': 'tt0102073'}, {'nombre': \"Carol 'Do Do' Cheng\", 'id_pelicula': 'tt0096090'}, {'nombre': 'Simon Yam', 'id_pelicula': 'tt0096090'}, {'nombre': 'Anglie Leung', 'id_pelicula': 'tt0096090'}, {'nombre': 'Twiggie Au', 'id_pelicula': 'tt0096090'}, {'nombre': 'Hsi Chang', 'id_pelicula': 'tt0096090'}, {'nombre': 'Hoi-sing Cheung', 'id_pelicula': 'tt0096090'}, {'nombre': 'Lai-Seung Fung', 'id_pelicula': 'tt0096090'}, {'nombre': 'Man-Kwong Fung', 'id_pelicula': 'tt0096090'}, {'nombre': 'James Jim-Si Ha', 'id_pelicula': 'tt0096090'}, {'nombre': 'Gary Daniels', 'id_pelicula': 'tt0101928'}, {'nombre': 'Kent Ducanon', 'id_pelicula': 'tt0101928'}, {'nombre': 'Linda Bennett', 'id_pelicula': 'tt0101928'}, {'nombre': 'Richard Rabago', 'id_pelicula': 'tt0101928'}, {'nombre': 'Rod Kei', 'id_pelicula': 'tt0101928'}, {'nombre': 'Raul Reformina', 'id_pelicula': 'tt0101928'}, {'nombre': 'Gerald Okamura', 'id_pelicula': 'tt0101928'}, {'nombre': 'Graciella Casillas', 'id_pelicula': 'tt0101928'}, {'nombre': 'Mailee Daniels', 'id_pelicula': 'tt0101928'}, {'nombre': 'Ricky Davao', 'id_pelicula': 'tt0105881'}, {'nombre': 'Yukari Ôshima', 'id_pelicula': 'tt0105881'}, {'nombre': 'Monsour Del Rosario', 'id_pelicula': 'tt0105881'}, {'nombre': 'Eddie Gutierrez', 'id_pelicula': 'tt0105881'}, {'nombre': 'Gabriel Romulo', 'id_pelicula': 'tt0105881'}, {'nombre': 'Charlie Davao', 'id_pelicula': 'tt0105881'}, {'nombre': 'Phillip Ko', 'id_pelicula': 'tt0105881'}, {'nombre': 'Melvin Wong', 'id_pelicula': 'tt0105881'}, {'nombre': 'Bernardo Bernardo', 'id_pelicula': 'tt0105881'}, {'nombre': 'Olivier Gruner', 'id_pelicula': 'tt0109178'}, {'nombre': 'Daphne Ashbrook', 'id_pelicula': 'tt0109178'}, {'nombre': 'John Glover', 'id_pelicula': 'tt0109178'}, {'nombre': 'Jeff Kober', 'id_pelicula': 'tt0109178'}, {'nombre': 'Dennis Lipscomb', 'id_pelicula': 'tt0109178'}, {'nombre': 'Stanley Kamel', 'id_pelicula': 'tt0109178'}, {'nombre': 'Penny Johnson Jerald', 'id_pelicula': 'tt0109178'}, {'nombre': 'Annabelle Gurwitch', 'id_pelicula': 'tt0109178'}, {'nombre': 'Troy Evans', 'id_pelicula': 'tt0109178'}, {'nombre': 'Dan Haggerty', 'id_pelicula': 'tt0109033'}, {'nombre': 'Jan-Michael Vincent', 'id_pelicula': 'tt0109033'}, {'nombre': 'Raquel Bianca', 'id_pelicula': 'tt0109033'}, {'nombre': 'Debbie Rochon', 'id_pelicula': 'tt0109033'}, {'nombre': 'Donna Jason', 'id_pelicula': 'tt0109033'}, {'nombre': 'Nicholas Buchart', 'id_pelicula': 'tt0109033'}, {'nombre': 'James Leard', 'id_pelicula': 'tt0109033'}, {'nombre': 'Jody Andrews', 'id_pelicula': 'tt0109033'}, {'nombre': 'Kenneth Kantymir', 'id_pelicula': 'tt0109033'}, {'nombre': 'Robert Davi', 'id_pelicula': 'tt0109536'}, {'nombre': 'Michael Paré', 'id_pelicula': 'tt0109536'}, {'nombre': 'John Savage', 'id_pelicula': 'tt0109536'}, {'nombre': 'Joel Grey', 'id_pelicula': 'tt0109536'}, {'nombre': 'Elliott Gould', 'id_pelicula': 'tt0109536'}, {'nombre': 'Cary-Hiroyuki Tagawa', 'id_pelicula': 'tt0109536'}, {'nombre': 'Paula Barbieri', 'id_pelicula': 'tt0109536'}, {'nombre': 'Juan Fernández', 'id_pelicula': 'tt0109536'}, {'nombre': 'Saemi Nakamura', 'id_pelicula': 'tt0109536'}]\n"
     ]
    }
   ],
   "source": [
    "# lista con todos los actores de cada pelicula, pero si un actor ha salido en varias peliculas puede salir duplicado\n",
    "print(list_actors_by_movie)"
   ]
  },
  {
   "cell_type": "code",
   "execution_count": 38,
   "metadata": {},
   "outputs": [
    {
     "name": "stdout",
     "output_type": "stream",
     "text": [
      "['Aldo Ray', 'William Marshall', 'Terry Michos', 'Russell Johnson', 'Paul Tanashian', 'Terri Taylor', 'Richard C. Adams', 'Maria Caso', 'Kim Johnson', 'Bruce Lee', 'Tae-jeong Kim', 'Jeong-lee Hwang', 'Roy Horan', 'Roy Chiao', 'Hoi-Sang Lee', 'Tiger Yang', 'Li-Jen Hou', 'Miranda Austin', 'Meng Lo', 'Sheng Chiang', 'Li Wang', 'Feng Lu', 'Kei-San Chan', 'Shu Gei Chan', 'Chi-Shan Chen', 'Han-Kuang Chen', 'Chok-Chow Cheung', 'Bruce Le', 'Richard Harrison', 'Nadiuska', 'Brad Harris', 'May Hong', 'Tito García', 'Tao Chiang', 'Sharon Shira', 'Zoé Chauveau', 'Serge Reggiani', 'Mario Adorf', 'Andréa Ferréol', 'Raimund Harmstorf', 'Dominique Laffin', 'Patrick Chesnais', 'Philippe Léotard', 'Anne Wiazemsky', 'Andrés García', 'Alicia Encinas', 'René Cardona III', 'Pablo Ferrel', 'Gloria Chávez', 'Ángel Dupeyrón', 'Fernando Palavicini', 'Gerardo Castell', 'Martha de Castro', 'Feng Hsu', 'Yun Ling', 'Tao-Liang Tan', 'Michael Wai-Man Chan', 'Chung Wang', 'Lily Li', 'Danny Lee', 'Mien Fang', 'Hsin-Chun Huang', 'Richard Boone', 'Toshirô Mifune', 'Mike Starr', 'Timothy Patrick Murphy', 'Frank Converse', 'William Ross', 'Bin Amatsu', \"Shin'ichi Chiba\", 'Iwae Arai', 'Valentín Trujillo', 'Blanca Guerra', 'Patricia Rivera', 'Narciso Busquets', 'Eric del Castillo', 'Ana Luisa Peluffo', 'Sergio Goyri', 'Rojo Grau', 'Sergio Barrios', 'Sheng Fu', 'Niu Niu', 'Lung Ti', 'Tien-Chi Cheng', 'Li Ching', 'Kin-Ping Chow', 'Ke Chu', 'Jin Guo', 'Ping An', 'Lung Chan', 'Hung-Lieh Chen', 'Kai-Chun Chen', 'Sing Chen', 'Ching-Hsia Chiang', 'Wei Chung', 'Han Hsieh', 'Chang-Sheng Ko', 'Joey Travolta', 'Vittorio Mezzogiorno', 'Ana Obregón', 'Ricardo Palacios', 'John Steiner', 'Sal Borgese', 'Carlos Romano', 'Douglas Sandoval', 'Claudia Bono', 'Peter Cushing', 'Claudine Auger', 'Hugo Stiglitz', 'Max H. Boulois', 'Brian Murphy', 'Tony Fuentes', 'Dan Forrest', 'Hugo Blanco', 'Fernando Sancho', 'Savita Bajaj', 'Arun Bakshi', 'Suresh Bhagwat', 'Suhas Bhalekar', 'Ranjit Chowdhry', 'Dilip Dhawan', 'Kaluram Dhobale', 'Salim Ghouse', 'Rohini Hattangadi', 'Olivia Pascal', 'Alan Longmuir', 'Sascha Hehn', \"Stuart 'Woody' Wood\", 'Derek Longmuir', 'Duncan Faure', 'Len Sparrowhawk', 'Peter J. Elliott', 'Yolanda Kloppers', 'Tien-Hsiang Lung', 'Phillip Chung-Fung Kwok', 'Gigi Suk Yee Wong', 'Hsueh-Erh Wen', 'Siu-Ho Chin', 'Richard Harris', 'Christopher Plummer', \"Beverly D'Angelo\", 'Kate Reid', 'Peter Donat', 'Robin Gammell', 'Saul Rubinek', 'Maury Chaykin', 'George Buza', 'David Brandon', 'Laura Gemser', 'Luciano Bartoli', 'Charles Borromel', 'Fabiola Toledo', \"Sasha D'Arc\", 'Alessandro Freyberger', 'Larry Dolgin', 'Gabriele Tinti', 'Steve Railsback', 'Olivia Hussey', 'Michael Craig', 'Carmen Duncan', 'Noel Ferrier', 'Lynda Stoner', 'Roger Ward', 'Michael Petrovitch', 'Gus Mercurio', 'Bruce Li', 'Lung Szema', 'John Ladalski', 'Ping-Ou Wei', 'Kang Peng', 'Ting Chao', 'Yun-Wen Chang', 'Yang Chiang', 'Dan Inosanto', 'Charles Bronson', 'Jill Ireland', 'Vincent Gardenia', 'J.D. Cannon', 'Anthony Franciosa', 'Ben Frank', 'Robin Sherwood', 'Silvana Gallardo', 'Robert F. Lyons', 'Lawrence Day', 'Luis Manuel', 'Thomas M. Pollard', 'Christopher Muncke', 'Daniel Foley', 'George Gabriel', 'Steve Ballantine', 'Earl Rhodes', 'Edward Wylie', 'Norman Chu', 'Tony Liu', 'Jung Wang', 'Leanne Lau', 'Alex Man', 'Ching-Ching Yeung', 'Szu-Chia Chen', 'Kuan-Chung Ku', 'Vic Vargas', 'Anthony Alonzo', 'Robert Miller', 'Dick Israel', 'Jim Gaines', 'Don Gordon Bell', 'Tetchie Agbayani', 'Bembol Roco', 'Chia-Hui Liu', 'Adam Cheng', 'Idy Chan', 'Hwang-ki Baek', 'Shen Chan', 'Yung Chan', 'Chiang Chen', 'Hung Chen', 'Leslie Cheung', 'Jing-Jing Yung', 'Kuan Tai Chen', 'Ni Tien', 'Erik Ka-Kei Chan', 'Lau Chan', 'Tien-Chu Chin', 'Kam Cheung', 'Ju-Hua Pei', 'Lieh Lo', 'Shao-Hung Chan', 'Wah Cheung', 'Gérard Lanvin', 'Michel Piccoli', 'Marie-France Pisier', 'Bruno Cremer', 'Jean Rougerie', 'Jean-Claude Dreyfus', 'Jean-Pierre Bagot', 'Henri-Jacques Huet', 'Pilar Alcón', 'Werner Pochath', 'Luis Rosillo', 'Emilio Alonso', 'Manuel Díaz Velasco', 'Ramón Lillo', 'Rocío Freixas', 'Ángel Menéndez', 'Jimmy Wang Yu', 'Ka-Yan Leung', 'Hai-Ling Chu', 'Andy Lau', 'Karin Mani', 'Robert Torti', 'Britt Helfer', 'Michael Wayne', 'Jon Greene', 'Jay Fisher', 'Claudia Decea', 'Tim Cutt', 'Jay Walker', 'Lee Marvin', 'Miou-Miou', 'Jean Carmet', 'Victor Lanoux', 'David Bennent', 'Bernadette Lafont', 'Grace de Capitani', 'Tina Louise', 'Muni', 'Terence Hill', 'Colin Blakely', 'Mimsy Farmer', 'Cyril Cusack', 'Lew Ayres', 'Andy Luotto', 'Sam Whipple', 'Ross Hill', 'Joseph Ragno', 'Marlène Jobert', 'Gérard Klein', 'Wadeck Stanczak', 'Pinkas Braun', 'Agnès Garreau', 'Jerzy Mierzejewski', 'Hanns Zischler', 'Alma Muriel', 'Humberto Zurita', 'José Carlos Ruiz', 'Juan Ángel Martínez', 'Ignacio Retes', 'Charly Valentino', 'Jorge Fegán', 'Ovidiu Iuliu Moldovan', 'Victor Rebengiuc', 'Claudiu Bleont', 'Petre Nicolae', 'Sebastian Comanici', 'Alfred Demetriu', 'Vasile Nitulescu', 'Patricia Grigoriu', 'Ana-Maria Calinescu', 'William Mang', 'Marina Costa', 'Harrison Muller', 'Woody Strode', 'Margie Newton', 'Stefano Davanzati', 'Renato Miracco', 'Maria Romano', 'Luca Giordana', 'Chau-Wah Yim', 'Yuan-Shen Huang', 'Yat Fan Lau', 'Yeong-moon Kwon', 'Dan Lau', 'Tyrus Bromley', 'Wei Chuang', 'Bernie Pock', 'Myra', 'Cynthia Rothrock', 'Stack Pierce', 'Leo Fong', 'Steve Quimby', 'Stephen Moore', 'Kenneth Walshman', 'Mike Hamilton', 'Nancy Kwan', 'Robert Forster', 'Joe Spinell', 'A Martinez', 'James McIntire', 'Wayne Woodson', 'Doug Toby', 'Phil H. Fravel', 'Luis Contreras', 'Robert Resnick', 'Debra Blee', 'Raul Aragon', 'Victor M. Ordonez', 'Carissa Carlos', 'Joonee Gamboa', 'Ann Milhench', 'Charles Black', 'George E. Mahlberg', 'Lenore Zann', 'Kate Lynch', 'Kevin King', 'John Walsch', 'Tim Choate', 'Jeff Pustil', 'Donna King', 'Alan MacGillivray', 'Na Yen Na', 'Lak Apichat', 'Anne Aswatep', 'Bruce Baron', 'Richard Bern', 'David Chang', 'Sorapong Chatree', 'Richard Chit', 'Rick Jenkins', 'Pierre Tremblay', 'Phillip Ching', 'Jack Lam', 'Nancy Chang', 'James Chan', 'Ryong Keo', 'John Wong', 'Xiaojian Xu', 'Yuming Du', 'Zhihua Dong', 'Dongyu Fan', 'Yongzhuan Gu', 'Lijun Liu', 'Huanyou Luo', 'Lixin Mu', 'Jiping Shi', 'Carey Zuris', 'Teresa Farley', 'Natalie Savage', 'Rick Gianasi', 'Marita', 'Jennifer Delora', 'Donna Eskra', 'Dan Barclay', 'Rebecca Rothbaum', 'Chow Yun-Fat', 'Emily Chu', 'Kit Ying Lam', 'Dick Wei', 'Aleksey Gorbunov', 'Tõnu Kark', 'Yuriy Grigorev', 'Arnis Licitis', 'Gediminas Girdvainis', 'Givi Tokhadze', 'Lina Shevchenko', 'Vladimir Msryan', 'Aleksandr Nikitchin', 'Suzanne Solari', 'Jeff Hutchinson', 'Shaun Michelle', 'Katina Garner', 'Sam Mann', 'Robby Taylor', 'Christopher Ray', 'Erin Michael', 'Michael Cofield', 'Mark Gregory', 'Karen Reel', 'Bo Svenson', 'William Rice', 'Vic Roych', 'Clayton Tevis', 'Bill Rossly', 'Mike Bower', 'Jamal Aladdin', 'John Ales', 'Charles Anderson', 'George Pan Andreas', 'Hadi Badrakham', 'Jack Bliesener', 'Ben Bridwell', 'Verlaine Val Brown', 'George Davis', 'Samuel Hui', 'Teddy Robin Kwan', 'Joey Wang', 'Alan Ko', 'Chun-kun Chan', 'Shun Chien', 'Eva Cobo', 'Jeff Moldovan', 'Donna Rosea', 'Joe Hess', 'Robert Goodman', 'Richard St. George', 'Jorge Gil', 'Pete Lundblad Jr.', 'Earleen Carey', 'R.J. Reynolds', 'Richard Norton', 'Corinne Wahl', 'William Steis', 'Robert Patrick', 'Frederick Bailey', 'Rex Cutter', 'Warren McLean', 'Peter Shilton', 'Paul Coufos', 'Damian Lee', 'Marsha Levine', 'Tony Rosato', 'Timothy Burd', 'Sonja Belliveau', 'Benjamin Barrett', 'Lawrence King-Phillips', 'Brian Cooper', 'Sammo Kam-Bo Hung', 'Biao Yuen', 'Haing S. Ngor', 'Ching-Ying Lam', 'Billy Lau', 'Kwok-Keung Cheung', 'Joyce Godenzi', 'Man Yan Chiu', 'Chi Jan Ha', 'Jason Williams', 'Suzanne Tara', 'Tom Friedman', 'Jami Ferreira', 'Teresa Truesdale', 'Cynthia Gray', 'Michael Carrier', 'Dana Dowell', 'Changjiang Bi', 'Er Gang Chen', 'Yu Guo', 'Pengshou Hao', 'Fa-Yuan Li', 'Wings Hauser', 'Brion James', 'Pamela Ludwig', 'Leland Crooke', 'Sy Richardson', \"Joe D'Angerio\", 'Tasia Valenza', 'John Walter Davis', 'Penelope Sudrow', 'Jorge Rivero', 'George Kennedy', 'Andrew Stevens', 'Isaac Hayes', 'Louis Jourdan', 'Kevin Bernhardt', 'Simón Andreu', 'Kabir Bedi', 'Julius LeFlore', 'RCB', 'Roddy Piper', 'William Smith', 'Sandahl Bergman', 'Eyde Byrde', 'Lee Garlington', 'Cec Verrell', 'William Bell Sullivan', 'Ava Lazar', 'Ayu Azhari', 'David Thornton', 'Peter Fox', 'Peter Bodzek', 'Rima Melati', 'Frans Tumbuan', 'Ernest Borgnine', 'Robert Vaughn', 'Oliver Reed', 'Herbert Lom', 'Simon Sabela', 'Daniel Greene', 'Leon Isaac Kennedy', 'Nancy Mulford', 'Peter Kwong', 'Sylvia Kristel', 'Gary Graham', 'Leigh Wood', 'Joe Condon', 'Brian Storm', 'Michael Justin', 'Jack Zavorak', 'Dale Segal', 'Tony Trudnick', 'Joe Derrig', 'Richard Mooney', 'Jennifer Kanter', 'Mizan Kirby', 'Matt Mitler', 'Anibal O. Lleras', 'Betty Vaughn', 'Kate Goldsborough', 'Mel Welles', 'Bobby Jacoby', 'David Carradine', 'Susan Lee Hoffman', 'Blake Bahner', 'Lana Clarkson', 'Henry Brandon', 'Wayne Grace', 'Edward Blackoff', 'Lili Jin', 'Xiaoning Liu', 'Jianhua Zheng', 'Jianmin Zheng', 'Lei Zhu', 'Pierre Kirby', 'Edowan Bersmea', 'Dewey Bosworth', 'Thomas Hartham', 'Patrick Frzebar', 'Renato Sala', 'Mason Chang', 'David Kim', 'Mark Wang', 'Edward Albert', 'Leigh Taylor-Young', 'Jon Cypher', 'Ian Yule', 'Candice Hillebrand', 'Tony Caprari', 'Gordon Mulholland', 'Robin Smith', 'Patrick Lyster', 'Nicholas Hill', 'Cliff Aduddell', 'John Alexander', 'Robert Axelrod', 'Judith Burke', 'Christina Cardan', 'Scott Chenoweth', 'Nur Nur Cummings', 'Danny Hart', 'Jeff Stryker', 'Candice Daly', 'Massimo Vanni', 'Donald Wilson', 'Adrianne Joseph', 'Jim Moss', 'Nick Nicholson', 'David Anderson', 'Draguy Steiner', 'Giuliano Trujillos', 'Alex Aparissi', 'Aldo Sambrell', 'Alfonso Saura', 'Edith Stenberger', 'Cuco Caballero', 'Glenn Fort', 'John Marcos', 'Michael McNamara', 'Martin McNamara', 'B. Bob', 'Gord Prange', 'Charles W. Ambrose', 'Ed Tyson', 'Heidi Romano', 'Sheryl Foster', 'Bernard Blair', 'Cynthia Khan', 'David Wu', 'Elvina Kong', 'Billy Chow', 'Chris Kin-Sang Li', 'Steve Tartalia', 'Wai Wong', 'George H. Thausanij', 'Savina Gersak', 'Danuta Lato', 'Branko Djuric', 'Jean Sokol', 'Rongquan Jia', 'Long Zhou', 'Jiming Chen', 'Luowen Cui', 'Yisong Cui', 'Tianxiang Hu', \"Alex D'Andrea\", 'Charles T. Kanganis', 'Adrian Drake', 'Anthony Gioia', 'Leisha Sukary', 'Robbin Harvey', 'Robert Gallo', 'Raymond Martino', 'Yukari Ôshima', 'Kara Wai', 'Tien-Lang Li', 'Jo-Jo Ngan', 'Pui-Kei Chan', 'Kwok-Kuen Chan', 'Hsi Chang', 'Chu-Fung Cheung', 'May Mei-Mei Lo', 'Anglie Leung', 'Suet-Man Chan', 'Mark Cheng', 'Jeong-il Choi', 'Nathan Chukueke', 'Chi-Yung Chung', 'Jameson Parker', 'Cynthia Rhodes', 'Mike Lane', 'David Sherwood', 'Andre Jacobs', 'Johnny Nobel', 'Anton Stoltz', 'Douglas Bristow', 'Farouk Valley-Omar', 'Mike Marshall', 'Benjamin Feitelson', 'Richard Young', 'Paul L. Smith', 'Elvira Neustaedtl', 'Erwin Strahl', 'Nabila Khashoggi', 'Norbert Blecha', 'Sacha Briquet', 'Sandra Kwan Yue Ng', 'Charine Chan', 'Fung Woo', 'Gong Ng', 'Fui-On Shing', 'Pauline Yuk-Wan Wong', 'Yi-Sheng Han', 'King-Tan Yuen', 'So-Foon Wong', 'Phillip Ko', 'Suet Ngai', 'Yuen-Man Cheng', 'Sing Fat Ng', 'Feng Ku', 'Man-Wah Tsui', 'Hoi-San Kwan', 'Patrick Dollaghan', 'Wesley Pfenning', 'Joey Aresco', 'Vernon Wells', 'Joe Mari Avellana', 'Paul Holmes', 'Marilyn Bautista', 'Candy Courtier', 'Riechelle Asis', 'Carl Weathers', 'Jürgen Prochnow', 'Cassandra Delaney', 'Tony Bonner', 'David Argue', 'John Ewart', 'Louise McDonald', 'Suzie MacKenzie', 'Karen Hall', 'Carrie Ng', 'Kenneth Tsang', 'Michiko Nishiwaki', 'Pan Pan Yeung', 'Ching-San Lee', 'Alan Chung San Chui', 'Waise Lee', 'Timothy Zao', 'Eddy Ko', 'Roger Kwok', 'Lai-Lam Ho', 'Chu Fung Cheng', 'Yuk-Shing Wan', 'Narissara Vudthinammongrol', 'Dale Cook', 'Don Nakaya Neilsen', 'Greg Douglass', 'Mick Monty', 'Joanne Griffin', 'Ned Hourani', 'Rodolfo Ranni', 'Gerardo Romano', 'Katja Alemann', 'Ulises Dumont', 'Jorge Sassi', 'Vando Villamil', 'Marcos Woinsky', 'Theodore McNabney', 'Enrique Mazza', 'Ashok Kumar', 'Dharmendra', 'Anil Kapoor', 'Kimi Katkar', 'Meenakshi Sheshadri', 'Anupam Kher', 'Shafi Inamdar', 'Om Shivpuri', 'Ashalata Wabgaonkar', \"Carol 'Do Do' Cheng\", 'Simon Yam', 'Twiggie Au', 'Hoi-sing Cheung', 'Lai-Seung Fung', 'Man-Kwong Fung', 'James Jim-Si Ha', 'Gary Daniels', 'Kent Ducanon', 'Linda Bennett', 'Richard Rabago', 'Rod Kei', 'Raul Reformina', 'Gerald Okamura', 'Graciella Casillas', 'Mailee Daniels', 'Ricky Davao', 'Monsour Del Rosario', 'Eddie Gutierrez', 'Gabriel Romulo', 'Charlie Davao', 'Melvin Wong', 'Bernardo Bernardo', 'Olivier Gruner', 'Daphne Ashbrook', 'John Glover', 'Jeff Kober', 'Dennis Lipscomb', 'Stanley Kamel', 'Penny Johnson Jerald', 'Annabelle Gurwitch', 'Troy Evans', 'Dan Haggerty', 'Jan-Michael Vincent', 'Raquel Bianca', 'Debbie Rochon', 'Donna Jason', 'Nicholas Buchart', 'James Leard', 'Jody Andrews', 'Kenneth Kantymir', 'Robert Davi', 'Michael Paré', 'John Savage', 'Joel Grey', 'Elliott Gould', 'Cary-Hiroyuki Tagawa', 'Paula Barbieri', 'Juan Fernández', 'Saemi Nakamura']\n"
     ]
    }
   ],
   "source": [
    "# lista actores sin duplicados\n",
    "print(list_all_actors)"
   ]
  },
  {
   "cell_type": "code",
   "execution_count": 39,
   "metadata": {},
   "outputs": [
    {
     "name": "stdout",
     "output_type": "stream",
     "text": [
      "784\n"
     ]
    }
   ],
   "source": [
    "print(len(list_all_actors))"
   ]
  },
  {
   "cell_type": "code",
   "execution_count": 42,
   "metadata": {},
   "outputs": [
    {
     "name": "stderr",
     "output_type": "stream",
     "text": [
      "  0%|          | 0/784 [00:00<?, ?it/s]"
     ]
    },
    {
     "name": "stdout",
     "output_type": "stream",
     "text": [
      "Entramos en los premios\n"
     ]
    },
    {
     "name": "stderr",
     "output_type": "stream",
     "text": [
      "  0%|          | 1/784 [00:16<3:29:03, 16.02s/it]"
     ]
    },
    {
     "name": "stdout",
     "output_type": "stream",
     "text": [
      "Este actor no tiene premios\n"
     ]
    },
    {
     "name": "stderr",
     "output_type": "stream",
     "text": [
      "  0%|          | 2/784 [00:24<2:29:55, 11.50s/it]"
     ]
    },
    {
     "name": "stdout",
     "output_type": "stream",
     "text": [
      "el actor Terry Michos no tiene más peliculas\n",
      "Este actor no tiene premios\n"
     ]
    },
    {
     "name": "stderr",
     "output_type": "stream",
     "text": [
      "  0%|          | 3/784 [00:31<2:06:00,  9.68s/it]"
     ]
    },
    {
     "name": "stdout",
     "output_type": "stream",
     "text": [
      "Entramos en los premios\n"
     ]
    },
    {
     "name": "stderr",
     "output_type": "stream",
     "text": [
      "  1%|          | 4/784 [00:44<2:18:26, 10.65s/it]"
     ]
    },
    {
     "name": "stdout",
     "output_type": "stream",
     "text": [
      "El actor Paul Tanashian no es conocido por nada más  \n",
      "el actor Paul Tanashian no tiene más peliculas\n",
      "Este actor no tiene premios\n"
     ]
    },
    {
     "name": "stderr",
     "output_type": "stream",
     "text": [
      "  1%|          | 5/784 [00:51<2:05:35,  9.67s/it]"
     ]
    },
    {
     "name": "stdout",
     "output_type": "stream",
     "text": [
      "el actor Terri Taylor no tiene más peliculas\n",
      "Entramos en los premios\n"
     ]
    },
    {
     "name": "stderr",
     "output_type": "stream",
     "text": [
      "  1%|          | 6/784 [01:04<2:19:42, 10.77s/it]"
     ]
    },
    {
     "name": "stdout",
     "output_type": "stream",
     "text": [
      "Este actor no tiene premios\n"
     ]
    },
    {
     "name": "stderr",
     "output_type": "stream",
     "text": [
      "  1%|          | 7/784 [01:13<2:12:00, 10.19s/it]"
     ]
    },
    {
     "name": "stdout",
     "output_type": "stream",
     "text": [
      "el actor Maria Caso no tiene más peliculas\n",
      "Entramos en los premios\n"
     ]
    },
    {
     "name": "stderr",
     "output_type": "stream",
     "text": [
      "  1%|          | 8/784 [01:27<2:25:51, 11.28s/it]"
     ]
    },
    {
     "name": "stdout",
     "output_type": "stream",
     "text": [
      "el actor Kim Johnson no tiene más peliculas\n",
      "Este actor no tiene premios\n"
     ]
    },
    {
     "name": "stderr",
     "output_type": "stream",
     "text": [
      "  1%|          | 9/784 [01:36<2:15:20, 10.48s/it]"
     ]
    },
    {
     "name": "stdout",
     "output_type": "stream",
     "text": [
      "Entramos en los premios\n"
     ]
    },
    {
     "name": "stderr",
     "output_type": "stream",
     "text": [
      "  1%|▏         | 10/784 [01:49<2:24:36, 11.21s/it]"
     ]
    },
    {
     "name": "stdout",
     "output_type": "stream",
     "text": [
      "Este actor no tiene premios\n"
     ]
    },
    {
     "name": "stderr",
     "output_type": "stream",
     "text": [
      "  1%|▏         | 11/784 [01:58<2:18:23, 10.74s/it]"
     ]
    },
    {
     "name": "stdout",
     "output_type": "stream",
     "text": [
      "Este actor no tiene premios\n"
     ]
    },
    {
     "name": "stderr",
     "output_type": "stream",
     "text": [
      "  2%|▏         | 12/784 [02:08<2:14:58, 10.49s/it]"
     ]
    },
    {
     "name": "stdout",
     "output_type": "stream",
     "text": [
      "el actor Roy Horan no tiene más peliculas\n",
      "Este actor no tiene premios\n"
     ]
    },
    {
     "name": "stderr",
     "output_type": "stream",
     "text": [
      "  2%|▏         | 13/784 [02:17<2:09:08, 10.05s/it]"
     ]
    },
    {
     "name": "stdout",
     "output_type": "stream",
     "text": [
      "Entramos en los premios\n"
     ]
    },
    {
     "name": "stderr",
     "output_type": "stream",
     "text": [
      "  2%|▏         | 14/784 [02:30<2:20:50, 10.97s/it]"
     ]
    },
    {
     "name": "stdout",
     "output_type": "stream",
     "text": [
      "Este actor no tiene premios\n"
     ]
    },
    {
     "name": "stderr",
     "output_type": "stream",
     "text": [
      "  2%|▏         | 15/784 [02:39<2:13:17, 10.40s/it]"
     ]
    },
    {
     "name": "stdout",
     "output_type": "stream",
     "text": [
      "Este actor no tiene premios\n"
     ]
    },
    {
     "name": "stderr",
     "output_type": "stream",
     "text": [
      "  2%|▏         | 16/784 [02:49<2:10:20, 10.18s/it]"
     ]
    },
    {
     "name": "stdout",
     "output_type": "stream",
     "text": [
      "El actor Li-Jen Hou no es conocido por nada más  \n",
      "el actor Li-Jen Hou no tiene más peliculas\n",
      "Este actor no tiene premios\n"
     ]
    },
    {
     "name": "stderr",
     "output_type": "stream",
     "text": [
      "  2%|▏         | 17/784 [02:57<2:02:27,  9.58s/it]"
     ]
    },
    {
     "name": "stdout",
     "output_type": "stream",
     "text": [
      "El actor Miranda Austin no es conocido por nada más  \n",
      "el actor Miranda Austin no tiene más peliculas\n",
      "Este actor no tiene premios\n"
     ]
    },
    {
     "name": "stderr",
     "output_type": "stream",
     "text": [
      "  2%|▏         | 18/784 [03:05<1:57:04,  9.17s/it]"
     ]
    },
    {
     "name": "stdout",
     "output_type": "stream",
     "text": [
      "Este actor no tiene premios\n"
     ]
    },
    {
     "name": "stderr",
     "output_type": "stream",
     "text": [
      "  2%|▏         | 19/784 [03:15<1:57:59,  9.25s/it]"
     ]
    },
    {
     "name": "stdout",
     "output_type": "stream",
     "text": [
      "Este actor no tiene premios\n"
     ]
    },
    {
     "name": "stderr",
     "output_type": "stream",
     "text": [
      "  3%|▎         | 20/784 [03:24<1:58:34,  9.31s/it]"
     ]
    },
    {
     "name": "stdout",
     "output_type": "stream",
     "text": [
      "el actor Li Wang no tiene más peliculas\n",
      "Este actor no tiene premios\n"
     ]
    },
    {
     "name": "stderr",
     "output_type": "stream",
     "text": [
      "  3%|▎         | 21/784 [03:33<1:56:18,  9.15s/it]"
     ]
    },
    {
     "name": "stdout",
     "output_type": "stream",
     "text": [
      "Este actor no tiene premios\n"
     ]
    },
    {
     "name": "stderr",
     "output_type": "stream",
     "text": [
      "  3%|▎         | 22/784 [03:42<1:56:03,  9.14s/it]"
     ]
    },
    {
     "name": "stdout",
     "output_type": "stream",
     "text": [
      "El actor Kei-San Chan no es conocido por nada más  \n",
      "el actor Kei-San Chan no tiene más peliculas\n",
      "Este actor no tiene premios\n"
     ]
    },
    {
     "name": "stderr",
     "output_type": "stream",
     "text": [
      "  3%|▎         | 23/784 [03:51<1:55:57,  9.14s/it]"
     ]
    },
    {
     "name": "stdout",
     "output_type": "stream",
     "text": [
      "Este actor no tiene premios\n"
     ]
    },
    {
     "name": "stderr",
     "output_type": "stream",
     "text": [
      "  3%|▎         | 24/784 [04:01<1:57:40,  9.29s/it]"
     ]
    },
    {
     "name": "stdout",
     "output_type": "stream",
     "text": [
      "El actor Chi-Shan Chen no es conocido por nada más  \n",
      "el actor Chi-Shan Chen no tiene más peliculas\n",
      "Este actor no tiene premios\n"
     ]
    },
    {
     "name": "stderr",
     "output_type": "stream",
     "text": [
      "  3%|▎         | 25/784 [04:10<1:55:29,  9.13s/it]"
     ]
    },
    {
     "name": "stdout",
     "output_type": "stream",
     "text": [
      "el actor Han-Kuang Chen no tiene más peliculas\n",
      "Este actor no tiene premios\n"
     ]
    },
    {
     "name": "stderr",
     "output_type": "stream",
     "text": [
      "  3%|▎         | 26/784 [04:18<1:53:15,  8.97s/it]"
     ]
    },
    {
     "name": "stdout",
     "output_type": "stream",
     "text": [
      "Este actor no tiene premios\n"
     ]
    },
    {
     "name": "stderr",
     "output_type": "stream",
     "text": [
      "  3%|▎         | 27/784 [04:27<1:53:18,  8.98s/it]"
     ]
    },
    {
     "name": "stdout",
     "output_type": "stream",
     "text": [
      "Entramos en los premios\n"
     ]
    },
    {
     "name": "stderr",
     "output_type": "stream",
     "text": [
      "  4%|▎         | 28/784 [04:39<2:03:40,  9.82s/it]"
     ]
    },
    {
     "name": "stdout",
     "output_type": "stream",
     "text": [
      "Este actor no tiene premios\n"
     ]
    },
    {
     "name": "stderr",
     "output_type": "stream",
     "text": [
      "  4%|▎         | 29/784 [04:50<2:07:27, 10.13s/it]"
     ]
    },
    {
     "name": "stdout",
     "output_type": "stream",
     "text": [
      "el actor Nadiuska no tiene más peliculas\n",
      "Este actor no tiene premios\n"
     ]
    },
    {
     "name": "stderr",
     "output_type": "stream",
     "text": [
      "  4%|▍         | 30/784 [04:58<2:00:14,  9.57s/it]"
     ]
    },
    {
     "name": "stdout",
     "output_type": "stream",
     "text": [
      "Este actor no tiene premios\n"
     ]
    },
    {
     "name": "stderr",
     "output_type": "stream",
     "text": [
      "  4%|▍         | 31/784 [05:08<1:59:41,  9.54s/it]"
     ]
    },
    {
     "name": "stdout",
     "output_type": "stream",
     "text": [
      "el actor May Hong no tiene más peliculas\n",
      "Este actor no tiene premios\n"
     ]
    },
    {
     "name": "stderr",
     "output_type": "stream",
     "text": [
      "  4%|▍         | 32/784 [05:16<1:56:39,  9.31s/it]"
     ]
    },
    {
     "name": "stdout",
     "output_type": "stream",
     "text": [
      "Este actor no tiene premios\n"
     ]
    },
    {
     "name": "stderr",
     "output_type": "stream",
     "text": [
      "  4%|▍         | 33/784 [05:25<1:55:09,  9.20s/it]"
     ]
    },
    {
     "name": "stdout",
     "output_type": "stream",
     "text": [
      "Este actor no tiene premios\n"
     ]
    },
    {
     "name": "stderr",
     "output_type": "stream",
     "text": [
      "  4%|▍         | 34/784 [05:34<1:54:17,  9.14s/it]"
     ]
    },
    {
     "name": "stdout",
     "output_type": "stream",
     "text": [
      "El actor Sharon Shira no es conocido por nada más  \n",
      "el actor Sharon Shira no tiene más peliculas\n",
      "Este actor no tiene premios\n"
     ]
    },
    {
     "name": "stderr",
     "output_type": "stream",
     "text": [
      "  4%|▍         | 35/784 [05:43<1:51:27,  8.93s/it]"
     ]
    },
    {
     "name": "stdout",
     "output_type": "stream",
     "text": [
      "el actor Zoé Chauveau no tiene más peliculas\n",
      "Este actor no tiene premios\n"
     ]
    },
    {
     "name": "stderr",
     "output_type": "stream",
     "text": [
      "  5%|▍         | 36/784 [05:52<1:50:35,  8.87s/it]"
     ]
    },
    {
     "name": "stdout",
     "output_type": "stream",
     "text": [
      "Este actor no tiene premios\n"
     ]
    },
    {
     "name": "stderr",
     "output_type": "stream",
     "text": [
      "  5%|▍         | 37/784 [06:02<1:55:22,  9.27s/it]"
     ]
    },
    {
     "name": "stdout",
     "output_type": "stream",
     "text": [
      "Entramos en los premios\n"
     ]
    },
    {
     "name": "stderr",
     "output_type": "stream",
     "text": [
      "  5%|▍         | 38/784 [06:18<2:20:51, 11.33s/it]"
     ]
    },
    {
     "name": "stdout",
     "output_type": "stream",
     "text": [
      "el actor Andréa Ferréol no tiene más peliculas\n",
      "Entramos en los premios\n"
     ]
    },
    {
     "name": "stderr",
     "output_type": "stream",
     "text": [
      "  5%|▍         | 39/784 [06:31<2:27:15, 11.86s/it]"
     ]
    },
    {
     "name": "stdout",
     "output_type": "stream",
     "text": [
      "Este actor no tiene premios\n"
     ]
    },
    {
     "name": "stderr",
     "output_type": "stream",
     "text": [
      "  5%|▌         | 40/784 [06:40<2:18:01, 11.13s/it]"
     ]
    },
    {
     "name": "stdout",
     "output_type": "stream",
     "text": [
      "el actor Dominique Laffin no tiene más peliculas\n",
      "Entramos en los premios\n"
     ]
    },
    {
     "name": "stderr",
     "output_type": "stream",
     "text": [
      "  5%|▌         | 41/784 [06:54<2:27:50, 11.94s/it]"
     ]
    },
    {
     "name": "stdout",
     "output_type": "stream",
     "text": [
      "Entramos en los premios\n"
     ]
    },
    {
     "name": "stderr",
     "output_type": "stream",
     "text": [
      "  5%|▌         | 42/784 [07:10<2:41:07, 13.03s/it]"
     ]
    },
    {
     "name": "stdout",
     "output_type": "stream",
     "text": [
      "Entramos en los premios\n"
     ]
    },
    {
     "name": "stderr",
     "output_type": "stream",
     "text": [
      "  5%|▌         | 43/784 [07:24<2:45:07, 13.37s/it]"
     ]
    },
    {
     "name": "stdout",
     "output_type": "stream",
     "text": [
      "el actor Anne Wiazemsky no tiene más peliculas\n",
      "Este actor no tiene premios\n"
     ]
    },
    {
     "name": "stderr",
     "output_type": "stream",
     "text": [
      "  6%|▌         | 44/784 [07:33<2:30:32, 12.21s/it]"
     ]
    },
    {
     "name": "stdout",
     "output_type": "stream",
     "text": [
      "Entramos en los premios\n"
     ]
    },
    {
     "name": "stderr",
     "output_type": "stream",
     "text": [
      "  6%|▌         | 45/784 [07:48<2:38:15, 12.85s/it]"
     ]
    },
    {
     "name": "stdout",
     "output_type": "stream",
     "text": [
      "el actor Alicia Encinas no tiene más peliculas\n",
      "Este actor no tiene premios\n"
     ]
    },
    {
     "name": "stderr",
     "output_type": "stream",
     "text": [
      "  6%|▌         | 46/784 [07:57<2:23:52, 11.70s/it]"
     ]
    },
    {
     "name": "stdout",
     "output_type": "stream",
     "text": [
      "Este actor no tiene premios\n"
     ]
    },
    {
     "name": "stderr",
     "output_type": "stream",
     "text": [
      "  6%|▌         | 47/784 [08:06<2:13:48, 10.89s/it]"
     ]
    },
    {
     "name": "stdout",
     "output_type": "stream",
     "text": [
      "Este actor no tiene premios\n"
     ]
    },
    {
     "name": "stderr",
     "output_type": "stream",
     "text": [
      "  6%|▌         | 48/784 [08:15<2:06:51, 10.34s/it]"
     ]
    },
    {
     "name": "stdout",
     "output_type": "stream",
     "text": [
      "El actor Gloria Chávez no es conocido por nada más  \n",
      "el actor Gloria Chávez no tiene más peliculas\n",
      "Este actor no tiene premios\n"
     ]
    },
    {
     "name": "stderr",
     "output_type": "stream",
     "text": [
      "  6%|▋         | 49/784 [08:23<1:57:12,  9.57s/it]"
     ]
    },
    {
     "name": "stdout",
     "output_type": "stream",
     "text": [
      "Este actor no tiene premios\n"
     ]
    },
    {
     "name": "stderr",
     "output_type": "stream",
     "text": [
      "  6%|▋         | 50/784 [08:31<1:52:51,  9.23s/it]"
     ]
    },
    {
     "name": "stdout",
     "output_type": "stream",
     "text": [
      "Este actor no tiene premios\n"
     ]
    },
    {
     "name": "stderr",
     "output_type": "stream",
     "text": [
      "  7%|▋         | 51/784 [08:40<1:50:15,  9.03s/it]"
     ]
    },
    {
     "name": "stdout",
     "output_type": "stream",
     "text": [
      "el actor Gerardo Castell no tiene más peliculas\n",
      "Entramos en los premios\n"
     ]
    },
    {
     "name": "stderr",
     "output_type": "stream",
     "text": [
      "  7%|▋         | 52/784 [08:52<2:00:35,  9.88s/it]"
     ]
    },
    {
     "name": "stdout",
     "output_type": "stream",
     "text": [
      "el actor Martha de Castro no tiene más peliculas\n",
      "Este actor no tiene premios\n"
     ]
    },
    {
     "name": "stderr",
     "output_type": "stream",
     "text": [
      "  7%|▋         | 53/784 [09:01<1:59:26,  9.80s/it]"
     ]
    },
    {
     "name": "stdout",
     "output_type": "stream",
     "text": [
      "el actor Feng Hsu no tiene más peliculas\n",
      "Entramos en los premios\n"
     ]
    },
    {
     "name": "stderr",
     "output_type": "stream",
     "text": [
      "  7%|▋         | 54/784 [09:15<2:13:43, 10.99s/it]"
     ]
    },
    {
     "name": "stdout",
     "output_type": "stream",
     "text": [
      "El actor Yun Ling no es conocido por nada más  \n",
      "el actor Yun Ling no tiene más peliculas\n",
      "Este actor no tiene premios\n"
     ]
    },
    {
     "name": "stderr",
     "output_type": "stream",
     "text": [
      "  7%|▋         | 55/784 [09:24<2:06:51, 10.44s/it]"
     ]
    },
    {
     "name": "stdout",
     "output_type": "stream",
     "text": [
      "Este actor no tiene premios\n"
     ]
    },
    {
     "name": "stderr",
     "output_type": "stream",
     "text": [
      "  7%|▋         | 56/784 [09:33<2:01:22, 10.00s/it]"
     ]
    },
    {
     "name": "stdout",
     "output_type": "stream",
     "text": [
      "Entramos en los premios\n"
     ]
    },
    {
     "name": "stderr",
     "output_type": "stream",
     "text": [
      "  7%|▋         | 58/784 [09:54<2:00:29,  9.96s/it]"
     ]
    },
    {
     "name": "stdout",
     "output_type": "stream",
     "text": [
      "el actor Lily Li no tiene más peliculas\n",
      "Entramos en los premios\n"
     ]
    },
    {
     "name": "stderr",
     "output_type": "stream",
     "text": [
      "  8%|▊         | 59/784 [10:10<2:21:45, 11.73s/it]"
     ]
    },
    {
     "name": "stdout",
     "output_type": "stream",
     "text": [
      "Entramos en los premios\n"
     ]
    },
    {
     "name": "stderr",
     "output_type": "stream",
     "text": [
      "  8%|▊         | 60/784 [10:23<2:27:37, 12.23s/it]"
     ]
    },
    {
     "name": "stdout",
     "output_type": "stream",
     "text": [
      "Este actor no tiene premios\n"
     ]
    },
    {
     "name": "stderr",
     "output_type": "stream",
     "text": [
      "  8%|▊         | 61/784 [10:33<2:17:51, 11.44s/it]"
     ]
    },
    {
     "name": "stdout",
     "output_type": "stream",
     "text": [
      "El actor Hsin-Chun Huang no es conocido por nada más  \n",
      "el actor Hsin-Chun Huang no tiene más peliculas\n",
      "Este actor no tiene premios\n"
     ]
    },
    {
     "name": "stderr",
     "output_type": "stream",
     "text": [
      "  8%|▊         | 62/784 [10:41<2:05:18, 10.41s/it]"
     ]
    },
    {
     "name": "stdout",
     "output_type": "stream",
     "text": [
      "Entramos en los premios\n"
     ]
    },
    {
     "name": "stderr",
     "output_type": "stream",
     "text": [
      "  8%|▊         | 63/784 [10:54<2:15:17, 11.26s/it]"
     ]
    },
    {
     "name": "stdout",
     "output_type": "stream",
     "text": [
      "Entramos en los premios\n"
     ]
    },
    {
     "name": "stderr",
     "output_type": "stream",
     "text": [
      "  8%|▊         | 64/784 [11:10<2:30:49, 12.57s/it]"
     ]
    },
    {
     "name": "stdout",
     "output_type": "stream",
     "text": [
      "Entramos en los premios\n"
     ]
    },
    {
     "name": "stderr",
     "output_type": "stream",
     "text": [
      "  8%|▊         | 65/784 [11:23<2:34:28, 12.89s/it]"
     ]
    },
    {
     "name": "stdout",
     "output_type": "stream",
     "text": [
      "Entramos en los premios\n"
     ]
    },
    {
     "name": "stderr",
     "output_type": "stream",
     "text": [
      "  9%|▊         | 67/784 [11:47<2:26:31, 12.26s/it]"
     ]
    },
    {
     "name": "stdout",
     "output_type": "stream",
     "text": [
      "el actor William Ross no tiene más peliculas\n"
     ]
    },
    {
     "name": "stderr",
     "output_type": "stream",
     "text": [
      "  9%|▊         | 68/784 [11:56<2:16:01, 11.40s/it]"
     ]
    },
    {
     "name": "stdout",
     "output_type": "stream",
     "text": [
      "Este actor no tiene premios\n"
     ]
    },
    {
     "name": "stderr",
     "output_type": "stream",
     "text": [
      "  9%|▉         | 69/784 [12:05<2:07:35, 10.71s/it]"
     ]
    },
    {
     "name": "stdout",
     "output_type": "stream",
     "text": [
      "Entramos en los premios\n"
     ]
    },
    {
     "name": "stderr",
     "output_type": "stream",
     "text": [
      "  9%|▉         | 70/784 [12:19<2:16:41, 11.49s/it]"
     ]
    },
    {
     "name": "stdout",
     "output_type": "stream",
     "text": [
      "El actor Iwae Arai no es conocido por nada más  \n",
      "el actor Iwae Arai no tiene más peliculas\n",
      "Este actor no tiene premios\n"
     ]
    },
    {
     "name": "stderr",
     "output_type": "stream",
     "text": [
      "  9%|▉         | 72/784 [12:36<2:01:26, 10.23s/it]"
     ]
    },
    {
     "name": "stdout",
     "output_type": "stream",
     "text": [
      "el actor Blanca Guerra no tiene más peliculas\n",
      "Entramos en los premios\n"
     ]
    },
    {
     "name": "stderr",
     "output_type": "stream",
     "text": [
      "  9%|▉         | 73/784 [12:50<2:13:51, 11.30s/it]"
     ]
    },
    {
     "name": "stdout",
     "output_type": "stream",
     "text": [
      "el actor Patricia Rivera no tiene más peliculas\n",
      "Entramos en los premios\n"
     ]
    },
    {
     "name": "stderr",
     "output_type": "stream",
     "text": [
      "  9%|▉         | 74/784 [13:04<2:21:14, 11.94s/it]"
     ]
    },
    {
     "name": "stdout",
     "output_type": "stream",
     "text": [
      "Entramos en los premios\n"
     ]
    },
    {
     "name": "stderr",
     "output_type": "stream",
     "text": [
      " 10%|▉         | 75/784 [13:16<2:23:51, 12.17s/it]"
     ]
    },
    {
     "name": "stdout",
     "output_type": "stream",
     "text": [
      "Entramos en los premios\n"
     ]
    },
    {
     "name": "stderr",
     "output_type": "stream",
     "text": [
      " 10%|▉         | 76/784 [13:30<2:27:18, 12.48s/it]"
     ]
    },
    {
     "name": "stdout",
     "output_type": "stream",
     "text": [
      "el actor Ana Luisa Peluffo no tiene más peliculas\n"
     ]
    },
    {
     "name": "stderr",
     "output_type": "stream",
     "text": [
      " 10%|▉         | 77/784 [13:38<2:11:33, 11.17s/it]"
     ]
    },
    {
     "name": "stdout",
     "output_type": "stream",
     "text": [
      "Entramos en los premios\n"
     ]
    },
    {
     "name": "stderr",
     "output_type": "stream",
     "text": [
      " 10%|█         | 79/784 [13:59<2:05:05, 10.65s/it]"
     ]
    },
    {
     "name": "stdout",
     "output_type": "stream",
     "text": [
      "Este actor no tiene premios\n"
     ]
    },
    {
     "name": "stderr",
     "output_type": "stream",
     "text": [
      " 10%|█         | 80/784 [14:08<2:00:07, 10.24s/it]"
     ]
    },
    {
     "name": "stdout",
     "output_type": "stream",
     "text": [
      "Este actor no tiene premios\n"
     ]
    },
    {
     "name": "stderr",
     "output_type": "stream",
     "text": [
      " 10%|█         | 81/784 [14:17<1:53:09,  9.66s/it]"
     ]
    },
    {
     "name": "stdout",
     "output_type": "stream",
     "text": [
      "el actor Niu Niu no tiene más peliculas\n",
      "Entramos en los premios\n"
     ]
    },
    {
     "name": "stderr",
     "output_type": "stream",
     "text": [
      " 10%|█         | 82/784 [14:30<2:04:53, 10.67s/it]"
     ]
    },
    {
     "name": "stdout",
     "output_type": "stream",
     "text": [
      "Entramos en los premios\n"
     ]
    },
    {
     "name": "stderr",
     "output_type": "stream",
     "text": [
      " 11%|█         | 83/784 [14:43<2:13:54, 11.46s/it]"
     ]
    },
    {
     "name": "stdout",
     "output_type": "stream",
     "text": [
      "Este actor no tiene premios\n"
     ]
    },
    {
     "name": "stderr",
     "output_type": "stream",
     "text": [
      " 11%|█         | 84/784 [14:52<2:03:35, 10.59s/it]"
     ]
    },
    {
     "name": "stdout",
     "output_type": "stream",
     "text": [
      "el actor Li Ching no tiene más peliculas\n",
      "Entramos en los premios\n"
     ]
    },
    {
     "name": "stderr",
     "output_type": "stream",
     "text": [
      " 11%|█         | 85/784 [15:04<2:10:08, 11.17s/it]"
     ]
    },
    {
     "name": "stdout",
     "output_type": "stream",
     "text": [
      "Este actor no tiene premios\n"
     ]
    },
    {
     "name": "stderr",
     "output_type": "stream",
     "text": [
      " 11%|█         | 86/784 [15:14<2:03:44, 10.64s/it]"
     ]
    },
    {
     "name": "stdout",
     "output_type": "stream",
     "text": [
      "El actor Ke Chu no es conocido por nada más  \n",
      "el actor Ke Chu no tiene más peliculas\n"
     ]
    },
    {
     "name": "stderr",
     "output_type": "stream",
     "text": [
      " 11%|█         | 87/784 [15:22<1:57:06, 10.08s/it]"
     ]
    },
    {
     "name": "stdout",
     "output_type": "stream",
     "text": [
      "El actor Jin Guo no es conocido por nada más  \n",
      "el actor Jin Guo no tiene más peliculas\n",
      "Este actor no tiene premios\n"
     ]
    },
    {
     "name": "stderr",
     "output_type": "stream",
     "text": [
      " 11%|█         | 88/784 [15:31<1:50:11,  9.50s/it]"
     ]
    },
    {
     "name": "stdout",
     "output_type": "stream",
     "text": [
      "El actor Ping An no es conocido por nada más  \n",
      "el actor Ping An no tiene más peliculas\n",
      "Entramos en los premios\n"
     ]
    },
    {
     "name": "stderr",
     "output_type": "stream",
     "text": [
      " 11%|█▏        | 89/784 [15:45<2:07:39, 11.02s/it]"
     ]
    },
    {
     "name": "stdout",
     "output_type": "stream",
     "text": [
      "El actor Lung Chan no es conocido por nada más  \n",
      "el actor Lung Chan no tiene más peliculas\n",
      "Entramos en los premios\n"
     ]
    },
    {
     "name": "stderr",
     "output_type": "stream",
     "text": [
      " 11%|█▏        | 90/784 [16:00<2:20:26, 12.14s/it]"
     ]
    },
    {
     "name": "stdout",
     "output_type": "stream",
     "text": [
      "Este actor no tiene premios\n"
     ]
    },
    {
     "name": "stderr",
     "output_type": "stream",
     "text": [
      " 12%|█▏        | 91/784 [16:09<2:09:41, 11.23s/it]"
     ]
    },
    {
     "name": "stdout",
     "output_type": "stream",
     "text": [
      "Este actor no tiene premios\n"
     ]
    },
    {
     "name": "stderr",
     "output_type": "stream",
     "text": [
      " 12%|█▏        | 92/784 [16:19<2:05:25, 10.87s/it]"
     ]
    },
    {
     "name": "stdout",
     "output_type": "stream",
     "text": [
      "Este actor no tiene premios\n"
     ]
    },
    {
     "name": "stderr",
     "output_type": "stream",
     "text": [
      " 12%|█▏        | 93/784 [16:28<1:58:58, 10.33s/it]"
     ]
    },
    {
     "name": "stdout",
     "output_type": "stream",
     "text": [
      "el actor Ching-Hsia Chiang no tiene más peliculas\n",
      "Este actor no tiene premios\n"
     ]
    },
    {
     "name": "stderr",
     "output_type": "stream",
     "text": [
      " 12%|█▏        | 94/784 [16:39<2:02:33, 10.66s/it]"
     ]
    },
    {
     "name": "stdout",
     "output_type": "stream",
     "text": [
      "el actor Wei Chung no tiene más peliculas\n",
      "Este actor no tiene premios\n"
     ]
    },
    {
     "name": "stderr",
     "output_type": "stream",
     "text": [
      " 12%|█▏        | 95/784 [16:47<1:52:24,  9.79s/it]"
     ]
    },
    {
     "name": "stdout",
     "output_type": "stream",
     "text": [
      "Este actor no tiene premios\n"
     ]
    },
    {
     "name": "stderr",
     "output_type": "stream",
     "text": [
      " 12%|█▏        | 96/784 [16:56<1:48:05,  9.43s/it]"
     ]
    },
    {
     "name": "stdout",
     "output_type": "stream",
     "text": [
      "El actor Chang-Sheng Ko no es conocido por nada más  \n",
      "el actor Chang-Sheng Ko no tiene más peliculas\n"
     ]
    },
    {
     "name": "stderr",
     "output_type": "stream",
     "text": [
      " 12%|█▏        | 97/784 [17:03<1:41:10,  8.84s/it]"
     ]
    },
    {
     "name": "stdout",
     "output_type": "stream",
     "text": [
      "Entramos en los premios\n"
     ]
    },
    {
     "name": "stderr",
     "output_type": "stream",
     "text": [
      " 12%|█▎        | 98/784 [17:17<1:58:41, 10.38s/it]"
     ]
    },
    {
     "name": "stdout",
     "output_type": "stream",
     "text": [
      "Entramos en los premios\n"
     ]
    },
    {
     "name": "stderr",
     "output_type": "stream",
     "text": [
      " 13%|█▎        | 99/784 [17:31<2:09:41, 11.36s/it]"
     ]
    },
    {
     "name": "stdout",
     "output_type": "stream",
     "text": [
      "el actor Ana Obregón no tiene más peliculas\n",
      "Entramos en los premios\n"
     ]
    },
    {
     "name": "stderr",
     "output_type": "stream",
     "text": [
      " 13%|█▎        | 100/784 [17:45<2:18:39, 12.16s/it]"
     ]
    },
    {
     "name": "stdout",
     "output_type": "stream",
     "text": [
      "Este actor no tiene premios\n"
     ]
    },
    {
     "name": "stderr",
     "output_type": "stream",
     "text": [
      " 13%|█▎        | 101/784 [17:56<2:13:03, 11.69s/it]"
     ]
    },
    {
     "name": "stdout",
     "output_type": "stream",
     "text": [
      "Este actor no tiene premios\n"
     ]
    },
    {
     "name": "stderr",
     "output_type": "stream",
     "text": [
      " 13%|█▎        | 102/784 [18:05<2:04:33, 10.96s/it]"
     ]
    },
    {
     "name": "stdout",
     "output_type": "stream",
     "text": [
      "Entramos en los premios\n"
     ]
    },
    {
     "name": "stderr",
     "output_type": "stream",
     "text": [
      " 13%|█▎        | 103/784 [18:18<2:12:17, 11.66s/it]"
     ]
    },
    {
     "name": "stdout",
     "output_type": "stream",
     "text": [
      "Este actor no tiene premios\n"
     ]
    },
    {
     "name": "stderr",
     "output_type": "stream",
     "text": [
      " 13%|█▎        | 104/784 [18:28<2:06:31, 11.16s/it]"
     ]
    },
    {
     "name": "stdout",
     "output_type": "stream",
     "text": [
      "Este actor no tiene premios\n"
     ]
    },
    {
     "name": "stderr",
     "output_type": "stream",
     "text": [
      " 13%|█▎        | 105/784 [18:38<2:03:21, 10.90s/it]"
     ]
    },
    {
     "name": "stdout",
     "output_type": "stream",
     "text": [
      "El actor Claudia Bono no es conocido por nada más  \n",
      "el actor Claudia Bono no tiene más peliculas\n",
      "Este actor no tiene premios\n"
     ]
    },
    {
     "name": "stderr",
     "output_type": "stream",
     "text": [
      " 14%|█▎        | 106/784 [18:46<1:53:33, 10.05s/it]"
     ]
    },
    {
     "name": "stdout",
     "output_type": "stream",
     "text": [
      "Entramos en los premios\n"
     ]
    },
    {
     "name": "stderr",
     "output_type": "stream",
     "text": [
      " 14%|█▎        | 107/784 [19:00<2:05:46, 11.15s/it]"
     ]
    },
    {
     "name": "stdout",
     "output_type": "stream",
     "text": [
      "el actor Claudine Auger no tiene más peliculas\n",
      "Entramos en los premios\n"
     ]
    },
    {
     "name": "stderr",
     "output_type": "stream",
     "text": [
      " 14%|█▍        | 108/784 [19:14<2:13:56, 11.89s/it]"
     ]
    },
    {
     "name": "stdout",
     "output_type": "stream",
     "text": [
      "Entramos en los premios\n"
     ]
    },
    {
     "name": "stderr",
     "output_type": "stream",
     "text": [
      " 14%|█▍        | 109/784 [19:28<2:20:49, 12.52s/it]"
     ]
    },
    {
     "name": "stdout",
     "output_type": "stream",
     "text": [
      "Este actor no tiene premios\n"
     ]
    },
    {
     "name": "stderr",
     "output_type": "stream",
     "text": [
      " 14%|█▍        | 110/784 [19:38<2:12:36, 11.80s/it]"
     ]
    },
    {
     "name": "stdout",
     "output_type": "stream",
     "text": [
      "Entramos en los premios\n"
     ]
    },
    {
     "name": "stderr",
     "output_type": "stream",
     "text": [
      " 14%|█▍        | 111/784 [19:52<2:18:49, 12.38s/it]"
     ]
    },
    {
     "name": "stdout",
     "output_type": "stream",
     "text": [
      "Este actor no tiene premios\n"
     ]
    },
    {
     "name": "stderr",
     "output_type": "stream",
     "text": [
      " 14%|█▍        | 112/784 [20:02<2:12:51, 11.86s/it]"
     ]
    },
    {
     "name": "stdout",
     "output_type": "stream",
     "text": [
      "el actor Dan Forrest no tiene más peliculas\n",
      "Este actor no tiene premios\n"
     ]
    },
    {
     "name": "stderr",
     "output_type": "stream",
     "text": [
      " 14%|█▍        | 113/784 [20:10<1:59:55, 10.72s/it]"
     ]
    },
    {
     "name": "stdout",
     "output_type": "stream",
     "text": [
      "Este actor no tiene premios\n"
     ]
    },
    {
     "name": "stderr",
     "output_type": "stream",
     "text": [
      " 15%|█▍        | 114/784 [20:20<1:55:08, 10.31s/it]"
     ]
    },
    {
     "name": "stdout",
     "output_type": "stream",
     "text": [
      "Entramos en los premios\n"
     ]
    },
    {
     "name": "stderr",
     "output_type": "stream",
     "text": [
      " 15%|█▍        | 115/784 [20:32<2:02:09, 10.96s/it]"
     ]
    },
    {
     "name": "stdout",
     "output_type": "stream",
     "text": [
      "el actor Savita Bajaj no tiene más peliculas\n",
      "Este actor no tiene premios\n"
     ]
    },
    {
     "name": "stderr",
     "output_type": "stream",
     "text": [
      " 15%|█▍        | 116/784 [20:42<1:58:43, 10.66s/it]"
     ]
    },
    {
     "name": "stdout",
     "output_type": "stream",
     "text": [
      "Este actor no tiene premios\n"
     ]
    },
    {
     "name": "stderr",
     "output_type": "stream",
     "text": [
      " 15%|█▍        | 117/784 [20:53<1:59:21, 10.74s/it]"
     ]
    },
    {
     "name": "stdout",
     "output_type": "stream",
     "text": [
      "Este actor no tiene premios\n"
     ]
    },
    {
     "name": "stderr",
     "output_type": "stream",
     "text": [
      " 15%|█▌        | 118/784 [21:07<2:11:33, 11.85s/it]"
     ]
    },
    {
     "name": "stdout",
     "output_type": "stream",
     "text": [
      "Este actor no tiene premios\n"
     ]
    },
    {
     "name": "stderr",
     "output_type": "stream",
     "text": [
      " 15%|█▌        | 119/784 [21:17<2:02:03, 11.01s/it]"
     ]
    },
    {
     "name": "stdout",
     "output_type": "stream",
     "text": [
      "Entramos en los premios\n"
     ]
    },
    {
     "name": "stderr",
     "output_type": "stream",
     "text": [
      " 15%|█▌        | 120/784 [21:30<2:08:38, 11.62s/it]"
     ]
    },
    {
     "name": "stdout",
     "output_type": "stream",
     "text": [
      "Este actor no tiene premios\n"
     ]
    },
    {
     "name": "stderr",
     "output_type": "stream",
     "text": [
      " 15%|█▌        | 121/784 [21:39<2:01:54, 11.03s/it]"
     ]
    },
    {
     "name": "stdout",
     "output_type": "stream",
     "text": [
      "Este actor no tiene premios\n"
     ]
    },
    {
     "name": "stderr",
     "output_type": "stream",
     "text": [
      " 16%|█▌        | 122/784 [21:49<1:59:09, 10.80s/it]"
     ]
    },
    {
     "name": "stdout",
     "output_type": "stream",
     "text": [
      "Entramos en los premios\n"
     ]
    },
    {
     "name": "stderr",
     "output_type": "stream",
     "text": [
      " 16%|█▌        | 123/784 [22:02<2:03:14, 11.19s/it]"
     ]
    },
    {
     "name": "stdout",
     "output_type": "stream",
     "text": [
      "el actor Rohini Hattangadi no tiene más peliculas\n",
      "Entramos en los premios\n"
     ]
    },
    {
     "name": "stderr",
     "output_type": "stream",
     "text": [
      " 16%|█▌        | 124/784 [22:17<2:18:34, 12.60s/it]"
     ]
    },
    {
     "name": "stdout",
     "output_type": "stream",
     "text": [
      "el actor Olivia Pascal no tiene más peliculas\n",
      "Entramos en los premios\n"
     ]
    },
    {
     "name": "stderr",
     "output_type": "stream",
     "text": [
      " 16%|█▌        | 125/784 [22:30<2:18:09, 12.58s/it]"
     ]
    },
    {
     "name": "stdout",
     "output_type": "stream",
     "text": [
      "el actor Alan Longmuir no tiene más peliculas\n",
      "Este actor no tiene premios\n"
     ]
    },
    {
     "name": "stderr",
     "output_type": "stream",
     "text": [
      " 16%|█▌        | 127/784 [22:46<1:51:32, 10.19s/it]"
     ]
    },
    {
     "name": "stdout",
     "output_type": "stream",
     "text": [
      "el actor Stuart 'Woody' Wood no tiene más peliculas\n",
      "Este actor no tiene premios\n"
     ]
    },
    {
     "name": "stderr",
     "output_type": "stream",
     "text": [
      " 16%|█▋        | 128/784 [22:55<1:47:22,  9.82s/it]"
     ]
    },
    {
     "name": "stdout",
     "output_type": "stream",
     "text": [
      "el actor Derek Longmuir no tiene más peliculas\n",
      "Este actor no tiene premios\n"
     ]
    },
    {
     "name": "stderr",
     "output_type": "stream",
     "text": [
      " 16%|█▋        | 129/784 [23:03<1:41:07,  9.26s/it]"
     ]
    },
    {
     "name": "stdout",
     "output_type": "stream",
     "text": [
      "El actor Duncan Faure no es conocido por nada más  \n",
      "el actor Duncan Faure no tiene más peliculas\n",
      "Este actor no tiene premios\n"
     ]
    },
    {
     "name": "stderr",
     "output_type": "stream",
     "text": [
      " 17%|█▋        | 130/784 [23:11<1:36:57,  8.90s/it]"
     ]
    },
    {
     "name": "stdout",
     "output_type": "stream",
     "text": [
      "Este actor no tiene premios\n"
     ]
    },
    {
     "name": "stderr",
     "output_type": "stream",
     "text": [
      " 17%|█▋        | 131/784 [23:19<1:35:21,  8.76s/it]"
     ]
    },
    {
     "name": "stdout",
     "output_type": "stream",
     "text": [
      "Este actor no tiene premios\n"
     ]
    },
    {
     "name": "stderr",
     "output_type": "stream",
     "text": [
      " 17%|█▋        | 132/784 [23:28<1:34:58,  8.74s/it]"
     ]
    },
    {
     "name": "stdout",
     "output_type": "stream",
     "text": [
      "El actor Yolanda Kloppers no es conocido por nada más  \n",
      "el actor Yolanda Kloppers no tiene más peliculas\n",
      "Este actor no tiene premios\n"
     ]
    },
    {
     "name": "stderr",
     "output_type": "stream",
     "text": [
      " 17%|█▋        | 133/784 [23:36<1:30:58,  8.39s/it]"
     ]
    },
    {
     "name": "stdout",
     "output_type": "stream",
     "text": [
      "Este actor no tiene premios\n"
     ]
    },
    {
     "name": "stderr",
     "output_type": "stream",
     "text": [
      " 17%|█▋        | 134/784 [23:44<1:31:57,  8.49s/it]"
     ]
    },
    {
     "name": "stdout",
     "output_type": "stream",
     "text": [
      "Entramos en los premios\n"
     ]
    },
    {
     "name": "stderr",
     "output_type": "stream",
     "text": [
      " 17%|█▋        | 135/784 [23:58<1:49:16, 10.10s/it]"
     ]
    },
    {
     "name": "stdout",
     "output_type": "stream",
     "text": [
      "el actor Gigi Suk Yee Wong no tiene más peliculas\n",
      "Este actor no tiene premios\n"
     ]
    },
    {
     "name": "stderr",
     "output_type": "stream",
     "text": [
      " 17%|█▋        | 136/784 [24:08<1:48:01, 10.00s/it]"
     ]
    },
    {
     "name": "stdout",
     "output_type": "stream",
     "text": [
      "el actor Hsueh-Erh Wen no tiene más peliculas\n",
      "Este actor no tiene premios\n"
     ]
    },
    {
     "name": "stderr",
     "output_type": "stream",
     "text": [
      " 17%|█▋        | 137/784 [24:16<1:41:00,  9.37s/it]"
     ]
    },
    {
     "name": "stdout",
     "output_type": "stream",
     "text": [
      "Entramos en los premios\n"
     ]
    },
    {
     "name": "stderr",
     "output_type": "stream",
     "text": [
      " 18%|█▊        | 138/784 [24:28<1:48:40, 10.09s/it]"
     ]
    },
    {
     "name": "stdout",
     "output_type": "stream",
     "text": [
      "Entramos en los premios\n"
     ]
    },
    {
     "name": "stderr",
     "output_type": "stream",
     "text": [
      " 18%|█▊        | 139/784 [24:46<2:13:38, 12.43s/it]"
     ]
    },
    {
     "name": "stdout",
     "output_type": "stream",
     "text": [
      "Entramos en los premios\n"
     ]
    },
    {
     "name": "stderr",
     "output_type": "stream",
     "text": [
      " 18%|█▊        | 140/784 [25:11<2:53:51, 16.20s/it]"
     ]
    },
    {
     "name": "stdout",
     "output_type": "stream",
     "text": [
      "el actor Beverly D'Angelo no tiene más peliculas\n",
      "Entramos en los premios\n"
     ]
    },
    {
     "name": "stderr",
     "output_type": "stream",
     "text": [
      " 18%|█▊        | 141/784 [25:27<2:54:06, 16.25s/it]"
     ]
    },
    {
     "name": "stdout",
     "output_type": "stream",
     "text": [
      "el actor Kate Reid no tiene más peliculas\n",
      "Entramos en los premios\n"
     ]
    },
    {
     "name": "stderr",
     "output_type": "stream",
     "text": [
      " 18%|█▊        | 142/784 [25:41<2:46:34, 15.57s/it]"
     ]
    },
    {
     "name": "stdout",
     "output_type": "stream",
     "text": [
      "Entramos en los premios\n"
     ]
    },
    {
     "name": "stderr",
     "output_type": "stream",
     "text": [
      " 18%|█▊        | 143/784 [25:55<2:40:33, 15.03s/it]"
     ]
    },
    {
     "name": "stdout",
     "output_type": "stream",
     "text": [
      "Entramos en los premios\n"
     ]
    },
    {
     "name": "stderr",
     "output_type": "stream",
     "text": [
      " 18%|█▊        | 144/784 [26:08<2:36:01, 14.63s/it]"
     ]
    },
    {
     "name": "stdout",
     "output_type": "stream",
     "text": [
      "Entramos en los premios\n"
     ]
    },
    {
     "name": "stderr",
     "output_type": "stream",
     "text": [
      " 18%|█▊        | 145/784 [26:24<2:37:38, 14.80s/it]"
     ]
    },
    {
     "name": "stdout",
     "output_type": "stream",
     "text": [
      "Entramos en los premios\n"
     ]
    },
    {
     "name": "stderr",
     "output_type": "stream",
     "text": [
      " 19%|█▊        | 146/784 [26:38<2:36:05, 14.68s/it]"
     ]
    },
    {
     "name": "stdout",
     "output_type": "stream",
     "text": [
      "Entramos en los premios\n"
     ]
    },
    {
     "name": "stderr",
     "output_type": "stream",
     "text": [
      " 19%|█▉        | 147/784 [26:51<2:32:04, 14.32s/it]"
     ]
    },
    {
     "name": "stdout",
     "output_type": "stream",
     "text": [
      "Este actor no tiene premios\n"
     ]
    },
    {
     "name": "stderr",
     "output_type": "stream",
     "text": [
      " 19%|█▉        | 148/784 [27:00<2:14:28, 12.69s/it]"
     ]
    },
    {
     "name": "stdout",
     "output_type": "stream",
     "text": [
      "el actor Laura Gemser no tiene más peliculas\n",
      "Este actor no tiene premios\n"
     ]
    },
    {
     "name": "stderr",
     "output_type": "stream",
     "text": [
      " 19%|█▉        | 149/784 [27:10<2:04:45, 11.79s/it]"
     ]
    },
    {
     "name": "stdout",
     "output_type": "stream",
     "text": [
      "Este actor no tiene premios\n"
     ]
    },
    {
     "name": "stderr",
     "output_type": "stream",
     "text": [
      " 19%|█▉        | 150/784 [27:19<1:55:30, 10.93s/it]"
     ]
    },
    {
     "name": "stdout",
     "output_type": "stream",
     "text": [
      "Este actor no tiene premios\n"
     ]
    },
    {
     "name": "stderr",
     "output_type": "stream",
     "text": [
      " 19%|█▉        | 151/784 [27:28<1:50:15, 10.45s/it]"
     ]
    },
    {
     "name": "stdout",
     "output_type": "stream",
     "text": [
      "el actor Fabiola Toledo no tiene más peliculas\n",
      "Este actor no tiene premios\n"
     ]
    },
    {
     "name": "stderr",
     "output_type": "stream",
     "text": [
      " 19%|█▉        | 152/784 [27:37<1:44:22,  9.91s/it]"
     ]
    },
    {
     "name": "stdout",
     "output_type": "stream",
     "text": [
      "Este actor no tiene premios\n"
     ]
    },
    {
     "name": "stderr",
     "output_type": "stream",
     "text": [
      " 20%|█▉        | 153/784 [27:46<1:40:04,  9.52s/it]"
     ]
    },
    {
     "name": "stdout",
     "output_type": "stream",
     "text": [
      "Este actor no tiene premios\n"
     ]
    },
    {
     "name": "stderr",
     "output_type": "stream",
     "text": [
      " 20%|█▉        | 154/784 [27:54<1:37:36,  9.30s/it]"
     ]
    },
    {
     "name": "stdout",
     "output_type": "stream",
     "text": [
      "Este actor no tiene premios\n"
     ]
    },
    {
     "name": "stderr",
     "output_type": "stream",
     "text": [
      " 20%|█▉        | 155/784 [28:03<1:37:01,  9.25s/it]"
     ]
    },
    {
     "name": "stdout",
     "output_type": "stream",
     "text": [
      "Este actor no tiene premios\n"
     ]
    },
    {
     "name": "stderr",
     "output_type": "stream",
     "text": [
      " 20%|█▉        | 156/784 [28:12<1:35:11,  9.09s/it]"
     ]
    },
    {
     "name": "stdout",
     "output_type": "stream",
     "text": [
      "Entramos en los premios\n"
     ]
    },
    {
     "name": "stderr",
     "output_type": "stream",
     "text": [
      " 20%|██        | 157/784 [28:26<1:48:48, 10.41s/it]"
     ]
    },
    {
     "name": "stdout",
     "output_type": "stream",
     "text": [
      "el actor Olivia Hussey no tiene más peliculas\n",
      "Entramos en los premios\n"
     ]
    },
    {
     "name": "stderr",
     "output_type": "stream",
     "text": [
      " 20%|██        | 158/784 [28:41<2:03:07, 11.80s/it]"
     ]
    },
    {
     "name": "stdout",
     "output_type": "stream",
     "text": [
      "Entramos en los premios\n"
     ]
    },
    {
     "name": "stderr",
     "output_type": "stream",
     "text": [
      " 20%|██        | 159/784 [28:55<2:11:11, 12.60s/it]"
     ]
    },
    {
     "name": "stdout",
     "output_type": "stream",
     "text": [
      "el actor Carmen Duncan no tiene más peliculas\n",
      "Entramos en los premios\n"
     ]
    },
    {
     "name": "stderr",
     "output_type": "stream",
     "text": [
      " 21%|██        | 161/784 [29:16<1:57:04, 11.27s/it]"
     ]
    },
    {
     "name": "stdout",
     "output_type": "stream",
     "text": [
      "el actor Lynda Stoner no tiene más peliculas\n",
      "Este actor no tiene premios\n"
     ]
    },
    {
     "name": "stderr",
     "output_type": "stream",
     "text": [
      " 21%|██        | 162/784 [29:25<1:49:52, 10.60s/it]"
     ]
    },
    {
     "name": "stdout",
     "output_type": "stream",
     "text": [
      "Entramos en los premios\n"
     ]
    },
    {
     "name": "stderr",
     "output_type": "stream",
     "text": [
      " 21%|██        | 163/784 [29:38<1:57:44, 11.38s/it]"
     ]
    },
    {
     "name": "stdout",
     "output_type": "stream",
     "text": [
      "Este actor no tiene premios\n"
     ]
    },
    {
     "name": "stderr",
     "output_type": "stream",
     "text": [
      " 21%|██        | 164/784 [29:48<1:52:39, 10.90s/it]"
     ]
    },
    {
     "name": "stdout",
     "output_type": "stream",
     "text": [
      "Este actor no tiene premios\n"
     ]
    },
    {
     "name": "stderr",
     "output_type": "stream",
     "text": [
      " 21%|██        | 165/784 [29:58<1:50:45, 10.74s/it]"
     ]
    },
    {
     "name": "stdout",
     "output_type": "stream",
     "text": [
      "Este actor no tiene premios\n"
     ]
    },
    {
     "name": "stderr",
     "output_type": "stream",
     "text": [
      " 21%|██        | 166/784 [30:08<1:46:05, 10.30s/it]"
     ]
    },
    {
     "name": "stdout",
     "output_type": "stream",
     "text": [
      "Este actor no tiene premios\n"
     ]
    },
    {
     "name": "stderr",
     "output_type": "stream",
     "text": [
      " 21%|██▏       | 167/784 [30:16<1:38:54,  9.62s/it]"
     ]
    },
    {
     "name": "stdout",
     "output_type": "stream",
     "text": [
      "Este actor no tiene premios\n"
     ]
    },
    {
     "name": "stderr",
     "output_type": "stream",
     "text": [
      " 21%|██▏       | 168/784 [30:24<1:35:26,  9.30s/it]"
     ]
    },
    {
     "name": "stdout",
     "output_type": "stream",
     "text": [
      "Este actor no tiene premios\n"
     ]
    },
    {
     "name": "stderr",
     "output_type": "stream",
     "text": [
      " 22%|██▏       | 169/784 [30:33<1:34:24,  9.21s/it]"
     ]
    },
    {
     "name": "stdout",
     "output_type": "stream",
     "text": [
      "Este actor no tiene premios\n"
     ]
    },
    {
     "name": "stderr",
     "output_type": "stream",
     "text": [
      " 22%|██▏       | 170/784 [30:42<1:33:53,  9.18s/it]"
     ]
    },
    {
     "name": "stdout",
     "output_type": "stream",
     "text": [
      "el actor Ting Chao no tiene más peliculas\n"
     ]
    },
    {
     "name": "stderr",
     "output_type": "stream",
     "text": [
      " 22%|██▏       | 171/784 [30:50<1:28:12,  8.63s/it]"
     ]
    },
    {
     "name": "stdout",
     "output_type": "stream",
     "text": [
      "Este actor no tiene premios\n"
     ]
    },
    {
     "name": "stderr",
     "output_type": "stream",
     "text": [
      " 22%|██▏       | 172/784 [30:59<1:28:35,  8.69s/it]"
     ]
    },
    {
     "name": "stdout",
     "output_type": "stream",
     "text": [
      "Este actor no tiene premios\n"
     ]
    },
    {
     "name": "stderr",
     "output_type": "stream",
     "text": [
      " 22%|██▏       | 173/784 [31:07<1:28:52,  8.73s/it]"
     ]
    },
    {
     "name": "stdout",
     "output_type": "stream",
     "text": [
      "Este actor no tiene premios\n"
     ]
    },
    {
     "name": "stderr",
     "output_type": "stream",
     "text": [
      " 22%|██▏       | 174/784 [31:17<1:30:24,  8.89s/it]"
     ]
    },
    {
     "name": "stdout",
     "output_type": "stream",
     "text": [
      "Entramos en los premios\n"
     ]
    },
    {
     "name": "stderr",
     "output_type": "stream",
     "text": [
      " 22%|██▏       | 175/784 [31:30<1:44:45, 10.32s/it]"
     ]
    },
    {
     "name": "stdout",
     "output_type": "stream",
     "text": [
      "el actor Jill Ireland no tiene más peliculas\n",
      "Entramos en los premios\n"
     ]
    },
    {
     "name": "stderr",
     "output_type": "stream",
     "text": [
      " 22%|██▏       | 176/784 [31:46<1:59:50, 11.83s/it]"
     ]
    },
    {
     "name": "stdout",
     "output_type": "stream",
     "text": [
      "Entramos en los premios\n"
     ]
    },
    {
     "name": "stderr",
     "output_type": "stream",
     "text": [
      " 23%|██▎       | 177/784 [32:01<2:10:36, 12.91s/it]"
     ]
    },
    {
     "name": "stdout",
     "output_type": "stream",
     "text": [
      "Entramos en los premios\n"
     ]
    },
    {
     "name": "stderr",
     "output_type": "stream",
     "text": [
      " 23%|██▎       | 178/784 [32:14<2:11:44, 13.04s/it]"
     ]
    },
    {
     "name": "stdout",
     "output_type": "stream",
     "text": [
      "Entramos en los premios\n"
     ]
    },
    {
     "name": "stderr",
     "output_type": "stream",
     "text": [
      " 23%|██▎       | 179/784 [32:28<2:13:21, 13.23s/it]"
     ]
    },
    {
     "name": "stdout",
     "output_type": "stream",
     "text": [
      "Este actor no tiene premios\n"
     ]
    },
    {
     "name": "stderr",
     "output_type": "stream",
     "text": [
      " 23%|██▎       | 180/784 [32:38<2:03:09, 12.23s/it]"
     ]
    },
    {
     "name": "stdout",
     "output_type": "stream",
     "text": [
      "el actor Robin Sherwood no tiene más peliculas\n",
      "Este actor no tiene premios\n"
     ]
    },
    {
     "name": "stderr",
     "output_type": "stream",
     "text": [
      " 23%|██▎       | 181/784 [32:48<1:54:57, 11.44s/it]"
     ]
    },
    {
     "name": "stdout",
     "output_type": "stream",
     "text": [
      "el actor Silvana Gallardo no tiene más peliculas\n",
      "Este actor no tiene premios\n"
     ]
    },
    {
     "name": "stderr",
     "output_type": "stream",
     "text": [
      " 23%|██▎       | 182/784 [32:57<1:47:19, 10.70s/it]"
     ]
    },
    {
     "name": "stdout",
     "output_type": "stream",
     "text": [
      "Este actor no tiene premios\n"
     ]
    },
    {
     "name": "stderr",
     "output_type": "stream",
     "text": [
      " 23%|██▎       | 183/784 [33:05<1:41:25, 10.13s/it]"
     ]
    },
    {
     "name": "stdout",
     "output_type": "stream",
     "text": [
      "el actor Lawrence Day no tiene más peliculas\n",
      "Este actor no tiene premios\n"
     ]
    },
    {
     "name": "stderr",
     "output_type": "stream",
     "text": [
      " 23%|██▎       | 184/784 [33:14<1:35:16,  9.53s/it]"
     ]
    },
    {
     "name": "stdout",
     "output_type": "stream",
     "text": [
      "Entramos en los premios\n"
     ]
    },
    {
     "name": "stderr",
     "output_type": "stream",
     "text": [
      " 24%|██▎       | 185/784 [33:27<1:47:21, 10.75s/it]"
     ]
    },
    {
     "name": "stdout",
     "output_type": "stream",
     "text": [
      "Este actor no tiene premios\n"
     ]
    },
    {
     "name": "stderr",
     "output_type": "stream",
     "text": [
      " 24%|██▎       | 186/784 [33:37<1:44:44, 10.51s/it]"
     ]
    },
    {
     "name": "stdout",
     "output_type": "stream",
     "text": [
      "Este actor no tiene premios\n"
     ]
    },
    {
     "name": "stderr",
     "output_type": "stream",
     "text": [
      " 24%|██▍       | 187/784 [33:46<1:40:39, 10.12s/it]"
     ]
    },
    {
     "name": "stdout",
     "output_type": "stream",
     "text": [
      "El actor Daniel Foley no es conocido por nada más  \n",
      "el actor Daniel Foley no tiene más peliculas\n",
      "Este actor no tiene premios\n"
     ]
    },
    {
     "name": "stderr",
     "output_type": "stream",
     "text": [
      " 24%|██▍       | 188/784 [33:54<1:32:56,  9.36s/it]"
     ]
    },
    {
     "name": "stdout",
     "output_type": "stream",
     "text": [
      "el actor George Gabriel no tiene más peliculas\n",
      "Este actor no tiene premios\n"
     ]
    },
    {
     "name": "stderr",
     "output_type": "stream",
     "text": [
      " 24%|██▍       | 189/784 [34:02<1:30:29,  9.13s/it]"
     ]
    },
    {
     "name": "stdout",
     "output_type": "stream",
     "text": [
      "el actor Steve Ballantine no tiene más peliculas\n",
      "Este actor no tiene premios\n"
     ]
    },
    {
     "name": "stderr",
     "output_type": "stream",
     "text": [
      " 24%|██▍       | 190/784 [34:11<1:29:21,  9.03s/it]"
     ]
    },
    {
     "name": "stdout",
     "output_type": "stream",
     "text": [
      "Este actor no tiene premios\n"
     ]
    },
    {
     "name": "stderr",
     "output_type": "stream",
     "text": [
      " 24%|██▍       | 191/784 [34:20<1:28:23,  8.94s/it]"
     ]
    },
    {
     "name": "stdout",
     "output_type": "stream",
     "text": [
      "El actor Edward Wylie no es conocido por nada más  \n",
      "el actor Edward Wylie no tiene más peliculas\n",
      "Este actor no tiene premios\n"
     ]
    },
    {
     "name": "stderr",
     "output_type": "stream",
     "text": [
      " 24%|██▍       | 192/784 [34:28<1:24:09,  8.53s/it]"
     ]
    },
    {
     "name": "stdout",
     "output_type": "stream",
     "text": [
      "Este actor no tiene premios\n"
     ]
    },
    {
     "name": "stderr",
     "output_type": "stream",
     "text": [
      " 25%|██▍       | 193/784 [34:37<1:25:16,  8.66s/it]"
     ]
    },
    {
     "name": "stdout",
     "output_type": "stream",
     "text": [
      "Entramos en los premios\n"
     ]
    },
    {
     "name": "stderr",
     "output_type": "stream",
     "text": [
      " 25%|██▍       | 194/784 [34:49<1:36:34,  9.82s/it]"
     ]
    },
    {
     "name": "stdout",
     "output_type": "stream",
     "text": [
      "Entramos en los premios\n"
     ]
    },
    {
     "name": "stderr",
     "output_type": "stream",
     "text": [
      " 25%|██▍       | 195/784 [35:03<1:49:18, 11.14s/it]"
     ]
    },
    {
     "name": "stdout",
     "output_type": "stream",
     "text": [
      "el actor Leanne Lau no tiene más peliculas\n"
     ]
    },
    {
     "name": "stderr",
     "output_type": "stream",
     "text": [
      " 25%|██▌       | 196/784 [35:13<1:45:32, 10.77s/it]"
     ]
    },
    {
     "name": "stdout",
     "output_type": "stream",
     "text": [
      "Entramos en los premios\n"
     ]
    },
    {
     "name": "stderr",
     "output_type": "stream",
     "text": [
      " 25%|██▌       | 197/784 [35:31<2:07:08, 13.00s/it]"
     ]
    },
    {
     "name": "stdout",
     "output_type": "stream",
     "text": [
      "el actor Ching-Ching Yeung no tiene más peliculas\n",
      "Este actor no tiene premios\n"
     ]
    },
    {
     "name": "stderr",
     "output_type": "stream",
     "text": [
      " 25%|██▌       | 198/784 [35:41<1:57:33, 12.04s/it]"
     ]
    },
    {
     "name": "stdout",
     "output_type": "stream",
     "text": [
      "el actor Szu-Chia Chen no tiene más peliculas\n",
      "Este actor no tiene premios\n"
     ]
    },
    {
     "name": "stderr",
     "output_type": "stream",
     "text": [
      " 25%|██▌       | 199/784 [35:50<1:46:32, 10.93s/it]"
     ]
    },
    {
     "name": "stdout",
     "output_type": "stream",
     "text": [
      "Este actor no tiene premios\n"
     ]
    },
    {
     "name": "stderr",
     "output_type": "stream",
     "text": [
      " 26%|██▌       | 202/784 [36:14<1:29:45,  9.25s/it]"
     ]
    },
    {
     "name": "stdout",
     "output_type": "stream",
     "text": [
      "Entramos en los premios\n"
     ]
    },
    {
     "name": "stderr",
     "output_type": "stream",
     "text": [
      " 26%|██▌       | 203/784 [36:35<2:03:05, 12.71s/it]"
     ]
    },
    {
     "name": "stdout",
     "output_type": "stream",
     "text": [
      "Entramos en los premios\n"
     ]
    },
    {
     "name": "stderr",
     "output_type": "stream",
     "text": [
      " 26%|██▌       | 204/784 [36:54<2:21:39, 14.65s/it]"
     ]
    },
    {
     "name": "stdout",
     "output_type": "stream",
     "text": [
      "El actor Jim Gaines no es conocido por nada más  \n",
      "el actor Jim Gaines no tiene más peliculas\n",
      "Este actor no tiene premios\n"
     ]
    },
    {
     "name": "stderr",
     "output_type": "stream",
     "text": [
      " 26%|██▌       | 205/784 [37:02<2:01:32, 12.59s/it]"
     ]
    },
    {
     "name": "stdout",
     "output_type": "stream",
     "text": [
      "Este actor no tiene premios\n"
     ]
    },
    {
     "name": "stderr",
     "output_type": "stream",
     "text": [
      " 26%|██▋       | 206/784 [37:12<1:54:07, 11.85s/it]"
     ]
    },
    {
     "name": "stdout",
     "output_type": "stream",
     "text": [
      "el actor Tetchie Agbayani no tiene más peliculas\n",
      "Entramos en los premios\n"
     ]
    },
    {
     "name": "stderr",
     "output_type": "stream",
     "text": [
      " 26%|██▋       | 207/784 [37:26<1:58:55, 12.37s/it]"
     ]
    },
    {
     "name": "stdout",
     "output_type": "stream",
     "text": [
      "Entramos en los premios\n"
     ]
    },
    {
     "name": "stderr",
     "output_type": "stream",
     "text": [
      " 27%|██▋       | 208/784 [37:39<2:02:17, 12.74s/it]"
     ]
    },
    {
     "name": "stdout",
     "output_type": "stream",
     "text": [
      "Entramos en los premios\n"
     ]
    },
    {
     "name": "stderr",
     "output_type": "stream",
     "text": [
      " 27%|██▋       | 209/784 [37:53<2:05:12, 13.07s/it]"
     ]
    },
    {
     "name": "stdout",
     "output_type": "stream",
     "text": [
      "Entramos en los premios\n"
     ]
    },
    {
     "name": "stderr",
     "output_type": "stream",
     "text": [
      " 27%|██▋       | 210/784 [38:06<2:04:15, 12.99s/it]"
     ]
    },
    {
     "name": "stdout",
     "output_type": "stream",
     "text": [
      "el actor Idy Chan no tiene más peliculas\n",
      "Este actor no tiene premios\n"
     ]
    },
    {
     "name": "stderr",
     "output_type": "stream",
     "text": [
      " 27%|██▋       | 211/784 [38:16<1:55:42, 12.12s/it]"
     ]
    },
    {
     "name": "stdout",
     "output_type": "stream",
     "text": [
      "Este actor no tiene premios\n"
     ]
    },
    {
     "name": "stderr",
     "output_type": "stream",
     "text": [
      " 27%|██▋       | 212/784 [38:25<1:46:11, 11.14s/it]"
     ]
    },
    {
     "name": "stdout",
     "output_type": "stream",
     "text": [
      "Este actor no tiene premios\n"
     ]
    },
    {
     "name": "stderr",
     "output_type": "stream",
     "text": [
      " 27%|██▋       | 213/784 [38:34<1:40:32, 10.57s/it]"
     ]
    },
    {
     "name": "stdout",
     "output_type": "stream",
     "text": [
      "Este actor no tiene premios\n"
     ]
    },
    {
     "name": "stderr",
     "output_type": "stream",
     "text": [
      " 27%|██▋       | 214/784 [38:43<1:35:18, 10.03s/it]"
     ]
    },
    {
     "name": "stdout",
     "output_type": "stream",
     "text": [
      "Este actor no tiene premios\n"
     ]
    },
    {
     "name": "stderr",
     "output_type": "stream",
     "text": [
      " 27%|██▋       | 215/784 [38:52<1:31:46,  9.68s/it]"
     ]
    },
    {
     "name": "stdout",
     "output_type": "stream",
     "text": [
      "Este actor no tiene premios\n"
     ]
    },
    {
     "name": "stderr",
     "output_type": "stream",
     "text": [
      " 28%|██▊       | 216/784 [39:00<1:28:25,  9.34s/it]"
     ]
    },
    {
     "name": "stdout",
     "output_type": "stream",
     "text": [
      "Entramos en los premios\n"
     ]
    },
    {
     "name": "stderr",
     "output_type": "stream",
     "text": [
      " 28%|██▊       | 217/784 [39:18<1:50:16, 11.67s/it]"
     ]
    },
    {
     "name": "stdout",
     "output_type": "stream",
     "text": [
      "el actor Jing-Jing Yung no tiene más peliculas\n",
      "Este actor no tiene premios\n"
     ]
    },
    {
     "name": "stderr",
     "output_type": "stream",
     "text": [
      " 28%|██▊       | 218/784 [39:27<1:44:08, 11.04s/it]"
     ]
    },
    {
     "name": "stdout",
     "output_type": "stream",
     "text": [
      "Este actor no tiene premios\n"
     ]
    },
    {
     "name": "stderr",
     "output_type": "stream",
     "text": [
      " 28%|██▊       | 219/784 [39:36<1:38:18, 10.44s/it]"
     ]
    },
    {
     "name": "stdout",
     "output_type": "stream",
     "text": [
      "el actor Ni Tien no tiene más peliculas\n",
      "Este actor no tiene premios\n"
     ]
    },
    {
     "name": "stderr",
     "output_type": "stream",
     "text": [
      " 28%|██▊       | 220/784 [39:47<1:40:25, 10.68s/it]"
     ]
    },
    {
     "name": "stdout",
     "output_type": "stream",
     "text": [
      "Este actor no tiene premios\n"
     ]
    },
    {
     "name": "stderr",
     "output_type": "stream",
     "text": [
      " 28%|██▊       | 221/784 [39:56<1:34:04, 10.03s/it]"
     ]
    },
    {
     "name": "stdout",
     "output_type": "stream",
     "text": [
      "Este actor no tiene premios\n"
     ]
    },
    {
     "name": "stderr",
     "output_type": "stream",
     "text": [
      " 28%|██▊       | 222/784 [40:05<1:30:59,  9.71s/it]"
     ]
    },
    {
     "name": "stdout",
     "output_type": "stream",
     "text": [
      "Este actor no tiene premios\n"
     ]
    },
    {
     "name": "stderr",
     "output_type": "stream",
     "text": [
      " 28%|██▊       | 223/784 [40:13<1:26:48,  9.28s/it]"
     ]
    },
    {
     "name": "stdout",
     "output_type": "stream",
     "text": [
      "Este actor no tiene premios\n"
     ]
    },
    {
     "name": "stderr",
     "output_type": "stream",
     "text": [
      " 29%|██▊       | 224/784 [40:21<1:23:48,  8.98s/it]"
     ]
    },
    {
     "name": "stdout",
     "output_type": "stream",
     "text": [
      "el actor Ju-Hua Pei no tiene más peliculas\n",
      "Este actor no tiene premios\n"
     ]
    },
    {
     "name": "stderr",
     "output_type": "stream",
     "text": [
      " 29%|██▊       | 225/784 [40:30<1:21:17,  8.73s/it]"
     ]
    },
    {
     "name": "stdout",
     "output_type": "stream",
     "text": [
      "Este actor no tiene premios\n"
     ]
    },
    {
     "name": "stderr",
     "output_type": "stream",
     "text": [
      " 29%|██▉       | 226/784 [40:39<1:22:22,  8.86s/it]"
     ]
    },
    {
     "name": "stdout",
     "output_type": "stream",
     "text": [
      "Este actor no tiene premios\n"
     ]
    },
    {
     "name": "stderr",
     "output_type": "stream",
     "text": [
      " 29%|██▉       | 227/784 [40:48<1:23:22,  8.98s/it]"
     ]
    },
    {
     "name": "stdout",
     "output_type": "stream",
     "text": [
      "Este actor no tiene premios\n"
     ]
    },
    {
     "name": "stderr",
     "output_type": "stream",
     "text": [
      " 29%|██▉       | 228/784 [40:59<1:29:20,  9.64s/it]"
     ]
    },
    {
     "name": "stdout",
     "output_type": "stream",
     "text": [
      "Entramos en los premios\n"
     ]
    },
    {
     "name": "stderr",
     "output_type": "stream",
     "text": [
      " 29%|██▉       | 229/784 [41:14<1:43:00, 11.14s/it]"
     ]
    },
    {
     "name": "stdout",
     "output_type": "stream",
     "text": [
      "Entramos en los premios\n"
     ]
    },
    {
     "name": "stderr",
     "output_type": "stream",
     "text": [
      " 29%|██▉       | 230/784 [41:31<1:58:20, 12.82s/it]"
     ]
    },
    {
     "name": "stdout",
     "output_type": "stream",
     "text": [
      "el actor Marie-France Pisier no tiene más peliculas\n",
      "Entramos en los premios\n"
     ]
    },
    {
     "name": "stderr",
     "output_type": "stream",
     "text": [
      " 29%|██▉       | 231/784 [41:49<2:14:10, 14.56s/it]"
     ]
    },
    {
     "name": "stdout",
     "output_type": "stream",
     "text": [
      "Entramos en los premios\n"
     ]
    },
    {
     "name": "stderr",
     "output_type": "stream",
     "text": [
      " 30%|██▉       | 232/784 [42:02<2:08:20, 13.95s/it]"
     ]
    },
    {
     "name": "stdout",
     "output_type": "stream",
     "text": [
      "Este actor no tiene premios\n"
     ]
    },
    {
     "name": "stderr",
     "output_type": "stream",
     "text": [
      " 30%|██▉       | 233/784 [42:11<1:55:57, 12.63s/it]"
     ]
    },
    {
     "name": "stdout",
     "output_type": "stream",
     "text": [
      "Entramos en los premios\n"
     ]
    },
    {
     "name": "stderr",
     "output_type": "stream",
     "text": [
      " 30%|██▉       | 234/784 [42:25<1:59:44, 13.06s/it]"
     ]
    },
    {
     "name": "stdout",
     "output_type": "stream",
     "text": [
      "Este actor no tiene premios\n"
     ]
    },
    {
     "name": "stderr",
     "output_type": "stream",
     "text": [
      " 30%|██▉       | 235/784 [42:36<1:52:34, 12.30s/it]"
     ]
    },
    {
     "name": "stdout",
     "output_type": "stream",
     "text": [
      "Este actor no tiene premios\n"
     ]
    },
    {
     "name": "stderr",
     "output_type": "stream",
     "text": [
      " 30%|███       | 236/784 [42:45<1:44:27, 11.44s/it]"
     ]
    },
    {
     "name": "stdout",
     "output_type": "stream",
     "text": [
      "el actor Pilar Alcón no tiene más peliculas\n",
      "Este actor no tiene premios\n"
     ]
    },
    {
     "name": "stderr",
     "output_type": "stream",
     "text": [
      " 30%|███       | 237/784 [42:54<1:35:33, 10.48s/it]"
     ]
    },
    {
     "name": "stdout",
     "output_type": "stream",
     "text": [
      "Este actor no tiene premios\n"
     ]
    },
    {
     "name": "stderr",
     "output_type": "stream",
     "text": [
      " 30%|███       | 238/784 [43:03<1:31:39, 10.07s/it]"
     ]
    },
    {
     "name": "stdout",
     "output_type": "stream",
     "text": [
      "Este actor no tiene premios\n"
     ]
    },
    {
     "name": "stderr",
     "output_type": "stream",
     "text": [
      " 30%|███       | 239/784 [43:11<1:26:55,  9.57s/it]"
     ]
    },
    {
     "name": "stdout",
     "output_type": "stream",
     "text": [
      "Este actor no tiene premios\n"
     ]
    },
    {
     "name": "stderr",
     "output_type": "stream",
     "text": [
      " 31%|███       | 240/784 [43:19<1:23:36,  9.22s/it]"
     ]
    },
    {
     "name": "stdout",
     "output_type": "stream",
     "text": [
      "Este actor no tiene premios\n"
     ]
    },
    {
     "name": "stderr",
     "output_type": "stream",
     "text": [
      " 31%|███       | 241/784 [43:28<1:22:28,  9.11s/it]"
     ]
    },
    {
     "name": "stdout",
     "output_type": "stream",
     "text": [
      "Este actor no tiene premios\n"
     ]
    },
    {
     "name": "stderr",
     "output_type": "stream",
     "text": [
      " 31%|███       | 242/784 [43:37<1:21:02,  8.97s/it]"
     ]
    },
    {
     "name": "stdout",
     "output_type": "stream",
     "text": [
      "el actor Rocío Freixas no tiene más peliculas\n",
      "Este actor no tiene premios\n"
     ]
    },
    {
     "name": "stderr",
     "output_type": "stream",
     "text": [
      " 31%|███       | 243/784 [43:45<1:19:12,  8.78s/it]"
     ]
    },
    {
     "name": "stdout",
     "output_type": "stream",
     "text": [
      "Este actor no tiene premios\n"
     ]
    },
    {
     "name": "stderr",
     "output_type": "stream",
     "text": [
      " 31%|███       | 244/784 [43:56<1:23:58,  9.33s/it]"
     ]
    },
    {
     "name": "stdout",
     "output_type": "stream",
     "text": [
      "Entramos en los premios\n"
     ]
    },
    {
     "name": "stderr",
     "output_type": "stream",
     "text": [
      " 31%|███▏      | 245/784 [44:11<1:39:11, 11.04s/it]"
     ]
    },
    {
     "name": "stdout",
     "output_type": "stream",
     "text": [
      "Este actor no tiene premios\n"
     ]
    },
    {
     "name": "stderr",
     "output_type": "stream",
     "text": [
      " 31%|███▏      | 246/784 [44:22<1:38:11, 10.95s/it]"
     ]
    },
    {
     "name": "stdout",
     "output_type": "stream",
     "text": [
      "el actor Hai-Ling Chu no tiene más peliculas\n",
      "Este actor no tiene premios\n"
     ]
    },
    {
     "name": "stderr",
     "output_type": "stream",
     "text": [
      " 32%|███▏      | 247/784 [44:30<1:30:22, 10.10s/it]"
     ]
    },
    {
     "name": "stdout",
     "output_type": "stream",
     "text": [
      "Entramos en los premios\n"
     ]
    },
    {
     "name": "stderr",
     "output_type": "stream",
     "text": [
      " 32%|███▏      | 248/784 [44:49<1:54:31, 12.82s/it]"
     ]
    },
    {
     "name": "stdout",
     "output_type": "stream",
     "text": [
      "el actor Karin Mani no tiene más peliculas\n",
      "Este actor no tiene premios\n"
     ]
    },
    {
     "name": "stderr",
     "output_type": "stream",
     "text": [
      " 32%|███▏      | 249/784 [44:59<1:46:38, 11.96s/it]"
     ]
    },
    {
     "name": "stdout",
     "output_type": "stream",
     "text": [
      "Entramos en los premios\n"
     ]
    },
    {
     "name": "stderr",
     "output_type": "stream",
     "text": [
      " 32%|███▏      | 250/784 [45:16<2:00:59, 13.60s/it]"
     ]
    },
    {
     "name": "stdout",
     "output_type": "stream",
     "text": [
      "el actor Britt Helfer no tiene más peliculas\n",
      "Este actor no tiene premios\n"
     ]
    },
    {
     "name": "stderr",
     "output_type": "stream",
     "text": [
      " 32%|███▏      | 251/784 [45:29<1:57:08, 13.19s/it]"
     ]
    },
    {
     "name": "stdout",
     "output_type": "stream",
     "text": [
      "el actor Michael Wayne no tiene más peliculas\n",
      "Este actor no tiene premios\n"
     ]
    },
    {
     "name": "stderr",
     "output_type": "stream",
     "text": [
      " 32%|███▏      | 252/784 [45:37<1:45:29, 11.90s/it]"
     ]
    },
    {
     "name": "stdout",
     "output_type": "stream",
     "text": [
      "Este actor no tiene premios\n"
     ]
    },
    {
     "name": "stderr",
     "output_type": "stream",
     "text": [
      " 32%|███▏      | 253/784 [45:47<1:38:15, 11.10s/it]"
     ]
    },
    {
     "name": "stdout",
     "output_type": "stream",
     "text": [
      "el actor Jay Fisher no tiene más peliculas\n"
     ]
    },
    {
     "name": "stderr",
     "output_type": "stream",
     "text": [
      " 32%|███▏      | 254/784 [45:55<1:29:34, 10.14s/it]"
     ]
    },
    {
     "name": "stdout",
     "output_type": "stream",
     "text": [
      "El actor Claudia Decea no es conocido por nada más  \n",
      "el actor Claudia Decea no tiene más peliculas\n",
      "Este actor no tiene premios\n"
     ]
    },
    {
     "name": "stderr",
     "output_type": "stream",
     "text": [
      " 33%|███▎      | 255/784 [46:03<1:24:44,  9.61s/it]"
     ]
    },
    {
     "name": "stdout",
     "output_type": "stream",
     "text": [
      "Este actor no tiene premios\n"
     ]
    },
    {
     "name": "stderr",
     "output_type": "stream",
     "text": [
      " 33%|███▎      | 256/784 [46:12<1:22:13,  9.34s/it]"
     ]
    },
    {
     "name": "stdout",
     "output_type": "stream",
     "text": [
      "Este actor no tiene premios\n"
     ]
    },
    {
     "name": "stderr",
     "output_type": "stream",
     "text": [
      " 33%|███▎      | 257/784 [46:21<1:21:05,  9.23s/it]"
     ]
    },
    {
     "name": "stdout",
     "output_type": "stream",
     "text": [
      "Entramos en los premios\n"
     ]
    },
    {
     "name": "stderr",
     "output_type": "stream",
     "text": [
      " 33%|███▎      | 258/784 [46:35<1:35:27, 10.89s/it]"
     ]
    },
    {
     "name": "stdout",
     "output_type": "stream",
     "text": [
      "el actor Miou-Miou no tiene más peliculas\n",
      "Entramos en los premios\n"
     ]
    },
    {
     "name": "stderr",
     "output_type": "stream",
     "text": [
      " 33%|███▎      | 259/784 [46:49<1:43:31, 11.83s/it]"
     ]
    },
    {
     "name": "stdout",
     "output_type": "stream",
     "text": [
      "Entramos en los premios\n"
     ]
    },
    {
     "name": "stderr",
     "output_type": "stream",
     "text": [
      " 33%|███▎      | 260/784 [47:03<1:46:54, 12.24s/it]"
     ]
    },
    {
     "name": "stdout",
     "output_type": "stream",
     "text": [
      "Entramos en los premios\n"
     ]
    },
    {
     "name": "stderr",
     "output_type": "stream",
     "text": [
      " 33%|███▎      | 261/784 [47:17<1:52:54, 12.95s/it]"
     ]
    },
    {
     "name": "stdout",
     "output_type": "stream",
     "text": [
      "Entramos en los premios\n"
     ]
    },
    {
     "name": "stderr",
     "output_type": "stream",
     "text": [
      " 33%|███▎      | 262/784 [47:31<1:54:26, 13.15s/it]"
     ]
    },
    {
     "name": "stdout",
     "output_type": "stream",
     "text": [
      "el actor Bernadette Lafont no tiene más peliculas\n",
      "Entramos en los premios\n"
     ]
    },
    {
     "name": "stderr",
     "output_type": "stream",
     "text": [
      " 34%|███▎      | 263/784 [47:46<1:58:55, 13.70s/it]"
     ]
    },
    {
     "name": "stdout",
     "output_type": "stream",
     "text": [
      "el actor Grace de Capitani no tiene más peliculas\n",
      "Este actor no tiene premios\n"
     ]
    },
    {
     "name": "stderr",
     "output_type": "stream",
     "text": [
      " 34%|███▎      | 264/784 [47:55<1:46:52, 12.33s/it]"
     ]
    },
    {
     "name": "stdout",
     "output_type": "stream",
     "text": [
      "el actor Tina Louise no tiene más peliculas\n",
      "Entramos en los premios\n"
     ]
    },
    {
     "name": "stderr",
     "output_type": "stream",
     "text": [
      " 34%|███▍      | 265/784 [48:08<1:47:14, 12.40s/it]"
     ]
    },
    {
     "name": "stdout",
     "output_type": "stream",
     "text": [
      "Entramos en los premios\n"
     ]
    },
    {
     "name": "stderr",
     "output_type": "stream",
     "text": [
      " 34%|███▍      | 266/784 [48:23<1:55:37, 13.39s/it]"
     ]
    },
    {
     "name": "stdout",
     "output_type": "stream",
     "text": [
      "Entramos en los premios\n"
     ]
    },
    {
     "name": "stderr",
     "output_type": "stream",
     "text": [
      " 34%|███▍      | 267/784 [48:38<1:58:03, 13.70s/it]"
     ]
    },
    {
     "name": "stdout",
     "output_type": "stream",
     "text": [
      "Entramos en los premios\n"
     ]
    },
    {
     "name": "stderr",
     "output_type": "stream",
     "text": [
      " 34%|███▍      | 268/784 [48:51<1:57:26, 13.66s/it]"
     ]
    },
    {
     "name": "stdout",
     "output_type": "stream",
     "text": [
      "el actor Mimsy Farmer no tiene más peliculas\n",
      "Entramos en los premios\n"
     ]
    },
    {
     "name": "stderr",
     "output_type": "stream",
     "text": [
      " 34%|███▍      | 269/784 [49:04<1:55:41, 13.48s/it]"
     ]
    },
    {
     "name": "stdout",
     "output_type": "stream",
     "text": [
      "Este actor no tiene premios\n"
     ]
    },
    {
     "name": "stderr",
     "output_type": "stream",
     "text": [
      " 34%|███▍      | 270/784 [49:15<1:48:16, 12.64s/it]"
     ]
    },
    {
     "name": "stdout",
     "output_type": "stream",
     "text": [
      "Entramos en los premios\n"
     ]
    },
    {
     "name": "stderr",
     "output_type": "stream",
     "text": [
      " 35%|███▍      | 271/784 [49:29<1:52:41, 13.18s/it]"
     ]
    },
    {
     "name": "stdout",
     "output_type": "stream",
     "text": [
      "Este actor no tiene premios\n"
     ]
    },
    {
     "name": "stderr",
     "output_type": "stream",
     "text": [
      " 35%|███▍      | 272/784 [49:39<1:44:16, 12.22s/it]"
     ]
    },
    {
     "name": "stdout",
     "output_type": "stream",
     "text": [
      "Este actor no tiene premios\n"
     ]
    },
    {
     "name": "stderr",
     "output_type": "stream",
     "text": [
      " 35%|███▍      | 273/784 [49:49<1:36:24, 11.32s/it]"
     ]
    },
    {
     "name": "stdout",
     "output_type": "stream",
     "text": [
      "El actor Ross Hill no es conocido por nada más  \n",
      "el actor Ross Hill no tiene más peliculas\n",
      "Este actor no tiene premios\n"
     ]
    },
    {
     "name": "stderr",
     "output_type": "stream",
     "text": [
      " 35%|███▍      | 274/784 [49:59<1:33:44, 11.03s/it]"
     ]
    },
    {
     "name": "stdout",
     "output_type": "stream",
     "text": [
      "Entramos en los premios\n"
     ]
    },
    {
     "name": "stderr",
     "output_type": "stream",
     "text": [
      " 35%|███▌      | 275/784 [50:12<1:38:42, 11.64s/it]"
     ]
    },
    {
     "name": "stdout",
     "output_type": "stream",
     "text": [
      "el actor Marlène Jobert no tiene más peliculas\n",
      "Entramos en los premios\n"
     ]
    },
    {
     "name": "stderr",
     "output_type": "stream",
     "text": [
      " 35%|███▌      | 276/784 [50:26<1:44:24, 12.33s/it]"
     ]
    },
    {
     "name": "stdout",
     "output_type": "stream",
     "text": [
      "Entramos en los premios\n"
     ]
    },
    {
     "name": "stderr",
     "output_type": "stream",
     "text": [
      " 35%|███▌      | 277/784 [50:41<1:51:38, 13.21s/it]"
     ]
    },
    {
     "name": "stdout",
     "output_type": "stream",
     "text": [
      "Entramos en los premios\n"
     ]
    },
    {
     "name": "stderr",
     "output_type": "stream",
     "text": [
      " 35%|███▌      | 278/784 [50:55<1:52:12, 13.31s/it]"
     ]
    },
    {
     "name": "stdout",
     "output_type": "stream",
     "text": [
      "Entramos en los premios\n"
     ]
    },
    {
     "name": "stderr",
     "output_type": "stream",
     "text": [
      " 36%|███▌      | 279/784 [51:09<1:54:24, 13.59s/it]"
     ]
    },
    {
     "name": "stdout",
     "output_type": "stream",
     "text": [
      "el actor Agnès Garreau no tiene más peliculas\n",
      "Este actor no tiene premios\n"
     ]
    },
    {
     "name": "stderr",
     "output_type": "stream",
     "text": [
      " 36%|███▌      | 280/784 [51:19<1:44:46, 12.47s/it]"
     ]
    },
    {
     "name": "stdout",
     "output_type": "stream",
     "text": [
      "El actor Jerzy Mierzejewski no es conocido por nada más  \n",
      "el actor Jerzy Mierzejewski no tiene más peliculas\n",
      "Este actor no tiene premios\n"
     ]
    },
    {
     "name": "stderr",
     "output_type": "stream",
     "text": [
      " 36%|███▌      | 281/784 [51:27<1:34:13, 11.24s/it]"
     ]
    },
    {
     "name": "stdout",
     "output_type": "stream",
     "text": [
      "Entramos en los premios\n"
     ]
    },
    {
     "name": "stderr",
     "output_type": "stream",
     "text": [
      " 36%|███▌      | 282/784 [51:42<1:42:24, 12.24s/it]"
     ]
    },
    {
     "name": "stdout",
     "output_type": "stream",
     "text": [
      "el actor Alma Muriel no tiene más peliculas\n"
     ]
    },
    {
     "name": "stderr",
     "output_type": "stream",
     "text": [
      " 36%|███▌      | 283/784 [51:51<1:34:30, 11.32s/it]"
     ]
    },
    {
     "name": "stdout",
     "output_type": "stream",
     "text": [
      "Entramos en los premios\n"
     ]
    },
    {
     "name": "stderr",
     "output_type": "stream",
     "text": [
      " 36%|███▌      | 284/784 [52:05<1:41:03, 12.13s/it]"
     ]
    },
    {
     "name": "stdout",
     "output_type": "stream",
     "text": [
      "Entramos en los premios\n"
     ]
    },
    {
     "name": "stderr",
     "output_type": "stream",
     "text": [
      " 37%|███▋      | 287/784 [52:40<1:31:12, 11.01s/it]\n"
     ]
    },
    {
     "ename": "KeyboardInterrupt",
     "evalue": "",
     "output_type": "error",
     "traceback": [
      "\u001b[1;31m---------------------------------------------------------------------------\u001b[0m",
      "\u001b[1;31mKeyboardInterrupt\u001b[0m                         Traceback (most recent call last)",
      "Cell \u001b[1;32mIn[42], line 29\u001b[0m\n\u001b[0;32m     26\u001b[0m driver\u001b[38;5;241m.\u001b[39mfind_element(\u001b[38;5;124m'\u001b[39m\u001b[38;5;124mcss selector\u001b[39m\u001b[38;5;124m'\u001b[39m, \u001b[38;5;124m'\u001b[39m\u001b[38;5;124m#suggestion-search\u001b[39m\u001b[38;5;124m'\u001b[39m)\u001b[38;5;241m.\u001b[39msend_keys(actor, Keys\u001b[38;5;241m.\u001b[39mENTER)\n\u001b[0;32m     28\u001b[0m \u001b[38;5;66;03m# clickamos en la primera coincidencia\u001b[39;00m\n\u001b[1;32m---> 29\u001b[0m \u001b[43mdriver\u001b[49m\u001b[38;5;241;43m.\u001b[39;49m\u001b[43mfind_element\u001b[49m\u001b[43m(\u001b[49m\u001b[38;5;124;43m'\u001b[39;49m\u001b[38;5;124;43mcss selector\u001b[39;49m\u001b[38;5;124;43m'\u001b[39;49m\u001b[43m,\u001b[49m\u001b[43m \u001b[49m\u001b[38;5;124;43m'\u001b[39;49m\u001b[38;5;124;43m#__next > main > div.ipc-page-content-container.ipc-page-content-container--full.sc-e51f9d6d-0.Fmvqg > div.ipc-page-content-container.ipc-page-content-container--center > section > div > div.ipc-page-grid__item.ipc-page-grid__item--span-2 > section:nth-child(4) > div.sc-e8e4ce7-2.iXsuvN > ul > li:nth-child(1) > div.ipc-metadata-list-summary-item__c > div > a\u001b[39;49m\u001b[38;5;124;43m'\u001b[39;49m\u001b[43m)\u001b[49m\u001b[38;5;241;43m.\u001b[39;49m\u001b[43mclick\u001b[49m\u001b[43m(\u001b[49m\u001b[43m)\u001b[49m\n\u001b[0;32m     31\u001b[0m \u001b[38;5;66;03m# añadimos fecha nacimiento_actor\u001b[39;00m\n\u001b[0;32m     33\u001b[0m \u001b[38;5;28;01mtry\u001b[39;00m:\n",
      "File \u001b[1;32m~\\AppData\\Local\\Packages\\PythonSoftwareFoundation.Python.3.11_qbz5n2kfra8p0\\LocalCache\\local-packages\\Python311\\site-packages\\selenium\\webdriver\\remote\\webelement.py:94\u001b[0m, in \u001b[0;36mWebElement.click\u001b[1;34m(self)\u001b[0m\n\u001b[0;32m     92\u001b[0m \u001b[38;5;28;01mdef\u001b[39;00m \u001b[38;5;21mclick\u001b[39m(\u001b[38;5;28mself\u001b[39m) \u001b[38;5;241m-\u001b[39m\u001b[38;5;241m>\u001b[39m \u001b[38;5;28;01mNone\u001b[39;00m:\n\u001b[0;32m     93\u001b[0m \u001b[38;5;250m    \u001b[39m\u001b[38;5;124;03m\"\"\"Clicks the element.\"\"\"\u001b[39;00m\n\u001b[1;32m---> 94\u001b[0m     \u001b[38;5;28;43mself\u001b[39;49m\u001b[38;5;241;43m.\u001b[39;49m\u001b[43m_execute\u001b[49m\u001b[43m(\u001b[49m\u001b[43mCommand\u001b[49m\u001b[38;5;241;43m.\u001b[39;49m\u001b[43mCLICK_ELEMENT\u001b[49m\u001b[43m)\u001b[49m\n",
      "File \u001b[1;32m~\\AppData\\Local\\Packages\\PythonSoftwareFoundation.Python.3.11_qbz5n2kfra8p0\\LocalCache\\local-packages\\Python311\\site-packages\\selenium\\webdriver\\remote\\webelement.py:395\u001b[0m, in \u001b[0;36mWebElement._execute\u001b[1;34m(self, command, params)\u001b[0m\n\u001b[0;32m    393\u001b[0m     params \u001b[38;5;241m=\u001b[39m {}\n\u001b[0;32m    394\u001b[0m params[\u001b[38;5;124m\"\u001b[39m\u001b[38;5;124mid\u001b[39m\u001b[38;5;124m\"\u001b[39m] \u001b[38;5;241m=\u001b[39m \u001b[38;5;28mself\u001b[39m\u001b[38;5;241m.\u001b[39m_id\n\u001b[1;32m--> 395\u001b[0m \u001b[38;5;28;01mreturn\u001b[39;00m \u001b[38;5;28;43mself\u001b[39;49m\u001b[38;5;241;43m.\u001b[39;49m\u001b[43m_parent\u001b[49m\u001b[38;5;241;43m.\u001b[39;49m\u001b[43mexecute\u001b[49m\u001b[43m(\u001b[49m\u001b[43mcommand\u001b[49m\u001b[43m,\u001b[49m\u001b[43m \u001b[49m\u001b[43mparams\u001b[49m\u001b[43m)\u001b[49m\n",
      "File \u001b[1;32m~\\AppData\\Local\\Packages\\PythonSoftwareFoundation.Python.3.11_qbz5n2kfra8p0\\LocalCache\\local-packages\\Python311\\site-packages\\selenium\\webdriver\\remote\\webdriver.py:345\u001b[0m, in \u001b[0;36mWebDriver.execute\u001b[1;34m(self, driver_command, params)\u001b[0m\n\u001b[0;32m    342\u001b[0m     \u001b[38;5;28;01melif\u001b[39;00m \u001b[38;5;124m\"\u001b[39m\u001b[38;5;124msessionId\u001b[39m\u001b[38;5;124m\"\u001b[39m \u001b[38;5;129;01mnot\u001b[39;00m \u001b[38;5;129;01min\u001b[39;00m params:\n\u001b[0;32m    343\u001b[0m         params[\u001b[38;5;124m\"\u001b[39m\u001b[38;5;124msessionId\u001b[39m\u001b[38;5;124m\"\u001b[39m] \u001b[38;5;241m=\u001b[39m \u001b[38;5;28mself\u001b[39m\u001b[38;5;241m.\u001b[39msession_id\n\u001b[1;32m--> 345\u001b[0m response \u001b[38;5;241m=\u001b[39m \u001b[38;5;28;43mself\u001b[39;49m\u001b[38;5;241;43m.\u001b[39;49m\u001b[43mcommand_executor\u001b[49m\u001b[38;5;241;43m.\u001b[39;49m\u001b[43mexecute\u001b[49m\u001b[43m(\u001b[49m\u001b[43mdriver_command\u001b[49m\u001b[43m,\u001b[49m\u001b[43m \u001b[49m\u001b[43mparams\u001b[49m\u001b[43m)\u001b[49m\n\u001b[0;32m    346\u001b[0m \u001b[38;5;28;01mif\u001b[39;00m response:\n\u001b[0;32m    347\u001b[0m     \u001b[38;5;28mself\u001b[39m\u001b[38;5;241m.\u001b[39merror_handler\u001b[38;5;241m.\u001b[39mcheck_response(response)\n",
      "File \u001b[1;32m~\\AppData\\Local\\Packages\\PythonSoftwareFoundation.Python.3.11_qbz5n2kfra8p0\\LocalCache\\local-packages\\Python311\\site-packages\\selenium\\webdriver\\remote\\remote_connection.py:302\u001b[0m, in \u001b[0;36mRemoteConnection.execute\u001b[1;34m(self, command, params)\u001b[0m\n\u001b[0;32m    300\u001b[0m trimmed \u001b[38;5;241m=\u001b[39m \u001b[38;5;28mself\u001b[39m\u001b[38;5;241m.\u001b[39m_trim_large_entries(params)\n\u001b[0;32m    301\u001b[0m LOGGER\u001b[38;5;241m.\u001b[39mdebug(\u001b[38;5;124m\"\u001b[39m\u001b[38;5;132;01m%s\u001b[39;00m\u001b[38;5;124m \u001b[39m\u001b[38;5;132;01m%s\u001b[39;00m\u001b[38;5;124m \u001b[39m\u001b[38;5;132;01m%s\u001b[39;00m\u001b[38;5;124m\"\u001b[39m, command_info[\u001b[38;5;241m0\u001b[39m], url, \u001b[38;5;28mstr\u001b[39m(trimmed))\n\u001b[1;32m--> 302\u001b[0m \u001b[38;5;28;01mreturn\u001b[39;00m \u001b[38;5;28;43mself\u001b[39;49m\u001b[38;5;241;43m.\u001b[39;49m\u001b[43m_request\u001b[49m\u001b[43m(\u001b[49m\u001b[43mcommand_info\u001b[49m\u001b[43m[\u001b[49m\u001b[38;5;241;43m0\u001b[39;49m\u001b[43m]\u001b[49m\u001b[43m,\u001b[49m\u001b[43m \u001b[49m\u001b[43murl\u001b[49m\u001b[43m,\u001b[49m\u001b[43m \u001b[49m\u001b[43mbody\u001b[49m\u001b[38;5;241;43m=\u001b[39;49m\u001b[43mdata\u001b[49m\u001b[43m)\u001b[49m\n",
      "File \u001b[1;32m~\\AppData\\Local\\Packages\\PythonSoftwareFoundation.Python.3.11_qbz5n2kfra8p0\\LocalCache\\local-packages\\Python311\\site-packages\\selenium\\webdriver\\remote\\remote_connection.py:322\u001b[0m, in \u001b[0;36mRemoteConnection._request\u001b[1;34m(self, method, url, body)\u001b[0m\n\u001b[0;32m    319\u001b[0m     body \u001b[38;5;241m=\u001b[39m \u001b[38;5;28;01mNone\u001b[39;00m\n\u001b[0;32m    321\u001b[0m \u001b[38;5;28;01mif\u001b[39;00m \u001b[38;5;28mself\u001b[39m\u001b[38;5;241m.\u001b[39mkeep_alive:\n\u001b[1;32m--> 322\u001b[0m     response \u001b[38;5;241m=\u001b[39m \u001b[38;5;28;43mself\u001b[39;49m\u001b[38;5;241;43m.\u001b[39;49m\u001b[43m_conn\u001b[49m\u001b[38;5;241;43m.\u001b[39;49m\u001b[43mrequest\u001b[49m\u001b[43m(\u001b[49m\u001b[43mmethod\u001b[49m\u001b[43m,\u001b[49m\u001b[43m \u001b[49m\u001b[43murl\u001b[49m\u001b[43m,\u001b[49m\u001b[43m \u001b[49m\u001b[43mbody\u001b[49m\u001b[38;5;241;43m=\u001b[39;49m\u001b[43mbody\u001b[49m\u001b[43m,\u001b[49m\u001b[43m \u001b[49m\u001b[43mheaders\u001b[49m\u001b[38;5;241;43m=\u001b[39;49m\u001b[43mheaders\u001b[49m\u001b[43m)\u001b[49m\n\u001b[0;32m    323\u001b[0m     statuscode \u001b[38;5;241m=\u001b[39m response\u001b[38;5;241m.\u001b[39mstatus\n\u001b[0;32m    324\u001b[0m \u001b[38;5;28;01melse\u001b[39;00m:\n",
      "File \u001b[1;32m~\\AppData\\Local\\Packages\\PythonSoftwareFoundation.Python.3.11_qbz5n2kfra8p0\\LocalCache\\local-packages\\Python311\\site-packages\\urllib3\\_request_methods.py:144\u001b[0m, in \u001b[0;36mRequestMethods.request\u001b[1;34m(self, method, url, body, fields, headers, json, **urlopen_kw)\u001b[0m\n\u001b[0;32m    136\u001b[0m     \u001b[38;5;28;01mreturn\u001b[39;00m \u001b[38;5;28mself\u001b[39m\u001b[38;5;241m.\u001b[39mrequest_encode_url(\n\u001b[0;32m    137\u001b[0m         method,\n\u001b[0;32m    138\u001b[0m         url,\n\u001b[1;32m   (...)\u001b[0m\n\u001b[0;32m    141\u001b[0m         \u001b[38;5;241m*\u001b[39m\u001b[38;5;241m*\u001b[39murlopen_kw,\n\u001b[0;32m    142\u001b[0m     )\n\u001b[0;32m    143\u001b[0m \u001b[38;5;28;01melse\u001b[39;00m:\n\u001b[1;32m--> 144\u001b[0m     \u001b[38;5;28;01mreturn\u001b[39;00m \u001b[38;5;28;43mself\u001b[39;49m\u001b[38;5;241;43m.\u001b[39;49m\u001b[43mrequest_encode_body\u001b[49m\u001b[43m(\u001b[49m\n\u001b[0;32m    145\u001b[0m \u001b[43m        \u001b[49m\u001b[43mmethod\u001b[49m\u001b[43m,\u001b[49m\u001b[43m \u001b[49m\u001b[43murl\u001b[49m\u001b[43m,\u001b[49m\u001b[43m \u001b[49m\u001b[43mfields\u001b[49m\u001b[38;5;241;43m=\u001b[39;49m\u001b[43mfields\u001b[49m\u001b[43m,\u001b[49m\u001b[43m \u001b[49m\u001b[43mheaders\u001b[49m\u001b[38;5;241;43m=\u001b[39;49m\u001b[43mheaders\u001b[49m\u001b[43m,\u001b[49m\u001b[43m \u001b[49m\u001b[38;5;241;43m*\u001b[39;49m\u001b[38;5;241;43m*\u001b[39;49m\u001b[43murlopen_kw\u001b[49m\n\u001b[0;32m    146\u001b[0m \u001b[43m    \u001b[49m\u001b[43m)\u001b[49m\n",
      "File \u001b[1;32m~\\AppData\\Local\\Packages\\PythonSoftwareFoundation.Python.3.11_qbz5n2kfra8p0\\LocalCache\\local-packages\\Python311\\site-packages\\urllib3\\_request_methods.py:279\u001b[0m, in \u001b[0;36mRequestMethods.request_encode_body\u001b[1;34m(self, method, url, fields, headers, encode_multipart, multipart_boundary, **urlopen_kw)\u001b[0m\n\u001b[0;32m    275\u001b[0m     extra_kw[\u001b[38;5;124m\"\u001b[39m\u001b[38;5;124mheaders\u001b[39m\u001b[38;5;124m\"\u001b[39m]\u001b[38;5;241m.\u001b[39msetdefault(\u001b[38;5;124m\"\u001b[39m\u001b[38;5;124mContent-Type\u001b[39m\u001b[38;5;124m\"\u001b[39m, content_type)\n\u001b[0;32m    277\u001b[0m extra_kw\u001b[38;5;241m.\u001b[39mupdate(urlopen_kw)\n\u001b[1;32m--> 279\u001b[0m \u001b[38;5;28;01mreturn\u001b[39;00m \u001b[38;5;28;43mself\u001b[39;49m\u001b[38;5;241;43m.\u001b[39;49m\u001b[43murlopen\u001b[49m\u001b[43m(\u001b[49m\u001b[43mmethod\u001b[49m\u001b[43m,\u001b[49m\u001b[43m \u001b[49m\u001b[43murl\u001b[49m\u001b[43m,\u001b[49m\u001b[43m \u001b[49m\u001b[38;5;241;43m*\u001b[39;49m\u001b[38;5;241;43m*\u001b[39;49m\u001b[43mextra_kw\u001b[49m\u001b[43m)\u001b[49m\n",
      "File \u001b[1;32m~\\AppData\\Local\\Packages\\PythonSoftwareFoundation.Python.3.11_qbz5n2kfra8p0\\LocalCache\\local-packages\\Python311\\site-packages\\urllib3\\poolmanager.py:444\u001b[0m, in \u001b[0;36mPoolManager.urlopen\u001b[1;34m(self, method, url, redirect, **kw)\u001b[0m\n\u001b[0;32m    442\u001b[0m     response \u001b[38;5;241m=\u001b[39m conn\u001b[38;5;241m.\u001b[39murlopen(method, url, \u001b[38;5;241m*\u001b[39m\u001b[38;5;241m*\u001b[39mkw)\n\u001b[0;32m    443\u001b[0m \u001b[38;5;28;01melse\u001b[39;00m:\n\u001b[1;32m--> 444\u001b[0m     response \u001b[38;5;241m=\u001b[39m \u001b[43mconn\u001b[49m\u001b[38;5;241;43m.\u001b[39;49m\u001b[43murlopen\u001b[49m\u001b[43m(\u001b[49m\u001b[43mmethod\u001b[49m\u001b[43m,\u001b[49m\u001b[43m \u001b[49m\u001b[43mu\u001b[49m\u001b[38;5;241;43m.\u001b[39;49m\u001b[43mrequest_uri\u001b[49m\u001b[43m,\u001b[49m\u001b[43m \u001b[49m\u001b[38;5;241;43m*\u001b[39;49m\u001b[38;5;241;43m*\u001b[39;49m\u001b[43mkw\u001b[49m\u001b[43m)\u001b[49m\n\u001b[0;32m    446\u001b[0m redirect_location \u001b[38;5;241m=\u001b[39m redirect \u001b[38;5;129;01mand\u001b[39;00m response\u001b[38;5;241m.\u001b[39mget_redirect_location()\n\u001b[0;32m    447\u001b[0m \u001b[38;5;28;01mif\u001b[39;00m \u001b[38;5;129;01mnot\u001b[39;00m redirect_location:\n",
      "File \u001b[1;32m~\\AppData\\Local\\Packages\\PythonSoftwareFoundation.Python.3.11_qbz5n2kfra8p0\\LocalCache\\local-packages\\Python311\\site-packages\\urllib3\\connectionpool.py:793\u001b[0m, in \u001b[0;36mHTTPConnectionPool.urlopen\u001b[1;34m(self, method, url, body, headers, retries, redirect, assert_same_host, timeout, pool_timeout, release_conn, chunked, body_pos, preload_content, decode_content, **response_kw)\u001b[0m\n\u001b[0;32m    790\u001b[0m response_conn \u001b[38;5;241m=\u001b[39m conn \u001b[38;5;28;01mif\u001b[39;00m \u001b[38;5;129;01mnot\u001b[39;00m release_conn \u001b[38;5;28;01melse\u001b[39;00m \u001b[38;5;28;01mNone\u001b[39;00m\n\u001b[0;32m    792\u001b[0m \u001b[38;5;66;03m# Make the request on the HTTPConnection object\u001b[39;00m\n\u001b[1;32m--> 793\u001b[0m response \u001b[38;5;241m=\u001b[39m \u001b[38;5;28;43mself\u001b[39;49m\u001b[38;5;241;43m.\u001b[39;49m\u001b[43m_make_request\u001b[49m\u001b[43m(\u001b[49m\n\u001b[0;32m    794\u001b[0m \u001b[43m    \u001b[49m\u001b[43mconn\u001b[49m\u001b[43m,\u001b[49m\n\u001b[0;32m    795\u001b[0m \u001b[43m    \u001b[49m\u001b[43mmethod\u001b[49m\u001b[43m,\u001b[49m\n\u001b[0;32m    796\u001b[0m \u001b[43m    \u001b[49m\u001b[43murl\u001b[49m\u001b[43m,\u001b[49m\n\u001b[0;32m    797\u001b[0m \u001b[43m    \u001b[49m\u001b[43mtimeout\u001b[49m\u001b[38;5;241;43m=\u001b[39;49m\u001b[43mtimeout_obj\u001b[49m\u001b[43m,\u001b[49m\n\u001b[0;32m    798\u001b[0m \u001b[43m    \u001b[49m\u001b[43mbody\u001b[49m\u001b[38;5;241;43m=\u001b[39;49m\u001b[43mbody\u001b[49m\u001b[43m,\u001b[49m\n\u001b[0;32m    799\u001b[0m \u001b[43m    \u001b[49m\u001b[43mheaders\u001b[49m\u001b[38;5;241;43m=\u001b[39;49m\u001b[43mheaders\u001b[49m\u001b[43m,\u001b[49m\n\u001b[0;32m    800\u001b[0m \u001b[43m    \u001b[49m\u001b[43mchunked\u001b[49m\u001b[38;5;241;43m=\u001b[39;49m\u001b[43mchunked\u001b[49m\u001b[43m,\u001b[49m\n\u001b[0;32m    801\u001b[0m \u001b[43m    \u001b[49m\u001b[43mretries\u001b[49m\u001b[38;5;241;43m=\u001b[39;49m\u001b[43mretries\u001b[49m\u001b[43m,\u001b[49m\n\u001b[0;32m    802\u001b[0m \u001b[43m    \u001b[49m\u001b[43mresponse_conn\u001b[49m\u001b[38;5;241;43m=\u001b[39;49m\u001b[43mresponse_conn\u001b[49m\u001b[43m,\u001b[49m\n\u001b[0;32m    803\u001b[0m \u001b[43m    \u001b[49m\u001b[43mpreload_content\u001b[49m\u001b[38;5;241;43m=\u001b[39;49m\u001b[43mpreload_content\u001b[49m\u001b[43m,\u001b[49m\n\u001b[0;32m    804\u001b[0m \u001b[43m    \u001b[49m\u001b[43mdecode_content\u001b[49m\u001b[38;5;241;43m=\u001b[39;49m\u001b[43mdecode_content\u001b[49m\u001b[43m,\u001b[49m\n\u001b[0;32m    805\u001b[0m \u001b[43m    \u001b[49m\u001b[38;5;241;43m*\u001b[39;49m\u001b[38;5;241;43m*\u001b[39;49m\u001b[43mresponse_kw\u001b[49m\u001b[43m,\u001b[49m\n\u001b[0;32m    806\u001b[0m \u001b[43m\u001b[49m\u001b[43m)\u001b[49m\n\u001b[0;32m    808\u001b[0m \u001b[38;5;66;03m# Everything went great!\u001b[39;00m\n\u001b[0;32m    809\u001b[0m clean_exit \u001b[38;5;241m=\u001b[39m \u001b[38;5;28;01mTrue\u001b[39;00m\n",
      "File \u001b[1;32m~\\AppData\\Local\\Packages\\PythonSoftwareFoundation.Python.3.11_qbz5n2kfra8p0\\LocalCache\\local-packages\\Python311\\site-packages\\urllib3\\connectionpool.py:537\u001b[0m, in \u001b[0;36mHTTPConnectionPool._make_request\u001b[1;34m(self, conn, method, url, body, headers, retries, timeout, chunked, response_conn, preload_content, decode_content, enforce_content_length)\u001b[0m\n\u001b[0;32m    535\u001b[0m \u001b[38;5;66;03m# Receive the response from the server\u001b[39;00m\n\u001b[0;32m    536\u001b[0m \u001b[38;5;28;01mtry\u001b[39;00m:\n\u001b[1;32m--> 537\u001b[0m     response \u001b[38;5;241m=\u001b[39m \u001b[43mconn\u001b[49m\u001b[38;5;241;43m.\u001b[39;49m\u001b[43mgetresponse\u001b[49m\u001b[43m(\u001b[49m\u001b[43m)\u001b[49m\n\u001b[0;32m    538\u001b[0m \u001b[38;5;28;01mexcept\u001b[39;00m (BaseSSLError, \u001b[38;5;167;01mOSError\u001b[39;00m) \u001b[38;5;28;01mas\u001b[39;00m e:\n\u001b[0;32m    539\u001b[0m     \u001b[38;5;28mself\u001b[39m\u001b[38;5;241m.\u001b[39m_raise_timeout(err\u001b[38;5;241m=\u001b[39me, url\u001b[38;5;241m=\u001b[39murl, timeout_value\u001b[38;5;241m=\u001b[39mread_timeout)\n",
      "File \u001b[1;32m~\\AppData\\Local\\Packages\\PythonSoftwareFoundation.Python.3.11_qbz5n2kfra8p0\\LocalCache\\local-packages\\Python311\\site-packages\\urllib3\\connection.py:466\u001b[0m, in \u001b[0;36mHTTPConnection.getresponse\u001b[1;34m(self)\u001b[0m\n\u001b[0;32m    463\u001b[0m \u001b[38;5;28;01mfrom\u001b[39;00m \u001b[38;5;21;01m.\u001b[39;00m\u001b[38;5;21;01mresponse\u001b[39;00m \u001b[38;5;28;01mimport\u001b[39;00m HTTPResponse\n\u001b[0;32m    465\u001b[0m \u001b[38;5;66;03m# Get the response from http.client.HTTPConnection\u001b[39;00m\n\u001b[1;32m--> 466\u001b[0m httplib_response \u001b[38;5;241m=\u001b[39m \u001b[38;5;28;43msuper\u001b[39;49m\u001b[43m(\u001b[49m\u001b[43m)\u001b[49m\u001b[38;5;241;43m.\u001b[39;49m\u001b[43mgetresponse\u001b[49m\u001b[43m(\u001b[49m\u001b[43m)\u001b[49m\n\u001b[0;32m    468\u001b[0m \u001b[38;5;28;01mtry\u001b[39;00m:\n\u001b[0;32m    469\u001b[0m     assert_header_parsing(httplib_response\u001b[38;5;241m.\u001b[39mmsg)\n",
      "File \u001b[1;32mC:\\Program Files\\WindowsApps\\PythonSoftwareFoundation.Python.3.11_3.11.2544.0_x64__qbz5n2kfra8p0\\Lib\\http\\client.py:1395\u001b[0m, in \u001b[0;36mHTTPConnection.getresponse\u001b[1;34m(self)\u001b[0m\n\u001b[0;32m   1393\u001b[0m \u001b[38;5;28;01mtry\u001b[39;00m:\n\u001b[0;32m   1394\u001b[0m     \u001b[38;5;28;01mtry\u001b[39;00m:\n\u001b[1;32m-> 1395\u001b[0m         \u001b[43mresponse\u001b[49m\u001b[38;5;241;43m.\u001b[39;49m\u001b[43mbegin\u001b[49m\u001b[43m(\u001b[49m\u001b[43m)\u001b[49m\n\u001b[0;32m   1396\u001b[0m     \u001b[38;5;28;01mexcept\u001b[39;00m \u001b[38;5;167;01mConnectionError\u001b[39;00m:\n\u001b[0;32m   1397\u001b[0m         \u001b[38;5;28mself\u001b[39m\u001b[38;5;241m.\u001b[39mclose()\n",
      "File \u001b[1;32mC:\\Program Files\\WindowsApps\\PythonSoftwareFoundation.Python.3.11_3.11.2544.0_x64__qbz5n2kfra8p0\\Lib\\http\\client.py:325\u001b[0m, in \u001b[0;36mHTTPResponse.begin\u001b[1;34m(self)\u001b[0m\n\u001b[0;32m    323\u001b[0m \u001b[38;5;66;03m# read until we get a non-100 response\u001b[39;00m\n\u001b[0;32m    324\u001b[0m \u001b[38;5;28;01mwhile\u001b[39;00m \u001b[38;5;28;01mTrue\u001b[39;00m:\n\u001b[1;32m--> 325\u001b[0m     version, status, reason \u001b[38;5;241m=\u001b[39m \u001b[38;5;28;43mself\u001b[39;49m\u001b[38;5;241;43m.\u001b[39;49m\u001b[43m_read_status\u001b[49m\u001b[43m(\u001b[49m\u001b[43m)\u001b[49m\n\u001b[0;32m    326\u001b[0m     \u001b[38;5;28;01mif\u001b[39;00m status \u001b[38;5;241m!=\u001b[39m CONTINUE:\n\u001b[0;32m    327\u001b[0m         \u001b[38;5;28;01mbreak\u001b[39;00m\n",
      "File \u001b[1;32mC:\\Program Files\\WindowsApps\\PythonSoftwareFoundation.Python.3.11_3.11.2544.0_x64__qbz5n2kfra8p0\\Lib\\http\\client.py:286\u001b[0m, in \u001b[0;36mHTTPResponse._read_status\u001b[1;34m(self)\u001b[0m\n\u001b[0;32m    285\u001b[0m \u001b[38;5;28;01mdef\u001b[39;00m \u001b[38;5;21m_read_status\u001b[39m(\u001b[38;5;28mself\u001b[39m):\n\u001b[1;32m--> 286\u001b[0m     line \u001b[38;5;241m=\u001b[39m \u001b[38;5;28mstr\u001b[39m(\u001b[38;5;28mself\u001b[39m\u001b[38;5;241m.\u001b[39mfp\u001b[38;5;241m.\u001b[39mreadline(_MAXLINE \u001b[38;5;241m+\u001b[39m \u001b[38;5;241m1\u001b[39m), \u001b[38;5;124m\"\u001b[39m\u001b[38;5;124miso-8859-1\u001b[39m\u001b[38;5;124m\"\u001b[39m)\n\u001b[0;32m    287\u001b[0m     \u001b[38;5;28;01mif\u001b[39;00m \u001b[38;5;28mlen\u001b[39m(line) \u001b[38;5;241m>\u001b[39m _MAXLINE:\n\u001b[0;32m    288\u001b[0m         \u001b[38;5;28;01mraise\u001b[39;00m LineTooLong(\u001b[38;5;124m\"\u001b[39m\u001b[38;5;124mstatus line\u001b[39m\u001b[38;5;124m\"\u001b[39m)\n",
      "File \u001b[1;32mC:\\Program Files\\WindowsApps\\PythonSoftwareFoundation.Python.3.11_3.11.2544.0_x64__qbz5n2kfra8p0\\Lib\\socket.py:706\u001b[0m, in \u001b[0;36mSocketIO.readinto\u001b[1;34m(self, b)\u001b[0m\n\u001b[0;32m    704\u001b[0m \u001b[38;5;28;01mwhile\u001b[39;00m \u001b[38;5;28;01mTrue\u001b[39;00m:\n\u001b[0;32m    705\u001b[0m     \u001b[38;5;28;01mtry\u001b[39;00m:\n\u001b[1;32m--> 706\u001b[0m         \u001b[38;5;28;01mreturn\u001b[39;00m \u001b[38;5;28;43mself\u001b[39;49m\u001b[38;5;241;43m.\u001b[39;49m\u001b[43m_sock\u001b[49m\u001b[38;5;241;43m.\u001b[39;49m\u001b[43mrecv_into\u001b[49m\u001b[43m(\u001b[49m\u001b[43mb\u001b[49m\u001b[43m)\u001b[49m\n\u001b[0;32m    707\u001b[0m     \u001b[38;5;28;01mexcept\u001b[39;00m timeout:\n\u001b[0;32m    708\u001b[0m         \u001b[38;5;28mself\u001b[39m\u001b[38;5;241m.\u001b[39m_timeout_occurred \u001b[38;5;241m=\u001b[39m \u001b[38;5;28;01mTrue\u001b[39;00m\n",
      "\u001b[1;31mKeyboardInterrupt\u001b[0m: "
     ]
    }
   ],
   "source": [
    "driver = webdriver.Chrome()\n",
    "\n",
    "driver.get('https://www.imdb.com/')\n",
    "\n",
    "driver.maximize_window()\n",
    "\n",
    "sleep (5)\n",
    "\n",
    "#Cookies\n",
    "driver.find_element('css selector', '#__next > div > div > div.sc-jrcTuL.bPmWiM > div > button.icb-btn.sc-bcXHqe.sc-dkrFOg.sc-iBYQkv.dcvrLS.ddtuHe.dRCGjd').click()\n",
    "\n",
    "sleep(2)\n",
    "\n",
    "nacimiento = []\n",
    "premios_actor = []\n",
    "conocido = []\n",
    "pelis = []\n",
    "\n",
    "\n",
    "for actor in tqdm(list_all_actors):\n",
    "    conocido_por = []\n",
    "    ganados = []\n",
    "    nominaciones = []\n",
    "    peliculas = []\n",
    "    # buscamos al actor\n",
    "    driver.find_element('css selector', '#suggestion-search').send_keys(actor, Keys.ENTER)\n",
    "    \n",
    "    # clickamos en la primera coincidencia\n",
    "    driver.find_element('css selector', '#__next > main > div.ipc-page-content-container.ipc-page-content-container--full.sc-e51f9d6d-0.Fmvqg > div.ipc-page-content-container.ipc-page-content-container--center > section > div > div.ipc-page-grid__item.ipc-page-grid__item--span-2 > section:nth-child(4) > div.sc-e8e4ce7-2.iXsuvN > ul > li:nth-child(1) > div.ipc-metadata-list-summary-item__c > div > a').click()\n",
    "    \n",
    "    # añadimos fecha nacimiento_actor\n",
    "    \n",
    "    try:\n",
    "        nacimiento.append(driver.find_element('xpath', '//*[@id=\"__next\"]/main/div/section[1]/section/div[3]/section/section/div[3]/div/div[2]/section/aside/div/span[2]').text)\n",
    "    \n",
    "    except:\n",
    "        nacimiento.append(None)  \n",
    "    \n",
    "    try: \n",
    "        for elemento in range (1,5):\n",
    "            \n",
    "            conocido_por.append(driver.find_element('css selector', f'#__next > main > div > section.ipc-page-background.ipc-page-background--base.sc-c41b9732-0.NeSef > div > section > div > div.sc-978e9339-1.ihWZgK.ipc-page-grid__item.ipc-page-grid__item--span-2 > div.celwidget > section:nth-child(1) > div.sc-1c5b3162-0.fFgRFS > div > div.ipc-sub-grid.ipc-sub-grid--page-span-2.ipc-sub-grid--wraps-at-above-l.ipc-shoveler__grid > div:nth-child({elemento}) > div.ipc-primary-image-list-card__content > div.ipc-primary-image-list-card__content-top > a').text)\n",
    "\n",
    "        conocido.append(tuple(conocido_por))\n",
    "    except:\n",
    "        print(f\"El actor {actor} no es conocido por nada más  \")\n",
    "    \n",
    "    # añadimos lista 10 peliculas en las que ha participado\n",
    "    \n",
    "    try: \n",
    "        \n",
    "        for peli in range(1,10):\n",
    "            \n",
    "            try:\n",
    "        \n",
    "            peliculas.append(driver.find_element('xpath', f'#accordion-item-actor-previous-projects > div > ul > li:nth-child({peli}) > div.ipc-metadata-list-summary-item__c > div.ipc-metadata-list-summary-item__tc > a').text)\n",
    "        \n",
    "        pelis.append(tuple(peliculas))\n",
    "        \n",
    "    except: \n",
    "        try:\n",
    "            peliculas.append(driver.find_element('xpath', '//*[@id=\"accordion-item-actor-previous-projects\"]/div/ul/li[1]/div[2]/div[1]/a').text)\n",
    "                                                           //*[@id=\"accordion-item-actor-previous-projects\"]/div/ul/li[2]/div[2]/div[1]/a\n",
    "\n",
    "        except:\n",
    "            print(f\"el actor {actor} no tiene más peliculas\")\n",
    "        \n",
    "    # accedemos a premios\n",
    "    \n",
    "    try:\n",
    "        driver.find_element('css selector', '#__next > main > div > section.ipc-page-background.ipc-page-background--base.sc-c41b9732-0.NeSef > div > section > div > div.sc-978e9339-1.ihWZgK.ipc-page-grid__item.ipc-page-grid__item--span-2 > section:nth-child(3) > div > ul > li > div').click()\n",
    "    \n",
    "    except:\n",
    "        try: # hago el try dos veces porque en el primer intento consigo que el navegador se mueva al elemento y en el except es cuando consigo clickearlo\n",
    "            sleep(3)\n",
    "            driver.find_element('css selector', '#__next > main > div > section.ipc-page-background.ipc-page-background--base.sc-c41b9732-0.NeSef > div > section > div > div.sc-978e9339-1.ihWZgK.ipc-page-grid__item.ipc-page-grid__item--span-2 > section:nth-child(3) > div > ul > li > div').click()\n",
    "            \n",
    "            print('Entramos en los premios')\n",
    "        except:\n",
    "            print(\"Este actor no tiene premios\")\n",
    "\n",
    "    for premio in range (1,11):\n",
    "        try: \n",
    "            # premios ganados\n",
    "            ganados.append(driver.find_element('css selector', f'#__next > main > div > section > div > section > div > div.sc-978e9339-1.ihWZgK.ipc-page-grid__item.ipc-page-grid__item--span-2 > section:nth-child(3) > div.sc-f65f65be-0.bBlII > ul > li:nth-child({premio}) > div.ipc-metadata-list-summary-item__c > div > a').text)\n",
    "            # nominaciones                                                    \n",
    "            nominaciones.append(driver.find_element('css selector', f'#__next > main > div > section > div > section > div > div.sc-978e9339-1.ihWZgK.ipc-page-grid__item.ipc-page-grid__item--span-2 > section:nth-child(4) > div.sc-f65f65be-0.bBlII > ul > li:nth-child({premio}) > div.ipc-metadata-list-summary-item__c > div > a').text)\n",
    "\n",
    "        except:                                                  \n",
    "            pass\n",
    "    \n",
    "    # comprobamos si tiene premio ganado o nominacion, si es así lo añadimos al diccionario de premios por actor\n",
    "    if len(ganados) > 0 or len(nominaciones) > 0:\n",
    "        premios_actor.append({'premios ganados': ganados, 'nominaciones': nominaciones})\n",
    "    \n",
    "    else:\n",
    "        premios_actor.append(None)\n",
    "    \n",
    "    driver.back()\n",
    "\n",
    "driver.close()\n",
    "\n",
    "# #__next > main > div.ipc-page-content-container.ipc-page-content-container--full.sc-e51f9d6d-0.Fmvqg > div.ipc-page-content-container.ipc-page-content-container--center > section > div > div.ipc-page-grid__item.ipc-page-grid__item--span-2 > section:nth-child(5) > div.sc-e8e4ce7-2.iXsuvN > ul > li > div.ipc-metadata-list-summary-item__c > div > a\n",
    "#accordion-item-actor-previous-projects > div > ul > li:nth-child(1) > div.ipc-metadata-list-summary-item__c > div.ipc-metadata-list-summary-item__tc > a"
   ]
  },
  {
   "cell_type": "code",
   "execution_count": 43,
   "metadata": {},
   "outputs": [],
   "source": [
    "action_elenco = list(tuple(zip(list_all_actors,nacimiento,conocido,premios_actor, pelis)))"
   ]
  },
  {
   "cell_type": "code",
   "execution_count": 44,
   "metadata": {},
   "outputs": [
    {
     "data": {
      "text/plain": [
       "[('Aldo Ray',\n",
       "  '25 de septiembre de 1926',\n",
       "  ('No somos ángeles',\n",
       "   'La impetuosa',\n",
       "   'Nimh: El mundo secreto de la señora Brisby',\n",
       "   'El robo al banco de Inglaterra'),\n",
       "  {'premios ganados': ['1979 Ganador AFAA Award'],\n",
       "   'nominaciones': ['1953 Nominado Golden Globe']},\n",
       "  ('Hasta la muerte',\n",
       "   'Shooters',\n",
       "   'Crime of Crimes',\n",
       "   'Young Rebels',\n",
       "   'Terror Night',\n",
       "   'Night Shadow',\n",
       "   'Sangre roja',\n",
       "   'Drug Runner',\n",
       "   \"Pop's Oasis\")),\n",
       " ('William Marshall',\n",
       "  '19 de agosto de 1924',\n",
       "  ('Drácula negro',\n",
       "   'Maverick',\n",
       "   'Grita Blácula grita (Drácula negro 2)',\n",
       "   'Demetrius y los gladiadores'),\n",
       "  None,\n",
       "  ('Vampires: Thirst for the Truth',\n",
       "   'Dinosaur Valley Girls',\n",
       "   'Satánica, todo el mal en ella',\n",
       "   'Maverick',\n",
       "   'Running the Halls',\n",
       "   \"Pee-wee's Playhouse\",\n",
       "   \"Christmas at Pee-wee's Playhouse\",\n",
       "   'Instinto asesino',\n",
       "   'Los auténticos Cazafantasmas')),\n",
       " ('Terry Michos',\n",
       "  '26 de diciembre de 1953',\n",
       "  ('Los amos de la noche',\n",
       "   'El gran desafío en helicóptero',\n",
       "   'Zoo Crew Two',\n",
       "   'Simon & Simon'),\n",
       "  None,\n",
       "  ('Meego',\n",
       "   'Hellbender',\n",
       "   'Roseanne',\n",
       "   'Amnesia',\n",
       "   'Animania',\n",
       "   'Mis dos padres',\n",
       "   'Monsters',\n",
       "   'Robotech II: The Sentinels',\n",
       "   'Mathnet')),\n",
       " ('Russell Johnson',\n",
       "  '10 de noviembre de 1924',\n",
       "  ('La isla de Gílligan',\n",
       "   'Regreso a la Tierra',\n",
       "   'Vinieron del espacio',\n",
       "   'El ataque de los cangrejos gigantes'),\n",
       "  {'premios ganados': ['2007 Nominado TV Land Award',\n",
       "    '2004 Ganador Pop Culture Award'],\n",
       "   'nominaciones': []},\n",
       "  ('Posesión alucinante',\n",
       "   'Snoops',\n",
       "   'Tal para cual',\n",
       "   'The Fall Guy',\n",
       "   'El golpe II',\n",
       "   'Desmadre en las aulas',\n",
       "   'El gran desafío en helicóptero',\n",
       "   'Clayton Drumm',\n",
       "   'Baretta')),\n",
       " ('Paul Tanashian',\n",
       "  '13 de marzo de 1960',\n",
       "  ('Crazy Rich Asians', 'Déjame salir', 'Nosotros', 'Whiplash'),\n",
       "  None,\n",
       "  ('Juego con la muerte',\n",
       "   'Operación Dragón',\n",
       "   'El furor del dragón',\n",
       "   'Furia oriental',\n",
       "   'Longstreet',\n",
       "   'Karate a muerte en Bangkok',\n",
       "   'Marlowe, detective muy privado',\n",
       "   'Here Come the Brides',\n",
       "   'Blondie')),\n",
       " ('Terri Taylor',\n",
       "  None,\n",
       "  ('Tal para cual',\n",
       "   'Lepke',\n",
       "   'Posesión alucinante',\n",
       "   'El gran desafío en helicóptero'),\n",
       "  {'premios ganados': ['2019 Ganador Artios Award',\n",
       "    '2018 Nominado Artios Award',\n",
       "    '2015 Nominado Artios Award',\n",
       "    '2013 Nominado Artios Award'],\n",
       "   'nominaciones': ['2020 Nominado Black Reel', '2018 Nominado Black Reel']},\n",
       "  ('Retroceder nunca, rendirse jamás',\n",
       "   'Mojeong',\n",
       "   'Jackie y Bruce al rescate',\n",
       "   'Ireon yeoja eobtnayo',\n",
       "   'Agassi chameuseyo',\n",
       "   'Insa yasu',\n",
       "   'El último combate',\n",
       "   'Policía internacional',\n",
       "   'Juego con la muerte')),\n",
       " ('Richard C. Adams',\n",
       "  '2 de septiembre de 1935',\n",
       "  ('Deadwood: La película',\n",
       "   'Training Day',\n",
       "   'Invicto',\n",
       "   'Fear the Walking Dead'),\n",
       "  None,\n",
       "  ('Dolanon Iljimae',\n",
       "   'Boss',\n",
       "   'Amheugga-ui hwangje',\n",
       "   'Soldados callejeros',\n",
       "   'Bestial force',\n",
       "   'Xi Ya Tu da tu sha',\n",
       "   'Cazadores del futuro',\n",
       "   'Hua xin ye mei gui',\n",
       "   'Secuestro en Bangkok')),\n",
       " ('Maria Caso',\n",
       "  None,\n",
       "  ('Antwone Fisher',\n",
       "   'Priest',\n",
       "   'Ojos asesinos',\n",
       "   'El gran desafío en helicóptero'),\n",
       "  {'premios ganados': ['2007 Nominado Primetime Emmy',\n",
       "    '2005 Ganador Primetime Emmy',\n",
       "    '2004 Nominado Primetime Emmy'],\n",
       "   'nominaciones': ['2020 Nominado Excellence in Production Design Award',\n",
       "    '2007 Nominado Excellence in Production Design Award',\n",
       "    '2006 Nominado Excellence in Production Design Award']},\n",
       "  ('Tin sai ji shing',\n",
       "   '97 Ga yau hei si',\n",
       "   'Ma ma fan fan',\n",
       "   'Tou tou ai ni',\n",
       "   'Mr. X',\n",
       "   'Daai lo baai sau',\n",
       "   'Nu ren si shi',\n",
       "   'Fa kei Siu Lam',\n",
       "   'Ma lu tian shi')),\n",
       " ('Kim Johnson',\n",
       "  None,\n",
       "  ('Furia oriental',\n",
       "   'El furor del dragón',\n",
       "   'Operación Dragón',\n",
       "   'Karate a muerte en Bangkok'),\n",
       "  None,\n",
       "  (\"The Exorcist's Meter\",\n",
       "   'Lou biu, lei hou hea!',\n",
       "   'Tin yu dei',\n",
       "   'Gung Ju Ga Do',\n",
       "   'Ku ling ching taam B',\n",
       "   'Gong fu chu shen',\n",
       "   'Yee ching bik luen',\n",
       "   'Dai sei hei',\n",
       "   'Ku ling ching taam')),\n",
       " ('Bruce Lee',\n",
       "  '27 de noviembre de 1940',\n",
       "  ('Juego con la muerte',\n",
       "   'Retroceder nunca, rendirse jamás',\n",
       "   'El último combate',\n",
       "   'Agassi chameuseyo'),\n",
       "  {'premios ganados': ['1972 Ganador Special Jury Award'],\n",
       "   'nominaciones': ['1967 Nominado Gold Medal']},\n",
       "  ('Mission: Killfast',\n",
       "   'Chao Zhou xiao han',\n",
       "   'El último combate',\n",
       "   'Gui ying shen gong',\n",
       "   'Chu zha hu',\n",
       "   'El puño ciego de Bruce Lee',\n",
       "   'Cheonha jeilgwon',\n",
       "   'Bruce Lee: Robo de diamantes',\n",
       "   'Zan xian sheng yu zhao qian Hua')),\n",
       " ('Tae-jeong Kim',\n",
       "  '5 de junio de 1957',\n",
       "  ('La Armadura Invencible',\n",
       "   'El mono borracho en el ojo del tigre',\n",
       "   'La serpiente a la sombra del águila',\n",
       "   'El último combate'),\n",
       "  None,\n",
       "  ('Made in Chinatown',\n",
       "   'Ip Man 4: El final',\n",
       "   \"'P' fung bou\",\n",
       "   'The Dark Soul',\n",
       "   'Ou Zhou gong lue',\n",
       "   'Xue zhan Tong Luo Wan 3',\n",
       "   'Vampire Cleanup Department',\n",
       "   'Golden Arms Returns',\n",
       "   'Ying ging hing dai')),\n",
       " ('Jeong-lee Hwang',\n",
       "  '21 de diciembre de 1944',\n",
       "  ('El último combate',\n",
       "   'La serpiente a la sombra del águila',\n",
       "   'Secuestro en Bangkok',\n",
       "   'The Art of High Impact Kicking'),\n",
       "  None,\n",
       "  ('Ren gui hu xin chuan',\n",
       "   '5 Venoms Versus Wu Tang',\n",
       "   'Ninja USA',\n",
       "   'Long fa wei',\n",
       "   'Bei hai shuang xian xi to long',\n",
       "   'Gui fu shen',\n",
       "   'Jiu zi tian mo',\n",
       "   'Shang Hai tan: Shi san tai bao',\n",
       "   'Feng ling zhong di dao xing')),\n",
       " ('Roy Horan',\n",
       "  '12 de octubre de 2021',\n",
       "  ('Contacto sangriento',\n",
       "   'Indiana Jones y el templo maldito',\n",
       "   'Juego con la muerte',\n",
       "   'Nu ren si shi'),\n",
       "  None,\n",
       "  ('Yan gui zai ni zuo you',\n",
       "   'Shen tong',\n",
       "   'Pi li bao zuo',\n",
       "   'Tian shi shu shu',\n",
       "   'Xin shi er sheng xiao',\n",
       "   '5 Venoms Versus Wu Tang',\n",
       "   'Geung see fan sang',\n",
       "   'Bei hai shuang xian xi to long',\n",
       "   'Jiu zi tian mo')),\n",
       " ('Roy Chiao',\n",
       "  '16 de marzo de 1927',\n",
       "  ('El último caballero',\n",
       "   'La Armadura Invencible',\n",
       "   'Los piratas del mar de China',\n",
       "   'Las 36 cámaras de Shaolin'),\n",
       "  {'premios ganados': ['1996 Ganador Golden Bauhinia'],\n",
       "   'nominaciones': ['1995 Nominado Golden Horse Award']},\n",
       "  ('You er yuan',\n",
       "   'Mo wan do chuen',\n",
       "   'Ni tian er xing',\n",
       "   'Tin si sei san',\n",
       "   'Pi qie la shi',\n",
       "   'Mai lei ging gai: Lan gwai fong',\n",
       "   'Jue mi dang an: Mi shi shi jie',\n",
       "   'Bu han er li',\n",
       "   'Hei an shi dai: Wu zheng ji nv')),\n",
       " ('Hoi-Sang Lee',\n",
       "  None,\n",
       "  ('Puño mortal',\n",
       "   'Mission: Killfast',\n",
       "   'Zan xian sheng yu zhao qian Hua',\n",
       "   'Chu zha hu'),\n",
       "  None,\n",
       "  ('Duet ming ga yan',\n",
       "   'Hermanos de fuego',\n",
       "   'Tian guan ci fu',\n",
       "   'Discípulos de la Cámara 36',\n",
       "   'Zhi zhuan yi jian',\n",
       "   'Wang zi cheng chong',\n",
       "   'Wo ai shen xian zhe',\n",
       "   'Xin fei hu wai chuan',\n",
       "   'Pi li lei dian')),\n",
       " ('Tiger Yang',\n",
       "  None,\n",
       "  ('Ip Man 3 (Dragon Master)',\n",
       "   'Ip Man 2',\n",
       "   'Hard-Boiled (Hervidero)',\n",
       "   'The Grandmaster'),\n",
       "  None,\n",
       "  ('Juego con la muerte',\n",
       "   'Operación Dragón',\n",
       "   'El furor del dragón',\n",
       "   'Furia oriental',\n",
       "   'Longstreet',\n",
       "   'Karate a muerte en Bangkok',\n",
       "   'Marlowe, detective muy privado',\n",
       "   'Here Come the Brides',\n",
       "   'Blondie')),\n",
       " ('Li-Jen Hou',\n",
       "  None,\n",
       "  ('Wu du', 'Cha shou', 'Tie qi men', 'Can que'),\n",
       "  None,\n",
       "  ('Fallen Angel',\n",
       "   'Jerks',\n",
       "   'Un affare trasversale',\n",
       "   'Propuesta criminal',\n",
       "   'Paid to Kill',\n",
       "   'Nudist Colony of the Dead',\n",
       "   'Peligrosamente iguales',\n",
       "   'The Channeler',\n",
       "   'Empire of the Dark')),\n",
       " ('Miranda Austin',\n",
       "  None,\n",
       "  ('Yunnan chong gu zhi Xian wang chuan shuo',\n",
       "   'Ye ban shu tou',\n",
       "   'Yat lo heung sai',\n",
       "   'Wo de VR nv you'),\n",
       "  None,\n",
       "  ('Shiver',\n",
       "   'Boom',\n",
       "   'Hunter',\n",
       "   'Falcon Crest',\n",
       "   'Dallas',\n",
       "   'Jake y el Gordo',\n",
       "   'En el calor de la jungla',\n",
       "   'Riptide',\n",
       "   'Mike Hammer')),\n",
       " ('Meng Lo',\n",
       "  '4 de agosto de 1952',\n",
       "  ('Cha shou', 'Wu du', 'Lei tai', 'Xi shen bao chou'),\n",
       "  None,\n",
       "  ('800 balas',\n",
       "   'Cuéntame cómo pasó',\n",
       "   'Pasos de baile',\n",
       "   'Periodistas',\n",
       "   'A las once en casa',\n",
       "   'Manos a la obra',\n",
       "   'Hermanas',\n",
       "   'Kety no para',\n",
       "   'Colegio mayor')),\n",
       " ('Sheng Chiang',\n",
       "  '4 de abril de 1951',\n",
       "  ('Lo foo chut gang',\n",
       "   'Chao suo xing jing',\n",
       "   'Zhang wu shuang',\n",
       "   'Zhan long zai ye'),\n",
       "  None,\n",
       "  ('Yang Jingyu',\n",
       "   'Ba gua zhong shi',\n",
       "   'Ngo oi Heung Gong: Hoi sum man seoi',\n",
       "   '72 ga cho hak',\n",
       "   'Invisible Target',\n",
       "   'Gaam yuk fung wan: Lui to faan',\n",
       "   'Xiong meng jing hun',\n",
       "   'CID Lung fu dau',\n",
       "   'Sha chu ge she tuan')),\n",
       " ('Li Wang',\n",
       "  '6 de agosto de 1989',\n",
       "  ('Tie qi men',\n",
       "   'Guangdong shi hu xing yi wu xi',\n",
       "   'Shao Lin yu Wu Dang',\n",
       "   'Fei hu wai zhuan'),\n",
       "  None,\n",
       "  ('Plus fort que tout',\n",
       "   'La clef des champs',\n",
       "   'El pianista',\n",
       "   \"Serge Reggiani: L'homme fossile\",\n",
       "   'Héroïnes',\n",
       "   'Le petit garçon',\n",
       "   'Rosenemil',\n",
       "   \"De force avec d'autres\",\n",
       "   'Zani')),\n",
       " ('Feng Lu',\n",
       "  '5 de mayo de 1953',\n",
       "  ('Shi yao',\n",
       "   'Los piratas del mar de China',\n",
       "   'Las 36 cámaras de Shaolin',\n",
       "   'Hei xi yi'),\n",
       "  None,\n",
       "  ('Real Fight',\n",
       "   'Alte Bande',\n",
       "   'Einmal Sohn, immer Sohn',\n",
       "   'Pygmalion',\n",
       "   'Winnetou: La última batalla',\n",
       "   'Winnetou - The Legend Lives',\n",
       "   'Schubert in Love: Vater werden ist (nicht) schwer',\n",
       "   'Der Liebling des Himmels',\n",
       "   'Altersglühen - Die Serie')),\n",
       " ('Kei-San Chan',\n",
       "  None,\n",
       "  ('Furia oriental',\n",
       "   'El furor del dragón',\n",
       "   'Operación Dragón',\n",
       "   'Karate a muerte en Bangkok'),\n",
       "  None,\n",
       "  ('Unser Charly',\n",
       "   'Blutrausch',\n",
       "   'Vier wie wir',\n",
       "   'Küstenwache',\n",
       "   'Klinik unter Palmen',\n",
       "   'The Wolves',\n",
       "   'Jede Menge Leben',\n",
       "   'Royal Destiny',\n",
       "   'The Viking Sagas')),\n",
       " ('Shu Gei Chan',\n",
       "  None,\n",
       "  ('Ninja Dragon',\n",
       "   'Three Men on Fire',\n",
       "   'Los espías de Beirut',\n",
       "   'Los gigantes de Roma'),\n",
       "  None,\n",
       "  ('ACI: Alta Capacidad Intelectual',\n",
       "   \"L'école de la vie\",\n",
       "   'Tous Inconnus',\n",
       "   'César Wagner',\n",
       "   'Chroma',\n",
       "   'Je te promets',\n",
       "   'Mon Ange',\n",
       "   'Laval, le collaborateur',\n",
       "   'Comme un coup de tonnerre')),\n",
       " ('Chi-Shan Chen',\n",
       "  None,\n",
       "  ('Conan, el bárbaro',\n",
       "   'Otelo (Comando negro)',\n",
       "   'La muerte ronda a Mónica',\n",
       "   'La loca historia de los tres mosqueteros'),\n",
       "  None,\n",
       "  ('La momie à mi-mots',\n",
       "   \"Gueules d'amour\",\n",
       "   'Black Dju',\n",
       "   \"L'avocate\",\n",
       "   'Pigeon volé',\n",
       "   'Pandora',\n",
       "   \"L'enfant en héritage\",\n",
       "   'Testigo de excepción',\n",
       "   'Elisa, de Jean Becker')),\n",
       " ('Han-Kuang Chen',\n",
       "  None,\n",
       "  ('001, operación Caribe',\n",
       "   'Goliat contra los gigantes',\n",
       "   'Kommissar X - Drei goldene Schlangen',\n",
       "   'Comisario X y los tres perros verdes'),\n",
       "  None,\n",
       "  ('La Leyenda de los Chaneques',\n",
       "   'Back 4 Blood',\n",
       "   'Hay alguien ahí',\n",
       "   'El Pantera',\n",
       "   'Cuéntame cómo pasó',\n",
       "   'Hospital Central',\n",
       "   'Los simuladores',\n",
       "   'El Cuerpo del Deseo',\n",
       "   'Al filo de la ley')),\n",
       " ('Chok-Chow Cheung',\n",
       "  None,\n",
       "  ('Adam', 'Historias de San Francisco', 'Fantasmas', 'Up Here'),\n",
       "  None,\n",
       "  ('', '', '', '', '', '', '', '', '')),\n",
       " ('Bruce Le',\n",
       "  '27 de noviembre de 1940',\n",
       "  ('Kill! (Matar)',\n",
       "   'Siete pistolas para Timothy',\n",
       "   'Duelo del Dragón y el Tigre',\n",
       "   'El corsario'),\n",
       "  {'premios ganados': ['1972 Ganador Special Jury Award'],\n",
       "   'nominaciones': ['1967 Nominado Gold Medal']},\n",
       "  ('Gossip Girl: Acapulco',\n",
       "   'Como dice el dicho',\n",
       "   'La rosa de Guadalupe',\n",
       "   '¡Qué rica la risa!',\n",
       "   'Las pasiones de sor Juana',\n",
       "   'Placer visual',\n",
       "   'La vida es loca (Ritmo privado)',\n",
       "   'Luna de miel automática',\n",
       "   'Parejas disparejas')),\n",
       " ('Richard Harrison',\n",
       "  '26 de mayo de 1935',\n",
       "  ('Na Zha',\n",
       "   'Gik do yau wak',\n",
       "   'Empire of the Spiritual Ninja',\n",
       "   'Proyecto Ninjas del Infierno'),\n",
       "  None,\n",
       "  ('La secta del sargón',\n",
       "   'Tony Tijuana',\n",
       "   'Carlos el terrorista',\n",
       "   'Novios y amantes',\n",
       "   'El último pistolero',\n",
       "   'Suave patria',\n",
       "   'Ven a cantar conmigo',\n",
       "   'La mano de Dios',\n",
       "   'Alma de mi alma')),\n",
       " ('Nadiuska',\n",
       "  '19 de enero de 1952',\n",
       "  (\"L'empreinte des géants\",\n",
       "   'Prostituta de día, señorita de noche',\n",
       "   'Moi, Fleur bleue',\n",
       "   'Corrupción en Grenoble'),\n",
       "  None,\n",
       "  ('Profundo carmesí',\n",
       "   'En el paraíso no existe el dolor',\n",
       "   'Mujer del puerto',\n",
       "   'Mentiras piadosas',\n",
       "   'Mariana, Mariana',\n",
       "   'Auf Achse',\n",
       "   'Los amores criminales de las vampiras morales',\n",
       "   'El imperio de la fortuna',\n",
       "   'La dama solitaria')),\n",
       " ('Brad Harris',\n",
       "  '16 de julio de 1933',\n",
       "  ('El gatopardo', 'París, bajos fondos', 'Los miserables', 'El confidente'),\n",
       "  None,\n",
       "  ('Zui hou yi kou qi',\n",
       "   'Jungle Heat',\n",
       "   'Horror Holiday',\n",
       "   'Yi xian liang xing da jin ji',\n",
       "   'Fists to Kill',\n",
       "   'Xue zhan da er dan',\n",
       "   'Xiao dao hui',\n",
       "   'Last Knife Party',\n",
       "   'El emperador del kung fu')),\n",
       " ('May Hong',\n",
       "  None,\n",
       "  ('El tambor de hojalata',\n",
       "   'Der große Bellheim',\n",
       "   'Der Schattenmann',\n",
       "   'Milán, calibre 9'),\n",
       "  None,\n",
       "  ('Chasing the Dragon',\n",
       "   'OCTB',\n",
       "   'Xiong di: Yi zi dang tou',\n",
       "   'Chao ji bao biao',\n",
       "   'Da cha fan',\n",
       "   'Jat jik',\n",
       "   'Da lui toi',\n",
       "   'Mit moon',\n",
       "   'Yat gor ho ba ba')),\n",
       " ('Tito García',\n",
       "  '17 de agosto de 1931',\n",
       "  ('El último metro',\n",
       "   'Zoo',\n",
       "   'El fantasma de la ópera',\n",
       "   'Astérix y Obélix contra César'),\n",
       "  None,\n",
       "  ('Wang Chung: Praying to a New God',\n",
       "   'Wang Chung: Hypnotize Me',\n",
       "   \"Wang Chung: Let's Go!\",\n",
       "   'Wang Chung: Everybody Have Fun Tonight',\n",
       "   'Wang Chung: To Live and Die in L.A.',\n",
       "   'Wang Chung: Fire in the Twilight',\n",
       "   'Wang Chung: Dance Hall Days, Version 2',\n",
       "   \"Wang Chung: Don't Be My Enemy\",\n",
       "   \"Wang Chung: Don't Let Go\")),\n",
       " ('Tao Chiang',\n",
       "  '17 de junio de 1942',\n",
       "  ('Mi erótico Sigfrido', 'La mano de hierro', 'Babeck', 'Miguel Strogoff'),\n",
       "  None,\n",
       "  ('Anti Racing Action',\n",
       "   'Hu bao lian meng',\n",
       "   'Si ping qing nian: Hao Ge da zhan gu huo zai',\n",
       "   \"The Diamond's Dream\",\n",
       "   'Yut mun Hinneisi',\n",
       "   'Hong he',\n",
       "   'Faa faa ying ging',\n",
       "   'Duo shuai',\n",
       "   'Chung on chi ma Gun')),\n",
       " ('Sharon Shira',\n",
       "  None,\n",
       "  ('La mujer que llora',\n",
       "   'Hasta el último infierno',\n",
       "   \"L'empreinte des géants\",\n",
       "   'Instinct de femme'),\n",
       "  None,\n",
       "  ('Liu jai ging yim',\n",
       "   'Lin tou jie',\n",
       "   'You ling wang zi',\n",
       "   'Mas fuerte Kung-Fu kids',\n",
       "   'Kung Fu Kids',\n",
       "   'Huang di bao zhong',\n",
       "   'Hu tu nu si ji',\n",
       "   'Yin ji',\n",
       "   'Huang tian hou tu')),\n",
       " ('Zoé Chauveau',\n",
       "  '28 de marzo de 1959',\n",
       "  ('La escafandra y la mariposa',\n",
       "   'Mis días felices',\n",
       "   'Post coïtum animal triste',\n",
       "   'La lectora'),\n",
       "  None,\n",
       "  ('La espada del samurái',\n",
       "   'Muertes de invierno',\n",
       "   'Detective privado',\n",
       "   'El hobbit',\n",
       "   'The Last Dinosaur',\n",
       "   'Seis balas... una venganza... una oración',\n",
       "   'El último pistolero',\n",
       "   'La venganza de los cheyennes',\n",
       "   'From Sea to Shining Sea')),\n",
       " ('Serge Reggiani',\n",
       "  '2 de mayo de 1922',\n",
       "  ('El membrillo', 'Chacal', 'Ajuste de cuentas', 'Testigo de excepción'),\n",
       "  None,\n",
       "  ('Fukai kawa',\n",
       "   'La foto del compromiso',\n",
       "   'La sombra del lobo',\n",
       "   'Shogun Mayeda',\n",
       "   'Sutoroberi rodo',\n",
       "   'Ten to chi to: Reimei-hen',\n",
       "   'CF gâru',\n",
       "   'Haru kuru oni',\n",
       "   'La muerte de un maestro de té')),\n",
       " ('Mario Adorf',\n",
       "  '8 de septiembre de 1930',\n",
       "  ('Al azar de Baltasar',\n",
       "   'La chinoise',\n",
       "   'George qui?',\n",
       "   'El retorno de África'),\n",
       "  {'premios ganados': ['1994 Ganador Adolf Grimme Award in Gold'],\n",
       "   'nominaciones': ['2016 Ganador Honorary Bambi']},\n",
       "  ('Sweetwater',\n",
       "   'Til Death Do Us Part',\n",
       "   'The Crusades',\n",
       "   'East New York',\n",
       "   'Desert Dick',\n",
       "   \"Life's Better Protected\",\n",
       "   'Clowning',\n",
       "   'Outcry',\n",
       "   'The Cleaner')),\n",
       " ('Andréa Ferréol',\n",
       "  '6 de enero de 1947',\n",
       "  ('El privilegio de amar', 'Chanoc', 'Toña machetes', 'El Pantera'),\n",
       "  {'premios ganados': ['1981 Nominado César', '1976 Nominado César'],\n",
       "   'nominaciones': ['1997 Nominado David']},\n",
       "  ('Prisioneros en el planeta Tierra',\n",
       "   'Hunter',\n",
       "   'Glitter',\n",
       "   'Vacaciones en el mar',\n",
       "   'Hotel',\n",
       "   'Urge matar',\n",
       "   'El triunfador',\n",
       "   'Dallas',\n",
       "   'Quincy')),\n",
       " ('Raimund Harmstorf',\n",
       "  '7 de octubre de 1939',\n",
       "  ('Rina',\n",
       "   'Las momias de San Ángel',\n",
       "   'Jugandose la vida',\n",
       "   'La venganza de Maria'),\n",
       "  None,\n",
       "  ('Local Commercial',\n",
       "   'NYC 22',\n",
       "   'Ley y orden',\n",
       "   'Mujeres de Manhattan',\n",
       "   'Our Town',\n",
       "   'Ley y orden: Acción criminal',\n",
       "   'Michael Hayes',\n",
       "   'El abogado',\n",
       "   'Todos mis hijos')),\n",
       " ('Dominique Laffin',\n",
       "  '3 de junio de 1952',\n",
       "  ('Alarido del terror',\n",
       "   'Fray Justicia',\n",
       "   'Un brillante propósito',\n",
       "   'Keiko en peligro'),\n",
       "  {'premios ganados': ['1980 Nominado César'], 'nominaciones': []},\n",
       "  ('Mangetsu: Mr. Moonlight',\n",
       "   'La espada del samurái',\n",
       "   'La pandilla de picarones va al Japón',\n",
       "   'Fuyu no hana',\n",
       "   'Tarao Bannai',\n",
       "   'Ore no sora',\n",
       "   'Hokuriku dairi sensô',\n",
       "   'Zatôichi monogatari',\n",
       "   'Genkai-nada')),\n",
       " ('Patrick Chesnais',\n",
       "  '18 de marzo de 1946',\n",
       "  ('Deliciosa sinvergüenza',\n",
       "   'Las tres tumbas',\n",
       "   'Terror en los barrios',\n",
       "   'Mágica juventud'),\n",
       "  {'premios ganados': ['2014 Nominado César',\n",
       "    '2006 Nominado César',\n",
       "    '1989 Ganador César'],\n",
       "   'nominaciones': ['2006 Nominado European Film Award']},\n",
       "  ('Shakespeare in Tokyo',\n",
       "   'Shashin kôshien 0.5 byô no natsu',\n",
       "   'Take a Chance',\n",
       "   'Biohazard the Stage',\n",
       "   'Eipuriru fûruzu',\n",
       "   'So-On: The Five Oyaji',\n",
       "   'Owakon TV',\n",
       "   'Kabukichô High School',\n",
       "   'Ninja Theory')),\n",
       " ('Philippe Léotard',\n",
       "  '28 de agosto de 1940',\n",
       "  ('La secta del sargón',\n",
       "   'El último pistolero',\n",
       "   'La noche del jueves',\n",
       "   'Carlos el terrorista'),\n",
       "  {'premios ganados': ['1983 Ganador César', '1978 Nominado César'],\n",
       "   'nominaciones': []},\n",
       "  ('Así me lo conto el abuelo',\n",
       "   'Entre perico y perico',\n",
       "   'Mi oficio es ser asaltante',\n",
       "   'Las dos hectareas',\n",
       "   'El comerciante',\n",
       "   'Policía de narcóticos 2',\n",
       "   'Mis animales y yo',\n",
       "   'Horas amargas',\n",
       "   'La danza del venado')),\n",
       " ('Anne Wiazemsky',\n",
       "  '14 de mayo de 1947',\n",
       "  ('Alto riesgo', 'Auf Achse', 'Ciclón', 'Profundo carmesí'),\n",
       "  None,\n",
       "  ('El enviado de la muerte',\n",
       "   'El último triunfo',\n",
       "   'La casa al final de la calle',\n",
       "   'Cacería implacable',\n",
       "   'Pasaporte a la muerte',\n",
       "   'El padre Gallo',\n",
       "   'Las aventuras de Oliver Twist',\n",
       "   'Policía judicial federal',\n",
       "   'La gloria y el infierno')),\n",
       " ('Andrés García',\n",
       "  '24 de mayo de 1941',\n",
       "  ('La boda de mi mejor amigo', 'Los adioses', 'Pozoamargo', 'Martha'),\n",
       "  {'premios ganados': ['1974 Nominado Silver Ariel'],\n",
       "   'nominaciones': ['1986 Ganador Silver Goddess']},\n",
       "  ('Mi amor sin tiempo',\n",
       "   'Vivir de Amor',\n",
       "   'El gallo de oro',\n",
       "   'Mi Secreto',\n",
       "   'Esta historia me suena',\n",
       "   'La Doña',\n",
       "   'Mi marido tiene familia',\n",
       "   'Tres veces Ana',\n",
       "   'Revolución - Las Batallas de Celaya')),\n",
       " ('Alicia Encinas',\n",
       "  '24 de abril de 1954',\n",
       "  ('Carlos el terrorista', 'Cosa fácil', 'Valentín Lazaña', 'A paso de cojo'),\n",
       "  None,\n",
       "  ('El maleficio',\n",
       "   'Tierra de esperanza',\n",
       "   'Chavorrucos',\n",
       "   'Pasión de gavilanes',\n",
       "   'Diseñando tu amor',\n",
       "   'Falsa Identidad',\n",
       "   'Asalto Equivocado',\n",
       "   'Jesús de Nazareth',\n",
       "   'Señora Acero')),\n",
       " ('René Cardona III',\n",
       "  '1 de abril de 1962',\n",
       "  ('Adiós a mi concubina', 'Ci ke', 'Un toque de zen', 'Gun gun hong chen'),\n",
       "  None,\n",
       "  ('Yo maté a Lucca',\n",
       "   'Nomas Las Mujeres Quedan',\n",
       "   'La Venganza de Maria',\n",
       "   'Simón Blanco un gallito de traba',\n",
       "   'Misa de cuerpo presente',\n",
       "   'La Raza de acero 3 Hambre sed y muerte en el desierto',\n",
       "   'Catarino y los Rurales',\n",
       "   'El ocaso del cazador',\n",
       "   'Laura Garza La maestra de la Escuela')),\n",
       " ('Pablo Ferrel',\n",
       "  None,\n",
       "  ('La mano de la muerte',\n",
       "   'Respirando fuego',\n",
       "   'Zhu Jiang da feng bao',\n",
       "   'Zui hou yi kou qi'),\n",
       "  None,\n",
       "  ('Bendita mentira',\n",
       "   'El rafaga',\n",
       "   'Mi pistola y tus esposas',\n",
       "   'Taquito de ojo',\n",
       "   'Senda de gloria',\n",
       "   'Testigo de un crimen',\n",
       "   'Cinco nacos asaltan Las Vegas',\n",
       "   'Ratas de la ciudad',\n",
       "   'Policía de narcóticos')),\n",
       " ('Gloria Chávez',\n",
       "  None,\n",
       "  ('Sha ren ai qing jie', 'The Lonely Killer', 'Shou kou', 'Po jie'),\n",
       "  None,\n",
       "  ('Nan dou guan san dou bei shao ye',\n",
       "   'El luchador Invisible',\n",
       "   'Hua xin da shao',\n",
       "   'Heroic Family',\n",
       "   'Voodoo Charm',\n",
       "   'Xiao zi you zhong',\n",
       "   'Yu mao san xi jin mao shu',\n",
       "   'Gui hua fu',\n",
       "   'Shen diao xia lü')),\n",
       " ('Ángel Dupeyrón',\n",
       "  '13 de agosto de 2014',\n",
       "  ('Vivir y morir en Los Ángeles',\n",
       "   'El chip prodigioso',\n",
       "   'Deadpool',\n",
       "   'Buscando un amigo para el fin del mundo'),\n",
       "  None,\n",
       "  ('Lonely Eighteen',\n",
       "   'Trim Line',\n",
       "   'El viaje heroico de Ne Zha',\n",
       "   'Da yu',\n",
       "   'Avenge Me',\n",
       "   'Yat ga dai sai',\n",
       "   'The Kid from the Big Apple: Before We Forget',\n",
       "   'Wo lai zi Niu Yue',\n",
       "   'Luo pao ba ai qing')),\n",
       " ('Fernando Palavicini',\n",
       "  None,\n",
       "  ('Cenicienta',\n",
       "   'Orgullo + Prejuicio + Zombis',\n",
       "   'Mamma Mia! Una y otra vez',\n",
       "   'Baby Driver'),\n",
       "  None,\n",
       "  ('5 Venoms Versus Wu Tang',\n",
       "   'El cazador ninja',\n",
       "   'Pi li qing',\n",
       "   'Jiu zi tian mo',\n",
       "   'Shang Hai tan: Shi san tai bao',\n",
       "   'Xi shen bao chou',\n",
       "   'Shen tong shu yu xiao ba wang',\n",
       "   'Xia ke hang',\n",
       "   'Ren zhe wu di')),\n",
       " ('Gerardo Castell',\n",
       "  '16 de septiembre de 1977',\n",
       "  ('El asesino',\n",
       "   'Gung buk',\n",
       "   'Bat sin fan dim: Yan yuk cha siu bau',\n",
       "   'City on Fire'),\n",
       "  {'premios ganados': ['2024 Nominado Silver Goddess'],\n",
       "   'nominaciones': ['2017 Ganador Audience Award']},\n",
       "  ('Duk mong',\n",
       "   'Xiang Gang tu fu',\n",
       "   'Kong woo liu duen',\n",
       "   'Yi chu jing hun',\n",
       "   'Shen tong shu yu xiao ba wang',\n",
       "   'Xia ke hang',\n",
       "   'Xiao zi you zhong',\n",
       "   'Bo jin',\n",
       "   'Che yun joi che')),\n",
       " ('Martha de Castro',\n",
       "  '18 de septiembre de 1942',\n",
       "  ('De profesion - Invencible',\n",
       "   'Yang Nu Hu',\n",
       "   'Ru xia',\n",
       "   'Long hu hui feng yun'),\n",
       "  None,\n",
       "  ('Tin yu dei',\n",
       "   'Fei nui ching cheun',\n",
       "   'Chu kwong bo hei',\n",
       "   'Hak sai lik',\n",
       "   'The Price of Greed',\n",
       "   'Jeuk sing 3 gi ji mor sam bak fan',\n",
       "   'Wui ton tin ha',\n",
       "   'CIB ying si ching bo for',\n",
       "   'For mo wong saa')),\n",
       " ('Feng Hsu',\n",
       "  '17 de agosto de 1950',\n",
       "  ('El pistolero de San Francisco',\n",
       "   'El último pistolero',\n",
       "   'El teatro de Richard Boone',\n",
       "   'Un hombre'),\n",
       "  {'premios ganados': ['1994 Ganador BAFTA Film Award'],\n",
       "   'nominaciones': ['2017 Ganador Lifetime Achievement Award']},\n",
       "  ('Ye ying tu ji',\n",
       "   'Xiang jiao tian tang',\n",
       "   'Ni Xiao Sa Wo Piao Liang',\n",
       "   'Ci bei de zi wei',\n",
       "   'Mo deng nu xing',\n",
       "   'El desafío de Lady Ninja',\n",
       "   'Huan tie xiong di',\n",
       "   'El dinamismo del superdragón',\n",
       "   'Shang Hai Tan da ye')),\n",
       " ('Yun Ling',\n",
       "  None,\n",
       "  ('Yojimbo', 'Los siete samuráis', 'El infierno del odio', 'Trono de sangre'),\n",
       "  None,\n",
       "  ('Qian huo mei gui',\n",
       "   'Du ming shuang xiong',\n",
       "   'Zuan shi nu',\n",
       "   'Zo shou bo ji wang',\n",
       "   'Sha ru di yu',\n",
       "   'Doble impacto',\n",
       "   'Du wang san hu jiang',\n",
       "   'Xiong di you zhong',\n",
       "   'Ninja Terminator')),\n",
       " ('Tao-Liang Tan',\n",
       "  '1947',\n",
       "  ('Ed Wood',\n",
       "   'Dos tontos muy tontos',\n",
       "   'Solos con nuestro tío',\n",
       "   'Muerte entre las flores'),\n",
       "  None,\n",
       "  ('Wu hu si hai',\n",
       "   'Yi yu',\n",
       "   'Shi bu liang li',\n",
       "   'Feng yu cao chang',\n",
       "   'Zhong Guo zui hou yi ge tai jian',\n",
       "   'Qi zheng piao piao',\n",
       "   'Tian long di hu',\n",
       "   'Xiong di you zhong',\n",
       "   'Tangshan guo Taiwan')),\n",
       " ('Michael Wai-Man Chan',\n",
       "  '10 de julio de 1946',\n",
       "  ('Vacaciones en el mar', 'Dallas', 'El triunfador', 'The Seekers'),\n",
       "  {'premios ganados': ['1983 Nominado Hong Kong Film Award'],\n",
       "   'nominaciones': []},\n",
       "  ('Lulu',\n",
       "   'Belleza y poder',\n",
       "   'Decker',\n",
       "   'A Lousy 10 Grand',\n",
       "   'Skeleton',\n",
       "   'Nailed',\n",
       "   'Movie Stars',\n",
       "   'Puerta con puerta',\n",
       "   'La cesta')),\n",
       " ('Chung Wang',\n",
       "  None,\n",
       "  ('La hora de las pistolas',\n",
       "   'Ana de las Tejas Verdes: la continuación',\n",
       "   'Baa Baa Black Sheep',\n",
       "   'Coronet Blue'),\n",
       "  {'premios ganados': ['1984 Nominado VMA'], 'nominaciones': []},\n",
       "  ('Caccia alle mosche',\n",
       "   'La piovra',\n",
       "   'Fuera de temporada',\n",
       "   \"Golem, l'esprit de l'exil\",\n",
       "   'Riflessi in un cielo scuro',\n",
       "   'Grito de piedra',\n",
       "   'La condena',\n",
       "   'Una vita in gioco',\n",
       "   \"Peter Brook's the Mahabharata\")),\n",
       " ('Lily Li',\n",
       "  '5 de abril de 1989',\n",
       "  ('Brigada 49',\n",
       "   'Una pandilla de pillos',\n",
       "   'Dos colgaos muy fumaos en Navidad',\n",
       "   'Los juegos del hambre'),\n",
       "  {'premios ganados': ['2023 Nominado Critics Choice Award'],\n",
       "   'nominaciones': ['2022 Nominado Primetime Emmy']},\n",
       "  ('La marcha verde',\n",
       "   'Antivicio',\n",
       "   'Héroes de cartón',\n",
       "   'Un dólar por los muertos',\n",
       "   'Don Juan',\n",
       "   '¡Aquí hay negocio!',\n",
       "   'Gefährliche Spiele',\n",
       "   'Habitación 503',\n",
       "   'El rescate del talismán')),\n",
       " ('Danny Lee',\n",
       "  '6 de agosto de 1952',\n",
       "  ('Onmitsu kenshi',\n",
       "   'Mekurano Oichi monogatari: Makkana nagaradori',\n",
       "   'Sanjûrokunin no jôkyaku',\n",
       "   'Gekitotsu! Satsujin ken'),\n",
       "  {'premios ganados': ['1984 Ganador Golden Horse Award'],\n",
       "   'nominaciones': ['1988 Nominado Hong Kong Film Award']},\n",
       "  ('Los burdeles de Paprika',\n",
       "   'A Season of Giants',\n",
       "   'Años de pesadilla',\n",
       "   'Retrato humano',\n",
       "   'Simbad, el rey de los mares',\n",
       "   'Big Man',\n",
       "   'Appuntamento a Liverpool',\n",
       "   'Comando suicida',\n",
       "   'La noche del tiburón')),\n",
       " ('Mien Fang',\n",
       "  '1 de mayo de 1916',\n",
       "  ('Kill Bill: Volumen 1',\n",
       "   'A todo gas: Tokyo Race',\n",
       "   'Kill Bill: Volumen 2',\n",
       "   'Kang samurai'),\n",
       "  None,\n",
       "  ('', '', '', '', '', '', '', '', '')),\n",
       " ('Hsin-Chun Huang',\n",
       "  None,\n",
       "  ('Violación', 'Rojo amanecer', 'Perro callejero', 'Yo el ejecutor'),\n",
       "  None,\n",
       "  ('Acapulco H.E.A.T. (Serie de TV)',\n",
       "   'Conan, el aventurero',\n",
       "   'El hombre de Medellin',\n",
       "   'Calor tropical',\n",
       "   'Poli con suerte',\n",
       "   'Barbarian Queen II: The Empress Strikes Back',\n",
       "   'Una cita con el destino',\n",
       "   'Erik el mercenario',\n",
       "   'Stalker III y los guerreros del infierno')),\n",
       " ('Richard Boone',\n",
       "  '18 de junio de 1917',\n",
       "  ('Santa Sangre',\n",
       "   'El imperio de la fortuna',\n",
       "   'Alma de hierro',\n",
       "   'Pedro Páramo'),\n",
       "  {'premios ganados': ['1964 Nominado Primetime Emmy',\n",
       "    '1960 Nominado Primetime Emmy',\n",
       "    '1959 Nominado Primetime Emmy',\n",
       "    '1955 Nominado Primetime Emmy',\n",
       "    '1955 Nominado Primetime Emmy'],\n",
       "   'nominaciones': ['1964 Nominado Golden Globe']},\n",
       "  ('Caza humana',\n",
       "   'De naco a millonario',\n",
       "   'Sacristán del diablo',\n",
       "   'AR-15: Comando implacable',\n",
       "   'El solitario indomable',\n",
       "   'La aventura más milagrosa jamás contada',\n",
       "   'La revancha',\n",
       "   'El narco',\n",
       "   'Jugandose la vida')),\n",
       " ('Toshirô Mifune',\n",
       "  '1 de abril de 1920',\n",
       "  ('Tiempo de lobos',\n",
       "   'Agarren al de los huevos',\n",
       "   'Rosa de dos aromas',\n",
       "   'La perra de la frontera'),\n",
       "  {'premios ganados': ['1956 Nominado BAFTA Film Award'],\n",
       "   'nominaciones': ['1981 Nominado Primetime Emmy']},\n",
       "  ('Biggles (El viajero del tiempo)',\n",
       "   'Sherlock Holmes y la máscara de la muerte',\n",
       "   'Top Secret!',\n",
       "   'El caballero verde',\n",
       "   'Helen Keller: El milagro continúa',\n",
       "   'Tales of the Unexpected',\n",
       "   'La casa de las sombras del pasado',\n",
       "   'Asalto al casino',\n",
       "   'Misterio en la isla de los monstruos')),\n",
       " ('Mike Starr',\n",
       "  '29 de julio de 1950',\n",
       "  ('Pedro Páramo',\n",
       "   'Cadena perpetua',\n",
       "   'La casa al final de la calle',\n",
       "   'El gallo de oro'),\n",
       "  {'premios ganados': ['2022 Ganador Award of Excellence'],\n",
       "   'nominaciones': ['2015 Ganador Lifetime Achievement Award']},\n",
       "  ('Siempre en la mira',\n",
       "   'La Tajada',\n",
       "   'Un Retrato de Familia',\n",
       "   'Historias de una prostituta 4',\n",
       "   'Despedida de soltera',\n",
       "   'Un sentimiento honesto en el calabozo del olvido',\n",
       "   'Las sirvientas calientes',\n",
       "   'Las amantes del narco',\n",
       "   'El complot mongol')),\n",
       " ('Timothy Patrick Murphy',\n",
       "  '3 de noviembre de 1959',\n",
       "  ('Amigas y rivales',\n",
       "   'Soy tu dueña',\n",
       "   'Mujeres engañadas',\n",
       "   'El ángel exterminador'),\n",
       "  {'premios ganados': ['1984 Ganador Young Artist Award'], 'nominaciones': []},\n",
       "  ('Flag',\n",
       "   'Otelo (Comando negro)',\n",
       "   'Asalto al casino',\n",
       "   'Vaya luna de miel',\n",
       "   'Chicano',\n",
       "   'Fuerza mortal',\n",
       "   'Dinero maldito',\n",
       "   'Cabo de vara',\n",
       "   'Super Bwana')),\n",
       " ('Frank Converse',\n",
       "  '22 de mayo de 1938',\n",
       "  ('Lazos de amor',\n",
       "   'Serán hombres',\n",
       "   '¡Yo sabía demasiado!',\n",
       "   'El tesoro de Atahualpa'),\n",
       "  {'premios ganados': ['1968 Nominado Gold Medal'], 'nominaciones': []},\n",
       "  ('Barmy Dale',\n",
       "   'Mighty 6',\n",
       "   'Bruised Sky',\n",
       "   'Doctor Who: The Early Adventures',\n",
       "   'Holby City',\n",
       "   'Claude',\n",
       "   'After Hours',\n",
       "   'Casualty',\n",
       "   'Man Down')),\n",
       " ('William Ross',\n",
       "  '1948',\n",
       "  ('Soy tu dueña', 'Morir a mi manera', 'Clave privada', 'El maleficio'),\n",
       "  {'premios ganados': ['2009 Nominado Annie'],\n",
       "   'nominaciones': ['2005 Ganador BMI Film Music Award']},\n",
       "  ('Los resucitados',\n",
       "   'El señor Manolo',\n",
       "   'Crematorio',\n",
       "   'Cuéntame cómo pasó',\n",
       "   'U.C.O. (Unidad Central Operativa)',\n",
       "   'La que se avecina',\n",
       "   'Yo soy Bea',\n",
       "   'Cuenta atrás',\n",
       "   'Estudio 1')),\n",
       " ('Bin Amatsu',\n",
       "  '16 de febrero de 1921',\n",
       "  ('El mexicano',\n",
       "   'El escuadrón de la muerte',\n",
       "   'Gavilán o paloma',\n",
       "   'Muerte en el Río Grande'),\n",
       "  None,\n",
       "  ('Tercera planta, inspección fiscal',\n",
       "   'Dyningar',\n",
       "   'Sangre azul',\n",
       "   'Brigada central',\n",
       "   'Miguel Servet (La sangre y la ceniza)',\n",
       "   'Matar al Nani',\n",
       "   'Lorca, muerte de un poeta',\n",
       "   'Al acecho',\n",
       "   'Turno de oficio')),\n",
       " (\"Shin'ichi Chiba\",\n",
       "  '22 de enero de 1939',\n",
       "  ('El valiente vive... hasta que el cobarde quiere',\n",
       "   'Chicoasén',\n",
       "   '¡Persiguelas y... alcanzalas!',\n",
       "   'El hombre sin miedo'),\n",
       "  {'premios ganados': ['2004 Nominado Saturn Award'],\n",
       "   'nominaciones': ['2005 Ganador Maverick Award']},\n",
       "  ('Narradores',\n",
       "   'Sabbath',\n",
       "   'Policía',\n",
       "   'Los presuntos',\n",
       "   'Página de sucesos',\n",
       "   'Pánico en el distrito 18',\n",
       "   'La huella del crimen',\n",
       "   'La vaquilla',\n",
       "   'Al este del oeste')),\n",
       " ('Iwae Arai',\n",
       "  None,\n",
       "  ('Jue dai shuang jiao',\n",
       "   'Na Zha',\n",
       "   'Shao Lin si',\n",
       "   'Fang Shi Yu yu Hu Hui Qian'),\n",
       "  None,\n",
       "  ('Welcome Wedding',\n",
       "   'Political War',\n",
       "   'Rabba (Punjabi Divine Song)',\n",
       "   'Fire of Love: RED',\n",
       "   'Target India',\n",
       "   'Anth the End',\n",
       "   'Haryana Fresh',\n",
       "   'Token the Treasure',\n",
       "   'Saurashtra')),\n",
       " ('Valentín Trujillo',\n",
       "  '28 de marzo de 1951',\n",
       "  ('Di Di ri ji',\n",
       "   'Yee dam hung seon',\n",
       "   'Duo shuai',\n",
       "   'She diao ying xiong zhuan'),\n",
       "  {'premios ganados': ['1989 Nominado Silver Ariel',\n",
       "    '1989 Nominado Silver Ariel',\n",
       "    '1989 Nominado Silver Ariel',\n",
       "    '1980 Nominado Silver Ariel'],\n",
       "   'nominaciones': ['1981 Ganador Premio ACE']},\n",
       "  ('Truckbhar Swapna',\n",
       "   'Aitraaz',\n",
       "   'Dev',\n",
       "   'Chalte Chalte',\n",
       "   'Baaz: A Bird in Danger',\n",
       "   'Indian',\n",
       "   'Love Ke Liye Kuch Bhi Karega',\n",
       "   'Chal Mere Bhai',\n",
       "   'Suraag: The Clue')),\n",
       " ('Blanca Guerra',\n",
       "  '10 de enero de 1953',\n",
       "  ('Un mañana mejor',\n",
       "   'La leyenda del luchador borracho',\n",
       "   'El camino del guerrero',\n",
       "   'Ci Ma'),\n",
       "  {'premios ganados': ['1999 Ganador Silver Ariel',\n",
       "    '1996 Nominado Silver Ariel',\n",
       "    '1995 Nominado Silver Ariel',\n",
       "    '1994 Ganador Silver Ariel',\n",
       "    '1988 Ganador Silver Ariel'],\n",
       "   'nominaciones': ['1991 Nominado Saturn Award']},\n",
       "  ('Bioscope',\n",
       "   'Sukanya Tu Aahes Tar Mi Aahe Aamhi Aahot',\n",
       "   'Sukanya',\n",
       "   'Yedyanchi Jatra',\n",
       "   'Ichar Tharla Pakka',\n",
       "   'Topi Ghala re',\n",
       "   'Bedhund',\n",
       "   'Baap Re Baap Dokyala Taap',\n",
       "   'Mumbai Meri Jaan')),\n",
       " ('Patricia Rivera',\n",
       "  '25 de julio de 1956',\n",
       "  ('Ren zhe wu di',\n",
       "   'Hao xiao zi di xia yi zhao',\n",
       "   'Qi bu mi zong',\n",
       "   'Qian nu yun yu qing'),\n",
       "  {'premios ganados': ['1990 Nominado Silver Ariel',\n",
       "    '1983 Ganador Silver Ariel'],\n",
       "   'nominaciones': []},\n",
       "  ('On Golden Years',\n",
       "   'Ley y orden: Unidad de Víctimas Especiales',\n",
       "   'Girls',\n",
       "   'Promesas de hielo',\n",
       "   \"God's Land\",\n",
       "   'El plato del día',\n",
       "   'Bored to death',\n",
       "   'The Office',\n",
       "   'Cupid')),\n",
       " ('Narciso Busquets',\n",
       "  '8 de septiembre de 1929',\n",
       "  ('Ci Ma',\n",
       "   'Yi tian tu long ji',\n",
       "   'Mei shan shou qi guai',\n",
       "   'El luchador de Shantung'),\n",
       "  {'premios ganados': ['1979 Nominado Silver Ariel'], 'nominaciones': []},\n",
       "  ('Raja Ko Rani Se Pyar Ho Gaya',\n",
       "   'Hum Saath-Saath Hain',\n",
       "   'Rasmon Ki Zanjeer',\n",
       "   'Kabhi Paas Kabhi Fail',\n",
       "   'Badmaash',\n",
       "   'Virasat',\n",
       "   'Aurat Aurat Aurat',\n",
       "   'Yash',\n",
       "   'Chauraha')),\n",
       " ('Eric del Castillo',\n",
       "  '22 de julio de 1934',\n",
       "  ('Qi sha', 'Xie ying wu', 'Xiang Gang qi an 5: Jian mo', 'Mu wu wang fa'),\n",
       "  {'premios ganados': ['1981 Nominado Silver Ariel',\n",
       "    '1980 Nominado Silver Ariel',\n",
       "    '1972 Nominado Silver Ariel'],\n",
       "   'nominaciones': ['2011 Ganador Special Silver Goddess']},\n",
       "  ('Lakshya',\n",
       "   'Gabbar Is Back',\n",
       "   'Aandhali Koshimbir',\n",
       "   'Premsutra',\n",
       "   'Bharatiya',\n",
       "   'Mala Ek Chanas Hava',\n",
       "   'Aajoba Vayat Aale',\n",
       "   'Kalubai Bhakt Satyacha Dhavjee Patil',\n",
       "   'Knock Out')),\n",
       " ('Ana Luisa Peluffo',\n",
       "  '9 de octubre de 1929',\n",
       "  ('Da zui xia',\n",
       "   'Wo ban cai yun fei',\n",
       "   'Hua luo shui liu hong',\n",
       "   'La shou xiao xi'),\n",
       "  {'premios ganados': ['1997 Ganador Eduardo Arozamena Medal'],\n",
       "   'nominaciones': []},\n",
       "  ('Kaa - The Forest',\n",
       "   'Vaalu',\n",
       "   'Vettaikaaran',\n",
       "   'Well Done Abba!',\n",
       "   'Missed Call',\n",
       "   'Udayon',\n",
       "   'Chanakya',\n",
       "   'Daas',\n",
       "   'Dukaan: Pila House')),\n",
       " ('Sergio Goyri',\n",
       "  '14 de noviembre de 1958',\n",
       "  ('Du ming zou tian ya',\n",
       "   'Huan xi yuan jia',\n",
       "   'Un tipo duro',\n",
       "   'El desafío de Lady Ninja'),\n",
       "  {'premios ganados': ['1990 Nominado Silver Ariel'],\n",
       "   'nominaciones': ['2012 Nominado TVyNovelas']},\n",
       "  ('Rumbo al paraíso',\n",
       "   'Kreuzfahrt ins Glück',\n",
       "   'Lerchenberg',\n",
       "   'Un verano en Escocia',\n",
       "   'SOKO München',\n",
       "   'Point of View',\n",
       "   'Das Musikhotel am Wolfgangsee',\n",
       "   'Zwei Herzen und ein Edelweiß',\n",
       "   'Im Tal des Schweigens')),\n",
       " ('Rojo Grau',\n",
       "  None,\n",
       "  ('Doble impacto',\n",
       "   'Shang Hai tan: Shi san tai bao',\n",
       "   'Fan dau mui',\n",
       "   'Hei bao'),\n",
       "  {'premios ganados': ['1986 Nominado Silver Ariel',\n",
       "    '1986 Nominado Silver Ariel'],\n",
       "   'nominaciones': []},\n",
       "  ('Pride of Africa',\n",
       "   'Black Velvet Band',\n",
       "   'Traficante de muerte',\n",
       "   'Rhodes',\n",
       "   'The Making of the Mahatma',\n",
       "   'Dark Desires: Thelma',\n",
       "   'Comando águila roja',\n",
       "   'Calor tropical',\n",
       "   'Kickboxer Terminator')),\n",
       " ('Sergio Barrios',\n",
       "  '7 de abril de 1933',\n",
       "  ('Bai zhan bao shan he', 'Nu mang jian ke', 'Jian', 'Gu tong xiao'),\n",
       "  None,\n",
       "  ('The Making of the Mahatma',\n",
       "   'Where Angels Tread',\n",
       "   'Calor tropical',\n",
       "   'That Englishwoman: An Account of the Life of Emily Hobhouse',\n",
       "   'Barrett',\n",
       "   'War beach',\n",
       "   'Zona salvaje',\n",
       "   'En peligro',\n",
       "   'En busca del tatuaje')),\n",
       " ('Sheng Fu',\n",
       "  '20 de octubre de 1954',\n",
       "  ('Kung Fu', 'A Million Little Things', 'Embrujadas', 'Happy Ever After'),\n",
       "  None,\n",
       "  ('Shang hun',\n",
       "   'A-tsik',\n",
       "   'Ni Hau, Wo Shi Shei?',\n",
       "   '1006 de fang ke',\n",
       "   'The Door',\n",
       "   'Youth Power',\n",
       "   'Life is Shit',\n",
       "   'Alice in Wonder City',\n",
       "   'Mian Jiao Nan')),\n",
       " ('Niu Niu',\n",
       "  '23 de enero de 1958',\n",
       "  ('El luchador manco',\n",
       "   'El luchador Manco 2 - El luchador manco contra la guillotina voladora',\n",
       "   'Un toque de zen',\n",
       "   'Long men kezhan'),\n",
       "  {'premios ganados': ['1982 Nominado Golden Horse Award',\n",
       "    '1978 Ganador Golden Horse Award'],\n",
       "   'nominaciones': ['1989 Nominado Hong Kong Film Award']},\n",
       "  ('Golden Arms Returns',\n",
       "   'The eye 2',\n",
       "   'Yeung gwong ging chaat',\n",
       "   'El mañana nunca muere',\n",
       "   'Ye ban ge sheng',\n",
       "   'Shao Lin huo bao bei',\n",
       "   'Fa kei Siu Lam',\n",
       "   'Xia nu chuan qi',\n",
       "   'Lo mau')),\n",
       " ('Lung Ti',\n",
       "  '19 de agosto de 1946',\n",
       "  ('Superdetective en Hollywood III',\n",
       "   'Una mujer peligrosa',\n",
       "   'Hard Vice',\n",
       "   'Carol of the Bells'),\n",
       "  {'premios ganados': ['1979 Ganador APFF Award',\n",
       "    '1973 Ganador Special Award'],\n",
       "   'nominaciones': ['2007 Ganador Lifetime Achievement Award']},\n",
       "  ('Zombie Chickadee',\n",
       "   'The Great Illusionist 2',\n",
       "   'Mao shan tian shi',\n",
       "   'The Defend Dog',\n",
       "   'Ma ma de shen qi xiao zi',\n",
       "   'Zhizun xian sheng zhi Jin chan gu',\n",
       "   'Yi mei xian sheng',\n",
       "   'Maoshan',\n",
       "   'Shou juan yan')),\n",
       " ('Tien-Chi Cheng',\n",
       "  '17 de septiembre de 1956',\n",
       "  ('Grito de piedra', 'La piovra', 'El juguete', 'Tres hermanos'),\n",
       "  None,\n",
       "  ('The Pearl',\n",
       "   'Kaena - La profecía',\n",
       "   'Julio Cesar',\n",
       "   'La Biblia: Apocalipsis',\n",
       "   'Harry Potter y la cámara secreta',\n",
       "   'La venganza del conde de Montecristo',\n",
       "   'Harry Potter y la piedra filosofal',\n",
       "   'My Kingdom',\n",
       "   'Gladiator (El gladiador)')),\n",
       " ('Li Ching',\n",
       "  '29 de octubre de 1945',\n",
       "  ('Bolero',\n",
       "   'La mirada del otro',\n",
       "   'Ho sap el ministre?',\n",
       "   'Ellas y el sexo débil'),\n",
       "  {'premios ganados': ['1969 Ganador Special Award'], 'nominaciones': []},\n",
       "  ('Heroes of the Golden Mask',\n",
       "   'Departure: Vuelo 716',\n",
       "   'Con todos los honores',\n",
       "   'Puñales por la espalda (Knives Out)',\n",
       "   'Cliffs of Freedom',\n",
       "   'Howard Lovecraft and the Kingdom of Madness',\n",
       "   'Sin límites',\n",
       "   'Todo el dinero del mundo',\n",
       "   'Se armó el belén')),\n",
       " ('Kin-Ping Chow',\n",
       "  None,\n",
       "  ('Mi conejo es el mejor',\n",
       "   'La banda de Pérez',\n",
       "   'Los 7 de Pancho Villa',\n",
       "   '¡Biba la banda!'),\n",
       "  None,\n",
       "  ('Se ha escrito un crimen: El enigma celta',\n",
       "   'Never Die Twice',\n",
       "   'En lo más profundo',\n",
       "   'Expediente X',\n",
       "   'El laberinto rojo',\n",
       "   'The Game',\n",
       "   'Más allá del límite',\n",
       "   'Seducción obsesiva',\n",
       "   'Misión en el tiempo')),\n",
       " ('Ke Chu',\n",
       "  None,\n",
       "  ('Calígula', 'Tenebre', 'Simbad, el rey de los mares', 'Criatura diabólica'),\n",
       "  {'premios ganados': ['2020 Nominado Female Actor in a Television Drama',\n",
       "    '2020 Nominado Male Actor in a Television Drama'],\n",
       "   'nominaciones': ['2020 Ganador Jury Award']},\n",
       "  ('The Fall',\n",
       "   \"She's in Portland\",\n",
       "   'Cómo defender a un asesino',\n",
       "   'Lonely Boy',\n",
       "   'Victory Blvd',\n",
       "   'Herbert',\n",
       "   'Skyline',\n",
       "   'The Border',\n",
       "   'Eli Stone')),\n",
       " ('Jin Guo',\n",
       "  None,\n",
       "  ('Quien tiene un amigo... tiene un tesoro',\n",
       "   'Johnny Palillo',\n",
       "   'El juramento del Corsario Negro',\n",
       "   'Si te encuentras con Sartana... ruega por tu muerte'),\n",
       "  None,\n",
       "  ('I Will Bury You',\n",
       "   'FBI',\n",
       "   'Clock',\n",
       "   'BlackBerry',\n",
       "   'Shttl',\n",
       "   'Terror Lake Drive (Serie de TV)',\n",
       "   'La maravillosa Sra. Maisel',\n",
       "   'I Am Normal',\n",
       "   'Billions')),\n",
       " ('Ping An',\n",
       "  None,\n",
       "  ('Mission Kill',\n",
       "   'Los desmadrados piratas de Barba Amarilla',\n",
       "   'Alto riesgo',\n",
       "   'Justicia salvaje'),\n",
       "  {'premios ganados': ['2015 Ganador Animation of the Year',\n",
       "    '2015 Ganador Best Voice Actor'],\n",
       "   'nominaciones': []},\n",
       "  ('Conduct Unbecoming',\n",
       "   'The Drunk and on Drugs Happy Funtime Hour',\n",
       "   'Corrupción en el poder',\n",
       "   'Nadie es perfecto',\n",
       "   'El mundo según Barney',\n",
       "   'Abroad',\n",
       "   'Cooking with Stella',\n",
       "   'Hooked on Speedman',\n",
       "   'Obsesión por un crimen')),\n",
       " ('Lung Chan',\n",
       "  None,\n",
       "  ('Jugandose la vida',\n",
       "   'El narco',\n",
       "   'AR-15: Comando implacable',\n",
       "   'Caza humana'),\n",
       "  {'premios ganados': ['1992 Ganador Golden Horse Award',\n",
       "    '1992 Nominado Golden Horse Award',\n",
       "    '1992 Nominado Golden Horse Award',\n",
       "    '1992 Nominado Golden Horse Award',\n",
       "    '1992 Nominado Golden Horse Award'],\n",
       "   'nominaciones': ['1993 Nominado Hong Kong Film Award',\n",
       "    '1993 Nominado Hong Kong Film Award',\n",
       "    '1993 Nominado Hong Kong Film Award',\n",
       "    '1993 Nominado Hong Kong Film Award']},\n",
       "  (\"X-Men '97\",\n",
       "   'Ginny y Georgia',\n",
       "   'Deseo de Navidad',\n",
       "   'Elinor Wonders Why',\n",
       "   'D.N. Ace',\n",
       "   'Elliot the Littlest Reindeer',\n",
       "   'Starlink: Battle for Atlas',\n",
       "   'Wishfart',\n",
       "   'Mean Dreams')),\n",
       " ('Hung-Lieh Chen',\n",
       "  '7 de junio de 1943',\n",
       "  ('La guerra de las galaxias',\n",
       "   'Drácula',\n",
       "   'La maldición de Frankenstein',\n",
       "   'Pánico en el Transiberiano'),\n",
       "  None,\n",
       "  ('Non aprite quella bara',\n",
       "   'Los Médici: Señores de Florencia',\n",
       "   'El nombre de la rosa',\n",
       "   'Ricordi?',\n",
       "   'Natale a Londra - Dio salvi la Regina',\n",
       "   'Neverlake',\n",
       "   'Diaz. No limpiéis esta sangre',\n",
       "   'La strada di Paolo',\n",
       "   'Cenicienta')),\n",
       " ('Kai-Chun Chen',\n",
       "  None,\n",
       "  ('Operación Trueno',\n",
       "   'Fantastica',\n",
       "   'Le théâtre de la jeunesse',\n",
       "   'What Every Frenchwoman Wants'),\n",
       "  None,\n",
       "  ('Nelle tue mani',\n",
       "   'Heaven, de Tom Tykwer',\n",
       "   'Chimera',\n",
       "   'Cronache del terzo millennio',\n",
       "   'Tutti gli uomini di Sara',\n",
       "   'Venere paura',\n",
       "   'Les ritals',\n",
       "   'Il ricatto',\n",
       "   'Zio Vania di Anton Cechov')),\n",
       " ('Sing Chen',\n",
       "  '29 de septiembre de 1936',\n",
       "  ('No se aceptan devoluciones',\n",
       "   'Code... Death: Frontera Sur',\n",
       "   'La isla encantada',\n",
       "   'La invasión de los zombies atómicos'),\n",
       "  None,\n",
       "  ('La puta del rey',\n",
       "   'Cellini, una vida violenta',\n",
       "   'La casa delle anime erranti',\n",
       "   'Dos mujeres',\n",
       "   'Juegos prohibidos de una dama',\n",
       "   'Stradivarius',\n",
       "   'La última misión',\n",
       "   'Sei delitti per padre Brown',\n",
       "   'Apache Kid')),\n",
       " ('Ching-Hsia Chiang',\n",
       "  None,\n",
       "  ('Otelo (Comando negro)',\n",
       "   'Asalto al casino',\n",
       "   'Fuerza mortal',\n",
       "   'Super Bwana'),\n",
       "  None,\n",
       "  ('I delitti del cuoco',\n",
       "   \"L'uomo che cavalcava nel buio\",\n",
       "   'Il ritorno del Monnezza',\n",
       "   'Don Matteo',\n",
       "   'Padre Speranza',\n",
       "   'Noi siamo angeli',\n",
       "   'The Iron Girl',\n",
       "   'Y en Nochebuena... ¡se armó el belén!',\n",
       "   'El maxipolicía')),\n",
       " ('Wei Chung',\n",
       "  None,\n",
       "  ('Un hombre en casa',\n",
       "   'George and Mildred',\n",
       "   'The Catherine Tate Show',\n",
       "   'Last of the Summer Wine'),\n",
       "  None,\n",
       "  ('', '', '', '', '', '', '', '', '')),\n",
       " ('Han Hsieh',\n",
       "  '23 de septiembre de 1922',\n",
       "  ('La familia, bien, gracias',\n",
       "   'La noche de la ira',\n",
       "   'Otelo (Comando negro)',\n",
       "   'El señor Manolo'),\n",
       "  None,\n",
       "  ('', '', '', '', '', '', '', '', '')),\n",
       " ('Chang-Sheng Ko',\n",
       "  None,\n",
       "  ('La ley de la bahía',\n",
       "   'Home and Away',\n",
       "   'All Saints',\n",
       "   'The Road from Coorain'),\n",
       "  {'premios ganados': ['2002 Nominado Golden Rooster'],\n",
       "   'nominaciones': ['2002 Ganador Huabiao Film Award']},\n",
       "  ('El ladrón de niños',\n",
       "   'Le gorille',\n",
       "   'Tango Bar',\n",
       "   'Contaminación 7',\n",
       "   'Le denier du colt',\n",
       "   'Il vigile urbano',\n",
       "   'La stanza delle parole',\n",
       "   'La puritana',\n",
       "   'El espejo roto')),\n",
       " ('Joey Travolta',\n",
       "  '14 de octubre de 1950',\n",
       "  ('El secreto del Dr. Orloff',\n",
       "   'Curro Jiménez',\n",
       "   'Adiós, Texas',\n",
       "   'Crónica de un atraco'),\n",
       "  {'premios ganados': ['2019 Ganador Audience Award'], 'nominaciones': []},\n",
       "  ('Unspeakable: Beyond the Wall of Sleep',\n",
       "   'Night Caller',\n",
       "   'It Wants Blood!',\n",
       "   'Gone Are the Days',\n",
       "   \"The Boy Who Wouldn't Turn Right\",\n",
       "   'Decker',\n",
       "   'Wild in Blue',\n",
       "   'Infiltrators',\n",
       "   'Deadtime Stories')),\n",
       " ('Vittorio Mezzogiorno',\n",
       "  '16 de diciembre de 1941',\n",
       "  ('El hijo del capitán Blood',\n",
       "   'La guerrilla',\n",
       "   'El más fabuloso golpe del Far-West',\n",
       "   'Aquel maldito día'),\n",
       "  {'premios ganados': ['1981 Ganador Silver Ribbon',\n",
       "    '1979 Ganador Silver Ribbon'],\n",
       "   'nominaciones': ['1991 Ganador Pasinetti Award',\n",
       "    '1991 Ganador Golden Ciak']},\n",
       "  ('Doctors',\n",
       "   \"Hopper's Fortune\",\n",
       "   'El increíble viaje de Mary Bryant',\n",
       "   'Pizza',\n",
       "   'Grass Roots',\n",
       "   'Fat Pizza',\n",
       "   'Always Greener',\n",
       "   'The Adventures of Sam',\n",
       "   'The Hostages')),\n",
       " ('Ana Obregón',\n",
       "  '18 de marzo de 1955',\n",
       "  ('Ssshhhh... Koi Hai', 'Krishna', 'Rocky', 'Aurat'),\n",
       "  {'premios ganados': ['2012 Ganador Angel Film Award'],\n",
       "   'nominaciones': ['1999 Ganador Yoga Award']},\n",
       "  ('Camino al paraíso',\n",
       "   \"The Munsters' Scary Little Christmas\",\n",
       "   'A Country Practice',\n",
       "   'Fantasmas en el ordenador',\n",
       "   \"Rafferty's Rules\",\n",
       "   'En busca de la fama',\n",
       "   'Melba',\n",
       "   'Vietnam',\n",
       "   'La historia nunca contada')),\n",
       " ('Ricardo Palacios',\n",
       "  '2 de marzo de 1940',\n",
       "  ('Mahabharat', 'Aankhen', 'Aankhen', 'Roop Ki Rani Choron Ka Raja'),\n",
       "  None,\n",
       "  (\"Zombies v the Men's Shed\",\n",
       "   'What About Sal',\n",
       "   'Celebrity House Cleaner',\n",
       "   'The Debt Collector',\n",
       "   'Jane',\n",
       "   'Axmo Deus',\n",
       "   \"Lion's Den\",\n",
       "   'Limbo',\n",
       "   'Dusters')),\n",
       " ('John Steiner',\n",
       "  '7 de enero de 1941',\n",
       "  ('Andaz Apna Apna', 'Byomkesh Bakshi', 'Akele Hum Akele Tum', 'Khiladi'),\n",
       "  None,\n",
       "  ('Chance in a Million',\n",
       "   'Noches de sol',\n",
       "   'C.A.T.S. Eyes',\n",
       "   'Parada de postas',\n",
       "   'Verano peligroso',\n",
       "   'El imperio de la muerte',\n",
       "   'A Country Practice',\n",
       "   'Sporting Chance',\n",
       "   'Cop Shop')),\n",
       " ('Sal Borgese',\n",
       "  '5 de marzo de 1937',\n",
       "  ('Sadak', 'Pukar', 'China Gate', 'Jhanjaar'),\n",
       "  {'premios ganados': [\"1995 Ganador Leggio d'oro\"], 'nominaciones': []},\n",
       "  ('The Otherside',\n",
       "   'El club de la herradura',\n",
       "   'Blue Heelers',\n",
       "   'Dalkeith',\n",
       "   'La maldición de las gárgolas',\n",
       "   'Aleta',\n",
       "   'Tales of the South Seas',\n",
       "   'Doing Time for Patsy Cline',\n",
       "   'Vecinos')),\n",
       " ('Carlos Romano',\n",
       "  None,\n",
       "  ('Prison Break',\n",
       "   'Las últimas vacaciones',\n",
       "   'Bollywood/Hollywood',\n",
       "   'Otoño en Nueva York'),\n",
       "  None,\n",
       "  ('Zo shou bo ji wang',\n",
       "   'La ley de Hong Kong',\n",
       "   'Fen hong se xian jing',\n",
       "   'La fuerza del dragón',\n",
       "   'Long de ying zi',\n",
       "   'El puño ciego de Bruce Lee',\n",
       "   'La conexión del oro',\n",
       "   'Furia oriental 3',\n",
       "   'Da chu tou')),\n",
       " ('Douglas Sandoval',\n",
       "  None,\n",
       "  ('Saath Saath', 'Virasat', 'Peter John', 'Izzatdaar'),\n",
       "  None,\n",
       "  ('Furia mortal',\n",
       "   'Long de ying zi',\n",
       "   'Du jiao he',\n",
       "   'Ji tian jian piao xiang',\n",
       "   'Wu xing ba quan',\n",
       "   'La posada del dragón verde',\n",
       "   'Shi da zhang men chuang Shao Lin',\n",
       "   'Zhang San Feng du chuang Shao Lin',\n",
       "   'She mo nu da nao dou shi')),\n",
       " ('Claudia Bono',\n",
       "  None,\n",
       "  ('Gabbar Is Back', 'Knock Out', 'Chal Chala Chal', 'Dhol'),\n",
       "  None,\n",
       "  ('Thai Dragon',\n",
       "   'Wai See Lee: Lam huet yan',\n",
       "   'Shaolin Dolemite',\n",
       "   'Ops Belantara',\n",
       "   'Cazados',\n",
       "   'Dadda Connection',\n",
       "   'Dong fang lao hu',\n",
       "   'Air America',\n",
       "   'Huang jia shi jie zhi: Zhong jian ren')),\n",
       " ('Peter Cushing',\n",
       "  '26 de mayo de 1913',\n",
       "  ('Vettaikaaran', 'Kalyug', 'Bharat Ek Khoj', 'Soldier'),\n",
       "  {'premios ganados': ['1978 Nominado Saturn Award'],\n",
       "   'nominaciones': ['1956 Ganador BAFTA TV Award']},\n",
       "  ('Tong chiu gam gung huk ying',\n",
       "   'La ley de Hong Kong',\n",
       "   'Mr. Canton & Lady Rose - Gángster para un pequeño milagro',\n",
       "   'Qiang xia liu ren',\n",
       "   '¡Al ataque kung-fu kids!',\n",
       "   'Ta shi wo ge ge',\n",
       "   'Lang nu',\n",
       "   'Zui hou yi kou qi',\n",
       "   'Jungle Heat')),\n",
       " ('Claudine Auger',\n",
       "  '26 de abril de 1941',\n",
       "  ('Gandhi', 'Agneepath', 'Saaransh', 'Arth'),\n",
       "  {'premios ganados': ['1966 Nominado Golden Laurel'], 'nominaciones': []},\n",
       "  ('Ye bao',\n",
       "   'Xian shen',\n",
       "   'Heugsamgwi',\n",
       "   'La vida secreta de los ninjas',\n",
       "   'Hiena salvaje II',\n",
       "   'El desafío de Lady Ninja',\n",
       "   'Xie qi bian',\n",
       "   'Huan tie xiong di',\n",
       "   'Long de ying zi')),\n",
       " ('Hugo Stiglitz',\n",
       "  '28 de agosto de 1940',\n",
       "  ('Fruta madura',\n",
       "   'Sunshine Reggae auf Ibiza',\n",
       "   'Mujeres de frío y fuego',\n",
       "   'Solo für Sudmann'),\n",
       "  {'premios ganados': ['2023 Nominado Silver Goddess'], 'nominaciones': []},\n",
       "  ('Zhui long',\n",
       "   'Bao biao',\n",
       "   'Zhong jian jing wu men',\n",
       "   'Feng liu shi ba che',\n",
       "   'Tao Hua Nu dou Zhou Gong',\n",
       "   'Yu zhong xing',\n",
       "   'Si ji fa cai',\n",
       "   'Heng chong zhi zhuang nu sha xing',\n",
       "   'Meng hu chuang guan')),\n",
       " ('Max H. Boulois',\n",
       "  None,\n",
       "  ('Burning Rubber',\n",
       "   'The Krofft Superstar Hour',\n",
       "   'Iltatähti',\n",
       "   'Behind the Music'),\n",
       "  None,\n",
       "  ('Hei se cheng shi',\n",
       "   'Hei jin',\n",
       "   'A Lang! A Lang!',\n",
       "   'Huo bao ying ci',\n",
       "   'Pi li jing hua',\n",
       "   'Hong chun chun meng',\n",
       "   'Jing nu chu zheng',\n",
       "   'Pian wang zhi wang',\n",
       "   'Bao gao ban zhang')),\n",
       " ('Brian Murphy',\n",
       "  '25 de septiembre de 1932',\n",
       "  ('Rumbo al paraíso', 'Lerchenberg', 'Alarm in den Bergen', 'The Outsiders'),\n",
       "  {'premios ganados': ['1979 Nominado TP de Oro'], 'nominaciones': []},\n",
       "  ('', '', '', '', '', '', '', '', '')),\n",
       " ('Tony Fuentes',\n",
       "  '1955',\n",
       "  ('Burning Rubber', 'Top of the Pops', 'Shang-a-Lang', 'Marc'),\n",
       "  None,\n",
       "  ('Familia de policías 3',\n",
       "   'Crimen en el confesionario',\n",
       "   'Familia de policías',\n",
       "   'Venganza personal',\n",
       "   'En el punto de mira',\n",
       "   'El lobo de mar',\n",
       "   'Virginia y Santa Claus',\n",
       "   'Extraño vínculo de sangre',\n",
       "   'Kinjite: prohibido en occidente')),\n",
       " ('Dan Forrest',\n",
       "  None,\n",
       "  ('Burning Rubber', 'Marc', 'Shang-a-Lang', 'The Krofft Superstar Hour'),\n",
       "  None,\n",
       "  ('El súper',\n",
       "   'La ley de Los Ángeles',\n",
       "   'The Tragedy of Flight 103: The Inside Story',\n",
       "   'The Ray Bradbury Theater',\n",
       "   'Quattro piccole donne',\n",
       "   'El primer domingo de cada mes',\n",
       "   'Una cana al aire',\n",
       "   'Cavalli si nasce',\n",
       "   'Cheeeese')),\n",
       " ('Hugo Blanco',\n",
       "  '22 de enero de 1937',\n",
       "  ('Amanecer zulú',\n",
       "   'Desafio al ejercito USA',\n",
       "   'Comando águila roja',\n",
       "   'Mi aventura africana'),\n",
       "  None,\n",
       "  ('Ley y orden',\n",
       "   'Muerte silenciosa',\n",
       "   'Brutal persecución',\n",
       "   'The Highwayman',\n",
       "   'Fuerza sin límite',\n",
       "   'Se ha escrito un crimen',\n",
       "   'Blacke el Mago',\n",
       "   'Hell Town',\n",
       "   'Llamados para la gloria')),\n",
       " ('Fernando Sancho',\n",
       "  '7 de enero de 1916',\n",
       "  ('Operation Hit Squad', 'War beach', 'Departamento S', 'Los vengadores'),\n",
       "  {'premios ganados': ['1973 Ganador CEC Award'],\n",
       "   'nominaciones': ['1971 Ganador Prize of the National Syndicate of Spectacle']},\n",
       "  ('Dellaventura',\n",
       "   'City Hall: La sombra de la corrupción',\n",
       "   'El caçador furtiu',\n",
       "   'Doble amenaza',\n",
       "   'Coraje para amar',\n",
       "   'La escritora fantasma',\n",
       "   'La morte è di moda',\n",
       "   'Más allá de los límites de la realidad',\n",
       "   'La casa de la muerte')),\n",
       " ('Savita Bajaj',\n",
       "  None,\n",
       "  ('Bi xue jian',\n",
       "   'Liang ge you qi jiang',\n",
       "   'Bo hai feng yun',\n",
       "   'Duo ming nu ba tian'),\n",
       "  None,\n",
       "  ('Los primeros de la clase',\n",
       "   '¿Quién es el jefe?',\n",
       "   'Los problemas crecen',\n",
       "   'La mujer sheriff',\n",
       "   'Inocencia rota',\n",
       "   'Starman',\n",
       "   'La ley de Los Ángeles',\n",
       "   'El hechicero',\n",
       "   \"Porky's 4\")),\n",
       " ('Arun Bakshi',\n",
       "  None,\n",
       "  ('Hard-Boiled (Hervidero)',\n",
       "   'El mañana nunca muere',\n",
       "   'El pacto de los lobos',\n",
       "   'El secreto del talismán'),\n",
       "  None,\n",
       "  ('Intercambio mortal',\n",
       "   'Babysitter',\n",
       "   'The Burning Dead (Vulcano Zombies)',\n",
       "   'Not Now John',\n",
       "   'Los Ángeles: Distrito criminal',\n",
       "   'Peach Plum Pear',\n",
       "   'Mentes criminales',\n",
       "   'Confession',\n",
       "   'Pray for Morning')),\n",
       " ('Suresh Bhagwat',\n",
       "  None,\n",
       "  ('Shen diao xia lü',\n",
       "   'Yi tian tu long ji',\n",
       "   'Men with No Shadows',\n",
       "   'Mama, wo ai nin'),\n",
       "  None,\n",
       "  ('The Acolyte',\n",
       "   'The Knife',\n",
       "   'Hailey ¡A por todas!',\n",
       "   'Disney Theme Song Takeover',\n",
       "   'Chibiverse',\n",
       "   'Moon Girl y Dinosaurio Diabólico',\n",
       "   'Broken Karaoke',\n",
       "   'Cora Bora',\n",
       "   'Mortal Kombat Legends: ciega de nieve')),\n",
       " ('Suhas Bhalekar',\n",
       "  '1930',\n",
       "  ('Bi xue jian',\n",
       "   'Jue dai shuang jiao',\n",
       "   'Shen jing da xia',\n",
       "   'Xiao shi yi lang'),\n",
       "  None,\n",
       "  ('Fahrenheit: Indigo Prophecy Remastered',\n",
       "   'Mars: War Logs',\n",
       "   'King Kong: The Official Game of the Movie',\n",
       "   'Fahrenheit',\n",
       "   'Funky Cops',\n",
       "   'Casablanca Driver',\n",
       "   'Immortal (Ad Vitam)',\n",
       "   \"Charlie's Angels\",\n",
       "   'Demonlover')),\n",
       " ('Ranjit Chowdhry',\n",
       "  '19 de septiembre de 1955',\n",
       "  ('Tai-Chi Master',\n",
       "   'Jet Li es el mejor luchador',\n",
       "   'Cha shou',\n",
       "   'Duo bao qiao jia ren'),\n",
       "  {'premios ganados': ['2003 Nominado Genie'], 'nominaciones': []},\n",
       "  ('The Chief',\n",
       "   'Años de pesadilla',\n",
       "   'La vuelta al mundo en 80 días',\n",
       "   'La gran evasión II: La historia jamás contada',\n",
       "   'Vacaciones en Roma',\n",
       "   'Mantén vivo el sueño',\n",
       "   'Las dos señoras Grenville',\n",
       "   'La loca guerra de la Gran Bretaña',\n",
       "   'Terrorífica luna de miel')),\n",
       " ('Dilip Dhawan',\n",
       "  '1955',\n",
       "  ('Sin perdón',\n",
       "   'Gladiator (El gladiador)',\n",
       "   'Camelot',\n",
       "   'La venganza del conde de Montecristo'),\n",
       "  None,\n",
       "  ('Zafarrancho en Cambridge',\n",
       "   'El secreto de la pirámide',\n",
       "   'The Practice',\n",
       "   'Mitch',\n",
       "   'Goodbye Mr. Chips',\n",
       "   'Thank You, Mrs. Clinkscales',\n",
       "   'Johnny Jarvis',\n",
       "   'The Stanley Baxter Hour',\n",
       "   'El reposo de los valientes')),\n",
       " ('Kaluram Dhobale',\n",
       "  None,\n",
       "  ('Beginners (Principiantes)',\n",
       "   'El dilema (The Insider)',\n",
       "   'Remember',\n",
       "   'Todo el dinero del mundo'),\n",
       "  None,\n",
       "  ('Ling hao zhui sha',\n",
       "   'Feng shen waizhuan zhi Leizhèn Zi',\n",
       "   'Huánghé jù shé shìjiàn',\n",
       "   'Tao xue shen tan',\n",
       "   'Di Renjie zhi jiu ceng yao lou',\n",
       "   'Qing mian Xiuluo',\n",
       "   'Tie xian gong fu quan',\n",
       "   'Wushen Su Qi Er zhi Honglian chong gu',\n",
       "   'Straw Man Murder Case')),\n",
       " ('Salim Ghouse',\n",
       "  '1952',\n",
       "  ('¡Socorro! Llegan las vacaciones',\n",
       "   'Vacaciones en Las Vegas',\n",
       "   '¡Socorro! Ya es Navidad',\n",
       "   'American History X'),\n",
       "  {'premios ganados': ['2010 Nominado Jury Award'], 'nominaciones': []},\n",
       "  ('Deer Squad',\n",
       "   'Xiao Q',\n",
       "   'Fei fen shu nü',\n",
       "   'Mrs K',\n",
       "   'An Idiot Lost in Xiangxi',\n",
       "   'Jin Gang Wang: Si wang jiu shu',\n",
       "   '7 Assassins',\n",
       "   'Xin Ping zong xia ying',\n",
       "   'Revenge: A Love Story')),\n",
       " ('Rohini Hattangadi',\n",
       "  '11 de abril de 1955',\n",
       "  ('La amenaza de Andrómeda',\n",
       "   'Atlantic City',\n",
       "   'Muerte de un viajante',\n",
       "   'Philip Marlowe'),\n",
       "  {'premios ganados': ['1983 Ganador BAFTA Film Award'],\n",
       "   'nominaciones': ['1991 Ganador Filmfare Award']},\n",
       "  ('Zhong jian dao',\n",
       "   'Fei yue yin yang jie',\n",
       "   'Cuo ti ren',\n",
       "   'Zhi zhuan yi jian',\n",
       "   'Nam nui fong ching sik',\n",
       "   'Zhong gui',\n",
       "   'An qu',\n",
       "   'Tian can bian',\n",
       "   'Feng shen jie')),\n",
       " ('Olivia Pascal',\n",
       "  '26 de mayo de 1957',\n",
       "  ('The Game', 'El síndrome de China', 'Expediente X', 'Private School'),\n",
       "  {'premios ganados': ['1980 Nominado Jupiter Award'],\n",
       "   'nominaciones': ['1980 Nominado Bravo Otto Germany']},\n",
       "  ('Si hai',\n",
       "   'Mak lo yan',\n",
       "   'Gam man da song si',\n",
       "   'Goo waat zai: Gong woo sun dit jui',\n",
       "   'Xuan hong',\n",
       "   'El joven Bruce Lee',\n",
       "   'Fei cui ming zhu',\n",
       "   'Xiong di',\n",
       "   'Sheng zhe wei wang')),\n",
       " ('Alan Longmuir',\n",
       "  '20 de junio de 1948',\n",
       "  ('Skyline', 'Bulworth', 'Contact', 'Sister Act 2: De vuelta al convento'),\n",
       "  None,\n",
       "  ('Huo mo gao gen xie',\n",
       "   'Sword Master',\n",
       "   'Kong cheng ji',\n",
       "   'Da lui toi',\n",
       "   'Xiang Shuai chuan qi: Tian yi shen you',\n",
       "   'Xiang Shuai chuan qi: Tao hua chuan qi',\n",
       "   'Lei ting han fei',\n",
       "   'Fengliu caizi qiao jiaren',\n",
       "   'Provocative Monkey')),\n",
       " ('Sascha Hehn',\n",
       "  '11 de octubre de 1954',\n",
       "  ('Sin perdón',\n",
       "   'Amor a quemarropa',\n",
       "   'La balada de Buster Scruggs',\n",
       "   'Hunters'),\n",
       "  {'premios ganados': ['2014 Nominado Adolf Grimme Award'],\n",
       "   'nominaciones': ['2014 Nominado Romy']},\n",
       "  ('Lapu-Lapu',\n",
       "   'Kung mawawala ka',\n",
       "   'Sa puso ko, iingatan ka',\n",
       "   'Ano bang meron ka?',\n",
       "   \"Bakit 'di totohanin\",\n",
       "   'Lo recordaras',\n",
       "   'Hipag',\n",
       "   'Bakit kailangan ng ibon ang pakpak',\n",
       "   'The Secret of Katrina Salazar')),\n",
       " (\"Stuart 'Woody' Wood\",\n",
       "  '25 de febrero de 1957',\n",
       "  ('Mi primo Vinny',\n",
       "   'Bailando con lobos',\n",
       "   'Juegos de guerra',\n",
       "   'Un ratoncito duro de roer'),\n",
       "  None,\n",
       "  ('Masdan mo ang mga bata',\n",
       "   \"Ang mamatay ng dahil sa 'yo\",\n",
       "   'Tong-its',\n",
       "   'Die xue rou qing',\n",
       "   'Matira ang matibay',\n",
       "   'Costales',\n",
       "   'Iligpit si Bobby Ortega: Markang bungo 2',\n",
       "   'Demolisyon: Dayuhan sa sariling bayan',\n",
       "   'Oplan: Mindanao')),\n",
       " ('Derek Longmuir',\n",
       "  '19 de marzo de 1951',\n",
       "  ('X-Men', 'X-Men', 'Maniac Mansion', 'Las aventuras de Sinbad'),\n",
       "  None,\n",
       "  ('', '', '', '', '', '', '', '', '')),\n",
       " ('Duncan Faure',\n",
       "  None,\n",
       "  ('Aquarius', 'Begin Again', 'Jubilee', 'She'),\n",
       "  None,\n",
       "  ('Water Wars',\n",
       "   'Ang bagong dugo',\n",
       "   'Boy Golden: Shoot to Kill',\n",
       "   'Badil',\n",
       "   \"Kung ako'y iiwan mo\",\n",
       "   'Toda Max',\n",
       "   'Enteng ng Ina mo',\n",
       "   'Pak! Pak! My Dr. Kwak!',\n",
       "   'Dalaw')),\n",
       " ('Len Sparrowhawk',\n",
       "  None,\n",
       "  ('Emanuelle negra',\n",
       "   'Violencia en una cárcel de mujeres',\n",
       "   'Emanuelle alrededor del mundo',\n",
       "   'Bronx, lucha final'),\n",
       "  None,\n",
       "  ('Genius Teens',\n",
       "   'Karne the Taste of Meat',\n",
       "   'The Immortal Hunters',\n",
       "   'Chicken Zombies',\n",
       "   'Way of the Cross',\n",
       "   'Comandante General',\n",
       "   'Mystified',\n",
       "   'The Lease',\n",
       "   'Historiographika errata')),\n",
       " ('Peter J. Elliott',\n",
       "  '14 de junio de 1930',\n",
       "  ('Edipo, el hijo de la fortuna',\n",
       "   'Zio Vania di Anton Cechov',\n",
       "   'Heaven, de Tom Tykwer',\n",
       "   'Calígula 3, la historia jamás contada'),\n",
       "  None,\n",
       "  ('X & Y',\n",
       "   'After All',\n",
       "   'Pepito Manaloto: Tuloy ang kuwento',\n",
       "   'Pieta',\n",
       "   'Nagalit ang patay sa haba ng lamay: Da resbak',\n",
       "   'Walang matigas na pulis sa matinik na misis',\n",
       "   'La gran apuesta',\n",
       "   'Lolong',\n",
       "   'Huwag kang lalabas')),\n",
       " ('Yolanda Kloppers',\n",
       "  None,\n",
       "  ('Lady Halcón', 'Waterloo', 'El último gladiador', 'Ator 2. El invencible'),\n",
       "  None,\n",
       "  ('She Shen Ji',\n",
       "   \"Kill 'em All\",\n",
       "   'El hombre de los puños de hierro',\n",
       "   'Blood Money',\n",
       "   'Hua pi 2',\n",
       "   'Dai jui bou',\n",
       "   'La espada del dragón',\n",
       "   'Quan qiu re lian',\n",
       "   'Links to Temptation')),\n",
       " ('Tien-Hsiang Lung',\n",
       "  None,\n",
       "  ('Demons', 'Cuchillos en la oscuridad', 'Arrayán', 'La piovra'),\n",
       "  None,\n",
       "  ('Jiang Ye 2',\n",
       "   'Jiang ye',\n",
       "   'Saving General Yang',\n",
       "   'Rong gui',\n",
       "   'Chiu bao dai chong',\n",
       "   'Chor hong gil hung',\n",
       "   'Liu jai san ji',\n",
       "   'Sai gei chi chin',\n",
       "   'Sun seung hoi taan')),\n",
       " ('Phillip Chung-Fung Kwok',\n",
       "  '21 de octubre de 1951',\n",
       "  ('Calígula 3, la historia jamás contada',\n",
       "   'Speed Cross',\n",
       "   'El gran infierno verde (Green Inferno)',\n",
       "   \"L'avvoltoio sa attendere\"),\n",
       "  {'premios ganados': ['2000 Nominado Golden Horse Award'],\n",
       "   'nominaciones': ['2003 Nominado Hong Kong Film Award']},\n",
       "  ('Tae',\n",
       "   'Shao Lin yu Wu Dang',\n",
       "   'Noigwon',\n",
       "   'Solimsa yongpali',\n",
       "   'Hwaya',\n",
       "   'Jackie y Bruce al rescate',\n",
       "   'Inchon',\n",
       "   'Jie dao sha ren',\n",
       "   'Daehyeongchuldo')),\n",
       " ('Gigi Suk Yee Wong',\n",
       "  None,\n",
       "  ('Astérix y Obélix: Misión Cleopatra',\n",
       "   'Il bello delle donne',\n",
       "   'Vicino al fiume',\n",
       "   'Maria si'),\n",
       "  None,\n",
       "  ('Kong woo liu duen',\n",
       "   'Discípulos de la Cámara 36',\n",
       "   'Di zi ye feng kuang',\n",
       "   'Ai nu xin zhuan',\n",
       "   'Ngoh wai nei kong',\n",
       "   'Hung kuen dai see',\n",
       "   'Nan dou guan san dou bei shao ye',\n",
       "   'Bu yi shen xiang',\n",
       "   'Liang shang jun zi')),\n",
       " ('Hsueh-Erh Wen',\n",
       "  '1 de marzo de 1960',\n",
       "  ('Robot jox',\n",
       "   'El devorador del océano',\n",
       "   'Leviathan: El demonio del abismo',\n",
       "   \"Le journal érotique d'une Thaïlandaise\"),\n",
       "  None,\n",
       "  ('Lil Wild Special',\n",
       "   'Like a Dragon: Infinite Wealth',\n",
       "   'Kaettekita Pikachuu',\n",
       "   'Horimiya -piece-',\n",
       "   'Master Detective Archives: Rain Code',\n",
       "   'Diablo IV',\n",
       "   'Midautumn',\n",
       "   'Horizon Forbidden West: Burning Shores',\n",
       "   'Kuma Kuma Kuma Bear')),\n",
       " ('Siu-Ho Chin',\n",
       "  '26 de enero de 1963',\n",
       "  ('Bronx, lucha final',\n",
       "   'El vuelo del Fénix',\n",
       "   'Le sette spade del vendicatore',\n",
       "   'La isla misteriosa'),\n",
       "  {'premios ganados': ['2005 Ganador Jury Prize'], 'nominaciones': []},\n",
       "  ('Khi tshe sì tsap káu thinn',\n",
       "   'Songs and the City',\n",
       "   'Lion Dance',\n",
       "   'Estranged Father',\n",
       "   'Lian ai da ying jia',\n",
       "   'Miao tan shen wei',\n",
       "   'Lai qu shao lin',\n",
       "   'Hei se cheng shi',\n",
       "   'Ling Huan Shao Nu')),\n",
       " ('Richard Harris',\n",
       "  '1 de octubre de 1930',\n",
       "  ('Profesión: El especialista',\n",
       "   'Lifeforce: Fuerza vital',\n",
       "   'Ed Gein',\n",
       "   'Barb Wire'),\n",
       "  {'premios ganados': ['1991 Nominado Oscar', '1964 Nominado Oscar'],\n",
       "   'nominaciones': ['1971 Nominado Golden Berlin Bear']},\n",
       "  ('Tin yu dei',\n",
       "   'Fei nui ching cheun',\n",
       "   'Chu kwong bo hei',\n",
       "   'Hak sai lik',\n",
       "   'The Price of Greed',\n",
       "   'Jeuk sing 3 gi ji mor sam bak fan',\n",
       "   'Wui ton tin ha',\n",
       "   'CIB ying si ching bo for',\n",
       "   'For mo wong saa')),\n",
       " ('Christopher Plummer',\n",
       "  '13 de diciembre de 1929',\n",
       "  ('Romeo y Julieta', 'Navidades negras', 'Muerte en el Nilo', 'It'),\n",
       "  {'premios ganados': ['2018 Nominado Oscar',\n",
       "    '2012 Ganador Oscar',\n",
       "    '2010 Nominado Oscar'],\n",
       "   'nominaciones': ['1998 Nominado Annie']},\n",
       "  ('Inner Senses',\n",
       "   'Yan fei yan mie',\n",
       "   'Lian zhan Chong Cheng',\n",
       "   'Siu chan chan',\n",
       "   'Cheung wong',\n",
       "   'Lau sing yue',\n",
       "   'Sing yuet tung wa',\n",
       "   'Amores rojos',\n",
       "   'On na ma dak lin na')),\n",
       " (\"Beverly D'Angelo\",\n",
       "  '15 de noviembre de 1951',\n",
       "  ('Médicos de cabecera',\n",
       "   'El amargo silencio',\n",
       "   'Ride a Wild Pony',\n",
       "   'Comando de la muerte'),\n",
       "  {'premios ganados': ['1984 Nominado Primetime Emmy'],\n",
       "   'nominaciones': ['1981 Nominado Golden Globe']},\n",
       "  ('Qi di zu',\n",
       "   'Summer of Fire: Dragon & Tiger',\n",
       "   'Dao bei cang shen',\n",
       "   'Duk gai',\n",
       "   'Na nin ha tin nei hoi liu na lei',\n",
       "   'Tyut pei ba ba',\n",
       "   'An Idiot Lost in Xiangxi',\n",
       "   'Shi fu',\n",
       "   'The Great Lion Kun Seng Keng')),\n",
       " ('Kate Reid',\n",
       "  '4 de noviembre de 1930',\n",
       "  ('Hotel Bombay',\n",
       "   'Otro mundo',\n",
       "   'Más allá de la reencarnación',\n",
       "   'El imperio de la muerte'),\n",
       "  {'premios ganados': ['1987 Nominado ACE'],\n",
       "   'nominaciones': ['1963 Nominado Primetime Emmy']},\n",
       "  ('Tian guan ci fu',\n",
       "   'Oi san yat ho',\n",
       "   'Choh dim yuen yeung',\n",
       "   'Zou huo pao',\n",
       "   'Jin yi wei',\n",
       "   'Sam sap chue nam',\n",
       "   'Bu yi shen xiang',\n",
       "   'Zhong gui',\n",
       "   'Yang guo yu xiao long nu')),\n",
       " ('Peter Donat',\n",
       "  '20 de enero de 1928',\n",
       "  ('El año que vivimos peligrosamente',\n",
       "   'Eliza Fraser',\n",
       "   'Camino al paraíso',\n",
       "   'El imperio de la muerte'),\n",
       "  {'premios ganados': ['1985 Nominado Genie'], 'nominaciones': []},\n",
       "  ('Du wen',\n",
       "   '1/3 qing ren',\n",
       "   'Xin zi bao miao tan',\n",
       "   'Tou shen gu zu',\n",
       "   'Sei dou yau waak',\n",
       "   'Wu ya jiang shi',\n",
       "   'E jiang',\n",
       "   'Lai xin sha zhan',\n",
       "   'Jin yi wei')),\n",
       " ('Robin Gammell',\n",
       "  '22 de septiembre de 1936',\n",
       "  ('Prisoner', 'El imperio de la muerte', 'Cop Shop', 'Crawl'),\n",
       "  {'premios ganados': ['1995 Nominado Gemini', '1993 Nominado Gemini'],\n",
       "   'nominaciones': ['1980 Nominado Genie']},\n",
       "  ('Tong tian pai dang',\n",
       "   'Liang xiao hua nong yue',\n",
       "   'Bi gui zhuo',\n",
       "   'Tian guan ci fu',\n",
       "   'Jian dong xiao xiong',\n",
       "   'Kong woo liu duen',\n",
       "   'Discípulos de la Cámara 36',\n",
       "   'Gui ma fei ren',\n",
       "   'Yi tuo qiu sheng')),\n",
       " ('Saul Rubinek',\n",
       "  '2 de julio de 1948',\n",
       "  ('Mad Max - Salvajes de autopista',\n",
       "   'Un vaquero sin rumbo',\n",
       "   'Bad Behaviour',\n",
       "   'El dragón vuela alto'),\n",
       "  {'premios ganados': ['2001 Ganador Alan J. Pakula Award'],\n",
       "   'nominaciones': ['2008 Nominado Gemini']},\n",
       "  ('Una historia china de fantasmas',\n",
       "   'Mo cuo gu',\n",
       "   'Chi gui xian',\n",
       "   'Feng liu zhong',\n",
       "   'Liang shang jun zi',\n",
       "   'Liu zhi qin mo',\n",
       "   'Hua xin da shao',\n",
       "   'Man tian shen fo',\n",
       "   'La Palma de Buda')),\n",
       " ('Maury Chaykin',\n",
       "  '27 de julio de 1949',\n",
       "  ('Spy Story',\n",
       "   'El imperio de la muerte',\n",
       "   'La banda del zoológico',\n",
       "   'Poldark'),\n",
       "  {'premios ganados': ['2009 Ganador Canadian Comedy Award'],\n",
       "   'nominaciones': ['2006 Ganador Gemini']},\n",
       "  ('Git suk geung see',\n",
       "   'Boli shaonu',\n",
       "   'Sei yan bong: Chin ng gau sai',\n",
       "   'Wei xian ren wu',\n",
       "   'Hubungan jenayah',\n",
       "   'Hung Hei Gun',\n",
       "   'Hei se zou lang',\n",
       "   'Wan Chai ji foo',\n",
       "   'Yuk fung')),\n",
       " ('George Buza',\n",
       "  '7 de enero',\n",
       "  ('El lago azul', 'Cocodrilo Dundee II', 'Stark', 'El hombre de Río Nevado'),\n",
       "  {'premios ganados': ['2001 Nominado Gemini', '1992 Nominado Gemini'],\n",
       "   'nominaciones': []},\n",
       "  ('Man tian shen fo',\n",
       "   'Sha yu shao mai',\n",
       "   'He fang shen sheng',\n",
       "   'Zhi fa zhe',\n",
       "   'Xian ren',\n",
       "   'Xun bu fang',\n",
       "   'Última dinastía Ching',\n",
       "   'Zui she xiao zi',\n",
       "   'Jin shou zhi')),\n",
       " ('David Brandon',\n",
       "  None,\n",
       "  ('La última aventura de Bruce Lee',\n",
       "   'Long de ying zi',\n",
       "   'Furia oriental 3',\n",
       "   'El desafío de Bruce Li'),\n",
       "  None,\n",
       "  ('Duk gai',\n",
       "   '72 ga cho hak',\n",
       "   'See piu fung wan',\n",
       "   'Gam chin dai gwok',\n",
       "   'Legendary Assassin',\n",
       "   'Duo shuai',\n",
       "   '2 ladrones y medio',\n",
       "   'Divergence',\n",
       "   'Dou hap 2002')),\n",
       " ('Laura Gemser',\n",
       "  '5 de octubre de 1950',\n",
       "  ('Shi shen de shao nu',\n",
       "   'She mo nu da nao dou shi',\n",
       "   'Ji tian jian piao xiang',\n",
       "   'Long de ying zi'),\n",
       "  None,\n",
       "  ('Liaison',\n",
       "   \"Maman, ne me laisse pas m'endormir\",\n",
       "   'Les Enfants des Justes',\n",
       "   \"Gérard Lanvin 'Mon héroïne' Feat. Marcela Cisarova\",\n",
       "   'Tu mejor fan',\n",
       "   \"Gérard Lanvin 'Aussi vite que le temps' Feat. Dani (Clip Officiel)\",\n",
       "   \"Gérard Lanvin 'On le dit sauvage, on le dit brutal' Feat. Manu Lanvin (Clip Officiel)\",\n",
       "   'Hazme volar',\n",
       "   \"Gérard Lanvin 'Entre le dire et le faire' (feat. Johnny Gallagher)\")),\n",
       " ('Luciano Bartoli',\n",
       "  '17 de octubre de 1946',\n",
       "  ('Kickboxer',\n",
       "   'Valent & Reggie',\n",
       "   'Garuda 7 the Last Assignment',\n",
       "   'Identity Crisis'),\n",
       "  None,\n",
       "  ('Notre-Dame des Hormones',\n",
       "   'Le goût des myrtilles',\n",
       "   'As Linhas de Torres Vedras',\n",
       "   'Las líneas de Wellington',\n",
       "   'Holy Motors',\n",
       "   \"Vous n'avez encore rien vu\",\n",
       "   'Habemus Papam',\n",
       "   'Un envol',\n",
       "   \"L'insurgée\")),\n",
       " ('Charles Borromel',\n",
       "  '28 de enero de 1933',\n",
       "  ('El furor del dragón', 'Furia oriental', 'Yi tan zhao yao jing', 'Hapkido'),\n",
       "  None,\n",
       "  ('Maigret',\n",
       "   'Là-haut, un roi au-dessus des nuages',\n",
       "   'Mi padre',\n",
       "   'Bajo la arena',\n",
       "   'Taxi de nuit',\n",
       "   'La piovra',\n",
       "   'Un vampire au paradis',\n",
       "   'Money',\n",
       "   'Tango Bar')),\n",
       " ('Fabiola Toledo',\n",
       "  None,\n",
       "  ('Yu tou dai lao ben tu di',\n",
       "   'Shao Lin dou La Ma',\n",
       "   'Wu quan',\n",
       "   'El desafío de Lady Ninja'),\n",
       "  None,\n",
       "  ('Les Cordier, juge et flic',\n",
       "   'Sa femme à moi',\n",
       "   'Regarde-moi quand je te quitte',\n",
       "   'Chacun pour toi',\n",
       "   'Les mercredis de la vie',\n",
       "   'Marie-Galante',\n",
       "   'Ferbac',\n",
       "   'Le fils du Mékong',\n",
       "   'Las aventuras del joven Indiana Jones')),\n",
       " (\"Sasha D'Arc\",\n",
       "  '12 de junio de 1945',\n",
       "  ('Gû tshia lâi khì',\n",
       "   'Zhang bu da de ba ba',\n",
       "   'I Love You So Much',\n",
       "   'Lian ai kong huang zheng'),\n",
       "  None,\n",
       "  ('Prends ta bible et tire-toi',\n",
       "   'Nympho',\n",
       "   'Le vigneron et la mort',\n",
       "   'The World After',\n",
       "   'Bless Me, Father',\n",
       "   'Départ en Fanfare',\n",
       "   'Nécrologies',\n",
       "   'La Loi de Morphy',\n",
       "   'Menina')),\n",
       " ('Alessandro Freyberger',\n",
       "  None,\n",
       "  ('Long men kezhan',\n",
       "   'Karate, mano de acero',\n",
       "   'Bao biao',\n",
       "   'Ji shi zai hui tou'),\n",
       "  None,\n",
       "  ('Commissaire Laviolette',\n",
       "   'Santuario',\n",
       "   'Les rides',\n",
       "   'Ici-bas',\n",
       "   'Présumé coupable',\n",
       "   'Nicolas Le Floch',\n",
       "   'La Vénitienne',\n",
       "   'Coup de chaleur',\n",
       "   'Joséphine, ange gardien')),\n",
       " ('Larry Dolgin',\n",
       "  '27 de diciembre de 1931',\n",
       "  ('Xue di zi',\n",
       "   'Liu A-Cai yu Huang Fei-Hong',\n",
       "   'Jing nu chu zheng',\n",
       "   'Sing gei cha low'),\n",
       "  None,\n",
       "  ('Testigo de excepción',\n",
       "   'El solitario',\n",
       "   'Avec plaisir',\n",
       "   'Le débutant',\n",
       "   'Dressage',\n",
       "   'Les Bargeot',\n",
       "   'Tranches de vie',\n",
       "   'Battling le ténébreux',\n",
       "   'Charlots connection')),\n",
       " ('Gabriele Tinti',\n",
       "  '22 de agosto de 1932',\n",
       "  ('Juego con la muerte',\n",
       "   'Golpe en la pequeña China',\n",
       "   '2013: Rescate en L.A.',\n",
       "   'Spartan'),\n",
       "  None,\n",
       "  ('Peter Strohm',\n",
       "   'Venti dal Sud',\n",
       "   'Derrick',\n",
       "   \"Auntie Lee's Meat Pies\",\n",
       "   'Ein Schloß am Wörthersee',\n",
       "   'Laser mission',\n",
       "   'Nato per combattere',\n",
       "   'Juegos de policía',\n",
       "   'Geheime Reichssache')),\n",
       " ('Steve Railsback',\n",
       "  '16 de noviembre de 1945',\n",
       "  ('El justiciero de la ciudad',\n",
       "   'Hasta que llegó su hora',\n",
       "   'La gran evasión',\n",
       "   'Los siete magníficos'),\n",
       "  {'premios ganados': ['2000 Ganador Best Actor'],\n",
       "   'nominaciones': ['2001 Ganador Best Actor']},\n",
       "  ('Crónicas urbanas',\n",
       "   'Canción triste de...',\n",
       "   'Fiebre de danza',\n",
       "   'Las fantasías de Cuny',\n",
       "   'Gritos de ansiedad',\n",
       "   'La avispita Ruinasa',\n",
       "   'USA, violación y venganza',\n",
       "   'Dejadme vivir',\n",
       "   '7 cabalgan hacia la muerte')),\n",
       " ('Olivia Hussey',\n",
       "  '17 de abril de 1951',\n",
       "  ('El luchador',\n",
       "   'El guardaespaldas de la primera dama',\n",
       "   'Yo soy la justicia',\n",
       "   'Amor y balas'),\n",
       "  {'premios ganados': ['2008 Nominado ALMA Award'],\n",
       "   'nominaciones': ['2001 Nominado Annie']},\n",
       "  ('Cuéntame cómo pasó',\n",
       "   'La que se avecina',\n",
       "   'Los Serrano',\n",
       "   'El comisario',\n",
       "   'Aquí no hay quien viva',\n",
       "   'Un paso adelante',\n",
       "   'Javier ya no vive solo',\n",
       "   'Compañeros',\n",
       "   'Periodistas')),\n",
       " ('Michael Craig',\n",
       "  '27 de enero de 1929',\n",
       "  ('Hechizo de luna',\n",
       "   'El justiciero de la ciudad',\n",
       "   'La tienda de los horrores',\n",
       "   'El cielo puede esperar'),\n",
       "  {'premios ganados': ['1961 Nominado Oscar'],\n",
       "   'nominaciones': ['1977 Nominado AFI Award']},\n",
       "  ('Pasos Largos: El último bandido andaluz',\n",
       "   'Página de sucesos',\n",
       "   'La huella del crimen',\n",
       "   'Proceso a Mariana Pineda',\n",
       "   'Todo va mal',\n",
       "   'Gritos de ansiedad',\n",
       "   'Cosas de dos',\n",
       "   'Lecciones de tocador',\n",
       "   'La avispita Ruinasa')),\n",
       " ('Carmen Duncan',\n",
       "  '7 de julio de 1942',\n",
       "  ('La leyenda del indomable', 'McCloud', 'Yo soy la justicia', 'El fugitivo'),\n",
       "  {'premios ganados': ['1980 Nominado AFI Award'],\n",
       "   'nominaciones': ['1992 Nominado Soap Opera Digest Award']},\n",
       "  ('Cuéntame cómo pasó',\n",
       "   \"Irene's Love\",\n",
       "   'El fin de la comedia',\n",
       "   'Centro médico',\n",
       "   'Backseat Fighter',\n",
       "   'El Príncipe',\n",
       "   'Francisco: El padre Jorge',\n",
       "   'Petra',\n",
       "   'El clavo de oro')),\n",
       " ('Noel Ferrier',\n",
       "  '20 de diciembre de 1930',\n",
       "  ('Tenebre',\n",
       "   'Un sombrero lleno de lluvia',\n",
       "   'Un rostro en la multitud',\n",
       "   'City Hall: La sombra de la corrupción'),\n",
       "  {'premios ganados': ['1977 Nominado AFI Award'], 'nominaciones': []},\n",
       "  ('USA, violación y venganza',\n",
       "   'Los gozos y las sombras',\n",
       "   'Las chicas del bingo',\n",
       "   'Verano azul',\n",
       "   'IOB Spezialauftrag',\n",
       "   'El día del presidente',\n",
       "   'El juglar y la reina',\n",
       "   'El terrorista',\n",
       "   'Un hombre llamado Flor de Otoño')),\n",
       " ('Lynda Stoner',\n",
       "  '10 de septiembre de 1953',\n",
       "  ('Yo soy la justicia',\n",
       "   'Yo soy espía',\n",
       "   'Galáctica: Estrella de combate',\n",
       "   'Historia policial'),\n",
       "  None,\n",
       "  ('Shi hun',\n",
       "   'Xue di zi',\n",
       "   \"Let's Go!\",\n",
       "   'Dragón',\n",
       "   'Kyokutô kuroshakai',\n",
       "   'Wu hu si hai',\n",
       "   'Huo tou fu xing',\n",
       "   'Qian ren zhan',\n",
       "   'Island of Fire (Isla de fuego)')),\n",
       " ('Roger Ward',\n",
       "  '1936',\n",
       "  ('Yo soy la justicia',\n",
       "   'Electric Boogaloo: la loca historia de Cannon Films',\n",
       "   'Trampa para turistas',\n",
       "   'Impacto'),\n",
       "  {'premios ganados': ['2023 Ganador Best Actor',\n",
       "    '2020 Ganador Best Supporting Actor',\n",
       "    '2010 Ganador Best Supporting Actor'],\n",
       "   'nominaciones': []},\n",
       "  ('Young Heroes of Chaotic Time',\n",
       "   'Lan Ling Wang zhi Qi xue daofeng',\n",
       "   'Chang sheng zhi',\n",
       "   'Word of Honor',\n",
       "   'The City of Kungfu',\n",
       "   'Zhen hun ge',\n",
       "   'Tianqi da baozha',\n",
       "   'Wo hu han jiang',\n",
       "   'Zhu xian I')),\n",
       " ('Michael Petrovitch',\n",
       "  '1945',\n",
       "  ('Centennial',\n",
       "   'Yo soy la justicia',\n",
       "   'Un paseo por las nubes',\n",
       "   'Policías de Nueva York'),\n",
       "  None,\n",
       "  ('Taam Pun Juen Ga',\n",
       "   'Goldfinger',\n",
       "   'Cim hang',\n",
       "   'Mo Si Ke xing dong',\n",
       "   'Hong tan xiansheng',\n",
       "   'Su ming dao',\n",
       "   'The Wandering Earth 2',\n",
       "   'Detective Chinatown 3',\n",
       "   'Ren chao xiong yong')),\n",
       " ('Gus Mercurio',\n",
       "  '10 de agosto de 1928',\n",
       "  ('Cabeza de pelotón', 'Superstrata', 'Beyond Fear', 'Camino recto'),\n",
       "  None,\n",
       "  ('Retro Podcast',\n",
       "   'Chuck and Charlie',\n",
       "   'Mr. Amazing',\n",
       "   'Extraction',\n",
       "   'Gastropod',\n",
       "   'Bob Freeman: Exterminator For Hire',\n",
       "   'Tuyouber',\n",
       "   'The Three Bilinguals',\n",
       "   'Mentes criminales')),\n",
       " ('Bruce Li',\n",
       "  None,\n",
       "  ('Pesadilla americana',\n",
       "   'El reposo de los valientes',\n",
       "   'The Running Gun',\n",
       "   'Un sexto sentido'),\n",
       "  None,\n",
       "  ('Reverse Heaven',\n",
       "   'Deliverance Creek',\n",
       "   'Circle',\n",
       "   'The Legend of Simon Conjurer',\n",
       "   'The New Detectives: Case Studies in Forensic Science',\n",
       "   'The Prosecutors: In Pursuit of Justice',\n",
       "   \"Hey, Hey, It's the Monkees\",\n",
       "   'A Million to Juan',\n",
       "   'Ave Cesar')),\n",
       " ('Lung Szema',\n",
       "  None,\n",
       "  ('The Good Place',\n",
       "   'Nueve perfectos extraños',\n",
       "   'Quiero que vuelvas',\n",
       "   'Top Gun: Maverick'),\n",
       "  None,\n",
       "  ('', '', '', '', '', '', '', '', '')),\n",
       " ('John Ladalski',\n",
       "  '16 de febrero de 1950',\n",
       "  ('Frenético',\n",
       "   'Immortal (Ad Vitam)',\n",
       "   'Lien de parenté',\n",
       "   'Highlander: The Raven'),\n",
       "  None,\n",
       "  ('Sugar Baby',\n",
       "   'Run the World',\n",
       "   'Roborockalypse',\n",
       "   'Linoleum',\n",
       "   'Academy',\n",
       "   'Maneater',\n",
       "   'Pump',\n",
       "   'Fired',\n",
       "   'Airport Security Squad')),\n",
       " ('Ping-Ou Wei',\n",
       "  '29 de noviembre de 1929',\n",
       "  ('La espía que me amó',\n",
       "   'Oppenheimer',\n",
       "   'La loca guerra de la Gran Bretaña',\n",
       "   'S.A.S. Los invencibles'),\n",
       "  None,\n",
       "  ('Delta Force',\n",
       "   'Doce del patíbulo: la siguiente misión',\n",
       "   'Día de perros',\n",
       "   'Gorky Park',\n",
       "   'Caza salvaje',\n",
       "   'Uno Rojo: División de choque',\n",
       "   'El tren de los espías',\n",
       "   'Botas duras, medias de seda',\n",
       "   'Gritar al diablo')),\n",
       " ('Kang Peng',\n",
       "  None,\n",
       "  ('The F.B.I. Files',\n",
       "   'The Greatest Crimes Of All Time',\n",
       "   'El informe final',\n",
       "   'Narco Wars'),\n",
       "  None,\n",
       "  ('Du poulet',\n",
       "   'B comme Bolo',\n",
       "   'Eugénie Grandet',\n",
       "   'Cache Cash',\n",
       "   'Germinal',\n",
       "   'La chambre 108',\n",
       "   'Roulez jeunesse!',\n",
       "   'Coup de jeune',\n",
       "   'Les carnassiers')),\n",
       " ('Ting Chao',\n",
       "  '19 de abril de 1986',\n",
       "  ('North of 60',\n",
       "   'El reposo de los valientes',\n",
       "   'Star Wars: Rogue Squadron II - Rogue Leader',\n",
       "   'Al filo de la muerte'),\n",
       "  {'premios ganados': ['2023 Ganador Golden Bell Award'], 'nominaciones': []},\n",
       "  ('Commissaire Laviolette',\n",
       "   \"Le port de l'oubli\",\n",
       "   'Dommages collatéraux',\n",
       "   'Louis la brocante',\n",
       "   'La femme cachée',\n",
       "   'Pierre et Farid',\n",
       "   \"Belle Grand Mère - 'La Trattoria'\",\n",
       "   \"Reines d'un jour\",\n",
       "   'Les grandes bouches')),\n",
       " ('Yun-Wen Chang',\n",
       "  None,\n",
       "  ('El secreto de la pirámide',\n",
       "   'Hombres del mañana',\n",
       "   'Zafarrancho en Cambridge',\n",
       "   'Affairs of the Heart'),\n",
       "  None,\n",
       "  ('Spuk unterm Riesenrad',\n",
       "   'Die Theorie von Allem',\n",
       "   'En el lugar del crimen',\n",
       "   'Schuld',\n",
       "   'Dogs of Berlin',\n",
       "   'Lazzaro feliz',\n",
       "   'Der unsichtbare Film',\n",
       "   'Das schaffen wir schon',\n",
       "   'Planetarium')),\n",
       " ('Yang Chiang',\n",
       "  '1941',\n",
       "  ('Duelo a muerte',\n",
       "   'Asesino a sueldo',\n",
       "   'Las 36 cámaras de Shaolin',\n",
       "   'Yi yao O.K.'),\n",
       "  None,\n",
       "  ('Saints and Sinners',\n",
       "   'The Last Angry Man',\n",
       "   'Playhouse 90',\n",
       "   'Expectación',\n",
       "   'Estrellas del teatro',\n",
       "   'Imbarco a mezzanotte',\n",
       "   'The Chevrolet Tele-Theatre',\n",
       "   'The Philco Television Playhouse',\n",
       "   'El diablo y yo')),\n",
       " ('Dan Inosanto',\n",
       "  '24 de julio de 1936',\n",
       "  ('El furor del dragón',\n",
       "   'Karate a muerte en Bangkok',\n",
       "   'Furia oriental',\n",
       "   'Xiu hua da dao'),\n",
       "  None,\n",
       "  ('Don Matteo',\n",
       "   'My Name Is Thomas',\n",
       "   'A un paso del cielo',\n",
       "   'Doc West: La sfida',\n",
       "   'Doctor West',\n",
       "   \"L'uomo che cavalcava nel buio\",\n",
       "   \"L'uomo che sognava con le aquile\",\n",
       "   'Cyberflic',\n",
       "   'Y en Nochebuena... ¡se armó el belén!')),\n",
       " ('Charles Bronson',\n",
       "  '3 de noviembre de 1921',\n",
       "  ('Ting yuan shen shen',\n",
       "   'Shi yao',\n",
       "   'Wu Lin sheng dou shi',\n",
       "   'Hong fen zhi zun'),\n",
       "  {'premios ganados': ['1961 Nominado Primetime Emmy'],\n",
       "   'nominaciones': ['1972 Ganador Henrietta Award']},\n",
       "  ('Theatre Night',\n",
       "   'Paraíso soñado',\n",
       "   'Screenplay',\n",
       "   'Operación Julie',\n",
       "   'Summer Season',\n",
       "   'The Beiderbecke Affair',\n",
       "   'Jackanory Playhouse',\n",
       "   'The New Statesman',\n",
       "   'Home Video')),\n",
       " ('Jill Ireland',\n",
       "  '24 de abril de 1936',\n",
       "  ('Ji du xi yang hong', 'Ting yuan shen shen', 'Xue Ke', 'Ya qi'),\n",
       "  {'premios ganados': ['1967 Nominado Gold Medal'],\n",
       "   'nominaciones': ['1989 Ganador Star on the Walk of Fame']},\n",
       "  ('Las aventuras del joven Indiana Jones',\n",
       "   'As You Like It',\n",
       "   'Un horizonte muy lejano',\n",
       "   'Screen Two',\n",
       "   'El especulador',\n",
       "   'Danny, campeón del mundo',\n",
       "   'Mi pie izquierdo',\n",
       "   'El décimo hombre',\n",
       "   'Amenaza invisible')),\n",
       " ('Vincent Gardenia',\n",
       "  '7 de enero de 1920',\n",
       "  ('Da tou zai', 'El fluir de las lágrimas', 'Jin zhen tou', 'Yim ji kau'),\n",
       "  {'premios ganados': ['1988 Nominado Oscar', '1974 Nominado Oscar'],\n",
       "   'nominaciones': ['1988 Nominado American Comedy Award']},\n",
       "  ('Hart to Hart: Crimes of the Hart',\n",
       "   'Juicio de valores',\n",
       "   'Autopista hacia el cielo',\n",
       "   'La ley de Los Ángeles',\n",
       "   'The English Programme',\n",
       "   'Cagney y Lacey',\n",
       "   'Más allá de la ley',\n",
       "   'El equipo A',\n",
       "   'Simon & Simon')),\n",
       " ('J.D. Cannon',\n",
       "  '24 de abril de 1922',\n",
       "  ('Luk ding gei', 'Kung Fu Jungle', 'Xie ying wu', 'Pi li lei dian'),\n",
       "  {'premios ganados': ['1975 Nominado Primetime Emmy'], 'nominaciones': []},\n",
       "  ('Vecchie canaglie',\n",
       "   'My Name Is Thomas',\n",
       "   'Los Médici: Señores de Florencia',\n",
       "   'La bella y la bestia',\n",
       "   'Romeo y Julieta',\n",
       "   'Pinocchio',\n",
       "   'Nero Wolfe',\n",
       "   'Il sogno del maratoneta',\n",
       "   '7 vite')),\n",
       " ('Anthony Franciosa',\n",
       "  '25 de octubre de 1928',\n",
       "  ('Las 36 cámaras de Shaolin', 'Qing tie', 'Ho el Sucio', 'Chu Liu Xiang'),\n",
       "  {'premios ganados': ['1958 Nominado Oscar'],\n",
       "   'nominaciones': ['1965 Nominado Golden Globe']},\n",
       "  ('Straighten Up America',\n",
       "   'Special Unit 2',\n",
       "   'Last Ride',\n",
       "   'Siete días',\n",
       "   'Seinfeld',\n",
       "   'Three',\n",
       "   'Policías de Nueva York',\n",
       "   'Delivery',\n",
       "   'Pretender')),\n",
       " ('Ben Frank',\n",
       "  '2 de septiembre de 1934',\n",
       "  ('Xie ying wu',\n",
       "   'She diao ying xiong zhuan',\n",
       "   'Hei xi yi',\n",
       "   'Jing nu chu zheng'),\n",
       "  None,\n",
       "  ('Wicked Clone or How to Deal with the Evil',\n",
       "   'La innegable verdad',\n",
       "   'The Light Side',\n",
       "   'Worth',\n",
       "   'Bull',\n",
       "   'Jessica Jones',\n",
       "   'The Reward',\n",
       "   'Ben Again',\n",
       "   'Ley y orden')),\n",
       " ('Robin Sherwood',\n",
       "  '24 de enero',\n",
       "  ('In This Corner',\n",
       "   'Nueva Viscaya',\n",
       "   'Andres de Saya',\n",
       "   'Huwag tularan: Pito ang asawa ko'),\n",
       "  None,\n",
       "  ('À votre service',\n",
       "   '600 kilos de oro puro',\n",
       "   \"L'instit\",\n",
       "   'Augustus - El primer emperador',\n",
       "   \"L'instit: Personne ne m'aime\",\n",
       "   'Drôle de père',\n",
       "   \"L'histoire du samedi\",\n",
       "   'Pourquoi maman est dans mon lit?',\n",
       "   'Morlock')),\n",
       " ('Silvana Gallardo',\n",
       "  '13 de enero de 1953',\n",
       "  ('Anak Badjao',\n",
       "   'Bambang',\n",
       "   'Bago kumalat ang kamandag',\n",
       "   'Moises Padilla Story: The Missing Chapter'),\n",
       "  None,\n",
       "  ('Plus belle la vie',\n",
       "   'Unidad de investigación',\n",
       "   'Alice Nevers',\n",
       "   'Paris 16ème',\n",
       "   'Vérité oblige',\n",
       "   'Les rois maudits',\n",
       "   'El derechazo',\n",
       "   'Sami',\n",
       "   'Là-bas... mon pays')),\n",
       " ('Robert F. Lyons',\n",
       "  '17 de octubre de 1939',\n",
       "  ('La LEGO película',\n",
       "   'Spider-Man: Cruzando el multiverso',\n",
       "   'Secundaria de clones',\n",
       "   'Spider-Man: Un nuevo universo'),\n",
       "  None,\n",
       "  ('Mörderischer Plan - Nichts ist wie es scheint!',\n",
       "   'Adelheid und ihre Mörder',\n",
       "   'Edel & Starck',\n",
       "   'Verzauberte Emma oder Hilfe, ich bin ein Junge... !',\n",
       "   'SK Kölsch',\n",
       "   'Singapur-Express - Geheimnis einer Liebe',\n",
       "   'Edelweiss',\n",
       "   'Komiker',\n",
       "   'Unser Charly')),\n",
       " ('Lawrence Day',\n",
       "  None,\n",
       "  ('Kanto Boy 2: Anak ni Totoy Guapo',\n",
       "   'Patrolman',\n",
       "   'Boyong Mañalac: Hoodlum Terminator',\n",
       "   'Escolta; Mayo 13; Biyernes Ng Hapon!'),\n",
       "  None,\n",
       "  ('Am Ende wird alles sichtbar',\n",
       "   'Die Theorie von Allem',\n",
       "   'La caja de cristal',\n",
       "   'Servus Papa - See You in Hell',\n",
       "   'Die Chefin',\n",
       "   'Gefährliche Wahrheit',\n",
       "   'Le Prince',\n",
       "   'La isla negra',\n",
       "   'Un Lugar Llamado Dignidad')),\n",
       " ('Luis Manuel',\n",
       "  '19 de agosto de 1987',\n",
       "  ('La cruz de un héroe',\n",
       "   'Operación Camboya',\n",
       "   'Ruedas de fuego',\n",
       "   'Equalizer 2000'),\n",
       "  {'premios ganados': ['2016 Nominado Leo'],\n",
       "   'nominaciones': ['2020 Nominado IGN Award']},\n",
       "  ('El Galán. La TV cambió, él no',\n",
       "   'La Reina del Sur',\n",
       "   'Un Retrato de Familia',\n",
       "   'Musa',\n",
       "   '100 días para enamorarnos',\n",
       "   'La querida del Centauro',\n",
       "   'Esfera de vida',\n",
       "   'El Lamento',\n",
       "   'I Was There')),\n",
       " ('Thomas M. Pollard',\n",
       "  '28 de octubre de 1950',\n",
       "  ('Yanggaw', 'Gymkata', 'Esta casa es una ruina', 'Little & Big Weapon'),\n",
       "  None,\n",
       "  ('Agua de Arrayan',\n",
       "   'Dime Cuándo Tú',\n",
       "   'La piedra en el río',\n",
       "   'Por amar sin ley',\n",
       "   'Como dice el dicho',\n",
       "   'Mi adorable maldición',\n",
       "   'Tormentero',\n",
       "   'La candidata',\n",
       "   'Almacenados')),\n",
       " ('Christopher Muncke',\n",
       "  '24 de julio de 1942',\n",
       "  ('El año que vivimos peligrosamente',\n",
       "   'Gumapang ka sa lusak',\n",
       "   \"Babangon ako't dudurugin kita\",\n",
       "   'Pauwi na'),\n",
       "  None,\n",
       "  ('El gran relajo mexicano',\n",
       "   'Domingo corrales',\n",
       "   'Contrabando y muerte',\n",
       "   'Mexicano ¡Tú puedes!',\n",
       "   'El otro',\n",
       "   'Nosotros los pelados',\n",
       "   'Bajo el volcán',\n",
       "   'Viva el chubasco',\n",
       "   'El día que murió Pedro Infante')),\n",
       " ('Daniel Foley',\n",
       "  None,\n",
       "  ('Kill Bill: Volumen 2',\n",
       "   'Las 36 cámaras de Shaolin',\n",
       "   'Kill Bill: Volumen 1',\n",
       "   'El hombre de los puños de hierro'),\n",
       "  None,\n",
       "  ('Voces inocentes',\n",
       "   'Piedras verdes',\n",
       "   'Un dulce olor a muerte',\n",
       "   'Por si no te vuelvo a ver',\n",
       "   'De noche vienes, Esmeralda',\n",
       "   'Bienvenido-Welcome',\n",
       "   'Amor a la medida',\n",
       "   'Encuentro inesperado',\n",
       "   'Playa azul'))]"
      ]
     },
     "execution_count": 44,
     "metadata": {},
     "output_type": "execute_result"
    }
   ],
   "source": [
    "action_elenco"
   ]
  },
  {
   "cell_type": "code",
   "execution_count": 46,
   "metadata": {},
   "outputs": [],
   "source": [
    "df_action_elenco = pd.DataFrame(action_elenco, columns= ['Nombre', 'Nacimiento', 'Conocido por', 'Premios','Peliculas'])"
   ]
  },
  {
   "cell_type": "code",
   "execution_count": 47,
   "metadata": {},
   "outputs": [
    {
     "data": {
      "text/html": [
       "<div>\n",
       "<style scoped>\n",
       "    .dataframe tbody tr th:only-of-type {\n",
       "        vertical-align: middle;\n",
       "    }\n",
       "\n",
       "    .dataframe tbody tr th {\n",
       "        vertical-align: top;\n",
       "    }\n",
       "\n",
       "    .dataframe thead th {\n",
       "        text-align: right;\n",
       "    }\n",
       "</style>\n",
       "<table border=\"1\" class=\"dataframe\">\n",
       "  <thead>\n",
       "    <tr style=\"text-align: right;\">\n",
       "      <th></th>\n",
       "      <th>Nombre</th>\n",
       "      <th>Nacimiento</th>\n",
       "      <th>Conocido por</th>\n",
       "      <th>Premios</th>\n",
       "      <th>Peliculas</th>\n",
       "    </tr>\n",
       "  </thead>\n",
       "  <tbody>\n",
       "    <tr>\n",
       "      <th>0</th>\n",
       "      <td>Aldo Ray</td>\n",
       "      <td>25 de septiembre de 1926</td>\n",
       "      <td>(No somos ángeles, La impetuosa, Nimh: El mund...</td>\n",
       "      <td>{'premios ganados': ['1979 Ganador AFAA Award'...</td>\n",
       "      <td>(Hasta la muerte, Shooters, Crime of Crimes, Y...</td>\n",
       "    </tr>\n",
       "    <tr>\n",
       "      <th>1</th>\n",
       "      <td>William Marshall</td>\n",
       "      <td>19 de agosto de 1924</td>\n",
       "      <td>(Drácula negro, Maverick, Grita Blácula grita ...</td>\n",
       "      <td>None</td>\n",
       "      <td>(Vampires: Thirst for the Truth, Dinosaur Vall...</td>\n",
       "    </tr>\n",
       "    <tr>\n",
       "      <th>2</th>\n",
       "      <td>Terry Michos</td>\n",
       "      <td>26 de diciembre de 1953</td>\n",
       "      <td>(Los amos de la noche, El gran desafío en heli...</td>\n",
       "      <td>None</td>\n",
       "      <td>(Meego, Hellbender, Roseanne, Amnesia, Animani...</td>\n",
       "    </tr>\n",
       "    <tr>\n",
       "      <th>3</th>\n",
       "      <td>Russell Johnson</td>\n",
       "      <td>10 de noviembre de 1924</td>\n",
       "      <td>(La isla de Gílligan, Regreso a la Tierra, Vin...</td>\n",
       "      <td>{'premios ganados': ['2007 Nominado TV Land Aw...</td>\n",
       "      <td>(Posesión alucinante, Snoops, Tal para cual, T...</td>\n",
       "    </tr>\n",
       "    <tr>\n",
       "      <th>4</th>\n",
       "      <td>Paul Tanashian</td>\n",
       "      <td>13 de marzo de 1960</td>\n",
       "      <td>(Crazy Rich Asians, Déjame salir, Nosotros, Wh...</td>\n",
       "      <td>None</td>\n",
       "      <td>(Juego con la muerte, Operación Dragón, El fur...</td>\n",
       "    </tr>\n",
       "    <tr>\n",
       "      <th>...</th>\n",
       "      <td>...</td>\n",
       "      <td>...</td>\n",
       "      <td>...</td>\n",
       "      <td>...</td>\n",
       "      <td>...</td>\n",
       "    </tr>\n",
       "    <tr>\n",
       "      <th>183</th>\n",
       "      <td>Lawrence Day</td>\n",
       "      <td>None</td>\n",
       "      <td>(Kanto Boy 2: Anak ni Totoy Guapo, Patrolman, ...</td>\n",
       "      <td>None</td>\n",
       "      <td>(Am Ende wird alles sichtbar, Die Theorie von ...</td>\n",
       "    </tr>\n",
       "    <tr>\n",
       "      <th>184</th>\n",
       "      <td>Luis Manuel</td>\n",
       "      <td>19 de agosto de 1987</td>\n",
       "      <td>(La cruz de un héroe, Operación Camboya, Rueda...</td>\n",
       "      <td>{'premios ganados': ['2016 Nominado Leo'], 'no...</td>\n",
       "      <td>(El Galán. La TV cambió, él no, La Reina del S...</td>\n",
       "    </tr>\n",
       "    <tr>\n",
       "      <th>185</th>\n",
       "      <td>Thomas M. Pollard</td>\n",
       "      <td>28 de octubre de 1950</td>\n",
       "      <td>(Yanggaw, Gymkata, Esta casa es una ruina, Lit...</td>\n",
       "      <td>None</td>\n",
       "      <td>(Agua de Arrayan, Dime Cuándo Tú, La piedra en...</td>\n",
       "    </tr>\n",
       "    <tr>\n",
       "      <th>186</th>\n",
       "      <td>Christopher Muncke</td>\n",
       "      <td>24 de julio de 1942</td>\n",
       "      <td>(El año que vivimos peligrosamente, Gumapang k...</td>\n",
       "      <td>None</td>\n",
       "      <td>(El gran relajo mexicano, Domingo corrales, Co...</td>\n",
       "    </tr>\n",
       "    <tr>\n",
       "      <th>187</th>\n",
       "      <td>Daniel Foley</td>\n",
       "      <td>None</td>\n",
       "      <td>(Kill Bill: Volumen 2, Las 36 cámaras de Shaol...</td>\n",
       "      <td>None</td>\n",
       "      <td>(Voces inocentes, Piedras verdes, Un dulce olo...</td>\n",
       "    </tr>\n",
       "  </tbody>\n",
       "</table>\n",
       "<p>188 rows × 5 columns</p>\n",
       "</div>"
      ],
      "text/plain": [
       "                 Nombre                Nacimiento  \\\n",
       "0              Aldo Ray  25 de septiembre de 1926   \n",
       "1      William Marshall      19 de agosto de 1924   \n",
       "2          Terry Michos   26 de diciembre de 1953   \n",
       "3       Russell Johnson   10 de noviembre de 1924   \n",
       "4        Paul Tanashian       13 de marzo de 1960   \n",
       "..                  ...                       ...   \n",
       "183        Lawrence Day                      None   \n",
       "184         Luis Manuel      19 de agosto de 1987   \n",
       "185   Thomas M. Pollard     28 de octubre de 1950   \n",
       "186  Christopher Muncke       24 de julio de 1942   \n",
       "187        Daniel Foley                      None   \n",
       "\n",
       "                                          Conocido por  \\\n",
       "0    (No somos ángeles, La impetuosa, Nimh: El mund...   \n",
       "1    (Drácula negro, Maverick, Grita Blácula grita ...   \n",
       "2    (Los amos de la noche, El gran desafío en heli...   \n",
       "3    (La isla de Gílligan, Regreso a la Tierra, Vin...   \n",
       "4    (Crazy Rich Asians, Déjame salir, Nosotros, Wh...   \n",
       "..                                                 ...   \n",
       "183  (Kanto Boy 2: Anak ni Totoy Guapo, Patrolman, ...   \n",
       "184  (La cruz de un héroe, Operación Camboya, Rueda...   \n",
       "185  (Yanggaw, Gymkata, Esta casa es una ruina, Lit...   \n",
       "186  (El año que vivimos peligrosamente, Gumapang k...   \n",
       "187  (Kill Bill: Volumen 2, Las 36 cámaras de Shaol...   \n",
       "\n",
       "                                               Premios  \\\n",
       "0    {'premios ganados': ['1979 Ganador AFAA Award'...   \n",
       "1                                                 None   \n",
       "2                                                 None   \n",
       "3    {'premios ganados': ['2007 Nominado TV Land Aw...   \n",
       "4                                                 None   \n",
       "..                                                 ...   \n",
       "183                                               None   \n",
       "184  {'premios ganados': ['2016 Nominado Leo'], 'no...   \n",
       "185                                               None   \n",
       "186                                               None   \n",
       "187                                               None   \n",
       "\n",
       "                                             Peliculas  \n",
       "0    (Hasta la muerte, Shooters, Crime of Crimes, Y...  \n",
       "1    (Vampires: Thirst for the Truth, Dinosaur Vall...  \n",
       "2    (Meego, Hellbender, Roseanne, Amnesia, Animani...  \n",
       "3    (Posesión alucinante, Snoops, Tal para cual, T...  \n",
       "4    (Juego con la muerte, Operación Dragón, El fur...  \n",
       "..                                                 ...  \n",
       "183  (Am Ende wird alles sichtbar, Die Theorie von ...  \n",
       "184  (El Galán. La TV cambió, él no, La Reina del S...  \n",
       "185  (Agua de Arrayan, Dime Cuándo Tú, La piedra en...  \n",
       "186  (El gran relajo mexicano, Domingo corrales, Co...  \n",
       "187  (Voces inocentes, Piedras verdes, Un dulce olo...  \n",
       "\n",
       "[188 rows x 5 columns]"
      ]
     },
     "execution_count": 47,
     "metadata": {},
     "output_type": "execute_result"
    }
   ],
   "source": [
    "df_action_elenco"
   ]
  },
  {
   "cell_type": "code",
   "execution_count": 48,
   "metadata": {},
   "outputs": [],
   "source": [
    "df_action_elenco.to_csv('action_elenco.csv')"
   ]
  },
  {
   "cell_type": "code",
   "execution_count": 20,
   "metadata": {},
   "outputs": [
    {
     "name": "stdout",
     "output_type": "stream",
     "text": [
      "Entramos en los premios\n",
      "Este actor no tiene premios\n",
      "Este actor no tiene premios\n",
      "Entramos en los premios\n"
     ]
    },
    {
     "ename": "NoSuchElementException",
     "evalue": "Message: no such element: Unable to locate element: {\"method\":\"css selector\",\"selector\":\"#__next > main > div > section.ipc-page-background.ipc-page-background--base.sc-c41b9732-0.NeSef > section > div:nth-child(5) > section > section > div.sc-491663c0-4.gEsAEH > div.sc-491663c0-6.eQRCDK > div.sc-491663c0-11.bmRzqx > section > aside > div > span:nth-child(2)\"}\n  (Session info: chrome=126.0.6478.128); For documentation on this error, please visit: https://www.selenium.dev/documentation/webdriver/troubleshooting/errors#no-such-element-exception\nStacktrace:\n\tGetHandleVerifier [0x00007FF6F7E5EEB2+31554]\n\t(No symbol) [0x00007FF6F7DD7EE9]\n\t(No symbol) [0x00007FF6F7C9872A]\n\t(No symbol) [0x00007FF6F7CE8434]\n\t(No symbol) [0x00007FF6F7CE853C]\n\t(No symbol) [0x00007FF6F7D2F6A7]\n\t(No symbol) [0x00007FF6F7D0D06F]\n\t(No symbol) [0x00007FF6F7D2C977]\n\t(No symbol) [0x00007FF6F7D0CDD3]\n\t(No symbol) [0x00007FF6F7CDA33B]\n\t(No symbol) [0x00007FF6F7CDAED1]\n\tGetHandleVerifier [0x00007FF6F8168B2D+3217341]\n\tGetHandleVerifier [0x00007FF6F81B5AF3+3532675]\n\tGetHandleVerifier [0x00007FF6F81AB0F0+3489152]\n\tGetHandleVerifier [0x00007FF6F7F0E786+750614]\n\t(No symbol) [0x00007FF6F7DE376F]\n\t(No symbol) [0x00007FF6F7DDEB24]\n\t(No symbol) [0x00007FF6F7DDECB2]\n\t(No symbol) [0x00007FF6F7DCE17F]\n\tBaseThreadInitThunk [0x00007FFB00FF257D+29]\n\tRtlUserThreadStart [0x00007FFB01D4AF28+40]\n",
     "output_type": "error",
     "traceback": [
      "\u001b[1;31m---------------------------------------------------------------------------\u001b[0m",
      "\u001b[1;31mNoSuchElementException\u001b[0m                    Traceback (most recent call last)",
      "Cell \u001b[1;32mIn[20], line 29\u001b[0m\n\u001b[0;32m     27\u001b[0m \u001b[38;5;28;01mtry\u001b[39;00m:\n\u001b[1;32m---> 29\u001b[0m     nacimiento \u001b[38;5;241m=\u001b[39m \u001b[43mdriver\u001b[49m\u001b[38;5;241;43m.\u001b[39;49m\u001b[43mfind_element\u001b[49m\u001b[43m(\u001b[49m\u001b[38;5;124;43m'\u001b[39;49m\u001b[38;5;124;43mcss selector\u001b[39;49m\u001b[38;5;124;43m'\u001b[39;49m\u001b[43m,\u001b[49m\u001b[43m \u001b[49m\u001b[38;5;124;43m'\u001b[39;49m\u001b[38;5;124;43m#__next > main > div > section.ipc-page-background.ipc-page-background--base.sc-c41b9732-0.NeSef > section > div:nth-child(5) > section > section > div.sc-491663c0-4.yjUiO > div.sc-491663c0-6.lnlBxO > div.sc-491663c0-11.cvvyMK > section > aside > div:nth-child(1) > span:nth-child(2)\u001b[39;49m\u001b[38;5;124;43m'\u001b[39;49m\u001b[43m)\u001b[49m\u001b[38;5;241m.\u001b[39mtext    \n\u001b[0;32m     31\u001b[0m \u001b[38;5;28;01mexcept\u001b[39;00m:\n",
      "File \u001b[1;32m~\\AppData\\Local\\Packages\\PythonSoftwareFoundation.Python.3.11_qbz5n2kfra8p0\\LocalCache\\local-packages\\Python311\\site-packages\\selenium\\webdriver\\remote\\webdriver.py:741\u001b[0m, in \u001b[0;36mWebDriver.find_element\u001b[1;34m(self, by, value)\u001b[0m\n\u001b[0;32m    739\u001b[0m     value \u001b[38;5;241m=\u001b[39m \u001b[38;5;124mf\u001b[39m\u001b[38;5;124m'\u001b[39m\u001b[38;5;124m[name=\u001b[39m\u001b[38;5;124m\"\u001b[39m\u001b[38;5;132;01m{\u001b[39;00mvalue\u001b[38;5;132;01m}\u001b[39;00m\u001b[38;5;124m\"\u001b[39m\u001b[38;5;124m]\u001b[39m\u001b[38;5;124m'\u001b[39m\n\u001b[1;32m--> 741\u001b[0m \u001b[38;5;28;01mreturn\u001b[39;00m \u001b[38;5;28;43mself\u001b[39;49m\u001b[38;5;241;43m.\u001b[39;49m\u001b[43mexecute\u001b[49m\u001b[43m(\u001b[49m\u001b[43mCommand\u001b[49m\u001b[38;5;241;43m.\u001b[39;49m\u001b[43mFIND_ELEMENT\u001b[49m\u001b[43m,\u001b[49m\u001b[43m \u001b[49m\u001b[43m{\u001b[49m\u001b[38;5;124;43m\"\u001b[39;49m\u001b[38;5;124;43musing\u001b[39;49m\u001b[38;5;124;43m\"\u001b[39;49m\u001b[43m:\u001b[49m\u001b[43m \u001b[49m\u001b[43mby\u001b[49m\u001b[43m,\u001b[49m\u001b[43m \u001b[49m\u001b[38;5;124;43m\"\u001b[39;49m\u001b[38;5;124;43mvalue\u001b[39;49m\u001b[38;5;124;43m\"\u001b[39;49m\u001b[43m:\u001b[49m\u001b[43m \u001b[49m\u001b[43mvalue\u001b[49m\u001b[43m}\u001b[49m\u001b[43m)\u001b[49m[\u001b[38;5;124m\"\u001b[39m\u001b[38;5;124mvalue\u001b[39m\u001b[38;5;124m\"\u001b[39m]\n",
      "File \u001b[1;32m~\\AppData\\Local\\Packages\\PythonSoftwareFoundation.Python.3.11_qbz5n2kfra8p0\\LocalCache\\local-packages\\Python311\\site-packages\\selenium\\webdriver\\remote\\webdriver.py:347\u001b[0m, in \u001b[0;36mWebDriver.execute\u001b[1;34m(self, driver_command, params)\u001b[0m\n\u001b[0;32m    346\u001b[0m \u001b[38;5;28;01mif\u001b[39;00m response:\n\u001b[1;32m--> 347\u001b[0m     \u001b[38;5;28;43mself\u001b[39;49m\u001b[38;5;241;43m.\u001b[39;49m\u001b[43merror_handler\u001b[49m\u001b[38;5;241;43m.\u001b[39;49m\u001b[43mcheck_response\u001b[49m\u001b[43m(\u001b[49m\u001b[43mresponse\u001b[49m\u001b[43m)\u001b[49m\n\u001b[0;32m    348\u001b[0m     response[\u001b[38;5;124m\"\u001b[39m\u001b[38;5;124mvalue\u001b[39m\u001b[38;5;124m\"\u001b[39m] \u001b[38;5;241m=\u001b[39m \u001b[38;5;28mself\u001b[39m\u001b[38;5;241m.\u001b[39m_unwrap_value(response\u001b[38;5;241m.\u001b[39mget(\u001b[38;5;124m\"\u001b[39m\u001b[38;5;124mvalue\u001b[39m\u001b[38;5;124m\"\u001b[39m, \u001b[38;5;28;01mNone\u001b[39;00m))\n",
      "File \u001b[1;32m~\\AppData\\Local\\Packages\\PythonSoftwareFoundation.Python.3.11_qbz5n2kfra8p0\\LocalCache\\local-packages\\Python311\\site-packages\\selenium\\webdriver\\remote\\errorhandler.py:229\u001b[0m, in \u001b[0;36mErrorHandler.check_response\u001b[1;34m(self, response)\u001b[0m\n\u001b[0;32m    228\u001b[0m     \u001b[38;5;28;01mraise\u001b[39;00m exception_class(message, screen, stacktrace, alert_text)  \u001b[38;5;66;03m# type: ignore[call-arg]  # mypy is not smart enough here\u001b[39;00m\n\u001b[1;32m--> 229\u001b[0m \u001b[38;5;28;01mraise\u001b[39;00m exception_class(message, screen, stacktrace)\n",
      "\u001b[1;31mNoSuchElementException\u001b[0m: Message: no such element: Unable to locate element: {\"method\":\"css selector\",\"selector\":\"#__next > main > div > section.ipc-page-background.ipc-page-background--base.sc-c41b9732-0.NeSef > section > div:nth-child(5) > section > section > div.sc-491663c0-4.yjUiO > div.sc-491663c0-6.lnlBxO > div.sc-491663c0-11.cvvyMK > section > aside > div:nth-child(1) > span:nth-child(2)\"}\n  (Session info: chrome=126.0.6478.128); For documentation on this error, please visit: https://www.selenium.dev/documentation/webdriver/troubleshooting/errors#no-such-element-exception\nStacktrace:\n\tGetHandleVerifier [0x00007FF6F7E5EEB2+31554]\n\t(No symbol) [0x00007FF6F7DD7EE9]\n\t(No symbol) [0x00007FF6F7C9872A]\n\t(No symbol) [0x00007FF6F7CE8434]\n\t(No symbol) [0x00007FF6F7CE853C]\n\t(No symbol) [0x00007FF6F7D2F6A7]\n\t(No symbol) [0x00007FF6F7D0D06F]\n\t(No symbol) [0x00007FF6F7D2C977]\n\t(No symbol) [0x00007FF6F7D0CDD3]\n\t(No symbol) [0x00007FF6F7CDA33B]\n\t(No symbol) [0x00007FF6F7CDAED1]\n\tGetHandleVerifier [0x00007FF6F8168B2D+3217341]\n\tGetHandleVerifier [0x00007FF6F81B5AF3+3532675]\n\tGetHandleVerifier [0x00007FF6F81AB0F0+3489152]\n\tGetHandleVerifier [0x00007FF6F7F0E786+750614]\n\t(No symbol) [0x00007FF6F7DE376F]\n\t(No symbol) [0x00007FF6F7DDEB24]\n\t(No symbol) [0x00007FF6F7DDECB2]\n\t(No symbol) [0x00007FF6F7DCE17F]\n\tBaseThreadInitThunk [0x00007FFB00FF257D+29]\n\tRtlUserThreadStart [0x00007FFB01D4AF28+40]\n",
      "\nDuring handling of the above exception, another exception occurred:\n",
      "\u001b[1;31mNoSuchElementException\u001b[0m                    Traceback (most recent call last)",
      "Cell \u001b[1;32mIn[20], line 32\u001b[0m\n\u001b[0;32m     29\u001b[0m     nacimiento \u001b[38;5;241m=\u001b[39m driver\u001b[38;5;241m.\u001b[39mfind_element(\u001b[38;5;124m'\u001b[39m\u001b[38;5;124mcss selector\u001b[39m\u001b[38;5;124m'\u001b[39m, \u001b[38;5;124m'\u001b[39m\u001b[38;5;124m#__next > main > div > section.ipc-page-background.ipc-page-background--base.sc-c41b9732-0.NeSef > section > div:nth-child(5) > section > section > div.sc-491663c0-4.yjUiO > div.sc-491663c0-6.lnlBxO > div.sc-491663c0-11.cvvyMK > section > aside > div:nth-child(1) > span:nth-child(2)\u001b[39m\u001b[38;5;124m'\u001b[39m)\u001b[38;5;241m.\u001b[39mtext    \n\u001b[0;32m     31\u001b[0m \u001b[38;5;28;01mexcept\u001b[39;00m:\n\u001b[1;32m---> 32\u001b[0m     nacimiento \u001b[38;5;241m=\u001b[39m \u001b[43mdriver\u001b[49m\u001b[38;5;241;43m.\u001b[39;49m\u001b[43mfind_element\u001b[49m\u001b[43m(\u001b[49m\u001b[38;5;124;43m'\u001b[39;49m\u001b[38;5;124;43mcss selector\u001b[39;49m\u001b[38;5;124;43m'\u001b[39;49m\u001b[43m,\u001b[49m\u001b[43m \u001b[49m\u001b[38;5;124;43m'\u001b[39;49m\u001b[38;5;124;43m#__next > main > div > section.ipc-page-background.ipc-page-background--base.sc-c41b9732-0.NeSef > section > div:nth-child(5) > section > section > div.sc-491663c0-4.gEsAEH > div.sc-491663c0-6.eQRCDK > div.sc-491663c0-11.bmRzqx > section > aside > div > span:nth-child(2)\u001b[39;49m\u001b[38;5;124;43m'\u001b[39;49m\u001b[43m)\u001b[49m\u001b[38;5;241m.\u001b[39mtext\n\u001b[0;32m     36\u001b[0m \u001b[38;5;66;03m# vemos por qué es conocido:\u001b[39;00m\n\u001b[0;32m     37\u001b[0m \u001b[38;5;28;01mfor\u001b[39;00m conocido \u001b[38;5;129;01min\u001b[39;00m \u001b[38;5;28mrange\u001b[39m (\u001b[38;5;241m1\u001b[39m,\u001b[38;5;241m5\u001b[39m):\n",
      "File \u001b[1;32m~\\AppData\\Local\\Packages\\PythonSoftwareFoundation.Python.3.11_qbz5n2kfra8p0\\LocalCache\\local-packages\\Python311\\site-packages\\selenium\\webdriver\\remote\\webdriver.py:741\u001b[0m, in \u001b[0;36mWebDriver.find_element\u001b[1;34m(self, by, value)\u001b[0m\n\u001b[0;32m    738\u001b[0m     by \u001b[38;5;241m=\u001b[39m By\u001b[38;5;241m.\u001b[39mCSS_SELECTOR\n\u001b[0;32m    739\u001b[0m     value \u001b[38;5;241m=\u001b[39m \u001b[38;5;124mf\u001b[39m\u001b[38;5;124m'\u001b[39m\u001b[38;5;124m[name=\u001b[39m\u001b[38;5;124m\"\u001b[39m\u001b[38;5;132;01m{\u001b[39;00mvalue\u001b[38;5;132;01m}\u001b[39;00m\u001b[38;5;124m\"\u001b[39m\u001b[38;5;124m]\u001b[39m\u001b[38;5;124m'\u001b[39m\n\u001b[1;32m--> 741\u001b[0m \u001b[38;5;28;01mreturn\u001b[39;00m \u001b[38;5;28;43mself\u001b[39;49m\u001b[38;5;241;43m.\u001b[39;49m\u001b[43mexecute\u001b[49m\u001b[43m(\u001b[49m\u001b[43mCommand\u001b[49m\u001b[38;5;241;43m.\u001b[39;49m\u001b[43mFIND_ELEMENT\u001b[49m\u001b[43m,\u001b[49m\u001b[43m \u001b[49m\u001b[43m{\u001b[49m\u001b[38;5;124;43m\"\u001b[39;49m\u001b[38;5;124;43musing\u001b[39;49m\u001b[38;5;124;43m\"\u001b[39;49m\u001b[43m:\u001b[49m\u001b[43m \u001b[49m\u001b[43mby\u001b[49m\u001b[43m,\u001b[49m\u001b[43m \u001b[49m\u001b[38;5;124;43m\"\u001b[39;49m\u001b[38;5;124;43mvalue\u001b[39;49m\u001b[38;5;124;43m\"\u001b[39;49m\u001b[43m:\u001b[49m\u001b[43m \u001b[49m\u001b[43mvalue\u001b[49m\u001b[43m}\u001b[49m\u001b[43m)\u001b[49m[\u001b[38;5;124m\"\u001b[39m\u001b[38;5;124mvalue\u001b[39m\u001b[38;5;124m\"\u001b[39m]\n",
      "File \u001b[1;32m~\\AppData\\Local\\Packages\\PythonSoftwareFoundation.Python.3.11_qbz5n2kfra8p0\\LocalCache\\local-packages\\Python311\\site-packages\\selenium\\webdriver\\remote\\webdriver.py:347\u001b[0m, in \u001b[0;36mWebDriver.execute\u001b[1;34m(self, driver_command, params)\u001b[0m\n\u001b[0;32m    345\u001b[0m response \u001b[38;5;241m=\u001b[39m \u001b[38;5;28mself\u001b[39m\u001b[38;5;241m.\u001b[39mcommand_executor\u001b[38;5;241m.\u001b[39mexecute(driver_command, params)\n\u001b[0;32m    346\u001b[0m \u001b[38;5;28;01mif\u001b[39;00m response:\n\u001b[1;32m--> 347\u001b[0m     \u001b[38;5;28;43mself\u001b[39;49m\u001b[38;5;241;43m.\u001b[39;49m\u001b[43merror_handler\u001b[49m\u001b[38;5;241;43m.\u001b[39;49m\u001b[43mcheck_response\u001b[49m\u001b[43m(\u001b[49m\u001b[43mresponse\u001b[49m\u001b[43m)\u001b[49m\n\u001b[0;32m    348\u001b[0m     response[\u001b[38;5;124m\"\u001b[39m\u001b[38;5;124mvalue\u001b[39m\u001b[38;5;124m\"\u001b[39m] \u001b[38;5;241m=\u001b[39m \u001b[38;5;28mself\u001b[39m\u001b[38;5;241m.\u001b[39m_unwrap_value(response\u001b[38;5;241m.\u001b[39mget(\u001b[38;5;124m\"\u001b[39m\u001b[38;5;124mvalue\u001b[39m\u001b[38;5;124m\"\u001b[39m, \u001b[38;5;28;01mNone\u001b[39;00m))\n\u001b[0;32m    349\u001b[0m     \u001b[38;5;28;01mreturn\u001b[39;00m response\n",
      "File \u001b[1;32m~\\AppData\\Local\\Packages\\PythonSoftwareFoundation.Python.3.11_qbz5n2kfra8p0\\LocalCache\\local-packages\\Python311\\site-packages\\selenium\\webdriver\\remote\\errorhandler.py:229\u001b[0m, in \u001b[0;36mErrorHandler.check_response\u001b[1;34m(self, response)\u001b[0m\n\u001b[0;32m    227\u001b[0m         alert_text \u001b[38;5;241m=\u001b[39m value[\u001b[38;5;124m\"\u001b[39m\u001b[38;5;124malert\u001b[39m\u001b[38;5;124m\"\u001b[39m]\u001b[38;5;241m.\u001b[39mget(\u001b[38;5;124m\"\u001b[39m\u001b[38;5;124mtext\u001b[39m\u001b[38;5;124m\"\u001b[39m)\n\u001b[0;32m    228\u001b[0m     \u001b[38;5;28;01mraise\u001b[39;00m exception_class(message, screen, stacktrace, alert_text)  \u001b[38;5;66;03m# type: ignore[call-arg]  # mypy is not smart enough here\u001b[39;00m\n\u001b[1;32m--> 229\u001b[0m \u001b[38;5;28;01mraise\u001b[39;00m exception_class(message, screen, stacktrace)\n",
      "\u001b[1;31mNoSuchElementException\u001b[0m: Message: no such element: Unable to locate element: {\"method\":\"css selector\",\"selector\":\"#__next > main > div > section.ipc-page-background.ipc-page-background--base.sc-c41b9732-0.NeSef > section > div:nth-child(5) > section > section > div.sc-491663c0-4.gEsAEH > div.sc-491663c0-6.eQRCDK > div.sc-491663c0-11.bmRzqx > section > aside > div > span:nth-child(2)\"}\n  (Session info: chrome=126.0.6478.128); For documentation on this error, please visit: https://www.selenium.dev/documentation/webdriver/troubleshooting/errors#no-such-element-exception\nStacktrace:\n\tGetHandleVerifier [0x00007FF6F7E5EEB2+31554]\n\t(No symbol) [0x00007FF6F7DD7EE9]\n\t(No symbol) [0x00007FF6F7C9872A]\n\t(No symbol) [0x00007FF6F7CE8434]\n\t(No symbol) [0x00007FF6F7CE853C]\n\t(No symbol) [0x00007FF6F7D2F6A7]\n\t(No symbol) [0x00007FF6F7D0D06F]\n\t(No symbol) [0x00007FF6F7D2C977]\n\t(No symbol) [0x00007FF6F7D0CDD3]\n\t(No symbol) [0x00007FF6F7CDA33B]\n\t(No symbol) [0x00007FF6F7CDAED1]\n\tGetHandleVerifier [0x00007FF6F8168B2D+3217341]\n\tGetHandleVerifier [0x00007FF6F81B5AF3+3532675]\n\tGetHandleVerifier [0x00007FF6F81AB0F0+3489152]\n\tGetHandleVerifier [0x00007FF6F7F0E786+750614]\n\t(No symbol) [0x00007FF6F7DE376F]\n\t(No symbol) [0x00007FF6F7DDEB24]\n\t(No symbol) [0x00007FF6F7DDECB2]\n\t(No symbol) [0x00007FF6F7DCE17F]\n\tBaseThreadInitThunk [0x00007FFB00FF257D+29]\n\tRtlUserThreadStart [0x00007FFB01D4AF28+40]\n"
     ]
    }
   ],
   "source": [
    "# creamos el objeto driver para poder inicializar el navegador\n",
    "driver = webdriver.Chrome()\n",
    "\n",
    "# entramos en imdb\n",
    "driver.get('https://www.imdb.com/')\n",
    "\n",
    "# maximizamos la ventana\n",
    "driver.maximize_window()\n",
    "\n",
    "# aceptamos cookies\n",
    "driver.find_element('css selector', '#__next > div > div > div.sc-jrcTuL.bPmWiM > div > button.icb-btn.sc-bcXHqe.sc-dkrFOg.sc-iBYQkv.dcvrLS.ddtuHe.dRCGjd').click()\n",
    "\n",
    "premios_actor = []\n",
    "nacimiento = []\n",
    "# iteramos la lista de actores (la que no tiene elementos duplicados)\n",
    "for actor in list_all_actors[:20]:\n",
    "    ganados = []\n",
    "    nominaciones = []\n",
    "    conocido_por = []\n",
    "    \n",
    "    # buscamos al actor\n",
    "    driver.find_element('css selector', '#suggestion-search').send_keys(actor, Keys.ENTER)\n",
    "    \n",
    "    # clickamos en la primera coincidencia\n",
    "    driver.find_element('css selector', '#__next > main > div.ipc-page-content-container.ipc-page-content-container--full.sc-e51f9d6d-0.Fmvqg > div.ipc-page-content-container.ipc-page-content-container--center > section > div > div.ipc-page-grid__item.ipc-page-grid__item--span-2 > section:nth-child(4) > div.sc-e8e4ce7-2.iXsuvN > ul > li:nth-child(1) > div.ipc-metadata-list-summary-item__c > div > a').click()\n",
    "    \n",
    "    try:\n",
    "        nacimiento = driver.find_element('css selector', '#__next > main > div > section.ipc-page-background.ipc-page-background--base.sc-c41b9732-0.NeSef > section > div:nth-child(5) > section > section > div.sc-491663c0-4.yjUiO > div.sc-491663c0-6.lnlBxO > div.sc-491663c0-11.cvvyMK > section > aside > div:nth-child(1) > span:nth-child(2)').text    \n",
    "\n",
    "    except:\n",
    "        nacimiento = driver.find_element('css selector', '#__next > main > div > section.ipc-page-background.ipc-page-background--base.sc-c41b9732-0.NeSef > section > div:nth-child(5) > section > section > div.sc-491663c0-4.gEsAEH > div.sc-491663c0-6.eQRCDK > div.sc-491663c0-11.bmRzqx > section > aside > div > span:nth-child(2)').text\n",
    "    \n",
    "    \n",
    "    \n",
    "    # vemos por qué es conocido:\n",
    "    for conocido in range (1,5):\n",
    "        \n",
    "        conocido_por.append(driver.find_element('css selector', f'#__next > main > div > section.ipc-page-background.ipc-page-background--base.sc-c41b9732-0.NeSef > div > section > div > div.sc-978e9339-1.ihWZgK.ipc-page-grid__item.ipc-page-grid__item--span-2 > div.celwidget > section:nth-child(1) > div.sc-1c5b3162-0.fFgRFS > div > div.ipc-sub-grid.ipc-sub-grid--page-span-2.ipc-sub-grid--wraps-at-above-l.ipc-shoveler__grid > div:nth-child({conocido}) > div.ipc-primary-image-list-card__content > div.ipc-primary-image-list-card__content-top > a').text)\n",
    "                                                                  #__next > main > div > section.ipc-page-background.ipc-page-background--base.sc-c41b9732-0.NeSef > div > section > div > div.sc-978e9339-1.ihWZgK.ipc-page-grid__item.ipc-page-grid__item--span-2 > div.celwidget > section:nth-child(1) > div.sc-1c5b3162-0.fFgRFS > div > div.ipc-sub-grid.ipc-sub-grid--page-span-2.ipc-sub-grid--wraps-at-above-l.ipc-shoveler__grid > div:nth-child(1) > div.ipc-primary-image-list-card__content > div.ipc-primary-image-list-card__content-top > a\n",
    "    conocido = tuple(conocido_por)\n",
    "\n",
    "    #__next > main > div > section.ipc-page-background.ipc-page-background--base.sc-c41b9732-0.NeSef > div > section > div > div.sc-978e9339-1.ihWZgK.ipc-page-grid__item.ipc-page-grid__item--span-2 > div.celwidget > section:nth-child(1) > div.sc-1c5b3162-0.fFgRFS > div > div.ipc-sub-grid.ipc-sub-grid--page-span-2.ipc-sub-grid--wraps-at-above-l.ipc-shoveler__grid > div:nth-child(1) > div.ipc-primary-image-list-card__content > div.ipc-primary-image-list-card__content-top > a\n",
    "    #__next > main > div > section.ipc-page-background.ipc-page-background--base.sc-c41b9732-0.NeSef > div > section > div > div.sc-978e9339-1.ihWZgK.ipc-page-grid__item.ipc-page-grid__item--span-2 > div.celwidget > section:nth-child(1) > div.sc-1c5b3162-0.fFgRFS > div > div.ipc-sub-grid.ipc-sub-grid--page-span-2.ipc-sub-grid--wraps-at-above-l.ipc-shoveler__grid > div:nth-child(2) > div.ipc-primary-image-list-card__content > div.ipc-primary-image-list-card__content-top > a\n",
    "    \n",
    "    # accedemos a premios\n",
    "    try:\n",
    "        driver.find_element('css selector', '#__next > main > div > section.ipc-page-background.ipc-page-background--base.sc-c41b9732-0.NeSef > div > section > div > div.sc-978e9339-1.ihWZgK.ipc-page-grid__item.ipc-page-grid__item--span-2 > section:nth-child(3) > div > ul > li > div').click()\n",
    "    \n",
    "    except:\n",
    "        try: # hago el try dos veces porque en el primer intento consigo que el navegador se mueva al elemento y en el except es cuando consigo clickearlo\n",
    "            sleep(3)\n",
    "            driver.find_element('css selector', '#__next > main > div > section.ipc-page-background.ipc-page-background--base.sc-c41b9732-0.NeSef > div > section > div > div.sc-978e9339-1.ihWZgK.ipc-page-grid__item.ipc-page-grid__item--span-2 > section:nth-child(3) > div > ul > li > div').click()\n",
    "            \n",
    "            print('Entramos en los premios')\n",
    "        except:\n",
    "            print(\"Este actor no tiene premios\")\n",
    "\n",
    "\n",
    "    for premio in range (0,10):\n",
    "        premio += 1\n",
    "        try: \n",
    "            # premios ganados\n",
    "            ganados.append(driver.find_element('css selector', f'#__next > main > div > section > div > section > div > div.sc-978e9339-1.ihWZgK.ipc-page-grid__item.ipc-page-grid__item--span-2 > section:nth-child(3) > div.sc-f65f65be-0.bBlII > ul > li:nth-child({premio}) > div.ipc-metadata-list-summary-item__c > div > a').text)\n",
    "            # nominaciones                                                    \n",
    "            nominaciones.append(driver.find_element('css selector', f'#__next > main > div > section > div > section > div > div.sc-978e9339-1.ihWZgK.ipc-page-grid__item.ipc-page-grid__item--span-2 > section:nth-child(4) > div.sc-f65f65be-0.bBlII > ul > li:nth-child({premio}) > div.ipc-metadata-list-summary-item__c > div > a').text)\n",
    "\n",
    "        except:                                                  \n",
    "            pass\n",
    "    \n",
    "    # comprobamos si tiene premio ganado o nominacion, si es así lo añadimos al diccionario de premios por actor\n",
    "    if len(ganados) or len(nominaciones) > 0:\n",
    "        premios_actor.append({'nombre':actor, 'premios ganados': ganados, 'nominaciones': nominaciones})\n",
    "    else:\n",
    "        premios_actor.append(None)\n",
    "      \n",
    "    \n",
    "    \n",
    "    \n"
   ]
  },
  {
   "cell_type": "code",
   "execution_count": 13,
   "metadata": {},
   "outputs": [
    {
     "ename": "NoSuchElementException",
     "evalue": "Message: no such element: Unable to locate element: {\"method\":\"css selector\",\"selector\":\"#__next > main > div > section.ipc-page-background.ipc-page-background--base.sc-c41b9732-0.NeSef > section > div:nth-child(5) > section > section > div.sc-491663c0-4.yjUiO > div.sc-491663c0-6.lnlBxO > div.sc-491663c0-11.cvvyMK > section > aside > div:nth-child(1) > span:nth-child(2)\"}\n  (Session info: chrome=126.0.6478.128); For documentation on this error, please visit: https://www.selenium.dev/documentation/webdriver/troubleshooting/errors#no-such-element-exception\nStacktrace:\n\tGetHandleVerifier [0x00007FF6F7E5EEB2+31554]\n\t(No symbol) [0x00007FF6F7DD7EE9]\n\t(No symbol) [0x00007FF6F7C9872A]\n\t(No symbol) [0x00007FF6F7CE8434]\n\t(No symbol) [0x00007FF6F7CE853C]\n\t(No symbol) [0x00007FF6F7D2F6A7]\n\t(No symbol) [0x00007FF6F7D0D06F]\n\t(No symbol) [0x00007FF6F7D2C977]\n\t(No symbol) [0x00007FF6F7D0CDD3]\n\t(No symbol) [0x00007FF6F7CDA33B]\n\t(No symbol) [0x00007FF6F7CDAED1]\n\tGetHandleVerifier [0x00007FF6F8168B2D+3217341]\n\tGetHandleVerifier [0x00007FF6F81B5AF3+3532675]\n\tGetHandleVerifier [0x00007FF6F81AB0F0+3489152]\n\tGetHandleVerifier [0x00007FF6F7F0E786+750614]\n\t(No symbol) [0x00007FF6F7DE376F]\n\t(No symbol) [0x00007FF6F7DDEB24]\n\t(No symbol) [0x00007FF6F7DDECB2]\n\t(No symbol) [0x00007FF6F7DCE17F]\n\tBaseThreadInitThunk [0x00007FFB00FF257D+29]\n\tRtlUserThreadStart [0x00007FFB01D4AF28+40]\n",
     "output_type": "error",
     "traceback": [
      "\u001b[1;31m---------------------------------------------------------------------------\u001b[0m",
      "\u001b[1;31mNoSuchElementException\u001b[0m                    Traceback (most recent call last)",
      "Cell \u001b[1;32mIn[13], line 1\u001b[0m\n\u001b[1;32m----> 1\u001b[0m nacimiento \u001b[38;5;241m=\u001b[39m \u001b[43mdriver\u001b[49m\u001b[38;5;241;43m.\u001b[39;49m\u001b[43mfind_element\u001b[49m\u001b[43m(\u001b[49m\u001b[38;5;124;43m'\u001b[39;49m\u001b[38;5;124;43mcss selector\u001b[39;49m\u001b[38;5;124;43m'\u001b[39;49m\u001b[43m,\u001b[49m\u001b[43m \u001b[49m\u001b[38;5;124;43m'\u001b[39;49m\u001b[38;5;124;43m#__next > main > div > section.ipc-page-background.ipc-page-background--base.sc-c41b9732-0.NeSef > section > div:nth-child(5) > section > section > div.sc-491663c0-4.yjUiO > div.sc-491663c0-6.lnlBxO > div.sc-491663c0-11.cvvyMK > section > aside > div:nth-child(1) > span:nth-child(2)\u001b[39;49m\u001b[38;5;124;43m'\u001b[39;49m\u001b[43m)\u001b[49m\u001b[38;5;241m.\u001b[39mtext\n",
      "File \u001b[1;32m~\\AppData\\Local\\Packages\\PythonSoftwareFoundation.Python.3.11_qbz5n2kfra8p0\\LocalCache\\local-packages\\Python311\\site-packages\\selenium\\webdriver\\remote\\webdriver.py:741\u001b[0m, in \u001b[0;36mWebDriver.find_element\u001b[1;34m(self, by, value)\u001b[0m\n\u001b[0;32m    738\u001b[0m     by \u001b[38;5;241m=\u001b[39m By\u001b[38;5;241m.\u001b[39mCSS_SELECTOR\n\u001b[0;32m    739\u001b[0m     value \u001b[38;5;241m=\u001b[39m \u001b[38;5;124mf\u001b[39m\u001b[38;5;124m'\u001b[39m\u001b[38;5;124m[name=\u001b[39m\u001b[38;5;124m\"\u001b[39m\u001b[38;5;132;01m{\u001b[39;00mvalue\u001b[38;5;132;01m}\u001b[39;00m\u001b[38;5;124m\"\u001b[39m\u001b[38;5;124m]\u001b[39m\u001b[38;5;124m'\u001b[39m\n\u001b[1;32m--> 741\u001b[0m \u001b[38;5;28;01mreturn\u001b[39;00m \u001b[38;5;28;43mself\u001b[39;49m\u001b[38;5;241;43m.\u001b[39;49m\u001b[43mexecute\u001b[49m\u001b[43m(\u001b[49m\u001b[43mCommand\u001b[49m\u001b[38;5;241;43m.\u001b[39;49m\u001b[43mFIND_ELEMENT\u001b[49m\u001b[43m,\u001b[49m\u001b[43m \u001b[49m\u001b[43m{\u001b[49m\u001b[38;5;124;43m\"\u001b[39;49m\u001b[38;5;124;43musing\u001b[39;49m\u001b[38;5;124;43m\"\u001b[39;49m\u001b[43m:\u001b[49m\u001b[43m \u001b[49m\u001b[43mby\u001b[49m\u001b[43m,\u001b[49m\u001b[43m \u001b[49m\u001b[38;5;124;43m\"\u001b[39;49m\u001b[38;5;124;43mvalue\u001b[39;49m\u001b[38;5;124;43m\"\u001b[39;49m\u001b[43m:\u001b[49m\u001b[43m \u001b[49m\u001b[43mvalue\u001b[49m\u001b[43m}\u001b[49m\u001b[43m)\u001b[49m[\u001b[38;5;124m\"\u001b[39m\u001b[38;5;124mvalue\u001b[39m\u001b[38;5;124m\"\u001b[39m]\n",
      "File \u001b[1;32m~\\AppData\\Local\\Packages\\PythonSoftwareFoundation.Python.3.11_qbz5n2kfra8p0\\LocalCache\\local-packages\\Python311\\site-packages\\selenium\\webdriver\\remote\\webdriver.py:347\u001b[0m, in \u001b[0;36mWebDriver.execute\u001b[1;34m(self, driver_command, params)\u001b[0m\n\u001b[0;32m    345\u001b[0m response \u001b[38;5;241m=\u001b[39m \u001b[38;5;28mself\u001b[39m\u001b[38;5;241m.\u001b[39mcommand_executor\u001b[38;5;241m.\u001b[39mexecute(driver_command, params)\n\u001b[0;32m    346\u001b[0m \u001b[38;5;28;01mif\u001b[39;00m response:\n\u001b[1;32m--> 347\u001b[0m     \u001b[38;5;28;43mself\u001b[39;49m\u001b[38;5;241;43m.\u001b[39;49m\u001b[43merror_handler\u001b[49m\u001b[38;5;241;43m.\u001b[39;49m\u001b[43mcheck_response\u001b[49m\u001b[43m(\u001b[49m\u001b[43mresponse\u001b[49m\u001b[43m)\u001b[49m\n\u001b[0;32m    348\u001b[0m     response[\u001b[38;5;124m\"\u001b[39m\u001b[38;5;124mvalue\u001b[39m\u001b[38;5;124m\"\u001b[39m] \u001b[38;5;241m=\u001b[39m \u001b[38;5;28mself\u001b[39m\u001b[38;5;241m.\u001b[39m_unwrap_value(response\u001b[38;5;241m.\u001b[39mget(\u001b[38;5;124m\"\u001b[39m\u001b[38;5;124mvalue\u001b[39m\u001b[38;5;124m\"\u001b[39m, \u001b[38;5;28;01mNone\u001b[39;00m))\n\u001b[0;32m    349\u001b[0m     \u001b[38;5;28;01mreturn\u001b[39;00m response\n",
      "File \u001b[1;32m~\\AppData\\Local\\Packages\\PythonSoftwareFoundation.Python.3.11_qbz5n2kfra8p0\\LocalCache\\local-packages\\Python311\\site-packages\\selenium\\webdriver\\remote\\errorhandler.py:229\u001b[0m, in \u001b[0;36mErrorHandler.check_response\u001b[1;34m(self, response)\u001b[0m\n\u001b[0;32m    227\u001b[0m         alert_text \u001b[38;5;241m=\u001b[39m value[\u001b[38;5;124m\"\u001b[39m\u001b[38;5;124malert\u001b[39m\u001b[38;5;124m\"\u001b[39m]\u001b[38;5;241m.\u001b[39mget(\u001b[38;5;124m\"\u001b[39m\u001b[38;5;124mtext\u001b[39m\u001b[38;5;124m\"\u001b[39m)\n\u001b[0;32m    228\u001b[0m     \u001b[38;5;28;01mraise\u001b[39;00m exception_class(message, screen, stacktrace, alert_text)  \u001b[38;5;66;03m# type: ignore[call-arg]  # mypy is not smart enough here\u001b[39;00m\n\u001b[1;32m--> 229\u001b[0m \u001b[38;5;28;01mraise\u001b[39;00m exception_class(message, screen, stacktrace)\n",
      "\u001b[1;31mNoSuchElementException\u001b[0m: Message: no such element: Unable to locate element: {\"method\":\"css selector\",\"selector\":\"#__next > main > div > section.ipc-page-background.ipc-page-background--base.sc-c41b9732-0.NeSef > section > div:nth-child(5) > section > section > div.sc-491663c0-4.yjUiO > div.sc-491663c0-6.lnlBxO > div.sc-491663c0-11.cvvyMK > section > aside > div:nth-child(1) > span:nth-child(2)\"}\n  (Session info: chrome=126.0.6478.128); For documentation on this error, please visit: https://www.selenium.dev/documentation/webdriver/troubleshooting/errors#no-such-element-exception\nStacktrace:\n\tGetHandleVerifier [0x00007FF6F7E5EEB2+31554]\n\t(No symbol) [0x00007FF6F7DD7EE9]\n\t(No symbol) [0x00007FF6F7C9872A]\n\t(No symbol) [0x00007FF6F7CE8434]\n\t(No symbol) [0x00007FF6F7CE853C]\n\t(No symbol) [0x00007FF6F7D2F6A7]\n\t(No symbol) [0x00007FF6F7D0D06F]\n\t(No symbol) [0x00007FF6F7D2C977]\n\t(No symbol) [0x00007FF6F7D0CDD3]\n\t(No symbol) [0x00007FF6F7CDA33B]\n\t(No symbol) [0x00007FF6F7CDAED1]\n\tGetHandleVerifier [0x00007FF6F8168B2D+3217341]\n\tGetHandleVerifier [0x00007FF6F81B5AF3+3532675]\n\tGetHandleVerifier [0x00007FF6F81AB0F0+3489152]\n\tGetHandleVerifier [0x00007FF6F7F0E786+750614]\n\t(No symbol) [0x00007FF6F7DE376F]\n\t(No symbol) [0x00007FF6F7DDEB24]\n\t(No symbol) [0x00007FF6F7DDECB2]\n\t(No symbol) [0x00007FF6F7DCE17F]\n\tBaseThreadInitThunk [0x00007FFB00FF257D+29]\n\tRtlUserThreadStart [0x00007FFB01D4AF28+40]\n"
     ]
    }
   ],
   "source": [
    "nacimiento = driver.find_element('css selector', '#__next > main > div > section.ipc-page-background.ipc-page-background--base.sc-c41b9732-0.NeSef > section > div:nth-child(5) > section > section > div.sc-491663c0-4.yjUiO > div.sc-491663c0-6.lnlBxO > div.sc-491663c0-11.cvvyMK > section > aside > div:nth-child(1) > span:nth-child(2)').text"
   ]
  },
  {
   "cell_type": "code",
   "execution_count": null,
   "metadata": {},
   "outputs": [],
   "source": [
    "nacimiento = driver.find_element('css selector', '#__next > main > div > section.ipc-page-background.ipc-page-background--base.sc-c41b9732-0.NeSef > section > div:nth-child(5) > section > section > div.sc-491663c0-4.yjUiO > div.sc-491663c0-6.lnlBxO > div.sc-491663c0-11.cvvyMK > section > aside > div > span:nth-child(2)').text\n",
    "nacimiento = driver.find_element('css selector', '#__next > main > div > section.ipc-page-background.ipc-page-background--base.sc-c41b9732-0.NeSef > section > div:nth-child(5) > section > section > div.sc-491663c0-4.yjUiO > div.sc-491663c0-6.lnlBxO > div.sc-491663c0-11.cvvyMK > section > aside > div:nth-child(1) > span:nth-child(2)').text"
   ]
  },
  {
   "cell_type": "code",
   "execution_count": 4,
   "metadata": {},
   "outputs": [
    {
     "ename": "NameError",
     "evalue": "name 'premios_actor' is not defined",
     "output_type": "error",
     "traceback": [
      "\u001b[1;31m---------------------------------------------------------------------------\u001b[0m",
      "\u001b[1;31mNameError\u001b[0m                                 Traceback (most recent call last)",
      "Cell \u001b[1;32mIn[4], line 1\u001b[0m\n\u001b[1;32m----> 1\u001b[0m \u001b[43mpremios_actor\u001b[49m\n",
      "\u001b[1;31mNameError\u001b[0m: name 'premios_actor' is not defined"
     ]
    }
   ],
   "source": [
    "premios_actor"
   ]
  }
 ],
 "metadata": {
  "kernelspec": {
   "display_name": "Python 3",
   "language": "python",
   "name": "python3"
  },
  "language_info": {
   "codemirror_mode": {
    "name": "ipython",
    "version": 3
   },
   "file_extension": ".py",
   "mimetype": "text/x-python",
   "name": "python",
   "nbconvert_exporter": "python",
   "pygments_lexer": "ipython3",
   "version": "3.11.9"
  }
 },
 "nbformat": 4,
 "nbformat_minor": 2
}
