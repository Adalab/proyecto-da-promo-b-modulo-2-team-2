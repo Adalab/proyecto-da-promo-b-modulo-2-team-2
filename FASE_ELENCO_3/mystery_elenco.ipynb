{
 "cells": [
  {
   "cell_type": "code",
   "execution_count": 1,
   "metadata": {},
   "outputs": [],
   "source": [
    "import pandas as pd\n",
    "from selenium import webdriver  # Selenium es una herramienta para automatizar la interacción con navegadores web.\n",
    "from webdriver_manager.chrome import ChromeDriverManager  # ChromeDriverManager gestiona la instalación del controlador de Chrome.\n",
    "from selenium.webdriver.common.keys import Keys  # Keys es útil para simular eventos de teclado en Selenium.\n",
    "from selenium.webdriver.support.ui import Select  # Select se utiliza para interactuar con elementos <select> en páginas web.\n",
    "from tqdm import tqdm\n",
    "from time import sleep"
   ]
  },
  {
   "cell_type": "code",
   "execution_count": 2,
   "metadata": {},
   "outputs": [
    {
     "name": "stdout",
     "output_type": "stream",
     "text": [
      "      idOwner                                         Title   Type  Year  \\\n",
      "0   tt0079120                                       Estigma  Movie  1980   \n",
      "1   tt0080054                              La tía Alejandra  Movie  1980   \n",
      "2   tt0078546           Ángela Morante, ¿crimen o suicidio?  Movie  1981   \n",
      "3   tt0081435                                      Romaneto  Movie  1981   \n",
      "4   tt0081315                                      Patrizia  Movie  1981   \n",
      "..        ...                                           ...    ...   ...   \n",
      "56  tt0109264                                 The Bicyclist  Short  1995   \n",
      "57  tt0109642                             Dolores Claiborne  Movie  1995   \n",
      "58  tt0110217                                Jupiter's Wife  Movie  1995   \n",
      "59  tt0111151                       Mad Dogs and Englishmen  Movie  1995   \n",
      "60  tt0111269  Die Knickerbocker-Bande: Das sprechende Grab  Movie  1995   \n",
      "\n",
      "      Genre  \n",
      "0   Mystery  \n",
      "1   Mystery  \n",
      "2   Mystery  \n",
      "3   Mystery  \n",
      "4   Mystery  \n",
      "..      ...  \n",
      "56  Mystery  \n",
      "57  Mystery  \n",
      "58  Mystery  \n",
      "59  Mystery  \n",
      "60  Mystery  \n",
      "\n",
      "[61 rows x 5 columns]\n",
      "['tt0079120', 'tt0080054', 'tt0078546', 'tt0081435', 'tt0081315', 'tt0081513', 'tt0082531', 'tt0081203', 'tt0082324', 'tt0082279', 'tt0082748', 'tt0082278', 'tt0082285', 'tt0083811', 'tt0083558', 'tt0085965', 'tt0086162', 'tt0086343', 'tt0089283', 'tt0087512', 'tt0089409', 'tt0090086', 'tt0088920', 'tt0089857', 'tt0088872', 'tt0089151', 'tt0089678', 'tt0090978', 'tt0090689', 'tt0092840', 'tt0092632', 'tt0092847', 'tt0092879', 'tt0092588', 'tt0092961', 'tt0094627', 'tt0092577', 'tt0094709', 'tt0094949', 'tt0095400', 'tt0092589', 'tt0096177', 'tt0097573', 'tt0099397', 'tt0100338', 'tt0099723', 'tt0101404', 'tt0102238', 'tt0101625', 'tt0098707', 'tt0103124', 'tt0103968', 'tt0086847', 'tt0106261', 'tt0108045', 'tt0109028', 'tt0109264', 'tt0109642', 'tt0110217', 'tt0111151', 'tt0111269']\n"
     ]
    }
   ],
   "source": [
    "df_comedy = pd.read_csv(\"Mystery.csv\")\n",
    "\n",
    "print(df_comedy)\n",
    "\n",
    "idOwner = []\n",
    "\n",
    "for i in df_comedy[\"idOwner\"]:\n",
    "    idOwner.append(i)\n",
    "    \n",
    "\n",
    "print(idOwner)"
   ]
  },
  {
   "cell_type": "code",
   "execution_count": 3,
   "metadata": {},
   "outputs": [
    {
     "data": {
      "text/plain": [
       "['tt0079120',\n",
       " 'tt0080054',\n",
       " 'tt0078546',\n",
       " 'tt0081435',\n",
       " 'tt0081315',\n",
       " 'tt0081513',\n",
       " 'tt0082531',\n",
       " 'tt0081203',\n",
       " 'tt0082324',\n",
       " 'tt0082279']"
      ]
     },
     "execution_count": 3,
     "metadata": {},
     "output_type": "execute_result"
    }
   ],
   "source": [
    "lista_id_peliculas_cortas = idOwner[:10]\n",
    "lista_id_peliculas_cortas"
   ]
  },
  {
   "cell_type": "code",
   "execution_count": 4,
   "metadata": {},
   "outputs": [
    {
     "name": "stderr",
     "output_type": "stream",
     "text": [
      " 70%|███████   | 7/10 [00:28<00:10,  3.62s/it]"
     ]
    },
    {
     "name": "stdout",
     "output_type": "stream",
     "text": [
      "No se encontraron actores\n"
     ]
    },
    {
     "name": "stderr",
     "output_type": "stream",
     "text": [
      "100%|██████████| 10/10 [00:41<00:00,  4.10s/it]\n"
     ]
    }
   ],
   "source": [
    "driver = webdriver.Chrome()\n",
    "\n",
    "driver.get('https://www.imdb.com/')\n",
    "\n",
    "driver.maximize_window()\n",
    "\n",
    "sleep (3)\n",
    "\n",
    "list_actors_by_movie = []\n",
    "\n",
    "list_all_actors = []\n",
    "\n",
    "for peli in tqdm(lista_id_peliculas_cortas):\n",
    "    \n",
    "    driver.find_element('css selector', '#suggestion-search').send_keys(peli, Keys.ENTER)\n",
    "    for i in range(1,6): # porque estamos cogiendo los 10 primeros actores\n",
    "        try:\n",
    "            actor = driver.find_element('css selector', f'#__next > main > div > section.ipc-page-background.ipc-page-background--base.sc-c41b9732-0.NeSef > div > section > div > div.sc-978e9339-1.ihWZgK.ipc-page-grid__item.ipc-page-grid__item--span-2 > section.ipc-page-section.ipc-page-section--base.sc-bfec09a1-0.jgUBLM.title-cast.title-cast--movie.celwidget > div.ipc-shoveler.ipc-shoveler--base.ipc-shoveler--page0.title-cast__grid > div.ipc-sub-grid.ipc-sub-grid--page-span-2.ipc-sub-grid--wraps-at-above-l.ipc-shoveler__grid > div:nth-child({i}) > div.sc-bfec09a1-7.gWwKlt > a').text\n",
    "            list_actors_by_movie.append({'nombre': actor, 'id_pelicula': peli})\n",
    "            # Para no repetir los actores y sacar una lista de actores:\n",
    "            \n",
    "            if(actor not in list_all_actors):\n",
    "                list_all_actors.append(actor)\n",
    "            \n",
    "        except:\n",
    "            print('No se encontraron actores')\n",
    "\n",
    "driver.close()\n"
   ]
  },
  {
   "cell_type": "code",
   "execution_count": 5,
   "metadata": {},
   "outputs": [
    {
     "data": {
      "text/plain": [
       "[{'nombre': 'Christian Borromeo', 'id_pelicula': 'tt0079120'},\n",
       " {'nombre': 'Alexandra Bastedo', 'id_pelicula': 'tt0079120'},\n",
       " {'nombre': 'Emilio Gutiérrez Caba', 'id_pelicula': 'tt0079120'},\n",
       " {'nombre': 'Berta Cabré', 'id_pelicula': 'tt0079120'},\n",
       " {'nombre': 'José María Caffarel', 'id_pelicula': 'tt0079120'},\n",
       " {'nombre': 'Diana Bracho', 'id_pelicula': 'tt0080054'},\n",
       " {'nombre': 'Isabela Corona', 'id_pelicula': 'tt0080054'},\n",
       " {'nombre': 'Manuel Ojeda', 'id_pelicula': 'tt0080054'},\n",
       " {'nombre': 'María Rebeca', 'id_pelicula': 'tt0080054'},\n",
       " {'nombre': 'Lilian Davis', 'id_pelicula': 'tt0080054'},\n",
       " {'nombre': 'Ana Martín', 'id_pelicula': 'tt0078546'},\n",
       " {'nombre': 'Enrique Lizalde', 'id_pelicula': 'tt0078546'},\n",
       " {'nombre': 'Rafael Baledón', 'id_pelicula': 'tt0078546'},\n",
       " {'nombre': 'Blanca Baldó', 'id_pelicula': 'tt0078546'},\n",
       " {'nombre': 'Miguel Ángel Ferriz', 'id_pelicula': 'tt0078546'},\n",
       " {'nombre': 'Viktor Preiss', 'id_pelicula': 'tt0081435'},\n",
       " {'nombre': 'Pavel Pavlovský', 'id_pelicula': 'tt0081435'},\n",
       " {'nombre': 'Radovan Lukavský', 'id_pelicula': 'tt0081435'},\n",
       " {'nombre': 'Petr Kostka', 'id_pelicula': 'tt0081435'},\n",
       " {'nombre': 'Radoslav Brzobohatý', 'id_pelicula': 'tt0081435'},\n",
       " {'nombre': 'Anne Parillaud', 'id_pelicula': 'tt0081315'},\n",
       " {'nombre': 'Sascha Hehn', 'id_pelicula': 'tt0081315'},\n",
       " {'nombre': 'Paca Gabaldón', 'id_pelicula': 'tt0081315'},\n",
       " {'nombre': 'María Rey', 'id_pelicula': 'tt0081315'},\n",
       " {'nombre': 'Eva Lyberten', 'id_pelicula': 'tt0081315'},\n",
       " {'nombre': 'Maurice Risch', 'id_pelicula': 'tt0081513'},\n",
       " {'nombre': 'Pierre Tchernia', 'id_pelicula': 'tt0081513'},\n",
       " {'nombre': 'Pierre Tornade', 'id_pelicula': 'tt0081513'},\n",
       " {'nombre': 'Maurice Chevit', 'id_pelicula': 'tt0081513'},\n",
       " {'nombre': 'Bernard Haller', 'id_pelicula': 'tt0081513'},\n",
       " {'nombre': 'Judith Arciniega', 'id_pelicula': 'tt0082531'},\n",
       " {'nombre': 'Rosa María Bianchi', 'id_pelicula': 'tt0082531'},\n",
       " {'nombre': 'Maria del Carmen Cardenas', 'id_pelicula': 'tt0082531'},\n",
       " {'nombre': 'Luis Rábago', 'id_pelicula': 'tt0082531'},\n",
       " {'nombre': 'Richard Chamberlain', 'id_pelicula': 'tt0081203'},\n",
       " {'nombre': 'John Houseman', 'id_pelicula': 'tt0081203'},\n",
       " {'nombre': 'Sara Botsford', 'id_pelicula': 'tt0081203'},\n",
       " {'nombre': 'Robin Gammell', 'id_pelicula': 'tt0081203'},\n",
       " {'nombre': 'Gary Reineke', 'id_pelicula': 'tt0081203'},\n",
       " {'nombre': 'Pedro Armendáriz Jr.', 'id_pelicula': 'tt0082324'},\n",
       " {'nombre': 'Helena Rojo', 'id_pelicula': 'tt0082324'},\n",
       " {'nombre': 'Ernesto Gómez Cruz', 'id_pelicula': 'tt0082324'},\n",
       " {'nombre': 'Aurora Clavel', 'id_pelicula': 'tt0082324'},\n",
       " {'nombre': 'Paco Mauri', 'id_pelicula': 'tt0082324'},\n",
       " {'nombre': 'Laurie Lapinski', 'id_pelicula': 'tt0082279'},\n",
       " {'nombre': 'Stephen Sachs', 'id_pelicula': 'tt0082279'},\n",
       " {'nombre': 'David Snow', 'id_pelicula': 'tt0082279'},\n",
       " {'nombre': 'Pamela Holland', 'id_pelicula': 'tt0082279'},\n",
       " {'nombre': 'Dennis Ely', 'id_pelicula': 'tt0082279'}]"
      ]
     },
     "execution_count": 5,
     "metadata": {},
     "output_type": "execute_result"
    }
   ],
   "source": [
    "list_actors_by_movie"
   ]
  },
  {
   "cell_type": "code",
   "execution_count": 6,
   "metadata": {},
   "outputs": [
    {
     "data": {
      "text/plain": [
       "['Christian Borromeo',\n",
       " 'Alexandra Bastedo',\n",
       " 'Emilio Gutiérrez Caba',\n",
       " 'Berta Cabré',\n",
       " 'José María Caffarel',\n",
       " 'Diana Bracho',\n",
       " 'Isabela Corona',\n",
       " 'Manuel Ojeda',\n",
       " 'María Rebeca',\n",
       " 'Lilian Davis',\n",
       " 'Ana Martín',\n",
       " 'Enrique Lizalde',\n",
       " 'Rafael Baledón',\n",
       " 'Blanca Baldó',\n",
       " 'Miguel Ángel Ferriz',\n",
       " 'Viktor Preiss',\n",
       " 'Pavel Pavlovský',\n",
       " 'Radovan Lukavský',\n",
       " 'Petr Kostka',\n",
       " 'Radoslav Brzobohatý',\n",
       " 'Anne Parillaud',\n",
       " 'Sascha Hehn',\n",
       " 'Paca Gabaldón',\n",
       " 'María Rey',\n",
       " 'Eva Lyberten',\n",
       " 'Maurice Risch',\n",
       " 'Pierre Tchernia',\n",
       " 'Pierre Tornade',\n",
       " 'Maurice Chevit',\n",
       " 'Bernard Haller',\n",
       " 'Judith Arciniega',\n",
       " 'Rosa María Bianchi',\n",
       " 'Maria del Carmen Cardenas',\n",
       " 'Luis Rábago',\n",
       " 'Richard Chamberlain',\n",
       " 'John Houseman',\n",
       " 'Sara Botsford',\n",
       " 'Robin Gammell',\n",
       " 'Gary Reineke',\n",
       " 'Pedro Armendáriz Jr.',\n",
       " 'Helena Rojo',\n",
       " 'Ernesto Gómez Cruz',\n",
       " 'Aurora Clavel',\n",
       " 'Paco Mauri',\n",
       " 'Laurie Lapinski',\n",
       " 'Stephen Sachs',\n",
       " 'David Snow',\n",
       " 'Pamela Holland',\n",
       " 'Dennis Ely']"
      ]
     },
     "execution_count": 6,
     "metadata": {},
     "output_type": "execute_result"
    }
   ],
   "source": [
    "list_all_actors"
   ]
  },
  {
   "cell_type": "code",
   "execution_count": 7,
   "metadata": {},
   "outputs": [
    {
     "name": "stderr",
     "output_type": "stream",
     "text": [
      "  0%|          | 0/49 [00:00<?, ?it/s]"
     ]
    },
    {
     "name": "stdout",
     "output_type": "stream",
     "text": [
      "Este actor no tiene premios\n"
     ]
    },
    {
     "name": "stderr",
     "output_type": "stream",
     "text": [
      "  2%|▏         | 1/49 [00:15<12:00, 15.01s/it]"
     ]
    },
    {
     "name": "stdout",
     "output_type": "stream",
     "text": [
      "Este actor no tiene premios\n"
     ]
    },
    {
     "name": "stderr",
     "output_type": "stream",
     "text": [
      "  4%|▍         | 2/49 [00:29<11:28, 14.65s/it]"
     ]
    },
    {
     "name": "stdout",
     "output_type": "stream",
     "text": [
      "Entramos en los premios\n"
     ]
    },
    {
     "name": "stderr",
     "output_type": "stream",
     "text": [
      "  6%|▌         | 3/49 [00:49<13:12, 17.23s/it]"
     ]
    },
    {
     "name": "stdout",
     "output_type": "stream",
     "text": [
      "Este actor no tiene premios\n"
     ]
    },
    {
     "name": "stderr",
     "output_type": "stream",
     "text": [
      "  8%|▊         | 4/49 [01:02<11:39, 15.54s/it]"
     ]
    },
    {
     "name": "stdout",
     "output_type": "stream",
     "text": [
      "Este actor no tiene premios\n"
     ]
    },
    {
     "name": "stderr",
     "output_type": "stream",
     "text": [
      " 10%|█         | 5/49 [01:16<10:51, 14.81s/it]"
     ]
    },
    {
     "name": "stdout",
     "output_type": "stream",
     "text": [
      "Entramos en los premios\n"
     ]
    },
    {
     "name": "stderr",
     "output_type": "stream",
     "text": [
      " 12%|█▏        | 6/49 [01:34<11:23, 15.90s/it]"
     ]
    },
    {
     "name": "stdout",
     "output_type": "stream",
     "text": [
      "Entramos en los premios\n"
     ]
    },
    {
     "name": "stderr",
     "output_type": "stream",
     "text": [
      " 14%|█▍        | 7/49 [01:51<11:27, 16.37s/it]"
     ]
    },
    {
     "name": "stdout",
     "output_type": "stream",
     "text": [
      "Entramos en los premios\n"
     ]
    },
    {
     "name": "stderr",
     "output_type": "stream",
     "text": [
      " 16%|█▋        | 8/49 [02:07<11:07, 16.28s/it]"
     ]
    },
    {
     "name": "stdout",
     "output_type": "stream",
     "text": [
      "Entramos en los premios\n"
     ]
    },
    {
     "name": "stderr",
     "output_type": "stream",
     "text": [
      " 18%|█▊        | 9/49 [02:24<10:55, 16.38s/it]"
     ]
    },
    {
     "name": "stdout",
     "output_type": "stream",
     "text": [
      "Este actor no tiene premios\n"
     ]
    },
    {
     "name": "stderr",
     "output_type": "stream",
     "text": [
      " 20%|██        | 10/49 [02:37<10:02, 15.44s/it]"
     ]
    },
    {
     "name": "stdout",
     "output_type": "stream",
     "text": [
      "Entramos en los premios\n"
     ]
    },
    {
     "name": "stderr",
     "output_type": "stream",
     "text": [
      " 22%|██▏       | 11/49 [02:54<10:09, 16.04s/it]"
     ]
    },
    {
     "name": "stdout",
     "output_type": "stream",
     "text": [
      "Entramos en los premios\n"
     ]
    },
    {
     "name": "stderr",
     "output_type": "stream",
     "text": [
      " 24%|██▍       | 12/49 [03:12<10:05, 16.37s/it]"
     ]
    },
    {
     "name": "stdout",
     "output_type": "stream",
     "text": [
      "Entramos en los premios\n"
     ]
    },
    {
     "name": "stderr",
     "output_type": "stream",
     "text": [
      " 27%|██▋       | 13/49 [03:29<10:04, 16.80s/it]"
     ]
    },
    {
     "name": "stdout",
     "output_type": "stream",
     "text": [
      "Este actor no tiene premios\n"
     ]
    },
    {
     "name": "stderr",
     "output_type": "stream",
     "text": [
      " 29%|██▊       | 14/49 [03:42<09:01, 15.47s/it]"
     ]
    },
    {
     "name": "stdout",
     "output_type": "stream",
     "text": [
      "Este actor no tiene premios\n"
     ]
    },
    {
     "name": "stderr",
     "output_type": "stream",
     "text": [
      " 31%|███       | 15/49 [03:52<07:50, 13.84s/it]"
     ]
    },
    {
     "name": "stdout",
     "output_type": "stream",
     "text": [
      "Este actor no tiene premios\n"
     ]
    },
    {
     "name": "stderr",
     "output_type": "stream",
     "text": [
      " 33%|███▎      | 16/49 [04:07<07:46, 14.14s/it]"
     ]
    },
    {
     "name": "stdout",
     "output_type": "stream",
     "text": [
      "Este actor no tiene premios\n"
     ]
    },
    {
     "name": "stderr",
     "output_type": "stream",
     "text": [
      " 35%|███▍      | 17/49 [04:18<07:04, 13.28s/it]"
     ]
    },
    {
     "name": "stdout",
     "output_type": "stream",
     "text": [
      "Este actor no tiene premios\n"
     ]
    },
    {
     "name": "stderr",
     "output_type": "stream",
     "text": [
      " 37%|███▋      | 18/49 [04:28<06:23, 12.37s/it]"
     ]
    },
    {
     "name": "stdout",
     "output_type": "stream",
     "text": [
      "Este actor no tiene premios\n"
     ]
    },
    {
     "name": "stderr",
     "output_type": "stream",
     "text": [
      " 39%|███▉      | 19/49 [04:38<05:49, 11.65s/it]"
     ]
    },
    {
     "name": "stdout",
     "output_type": "stream",
     "text": [
      "Entramos en los premios\n"
     ]
    },
    {
     "name": "stderr",
     "output_type": "stream",
     "text": [
      " 41%|████      | 20/49 [04:52<05:57, 12.32s/it]"
     ]
    },
    {
     "name": "stdout",
     "output_type": "stream",
     "text": [
      "Entramos en los premios\n"
     ]
    },
    {
     "name": "stderr",
     "output_type": "stream",
     "text": [
      " 43%|████▎     | 21/49 [05:10<06:31, 13.98s/it]"
     ]
    },
    {
     "name": "stdout",
     "output_type": "stream",
     "text": [
      "Entramos en los premios\n"
     ]
    },
    {
     "name": "stderr",
     "output_type": "stream",
     "text": [
      " 45%|████▍     | 22/49 [05:23<06:13, 13.84s/it]"
     ]
    },
    {
     "name": "stdout",
     "output_type": "stream",
     "text": [
      "Este actor no tiene premios\n"
     ]
    },
    {
     "name": "stderr",
     "output_type": "stream",
     "text": [
      " 47%|████▋     | 23/49 [05:34<05:34, 12.87s/it]"
     ]
    },
    {
     "name": "stdout",
     "output_type": "stream",
     "text": [
      "Este actor no tiene premios\n"
     ]
    },
    {
     "name": "stderr",
     "output_type": "stream",
     "text": [
      " 49%|████▉     | 24/49 [05:46<05:16, 12.67s/it]"
     ]
    },
    {
     "name": "stdout",
     "output_type": "stream",
     "text": [
      "Este actor no tiene premios\n"
     ]
    },
    {
     "name": "stderr",
     "output_type": "stream",
     "text": [
      " 51%|█████     | 25/49 [05:59<05:02, 12.62s/it]"
     ]
    },
    {
     "name": "stdout",
     "output_type": "stream",
     "text": [
      "Este actor no tiene premios\n"
     ]
    },
    {
     "name": "stderr",
     "output_type": "stream",
     "text": [
      " 53%|█████▎    | 26/49 [06:12<04:54, 12.82s/it]"
     ]
    },
    {
     "name": "stdout",
     "output_type": "stream",
     "text": [
      "Este actor no tiene premios\n"
     ]
    },
    {
     "name": "stderr",
     "output_type": "stream",
     "text": [
      " 55%|█████▌    | 27/49 [06:25<04:42, 12.82s/it]"
     ]
    },
    {
     "name": "stdout",
     "output_type": "stream",
     "text": [
      "Este actor no tiene premios\n"
     ]
    },
    {
     "name": "stderr",
     "output_type": "stream",
     "text": [
      " 57%|█████▋    | 28/49 [06:38<04:33, 13.00s/it]"
     ]
    },
    {
     "name": "stdout",
     "output_type": "stream",
     "text": [
      "Este actor no tiene premios\n"
     ]
    },
    {
     "name": "stderr",
     "output_type": "stream",
     "text": [
      " 59%|█████▉    | 29/49 [06:52<04:23, 13.16s/it]"
     ]
    },
    {
     "name": "stdout",
     "output_type": "stream",
     "text": [
      "Este actor no tiene premios\n"
     ]
    },
    {
     "name": "stderr",
     "output_type": "stream",
     "text": [
      " 61%|██████    | 30/49 [07:05<04:12, 13.27s/it]"
     ]
    },
    {
     "name": "stdout",
     "output_type": "stream",
     "text": [
      "Este actor no tiene premios\n"
     ]
    },
    {
     "name": "stderr",
     "output_type": "stream",
     "text": [
      " 63%|██████▎   | 31/49 [07:18<03:57, 13.19s/it]"
     ]
    },
    {
     "name": "stdout",
     "output_type": "stream",
     "text": [
      "Este actor no tiene premios\n"
     ]
    },
    {
     "name": "stderr",
     "output_type": "stream",
     "text": [
      " 65%|██████▌   | 32/49 [07:34<03:54, 13.81s/it]"
     ]
    },
    {
     "name": "stdout",
     "output_type": "stream",
     "text": [
      "Este actor no tiene premios\n"
     ]
    },
    {
     "name": "stderr",
     "output_type": "stream",
     "text": [
      " 67%|██████▋   | 33/49 [07:50<03:52, 14.53s/it]"
     ]
    },
    {
     "name": "stdout",
     "output_type": "stream",
     "text": [
      "Este actor no tiene premios\n"
     ]
    },
    {
     "name": "stderr",
     "output_type": "stream",
     "text": [
      " 69%|██████▉   | 34/49 [08:02<03:28, 13.88s/it]"
     ]
    },
    {
     "name": "stdout",
     "output_type": "stream",
     "text": [
      "Este actor no tiene premios\n"
     ]
    },
    {
     "name": "stderr",
     "output_type": "stream",
     "text": [
      " 71%|███████▏  | 35/49 [08:19<03:27, 14.82s/it]"
     ]
    },
    {
     "name": "stdout",
     "output_type": "stream",
     "text": [
      "Este actor no tiene premios\n"
     ]
    },
    {
     "name": "stderr",
     "output_type": "stream",
     "text": [
      " 73%|███████▎  | 36/49 [08:35<03:17, 15.19s/it]"
     ]
    },
    {
     "name": "stdout",
     "output_type": "stream",
     "text": [
      "Este actor no tiene premios\n"
     ]
    },
    {
     "name": "stderr",
     "output_type": "stream",
     "text": [
      " 76%|███████▌  | 37/49 [08:52<03:06, 15.52s/it]"
     ]
    },
    {
     "name": "stdout",
     "output_type": "stream",
     "text": [
      "Este actor no tiene premios\n"
     ]
    },
    {
     "name": "stderr",
     "output_type": "stream",
     "text": [
      " 78%|███████▊  | 38/49 [09:07<02:49, 15.41s/it]"
     ]
    },
    {
     "name": "stdout",
     "output_type": "stream",
     "text": [
      "Este actor no tiene premios\n"
     ]
    },
    {
     "name": "stderr",
     "output_type": "stream",
     "text": [
      " 80%|███████▉  | 39/49 [09:23<02:37, 15.71s/it]"
     ]
    },
    {
     "name": "stdout",
     "output_type": "stream",
     "text": [
      "Este actor no tiene premios\n"
     ]
    },
    {
     "name": "stderr",
     "output_type": "stream",
     "text": [
      " 82%|████████▏ | 40/49 [09:40<02:24, 16.09s/it]"
     ]
    },
    {
     "name": "stdout",
     "output_type": "stream",
     "text": [
      "Este actor no tiene premios\n"
     ]
    },
    {
     "name": "stderr",
     "output_type": "stream",
     "text": [
      " 84%|████████▎ | 41/49 [09:56<02:08, 16.05s/it]"
     ]
    },
    {
     "name": "stdout",
     "output_type": "stream",
     "text": [
      "Este actor no tiene premios\n"
     ]
    },
    {
     "name": "stderr",
     "output_type": "stream",
     "text": [
      " 86%|████████▌ | 42/49 [10:13<01:54, 16.34s/it]"
     ]
    },
    {
     "name": "stdout",
     "output_type": "stream",
     "text": [
      "Este actor no tiene premios\n"
     ]
    },
    {
     "name": "stderr",
     "output_type": "stream",
     "text": [
      " 88%|████████▊ | 43/49 [10:26<01:32, 15.40s/it]"
     ]
    },
    {
     "name": "stdout",
     "output_type": "stream",
     "text": [
      "Este actor no tiene premios\n"
     ]
    },
    {
     "name": "stderr",
     "output_type": "stream",
     "text": [
      " 90%|████████▉ | 44/49 [10:40<01:13, 14.77s/it]"
     ]
    },
    {
     "name": "stdout",
     "output_type": "stream",
     "text": [
      "El actor Laurie Lapinski no es conocido por nada más  \n",
      "Este actor no tiene premios\n"
     ]
    },
    {
     "name": "stderr",
     "output_type": "stream",
     "text": [
      " 92%|█████████▏| 45/49 [10:52<00:56, 14.12s/it]"
     ]
    },
    {
     "name": "stdout",
     "output_type": "stream",
     "text": [
      "Este actor no tiene premios\n"
     ]
    },
    {
     "name": "stderr",
     "output_type": "stream",
     "text": [
      " 94%|█████████▍| 46/49 [11:06<00:41, 13.96s/it]"
     ]
    },
    {
     "name": "stdout",
     "output_type": "stream",
     "text": [
      "Este actor no tiene premios\n"
     ]
    },
    {
     "name": "stderr",
     "output_type": "stream",
     "text": [
      " 96%|█████████▌| 47/49 [11:20<00:27, 13.97s/it]"
     ]
    },
    {
     "name": "stdout",
     "output_type": "stream",
     "text": [
      "El actor Pamela Holland no es conocido por nada más  \n",
      "Este actor no tiene premios\n"
     ]
    },
    {
     "name": "stderr",
     "output_type": "stream",
     "text": [
      " 98%|█████████▊| 48/49 [11:33<00:13, 13.66s/it]"
     ]
    },
    {
     "name": "stdout",
     "output_type": "stream",
     "text": [
      "El actor Dennis Ely no es conocido por nada más  \n",
      "Este actor no tiene premios\n"
     ]
    },
    {
     "name": "stderr",
     "output_type": "stream",
     "text": [
      "100%|██████████| 49/49 [11:46<00:00, 14.41s/it]\n"
     ]
    }
   ],
   "source": [
    "driver = webdriver.Chrome()\n",
    "\n",
    "driver.get('https://www.imdb.com/')\n",
    "\n",
    "driver.maximize_window()\n",
    "\n",
    "sleep (5)\n",
    "\n",
    "#Cookies\n",
    "driver.find_element('css selector', '#__next > div > div > div.sc-jrcTuL.bPmWiM > div > button.icb-btn.sc-bcXHqe.sc-dkrFOg.sc-iBYQkv.dcvrLS.ddtuHe.dRCGjd').click()\n",
    "\n",
    "sleep(2)\n",
    "\n",
    "nacimiento = []\n",
    "premios_actor = []\n",
    "conocido = []\n",
    "pelis = []\n",
    "\n",
    "  \n",
    "for actor in tqdm(list_all_actors):\n",
    "    conocido_por = []\n",
    "    ganados = []\n",
    "    nominaciones = []\n",
    "    peliculas = []\n",
    "    # buscamos al actor\n",
    "    driver.find_element('css selector', '#suggestion-search').send_keys(actor, Keys.ENTER)\n",
    "\n",
    "    try:\n",
    "    # clickamos en la primera coincidencia\n",
    "        driver.find_element('css selector', '#__next > main > div.ipc-page-content-container.ipc-page-content-container--full.sc-e51f9d6d-0.Fmvqg > div.ipc-page-content-container.ipc-page-content-container--center > section > div > div.ipc-page-grid__item.ipc-page-grid__item--span-2 > section:nth-child(4) > div.sc-e8e4ce7-2.iXsuvN > ul > li:nth-child(1) > div.ipc-metadata-list-summary-item__c > div > a').click()\n",
    "    except:\n",
    "        continue\n",
    "    # añadimos fecha nacimiento_actor\n",
    "    \n",
    "    try:\n",
    "        nacimiento.append(driver.find_element('xpath', '//*[@id=\"__next\"]/main/div/section[1]/section/div[3]/section/section/div[3]/div/div[2]/section/aside/div/span[2]').text)\n",
    "    \n",
    "    except:\n",
    "        nacimiento.append(None)  \n",
    "    \n",
    "    try: \n",
    "        for elemento in range (1,5):\n",
    "            \n",
    "            conocido_por.append(driver.find_element('css selector', f'#__next > main > div > section.ipc-page-background.ipc-page-background--base.sc-c41b9732-0.NeSef > div > section > div > div.sc-978e9339-1.ihWZgK.ipc-page-grid__item.ipc-page-grid__item--span-2 > div.celwidget > section:nth-child(1) > div.sc-1c5b3162-0.fFgRFS > div > div.ipc-sub-grid.ipc-sub-grid--page-span-2.ipc-sub-grid--wraps-at-above-l.ipc-shoveler__grid > div:nth-child({elemento}) > div.ipc-primary-image-list-card__content > div.ipc-primary-image-list-card__content-top > a').text)\n",
    "\n",
    "        conocido.append(tuple(conocido_por))\n",
    "    except:\n",
    "        print(f\"El actor {actor} no es conocido por nada más  \")\n",
    "    \n",
    "    # añadimos lista 10 peliculas en las que ha participado\n",
    "    \n",
    "    try: \n",
    "        \n",
    "        for peli in range(1,10):\n",
    "            \n",
    "            try:\n",
    "        \n",
    "                peliculas.append(driver.find_element('xpath', f'#accordion-item-actor-previous-projects > div > ul > li:nth-child({peli}) > div.ipc-metadata-list-summary-item__c > div.ipc-metadata-list-summary-item__tc > a').text)\n",
    "        \n",
    "                pelis.append(tuple(peliculas))\n",
    "        \n",
    "            except: \n",
    "                try:\n",
    "                    peliculas.append(driver.find_element('xpath', '//*[@id=\"accordion-item-actor-previous-projects\"]/div/ul/li[1]/div[2]/div[1]/a').text)\n",
    "                                                        #//*[@id=\"accordion-item-actor-previous-projects\"]/div/ul/li[2]/div[2]/div[1]/a\n",
    "                \n",
    "                except:\n",
    "                    peliculas.append(None)\n",
    "\n",
    "    except:\n",
    "        print(f\"el actor {actor} no tiene más peliculas\")\n",
    "        \n",
    "    # accedemos a premios\n",
    "    \n",
    "    try:\n",
    "        driver.find_element('css selector', '#__next > main > div > section.ipc-page-background.ipc-page-background--base.sc-c41b9732-0.NeSef > div > section > div > div.sc-978e9339-1.ihWZgK.ipc-page-grid__item.ipc-page-grid__item--span-2 > section:nth-child(3) > div > ul > li > div').click()\n",
    "    \n",
    "    except:\n",
    "        try: # hago el try dos veces porque en el primer intento consigo que el navegador se mueva al elemento y en el except es cuando consigo clickearlo\n",
    "            sleep(3)\n",
    "            driver.find_element('css selector', '#__next > main > div > section.ipc-page-background.ipc-page-background--base.sc-c41b9732-0.NeSef > div > section > div > div.sc-978e9339-1.ihWZgK.ipc-page-grid__item.ipc-page-grid__item--span-2 > section:nth-child(3) > div > ul > li > div').click()\n",
    "            \n",
    "            print('Entramos en los premios')\n",
    "        except:\n",
    "            print(\"Este actor no tiene premios\")\n",
    "\n",
    "    for premio in range (1,11):\n",
    "        try: \n",
    "            # premios ganados\n",
    "            ganados.append(driver.find_element('css selector', f'#__next > main > div > section > div > section > div > div.sc-978e9339-1.ihWZgK.ipc-page-grid__item.ipc-page-grid__item--span-2 > section:nth-child(3) > div.sc-f65f65be-0.bBlII > ul > li:nth-child({premio}) > div.ipc-metadata-list-summary-item__c > div > a').text)\n",
    "            # nominaciones                                                    \n",
    "            nominaciones.append(driver.find_element('css selector', f'#__next > main > div > section > div > section > div > div.sc-978e9339-1.ihWZgK.ipc-page-grid__item.ipc-page-grid__item--span-2 > section:nth-child(4) > div.sc-f65f65be-0.bBlII > ul > li:nth-child({premio}) > div.ipc-metadata-list-summary-item__c > div > a').text)\n",
    "\n",
    "        except:                                                  \n",
    "            pass\n",
    "    \n",
    "    # comprobamos si tiene premio ganado o nominacion, si es así lo añadimos al diccionario de premios por actor\n",
    "    if len(ganados) > 0 or len(nominaciones) > 0:\n",
    "        premios_actor.append({'premios ganados': ganados, 'nominaciones': nominaciones})\n",
    "    \n",
    "    else:\n",
    "        premios_actor.append(None)\n",
    "    \n",
    "    driver.back()\n",
    "    driver.back()\n",
    "\n",
    "\n",
    "driver.close()\n",
    "\n",
    "    "
   ]
  },
  {
   "cell_type": "code",
   "execution_count": 8,
   "metadata": {},
   "outputs": [
    {
     "data": {
      "text/plain": [
       "[('Tenebre', 'Trampa para un violador', 'Estigma', 'Danza mortal'),\n",
       " ('Casino Royale', 'Batman Begins', 'Los invencibles del Némesis', 'El Santo'),\n",
       " ('La comunidad', 'Gran reserva', 'La saga de los Rius', 'Estudio 1'),\n",
       " ('Catherine Chérie',\n",
       "  'Los amores impuros de Sybille',\n",
       "  \"Los últimos golpes de 'El Torete'\",\n",
       "  'Estigma'),\n",
       " ('El reportero', 'Supersonic Man', 'Tristana', 'Los gozos y las sombras'),\n",
       " ('Y tu mamá también',\n",
       "  'Cuna de lobos',\n",
       "  'Cadenas de amargura',\n",
       "  'Fuego en la sangre'),\n",
       " ('Cóndores no entierran todos los días',\n",
       "  'El infierno de todos tan temido',\n",
       "  'Yo compro esa mujer',\n",
       "  'Señoritas a disgusto'),\n",
       " ('Tras el corazón verde',\n",
       "  'Alborada',\n",
       "  'El vuelo del águila',\n",
       "  'El infierno de todos tan temido'),\n",
       " ('Monica y el profesor',\n",
       "  'Ciudades oscuras',\n",
       "  'La niña de la mochila azul',\n",
       "  'El niño y el tiburón'),\n",
       " ('La tía Alejandra',\n",
       "  'Madres egoístas',\n",
       "  'Alcanzar una estrella',\n",
       "  'Trasplante a la Mexicana'),\n",
       " ('Soy tu dueña', 'Gabriel y Gabriela', 'Amor real', 'Destilando amor'),\n",
       " ('Si Dios me quita la vida', 'Corazón salvaje', 'Heridas de amor', 'Camila'),\n",
       " ('Los salvajes',\n",
       "  'Chicoasén',\n",
       "  'Una piedra en el zapato',\n",
       "  'Cazadores de espías'),\n",
       " ('Cuando Pizarro, Cortez y Orellana eran amigos',\n",
       "  'Ángela Morante, ¿crimen o suicidio?',\n",
       "  'Profesión: vivir',\n",
       "  'Candelas en la niebla'),\n",
       " ('El rebelde (Romance de antaño)',\n",
       "  'Mexicanos al grito de guerra',\n",
       "  'Naná',\n",
       "  'El mártir del Calvario'),\n",
       " ('Romaneto',\n",
       "  'Veronika',\n",
       "  'Dvacátý devátý',\n",
       "  'Nemocnice na kraji mesta - nove osudy'),\n",
       " ('Vsichni dobrí rodáci', 'Romaneto', 'Strakatí andelé', 'Hodina zivota'),\n",
       " ('Touha Sherlocka Holmese', 'Horoucí srdce', 'Náhrdelník', 'Veronika'),\n",
       " ('Paleta lásky',\n",
       "  'Zítra vstanu a oparím se cajem',\n",
       "  'Muz v pozadí',\n",
       "  'Tajemství velikeho vypravece'),\n",
       " ('Náhrdelník', 'Snezenky a machri', 'Atentát', 'Tri musketýri'),\n",
       " ('Nikita, dura de matar',\n",
       "  'Sangre fresca (Una chica insaciable)',\n",
       "  'El hombre de la máscara de hierro',\n",
       "  'Mapa del sentimiento humano'),\n",
       " ('Rumbo al paraíso', 'Lerchenberg', 'Alarm in den Bergen', 'The Outsiders'),\n",
       " ('La comunidad',\n",
       "  'El bosque animado',\n",
       "  'Don Quijote cabalga de nuevo',\n",
       "  'Los corsarios'),\n",
       " ('Inés de Villalonga 1870',\n",
       "  'Patrizia',\n",
       "  'Eróticos juegos de la burguesía',\n",
       "  'Estimado Sr. juez...'),\n",
       " ('Fuga de Ceylán',\n",
       "  'Perros callejeros',\n",
       "  'Los violadores del amanecer',\n",
       "  'Viciosas al desnudo'),\n",
       " ('El último metro',\n",
       "  'El gendarme y los extraterrestres',\n",
       "  'Le Tour du monde en 80 jours',\n",
       "  'El comisario Maigret'),\n",
       " ('Nouvelles de Marcel Aymé',\n",
       "  'Los vecinos de abajo',\n",
       "  'Le viager',\n",
       "  'La bella americana'),\n",
       " ('Nestor Burma',\n",
       "  'Astérix el galo',\n",
       "  'À notre regrettable époux',\n",
       "  'Las buenas apariencias'),\n",
       " (\"L'auvergnat et l'autobus\",\n",
       "  'Maigret',\n",
       "  'Les diamants de Palinos',\n",
       "  'El marido de la peluquera'),\n",
       " ('Le braconnier de Dieu',\n",
       "  'Les quatre Charlots mousquetaires',\n",
       "  'Les Charlots en folie: À nous quatre Cardinal!',\n",
       "  'Eugénie Grandet'),\n",
       " ('Hotel Villa Goerne',\n",
       "  'Las secretas intenciones',\n",
       "  'Anoche soñé contigo',\n",
       "  'Cuentos para solitarios'),\n",
       " ('Yo no creo en los hombres',\n",
       "  'Nicotina',\n",
       "  'Amores perros',\n",
       "  'Mujeres asesinas'),\n",
       " ('El techo de cristal',\n",
       "  'La fierecilla domada',\n",
       "  'Rey de reyes',\n",
       "  'Enseñar a un sinvergüenza'),\n",
       " ('Amor en silencio',\n",
       "  'El corazón de la noche',\n",
       "  'Volver a Caer',\n",
       "  'Hotel Villa Goerne'),\n",
       " ('El coloso en llamas',\n",
       "  'La última ola',\n",
       "  'El pájaro espino',\n",
       "  'Los cuatro mosqueteros: La venganza de Milady'),\n",
       " ('Vida de un estudiante',\n",
       "  'Rollerball, ¿un futuro próximo?',\n",
       "  'Los tres días del cóndor',\n",
       "  'La niebla'),\n",
       " ('Anne of Green Gables',\n",
       "  'Reporteros',\n",
       "  'Ride',\n",
       "  'The Lizzie Borden Chronicles'),\n",
       " ('Skyline', 'Bulworth', 'Contact', 'Sister Act 2: De vuelta al convento'),\n",
       " ('Spider', 'La criatura', 'El zorro gris', \"George's Island\"),\n",
       " ('007: Licencia para matar',\n",
       "  'El mexicano',\n",
       "  'La máscara del Zorro',\n",
       "  'The Mexican'),\n",
       " ('El privilegio de amar',\n",
       "  'Cuidado con el ángel',\n",
       "  'Aguirre, la cólera de Dios',\n",
       "  'Retrato de familia'),\n",
       " ('El imperio de la fortuna',\n",
       "  'El callejón de los milagros',\n",
       "  'El crimen del padre Amaro',\n",
       "  'Cadena perpetua'),\n",
       " ('Grupo salvaje',\n",
       "  'La costa de los mosquitos',\n",
       "  'Pobre niña rica',\n",
       "  'Soy tu dueña'),\n",
       " ('Mission Kill',\n",
       "  'Los diez locos mandamientos',\n",
       "  'Cadenas',\n",
       "  'El trailer asesino'),\n",
       " ('La mansión ensangrentada',\n",
       "  'Days of Our Lives',\n",
       "  'Sweet Nothing in My Ear',\n",
       "  'Chips'),\n",
       " ('AnonymoUS: Redefining the Word Bully',\n",
       "  'Los guerreros de la magia',\n",
       "  'La mansión ensangrentada',\n",
       "  \"Devil's Harvest\")]"
      ]
     },
     "execution_count": 8,
     "metadata": {},
     "output_type": "execute_result"
    }
   ],
   "source": [
    "conocido"
   ]
  },
  {
   "cell_type": "code",
   "execution_count": 9,
   "metadata": {},
   "outputs": [
    {
     "data": {
      "text/plain": [
       "[None,\n",
       " None,\n",
       " {'premios ganados': ['2017 Ganador CEC Career Award',\n",
       "   '2001 Ganador CEC Award',\n",
       "   '1967 Ganador \"Antonio Barbero\" Revelation Award'],\n",
       "  'nominaciones': ['2019 Ganador Lifetime Achievement Award',\n",
       "   '1971 Nominado Fotogramas de Plata']},\n",
       " None,\n",
       " None,\n",
       " {'premios ganados': ['2022 Ganador Golden Ariel',\n",
       "   '2002 Nominado Silver Ariel',\n",
       "   '1996 Nominado Silver Ariel',\n",
       "   '1991 Ganador Special Golden Ariel',\n",
       "   '1980 Ganador Silver Ariel'],\n",
       "  'nominaciones': ['1998 Ganador Silver Goddess']},\n",
       " {'premios ganados': ['1988 Nominado Silver Ariel',\n",
       "   '1980 Nominado Silver Ariel'],\n",
       "  'nominaciones': ['1985 Ganador Golden Precolumbian Circle']},\n",
       " {'premios ganados': ['2017 Nominado Silver Ariel',\n",
       "   '1996 Nominado Silver Ariel',\n",
       "   '1988 Nominado Silver Ariel',\n",
       "   '1982 Nominado Silver Ariel',\n",
       "   '1981 Nominado Silver Ariel'],\n",
       "  'nominaciones': ['2015 Nominado TVyNovelas',\n",
       "   '2014 Ganador TVyNovelas',\n",
       "   '2013 Nominado TVyNovelas',\n",
       "   '2009 Nominado TVyNovelas',\n",
       "   '2006 Ganador TVyNovelas']},\n",
       " {'premios ganados': ['2003 Ganador Special Mention'], 'nominaciones': []},\n",
       " None,\n",
       " {'premios ganados': ['1979 Nominado Silver Ariel',\n",
       "   '1978 Nominado Silver Ariel',\n",
       "   '1972 Nominado Silver Ariel'],\n",
       "  'nominaciones': ['2002 Nominado MTV Movie Award']},\n",
       " {'premios ganados': ['2007 Nominado TVyNovelas',\n",
       "   '1999 Nominado TVyNovelas',\n",
       "   '1998 Nominado TVyNovelas',\n",
       "   '1996 Ganador TVyNovelas',\n",
       "   '1994 Nominado TVyNovelas'],\n",
       "  'nominaciones': []},\n",
       " {'premios ganados': ['1957 Nominado Golden Lion'],\n",
       "  'nominaciones': ['1989 Ganador Special Award']},\n",
       " None,\n",
       " None,\n",
       " None,\n",
       " None,\n",
       " None,\n",
       " None,\n",
       " {'premios ganados': ['1968 Ganador Audience Award'], 'nominaciones': []},\n",
       " {'premios ganados': ['1991 Ganador César'],\n",
       "  'nominaciones': ['1992 Nominado CFCA Award']},\n",
       " {'premios ganados': ['2014 Nominado Adolf Grimme Award'],\n",
       "  'nominaciones': ['2014 Nominado Romy']},\n",
       " None,\n",
       " None,\n",
       " None,\n",
       " None,\n",
       " None,\n",
       " None,\n",
       " None,\n",
       " None,\n",
       " None,\n",
       " None,\n",
       " None,\n",
       " None,\n",
       " None,\n",
       " None,\n",
       " None,\n",
       " None,\n",
       " None,\n",
       " None,\n",
       " None,\n",
       " None,\n",
       " None,\n",
       " None,\n",
       " None,\n",
       " None,\n",
       " None,\n",
       " None,\n",
       " None]"
      ]
     },
     "execution_count": 9,
     "metadata": {},
     "output_type": "execute_result"
    }
   ],
   "source": [
    "premios_actor"
   ]
  },
  {
   "cell_type": "code",
   "execution_count": 10,
   "metadata": {},
   "outputs": [
    {
     "name": "stdout",
     "output_type": "stream",
     "text": [
      "[None, None, ('2017 Ganador CEC Career Award', '2001 Ganador CEC Award', '1967 Ganador \"Antonio Barbero\" Revelation Award'), None, None, ('2022 Ganador Golden Ariel', '2002 Nominado Silver Ariel', '1996 Nominado Silver Ariel', '1991 Ganador Special Golden Ariel', '1980 Ganador Silver Ariel'), ('1988 Nominado Silver Ariel', '1980 Nominado Silver Ariel'), ('2017 Nominado Silver Ariel', '1996 Nominado Silver Ariel', '1988 Nominado Silver Ariel', '1982 Nominado Silver Ariel', '1981 Nominado Silver Ariel'), ('2003 Ganador Special Mention',), None, ('1979 Nominado Silver Ariel', '1978 Nominado Silver Ariel', '1972 Nominado Silver Ariel'), ('2007 Nominado TVyNovelas', '1999 Nominado TVyNovelas', '1998 Nominado TVyNovelas', '1996 Ganador TVyNovelas', '1994 Nominado TVyNovelas'), ('1957 Nominado Golden Lion',), None, None, None, None, None, None, ('1968 Ganador Audience Award',), ('1991 Ganador César',), ('2014 Nominado Adolf Grimme Award',), None, None, None, None, None, None, None, None, None, None, None, None, None, None, None, None, None, None, None, None, None, None, None, None, None, None, None]\n",
      "[None, None, ('2019 Ganador Lifetime Achievement Award', '1971 Nominado Fotogramas de Plata'), None, None, ('1998 Ganador Silver Goddess',), ('1985 Ganador Golden Precolumbian Circle',), ('2015 Nominado TVyNovelas', '2014 Ganador TVyNovelas', '2013 Nominado TVyNovelas', '2009 Nominado TVyNovelas', '2006 Ganador TVyNovelas'), (), None, ('2002 Nominado MTV Movie Award',), (), ('1989 Ganador Special Award',), None, None, None, None, None, None, (), ('1992 Nominado CFCA Award',), ('2014 Nominado Romy',), None, None, None, None, None, None, None, None, None, None, None, None, None, None, None, None, None, None, None, None, None, None, None, None, None, None, None]\n"
     ]
    }
   ],
   "source": [
    "premios = []\n",
    "nominaciones = []\n",
    "\n",
    "# Iterar sobre cada diccionario en la lista\n",
    "for persona in premios_actor:\n",
    "    \n",
    "    if persona is None:\n",
    "        premios.append(None)\n",
    "        continue\n",
    "    else:\n",
    "        premios_ganados = persona.get('premios ganados', [])\n",
    "        premios.append(tuple(premios_ganados))\n",
    "\n",
    "# Imprimir la lista de todos los premios ganados\n",
    "print(premios)\n",
    "\n",
    "for persona in premios_actor:\n",
    "    \n",
    "    if persona is None:\n",
    "        nominaciones.append(None)\n",
    "        continue\n",
    "    else:\n",
    "        premios_ganados = persona[\"nominaciones\"]\n",
    "        nominaciones.append(tuple(premios_ganados))\n",
    "        \n",
    "print(nominaciones)"
   ]
  },
  {
   "cell_type": "code",
   "execution_count": 11,
   "metadata": {},
   "outputs": [
    {
     "data": {
      "text/plain": [
       "[('Christian Borromeo',\n",
       "  None,\n",
       "  None,\n",
       "  None,\n",
       "  ('Tenebre', 'Trampa para un violador', 'Estigma', 'Danza mortal')),\n",
       " ('Alexandra Bastedo',\n",
       "  '9 de marzo de 1946',\n",
       "  None,\n",
       "  None,\n",
       "  ('Casino Royale',\n",
       "   'Batman Begins',\n",
       "   'Los invencibles del Némesis',\n",
       "   'El Santo')),\n",
       " ('Emilio Gutiérrez Caba',\n",
       "  '26 de septiembre de 1942',\n",
       "  ('2017 Ganador CEC Career Award',\n",
       "   '2001 Ganador CEC Award',\n",
       "   '1967 Ganador \"Antonio Barbero\" Revelation Award'),\n",
       "  ('2019 Ganador Lifetime Achievement Award',\n",
       "   '1971 Nominado Fotogramas de Plata'),\n",
       "  ('La comunidad', 'Gran reserva', 'La saga de los Rius', 'Estudio 1')),\n",
       " ('Berta Cabré',\n",
       "  None,\n",
       "  None,\n",
       "  None,\n",
       "  ('Catherine Chérie',\n",
       "   'Los amores impuros de Sybille',\n",
       "   \"Los últimos golpes de 'El Torete'\",\n",
       "   'Estigma')),\n",
       " ('José María Caffarel',\n",
       "  '10 de noviembre de 1919',\n",
       "  None,\n",
       "  None,\n",
       "  ('El reportero', 'Supersonic Man', 'Tristana', 'Los gozos y las sombras')),\n",
       " ('Diana Bracho',\n",
       "  '12 de diciembre de 1944',\n",
       "  ('2022 Ganador Golden Ariel',\n",
       "   '2002 Nominado Silver Ariel',\n",
       "   '1996 Nominado Silver Ariel',\n",
       "   '1991 Ganador Special Golden Ariel',\n",
       "   '1980 Ganador Silver Ariel'),\n",
       "  ('1998 Ganador Silver Goddess',),\n",
       "  ('Y tu mamá también',\n",
       "   'Cuna de lobos',\n",
       "   'Cadenas de amargura',\n",
       "   'Fuego en la sangre')),\n",
       " ('Isabela Corona',\n",
       "  '2 de julio de 1913',\n",
       "  ('1988 Nominado Silver Ariel', '1980 Nominado Silver Ariel'),\n",
       "  ('1985 Ganador Golden Precolumbian Circle',),\n",
       "  ('Cóndores no entierran todos los días',\n",
       "   'El infierno de todos tan temido',\n",
       "   'Yo compro esa mujer',\n",
       "   'Señoritas a disgusto')),\n",
       " ('Manuel Ojeda',\n",
       "  '4 de noviembre de 1940',\n",
       "  ('2017 Nominado Silver Ariel',\n",
       "   '1996 Nominado Silver Ariel',\n",
       "   '1988 Nominado Silver Ariel',\n",
       "   '1982 Nominado Silver Ariel',\n",
       "   '1981 Nominado Silver Ariel'),\n",
       "  ('2015 Nominado TVyNovelas',\n",
       "   '2014 Ganador TVyNovelas',\n",
       "   '2013 Nominado TVyNovelas',\n",
       "   '2009 Nominado TVyNovelas',\n",
       "   '2006 Ganador TVyNovelas'),\n",
       "  ('Tras el corazón verde',\n",
       "   'Alborada',\n",
       "   'El vuelo del águila',\n",
       "   'El infierno de todos tan temido')),\n",
       " ('María Rebeca',\n",
       "  '9 de marzo de 1970',\n",
       "  ('2003 Ganador Special Mention',),\n",
       "  (),\n",
       "  ('Monica y el profesor',\n",
       "   'Ciudades oscuras',\n",
       "   'La niña de la mochila azul',\n",
       "   'El niño y el tiburón')),\n",
       " ('Lilian Davis',\n",
       "  None,\n",
       "  None,\n",
       "  None,\n",
       "  ('La tía Alejandra',\n",
       "   'Madres egoístas',\n",
       "   'Alcanzar una estrella',\n",
       "   'Trasplante a la Mexicana')),\n",
       " ('Ana Martín',\n",
       "  '14 de mayo de 1946',\n",
       "  ('1979 Nominado Silver Ariel',\n",
       "   '1978 Nominado Silver Ariel',\n",
       "   '1972 Nominado Silver Ariel'),\n",
       "  ('2002 Nominado MTV Movie Award',),\n",
       "  ('Soy tu dueña', 'Gabriel y Gabriela', 'Amor real', 'Destilando amor')),\n",
       " ('Enrique Lizalde',\n",
       "  '25 de abril de 1936',\n",
       "  ('2007 Nominado TVyNovelas',\n",
       "   '1999 Nominado TVyNovelas',\n",
       "   '1998 Nominado TVyNovelas',\n",
       "   '1996 Ganador TVyNovelas',\n",
       "   '1994 Nominado TVyNovelas'),\n",
       "  (),\n",
       "  ('Si Dios me quita la vida',\n",
       "   'Corazón salvaje',\n",
       "   'Heridas de amor',\n",
       "   'Camila')),\n",
       " ('Rafael Baledón',\n",
       "  '25 de noviembre de 1919',\n",
       "  ('1957 Nominado Golden Lion',),\n",
       "  ('1989 Ganador Special Award',),\n",
       "  ('Los salvajes',\n",
       "   'Chicoasén',\n",
       "   'Una piedra en el zapato',\n",
       "   'Cazadores de espías')),\n",
       " ('Blanca Baldó',\n",
       "  None,\n",
       "  None,\n",
       "  None,\n",
       "  ('Cuando Pizarro, Cortez y Orellana eran amigos',\n",
       "   'Ángela Morante, ¿crimen o suicidio?',\n",
       "   'Profesión: vivir',\n",
       "   'Candelas en la niebla')),\n",
       " ('Miguel Ángel Ferriz',\n",
       "  '29 de noviembre de 1899',\n",
       "  None,\n",
       "  None,\n",
       "  ('El rebelde (Romance de antaño)',\n",
       "   'Mexicanos al grito de guerra',\n",
       "   'Naná',\n",
       "   'El mártir del Calvario')),\n",
       " ('Viktor Preiss',\n",
       "  '13 de marzo de 1947',\n",
       "  None,\n",
       "  None,\n",
       "  ('Romaneto',\n",
       "   'Veronika',\n",
       "   'Dvacátý devátý',\n",
       "   'Nemocnice na kraji mesta - nove osudy')),\n",
       " ('Pavel Pavlovský',\n",
       "  '11 de diciembre de 1944',\n",
       "  None,\n",
       "  None,\n",
       "  ('Vsichni dobrí rodáci', 'Romaneto', 'Strakatí andelé', 'Hodina zivota')),\n",
       " ('Radovan Lukavský',\n",
       "  '1 de noviembre de 1919',\n",
       "  None,\n",
       "  None,\n",
       "  ('Touha Sherlocka Holmese', 'Horoucí srdce', 'Náhrdelník', 'Veronika')),\n",
       " ('Petr Kostka',\n",
       "  '11 de junio de 1938',\n",
       "  None,\n",
       "  None,\n",
       "  ('Paleta lásky',\n",
       "   'Zítra vstanu a oparím se cajem',\n",
       "   'Muz v pozadí',\n",
       "   'Tajemství velikeho vypravece')),\n",
       " ('Radoslav Brzobohatý',\n",
       "  '13 de septiembre de 1932',\n",
       "  ('1968 Ganador Audience Award',),\n",
       "  (),\n",
       "  ('Náhrdelník', 'Snezenky a machri', 'Atentát', 'Tri musketýri')),\n",
       " ('Anne Parillaud',\n",
       "  '6 de mayo de 1960',\n",
       "  ('1991 Ganador César',),\n",
       "  ('1992 Nominado CFCA Award',),\n",
       "  ('Nikita, dura de matar',\n",
       "   'Sangre fresca (Una chica insaciable)',\n",
       "   'El hombre de la máscara de hierro',\n",
       "   'Mapa del sentimiento humano')),\n",
       " ('Sascha Hehn',\n",
       "  '11 de octubre de 1954',\n",
       "  ('2014 Nominado Adolf Grimme Award',),\n",
       "  ('2014 Nominado Romy',),\n",
       "  ('Rumbo al paraíso', 'Lerchenberg', 'Alarm in den Bergen', 'The Outsiders')),\n",
       " ('Paca Gabaldón',\n",
       "  '10 de mayo de 1949',\n",
       "  None,\n",
       "  None,\n",
       "  ('La comunidad',\n",
       "   'El bosque animado',\n",
       "   'Don Quijote cabalga de nuevo',\n",
       "   'Los corsarios')),\n",
       " ('María Rey',\n",
       "  None,\n",
       "  None,\n",
       "  None,\n",
       "  ('Inés de Villalonga 1870',\n",
       "   'Patrizia',\n",
       "   'Eróticos juegos de la burguesía',\n",
       "   'Estimado Sr. juez...')),\n",
       " ('Eva Lyberten',\n",
       "  '20 de diciembre de 1958',\n",
       "  None,\n",
       "  None,\n",
       "  ('Fuga de Ceylán',\n",
       "   'Perros callejeros',\n",
       "   'Los violadores del amanecer',\n",
       "   'Viciosas al desnudo')),\n",
       " ('Maurice Risch',\n",
       "  '25 de enero de 1943',\n",
       "  None,\n",
       "  None,\n",
       "  ('El último metro',\n",
       "   'El gendarme y los extraterrestres',\n",
       "   'Le Tour du monde en 80 jours',\n",
       "   'El comisario Maigret')),\n",
       " ('Pierre Tchernia',\n",
       "  '29 de enero de 1928',\n",
       "  None,\n",
       "  None,\n",
       "  ('Nouvelles de Marcel Aymé',\n",
       "   'Los vecinos de abajo',\n",
       "   'Le viager',\n",
       "   'La bella americana')),\n",
       " ('Pierre Tornade',\n",
       "  '21 de enero de 1930',\n",
       "  None,\n",
       "  None,\n",
       "  ('Nestor Burma',\n",
       "   'Astérix el galo',\n",
       "   'À notre regrettable époux',\n",
       "   'Las buenas apariencias')),\n",
       " ('Maurice Chevit',\n",
       "  '31 de octubre de 1923',\n",
       "  None,\n",
       "  None,\n",
       "  (\"L'auvergnat et l'autobus\",\n",
       "   'Maigret',\n",
       "   'Les diamants de Palinos',\n",
       "   'El marido de la peluquera')),\n",
       " ('Bernard Haller',\n",
       "  '5 de diciembre de 1933',\n",
       "  None,\n",
       "  None,\n",
       "  ('Le braconnier de Dieu',\n",
       "   'Les quatre Charlots mousquetaires',\n",
       "   'Les Charlots en folie: À nous quatre Cardinal!',\n",
       "   'Eugénie Grandet')),\n",
       " ('Judith Arciniega',\n",
       "  None,\n",
       "  None,\n",
       "  None,\n",
       "  ('Hotel Villa Goerne',\n",
       "   'Las secretas intenciones',\n",
       "   'Anoche soñé contigo',\n",
       "   'Cuentos para solitarios')),\n",
       " ('Rosa María Bianchi',\n",
       "  '18 de febrero de 1948',\n",
       "  None,\n",
       "  None,\n",
       "  ('Yo no creo en los hombres',\n",
       "   'Nicotina',\n",
       "   'Amores perros',\n",
       "   'Mujeres asesinas')),\n",
       " ('Maria del Carmen Cardenas',\n",
       "  '16 de octubre de 1930',\n",
       "  None,\n",
       "  None,\n",
       "  ('El techo de cristal',\n",
       "   'La fierecilla domada',\n",
       "   'Rey de reyes',\n",
       "   'Enseñar a un sinvergüenza')),\n",
       " ('Luis Rábago',\n",
       "  None,\n",
       "  None,\n",
       "  None,\n",
       "  ('Amor en silencio',\n",
       "   'El corazón de la noche',\n",
       "   'Volver a Caer',\n",
       "   'Hotel Villa Goerne')),\n",
       " ('Richard Chamberlain',\n",
       "  '31 de marzo de 1934',\n",
       "  None,\n",
       "  None,\n",
       "  ('El coloso en llamas',\n",
       "   'La última ola',\n",
       "   'El pájaro espino',\n",
       "   'Los cuatro mosqueteros: La venganza de Milady')),\n",
       " ('John Houseman',\n",
       "  '22 de septiembre de 1902',\n",
       "  None,\n",
       "  None,\n",
       "  ('Vida de un estudiante',\n",
       "   'Rollerball, ¿un futuro próximo?',\n",
       "   'Los tres días del cóndor',\n",
       "   'La niebla')),\n",
       " ('Sara Botsford',\n",
       "  '4 de agosto de 1951',\n",
       "  None,\n",
       "  None,\n",
       "  ('Anne of Green Gables',\n",
       "   'Reporteros',\n",
       "   'Ride',\n",
       "   'The Lizzie Borden Chronicles')),\n",
       " ('Robin Gammell',\n",
       "  '22 de septiembre de 1936',\n",
       "  None,\n",
       "  None,\n",
       "  ('Skyline', 'Bulworth', 'Contact', 'Sister Act 2: De vuelta al convento')),\n",
       " ('Gary Reineke',\n",
       "  '27 de mayo de 1945',\n",
       "  None,\n",
       "  None,\n",
       "  ('Spider', 'La criatura', 'El zorro gris', \"George's Island\")),\n",
       " ('Pedro Armendáriz Jr.',\n",
       "  '6 de abril de 1940',\n",
       "  None,\n",
       "  None,\n",
       "  ('007: Licencia para matar',\n",
       "   'El mexicano',\n",
       "   'La máscara del Zorro',\n",
       "   'The Mexican')),\n",
       " ('Helena Rojo',\n",
       "  '18 de agosto de 1944',\n",
       "  None,\n",
       "  None,\n",
       "  ('El privilegio de amar',\n",
       "   'Cuidado con el ángel',\n",
       "   'Aguirre, la cólera de Dios',\n",
       "   'Retrato de familia')),\n",
       " ('Ernesto Gómez Cruz',\n",
       "  '7 de noviembre de 1933',\n",
       "  None,\n",
       "  None,\n",
       "  ('El imperio de la fortuna',\n",
       "   'El callejón de los milagros',\n",
       "   'El crimen del padre Amaro',\n",
       "   'Cadena perpetua')),\n",
       " ('Aurora Clavel',\n",
       "  '14 de agosto de 1936',\n",
       "  None,\n",
       "  None,\n",
       "  ('Grupo salvaje',\n",
       "   'La costa de los mosquitos',\n",
       "   'Pobre niña rica',\n",
       "   'Soy tu dueña')),\n",
       " ('Paco Mauri',\n",
       "  '12 de noviembre de 1945',\n",
       "  None,\n",
       "  None,\n",
       "  ('Mission Kill',\n",
       "   'Los diez locos mandamientos',\n",
       "   'Cadenas',\n",
       "   'El trailer asesino')),\n",
       " ('Laurie Lapinski',\n",
       "  None,\n",
       "  None,\n",
       "  None,\n",
       "  ('La mansión ensangrentada',\n",
       "   'Days of Our Lives',\n",
       "   'Sweet Nothing in My Ear',\n",
       "   'Chips')),\n",
       " ('Stephen Sachs',\n",
       "  '14 de agosto de 1959',\n",
       "  None,\n",
       "  None,\n",
       "  ('AnonymoUS: Redefining the Word Bully',\n",
       "   'Los guerreros de la magia',\n",
       "   'La mansión ensangrentada',\n",
       "   \"Devil's Harvest\"))]"
      ]
     },
     "execution_count": 11,
     "metadata": {},
     "output_type": "execute_result"
    }
   ],
   "source": [
    "mystery_elenco = list(tuple(zip(list_all_actors,nacimiento, premios, nominaciones, conocido)))\n",
    "\n",
    "mystery_elenco"
   ]
  },
  {
   "cell_type": "code",
   "execution_count": 12,
   "metadata": {},
   "outputs": [
    {
     "data": {
      "text/html": [
       "<div>\n",
       "<style scoped>\n",
       "    .dataframe tbody tr th:only-of-type {\n",
       "        vertical-align: middle;\n",
       "    }\n",
       "\n",
       "    .dataframe tbody tr th {\n",
       "        vertical-align: top;\n",
       "    }\n",
       "\n",
       "    .dataframe thead th {\n",
       "        text-align: right;\n",
       "    }\n",
       "</style>\n",
       "<table border=\"1\" class=\"dataframe\">\n",
       "  <thead>\n",
       "    <tr style=\"text-align: right;\">\n",
       "      <th></th>\n",
       "      <th>Nombre</th>\n",
       "      <th>Nacimiento</th>\n",
       "      <th>Premios</th>\n",
       "      <th>Nominaciones</th>\n",
       "      <th>Conocido por</th>\n",
       "    </tr>\n",
       "  </thead>\n",
       "  <tbody>\n",
       "    <tr>\n",
       "      <th>0</th>\n",
       "      <td>Christian Borromeo</td>\n",
       "      <td>None</td>\n",
       "      <td>None</td>\n",
       "      <td>None</td>\n",
       "      <td>(Tenebre, Trampa para un violador, Estigma, Da...</td>\n",
       "    </tr>\n",
       "    <tr>\n",
       "      <th>1</th>\n",
       "      <td>Alexandra Bastedo</td>\n",
       "      <td>9 de marzo de 1946</td>\n",
       "      <td>None</td>\n",
       "      <td>None</td>\n",
       "      <td>(Casino Royale, Batman Begins, Los invencibles...</td>\n",
       "    </tr>\n",
       "    <tr>\n",
       "      <th>2</th>\n",
       "      <td>Emilio Gutiérrez Caba</td>\n",
       "      <td>26 de septiembre de 1942</td>\n",
       "      <td>(2017 Ganador CEC Career Award, 2001 Ganador C...</td>\n",
       "      <td>(2019 Ganador Lifetime Achievement Award, 1971...</td>\n",
       "      <td>(La comunidad, Gran reserva, La saga de los Ri...</td>\n",
       "    </tr>\n",
       "    <tr>\n",
       "      <th>3</th>\n",
       "      <td>Berta Cabré</td>\n",
       "      <td>None</td>\n",
       "      <td>None</td>\n",
       "      <td>None</td>\n",
       "      <td>(Catherine Chérie, Los amores impuros de Sybil...</td>\n",
       "    </tr>\n",
       "    <tr>\n",
       "      <th>4</th>\n",
       "      <td>José María Caffarel</td>\n",
       "      <td>10 de noviembre de 1919</td>\n",
       "      <td>None</td>\n",
       "      <td>None</td>\n",
       "      <td>(El reportero, Supersonic Man, Tristana, Los g...</td>\n",
       "    </tr>\n",
       "    <tr>\n",
       "      <th>5</th>\n",
       "      <td>Diana Bracho</td>\n",
       "      <td>12 de diciembre de 1944</td>\n",
       "      <td>(2022 Ganador Golden Ariel, 2002 Nominado Silv...</td>\n",
       "      <td>(1998 Ganador Silver Goddess,)</td>\n",
       "      <td>(Y tu mamá también, Cuna de lobos, Cadenas de ...</td>\n",
       "    </tr>\n",
       "    <tr>\n",
       "      <th>6</th>\n",
       "      <td>Isabela Corona</td>\n",
       "      <td>2 de julio de 1913</td>\n",
       "      <td>(1988 Nominado Silver Ariel, 1980 Nominado Sil...</td>\n",
       "      <td>(1985 Ganador Golden Precolumbian Circle,)</td>\n",
       "      <td>(Cóndores no entierran todos los días, El infi...</td>\n",
       "    </tr>\n",
       "    <tr>\n",
       "      <th>7</th>\n",
       "      <td>Manuel Ojeda</td>\n",
       "      <td>4 de noviembre de 1940</td>\n",
       "      <td>(2017 Nominado Silver Ariel, 1996 Nominado Sil...</td>\n",
       "      <td>(2015 Nominado TVyNovelas, 2014 Ganador TVyNov...</td>\n",
       "      <td>(Tras el corazón verde, Alborada, El vuelo del...</td>\n",
       "    </tr>\n",
       "    <tr>\n",
       "      <th>8</th>\n",
       "      <td>María Rebeca</td>\n",
       "      <td>9 de marzo de 1970</td>\n",
       "      <td>(2003 Ganador Special Mention,)</td>\n",
       "      <td>()</td>\n",
       "      <td>(Monica y el profesor, Ciudades oscuras, La ni...</td>\n",
       "    </tr>\n",
       "    <tr>\n",
       "      <th>9</th>\n",
       "      <td>Lilian Davis</td>\n",
       "      <td>None</td>\n",
       "      <td>None</td>\n",
       "      <td>None</td>\n",
       "      <td>(La tía Alejandra, Madres egoístas, Alcanzar u...</td>\n",
       "    </tr>\n",
       "    <tr>\n",
       "      <th>10</th>\n",
       "      <td>Ana Martín</td>\n",
       "      <td>14 de mayo de 1946</td>\n",
       "      <td>(1979 Nominado Silver Ariel, 1978 Nominado Sil...</td>\n",
       "      <td>(2002 Nominado MTV Movie Award,)</td>\n",
       "      <td>(Soy tu dueña, Gabriel y Gabriela, Amor real, ...</td>\n",
       "    </tr>\n",
       "    <tr>\n",
       "      <th>11</th>\n",
       "      <td>Enrique Lizalde</td>\n",
       "      <td>25 de abril de 1936</td>\n",
       "      <td>(2007 Nominado TVyNovelas, 1999 Nominado TVyNo...</td>\n",
       "      <td>()</td>\n",
       "      <td>(Si Dios me quita la vida, Corazón salvaje, He...</td>\n",
       "    </tr>\n",
       "    <tr>\n",
       "      <th>12</th>\n",
       "      <td>Rafael Baledón</td>\n",
       "      <td>25 de noviembre de 1919</td>\n",
       "      <td>(1957 Nominado Golden Lion,)</td>\n",
       "      <td>(1989 Ganador Special Award,)</td>\n",
       "      <td>(Los salvajes, Chicoasén, Una piedra en el zap...</td>\n",
       "    </tr>\n",
       "    <tr>\n",
       "      <th>13</th>\n",
       "      <td>Blanca Baldó</td>\n",
       "      <td>None</td>\n",
       "      <td>None</td>\n",
       "      <td>None</td>\n",
       "      <td>(Cuando Pizarro, Cortez y Orellana eran amigos...</td>\n",
       "    </tr>\n",
       "    <tr>\n",
       "      <th>14</th>\n",
       "      <td>Miguel Ángel Ferriz</td>\n",
       "      <td>29 de noviembre de 1899</td>\n",
       "      <td>None</td>\n",
       "      <td>None</td>\n",
       "      <td>(El rebelde (Romance de antaño), Mexicanos al ...</td>\n",
       "    </tr>\n",
       "    <tr>\n",
       "      <th>15</th>\n",
       "      <td>Viktor Preiss</td>\n",
       "      <td>13 de marzo de 1947</td>\n",
       "      <td>None</td>\n",
       "      <td>None</td>\n",
       "      <td>(Romaneto, Veronika, Dvacátý devátý, Nemocnice...</td>\n",
       "    </tr>\n",
       "    <tr>\n",
       "      <th>16</th>\n",
       "      <td>Pavel Pavlovský</td>\n",
       "      <td>11 de diciembre de 1944</td>\n",
       "      <td>None</td>\n",
       "      <td>None</td>\n",
       "      <td>(Vsichni dobrí rodáci, Romaneto, Strakatí ande...</td>\n",
       "    </tr>\n",
       "    <tr>\n",
       "      <th>17</th>\n",
       "      <td>Radovan Lukavský</td>\n",
       "      <td>1 de noviembre de 1919</td>\n",
       "      <td>None</td>\n",
       "      <td>None</td>\n",
       "      <td>(Touha Sherlocka Holmese, Horoucí srdce, Náhrd...</td>\n",
       "    </tr>\n",
       "    <tr>\n",
       "      <th>18</th>\n",
       "      <td>Petr Kostka</td>\n",
       "      <td>11 de junio de 1938</td>\n",
       "      <td>None</td>\n",
       "      <td>None</td>\n",
       "      <td>(Paleta lásky, Zítra vstanu a oparím se cajem,...</td>\n",
       "    </tr>\n",
       "    <tr>\n",
       "      <th>19</th>\n",
       "      <td>Radoslav Brzobohatý</td>\n",
       "      <td>13 de septiembre de 1932</td>\n",
       "      <td>(1968 Ganador Audience Award,)</td>\n",
       "      <td>()</td>\n",
       "      <td>(Náhrdelník, Snezenky a machri, Atentát, Tri m...</td>\n",
       "    </tr>\n",
       "    <tr>\n",
       "      <th>20</th>\n",
       "      <td>Anne Parillaud</td>\n",
       "      <td>6 de mayo de 1960</td>\n",
       "      <td>(1991 Ganador César,)</td>\n",
       "      <td>(1992 Nominado CFCA Award,)</td>\n",
       "      <td>(Nikita, dura de matar, Sangre fresca (Una chi...</td>\n",
       "    </tr>\n",
       "    <tr>\n",
       "      <th>21</th>\n",
       "      <td>Sascha Hehn</td>\n",
       "      <td>11 de octubre de 1954</td>\n",
       "      <td>(2014 Nominado Adolf Grimme Award,)</td>\n",
       "      <td>(2014 Nominado Romy,)</td>\n",
       "      <td>(Rumbo al paraíso, Lerchenberg, Alarm in den B...</td>\n",
       "    </tr>\n",
       "    <tr>\n",
       "      <th>22</th>\n",
       "      <td>Paca Gabaldón</td>\n",
       "      <td>10 de mayo de 1949</td>\n",
       "      <td>None</td>\n",
       "      <td>None</td>\n",
       "      <td>(La comunidad, El bosque animado, Don Quijote ...</td>\n",
       "    </tr>\n",
       "    <tr>\n",
       "      <th>23</th>\n",
       "      <td>María Rey</td>\n",
       "      <td>None</td>\n",
       "      <td>None</td>\n",
       "      <td>None</td>\n",
       "      <td>(Inés de Villalonga 1870, Patrizia, Eróticos j...</td>\n",
       "    </tr>\n",
       "    <tr>\n",
       "      <th>24</th>\n",
       "      <td>Eva Lyberten</td>\n",
       "      <td>20 de diciembre de 1958</td>\n",
       "      <td>None</td>\n",
       "      <td>None</td>\n",
       "      <td>(Fuga de Ceylán, Perros callejeros, Los violad...</td>\n",
       "    </tr>\n",
       "    <tr>\n",
       "      <th>25</th>\n",
       "      <td>Maurice Risch</td>\n",
       "      <td>25 de enero de 1943</td>\n",
       "      <td>None</td>\n",
       "      <td>None</td>\n",
       "      <td>(El último metro, El gendarme y los extraterre...</td>\n",
       "    </tr>\n",
       "    <tr>\n",
       "      <th>26</th>\n",
       "      <td>Pierre Tchernia</td>\n",
       "      <td>29 de enero de 1928</td>\n",
       "      <td>None</td>\n",
       "      <td>None</td>\n",
       "      <td>(Nouvelles de Marcel Aymé, Los vecinos de abaj...</td>\n",
       "    </tr>\n",
       "    <tr>\n",
       "      <th>27</th>\n",
       "      <td>Pierre Tornade</td>\n",
       "      <td>21 de enero de 1930</td>\n",
       "      <td>None</td>\n",
       "      <td>None</td>\n",
       "      <td>(Nestor Burma, Astérix el galo, À notre regret...</td>\n",
       "    </tr>\n",
       "    <tr>\n",
       "      <th>28</th>\n",
       "      <td>Maurice Chevit</td>\n",
       "      <td>31 de octubre de 1923</td>\n",
       "      <td>None</td>\n",
       "      <td>None</td>\n",
       "      <td>(L'auvergnat et l'autobus, Maigret, Les diaman...</td>\n",
       "    </tr>\n",
       "    <tr>\n",
       "      <th>29</th>\n",
       "      <td>Bernard Haller</td>\n",
       "      <td>5 de diciembre de 1933</td>\n",
       "      <td>None</td>\n",
       "      <td>None</td>\n",
       "      <td>(Le braconnier de Dieu, Les quatre Charlots mo...</td>\n",
       "    </tr>\n",
       "    <tr>\n",
       "      <th>30</th>\n",
       "      <td>Judith Arciniega</td>\n",
       "      <td>None</td>\n",
       "      <td>None</td>\n",
       "      <td>None</td>\n",
       "      <td>(Hotel Villa Goerne, Las secretas intenciones,...</td>\n",
       "    </tr>\n",
       "    <tr>\n",
       "      <th>31</th>\n",
       "      <td>Rosa María Bianchi</td>\n",
       "      <td>18 de febrero de 1948</td>\n",
       "      <td>None</td>\n",
       "      <td>None</td>\n",
       "      <td>(Yo no creo en los hombres, Nicotina, Amores p...</td>\n",
       "    </tr>\n",
       "    <tr>\n",
       "      <th>32</th>\n",
       "      <td>Maria del Carmen Cardenas</td>\n",
       "      <td>16 de octubre de 1930</td>\n",
       "      <td>None</td>\n",
       "      <td>None</td>\n",
       "      <td>(El techo de cristal, La fierecilla domada, Re...</td>\n",
       "    </tr>\n",
       "    <tr>\n",
       "      <th>33</th>\n",
       "      <td>Luis Rábago</td>\n",
       "      <td>None</td>\n",
       "      <td>None</td>\n",
       "      <td>None</td>\n",
       "      <td>(Amor en silencio, El corazón de la noche, Vol...</td>\n",
       "    </tr>\n",
       "    <tr>\n",
       "      <th>34</th>\n",
       "      <td>Richard Chamberlain</td>\n",
       "      <td>31 de marzo de 1934</td>\n",
       "      <td>None</td>\n",
       "      <td>None</td>\n",
       "      <td>(El coloso en llamas, La última ola, El pájaro...</td>\n",
       "    </tr>\n",
       "    <tr>\n",
       "      <th>35</th>\n",
       "      <td>John Houseman</td>\n",
       "      <td>22 de septiembre de 1902</td>\n",
       "      <td>None</td>\n",
       "      <td>None</td>\n",
       "      <td>(Vida de un estudiante, Rollerball, ¿un futuro...</td>\n",
       "    </tr>\n",
       "    <tr>\n",
       "      <th>36</th>\n",
       "      <td>Sara Botsford</td>\n",
       "      <td>4 de agosto de 1951</td>\n",
       "      <td>None</td>\n",
       "      <td>None</td>\n",
       "      <td>(Anne of Green Gables, Reporteros, Ride, The L...</td>\n",
       "    </tr>\n",
       "    <tr>\n",
       "      <th>37</th>\n",
       "      <td>Robin Gammell</td>\n",
       "      <td>22 de septiembre de 1936</td>\n",
       "      <td>None</td>\n",
       "      <td>None</td>\n",
       "      <td>(Skyline, Bulworth, Contact, Sister Act 2: De ...</td>\n",
       "    </tr>\n",
       "    <tr>\n",
       "      <th>38</th>\n",
       "      <td>Gary Reineke</td>\n",
       "      <td>27 de mayo de 1945</td>\n",
       "      <td>None</td>\n",
       "      <td>None</td>\n",
       "      <td>(Spider, La criatura, El zorro gris, George's ...</td>\n",
       "    </tr>\n",
       "    <tr>\n",
       "      <th>39</th>\n",
       "      <td>Pedro Armendáriz Jr.</td>\n",
       "      <td>6 de abril de 1940</td>\n",
       "      <td>None</td>\n",
       "      <td>None</td>\n",
       "      <td>(007: Licencia para matar, El mexicano, La más...</td>\n",
       "    </tr>\n",
       "    <tr>\n",
       "      <th>40</th>\n",
       "      <td>Helena Rojo</td>\n",
       "      <td>18 de agosto de 1944</td>\n",
       "      <td>None</td>\n",
       "      <td>None</td>\n",
       "      <td>(El privilegio de amar, Cuidado con el ángel, ...</td>\n",
       "    </tr>\n",
       "    <tr>\n",
       "      <th>41</th>\n",
       "      <td>Ernesto Gómez Cruz</td>\n",
       "      <td>7 de noviembre de 1933</td>\n",
       "      <td>None</td>\n",
       "      <td>None</td>\n",
       "      <td>(El imperio de la fortuna, El callejón de los ...</td>\n",
       "    </tr>\n",
       "    <tr>\n",
       "      <th>42</th>\n",
       "      <td>Aurora Clavel</td>\n",
       "      <td>14 de agosto de 1936</td>\n",
       "      <td>None</td>\n",
       "      <td>None</td>\n",
       "      <td>(Grupo salvaje, La costa de los mosquitos, Pob...</td>\n",
       "    </tr>\n",
       "    <tr>\n",
       "      <th>43</th>\n",
       "      <td>Paco Mauri</td>\n",
       "      <td>12 de noviembre de 1945</td>\n",
       "      <td>None</td>\n",
       "      <td>None</td>\n",
       "      <td>(Mission Kill, Los diez locos mandamientos, Ca...</td>\n",
       "    </tr>\n",
       "    <tr>\n",
       "      <th>44</th>\n",
       "      <td>Laurie Lapinski</td>\n",
       "      <td>None</td>\n",
       "      <td>None</td>\n",
       "      <td>None</td>\n",
       "      <td>(La mansión ensangrentada, Days of Our Lives, ...</td>\n",
       "    </tr>\n",
       "    <tr>\n",
       "      <th>45</th>\n",
       "      <td>Stephen Sachs</td>\n",
       "      <td>14 de agosto de 1959</td>\n",
       "      <td>None</td>\n",
       "      <td>None</td>\n",
       "      <td>(AnonymoUS: Redefining the Word Bully, Los gue...</td>\n",
       "    </tr>\n",
       "  </tbody>\n",
       "</table>\n",
       "</div>"
      ],
      "text/plain": [
       "                       Nombre                Nacimiento  \\\n",
       "0          Christian Borromeo                      None   \n",
       "1           Alexandra Bastedo        9 de marzo de 1946   \n",
       "2       Emilio Gutiérrez Caba  26 de septiembre de 1942   \n",
       "3                 Berta Cabré                      None   \n",
       "4         José María Caffarel   10 de noviembre de 1919   \n",
       "5                Diana Bracho   12 de diciembre de 1944   \n",
       "6              Isabela Corona        2 de julio de 1913   \n",
       "7                Manuel Ojeda    4 de noviembre de 1940   \n",
       "8                María Rebeca        9 de marzo de 1970   \n",
       "9                Lilian Davis                      None   \n",
       "10                 Ana Martín        14 de mayo de 1946   \n",
       "11            Enrique Lizalde       25 de abril de 1936   \n",
       "12             Rafael Baledón   25 de noviembre de 1919   \n",
       "13               Blanca Baldó                      None   \n",
       "14        Miguel Ángel Ferriz   29 de noviembre de 1899   \n",
       "15              Viktor Preiss       13 de marzo de 1947   \n",
       "16            Pavel Pavlovský   11 de diciembre de 1944   \n",
       "17           Radovan Lukavský    1 de noviembre de 1919   \n",
       "18                Petr Kostka       11 de junio de 1938   \n",
       "19        Radoslav Brzobohatý  13 de septiembre de 1932   \n",
       "20             Anne Parillaud         6 de mayo de 1960   \n",
       "21                Sascha Hehn     11 de octubre de 1954   \n",
       "22              Paca Gabaldón        10 de mayo de 1949   \n",
       "23                  María Rey                      None   \n",
       "24               Eva Lyberten   20 de diciembre de 1958   \n",
       "25              Maurice Risch       25 de enero de 1943   \n",
       "26            Pierre Tchernia       29 de enero de 1928   \n",
       "27             Pierre Tornade       21 de enero de 1930   \n",
       "28             Maurice Chevit     31 de octubre de 1923   \n",
       "29             Bernard Haller    5 de diciembre de 1933   \n",
       "30           Judith Arciniega                      None   \n",
       "31         Rosa María Bianchi     18 de febrero de 1948   \n",
       "32  Maria del Carmen Cardenas     16 de octubre de 1930   \n",
       "33                Luis Rábago                      None   \n",
       "34        Richard Chamberlain       31 de marzo de 1934   \n",
       "35              John Houseman  22 de septiembre de 1902   \n",
       "36              Sara Botsford       4 de agosto de 1951   \n",
       "37              Robin Gammell  22 de septiembre de 1936   \n",
       "38               Gary Reineke        27 de mayo de 1945   \n",
       "39       Pedro Armendáriz Jr.        6 de abril de 1940   \n",
       "40                Helena Rojo      18 de agosto de 1944   \n",
       "41         Ernesto Gómez Cruz    7 de noviembre de 1933   \n",
       "42              Aurora Clavel      14 de agosto de 1936   \n",
       "43                 Paco Mauri   12 de noviembre de 1945   \n",
       "44            Laurie Lapinski                      None   \n",
       "45              Stephen Sachs      14 de agosto de 1959   \n",
       "\n",
       "                                              Premios  \\\n",
       "0                                                None   \n",
       "1                                                None   \n",
       "2   (2017 Ganador CEC Career Award, 2001 Ganador C...   \n",
       "3                                                None   \n",
       "4                                                None   \n",
       "5   (2022 Ganador Golden Ariel, 2002 Nominado Silv...   \n",
       "6   (1988 Nominado Silver Ariel, 1980 Nominado Sil...   \n",
       "7   (2017 Nominado Silver Ariel, 1996 Nominado Sil...   \n",
       "8                     (2003 Ganador Special Mention,)   \n",
       "9                                                None   \n",
       "10  (1979 Nominado Silver Ariel, 1978 Nominado Sil...   \n",
       "11  (2007 Nominado TVyNovelas, 1999 Nominado TVyNo...   \n",
       "12                       (1957 Nominado Golden Lion,)   \n",
       "13                                               None   \n",
       "14                                               None   \n",
       "15                                               None   \n",
       "16                                               None   \n",
       "17                                               None   \n",
       "18                                               None   \n",
       "19                     (1968 Ganador Audience Award,)   \n",
       "20                              (1991 Ganador César,)   \n",
       "21                (2014 Nominado Adolf Grimme Award,)   \n",
       "22                                               None   \n",
       "23                                               None   \n",
       "24                                               None   \n",
       "25                                               None   \n",
       "26                                               None   \n",
       "27                                               None   \n",
       "28                                               None   \n",
       "29                                               None   \n",
       "30                                               None   \n",
       "31                                               None   \n",
       "32                                               None   \n",
       "33                                               None   \n",
       "34                                               None   \n",
       "35                                               None   \n",
       "36                                               None   \n",
       "37                                               None   \n",
       "38                                               None   \n",
       "39                                               None   \n",
       "40                                               None   \n",
       "41                                               None   \n",
       "42                                               None   \n",
       "43                                               None   \n",
       "44                                               None   \n",
       "45                                               None   \n",
       "\n",
       "                                         Nominaciones  \\\n",
       "0                                                None   \n",
       "1                                                None   \n",
       "2   (2019 Ganador Lifetime Achievement Award, 1971...   \n",
       "3                                                None   \n",
       "4                                                None   \n",
       "5                      (1998 Ganador Silver Goddess,)   \n",
       "6          (1985 Ganador Golden Precolumbian Circle,)   \n",
       "7   (2015 Nominado TVyNovelas, 2014 Ganador TVyNov...   \n",
       "8                                                  ()   \n",
       "9                                                None   \n",
       "10                   (2002 Nominado MTV Movie Award,)   \n",
       "11                                                 ()   \n",
       "12                      (1989 Ganador Special Award,)   \n",
       "13                                               None   \n",
       "14                                               None   \n",
       "15                                               None   \n",
       "16                                               None   \n",
       "17                                               None   \n",
       "18                                               None   \n",
       "19                                                 ()   \n",
       "20                        (1992 Nominado CFCA Award,)   \n",
       "21                              (2014 Nominado Romy,)   \n",
       "22                                               None   \n",
       "23                                               None   \n",
       "24                                               None   \n",
       "25                                               None   \n",
       "26                                               None   \n",
       "27                                               None   \n",
       "28                                               None   \n",
       "29                                               None   \n",
       "30                                               None   \n",
       "31                                               None   \n",
       "32                                               None   \n",
       "33                                               None   \n",
       "34                                               None   \n",
       "35                                               None   \n",
       "36                                               None   \n",
       "37                                               None   \n",
       "38                                               None   \n",
       "39                                               None   \n",
       "40                                               None   \n",
       "41                                               None   \n",
       "42                                               None   \n",
       "43                                               None   \n",
       "44                                               None   \n",
       "45                                               None   \n",
       "\n",
       "                                         Conocido por  \n",
       "0   (Tenebre, Trampa para un violador, Estigma, Da...  \n",
       "1   (Casino Royale, Batman Begins, Los invencibles...  \n",
       "2   (La comunidad, Gran reserva, La saga de los Ri...  \n",
       "3   (Catherine Chérie, Los amores impuros de Sybil...  \n",
       "4   (El reportero, Supersonic Man, Tristana, Los g...  \n",
       "5   (Y tu mamá también, Cuna de lobos, Cadenas de ...  \n",
       "6   (Cóndores no entierran todos los días, El infi...  \n",
       "7   (Tras el corazón verde, Alborada, El vuelo del...  \n",
       "8   (Monica y el profesor, Ciudades oscuras, La ni...  \n",
       "9   (La tía Alejandra, Madres egoístas, Alcanzar u...  \n",
       "10  (Soy tu dueña, Gabriel y Gabriela, Amor real, ...  \n",
       "11  (Si Dios me quita la vida, Corazón salvaje, He...  \n",
       "12  (Los salvajes, Chicoasén, Una piedra en el zap...  \n",
       "13  (Cuando Pizarro, Cortez y Orellana eran amigos...  \n",
       "14  (El rebelde (Romance de antaño), Mexicanos al ...  \n",
       "15  (Romaneto, Veronika, Dvacátý devátý, Nemocnice...  \n",
       "16  (Vsichni dobrí rodáci, Romaneto, Strakatí ande...  \n",
       "17  (Touha Sherlocka Holmese, Horoucí srdce, Náhrd...  \n",
       "18  (Paleta lásky, Zítra vstanu a oparím se cajem,...  \n",
       "19  (Náhrdelník, Snezenky a machri, Atentát, Tri m...  \n",
       "20  (Nikita, dura de matar, Sangre fresca (Una chi...  \n",
       "21  (Rumbo al paraíso, Lerchenberg, Alarm in den B...  \n",
       "22  (La comunidad, El bosque animado, Don Quijote ...  \n",
       "23  (Inés de Villalonga 1870, Patrizia, Eróticos j...  \n",
       "24  (Fuga de Ceylán, Perros callejeros, Los violad...  \n",
       "25  (El último metro, El gendarme y los extraterre...  \n",
       "26  (Nouvelles de Marcel Aymé, Los vecinos de abaj...  \n",
       "27  (Nestor Burma, Astérix el galo, À notre regret...  \n",
       "28  (L'auvergnat et l'autobus, Maigret, Les diaman...  \n",
       "29  (Le braconnier de Dieu, Les quatre Charlots mo...  \n",
       "30  (Hotel Villa Goerne, Las secretas intenciones,...  \n",
       "31  (Yo no creo en los hombres, Nicotina, Amores p...  \n",
       "32  (El techo de cristal, La fierecilla domada, Re...  \n",
       "33  (Amor en silencio, El corazón de la noche, Vol...  \n",
       "34  (El coloso en llamas, La última ola, El pájaro...  \n",
       "35  (Vida de un estudiante, Rollerball, ¿un futuro...  \n",
       "36  (Anne of Green Gables, Reporteros, Ride, The L...  \n",
       "37  (Skyline, Bulworth, Contact, Sister Act 2: De ...  \n",
       "38  (Spider, La criatura, El zorro gris, George's ...  \n",
       "39  (007: Licencia para matar, El mexicano, La más...  \n",
       "40  (El privilegio de amar, Cuidado con el ángel, ...  \n",
       "41  (El imperio de la fortuna, El callejón de los ...  \n",
       "42  (Grupo salvaje, La costa de los mosquitos, Pob...  \n",
       "43  (Mission Kill, Los diez locos mandamientos, Ca...  \n",
       "44  (La mansión ensangrentada, Days of Our Lives, ...  \n",
       "45  (AnonymoUS: Redefining the Word Bully, Los gue...  "
      ]
     },
     "execution_count": 12,
     "metadata": {},
     "output_type": "execute_result"
    }
   ],
   "source": [
    "df_elenco = pd.DataFrame(mystery_elenco)\n",
    "df_elenco.columns = ['Nombre', 'Nacimiento', 'Premios', 'Nominaciones', 'Conocido por']\n",
    "df_elenco"
   ]
  },
  {
   "cell_type": "code",
   "execution_count": 13,
   "metadata": {},
   "outputs": [],
   "source": [
    "df_elenco.to_csv(\"Mystery_elenco.csv\")"
   ]
  }
 ],
 "metadata": {
  "kernelspec": {
   "display_name": "Python 3",
   "language": "python",
   "name": "python3"
  },
  "language_info": {
   "codemirror_mode": {
    "name": "ipython",
    "version": 3
   },
   "file_extension": ".py",
   "mimetype": "text/x-python",
   "name": "python",
   "nbconvert_exporter": "python",
   "pygments_lexer": "ipython3",
   "version": "3.12.4"
  }
 },
 "nbformat": 4,
 "nbformat_minor": 2
}
