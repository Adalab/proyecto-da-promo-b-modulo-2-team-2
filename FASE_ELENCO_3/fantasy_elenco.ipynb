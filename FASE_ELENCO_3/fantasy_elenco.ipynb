{
 "cells": [
  {
   "cell_type": "code",
   "execution_count": 1,
   "metadata": {},
   "outputs": [],
   "source": [
    "import pandas as pd\n",
    "from selenium import webdriver  # Selenium es una herramienta para automatizar la interacción con navegadores web.\n",
    "from webdriver_manager.chrome import ChromeDriverManager  # ChromeDriverManager gestiona la instalación del controlador de Chrome.\n",
    "from selenium.webdriver.common.keys import Keys  # Keys es útil para simular eventos de teclado en Selenium.\n",
    "from selenium.webdriver.support.ui import Select  # Select se utiliza para interactuar con elementos <select> en páginas web.\n",
    "from tqdm import tqdm\n",
    "from time import sleep"
   ]
  },
  {
   "cell_type": "code",
   "execution_count": 2,
   "metadata": {},
   "outputs": [
    {
     "name": "stdout",
     "output_type": "stream",
     "text": [
      "      idOwner                             title   type  year    genre\n",
      "0   tt0079293  Hi no tori 2772: Ai no kosumozôn  Movie  1980  Fantasy\n",
      "1   tt0079749               Alibaba Aur 40 Chor  Movie  1980  Fantasy\n",
      "2   tt0079820                Le roi et l'oiseau  Movie  1980  Fantasy\n",
      "3   tt0079760   O Príncipe com Orelhas de Burro  Movie  1980  Fantasy\n",
      "4   tt0080539                       Vrouwenstad  Movie  1980  Fantasy\n",
      "..        ...                               ...    ...   ...      ...\n",
      "79  tt0109746    Esti Kornél csodálatos utazása  Movie  1995  Fantasy\n",
      "80  tt0109905                     Gladiator Cop  Movie  1995  Fantasy\n",
      "81  tt0110252        Keita! L'héritage du griot  Movie  1995  Fantasy\n",
      "82  tt0110826  The Phoenix and the Magic Carpet  Movie  1995  Fantasy\n",
      "83  tt0111359                         Tall Tale  Movie  1995  Fantasy\n",
      "\n",
      "[84 rows x 5 columns]\n",
      "['tt0079293', 'tt0079749', 'tt0079820', 'tt0079760', 'tt0080539', 'tt0078349', 'tt0079492', 'tt0080495', 'tt0080531', 'tt0080667', 'tt0080920', 'tt0082263', 'tt0083144', 'tt0082762', 'tt0082198', 'tt0082323', 'tt0084535', 'tt0084225', 'tt0083053', 'tt0082141', 'tt0083863', 'tt0084301', 'tt0084781', 'tt0085132', 'tt0085182', 'tt0083853', 'tt0085316', 'tt0085535', 'tt0084750', 'tt0082335', 'tt0087449', 'tt0087731', 'tt0088023', 'tt0087256', 'tt0089737', 'tt0089731', 'tt0089818', 'tt0089831', 'tt0089911', 'tt0090183', 'tt0092834', 'tt0092296', 'tt0093240', 'tt0094595', 'tt0094054', 'tt0093624', 'tt0093295', 'tt0094849', 'tt0094641', 'tt0095210', 'tt0095547', 'tt0095483', 'tt0095712', 'tt0096239', 'tt0093210', 'tt0094874', 'tt0097638', 'tt0099388', 'tt0100289', 'tt0099175', 'tt0100584', 'tt0100528', 'tt0100016', 'tt0099055', 'tt0099330', 'tt0099524', 'tt0103206', 'tt0104643', 'tt0104855', 'tt0104029', 'tt0104584', 'tt0104128', 'tt0104096', 'tt0106346', 'tt0106518', 'tt0107101', 'tt0106761', 'tt0106558', 'tt0109400', 'tt0109746', 'tt0109905', 'tt0110252', 'tt0110826', 'tt0111359']\n"
     ]
    }
   ],
   "source": [
    "df_fantasy = pd.read_csv(\"Fantasy.csv\")\n",
    "\n",
    "print(df_fantasy)\n",
    "\n",
    "idOwner = []\n",
    "\n",
    "for i in df_fantasy[\"idOwner\"]:\n",
    "    idOwner.append(i)\n",
    "    \n",
    "\n",
    "print(idOwner)"
   ]
  },
  {
   "cell_type": "code",
   "execution_count": 3,
   "metadata": {},
   "outputs": [
    {
     "data": {
      "text/plain": [
       "['tt0079293',\n",
       " 'tt0079749',\n",
       " 'tt0079820',\n",
       " 'tt0079760',\n",
       " 'tt0080539',\n",
       " 'tt0078349',\n",
       " 'tt0079492',\n",
       " 'tt0080495',\n",
       " 'tt0080531',\n",
       " 'tt0080667']"
      ]
     },
     "execution_count": 3,
     "metadata": {},
     "output_type": "execute_result"
    }
   ],
   "source": [
    "lista_id_peliculas_cortas = idOwner[:10]\n",
    "lista_id_peliculas_cortas"
   ]
  },
  {
   "cell_type": "code",
   "execution_count": 4,
   "metadata": {},
   "outputs": [
    {
     "name": "stderr",
     "output_type": "stream",
     "text": [
      "100%|██████████| 10/10 [00:32<00:00,  3.27s/it]\n"
     ]
    }
   ],
   "source": [
    "driver = webdriver.Chrome()\n",
    "\n",
    "driver.get('https://www.imdb.com/')\n",
    "\n",
    "driver.maximize_window()\n",
    "\n",
    "sleep (3)\n",
    "\n",
    "list_actors_by_movie = []\n",
    "\n",
    "list_all_actors = []\n",
    "\n",
    "for peli in tqdm(lista_id_peliculas_cortas):\n",
    "    \n",
    "    driver.find_element('css selector', '#suggestion-search').send_keys(peli, Keys.ENTER)\n",
    "    for i in range(1,6): # porque estamos cogiendo los 10 primeros actores\n",
    "        try:\n",
    "            actor = driver.find_element('css selector', f'#__next > main > div > section.ipc-page-background.ipc-page-background--base.sc-c41b9732-0.NeSef > div > section > div > div.sc-978e9339-1.ihWZgK.ipc-page-grid__item.ipc-page-grid__item--span-2 > section.ipc-page-section.ipc-page-section--base.sc-bfec09a1-0.jgUBLM.title-cast.title-cast--movie.celwidget > div.ipc-shoveler.ipc-shoveler--base.ipc-shoveler--page0.title-cast__grid > div.ipc-sub-grid.ipc-sub-grid--page-span-2.ipc-sub-grid--wraps-at-above-l.ipc-shoveler__grid > div:nth-child({i}) > div.sc-bfec09a1-7.gWwKlt > a').text\n",
    "            list_actors_by_movie.append({'nombre': actor, 'id_pelicula': peli})\n",
    "            # Para no repetir los actores y sacar una lista de actores:\n",
    "            \n",
    "            if(actor not in list_all_actors):\n",
    "                list_all_actors.append(actor)\n",
    "            \n",
    "        except:\n",
    "            print('No se encontraron actores')\n",
    "\n",
    "driver.close()"
   ]
  },
  {
   "cell_type": "code",
   "execution_count": 5,
   "metadata": {},
   "outputs": [
    {
     "data": {
      "text/plain": [
       "[{'nombre': 'Kaneto Shiozawa', 'id_pelicula': 'tt0079293'},\n",
       " {'nombre': 'Keiko Takeshita', 'id_pelicula': 'tt0079293'},\n",
       " {'nombre': 'Hiroshi Ôtake', 'id_pelicula': 'tt0079293'},\n",
       " {'nombre': 'Katsue Miwa', 'id_pelicula': 'tt0079293'},\n",
       " {'nombre': 'Kazue Takahashi', 'id_pelicula': 'tt0079293'},\n",
       " {'nombre': 'Dharmendra', 'id_pelicula': 'tt0079749'},\n",
       " {'nombre': 'Hema Malini', 'id_pelicula': 'tt0079749'},\n",
       " {'nombre': 'Zeenat Aman', 'id_pelicula': 'tt0079749'},\n",
       " {'nombre': 'Prem Chopra', 'id_pelicula': 'tt0079749'},\n",
       " {'nombre': 'Zakir Mukhamedzhanov', 'id_pelicula': 'tt0079749'},\n",
       " {'nombre': 'Jean Martin', 'id_pelicula': 'tt0079820'},\n",
       " {'nombre': 'Pascal Mazzotti', 'id_pelicula': 'tt0079820'},\n",
       " {'nombre': 'Raymond Bussières', 'id_pelicula': 'tt0079820'},\n",
       " {'nombre': 'Agnès Viala', 'id_pelicula': 'tt0079820'},\n",
       " {'nombre': 'Renaud Marx', 'id_pelicula': 'tt0079820'},\n",
       " {'nombre': 'Antonino Solmer', 'id_pelicula': 'tt0079760'},\n",
       " {'nombre': 'Márcia Breia', 'id_pelicula': 'tt0079760'},\n",
       " {'nombre': 'Adelaide João', 'id_pelicula': 'tt0079760'},\n",
       " {'nombre': \"António Cara D'Anjo\", 'id_pelicula': 'tt0079760'},\n",
       " {'nombre': 'António Rama', 'id_pelicula': 'tt0079760'},\n",
       " {'nombre': 'Marcello Mastroianni', 'id_pelicula': 'tt0080539'},\n",
       " {'nombre': 'Anna Prucnal', 'id_pelicula': 'tt0080539'},\n",
       " {'nombre': 'Bernice Stegers', 'id_pelicula': 'tt0080539'},\n",
       " {'nombre': 'Jole Silvani', 'id_pelicula': 'tt0080539'},\n",
       " {'nombre': 'Donatella Damiani', 'id_pelicula': 'tt0080539'},\n",
       " {'nombre': 'Keiko Takeshita', 'id_pelicula': 'tt0078349'},\n",
       " {'nombre': 'Tarô Shigaki', 'id_pelicula': 'tt0078349'},\n",
       " {'nombre': 'Asao Koike', 'id_pelicula': 'tt0078349'},\n",
       " {'nombre': 'Yôko Asagami', 'id_pelicula': 'tt0078349'},\n",
       " {'nombre': 'Yoneko Matsukane', 'id_pelicula': 'tt0078349'},\n",
       " {'nombre': 'Richard Burton', 'id_pelicula': 'tt0079492'},\n",
       " {'nombre': 'Kate Mulgrew', 'id_pelicula': 'tt0079492'},\n",
       " {'nombre': 'Nicholas Clay', 'id_pelicula': 'tt0079492'},\n",
       " {'nombre': 'Cyril Cusack', 'id_pelicula': 'tt0079492'},\n",
       " {'nombre': 'Geraldine Fitzgerald', 'id_pelicula': 'tt0079492'},\n",
       " {'nombre': 'Miguel Ayones', 'id_pelicula': 'tt0080495'},\n",
       " {'nombre': 'Beatriz Galbó', 'id_pelicula': 'tt0080495'},\n",
       " {'nombre': 'Lucy Tovar', 'id_pelicula': 'tt0080495'},\n",
       " {'nombre': 'Pancho Córdova', 'id_pelicula': 'tt0080495'},\n",
       " {'nombre': 'Ricardo Díaz', 'id_pelicula': 'tt0080495'},\n",
       " {'nombre': 'Mark Miller', 'id_pelicula': 'tt0080531'},\n",
       " {'nombre': 'Slim Pickens', 'id_pelicula': 'tt0080531'},\n",
       " {'nombre': 'Jack Glenn Evans', 'id_pelicula': 'tt0080531'},\n",
       " {'nombre': 'Logan Field', 'id_pelicula': 'tt0080531'},\n",
       " {'nombre': 'Maurice Grandmaison', 'id_pelicula': 'tt0080531'},\n",
       " {'nombre': 'Diana Musca', 'id_pelicula': 'tt0080667'},\n",
       " {'nombre': 'Ernest Maftei', 'id_pelicula': 'tt0080667'},\n",
       " {'nombre': 'Elena Dragoi', 'id_pelicula': 'tt0080667'},\n",
       " {'nombre': 'Florina Cercel', 'id_pelicula': 'tt0080667'},\n",
       " {'nombre': 'Alexandru Matei', 'id_pelicula': 'tt0080667'}]"
      ]
     },
     "execution_count": 5,
     "metadata": {},
     "output_type": "execute_result"
    }
   ],
   "source": [
    "list_actors_by_movie"
   ]
  },
  {
   "cell_type": "code",
   "execution_count": 6,
   "metadata": {},
   "outputs": [
    {
     "data": {
      "text/plain": [
       "['Kaneto Shiozawa',\n",
       " 'Keiko Takeshita',\n",
       " 'Hiroshi Ôtake',\n",
       " 'Katsue Miwa',\n",
       " 'Kazue Takahashi',\n",
       " 'Dharmendra',\n",
       " 'Hema Malini',\n",
       " 'Zeenat Aman',\n",
       " 'Prem Chopra',\n",
       " 'Zakir Mukhamedzhanov',\n",
       " 'Jean Martin',\n",
       " 'Pascal Mazzotti',\n",
       " 'Raymond Bussières',\n",
       " 'Agnès Viala',\n",
       " 'Renaud Marx',\n",
       " 'Antonino Solmer',\n",
       " 'Márcia Breia',\n",
       " 'Adelaide João',\n",
       " \"António Cara D'Anjo\",\n",
       " 'António Rama',\n",
       " 'Marcello Mastroianni',\n",
       " 'Anna Prucnal',\n",
       " 'Bernice Stegers',\n",
       " 'Jole Silvani',\n",
       " 'Donatella Damiani',\n",
       " 'Tarô Shigaki',\n",
       " 'Asao Koike',\n",
       " 'Yôko Asagami',\n",
       " 'Yoneko Matsukane',\n",
       " 'Richard Burton',\n",
       " 'Kate Mulgrew',\n",
       " 'Nicholas Clay',\n",
       " 'Cyril Cusack',\n",
       " 'Geraldine Fitzgerald',\n",
       " 'Miguel Ayones',\n",
       " 'Beatriz Galbó',\n",
       " 'Lucy Tovar',\n",
       " 'Pancho Córdova',\n",
       " 'Ricardo Díaz',\n",
       " 'Mark Miller',\n",
       " 'Slim Pickens',\n",
       " 'Jack Glenn Evans',\n",
       " 'Logan Field',\n",
       " 'Maurice Grandmaison',\n",
       " 'Diana Musca',\n",
       " 'Ernest Maftei',\n",
       " 'Elena Dragoi',\n",
       " 'Florina Cercel',\n",
       " 'Alexandru Matei']"
      ]
     },
     "execution_count": 6,
     "metadata": {},
     "output_type": "execute_result"
    }
   ],
   "source": [
    "list_all_actors"
   ]
  },
  {
   "cell_type": "code",
   "execution_count": 7,
   "metadata": {},
   "outputs": [
    {
     "name": "stderr",
     "output_type": "stream",
     "text": [
      "  0%|          | 0/49 [00:00<?, ?it/s]"
     ]
    },
    {
     "name": "stdout",
     "output_type": "stream",
     "text": [
      "Este actor no tiene premios\n"
     ]
    },
    {
     "name": "stderr",
     "output_type": "stream",
     "text": [
      "  4%|▍         | 2/49 [00:25<09:40, 12.36s/it]"
     ]
    },
    {
     "name": "stdout",
     "output_type": "stream",
     "text": [
      "Entramos en los premios\n"
     ]
    },
    {
     "name": "stderr",
     "output_type": "stream",
     "text": [
      "  6%|▌         | 3/49 [00:40<10:34, 13.79s/it]"
     ]
    },
    {
     "name": "stdout",
     "output_type": "stream",
     "text": [
      "Este actor no tiene premios\n"
     ]
    },
    {
     "name": "stderr",
     "output_type": "stream",
     "text": [
      "  8%|▊         | 4/49 [00:52<09:38, 12.85s/it]"
     ]
    },
    {
     "name": "stdout",
     "output_type": "stream",
     "text": [
      "Este actor no tiene premios\n"
     ]
    },
    {
     "name": "stderr",
     "output_type": "stream",
     "text": [
      " 10%|█         | 5/49 [01:04<09:16, 12.65s/it]"
     ]
    },
    {
     "name": "stdout",
     "output_type": "stream",
     "text": [
      "Entramos en los premios\n"
     ]
    },
    {
     "name": "stderr",
     "output_type": "stream",
     "text": [
      " 12%|█▏        | 6/49 [01:22<10:30, 14.66s/it]"
     ]
    },
    {
     "name": "stdout",
     "output_type": "stream",
     "text": [
      "Entramos en los premios\n"
     ]
    },
    {
     "name": "stderr",
     "output_type": "stream",
     "text": [
      " 14%|█▍        | 7/49 [01:39<10:37, 15.19s/it]"
     ]
    },
    {
     "name": "stdout",
     "output_type": "stream",
     "text": [
      "Entramos en los premios\n"
     ]
    },
    {
     "name": "stderr",
     "output_type": "stream",
     "text": [
      " 16%|█▋        | 8/49 [01:54<10:26, 15.28s/it]"
     ]
    },
    {
     "name": "stdout",
     "output_type": "stream",
     "text": [
      "Entramos en los premios\n"
     ]
    },
    {
     "name": "stderr",
     "output_type": "stream",
     "text": [
      " 20%|██        | 10/49 [02:21<09:08, 14.06s/it]"
     ]
    },
    {
     "name": "stdout",
     "output_type": "stream",
     "text": [
      "Entramos en los premios\n"
     ]
    },
    {
     "name": "stderr",
     "output_type": "stream",
     "text": [
      " 22%|██▏       | 11/49 [02:37<09:16, 14.65s/it]"
     ]
    },
    {
     "name": "stdout",
     "output_type": "stream",
     "text": [
      "Este actor no tiene premios\n"
     ]
    },
    {
     "name": "stderr",
     "output_type": "stream",
     "text": [
      " 24%|██▍       | 12/49 [02:48<08:22, 13.57s/it]"
     ]
    },
    {
     "name": "stdout",
     "output_type": "stream",
     "text": [
      "Este actor no tiene premios\n"
     ]
    },
    {
     "name": "stderr",
     "output_type": "stream",
     "text": [
      " 27%|██▋       | 13/49 [02:59<07:43, 12.88s/it]"
     ]
    },
    {
     "name": "stdout",
     "output_type": "stream",
     "text": [
      "El actor Agnès Viala no es conocido por nada más  \n",
      "Este actor no tiene premios\n"
     ]
    },
    {
     "name": "stderr",
     "output_type": "stream",
     "text": [
      " 29%|██▊       | 14/49 [03:07<06:36, 11.33s/it]"
     ]
    },
    {
     "name": "stdout",
     "output_type": "stream",
     "text": [
      "Este actor no tiene premios\n"
     ]
    },
    {
     "name": "stderr",
     "output_type": "stream",
     "text": [
      " 31%|███       | 15/49 [03:17<06:13, 10.98s/it]"
     ]
    },
    {
     "name": "stdout",
     "output_type": "stream",
     "text": [
      "Este actor no tiene premios\n"
     ]
    },
    {
     "name": "stderr",
     "output_type": "stream",
     "text": [
      " 33%|███▎      | 16/49 [03:27<05:53, 10.70s/it]"
     ]
    },
    {
     "name": "stdout",
     "output_type": "stream",
     "text": [
      "Entramos en los premios\n"
     ]
    },
    {
     "name": "stderr",
     "output_type": "stream",
     "text": [
      " 37%|███▋      | 18/49 [03:52<05:52, 11.39s/it]"
     ]
    },
    {
     "name": "stdout",
     "output_type": "stream",
     "text": [
      "Este actor no tiene premios\n"
     ]
    },
    {
     "name": "stderr",
     "output_type": "stream",
     "text": [
      " 39%|███▉      | 19/49 [04:02<05:31, 11.04s/it]"
     ]
    },
    {
     "name": "stdout",
     "output_type": "stream",
     "text": [
      "El actor António Rama no es conocido por nada más  \n",
      "Este actor no tiene premios\n"
     ]
    },
    {
     "name": "stderr",
     "output_type": "stream",
     "text": [
      " 41%|████      | 20/49 [04:12<05:06, 10.56s/it]"
     ]
    },
    {
     "name": "stdout",
     "output_type": "stream",
     "text": [
      "Entramos en los premios\n"
     ]
    },
    {
     "name": "stderr",
     "output_type": "stream",
     "text": [
      " 43%|████▎     | 21/49 [04:31<06:11, 13.25s/it]"
     ]
    },
    {
     "name": "stdout",
     "output_type": "stream",
     "text": [
      "Este actor no tiene premios\n"
     ]
    },
    {
     "name": "stderr",
     "output_type": "stream",
     "text": [
      " 45%|████▍     | 22/49 [04:42<05:33, 12.34s/it]"
     ]
    },
    {
     "name": "stdout",
     "output_type": "stream",
     "text": [
      "Este actor no tiene premios\n"
     ]
    },
    {
     "name": "stderr",
     "output_type": "stream",
     "text": [
      " 47%|████▋     | 23/49 [04:51<05:02, 11.62s/it]"
     ]
    },
    {
     "name": "stdout",
     "output_type": "stream",
     "text": [
      "Este actor no tiene premios\n"
     ]
    },
    {
     "name": "stderr",
     "output_type": "stream",
     "text": [
      " 49%|████▉     | 24/49 [05:01<04:36, 11.07s/it]"
     ]
    },
    {
     "name": "stdout",
     "output_type": "stream",
     "text": [
      "Este actor no tiene premios\n"
     ]
    },
    {
     "name": "stderr",
     "output_type": "stream",
     "text": [
      " 51%|█████     | 25/49 [05:12<04:23, 10.99s/it]"
     ]
    },
    {
     "name": "stdout",
     "output_type": "stream",
     "text": [
      "Este actor no tiene premios\n"
     ]
    },
    {
     "name": "stderr",
     "output_type": "stream",
     "text": [
      " 53%|█████▎    | 26/49 [05:23<04:09, 10.85s/it]"
     ]
    },
    {
     "name": "stdout",
     "output_type": "stream",
     "text": [
      "Este actor no tiene premios\n"
     ]
    },
    {
     "name": "stderr",
     "output_type": "stream",
     "text": [
      " 55%|█████▌    | 27/49 [05:33<03:54, 10.66s/it]"
     ]
    },
    {
     "name": "stdout",
     "output_type": "stream",
     "text": [
      "Este actor no tiene premios\n"
     ]
    },
    {
     "name": "stderr",
     "output_type": "stream",
     "text": [
      " 57%|█████▋    | 28/49 [05:43<03:43, 10.66s/it]"
     ]
    },
    {
     "name": "stdout",
     "output_type": "stream",
     "text": [
      "Este actor no tiene premios\n"
     ]
    },
    {
     "name": "stderr",
     "output_type": "stream",
     "text": [
      " 59%|█████▉    | 29/49 [05:54<03:30, 10.53s/it]"
     ]
    },
    {
     "name": "stdout",
     "output_type": "stream",
     "text": [
      "Entramos en los premios\n"
     ]
    },
    {
     "name": "stderr",
     "output_type": "stream",
     "text": [
      " 61%|██████    | 30/49 [06:14<04:14, 13.38s/it]"
     ]
    },
    {
     "name": "stdout",
     "output_type": "stream",
     "text": [
      "Entramos en los premios\n"
     ]
    },
    {
     "name": "stderr",
     "output_type": "stream",
     "text": [
      " 63%|██████▎   | 31/49 [06:33<04:32, 15.15s/it]"
     ]
    },
    {
     "name": "stdout",
     "output_type": "stream",
     "text": [
      "Este actor no tiene premios\n"
     ]
    },
    {
     "name": "stderr",
     "output_type": "stream",
     "text": [
      " 65%|██████▌   | 32/49 [06:44<03:54, 13.78s/it]"
     ]
    },
    {
     "name": "stdout",
     "output_type": "stream",
     "text": [
      "Este actor no tiene premios\n"
     ]
    },
    {
     "name": "stderr",
     "output_type": "stream",
     "text": [
      " 67%|██████▋   | 33/49 [06:55<03:30, 13.18s/it]"
     ]
    },
    {
     "name": "stdout",
     "output_type": "stream",
     "text": [
      "Entramos en los premios\n"
     ]
    },
    {
     "name": "stderr",
     "output_type": "stream",
     "text": [
      " 69%|██████▉   | 34/49 [07:11<03:30, 14.02s/it]"
     ]
    },
    {
     "name": "stdout",
     "output_type": "stream",
     "text": [
      "Este actor no tiene premios\n"
     ]
    },
    {
     "name": "stderr",
     "output_type": "stream",
     "text": [
      " 71%|███████▏  | 35/49 [07:23<03:06, 13.35s/it]"
     ]
    },
    {
     "name": "stdout",
     "output_type": "stream",
     "text": [
      "Este actor no tiene premios\n"
     ]
    },
    {
     "name": "stderr",
     "output_type": "stream",
     "text": [
      " 73%|███████▎  | 36/49 [07:35<02:46, 12.79s/it]"
     ]
    },
    {
     "name": "stdout",
     "output_type": "stream",
     "text": [
      "Este actor no tiene premios\n"
     ]
    },
    {
     "name": "stderr",
     "output_type": "stream",
     "text": [
      " 76%|███████▌  | 37/49 [07:45<02:26, 12.21s/it]"
     ]
    },
    {
     "name": "stdout",
     "output_type": "stream",
     "text": [
      "Entramos en los premios\n"
     ]
    },
    {
     "name": "stderr",
     "output_type": "stream",
     "text": [
      " 78%|███████▊  | 38/49 [08:02<02:29, 13.58s/it]"
     ]
    },
    {
     "name": "stdout",
     "output_type": "stream",
     "text": [
      "Entramos en los premios\n"
     ]
    },
    {
     "name": "stderr",
     "output_type": "stream",
     "text": [
      " 80%|███████▉  | 39/49 [08:19<02:24, 14.43s/it]"
     ]
    },
    {
     "name": "stdout",
     "output_type": "stream",
     "text": [
      "Este actor no tiene premios\n"
     ]
    },
    {
     "name": "stderr",
     "output_type": "stream",
     "text": [
      " 82%|████████▏ | 40/49 [08:29<01:59, 13.31s/it]"
     ]
    },
    {
     "name": "stdout",
     "output_type": "stream",
     "text": [
      "Entramos en los premios\n"
     ]
    },
    {
     "name": "stderr",
     "output_type": "stream",
     "text": [
      " 84%|████████▎ | 41/49 [08:45<01:51, 13.92s/it]"
     ]
    },
    {
     "name": "stdout",
     "output_type": "stream",
     "text": [
      "El actor Jack Glenn Evans no es conocido por nada más  \n",
      "Este actor no tiene premios\n"
     ]
    },
    {
     "name": "stderr",
     "output_type": "stream",
     "text": [
      " 86%|████████▌ | 42/49 [08:55<01:28, 12.71s/it]"
     ]
    },
    {
     "name": "stdout",
     "output_type": "stream",
     "text": [
      "Este actor no tiene premios\n"
     ]
    },
    {
     "name": "stderr",
     "output_type": "stream",
     "text": [
      " 88%|████████▊ | 43/49 [09:05<01:12, 12.11s/it]"
     ]
    },
    {
     "name": "stdout",
     "output_type": "stream",
     "text": [
      "Este actor no tiene premios\n"
     ]
    },
    {
     "name": "stderr",
     "output_type": "stream",
     "text": [
      " 90%|████████▉ | 44/49 [09:15<00:57, 11.48s/it]"
     ]
    },
    {
     "name": "stdout",
     "output_type": "stream",
     "text": [
      "El actor Diana Musca no es conocido por nada más  \n",
      "Este actor no tiene premios\n"
     ]
    },
    {
     "name": "stderr",
     "output_type": "stream",
     "text": [
      " 92%|█████████▏| 45/49 [09:26<00:45, 11.34s/it]"
     ]
    },
    {
     "name": "stdout",
     "output_type": "stream",
     "text": [
      "Este actor no tiene premios\n"
     ]
    },
    {
     "name": "stderr",
     "output_type": "stream",
     "text": [
      " 94%|█████████▍| 46/49 [09:37<00:33, 11.06s/it]"
     ]
    },
    {
     "name": "stdout",
     "output_type": "stream",
     "text": [
      "El actor Elena Dragoi no es conocido por nada más  \n",
      "Este actor no tiene premios\n"
     ]
    },
    {
     "name": "stderr",
     "output_type": "stream",
     "text": [
      " 96%|█████████▌| 47/49 [09:48<00:22, 11.10s/it]"
     ]
    },
    {
     "name": "stdout",
     "output_type": "stream",
     "text": [
      "Este actor no tiene premios\n"
     ]
    },
    {
     "name": "stderr",
     "output_type": "stream",
     "text": [
      " 98%|█████████▊| 48/49 [09:59<00:11, 11.06s/it]"
     ]
    },
    {
     "name": "stdout",
     "output_type": "stream",
     "text": [
      "Este actor no tiene premios\n"
     ]
    },
    {
     "name": "stderr",
     "output_type": "stream",
     "text": [
      "100%|██████████| 49/49 [10:10<00:00, 12.45s/it]\n"
     ]
    }
   ],
   "source": [
    "driver = webdriver.Chrome()\n",
    "\n",
    "driver.get('https://www.imdb.com/')\n",
    "\n",
    "driver.maximize_window()\n",
    "\n",
    "sleep (5)\n",
    "\n",
    "#Cookies\n",
    "driver.find_element('css selector', '#__next > div > div > div.sc-jrcTuL.bPmWiM > div > button.icb-btn.sc-bcXHqe.sc-dkrFOg.sc-iBYQkv.dcvrLS.ddtuHe.dRCGjd').click()\n",
    "\n",
    "sleep(2)\n",
    "\n",
    "nacimiento = []\n",
    "premios_actor = []\n",
    "conocido = []\n",
    "pelis = []\n",
    "\n",
    "  \n",
    "for actor in tqdm(list_all_actors):\n",
    "    conocido_por = []\n",
    "    ganados = []\n",
    "    nominaciones = []\n",
    "    peliculas = []\n",
    "    # buscamos al actor\n",
    "    driver.find_element('css selector', '#suggestion-search').send_keys(actor, Keys.ENTER)\n",
    "    \n",
    "    # clickamos en la primera coincidencia\n",
    "    try:\n",
    "        driver.find_element('css selector', '#__next > main > div.ipc-page-content-container.ipc-page-content-container--full.sc-e51f9d6d-0.Fmvqg > div.ipc-page-content-container.ipc-page-content-container--center > section > div > div.ipc-page-grid__item.ipc-page-grid__item--span-2 > section:nth-child(4) > div.sc-e8e4ce7-2.iXsuvN > ul > li:nth-child(1) > div.ipc-metadata-list-summary-item__c > div > a').click()\n",
    "    except:\n",
    "        continue\n",
    "    # añadimos fecha nacimiento_actor\n",
    "    \n",
    "    try:\n",
    "        nacimiento.append(driver.find_element('xpath', '//*[@id=\"__next\"]/main/div/section[1]/section/div[3]/section/section/div[3]/div/div[2]/section/aside/div/span[2]').text)\n",
    "    \n",
    "    except:\n",
    "        nacimiento.append(None)  \n",
    "    \n",
    "    try: \n",
    "        for elemento in range (1,5):\n",
    "            \n",
    "            conocido_por.append(driver.find_element('css selector', f'#__next > main > div > section.ipc-page-background.ipc-page-background--base.sc-c41b9732-0.NeSef > div > section > div > div.sc-978e9339-1.ihWZgK.ipc-page-grid__item.ipc-page-grid__item--span-2 > div.celwidget > section:nth-child(1) > div.sc-1c5b3162-0.fFgRFS > div > div.ipc-sub-grid.ipc-sub-grid--page-span-2.ipc-sub-grid--wraps-at-above-l.ipc-shoveler__grid > div:nth-child({elemento}) > div.ipc-primary-image-list-card__content > div.ipc-primary-image-list-card__content-top > a').text)\n",
    "\n",
    "        conocido.append(tuple(conocido_por))\n",
    "    except:\n",
    "        print(f\"El actor {actor} no es conocido por nada más  \")\n",
    "    \n",
    "    # añadimos lista 10 peliculas en las que ha participado\n",
    "    \n",
    "    try: \n",
    "        \n",
    "        for peli in range(1,10):\n",
    "            \n",
    "            try:\n",
    "        \n",
    "                peliculas.append(driver.find_element('xpath', f'#accordion-item-actor-previous-projects > div > ul > li:nth-child({peli}) > div.ipc-metadata-list-summary-item__c > div.ipc-metadata-list-summary-item__tc > a').text)\n",
    "        \n",
    "                pelis.append(tuple(peliculas))\n",
    "        \n",
    "            except: \n",
    "                try:\n",
    "                    peliculas.append(driver.find_element('xpath', '//*[@id=\"accordion-item-actor-previous-projects\"]/div/ul/li[1]/div[2]/div[1]/a').text)\n",
    "                                                        #//*[@id=\"accordion-item-actor-previous-projects\"]/div/ul/li[2]/div[2]/div[1]/a\n",
    "                \n",
    "                except:\n",
    "                    peliculas.append(None)\n",
    "\n",
    "    except:\n",
    "        print(f\"el actor {actor} no tiene más peliculas\")\n",
    "        \n",
    "    # accedemos a premios\n",
    "    \n",
    "    try:\n",
    "        driver.find_element('css selector', '#__next > main > div > section.ipc-page-background.ipc-page-background--base.sc-c41b9732-0.NeSef > div > section > div > div.sc-978e9339-1.ihWZgK.ipc-page-grid__item.ipc-page-grid__item--span-2 > section:nth-child(3) > div > ul > li > div').click()\n",
    "    \n",
    "    except:\n",
    "        try: # hago el try dos veces porque en el primer intento consigo que el navegador se mueva al elemento y en el except es cuando consigo clickearlo\n",
    "            sleep(3)\n",
    "            driver.find_element('css selector', '#__next > main > div > section.ipc-page-background.ipc-page-background--base.sc-c41b9732-0.NeSef > div > section > div > div.sc-978e9339-1.ihWZgK.ipc-page-grid__item.ipc-page-grid__item--span-2 > section:nth-child(3) > div > ul > li > div').click()\n",
    "            \n",
    "            print('Entramos en los premios')\n",
    "        except:\n",
    "            print(\"Este actor no tiene premios\")\n",
    "\n",
    "    for premio in range (1,11):\n",
    "        try: \n",
    "            # premios ganados\n",
    "            ganados.append(driver.find_element('css selector', f'#__next > main > div > section > div > section > div > div.sc-978e9339-1.ihWZgK.ipc-page-grid__item.ipc-page-grid__item--span-2 > section:nth-child(3) > div.sc-f65f65be-0.bBlII > ul > li:nth-child({premio}) > div.ipc-metadata-list-summary-item__c > div > a').text)\n",
    "            # nominaciones                                                    \n",
    "            nominaciones.append(driver.find_element('css selector', f'#__next > main > div > section > div > section > div > div.sc-978e9339-1.ihWZgK.ipc-page-grid__item.ipc-page-grid__item--span-2 > section:nth-child(4) > div.sc-f65f65be-0.bBlII > ul > li:nth-child({premio}) > div.ipc-metadata-list-summary-item__c > div > a').text)\n",
    "\n",
    "        except:                                                  \n",
    "            pass\n",
    "    \n",
    "    # comprobamos si tiene premio ganado o nominacion, si es así lo añadimos al diccionario de premios por actor\n",
    "    if len(ganados) > 0 or len(nominaciones) > 0:\n",
    "        premios_actor.append({'premios ganados': ganados, 'nominaciones': nominaciones})\n",
    "    \n",
    "    else:\n",
    "        premios_actor.append(None)\n",
    "    \n",
    "    driver.back()\n",
    "    driver.back()\n",
    "\n",
    "\n",
    "driver.close()\n",
    "\n",
    "    "
   ]
  },
  {
   "cell_type": "code",
   "execution_count": 8,
   "metadata": {},
   "outputs": [
    {
     "data": {
      "text/plain": [
       "[('Vampire Hunter: Cazador De Espíritus',\n",
       "  'Metal Gear Solid',\n",
       "  'El puño de la estrella del norte',\n",
       "  'Metal Gear Solid: Integral'),\n",
       " ('El viento se levanta',\n",
       "  'La colina de las amapolas',\n",
       "  'Kita no kuni kara',\n",
       "  'Gakkô'),\n",
       " ('Akira', 'Capitán Harlock', 'Meteoro', 'Gekisô sentai Kârenjâ'),\n",
       " ('Ghost in the Shell',\n",
       "  'Dragon Ball',\n",
       "  'Unico en la isla de la magia',\n",
       "  'Pâman'),\n",
       " ('Ironman 28',\n",
       "  'Chôriki sentai Ôrenjâ',\n",
       "  'Osomatsu-kun',\n",
       "  'El ataque de los supermonstruos'),\n",
       " ('Sholay', 'Ghayal', 'Ayee Milan Ki Bela', 'Yaadon Ki Baaraat'),\n",
       " ('Baghban', 'Sholay', 'Prem Nagar', 'Naseeb'),\n",
       " ('Don', 'Haré Rama Haré Krishna', 'Laawaris', 'Samraat'),\n",
       " ('Koi... Mil Gaya', 'Do Anjaane', 'Animal', 'Gehri Chaal'),\n",
       " ('Sohni Mahiwal', 'Ozornik', 'Dalyokie blizkie gody', 'Enamorados'),\n",
       " ('La batalla de Argel', 'Chacal', 'Mi nombre es Ninguno', 'Te amo, te amo'),\n",
       " (\"D'Artagnan\",\n",
       "  'Aux frontières du possible',\n",
       "  'Au théâtre ce soir',\n",
       "  'Madame Sans Gêne'),\n",
       " ('Encuentro en París',\n",
       "  'París, bajos fondos',\n",
       "  'Le jugement dernier',\n",
       "  'Un sourire dans la tempête'),\n",
       " ('Julie Lescaut',\n",
       "  \"L'état de grâce\",\n",
       "  'Historia de una revolución',\n",
       "  'Dickie-roi'),\n",
       " ('O Príncipe com Orelhas de Burro',\n",
       "  'O Beijo de Judas',\n",
       "  'Duarte & C.a',\n",
       "  'Contos Mágicos'),\n",
       " ('Mal Nascida',\n",
       "  'Curral de Moinas - Os Banqueiros do Povo',\n",
       "  'Anjo Selvagem',\n",
       "  'Louco Amor'),\n",
       " ('O Luto de Electra', 'Anjo Selvagem', 'Um Lugar Para Viver', 'El Contrato'),\n",
       " ('Terra Estrangeira',\n",
       "  'La máscara vengadora: Lagardère',\n",
       "  'Porto Santo',\n",
       "  'Antes a Sorte Que Tal Morte'),\n",
       " ('La dolce vita',\n",
       "  'Fellini 8½',\n",
       "  'Una jornada particular',\n",
       "  'Matrimonio a la italiana'),\n",
       " ('Der fliegende Holländer', 'Sweet Movie', 'Smarkula', \"L'ogre de Barbarie\"),\n",
       " ('Cuatro bodas y un funeral',\n",
       "  'Suite francesa',\n",
       "  'La sociedad literaria y el pastel de patata',\n",
       "  'Disobedience'),\n",
       " ('El jeque blanco',\n",
       "  \"Il tempo dell'inizio\",\n",
       "  '¡Qué familia!',\n",
       "  'Un hombre enamorado'),\n",
       " ('Il peccato di Lola',\n",
       "  'La ciudad de las mujeres',\n",
       "  'Dulce piel de mujer',\n",
       "  'Non ti conosco più amore'),\n",
       " ('La pequeña sirenita',\n",
       "  'El lago de los cisnes',\n",
       "  'Berusaiyu no bara',\n",
       "  'Robo-geisha'),\n",
       " ('Trono de sangre',\n",
       "  'Ninja bugeicho momochi sandayu',\n",
       "  'Shin Zatôichi monogatari: Oreta tsue',\n",
       "  'El lago de los cisnes'),\n",
       " ('Saraba Uchû Senkan Yamato: Ai no Senshitachi',\n",
       "  'Nave Espacial',\n",
       "  'Uchû senkan Yamato III',\n",
       "  'Waga seishun no Arcadia: Mugen kidô SSX'),\n",
       " ('Perfect Days',\n",
       "  'Berusaiyu no bara',\n",
       "  'Gôgô sentai Bôkenger',\n",
       "  'Saraba itoshiki hito yo'),\n",
       " ('¿Quién teme a Virginia Woolf?',\n",
       "  '1984',\n",
       "  'El espía que surgió del frío',\n",
       "  'Becket'),\n",
       " ('Star Trek: Voyager',\n",
       "  'Orange Is the New Black',\n",
       "  'Star Trek: Némesis',\n",
       "  'Star Trek Voyager: Elite Force'),\n",
       " ('Excalibur', 'Muerte bajo el sol', 'Amanecer zulú', 'Merlín'),\n",
       " ('Fahrenheit 451', '1984', 'Chacal', 'Un horizonte muy lejano'),\n",
       " ('Amarga victoria',\n",
       "  'Cumbres borrascosas',\n",
       "  'Arthur, el soltero de oro',\n",
       "  'El prestamista'),\n",
       " ('La gran vida', 'The Getaway', 'La Celestina', 'La capilla ardiente'),\n",
       " ('La capilla ardiente',\n",
       "  'Curro Jiménez',\n",
       "  'El arte de vivir',\n",
       "  'Adiós, cigüeña, adiós'),\n",
       " ('Corazón salvaje',\n",
       "  'Las grandes aguas',\n",
       "  'Extraños caminos del amor',\n",
       "  'Como gallos de pelea'),\n",
       " ('Un largo adiós',\n",
       "  'El águila descalza',\n",
       "  'Dos mulas y una mujer',\n",
       "  'El ángel exterminador'),\n",
       " ('Tiempo de victoria: La dinastía de Los Lakers',\n",
       "  'Stranger Things',\n",
       "  'La matanza de Texas',\n",
       "  'All Fun and Games'),\n",
       " ('Un paseo por las nubes',\n",
       "  'Mis hombres y yo',\n",
       "  'Guestward Ho!',\n",
       "  'Encrucijada'),\n",
       " ('¿Teléfono rojo? Volamos hacia Moscú',\n",
       "  'Sillas de montar calientes',\n",
       "  'La huida',\n",
       "  '1941'),\n",
       " ('Halloween 4: El regreso de Michael Myers',\n",
       "  'Pier 5, Havana',\n",
       "  'Los hombres de Harrelson',\n",
       "  'The Big Story'),\n",
       " ('Brigham',\n",
       "  'Viaje salvaje',\n",
       "  'Noche en el tren del terror',\n",
       "  'Pesadilla interminable'),\n",
       " ('Haiducii',\n",
       "  'Bunicul si doi delincventi minori',\n",
       "  'Toate pînzele sus',\n",
       "  'Nepotii gornistului'),\n",
       " ('Pu-239',\n",
       "  'Femeia din Ursa Mare',\n",
       "  'Iancu Jianu, zapciul',\n",
       "  'Eu, tu si Ovidiu'),\n",
       " ('Alarma en el delta',\n",
       "  'Doi barbati pentru o moarte',\n",
       "  'Razboiul domnitelor',\n",
       "  'Cerul începe la etajul III')]"
      ]
     },
     "execution_count": 8,
     "metadata": {},
     "output_type": "execute_result"
    }
   ],
   "source": [
    "conocido"
   ]
  },
  {
   "cell_type": "code",
   "execution_count": 9,
   "metadata": {},
   "outputs": [
    {
     "data": {
      "text/plain": [
       "[None,\n",
       " {'premios ganados': ['1994 Nominado Award of the Japanese Academy'],\n",
       "  'nominaciones': ['1993 Ganador Nikkan Sports Film Award']},\n",
       " {'premios ganados': ['2015 Ganador Achievement Award'], 'nominaciones': []},\n",
       " None,\n",
       " None,\n",
       " {'premios ganados': ['1997 Ganador Lifetime Achievement Award',\n",
       "   '1991 Ganador Filmfare Award',\n",
       "   '1975 Nominado Filmfare Award',\n",
       "   '1974 Nominado Filmfare Award',\n",
       "   '1972 Nominado Filmfare Award'],\n",
       "  'nominaciones': ['2007 Ganador Lifetime Achievement Award']},\n",
       " {'premios ganados': ['2019 Ganador Special Award',\n",
       "   '2004 Nominado Filmfare Award',\n",
       "   '2000 Ganador Lifetime Achievement Award',\n",
       "   '1991 Nominado Filmfare Award',\n",
       "   '1982 Nominado Filmfare Award'],\n",
       "  'nominaciones': ['2004 Nominado Popular Award']},\n",
       " {'premios ganados': ['1981 Nominado Filmfare Award',\n",
       "   '1979 Nominado Filmfare Award',\n",
       "   '1973 Ganador Filmfare Award'],\n",
       "  'nominaciones': ['2010 Ganador Special Award']},\n",
       " {'premios ganados': ['2023 Ganador Lifetime Achievement Award',\n",
       "   '1977 Ganador Filmfare Award',\n",
       "   '1977 Nominado Filmfare Award'],\n",
       "  'nominaciones': ['2020 Ganador Special Award',\n",
       "   '2010 Nominado Screen Award']},\n",
       " {'premios ganados': [\"1964 Ganador People's Artist of the Republic\"],\n",
       "  'nominaciones': [\"1977 Ganador People's Artist of the USSR\"]},\n",
       " {'premios ganados': ['1968 Nominado NSFC Award'], 'nominaciones': []},\n",
       " None,\n",
       " None,\n",
       " None,\n",
       " None,\n",
       " None,\n",
       " {'premios ganados': ['2019 Nominado CinEuphoria',\n",
       "   '2018 Ganador CinEuphoria',\n",
       "   '2018 Nominado CinEuphoria',\n",
       "   '2018 Nominado CinEuphoria',\n",
       "   '2010 Ganador CinEuphoria'],\n",
       "  'nominaciones': ['2009 Ganador Andorinha Trophy']},\n",
       " {'premios ganados': ['2011 Ganador CinEuphoria'],\n",
       "  'nominaciones': ['2017 Ganador Sophia']},\n",
       " None,\n",
       " None,\n",
       " {'premios ganados': ['1988 Nominado Oscar',\n",
       "   '1978 Nominado Oscar',\n",
       "   '1963 Nominado Oscar'],\n",
       "  'nominaciones': ['1994 Nominado Silver Condor']},\n",
       " None,\n",
       " None,\n",
       " None,\n",
       " None,\n",
       " None,\n",
       " None,\n",
       " None,\n",
       " None,\n",
       " {'premios ganados': ['1978 Nominado Oscar',\n",
       "   '1970 Nominado Oscar',\n",
       "   '1967 Nominado Oscar',\n",
       "   '1966 Nominado Oscar',\n",
       "   '1965 Nominado Oscar'],\n",
       "  'nominaciones': ['1968 Ganador Bambi']},\n",
       " {'premios ganados': ['2021 Nominado Saturn Award',\n",
       "   '2001 Nominado Saturn Award',\n",
       "   '2000 Nominado Saturn Award',\n",
       "   '1999 Nominado Saturn Award',\n",
       "   '1998 Ganador Saturn Award'],\n",
       "  'nominaciones': ['2014 Nominado Primetime Emmy']},\n",
       " None,\n",
       " None,\n",
       " {'premios ganados': ['1940 Nominado Oscar'],\n",
       "  'nominaciones': ['1978 Nominado AFI Award']},\n",
       " None,\n",
       " None,\n",
       " None,\n",
       " {'premios ganados': ['1974 Ganador Silver Ariel',\n",
       "   '1972 Ganador Silver Ariel',\n",
       "   '1972 Ganador Silver Ariel',\n",
       "   '1972 Ganador Silver Ariel'],\n",
       "  'nominaciones': ['1979 Ganador Premio ACE', '1975 Ganador Premio ACE']},\n",
       " {'premios ganados': ['2024 Nominado ASC Award'], 'nominaciones': []},\n",
       " None,\n",
       " {'premios ganados': ['1982 Ganador Hall of Great Western Performers'],\n",
       "  'nominaciones': ['1983 Ganador Golden Boot']},\n",
       " None,\n",
       " None,\n",
       " None,\n",
       " None,\n",
       " None,\n",
       " None,\n",
       " None,\n",
       " None]"
      ]
     },
     "execution_count": 9,
     "metadata": {},
     "output_type": "execute_result"
    }
   ],
   "source": [
    "premios_actor"
   ]
  },
  {
   "cell_type": "code",
   "execution_count": 10,
   "metadata": {},
   "outputs": [
    {
     "name": "stdout",
     "output_type": "stream",
     "text": [
      "[None, ('1994 Nominado Award of the Japanese Academy',), ('2015 Ganador Achievement Award',), None, None, ('1997 Ganador Lifetime Achievement Award', '1991 Ganador Filmfare Award', '1975 Nominado Filmfare Award', '1974 Nominado Filmfare Award', '1972 Nominado Filmfare Award'), ('2019 Ganador Special Award', '2004 Nominado Filmfare Award', '2000 Ganador Lifetime Achievement Award', '1991 Nominado Filmfare Award', '1982 Nominado Filmfare Award'), ('1981 Nominado Filmfare Award', '1979 Nominado Filmfare Award', '1973 Ganador Filmfare Award'), ('2023 Ganador Lifetime Achievement Award', '1977 Ganador Filmfare Award', '1977 Nominado Filmfare Award'), (\"1964 Ganador People's Artist of the Republic\",), ('1968 Nominado NSFC Award',), None, None, None, None, None, ('2019 Nominado CinEuphoria', '2018 Ganador CinEuphoria', '2018 Nominado CinEuphoria', '2018 Nominado CinEuphoria', '2010 Ganador CinEuphoria'), ('2011 Ganador CinEuphoria',), None, None, ('1988 Nominado Oscar', '1978 Nominado Oscar', '1963 Nominado Oscar'), None, None, None, None, None, None, None, None, ('1978 Nominado Oscar', '1970 Nominado Oscar', '1967 Nominado Oscar', '1966 Nominado Oscar', '1965 Nominado Oscar'), ('2021 Nominado Saturn Award', '2001 Nominado Saturn Award', '2000 Nominado Saturn Award', '1999 Nominado Saturn Award', '1998 Ganador Saturn Award'), None, None, ('1940 Nominado Oscar',), None, None, None, ('1974 Ganador Silver Ariel', '1972 Ganador Silver Ariel', '1972 Ganador Silver Ariel', '1972 Ganador Silver Ariel'), ('2024 Nominado ASC Award',), None, ('1982 Ganador Hall of Great Western Performers',), None, None, None, None, None, None, None, None]\n",
      "[None, ('1993 Ganador Nikkan Sports Film Award',), (), None, None, ('2007 Ganador Lifetime Achievement Award',), ('2004 Nominado Popular Award',), ('2010 Ganador Special Award',), ('2020 Ganador Special Award', '2010 Nominado Screen Award'), (\"1977 Ganador People's Artist of the USSR\",), (), None, None, None, None, None, ('2009 Ganador Andorinha Trophy',), ('2017 Ganador Sophia',), None, None, ('1994 Nominado Silver Condor',), None, None, None, None, None, None, None, None, ('1968 Ganador Bambi',), ('2014 Nominado Primetime Emmy',), None, None, ('1978 Nominado AFI Award',), None, None, None, ('1979 Ganador Premio ACE', '1975 Ganador Premio ACE'), (), None, ('1983 Ganador Golden Boot',), None, None, None, None, None, None, None, None]\n"
     ]
    }
   ],
   "source": [
    "premios = []\n",
    "nominaciones = []\n",
    "\n",
    "# Iterar sobre cada diccionario en la lista\n",
    "for persona in premios_actor:\n",
    "    \n",
    "    if persona is None:\n",
    "        premios.append(None)\n",
    "        continue\n",
    "    else:\n",
    "        premios_ganados = persona.get('premios ganados', [])\n",
    "        premios.append(tuple(premios_ganados))\n",
    "\n",
    "# Imprimir la lista de todos los premios ganados\n",
    "print(premios)\n",
    "\n",
    "for persona in premios_actor:\n",
    "    \n",
    "    if persona is None:\n",
    "        nominaciones.append(None)\n",
    "        continue\n",
    "    else:\n",
    "        premios_ganados = persona[\"nominaciones\"]\n",
    "        nominaciones.append(tuple(premios_ganados))\n",
    "        \n",
    "print(nominaciones)"
   ]
  },
  {
   "cell_type": "code",
   "execution_count": 11,
   "metadata": {},
   "outputs": [
    {
     "data": {
      "text/plain": [
       "[('Kaneto Shiozawa',\n",
       "  '28 de enero de 1954',\n",
       "  None,\n",
       "  None,\n",
       "  ('Vampire Hunter: Cazador De Espíritus',\n",
       "   'Metal Gear Solid',\n",
       "   'El puño de la estrella del norte',\n",
       "   'Metal Gear Solid: Integral')),\n",
       " ('Keiko Takeshita',\n",
       "  '15 de septiembre de 1953',\n",
       "  ('1994 Nominado Award of the Japanese Academy',),\n",
       "  ('1993 Ganador Nikkan Sports Film Award',),\n",
       "  ('El viento se levanta',\n",
       "   'La colina de las amapolas',\n",
       "   'Kita no kuni kara',\n",
       "   'Gakkô')),\n",
       " ('Hiroshi Ôtake',\n",
       "  '14 de marzo de 1932',\n",
       "  ('2015 Ganador Achievement Award',),\n",
       "  (),\n",
       "  ('Akira', 'Capitán Harlock', 'Meteoro', 'Gekisô sentai Kârenjâ')),\n",
       " ('Katsue Miwa',\n",
       "  '12 de octubre de 1943',\n",
       "  None,\n",
       "  None,\n",
       "  ('Ghost in the Shell',\n",
       "   'Dragon Ball',\n",
       "   'Unico en la isla de la magia',\n",
       "   'Pâman')),\n",
       " ('Kazue Takahashi',\n",
       "  '20 de marzo de 1928',\n",
       "  None,\n",
       "  None,\n",
       "  ('Ironman 28',\n",
       "   'Chôriki sentai Ôrenjâ',\n",
       "   'Osomatsu-kun',\n",
       "   'El ataque de los supermonstruos')),\n",
       " ('Dharmendra',\n",
       "  '8 de diciembre de 1935',\n",
       "  ('1997 Ganador Lifetime Achievement Award',\n",
       "   '1991 Ganador Filmfare Award',\n",
       "   '1975 Nominado Filmfare Award',\n",
       "   '1974 Nominado Filmfare Award',\n",
       "   '1972 Nominado Filmfare Award'),\n",
       "  ('2007 Ganador Lifetime Achievement Award',),\n",
       "  ('Sholay', 'Ghayal', 'Ayee Milan Ki Bela', 'Yaadon Ki Baaraat')),\n",
       " ('Hema Malini',\n",
       "  '16 de octubre de 1948',\n",
       "  ('2019 Ganador Special Award',\n",
       "   '2004 Nominado Filmfare Award',\n",
       "   '2000 Ganador Lifetime Achievement Award',\n",
       "   '1991 Nominado Filmfare Award',\n",
       "   '1982 Nominado Filmfare Award'),\n",
       "  ('2004 Nominado Popular Award',),\n",
       "  ('Baghban', 'Sholay', 'Prem Nagar', 'Naseeb')),\n",
       " ('Zeenat Aman',\n",
       "  '19 de noviembre de 1951',\n",
       "  ('1981 Nominado Filmfare Award',\n",
       "   '1979 Nominado Filmfare Award',\n",
       "   '1973 Ganador Filmfare Award'),\n",
       "  ('2010 Ganador Special Award',),\n",
       "  ('Don', 'Haré Rama Haré Krishna', 'Laawaris', 'Samraat')),\n",
       " ('Prem Chopra',\n",
       "  '23 de septiembre de 1935',\n",
       "  ('2023 Ganador Lifetime Achievement Award',\n",
       "   '1977 Ganador Filmfare Award',\n",
       "   '1977 Nominado Filmfare Award'),\n",
       "  ('2020 Ganador Special Award', '2010 Nominado Screen Award'),\n",
       "  ('Koi... Mil Gaya', 'Do Anjaane', 'Animal', 'Gehri Chaal')),\n",
       " ('Zakir Mukhamedzhanov',\n",
       "  '1 de enero de 1921',\n",
       "  (\"1964 Ganador People's Artist of the Republic\",),\n",
       "  (\"1977 Ganador People's Artist of the USSR\",),\n",
       "  ('Sohni Mahiwal', 'Ozornik', 'Dalyokie blizkie gody', 'Enamorados')),\n",
       " ('Jean Martin',\n",
       "  '6 de marzo de 1922',\n",
       "  ('1968 Nominado NSFC Award',),\n",
       "  (),\n",
       "  ('La batalla de Argel', 'Chacal', 'Mi nombre es Ninguno', 'Te amo, te amo')),\n",
       " ('Pascal Mazzotti',\n",
       "  '16 de diciembre de 1923',\n",
       "  None,\n",
       "  None,\n",
       "  (\"D'Artagnan\",\n",
       "   'Aux frontières du possible',\n",
       "   'Au théâtre ce soir',\n",
       "   'Madame Sans Gêne')),\n",
       " ('Raymond Bussières',\n",
       "  '3 de noviembre de 1907',\n",
       "  None,\n",
       "  None,\n",
       "  ('Encuentro en París',\n",
       "   'París, bajos fondos',\n",
       "   'Le jugement dernier',\n",
       "   'Un sourire dans la tempête')),\n",
       " ('Agnès Viala',\n",
       "  None,\n",
       "  None,\n",
       "  None,\n",
       "  ('Julie Lescaut',\n",
       "   \"L'état de grâce\",\n",
       "   'Historia de una revolución',\n",
       "   'Dickie-roi')),\n",
       " ('Renaud Marx',\n",
       "  '20 de agosto de 1959',\n",
       "  None,\n",
       "  None,\n",
       "  ('O Príncipe com Orelhas de Burro',\n",
       "   'O Beijo de Judas',\n",
       "   'Duarte & C.a',\n",
       "   'Contos Mágicos')),\n",
       " ('Antonino Solmer',\n",
       "  '2 de marzo de 1950',\n",
       "  None,\n",
       "  None,\n",
       "  ('Mal Nascida',\n",
       "   'Curral de Moinas - Os Banqueiros do Povo',\n",
       "   'Anjo Selvagem',\n",
       "   'Louco Amor')),\n",
       " ('Márcia Breia',\n",
       "  '17 de junio de 1944',\n",
       "  ('2019 Nominado CinEuphoria',\n",
       "   '2018 Ganador CinEuphoria',\n",
       "   '2018 Nominado CinEuphoria',\n",
       "   '2018 Nominado CinEuphoria',\n",
       "   '2010 Ganador CinEuphoria'),\n",
       "  ('2009 Ganador Andorinha Trophy',),\n",
       "  ('O Luto de Electra',\n",
       "   'Anjo Selvagem',\n",
       "   'Um Lugar Para Viver',\n",
       "   'El Contrato')),\n",
       " ('Adelaide João',\n",
       "  '27 de julio de 1921',\n",
       "  ('2011 Ganador CinEuphoria',),\n",
       "  ('2017 Ganador Sophia',),\n",
       "  ('Terra Estrangeira',\n",
       "   'La máscara vengadora: Lagardère',\n",
       "   'Porto Santo',\n",
       "   'Antes a Sorte Que Tal Morte')),\n",
       " (\"António Cara D'Anjo\",\n",
       "  '19 de abril de 1954',\n",
       "  None,\n",
       "  None,\n",
       "  ('La dolce vita',\n",
       "   'Fellini 8½',\n",
       "   'Una jornada particular',\n",
       "   'Matrimonio a la italiana')),\n",
       " ('António Rama',\n",
       "  None,\n",
       "  None,\n",
       "  None,\n",
       "  ('Der fliegende Holländer',\n",
       "   'Sweet Movie',\n",
       "   'Smarkula',\n",
       "   \"L'ogre de Barbarie\")),\n",
       " ('Marcello Mastroianni',\n",
       "  '28 de septiembre de 1924',\n",
       "  ('1988 Nominado Oscar', '1978 Nominado Oscar', '1963 Nominado Oscar'),\n",
       "  ('1994 Nominado Silver Condor',),\n",
       "  ('Cuatro bodas y un funeral',\n",
       "   'Suite francesa',\n",
       "   'La sociedad literaria y el pastel de patata',\n",
       "   'Disobedience')),\n",
       " ('Anna Prucnal',\n",
       "  '17 de diciembre de 1940',\n",
       "  None,\n",
       "  None,\n",
       "  ('El jeque blanco',\n",
       "   \"Il tempo dell'inizio\",\n",
       "   '¡Qué familia!',\n",
       "   'Un hombre enamorado')),\n",
       " ('Bernice Stegers',\n",
       "  '12 de julio de 1949',\n",
       "  None,\n",
       "  None,\n",
       "  ('Il peccato di Lola',\n",
       "   'La ciudad de las mujeres',\n",
       "   'Dulce piel de mujer',\n",
       "   'Non ti conosco più amore')),\n",
       " ('Jole Silvani',\n",
       "  '9 de diciembre de 1910',\n",
       "  None,\n",
       "  None,\n",
       "  ('La pequeña sirenita',\n",
       "   'El lago de los cisnes',\n",
       "   'Berusaiyu no bara',\n",
       "   'Robo-geisha')),\n",
       " ('Donatella Damiani',\n",
       "  '6 de enero de 1955',\n",
       "  None,\n",
       "  None,\n",
       "  ('Trono de sangre',\n",
       "   'Ninja bugeicho momochi sandayu',\n",
       "   'Shin Zatôichi monogatari: Oreta tsue',\n",
       "   'El lago de los cisnes')),\n",
       " ('Tarô Shigaki',\n",
       "  '22 de septiembre de 1951',\n",
       "  None,\n",
       "  None,\n",
       "  ('Saraba Uchû Senkan Yamato: Ai no Senshitachi',\n",
       "   'Nave Espacial',\n",
       "   'Uchû senkan Yamato III',\n",
       "   'Waga seishun no Arcadia: Mugen kidô SSX')),\n",
       " ('Asao Koike',\n",
       "  '18 de marzo de 1931',\n",
       "  None,\n",
       "  None,\n",
       "  ('Perfect Days',\n",
       "   'Berusaiyu no bara',\n",
       "   'Gôgô sentai Bôkenger',\n",
       "   'Saraba itoshiki hito yo')),\n",
       " ('Yôko Asagami',\n",
       "  '10 de julio de 1952',\n",
       "  None,\n",
       "  None,\n",
       "  ('¿Quién teme a Virginia Woolf?',\n",
       "   '1984',\n",
       "   'El espía que surgió del frío',\n",
       "   'Becket')),\n",
       " ('Yoneko Matsukane',\n",
       "  '22 de octubre de 1949',\n",
       "  None,\n",
       "  None,\n",
       "  ('Star Trek: Voyager',\n",
       "   'Orange Is the New Black',\n",
       "   'Star Trek: Némesis',\n",
       "   'Star Trek Voyager: Elite Force')),\n",
       " ('Richard Burton',\n",
       "  '10 de noviembre de 1925',\n",
       "  ('1978 Nominado Oscar',\n",
       "   '1970 Nominado Oscar',\n",
       "   '1967 Nominado Oscar',\n",
       "   '1966 Nominado Oscar',\n",
       "   '1965 Nominado Oscar'),\n",
       "  ('1968 Ganador Bambi',),\n",
       "  ('Excalibur', 'Muerte bajo el sol', 'Amanecer zulú', 'Merlín')),\n",
       " ('Kate Mulgrew',\n",
       "  '29 de abril de 1955',\n",
       "  ('2021 Nominado Saturn Award',\n",
       "   '2001 Nominado Saturn Award',\n",
       "   '2000 Nominado Saturn Award',\n",
       "   '1999 Nominado Saturn Award',\n",
       "   '1998 Ganador Saturn Award'),\n",
       "  ('2014 Nominado Primetime Emmy',),\n",
       "  ('Fahrenheit 451', '1984', 'Chacal', 'Un horizonte muy lejano')),\n",
       " ('Nicholas Clay',\n",
       "  '18 de septiembre de 1946',\n",
       "  None,\n",
       "  None,\n",
       "  ('Amarga victoria',\n",
       "   'Cumbres borrascosas',\n",
       "   'Arthur, el soltero de oro',\n",
       "   'El prestamista')),\n",
       " ('Cyril Cusack',\n",
       "  '26 de noviembre de 1910',\n",
       "  None,\n",
       "  None,\n",
       "  ('La gran vida', 'The Getaway', 'La Celestina', 'La capilla ardiente')),\n",
       " ('Geraldine Fitzgerald',\n",
       "  '24 de noviembre de 1913',\n",
       "  ('1940 Nominado Oscar',),\n",
       "  ('1978 Nominado AFI Award',),\n",
       "  ('La capilla ardiente',\n",
       "   'Curro Jiménez',\n",
       "   'El arte de vivir',\n",
       "   'Adiós, cigüeña, adiós')),\n",
       " ('Miguel Ayones',\n",
       "  None,\n",
       "  None,\n",
       "  None,\n",
       "  ('Corazón salvaje',\n",
       "   'Las grandes aguas',\n",
       "   'Extraños caminos del amor',\n",
       "   'Como gallos de pelea')),\n",
       " ('Beatriz Galbó',\n",
       "  '24 de diciembre de 1951',\n",
       "  None,\n",
       "  None,\n",
       "  ('Un largo adiós',\n",
       "   'El águila descalza',\n",
       "   'Dos mulas y una mujer',\n",
       "   'El ángel exterminador')),\n",
       " ('Lucy Tovar',\n",
       "  '1952',\n",
       "  None,\n",
       "  None,\n",
       "  ('Tiempo de victoria: La dinastía de Los Lakers',\n",
       "   'Stranger Things',\n",
       "   'La matanza de Texas',\n",
       "   'All Fun and Games')),\n",
       " ('Pancho Córdova',\n",
       "  '17 de agosto de 1916',\n",
       "  ('1974 Ganador Silver Ariel',\n",
       "   '1972 Ganador Silver Ariel',\n",
       "   '1972 Ganador Silver Ariel',\n",
       "   '1972 Ganador Silver Ariel'),\n",
       "  ('1979 Ganador Premio ACE', '1975 Ganador Premio ACE'),\n",
       "  ('Un paseo por las nubes',\n",
       "   'Mis hombres y yo',\n",
       "   'Guestward Ho!',\n",
       "   'Encrucijada')),\n",
       " ('Ricardo Díaz',\n",
       "  '5 de diciembre de 1983',\n",
       "  ('2024 Nominado ASC Award',),\n",
       "  (),\n",
       "  ('¿Teléfono rojo? Volamos hacia Moscú',\n",
       "   'Sillas de montar calientes',\n",
       "   'La huida',\n",
       "   '1941')),\n",
       " ('Mark Miller',\n",
       "  '20 de noviembre de 1924',\n",
       "  None,\n",
       "  None,\n",
       "  ('Halloween 4: El regreso de Michael Myers',\n",
       "   'Pier 5, Havana',\n",
       "   'Los hombres de Harrelson',\n",
       "   'The Big Story')),\n",
       " ('Slim Pickens',\n",
       "  '29 de junio de 1919',\n",
       "  ('1982 Ganador Hall of Great Western Performers',),\n",
       "  ('1983 Ganador Golden Boot',),\n",
       "  ('Brigham',\n",
       "   'Viaje salvaje',\n",
       "   'Noche en el tren del terror',\n",
       "   'Pesadilla interminable')),\n",
       " ('Jack Glenn Evans',\n",
       "  None,\n",
       "  None,\n",
       "  None,\n",
       "  ('Haiducii',\n",
       "   'Bunicul si doi delincventi minori',\n",
       "   'Toate pînzele sus',\n",
       "   'Nepotii gornistului')),\n",
       " ('Logan Field',\n",
       "  '12 de junio de 1922',\n",
       "  None,\n",
       "  None,\n",
       "  ('Pu-239',\n",
       "   'Femeia din Ursa Mare',\n",
       "   'Iancu Jianu, zapciul',\n",
       "   'Eu, tu si Ovidiu')),\n",
       " ('Maurice Grandmaison',\n",
       "  None,\n",
       "  None,\n",
       "  None,\n",
       "  ('Alarma en el delta',\n",
       "   'Doi barbati pentru o moarte',\n",
       "   'Razboiul domnitelor',\n",
       "   'Cerul începe la etajul III'))]"
      ]
     },
     "execution_count": 11,
     "metadata": {},
     "output_type": "execute_result"
    }
   ],
   "source": [
    "fantasy_elenco = list(tuple(zip(list_all_actors,nacimiento, premios, nominaciones, conocido)))\n",
    "\n",
    "fantasy_elenco"
   ]
  },
  {
   "cell_type": "code",
   "execution_count": 12,
   "metadata": {},
   "outputs": [
    {
     "data": {
      "text/html": [
       "<div>\n",
       "<style scoped>\n",
       "    .dataframe tbody tr th:only-of-type {\n",
       "        vertical-align: middle;\n",
       "    }\n",
       "\n",
       "    .dataframe tbody tr th {\n",
       "        vertical-align: top;\n",
       "    }\n",
       "\n",
       "    .dataframe thead th {\n",
       "        text-align: right;\n",
       "    }\n",
       "</style>\n",
       "<table border=\"1\" class=\"dataframe\">\n",
       "  <thead>\n",
       "    <tr style=\"text-align: right;\">\n",
       "      <th></th>\n",
       "      <th>Nombre</th>\n",
       "      <th>Nacimiento</th>\n",
       "      <th>Premios</th>\n",
       "      <th>Nominaciones</th>\n",
       "      <th>Conocido por</th>\n",
       "    </tr>\n",
       "  </thead>\n",
       "  <tbody>\n",
       "    <tr>\n",
       "      <th>0</th>\n",
       "      <td>Kaneto Shiozawa</td>\n",
       "      <td>28 de enero de 1954</td>\n",
       "      <td>None</td>\n",
       "      <td>None</td>\n",
       "      <td>(Vampire Hunter: Cazador De Espíritus, Metal G...</td>\n",
       "    </tr>\n",
       "    <tr>\n",
       "      <th>1</th>\n",
       "      <td>Keiko Takeshita</td>\n",
       "      <td>15 de septiembre de 1953</td>\n",
       "      <td>(1994 Nominado Award of the Japanese Academy,)</td>\n",
       "      <td>(1993 Ganador Nikkan Sports Film Award,)</td>\n",
       "      <td>(El viento se levanta, La colina de las amapol...</td>\n",
       "    </tr>\n",
       "    <tr>\n",
       "      <th>2</th>\n",
       "      <td>Hiroshi Ôtake</td>\n",
       "      <td>14 de marzo de 1932</td>\n",
       "      <td>(2015 Ganador Achievement Award,)</td>\n",
       "      <td>()</td>\n",
       "      <td>(Akira, Capitán Harlock, Meteoro, Gekisô senta...</td>\n",
       "    </tr>\n",
       "    <tr>\n",
       "      <th>3</th>\n",
       "      <td>Katsue Miwa</td>\n",
       "      <td>12 de octubre de 1943</td>\n",
       "      <td>None</td>\n",
       "      <td>None</td>\n",
       "      <td>(Ghost in the Shell, Dragon Ball, Unico en la ...</td>\n",
       "    </tr>\n",
       "    <tr>\n",
       "      <th>4</th>\n",
       "      <td>Kazue Takahashi</td>\n",
       "      <td>20 de marzo de 1928</td>\n",
       "      <td>None</td>\n",
       "      <td>None</td>\n",
       "      <td>(Ironman 28, Chôriki sentai Ôrenjâ, Osomatsu-k...</td>\n",
       "    </tr>\n",
       "    <tr>\n",
       "      <th>5</th>\n",
       "      <td>Dharmendra</td>\n",
       "      <td>8 de diciembre de 1935</td>\n",
       "      <td>(1997 Ganador Lifetime Achievement Award, 1991...</td>\n",
       "      <td>(2007 Ganador Lifetime Achievement Award,)</td>\n",
       "      <td>(Sholay, Ghayal, Ayee Milan Ki Bela, Yaadon Ki...</td>\n",
       "    </tr>\n",
       "    <tr>\n",
       "      <th>6</th>\n",
       "      <td>Hema Malini</td>\n",
       "      <td>16 de octubre de 1948</td>\n",
       "      <td>(2019 Ganador Special Award, 2004 Nominado Fil...</td>\n",
       "      <td>(2004 Nominado Popular Award,)</td>\n",
       "      <td>(Baghban, Sholay, Prem Nagar, Naseeb)</td>\n",
       "    </tr>\n",
       "    <tr>\n",
       "      <th>7</th>\n",
       "      <td>Zeenat Aman</td>\n",
       "      <td>19 de noviembre de 1951</td>\n",
       "      <td>(1981 Nominado Filmfare Award, 1979 Nominado F...</td>\n",
       "      <td>(2010 Ganador Special Award,)</td>\n",
       "      <td>(Don, Haré Rama Haré Krishna, Laawaris, Samraat)</td>\n",
       "    </tr>\n",
       "    <tr>\n",
       "      <th>8</th>\n",
       "      <td>Prem Chopra</td>\n",
       "      <td>23 de septiembre de 1935</td>\n",
       "      <td>(2023 Ganador Lifetime Achievement Award, 1977...</td>\n",
       "      <td>(2020 Ganador Special Award, 2010 Nominado Scr...</td>\n",
       "      <td>(Koi... Mil Gaya, Do Anjaane, Animal, Gehri Ch...</td>\n",
       "    </tr>\n",
       "    <tr>\n",
       "      <th>9</th>\n",
       "      <td>Zakir Mukhamedzhanov</td>\n",
       "      <td>1 de enero de 1921</td>\n",
       "      <td>(1964 Ganador People's Artist of the Republic,)</td>\n",
       "      <td>(1977 Ganador People's Artist of the USSR,)</td>\n",
       "      <td>(Sohni Mahiwal, Ozornik, Dalyokie blizkie gody...</td>\n",
       "    </tr>\n",
       "    <tr>\n",
       "      <th>10</th>\n",
       "      <td>Jean Martin</td>\n",
       "      <td>6 de marzo de 1922</td>\n",
       "      <td>(1968 Nominado NSFC Award,)</td>\n",
       "      <td>()</td>\n",
       "      <td>(La batalla de Argel, Chacal, Mi nombre es Nin...</td>\n",
       "    </tr>\n",
       "    <tr>\n",
       "      <th>11</th>\n",
       "      <td>Pascal Mazzotti</td>\n",
       "      <td>16 de diciembre de 1923</td>\n",
       "      <td>None</td>\n",
       "      <td>None</td>\n",
       "      <td>(D'Artagnan, Aux frontières du possible, Au th...</td>\n",
       "    </tr>\n",
       "    <tr>\n",
       "      <th>12</th>\n",
       "      <td>Raymond Bussières</td>\n",
       "      <td>3 de noviembre de 1907</td>\n",
       "      <td>None</td>\n",
       "      <td>None</td>\n",
       "      <td>(Encuentro en París, París, bajos fondos, Le j...</td>\n",
       "    </tr>\n",
       "    <tr>\n",
       "      <th>13</th>\n",
       "      <td>Agnès Viala</td>\n",
       "      <td>None</td>\n",
       "      <td>None</td>\n",
       "      <td>None</td>\n",
       "      <td>(Julie Lescaut, L'état de grâce, Historia de u...</td>\n",
       "    </tr>\n",
       "    <tr>\n",
       "      <th>14</th>\n",
       "      <td>Renaud Marx</td>\n",
       "      <td>20 de agosto de 1959</td>\n",
       "      <td>None</td>\n",
       "      <td>None</td>\n",
       "      <td>(O Príncipe com Orelhas de Burro, O Beijo de J...</td>\n",
       "    </tr>\n",
       "    <tr>\n",
       "      <th>15</th>\n",
       "      <td>Antonino Solmer</td>\n",
       "      <td>2 de marzo de 1950</td>\n",
       "      <td>None</td>\n",
       "      <td>None</td>\n",
       "      <td>(Mal Nascida, Curral de Moinas - Os Banqueiros...</td>\n",
       "    </tr>\n",
       "    <tr>\n",
       "      <th>16</th>\n",
       "      <td>Márcia Breia</td>\n",
       "      <td>17 de junio de 1944</td>\n",
       "      <td>(2019 Nominado CinEuphoria, 2018 Ganador CinEu...</td>\n",
       "      <td>(2009 Ganador Andorinha Trophy,)</td>\n",
       "      <td>(O Luto de Electra, Anjo Selvagem, Um Lugar Pa...</td>\n",
       "    </tr>\n",
       "    <tr>\n",
       "      <th>17</th>\n",
       "      <td>Adelaide João</td>\n",
       "      <td>27 de julio de 1921</td>\n",
       "      <td>(2011 Ganador CinEuphoria,)</td>\n",
       "      <td>(2017 Ganador Sophia,)</td>\n",
       "      <td>(Terra Estrangeira, La máscara vengadora: Laga...</td>\n",
       "    </tr>\n",
       "    <tr>\n",
       "      <th>18</th>\n",
       "      <td>António Cara D'Anjo</td>\n",
       "      <td>19 de abril de 1954</td>\n",
       "      <td>None</td>\n",
       "      <td>None</td>\n",
       "      <td>(La dolce vita, Fellini 8½, Una jornada partic...</td>\n",
       "    </tr>\n",
       "    <tr>\n",
       "      <th>19</th>\n",
       "      <td>António Rama</td>\n",
       "      <td>None</td>\n",
       "      <td>None</td>\n",
       "      <td>None</td>\n",
       "      <td>(Der fliegende Holländer, Sweet Movie, Smarkul...</td>\n",
       "    </tr>\n",
       "    <tr>\n",
       "      <th>20</th>\n",
       "      <td>Marcello Mastroianni</td>\n",
       "      <td>28 de septiembre de 1924</td>\n",
       "      <td>(1988 Nominado Oscar, 1978 Nominado Oscar, 196...</td>\n",
       "      <td>(1994 Nominado Silver Condor,)</td>\n",
       "      <td>(Cuatro bodas y un funeral, Suite francesa, La...</td>\n",
       "    </tr>\n",
       "    <tr>\n",
       "      <th>21</th>\n",
       "      <td>Anna Prucnal</td>\n",
       "      <td>17 de diciembre de 1940</td>\n",
       "      <td>None</td>\n",
       "      <td>None</td>\n",
       "      <td>(El jeque blanco, Il tempo dell'inizio, ¡Qué f...</td>\n",
       "    </tr>\n",
       "    <tr>\n",
       "      <th>22</th>\n",
       "      <td>Bernice Stegers</td>\n",
       "      <td>12 de julio de 1949</td>\n",
       "      <td>None</td>\n",
       "      <td>None</td>\n",
       "      <td>(Il peccato di Lola, La ciudad de las mujeres,...</td>\n",
       "    </tr>\n",
       "    <tr>\n",
       "      <th>23</th>\n",
       "      <td>Jole Silvani</td>\n",
       "      <td>9 de diciembre de 1910</td>\n",
       "      <td>None</td>\n",
       "      <td>None</td>\n",
       "      <td>(La pequeña sirenita, El lago de los cisnes, B...</td>\n",
       "    </tr>\n",
       "    <tr>\n",
       "      <th>24</th>\n",
       "      <td>Donatella Damiani</td>\n",
       "      <td>6 de enero de 1955</td>\n",
       "      <td>None</td>\n",
       "      <td>None</td>\n",
       "      <td>(Trono de sangre, Ninja bugeicho momochi sanda...</td>\n",
       "    </tr>\n",
       "    <tr>\n",
       "      <th>25</th>\n",
       "      <td>Tarô Shigaki</td>\n",
       "      <td>22 de septiembre de 1951</td>\n",
       "      <td>None</td>\n",
       "      <td>None</td>\n",
       "      <td>(Saraba Uchû Senkan Yamato: Ai no Senshitachi,...</td>\n",
       "    </tr>\n",
       "    <tr>\n",
       "      <th>26</th>\n",
       "      <td>Asao Koike</td>\n",
       "      <td>18 de marzo de 1931</td>\n",
       "      <td>None</td>\n",
       "      <td>None</td>\n",
       "      <td>(Perfect Days, Berusaiyu no bara, Gôgô sentai ...</td>\n",
       "    </tr>\n",
       "    <tr>\n",
       "      <th>27</th>\n",
       "      <td>Yôko Asagami</td>\n",
       "      <td>10 de julio de 1952</td>\n",
       "      <td>None</td>\n",
       "      <td>None</td>\n",
       "      <td>(¿Quién teme a Virginia Woolf?, 1984, El espía...</td>\n",
       "    </tr>\n",
       "    <tr>\n",
       "      <th>28</th>\n",
       "      <td>Yoneko Matsukane</td>\n",
       "      <td>22 de octubre de 1949</td>\n",
       "      <td>None</td>\n",
       "      <td>None</td>\n",
       "      <td>(Star Trek: Voyager, Orange Is the New Black, ...</td>\n",
       "    </tr>\n",
       "    <tr>\n",
       "      <th>29</th>\n",
       "      <td>Richard Burton</td>\n",
       "      <td>10 de noviembre de 1925</td>\n",
       "      <td>(1978 Nominado Oscar, 1970 Nominado Oscar, 196...</td>\n",
       "      <td>(1968 Ganador Bambi,)</td>\n",
       "      <td>(Excalibur, Muerte bajo el sol, Amanecer zulú,...</td>\n",
       "    </tr>\n",
       "    <tr>\n",
       "      <th>30</th>\n",
       "      <td>Kate Mulgrew</td>\n",
       "      <td>29 de abril de 1955</td>\n",
       "      <td>(2021 Nominado Saturn Award, 2001 Nominado Sat...</td>\n",
       "      <td>(2014 Nominado Primetime Emmy,)</td>\n",
       "      <td>(Fahrenheit 451, 1984, Chacal, Un horizonte mu...</td>\n",
       "    </tr>\n",
       "    <tr>\n",
       "      <th>31</th>\n",
       "      <td>Nicholas Clay</td>\n",
       "      <td>18 de septiembre de 1946</td>\n",
       "      <td>None</td>\n",
       "      <td>None</td>\n",
       "      <td>(Amarga victoria, Cumbres borrascosas, Arthur,...</td>\n",
       "    </tr>\n",
       "    <tr>\n",
       "      <th>32</th>\n",
       "      <td>Cyril Cusack</td>\n",
       "      <td>26 de noviembre de 1910</td>\n",
       "      <td>None</td>\n",
       "      <td>None</td>\n",
       "      <td>(La gran vida, The Getaway, La Celestina, La c...</td>\n",
       "    </tr>\n",
       "    <tr>\n",
       "      <th>33</th>\n",
       "      <td>Geraldine Fitzgerald</td>\n",
       "      <td>24 de noviembre de 1913</td>\n",
       "      <td>(1940 Nominado Oscar,)</td>\n",
       "      <td>(1978 Nominado AFI Award,)</td>\n",
       "      <td>(La capilla ardiente, Curro Jiménez, El arte d...</td>\n",
       "    </tr>\n",
       "    <tr>\n",
       "      <th>34</th>\n",
       "      <td>Miguel Ayones</td>\n",
       "      <td>None</td>\n",
       "      <td>None</td>\n",
       "      <td>None</td>\n",
       "      <td>(Corazón salvaje, Las grandes aguas, Extraños ...</td>\n",
       "    </tr>\n",
       "    <tr>\n",
       "      <th>35</th>\n",
       "      <td>Beatriz Galbó</td>\n",
       "      <td>24 de diciembre de 1951</td>\n",
       "      <td>None</td>\n",
       "      <td>None</td>\n",
       "      <td>(Un largo adiós, El águila descalza, Dos mulas...</td>\n",
       "    </tr>\n",
       "    <tr>\n",
       "      <th>36</th>\n",
       "      <td>Lucy Tovar</td>\n",
       "      <td>1952</td>\n",
       "      <td>None</td>\n",
       "      <td>None</td>\n",
       "      <td>(Tiempo de victoria: La dinastía de Los Lakers...</td>\n",
       "    </tr>\n",
       "    <tr>\n",
       "      <th>37</th>\n",
       "      <td>Pancho Córdova</td>\n",
       "      <td>17 de agosto de 1916</td>\n",
       "      <td>(1974 Ganador Silver Ariel, 1972 Ganador Silve...</td>\n",
       "      <td>(1979 Ganador Premio ACE, 1975 Ganador Premio ...</td>\n",
       "      <td>(Un paseo por las nubes, Mis hombres y yo, Gue...</td>\n",
       "    </tr>\n",
       "    <tr>\n",
       "      <th>38</th>\n",
       "      <td>Ricardo Díaz</td>\n",
       "      <td>5 de diciembre de 1983</td>\n",
       "      <td>(2024 Nominado ASC Award,)</td>\n",
       "      <td>()</td>\n",
       "      <td>(¿Teléfono rojo? Volamos hacia Moscú, Sillas d...</td>\n",
       "    </tr>\n",
       "    <tr>\n",
       "      <th>39</th>\n",
       "      <td>Mark Miller</td>\n",
       "      <td>20 de noviembre de 1924</td>\n",
       "      <td>None</td>\n",
       "      <td>None</td>\n",
       "      <td>(Halloween 4: El regreso de Michael Myers, Pie...</td>\n",
       "    </tr>\n",
       "    <tr>\n",
       "      <th>40</th>\n",
       "      <td>Slim Pickens</td>\n",
       "      <td>29 de junio de 1919</td>\n",
       "      <td>(1982 Ganador Hall of Great Western Performers,)</td>\n",
       "      <td>(1983 Ganador Golden Boot,)</td>\n",
       "      <td>(Brigham, Viaje salvaje, Noche en el tren del ...</td>\n",
       "    </tr>\n",
       "    <tr>\n",
       "      <th>41</th>\n",
       "      <td>Jack Glenn Evans</td>\n",
       "      <td>None</td>\n",
       "      <td>None</td>\n",
       "      <td>None</td>\n",
       "      <td>(Haiducii, Bunicul si doi delincventi minori, ...</td>\n",
       "    </tr>\n",
       "    <tr>\n",
       "      <th>42</th>\n",
       "      <td>Logan Field</td>\n",
       "      <td>12 de junio de 1922</td>\n",
       "      <td>None</td>\n",
       "      <td>None</td>\n",
       "      <td>(Pu-239, Femeia din Ursa Mare, Iancu Jianu, za...</td>\n",
       "    </tr>\n",
       "    <tr>\n",
       "      <th>43</th>\n",
       "      <td>Maurice Grandmaison</td>\n",
       "      <td>None</td>\n",
       "      <td>None</td>\n",
       "      <td>None</td>\n",
       "      <td>(Alarma en el delta, Doi barbati pentru o moar...</td>\n",
       "    </tr>\n",
       "  </tbody>\n",
       "</table>\n",
       "</div>"
      ],
      "text/plain": [
       "                  Nombre                Nacimiento  \\\n",
       "0        Kaneto Shiozawa       28 de enero de 1954   \n",
       "1        Keiko Takeshita  15 de septiembre de 1953   \n",
       "2          Hiroshi Ôtake       14 de marzo de 1932   \n",
       "3            Katsue Miwa     12 de octubre de 1943   \n",
       "4        Kazue Takahashi       20 de marzo de 1928   \n",
       "5             Dharmendra    8 de diciembre de 1935   \n",
       "6            Hema Malini     16 de octubre de 1948   \n",
       "7            Zeenat Aman   19 de noviembre de 1951   \n",
       "8            Prem Chopra  23 de septiembre de 1935   \n",
       "9   Zakir Mukhamedzhanov        1 de enero de 1921   \n",
       "10           Jean Martin        6 de marzo de 1922   \n",
       "11       Pascal Mazzotti   16 de diciembre de 1923   \n",
       "12     Raymond Bussières    3 de noviembre de 1907   \n",
       "13           Agnès Viala                      None   \n",
       "14           Renaud Marx      20 de agosto de 1959   \n",
       "15       Antonino Solmer        2 de marzo de 1950   \n",
       "16          Márcia Breia       17 de junio de 1944   \n",
       "17         Adelaide João       27 de julio de 1921   \n",
       "18   António Cara D'Anjo       19 de abril de 1954   \n",
       "19          António Rama                      None   \n",
       "20  Marcello Mastroianni  28 de septiembre de 1924   \n",
       "21          Anna Prucnal   17 de diciembre de 1940   \n",
       "22       Bernice Stegers       12 de julio de 1949   \n",
       "23          Jole Silvani    9 de diciembre de 1910   \n",
       "24     Donatella Damiani        6 de enero de 1955   \n",
       "25          Tarô Shigaki  22 de septiembre de 1951   \n",
       "26            Asao Koike       18 de marzo de 1931   \n",
       "27          Yôko Asagami       10 de julio de 1952   \n",
       "28      Yoneko Matsukane     22 de octubre de 1949   \n",
       "29        Richard Burton   10 de noviembre de 1925   \n",
       "30          Kate Mulgrew       29 de abril de 1955   \n",
       "31         Nicholas Clay  18 de septiembre de 1946   \n",
       "32          Cyril Cusack   26 de noviembre de 1910   \n",
       "33  Geraldine Fitzgerald   24 de noviembre de 1913   \n",
       "34         Miguel Ayones                      None   \n",
       "35         Beatriz Galbó   24 de diciembre de 1951   \n",
       "36            Lucy Tovar                      1952   \n",
       "37        Pancho Córdova      17 de agosto de 1916   \n",
       "38          Ricardo Díaz    5 de diciembre de 1983   \n",
       "39           Mark Miller   20 de noviembre de 1924   \n",
       "40          Slim Pickens       29 de junio de 1919   \n",
       "41      Jack Glenn Evans                      None   \n",
       "42           Logan Field       12 de junio de 1922   \n",
       "43   Maurice Grandmaison                      None   \n",
       "\n",
       "                                              Premios  \\\n",
       "0                                                None   \n",
       "1      (1994 Nominado Award of the Japanese Academy,)   \n",
       "2                   (2015 Ganador Achievement Award,)   \n",
       "3                                                None   \n",
       "4                                                None   \n",
       "5   (1997 Ganador Lifetime Achievement Award, 1991...   \n",
       "6   (2019 Ganador Special Award, 2004 Nominado Fil...   \n",
       "7   (1981 Nominado Filmfare Award, 1979 Nominado F...   \n",
       "8   (2023 Ganador Lifetime Achievement Award, 1977...   \n",
       "9     (1964 Ganador People's Artist of the Republic,)   \n",
       "10                        (1968 Nominado NSFC Award,)   \n",
       "11                                               None   \n",
       "12                                               None   \n",
       "13                                               None   \n",
       "14                                               None   \n",
       "15                                               None   \n",
       "16  (2019 Nominado CinEuphoria, 2018 Ganador CinEu...   \n",
       "17                        (2011 Ganador CinEuphoria,)   \n",
       "18                                               None   \n",
       "19                                               None   \n",
       "20  (1988 Nominado Oscar, 1978 Nominado Oscar, 196...   \n",
       "21                                               None   \n",
       "22                                               None   \n",
       "23                                               None   \n",
       "24                                               None   \n",
       "25                                               None   \n",
       "26                                               None   \n",
       "27                                               None   \n",
       "28                                               None   \n",
       "29  (1978 Nominado Oscar, 1970 Nominado Oscar, 196...   \n",
       "30  (2021 Nominado Saturn Award, 2001 Nominado Sat...   \n",
       "31                                               None   \n",
       "32                                               None   \n",
       "33                             (1940 Nominado Oscar,)   \n",
       "34                                               None   \n",
       "35                                               None   \n",
       "36                                               None   \n",
       "37  (1974 Ganador Silver Ariel, 1972 Ganador Silve...   \n",
       "38                         (2024 Nominado ASC Award,)   \n",
       "39                                               None   \n",
       "40   (1982 Ganador Hall of Great Western Performers,)   \n",
       "41                                               None   \n",
       "42                                               None   \n",
       "43                                               None   \n",
       "\n",
       "                                         Nominaciones  \\\n",
       "0                                                None   \n",
       "1            (1993 Ganador Nikkan Sports Film Award,)   \n",
       "2                                                  ()   \n",
       "3                                                None   \n",
       "4                                                None   \n",
       "5          (2007 Ganador Lifetime Achievement Award,)   \n",
       "6                      (2004 Nominado Popular Award,)   \n",
       "7                       (2010 Ganador Special Award,)   \n",
       "8   (2020 Ganador Special Award, 2010 Nominado Scr...   \n",
       "9         (1977 Ganador People's Artist of the USSR,)   \n",
       "10                                                 ()   \n",
       "11                                               None   \n",
       "12                                               None   \n",
       "13                                               None   \n",
       "14                                               None   \n",
       "15                                               None   \n",
       "16                   (2009 Ganador Andorinha Trophy,)   \n",
       "17                             (2017 Ganador Sophia,)   \n",
       "18                                               None   \n",
       "19                                               None   \n",
       "20                     (1994 Nominado Silver Condor,)   \n",
       "21                                               None   \n",
       "22                                               None   \n",
       "23                                               None   \n",
       "24                                               None   \n",
       "25                                               None   \n",
       "26                                               None   \n",
       "27                                               None   \n",
       "28                                               None   \n",
       "29                              (1968 Ganador Bambi,)   \n",
       "30                    (2014 Nominado Primetime Emmy,)   \n",
       "31                                               None   \n",
       "32                                               None   \n",
       "33                         (1978 Nominado AFI Award,)   \n",
       "34                                               None   \n",
       "35                                               None   \n",
       "36                                               None   \n",
       "37  (1979 Ganador Premio ACE, 1975 Ganador Premio ...   \n",
       "38                                                 ()   \n",
       "39                                               None   \n",
       "40                        (1983 Ganador Golden Boot,)   \n",
       "41                                               None   \n",
       "42                                               None   \n",
       "43                                               None   \n",
       "\n",
       "                                         Conocido por  \n",
       "0   (Vampire Hunter: Cazador De Espíritus, Metal G...  \n",
       "1   (El viento se levanta, La colina de las amapol...  \n",
       "2   (Akira, Capitán Harlock, Meteoro, Gekisô senta...  \n",
       "3   (Ghost in the Shell, Dragon Ball, Unico en la ...  \n",
       "4   (Ironman 28, Chôriki sentai Ôrenjâ, Osomatsu-k...  \n",
       "5   (Sholay, Ghayal, Ayee Milan Ki Bela, Yaadon Ki...  \n",
       "6               (Baghban, Sholay, Prem Nagar, Naseeb)  \n",
       "7    (Don, Haré Rama Haré Krishna, Laawaris, Samraat)  \n",
       "8   (Koi... Mil Gaya, Do Anjaane, Animal, Gehri Ch...  \n",
       "9   (Sohni Mahiwal, Ozornik, Dalyokie blizkie gody...  \n",
       "10  (La batalla de Argel, Chacal, Mi nombre es Nin...  \n",
       "11  (D'Artagnan, Aux frontières du possible, Au th...  \n",
       "12  (Encuentro en París, París, bajos fondos, Le j...  \n",
       "13  (Julie Lescaut, L'état de grâce, Historia de u...  \n",
       "14  (O Príncipe com Orelhas de Burro, O Beijo de J...  \n",
       "15  (Mal Nascida, Curral de Moinas - Os Banqueiros...  \n",
       "16  (O Luto de Electra, Anjo Selvagem, Um Lugar Pa...  \n",
       "17  (Terra Estrangeira, La máscara vengadora: Laga...  \n",
       "18  (La dolce vita, Fellini 8½, Una jornada partic...  \n",
       "19  (Der fliegende Holländer, Sweet Movie, Smarkul...  \n",
       "20  (Cuatro bodas y un funeral, Suite francesa, La...  \n",
       "21  (El jeque blanco, Il tempo dell'inizio, ¡Qué f...  \n",
       "22  (Il peccato di Lola, La ciudad de las mujeres,...  \n",
       "23  (La pequeña sirenita, El lago de los cisnes, B...  \n",
       "24  (Trono de sangre, Ninja bugeicho momochi sanda...  \n",
       "25  (Saraba Uchû Senkan Yamato: Ai no Senshitachi,...  \n",
       "26  (Perfect Days, Berusaiyu no bara, Gôgô sentai ...  \n",
       "27  (¿Quién teme a Virginia Woolf?, 1984, El espía...  \n",
       "28  (Star Trek: Voyager, Orange Is the New Black, ...  \n",
       "29  (Excalibur, Muerte bajo el sol, Amanecer zulú,...  \n",
       "30  (Fahrenheit 451, 1984, Chacal, Un horizonte mu...  \n",
       "31  (Amarga victoria, Cumbres borrascosas, Arthur,...  \n",
       "32  (La gran vida, The Getaway, La Celestina, La c...  \n",
       "33  (La capilla ardiente, Curro Jiménez, El arte d...  \n",
       "34  (Corazón salvaje, Las grandes aguas, Extraños ...  \n",
       "35  (Un largo adiós, El águila descalza, Dos mulas...  \n",
       "36  (Tiempo de victoria: La dinastía de Los Lakers...  \n",
       "37  (Un paseo por las nubes, Mis hombres y yo, Gue...  \n",
       "38  (¿Teléfono rojo? Volamos hacia Moscú, Sillas d...  \n",
       "39  (Halloween 4: El regreso de Michael Myers, Pie...  \n",
       "40  (Brigham, Viaje salvaje, Noche en el tren del ...  \n",
       "41  (Haiducii, Bunicul si doi delincventi minori, ...  \n",
       "42  (Pu-239, Femeia din Ursa Mare, Iancu Jianu, za...  \n",
       "43  (Alarma en el delta, Doi barbati pentru o moar...  "
      ]
     },
     "execution_count": 12,
     "metadata": {},
     "output_type": "execute_result"
    }
   ],
   "source": [
    "df_elenco = pd.DataFrame(fantasy_elenco)\n",
    "df_elenco.columns = ['Nombre', 'Nacimiento', 'Premios', 'Nominaciones', 'Conocido por']\n",
    "df_elenco"
   ]
  },
  {
   "cell_type": "code",
   "execution_count": 13,
   "metadata": {},
   "outputs": [],
   "source": [
    "df_elenco.to_csv(\"Fantasy_elenco.csv\")"
   ]
  }
 ],
 "metadata": {
  "kernelspec": {
   "display_name": "Python 3",
   "language": "python",
   "name": "python3"
  },
  "language_info": {
   "codemirror_mode": {
    "name": "ipython",
    "version": 3
   },
   "file_extension": ".py",
   "mimetype": "text/x-python",
   "name": "python",
   "nbconvert_exporter": "python",
   "pygments_lexer": "ipython3",
   "version": "3.12.4"
  }
 },
 "nbformat": 4,
 "nbformat_minor": 2
}
