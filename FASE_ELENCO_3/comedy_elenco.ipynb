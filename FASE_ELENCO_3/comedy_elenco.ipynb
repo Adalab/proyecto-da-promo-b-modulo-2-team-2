{
 "cells": [
  {
   "cell_type": "code",
   "execution_count": 1,
   "metadata": {},
   "outputs": [],
   "source": [
    "import pandas as pd\n",
    "from selenium import webdriver  # Selenium es una herramienta para automatizar la interacción con navegadores web.\n",
    "from webdriver_manager.chrome import ChromeDriverManager  # ChromeDriverManager gestiona la instalación del controlador de Chrome.\n",
    "from selenium.webdriver.common.keys import Keys  # Keys es útil para simular eventos de teclado en Selenium.\n",
    "from selenium.webdriver.support.ui import Select  # Select se utiliza para interactuar con elementos <select> en páginas web.\n",
    "from tqdm import tqdm\n",
    "from time import sleep"
   ]
  },
  {
   "cell_type": "code",
   "execution_count": 2,
   "metadata": {},
   "outputs": [
    {
     "name": "stdout",
     "output_type": "stream",
     "text": [
      "      idOwner                           Title   Type  Year   Genre\n",
      "0   tt0068745             Intime Liebschaften  Movie  1980  Comedy\n",
      "1   tt0075332  Zärtlich, aber frech wie Oskar  Movie  1980  Comedy\n",
      "2   tt0076464                   You ni mei ni  Movie  1980  Comedy\n",
      "3   tt0076580                   Qian zuo guai  Movie  1980  Comedy\n",
      "4   tt0077367          Consultorio sexológico  Movie  1980  Comedy\n",
      "..        ...                             ...    ...   ...     ...\n",
      "82  tt0102952                    Prima Donnas  Movie  1995  Comedy\n",
      "83  tt0101616                    Coolie No. 1  Movie  1995  Comedy\n",
      "84  tt0102532                   Night Visions  Movie  1995  Comedy\n",
      "85  tt0108576                   Witch Academy  Movie  1995  Comedy\n",
      "86  tt0107537             Mécaniques célestes  Movie  1995  Comedy\n",
      "\n",
      "[87 rows x 5 columns]\n",
      "['tt0068745', 'tt0075332', 'tt0076464', 'tt0076580', 'tt0077367', 'tt0077428', 'tt0077883', 'tt0078853', 'tt0078304', 'tt0072173', 'tt0075816', 'tt0079396', 'tt0079650', 'tt0076041', 'tt0077731', 'tt0077885', 'tt0078411', 'tt0078834', 'tt0079720', 'tt0080393', 'tt0080680', 'tt0077173', 'tt0079509', 'tt0079915', 'tt0082788', 'tt0083715', 'tt0083518', 'tt0083640', 'tt0083592', 'tt0082469', 'tt0081674', 'tt0082670', 'tt0083013', 'tt0084533', 'tt0082674', 'tt0085455', 'tt0085860', 'tt0085437', 'tt0086595', 'tt0087560', 'tt0087978', 'tt0066020', 'tt0085690', 'tt0086025', 'tt0086028', 'tt0087945', 'tt0088468', 'tt0085708', 'tt0089727', 'tt0086964', 'tt0089758', 'tt0089878', 'tt0081766', 'tt0089280', 'tt0090681', 'tt0091158', 'tt0092773', 'tt0092503', 'tt0064820', 'tt0080828', 'tt0080755', 'tt0087634', 'tt0093268', 'tt0094735', 'tt0094123', 'tt0091899', 'tt0095840', 'tt0097253', 'tt0096506', 'tt0088267', 'tt0093309', 'tt0092984', 'tt0097122', 'tt0097111', 'tt0096154', 'tt0097775', 'tt0099089', 'tt0098965', 'tt0103592', 'tt0101644', 'tt0103951', 'tt0103770', 'tt0102952', 'tt0101616', 'tt0102532', 'tt0108576', 'tt0107537']\n"
     ]
    }
   ],
   "source": [
    "df_comedy = pd.read_csv(\"Comedy.csv\")\n",
    "\n",
    "print(df_comedy)\n",
    "\n",
    "idOwner = []\n",
    "\n",
    "for i in df_comedy[\"idOwner\"]:\n",
    "    idOwner.append(i)\n",
    "    \n",
    "\n",
    "print(idOwner)"
   ]
  },
  {
   "cell_type": "code",
   "execution_count": 3,
   "metadata": {},
   "outputs": [
    {
     "data": {
      "text/plain": [
       "['tt0068745',\n",
       " 'tt0075332',\n",
       " 'tt0076464',\n",
       " 'tt0076580',\n",
       " 'tt0077367',\n",
       " 'tt0077428',\n",
       " 'tt0077883',\n",
       " 'tt0078853',\n",
       " 'tt0078304',\n",
       " 'tt0072173']"
      ]
     },
     "execution_count": 3,
     "metadata": {},
     "output_type": "execute_result"
    }
   ],
   "source": [
    "lista_id_peliculas_cortas = idOwner[:10]\n",
    "lista_id_peliculas_cortas"
   ]
  },
  {
   "cell_type": "code",
   "execution_count": 4,
   "metadata": {},
   "outputs": [
    {
     "name": "stderr",
     "output_type": "stream",
     "text": [
      " 30%|███       | 3/10 [00:08<00:19,  2.75s/it]"
     ]
    },
    {
     "name": "stdout",
     "output_type": "stream",
     "text": [
      "No se encontraron actores\n",
      "No se encontraron actores\n"
     ]
    },
    {
     "name": "stderr",
     "output_type": "stream",
     "text": [
      "100%|██████████| 10/10 [00:27<00:00,  2.80s/it]\n"
     ]
    }
   ],
   "source": [
    "driver = webdriver.Chrome()\n",
    "\n",
    "driver.get('https://www.imdb.com/')\n",
    "\n",
    "driver.maximize_window()\n",
    "\n",
    "sleep (3)\n",
    "\n",
    "list_actors_by_movie = []\n",
    "\n",
    "list_all_actors = []\n",
    "\n",
    "for peli in tqdm(lista_id_peliculas_cortas):\n",
    "    \n",
    "    driver.find_element('css selector', '#suggestion-search').send_keys(peli, Keys.ENTER)\n",
    "    for i in range(1,6): # porque estamos cogiendo los 10 primeros actores\n",
    "        try:\n",
    "            actor = driver.find_element('css selector', f'#__next > main > div > section.ipc-page-background.ipc-page-background--base.sc-c41b9732-0.NeSef > div > section > div > div.sc-978e9339-1.ihWZgK.ipc-page-grid__item.ipc-page-grid__item--span-2 > section.ipc-page-section.ipc-page-section--base.sc-bfec09a1-0.jgUBLM.title-cast.title-cast--movie.celwidget > div.ipc-shoveler.ipc-shoveler--base.ipc-shoveler--page0.title-cast__grid > div.ipc-sub-grid.ipc-sub-grid--page-span-2.ipc-sub-grid--wraps-at-above-l.ipc-shoveler__grid > div:nth-child({i}) > div.sc-bfec09a1-7.gWwKlt > a').text\n",
    "            list_actors_by_movie.append({'nombre': actor, 'id_pelicula': peli})\n",
    "            # Para no repetir los actores y sacar una lista de actores:\n",
    "            \n",
    "            if(actor not in list_all_actors):\n",
    "                list_all_actors.append(actor)\n",
    "            \n",
    "        except:\n",
    "            print('No se encontraron actores')\n",
    "\n",
    "driver.close()\n"
   ]
  },
  {
   "cell_type": "code",
   "execution_count": 5,
   "metadata": {},
   "outputs": [
    {
     "data": {
      "text/plain": [
       "[{'nombre': 'Rainer Abendroth', 'id_pelicula': 'tt0068745'},\n",
       " {'nombre': 'Günther Amann', 'id_pelicula': 'tt0068745'},\n",
       " {'nombre': 'Peter Bond', 'id_pelicula': 'tt0068745'},\n",
       " {'nombre': 'Petra Dyrthen', 'id_pelicula': 'tt0068745'},\n",
       " {'nombre': 'Diana Jovanovic', 'id_pelicula': 'tt0068745'},\n",
       " {'nombre': 'Régis Porte', 'id_pelicula': 'tt0075332'},\n",
       " {'nombre': 'Patricia Zenker', 'id_pelicula': 'tt0075332'},\n",
       " {'nombre': 'Tobias Meister', 'id_pelicula': 'tt0075332'},\n",
       " {'nombre': 'Herbert Fux', 'id_pelicula': 'tt0075332'},\n",
       " {'nombre': 'Renate Langer', 'id_pelicula': 'tt0075332'},\n",
       " {'nombre': 'Paul Che', 'id_pelicula': 'tt0076464'},\n",
       " {'nombre': 'Ching Yee Chong', 'id_pelicula': 'tt0076464'},\n",
       " {'nombre': 'Chun-Hua Li', 'id_pelicula': 'tt0076464'},\n",
       " {'nombre': 'Ricky Hui', 'id_pelicula': 'tt0076580'},\n",
       " {'nombre': 'Chi-Chi Chen', 'id_pelicula': 'tt0076580'},\n",
       " {'nombre': 'Ka Yik', 'id_pelicula': 'tt0076580'},\n",
       " {'nombre': 'Jing Tang', 'id_pelicula': 'tt0076580'},\n",
       " {'nombre': 'Johnny Koo', 'id_pelicula': 'tt0076580'},\n",
       " {'nombre': 'Lidia Zuazo', 'id_pelicula': 'tt0077367'},\n",
       " {'nombre': 'Saturno Cerra', 'id_pelicula': 'tt0077367'},\n",
       " {'nombre': 'Fabián Conde', 'id_pelicula': 'tt0077367'},\n",
       " {'nombre': 'Valerio Ferrer', 'id_pelicula': 'tt0077367'},\n",
       " {'nombre': 'Maika Lesley', 'id_pelicula': 'tt0077367'},\n",
       " {'nombre': 'Tony Curtis', 'id_pelicula': 'tt0077428'},\n",
       " {'nombre': 'Louis Gossett Jr.', 'id_pelicula': 'tt0077428'},\n",
       " {'nombre': 'Sally Kellerman', 'id_pelicula': 'tt0077428'},\n",
       " {'nombre': 'John Vernon', 'id_pelicula': 'tt0077428'},\n",
       " {'nombre': 'Lisa Langlois', 'id_pelicula': 'tt0077428'},\n",
       " {'nombre': 'Eduard Cupák', 'id_pelicula': 'tt0077883'},\n",
       " {'nombre': 'Vladimír Mensík', 'id_pelicula': 'tt0077883'},\n",
       " {'nombre': 'Lukás Vaculík', 'id_pelicula': 'tt0077883'},\n",
       " {'nombre': 'Michal Dlouhý', 'id_pelicula': 'tt0077883'},\n",
       " {'nombre': 'Jan Hrusínský', 'id_pelicula': 'tt0077883'},\n",
       " {'nombre': 'Bernd Stephan', 'id_pelicula': 'tt0078853'},\n",
       " {'nombre': 'Anny Duperey', 'id_pelicula': 'tt0078853'},\n",
       " {'nombre': 'Hans Beerhenke', 'id_pelicula': 'tt0078853'},\n",
       " {'nombre': 'Ivan Desny', 'id_pelicula': 'tt0078853'},\n",
       " {'nombre': 'Adrian Hoven', 'id_pelicula': 'tt0078853'},\n",
       " {'nombre': 'Monika Dzienisiewicz-Olbrychska', 'id_pelicula': 'tt0078304'},\n",
       " {'nombre': 'Krzysztof Kalczynski', 'id_pelicula': 'tt0078304'},\n",
       " {'nombre': 'Olgierd Lukaszewicz', 'id_pelicula': 'tt0078304'},\n",
       " {'nombre': 'Hanna Mikuc', 'id_pelicula': 'tt0078304'},\n",
       " {'nombre': 'Jerzy Nowak', 'id_pelicula': 'tt0078304'},\n",
       " {'nombre': 'Terry Congie', 'id_pelicula': 'tt0072173'},\n",
       " {'nombre': 'Lesley Brander', 'id_pelicula': 'tt0072173'},\n",
       " {'nombre': 'Roselyn Royce', 'id_pelicula': 'tt0072173'},\n",
       " {'nombre': 'Robert Acey', 'id_pelicula': 'tt0072173'},\n",
       " {'nombre': 'Kevin Costner', 'id_pelicula': 'tt0072173'}]"
      ]
     },
     "execution_count": 5,
     "metadata": {},
     "output_type": "execute_result"
    }
   ],
   "source": [
    "list_actors_by_movie"
   ]
  },
  {
   "cell_type": "code",
   "execution_count": 6,
   "metadata": {},
   "outputs": [
    {
     "data": {
      "text/plain": [
       "['Rainer Abendroth',\n",
       " 'Günther Amann',\n",
       " 'Peter Bond',\n",
       " 'Petra Dyrthen',\n",
       " 'Diana Jovanovic',\n",
       " 'Régis Porte',\n",
       " 'Patricia Zenker',\n",
       " 'Tobias Meister',\n",
       " 'Herbert Fux',\n",
       " 'Renate Langer',\n",
       " 'Paul Che',\n",
       " 'Ching Yee Chong',\n",
       " 'Chun-Hua Li',\n",
       " 'Ricky Hui',\n",
       " 'Chi-Chi Chen',\n",
       " 'Ka Yik',\n",
       " 'Jing Tang',\n",
       " 'Johnny Koo',\n",
       " 'Lidia Zuazo',\n",
       " 'Saturno Cerra',\n",
       " 'Fabián Conde',\n",
       " 'Valerio Ferrer',\n",
       " 'Maika Lesley',\n",
       " 'Tony Curtis',\n",
       " 'Louis Gossett Jr.',\n",
       " 'Sally Kellerman',\n",
       " 'John Vernon',\n",
       " 'Lisa Langlois',\n",
       " 'Eduard Cupák',\n",
       " 'Vladimír Mensík',\n",
       " 'Lukás Vaculík',\n",
       " 'Michal Dlouhý',\n",
       " 'Jan Hrusínský',\n",
       " 'Bernd Stephan',\n",
       " 'Anny Duperey',\n",
       " 'Hans Beerhenke',\n",
       " 'Ivan Desny',\n",
       " 'Adrian Hoven',\n",
       " 'Monika Dzienisiewicz-Olbrychska',\n",
       " 'Krzysztof Kalczynski',\n",
       " 'Olgierd Lukaszewicz',\n",
       " 'Hanna Mikuc',\n",
       " 'Jerzy Nowak',\n",
       " 'Terry Congie',\n",
       " 'Lesley Brander',\n",
       " 'Roselyn Royce',\n",
       " 'Robert Acey',\n",
       " 'Kevin Costner']"
      ]
     },
     "execution_count": 6,
     "metadata": {},
     "output_type": "execute_result"
    }
   ],
   "source": [
    "list_all_actors"
   ]
  },
  {
   "cell_type": "code",
   "execution_count": 11,
   "metadata": {},
   "outputs": [
    {
     "name": "stderr",
     "output_type": "stream",
     "text": [
      "  0%|          | 0/48 [00:00<?, ?it/s]"
     ]
    },
    {
     "name": "stdout",
     "output_type": "stream",
     "text": [
      "El actor Rainer Abendroth no es conocido por nada más  \n",
      "Este actor no tiene premios\n"
     ]
    },
    {
     "name": "stderr",
     "output_type": "stream",
     "text": [
      "  2%|▏         | 1/48 [00:14<11:38, 14.85s/it]"
     ]
    },
    {
     "name": "stdout",
     "output_type": "stream",
     "text": [
      "El actor Günther Amann no es conocido por nada más  \n",
      "Este actor no tiene premios\n"
     ]
    },
    {
     "name": "stderr",
     "output_type": "stream",
     "text": [
      "  4%|▍         | 2/48 [00:28<10:47, 14.07s/it]"
     ]
    },
    {
     "name": "stdout",
     "output_type": "stream",
     "text": [
      "Este actor no tiene premios\n"
     ]
    },
    {
     "name": "stderr",
     "output_type": "stream",
     "text": [
      "  6%|▋         | 3/48 [00:45<11:39, 15.53s/it]"
     ]
    },
    {
     "name": "stdout",
     "output_type": "stream",
     "text": [
      "El actor Petra Dyrthen no es conocido por nada más  \n",
      "Este actor no tiene premios\n"
     ]
    },
    {
     "name": "stderr",
     "output_type": "stream",
     "text": [
      "  8%|▊         | 4/48 [01:00<11:12, 15.29s/it]"
     ]
    },
    {
     "name": "stdout",
     "output_type": "stream",
     "text": [
      "El actor Diana Jovanovic no es conocido por nada más  \n",
      "Este actor no tiene premios\n"
     ]
    },
    {
     "name": "stderr",
     "output_type": "stream",
     "text": [
      " 10%|█         | 5/48 [01:15<10:48, 15.09s/it]"
     ]
    },
    {
     "name": "stdout",
     "output_type": "stream",
     "text": [
      "Este actor no tiene premios\n"
     ]
    },
    {
     "name": "stderr",
     "output_type": "stream",
     "text": [
      " 12%|█▎        | 6/48 [01:31<10:46, 15.39s/it]"
     ]
    },
    {
     "name": "stdout",
     "output_type": "stream",
     "text": [
      "El actor Patricia Zenker no es conocido por nada más  \n",
      "Este actor no tiene premios\n"
     ]
    },
    {
     "name": "stderr",
     "output_type": "stream",
     "text": [
      " 15%|█▍        | 7/48 [01:45<10:17, 15.07s/it]"
     ]
    },
    {
     "name": "stdout",
     "output_type": "stream",
     "text": [
      "Este actor no tiene premios\n"
     ]
    },
    {
     "name": "stderr",
     "output_type": "stream",
     "text": [
      " 17%|█▋        | 8/48 [02:02<10:20, 15.52s/it]"
     ]
    },
    {
     "name": "stdout",
     "output_type": "stream",
     "text": [
      "Este actor no tiene premios\n"
     ]
    },
    {
     "name": "stderr",
     "output_type": "stream",
     "text": [
      " 19%|█▉        | 9/48 [02:19<10:21, 15.93s/it]"
     ]
    },
    {
     "name": "stdout",
     "output_type": "stream",
     "text": [
      "Este actor no tiene premios\n"
     ]
    },
    {
     "name": "stderr",
     "output_type": "stream",
     "text": [
      " 23%|██▎       | 11/48 [02:47<09:17, 15.07s/it]"
     ]
    },
    {
     "name": "stdout",
     "output_type": "stream",
     "text": [
      "Este actor no tiene premios\n"
     ]
    },
    {
     "name": "stderr",
     "output_type": "stream",
     "text": [
      " 25%|██▌       | 12/48 [03:00<08:35, 14.33s/it]"
     ]
    },
    {
     "name": "stdout",
     "output_type": "stream",
     "text": [
      "Este actor no tiene premios\n"
     ]
    },
    {
     "name": "stderr",
     "output_type": "stream",
     "text": [
      " 27%|██▋       | 13/48 [03:14<08:24, 14.42s/it]"
     ]
    },
    {
     "name": "stdout",
     "output_type": "stream",
     "text": [
      "Este actor no tiene premios\n"
     ]
    },
    {
     "name": "stderr",
     "output_type": "stream",
     "text": [
      " 29%|██▉       | 14/48 [03:29<08:14, 14.53s/it]"
     ]
    },
    {
     "name": "stdout",
     "output_type": "stream",
     "text": [
      "Este actor no tiene premios\n"
     ]
    },
    {
     "name": "stderr",
     "output_type": "stream",
     "text": [
      " 31%|███▏      | 15/48 [03:42<07:45, 14.10s/it]"
     ]
    },
    {
     "name": "stdout",
     "output_type": "stream",
     "text": [
      "Este actor no tiene premios\n"
     ]
    },
    {
     "name": "stderr",
     "output_type": "stream",
     "text": [
      " 33%|███▎      | 16/48 [03:56<07:24, 13.90s/it]"
     ]
    },
    {
     "name": "stdout",
     "output_type": "stream",
     "text": [
      "Este actor no tiene premios\n"
     ]
    },
    {
     "name": "stderr",
     "output_type": "stream",
     "text": [
      " 40%|███▉      | 19/48 [04:27<05:09, 10.66s/it]"
     ]
    },
    {
     "name": "stdout",
     "output_type": "stream",
     "text": [
      "Este actor no tiene premios\n"
     ]
    },
    {
     "name": "stderr",
     "output_type": "stream",
     "text": [
      " 42%|████▏     | 20/48 [04:40<05:17, 11.33s/it]"
     ]
    },
    {
     "name": "stdout",
     "output_type": "stream",
     "text": [
      "Este actor no tiene premios\n"
     ]
    },
    {
     "name": "stderr",
     "output_type": "stream",
     "text": [
      " 44%|████▍     | 21/48 [04:53<05:22, 11.94s/it]"
     ]
    },
    {
     "name": "stdout",
     "output_type": "stream",
     "text": [
      "Este actor no tiene premios\n"
     ]
    },
    {
     "name": "stderr",
     "output_type": "stream",
     "text": [
      " 46%|████▌     | 22/48 [05:06<05:17, 12.21s/it]"
     ]
    },
    {
     "name": "stdout",
     "output_type": "stream",
     "text": [
      "Este actor no tiene premios\n"
     ]
    },
    {
     "name": "stderr",
     "output_type": "stream",
     "text": [
      " 48%|████▊     | 23/48 [05:19<05:09, 12.37s/it]"
     ]
    },
    {
     "name": "stdout",
     "output_type": "stream",
     "text": [
      "Este actor no tiene premios\n"
     ]
    },
    {
     "name": "stderr",
     "output_type": "stream",
     "text": [
      " 50%|█████     | 24/48 [05:37<05:38, 14.11s/it]"
     ]
    },
    {
     "name": "stdout",
     "output_type": "stream",
     "text": [
      "Este actor no tiene premios\n"
     ]
    },
    {
     "name": "stderr",
     "output_type": "stream",
     "text": [
      " 52%|█████▏    | 25/48 [05:54<05:43, 14.94s/it]"
     ]
    },
    {
     "name": "stdout",
     "output_type": "stream",
     "text": [
      "Este actor no tiene premios\n"
     ]
    },
    {
     "name": "stderr",
     "output_type": "stream",
     "text": [
      " 54%|█████▍    | 26/48 [06:12<05:47, 15.78s/it]"
     ]
    },
    {
     "name": "stdout",
     "output_type": "stream",
     "text": [
      "Este actor no tiene premios\n"
     ]
    },
    {
     "name": "stderr",
     "output_type": "stream",
     "text": [
      " 56%|█████▋    | 27/48 [06:29<05:44, 16.41s/it]"
     ]
    },
    {
     "name": "stdout",
     "output_type": "stream",
     "text": [
      "El actor Lisa Langlois no es conocido por nada más  \n",
      "Este actor no tiene premios\n"
     ]
    },
    {
     "name": "stderr",
     "output_type": "stream",
     "text": [
      " 58%|█████▊    | 28/48 [06:43<05:12, 15.62s/it]"
     ]
    },
    {
     "name": "stdout",
     "output_type": "stream",
     "text": [
      "Este actor no tiene premios\n"
     ]
    },
    {
     "name": "stderr",
     "output_type": "stream",
     "text": [
      " 60%|██████    | 29/48 [06:58<04:51, 15.33s/it]"
     ]
    },
    {
     "name": "stdout",
     "output_type": "stream",
     "text": [
      "Este actor no tiene premios\n"
     ]
    },
    {
     "name": "stderr",
     "output_type": "stream",
     "text": [
      " 62%|██████▎   | 30/48 [07:12<04:31, 15.10s/it]"
     ]
    },
    {
     "name": "stdout",
     "output_type": "stream",
     "text": [
      "Este actor no tiene premios\n"
     ]
    },
    {
     "name": "stderr",
     "output_type": "stream",
     "text": [
      " 65%|██████▍   | 31/48 [07:27<04:14, 14.95s/it]"
     ]
    },
    {
     "name": "stdout",
     "output_type": "stream",
     "text": [
      "Este actor no tiene premios\n"
     ]
    },
    {
     "name": "stderr",
     "output_type": "stream",
     "text": [
      " 67%|██████▋   | 32/48 [07:41<03:56, 14.77s/it]"
     ]
    },
    {
     "name": "stdout",
     "output_type": "stream",
     "text": [
      "Este actor no tiene premios\n"
     ]
    },
    {
     "name": "stderr",
     "output_type": "stream",
     "text": [
      " 69%|██████▉   | 33/48 [07:56<03:43, 14.87s/it]"
     ]
    },
    {
     "name": "stdout",
     "output_type": "stream",
     "text": [
      "Este actor no tiene premios\n"
     ]
    },
    {
     "name": "stderr",
     "output_type": "stream",
     "text": [
      " 71%|███████   | 34/48 [08:11<03:26, 14.77s/it]"
     ]
    },
    {
     "name": "stdout",
     "output_type": "stream",
     "text": [
      "Este actor no tiene premios\n"
     ]
    },
    {
     "name": "stderr",
     "output_type": "stream",
     "text": [
      " 73%|███████▎  | 35/48 [08:30<03:28, 16.01s/it]"
     ]
    },
    {
     "name": "stdout",
     "output_type": "stream",
     "text": [
      "Este actor no tiene premios\n"
     ]
    },
    {
     "name": "stderr",
     "output_type": "stream",
     "text": [
      " 75%|███████▌  | 36/48 [08:44<03:04, 15.41s/it]"
     ]
    },
    {
     "name": "stdout",
     "output_type": "stream",
     "text": [
      "Este actor no tiene premios\n"
     ]
    },
    {
     "name": "stderr",
     "output_type": "stream",
     "text": [
      " 77%|███████▋  | 37/48 [09:04<03:03, 16.71s/it]"
     ]
    },
    {
     "name": "stdout",
     "output_type": "stream",
     "text": [
      "Este actor no tiene premios\n"
     ]
    },
    {
     "name": "stderr",
     "output_type": "stream",
     "text": [
      " 79%|███████▉  | 38/48 [09:22<02:52, 17.24s/it]"
     ]
    },
    {
     "name": "stdout",
     "output_type": "stream",
     "text": [
      "Este actor no tiene premios\n"
     ]
    },
    {
     "name": "stderr",
     "output_type": "stream",
     "text": [
      " 81%|████████▏ | 39/48 [09:36<02:25, 16.19s/it]"
     ]
    },
    {
     "name": "stdout",
     "output_type": "stream",
     "text": [
      "Este actor no tiene premios\n"
     ]
    },
    {
     "name": "stderr",
     "output_type": "stream",
     "text": [
      " 83%|████████▎ | 40/48 [09:50<02:04, 15.58s/it]"
     ]
    },
    {
     "name": "stdout",
     "output_type": "stream",
     "text": [
      "Este actor no tiene premios\n"
     ]
    },
    {
     "name": "stderr",
     "output_type": "stream",
     "text": [
      " 85%|████████▌ | 41/48 [10:06<01:50, 15.84s/it]"
     ]
    },
    {
     "name": "stdout",
     "output_type": "stream",
     "text": [
      "Este actor no tiene premios\n"
     ]
    },
    {
     "name": "stderr",
     "output_type": "stream",
     "text": [
      " 88%|████████▊ | 42/48 [10:21<01:32, 15.35s/it]"
     ]
    },
    {
     "name": "stdout",
     "output_type": "stream",
     "text": [
      "Este actor no tiene premios\n"
     ]
    },
    {
     "name": "stderr",
     "output_type": "stream",
     "text": [
      " 90%|████████▉ | 43/48 [10:37<01:17, 15.49s/it]"
     ]
    },
    {
     "name": "stdout",
     "output_type": "stream",
     "text": [
      "El actor Terry Congie no es conocido por nada más  \n",
      "Este actor no tiene premios\n"
     ]
    },
    {
     "name": "stderr",
     "output_type": "stream",
     "text": [
      " 92%|█████████▏| 44/48 [10:49<00:58, 14.65s/it]"
     ]
    },
    {
     "name": "stdout",
     "output_type": "stream",
     "text": [
      "Este actor no tiene premios\n"
     ]
    },
    {
     "name": "stderr",
     "output_type": "stream",
     "text": [
      " 94%|█████████▍| 45/48 [11:03<00:42, 14.29s/it]"
     ]
    },
    {
     "name": "stdout",
     "output_type": "stream",
     "text": [
      "Este actor no tiene premios\n"
     ]
    },
    {
     "name": "stderr",
     "output_type": "stream",
     "text": [
      " 96%|█████████▌| 46/48 [11:16<00:27, 13.93s/it]"
     ]
    },
    {
     "name": "stdout",
     "output_type": "stream",
     "text": [
      "El actor Robert Acey no es conocido por nada más  \n",
      "Este actor no tiene premios\n"
     ]
    },
    {
     "name": "stderr",
     "output_type": "stream",
     "text": [
      " 98%|█████████▊| 47/48 [11:28<00:13, 13.48s/it]"
     ]
    },
    {
     "name": "stdout",
     "output_type": "stream",
     "text": [
      "Este actor no tiene premios\n"
     ]
    },
    {
     "name": "stderr",
     "output_type": "stream",
     "text": [
      "100%|██████████| 48/48 [11:45<00:00, 14.71s/it]\n"
     ]
    }
   ],
   "source": [
    "driver = webdriver.Chrome()\n",
    "\n",
    "driver.get('https://www.imdb.com/')\n",
    "\n",
    "driver.maximize_window()\n",
    "\n",
    "sleep (5)\n",
    "\n",
    "#Cookies\n",
    "driver.find_element('css selector', '#__next > div > div > div.sc-jrcTuL.bPmWiM > div > button.icb-btn.sc-bcXHqe.sc-dkrFOg.sc-iBYQkv.dcvrLS.ddtuHe.dRCGjd').click()\n",
    "\n",
    "sleep(2)\n",
    "\n",
    "nacimiento = []\n",
    "premios_actor = []\n",
    "conocido = []\n",
    "pelis = []\n",
    "\n",
    "  \n",
    "for actor in tqdm(list_all_actors):\n",
    "    conocido_por = []\n",
    "    ganados = []\n",
    "    nominaciones = []\n",
    "    peliculas = []\n",
    "    # buscamos al actor\n",
    "    driver.find_element('css selector', '#suggestion-search').send_keys(actor, Keys.ENTER)\n",
    "\n",
    "    try:\n",
    "    # clickamos en la primera coincidencia\n",
    "        driver.find_element('css selector', '#__next > main > div.ipc-page-content-container.ipc-page-content-container--full.sc-e51f9d6d-0.Fmvqg > div.ipc-page-content-container.ipc-page-content-container--center > section > div > div.ipc-page-grid__item.ipc-page-grid__item--span-2 > section:nth-child(4) > div.sc-e8e4ce7-2.iXsuvN > ul > li:nth-child(1) > div.ipc-metadata-list-summary-item__c > div > a').click()\n",
    "    except:\n",
    "        continue\n",
    "    # añadimos fecha nacimiento_actor\n",
    "    \n",
    "    try:\n",
    "        nacimiento.append(driver.find_element('xpath', '//*[@id=\"__next\"]/main/div/section[1]/section/div[3]/section/section/div[3]/div/div[2]/section/aside/div/span[2]').text)\n",
    "    \n",
    "    except:\n",
    "        nacimiento.append(None)  \n",
    "    \n",
    "    try: \n",
    "        for elemento in range (1,5):\n",
    "            \n",
    "            conocido_por.append(driver.find_element('css selector', f'#__next > main > div > section.ipc-page-background.ipc-page-background--base.sc-c41b9732-0.NeSef > div > section > div > div.sc-978e9339-1.ihWZgK.ipc-page-grid__item.ipc-page-grid__item--span-2 > div.celwidget > section:nth-child(1) > div.sc-1c5b3162-0.fFgRFS > div > div.ipc-sub-grid.ipc-sub-grid--page-span-2.ipc-sub-grid--wraps-at-above-l.ipc-shoveler__grid > div:nth-child({elemento}) > div.ipc-primary-image-list-card__content > div.ipc-primary-image-list-card__content-top > a').text)\n",
    "\n",
    "        conocido.append(tuple(conocido_por))\n",
    "    except:\n",
    "        print(f\"El actor {actor} no es conocido por nada más  \")\n",
    "    \n",
    "    # añadimos lista 10 peliculas en las que ha participado\n",
    "    \n",
    "    try: \n",
    "        \n",
    "        for peli in range(1,10):\n",
    "            \n",
    "            try:\n",
    "        \n",
    "                peliculas.append(driver.find_element('xpath', f'#accordion-item-actor-previous-projects > div > ul > li:nth-child({peli}) > div.ipc-metadata-list-summary-item__c > div.ipc-metadata-list-summary-item__tc > a').text)\n",
    "        \n",
    "                pelis.append(tuple(peliculas))\n",
    "        \n",
    "            except: \n",
    "                try:\n",
    "                    peliculas.append(driver.find_element('xpath', '//*[@id=\"accordion-item-actor-previous-projects\"]/div/ul/li[1]/div[2]/div[1]/a').text)\n",
    "                                                        #//*[@id=\"accordion-item-actor-previous-projects\"]/div/ul/li[2]/div[2]/div[1]/a\n",
    "                \n",
    "                except:\n",
    "                    peliculas.append(None)\n",
    "\n",
    "    except:\n",
    "        print(f\"el actor {actor} no tiene más peliculas\")\n",
    "        \n",
    "    # accedemos a premios\n",
    "    \n",
    "    try:\n",
    "        driver.find_element('css selector', '#__next > main > div > section.ipc-page-background.ipc-page-background--base.sc-c41b9732-0.NeSef > div > section > div > div.sc-978e9339-1.ihWZgK.ipc-page-grid__item.ipc-page-grid__item--span-2 > section:nth-child(3) > div > ul > li > div').click()\n",
    "    \n",
    "    except:\n",
    "        try: # hago el try dos veces porque en el primer intento consigo que el navegador se mueva al elemento y en el except es cuando consigo clickearlo\n",
    "            sleep(3)\n",
    "            driver.find_element('css selector', '#__next > main > div > section.ipc-page-background.ipc-page-background--base.sc-c41b9732-0.NeSef > div > section > div > div.sc-978e9339-1.ihWZgK.ipc-page-grid__item.ipc-page-grid__item--span-2 > section:nth-child(3) > div > ul > li > div').click()\n",
    "            \n",
    "            print('Entramos en los premios')\n",
    "        except:\n",
    "            print(\"Este actor no tiene premios\")\n",
    "\n",
    "    for premio in range (1,11):\n",
    "        try: \n",
    "            # premios ganados\n",
    "            ganados.append(driver.find_element('css selector', f'#__next > main > div > section > div > section > div > div.sc-978e9339-1.ihWZgK.ipc-page-grid__item.ipc-page-grid__item--span-2 > section:nth-child(3) > div.sc-f65f65be-0.bBlII > ul > li:nth-child({premio}) > div.ipc-metadata-list-summary-item__c > div > a').text)\n",
    "            # nominaciones                                                    \n",
    "            nominaciones.append(driver.find_element('css selector', f'#__next > main > div > section > div > section > div > div.sc-978e9339-1.ihWZgK.ipc-page-grid__item.ipc-page-grid__item--span-2 > section:nth-child(4) > div.sc-f65f65be-0.bBlII > ul > li:nth-child({premio}) > div.ipc-metadata-list-summary-item__c > div > a').text)\n",
    "\n",
    "        except:                                                  \n",
    "            pass\n",
    "    \n",
    "    # comprobamos si tiene premio ganado o nominacion, si es así lo añadimos al diccionario de premios por actor\n",
    "    if len(ganados) > 0 or len(nominaciones) > 0:\n",
    "        premios_actor.append({'premios ganados': ganados, 'nominaciones': nominaciones})\n",
    "    \n",
    "    else:\n",
    "        premios_actor.append(None)\n",
    "    \n",
    "    driver.back()\n",
    "    driver.back()\n",
    "\n",
    "\n",
    "driver.close()\n",
    "\n",
    "    "
   ]
  },
  {
   "cell_type": "code",
   "execution_count": 12,
   "metadata": {},
   "outputs": [
    {
     "data": {
      "text/plain": [
       "[('Glücksrad',\n",
       "  'Freunde der Nacht',\n",
       "  'Der Kuckuckspfänder',\n",
       "  'Liebling der Schwiegermütter'),\n",
       " ('Hembras salvajes en Ibiza',\n",
       "  'Adiestrados para matar',\n",
       "  'A voluntad de dios',\n",
       "  'Armaguedon, la voz del fin del mundo'),\n",
       " ('Robin Hood: Ghosts of Sherwood',\n",
       "  'Der Koch',\n",
       "  'En el lugar del crimen',\n",
       "  'Hungerjahre - in einem reichen Land'),\n",
       " ('Los tres mosqueteros de Alejandro Dumas',\n",
       "  'Der Bergdoktor',\n",
       "  'Stockinger',\n",
       "  'Astérix y Obélix contra César'),\n",
       " ('La trampa de Venus',\n",
       "  'Die Story',\n",
       "  'Flitterwochen',\n",
       "  'Polo de limón 5 - Baby love'),\n",
       " ('Johnny English Returns', 'Push', 'Old man and a dog', 'Election'),\n",
       " ('Bik hue gim', 'Duet ming ga yan', 'Gung buk', 'San gau'),\n",
       " ('El mono borracho en el ojo del tigre',\n",
       "  'Shen diao xia lv',\n",
       "  'Hu xue tu long',\n",
       "  'No juegues con fuego'),\n",
       " ('Mr. Vampire: El Señor de los Vampiros',\n",
       "  'Qian zuo guai',\n",
       "  'Gui cai Lun Wen Xu',\n",
       "  'Shen suan'),\n",
       " ('Dragon ball: La película - Comienza la magia',\n",
       "  'Khi tshe sì tsap káu thinn',\n",
       "  'Miao tan shen wei',\n",
       "  'Xing tao tai lang'),\n",
       " ('Ha luo, ye gui ren',\n",
       "  'Qian zuo guai',\n",
       "  'Wu du bu zhang fu',\n",
       "  'El último caballero'),\n",
       " ('El mono borracho en el ojo del tigre',\n",
       "  'Lin Shi Rong',\n",
       "  'Yi jian qing shen',\n",
       "  'Qian zuo guai'),\n",
       " ('Long Arm of the Law',\n",
       "  'Wo ai Ye Lai Xiang',\n",
       "  'El fluir de las lágrimas',\n",
       "  'Qian zuo guai'),\n",
       " ('Siete pistolas para los Mac Gregor',\n",
       "  'Una gota de sangre para morir amando',\n",
       "  'Los fusiles',\n",
       "  'Tristana'),\n",
       " ('Lorca, muerte de un poeta',\n",
       "  'Relación fatal',\n",
       "  'Winchester: Uno entre mil',\n",
       "  'Una gota de sangre para morir amando'),\n",
       " ('Eat Me! The Most Beautiful Cakes',\n",
       "  'Empreintes',\n",
       "  'La galerie France 5',\n",
       "  'Le khmer rouge et le non-violent'),\n",
       " ('Instinto peligroso',\n",
       "  'El agente',\n",
       "  'La hija del lobo',\n",
       "  'Conspiración Wander'),\n",
       " ('Con faldas y a lo loco',\n",
       "  'Chantaje en Broadway',\n",
       "  'Los persuasores!',\n",
       "  'Espartaco'),\n",
       " ('Oficial y caballero',\n",
       "  'Enemigo mío',\n",
       "  'Tiburón 3-D. El gran tiburón',\n",
       "  'Raíces'),\n",
       " ('M*A*S*H', 'Regreso a la escuela', 'Pret-a-porter', 'Un pequeño romance'),\n",
       " ('Desmadre a la americana',\n",
       "  'Harry el Sucio',\n",
       "  'Klowns asesinos',\n",
       "  'Aterriza como puedas II'),\n",
       " ('Mladá léta', 'Paleta lásky', 'Náhrdelník', 'Z mého zivota'),\n",
       " ('Nahá pastýrka',\n",
       "  'Slamený klobouk',\n",
       "  'El incinerador de cadáveres',\n",
       "  'Klec pro dva'),\n",
       " ('Cerní baroni', 'Nesmluvená setkání', 'Náhrdelník', 'Milácek'),\n",
       " ('Cerní baroni', 'Cirkus Bukowsky', 'Kapitán Exner', 'Strange Events 3'),\n",
       " ('Beauty in Trouble', 'Arrowsmith', 'Babicka', 'Kdo hledá zlaté dno'),\n",
       " ('Final Fantasy XV',\n",
       "  'Einsatz für Lohbeck',\n",
       "  'Solange es die Liebe gibt',\n",
       "  'Glückliche Reise'),\n",
       " ('Un elefante se equivoca enormemente',\n",
       "  'Piezas asesinas',\n",
       "  'Une famille formidable',\n",
       "  'Un château au soleil'),\n",
       " ('En el lugar del crimen',\n",
       "  'Amarga cosecha',\n",
       "  '5 Flaschen für Angelika',\n",
       "  'Jägerschlacht'),\n",
       " ('El matrimonio de María Braun',\n",
       "  'Los cañones de San Sebastián',\n",
       "  'Falso movimiento',\n",
       "  'Anastasia'),\n",
       " ('Der Mörder mit dem Seidenschal',\n",
       "  'El mundo conectado',\n",
       "  'Im Schloß der blutigen Begierde',\n",
       "  'Hexen geschändet und zu Tode gequält'),\n",
       " ('Iluminación',\n",
       "  'Sowizdrzal swietokrzyski',\n",
       "  'Zycie na goraco',\n",
       "  'Szkice warszawskie'),\n",
       " ('Prawo Agaty',\n",
       "  'Hallo Szpicbródka, czyli ostatni wystep króla kasiarzy',\n",
       "  'Ostatnia misja',\n",
       "  'Ostatni po Bogu'),\n",
       " ('Sex Mission: Misión en el futuro',\n",
       "  'Jak pies z kotem',\n",
       "  'General Nil',\n",
       "  'Historia de un pecado'),\n",
       " ('Sex Mission: Misión en el futuro',\n",
       "  'Spowiedz dzieciecia wieku',\n",
       "  'Wszyscy i nikt',\n",
       "  'Kobieta w kapeluszu'),\n",
       " ('La lista de Schindler',\n",
       "  'Tres colores: Blanco',\n",
       "  'La tierra de la gran promesa',\n",
       "  'Kapital, czyli jak zrobic pieniadze w Polsce'),\n",
       " ('Rocky V',\n",
       "  'Un regalo para papá',\n",
       "  'La balada de Lucy Whipple',\n",
       "  'Rápida y mortal'),\n",
       " ('Permanezca en sintonía',\n",
       "  'Runaway Nightmare',\n",
       "  'Puño mortal',\n",
       "  'The Fall Guy'),\n",
       " ('Mensajero del futuro',\n",
       "  'Bailando con lobos',\n",
       "  'Robin Hood: Príncipe de los ladrones',\n",
       "  'El guardaespaldas')]"
      ]
     },
     "execution_count": 12,
     "metadata": {},
     "output_type": "execute_result"
    }
   ],
   "source": [
    "conocido"
   ]
  },
  {
   "cell_type": "code",
   "execution_count": 13,
   "metadata": {},
   "outputs": [
    {
     "data": {
      "text/plain": [
       "[None,\n",
       " None,\n",
       " None,\n",
       " None,\n",
       " None,\n",
       " None,\n",
       " None,\n",
       " None,\n",
       " None,\n",
       " None,\n",
       " {'premios ganados': ['2019 Nominado Festival Prize'], 'nominaciones': []},\n",
       " None,\n",
       " None,\n",
       " None,\n",
       " None,\n",
       " None,\n",
       " None,\n",
       " {'premios ganados': ['1984 Nominado Golden Horse Award'],\n",
       "  'nominaciones': ['1985 Nominado Hong Kong Film Award']},\n",
       " None,\n",
       " None,\n",
       " None,\n",
       " None,\n",
       " None,\n",
       " None,\n",
       " None,\n",
       " None,\n",
       " None,\n",
       " None,\n",
       " None,\n",
       " None,\n",
       " None,\n",
       " None,\n",
       " None,\n",
       " None,\n",
       " None,\n",
       " None,\n",
       " None,\n",
       " None,\n",
       " None,\n",
       " None,\n",
       " None,\n",
       " None,\n",
       " None,\n",
       " None,\n",
       " None,\n",
       " None,\n",
       " None]"
      ]
     },
     "execution_count": 13,
     "metadata": {},
     "output_type": "execute_result"
    }
   ],
   "source": [
    "premios_actor"
   ]
  },
  {
   "cell_type": "code",
   "execution_count": 14,
   "metadata": {},
   "outputs": [
    {
     "name": "stdout",
     "output_type": "stream",
     "text": [
      "[None, None, None, None, None, None, None, None, None, None, ('2019 Nominado Festival Prize',), None, None, None, None, None, None, ('1984 Nominado Golden Horse Award',), None, None, None, None, None, None, None, None, None, None, None, None, None, None, None, None, None, None, None, None, None, None, None, None, None, None, None, None, None]\n",
      "[None, None, None, None, None, None, None, None, None, None, (), None, None, None, None, None, None, ('1985 Nominado Hong Kong Film Award',), None, None, None, None, None, None, None, None, None, None, None, None, None, None, None, None, None, None, None, None, None, None, None, None, None, None, None, None, None]\n"
     ]
    }
   ],
   "source": [
    "premios = []\n",
    "nominaciones = []\n",
    "\n",
    "# Iterar sobre cada diccionario en la lista\n",
    "for persona in premios_actor:\n",
    "    \n",
    "    if persona is None:\n",
    "        premios.append(None)\n",
    "        continue\n",
    "    else:\n",
    "        premios_ganados = persona.get('premios ganados', [])\n",
    "        premios.append(tuple(premios_ganados))\n",
    "\n",
    "# Imprimir la lista de todos los premios ganados\n",
    "print(premios)\n",
    "\n",
    "for persona in premios_actor:\n",
    "    \n",
    "    if persona is None:\n",
    "        nominaciones.append(None)\n",
    "        continue\n",
    "    else:\n",
    "        premios_ganados = persona[\"nominaciones\"]\n",
    "        nominaciones.append(tuple(premios_ganados))\n",
    "        \n",
    "print(nominaciones)"
   ]
  },
  {
   "cell_type": "code",
   "execution_count": 15,
   "metadata": {},
   "outputs": [
    {
     "data": {
      "text/plain": [
       "[('Rainer Abendroth',\n",
       "  None,\n",
       "  None,\n",
       "  None,\n",
       "  ('Glücksrad',\n",
       "   'Freunde der Nacht',\n",
       "   'Der Kuckuckspfänder',\n",
       "   'Liebling der Schwiegermütter')),\n",
       " ('Günther Amann',\n",
       "  None,\n",
       "  None,\n",
       "  None,\n",
       "  ('Hembras salvajes en Ibiza',\n",
       "   'Adiestrados para matar',\n",
       "   'A voluntad de dios',\n",
       "   'Armaguedon, la voz del fin del mundo')),\n",
       " ('Peter Bond',\n",
       "  '29 de octubre de 1952',\n",
       "  None,\n",
       "  None,\n",
       "  ('Robin Hood: Ghosts of Sherwood',\n",
       "   'Der Koch',\n",
       "   'En el lugar del crimen',\n",
       "   'Hungerjahre - in einem reichen Land')),\n",
       " ('Petra Dyrthen',\n",
       "  None,\n",
       "  None,\n",
       "  None,\n",
       "  ('Los tres mosqueteros de Alejandro Dumas',\n",
       "   'Der Bergdoktor',\n",
       "   'Stockinger',\n",
       "   'Astérix y Obélix contra César')),\n",
       " ('Diana Jovanovic',\n",
       "  None,\n",
       "  None,\n",
       "  None,\n",
       "  ('La trampa de Venus',\n",
       "   'Die Story',\n",
       "   'Flitterwochen',\n",
       "   'Polo de limón 5 - Baby love')),\n",
       " ('Régis Porte',\n",
       "  '4 de febrero de 1953',\n",
       "  None,\n",
       "  None,\n",
       "  ('Johnny English Returns', 'Push', 'Old man and a dog', 'Election')),\n",
       " ('Patricia Zenker',\n",
       "  None,\n",
       "  None,\n",
       "  None,\n",
       "  ('Bik hue gim', 'Duet ming ga yan', 'Gung buk', 'San gau')),\n",
       " ('Tobias Meister',\n",
       "  '9 de junio de 1957',\n",
       "  None,\n",
       "  None,\n",
       "  ('El mono borracho en el ojo del tigre',\n",
       "   'Shen diao xia lv',\n",
       "   'Hu xue tu long',\n",
       "   'No juegues con fuego')),\n",
       " ('Herbert Fux',\n",
       "  '25 de marzo de 1927',\n",
       "  None,\n",
       "  None,\n",
       "  ('Mr. Vampire: El Señor de los Vampiros',\n",
       "   'Qian zuo guai',\n",
       "   'Gui cai Lun Wen Xu',\n",
       "   'Shen suan')),\n",
       " ('Renate Langer',\n",
       "  '20 de mayo de 1956',\n",
       "  None,\n",
       "  None,\n",
       "  ('Dragon ball: La película - Comienza la magia',\n",
       "   'Khi tshe sì tsap káu thinn',\n",
       "   'Miao tan shen wei',\n",
       "   'Xing tao tai lang')),\n",
       " ('Paul Che',\n",
       "  None,\n",
       "  ('2019 Nominado Festival Prize',),\n",
       "  (),\n",
       "  ('Ha luo, ye gui ren',\n",
       "   'Qian zuo guai',\n",
       "   'Wu du bu zhang fu',\n",
       "   'El último caballero')),\n",
       " ('Ching Yee Chong',\n",
       "  '13 de diciembre de 1959',\n",
       "  None,\n",
       "  None,\n",
       "  ('El mono borracho en el ojo del tigre',\n",
       "   'Lin Shi Rong',\n",
       "   'Yi jian qing shen',\n",
       "   'Qian zuo guai')),\n",
       " ('Chun-Hua Li',\n",
       "  None,\n",
       "  None,\n",
       "  None,\n",
       "  ('Long Arm of the Law',\n",
       "   'Wo ai Ye Lai Xiang',\n",
       "   'El fluir de las lágrimas',\n",
       "   'Qian zuo guai')),\n",
       " ('Ricky Hui',\n",
       "  '3 de agosto de 1946',\n",
       "  None,\n",
       "  None,\n",
       "  ('Siete pistolas para los Mac Gregor',\n",
       "   'Una gota de sangre para morir amando',\n",
       "   'Los fusiles',\n",
       "   'Tristana')),\n",
       " ('Chi-Chi Chen',\n",
       "  '6 de octubre de 1975',\n",
       "  None,\n",
       "  None,\n",
       "  ('Lorca, muerte de un poeta',\n",
       "   'Relación fatal',\n",
       "   'Winchester: Uno entre mil',\n",
       "   'Una gota de sangre para morir amando')),\n",
       " ('Ka Yik',\n",
       "  None,\n",
       "  None,\n",
       "  None,\n",
       "  ('Eat Me! The Most Beautiful Cakes',\n",
       "   'Empreintes',\n",
       "   'La galerie France 5',\n",
       "   'Le khmer rouge et le non-violent')),\n",
       " ('Jing Tang',\n",
       "  None,\n",
       "  None,\n",
       "  None,\n",
       "  ('Instinto peligroso',\n",
       "   'El agente',\n",
       "   'La hija del lobo',\n",
       "   'Conspiración Wander')),\n",
       " ('Johnny Koo',\n",
       "  None,\n",
       "  ('1984 Nominado Golden Horse Award',),\n",
       "  ('1985 Nominado Hong Kong Film Award',),\n",
       "  ('Con faldas y a lo loco',\n",
       "   'Chantaje en Broadway',\n",
       "   'Los persuasores!',\n",
       "   'Espartaco')),\n",
       " ('Lidia Zuazo',\n",
       "  '25 de noviembre de 1924',\n",
       "  None,\n",
       "  None,\n",
       "  ('Oficial y caballero',\n",
       "   'Enemigo mío',\n",
       "   'Tiburón 3-D. El gran tiburón',\n",
       "   'Raíces')),\n",
       " ('Saturno Cerra',\n",
       "  '1932',\n",
       "  None,\n",
       "  None,\n",
       "  ('M*A*S*H', 'Regreso a la escuela', 'Pret-a-porter', 'Un pequeño romance')),\n",
       " ('Fabián Conde',\n",
       "  None,\n",
       "  None,\n",
       "  None,\n",
       "  ('Desmadre a la americana',\n",
       "   'Harry el Sucio',\n",
       "   'Klowns asesinos',\n",
       "   'Aterriza como puedas II')),\n",
       " ('Valerio Ferrer',\n",
       "  None,\n",
       "  None,\n",
       "  None,\n",
       "  ('Mladá léta', 'Paleta lásky', 'Náhrdelník', 'Z mého zivota')),\n",
       " ('Maika Lesley',\n",
       "  '3 de junio de 1925',\n",
       "  None,\n",
       "  None,\n",
       "  ('Nahá pastýrka',\n",
       "   'Slamený klobouk',\n",
       "   'El incinerador de cadáveres',\n",
       "   'Klec pro dva')),\n",
       " ('Tony Curtis',\n",
       "  '27 de mayo de 1936',\n",
       "  None,\n",
       "  None,\n",
       "  ('Cerní baroni', 'Nesmluvená setkání', 'Náhrdelník', 'Milácek')),\n",
       " ('Louis Gossett Jr.',\n",
       "  '2 de junio de 1937',\n",
       "  None,\n",
       "  None,\n",
       "  ('Cerní baroni', 'Cirkus Bukowsky', 'Kapitán Exner', 'Strange Events 3')),\n",
       " ('Sally Kellerman',\n",
       "  '24 de febrero de 1932',\n",
       "  None,\n",
       "  None,\n",
       "  ('Beauty in Trouble', 'Arrowsmith', 'Babicka', 'Kdo hledá zlaté dno')),\n",
       " ('John Vernon',\n",
       "  '15 de marzo',\n",
       "  None,\n",
       "  None,\n",
       "  ('Final Fantasy XV',\n",
       "   'Einsatz für Lohbeck',\n",
       "   'Solange es die Liebe gibt',\n",
       "   'Glückliche Reise')),\n",
       " ('Lisa Langlois',\n",
       "  '10 de marzo de 1932',\n",
       "  None,\n",
       "  None,\n",
       "  ('Un elefante se equivoca enormemente',\n",
       "   'Piezas asesinas',\n",
       "   'Une famille formidable',\n",
       "   'Un château au soleil')),\n",
       " ('Eduard Cupák',\n",
       "  '9 de octubre de 1929',\n",
       "  None,\n",
       "  None,\n",
       "  ('En el lugar del crimen',\n",
       "   'Amarga cosecha',\n",
       "   '5 Flaschen für Angelika',\n",
       "   'Jägerschlacht')),\n",
       " ('Vladimír Mensík',\n",
       "  '8 de junio de 1962',\n",
       "  None,\n",
       "  None,\n",
       "  ('El matrimonio de María Braun',\n",
       "   'Los cañones de San Sebastián',\n",
       "   'Falso movimiento',\n",
       "   'Anastasia')),\n",
       " ('Lukás Vaculík',\n",
       "  '29 de septiembre de 1968',\n",
       "  None,\n",
       "  None,\n",
       "  ('Der Mörder mit dem Seidenschal',\n",
       "   'El mundo conectado',\n",
       "   'Im Schloß der blutigen Begierde',\n",
       "   'Hexen geschändet und zu Tode gequält')),\n",
       " ('Michal Dlouhý',\n",
       "  '9 de junio de 1955',\n",
       "  None,\n",
       "  None,\n",
       "  ('Iluminación',\n",
       "   'Sowizdrzal swietokrzyski',\n",
       "   'Zycie na goraco',\n",
       "   'Szkice warszawskie')),\n",
       " ('Jan Hrusínský',\n",
       "  '23 de octubre de 1943',\n",
       "  None,\n",
       "  None,\n",
       "  ('Prawo Agaty',\n",
       "   'Hallo Szpicbródka, czyli ostatni wystep króla kasiarzy',\n",
       "   'Ostatnia misja',\n",
       "   'Ostatni po Bogu')),\n",
       " ('Bernd Stephan',\n",
       "  '28 de junio de 1947',\n",
       "  None,\n",
       "  None,\n",
       "  ('Sex Mission: Misión en el futuro',\n",
       "   'Jak pies z kotem',\n",
       "   'General Nil',\n",
       "   'Historia de un pecado')),\n",
       " ('Anny Duperey',\n",
       "  '22 de octubre de 1923',\n",
       "  None,\n",
       "  None,\n",
       "  ('Sex Mission: Misión en el futuro',\n",
       "   'Spowiedz dzieciecia wieku',\n",
       "   'Wszyscy i nikt',\n",
       "   'Kobieta w kapeluszu')),\n",
       " ('Hans Beerhenke',\n",
       "  '28 de diciembre de 1922',\n",
       "  None,\n",
       "  None,\n",
       "  ('La lista de Schindler',\n",
       "   'Tres colores: Blanco',\n",
       "   'La tierra de la gran promesa',\n",
       "   'Kapital, czyli jak zrobic pieniadze w Polsce')),\n",
       " ('Ivan Desny',\n",
       "  '18 de mayo de 1922',\n",
       "  None,\n",
       "  None,\n",
       "  ('Rocky V',\n",
       "   'Un regalo para papá',\n",
       "   'La balada de Lucy Whipple',\n",
       "   'Rápida y mortal')),\n",
       " ('Adrian Hoven',\n",
       "  '23 de abril de 1939',\n",
       "  None,\n",
       "  None,\n",
       "  ('Permanezca en sintonía',\n",
       "   'Runaway Nightmare',\n",
       "   'Puño mortal',\n",
       "   'The Fall Guy')),\n",
       " ('Monika Dzienisiewicz-Olbrychska',\n",
       "  '4 de mayo de 1937',\n",
       "  None,\n",
       "  None,\n",
       "  ('Mensajero del futuro',\n",
       "   'Bailando con lobos',\n",
       "   'Robin Hood: Príncipe de los ladrones',\n",
       "   'El guardaespaldas'))]"
      ]
     },
     "execution_count": 15,
     "metadata": {},
     "output_type": "execute_result"
    }
   ],
   "source": [
    "comedy_elenco = list(tuple(zip(list_all_actors,nacimiento, premios, nominaciones, conocido)))\n",
    "\n",
    "comedy_elenco"
   ]
  },
  {
   "cell_type": "code",
   "execution_count": 16,
   "metadata": {},
   "outputs": [
    {
     "data": {
      "text/html": [
       "<div>\n",
       "<style scoped>\n",
       "    .dataframe tbody tr th:only-of-type {\n",
       "        vertical-align: middle;\n",
       "    }\n",
       "\n",
       "    .dataframe tbody tr th {\n",
       "        vertical-align: top;\n",
       "    }\n",
       "\n",
       "    .dataframe thead th {\n",
       "        text-align: right;\n",
       "    }\n",
       "</style>\n",
       "<table border=\"1\" class=\"dataframe\">\n",
       "  <thead>\n",
       "    <tr style=\"text-align: right;\">\n",
       "      <th></th>\n",
       "      <th>Nombre</th>\n",
       "      <th>Nacimiento</th>\n",
       "      <th>Premios</th>\n",
       "      <th>Nominaciones</th>\n",
       "      <th>Conocido por</th>\n",
       "    </tr>\n",
       "  </thead>\n",
       "  <tbody>\n",
       "    <tr>\n",
       "      <th>0</th>\n",
       "      <td>Rainer Abendroth</td>\n",
       "      <td>None</td>\n",
       "      <td>None</td>\n",
       "      <td>None</td>\n",
       "      <td>(Glücksrad, Freunde der Nacht, Der Kuckuckspfä...</td>\n",
       "    </tr>\n",
       "    <tr>\n",
       "      <th>1</th>\n",
       "      <td>Günther Amann</td>\n",
       "      <td>None</td>\n",
       "      <td>None</td>\n",
       "      <td>None</td>\n",
       "      <td>(Hembras salvajes en Ibiza, Adiestrados para m...</td>\n",
       "    </tr>\n",
       "    <tr>\n",
       "      <th>2</th>\n",
       "      <td>Peter Bond</td>\n",
       "      <td>29 de octubre de 1952</td>\n",
       "      <td>None</td>\n",
       "      <td>None</td>\n",
       "      <td>(Robin Hood: Ghosts of Sherwood, Der Koch, En ...</td>\n",
       "    </tr>\n",
       "    <tr>\n",
       "      <th>3</th>\n",
       "      <td>Petra Dyrthen</td>\n",
       "      <td>None</td>\n",
       "      <td>None</td>\n",
       "      <td>None</td>\n",
       "      <td>(Los tres mosqueteros de Alejandro Dumas, Der ...</td>\n",
       "    </tr>\n",
       "    <tr>\n",
       "      <th>4</th>\n",
       "      <td>Diana Jovanovic</td>\n",
       "      <td>None</td>\n",
       "      <td>None</td>\n",
       "      <td>None</td>\n",
       "      <td>(La trampa de Venus, Die Story, Flitterwochen,...</td>\n",
       "    </tr>\n",
       "    <tr>\n",
       "      <th>5</th>\n",
       "      <td>Régis Porte</td>\n",
       "      <td>4 de febrero de 1953</td>\n",
       "      <td>None</td>\n",
       "      <td>None</td>\n",
       "      <td>(Johnny English Returns, Push, Old man and a d...</td>\n",
       "    </tr>\n",
       "    <tr>\n",
       "      <th>6</th>\n",
       "      <td>Patricia Zenker</td>\n",
       "      <td>None</td>\n",
       "      <td>None</td>\n",
       "      <td>None</td>\n",
       "      <td>(Bik hue gim, Duet ming ga yan, Gung buk, San ...</td>\n",
       "    </tr>\n",
       "    <tr>\n",
       "      <th>7</th>\n",
       "      <td>Tobias Meister</td>\n",
       "      <td>9 de junio de 1957</td>\n",
       "      <td>None</td>\n",
       "      <td>None</td>\n",
       "      <td>(El mono borracho en el ojo del tigre, Shen di...</td>\n",
       "    </tr>\n",
       "    <tr>\n",
       "      <th>8</th>\n",
       "      <td>Herbert Fux</td>\n",
       "      <td>25 de marzo de 1927</td>\n",
       "      <td>None</td>\n",
       "      <td>None</td>\n",
       "      <td>(Mr. Vampire: El Señor de los Vampiros, Qian z...</td>\n",
       "    </tr>\n",
       "    <tr>\n",
       "      <th>9</th>\n",
       "      <td>Renate Langer</td>\n",
       "      <td>20 de mayo de 1956</td>\n",
       "      <td>None</td>\n",
       "      <td>None</td>\n",
       "      <td>(Dragon ball: La película - Comienza la magia,...</td>\n",
       "    </tr>\n",
       "    <tr>\n",
       "      <th>10</th>\n",
       "      <td>Paul Che</td>\n",
       "      <td>None</td>\n",
       "      <td>(2019 Nominado Festival Prize,)</td>\n",
       "      <td>()</td>\n",
       "      <td>(Ha luo, ye gui ren, Qian zuo guai, Wu du bu z...</td>\n",
       "    </tr>\n",
       "    <tr>\n",
       "      <th>11</th>\n",
       "      <td>Ching Yee Chong</td>\n",
       "      <td>13 de diciembre de 1959</td>\n",
       "      <td>None</td>\n",
       "      <td>None</td>\n",
       "      <td>(El mono borracho en el ojo del tigre, Lin Shi...</td>\n",
       "    </tr>\n",
       "    <tr>\n",
       "      <th>12</th>\n",
       "      <td>Chun-Hua Li</td>\n",
       "      <td>None</td>\n",
       "      <td>None</td>\n",
       "      <td>None</td>\n",
       "      <td>(Long Arm of the Law, Wo ai Ye Lai Xiang, El f...</td>\n",
       "    </tr>\n",
       "    <tr>\n",
       "      <th>13</th>\n",
       "      <td>Ricky Hui</td>\n",
       "      <td>3 de agosto de 1946</td>\n",
       "      <td>None</td>\n",
       "      <td>None</td>\n",
       "      <td>(Siete pistolas para los Mac Gregor, Una gota ...</td>\n",
       "    </tr>\n",
       "    <tr>\n",
       "      <th>14</th>\n",
       "      <td>Chi-Chi Chen</td>\n",
       "      <td>6 de octubre de 1975</td>\n",
       "      <td>None</td>\n",
       "      <td>None</td>\n",
       "      <td>(Lorca, muerte de un poeta, Relación fatal, Wi...</td>\n",
       "    </tr>\n",
       "    <tr>\n",
       "      <th>15</th>\n",
       "      <td>Ka Yik</td>\n",
       "      <td>None</td>\n",
       "      <td>None</td>\n",
       "      <td>None</td>\n",
       "      <td>(Eat Me! The Most Beautiful Cakes, Empreintes,...</td>\n",
       "    </tr>\n",
       "    <tr>\n",
       "      <th>16</th>\n",
       "      <td>Jing Tang</td>\n",
       "      <td>None</td>\n",
       "      <td>None</td>\n",
       "      <td>None</td>\n",
       "      <td>(Instinto peligroso, El agente, La hija del lo...</td>\n",
       "    </tr>\n",
       "    <tr>\n",
       "      <th>17</th>\n",
       "      <td>Johnny Koo</td>\n",
       "      <td>None</td>\n",
       "      <td>(1984 Nominado Golden Horse Award,)</td>\n",
       "      <td>(1985 Nominado Hong Kong Film Award,)</td>\n",
       "      <td>(Con faldas y a lo loco, Chantaje en Broadway,...</td>\n",
       "    </tr>\n",
       "    <tr>\n",
       "      <th>18</th>\n",
       "      <td>Lidia Zuazo</td>\n",
       "      <td>25 de noviembre de 1924</td>\n",
       "      <td>None</td>\n",
       "      <td>None</td>\n",
       "      <td>(Oficial y caballero, Enemigo mío, Tiburón 3-D...</td>\n",
       "    </tr>\n",
       "    <tr>\n",
       "      <th>19</th>\n",
       "      <td>Saturno Cerra</td>\n",
       "      <td>1932</td>\n",
       "      <td>None</td>\n",
       "      <td>None</td>\n",
       "      <td>(M*A*S*H, Regreso a la escuela, Pret-a-porter,...</td>\n",
       "    </tr>\n",
       "    <tr>\n",
       "      <th>20</th>\n",
       "      <td>Fabián Conde</td>\n",
       "      <td>None</td>\n",
       "      <td>None</td>\n",
       "      <td>None</td>\n",
       "      <td>(Desmadre a la americana, Harry el Sucio, Klow...</td>\n",
       "    </tr>\n",
       "    <tr>\n",
       "      <th>21</th>\n",
       "      <td>Valerio Ferrer</td>\n",
       "      <td>None</td>\n",
       "      <td>None</td>\n",
       "      <td>None</td>\n",
       "      <td>(Mladá léta, Paleta lásky, Náhrdelník, Z mého ...</td>\n",
       "    </tr>\n",
       "    <tr>\n",
       "      <th>22</th>\n",
       "      <td>Maika Lesley</td>\n",
       "      <td>3 de junio de 1925</td>\n",
       "      <td>None</td>\n",
       "      <td>None</td>\n",
       "      <td>(Nahá pastýrka, Slamený klobouk, El incinerado...</td>\n",
       "    </tr>\n",
       "    <tr>\n",
       "      <th>23</th>\n",
       "      <td>Tony Curtis</td>\n",
       "      <td>27 de mayo de 1936</td>\n",
       "      <td>None</td>\n",
       "      <td>None</td>\n",
       "      <td>(Cerní baroni, Nesmluvená setkání, Náhrdelník,...</td>\n",
       "    </tr>\n",
       "    <tr>\n",
       "      <th>24</th>\n",
       "      <td>Louis Gossett Jr.</td>\n",
       "      <td>2 de junio de 1937</td>\n",
       "      <td>None</td>\n",
       "      <td>None</td>\n",
       "      <td>(Cerní baroni, Cirkus Bukowsky, Kapitán Exner,...</td>\n",
       "    </tr>\n",
       "    <tr>\n",
       "      <th>25</th>\n",
       "      <td>Sally Kellerman</td>\n",
       "      <td>24 de febrero de 1932</td>\n",
       "      <td>None</td>\n",
       "      <td>None</td>\n",
       "      <td>(Beauty in Trouble, Arrowsmith, Babicka, Kdo h...</td>\n",
       "    </tr>\n",
       "    <tr>\n",
       "      <th>26</th>\n",
       "      <td>John Vernon</td>\n",
       "      <td>15 de marzo</td>\n",
       "      <td>None</td>\n",
       "      <td>None</td>\n",
       "      <td>(Final Fantasy XV, Einsatz für Lohbeck, Solang...</td>\n",
       "    </tr>\n",
       "    <tr>\n",
       "      <th>27</th>\n",
       "      <td>Lisa Langlois</td>\n",
       "      <td>10 de marzo de 1932</td>\n",
       "      <td>None</td>\n",
       "      <td>None</td>\n",
       "      <td>(Un elefante se equivoca enormemente, Piezas a...</td>\n",
       "    </tr>\n",
       "    <tr>\n",
       "      <th>28</th>\n",
       "      <td>Eduard Cupák</td>\n",
       "      <td>9 de octubre de 1929</td>\n",
       "      <td>None</td>\n",
       "      <td>None</td>\n",
       "      <td>(En el lugar del crimen, Amarga cosecha, 5 Fla...</td>\n",
       "    </tr>\n",
       "    <tr>\n",
       "      <th>29</th>\n",
       "      <td>Vladimír Mensík</td>\n",
       "      <td>8 de junio de 1962</td>\n",
       "      <td>None</td>\n",
       "      <td>None</td>\n",
       "      <td>(El matrimonio de María Braun, Los cañones de ...</td>\n",
       "    </tr>\n",
       "    <tr>\n",
       "      <th>30</th>\n",
       "      <td>Lukás Vaculík</td>\n",
       "      <td>29 de septiembre de 1968</td>\n",
       "      <td>None</td>\n",
       "      <td>None</td>\n",
       "      <td>(Der Mörder mit dem Seidenschal, El mundo cone...</td>\n",
       "    </tr>\n",
       "    <tr>\n",
       "      <th>31</th>\n",
       "      <td>Michal Dlouhý</td>\n",
       "      <td>9 de junio de 1955</td>\n",
       "      <td>None</td>\n",
       "      <td>None</td>\n",
       "      <td>(Iluminación, Sowizdrzal swietokrzyski, Zycie ...</td>\n",
       "    </tr>\n",
       "    <tr>\n",
       "      <th>32</th>\n",
       "      <td>Jan Hrusínský</td>\n",
       "      <td>23 de octubre de 1943</td>\n",
       "      <td>None</td>\n",
       "      <td>None</td>\n",
       "      <td>(Prawo Agaty, Hallo Szpicbródka, czyli ostatni...</td>\n",
       "    </tr>\n",
       "    <tr>\n",
       "      <th>33</th>\n",
       "      <td>Bernd Stephan</td>\n",
       "      <td>28 de junio de 1947</td>\n",
       "      <td>None</td>\n",
       "      <td>None</td>\n",
       "      <td>(Sex Mission: Misión en el futuro, Jak pies z ...</td>\n",
       "    </tr>\n",
       "    <tr>\n",
       "      <th>34</th>\n",
       "      <td>Anny Duperey</td>\n",
       "      <td>22 de octubre de 1923</td>\n",
       "      <td>None</td>\n",
       "      <td>None</td>\n",
       "      <td>(Sex Mission: Misión en el futuro, Spowiedz dz...</td>\n",
       "    </tr>\n",
       "    <tr>\n",
       "      <th>35</th>\n",
       "      <td>Hans Beerhenke</td>\n",
       "      <td>28 de diciembre de 1922</td>\n",
       "      <td>None</td>\n",
       "      <td>None</td>\n",
       "      <td>(La lista de Schindler, Tres colores: Blanco, ...</td>\n",
       "    </tr>\n",
       "    <tr>\n",
       "      <th>36</th>\n",
       "      <td>Ivan Desny</td>\n",
       "      <td>18 de mayo de 1922</td>\n",
       "      <td>None</td>\n",
       "      <td>None</td>\n",
       "      <td>(Rocky V, Un regalo para papá, La balada de Lu...</td>\n",
       "    </tr>\n",
       "    <tr>\n",
       "      <th>37</th>\n",
       "      <td>Adrian Hoven</td>\n",
       "      <td>23 de abril de 1939</td>\n",
       "      <td>None</td>\n",
       "      <td>None</td>\n",
       "      <td>(Permanezca en sintonía, Runaway Nightmare, Pu...</td>\n",
       "    </tr>\n",
       "    <tr>\n",
       "      <th>38</th>\n",
       "      <td>Monika Dzienisiewicz-Olbrychska</td>\n",
       "      <td>4 de mayo de 1937</td>\n",
       "      <td>None</td>\n",
       "      <td>None</td>\n",
       "      <td>(Mensajero del futuro, Bailando con lobos, Rob...</td>\n",
       "    </tr>\n",
       "  </tbody>\n",
       "</table>\n",
       "</div>"
      ],
      "text/plain": [
       "                             Nombre                Nacimiento  \\\n",
       "0                  Rainer Abendroth                      None   \n",
       "1                     Günther Amann                      None   \n",
       "2                        Peter Bond     29 de octubre de 1952   \n",
       "3                     Petra Dyrthen                      None   \n",
       "4                   Diana Jovanovic                      None   \n",
       "5                       Régis Porte      4 de febrero de 1953   \n",
       "6                   Patricia Zenker                      None   \n",
       "7                    Tobias Meister        9 de junio de 1957   \n",
       "8                       Herbert Fux       25 de marzo de 1927   \n",
       "9                     Renate Langer        20 de mayo de 1956   \n",
       "10                         Paul Che                      None   \n",
       "11                  Ching Yee Chong   13 de diciembre de 1959   \n",
       "12                      Chun-Hua Li                      None   \n",
       "13                        Ricky Hui       3 de agosto de 1946   \n",
       "14                     Chi-Chi Chen      6 de octubre de 1975   \n",
       "15                           Ka Yik                      None   \n",
       "16                        Jing Tang                      None   \n",
       "17                       Johnny Koo                      None   \n",
       "18                      Lidia Zuazo   25 de noviembre de 1924   \n",
       "19                    Saturno Cerra                      1932   \n",
       "20                     Fabián Conde                      None   \n",
       "21                   Valerio Ferrer                      None   \n",
       "22                     Maika Lesley        3 de junio de 1925   \n",
       "23                      Tony Curtis        27 de mayo de 1936   \n",
       "24                Louis Gossett Jr.        2 de junio de 1937   \n",
       "25                  Sally Kellerman     24 de febrero de 1932   \n",
       "26                      John Vernon               15 de marzo   \n",
       "27                    Lisa Langlois       10 de marzo de 1932   \n",
       "28                     Eduard Cupák      9 de octubre de 1929   \n",
       "29                  Vladimír Mensík        8 de junio de 1962   \n",
       "30                    Lukás Vaculík  29 de septiembre de 1968   \n",
       "31                    Michal Dlouhý        9 de junio de 1955   \n",
       "32                    Jan Hrusínský     23 de octubre de 1943   \n",
       "33                    Bernd Stephan       28 de junio de 1947   \n",
       "34                     Anny Duperey     22 de octubre de 1923   \n",
       "35                   Hans Beerhenke   28 de diciembre de 1922   \n",
       "36                       Ivan Desny        18 de mayo de 1922   \n",
       "37                     Adrian Hoven       23 de abril de 1939   \n",
       "38  Monika Dzienisiewicz-Olbrychska         4 de mayo de 1937   \n",
       "\n",
       "                                Premios  \\\n",
       "0                                  None   \n",
       "1                                  None   \n",
       "2                                  None   \n",
       "3                                  None   \n",
       "4                                  None   \n",
       "5                                  None   \n",
       "6                                  None   \n",
       "7                                  None   \n",
       "8                                  None   \n",
       "9                                  None   \n",
       "10      (2019 Nominado Festival Prize,)   \n",
       "11                                 None   \n",
       "12                                 None   \n",
       "13                                 None   \n",
       "14                                 None   \n",
       "15                                 None   \n",
       "16                                 None   \n",
       "17  (1984 Nominado Golden Horse Award,)   \n",
       "18                                 None   \n",
       "19                                 None   \n",
       "20                                 None   \n",
       "21                                 None   \n",
       "22                                 None   \n",
       "23                                 None   \n",
       "24                                 None   \n",
       "25                                 None   \n",
       "26                                 None   \n",
       "27                                 None   \n",
       "28                                 None   \n",
       "29                                 None   \n",
       "30                                 None   \n",
       "31                                 None   \n",
       "32                                 None   \n",
       "33                                 None   \n",
       "34                                 None   \n",
       "35                                 None   \n",
       "36                                 None   \n",
       "37                                 None   \n",
       "38                                 None   \n",
       "\n",
       "                             Nominaciones  \\\n",
       "0                                    None   \n",
       "1                                    None   \n",
       "2                                    None   \n",
       "3                                    None   \n",
       "4                                    None   \n",
       "5                                    None   \n",
       "6                                    None   \n",
       "7                                    None   \n",
       "8                                    None   \n",
       "9                                    None   \n",
       "10                                     ()   \n",
       "11                                   None   \n",
       "12                                   None   \n",
       "13                                   None   \n",
       "14                                   None   \n",
       "15                                   None   \n",
       "16                                   None   \n",
       "17  (1985 Nominado Hong Kong Film Award,)   \n",
       "18                                   None   \n",
       "19                                   None   \n",
       "20                                   None   \n",
       "21                                   None   \n",
       "22                                   None   \n",
       "23                                   None   \n",
       "24                                   None   \n",
       "25                                   None   \n",
       "26                                   None   \n",
       "27                                   None   \n",
       "28                                   None   \n",
       "29                                   None   \n",
       "30                                   None   \n",
       "31                                   None   \n",
       "32                                   None   \n",
       "33                                   None   \n",
       "34                                   None   \n",
       "35                                   None   \n",
       "36                                   None   \n",
       "37                                   None   \n",
       "38                                   None   \n",
       "\n",
       "                                         Conocido por  \n",
       "0   (Glücksrad, Freunde der Nacht, Der Kuckuckspfä...  \n",
       "1   (Hembras salvajes en Ibiza, Adiestrados para m...  \n",
       "2   (Robin Hood: Ghosts of Sherwood, Der Koch, En ...  \n",
       "3   (Los tres mosqueteros de Alejandro Dumas, Der ...  \n",
       "4   (La trampa de Venus, Die Story, Flitterwochen,...  \n",
       "5   (Johnny English Returns, Push, Old man and a d...  \n",
       "6   (Bik hue gim, Duet ming ga yan, Gung buk, San ...  \n",
       "7   (El mono borracho en el ojo del tigre, Shen di...  \n",
       "8   (Mr. Vampire: El Señor de los Vampiros, Qian z...  \n",
       "9   (Dragon ball: La película - Comienza la magia,...  \n",
       "10  (Ha luo, ye gui ren, Qian zuo guai, Wu du bu z...  \n",
       "11  (El mono borracho en el ojo del tigre, Lin Shi...  \n",
       "12  (Long Arm of the Law, Wo ai Ye Lai Xiang, El f...  \n",
       "13  (Siete pistolas para los Mac Gregor, Una gota ...  \n",
       "14  (Lorca, muerte de un poeta, Relación fatal, Wi...  \n",
       "15  (Eat Me! The Most Beautiful Cakes, Empreintes,...  \n",
       "16  (Instinto peligroso, El agente, La hija del lo...  \n",
       "17  (Con faldas y a lo loco, Chantaje en Broadway,...  \n",
       "18  (Oficial y caballero, Enemigo mío, Tiburón 3-D...  \n",
       "19  (M*A*S*H, Regreso a la escuela, Pret-a-porter,...  \n",
       "20  (Desmadre a la americana, Harry el Sucio, Klow...  \n",
       "21  (Mladá léta, Paleta lásky, Náhrdelník, Z mého ...  \n",
       "22  (Nahá pastýrka, Slamený klobouk, El incinerado...  \n",
       "23  (Cerní baroni, Nesmluvená setkání, Náhrdelník,...  \n",
       "24  (Cerní baroni, Cirkus Bukowsky, Kapitán Exner,...  \n",
       "25  (Beauty in Trouble, Arrowsmith, Babicka, Kdo h...  \n",
       "26  (Final Fantasy XV, Einsatz für Lohbeck, Solang...  \n",
       "27  (Un elefante se equivoca enormemente, Piezas a...  \n",
       "28  (En el lugar del crimen, Amarga cosecha, 5 Fla...  \n",
       "29  (El matrimonio de María Braun, Los cañones de ...  \n",
       "30  (Der Mörder mit dem Seidenschal, El mundo cone...  \n",
       "31  (Iluminación, Sowizdrzal swietokrzyski, Zycie ...  \n",
       "32  (Prawo Agaty, Hallo Szpicbródka, czyli ostatni...  \n",
       "33  (Sex Mission: Misión en el futuro, Jak pies z ...  \n",
       "34  (Sex Mission: Misión en el futuro, Spowiedz dz...  \n",
       "35  (La lista de Schindler, Tres colores: Blanco, ...  \n",
       "36  (Rocky V, Un regalo para papá, La balada de Lu...  \n",
       "37  (Permanezca en sintonía, Runaway Nightmare, Pu...  \n",
       "38  (Mensajero del futuro, Bailando con lobos, Rob...  "
      ]
     },
     "execution_count": 16,
     "metadata": {},
     "output_type": "execute_result"
    }
   ],
   "source": [
    "df_elenco = pd.DataFrame(comedy_elenco)\n",
    "df_elenco.columns = ['Nombre', 'Nacimiento', 'Premios', 'Nominaciones', 'Conocido por']\n",
    "df_elenco"
   ]
  },
  {
   "cell_type": "code",
   "execution_count": 17,
   "metadata": {},
   "outputs": [],
   "source": [
    "df_elenco.to_csv(\"Comedy_elenco.csv\")"
   ]
  }
 ],
 "metadata": {
  "kernelspec": {
   "display_name": "Python 3",
   "language": "python",
   "name": "python3"
  },
  "language_info": {
   "codemirror_mode": {
    "name": "ipython",
    "version": 3
   },
   "file_extension": ".py",
   "mimetype": "text/x-python",
   "name": "python",
   "nbconvert_exporter": "python",
   "pygments_lexer": "ipython3",
   "version": "3.12.4"
  }
 },
 "nbformat": 4,
 "nbformat_minor": 2
}
