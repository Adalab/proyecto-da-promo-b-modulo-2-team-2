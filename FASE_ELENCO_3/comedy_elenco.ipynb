{
 "cells": [
  {
   "cell_type": "code",
   "execution_count": 1,
   "metadata": {},
   "outputs": [],
   "source": [
    "import pandas as pd\n",
    "from selenium import webdriver  # Selenium es una herramienta para automatizar la interacción con navegadores web.\n",
    "from webdriver_manager.chrome import ChromeDriverManager  # ChromeDriverManager gestiona la instalación del controlador de Chrome.\n",
    "from selenium.webdriver.common.keys import Keys  # Keys es útil para simular eventos de teclado en Selenium.\n",
    "from selenium.webdriver.support.ui import Select  # Select se utiliza para interactuar con elementos <select> en páginas web.\n",
    "from tqdm import tqdm\n",
    "from time import sleep"
   ]
  },
  {
   "cell_type": "code",
   "execution_count": 2,
   "metadata": {},
   "outputs": [
    {
     "name": "stdout",
     "output_type": "stream",
     "text": [
      "    Unnamed: 0    idOwner                           Title   Type  Year   Genre\n",
      "0            0  tt0068745             Intime Liebschaften  Movie  1980  Comedy\n",
      "1            1  tt0075332  Zärtlich, aber frech wie Oskar  Movie  1980  Comedy\n",
      "2            2  tt0076464                   You ni mei ni  Movie  1980  Comedy\n",
      "3            3  tt0076580                   Qian zuo guai  Movie  1980  Comedy\n",
      "4            4  tt0077367          Consultorio sexológico  Movie  1980  Comedy\n",
      "..         ...        ...                             ...    ...   ...     ...\n",
      "82          82  tt0102952                    Prima Donnas  Movie  1995  Comedy\n",
      "83          83  tt0101616                    Coolie No. 1  Movie  1995  Comedy\n",
      "84          84  tt0102532                   Night Visions  Movie  1995  Comedy\n",
      "85          85  tt0108576                   Witch Academy  Movie  1995  Comedy\n",
      "86          86  tt0107537             Mécaniques célestes  Movie  1995  Comedy\n",
      "\n",
      "[87 rows x 6 columns]\n",
      "['tt0068745', 'tt0075332', 'tt0076464', 'tt0076580', 'tt0077367', 'tt0077428', 'tt0077883', 'tt0078853', 'tt0078304', 'tt0072173', 'tt0075816', 'tt0079396', 'tt0079650', 'tt0076041', 'tt0077731', 'tt0077885', 'tt0078411', 'tt0078834', 'tt0079720', 'tt0080393', 'tt0080680', 'tt0077173', 'tt0079509', 'tt0079915', 'tt0082788', 'tt0083715', 'tt0083518', 'tt0083640', 'tt0083592', 'tt0082469', 'tt0081674', 'tt0082670', 'tt0083013', 'tt0084533', 'tt0082674', 'tt0085455', 'tt0085860', 'tt0085437', 'tt0086595', 'tt0087560', 'tt0087978', 'tt0066020', 'tt0085690', 'tt0086025', 'tt0086028', 'tt0087945', 'tt0088468', 'tt0085708', 'tt0089727', 'tt0086964', 'tt0089758', 'tt0089878', 'tt0081766', 'tt0089280', 'tt0090681', 'tt0091158', 'tt0092773', 'tt0092503', 'tt0064820', 'tt0080828', 'tt0080755', 'tt0087634', 'tt0093268', 'tt0094735', 'tt0094123', 'tt0091899', 'tt0095840', 'tt0097253', 'tt0096506', 'tt0088267', 'tt0093309', 'tt0092984', 'tt0097122', 'tt0097111', 'tt0096154', 'tt0097775', 'tt0099089', 'tt0098965', 'tt0103592', 'tt0101644', 'tt0103951', 'tt0103770', 'tt0102952', 'tt0101616', 'tt0102532', 'tt0108576', 'tt0107537']\n"
     ]
    }
   ],
   "source": [
    "df_comedy = pd.read_csv(\"../FASE_API_1/Comedy.csv\")\n",
    "\n",
    "print(df_comedy)\n",
    "\n",
    "idOwner = []\n",
    "\n",
    "for i in df_comedy[\"idOwner\"]:\n",
    "    idOwner.append(i)\n",
    "    \n",
    "\n",
    "print(idOwner)"
   ]
  },
  {
   "cell_type": "code",
   "execution_count": 7,
   "metadata": {},
   "outputs": [
    {
     "data": {
      "text/plain": [
       "['tt0068745', 'tt0075332', 'tt0076464']"
      ]
     },
     "execution_count": 7,
     "metadata": {},
     "output_type": "execute_result"
    }
   ],
   "source": [
    "lista_id_peliculas_cortas = idOwner[:3]\n",
    "lista_id_peliculas_cortas"
   ]
  },
  {
   "cell_type": "code",
   "execution_count": 9,
   "metadata": {},
   "outputs": [
    {
     "name": "stderr",
     "output_type": "stream",
     "text": [
      "100%|██████████| 3/3 [00:33<00:00, 11.15s/it]\n"
     ]
    }
   ],
   "source": [
    "driver = webdriver.Chrome()\n",
    "\n",
    "driver.get('https://www.imdb.com/')\n",
    "\n",
    "driver.maximize_window()\n",
    "\n",
    "sleep (3)\n",
    "\n",
    "list_actors_by_movie = []\n",
    "\n",
    "list_all_actors = []\n",
    "\n",
    "for peli in tqdm(lista_id_peliculas_cortas):\n",
    "    \n",
    "    driver.find_element('css selector', '#suggestion-search').send_keys(peli, Keys.ENTER)\n",
    "    for i in range(1,3): # porque estamos cogiendo los 10 primeros actores\n",
    "        try:\n",
    "            actor = driver.find_element('css selector', f'#__next > main > div > section.ipc-page-background.ipc-page-background--base.sc-c41b9732-0.NeSef > div > section > div > div.sc-978e9339-1.ihWZgK.ipc-page-grid__item.ipc-page-grid__item--span-2 > section.ipc-page-section.ipc-page-section--base.sc-bfec09a1-0.jgUBLM.title-cast.title-cast--movie.celwidget > div.ipc-shoveler.ipc-shoveler--base.ipc-shoveler--page0.title-cast__grid > div.ipc-sub-grid.ipc-sub-grid--page-span-2.ipc-sub-grid--wraps-at-above-l.ipc-shoveler__grid > div:nth-child({i}) > div.sc-bfec09a1-7.gWwKlt > a').text\n",
    "            list_actors_by_movie.append({'nombre': actor, 'id_pelicula': peli})\n",
    "            # Para no repetir los actores y sacar una lista de actores:\n",
    "            \n",
    "            if(actor not in list_all_actors):\n",
    "                list_all_actors.append(actor)\n",
    "            \n",
    "        except:\n",
    "            print('No se encontraron actores')\n"
   ]
  },
  {
   "cell_type": "code",
   "execution_count": null,
   "metadata": {},
   "outputs": [],
   "source": [
    "print()"
   ]
  }
 ],
 "metadata": {
  "kernelspec": {
   "display_name": "Python 3",
   "language": "python",
   "name": "python3"
  },
  "language_info": {
   "codemirror_mode": {
    "name": "ipython",
    "version": 3
   },
   "file_extension": ".py",
   "mimetype": "text/x-python",
   "name": "python",
   "nbconvert_exporter": "python",
   "pygments_lexer": "ipython3",
   "version": "3.12.3"
  }
 },
 "nbformat": 4,
 "nbformat_minor": 2
}
