{
 "cells": [
  {
   "cell_type": "code",
   "execution_count": 1,
   "metadata": {},
   "outputs": [],
   "source": [
    "import pandas as pd\n",
    "from selenium import webdriver  # Selenium es una herramienta para automatizar la interacción con navegadores web.\n",
    "from webdriver_manager.chrome import ChromeDriverManager  # ChromeDriverManager gestiona la instalación del controlador de Chrome.\n",
    "from selenium.webdriver.common.keys import Keys  # Keys es útil para simular eventos de teclado en Selenium.\n",
    "from selenium.webdriver.support.ui import Select  # Select se utiliza para interactuar con elementos <select> en páginas web.\n",
    "from tqdm import tqdm\n",
    "from time import sleep"
   ]
  },
  {
   "cell_type": "code",
   "execution_count": 2,
   "metadata": {},
   "outputs": [
    {
     "name": "stdout",
     "output_type": "stream",
     "text": [
      "      idOwner                        Title   Type  Year    Genre\n",
      "0   tt0079258                     Habfürdö  Movie  1980  Romance\n",
      "1   tt0079014             Cuentos eróticos  Movie  1980  Romance\n",
      "2   tt0079579       Moskva slezam ne verit  Movie  1980  Romance\n",
      "3   tt0079835  S lyubimymi ne rasstavaytes  Movie  1980  Romance\n",
      "4   tt0077648             Habibi, amor mío  Movie  1981  Romance\n",
      "..        ...                          ...    ...   ...      ...\n",
      "69  tt0107834               La delegazione  Movie  1994  Romance\n",
      "70  tt0107677                  Nexus 2.431  Movie  1994  Romance\n",
      "71  tt0109363         Seeking the Cafe Bob  Movie  1995  Romance\n",
      "72  tt0109489                  Costa Brava  Movie  1995  Romance\n",
      "73  tt0109242             El beso perfecto  Short  1995  Romance\n",
      "\n",
      "[74 rows x 5 columns]\n",
      "['tt0079258', 'tt0079014', 'tt0079579', 'tt0079835', 'tt0077648', 'tt0080541', 'tt0080563', 'tt0080376', 'tt0080591', 'tt0080883', 'tt0082773', 'tt0082361', 'tt0081717', 'tt0082601', 'tt0080693', 'tt0081199', 'tt0084151', 'tt0084085', 'tt0083547', 'tt0083357', 'tt0085227', 'tt0085251', 'tt0085268', 'tt0085320', 'tt0085416', 'tt0086030', 'tt0086330', 'tt0086868', 'tt0086866', 'tt0086854', 'tt0088222', 'tt0088952', 'tt0089064', 'tt0089976', 'tt0089954', 'tt0087084', 'tt0088339', 'tt0087301', 'tt0089089', 'tt0090565', 'tt0090570', 'tt0092294', 'tt0092553', 'tt0092559', 'tt0093371', 'tt0092604', 'tt0092931', 'tt0092903', 'tt0094236', 'tt0092131', 'tt0094314', 'tt0093944', 'tt0096025', 'tt0099027', 'tt0100342', 'tt0100303', 'tt0100327', 'tt0100457', 'tt0099192', 'tt0101953', 'tt0101262', 'tt0101499', 'tt0102385', 'tt0102448', 'tt0103607', 'tt0101996', 'tt0104809', 'tt0103792', 'tt0097416', 'tt0107834', 'tt0107677', 'tt0109363', 'tt0109489', 'tt0109242']\n"
     ]
    }
   ],
   "source": [
    "df_romance = pd.read_csv(\"Romance.csv\")\n",
    "\n",
    "print(df_romance)\n",
    "\n",
    "idOwner = []\n",
    "\n",
    "for i in df_romance[\"idOwner\"]:\n",
    "    idOwner.append(i)\n",
    "    \n",
    "\n",
    "print(idOwner)"
   ]
  },
  {
   "cell_type": "code",
   "execution_count": 3,
   "metadata": {},
   "outputs": [
    {
     "data": {
      "text/plain": [
       "['tt0079258',\n",
       " 'tt0079014',\n",
       " 'tt0079579',\n",
       " 'tt0079835',\n",
       " 'tt0077648',\n",
       " 'tt0080541',\n",
       " 'tt0080563',\n",
       " 'tt0080376',\n",
       " 'tt0080591',\n",
       " 'tt0080883']"
      ]
     },
     "execution_count": 3,
     "metadata": {},
     "output_type": "execute_result"
    }
   ],
   "source": [
    "lista_id_peliculas_cortas = idOwner[:10]\n",
    "lista_id_peliculas_cortas"
   ]
  },
  {
   "cell_type": "code",
   "execution_count": 4,
   "metadata": {},
   "outputs": [
    {
     "name": "stderr",
     "output_type": "stream",
     "text": [
      "100%|██████████| 10/10 [00:42<00:00,  4.20s/it]\n"
     ]
    }
   ],
   "source": [
    "driver = webdriver.Chrome()\n",
    "\n",
    "driver.get('https://www.imdb.com/')\n",
    "\n",
    "driver.maximize_window()\n",
    "\n",
    "sleep (3)\n",
    "\n",
    "list_actors_by_movie = []\n",
    "\n",
    "list_all_actors = []\n",
    "\n",
    "for peli in tqdm(lista_id_peliculas_cortas):\n",
    "    \n",
    "    driver.find_element('css selector', '#suggestion-search').send_keys(peli, Keys.ENTER)\n",
    "    for i in range(1,6): # porque estamos cogiendo los 10 primeros actores\n",
    "        try:\n",
    "            actor = driver.find_element('css selector', f'#__next > main > div > section.ipc-page-background.ipc-page-background--base.sc-c41b9732-0.NeSef > div > section > div > div.sc-978e9339-1.ihWZgK.ipc-page-grid__item.ipc-page-grid__item--span-2 > section.ipc-page-section.ipc-page-section--base.sc-bfec09a1-0.jgUBLM.title-cast.title-cast--movie.celwidget > div.ipc-shoveler.ipc-shoveler--base.ipc-shoveler--page0.title-cast__grid > div.ipc-sub-grid.ipc-sub-grid--page-span-2.ipc-sub-grid--wraps-at-above-l.ipc-shoveler__grid > div:nth-child({i}) > div.sc-bfec09a1-7.gWwKlt > a').text\n",
    "            list_actors_by_movie.append({'nombre': actor, 'id_pelicula': peli})\n",
    "            # Para no repetir los actores y sacar una lista de actores:\n",
    "            \n",
    "            if(actor not in list_all_actors):\n",
    "                list_all_actors.append(actor)\n",
    "            \n",
    "        except:\n",
    "            print('No se encontraron actores')\n",
    "\n",
    "driver.close()\n",
    "    "
   ]
  },
  {
   "cell_type": "code",
   "execution_count": 5,
   "metadata": {},
   "outputs": [
    {
     "data": {
      "text/plain": [
       "[{'nombre': 'Albert Antalffy', 'id_pelicula': 'tt0079258'},\n",
       " {'nombre': 'Kati Bontovits', 'id_pelicula': 'tt0079258'},\n",
       " {'nombre': 'Katalin Dobos', 'id_pelicula': 'tt0079258'},\n",
       " {'nombre': 'Kornél Gelley', 'id_pelicula': 'tt0079258'},\n",
       " {'nombre': 'Lenke Lorán', 'id_pelicula': 'tt0079258'},\n",
       " {'nombre': 'Joaquín Hinojosa', 'id_pelicula': 'tt0079014'},\n",
       " {'nombre': 'Cristina Sánchez Pascual', 'id_pelicula': 'tt0079014'},\n",
       " {'nombre': 'Alicia Hermida', 'id_pelicula': 'tt0079014'},\n",
       " {'nombre': 'Luis Politti', 'id_pelicula': 'tt0079014'},\n",
       " {'nombre': 'Julieta Serrano', 'id_pelicula': 'tt0079014'},\n",
       " {'nombre': 'Vera Alentova', 'id_pelicula': 'tt0079579'},\n",
       " {'nombre': 'Aleksey Batalov', 'id_pelicula': 'tt0079579'},\n",
       " {'nombre': 'Irina Muravyova', 'id_pelicula': 'tt0079579'},\n",
       " {'nombre': 'Aleksandr Fatyushin', 'id_pelicula': 'tt0079579'},\n",
       " {'nombre': 'Raisa Ryazanova', 'id_pelicula': 'tt0079579'},\n",
       " {'nombre': 'Irina Alfyorova', 'id_pelicula': 'tt0079835'},\n",
       " {'nombre': 'Aleksandr Abdulov', 'id_pelicula': 'tt0079835'},\n",
       " {'nombre': 'Lyudmila Drebnyova', 'id_pelicula': 'tt0079835'},\n",
       " {'nombre': 'Rufina Nifontova', 'id_pelicula': 'tt0079835'},\n",
       " {'nombre': 'Klara Luchko', 'id_pelicula': 'tt0079835'},\n",
       " {'nombre': 'Stefano Patrizi', 'id_pelicula': 'tt0077648'},\n",
       " {'nombre': 'Lilli Carati', 'id_pelicula': 'tt0077648'},\n",
       " {'nombre': 'Miguel Ayones', 'id_pelicula': 'tt0077648'},\n",
       " {'nombre': 'Leonora Fani', 'id_pelicula': 'tt0077648'},\n",
       " {'nombre': 'Simón Andreu', 'id_pelicula': 'tt0077648'},\n",
       " {'nombre': 'Isabelle Adjani', 'id_pelicula': 'tt0080541'},\n",
       " {'nombre': 'Daniel Auteuil', 'id_pelicula': 'tt0080541'},\n",
       " {'nombre': 'Josiane Balasko', 'id_pelicula': 'tt0080541'},\n",
       " {'nombre': 'Christophe Bourseiller', 'id_pelicula': 'tt0080541'},\n",
       " {'nombre': 'Christian Clavier', 'id_pelicula': 'tt0080541'},\n",
       " {'nombre': 'Fernando Cabral Martins', 'id_pelicula': 'tt0080563'},\n",
       " {'nombre': 'André Gomes', 'id_pelicula': 'tt0080563'},\n",
       " {'nombre': 'Juliet Berto', 'id_pelicula': 'tt0080563'},\n",
       " {'nombre': 'Jorge Silva Melo', 'id_pelicula': 'tt0080563'},\n",
       " {'nombre': 'Luís Pacheco', 'id_pelicula': 'tt0080563'},\n",
       " {'nombre': 'Amitabh Bachchan', 'id_pelicula': 'tt0080376'},\n",
       " {'nombre': 'Rakhee Gulzar', 'id_pelicula': 'tt0080376'},\n",
       " {'nombre': 'Amjad Khan', 'id_pelicula': 'tt0080376'},\n",
       " {'nombre': 'Utpal Dutt', 'id_pelicula': 'tt0080376'},\n",
       " {'nombre': 'Prema Narayan', 'id_pelicula': 'tt0080376'},\n",
       " {'nombre': 'Marina Neyolova', 'id_pelicula': 'tt0080591'},\n",
       " {'nombre': 'Natalya Andreychenko', 'id_pelicula': 'tt0080591'},\n",
       " {'nombre': 'Mariya Vinogradova', 'id_pelicula': 'tt0080591'},\n",
       " {'nombre': 'Tatyana Bozhok', 'id_pelicula': 'tt0080591'},\n",
       " {'nombre': 'Nikolai Skorobogatov', 'id_pelicula': 'tt0080591'},\n",
       " {'nombre': 'Kapax', 'id_pelicula': 'tt0080883'},\n",
       " {'nombre': 'María Bauza', 'id_pelicula': 'tt0080883'},\n",
       " {'nombre': 'Aldo Sambrell', 'id_pelicula': 'tt0080883'},\n",
       " {'nombre': 'Eva Bravo', 'id_pelicula': 'tt0080883'},\n",
       " {'nombre': 'Flor Marina Rodríguez', 'id_pelicula': 'tt0080883'}]"
      ]
     },
     "execution_count": 5,
     "metadata": {},
     "output_type": "execute_result"
    }
   ],
   "source": [
    "list_actors_by_movie"
   ]
  },
  {
   "cell_type": "code",
   "execution_count": 6,
   "metadata": {},
   "outputs": [
    {
     "data": {
      "text/plain": [
       "['Albert Antalffy',\n",
       " 'Kati Bontovits',\n",
       " 'Katalin Dobos',\n",
       " 'Kornél Gelley',\n",
       " 'Lenke Lorán',\n",
       " 'Joaquín Hinojosa',\n",
       " 'Cristina Sánchez Pascual',\n",
       " 'Alicia Hermida',\n",
       " 'Luis Politti',\n",
       " 'Julieta Serrano',\n",
       " 'Vera Alentova',\n",
       " 'Aleksey Batalov',\n",
       " 'Irina Muravyova',\n",
       " 'Aleksandr Fatyushin',\n",
       " 'Raisa Ryazanova',\n",
       " 'Irina Alfyorova',\n",
       " 'Aleksandr Abdulov',\n",
       " 'Lyudmila Drebnyova',\n",
       " 'Rufina Nifontova',\n",
       " 'Klara Luchko',\n",
       " 'Stefano Patrizi',\n",
       " 'Lilli Carati',\n",
       " 'Miguel Ayones',\n",
       " 'Leonora Fani',\n",
       " 'Simón Andreu',\n",
       " 'Isabelle Adjani',\n",
       " 'Daniel Auteuil',\n",
       " 'Josiane Balasko',\n",
       " 'Christophe Bourseiller',\n",
       " 'Christian Clavier',\n",
       " 'Fernando Cabral Martins',\n",
       " 'André Gomes',\n",
       " 'Juliet Berto',\n",
       " 'Jorge Silva Melo',\n",
       " 'Luís Pacheco',\n",
       " 'Amitabh Bachchan',\n",
       " 'Rakhee Gulzar',\n",
       " 'Amjad Khan',\n",
       " 'Utpal Dutt',\n",
       " 'Prema Narayan',\n",
       " 'Marina Neyolova',\n",
       " 'Natalya Andreychenko',\n",
       " 'Mariya Vinogradova',\n",
       " 'Tatyana Bozhok',\n",
       " 'Nikolai Skorobogatov',\n",
       " 'Kapax',\n",
       " 'María Bauza',\n",
       " 'Aldo Sambrell',\n",
       " 'Eva Bravo',\n",
       " 'Flor Marina Rodríguez']"
      ]
     },
     "execution_count": 6,
     "metadata": {},
     "output_type": "execute_result"
    }
   ],
   "source": [
    "list_all_actors"
   ]
  },
  {
   "cell_type": "code",
   "execution_count": 7,
   "metadata": {},
   "outputs": [
    {
     "name": "stderr",
     "output_type": "stream",
     "text": [
      "  0%|          | 0/50 [00:00<?, ?it/s]"
     ]
    },
    {
     "name": "stdout",
     "output_type": "stream",
     "text": [
      "El actor Albert Antalffy no es conocido por nada más  \n",
      "Este actor no tiene premios\n"
     ]
    },
    {
     "name": "stderr",
     "output_type": "stream",
     "text": [
      "  2%|▏         | 1/50 [00:11<09:07, 11.17s/it]"
     ]
    },
    {
     "name": "stdout",
     "output_type": "stream",
     "text": [
      "Este actor no tiene premios\n"
     ]
    },
    {
     "name": "stderr",
     "output_type": "stream",
     "text": [
      "  4%|▍         | 2/50 [00:20<08:12, 10.26s/it]"
     ]
    },
    {
     "name": "stdout",
     "output_type": "stream",
     "text": [
      "Este actor no tiene premios\n"
     ]
    },
    {
     "name": "stderr",
     "output_type": "stream",
     "text": [
      "  6%|▌         | 3/50 [00:31<08:20, 10.65s/it]"
     ]
    },
    {
     "name": "stdout",
     "output_type": "stream",
     "text": [
      "Este actor no tiene premios\n"
     ]
    },
    {
     "name": "stderr",
     "output_type": "stream",
     "text": [
      "  8%|▊         | 4/50 [00:42<08:12, 10.71s/it]"
     ]
    },
    {
     "name": "stdout",
     "output_type": "stream",
     "text": [
      "Este actor no tiene premios\n"
     ]
    },
    {
     "name": "stderr",
     "output_type": "stream",
     "text": [
      " 12%|█▏        | 6/50 [01:04<07:49, 10.66s/it]"
     ]
    },
    {
     "name": "stdout",
     "output_type": "stream",
     "text": [
      "Este actor no tiene premios\n"
     ]
    },
    {
     "name": "stderr",
     "output_type": "stream",
     "text": [
      " 14%|█▍        | 7/50 [01:14<07:38, 10.65s/it]"
     ]
    },
    {
     "name": "stdout",
     "output_type": "stream",
     "text": [
      "Entramos en los premios\n"
     ]
    },
    {
     "name": "stderr",
     "output_type": "stream",
     "text": [
      " 16%|█▌        | 8/50 [01:29<08:17, 11.85s/it]"
     ]
    },
    {
     "name": "stdout",
     "output_type": "stream",
     "text": [
      "Este actor no tiene premios\n"
     ]
    },
    {
     "name": "stderr",
     "output_type": "stream",
     "text": [
      " 18%|█▊        | 9/50 [01:39<07:40, 11.23s/it]"
     ]
    },
    {
     "name": "stdout",
     "output_type": "stream",
     "text": [
      "Entramos en los premios\n"
     ]
    },
    {
     "name": "stderr",
     "output_type": "stream",
     "text": [
      " 24%|██▍       | 12/50 [02:18<07:31, 11.87s/it]"
     ]
    },
    {
     "name": "stdout",
     "output_type": "stream",
     "text": [
      "Entramos en los premios\n"
     ]
    },
    {
     "name": "stderr",
     "output_type": "stream",
     "text": [
      " 26%|██▌       | 13/50 [02:33<07:56, 12.88s/it]"
     ]
    },
    {
     "name": "stdout",
     "output_type": "stream",
     "text": [
      "Este actor no tiene premios\n"
     ]
    },
    {
     "name": "stderr",
     "output_type": "stream",
     "text": [
      " 28%|██▊       | 14/50 [02:45<07:28, 12.47s/it]"
     ]
    },
    {
     "name": "stdout",
     "output_type": "stream",
     "text": [
      "Entramos en los premios\n"
     ]
    },
    {
     "name": "stderr",
     "output_type": "stream",
     "text": [
      " 30%|███       | 15/50 [02:59<07:39, 13.13s/it]"
     ]
    },
    {
     "name": "stdout",
     "output_type": "stream",
     "text": [
      "Entramos en los premios\n"
     ]
    },
    {
     "name": "stderr",
     "output_type": "stream",
     "text": [
      " 32%|███▏      | 16/50 [03:14<07:42, 13.60s/it]"
     ]
    },
    {
     "name": "stdout",
     "output_type": "stream",
     "text": [
      "Entramos en los premios\n"
     ]
    },
    {
     "name": "stderr",
     "output_type": "stream",
     "text": [
      " 34%|███▍      | 17/50 [03:31<08:00, 14.57s/it]"
     ]
    },
    {
     "name": "stdout",
     "output_type": "stream",
     "text": [
      "Este actor no tiene premios\n"
     ]
    },
    {
     "name": "stderr",
     "output_type": "stream",
     "text": [
      " 38%|███▊      | 19/50 [03:51<06:17, 12.16s/it]"
     ]
    },
    {
     "name": "stdout",
     "output_type": "stream",
     "text": [
      "Entramos en los premios\n"
     ]
    },
    {
     "name": "stderr",
     "output_type": "stream",
     "text": [
      " 40%|████      | 20/50 [04:04<06:20, 12.68s/it]"
     ]
    },
    {
     "name": "stdout",
     "output_type": "stream",
     "text": [
      "Este actor no tiene premios\n"
     ]
    },
    {
     "name": "stderr",
     "output_type": "stream",
     "text": [
      " 42%|████▏     | 21/50 [04:15<05:48, 12.01s/it]"
     ]
    },
    {
     "name": "stdout",
     "output_type": "stream",
     "text": [
      "Este actor no tiene premios\n"
     ]
    },
    {
     "name": "stderr",
     "output_type": "stream",
     "text": [
      " 44%|████▍     | 22/50 [04:26<05:27, 11.69s/it]"
     ]
    },
    {
     "name": "stdout",
     "output_type": "stream",
     "text": [
      "Este actor no tiene premios\n"
     ]
    },
    {
     "name": "stderr",
     "output_type": "stream",
     "text": [
      " 46%|████▌     | 23/50 [04:36<05:02, 11.21s/it]"
     ]
    },
    {
     "name": "stdout",
     "output_type": "stream",
     "text": [
      "Este actor no tiene premios\n"
     ]
    },
    {
     "name": "stderr",
     "output_type": "stream",
     "text": [
      " 48%|████▊     | 24/50 [04:46<04:40, 10.81s/it]"
     ]
    },
    {
     "name": "stdout",
     "output_type": "stream",
     "text": [
      "Entramos en los premios\n"
     ]
    },
    {
     "name": "stderr",
     "output_type": "stream",
     "text": [
      " 50%|█████     | 25/50 [05:02<05:10, 12.42s/it]"
     ]
    },
    {
     "name": "stdout",
     "output_type": "stream",
     "text": [
      "Entramos en los premios\n"
     ]
    },
    {
     "name": "stderr",
     "output_type": "stream",
     "text": [
      " 52%|█████▏    | 26/50 [05:22<05:52, 14.70s/it]"
     ]
    },
    {
     "name": "stdout",
     "output_type": "stream",
     "text": [
      "Entramos en los premios\n"
     ]
    },
    {
     "name": "stderr",
     "output_type": "stream",
     "text": [
      " 54%|█████▍    | 27/50 [05:41<06:08, 16.01s/it]"
     ]
    },
    {
     "name": "stdout",
     "output_type": "stream",
     "text": [
      "Entramos en los premios\n"
     ]
    },
    {
     "name": "stderr",
     "output_type": "stream",
     "text": [
      " 56%|█████▌    | 28/50 [05:57<05:49, 15.88s/it]"
     ]
    },
    {
     "name": "stdout",
     "output_type": "stream",
     "text": [
      "Este actor no tiene premios\n"
     ]
    },
    {
     "name": "stderr",
     "output_type": "stream",
     "text": [
      " 58%|█████▊    | 29/50 [06:06<04:54, 14.01s/it]"
     ]
    },
    {
     "name": "stdout",
     "output_type": "stream",
     "text": [
      "Entramos en los premios\n"
     ]
    },
    {
     "name": "stderr",
     "output_type": "stream",
     "text": [
      " 60%|██████    | 30/50 [06:21<04:45, 14.26s/it]"
     ]
    },
    {
     "name": "stdout",
     "output_type": "stream",
     "text": [
      "El actor Fernando Cabral Martins no es conocido por nada más  \n",
      "Este actor no tiene premios\n"
     ]
    },
    {
     "name": "stderr",
     "output_type": "stream",
     "text": [
      " 62%|██████▏   | 31/50 [06:30<04:02, 12.74s/it]"
     ]
    },
    {
     "name": "stdout",
     "output_type": "stream",
     "text": [
      "Entramos en los premios\n"
     ]
    },
    {
     "name": "stderr",
     "output_type": "stream",
     "text": [
      " 64%|██████▍   | 32/50 [06:45<03:58, 13.23s/it]"
     ]
    },
    {
     "name": "stdout",
     "output_type": "stream",
     "text": [
      "Entramos en los premios\n"
     ]
    },
    {
     "name": "stderr",
     "output_type": "stream",
     "text": [
      " 66%|██████▌   | 33/50 [07:00<03:53, 13.74s/it]"
     ]
    },
    {
     "name": "stdout",
     "output_type": "stream",
     "text": [
      "Entramos en los premios\n"
     ]
    },
    {
     "name": "stderr",
     "output_type": "stream",
     "text": [
      " 70%|███████   | 35/50 [07:26<03:18, 13.21s/it]"
     ]
    },
    {
     "name": "stdout",
     "output_type": "stream",
     "text": [
      "Entramos en los premios\n"
     ]
    },
    {
     "name": "stderr",
     "output_type": "stream",
     "text": [
      " 72%|███████▏  | 36/50 [07:50<03:53, 16.66s/it]"
     ]
    },
    {
     "name": "stdout",
     "output_type": "stream",
     "text": [
      "Entramos en los premios\n"
     ]
    },
    {
     "name": "stderr",
     "output_type": "stream",
     "text": [
      " 74%|███████▍  | 37/50 [08:08<03:39, 16.90s/it]"
     ]
    },
    {
     "name": "stdout",
     "output_type": "stream",
     "text": [
      "Entramos en los premios\n"
     ]
    },
    {
     "name": "stderr",
     "output_type": "stream",
     "text": [
      " 76%|███████▌  | 38/50 [08:26<03:26, 17.17s/it]"
     ]
    },
    {
     "name": "stdout",
     "output_type": "stream",
     "text": [
      "Entramos en los premios\n"
     ]
    },
    {
     "name": "stderr",
     "output_type": "stream",
     "text": [
      " 84%|████████▍ | 42/50 [09:15<01:45, 13.21s/it]"
     ]
    },
    {
     "name": "stdout",
     "output_type": "stream",
     "text": [
      "Este actor no tiene premios\n"
     ]
    },
    {
     "name": "stderr",
     "output_type": "stream",
     "text": [
      " 86%|████████▌ | 43/50 [09:25<01:26, 12.39s/it]"
     ]
    },
    {
     "name": "stdout",
     "output_type": "stream",
     "text": [
      "Este actor no tiene premios\n"
     ]
    },
    {
     "name": "stderr",
     "output_type": "stream",
     "text": [
      " 88%|████████▊ | 44/50 [09:37<01:13, 12.26s/it]"
     ]
    },
    {
     "name": "stdout",
     "output_type": "stream",
     "text": [
      "Este actor no tiene premios\n"
     ]
    },
    {
     "name": "stderr",
     "output_type": "stream",
     "text": [
      " 90%|█████████ | 45/50 [09:48<00:59, 11.84s/it]"
     ]
    },
    {
     "name": "stdout",
     "output_type": "stream",
     "text": [
      "Este actor no tiene premios\n"
     ]
    },
    {
     "name": "stderr",
     "output_type": "stream",
     "text": [
      " 92%|█████████▏| 46/50 [10:01<00:47, 11.99s/it]"
     ]
    },
    {
     "name": "stdout",
     "output_type": "stream",
     "text": [
      "Este actor no tiene premios\n"
     ]
    },
    {
     "name": "stderr",
     "output_type": "stream",
     "text": [
      " 94%|█████████▍| 47/50 [10:10<00:33, 11.32s/it]"
     ]
    },
    {
     "name": "stdout",
     "output_type": "stream",
     "text": [
      "Este actor no tiene premios\n"
     ]
    },
    {
     "name": "stderr",
     "output_type": "stream",
     "text": [
      " 96%|█████████▌| 48/50 [10:23<00:23, 11.75s/it]"
     ]
    },
    {
     "name": "stdout",
     "output_type": "stream",
     "text": [
      "Este actor no tiene premios\n"
     ]
    },
    {
     "name": "stderr",
     "output_type": "stream",
     "text": [
      " 98%|█████████▊| 49/50 [10:33<00:11, 11.20s/it]"
     ]
    },
    {
     "name": "stdout",
     "output_type": "stream",
     "text": [
      "El actor Flor Marina Rodríguez no es conocido por nada más  \n",
      "Este actor no tiene premios\n"
     ]
    },
    {
     "name": "stderr",
     "output_type": "stream",
     "text": [
      "100%|██████████| 50/50 [10:46<00:00, 12.93s/it]\n"
     ]
    }
   ],
   "source": [
    "driver = webdriver.Chrome()\n",
    "\n",
    "driver.get('https://www.imdb.com/')\n",
    "\n",
    "driver.maximize_window()\n",
    "\n",
    "sleep (5)\n",
    "\n",
    "#Cookies\n",
    "driver.find_element('css selector', '#__next > div > div > div.sc-jrcTuL.bPmWiM > div > button.icb-btn.sc-bcXHqe.sc-dkrFOg.sc-iBYQkv.dcvrLS.ddtuHe.dRCGjd').click()\n",
    "\n",
    "sleep(2)\n",
    "\n",
    "nacimiento = []\n",
    "premios_actor = []\n",
    "conocido = []\n",
    "pelis = []\n",
    "\n",
    "  \n",
    "for actor in tqdm(list_all_actors):\n",
    "    conocido_por = []\n",
    "    ganados = []\n",
    "    nominaciones = []\n",
    "    peliculas = []\n",
    "    # buscamos al actor\n",
    "    driver.find_element('css selector', '#suggestion-search').send_keys(actor, Keys.ENTER)\n",
    "    \n",
    "    # clickamos en la primera coincidencia\n",
    "    driver.find_element('css selector', '#__next > main > div.ipc-page-content-container.ipc-page-content-container--full.sc-e51f9d6d-0.Fmvqg > div.ipc-page-content-container.ipc-page-content-container--center > section > div > div.ipc-page-grid__item.ipc-page-grid__item--span-2 > section:nth-child(4) > div.sc-e8e4ce7-2.iXsuvN > ul > li:nth-child(1) > div.ipc-metadata-list-summary-item__c > div > a').click()\n",
    "    \n",
    "    # añadimos fecha nacimiento_actor\n",
    "    \n",
    "    try:\n",
    "        nacimiento.append(driver.find_element('xpath', '//*[@id=\"__next\"]/main/div/section[1]/section/div[3]/section/section/div[3]/div/div[2]/section/aside/div/span[2]').text)\n",
    "    \n",
    "    except:\n",
    "        nacimiento.append(None)  \n",
    "    \n",
    "    try: \n",
    "        for elemento in range (1,5):\n",
    "            \n",
    "            conocido_por.append(driver.find_element('css selector', f'#__next > main > div > section.ipc-page-background.ipc-page-background--base.sc-c41b9732-0.NeSef > div > section > div > div.sc-978e9339-1.ihWZgK.ipc-page-grid__item.ipc-page-grid__item--span-2 > div.celwidget > section:nth-child(1) > div.sc-1c5b3162-0.fFgRFS > div > div.ipc-sub-grid.ipc-sub-grid--page-span-2.ipc-sub-grid--wraps-at-above-l.ipc-shoveler__grid > div:nth-child({elemento}) > div.ipc-primary-image-list-card__content > div.ipc-primary-image-list-card__content-top > a').text)\n",
    "\n",
    "        conocido.append(tuple(conocido_por))\n",
    "    except:\n",
    "        print(f\"El actor {actor} no es conocido por nada más  \")\n",
    "    \n",
    "    # añadimos lista 10 peliculas en las que ha participado\n",
    "    \n",
    "    try: \n",
    "        \n",
    "        for peli in range(1,10):\n",
    "            \n",
    "            try:\n",
    "        \n",
    "                peliculas.append(driver.find_element('xpath', f'#accordion-item-actor-previous-projects > div > ul > li:nth-child({peli}) > div.ipc-metadata-list-summary-item__c > div.ipc-metadata-list-summary-item__tc > a').text)\n",
    "        \n",
    "                pelis.append(tuple(peliculas))\n",
    "        \n",
    "            except: \n",
    "                try:\n",
    "                    peliculas.append(driver.find_element('xpath', '//*[@id=\"accordion-item-actor-previous-projects\"]/div/ul/li[1]/div[2]/div[1]/a').text)\n",
    "                                                        #//*[@id=\"accordion-item-actor-previous-projects\"]/div/ul/li[2]/div[2]/div[1]/a\n",
    "                \n",
    "                except:\n",
    "                    peliculas.append(None)\n",
    "\n",
    "    except:\n",
    "        print(f\"el actor {actor} no tiene más peliculas\")\n",
    "        \n",
    "    # accedemos a premios\n",
    "    \n",
    "    try:\n",
    "        driver.find_element('css selector', '#__next > main > div > section.ipc-page-background.ipc-page-background--base.sc-c41b9732-0.NeSef > div > section > div > div.sc-978e9339-1.ihWZgK.ipc-page-grid__item.ipc-page-grid__item--span-2 > section:nth-child(3) > div > ul > li > div').click()\n",
    "    \n",
    "    except:\n",
    "        try: # hago el try dos veces porque en el primer intento consigo que el navegador se mueva al elemento y en el except es cuando consigo clickearlo\n",
    "            sleep(3)\n",
    "            driver.find_element('css selector', '#__next > main > div > section.ipc-page-background.ipc-page-background--base.sc-c41b9732-0.NeSef > div > section > div > div.sc-978e9339-1.ihWZgK.ipc-page-grid__item.ipc-page-grid__item--span-2 > section:nth-child(3) > div > ul > li > div').click()\n",
    "            \n",
    "            print('Entramos en los premios')\n",
    "        except:\n",
    "            print(\"Este actor no tiene premios\")\n",
    "\n",
    "    for premio in range (1,11):\n",
    "        try: \n",
    "            # premios ganados\n",
    "            ganados.append(driver.find_element('css selector', f'#__next > main > div > section > div > section > div > div.sc-978e9339-1.ihWZgK.ipc-page-grid__item.ipc-page-grid__item--span-2 > section:nth-child(3) > div.sc-f65f65be-0.bBlII > ul > li:nth-child({premio}) > div.ipc-metadata-list-summary-item__c > div > a').text)\n",
    "            # nominaciones                                                    \n",
    "            nominaciones.append(driver.find_element('css selector', f'#__next > main > div > section > div > section > div > div.sc-978e9339-1.ihWZgK.ipc-page-grid__item.ipc-page-grid__item--span-2 > section:nth-child(4) > div.sc-f65f65be-0.bBlII > ul > li:nth-child({premio}) > div.ipc-metadata-list-summary-item__c > div > a').text)\n",
    "\n",
    "        except:                                                  \n",
    "            pass\n",
    "    \n",
    "    # comprobamos si tiene premio ganado o nominacion, si es así lo añadimos al diccionario de premios por actor\n",
    "    if len(ganados) > 0 or len(nominaciones) > 0:\n",
    "        premios_actor.append({'premios ganados': ganados, 'nominaciones': nominaciones})\n",
    "    \n",
    "    else:\n",
    "        premios_actor.append(None)\n",
    "    \n",
    "    driver.back()\n",
    "\n",
    "\n",
    "driver.close()\n",
    "    "
   ]
  },
  {
   "cell_type": "code",
   "execution_count": 8,
   "metadata": {},
   "outputs": [
    {
     "data": {
      "text/plain": [
       "[('Habfürdö', 'Ripacsok', 'Sértés', 'Az aranyifjú'),\n",
       " ('Habfürdö',\n",
       "  'Ki beszél itt szerelemröl?!',\n",
       "  'Mindenki fél a törpétöl',\n",
       "  'Sacra Corona'),\n",
       " ('Századunk', 'Die Csárdásfürstin', 'Kakuk Marci', 'Brutus'),\n",
       " ('Habfürdö',\n",
       "  'Die Csárdásfürstin',\n",
       "  'Gyalog a mennyországba',\n",
       "  'Felfelé a lejtön'),\n",
       " ('Tigres de papel', 'Lalola', 'El caballero Don Quijote', 'Teatro'),\n",
       " ('Entre tinieblas',\n",
       "  'Aftershock',\n",
       "  'Pepi, Luci, Bom y otras chicas del montón',\n",
       "  'Cuentos eróticos'),\n",
       " ('Cuéntame cómo pasó',\n",
       "  'El hombre de la nevera',\n",
       "  'El bosque animado',\n",
       "  'Estudio 1'),\n",
       " ('Estudio 1', 'Solamente ella', 'La tregua', 'Los gauchos judíos'),\n",
       " (\"Mujeres al borde de un ataque de 'nervios'\",\n",
       "  'Dolor y gloria',\n",
       "  'Entre tinieblas',\n",
       "  'Átame!'),\n",
       " ('Moscú no cree en las lágrimas',\n",
       "  'Zavist bogov',\n",
       "  'I vsyo-taki ya lyublyu...',\n",
       "  'Voskresenye'),\n",
       " ('La dama del perrito',\n",
       "  'Bolshaya semya',\n",
       "  'Cuando pasan las cigüeñas',\n",
       "  'Zvezda plenitelnogo schastya'),\n",
       " ('Moscú no cree en las lágrimas',\n",
       "  'Samaya obayatelnaya i privlekatelnaya',\n",
       "  'Kitayskaya babushka',\n",
       "  'Bolshoy kapkan, ili solo dlya koshki pri polnoy lune'),\n",
       " ('Moscú no cree en las lágrimas',\n",
       "  'Romance en la oficina',\n",
       "  'Soviet: la respuesta',\n",
       "  'Garantiruyu zhizn'),\n",
       " ('Moscú no cree en las lágrimas', 'Bashnya', 'Ekskursante', 'La casa Rusia'),\n",
       " ('Geroy nashego vremeni',\n",
       "  \"D'Artanyan i tri mushketyora\",\n",
       "  'Parol znali dvoye',\n",
       "  'S lyubimymi ne rasstavaytes'),\n",
       " ('O lyubvi', 'Bremenskie muzykanty', 'Desyat negrityat', 'Ubit drakona'),\n",
       " ('S lyubimymi ne rasstavaytes', 'Kontrabanda', 'Lovushka', 'Obochina'),\n",
       " ('Volnitsa', 'Opasnyy povorot', 'Den, kogda ispolnyaetsya 30 let', 'Syostry'),\n",
       " ('Kubanskie kazaki',\n",
       "  'Bolshaya semya',\n",
       "  'Dvenadtsataya noch',\n",
       "  'Sueños de amor'),\n",
       " ('Roma a mano armada',\n",
       "  'Confidencias',\n",
       "  'Diario senza date',\n",
       "  'Habibi, amor mío'),\n",
       " ('Lujuria', 'Vacaciones al desnudo', 'La alcoba', 'Las veinteañeras'),\n",
       " ('La gran vida', 'The Getaway', 'La Celestina', 'La capilla ardiente'),\n",
       " ('Bestialidad',\n",
       "  'Nenè',\n",
       "  'Crimen sin huella',\n",
       "  'La violación de la señorita Julia'),\n",
       " ('Muere otro día',\n",
       "  'El camino',\n",
       "  'Bridget Jones: Sobreviviré',\n",
       "  'Los fantasmas de Goya'),\n",
       " ('La posesión',\n",
       "  'La pasión de Camille Claudel',\n",
       "  'Diario íntimo de Adela H.',\n",
       "  'Nosferatu, vampiro de la noche'),\n",
       " ('Caché (Escondido)',\n",
       "  'El manantial de las colinas',\n",
       "  'La fille du puisatier',\n",
       "  'Salir del armario'),\n",
       " ('Felpudo maldito', 'El quimérico inquilino', 'La clienta', 'El erizo'),\n",
       " ('Un elefante se equivoca enormemente',\n",
       "  'Bienvenido al mundo de LOL',\n",
       "  'Dentro de cien años todos calvos',\n",
       "  'Chez Maupassant'),\n",
       " ('Los visitantes',\n",
       "  'Dos colgados en Chicago: Los visitantes cruzan el charco',\n",
       "  'Astérix y Obélix contra César',\n",
       "  'Astérix y Obélix: Misión Cleopatra'),\n",
       " ('Élite', 'El traidor', 'Juacas', 'Bia'),\n",
       " ('Nieve', 'Duelle', 'Cap Canaille', 'Celine y Julie van en barco'),\n",
       " ('Ninguém Duas Vezes',\n",
       "  'La fábrica de nada',\n",
       "  'Coitado do Jorge',\n",
       "  'António, Um Rapaz de Lisboa'),\n",
       " ('Verano',\n",
       "  'Invierno',\n",
       "  'El fin de las primeras veces',\n",
       "  'The Male Gaze: Boy Trouble'),\n",
       " ('Black', 'Pink', 'Mohabbatein', 'Baghban'),\n",
       " ('Daag: A Poem of Love', 'Kasme Vaade', 'Ram Lakhan', 'Baazigar'),\n",
       " ('Sholay', 'Yaarana', 'Maa Kasam', 'Dada'),\n",
       " ('Agantuk', 'Gol Maal', 'Bhuvan Shome', 'Path O Prasad'),\n",
       " ('Umrao Jaan', 'Mangalsutra', 'Pataal Bhairavi', 'Surakksha'),\n",
       " ('Ty u menya odna',\n",
       "  'Dorogaya Yelena Sergeyevna',\n",
       "  'Karp otmorozhennyy',\n",
       "  'Ten'),\n",
       " ('Voenno-polevoy roman',\n",
       "  'Meri Poppins, do svidaniya',\n",
       "  'Ledi Makbet Mtsenskogo uezda',\n",
       "  'Operación Aurora'),\n",
       " ('Loca academia de policía: Misión en Moscú',\n",
       "  'Zvyozdnyy malchik',\n",
       "  'El círculo del poder',\n",
       "  'Erizo en la niebla'),\n",
       " ('Polosa vezeniya',\n",
       "  'Damy priglashayut kavalerov',\n",
       "  'Trevozhnoye voskresenye',\n",
       "  'Vsyo naoborot'),\n",
       " ('12 stulev',\n",
       "  'Vzorvannyy ad',\n",
       "  'Damy priglashayut kavalerov',\n",
       "  'Vremya svidaniy'),\n",
       " ('La cara oculta', 'Sound of Freedom', 'Narcos', 'La bala de Dios'),\n",
       " ('El hombre del Grande Río (Mundo verde)',\n",
       "  'Agítese antes de usarla',\n",
       "  'La Lola nos lleva al huerto',\n",
       "  'Profesor eróticus'),\n",
       " ('La muerte tenía un precio',\n",
       "  'Por un puñado de dólares',\n",
       "  'El bueno, el feo y el malo',\n",
       "  'Operación Cóndor'),\n",
       " ('El hombre del Grande Río (Mundo verde)',\n",
       "  'Canaguaro',\n",
       "  'La agonía del difunto',\n",
       "  'Voglio una donnaaa!')]"
      ]
     },
     "execution_count": 8,
     "metadata": {},
     "output_type": "execute_result"
    }
   ],
   "source": [
    "conocido"
   ]
  },
  {
   "cell_type": "code",
   "execution_count": 9,
   "metadata": {},
   "outputs": [
    {
     "data": {
      "text/plain": [
       "[None,\n",
       " None,\n",
       " None,\n",
       " None,\n",
       " None,\n",
       " {'premios ganados': ['1978 Ganador CEC Award'], 'nominaciones': []},\n",
       " None,\n",
       " {'premios ganados': ['1993 Ganador Special Mention'],\n",
       "  'nominaciones': ['2017 Ganador Lifetime Achievement Award']},\n",
       " None,\n",
       " {'premios ganados': ['2021 Ganador Golden Medal',\n",
       "   '2020 Nominado CEC Award',\n",
       "   '2000 Nominado CEC Award'],\n",
       "  'nominaciones': ['1987 Ganador International Fantasy Film Award']},\n",
       " {'premios ganados': ['2020 Nominado Nika'],\n",
       "  'nominaciones': ['2020 Nominado White Elephant']},\n",
       " {'premios ganados': ['1955 Ganador Best Actor'],\n",
       "  'nominaciones': ['1962 Ganador Diploma of Merit']},\n",
       " {'premios ganados': ['2011 Ganador Nika'],\n",
       "  'nominaciones': [\"1994 Ganador People's Artist of Russian Federation\"]},\n",
       " None,\n",
       " {'premios ganados': ['1988 Ganador Bronze Mask'],\n",
       "  'nominaciones': ['2014 Nominado Silver Crane']},\n",
       " {'premios ganados': [\"2007 Ganador People's Artist of Russian Federation\"],\n",
       "  'nominaciones': []},\n",
       " {'premios ganados': ['2008 Ganador Nika', '1992 Nominado Nika'],\n",
       "  'nominaciones': [\"1991 Ganador People's Artist of the Republic\"]},\n",
       " None,\n",
       " {'premios ganados': ['1956 Ganador Best Actress'],\n",
       "  'nominaciones': [\"1966 Ganador People's Artist of the Republic\"]},\n",
       " {'premios ganados': ['1955 Ganador Best Actress'],\n",
       "  'nominaciones': [\"1974 Ganador People's Artist of the Republic\"]},\n",
       " None,\n",
       " None,\n",
       " None,\n",
       " None,\n",
       " {'premios ganados': ['2013 Ganador Nosferatu Award'],\n",
       "  'nominaciones': ['1970 Ganador Prize of the National Syndicate of Spectacle']},\n",
       " {'premios ganados': ['1990 Nominado Oscar', '1976 Nominado Oscar'],\n",
       "  'nominaciones': ['1978 Ganador Bambi']},\n",
       " {'premios ganados': ['1988 Ganador BAFTA Film Award'],\n",
       "  'nominaciones': ['1999 Nominado British Independent Film Award']},\n",
       " {'premios ganados': ['2021 Ganador Anniversary César',\n",
       "   '2020 Nominado César',\n",
       "   '2004 Nominado César',\n",
       "   '2000 Ganador Honorary César',\n",
       "   '1996 Nominado César'],\n",
       "  'nominaciones': ['1996 Ganador Audience Award']},\n",
       " None,\n",
       " {'premios ganados': ['2021 Ganador Anniversary César',\n",
       "   '1994 Nominado César',\n",
       "   '1994 Nominado César'],\n",
       "  'nominaciones': ['2021 Ganador Achievement Award']},\n",
       " None,\n",
       " {'premios ganados': ['2023 Ganador Contigo'],\n",
       "  'nominaciones': ['2023 Nominado BreakTudo Award']},\n",
       " {'premios ganados': ['1983 Nominado Golden Berlin Bear'],\n",
       "  'nominaciones': ['1981 Ganador Young Cinema Award']},\n",
       " {'premios ganados': ['1984 Nominado Golden Lion'],\n",
       "  'nominaciones': ['2018 Nominado CinEuphoria']},\n",
       " {'premios ganados': ['2022 Nominado Short Film Competition',\n",
       "   '2022 Ganador Short Film Competition'],\n",
       "  'nominaciones': []},\n",
       " {'premios ganados': ['2023 Nominado Filmfare Award',\n",
       "   \"2023 Nominado Critics' Awards\",\n",
       "   '2021 Nominado Filmfare Award',\n",
       "   \"2021 Ganador Critics' Awards\",\n",
       "   '2017 Nominado Filmfare Award'],\n",
       "  'nominaciones': ['2017 Nominado Popular Award',\n",
       "   '2017 Nominado Popular Award',\n",
       "   '2016 Nominado Popular Award',\n",
       "   '2012 Nominado Popular Award',\n",
       "   '2010 Ganador Popular Award']},\n",
       " {'premios ganados': ['1999 Nominado Filmfare Award',\n",
       "   '1998 Nominado Filmfare Award',\n",
       "   '1996 Nominado Filmfare Award',\n",
       "   '1994 Nominado Filmfare Award',\n",
       "   '1990 Ganador Filmfare Award'],\n",
       "  'nominaciones': ['2003 Ganador Silver Lotus Award']},\n",
       " {'premios ganados': ['1986 Ganador Filmfare Award',\n",
       "   '1986 Nominado Filmfare Award',\n",
       "   '1982 Ganador Filmfare Award',\n",
       "   '1982 Nominado Filmfare Award',\n",
       "   '1981 Nominado Filmfare Award'],\n",
       "  'nominaciones': ['1976 Ganador BFJA Award']},\n",
       " {'premios ganados': ['1986 Nominado Filmfare Award',\n",
       "   '1982 Ganador Filmfare Award',\n",
       "   '1980 Ganador Filmfare Award',\n",
       "   '1976 Nominado Filmfare Award'],\n",
       "  'nominaciones': ['1970 Ganador Silver Lotus Award']},\n",
       " {'premios ganados': ['1976 Nominado Filmfare Award'], 'nominaciones': []},\n",
       " {'premios ganados': ['2016 Ganador Special Prize'],\n",
       "  'nominaciones': ['2018 Nominado Nika']},\n",
       " {'premios ganados': ['1990 Nominado Nika'],\n",
       "  'nominaciones': ['1984 Ganador Best Actress']},\n",
       " None,\n",
       " None,\n",
       " None,\n",
       " None,\n",
       " None,\n",
       " None,\n",
       " None,\n",
       " None]"
      ]
     },
     "execution_count": 9,
     "metadata": {},
     "output_type": "execute_result"
    }
   ],
   "source": [
    "premios_actor"
   ]
  },
  {
   "cell_type": "code",
   "execution_count": 10,
   "metadata": {},
   "outputs": [
    {
     "name": "stdout",
     "output_type": "stream",
     "text": [
      "[None, None, None, None, None, ('1978 Ganador CEC Award',), None, ('1993 Ganador Special Mention',), None, ('2021 Ganador Golden Medal', '2020 Nominado CEC Award', '2000 Nominado CEC Award'), ('2020 Nominado Nika',), ('1955 Ganador Best Actor',), ('2011 Ganador Nika',), None, ('1988 Ganador Bronze Mask',), (\"2007 Ganador People's Artist of Russian Federation\",), ('2008 Ganador Nika', '1992 Nominado Nika'), None, ('1956 Ganador Best Actress',), ('1955 Ganador Best Actress',), None, None, None, None, ('2013 Ganador Nosferatu Award',), ('1990 Nominado Oscar', '1976 Nominado Oscar'), ('1988 Ganador BAFTA Film Award',), ('2021 Ganador Anniversary César', '2020 Nominado César', '2004 Nominado César', '2000 Ganador Honorary César', '1996 Nominado César'), None, ('2021 Ganador Anniversary César', '1994 Nominado César', '1994 Nominado César'), None, ('2023 Ganador Contigo',), ('1983 Nominado Golden Berlin Bear',), ('1984 Nominado Golden Lion',), ('2022 Nominado Short Film Competition', '2022 Ganador Short Film Competition'), ('2023 Nominado Filmfare Award', \"2023 Nominado Critics' Awards\", '2021 Nominado Filmfare Award', \"2021 Ganador Critics' Awards\", '2017 Nominado Filmfare Award'), ('1999 Nominado Filmfare Award', '1998 Nominado Filmfare Award', '1996 Nominado Filmfare Award', '1994 Nominado Filmfare Award', '1990 Ganador Filmfare Award'), ('1986 Ganador Filmfare Award', '1986 Nominado Filmfare Award', '1982 Ganador Filmfare Award', '1982 Nominado Filmfare Award', '1981 Nominado Filmfare Award'), ('1986 Nominado Filmfare Award', '1982 Ganador Filmfare Award', '1980 Ganador Filmfare Award', '1976 Nominado Filmfare Award'), ('1976 Nominado Filmfare Award',), ('2016 Ganador Special Prize',), ('1990 Nominado Nika',), None, None, None, None, None, None, None, None]\n",
      "[None, None, None, None, None, (), None, ('2017 Ganador Lifetime Achievement Award',), None, ('1987 Ganador International Fantasy Film Award',), ('2020 Nominado White Elephant',), ('1962 Ganador Diploma of Merit',), (\"1994 Ganador People's Artist of Russian Federation\",), None, ('2014 Nominado Silver Crane',), (), (\"1991 Ganador People's Artist of the Republic\",), None, (\"1966 Ganador People's Artist of the Republic\",), (\"1974 Ganador People's Artist of the Republic\",), None, None, None, None, ('1970 Ganador Prize of the National Syndicate of Spectacle',), ('1978 Ganador Bambi',), ('1999 Nominado British Independent Film Award',), ('1996 Ganador Audience Award',), None, ('2021 Ganador Achievement Award',), None, ('2023 Nominado BreakTudo Award',), ('1981 Ganador Young Cinema Award',), ('2018 Nominado CinEuphoria',), (), ('2017 Nominado Popular Award', '2017 Nominado Popular Award', '2016 Nominado Popular Award', '2012 Nominado Popular Award', '2010 Ganador Popular Award'), ('2003 Ganador Silver Lotus Award',), ('1976 Ganador BFJA Award',), ('1970 Ganador Silver Lotus Award',), (), ('2018 Nominado Nika',), ('1984 Ganador Best Actress',), None, None, None, None, None, None, None, None]\n"
     ]
    }
   ],
   "source": [
    "premios = []\n",
    "nominaciones = []\n",
    "\n",
    "# Iterar sobre cada diccionario en la lista\n",
    "for persona in premios_actor:\n",
    "    \n",
    "    if persona is None:\n",
    "        premios.append(None)\n",
    "        continue\n",
    "    else:\n",
    "        premios_ganados = persona.get('premios ganados', [])\n",
    "        premios.append(tuple(premios_ganados))\n",
    "\n",
    "# Imprimir la lista de todos los premios ganados\n",
    "print(premios)\n",
    "\n",
    "for persona in premios_actor:\n",
    "    \n",
    "    if persona is None:\n",
    "        nominaciones.append(None)\n",
    "        continue\n",
    "    else:\n",
    "        premios_ganados = persona[\"nominaciones\"]\n",
    "        nominaciones.append(tuple(premios_ganados))\n",
    "        \n",
    "print(nominaciones)"
   ]
  },
  {
   "cell_type": "code",
   "execution_count": 11,
   "metadata": {},
   "outputs": [
    {
     "data": {
      "text/plain": [
       "[('Albert Antalffy',\n",
       "  '24 de abril de 1924',\n",
       "  None,\n",
       "  None,\n",
       "  ('Habfürdö', 'Ripacsok', 'Sértés', 'Az aranyifjú')),\n",
       " ('Kati Bontovits',\n",
       "  '30 de enero de 1953',\n",
       "  None,\n",
       "  None,\n",
       "  ('Habfürdö',\n",
       "   'Ki beszél itt szerelemröl?!',\n",
       "   'Mindenki fél a törpétöl',\n",
       "   'Sacra Corona')),\n",
       " ('Katalin Dobos',\n",
       "  '10 de diciembre de 1953',\n",
       "  None,\n",
       "  None,\n",
       "  ('Századunk', 'Die Csárdásfürstin', 'Kakuk Marci', 'Brutus')),\n",
       " ('Kornél Gelley',\n",
       "  '5 de marzo de 1932',\n",
       "  None,\n",
       "  None,\n",
       "  ('Habfürdö',\n",
       "   'Die Csárdásfürstin',\n",
       "   'Gyalog a mennyországba',\n",
       "   'Felfelé a lejtön')),\n",
       " ('Lenke Lorán',\n",
       "  '1 de mayo de 1927',\n",
       "  None,\n",
       "  None,\n",
       "  ('Tigres de papel', 'Lalola', 'El caballero Don Quijote', 'Teatro')),\n",
       " ('Joaquín Hinojosa',\n",
       "  '20 de enero de 1951',\n",
       "  ('1978 Ganador CEC Award',),\n",
       "  (),\n",
       "  ('Entre tinieblas',\n",
       "   'Aftershock',\n",
       "   'Pepi, Luci, Bom y otras chicas del montón',\n",
       "   'Cuentos eróticos')),\n",
       " ('Cristina Sánchez Pascual',\n",
       "  '21 de mayo de 1959',\n",
       "  None,\n",
       "  None,\n",
       "  ('Cuéntame cómo pasó',\n",
       "   'El hombre de la nevera',\n",
       "   'El bosque animado',\n",
       "   'Estudio 1')),\n",
       " ('Alicia Hermida',\n",
       "  '26 de septiembre de 1932',\n",
       "  ('1993 Ganador Special Mention',),\n",
       "  ('2017 Ganador Lifetime Achievement Award',),\n",
       "  ('Estudio 1', 'Solamente ella', 'La tregua', 'Los gauchos judíos')),\n",
       " ('Luis Politti',\n",
       "  '8 de abril de 1933',\n",
       "  None,\n",
       "  None,\n",
       "  (\"Mujeres al borde de un ataque de 'nervios'\",\n",
       "   'Dolor y gloria',\n",
       "   'Entre tinieblas',\n",
       "   'Átame!')),\n",
       " ('Julieta Serrano',\n",
       "  '2 de enero de 1933',\n",
       "  ('2021 Ganador Golden Medal',\n",
       "   '2020 Nominado CEC Award',\n",
       "   '2000 Nominado CEC Award'),\n",
       "  ('1987 Ganador International Fantasy Film Award',),\n",
       "  ('Moscú no cree en las lágrimas',\n",
       "   'Zavist bogov',\n",
       "   'I vsyo-taki ya lyublyu...',\n",
       "   'Voskresenye')),\n",
       " ('Vera Alentova',\n",
       "  '21 de febrero de 1942',\n",
       "  ('2020 Nominado Nika',),\n",
       "  ('2020 Nominado White Elephant',),\n",
       "  ('La dama del perrito',\n",
       "   'Bolshaya semya',\n",
       "   'Cuando pasan las cigüeñas',\n",
       "   'Zvezda plenitelnogo schastya')),\n",
       " ('Aleksey Batalov',\n",
       "  '20 de noviembre de 1928',\n",
       "  ('1955 Ganador Best Actor',),\n",
       "  ('1962 Ganador Diploma of Merit',),\n",
       "  ('Moscú no cree en las lágrimas',\n",
       "   'Samaya obayatelnaya i privlekatelnaya',\n",
       "   'Kitayskaya babushka',\n",
       "   'Bolshoy kapkan, ili solo dlya koshki pri polnoy lune')),\n",
       " ('Irina Muravyova',\n",
       "  '8 de febrero de 1949',\n",
       "  ('2011 Ganador Nika',),\n",
       "  (\"1994 Ganador People's Artist of Russian Federation\",),\n",
       "  ('Moscú no cree en las lágrimas',\n",
       "   'Romance en la oficina',\n",
       "   'Soviet: la respuesta',\n",
       "   'Garantiruyu zhizn')),\n",
       " ('Aleksandr Fatyushin',\n",
       "  '29 de marzo de 1951',\n",
       "  None,\n",
       "  None,\n",
       "  ('Moscú no cree en las lágrimas',\n",
       "   'Bashnya',\n",
       "   'Ekskursante',\n",
       "   'La casa Rusia')),\n",
       " ('Raisa Ryazanova',\n",
       "  '31 de octubre de 1944',\n",
       "  ('1988 Ganador Bronze Mask',),\n",
       "  ('2014 Nominado Silver Crane',),\n",
       "  ('Geroy nashego vremeni',\n",
       "   \"D'Artanyan i tri mushketyora\",\n",
       "   'Parol znali dvoye',\n",
       "   'S lyubimymi ne rasstavaytes')),\n",
       " ('Irina Alfyorova',\n",
       "  '13 de marzo de 1951',\n",
       "  (\"2007 Ganador People's Artist of Russian Federation\",),\n",
       "  (),\n",
       "  ('O lyubvi', 'Bremenskie muzykanty', 'Desyat negrityat', 'Ubit drakona')),\n",
       " ('Aleksandr Abdulov',\n",
       "  '29 de mayo de 1953',\n",
       "  ('2008 Ganador Nika', '1992 Nominado Nika'),\n",
       "  (\"1991 Ganador People's Artist of the Republic\",),\n",
       "  ('S lyubimymi ne rasstavaytes', 'Kontrabanda', 'Lovushka', 'Obochina')),\n",
       " ('Lyudmila Drebnyova',\n",
       "  '8 de octubre de 1954',\n",
       "  None,\n",
       "  None,\n",
       "  ('Volnitsa',\n",
       "   'Opasnyy povorot',\n",
       "   'Den, kogda ispolnyaetsya 30 let',\n",
       "   'Syostry')),\n",
       " ('Rufina Nifontova',\n",
       "  '15 de septiembre de 1931',\n",
       "  ('1956 Ganador Best Actress',),\n",
       "  (\"1966 Ganador People's Artist of the Republic\",),\n",
       "  ('Kubanskie kazaki',\n",
       "   'Bolshaya semya',\n",
       "   'Dvenadtsataya noch',\n",
       "   'Sueños de amor')),\n",
       " ('Klara Luchko',\n",
       "  '1 de julio de 1925',\n",
       "  ('1955 Ganador Best Actress',),\n",
       "  (\"1974 Ganador People's Artist of the Republic\",),\n",
       "  ('Roma a mano armada',\n",
       "   'Confidencias',\n",
       "   'Diario senza date',\n",
       "   'Habibi, amor mío')),\n",
       " ('Stefano Patrizi',\n",
       "  '12 de octubre de 1950',\n",
       "  None,\n",
       "  None,\n",
       "  ('Lujuria', 'Vacaciones al desnudo', 'La alcoba', 'Las veinteañeras')),\n",
       " ('Lilli Carati',\n",
       "  '23 de septiembre de 1956',\n",
       "  None,\n",
       "  None,\n",
       "  ('La gran vida', 'The Getaway', 'La Celestina', 'La capilla ardiente')),\n",
       " ('Miguel Ayones',\n",
       "  None,\n",
       "  None,\n",
       "  None,\n",
       "  ('Bestialidad',\n",
       "   'Nenè',\n",
       "   'Crimen sin huella',\n",
       "   'La violación de la señorita Julia')),\n",
       " ('Leonora Fani',\n",
       "  '18 de febrero de 1954',\n",
       "  None,\n",
       "  None,\n",
       "  ('Muere otro día',\n",
       "   'El camino',\n",
       "   'Bridget Jones: Sobreviviré',\n",
       "   'Los fantasmas de Goya')),\n",
       " ('Simón Andreu',\n",
       "  '1 de enero de 1941',\n",
       "  ('2013 Ganador Nosferatu Award',),\n",
       "  ('1970 Ganador Prize of the National Syndicate of Spectacle',),\n",
       "  ('La posesión',\n",
       "   'La pasión de Camille Claudel',\n",
       "   'Diario íntimo de Adela H.',\n",
       "   'Nosferatu, vampiro de la noche')),\n",
       " ('Isabelle Adjani',\n",
       "  '27 de junio de 1955',\n",
       "  ('1990 Nominado Oscar', '1976 Nominado Oscar'),\n",
       "  ('1978 Ganador Bambi',),\n",
       "  ('Caché (Escondido)',\n",
       "   'El manantial de las colinas',\n",
       "   'La fille du puisatier',\n",
       "   'Salir del armario')),\n",
       " ('Daniel Auteuil',\n",
       "  '24 de enero de 1950',\n",
       "  ('1988 Ganador BAFTA Film Award',),\n",
       "  ('1999 Nominado British Independent Film Award',),\n",
       "  ('Felpudo maldito', 'El quimérico inquilino', 'La clienta', 'El erizo')),\n",
       " ('Josiane Balasko',\n",
       "  '15 de abril de 1950',\n",
       "  ('2021 Ganador Anniversary César',\n",
       "   '2020 Nominado César',\n",
       "   '2004 Nominado César',\n",
       "   '2000 Ganador Honorary César',\n",
       "   '1996 Nominado César'),\n",
       "  ('1996 Ganador Audience Award',),\n",
       "  ('Un elefante se equivoca enormemente',\n",
       "   'Bienvenido al mundo de LOL',\n",
       "   'Dentro de cien años todos calvos',\n",
       "   'Chez Maupassant')),\n",
       " ('Christophe Bourseiller',\n",
       "  '27 de septiembre de 1957',\n",
       "  None,\n",
       "  None,\n",
       "  ('Los visitantes',\n",
       "   'Dos colgados en Chicago: Los visitantes cruzan el charco',\n",
       "   'Astérix y Obélix contra César',\n",
       "   'Astérix y Obélix: Misión Cleopatra')),\n",
       " ('Christian Clavier',\n",
       "  '6 de mayo de 1952',\n",
       "  ('2021 Ganador Anniversary César',\n",
       "   '1994 Nominado César',\n",
       "   '1994 Nominado César'),\n",
       "  ('2021 Ganador Achievement Award',),\n",
       "  ('Élite', 'El traidor', 'Juacas', 'Bia')),\n",
       " ('Fernando Cabral Martins',\n",
       "  None,\n",
       "  None,\n",
       "  None,\n",
       "  ('Nieve', 'Duelle', 'Cap Canaille', 'Celine y Julie van en barco')),\n",
       " ('André Gomes',\n",
       "  '4 de agosto de 1997',\n",
       "  ('2023 Ganador Contigo',),\n",
       "  ('2023 Nominado BreakTudo Award',),\n",
       "  ('Ninguém Duas Vezes',\n",
       "   'La fábrica de nada',\n",
       "   'Coitado do Jorge',\n",
       "   'António, Um Rapaz de Lisboa')),\n",
       " ('Juliet Berto',\n",
       "  '16 de enero de 1947',\n",
       "  ('1983 Nominado Golden Berlin Bear',),\n",
       "  ('1981 Ganador Young Cinema Award',),\n",
       "  ('Verano',\n",
       "   'Invierno',\n",
       "   'El fin de las primeras veces',\n",
       "   'The Male Gaze: Boy Trouble')),\n",
       " ('Jorge Silva Melo',\n",
       "  '7 de agosto de 1948',\n",
       "  ('1984 Nominado Golden Lion',),\n",
       "  ('2018 Nominado CinEuphoria',),\n",
       "  ('Black', 'Pink', 'Mohabbatein', 'Baghban')),\n",
       " ('Luís Pacheco',\n",
       "  None,\n",
       "  ('2022 Nominado Short Film Competition',\n",
       "   '2022 Ganador Short Film Competition'),\n",
       "  (),\n",
       "  ('Daag: A Poem of Love', 'Kasme Vaade', 'Ram Lakhan', 'Baazigar')),\n",
       " ('Amitabh Bachchan',\n",
       "  '11 de octubre de 1942',\n",
       "  ('2023 Nominado Filmfare Award',\n",
       "   \"2023 Nominado Critics' Awards\",\n",
       "   '2021 Nominado Filmfare Award',\n",
       "   \"2021 Ganador Critics' Awards\",\n",
       "   '2017 Nominado Filmfare Award'),\n",
       "  ('2017 Nominado Popular Award',\n",
       "   '2017 Nominado Popular Award',\n",
       "   '2016 Nominado Popular Award',\n",
       "   '2012 Nominado Popular Award',\n",
       "   '2010 Ganador Popular Award'),\n",
       "  ('Sholay', 'Yaarana', 'Maa Kasam', 'Dada')),\n",
       " ('Rakhee Gulzar',\n",
       "  '15 de agosto de 1947',\n",
       "  ('1999 Nominado Filmfare Award',\n",
       "   '1998 Nominado Filmfare Award',\n",
       "   '1996 Nominado Filmfare Award',\n",
       "   '1994 Nominado Filmfare Award',\n",
       "   '1990 Ganador Filmfare Award'),\n",
       "  ('2003 Ganador Silver Lotus Award',),\n",
       "  ('Agantuk', 'Gol Maal', 'Bhuvan Shome', 'Path O Prasad')),\n",
       " ('Amjad Khan',\n",
       "  '12 de noviembre de 1940',\n",
       "  ('1986 Ganador Filmfare Award',\n",
       "   '1986 Nominado Filmfare Award',\n",
       "   '1982 Ganador Filmfare Award',\n",
       "   '1982 Nominado Filmfare Award',\n",
       "   '1981 Nominado Filmfare Award'),\n",
       "  ('1976 Ganador BFJA Award',),\n",
       "  ('Umrao Jaan', 'Mangalsutra', 'Pataal Bhairavi', 'Surakksha')),\n",
       " ('Utpal Dutt',\n",
       "  '29 de marzo de 1929',\n",
       "  ('1986 Nominado Filmfare Award',\n",
       "   '1982 Ganador Filmfare Award',\n",
       "   '1980 Ganador Filmfare Award',\n",
       "   '1976 Nominado Filmfare Award'),\n",
       "  ('1970 Ganador Silver Lotus Award',),\n",
       "  ('Ty u menya odna',\n",
       "   'Dorogaya Yelena Sergeyevna',\n",
       "   'Karp otmorozhennyy',\n",
       "   'Ten')),\n",
       " ('Prema Narayan',\n",
       "  '4 de abril de 1955',\n",
       "  ('1976 Nominado Filmfare Award',),\n",
       "  (),\n",
       "  ('Voenno-polevoy roman',\n",
       "   'Meri Poppins, do svidaniya',\n",
       "   'Ledi Makbet Mtsenskogo uezda',\n",
       "   'Operación Aurora')),\n",
       " ('Marina Neyolova',\n",
       "  '8 de enero de 1947',\n",
       "  ('2016 Ganador Special Prize',),\n",
       "  ('2018 Nominado Nika',),\n",
       "  ('Loca academia de policía: Misión en Moscú',\n",
       "   'Zvyozdnyy malchik',\n",
       "   'El círculo del poder',\n",
       "   'Erizo en la niebla')),\n",
       " ('Natalya Andreychenko',\n",
       "  '3 de mayo de 1956',\n",
       "  ('1990 Nominado Nika',),\n",
       "  ('1984 Ganador Best Actress',),\n",
       "  ('Polosa vezeniya',\n",
       "   'Damy priglashayut kavalerov',\n",
       "   'Trevozhnoye voskresenye',\n",
       "   'Vsyo naoborot')),\n",
       " ('Mariya Vinogradova',\n",
       "  '13 de julio de 1922',\n",
       "  None,\n",
       "  None,\n",
       "  ('12 stulev',\n",
       "   'Vzorvannyy ad',\n",
       "   'Damy priglashayut kavalerov',\n",
       "   'Vremya svidaniy')),\n",
       " ('Tatyana Bozhok',\n",
       "  '21 de enero de 1957',\n",
       "  None,\n",
       "  None,\n",
       "  ('La cara oculta', 'Sound of Freedom', 'Narcos', 'La bala de Dios')),\n",
       " ('Nikolai Skorobogatov',\n",
       "  '19 de diciembre de 1923',\n",
       "  None,\n",
       "  None,\n",
       "  ('El hombre del Grande Río (Mundo verde)',\n",
       "   'Agítese antes de usarla',\n",
       "   'La Lola nos lleva al huerto',\n",
       "   'Profesor eróticus')),\n",
       " ('Kapax',\n",
       "  None,\n",
       "  None,\n",
       "  None,\n",
       "  ('La muerte tenía un precio',\n",
       "   'Por un puñado de dólares',\n",
       "   'El bueno, el feo y el malo',\n",
       "   'Operación Cóndor')),\n",
       " ('María Bauza',\n",
       "  None,\n",
       "  None,\n",
       "  None,\n",
       "  ('El hombre del Grande Río (Mundo verde)',\n",
       "   'Canaguaro',\n",
       "   'La agonía del difunto',\n",
       "   'Voglio una donnaaa!'))]"
      ]
     },
     "execution_count": 11,
     "metadata": {},
     "output_type": "execute_result"
    }
   ],
   "source": [
    "romance_elenco = list(tuple(zip(list_all_actors,nacimiento, premios, nominaciones, conocido)))\n",
    "\n",
    "romance_elenco"
   ]
  },
  {
   "cell_type": "code",
   "execution_count": 12,
   "metadata": {},
   "outputs": [
    {
     "data": {
      "text/html": [
       "<div>\n",
       "<style scoped>\n",
       "    .dataframe tbody tr th:only-of-type {\n",
       "        vertical-align: middle;\n",
       "    }\n",
       "\n",
       "    .dataframe tbody tr th {\n",
       "        vertical-align: top;\n",
       "    }\n",
       "\n",
       "    .dataframe thead th {\n",
       "        text-align: right;\n",
       "    }\n",
       "</style>\n",
       "<table border=\"1\" class=\"dataframe\">\n",
       "  <thead>\n",
       "    <tr style=\"text-align: right;\">\n",
       "      <th></th>\n",
       "      <th>Nombre</th>\n",
       "      <th>Nacimiento</th>\n",
       "      <th>Premios</th>\n",
       "      <th>Nominaciones</th>\n",
       "      <th>Conocido por</th>\n",
       "    </tr>\n",
       "  </thead>\n",
       "  <tbody>\n",
       "    <tr>\n",
       "      <th>0</th>\n",
       "      <td>Albert Antalffy</td>\n",
       "      <td>24 de abril de 1924</td>\n",
       "      <td>None</td>\n",
       "      <td>None</td>\n",
       "      <td>(Habfürdö, Ripacsok, Sértés, Az aranyifjú)</td>\n",
       "    </tr>\n",
       "    <tr>\n",
       "      <th>1</th>\n",
       "      <td>Kati Bontovits</td>\n",
       "      <td>30 de enero de 1953</td>\n",
       "      <td>None</td>\n",
       "      <td>None</td>\n",
       "      <td>(Habfürdö, Ki beszél itt szerelemröl?!, Minden...</td>\n",
       "    </tr>\n",
       "    <tr>\n",
       "      <th>2</th>\n",
       "      <td>Katalin Dobos</td>\n",
       "      <td>10 de diciembre de 1953</td>\n",
       "      <td>None</td>\n",
       "      <td>None</td>\n",
       "      <td>(Századunk, Die Csárdásfürstin, Kakuk Marci, B...</td>\n",
       "    </tr>\n",
       "    <tr>\n",
       "      <th>3</th>\n",
       "      <td>Kornél Gelley</td>\n",
       "      <td>5 de marzo de 1932</td>\n",
       "      <td>None</td>\n",
       "      <td>None</td>\n",
       "      <td>(Habfürdö, Die Csárdásfürstin, Gyalog a mennyo...</td>\n",
       "    </tr>\n",
       "    <tr>\n",
       "      <th>4</th>\n",
       "      <td>Lenke Lorán</td>\n",
       "      <td>1 de mayo de 1927</td>\n",
       "      <td>None</td>\n",
       "      <td>None</td>\n",
       "      <td>(Tigres de papel, Lalola, El caballero Don Qui...</td>\n",
       "    </tr>\n",
       "    <tr>\n",
       "      <th>5</th>\n",
       "      <td>Joaquín Hinojosa</td>\n",
       "      <td>20 de enero de 1951</td>\n",
       "      <td>(1978 Ganador CEC Award,)</td>\n",
       "      <td>()</td>\n",
       "      <td>(Entre tinieblas, Aftershock, Pepi, Luci, Bom ...</td>\n",
       "    </tr>\n",
       "    <tr>\n",
       "      <th>6</th>\n",
       "      <td>Cristina Sánchez Pascual</td>\n",
       "      <td>21 de mayo de 1959</td>\n",
       "      <td>None</td>\n",
       "      <td>None</td>\n",
       "      <td>(Cuéntame cómo pasó, El hombre de la nevera, E...</td>\n",
       "    </tr>\n",
       "    <tr>\n",
       "      <th>7</th>\n",
       "      <td>Alicia Hermida</td>\n",
       "      <td>26 de septiembre de 1932</td>\n",
       "      <td>(1993 Ganador Special Mention,)</td>\n",
       "      <td>(2017 Ganador Lifetime Achievement Award,)</td>\n",
       "      <td>(Estudio 1, Solamente ella, La tregua, Los gau...</td>\n",
       "    </tr>\n",
       "    <tr>\n",
       "      <th>8</th>\n",
       "      <td>Luis Politti</td>\n",
       "      <td>8 de abril de 1933</td>\n",
       "      <td>None</td>\n",
       "      <td>None</td>\n",
       "      <td>(Mujeres al borde de un ataque de 'nervios', D...</td>\n",
       "    </tr>\n",
       "    <tr>\n",
       "      <th>9</th>\n",
       "      <td>Julieta Serrano</td>\n",
       "      <td>2 de enero de 1933</td>\n",
       "      <td>(2021 Ganador Golden Medal, 2020 Nominado CEC ...</td>\n",
       "      <td>(1987 Ganador International Fantasy Film Award,)</td>\n",
       "      <td>(Moscú no cree en las lágrimas, Zavist bogov, ...</td>\n",
       "    </tr>\n",
       "    <tr>\n",
       "      <th>10</th>\n",
       "      <td>Vera Alentova</td>\n",
       "      <td>21 de febrero de 1942</td>\n",
       "      <td>(2020 Nominado Nika,)</td>\n",
       "      <td>(2020 Nominado White Elephant,)</td>\n",
       "      <td>(La dama del perrito, Bolshaya semya, Cuando p...</td>\n",
       "    </tr>\n",
       "    <tr>\n",
       "      <th>11</th>\n",
       "      <td>Aleksey Batalov</td>\n",
       "      <td>20 de noviembre de 1928</td>\n",
       "      <td>(1955 Ganador Best Actor,)</td>\n",
       "      <td>(1962 Ganador Diploma of Merit,)</td>\n",
       "      <td>(Moscú no cree en las lágrimas, Samaya obayate...</td>\n",
       "    </tr>\n",
       "    <tr>\n",
       "      <th>12</th>\n",
       "      <td>Irina Muravyova</td>\n",
       "      <td>8 de febrero de 1949</td>\n",
       "      <td>(2011 Ganador Nika,)</td>\n",
       "      <td>(1994 Ganador People's Artist of Russian Feder...</td>\n",
       "      <td>(Moscú no cree en las lágrimas, Romance en la ...</td>\n",
       "    </tr>\n",
       "    <tr>\n",
       "      <th>13</th>\n",
       "      <td>Aleksandr Fatyushin</td>\n",
       "      <td>29 de marzo de 1951</td>\n",
       "      <td>None</td>\n",
       "      <td>None</td>\n",
       "      <td>(Moscú no cree en las lágrimas, Bashnya, Eksku...</td>\n",
       "    </tr>\n",
       "    <tr>\n",
       "      <th>14</th>\n",
       "      <td>Raisa Ryazanova</td>\n",
       "      <td>31 de octubre de 1944</td>\n",
       "      <td>(1988 Ganador Bronze Mask,)</td>\n",
       "      <td>(2014 Nominado Silver Crane,)</td>\n",
       "      <td>(Geroy nashego vremeni, D'Artanyan i tri mushk...</td>\n",
       "    </tr>\n",
       "    <tr>\n",
       "      <th>15</th>\n",
       "      <td>Irina Alfyorova</td>\n",
       "      <td>13 de marzo de 1951</td>\n",
       "      <td>(2007 Ganador People's Artist of Russian Feder...</td>\n",
       "      <td>()</td>\n",
       "      <td>(O lyubvi, Bremenskie muzykanty, Desyat negrit...</td>\n",
       "    </tr>\n",
       "    <tr>\n",
       "      <th>16</th>\n",
       "      <td>Aleksandr Abdulov</td>\n",
       "      <td>29 de mayo de 1953</td>\n",
       "      <td>(2008 Ganador Nika, 1992 Nominado Nika)</td>\n",
       "      <td>(1991 Ganador People's Artist of the Republic,)</td>\n",
       "      <td>(S lyubimymi ne rasstavaytes, Kontrabanda, Lov...</td>\n",
       "    </tr>\n",
       "    <tr>\n",
       "      <th>17</th>\n",
       "      <td>Lyudmila Drebnyova</td>\n",
       "      <td>8 de octubre de 1954</td>\n",
       "      <td>None</td>\n",
       "      <td>None</td>\n",
       "      <td>(Volnitsa, Opasnyy povorot, Den, kogda ispolny...</td>\n",
       "    </tr>\n",
       "    <tr>\n",
       "      <th>18</th>\n",
       "      <td>Rufina Nifontova</td>\n",
       "      <td>15 de septiembre de 1931</td>\n",
       "      <td>(1956 Ganador Best Actress,)</td>\n",
       "      <td>(1966 Ganador People's Artist of the Republic,)</td>\n",
       "      <td>(Kubanskie kazaki, Bolshaya semya, Dvenadtsata...</td>\n",
       "    </tr>\n",
       "    <tr>\n",
       "      <th>19</th>\n",
       "      <td>Klara Luchko</td>\n",
       "      <td>1 de julio de 1925</td>\n",
       "      <td>(1955 Ganador Best Actress,)</td>\n",
       "      <td>(1974 Ganador People's Artist of the Republic,)</td>\n",
       "      <td>(Roma a mano armada, Confidencias, Diario senz...</td>\n",
       "    </tr>\n",
       "    <tr>\n",
       "      <th>20</th>\n",
       "      <td>Stefano Patrizi</td>\n",
       "      <td>12 de octubre de 1950</td>\n",
       "      <td>None</td>\n",
       "      <td>None</td>\n",
       "      <td>(Lujuria, Vacaciones al desnudo, La alcoba, La...</td>\n",
       "    </tr>\n",
       "    <tr>\n",
       "      <th>21</th>\n",
       "      <td>Lilli Carati</td>\n",
       "      <td>23 de septiembre de 1956</td>\n",
       "      <td>None</td>\n",
       "      <td>None</td>\n",
       "      <td>(La gran vida, The Getaway, La Celestina, La c...</td>\n",
       "    </tr>\n",
       "    <tr>\n",
       "      <th>22</th>\n",
       "      <td>Miguel Ayones</td>\n",
       "      <td>None</td>\n",
       "      <td>None</td>\n",
       "      <td>None</td>\n",
       "      <td>(Bestialidad, Nenè, Crimen sin huella, La viol...</td>\n",
       "    </tr>\n",
       "    <tr>\n",
       "      <th>23</th>\n",
       "      <td>Leonora Fani</td>\n",
       "      <td>18 de febrero de 1954</td>\n",
       "      <td>None</td>\n",
       "      <td>None</td>\n",
       "      <td>(Muere otro día, El camino, Bridget Jones: Sob...</td>\n",
       "    </tr>\n",
       "    <tr>\n",
       "      <th>24</th>\n",
       "      <td>Simón Andreu</td>\n",
       "      <td>1 de enero de 1941</td>\n",
       "      <td>(2013 Ganador Nosferatu Award,)</td>\n",
       "      <td>(1970 Ganador Prize of the National Syndicate ...</td>\n",
       "      <td>(La posesión, La pasión de Camille Claudel, Di...</td>\n",
       "    </tr>\n",
       "    <tr>\n",
       "      <th>25</th>\n",
       "      <td>Isabelle Adjani</td>\n",
       "      <td>27 de junio de 1955</td>\n",
       "      <td>(1990 Nominado Oscar, 1976 Nominado Oscar)</td>\n",
       "      <td>(1978 Ganador Bambi,)</td>\n",
       "      <td>(Caché (Escondido), El manantial de las colina...</td>\n",
       "    </tr>\n",
       "    <tr>\n",
       "      <th>26</th>\n",
       "      <td>Daniel Auteuil</td>\n",
       "      <td>24 de enero de 1950</td>\n",
       "      <td>(1988 Ganador BAFTA Film Award,)</td>\n",
       "      <td>(1999 Nominado British Independent Film Award,)</td>\n",
       "      <td>(Felpudo maldito, El quimérico inquilino, La c...</td>\n",
       "    </tr>\n",
       "    <tr>\n",
       "      <th>27</th>\n",
       "      <td>Josiane Balasko</td>\n",
       "      <td>15 de abril de 1950</td>\n",
       "      <td>(2021 Ganador Anniversary César, 2020 Nominado...</td>\n",
       "      <td>(1996 Ganador Audience Award,)</td>\n",
       "      <td>(Un elefante se equivoca enormemente, Bienveni...</td>\n",
       "    </tr>\n",
       "    <tr>\n",
       "      <th>28</th>\n",
       "      <td>Christophe Bourseiller</td>\n",
       "      <td>27 de septiembre de 1957</td>\n",
       "      <td>None</td>\n",
       "      <td>None</td>\n",
       "      <td>(Los visitantes, Dos colgados en Chicago: Los ...</td>\n",
       "    </tr>\n",
       "    <tr>\n",
       "      <th>29</th>\n",
       "      <td>Christian Clavier</td>\n",
       "      <td>6 de mayo de 1952</td>\n",
       "      <td>(2021 Ganador Anniversary César, 1994 Nominado...</td>\n",
       "      <td>(2021 Ganador Achievement Award,)</td>\n",
       "      <td>(Élite, El traidor, Juacas, Bia)</td>\n",
       "    </tr>\n",
       "    <tr>\n",
       "      <th>30</th>\n",
       "      <td>Fernando Cabral Martins</td>\n",
       "      <td>None</td>\n",
       "      <td>None</td>\n",
       "      <td>None</td>\n",
       "      <td>(Nieve, Duelle, Cap Canaille, Celine y Julie v...</td>\n",
       "    </tr>\n",
       "    <tr>\n",
       "      <th>31</th>\n",
       "      <td>André Gomes</td>\n",
       "      <td>4 de agosto de 1997</td>\n",
       "      <td>(2023 Ganador Contigo,)</td>\n",
       "      <td>(2023 Nominado BreakTudo Award,)</td>\n",
       "      <td>(Ninguém Duas Vezes, La fábrica de nada, Coita...</td>\n",
       "    </tr>\n",
       "    <tr>\n",
       "      <th>32</th>\n",
       "      <td>Juliet Berto</td>\n",
       "      <td>16 de enero de 1947</td>\n",
       "      <td>(1983 Nominado Golden Berlin Bear,)</td>\n",
       "      <td>(1981 Ganador Young Cinema Award,)</td>\n",
       "      <td>(Verano, Invierno, El fin de las primeras vece...</td>\n",
       "    </tr>\n",
       "    <tr>\n",
       "      <th>33</th>\n",
       "      <td>Jorge Silva Melo</td>\n",
       "      <td>7 de agosto de 1948</td>\n",
       "      <td>(1984 Nominado Golden Lion,)</td>\n",
       "      <td>(2018 Nominado CinEuphoria,)</td>\n",
       "      <td>(Black, Pink, Mohabbatein, Baghban)</td>\n",
       "    </tr>\n",
       "    <tr>\n",
       "      <th>34</th>\n",
       "      <td>Luís Pacheco</td>\n",
       "      <td>None</td>\n",
       "      <td>(2022 Nominado Short Film Competition, 2022 Ga...</td>\n",
       "      <td>()</td>\n",
       "      <td>(Daag: A Poem of Love, Kasme Vaade, Ram Lakhan...</td>\n",
       "    </tr>\n",
       "    <tr>\n",
       "      <th>35</th>\n",
       "      <td>Amitabh Bachchan</td>\n",
       "      <td>11 de octubre de 1942</td>\n",
       "      <td>(2023 Nominado Filmfare Award, 2023 Nominado C...</td>\n",
       "      <td>(2017 Nominado Popular Award, 2017 Nominado Po...</td>\n",
       "      <td>(Sholay, Yaarana, Maa Kasam, Dada)</td>\n",
       "    </tr>\n",
       "    <tr>\n",
       "      <th>36</th>\n",
       "      <td>Rakhee Gulzar</td>\n",
       "      <td>15 de agosto de 1947</td>\n",
       "      <td>(1999 Nominado Filmfare Award, 1998 Nominado F...</td>\n",
       "      <td>(2003 Ganador Silver Lotus Award,)</td>\n",
       "      <td>(Agantuk, Gol Maal, Bhuvan Shome, Path O Prasad)</td>\n",
       "    </tr>\n",
       "    <tr>\n",
       "      <th>37</th>\n",
       "      <td>Amjad Khan</td>\n",
       "      <td>12 de noviembre de 1940</td>\n",
       "      <td>(1986 Ganador Filmfare Award, 1986 Nominado Fi...</td>\n",
       "      <td>(1976 Ganador BFJA Award,)</td>\n",
       "      <td>(Umrao Jaan, Mangalsutra, Pataal Bhairavi, Sur...</td>\n",
       "    </tr>\n",
       "    <tr>\n",
       "      <th>38</th>\n",
       "      <td>Utpal Dutt</td>\n",
       "      <td>29 de marzo de 1929</td>\n",
       "      <td>(1986 Nominado Filmfare Award, 1982 Ganador Fi...</td>\n",
       "      <td>(1970 Ganador Silver Lotus Award,)</td>\n",
       "      <td>(Ty u menya odna, Dorogaya Yelena Sergeyevna, ...</td>\n",
       "    </tr>\n",
       "    <tr>\n",
       "      <th>39</th>\n",
       "      <td>Prema Narayan</td>\n",
       "      <td>4 de abril de 1955</td>\n",
       "      <td>(1976 Nominado Filmfare Award,)</td>\n",
       "      <td>()</td>\n",
       "      <td>(Voenno-polevoy roman, Meri Poppins, do svidan...</td>\n",
       "    </tr>\n",
       "    <tr>\n",
       "      <th>40</th>\n",
       "      <td>Marina Neyolova</td>\n",
       "      <td>8 de enero de 1947</td>\n",
       "      <td>(2016 Ganador Special Prize,)</td>\n",
       "      <td>(2018 Nominado Nika,)</td>\n",
       "      <td>(Loca academia de policía: Misión en Moscú, Zv...</td>\n",
       "    </tr>\n",
       "    <tr>\n",
       "      <th>41</th>\n",
       "      <td>Natalya Andreychenko</td>\n",
       "      <td>3 de mayo de 1956</td>\n",
       "      <td>(1990 Nominado Nika,)</td>\n",
       "      <td>(1984 Ganador Best Actress,)</td>\n",
       "      <td>(Polosa vezeniya, Damy priglashayut kavalerov,...</td>\n",
       "    </tr>\n",
       "    <tr>\n",
       "      <th>42</th>\n",
       "      <td>Mariya Vinogradova</td>\n",
       "      <td>13 de julio de 1922</td>\n",
       "      <td>None</td>\n",
       "      <td>None</td>\n",
       "      <td>(12 stulev, Vzorvannyy ad, Damy priglashayut k...</td>\n",
       "    </tr>\n",
       "    <tr>\n",
       "      <th>43</th>\n",
       "      <td>Tatyana Bozhok</td>\n",
       "      <td>21 de enero de 1957</td>\n",
       "      <td>None</td>\n",
       "      <td>None</td>\n",
       "      <td>(La cara oculta, Sound of Freedom, Narcos, La ...</td>\n",
       "    </tr>\n",
       "    <tr>\n",
       "      <th>44</th>\n",
       "      <td>Nikolai Skorobogatov</td>\n",
       "      <td>19 de diciembre de 1923</td>\n",
       "      <td>None</td>\n",
       "      <td>None</td>\n",
       "      <td>(El hombre del Grande Río (Mundo verde), Agíte...</td>\n",
       "    </tr>\n",
       "    <tr>\n",
       "      <th>45</th>\n",
       "      <td>Kapax</td>\n",
       "      <td>None</td>\n",
       "      <td>None</td>\n",
       "      <td>None</td>\n",
       "      <td>(La muerte tenía un precio, Por un puñado de d...</td>\n",
       "    </tr>\n",
       "    <tr>\n",
       "      <th>46</th>\n",
       "      <td>María Bauza</td>\n",
       "      <td>None</td>\n",
       "      <td>None</td>\n",
       "      <td>None</td>\n",
       "      <td>(El hombre del Grande Río (Mundo verde), Canag...</td>\n",
       "    </tr>\n",
       "  </tbody>\n",
       "</table>\n",
       "</div>"
      ],
      "text/plain": [
       "                      Nombre                Nacimiento  \\\n",
       "0            Albert Antalffy       24 de abril de 1924   \n",
       "1             Kati Bontovits       30 de enero de 1953   \n",
       "2              Katalin Dobos   10 de diciembre de 1953   \n",
       "3              Kornél Gelley        5 de marzo de 1932   \n",
       "4                Lenke Lorán         1 de mayo de 1927   \n",
       "5           Joaquín Hinojosa       20 de enero de 1951   \n",
       "6   Cristina Sánchez Pascual        21 de mayo de 1959   \n",
       "7             Alicia Hermida  26 de septiembre de 1932   \n",
       "8               Luis Politti        8 de abril de 1933   \n",
       "9            Julieta Serrano        2 de enero de 1933   \n",
       "10             Vera Alentova     21 de febrero de 1942   \n",
       "11           Aleksey Batalov   20 de noviembre de 1928   \n",
       "12           Irina Muravyova      8 de febrero de 1949   \n",
       "13       Aleksandr Fatyushin       29 de marzo de 1951   \n",
       "14           Raisa Ryazanova     31 de octubre de 1944   \n",
       "15           Irina Alfyorova       13 de marzo de 1951   \n",
       "16         Aleksandr Abdulov        29 de mayo de 1953   \n",
       "17        Lyudmila Drebnyova      8 de octubre de 1954   \n",
       "18          Rufina Nifontova  15 de septiembre de 1931   \n",
       "19              Klara Luchko        1 de julio de 1925   \n",
       "20           Stefano Patrizi     12 de octubre de 1950   \n",
       "21              Lilli Carati  23 de septiembre de 1956   \n",
       "22             Miguel Ayones                      None   \n",
       "23              Leonora Fani     18 de febrero de 1954   \n",
       "24              Simón Andreu        1 de enero de 1941   \n",
       "25           Isabelle Adjani       27 de junio de 1955   \n",
       "26            Daniel Auteuil       24 de enero de 1950   \n",
       "27           Josiane Balasko       15 de abril de 1950   \n",
       "28    Christophe Bourseiller  27 de septiembre de 1957   \n",
       "29         Christian Clavier         6 de mayo de 1952   \n",
       "30   Fernando Cabral Martins                      None   \n",
       "31               André Gomes       4 de agosto de 1997   \n",
       "32              Juliet Berto       16 de enero de 1947   \n",
       "33          Jorge Silva Melo       7 de agosto de 1948   \n",
       "34              Luís Pacheco                      None   \n",
       "35          Amitabh Bachchan     11 de octubre de 1942   \n",
       "36             Rakhee Gulzar      15 de agosto de 1947   \n",
       "37                Amjad Khan   12 de noviembre de 1940   \n",
       "38                Utpal Dutt       29 de marzo de 1929   \n",
       "39             Prema Narayan        4 de abril de 1955   \n",
       "40           Marina Neyolova        8 de enero de 1947   \n",
       "41      Natalya Andreychenko         3 de mayo de 1956   \n",
       "42        Mariya Vinogradova       13 de julio de 1922   \n",
       "43            Tatyana Bozhok       21 de enero de 1957   \n",
       "44      Nikolai Skorobogatov   19 de diciembre de 1923   \n",
       "45                     Kapax                      None   \n",
       "46               María Bauza                      None   \n",
       "\n",
       "                                              Premios  \\\n",
       "0                                                None   \n",
       "1                                                None   \n",
       "2                                                None   \n",
       "3                                                None   \n",
       "4                                                None   \n",
       "5                           (1978 Ganador CEC Award,)   \n",
       "6                                                None   \n",
       "7                     (1993 Ganador Special Mention,)   \n",
       "8                                                None   \n",
       "9   (2021 Ganador Golden Medal, 2020 Nominado CEC ...   \n",
       "10                              (2020 Nominado Nika,)   \n",
       "11                         (1955 Ganador Best Actor,)   \n",
       "12                               (2011 Ganador Nika,)   \n",
       "13                                               None   \n",
       "14                        (1988 Ganador Bronze Mask,)   \n",
       "15  (2007 Ganador People's Artist of Russian Feder...   \n",
       "16            (2008 Ganador Nika, 1992 Nominado Nika)   \n",
       "17                                               None   \n",
       "18                       (1956 Ganador Best Actress,)   \n",
       "19                       (1955 Ganador Best Actress,)   \n",
       "20                                               None   \n",
       "21                                               None   \n",
       "22                                               None   \n",
       "23                                               None   \n",
       "24                    (2013 Ganador Nosferatu Award,)   \n",
       "25         (1990 Nominado Oscar, 1976 Nominado Oscar)   \n",
       "26                   (1988 Ganador BAFTA Film Award,)   \n",
       "27  (2021 Ganador Anniversary César, 2020 Nominado...   \n",
       "28                                               None   \n",
       "29  (2021 Ganador Anniversary César, 1994 Nominado...   \n",
       "30                                               None   \n",
       "31                            (2023 Ganador Contigo,)   \n",
       "32                (1983 Nominado Golden Berlin Bear,)   \n",
       "33                       (1984 Nominado Golden Lion,)   \n",
       "34  (2022 Nominado Short Film Competition, 2022 Ga...   \n",
       "35  (2023 Nominado Filmfare Award, 2023 Nominado C...   \n",
       "36  (1999 Nominado Filmfare Award, 1998 Nominado F...   \n",
       "37  (1986 Ganador Filmfare Award, 1986 Nominado Fi...   \n",
       "38  (1986 Nominado Filmfare Award, 1982 Ganador Fi...   \n",
       "39                    (1976 Nominado Filmfare Award,)   \n",
       "40                      (2016 Ganador Special Prize,)   \n",
       "41                              (1990 Nominado Nika,)   \n",
       "42                                               None   \n",
       "43                                               None   \n",
       "44                                               None   \n",
       "45                                               None   \n",
       "46                                               None   \n",
       "\n",
       "                                         Nominaciones  \\\n",
       "0                                                None   \n",
       "1                                                None   \n",
       "2                                                None   \n",
       "3                                                None   \n",
       "4                                                None   \n",
       "5                                                  ()   \n",
       "6                                                None   \n",
       "7          (2017 Ganador Lifetime Achievement Award,)   \n",
       "8                                                None   \n",
       "9    (1987 Ganador International Fantasy Film Award,)   \n",
       "10                    (2020 Nominado White Elephant,)   \n",
       "11                   (1962 Ganador Diploma of Merit,)   \n",
       "12  (1994 Ganador People's Artist of Russian Feder...   \n",
       "13                                               None   \n",
       "14                      (2014 Nominado Silver Crane,)   \n",
       "15                                                 ()   \n",
       "16    (1991 Ganador People's Artist of the Republic,)   \n",
       "17                                               None   \n",
       "18    (1966 Ganador People's Artist of the Republic,)   \n",
       "19    (1974 Ganador People's Artist of the Republic,)   \n",
       "20                                               None   \n",
       "21                                               None   \n",
       "22                                               None   \n",
       "23                                               None   \n",
       "24  (1970 Ganador Prize of the National Syndicate ...   \n",
       "25                              (1978 Ganador Bambi,)   \n",
       "26    (1999 Nominado British Independent Film Award,)   \n",
       "27                     (1996 Ganador Audience Award,)   \n",
       "28                                               None   \n",
       "29                  (2021 Ganador Achievement Award,)   \n",
       "30                                               None   \n",
       "31                   (2023 Nominado BreakTudo Award,)   \n",
       "32                 (1981 Ganador Young Cinema Award,)   \n",
       "33                       (2018 Nominado CinEuphoria,)   \n",
       "34                                                 ()   \n",
       "35  (2017 Nominado Popular Award, 2017 Nominado Po...   \n",
       "36                 (2003 Ganador Silver Lotus Award,)   \n",
       "37                         (1976 Ganador BFJA Award,)   \n",
       "38                 (1970 Ganador Silver Lotus Award,)   \n",
       "39                                                 ()   \n",
       "40                              (2018 Nominado Nika,)   \n",
       "41                       (1984 Ganador Best Actress,)   \n",
       "42                                               None   \n",
       "43                                               None   \n",
       "44                                               None   \n",
       "45                                               None   \n",
       "46                                               None   \n",
       "\n",
       "                                         Conocido por  \n",
       "0          (Habfürdö, Ripacsok, Sértés, Az aranyifjú)  \n",
       "1   (Habfürdö, Ki beszél itt szerelemröl?!, Minden...  \n",
       "2   (Századunk, Die Csárdásfürstin, Kakuk Marci, B...  \n",
       "3   (Habfürdö, Die Csárdásfürstin, Gyalog a mennyo...  \n",
       "4   (Tigres de papel, Lalola, El caballero Don Qui...  \n",
       "5   (Entre tinieblas, Aftershock, Pepi, Luci, Bom ...  \n",
       "6   (Cuéntame cómo pasó, El hombre de la nevera, E...  \n",
       "7   (Estudio 1, Solamente ella, La tregua, Los gau...  \n",
       "8   (Mujeres al borde de un ataque de 'nervios', D...  \n",
       "9   (Moscú no cree en las lágrimas, Zavist bogov, ...  \n",
       "10  (La dama del perrito, Bolshaya semya, Cuando p...  \n",
       "11  (Moscú no cree en las lágrimas, Samaya obayate...  \n",
       "12  (Moscú no cree en las lágrimas, Romance en la ...  \n",
       "13  (Moscú no cree en las lágrimas, Bashnya, Eksku...  \n",
       "14  (Geroy nashego vremeni, D'Artanyan i tri mushk...  \n",
       "15  (O lyubvi, Bremenskie muzykanty, Desyat negrit...  \n",
       "16  (S lyubimymi ne rasstavaytes, Kontrabanda, Lov...  \n",
       "17  (Volnitsa, Opasnyy povorot, Den, kogda ispolny...  \n",
       "18  (Kubanskie kazaki, Bolshaya semya, Dvenadtsata...  \n",
       "19  (Roma a mano armada, Confidencias, Diario senz...  \n",
       "20  (Lujuria, Vacaciones al desnudo, La alcoba, La...  \n",
       "21  (La gran vida, The Getaway, La Celestina, La c...  \n",
       "22  (Bestialidad, Nenè, Crimen sin huella, La viol...  \n",
       "23  (Muere otro día, El camino, Bridget Jones: Sob...  \n",
       "24  (La posesión, La pasión de Camille Claudel, Di...  \n",
       "25  (Caché (Escondido), El manantial de las colina...  \n",
       "26  (Felpudo maldito, El quimérico inquilino, La c...  \n",
       "27  (Un elefante se equivoca enormemente, Bienveni...  \n",
       "28  (Los visitantes, Dos colgados en Chicago: Los ...  \n",
       "29                   (Élite, El traidor, Juacas, Bia)  \n",
       "30  (Nieve, Duelle, Cap Canaille, Celine y Julie v...  \n",
       "31  (Ninguém Duas Vezes, La fábrica de nada, Coita...  \n",
       "32  (Verano, Invierno, El fin de las primeras vece...  \n",
       "33                (Black, Pink, Mohabbatein, Baghban)  \n",
       "34  (Daag: A Poem of Love, Kasme Vaade, Ram Lakhan...  \n",
       "35                 (Sholay, Yaarana, Maa Kasam, Dada)  \n",
       "36   (Agantuk, Gol Maal, Bhuvan Shome, Path O Prasad)  \n",
       "37  (Umrao Jaan, Mangalsutra, Pataal Bhairavi, Sur...  \n",
       "38  (Ty u menya odna, Dorogaya Yelena Sergeyevna, ...  \n",
       "39  (Voenno-polevoy roman, Meri Poppins, do svidan...  \n",
       "40  (Loca academia de policía: Misión en Moscú, Zv...  \n",
       "41  (Polosa vezeniya, Damy priglashayut kavalerov,...  \n",
       "42  (12 stulev, Vzorvannyy ad, Damy priglashayut k...  \n",
       "43  (La cara oculta, Sound of Freedom, Narcos, La ...  \n",
       "44  (El hombre del Grande Río (Mundo verde), Agíte...  \n",
       "45  (La muerte tenía un precio, Por un puñado de d...  \n",
       "46  (El hombre del Grande Río (Mundo verde), Canag...  "
      ]
     },
     "execution_count": 12,
     "metadata": {},
     "output_type": "execute_result"
    }
   ],
   "source": [
    "df_elenco = pd.DataFrame(romance_elenco)\n",
    "df_elenco.columns = ['Nombre', 'Nacimiento', 'Premios', 'Nominaciones', 'Conocido por']\n",
    "df_elenco"
   ]
  },
  {
   "cell_type": "code",
   "execution_count": 13,
   "metadata": {},
   "outputs": [],
   "source": [
    "df_elenco.to_csv(\"Romance_elenco.csv\")"
   ]
  }
 ],
 "metadata": {
  "kernelspec": {
   "display_name": "Python 3",
   "language": "python",
   "name": "python3"
  },
  "language_info": {
   "codemirror_mode": {
    "name": "ipython",
    "version": 3
   },
   "file_extension": ".py",
   "mimetype": "text/x-python",
   "name": "python",
   "nbconvert_exporter": "python",
   "pygments_lexer": "ipython3",
   "version": "3.12.4"
  }
 },
 "nbformat": 4,
 "nbformat_minor": 2
}
