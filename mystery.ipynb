{
 "cells": [
  {
   "cell_type": "code",
   "execution_count": 1,
   "metadata": {},
   "outputs": [],
   "source": [
    "## importamos las librerias necesarias\n",
    "\n",
    "import requests\n",
    "import pandas as pd\n",
    "from time import sleep\n",
    "from tqdm import tqdm"
   ]
  },
  {
   "cell_type": "code",
   "execution_count": 3,
   "metadata": {},
   "outputs": [
    {
     "name": "stdout",
     "output_type": "stream",
     "text": [
      "Mystery\n"
     ]
    },
    {
     "name": "stderr",
     "output_type": "stream",
     "text": [
      "  0%|          | 0/16 [00:00<?, ?it/s]"
     ]
    },
    {
     "name": "stdout",
     "output_type": "stream",
     "text": [
      "1980\n"
     ]
    },
    {
     "name": "stderr",
     "output_type": "stream",
     "text": [
      "  6%|▋         | 1/16 [00:05<01:20,  5.36s/it]"
     ]
    },
    {
     "name": "stdout",
     "output_type": "stream",
     "text": [
      "1981\n"
     ]
    },
    {
     "name": "stderr",
     "output_type": "stream",
     "text": [
      " 12%|█▎        | 2/16 [00:10<01:14,  5.34s/it]"
     ]
    },
    {
     "name": "stdout",
     "output_type": "stream",
     "text": [
      "1982\n"
     ]
    },
    {
     "name": "stderr",
     "output_type": "stream",
     "text": [
      " 19%|█▉        | 3/16 [00:16<01:09,  5.36s/it]"
     ]
    },
    {
     "name": "stdout",
     "output_type": "stream",
     "text": [
      "1983\n"
     ]
    },
    {
     "name": "stderr",
     "output_type": "stream",
     "text": [
      " 25%|██▌       | 4/16 [00:21<01:04,  5.35s/it]"
     ]
    },
    {
     "name": "stdout",
     "output_type": "stream",
     "text": [
      "1984\n"
     ]
    },
    {
     "name": "stderr",
     "output_type": "stream",
     "text": [
      " 31%|███▏      | 5/16 [00:26<00:58,  5.35s/it]"
     ]
    },
    {
     "name": "stdout",
     "output_type": "stream",
     "text": [
      "1985\n"
     ]
    },
    {
     "name": "stderr",
     "output_type": "stream",
     "text": [
      " 38%|███▊      | 6/16 [00:32<00:53,  5.34s/it]"
     ]
    },
    {
     "name": "stdout",
     "output_type": "stream",
     "text": [
      "1986\n"
     ]
    },
    {
     "name": "stderr",
     "output_type": "stream",
     "text": [
      " 44%|████▍     | 7/16 [00:37<00:48,  5.40s/it]"
     ]
    },
    {
     "name": "stdout",
     "output_type": "stream",
     "text": [
      "1987\n"
     ]
    },
    {
     "name": "stderr",
     "output_type": "stream",
     "text": [
      " 50%|█████     | 8/16 [00:43<00:44,  5.54s/it]"
     ]
    },
    {
     "name": "stdout",
     "output_type": "stream",
     "text": [
      "1988\n"
     ]
    },
    {
     "name": "stderr",
     "output_type": "stream",
     "text": [
      " 56%|█████▋    | 9/16 [00:48<00:38,  5.47s/it]"
     ]
    },
    {
     "name": "stdout",
     "output_type": "stream",
     "text": [
      "1989\n"
     ]
    },
    {
     "name": "stderr",
     "output_type": "stream",
     "text": [
      " 62%|██████▎   | 10/16 [00:54<00:32,  5.44s/it]"
     ]
    },
    {
     "name": "stdout",
     "output_type": "stream",
     "text": [
      "1990\n"
     ]
    },
    {
     "name": "stderr",
     "output_type": "stream",
     "text": [
      " 69%|██████▉   | 11/16 [00:59<00:27,  5.40s/it]"
     ]
    },
    {
     "name": "stdout",
     "output_type": "stream",
     "text": [
      "1991\n"
     ]
    },
    {
     "name": "stderr",
     "output_type": "stream",
     "text": [
      " 75%|███████▌  | 12/16 [01:04<00:21,  5.39s/it]"
     ]
    },
    {
     "name": "stdout",
     "output_type": "stream",
     "text": [
      "1992\n"
     ]
    },
    {
     "name": "stderr",
     "output_type": "stream",
     "text": [
      " 81%|████████▏ | 13/16 [01:10<00:16,  5.38s/it]"
     ]
    },
    {
     "name": "stdout",
     "output_type": "stream",
     "text": [
      "1993\n"
     ]
    },
    {
     "name": "stderr",
     "output_type": "stream",
     "text": [
      " 88%|████████▊ | 14/16 [01:15<00:10,  5.36s/it]"
     ]
    },
    {
     "name": "stdout",
     "output_type": "stream",
     "text": [
      "1994\n"
     ]
    },
    {
     "name": "stderr",
     "output_type": "stream",
     "text": [
      " 94%|█████████▍| 15/16 [01:20<00:05,  5.36s/it]"
     ]
    },
    {
     "name": "stdout",
     "output_type": "stream",
     "text": [
      "1995\n"
     ]
    },
    {
     "name": "stderr",
     "output_type": "stream",
     "text": [
      "100%|██████████| 16/16 [01:26<00:00,  5.38s/it]"
     ]
    },
    {
     "name": "stdout",
     "output_type": "stream",
     "text": [
      "[('tt0076709', 'Si wang ta', 'Movie', '1980', 'Mystery'), ('tt0078726', 'Ba jue', 'Movie', '1980', 'Mystery'), ('tt0079120', 'Estigma', 'Movie', '1980', 'Mystery'), ('tt0080054', 'La tía Alejandra', 'Movie', '1980', 'Mystery'), ('tt0076709', 'Si wang ta', 'Movie', '1980', 'Mystery'), ('tt0078726', 'Ba jue', 'Movie', '1980', 'Mystery'), ('tt0079120', 'Estigma', 'Movie', '1980', 'Mystery'), ('tt0080054', 'La tía Alejandra', 'Movie', '1980', 'Mystery'), ('tt0076709', 'Si wang ta', 'Movie', '1980', 'Mystery'), ('tt0078726', 'Ba jue', 'Movie', '1980', 'Mystery'), ('tt0079120', 'Estigma', 'Movie', '1980', 'Mystery'), ('tt0080054', 'La tía Alejandra', 'Movie', '1980', 'Mystery'), ('tt0076709', 'Si wang ta', 'Movie', '1980', 'Mystery'), ('tt0078726', 'Ba jue', 'Movie', '1980', 'Mystery'), ('tt0079120', 'Estigma', 'Movie', '1980', 'Mystery'), ('tt0080054', 'La tía Alejandra', 'Movie', '1980', 'Mystery'), ('tt0078546', 'Ángela Morante, ¿crimen o suicidio?', 'Movie', '1981', 'Mystery'), ('tt0080495', 'La capilla ardiente', 'Movie', '1981', 'Mystery'), ('tt0081435', 'Romaneto', 'Movie', '1981', 'Mystery'), ('tt0081315', 'Patrizia', 'Movie', '1981', 'Mystery'), ('tt0083144', 'The Survivor', 'Movie', '1981', 'Mystery'), ('tt0081513', 'Signé Furax', 'Movie', '1981', 'Mystery'), ('tt0078546', 'Ángela Morante, ¿crimen o suicidio?', 'Movie', '1981', 'Mystery'), ('tt0080495', 'La capilla ardiente', 'Movie', '1981', 'Mystery'), ('tt0081435', 'Romaneto', 'Movie', '1981', 'Mystery'), ('tt0081315', 'Patrizia', 'Movie', '1981', 'Mystery'), ('tt0083144', 'The Survivor', 'Movie', '1981', 'Mystery'), ('tt0081513', 'Signé Furax', 'Movie', '1981', 'Mystery'), ('tt0078546', 'Ángela Morante, ¿crimen o suicidio?', 'Movie', '1981', 'Mystery'), ('tt0080495', 'La capilla ardiente', 'Movie', '1981', 'Mystery'), ('tt0081435', 'Romaneto', 'Movie', '1981', 'Mystery'), ('tt0081315', 'Patrizia', 'Movie', '1981', 'Mystery'), ('tt0083144', 'The Survivor', 'Movie', '1981', 'Mystery'), ('tt0081513', 'Signé Furax', 'Movie', '1981', 'Mystery'), ('tt0078546', 'Ángela Morante, ¿crimen o suicidio?', 'Movie', '1981', 'Mystery'), ('tt0080495', 'La capilla ardiente', 'Movie', '1981', 'Mystery'), ('tt0081435', 'Romaneto', 'Movie', '1981', 'Mystery'), ('tt0081315', 'Patrizia', 'Movie', '1981', 'Mystery'), ('tt0083144', 'The Survivor', 'Movie', '1981', 'Mystery'), ('tt0081513', 'Signé Furax', 'Movie', '1981', 'Mystery'), ('tt0082537', 'Humongous', 'Movie', '1982', 'Mystery'), ('tt0082531', 'Hotel Villa Goerne', 'Movie', '1982', 'Mystery'), ('tt0081432', 'Los ritos sexuales del diablo', 'Movie', '1982', 'Mystery'), ('tt0081203', 'Murder by Phone', 'Movie', '1982', 'Mystery'), ('tt0082324', 'En el país de los pies ligeros', 'Movie', '1982', 'Mystery'), ('tt0082279', 'The Dorm That Dripped Blood', 'Movie', '1982', 'Mystery'), ('tt0082748', 'Mil gritos tiene la noche', 'Movie', '1982', 'Mystery'), ('tt0082278', 'La villa delle anime maledette', 'Movie', '1982', 'Mystery'), ('tt0082537', 'Humongous', 'Movie', '1982', 'Mystery'), ('tt0082531', 'Hotel Villa Goerne', 'Movie', '1982', 'Mystery'), ('tt0081432', 'Los ritos sexuales del diablo', 'Movie', '1982', 'Mystery'), ('tt0081203', 'Murder by Phone', 'Movie', '1982', 'Mystery'), ('tt0082324', 'En el país de los pies ligeros', 'Movie', '1982', 'Mystery'), ('tt0082279', 'The Dorm That Dripped Blood', 'Movie', '1982', 'Mystery'), ('tt0082748', 'Mil gritos tiene la noche', 'Movie', '1982', 'Mystery'), ('tt0082278', 'La villa delle anime maledette', 'Movie', '1982', 'Mystery'), ('tt0082537', 'Humongous', 'Movie', '1982', 'Mystery'), ('tt0082531', 'Hotel Villa Goerne', 'Movie', '1982', 'Mystery'), ('tt0081432', 'Los ritos sexuales del diablo', 'Movie', '1982', 'Mystery'), ('tt0081203', 'Murder by Phone', 'Movie', '1982', 'Mystery'), ('tt0082324', 'En el país de los pies ligeros', 'Movie', '1982', 'Mystery'), ('tt0082279', 'The Dorm That Dripped Blood', 'Movie', '1982', 'Mystery'), ('tt0082748', 'Mil gritos tiene la noche', 'Movie', '1982', 'Mystery'), ('tt0082278', 'La villa delle anime maledette', 'Movie', '1982', 'Mystery'), ('tt0082537', 'Humongous', 'Movie', '1982', 'Mystery'), ('tt0082531', 'Hotel Villa Goerne', 'Movie', '1982', 'Mystery'), ('tt0081432', 'Los ritos sexuales del diablo', 'Movie', '1982', 'Mystery'), ('tt0081203', 'Murder by Phone', 'Movie', '1982', 'Mystery'), ('tt0082324', 'En el país de los pies ligeros', 'Movie', '1982', 'Mystery'), ('tt0082279', 'The Dorm That Dripped Blood', 'Movie', '1982', 'Mystery'), ('tt0082748', 'Mil gritos tiene la noche', 'Movie', '1982', 'Mystery'), ('tt0082278', 'La villa delle anime maledette', 'Movie', '1982', 'Mystery'), ('tt0078393', 'Tian can bian', 'Movie', '1983', 'Mystery'), ('tt0082285', 'Double Deal', 'Movie', '1983', 'Mystery'), ('tt0083146', 'Sweet Sixteen', 'Movie', '1983', 'Mystery'), ('tt0083863', \"Le démon dans l'île\", 'Movie', '1983', 'Mystery'), ('tt0083811', 'Delitto carnale', 'Movie', '1983', 'Mystery'), ('tt0082841', 'Olivia', 'Movie', '1983', 'Mystery'), ('tt0083558', 'Angae maeul', 'Movie', '1983', 'Mystery'), ('tt0085132', 'Os Abismos da Meia-Noite', 'Movie', '1983', 'Mystery'), ('tt0078393', 'Tian can bian', 'Movie', '1983', 'Mystery'), ('tt0082285', 'Double Deal', 'Movie', '1983', 'Mystery'), ('tt0083146', 'Sweet Sixteen', 'Movie', '1983', 'Mystery'), ('tt0083863', \"Le démon dans l'île\", 'Movie', '1983', 'Mystery'), ('tt0083811', 'Delitto carnale', 'Movie', '1983', 'Mystery'), ('tt0082841', 'Olivia', 'Movie', '1983', 'Mystery'), ('tt0083558', 'Angae maeul', 'Movie', '1983', 'Mystery'), ('tt0085132', 'Os Abismos da Meia-Noite', 'Movie', '1983', 'Mystery'), ('tt0078393', 'Tian can bian', 'Movie', '1983', 'Mystery'), ('tt0082285', 'Double Deal', 'Movie', '1983', 'Mystery'), ('tt0083146', 'Sweet Sixteen', 'Movie', '1983', 'Mystery'), ('tt0083863', \"Le démon dans l'île\", 'Movie', '1983', 'Mystery'), ('tt0083811', 'Delitto carnale', 'Movie', '1983', 'Mystery'), ('tt0082841', 'Olivia', 'Movie', '1983', 'Mystery'), ('tt0083558', 'Angae maeul', 'Movie', '1983', 'Mystery'), ('tt0085132', 'Os Abismos da Meia-Noite', 'Movie', '1983', 'Mystery'), ('tt0078393', 'Tian can bian', 'Movie', '1983', 'Mystery'), ('tt0082285', 'Double Deal', 'Movie', '1983', 'Mystery'), ('tt0083146', 'Sweet Sixteen', 'Movie', '1983', 'Mystery'), ('tt0083863', \"Le démon dans l'île\", 'Movie', '1983', 'Mystery'), ('tt0083811', 'Delitto carnale', 'Movie', '1983', 'Mystery'), ('tt0082841', 'Olivia', 'Movie', '1983', 'Mystery'), ('tt0083558', 'Angae maeul', 'Movie', '1983', 'Mystery'), ('tt0085132', 'Os Abismos da Meia-Noite', 'Movie', '1983', 'Mystery'), ('tt0084107', 'Héctor, el estigma del miedo', 'Movie', '1984', 'Mystery'), ('tt0085364', 'El corazón de la noche', 'Movie', '1984', 'Mystery'), ('tt0085965', 'Motel', 'Movie', '1984', 'Mystery'), ('tt0085442', 'Disconnected', 'Movie', '1984', 'Mystery'), ('tt0086162', 'Quest', 'Short', '1984', 'Mystery'), ('tt0084107', 'Héctor, el estigma del miedo', 'Movie', '1984', 'Mystery'), ('tt0085364', 'El corazón de la noche', 'Movie', '1984', 'Mystery'), ('tt0085965', 'Motel', 'Movie', '1984', 'Mystery'), ('tt0085442', 'Disconnected', 'Movie', '1984', 'Mystery'), ('tt0086162', 'Quest', 'Short', '1984', 'Mystery'), ('tt0084107', 'Héctor, el estigma del miedo', 'Movie', '1984', 'Mystery'), ('tt0085364', 'El corazón de la noche', 'Movie', '1984', 'Mystery'), ('tt0085965', 'Motel', 'Movie', '1984', 'Mystery'), ('tt0085442', 'Disconnected', 'Movie', '1984', 'Mystery'), ('tt0086162', 'Quest', 'Short', '1984', 'Mystery'), ('tt0084107', 'Héctor, el estigma del miedo', 'Movie', '1984', 'Mystery'), ('tt0085364', 'El corazón de la noche', 'Movie', '1984', 'Mystery'), ('tt0085965', 'Motel', 'Movie', '1984', 'Mystery'), ('tt0085442', 'Disconnected', 'Movie', '1984', 'Mystery'), ('tt0086162', 'Quest', 'Short', '1984', 'Mystery'), ('tt0086343', 'Sotto il vestito niente', 'Movie', '1985', 'Mystery'), ('tt0086288', '7, Hyden Park: la casa maledetta', 'Movie', '1985', 'Mystery'), ('tt0087449', 'I eshchyo odna noch Shakherazady', 'Movie', '1985', 'Mystery'), ('tt0088137', 'Sloane', 'Movie', '1985', 'Mystery'), ('tt0087909', 'Phenomena', 'Movie', '1985', 'Mystery'), ('tt0089283', 'The Holcroft Covenant', 'Movie', '1985', 'Mystery'), ('tt0086343', 'Sotto il vestito niente', 'Movie', '1985', 'Mystery'), ('tt0086288', '7, Hyden Park: la casa maledetta', 'Movie', '1985', 'Mystery'), ('tt0087449', 'I eshchyo odna noch Shakherazady', 'Movie', '1985', 'Mystery'), ('tt0088137', 'Sloane', 'Movie', '1985', 'Mystery'), ('tt0087909', 'Phenomena', 'Movie', '1985', 'Mystery'), ('tt0089283', 'The Holcroft Covenant', 'Movie', '1985', 'Mystery'), ('tt0086343', 'Sotto il vestito niente', 'Movie', '1985', 'Mystery'), ('tt0086288', '7, Hyden Park: la casa maledetta', 'Movie', '1985', 'Mystery'), ('tt0087449', 'I eshchyo odna noch Shakherazady', 'Movie', '1985', 'Mystery'), ('tt0088137', 'Sloane', 'Movie', '1985', 'Mystery'), ('tt0087909', 'Phenomena', 'Movie', '1985', 'Mystery'), ('tt0089283', 'The Holcroft Covenant', 'Movie', '1985', 'Mystery'), ('tt0086343', 'Sotto il vestito niente', 'Movie', '1985', 'Mystery'), ('tt0086288', '7, Hyden Park: la casa maledetta', 'Movie', '1985', 'Mystery'), ('tt0087449', 'I eshchyo odna noch Shakherazady', 'Movie', '1985', 'Mystery'), ('tt0088137', 'Sloane', 'Movie', '1985', 'Mystery'), ('tt0087909', 'Phenomena', 'Movie', '1985', 'Mystery'), ('tt0089283', 'The Holcroft Covenant', 'Movie', '1985', 'Mystery'), ('tt0086909', \"L'araignée de satin\", 'Movie', '1986', 'Mystery'), ('tt0087512', 'La joven y la tentación', 'Movie', '1986', 'Mystery'), ('tt0088092', 'As Sete Vampiras', 'Movie', '1986', 'Mystery'), ('tt0089409', 'Keeping Track', 'Movie', '1986', 'Mystery'), ('tt0090086', 'Strannaya istoriya doktora Dzhekila i mistera Khayda', 'Movie', '1986', 'Mystery'), ('tt0088920', 'Chuzhie zdes ne khodyat', 'Movie', '1986', 'Mystery'), ('tt0089857', 'Pyat minut strakha', 'Movie', '1986', 'Mystery'), ('tt0088872', 'El cafre', 'Movie', '1986', 'Mystery'), ('tt0089151', 'Flagrant désir', 'Movie', '1986', 'Mystery'), ('tt0089678', 'New Delhi Times', 'Movie', '1986', 'Mystery'), ('tt0086909', \"L'araignée de satin\", 'Movie', '1986', 'Mystery'), ('tt0087512', 'La joven y la tentación', 'Movie', '1986', 'Mystery'), ('tt0088092', 'As Sete Vampiras', 'Movie', '1986', 'Mystery'), ('tt0089409', 'Keeping Track', 'Movie', '1986', 'Mystery'), ('tt0090086', 'Strannaya istoriya doktora Dzhekila i mistera Khayda', 'Movie', '1986', 'Mystery'), ('tt0088920', 'Chuzhie zdes ne khodyat', 'Movie', '1986', 'Mystery'), ('tt0089857', 'Pyat minut strakha', 'Movie', '1986', 'Mystery'), ('tt0088872', 'El cafre', 'Movie', '1986', 'Mystery'), ('tt0089151', 'Flagrant désir', 'Movie', '1986', 'Mystery'), ('tt0089678', 'New Delhi Times', 'Movie', '1986', 'Mystery'), ('tt0086909', \"L'araignée de satin\", 'Movie', '1986', 'Mystery'), ('tt0087512', 'La joven y la tentación', 'Movie', '1986', 'Mystery'), ('tt0088092', 'As Sete Vampiras', 'Movie', '1986', 'Mystery'), ('tt0089409', 'Keeping Track', 'Movie', '1986', 'Mystery'), ('tt0090086', 'Strannaya istoriya doktora Dzhekila i mistera Khayda', 'Movie', '1986', 'Mystery'), ('tt0088920', 'Chuzhie zdes ne khodyat', 'Movie', '1986', 'Mystery'), ('tt0089857', 'Pyat minut strakha', 'Movie', '1986', 'Mystery'), ('tt0088872', 'El cafre', 'Movie', '1986', 'Mystery'), ('tt0089151', 'Flagrant désir', 'Movie', '1986', 'Mystery'), ('tt0089678', 'New Delhi Times', 'Movie', '1986', 'Mystery'), ('tt0086909', \"L'araignée de satin\", 'Movie', '1986', 'Mystery'), ('tt0087512', 'La joven y la tentación', 'Movie', '1986', 'Mystery'), ('tt0088092', 'As Sete Vampiras', 'Movie', '1986', 'Mystery'), ('tt0089409', 'Keeping Track', 'Movie', '1986', 'Mystery'), ('tt0090086', 'Strannaya istoriya doktora Dzhekila i mistera Khayda', 'Movie', '1986', 'Mystery'), ('tt0088920', 'Chuzhie zdes ne khodyat', 'Movie', '1986', 'Mystery'), ('tt0089857', 'Pyat minut strakha', 'Movie', '1986', 'Mystery'), ('tt0088872', 'El cafre', 'Movie', '1986', 'Mystery'), ('tt0089151', 'Flagrant désir', 'Movie', '1986', 'Mystery'), ('tt0089678', 'New Delhi Times', 'Movie', '1986', 'Mystery'), ('tt0090978', 'Duma Vez por Todas', 'Movie', '1987', 'Mystery'), ('tt0090689', 'Balada da Praia dos Cães', 'Movie', '1987', 'Mystery'), ('tt0092840', 'Dead Aim', 'Movie', '1987', 'Mystery'), ('tt0092632', 'The Believers', 'Movie', '1987', 'Mystery'), ('tt0092847', 'Deadly Illusion', 'Movie', '1987', 'Mystery'), ('tt0092879', 'Desyat negrityat', 'Movie', '1987', 'Mystery'), ('tt0092588', 'Association de malfaiteurs', 'Movie', '1987', 'Mystery'), ('tt0090978', 'Duma Vez por Todas', 'Movie', '1987', 'Mystery'), ('tt0090689', 'Balada da Praia dos Cães', 'Movie', '1987', 'Mystery'), ('tt0092840', 'Dead Aim', 'Movie', '1987', 'Mystery'), ('tt0092632', 'The Believers', 'Movie', '1987', 'Mystery'), ('tt0092847', 'Deadly Illusion', 'Movie', '1987', 'Mystery'), ('tt0092879', 'Desyat negrityat', 'Movie', '1987', 'Mystery'), ('tt0092588', 'Association de malfaiteurs', 'Movie', '1987', 'Mystery'), ('tt0090978', 'Duma Vez por Todas', 'Movie', '1987', 'Mystery'), ('tt0090689', 'Balada da Praia dos Cães', 'Movie', '1987', 'Mystery'), ('tt0092840', 'Dead Aim', 'Movie', '1987', 'Mystery'), ('tt0092632', 'The Believers', 'Movie', '1987', 'Mystery'), ('tt0092847', 'Deadly Illusion', 'Movie', '1987', 'Mystery'), ('tt0092879', 'Desyat negrityat', 'Movie', '1987', 'Mystery'), ('tt0092588', 'Association de malfaiteurs', 'Movie', '1987', 'Mystery'), ('tt0090978', 'Duma Vez por Todas', 'Movie', '1987', 'Mystery'), ('tt0090689', 'Balada da Praia dos Cães', 'Movie', '1987', 'Mystery'), ('tt0092840', 'Dead Aim', 'Movie', '1987', 'Mystery'), ('tt0092632', 'The Believers', 'Movie', '1987', 'Mystery'), ('tt0092847', 'Deadly Illusion', 'Movie', '1987', 'Mystery'), ('tt0092879', 'Desyat negrityat', 'Movie', '1987', 'Mystery'), ('tt0092588', 'Association de malfaiteurs', 'Movie', '1987', 'Mystery'), ('tt0089561', 'Mask of Murder', 'Movie', '1988', 'Mystery'), ('tt0093090', 'La casa 3', 'Movie', '1988', 'Mystery'), ('tt0094595', '1999 nen no natsu yasumi', 'Movie', '1988', 'Mystery'), ('tt0092961', 'Os Emissários de Khalôm', 'Movie', '1988', 'Mystery'), ('tt0094627', 'Al filo del hacha', 'Movie', '1988', 'Mystery'), ('tt0089561', 'Mask of Murder', 'Movie', '1988', 'Mystery'), ('tt0093090', 'La casa 3', 'Movie', '1988', 'Mystery'), ('tt0094595', '1999 nen no natsu yasumi', 'Movie', '1988', 'Mystery'), ('tt0092961', 'Os Emissários de Khalôm', 'Movie', '1988', 'Mystery'), ('tt0094627', 'Al filo del hacha', 'Movie', '1988', 'Mystery'), ('tt0089561', 'Mask of Murder', 'Movie', '1988', 'Mystery'), ('tt0093090', 'La casa 3', 'Movie', '1988', 'Mystery'), ('tt0094595', '1999 nen no natsu yasumi', 'Movie', '1988', 'Mystery'), ('tt0092961', 'Os Emissários de Khalôm', 'Movie', '1988', 'Mystery'), ('tt0094627', 'Al filo del hacha', 'Movie', '1988', 'Mystery'), ('tt0089561', 'Mask of Murder', 'Movie', '1988', 'Mystery'), ('tt0093090', 'La casa 3', 'Movie', '1988', 'Mystery'), ('tt0094595', '1999 nen no natsu yasumi', 'Movie', '1988', 'Mystery'), ('tt0092961', 'Os Emissários de Khalôm', 'Movie', '1988', 'Mystery'), ('tt0094627', 'Al filo del hacha', 'Movie', '1988', 'Mystery'), ('tt0094720', 'Bees Saal Baad', 'Movie', '1989', 'Mystery'), ('tt0092577', \"Arabella l'angelo nero\", 'Movie', '1989', 'Mystery'), ('tt0094709', 'La bande des quatre', 'Movie', '1989', 'Mystery'), ('tt0094949', 'Dark Bar', 'Movie', '1989', 'Mystery'), ('tt0095400', 'The Jigsaw Murders', 'Movie', '1989', 'Mystery'), ('tt0094720', 'Bees Saal Baad', 'Movie', '1989', 'Mystery'), ('tt0092577', \"Arabella l'angelo nero\", 'Movie', '1989', 'Mystery'), ('tt0094709', 'La bande des quatre', 'Movie', '1989', 'Mystery'), ('tt0094949', 'Dark Bar', 'Movie', '1989', 'Mystery'), ('tt0095400', 'The Jigsaw Murders', 'Movie', '1989', 'Mystery'), ('tt0094720', 'Bees Saal Baad', 'Movie', '1989', 'Mystery'), ('tt0092577', \"Arabella l'angelo nero\", 'Movie', '1989', 'Mystery'), ('tt0094709', 'La bande des quatre', 'Movie', '1989', 'Mystery'), ('tt0094949', 'Dark Bar', 'Movie', '1989', 'Mystery'), ('tt0095400', 'The Jigsaw Murders', 'Movie', '1989', 'Mystery'), ('tt0094720', 'Bees Saal Baad', 'Movie', '1989', 'Mystery'), ('tt0092577', \"Arabella l'angelo nero\", 'Movie', '1989', 'Mystery'), ('tt0094709', 'La bande des quatre', 'Movie', '1989', 'Mystery'), ('tt0094949', 'Dark Bar', 'Movie', '1989', 'Mystery'), ('tt0095400', 'The Jigsaw Murders', 'Movie', '1989', 'Mystery'), ('tt0075259', 'Spy Story', 'Movie', '1990', 'Mystery'), ('tt0092589', 'Astonished', 'Movie', '1990', 'Mystery'), ('tt0094997', 'Demonia', 'Movie', '1990', 'Mystery'), ('tt0096177', 'Still Life', 'Movie', '1990', 'Mystery'), ('tt0097573', 'In the Cold of the Night', 'Movie', '1990', 'Mystery'), ('tt0075259', 'Spy Story', 'Movie', '1990', 'Mystery'), ('tt0092589', 'Astonished', 'Movie', '1990', 'Mystery'), ('tt0094997', 'Demonia', 'Movie', '1990', 'Mystery'), ('tt0096177', 'Still Life', 'Movie', '1990', 'Mystery'), ('tt0097573', 'In the Cold of the Night', 'Movie', '1990', 'Mystery'), ('tt0075259', 'Spy Story', 'Movie', '1990', 'Mystery'), ('tt0092589', 'Astonished', 'Movie', '1990', 'Mystery'), ('tt0094997', 'Demonia', 'Movie', '1990', 'Mystery'), ('tt0096177', 'Still Life', 'Movie', '1990', 'Mystery'), ('tt0097573', 'In the Cold of the Night', 'Movie', '1990', 'Mystery'), ('tt0075259', 'Spy Story', 'Movie', '1990', 'Mystery'), ('tt0092589', 'Astonished', 'Movie', '1990', 'Mystery'), ('tt0094997', 'Demonia', 'Movie', '1990', 'Mystery'), ('tt0096177', 'Still Life', 'Movie', '1990', 'Mystery'), ('tt0097573', 'In the Cold of the Night', 'Movie', '1990', 'Mystery'), ('tt0099397', 'Defenseless', 'Movie', '1991', 'Mystery'), ('tt0100338', \"Passion's Flower\", 'Movie', '1991', 'Mystery'), ('tt0099723', 'O Gémeo Diferente', 'Short', '1991', 'Mystery'), ('tt0101404', 'The Ballad of the Sad Cafe', 'Movie', '1991', 'Mystery'), ('tt0102238', 'Krov za krov', 'Movie', '1991', 'Mystery'), ('tt0099397', 'Defenseless', 'Movie', '1991', 'Mystery'), ('tt0100338', \"Passion's Flower\", 'Movie', '1991', 'Mystery'), ('tt0099723', 'O Gémeo Diferente', 'Short', '1991', 'Mystery'), ('tt0101404', 'The Ballad of the Sad Cafe', 'Movie', '1991', 'Mystery'), ('tt0102238', 'Krov za krov', 'Movie', '1991', 'Mystery'), ('tt0099397', 'Defenseless', 'Movie', '1991', 'Mystery'), ('tt0100338', \"Passion's Flower\", 'Movie', '1991', 'Mystery'), ('tt0099723', 'O Gémeo Diferente', 'Short', '1991', 'Mystery'), ('tt0101404', 'The Ballad of the Sad Cafe', 'Movie', '1991', 'Mystery'), ('tt0102238', 'Krov za krov', 'Movie', '1991', 'Mystery'), ('tt0099397', 'Defenseless', 'Movie', '1991', 'Mystery'), ('tt0100338', \"Passion's Flower\", 'Movie', '1991', 'Mystery'), ('tt0099723', 'O Gémeo Diferente', 'Short', '1991', 'Mystery'), ('tt0101404', 'The Ballad of the Sad Cafe', 'Movie', '1991', 'Mystery'), ('tt0102238', 'Krov za krov', 'Movie', '1991', 'Mystery'), ('tt0101625', 'Once Upon a Crime...', 'Movie', '1992', 'Mystery'), ('tt0101493', 'Body Puzzle', 'Movie', '1992', 'Mystery'), ('tt0101625', 'Once Upon a Crime...', 'Movie', '1992', 'Mystery'), ('tt0101493', 'Body Puzzle', 'Movie', '1992', 'Mystery'), ('tt0101625', 'Once Upon a Crime...', 'Movie', '1992', 'Mystery'), ('tt0101493', 'Body Puzzle', 'Movie', '1992', 'Mystery'), ('tt0101625', 'Once Upon a Crime...', 'Movie', '1992', 'Mystery'), ('tt0101493', 'Body Puzzle', 'Movie', '1992', 'Mystery'), ('tt0015724', 'Dama de noche', 'Movie', '1993', 'Mystery'), ('tt0098707', 'Ji hap chong see: Gung sam', 'Movie', '1993', 'Mystery'), ('tt0103124', 'Tropical Heat', 'Movie', '1993', 'Mystery'), ('tt0103968', 'Chyornyy kvadrat', 'Movie', '1993', 'Mystery'), ('tt0104053', 'Trauma', 'Movie', '1993', 'Mystery'), ('tt0015724', 'Dama de noche', 'Movie', '1993', 'Mystery'), ('tt0098707', 'Ji hap chong see: Gung sam', 'Movie', '1993', 'Mystery'), ('tt0103124', 'Tropical Heat', 'Movie', '1993', 'Mystery'), ('tt0103968', 'Chyornyy kvadrat', 'Movie', '1993', 'Mystery'), ('tt0104053', 'Trauma', 'Movie', '1993', 'Mystery'), ('tt0015724', 'Dama de noche', 'Movie', '1993', 'Mystery'), ('tt0098707', 'Ji hap chong see: Gung sam', 'Movie', '1993', 'Mystery'), ('tt0103124', 'Tropical Heat', 'Movie', '1993', 'Mystery'), ('tt0103968', 'Chyornyy kvadrat', 'Movie', '1993', 'Mystery'), ('tt0104053', 'Trauma', 'Movie', '1993', 'Mystery'), ('tt0015724', 'Dama de noche', 'Movie', '1993', 'Mystery'), ('tt0098707', 'Ji hap chong see: Gung sam', 'Movie', '1993', 'Mystery'), ('tt0103124', 'Tropical Heat', 'Movie', '1993', 'Mystery'), ('tt0103968', 'Chyornyy kvadrat', 'Movie', '1993', 'Mystery'), ('tt0104053', 'Trauma', 'Movie', '1993', 'Mystery'), ('tt0086847', 'Access Code', 'Movie', '1994', 'Mystery'), ('tt0100881', 'Voci dal profondo', 'Movie', '1994', 'Mystery'), ('tt0106261', 'Los amigos del muerto', 'Short', '1994', 'Mystery'), ('tt0108045', 'Game of Love', 'Movie', '1994', 'Mystery'), ('tt0086847', 'Access Code', 'Movie', '1994', 'Mystery'), ('tt0100881', 'Voci dal profondo', 'Movie', '1994', 'Mystery'), ('tt0106261', 'Los amigos del muerto', 'Short', '1994', 'Mystery'), ('tt0108045', 'Game of Love', 'Movie', '1994', 'Mystery'), ('tt0086847', 'Access Code', 'Movie', '1994', 'Mystery'), ('tt0100881', 'Voci dal profondo', 'Movie', '1994', 'Mystery'), ('tt0106261', 'Los amigos del muerto', 'Short', '1994', 'Mystery'), ('tt0108045', 'Game of Love', 'Movie', '1994', 'Mystery'), ('tt0086847', 'Access Code', 'Movie', '1994', 'Mystery'), ('tt0100881', 'Voci dal profondo', 'Movie', '1994', 'Mystery'), ('tt0106261', 'Los amigos del muerto', 'Short', '1994', 'Mystery'), ('tt0108045', 'Game of Love', 'Movie', '1994', 'Mystery'), ('tt0109028', 'Á köldum klaka', 'Movie', '1995', 'Mystery'), ('tt0109264', 'The Bicyclist', 'Short', '1995', 'Mystery'), ('tt0109642', 'Dolores Claiborne', 'Movie', '1995', 'Mystery'), ('tt0110217', \"Jupiter's Wife\", 'Movie', '1995', 'Mystery'), ('tt0111151', 'Mad Dogs and Englishmen', 'Movie', '1995', 'Mystery'), ('tt0111269', 'Die Knickerbocker-Bande: Das sprechende Grab', 'Movie', '1995', 'Mystery'), ('tt0109028', 'Á köldum klaka', 'Movie', '1995', 'Mystery'), ('tt0109264', 'The Bicyclist', 'Short', '1995', 'Mystery'), ('tt0109642', 'Dolores Claiborne', 'Movie', '1995', 'Mystery'), ('tt0110217', \"Jupiter's Wife\", 'Movie', '1995', 'Mystery'), ('tt0111151', 'Mad Dogs and Englishmen', 'Movie', '1995', 'Mystery'), ('tt0111269', 'Die Knickerbocker-Bande: Das sprechende Grab', 'Movie', '1995', 'Mystery'), ('tt0109028', 'Á köldum klaka', 'Movie', '1995', 'Mystery'), ('tt0109264', 'The Bicyclist', 'Short', '1995', 'Mystery'), ('tt0109642', 'Dolores Claiborne', 'Movie', '1995', 'Mystery'), ('tt0110217', \"Jupiter's Wife\", 'Movie', '1995', 'Mystery'), ('tt0111151', 'Mad Dogs and Englishmen', 'Movie', '1995', 'Mystery'), ('tt0111269', 'Die Knickerbocker-Bande: Das sprechende Grab', 'Movie', '1995', 'Mystery'), ('tt0109028', 'Á köldum klaka', 'Movie', '1995', 'Mystery'), ('tt0109264', 'The Bicyclist', 'Short', '1995', 'Mystery'), ('tt0109642', 'Dolores Claiborne', 'Movie', '1995', 'Mystery'), ('tt0110217', \"Jupiter's Wife\", 'Movie', '1995', 'Mystery'), ('tt0111151', 'Mad Dogs and Englishmen', 'Movie', '1995', 'Mystery'), ('tt0111269', 'Die Knickerbocker-Bande: Das sprechende Grab', 'Movie', '1995', 'Mystery')]\n"
     ]
    },
    {
     "name": "stderr",
     "output_type": "stream",
     "text": [
      "\n"
     ]
    }
   ],
   "source": [
    "genreList = ['Mystery']\n",
    "mysterymovielist = []\n",
    "\n",
    "for genre in genreList:\n",
    "    print(genre)\n",
    "    \n",
    "    for year in tqdm(range(1980,1996)):\n",
    "        print(year)\n",
    "        url = f\"https://dev.adalab.es/api/cinema/movies?year={year}&genre={genre}\"\n",
    "        sleep(5)\n",
    "        response = requests.get(url)\n",
    "        if response.status_code == 200:\n",
    "            movies = response.json()['results']\n",
    "            for index,movie in enumerate(movies):\n",
    "                if movie ['type'] == 'Movie' or movie ['type'] == 'Short':\n",
    "                    resultado = []\n",
    "                    resultado.append(movie['idOwner'])\n",
    "                    resultado.append(movie['title'])\n",
    "                    resultado.append(movie['type'])\n",
    "                    resultado.append(movie['year'])\n",
    "                    resultado.append(movie['genre'])\n",
    "\n",
    "                    mysterymovielist.append(tuple(resultado))            \n",
    "        else: \n",
    "            print(f\"Vaya, algo ha ido mal, el motivo es {response.status_code}\")\n",
    "\n",
    "print(mysterymovielist)"
   ]
  },
  {
   "cell_type": "code",
   "execution_count": 4,
   "metadata": {},
   "outputs": [],
   "source": [
    "df = pd.DataFrame(mysterymovielist, columns = ['idOwner','Title','Type','Year','Genre'])\n",
    "\n",
    "df.to_csv('Mystery.csv')"
   ]
  }
 ],
 "metadata": {
  "kernelspec": {
   "display_name": "Python 3",
   "language": "python",
   "name": "python3"
  },
  "language_info": {
   "codemirror_mode": {
    "name": "ipython",
    "version": 3
   },
   "file_extension": ".py",
   "mimetype": "text/x-python",
   "name": "python",
   "nbconvert_exporter": "python",
   "pygments_lexer": "ipython3",
   "version": "3.11.9"
  }
 },
 "nbformat": 4,
 "nbformat_minor": 2
}
