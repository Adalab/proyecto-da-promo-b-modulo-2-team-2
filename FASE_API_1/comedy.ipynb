{
 "cells": [
  {
   "cell_type": "code",
   "execution_count": 2,
   "metadata": {},
   "outputs": [],
   "source": [
    "## importamos las librerias necesarias\n",
    "\n",
    "import requests\n",
    "import pandas as pd\n",
    "from time import sleep\n",
    "from tqdm import tqdm"
   ]
  },
  {
   "cell_type": "code",
   "execution_count": 3,
   "metadata": {},
   "outputs": [
    {
     "name": "stdout",
     "output_type": "stream",
     "text": [
      "Comedy\n"
     ]
    },
    {
     "name": "stderr",
     "output_type": "stream",
     "text": [
      "  0%|          | 0/16 [00:00<?, ?it/s]"
     ]
    },
    {
     "name": "stdout",
     "output_type": "stream",
     "text": [
      "1980\n"
     ]
    },
    {
     "name": "stderr",
     "output_type": "stream",
     "text": [
      "  6%|▋         | 1/16 [00:02<00:42,  2.86s/it]"
     ]
    },
    {
     "name": "stdout",
     "output_type": "stream",
     "text": [
      "1981\n"
     ]
    },
    {
     "name": "stderr",
     "output_type": "stream",
     "text": [
      " 12%|█▎        | 2/16 [00:05<00:35,  2.54s/it]"
     ]
    },
    {
     "name": "stdout",
     "output_type": "stream",
     "text": [
      "1982\n"
     ]
    },
    {
     "name": "stderr",
     "output_type": "stream",
     "text": [
      " 19%|█▉        | 3/16 [00:07<00:31,  2.44s/it]"
     ]
    },
    {
     "name": "stdout",
     "output_type": "stream",
     "text": [
      "1983\n"
     ]
    },
    {
     "name": "stderr",
     "output_type": "stream",
     "text": [
      " 25%|██▌       | 4/16 [00:09<00:28,  2.40s/it]"
     ]
    },
    {
     "name": "stdout",
     "output_type": "stream",
     "text": [
      "1984\n"
     ]
    },
    {
     "name": "stderr",
     "output_type": "stream",
     "text": [
      " 31%|███▏      | 5/16 [00:12<00:26,  2.37s/it]"
     ]
    },
    {
     "name": "stdout",
     "output_type": "stream",
     "text": [
      "1985\n"
     ]
    },
    {
     "name": "stderr",
     "output_type": "stream",
     "text": [
      " 38%|███▊      | 6/16 [00:14<00:23,  2.35s/it]"
     ]
    },
    {
     "name": "stdout",
     "output_type": "stream",
     "text": [
      "1986\n"
     ]
    },
    {
     "name": "stderr",
     "output_type": "stream",
     "text": [
      " 44%|████▍     | 7/16 [00:16<00:21,  2.35s/it]"
     ]
    },
    {
     "name": "stdout",
     "output_type": "stream",
     "text": [
      "1987\n"
     ]
    },
    {
     "name": "stderr",
     "output_type": "stream",
     "text": [
      " 50%|█████     | 8/16 [00:19<00:18,  2.34s/it]"
     ]
    },
    {
     "name": "stdout",
     "output_type": "stream",
     "text": [
      "1988\n"
     ]
    },
    {
     "name": "stderr",
     "output_type": "stream",
     "text": [
      " 56%|█████▋    | 9/16 [00:21<00:16,  2.33s/it]"
     ]
    },
    {
     "name": "stdout",
     "output_type": "stream",
     "text": [
      "1989\n"
     ]
    },
    {
     "name": "stderr",
     "output_type": "stream",
     "text": [
      " 62%|██████▎   | 10/16 [00:23<00:14,  2.34s/it]"
     ]
    },
    {
     "name": "stdout",
     "output_type": "stream",
     "text": [
      "1990\n"
     ]
    },
    {
     "name": "stderr",
     "output_type": "stream",
     "text": [
      " 69%|██████▉   | 11/16 [00:26<00:11,  2.34s/it]"
     ]
    },
    {
     "name": "stdout",
     "output_type": "stream",
     "text": [
      "1991\n"
     ]
    },
    {
     "name": "stderr",
     "output_type": "stream",
     "text": [
      " 75%|███████▌  | 12/16 [00:28<00:09,  2.33s/it]"
     ]
    },
    {
     "name": "stdout",
     "output_type": "stream",
     "text": [
      "1992\n"
     ]
    },
    {
     "name": "stderr",
     "output_type": "stream",
     "text": [
      " 81%|████████▏ | 13/16 [00:31<00:07,  2.46s/it]"
     ]
    },
    {
     "name": "stdout",
     "output_type": "stream",
     "text": [
      "1993\n"
     ]
    },
    {
     "name": "stderr",
     "output_type": "stream",
     "text": [
      " 88%|████████▊ | 14/16 [00:33<00:04,  2.42s/it]"
     ]
    },
    {
     "name": "stdout",
     "output_type": "stream",
     "text": [
      "1994\n"
     ]
    },
    {
     "name": "stderr",
     "output_type": "stream",
     "text": [
      " 94%|█████████▍| 15/16 [00:35<00:02,  2.39s/it]"
     ]
    },
    {
     "name": "stdout",
     "output_type": "stream",
     "text": [
      "1995\n"
     ]
    },
    {
     "name": "stderr",
     "output_type": "stream",
     "text": [
      "100%|██████████| 16/16 [00:38<00:00,  2.39s/it]"
     ]
    },
    {
     "name": "stdout",
     "output_type": "stream",
     "text": [
      "[('tt0068745', 'Intime Liebschaften', 'Movie', '1980', 'Comedy'), ('tt0075332', 'Zärtlich, aber frech wie Oskar', 'Movie', '1980', 'Comedy'), ('tt0076464', 'You ni mei ni', 'Movie', '1980', 'Comedy'), ('tt0076580', 'Qian zuo guai', 'Movie', '1980', 'Comedy'), ('tt0077367', 'Consultorio sexológico', 'Movie', '1980', 'Comedy'), ('tt0077428', 'It Rained All Night the Day I Left', 'Movie', '1980', 'Comedy'), ('tt0077883', 'Lásky mezi kapkami deste', 'Movie', '1980', 'Comedy'), ('tt0078853', 'Car-Napping - Bestellt, geklaut, geliefert', 'Movie', '1980', 'Comedy'), ('tt0078304', 'Sowizdrzal swietokrzyski', 'Movie', '1980', 'Comedy'), ('tt0072173', 'Malibu Hot Summer', 'Movie', '1981', 'Comedy'), ('tt0075816', 'Casta e pura', 'Movie', '1981', 'Comedy'), ('tt0079396', \"Kenn' ich, weiß ich, war ich schon!\", 'Movie', '1981', 'Comedy'), ('tt0079650', 'Okey, Mister Pancho', 'Movie', '1981', 'Comedy'), ('tt0076041', 'Flush', 'Movie', '1982', 'Comedy'), ('tt0077731', 'Messo comunale praticamente spione', 'Movie', '1982', 'Comedy'), ('tt0077885', 'Mademoiselle', 'Movie', '1982', 'Comedy'), ('tt0078411', 'Totul pentru fotbal', 'Movie', '1982', 'Comedy'), ('tt0078834', 'Beach House', 'Movie', '1982', 'Comedy'), ('tt0079720', 'El regreso de Eva Man', 'Movie', '1982', 'Comedy'), ('tt0080393', 'Attila flagello di Dio', 'Movie', '1982', 'Comedy'), ('tt0080680', 'Los embarazados', 'Movie', '1982', 'Comedy'), ('tt0077173', 'Las apariencias engañan', 'Movie', '1983', 'Comedy'), ('tt0079509', 'Mi ni te gong dui', 'Movie', '1983', 'Comedy'), ('tt0079915', 'Skullduggery', 'Movie', '1983', 'Comedy'), ('tt0082788', 'México 2000', 'Movie', '1983', 'Comedy'), ('tt0083715', 'Thieves and Robbers', 'Movie', '1983', 'Comedy'), ('tt0083518', 'The Act', 'Movie', '1983', 'Comedy'), ('tt0083640', 'Beregite muzhchin!', 'Movie', '1983', 'Comedy'), ('tt0083592', 'Au clair de la lune', 'Movie', '1983', 'Comedy'), ('tt0082469', 'La gran quiniela', 'Movie', '1984', 'Comedy'), ('tt0081674', 'UFOria', 'Movie', '1984', 'Comedy'), ('tt0082670', 'Los locos, locos carrozas', 'Movie', '1984', 'Comedy'), ('tt0083013', 'Réveillon chez Bob', 'Movie', '1984', 'Comedy'), ('tt0084533', 'Preppies', 'Movie', '1984', 'Comedy'), ('tt0082674', 'Long fa wei', 'Movie', '1985', 'Comedy'), ('tt0085455', 'Don Cipote de la Manga', 'Movie', '1985', 'Comedy'), ('tt0085860', 'Lola la trailera', 'Movie', '1985', 'Comedy'), ('tt0085437', 'Di zi ye feng kuang', 'Movie', '1985', 'Comedy'), ('tt0086595', 'Wo yuan yi', 'Movie', '1985', 'Comedy'), ('tt0087560', 'King Kongs Faust', 'Movie', '1985', 'Comedy'), ('tt0087978', 'El ratero de la vecindad II', 'Movie', '1985', 'Comedy'), ('tt0066020', '7 xiao fu', 'Movie', '1986', 'Comedy'), ('tt0085690', 'Hot Money', 'Movie', '1986', 'Comedy'), ('tt0086025', 'Los nuevos curanderos', 'Movie', '1986', 'Comedy'), ('tt0086028', 'Nägel mit Köpfen', 'Movie', '1986', 'Comedy'), ('tt0087945', 'Prison Ship', 'Movie', '1986', 'Comedy'), ('tt0088468', \"L'étincelle\", 'Movie', '1986', 'Comedy'), ('tt0085708', 'I Married a Vampire', 'Movie', '1987', 'Comedy'), ('tt0089727', 'On se calme et on boit frais à Saint-Tropez', 'Movie', '1987', 'Comedy'), ('tt0086964', 'Le big-Bang', 'Movie', '1987', 'Comedy'), ('tt0089758', 'Outtakes', 'Movie', '1987', 'Comedy'), ('tt0089878', 'Rainbow War', 'Short', '1987', 'Comedy'), ('tt0081766', 'The Wizard of Speed and Time', 'Movie', '1988', 'Comedy'), ('tt0089280', 'Hobgoblins', 'Movie', '1988', 'Comedy'), ('tt0090681', 'Ba wang nu fu xing', 'Movie', '1988', 'Comedy'), ('tt0091158', 'Gui meng jiao', 'Movie', '1988', 'Comedy'), ('tt0092773', 'La comédie du travail', 'Movie', '1988', 'Comedy'), ('tt0092503', 'A.D.A.M.', 'Movie', '1988', 'Comedy'), ('tt0064820', 'The Plot Against Harry', 'Movie', '1989', 'Comedy'), ('tt0080828', 'Gui yao gui', 'Movie', '1989', 'Comedy'), ('tt0080755', 'Foutaises', 'Short', '1989', 'Comedy'), ('tt0087634', 'Locas vacaciones', 'Movie', '1989', 'Comedy'), ('tt0093268', 'Interzone', 'Movie', '1989', 'Comedy'), ('tt0094735', 'Beyond Gravity', 'Movie', '1989', 'Comedy'), ('tt0094123', 'Terror Eyes', 'Movie', '1989', 'Comedy'), ('tt0091899', 'O Escorpião Escarlate', 'Movie', '1990', 'Comedy'), ('tt0095840', 'Payback', 'Movie', '1990', 'Comedy'), ('tt0097253', 'Dezha vyu', 'Movie', '1990', 'Comedy'), ('tt0096506', 'Zhong Ri nan bei he', 'Movie', '1990', 'Comedy'), ('tt0088267', 'Tian di xuan men', 'Movie', '1991', 'Comedy'), ('tt0093309', 'Jiang shi zhi zun', 'Movie', '1991', 'Comedy'), ('tt0092984', 'Esto es un atraco', 'Movie', '1991', 'Comedy'), ('tt0097122', 'Um Crime de Luxo', 'Movie', '1991', 'Comedy'), ('tt0097111', 'Vai Trabalhar, Vagabundo II', 'Movie', '1991', 'Comedy'), ('tt0096154', 'Spies Inc.', 'Movie', '1992', 'Comedy'), ('tt0097775', 'Long hang tian xia', 'Movie', '1992', 'Comedy'), ('tt0099089', 'Back to the USSR - takaisin Ryssiin', 'Movie', '1992', 'Comedy'), ('tt0098965', 'Little Ninjas', 'Movie', '1993', 'Comedy'), ('tt0103592', '1/3 qing ren', 'Movie', '1993', 'Comedy'), ('tt0101644', 'Dai lau Gwong Cheong Lung', 'Movie', '1993', 'Comedy'), ('tt0103951', 'Cheng shi nu lie ren', 'Movie', '1993', 'Comedy'), ('tt0103770', 'Barmherzige Schwestern', 'Movie', '1993', 'Comedy'), ('tt0102952', 'Prima Donnas', 'Movie', '1995', 'Comedy'), ('tt0101616', 'Coolie No. 1', 'Movie', '1995', 'Comedy'), ('tt0102532', 'Night Visions', 'Movie', '1995', 'Comedy'), ('tt0108576', 'Witch Academy', 'Movie', '1995', 'Comedy'), ('tt0107537', 'Mécaniques célestes', 'Movie', '1995', 'Comedy')]\n"
     ]
    },
    {
     "name": "stderr",
     "output_type": "stream",
     "text": [
      "\n"
     ]
    }
   ],
   "source": [
    "## extraccion datos por genero de película y años \n",
    "\n",
    "genreList = ['Comedy']\n",
    "comedymovielist = []\n",
    "\n",
    "for genre in genreList:\n",
    "    print(genre)\n",
    "    duplicado = False\n",
    "    \n",
    "    for year in tqdm(range(1980,1996)):\n",
    "        print(year)\n",
    "        url = f\"https://dev.adalab.es/api/cinema/movies?year={year}&genre={genre}\"\n",
    "        sleep(2)\n",
    "        response = requests.get(url)\n",
    "        if response.status_code == 200:\n",
    "            movies = response.json()['results']\n",
    "            for index,movie in enumerate(movies):\n",
    "                if movie ['type'] == 'Movie' or movie ['type'] == 'Short':\n",
    "                    resultado = []\n",
    "                    resultado.append(movie['idOwner'])\n",
    "                    resultado.append(movie['title'])\n",
    "                    resultado.append(movie['type'])\n",
    "                    resultado.append(movie['year'])\n",
    "                    resultado.append(movie['genre'])\n",
    "\n",
    "                    comedymovielist.append(tuple(resultado))            \n",
    "        else: \n",
    "            print(f\"Vaya, algo ha ido mal, el motivo es {response.status_code}\")\n",
    "\n",
    "print(comedymovielist)"
   ]
  },
  {
   "cell_type": "code",
   "execution_count": 4,
   "metadata": {},
   "outputs": [],
   "source": [
    "## convertirlo en un Dataframe\n",
    "\n",
    "df = pd.DataFrame(comedymovielist, columns = ['idOwner','Title','Type','Year','Genre'])\n",
    "\n",
    "df.duplicated()\n",
    "\n",
    "df_clean = df.drop_duplicates()\n",
    "\n",
    "df_clean.to_csv('Comedy.csv')"
   ]
  }
 ],
 "metadata": {
  "kernelspec": {
   "display_name": "Python 3",
   "language": "python",
   "name": "python3"
  },
  "language_info": {
   "codemirror_mode": {
    "name": "ipython",
    "version": 3
   },
   "file_extension": ".py",
   "mimetype": "text/x-python",
   "name": "python",
   "nbconvert_exporter": "python",
   "pygments_lexer": "ipython3",
   "version": "3.12.3"
  }
 },
 "nbformat": 4,
 "nbformat_minor": 2
}
