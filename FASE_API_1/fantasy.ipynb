{
 "cells": [
  {
   "cell_type": "code",
   "execution_count": 1,
   "metadata": {},
   "outputs": [],
   "source": [
    "## importamos las librerias necesarias\n",
    "\n",
    "import requests\n",
    "import pandas as pd\n",
    "from time import sleep\n",
    "from tqdm import tqdm"
   ]
  },
  {
   "cell_type": "code",
   "execution_count": 2,
   "metadata": {},
   "outputs": [
    {
     "name": "stdout",
     "output_type": "stream",
     "text": [
      "Fantasy\n"
     ]
    },
    {
     "name": "stderr",
     "output_type": "stream",
     "text": [
      "  0%|          | 0/16 [00:00<?, ?it/s]"
     ]
    },
    {
     "name": "stdout",
     "output_type": "stream",
     "text": [
      "1980\n"
     ]
    },
    {
     "name": "stderr",
     "output_type": "stream",
     "text": [
      "  6%|▋         | 1/16 [00:05<01:21,  5.43s/it]"
     ]
    },
    {
     "name": "stdout",
     "output_type": "stream",
     "text": [
      "1981\n"
     ]
    },
    {
     "name": "stderr",
     "output_type": "stream",
     "text": [
      " 12%|█▎        | 2/16 [00:10<01:14,  5.34s/it]"
     ]
    },
    {
     "name": "stdout",
     "output_type": "stream",
     "text": [
      "1982\n"
     ]
    },
    {
     "name": "stderr",
     "output_type": "stream",
     "text": [
      " 19%|█▉        | 3/16 [00:15<01:09,  5.32s/it]"
     ]
    },
    {
     "name": "stdout",
     "output_type": "stream",
     "text": [
      "1983\n"
     ]
    },
    {
     "name": "stderr",
     "output_type": "stream",
     "text": [
      " 25%|██▌       | 4/16 [00:21<01:03,  5.31s/it]"
     ]
    },
    {
     "name": "stdout",
     "output_type": "stream",
     "text": [
      "1984\n"
     ]
    },
    {
     "name": "stderr",
     "output_type": "stream",
     "text": [
      " 31%|███▏      | 5/16 [00:26<00:58,  5.30s/it]"
     ]
    },
    {
     "name": "stdout",
     "output_type": "stream",
     "text": [
      "1985\n"
     ]
    },
    {
     "name": "stderr",
     "output_type": "stream",
     "text": [
      " 38%|███▊      | 6/16 [00:31<00:53,  5.31s/it]"
     ]
    },
    {
     "name": "stdout",
     "output_type": "stream",
     "text": [
      "1986\n"
     ]
    },
    {
     "name": "stderr",
     "output_type": "stream",
     "text": [
      " 44%|████▍     | 7/16 [00:37<00:47,  5.31s/it]"
     ]
    },
    {
     "name": "stdout",
     "output_type": "stream",
     "text": [
      "1987\n"
     ]
    },
    {
     "name": "stderr",
     "output_type": "stream",
     "text": [
      " 50%|█████     | 8/16 [00:42<00:42,  5.31s/it]"
     ]
    },
    {
     "name": "stdout",
     "output_type": "stream",
     "text": [
      "1988\n"
     ]
    },
    {
     "name": "stderr",
     "output_type": "stream",
     "text": [
      " 56%|█████▋    | 9/16 [00:47<00:37,  5.30s/it]"
     ]
    },
    {
     "name": "stdout",
     "output_type": "stream",
     "text": [
      "1989\n"
     ]
    },
    {
     "name": "stderr",
     "output_type": "stream",
     "text": [
      " 62%|██████▎   | 10/16 [00:53<00:31,  5.30s/it]"
     ]
    },
    {
     "name": "stdout",
     "output_type": "stream",
     "text": [
      "1990\n"
     ]
    },
    {
     "name": "stderr",
     "output_type": "stream",
     "text": [
      " 69%|██████▉   | 11/16 [00:58<00:26,  5.31s/it]"
     ]
    },
    {
     "name": "stdout",
     "output_type": "stream",
     "text": [
      "1991\n"
     ]
    },
    {
     "name": "stderr",
     "output_type": "stream",
     "text": [
      " 75%|███████▌  | 12/16 [01:03<00:21,  5.30s/it]"
     ]
    },
    {
     "name": "stdout",
     "output_type": "stream",
     "text": [
      "1992\n"
     ]
    },
    {
     "name": "stderr",
     "output_type": "stream",
     "text": [
      " 81%|████████▏ | 13/16 [01:09<00:15,  5.30s/it]"
     ]
    },
    {
     "name": "stdout",
     "output_type": "stream",
     "text": [
      "1993\n"
     ]
    },
    {
     "name": "stderr",
     "output_type": "stream",
     "text": [
      " 88%|████████▊ | 14/16 [01:14<00:10,  5.30s/it]"
     ]
    },
    {
     "name": "stdout",
     "output_type": "stream",
     "text": [
      "1994\n"
     ]
    },
    {
     "name": "stderr",
     "output_type": "stream",
     "text": [
      " 94%|█████████▍| 15/16 [01:19<00:05,  5.29s/it]"
     ]
    },
    {
     "name": "stdout",
     "output_type": "stream",
     "text": [
      "1995\n"
     ]
    },
    {
     "name": "stderr",
     "output_type": "stream",
     "text": [
      "100%|██████████| 16/16 [01:24<00:00,  5.31s/it]"
     ]
    },
    {
     "name": "stdout",
     "output_type": "stream",
     "text": [
      "[('tt0079293', 'Hi no tori 2772: Ai no kosumozôn', 'Movie', '1980', 'Fantasy'), ('tt0079749', 'Alibaba Aur 40 Chor', 'Movie', '1980', 'Fantasy'), ('tt0079820', \"Le roi et l'oiseau\", 'Movie', '1980', 'Fantasy'), ('tt0079760', 'O Príncipe com Orelhas de Burro', 'Movie', '1980', 'Fantasy'), ('tt0080539', 'Vrouwenstad', 'Movie', '1980', 'Fantasy'), ('tt0078349', 'Sekai meisaku dôwa: Hakuchô no mizûmi', 'Movie', '1981', 'Fantasy'), ('tt0079492', 'Lovespell', 'Movie', '1981', 'Fantasy'), ('tt0080495', 'La capilla ardiente', 'Movie', '1981', 'Fantasy'), ('tt0080531', 'Christmas Mountain', 'Movie', '1981', 'Fantasy'), ('tt0080667', 'Dumbrava minunata', 'Movie', '1981', 'Fantasy'), ('tt0080920', 'In the Shadow of the Sun', 'Movie', '1981', 'Fantasy'), ('tt0082263', 'The Devil and Max Devlin', 'Movie', '1981', 'Fantasy'), ('tt0083144', 'The Survivor', 'Movie', '1981', 'Fantasy'), ('tt0082762', 'Mo deng tian shi', 'Movie', '1982', 'Fantasy'), ('tt0082198', 'Conan the Barbarian', 'Movie', '1982', 'Fantasy'), ('tt0082323', 'The Emperor of Peru', 'Movie', '1982', 'Fantasy'), ('tt0084535', 'Der Prinz hinter den sieben Meeren', 'Movie', '1982', 'Fantasy'), ('tt0084225', 'Yin ji', 'Movie', '1982', 'Fantasy'), ('tt0083053', 'Sero hiki no Gôshu', 'Movie', '1982', 'Fantasy'), ('tt0082141', 'La casa de las siete tumbas', 'Movie', '1982', 'Fantasy'), ('tt0083863', \"Le démon dans l'île\", 'Movie', '1983', 'Fantasy'), ('tt0084301', 'Mar brava', 'Movie', '1983', 'Fantasy'), ('tt0084781', 'El tesoro de las cuatro coronas', 'Movie', '1983', 'Fantasy'), ('tt0085132', 'Os Abismos da Meia-Noite', 'Movie', '1983', 'Fantasy'), ('tt0085182', 'Ars amandi', 'Movie', '1983', 'Fantasy'), ('tt0083853', 'Dreams Come True', 'Movie', '1984', 'Fantasy'), ('tt0085316', \"Cenerentola '80\", 'Movie', '1984', 'Fantasy'), ('tt0085535', 'Feroz', 'Movie', '1984', 'Fantasy'), ('tt0084750', 'Sword of the Valiant: The Legend of Sir Gawain and the Green Knight', 'Movie', '1984', 'Fantasy'), ('tt0082335', 'This Unnameable Little Broom', 'Short', '1985', 'Fantasy'), ('tt0087449', 'I eshchyo odna noch Shakherazady', 'Movie', '1985', 'Fantasy'), ('tt0087731', 'S certy nejsou zerty', 'Movie', '1985', 'Fantasy'), ('tt0088023', 'Rumburak', 'Movie', '1985', 'Fantasy'), ('tt0087256', 'El filandón', 'Movie', '1985', 'Fantasy'), ('tt0089737', 'Orfeo', 'Movie', '1985', 'Fantasy'), ('tt0089731', 'One Magic Christmas', 'Movie', '1985', 'Fantasy'), ('tt0089818', 'Pohádka o Malíckovi', 'Movie', '1986', 'Fantasy'), ('tt0089831', 'Posle dozhdichka, v chetverg', 'Movie', '1986', 'Fantasy'), ('tt0089911', 'Revenge of the Stolen Stars', 'Movie', '1986', 'Fantasy'), ('tt0090183', 'The Tomb', 'Movie', '1986', 'Fantasy'), ('tt0092834', 'Date with an Angel', 'Movie', '1987', 'Fantasy'), ('tt0092296', 'Zombie Brigade', 'Movie', '1988', 'Fantasy'), ('tt0093240', 'Ich und er', 'Movie', '1988', 'Fantasy'), ('tt0094595', '1999 nen no natsu yasumi', 'Movie', '1988', 'Fantasy'), ('tt0094054', 'Strasidla z vikýre', 'Movie', '1988', 'Fantasy'), ('tt0093624', 'Night of the Demons', 'Movie', '1988', 'Fantasy'), ('tt0093295', 'Jane B. par Agnès V.', 'Movie', '1988', 'Fantasy'), ('tt0094849', 'Celia', 'Movie', '1989', 'Fantasy'), ('tt0094641', 'Amanece, que no es poco', 'Movie', '1989', 'Fantasy'), ('tt0095210', 'Die Geschichte von der Gänseprinzessin und ihrem treuen Pferd Falada', 'Movie', '1989', 'Fantasy'), ('tt0095547', 'The Lords of Magick', 'Movie', '1989', 'Fantasy'), ('tt0095483', 'Pembalasan Ratu Pantai Selatan', 'Movie', '1989', 'Fantasy'), ('tt0095712', 'Nebojsa', 'Movie', '1989', 'Fantasy'), ('tt0096239', 'Teen Vamp', 'Movie', '1989', 'Fantasy'), ('tt0093210', 'La hora 24', 'Movie', '1990', 'Fantasy'), ('tt0094874', 'Chu tu qi bing', 'Movie', '1990', 'Fantasy'), ('tt0097638', 'Hoi sum gwai gau hoi sum gwai', 'Movie', '1990', 'Fantasy'), ('tt0099388', 'Deathstalker IV: Match of Titans', 'Movie', '1991', 'Fantasy'), ('tt0100289', 'Olle Hexe', 'Movie', '1991', 'Fantasy'), ('tt0099175', 'Sedem jednou ranou', 'Movie', '1991', 'Fantasy'), ('tt0100584', 'Sha ru di yu', 'Movie', '1991', 'Fantasy'), ('tt0100528', 'The Runestone', 'Movie', '1991', 'Fantasy'), ('tt0100016', \"La liberté d'une statue\", 'Movie', '1991', 'Fantasy'), ('tt0099055', 'The Argon Quest', 'Movie', '1992', 'Fantasy'), ('tt0099330', 'Crystal Force', 'Movie', '1992', 'Fantasy'), ('tt0099524', 'Evil Toons', 'Movie', '1992', 'Fantasy'), ('tt0103206', 'La vida láctea', 'Movie', '1993', 'Fantasy'), ('tt0104643', 'Krvavý román', 'Movie', '1993', 'Fantasy'), ('tt0104855', 'Merlin', 'Movie', '1993', 'Fantasy'), ('tt0104029', 'Cronos', 'Movie', '1993', 'Fantasy'), ('tt0104584', 'Kacenka a zase ta strasidla', 'Movie', '1993', 'Fantasy'), ('tt0104128', 'Dos Fantasmas Sinverguenzas', 'Movie', '1993', 'Fantasy'), ('tt0104096', 'Mo nu 18', 'Movie', '1993', 'Fantasy'), ('tt0106346', 'El baile de las ánimas', 'Movie', '1994', 'Fantasy'), ('tt0106518', 'Capítulo 66', 'Short', '1994', 'Fantasy'), ('tt0107101', 'Hellbound', 'Movie', '1994', 'Fantasy'), ('tt0106761', 'Double Dragon', 'Movie', '1994', 'Fantasy'), ('tt0106558', 'Chinese Kamasutra', 'Movie', '1994', 'Fantasy'), ('tt0109400', \"Charlie's Ghost Story\", 'Movie', '1995', 'Fantasy'), ('tt0109746', 'Esti Kornél csodálatos utazása', 'Movie', '1995', 'Fantasy'), ('tt0109905', 'Gladiator Cop', 'Movie', '1995', 'Fantasy'), ('tt0110252', \"Keita! L'héritage du griot\", 'Movie', '1995', 'Fantasy'), ('tt0110826', 'The Phoenix and the Magic Carpet', 'Movie', '1995', 'Fantasy'), ('tt0111359', 'Tall Tale', 'Movie', '1995', 'Fantasy')]\n"
     ]
    },
    {
     "name": "stderr",
     "output_type": "stream",
     "text": [
      "\n"
     ]
    }
   ],
   "source": [
    "## extraccion datos por genero de película y años \n",
    "\n",
    "genreList = ['Fantasy']\n",
    "fantasymovielist = []\n",
    "\n",
    "for genre in genreList:\n",
    "    print(genre)\n",
    "    \n",
    "    for year in tqdm(range(1980,1996)):\n",
    "        print(year)\n",
    "        url = f\"https://dev.adalab.es/api/cinema/movies?year={year}&genre={genre}\"\n",
    "        sleep(5)\n",
    "        response = requests.get(url)\n",
    "        if response.status_code == 200:\n",
    "            movies = response.json()['results']\n",
    "            for index,movie in enumerate(movies):\n",
    "                if movie ['type'] == 'Movie' or movie ['type'] == 'Short':\n",
    "                    resultado = []\n",
    "                    resultado.append(movie['idOwner'])\n",
    "                    resultado.append(movie['title'])\n",
    "                    resultado.append(movie['type'])\n",
    "                    resultado.append(movie['year'])\n",
    "                    resultado.append(movie['genre'])\n",
    "\n",
    "                    fantasymovielist.append(tuple(resultado))            \n",
    "        else: \n",
    "            print(f\"Vaya, algo ha ido mal, el motivo es {response.status_code}\")\n",
    "\n",
    "print(fantasymovielist)"
   ]
  },
  {
   "cell_type": "code",
   "execution_count": 4,
   "metadata": {},
   "outputs": [],
   "source": [
    "## convertirlo en un Dataframe\n",
    "\n",
    "df = pd.DataFrame(fantasymovielist, columns = ['idOwner','title','type','year','genre'])\n",
    "\n",
    "df.duplicated()\n",
    "\n",
    "df_clean = df.drop_duplicates()\n",
    "\n",
    "df_clean.to_csv('Fantasy.csv')\n"
   ]
  }
 ],
 "metadata": {
  "kernelspec": {
   "display_name": "Python 3",
   "language": "python",
   "name": "python3"
  },
  "language_info": {
   "codemirror_mode": {
    "name": "ipython",
    "version": 3
   },
   "file_extension": ".py",
   "mimetype": "text/x-python",
   "name": "python",
   "nbconvert_exporter": "python",
   "pygments_lexer": "ipython3",
   "version": "3.12.4"
  }
 },
 "nbformat": 4,
 "nbformat_minor": 2
}
