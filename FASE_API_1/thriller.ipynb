{
 "cells": [
  {
   "cell_type": "code",
   "execution_count": 1,
   "metadata": {},
   "outputs": [],
   "source": [
    "## importamos las librerias necesarias\n",
    "\n",
    "import requests\n",
    "import pandas as pd\n",
    "from time import sleep\n",
    "from tqdm import tqdm"
   ]
  },
  {
   "cell_type": "code",
   "execution_count": 6,
   "metadata": {},
   "outputs": [
    {
     "name": "stdout",
     "output_type": "stream",
     "text": [
      "Thriller\n"
     ]
    },
    {
     "name": "stderr",
     "output_type": "stream",
     "text": [
      "  0%|          | 0/16 [00:00<?, ?it/s]"
     ]
    },
    {
     "name": "stdout",
     "output_type": "stream",
     "text": [
      "1980\n"
     ]
    },
    {
     "name": "stderr",
     "output_type": "stream",
     "text": [
      "  6%|▋         | 1/16 [00:02<00:37,  2.48s/it]"
     ]
    },
    {
     "name": "stdout",
     "output_type": "stream",
     "text": [
      "1981\n"
     ]
    },
    {
     "name": "stderr",
     "output_type": "stream",
     "text": [
      " 12%|█▎        | 2/16 [00:04<00:34,  2.44s/it]"
     ]
    },
    {
     "name": "stdout",
     "output_type": "stream",
     "text": [
      "1982\n"
     ]
    },
    {
     "name": "stderr",
     "output_type": "stream",
     "text": [
      " 19%|█▉        | 3/16 [00:07<00:31,  2.38s/it]"
     ]
    },
    {
     "name": "stdout",
     "output_type": "stream",
     "text": [
      "1983\n"
     ]
    },
    {
     "name": "stderr",
     "output_type": "stream",
     "text": [
      " 25%|██▌       | 4/16 [00:09<00:28,  2.35s/it]"
     ]
    },
    {
     "name": "stdout",
     "output_type": "stream",
     "text": [
      "1984\n"
     ]
    },
    {
     "name": "stderr",
     "output_type": "stream",
     "text": [
      " 31%|███▏      | 5/16 [00:11<00:25,  2.33s/it]"
     ]
    },
    {
     "name": "stdout",
     "output_type": "stream",
     "text": [
      "1985\n"
     ]
    },
    {
     "name": "stderr",
     "output_type": "stream",
     "text": [
      " 38%|███▊      | 6/16 [00:14<00:23,  2.31s/it]"
     ]
    },
    {
     "name": "stdout",
     "output_type": "stream",
     "text": [
      "1986\n"
     ]
    },
    {
     "name": "stderr",
     "output_type": "stream",
     "text": [
      " 44%|████▍     | 7/16 [00:16<00:20,  2.30s/it]"
     ]
    },
    {
     "name": "stdout",
     "output_type": "stream",
     "text": [
      "1987\n"
     ]
    },
    {
     "name": "stderr",
     "output_type": "stream",
     "text": [
      " 50%|█████     | 8/16 [00:18<00:18,  2.30s/it]"
     ]
    },
    {
     "name": "stdout",
     "output_type": "stream",
     "text": [
      "1988\n"
     ]
    },
    {
     "name": "stderr",
     "output_type": "stream",
     "text": [
      " 56%|█████▋    | 9/16 [00:21<00:16,  2.35s/it]"
     ]
    },
    {
     "name": "stdout",
     "output_type": "stream",
     "text": [
      "1989\n"
     ]
    },
    {
     "name": "stderr",
     "output_type": "stream",
     "text": [
      " 62%|██████▎   | 10/16 [00:23<00:14,  2.34s/it]"
     ]
    },
    {
     "name": "stdout",
     "output_type": "stream",
     "text": [
      "1990\n"
     ]
    },
    {
     "name": "stderr",
     "output_type": "stream",
     "text": [
      " 69%|██████▉   | 11/16 [00:25<00:11,  2.32s/it]"
     ]
    },
    {
     "name": "stdout",
     "output_type": "stream",
     "text": [
      "1991\n"
     ]
    },
    {
     "name": "stderr",
     "output_type": "stream",
     "text": [
      " 75%|███████▌  | 12/16 [00:27<00:09,  2.31s/it]"
     ]
    },
    {
     "name": "stdout",
     "output_type": "stream",
     "text": [
      "1992\n"
     ]
    },
    {
     "name": "stderr",
     "output_type": "stream",
     "text": [
      " 81%|████████▏ | 13/16 [00:30<00:06,  2.30s/it]"
     ]
    },
    {
     "name": "stdout",
     "output_type": "stream",
     "text": [
      "1993\n"
     ]
    },
    {
     "name": "stderr",
     "output_type": "stream",
     "text": [
      " 88%|████████▊ | 14/16 [00:32<00:04,  2.30s/it]"
     ]
    },
    {
     "name": "stdout",
     "output_type": "stream",
     "text": [
      "1994\n"
     ]
    },
    {
     "name": "stderr",
     "output_type": "stream",
     "text": [
      " 94%|█████████▍| 15/16 [00:34<00:02,  2.30s/it]"
     ]
    },
    {
     "name": "stdout",
     "output_type": "stream",
     "text": [
      "1995\n"
     ]
    },
    {
     "name": "stderr",
     "output_type": "stream",
     "text": [
      "100%|██████████| 16/16 [00:37<00:00,  2.32s/it]"
     ]
    },
    {
     "name": "stdout",
     "output_type": "stream",
     "text": [
      "[('tt0078508', 'Wolf Lake', 'Movie', '1980', 'Thriller'), ('tt0078805', 'Attentatet', 'Movie', '1980', 'Thriller'), ('tt0078895', 'The Border', 'Movie', '1980', 'Thriller'), ('tt0079145', 'La femme flic', 'Movie', '1980', 'Thriller'), ('tt0078053', 'Ópalo de fuego: Mercaderes del sexo', 'Movie', '1980', 'Thriller'), ('tt0079181', 'Fuego en el mar', 'Movie', '1981', 'Thriller'), ('tt0079341', 'El infierno de todos tan temido', 'Movie', '1981', 'Thriller'), ('tt0079706', 'Paydirt', 'Movie', '1981', 'Thriller'), ('tt0080608', 'Demasiado para Gálvez', 'Movie', '1981', 'Thriller'), ('tt0080915', 'Image of the Beast', 'Movie', '1981', 'Thriller'), ('tt0082504', 'Haathkadi', 'Movie', '1982', 'Thriller'), ('tt0082342', 'Espion, lève-toi', 'Movie', '1982', 'Thriller'), ('tt0083906', 'Eureka', 'Movie', '1983', 'Thriller'), ('tt0083581', 'Asalto al Banco Central', 'Movie', '1983', 'Thriller'), ('tt0084158', \"J'ai épousé une ombre\", 'Movie', '1983', 'Thriller'), ('tt0085528', 'Les fauves', 'Movie', '1984', 'Thriller'), ('tt0085627', \"I guerrieri dell'anno 2072\", 'Movie', '1984', 'Thriller'), ('tt0085645', 'Hanyatt-homlok', 'Movie', '1984', 'Thriller'), ('tt0085420', 'Delitto in Formula Uno', 'Movie', '1984', 'Thriller'), ('tt0087882', 'Parfait amour', 'Movie', '1985', 'Thriller'), ('tt0086931', 'Bahía blanca', 'Movie', '1985', 'Thriller'), ('tt0087942', 'Prime Risk', 'Movie', '1985', 'Thriller'), ('tt0087344', 'Godzilla 1985', 'Movie', '1985', 'Thriller'), ('tt0089923', 'Robachicos', 'Movie', '1986', 'Thriller'), ('tt0088809', 'Birds of Prey', 'Movie', '1986', 'Thriller'), ('tt0089499', 'Lola', 'Movie', '1986', 'Thriller'), ('tt0089118', 'F/X', 'Movie', '1986', 'Thriller'), ('tt0089972', 'Schmutz', 'Movie', '1987', 'Thriller'), ('tt0090738', 'Black Widow', 'Movie', '1987', 'Thriller'), ('tt0090765', 'Boran - Zeit zum Zielen', 'Movie', '1987', 'Thriller'), ('tt0092771', 'El complot dels anells', 'Movie', '1988', 'Thriller'), ('tt0092966', 'En toute innocence', 'Movie', '1988', 'Thriller'), ('tt0094710', 'Bangkok Story', 'Movie', '1989', 'Thriller'), ('tt0093662', 'Object of Desire', 'Movie', '1990', 'Thriller'), ('tt0094666', \"Any Man's Death\", 'Movie', '1990', 'Thriller'), ('tt0094857', 'Chi se da feng bao', 'Movie', '1990', 'Thriller'), ('tt0099587', 'Flight of the Intruder', 'Movie', '1991', 'Thriller'), ('tt0099577', 'Firehead', 'Movie', '1991', 'Thriller'), ('tt0097928', 'Murder Blues', 'Movie', '1991', 'Thriller'), ('tt0100111', 'Los mares del sur', 'Movie', '1992', 'Thriller'), ('tt0101860', 'Fatal Instinct', 'Movie', '1992', 'Thriller'), ('tt0102000', 'Happy Birthday, Türke!', 'Movie', '1992', 'Thriller'), ('tt0101395', 'Backsliding', 'Movie', '1992', 'Thriller'), ('tt0101759', \"A Woman's Secret\", 'Movie', '1992', 'Thriller'), ('tt0101736', 'Diplomatic Immunity', 'Movie', '1992', 'Thriller'), ('tt0102253', 'El laberinto griego', 'Movie', '1993', 'Thriller'), ('tt0104683', 'Laser Moon', 'Movie', '1993', 'Thriller'), ('tt0102821', 'Russian Holiday', 'Movie', '1993', 'Thriller'), ('tt0104807', 'Maang lui 72 siu si', 'Movie', '1993', 'Thriller'), ('tt0103022', 'In a Moment of Passion', 'Movie', '1993', 'Thriller'), ('tt0105054', 'Sul filo del rasoio', 'Movie', '1994', 'Thriller'), ('tt0105230', 'Redheads', 'Movie', '1994', 'Thriller'), ('tt0105463', 'April One', 'Movie', '1994', 'Thriller'), ('tt0106946', 'Forced to Kill', 'Movie', '1994', 'Thriller'), ('tt0106874', 'Fatal Past', 'Movie', '1994', 'Thriller'), ('tt0106479', 'Breaking Point', 'Movie', '1994', 'Thriller'), ('tt0095102', 'Les ennemis de la mafia', 'Movie', '1995', 'Thriller'), ('tt0109034', 'Above Suspicion', 'Movie', '1995', 'Thriller'), ('tt0109532', 'Dangerous Indiscretion', 'Movie', '1995', 'Thriller')]\n"
     ]
    },
    {
     "name": "stderr",
     "output_type": "stream",
     "text": [
      "\n"
     ]
    }
   ],
   "source": [
    "## extraccion datos por genero de película y años \n",
    "\n",
    "genreList = ['Thriller']\n",
    "thrillermovielist = []\n",
    "\n",
    "for genre in genreList:\n",
    "    print(genre)\n",
    "    \n",
    "    for year in tqdm(range(1980,1996)):\n",
    "        print(year)\n",
    "        url = f\"https://dev.adalab.es/api/cinema/movies?year={year}&genre={genre}\"\n",
    "        sleep(2)\n",
    "        response = requests.get(url)\n",
    "        if response.status_code == 200:\n",
    "            movies = response.json()['results']\n",
    "            for index,movie in enumerate(movies):\n",
    "                if movie ['type'] == 'Movie' or movie ['type'] == 'Short':\n",
    "                    resultado = []\n",
    "                    resultado.append(movie['idOwner'])\n",
    "                    resultado.append(movie['title'])\n",
    "                    resultado.append(movie['type'])\n",
    "                    resultado.append(movie['year'])\n",
    "                    resultado.append(movie['genre'])\n",
    "\n",
    "                    thrillermovielist.append(tuple(resultado))            \n",
    "        else: \n",
    "            print(f\"Vaya, algo ha ido mal, el motivo es {response.status_code}\")\n",
    "\n",
    "print(thrillermovielist)"
   ]
  },
  {
   "cell_type": "code",
   "execution_count": 7,
   "metadata": {},
   "outputs": [
    {
     "name": "stdout",
     "output_type": "stream",
     "text": [
      "      idOwner                                Title   Type  Year     Genre\n",
      "0   tt0078508                            Wolf Lake  Movie  1980  Thriller\n",
      "1   tt0078805                           Attentatet  Movie  1980  Thriller\n",
      "2   tt0078895                           The Border  Movie  1980  Thriller\n",
      "3   tt0079145                        La femme flic  Movie  1980  Thriller\n",
      "4   tt0078053  Ópalo de fuego: Mercaderes del sexo  Movie  1980  Thriller\n",
      "5   tt0079181                      Fuego en el mar  Movie  1981  Thriller\n",
      "6   tt0079341      El infierno de todos tan temido  Movie  1981  Thriller\n",
      "7   tt0079706                              Paydirt  Movie  1981  Thriller\n",
      "8   tt0080608                Demasiado para Gálvez  Movie  1981  Thriller\n",
      "9   tt0080915                   Image of the Beast  Movie  1981  Thriller\n",
      "10  tt0082504                            Haathkadi  Movie  1982  Thriller\n",
      "11  tt0082342                     Espion, lève-toi  Movie  1982  Thriller\n",
      "12  tt0083906                               Eureka  Movie  1983  Thriller\n",
      "13  tt0083581              Asalto al Banco Central  Movie  1983  Thriller\n",
      "14  tt0084158                J'ai épousé une ombre  Movie  1983  Thriller\n",
      "15  tt0085528                           Les fauves  Movie  1984  Thriller\n",
      "16  tt0085627           I guerrieri dell'anno 2072  Movie  1984  Thriller\n",
      "17  tt0085645                       Hanyatt-homlok  Movie  1984  Thriller\n",
      "18  tt0085420               Delitto in Formula Uno  Movie  1984  Thriller\n",
      "19  tt0087882                        Parfait amour  Movie  1985  Thriller\n",
      "20  tt0086931                         Bahía blanca  Movie  1985  Thriller\n",
      "21  tt0087942                           Prime Risk  Movie  1985  Thriller\n",
      "22  tt0087344                        Godzilla 1985  Movie  1985  Thriller\n",
      "23  tt0089923                           Robachicos  Movie  1986  Thriller\n",
      "24  tt0088809                        Birds of Prey  Movie  1986  Thriller\n",
      "25  tt0089499                                 Lola  Movie  1986  Thriller\n",
      "26  tt0089118                                  F/X  Movie  1986  Thriller\n",
      "27  tt0089972                              Schmutz  Movie  1987  Thriller\n",
      "28  tt0090738                          Black Widow  Movie  1987  Thriller\n",
      "29  tt0090765              Boran - Zeit zum Zielen  Movie  1987  Thriller\n",
      "30  tt0092771               El complot dels anells  Movie  1988  Thriller\n",
      "31  tt0092966                   En toute innocence  Movie  1988  Thriller\n",
      "32  tt0094710                        Bangkok Story  Movie  1989  Thriller\n",
      "33  tt0093662                     Object of Desire  Movie  1990  Thriller\n",
      "34  tt0094666                      Any Man's Death  Movie  1990  Thriller\n",
      "35  tt0094857                   Chi se da feng bao  Movie  1990  Thriller\n",
      "36  tt0099587               Flight of the Intruder  Movie  1991  Thriller\n",
      "37  tt0099577                             Firehead  Movie  1991  Thriller\n",
      "38  tt0097928                         Murder Blues  Movie  1991  Thriller\n",
      "39  tt0100111                    Los mares del sur  Movie  1992  Thriller\n",
      "40  tt0101860                       Fatal Instinct  Movie  1992  Thriller\n",
      "41  tt0102000               Happy Birthday, Türke!  Movie  1992  Thriller\n",
      "42  tt0101395                          Backsliding  Movie  1992  Thriller\n",
      "43  tt0101759                     A Woman's Secret  Movie  1992  Thriller\n",
      "44  tt0101736                  Diplomatic Immunity  Movie  1992  Thriller\n",
      "45  tt0102253                  El laberinto griego  Movie  1993  Thriller\n",
      "46  tt0104683                           Laser Moon  Movie  1993  Thriller\n",
      "47  tt0102821                      Russian Holiday  Movie  1993  Thriller\n",
      "48  tt0104807                  Maang lui 72 siu si  Movie  1993  Thriller\n",
      "49  tt0103022               In a Moment of Passion  Movie  1993  Thriller\n",
      "50  tt0105054                  Sul filo del rasoio  Movie  1994  Thriller\n",
      "51  tt0105230                             Redheads  Movie  1994  Thriller\n",
      "52  tt0105463                            April One  Movie  1994  Thriller\n",
      "53  tt0106946                       Forced to Kill  Movie  1994  Thriller\n",
      "54  tt0106874                           Fatal Past  Movie  1994  Thriller\n",
      "55  tt0106479                       Breaking Point  Movie  1994  Thriller\n",
      "56  tt0095102              Les ennemis de la mafia  Movie  1995  Thriller\n",
      "57  tt0109034                      Above Suspicion  Movie  1995  Thriller\n",
      "58  tt0109532               Dangerous Indiscretion  Movie  1995  Thriller\n"
     ]
    }
   ],
   "source": [
    "## convertirlo en un Dataframe\n",
    "\n",
    "df = pd.DataFrame(thrillermovielist, columns = ['idOwner','Title','Type','Year','Genre'])\n",
    "\n",
    "df.duplicated()\n",
    "\n",
    "df_clean = df.drop_duplicates()\n",
    "\n",
    "print(df_clean)\n",
    "\n",
    "df_clean.to_csv('Thriller.csv')"
   ]
  },
  {
   "cell_type": "code",
   "execution_count": 13,
   "metadata": {},
   "outputs": [],
   "source": [
    "# lista de archivos csv \n",
    "csv_genre = ['Action.csv','Comedy.csv','Drama.csv','Fantasy.csv','Horror.csv','Mystery.csv','Romance.csv','Thriller.csv']"
   ]
  },
  {
   "cell_type": "code",
   "execution_count": 14,
   "metadata": {},
   "outputs": [
    {
     "name": "stdout",
     "output_type": "stream",
     "text": [
      "Archivos csv combinados con exito en 'combinado.csv'\n"
     ]
    }
   ],
   "source": [
    "# Leer cada uno de los archivos csv en un DataFrame y almacenarlos en una lista \n",
    "dfs = [pd.read_csv(file) for file in csv_genre]\n",
    "\n",
    "# Concatenar todos los DataFrames en uno solo \n",
    "df_final = pd.concat (dfs, axis=0, ignore_index = True)\n",
    "\n",
    "# Guardar el DataFrame concatenado en un nuevo archivo csv final\n",
    "\n",
    "df_final.to_csv('combinado.csv', index = False)\n",
    "\n",
    "print (\"Archivos csv combinados con exito en 'combinado.csv'\")"
   ]
  }
 ],
 "metadata": {
  "kernelspec": {
   "display_name": "base",
   "language": "python",
   "name": "python3"
  },
  "language_info": {
   "codemirror_mode": {
    "name": "ipython",
    "version": 3
   },
   "file_extension": ".py",
   "mimetype": "text/x-python",
   "name": "python",
   "nbconvert_exporter": "python",
   "pygments_lexer": "ipython3",
   "version": "3.9.7"
  }
 },
 "nbformat": 4,
 "nbformat_minor": 2
}
