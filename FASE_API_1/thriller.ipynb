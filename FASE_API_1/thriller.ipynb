{
 "cells": [
  {
   "cell_type": "code",
   "execution_count": 1,
   "metadata": {},
   "outputs": [
    {
     "name": "stdout",
     "output_type": "stream",
     "text": [
      "Requirement already satisfied: tqdm in /Applications/anaconda3/lib/python3.9/site-packages (4.62.3)\n"
     ]
    }
   ],
   "source": [
    "## instalamos la librería tqdm\n",
    "! pip install tqdm"
   ]
  },
  {
   "cell_type": "code",
   "execution_count": 2,
   "metadata": {},
   "outputs": [],
   "source": [
    "## importamos las librerias necesarias\n",
    "\n",
    "import requests\n",
    "import pandas as pd\n",
    "from time import sleep\n",
    "from tqdm import tqdm"
   ]
  },
  {
   "cell_type": "code",
   "execution_count": 4,
   "metadata": {},
   "outputs": [
    {
     "name": "stdout",
     "output_type": "stream",
     "text": [
      "Thriller\n"
     ]
    },
    {
     "name": "stderr",
     "output_type": "stream",
     "text": [
      "  0%|          | 0/16 [00:00<?, ?it/s]"
     ]
    },
    {
     "name": "stdout",
     "output_type": "stream",
     "text": [
      "1980\n"
     ]
    },
    {
     "name": "stderr",
     "output_type": "stream",
     "text": [
      "  6%|▋         | 1/16 [00:02<00:37,  2.48s/it]"
     ]
    },
    {
     "name": "stdout",
     "output_type": "stream",
     "text": [
      "1981\n"
     ]
    },
    {
     "name": "stderr",
     "output_type": "stream",
     "text": [
      " 12%|█▎        | 2/16 [00:04<00:33,  2.40s/it]"
     ]
    },
    {
     "name": "stdout",
     "output_type": "stream",
     "text": [
      "1982\n"
     ]
    },
    {
     "name": "stderr",
     "output_type": "stream",
     "text": [
      " 19%|█▉        | 3/16 [00:07<00:31,  2.39s/it]"
     ]
    },
    {
     "name": "stdout",
     "output_type": "stream",
     "text": [
      "1983\n"
     ]
    },
    {
     "name": "stderr",
     "output_type": "stream",
     "text": [
      " 25%|██▌       | 4/16 [00:09<00:28,  2.38s/it]"
     ]
    },
    {
     "name": "stdout",
     "output_type": "stream",
     "text": [
      "1984\n"
     ]
    },
    {
     "name": "stderr",
     "output_type": "stream",
     "text": [
      " 31%|███▏      | 5/16 [00:11<00:26,  2.36s/it]"
     ]
    },
    {
     "name": "stdout",
     "output_type": "stream",
     "text": [
      "1985\n"
     ]
    },
    {
     "name": "stderr",
     "output_type": "stream",
     "text": [
      " 38%|███▊      | 6/16 [00:14<00:23,  2.36s/it]"
     ]
    },
    {
     "name": "stdout",
     "output_type": "stream",
     "text": [
      "1986\n"
     ]
    },
    {
     "name": "stderr",
     "output_type": "stream",
     "text": [
      " 44%|████▍     | 7/16 [00:16<00:21,  2.36s/it]"
     ]
    },
    {
     "name": "stdout",
     "output_type": "stream",
     "text": [
      "1987\n"
     ]
    },
    {
     "name": "stderr",
     "output_type": "stream",
     "text": [
      " 50%|█████     | 8/16 [00:19<00:19,  2.39s/it]"
     ]
    },
    {
     "name": "stdout",
     "output_type": "stream",
     "text": [
      "1988\n"
     ]
    },
    {
     "name": "stderr",
     "output_type": "stream",
     "text": [
      " 56%|█████▋    | 9/16 [00:21<00:16,  2.42s/it]"
     ]
    },
    {
     "name": "stdout",
     "output_type": "stream",
     "text": [
      "1989\n"
     ]
    },
    {
     "name": "stderr",
     "output_type": "stream",
     "text": [
      " 62%|██████▎   | 10/16 [00:23<00:14,  2.41s/it]"
     ]
    },
    {
     "name": "stdout",
     "output_type": "stream",
     "text": [
      "1990\n"
     ]
    },
    {
     "name": "stderr",
     "output_type": "stream",
     "text": [
      " 69%|██████▉   | 11/16 [00:26<00:12,  2.41s/it]"
     ]
    },
    {
     "name": "stdout",
     "output_type": "stream",
     "text": [
      "1991\n"
     ]
    },
    {
     "name": "stderr",
     "output_type": "stream",
     "text": [
      " 75%|███████▌  | 12/16 [00:28<00:09,  2.39s/it]"
     ]
    },
    {
     "name": "stdout",
     "output_type": "stream",
     "text": [
      "1992\n"
     ]
    },
    {
     "name": "stderr",
     "output_type": "stream",
     "text": [
      " 81%|████████▏ | 13/16 [00:31<00:07,  2.37s/it]"
     ]
    },
    {
     "name": "stdout",
     "output_type": "stream",
     "text": [
      "1993\n"
     ]
    },
    {
     "name": "stderr",
     "output_type": "stream",
     "text": [
      " 88%|████████▊ | 14/16 [00:33<00:04,  2.44s/it]"
     ]
    },
    {
     "name": "stdout",
     "output_type": "stream",
     "text": [
      "1994\n"
     ]
    },
    {
     "name": "stderr",
     "output_type": "stream",
     "text": [
      " 94%|█████████▍| 15/16 [00:35<00:02,  2.42s/it]"
     ]
    },
    {
     "name": "stdout",
     "output_type": "stream",
     "text": [
      "1995\n"
     ]
    },
    {
     "name": "stderr",
     "output_type": "stream",
     "text": [
      "100%|██████████| 16/16 [00:38<00:00,  2.40s/it]"
     ]
    },
    {
     "name": "stdout",
     "output_type": "stream",
     "text": [
      "[('tt0078508', 'Wolf Lake', 'Movie', '1980', 'Thriller'), ('tt0078805', 'Attentatet', 'Movie', '1980', 'Thriller'), ('tt0078791', 'Aquella casa en las afueras', 'Movie', '1980', 'Thriller'), ('tt0078806', 'The Attic', 'Movie', '1980', 'Thriller'), ('tt0078749', 'Alien 2 - Sulla Terra', 'Movie', '1980', 'Thriller'), ('tt0078880', 'Bloodrage', 'Movie', '1980', 'Thriller'), ('tt0078895', 'The Border', 'Movie', '1980', 'Thriller'), ('tt0077645', 'Mie jue qi qi', 'Movie', '1980', 'Thriller'), ('tt0079145', 'La femme flic', 'Movie', '1980', 'Thriller'), ('tt0078053', 'Ópalo de fuego: Mercaderes del sexo', 'Movie', '1980', 'Thriller'), ('tt0078508', 'Wolf Lake', 'Movie', '1980', 'Thriller'), ('tt0078805', 'Attentatet', 'Movie', '1980', 'Thriller'), ('tt0078791', 'Aquella casa en las afueras', 'Movie', '1980', 'Thriller'), ('tt0078806', 'The Attic', 'Movie', '1980', 'Thriller'), ('tt0078749', 'Alien 2 - Sulla Terra', 'Movie', '1980', 'Thriller'), ('tt0078880', 'Bloodrage', 'Movie', '1980', 'Thriller'), ('tt0078895', 'The Border', 'Movie', '1980', 'Thriller'), ('tt0077645', 'Mie jue qi qi', 'Movie', '1980', 'Thriller'), ('tt0079145', 'La femme flic', 'Movie', '1980', 'Thriller'), ('tt0078053', 'Ópalo de fuego: Mercaderes del sexo', 'Movie', '1980', 'Thriller'), ('tt0078508', 'Wolf Lake', 'Movie', '1980', 'Thriller'), ('tt0078805', 'Attentatet', 'Movie', '1980', 'Thriller'), ('tt0078791', 'Aquella casa en las afueras', 'Movie', '1980', 'Thriller'), ('tt0078806', 'The Attic', 'Movie', '1980', 'Thriller'), ('tt0078749', 'Alien 2 - Sulla Terra', 'Movie', '1980', 'Thriller'), ('tt0078880', 'Bloodrage', 'Movie', '1980', 'Thriller'), ('tt0078895', 'The Border', 'Movie', '1980', 'Thriller'), ('tt0077645', 'Mie jue qi qi', 'Movie', '1980', 'Thriller'), ('tt0079145', 'La femme flic', 'Movie', '1980', 'Thriller'), ('tt0078053', 'Ópalo de fuego: Mercaderes del sexo', 'Movie', '1980', 'Thriller'), ('tt0078508', 'Wolf Lake', 'Movie', '1980', 'Thriller'), ('tt0078805', 'Attentatet', 'Movie', '1980', 'Thriller'), ('tt0078791', 'Aquella casa en las afueras', 'Movie', '1980', 'Thriller'), ('tt0078806', 'The Attic', 'Movie', '1980', 'Thriller'), ('tt0078749', 'Alien 2 - Sulla Terra', 'Movie', '1980', 'Thriller'), ('tt0078880', 'Bloodrage', 'Movie', '1980', 'Thriller'), ('tt0078895', 'The Border', 'Movie', '1980', 'Thriller'), ('tt0077645', 'Mie jue qi qi', 'Movie', '1980', 'Thriller'), ('tt0079145', 'La femme flic', 'Movie', '1980', 'Thriller'), ('tt0078053', 'Ópalo de fuego: Mercaderes del sexo', 'Movie', '1980', 'Thriller'), ('tt0067100', 'Firecracker', 'Movie', '1981', 'Thriller'), ('tt0079181', 'Fuego en el mar', 'Movie', '1981', 'Thriller'), ('tt0079341', 'El infierno de todos tan temido', 'Movie', '1981', 'Thriller'), ('tt0079706', 'Paydirt', 'Movie', '1981', 'Thriller'), ('tt0080362', \"L'altro inferno\", 'Movie', '1981', 'Thriller'), ('tt0080376', 'Barsaat Ki Ek Raat', 'Movie', '1981', 'Thriller'), ('tt0080495', 'La capilla ardiente', 'Movie', '1981', 'Thriller'), ('tt0080608', 'Demasiado para Gálvez', 'Movie', '1981', 'Thriller'), ('tt0080915', 'Image of the Beast', 'Movie', '1981', 'Thriller'), ('tt0067100', 'Firecracker', 'Movie', '1981', 'Thriller'), ('tt0079181', 'Fuego en el mar', 'Movie', '1981', 'Thriller'), ('tt0079341', 'El infierno de todos tan temido', 'Movie', '1981', 'Thriller'), ('tt0079706', 'Paydirt', 'Movie', '1981', 'Thriller'), ('tt0080362', \"L'altro inferno\", 'Movie', '1981', 'Thriller'), ('tt0080376', 'Barsaat Ki Ek Raat', 'Movie', '1981', 'Thriller'), ('tt0080495', 'La capilla ardiente', 'Movie', '1981', 'Thriller'), ('tt0080608', 'Demasiado para Gálvez', 'Movie', '1981', 'Thriller'), ('tt0080915', 'Image of the Beast', 'Movie', '1981', 'Thriller'), ('tt0067100', 'Firecracker', 'Movie', '1981', 'Thriller'), ('tt0079181', 'Fuego en el mar', 'Movie', '1981', 'Thriller'), ('tt0079341', 'El infierno de todos tan temido', 'Movie', '1981', 'Thriller'), ('tt0079706', 'Paydirt', 'Movie', '1981', 'Thriller'), ('tt0080362', \"L'altro inferno\", 'Movie', '1981', 'Thriller'), ('tt0080376', 'Barsaat Ki Ek Raat', 'Movie', '1981', 'Thriller'), ('tt0080495', 'La capilla ardiente', 'Movie', '1981', 'Thriller'), ('tt0080608', 'Demasiado para Gálvez', 'Movie', '1981', 'Thriller'), ('tt0080915', 'Image of the Beast', 'Movie', '1981', 'Thriller'), ('tt0067100', 'Firecracker', 'Movie', '1981', 'Thriller'), ('tt0079181', 'Fuego en el mar', 'Movie', '1981', 'Thriller'), ('tt0079341', 'El infierno de todos tan temido', 'Movie', '1981', 'Thriller'), ('tt0079706', 'Paydirt', 'Movie', '1981', 'Thriller'), ('tt0080362', \"L'altro inferno\", 'Movie', '1981', 'Thriller'), ('tt0080376', 'Barsaat Ki Ek Raat', 'Movie', '1981', 'Thriller'), ('tt0080495', 'La capilla ardiente', 'Movie', '1981', 'Thriller'), ('tt0080608', 'Demasiado para Gálvez', 'Movie', '1981', 'Thriller'), ('tt0080915', 'Image of the Beast', 'Movie', '1981', 'Thriller'), ('tt0079799', 'Retrato de una mujer casada', 'Movie', '1982', 'Thriller'), ('tt0080872', 'Highpoint', 'Movie', '1982', 'Thriller'), ('tt0080787', 'The Ghost Dance', 'Movie', '1982', 'Thriller'), ('tt0082504', 'Haathkadi', 'Movie', '1982', 'Thriller'), ('tt0082537', 'Humongous', 'Movie', '1982', 'Thriller'), ('tt0082338', 'Turkey Shoot', 'Movie', '1982', 'Thriller'), ('tt0082531', 'Hotel Villa Goerne', 'Movie', '1982', 'Thriller'), ('tt0082250', 'Death Wish II', 'Movie', '1982', 'Thriller'), ('tt0082342', 'Espion, lève-toi', 'Movie', '1982', 'Thriller'), ('tt0081203', 'Murder by Phone', 'Movie', '1982', 'Thriller'), ('tt0079799', 'Retrato de una mujer casada', 'Movie', '1982', 'Thriller'), ('tt0080872', 'Highpoint', 'Movie', '1982', 'Thriller'), ('tt0080787', 'The Ghost Dance', 'Movie', '1982', 'Thriller'), ('tt0082504', 'Haathkadi', 'Movie', '1982', 'Thriller'), ('tt0082537', 'Humongous', 'Movie', '1982', 'Thriller'), ('tt0082338', 'Turkey Shoot', 'Movie', '1982', 'Thriller'), ('tt0082531', 'Hotel Villa Goerne', 'Movie', '1982', 'Thriller'), ('tt0082250', 'Death Wish II', 'Movie', '1982', 'Thriller'), ('tt0082342', 'Espion, lève-toi', 'Movie', '1982', 'Thriller'), ('tt0081203', 'Murder by Phone', 'Movie', '1982', 'Thriller'), ('tt0079799', 'Retrato de una mujer casada', 'Movie', '1982', 'Thriller'), ('tt0080872', 'Highpoint', 'Movie', '1982', 'Thriller'), ('tt0080787', 'The Ghost Dance', 'Movie', '1982', 'Thriller'), ('tt0082504', 'Haathkadi', 'Movie', '1982', 'Thriller'), ('tt0082537', 'Humongous', 'Movie', '1982', 'Thriller'), ('tt0082338', 'Turkey Shoot', 'Movie', '1982', 'Thriller'), ('tt0082531', 'Hotel Villa Goerne', 'Movie', '1982', 'Thriller'), ('tt0082250', 'Death Wish II', 'Movie', '1982', 'Thriller'), ('tt0082342', 'Espion, lève-toi', 'Movie', '1982', 'Thriller'), ('tt0081203', 'Murder by Phone', 'Movie', '1982', 'Thriller'), ('tt0079799', 'Retrato de una mujer casada', 'Movie', '1982', 'Thriller'), ('tt0080872', 'Highpoint', 'Movie', '1982', 'Thriller'), ('tt0080787', 'The Ghost Dance', 'Movie', '1982', 'Thriller'), ('tt0082504', 'Haathkadi', 'Movie', '1982', 'Thriller'), ('tt0082537', 'Humongous', 'Movie', '1982', 'Thriller'), ('tt0082338', 'Turkey Shoot', 'Movie', '1982', 'Thriller'), ('tt0082531', 'Hotel Villa Goerne', 'Movie', '1982', 'Thriller'), ('tt0082250', 'Death Wish II', 'Movie', '1982', 'Thriller'), ('tt0082342', 'Espion, lève-toi', 'Movie', '1982', 'Thriller'), ('tt0081203', 'Murder by Phone', 'Movie', '1982', 'Thriller'), ('tt0079509', 'Mi ni te gong dui', 'Movie', '1983', 'Thriller'), ('tt0082285', 'Double Deal', 'Movie', '1983', 'Thriller'), ('tt0083146', 'Sweet Sixteen', 'Movie', '1983', 'Thriller'), ('tt0083906', 'Eureka', 'Movie', '1983', 'Thriller'), ('tt0083811', 'Delitto carnale', 'Movie', '1983', 'Thriller'), ('tt0082841', 'Olivia', 'Movie', '1983', 'Thriller'), ('tt0083581', 'Asalto al Banco Central', 'Movie', '1983', 'Thriller'), ('tt0084158', \"J'ai épousé une ombre\", 'Movie', '1983', 'Thriller'), ('tt0084540', 'Le prix du danger', 'Movie', '1983', 'Thriller'), ('tt0084836', 'USA, violación y venganza', 'Movie', '1983', 'Thriller'), ('tt0079509', 'Mi ni te gong dui', 'Movie', '1983', 'Thriller'), ('tt0082285', 'Double Deal', 'Movie', '1983', 'Thriller'), ('tt0083146', 'Sweet Sixteen', 'Movie', '1983', 'Thriller'), ('tt0083906', 'Eureka', 'Movie', '1983', 'Thriller'), ('tt0083811', 'Delitto carnale', 'Movie', '1983', 'Thriller'), ('tt0082841', 'Olivia', 'Movie', '1983', 'Thriller'), ('tt0083581', 'Asalto al Banco Central', 'Movie', '1983', 'Thriller'), ('tt0084158', \"J'ai épousé une ombre\", 'Movie', '1983', 'Thriller'), ('tt0084540', 'Le prix du danger', 'Movie', '1983', 'Thriller'), ('tt0084836', 'USA, violación y venganza', 'Movie', '1983', 'Thriller'), ('tt0079509', 'Mi ni te gong dui', 'Movie', '1983', 'Thriller'), ('tt0082285', 'Double Deal', 'Movie', '1983', 'Thriller'), ('tt0083146', 'Sweet Sixteen', 'Movie', '1983', 'Thriller'), ('tt0083906', 'Eureka', 'Movie', '1983', 'Thriller'), ('tt0083811', 'Delitto carnale', 'Movie', '1983', 'Thriller'), ('tt0082841', 'Olivia', 'Movie', '1983', 'Thriller'), ('tt0083581', 'Asalto al Banco Central', 'Movie', '1983', 'Thriller'), ('tt0084158', \"J'ai épousé une ombre\", 'Movie', '1983', 'Thriller'), ('tt0084540', 'Le prix du danger', 'Movie', '1983', 'Thriller'), ('tt0084836', 'USA, violación y venganza', 'Movie', '1983', 'Thriller'), ('tt0079509', 'Mi ni te gong dui', 'Movie', '1983', 'Thriller'), ('tt0082285', 'Double Deal', 'Movie', '1983', 'Thriller'), ('tt0083146', 'Sweet Sixteen', 'Movie', '1983', 'Thriller'), ('tt0083906', 'Eureka', 'Movie', '1983', 'Thriller'), ('tt0083811', 'Delitto carnale', 'Movie', '1983', 'Thriller'), ('tt0082841', 'Olivia', 'Movie', '1983', 'Thriller'), ('tt0083581', 'Asalto al Banco Central', 'Movie', '1983', 'Thriller'), ('tt0084158', \"J'ai épousé une ombre\", 'Movie', '1983', 'Thriller'), ('tt0084540', 'Le prix du danger', 'Movie', '1983', 'Thriller'), ('tt0084836', 'USA, violación y venganza', 'Movie', '1983', 'Thriller'), ('tt0083853', 'Dreams Come True', 'Movie', '1984', 'Thriller'), ('tt0085289', 'Canicule', 'Movie', '1984', 'Thriller'), ('tt0084279', 'Luna de sangre', 'Movie', '1984', 'Thriller'), ('tt0085416', 'The Dark Side to Love', 'Movie', '1984', 'Thriller'), ('tt0085364', 'El corazón de la noche', 'Movie', '1984', 'Thriller'), ('tt0085528', 'Les fauves', 'Movie', '1984', 'Thriller'), ('tt0085627', \"I guerrieri dell'anno 2072\", 'Movie', '1984', 'Thriller'), ('tt0085645', 'Hanyatt-homlok', 'Movie', '1984', 'Thriller'), ('tt0085420', 'Delitto in Formula Uno', 'Movie', '1984', 'Thriller'), ('tt0085965', 'Motel', 'Movie', '1984', 'Thriller'), ('tt0083853', 'Dreams Come True', 'Movie', '1984', 'Thriller'), ('tt0085289', 'Canicule', 'Movie', '1984', 'Thriller'), ('tt0084279', 'Luna de sangre', 'Movie', '1984', 'Thriller'), ('tt0085416', 'The Dark Side to Love', 'Movie', '1984', 'Thriller'), ('tt0085364', 'El corazón de la noche', 'Movie', '1984', 'Thriller'), ('tt0085528', 'Les fauves', 'Movie', '1984', 'Thriller'), ('tt0085627', \"I guerrieri dell'anno 2072\", 'Movie', '1984', 'Thriller'), ('tt0085645', 'Hanyatt-homlok', 'Movie', '1984', 'Thriller'), ('tt0085420', 'Delitto in Formula Uno', 'Movie', '1984', 'Thriller'), ('tt0085965', 'Motel', 'Movie', '1984', 'Thriller'), ('tt0083853', 'Dreams Come True', 'Movie', '1984', 'Thriller'), ('tt0085289', 'Canicule', 'Movie', '1984', 'Thriller'), ('tt0084279', 'Luna de sangre', 'Movie', '1984', 'Thriller'), ('tt0085416', 'The Dark Side to Love', 'Movie', '1984', 'Thriller'), ('tt0085364', 'El corazón de la noche', 'Movie', '1984', 'Thriller'), ('tt0085528', 'Les fauves', 'Movie', '1984', 'Thriller'), ('tt0085627', \"I guerrieri dell'anno 2072\", 'Movie', '1984', 'Thriller'), ('tt0085645', 'Hanyatt-homlok', 'Movie', '1984', 'Thriller'), ('tt0085420', 'Delitto in Formula Uno', 'Movie', '1984', 'Thriller'), ('tt0085965', 'Motel', 'Movie', '1984', 'Thriller'), ('tt0083853', 'Dreams Come True', 'Movie', '1984', 'Thriller'), ('tt0085289', 'Canicule', 'Movie', '1984', 'Thriller'), ('tt0084279', 'Luna de sangre', 'Movie', '1984', 'Thriller'), ('tt0085416', 'The Dark Side to Love', 'Movie', '1984', 'Thriller'), ('tt0085364', 'El corazón de la noche', 'Movie', '1984', 'Thriller'), ('tt0085528', 'Les fauves', 'Movie', '1984', 'Thriller'), ('tt0085627', \"I guerrieri dell'anno 2072\", 'Movie', '1984', 'Thriller'), ('tt0085645', 'Hanyatt-homlok', 'Movie', '1984', 'Thriller'), ('tt0085420', 'Delitto in Formula Uno', 'Movie', '1984', 'Thriller'), ('tt0085965', 'Motel', 'Movie', '1984', 'Thriller'), ('tt0086343', 'Sotto il vestito niente', 'Movie', '1985', 'Thriller'), ('tt0086288', '7, Hyden Park: la casa maledetta', 'Movie', '1985', 'Thriller'), ('tt0086566', 'Walking the Edge', 'Movie', '1985', 'Thriller'), ('tt0087882', 'Parfait amour', 'Movie', '1985', 'Thriller'), ('tt0086849', 'Acosada', 'Movie', '1985', 'Thriller'), ('tt0086931', 'Bahía blanca', 'Movie', '1985', 'Thriller'), ('tt0087942', 'Prime Risk', 'Movie', '1985', 'Thriller'), ('tt0087344', 'Godzilla 1985', 'Movie', '1985', 'Thriller'), ('tt0086343', 'Sotto il vestito niente', 'Movie', '1985', 'Thriller'), ('tt0086288', '7, Hyden Park: la casa maledetta', 'Movie', '1985', 'Thriller'), ('tt0086566', 'Walking the Edge', 'Movie', '1985', 'Thriller'), ('tt0087882', 'Parfait amour', 'Movie', '1985', 'Thriller'), ('tt0086849', 'Acosada', 'Movie', '1985', 'Thriller'), ('tt0086931', 'Bahía blanca', 'Movie', '1985', 'Thriller'), ('tt0087942', 'Prime Risk', 'Movie', '1985', 'Thriller'), ('tt0087344', 'Godzilla 1985', 'Movie', '1985', 'Thriller'), ('tt0086343', 'Sotto il vestito niente', 'Movie', '1985', 'Thriller'), ('tt0086288', '7, Hyden Park: la casa maledetta', 'Movie', '1985', 'Thriller'), ('tt0086566', 'Walking the Edge', 'Movie', '1985', 'Thriller'), ('tt0087882', 'Parfait amour', 'Movie', '1985', 'Thriller'), ('tt0086849', 'Acosada', 'Movie', '1985', 'Thriller'), ('tt0086931', 'Bahía blanca', 'Movie', '1985', 'Thriller'), ('tt0087942', 'Prime Risk', 'Movie', '1985', 'Thriller'), ('tt0087344', 'Godzilla 1985', 'Movie', '1985', 'Thriller'), ('tt0086343', 'Sotto il vestito niente', 'Movie', '1985', 'Thriller'), ('tt0086288', '7, Hyden Park: la casa maledetta', 'Movie', '1985', 'Thriller'), ('tt0086566', 'Walking the Edge', 'Movie', '1985', 'Thriller'), ('tt0087882', 'Parfait amour', 'Movie', '1985', 'Thriller'), ('tt0086849', 'Acosada', 'Movie', '1985', 'Thriller'), ('tt0086931', 'Bahía blanca', 'Movie', '1985', 'Thriller'), ('tt0087942', 'Prime Risk', 'Movie', '1985', 'Thriller'), ('tt0087344', 'Godzilla 1985', 'Movie', '1985', 'Thriller'), ('tt0087512', 'La joven y la tentación', 'Movie', '1986', 'Thriller'), ('tt0089409', 'Keeping Track', 'Movie', '1986', 'Thriller'), ('tt0089923', 'Robachicos', 'Movie', '1986', 'Thriller'), ('tt0088809', 'Birds of Prey', 'Movie', '1986', 'Thriller'), ('tt0088872', 'El cafre', 'Movie', '1986', 'Thriller'), ('tt0089499', 'Lola', 'Movie', '1986', 'Thriller'), ('tt0089118', 'F/X', 'Movie', '1986', 'Thriller'), ('tt0087512', 'La joven y la tentación', 'Movie', '1986', 'Thriller'), ('tt0089409', 'Keeping Track', 'Movie', '1986', 'Thriller'), ('tt0089923', 'Robachicos', 'Movie', '1986', 'Thriller'), ('tt0088809', 'Birds of Prey', 'Movie', '1986', 'Thriller'), ('tt0088872', 'El cafre', 'Movie', '1986', 'Thriller'), ('tt0089499', 'Lola', 'Movie', '1986', 'Thriller'), ('tt0089118', 'F/X', 'Movie', '1986', 'Thriller'), ('tt0087512', 'La joven y la tentación', 'Movie', '1986', 'Thriller'), ('tt0089409', 'Keeping Track', 'Movie', '1986', 'Thriller'), ('tt0089923', 'Robachicos', 'Movie', '1986', 'Thriller'), ('tt0088809', 'Birds of Prey', 'Movie', '1986', 'Thriller'), ('tt0088872', 'El cafre', 'Movie', '1986', 'Thriller'), ('tt0089499', 'Lola', 'Movie', '1986', 'Thriller'), ('tt0089118', 'F/X', 'Movie', '1986', 'Thriller'), ('tt0087512', 'La joven y la tentación', 'Movie', '1986', 'Thriller'), ('tt0089409', 'Keeping Track', 'Movie', '1986', 'Thriller'), ('tt0089923', 'Robachicos', 'Movie', '1986', 'Thriller'), ('tt0088809', 'Birds of Prey', 'Movie', '1986', 'Thriller'), ('tt0088872', 'El cafre', 'Movie', '1986', 'Thriller'), ('tt0089499', 'Lola', 'Movie', '1986', 'Thriller'), ('tt0089118', 'F/X', 'Movie', '1986', 'Thriller'), ('tt0089972', 'Schmutz', 'Movie', '1987', 'Thriller'), ('tt0088959', 'Criminally Insane 2', 'Movie', '1987', 'Thriller'), ('tt0090271', 'Vlci bouda', 'Movie', '1987', 'Thriller'), ('tt0089563', 'Masterblaster', 'Movie', '1987', 'Thriller'), ('tt0090738', 'Black Widow', 'Movie', '1987', 'Thriller'), ('tt0090765', 'Boran - Zeit zum Zielen', 'Movie', '1987', 'Thriller'), ('tt0089972', 'Schmutz', 'Movie', '1987', 'Thriller'), ('tt0088959', 'Criminally Insane 2', 'Movie', '1987', 'Thriller'), ('tt0090271', 'Vlci bouda', 'Movie', '1987', 'Thriller'), ('tt0089563', 'Masterblaster', 'Movie', '1987', 'Thriller'), ('tt0090738', 'Black Widow', 'Movie', '1987', 'Thriller'), ('tt0090765', 'Boran - Zeit zum Zielen', 'Movie', '1987', 'Thriller'), ('tt0089972', 'Schmutz', 'Movie', '1987', 'Thriller'), ('tt0088959', 'Criminally Insane 2', 'Movie', '1987', 'Thriller'), ('tt0090271', 'Vlci bouda', 'Movie', '1987', 'Thriller'), ('tt0089563', 'Masterblaster', 'Movie', '1987', 'Thriller'), ('tt0090738', 'Black Widow', 'Movie', '1987', 'Thriller'), ('tt0090765', 'Boran - Zeit zum Zielen', 'Movie', '1987', 'Thriller'), ('tt0089972', 'Schmutz', 'Movie', '1987', 'Thriller'), ('tt0088959', 'Criminally Insane 2', 'Movie', '1987', 'Thriller'), ('tt0090271', 'Vlci bouda', 'Movie', '1987', 'Thriller'), ('tt0089563', 'Masterblaster', 'Movie', '1987', 'Thriller'), ('tt0090738', 'Black Widow', 'Movie', '1987', 'Thriller'), ('tt0090765', 'Boran - Zeit zum Zielen', 'Movie', '1987', 'Thriller'), ('tt0089561', 'Mask of Murder', 'Movie', '1988', 'Thriller'), ('tt0088828', 'Bloody Wednesday', 'Movie', '1988', 'Thriller'), ('tt0093090', 'La casa 3', 'Movie', '1988', 'Thriller'), ('tt0092296', 'Zombie Brigade', 'Movie', '1988', 'Thriller'), ('tt0092771', 'El complot dels anells', 'Movie', '1988', 'Thriller'), ('tt0092853', 'Dear John', 'Movie', '1988', 'Thriller'), ('tt0092254', 'Huet mui gwai', 'Movie', '1988', 'Thriller'), ('tt0092966', 'En toute innocence', 'Movie', '1988', 'Thriller'), ('tt0089561', 'Mask of Murder', 'Movie', '1988', 'Thriller'), ('tt0088828', 'Bloody Wednesday', 'Movie', '1988', 'Thriller'), ('tt0093090', 'La casa 3', 'Movie', '1988', 'Thriller'), ('tt0092296', 'Zombie Brigade', 'Movie', '1988', 'Thriller'), ('tt0092771', 'El complot dels anells', 'Movie', '1988', 'Thriller'), ('tt0092853', 'Dear John', 'Movie', '1988', 'Thriller'), ('tt0092254', 'Huet mui gwai', 'Movie', '1988', 'Thriller'), ('tt0092966', 'En toute innocence', 'Movie', '1988', 'Thriller'), ('tt0089561', 'Mask of Murder', 'Movie', '1988', 'Thriller'), ('tt0088828', 'Bloody Wednesday', 'Movie', '1988', 'Thriller'), ('tt0093090', 'La casa 3', 'Movie', '1988', 'Thriller'), ('tt0092296', 'Zombie Brigade', 'Movie', '1988', 'Thriller'), ('tt0092771', 'El complot dels anells', 'Movie', '1988', 'Thriller'), ('tt0092853', 'Dear John', 'Movie', '1988', 'Thriller'), ('tt0092254', 'Huet mui gwai', 'Movie', '1988', 'Thriller'), ('tt0092966', 'En toute innocence', 'Movie', '1988', 'Thriller'), ('tt0089561', 'Mask of Murder', 'Movie', '1988', 'Thriller'), ('tt0088828', 'Bloody Wednesday', 'Movie', '1988', 'Thriller'), ('tt0093090', 'La casa 3', 'Movie', '1988', 'Thriller'), ('tt0092296', 'Zombie Brigade', 'Movie', '1988', 'Thriller'), ('tt0092771', 'El complot dels anells', 'Movie', '1988', 'Thriller'), ('tt0092853', 'Dear John', 'Movie', '1988', 'Thriller'), ('tt0092254', 'Huet mui gwai', 'Movie', '1988', 'Thriller'), ('tt0092966', 'En toute innocence', 'Movie', '1988', 'Thriller'), ('tt0084548', 'Przesluchanie', 'Movie', '1989', 'Thriller'), ('tt0091192', 'Hell High', 'Movie', '1989', 'Thriller'), ('tt0091234', 'The Humpty Dumpty Man', 'Movie', '1989', 'Thriller'), ('tt0094386', 'Zui hou de feng kuang', 'Movie', '1989', 'Thriller'), ('tt0094384', 'Zombie vs. Ninja', 'Movie', '1989', 'Thriller'), ('tt0094607', 'Accidents', 'Movie', '1989', 'Thriller'), ('tt0094710', 'Bangkok Story', 'Movie', '1989', 'Thriller'), ('tt0094123', 'Terror Eyes', 'Movie', '1989', 'Thriller'), ('tt0084548', 'Przesluchanie', 'Movie', '1989', 'Thriller'), ('tt0091192', 'Hell High', 'Movie', '1989', 'Thriller'), ('tt0091234', 'The Humpty Dumpty Man', 'Movie', '1989', 'Thriller'), ('tt0094386', 'Zui hou de feng kuang', 'Movie', '1989', 'Thriller'), ('tt0094384', 'Zombie vs. Ninja', 'Movie', '1989', 'Thriller'), ('tt0094607', 'Accidents', 'Movie', '1989', 'Thriller'), ('tt0094710', 'Bangkok Story', 'Movie', '1989', 'Thriller'), ('tt0094123', 'Terror Eyes', 'Movie', '1989', 'Thriller'), ('tt0084548', 'Przesluchanie', 'Movie', '1989', 'Thriller'), ('tt0091192', 'Hell High', 'Movie', '1989', 'Thriller'), ('tt0091234', 'The Humpty Dumpty Man', 'Movie', '1989', 'Thriller'), ('tt0094386', 'Zui hou de feng kuang', 'Movie', '1989', 'Thriller'), ('tt0094384', 'Zombie vs. Ninja', 'Movie', '1989', 'Thriller'), ('tt0094607', 'Accidents', 'Movie', '1989', 'Thriller'), ('tt0094710', 'Bangkok Story', 'Movie', '1989', 'Thriller'), ('tt0094123', 'Terror Eyes', 'Movie', '1989', 'Thriller'), ('tt0084548', 'Przesluchanie', 'Movie', '1989', 'Thriller'), ('tt0091192', 'Hell High', 'Movie', '1989', 'Thriller'), ('tt0091234', 'The Humpty Dumpty Man', 'Movie', '1989', 'Thriller'), ('tt0094386', 'Zui hou de feng kuang', 'Movie', '1989', 'Thriller'), ('tt0094384', 'Zombie vs. Ninja', 'Movie', '1989', 'Thriller'), ('tt0094607', 'Accidents', 'Movie', '1989', 'Thriller'), ('tt0094710', 'Bangkok Story', 'Movie', '1989', 'Thriller'), ('tt0094123', 'Terror Eyes', 'Movie', '1989', 'Thriller'), ('tt0075259', 'Spy Story', 'Movie', '1990', 'Thriller'), ('tt0094004', 'Soldier of Fortune', 'Movie', '1990', 'Thriller'), ('tt0093662', 'Object of Desire', 'Movie', '1990', 'Thriller'), ('tt0094666', \"Any Man's Death\", 'Movie', '1990', 'Thriller'), ('tt0094857', 'Chi se da feng bao', 'Movie', '1990', 'Thriller'), ('tt0095840', 'Payback', 'Movie', '1990', 'Thriller'), ('tt0075259', 'Spy Story', 'Movie', '1990', 'Thriller'), ('tt0094004', 'Soldier of Fortune', 'Movie', '1990', 'Thriller'), ('tt0093662', 'Object of Desire', 'Movie', '1990', 'Thriller'), ('tt0094666', \"Any Man's Death\", 'Movie', '1990', 'Thriller'), ('tt0094857', 'Chi se da feng bao', 'Movie', '1990', 'Thriller'), ('tt0095840', 'Payback', 'Movie', '1990', 'Thriller'), ('tt0075259', 'Spy Story', 'Movie', '1990', 'Thriller'), ('tt0094004', 'Soldier of Fortune', 'Movie', '1990', 'Thriller'), ('tt0093662', 'Object of Desire', 'Movie', '1990', 'Thriller'), ('tt0094666', \"Any Man's Death\", 'Movie', '1990', 'Thriller'), ('tt0094857', 'Chi se da feng bao', 'Movie', '1990', 'Thriller'), ('tt0095840', 'Payback', 'Movie', '1990', 'Thriller'), ('tt0075259', 'Spy Story', 'Movie', '1990', 'Thriller'), ('tt0094004', 'Soldier of Fortune', 'Movie', '1990', 'Thriller'), ('tt0093662', 'Object of Desire', 'Movie', '1990', 'Thriller'), ('tt0094666', \"Any Man's Death\", 'Movie', '1990', 'Thriller'), ('tt0094857', 'Chi se da feng bao', 'Movie', '1990', 'Thriller'), ('tt0095840', 'Payback', 'Movie', '1990', 'Thriller'), ('tt0094900', 'Committed', 'Movie', '1991', 'Thriller'), ('tt0097318', 'Eye of the Widow', 'Movie', '1991', 'Thriller'), ('tt0099587', 'Flight of the Intruder', 'Movie', '1991', 'Thriller'), ('tt0099577', 'Firehead', 'Movie', '1991', 'Thriller'), ('tt0097928', 'Murder Blues', 'Movie', '1991', 'Thriller'), ('tt0100430', 'Psychic', 'Movie', '1991', 'Thriller'), ('tt0094900', 'Committed', 'Movie', '1991', 'Thriller'), ('tt0097318', 'Eye of the Widow', 'Movie', '1991', 'Thriller'), ('tt0099587', 'Flight of the Intruder', 'Movie', '1991', 'Thriller'), ('tt0099577', 'Firehead', 'Movie', '1991', 'Thriller'), ('tt0097928', 'Murder Blues', 'Movie', '1991', 'Thriller'), ('tt0100430', 'Psychic', 'Movie', '1991', 'Thriller'), ('tt0094900', 'Committed', 'Movie', '1991', 'Thriller'), ('tt0097318', 'Eye of the Widow', 'Movie', '1991', 'Thriller'), ('tt0099587', 'Flight of the Intruder', 'Movie', '1991', 'Thriller'), ('tt0099577', 'Firehead', 'Movie', '1991', 'Thriller'), ('tt0097928', 'Murder Blues', 'Movie', '1991', 'Thriller'), ('tt0100430', 'Psychic', 'Movie', '1991', 'Thriller'), ('tt0094900', 'Committed', 'Movie', '1991', 'Thriller'), ('tt0097318', 'Eye of the Widow', 'Movie', '1991', 'Thriller'), ('tt0099587', 'Flight of the Intruder', 'Movie', '1991', 'Thriller'), ('tt0099577', 'Firehead', 'Movie', '1991', 'Thriller'), ('tt0097928', 'Murder Blues', 'Movie', '1991', 'Thriller'), ('tt0100430', 'Psychic', 'Movie', '1991', 'Thriller'), ('tt0097631', 'Judgement', 'Movie', '1992', 'Thriller'), ('tt0099104', 'Ng yuet yam seon', 'Movie', '1992', 'Thriller'), ('tt0100111', 'Los mares del sur', 'Movie', '1992', 'Thriller'), ('tt0101860', 'Fatal Instinct', 'Movie', '1992', 'Thriller'), ('tt0101288', 'Al filo de la ley', 'Movie', '1992', 'Thriller'), ('tt0102000', 'Happy Birthday, Türke!', 'Movie', '1992', 'Thriller'), ('tt0101395', 'Backsliding', 'Movie', '1992', 'Thriller'), ('tt0101759', \"A Woman's Secret\", 'Movie', '1992', 'Thriller'), ('tt0101736', 'Diplomatic Immunity', 'Movie', '1992', 'Thriller'), ('tt0097631', 'Judgement', 'Movie', '1992', 'Thriller'), ('tt0099104', 'Ng yuet yam seon', 'Movie', '1992', 'Thriller'), ('tt0100111', 'Los mares del sur', 'Movie', '1992', 'Thriller'), ('tt0101860', 'Fatal Instinct', 'Movie', '1992', 'Thriller'), ('tt0101288', 'Al filo de la ley', 'Movie', '1992', 'Thriller'), ('tt0102000', 'Happy Birthday, Türke!', 'Movie', '1992', 'Thriller'), ('tt0101395', 'Backsliding', 'Movie', '1992', 'Thriller'), ('tt0101759', \"A Woman's Secret\", 'Movie', '1992', 'Thriller'), ('tt0101736', 'Diplomatic Immunity', 'Movie', '1992', 'Thriller'), ('tt0097631', 'Judgement', 'Movie', '1992', 'Thriller'), ('tt0099104', 'Ng yuet yam seon', 'Movie', '1992', 'Thriller'), ('tt0100111', 'Los mares del sur', 'Movie', '1992', 'Thriller'), ('tt0101860', 'Fatal Instinct', 'Movie', '1992', 'Thriller'), ('tt0101288', 'Al filo de la ley', 'Movie', '1992', 'Thriller'), ('tt0102000', 'Happy Birthday, Türke!', 'Movie', '1992', 'Thriller'), ('tt0101395', 'Backsliding', 'Movie', '1992', 'Thriller'), ('tt0101759', \"A Woman's Secret\", 'Movie', '1992', 'Thriller'), ('tt0101736', 'Diplomatic Immunity', 'Movie', '1992', 'Thriller'), ('tt0097631', 'Judgement', 'Movie', '1992', 'Thriller'), ('tt0099104', 'Ng yuet yam seon', 'Movie', '1992', 'Thriller'), ('tt0100111', 'Los mares del sur', 'Movie', '1992', 'Thriller'), ('tt0101860', 'Fatal Instinct', 'Movie', '1992', 'Thriller'), ('tt0101288', 'Al filo de la ley', 'Movie', '1992', 'Thriller'), ('tt0102000', 'Happy Birthday, Türke!', 'Movie', '1992', 'Thriller'), ('tt0101395', 'Backsliding', 'Movie', '1992', 'Thriller'), ('tt0101759', \"A Woman's Secret\", 'Movie', '1992', 'Thriller'), ('tt0101736', 'Diplomatic Immunity', 'Movie', '1992', 'Thriller'), ('tt0015724', 'Dama de noche', 'Movie', '1993', 'Thriller'), ('tt0102253', 'El laberinto griego', 'Movie', '1993', 'Thriller'), ('tt0102222', 'Kiss and Be Killed', 'Movie', '1993', 'Thriller'), ('tt0104683', 'Laser Moon', 'Movie', '1993', 'Thriller'), ('tt0102821', 'Russian Holiday', 'Movie', '1993', 'Thriller'), ('tt0104807', 'Maang lui 72 siu si', 'Movie', '1993', 'Thriller'), ('tt0103022', 'In a Moment of Passion', 'Movie', '1993', 'Thriller'), ('tt0015724', 'Dama de noche', 'Movie', '1993', 'Thriller'), ('tt0102253', 'El laberinto griego', 'Movie', '1993', 'Thriller'), ('tt0102222', 'Kiss and Be Killed', 'Movie', '1993', 'Thriller'), ('tt0104683', 'Laser Moon', 'Movie', '1993', 'Thriller'), ('tt0102821', 'Russian Holiday', 'Movie', '1993', 'Thriller'), ('tt0104807', 'Maang lui 72 siu si', 'Movie', '1993', 'Thriller'), ('tt0103022', 'In a Moment of Passion', 'Movie', '1993', 'Thriller'), ('tt0015724', 'Dama de noche', 'Movie', '1993', 'Thriller'), ('tt0102253', 'El laberinto griego', 'Movie', '1993', 'Thriller'), ('tt0102222', 'Kiss and Be Killed', 'Movie', '1993', 'Thriller'), ('tt0104683', 'Laser Moon', 'Movie', '1993', 'Thriller'), ('tt0102821', 'Russian Holiday', 'Movie', '1993', 'Thriller'), ('tt0104807', 'Maang lui 72 siu si', 'Movie', '1993', 'Thriller'), ('tt0103022', 'In a Moment of Passion', 'Movie', '1993', 'Thriller'), ('tt0015724', 'Dama de noche', 'Movie', '1993', 'Thriller'), ('tt0102253', 'El laberinto griego', 'Movie', '1993', 'Thriller'), ('tt0102222', 'Kiss and Be Killed', 'Movie', '1993', 'Thriller'), ('tt0104683', 'Laser Moon', 'Movie', '1993', 'Thriller'), ('tt0102821', 'Russian Holiday', 'Movie', '1993', 'Thriller'), ('tt0104807', 'Maang lui 72 siu si', 'Movie', '1993', 'Thriller'), ('tt0103022', 'In a Moment of Passion', 'Movie', '1993', 'Thriller'), ('tt0086847', 'Access Code', 'Movie', '1994', 'Thriller'), ('tt0097416', 'Kadhalan', 'Movie', '1994', 'Thriller'), ('tt0100881', 'Voci dal profondo', 'Movie', '1994', 'Thriller'), ('tt0105054', 'Sul filo del rasoio', 'Movie', '1994', 'Thriller'), ('tt0105230', 'Redheads', 'Movie', '1994', 'Thriller'), ('tt0105463', 'April One', 'Movie', '1994', 'Thriller'), ('tt0106946', 'Forced to Kill', 'Movie', '1994', 'Thriller'), ('tt0106874', 'Fatal Past', 'Movie', '1994', 'Thriller'), ('tt0106479', 'Breaking Point', 'Movie', '1994', 'Thriller'), ('tt0086847', 'Access Code', 'Movie', '1994', 'Thriller'), ('tt0097416', 'Kadhalan', 'Movie', '1994', 'Thriller'), ('tt0100881', 'Voci dal profondo', 'Movie', '1994', 'Thriller'), ('tt0105054', 'Sul filo del rasoio', 'Movie', '1994', 'Thriller'), ('tt0105230', 'Redheads', 'Movie', '1994', 'Thriller'), ('tt0105463', 'April One', 'Movie', '1994', 'Thriller'), ('tt0106946', 'Forced to Kill', 'Movie', '1994', 'Thriller'), ('tt0106874', 'Fatal Past', 'Movie', '1994', 'Thriller'), ('tt0106479', 'Breaking Point', 'Movie', '1994', 'Thriller'), ('tt0086847', 'Access Code', 'Movie', '1994', 'Thriller'), ('tt0097416', 'Kadhalan', 'Movie', '1994', 'Thriller'), ('tt0100881', 'Voci dal profondo', 'Movie', '1994', 'Thriller'), ('tt0105054', 'Sul filo del rasoio', 'Movie', '1994', 'Thriller'), ('tt0105230', 'Redheads', 'Movie', '1994', 'Thriller'), ('tt0105463', 'April One', 'Movie', '1994', 'Thriller'), ('tt0106946', 'Forced to Kill', 'Movie', '1994', 'Thriller'), ('tt0106874', 'Fatal Past', 'Movie', '1994', 'Thriller'), ('tt0106479', 'Breaking Point', 'Movie', '1994', 'Thriller'), ('tt0086847', 'Access Code', 'Movie', '1994', 'Thriller'), ('tt0097416', 'Kadhalan', 'Movie', '1994', 'Thriller'), ('tt0100881', 'Voci dal profondo', 'Movie', '1994', 'Thriller'), ('tt0105054', 'Sul filo del rasoio', 'Movie', '1994', 'Thriller'), ('tt0105230', 'Redheads', 'Movie', '1994', 'Thriller'), ('tt0105463', 'April One', 'Movie', '1994', 'Thriller'), ('tt0106946', 'Forced to Kill', 'Movie', '1994', 'Thriller'), ('tt0106874', 'Fatal Past', 'Movie', '1994', 'Thriller'), ('tt0106479', 'Breaking Point', 'Movie', '1994', 'Thriller'), ('tt0095102', 'Les ennemis de la mafia', 'Movie', '1995', 'Thriller'), ('tt0109034', 'Above Suspicion', 'Movie', '1995', 'Thriller'), ('tt0109178', 'Automatic', 'Movie', '1995', 'Thriller'), ('tt0109546', 'Temptress', 'Movie', '1995', 'Thriller'), ('tt0109033', 'Abducted II: The Reunion', 'Movie', '1995', 'Thriller'), ('tt0109532', 'Dangerous Indiscretion', 'Movie', '1995', 'Thriller'), ('tt0109536', 'The Dangerous', 'Movie', '1995', 'Thriller'), ('tt0095102', 'Les ennemis de la mafia', 'Movie', '1995', 'Thriller'), ('tt0109034', 'Above Suspicion', 'Movie', '1995', 'Thriller'), ('tt0109178', 'Automatic', 'Movie', '1995', 'Thriller'), ('tt0109546', 'Temptress', 'Movie', '1995', 'Thriller'), ('tt0109033', 'Abducted II: The Reunion', 'Movie', '1995', 'Thriller'), ('tt0109532', 'Dangerous Indiscretion', 'Movie', '1995', 'Thriller'), ('tt0109536', 'The Dangerous', 'Movie', '1995', 'Thriller'), ('tt0095102', 'Les ennemis de la mafia', 'Movie', '1995', 'Thriller'), ('tt0109034', 'Above Suspicion', 'Movie', '1995', 'Thriller'), ('tt0109178', 'Automatic', 'Movie', '1995', 'Thriller'), ('tt0109546', 'Temptress', 'Movie', '1995', 'Thriller'), ('tt0109033', 'Abducted II: The Reunion', 'Movie', '1995', 'Thriller'), ('tt0109532', 'Dangerous Indiscretion', 'Movie', '1995', 'Thriller'), ('tt0109536', 'The Dangerous', 'Movie', '1995', 'Thriller'), ('tt0095102', 'Les ennemis de la mafia', 'Movie', '1995', 'Thriller'), ('tt0109034', 'Above Suspicion', 'Movie', '1995', 'Thriller'), ('tt0109178', 'Automatic', 'Movie', '1995', 'Thriller'), ('tt0109546', 'Temptress', 'Movie', '1995', 'Thriller'), ('tt0109033', 'Abducted II: The Reunion', 'Movie', '1995', 'Thriller'), ('tt0109532', 'Dangerous Indiscretion', 'Movie', '1995', 'Thriller'), ('tt0109536', 'The Dangerous', 'Movie', '1995', 'Thriller')]\n"
     ]
    },
    {
     "name": "stderr",
     "output_type": "stream",
     "text": [
      "\n"
     ]
    }
   ],
   "source": [
    "## extraccion datos por genero de película y años \n",
    "\n",
    "genreList = ['Thriller']\n",
    "thrillermovielist = []\n",
    "\n",
    "for genre in genreList:\n",
    "    print(genre)\n",
    "    \n",
    "    for year in tqdm(range(1980,1996)):\n",
    "        print(year)\n",
    "        url = f\"https://dev.adalab.es/api/cinema/movies?year={year}&genre={genre}\"\n",
    "        sleep(2)\n",
    "        response = requests.get(url)\n",
    "        if response.status_code == 200:\n",
    "            movies = response.json()['results']\n",
    "            for index,movie in enumerate(movies):\n",
    "                if movie ['type'] == 'Movie' or movie ['type'] == 'Short':\n",
    "                    resultado = []\n",
    "                    resultado.append(movie['idOwner'])\n",
    "                    resultado.append(movie['title'])\n",
    "                    resultado.append(movie['type'])\n",
    "                    resultado.append(movie['year'])\n",
    "                    resultado.append(movie['genre'])\n",
    "\n",
    "                    thrillermovielist.append(tuple(resultado))            \n",
    "        else: \n",
    "            print(f\"Vaya, algo ha ido mal, el motivo es {response.status_code}\")\n",
    "\n",
    "print(thrillermovielist)"
   ]
  },
  {
   "cell_type": "code",
   "execution_count": 5,
   "metadata": {},
   "outputs": [],
   "source": [
    "## convertirlo en un Dataframe\n",
    "\n",
    "df = pd.DataFrame(thrillermovielist, columns = ['idOwner','Title','Type','Year','Genre'])\n",
    "\n",
    "df.to_csv('Thriller.csv')"
   ]
  },
  {
   "cell_type": "code",
   "execution_count": 6,
   "metadata": {},
   "outputs": [],
   "source": [
    "# lista de archivos csv \n",
    "csv_genre = ['Action.csv','Comedy.csv','Drama.csv','Fantasy.csv','Horror.csv','Mystery.csv','Romance.csv','Thriller.csv']"
   ]
  },
  {
   "cell_type": "code",
   "execution_count": 7,
   "metadata": {},
   "outputs": [
    {
     "name": "stdout",
     "output_type": "stream",
     "text": [
      "Archivos csv combinados con exito en 'combinado.csv'\n"
     ]
    }
   ],
   "source": [
    "# Leer cada uno de los archivos csv en un DataFrame y almacenarlos en una lista \n",
    "dfs = [pd.read_csv(file) for file in csv_genre]\n",
    "\n",
    "# Concatenar todos los DataFrames en uno solo \n",
    "df_final = pd.concat (dfs, axis=0, ignore_index = True)\n",
    "\n",
    "# Guardar el DataFrame concatenado en un nuevo archivo csv final\n",
    "\n",
    "df_final.to_csv('combinado.csv', index = False)\n",
    "\n",
    "print (\"Archivos csv combinados con exito en 'combinado.csv'\")"
   ]
  }
 ],
 "metadata": {
  "kernelspec": {
   "display_name": "base",
   "language": "python",
   "name": "python3"
  },
  "language_info": {
   "codemirror_mode": {
    "name": "ipython",
    "version": 3
   },
   "file_extension": ".py",
   "mimetype": "text/x-python",
   "name": "python",
   "nbconvert_exporter": "python",
   "pygments_lexer": "ipython3",
   "version": "3.9.7"
  }
 },
 "nbformat": 4,
 "nbformat_minor": 2
}
