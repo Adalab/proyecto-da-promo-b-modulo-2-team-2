{
 "cells": [
  {
   "cell_type": "code",
   "execution_count": 1,
   "metadata": {},
   "outputs": [],
   "source": [
    "## importamos las librerias necesarias\n",
    "\n",
    "import requests\n",
    "import pandas as pd\n",
    "from time import sleep\n",
    "from tqdm import tqdm"
   ]
  },
  {
   "cell_type": "code",
   "execution_count": 2,
   "metadata": {},
   "outputs": [
    {
     "name": "stdout",
     "output_type": "stream",
     "text": [
      "Horror\n"
     ]
    },
    {
     "name": "stderr",
     "output_type": "stream",
     "text": [
      "  0%|          | 0/16 [00:00<?, ?it/s]"
     ]
    },
    {
     "name": "stdout",
     "output_type": "stream",
     "text": [
      "1980\n"
     ]
    },
    {
     "name": "stderr",
     "output_type": "stream",
     "text": [
      "  6%|▋         | 1/16 [00:02<00:38,  2.54s/it]"
     ]
    },
    {
     "name": "stdout",
     "output_type": "stream",
     "text": [
      "1981\n"
     ]
    },
    {
     "name": "stderr",
     "output_type": "stream",
     "text": [
      " 12%|█▎        | 2/16 [00:04<00:33,  2.39s/it]"
     ]
    },
    {
     "name": "stdout",
     "output_type": "stream",
     "text": [
      "1982\n"
     ]
    },
    {
     "name": "stderr",
     "output_type": "stream",
     "text": [
      " 19%|█▉        | 3/16 [00:07<00:30,  2.34s/it]"
     ]
    },
    {
     "name": "stdout",
     "output_type": "stream",
     "text": [
      "1983\n"
     ]
    },
    {
     "name": "stderr",
     "output_type": "stream",
     "text": [
      " 25%|██▌       | 4/16 [00:09<00:27,  2.33s/it]"
     ]
    },
    {
     "name": "stdout",
     "output_type": "stream",
     "text": [
      "1984\n"
     ]
    },
    {
     "name": "stderr",
     "output_type": "stream",
     "text": [
      " 31%|███▏      | 5/16 [00:11<00:25,  2.31s/it]"
     ]
    },
    {
     "name": "stdout",
     "output_type": "stream",
     "text": [
      "1985\n"
     ]
    },
    {
     "name": "stderr",
     "output_type": "stream",
     "text": [
      " 38%|███▊      | 6/16 [00:13<00:23,  2.30s/it]"
     ]
    },
    {
     "name": "stdout",
     "output_type": "stream",
     "text": [
      "1986\n"
     ]
    },
    {
     "name": "stderr",
     "output_type": "stream",
     "text": [
      " 44%|████▍     | 7/16 [00:16<00:20,  2.30s/it]"
     ]
    },
    {
     "name": "stdout",
     "output_type": "stream",
     "text": [
      "1987\n"
     ]
    },
    {
     "name": "stderr",
     "output_type": "stream",
     "text": [
      " 50%|█████     | 8/16 [00:18<00:18,  2.29s/it]"
     ]
    },
    {
     "name": "stdout",
     "output_type": "stream",
     "text": [
      "1988\n"
     ]
    },
    {
     "name": "stderr",
     "output_type": "stream",
     "text": [
      " 56%|█████▋    | 9/16 [00:20<00:16,  2.29s/it]"
     ]
    },
    {
     "name": "stdout",
     "output_type": "stream",
     "text": [
      "1989\n"
     ]
    },
    {
     "name": "stderr",
     "output_type": "stream",
     "text": [
      " 62%|██████▎   | 10/16 [00:23<00:13,  2.29s/it]"
     ]
    },
    {
     "name": "stdout",
     "output_type": "stream",
     "text": [
      "1990\n"
     ]
    },
    {
     "name": "stderr",
     "output_type": "stream",
     "text": [
      " 69%|██████▉   | 11/16 [00:25<00:11,  2.30s/it]"
     ]
    },
    {
     "name": "stdout",
     "output_type": "stream",
     "text": [
      "1991\n"
     ]
    },
    {
     "name": "stderr",
     "output_type": "stream",
     "text": [
      " 75%|███████▌  | 12/16 [00:27<00:09,  2.29s/it]"
     ]
    },
    {
     "name": "stdout",
     "output_type": "stream",
     "text": [
      "1992\n"
     ]
    },
    {
     "name": "stderr",
     "output_type": "stream",
     "text": [
      " 81%|████████▏ | 13/16 [00:30<00:06,  2.29s/it]"
     ]
    },
    {
     "name": "stdout",
     "output_type": "stream",
     "text": [
      "1993\n"
     ]
    },
    {
     "name": "stderr",
     "output_type": "stream",
     "text": [
      " 88%|████████▊ | 14/16 [00:32<00:04,  2.29s/it]"
     ]
    },
    {
     "name": "stdout",
     "output_type": "stream",
     "text": [
      "1994\n"
     ]
    },
    {
     "name": "stderr",
     "output_type": "stream",
     "text": [
      " 94%|█████████▍| 15/16 [00:34<00:02,  2.29s/it]"
     ]
    },
    {
     "name": "stdout",
     "output_type": "stream",
     "text": [
      "1995\n"
     ]
    },
    {
     "name": "stderr",
     "output_type": "stream",
     "text": [
      "100%|██████████| 16/16 [00:36<00:00,  2.30s/it]"
     ]
    },
    {
     "name": "stdout",
     "output_type": "stream",
     "text": [
      "[('tt0074994', 'Tempyo no iraka', 'Movie', '1980', 'Horror'), ('tt0078113', 'Primitif', 'Movie', '1980', 'Horror'), ('tt0077567', 'The Sleep of Death', 'Movie', '1980', 'Horror'), ('tt0078791', 'Aquella casa en las afueras', 'Movie', '1980', 'Horror'), ('tt0078806', 'The Attic', 'Movie', '1980', 'Horror'), ('tt0078936', 'Mondo cannibale', 'Movie', '1980', 'Horror'), ('tt0078749', 'Alien 2 - Sulla Terra', 'Movie', '1980', 'Horror'), ('tt0078880', 'Bloodrage', 'Movie', '1980', 'Horror'), ('tt0078935', 'Cannibal Holocaust', 'Movie', '1980', 'Horror'), ('tt0073604', 'Rana: The Legend of Shadow Lake', 'Movie', '1981', 'Horror'), ('tt0073706', 'Shocking Asia', 'Movie', '1981', 'Horror'), ('tt0078871', 'Ratu Ilmu Hitam', 'Movie', '1981', 'Horror'), ('tt0078751', \"Alison's Birthday\", 'Movie', '1981', 'Horror'), ('tt0080362', \"L'altro inferno\", 'Movie', '1981', 'Horror'), ('tt0080440', 'Gatto nero', 'Movie', '1981', 'Horror'), ('tt0080607', 'Delusion', 'Movie', '1981', 'Horror'), ('tt0073537', 'Double Exposure', 'Movie', '1982', 'Horror'), ('tt0075035', 'Bakterion', 'Movie', '1982', 'Horror'), ('tt0080438', 'La bimba di Satana', 'Movie', '1982', 'Horror'), ('tt0080787', 'The Ghost Dance', 'Movie', '1982', 'Horror'), ('tt0082537', 'Humongous', 'Movie', '1982', 'Horror'), ('tt0082334', 'The Entity', 'Movie', '1982', 'Horror'), ('tt0082025', 'The Appointment', 'Movie', '1982', 'Horror'), ('tt0081432', 'Los ritos sexuales del diablo', 'Movie', '1982', 'Horror'), ('tt0083146', 'Sweet Sixteen', 'Movie', '1983', 'Horror'), ('tt0082914', 'Play Dead', 'Movie', '1983', 'Horror'), ('tt0082379', 'The Final Terror', 'Movie', '1983', 'Horror'), ('tt0083973', 'Frightmare', 'Movie', '1983', 'Horror'), ('tt0082841', 'Olivia', 'Movie', '1983', 'Horror'), ('tt0083361', 'Jui gwai chat hung', 'Movie', '1983', 'Horror'), ('tt0084678', 'Shui jing ren', 'Movie', '1983', 'Horror'), ('tt0085233', 'La bestia y la espada mágica', 'Movie', '1983', 'Horror'), ('tt0073265', 'Lao Shan gui lian', 'Movie', '1984', 'Horror'), ('tt0081366', 'The Power', 'Movie', '1984', 'Horror'), ('tt0084107', 'Héctor, el estigma del miedo', 'Movie', '1984', 'Horror'), ('tt0085364', 'El corazón de la noche', 'Movie', '1984', 'Horror'), ('tt0085628', 'Gui ma tian shi', 'Movie', '1984', 'Horror'), ('tt0085442', 'Disconnected', 'Movie', '1984', 'Horror'), ('tt0086176', 'Rats - Notte di terrore', 'Movie', '1984', 'Horror'), ('tt0086563', 'Vultures', 'Movie', '1984', 'Horror'), ('tt0068958', 'El misterio de Cynthia Baird', 'Movie', '1985', 'Horror'), ('tt0080583', 'Du zhou', 'Movie', '1985', 'Horror'), ('tt0086288', '7, Hyden Park: la casa maledetta', 'Movie', '1985', 'Horror'), ('tt0086849', 'Acosada', 'Movie', '1985', 'Horror'), ('tt0087909', 'Phenomena', 'Movie', '1985', 'Horror'), ('tt0087798', 'Night Train to Terror', 'Movie', '1985', 'Horror'), ('tt0089395', 'Kai xin gui: Fang shu jia', 'Movie', '1985', 'Horror'), ('tt0089850', 'Psycho Girls', 'Movie', '1986', 'Horror'), ('tt0088092', 'As Sete Vampiras', 'Movie', '1986', 'Horror'), ('tt0089993', 'The Serpent Warriors', 'Movie', '1986', 'Horror'), ('tt0088745', \"L'assassino è ancora tra noi\", 'Movie', '1986', 'Horror'), ('tt0090057', 'Spookies', 'Movie', '1986', 'Horror'), ('tt0090364', 'Zangha', 'Movie', '1986', 'Horror'), ('tt0085253', 'Blood Rage', 'Movie', '1987', 'Horror'), ('tt0087319', 'Ge shi gui jian qing', 'Movie', '1987', 'Horror'), ('tt0089238', 'Gui xin niang', 'Movie', '1987', 'Horror'), ('tt0088959', 'Criminally Insane 2', 'Movie', '1987', 'Horror'), ('tt0090271', 'Vlci bouda', 'Movie', '1987', 'Horror'), ('tt0090644', 'Angustia', 'Movie', '1987', 'Horror'), ('tt0089561', 'Mask of Murder', 'Movie', '1988', 'Horror'), ('tt0088828', 'Bloody Wednesday', 'Movie', '1988', 'Horror'), ('tt0093090', 'La casa 3', 'Movie', '1988', 'Horror'), ('tt0092863', 'Deep Space', 'Movie', '1988', 'Horror'), ('tt0092853', 'Dear John', 'Movie', '1988', 'Horror'), ('tt0092254', 'Huet mui gwai', 'Movie', '1988', 'Horror'), ('tt0089452', 'Labirynt', 'Movie', '1989', 'Horror'), ('tt0091192', 'Hell High', 'Movie', '1989', 'Horror'), ('tt0094720', 'Bees Saal Baad', 'Movie', '1989', 'Horror'), ('tt0094271', 'Violent Shit', 'Movie', '1989', 'Horror'), ('tt0094693', 'B.O.R.N.', 'Movie', '1989', 'Horror'), ('tt0093523', 'Mang gwai dai ha', 'Movie', '1989', 'Horror'), ('tt0093211', 'Horrorshow', 'Short', '1990', 'Horror'), ('tt0094997', 'Demonia', 'Movie', '1990', 'Horror'), ('tt0096871', 'Baby Blood', 'Movie', '1990', 'Horror'), ('tt0096830', 'Aquí huele a muerto... (¡pues yo no he sido!)', 'Movie', '1990', 'Horror'), ('tt0095878', 'Pledge Night', 'Movie', '1990', 'Horror'), ('tt0096954', 'Bloodmoon', 'Movie', '1990', 'Horror'), ('tt0097726', 'Legion of Iron', 'Movie', '1990', 'Horror'), ('tt0098136', 'Prom Night III: The Last Kiss', 'Movie', '1990', 'Horror'), ('tt0099180', 'Bride of Re-Animator', 'Movie', '1990', 'Horror'), ('tt0078006', 'Norman and the Killer', 'Short', '1991', 'Horror'), ('tt0100430', 'Psychic', 'Movie', '1991', 'Horror'), ('tt0100483', 'The Returning', 'Movie', '1991', 'Horror'), ('tt0100688', 'Steel and Lace', 'Movie', '1991', 'Horror'), ('tt0099059', 'The Arrival', 'Movie', '1991', 'Horror'), ('tt0099722', 'Gui zheng ren', 'Movie', '1991', 'Horror'), ('tt0099562', 'Fertilize the Blaspheming Bombshell', 'Movie', '1992', 'Horror'), ('tt0100108', 'La mansión de los Cthulhu', 'Movie', '1992', 'Horror'), ('tt0099757', 'Hei tai yang 731 xu ji zhi sha ren gong chang', 'Movie', '1992', 'Horror'), ('tt0101368', 'Severed Ties', 'Movie', '1992', 'Horror'), ('tt0101652', 'Dance Macabre', 'Movie', '1992', 'Horror'), ('tt0101493', 'Body Puzzle', 'Movie', '1992', 'Horror'), ('tt0101628', 'Critters 4', 'Movie', '1992', 'Horror'), ('tt0102222', 'Kiss and Be Killed', 'Movie', '1993', 'Horror'), ('tt0103743', 'Bat sin fan dim: Yan yuk cha siu bau', 'Movie', '1993', 'Horror'), ('tt0104053', 'Trauma', 'Movie', '1993', 'Horror'), ('tt0105883', 'Zai shi zhui hun', 'Movie', '1993', 'Horror'), ('tt0105785', 'Vortice mortale', 'Movie', '1993', 'Horror'), ('tt0100881', 'Voci dal profondo', 'Movie', '1994', 'Horror'), ('tt0106402', 'Beyond Bedlam', 'Movie', '1994', 'Horror'), ('tt0106983', 'Future Shock', 'Movie', '1994', 'Horror'), ('tt0106790', 'Eau de la vie', 'Short', '1994', 'Horror'), ('tt0109546', 'Temptress', 'Movie', '1995', 'Horror'), ('tt0109415', 'Children of the Corn III: Urban Harvest', 'Movie', '1995', 'Horror'), ('tt0109723', 'Embrace of the Vampire', 'Movie', '1995', 'Horror'), ('tt0110604', 'Témoin muet', 'Movie', '1995', 'Horror'), ('tt0111574', 'The Upstairs Neighbour', 'Movie', '1995', 'Horror'), ('tt0111464', 'Toughguy', 'Movie', '1995', 'Horror'), ('tt0111244', 'Sorceress', 'Movie', '1995', 'Horror')]\n"
     ]
    },
    {
     "name": "stderr",
     "output_type": "stream",
     "text": [
      "\n"
     ]
    }
   ],
   "source": [
    "## extraccion datos por genero de película y años \n",
    "\n",
    "genreList = ['Horror']\n",
    "horrormovielist = []\n",
    "\n",
    "for genre in genreList:\n",
    "    print(genre)\n",
    "    \n",
    "    for year in tqdm(range(1980,1996)):\n",
    "        print(year)\n",
    "        url = f\"https://dev.adalab.es/api/cinema/movies?year={year}&genre={genre}\"\n",
    "        sleep(2)\n",
    "        response = requests.get(url)\n",
    "        if response.status_code == 200:\n",
    "            movies = response.json()['results']\n",
    "            for index,movie in enumerate(movies):\n",
    "                if movie ['type'] == 'Movie' or movie ['type'] == 'Short':\n",
    "                    resultado = []\n",
    "                    resultado.append(movie['idOwner'])\n",
    "                    resultado.append(movie['title'])\n",
    "                    resultado.append(movie['type'])\n",
    "                    resultado.append(movie['year'])\n",
    "                    resultado.append(movie['genre'])\n",
    "\n",
    "                    horrormovielist.append(tuple(resultado))            \n",
    "        else: \n",
    "            print(f\"Vaya, algo ha ido mal, el motivo es {response.status_code}\")\n",
    "\n",
    "print(horrormovielist)"
   ]
  },
  {
   "cell_type": "code",
   "execution_count": 3,
   "metadata": {},
   "outputs": [
    {
     "name": "stdout",
     "output_type": "stream",
     "text": [
      "       idOwner                        Title   Type  Year   Genre\n",
      "0    tt0074994              Tempyo no iraka  Movie  1980  Horror\n",
      "1    tt0078113                     Primitif  Movie  1980  Horror\n",
      "2    tt0077567           The Sleep of Death  Movie  1980  Horror\n",
      "3    tt0078791  Aquella casa en las afueras  Movie  1980  Horror\n",
      "4    tt0078806                    The Attic  Movie  1980  Horror\n",
      "..         ...                          ...    ...   ...     ...\n",
      "104  tt0109723       Embrace of the Vampire  Movie  1995  Horror\n",
      "105  tt0110604                  Témoin muet  Movie  1995  Horror\n",
      "106  tt0111574       The Upstairs Neighbour  Movie  1995  Horror\n",
      "107  tt0111464                     Toughguy  Movie  1995  Horror\n",
      "108  tt0111244                    Sorceress  Movie  1995  Horror\n",
      "\n",
      "[109 rows x 5 columns]\n"
     ]
    }
   ],
   "source": [
    "## convertirlo en un Dataframe\n",
    "\n",
    "df = pd.DataFrame(horrormovielist, columns = ['idOwner','Title','Type','Year','Genre'])\n",
    "\n",
    "\n",
    "df_clean = df.drop_duplicates()\n",
    "\n",
    "print(df_clean)\n",
    "\n",
    "df_clean.to_csv('Horror.csv')"
   ]
  }
 ],
 "metadata": {
  "kernelspec": {
   "display_name": "Python 3",
   "language": "python",
   "name": "python3"
  },
  "language_info": {
   "codemirror_mode": {
    "name": "ipython",
    "version": 3
   },
   "file_extension": ".py",
   "mimetype": "text/x-python",
   "name": "python",
   "nbconvert_exporter": "python",
   "pygments_lexer": "ipython3",
   "version": "3.12.4"
  }
 },
 "nbformat": 4,
 "nbformat_minor": 2
}
