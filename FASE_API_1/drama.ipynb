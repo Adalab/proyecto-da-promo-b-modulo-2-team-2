{
 "cells": [
  {
   "cell_type": "code",
   "execution_count": 1,
   "metadata": {},
   "outputs": [],
   "source": [
    "## importamos las librerias necesarias\n",
    "\n",
    "import requests\n",
    "import pandas as pd\n",
    "from time import sleep\n",
    "from tqdm import tqdm"
   ]
  },
  {
   "cell_type": "code",
   "execution_count": 2,
   "metadata": {},
   "outputs": [
    {
     "name": "stdout",
     "output_type": "stream",
     "text": [
      "Drama\n"
     ]
    },
    {
     "name": "stderr",
     "output_type": "stream",
     "text": [
      "  0%|          | 0/16 [00:00<?, ?it/s]"
     ]
    },
    {
     "name": "stdout",
     "output_type": "stream",
     "text": [
      "1980\n"
     ]
    },
    {
     "name": "stderr",
     "output_type": "stream",
     "text": [
      "  6%|▋         | 1/16 [00:02<00:36,  2.42s/it]"
     ]
    },
    {
     "name": "stdout",
     "output_type": "stream",
     "text": [
      "1981\n"
     ]
    },
    {
     "name": "stderr",
     "output_type": "stream",
     "text": [
      " 12%|█▎        | 2/16 [00:04<00:32,  2.35s/it]"
     ]
    },
    {
     "name": "stdout",
     "output_type": "stream",
     "text": [
      "1982\n"
     ]
    },
    {
     "name": "stderr",
     "output_type": "stream",
     "text": [
      " 19%|█▉        | 3/16 [00:07<00:30,  2.33s/it]"
     ]
    },
    {
     "name": "stdout",
     "output_type": "stream",
     "text": [
      "1983\n"
     ]
    },
    {
     "name": "stderr",
     "output_type": "stream",
     "text": [
      " 25%|██▌       | 4/16 [00:09<00:27,  2.32s/it]"
     ]
    },
    {
     "name": "stdout",
     "output_type": "stream",
     "text": [
      "1984\n"
     ]
    },
    {
     "name": "stderr",
     "output_type": "stream",
     "text": [
      " 31%|███▏      | 5/16 [00:11<00:25,  2.30s/it]"
     ]
    },
    {
     "name": "stdout",
     "output_type": "stream",
     "text": [
      "1985\n"
     ]
    },
    {
     "name": "stderr",
     "output_type": "stream",
     "text": [
      " 38%|███▊      | 6/16 [00:13<00:22,  2.30s/it]"
     ]
    },
    {
     "name": "stdout",
     "output_type": "stream",
     "text": [
      "1986\n"
     ]
    },
    {
     "name": "stderr",
     "output_type": "stream",
     "text": [
      " 44%|████▍     | 7/16 [00:16<00:20,  2.30s/it]"
     ]
    },
    {
     "name": "stdout",
     "output_type": "stream",
     "text": [
      "1987\n"
     ]
    },
    {
     "name": "stderr",
     "output_type": "stream",
     "text": [
      " 50%|█████     | 8/16 [00:18<00:18,  2.29s/it]"
     ]
    },
    {
     "name": "stdout",
     "output_type": "stream",
     "text": [
      "1988\n"
     ]
    },
    {
     "name": "stderr",
     "output_type": "stream",
     "text": [
      " 56%|█████▋    | 9/16 [00:20<00:16,  2.31s/it]"
     ]
    },
    {
     "name": "stdout",
     "output_type": "stream",
     "text": [
      "1989\n"
     ]
    },
    {
     "name": "stderr",
     "output_type": "stream",
     "text": [
      " 62%|██████▎   | 10/16 [00:23<00:13,  2.30s/it]"
     ]
    },
    {
     "name": "stdout",
     "output_type": "stream",
     "text": [
      "1990\n"
     ]
    },
    {
     "name": "stderr",
     "output_type": "stream",
     "text": [
      " 69%|██████▉   | 11/16 [00:25<00:11,  2.31s/it]"
     ]
    },
    {
     "name": "stdout",
     "output_type": "stream",
     "text": [
      "1991\n"
     ]
    },
    {
     "name": "stderr",
     "output_type": "stream",
     "text": [
      " 75%|███████▌  | 12/16 [00:27<00:09,  2.30s/it]"
     ]
    },
    {
     "name": "stdout",
     "output_type": "stream",
     "text": [
      "1992\n"
     ]
    },
    {
     "name": "stderr",
     "output_type": "stream",
     "text": [
      " 81%|████████▏ | 13/16 [00:30<00:06,  2.30s/it]"
     ]
    },
    {
     "name": "stdout",
     "output_type": "stream",
     "text": [
      "1993\n"
     ]
    },
    {
     "name": "stderr",
     "output_type": "stream",
     "text": [
      " 88%|████████▊ | 14/16 [00:32<00:04,  2.30s/it]"
     ]
    },
    {
     "name": "stdout",
     "output_type": "stream",
     "text": [
      "1994\n"
     ]
    },
    {
     "name": "stderr",
     "output_type": "stream",
     "text": [
      " 94%|█████████▍| 15/16 [00:34<00:02,  2.30s/it]"
     ]
    },
    {
     "name": "stdout",
     "output_type": "stream",
     "text": [
      "1995\n"
     ]
    },
    {
     "name": "stderr",
     "output_type": "stream",
     "text": [
      "100%|██████████| 16/16 [00:36<00:00,  2.31s/it]"
     ]
    },
    {
     "name": "stdout",
     "output_type": "stream",
     "text": [
      "[('tt0075859', 'De draken van Bruce Lee', 'Movie', '1980', 'Drama'), ('tt0075631', 'Acto dos Feitos da Guiné', 'Movie', '1980', 'Drama'), ('tt0076043', 'Fontamara', 'Movie', '1980', 'Drama'), ('tt0076321', 'Liu he ba fa', 'Movie', '1980', 'Drama'), ('tt0076276', 'Ko to tamo peva', 'Movie', '1980', 'Drama'), ('tt0077366', 'Constelaciones', 'Movie', '1980', 'Drama'), ('tt0062181', 'Rece do góry', 'Movie', '1981', 'Drama'), ('tt0067100', 'Firecracker', 'Movie', '1981', 'Drama'), ('tt0075187', 'Seis pasajes al infierno', 'Movie', '1981', 'Drama'), ('tt0077389', 'D.F./Distrito Federal', 'Movie', '1981', 'Drama'), ('tt0076769', 'The Stowaway', 'Short', '1981', 'Drama'), ('tt0077472', 'Jie quan da dong kau', 'Movie', '1981', 'Drama'), ('tt0077960', 'Las muñecas del King Kong', 'Movie', '1981', 'Drama'), ('tt0078376', 'Tennessee Stallion', 'Movie', '1982', 'Drama'), ('tt0077722', 'A Ilha dos Amores', 'Movie', '1982', 'Drama'), ('tt0078769', 'Amor, palavra prostituta', 'Movie', '1982', 'Drama'), ('tt0078178', 'Le rose et le blanc', 'Movie', '1982', 'Drama'), ('tt0079358', 'Han shan fei hu', 'Movie', '1982', 'Drama'), ('tt0079891', 'Shao Lin si', 'Movie', '1982', 'Drama'), ('tt0079799', 'Retrato de una mujer casada', 'Movie', '1982', 'Drama'), ('tt0080508', 'Cecilia', 'Movie', '1982', 'Drama'), ('tt0080554', 'Colegas', 'Movie', '1982', 'Drama'), ('tt0036606', 'Another Time, Another Place', 'Movie', '1983', 'Drama'), ('tt0057461', 'La rosa de los vientos', 'Movie', '1983', 'Drama'), ('tt0065530', 'Le cercle des passions', 'Movie', '1983', 'Drama'), ('tt0077329', 'Bing xue qing guan ying xiong dan', 'Movie', '1983', 'Drama'), ('tt0079246', 'Guaguasi', 'Movie', '1983', 'Drama'), ('tt0080867', 'Hey Babe!', 'Movie', '1983', 'Drama'), ('tt0080824', 'Gu shou', 'Movie', '1983', 'Drama'), ('tt0082578', 'Putování Jana Amose', 'Movie', '1983', 'Drama'), ('tt0071261', 'Bástyasétány hetvennégy', 'Movie', '1984', 'Drama'), ('tt0080570', 'Cruz de olvido', 'Movie', '1984', 'Drama'), ('tt0081716', 'Qing ren kan dao', 'Movie', '1984', 'Drama'), ('tt0082972', 'Rare Breed', 'Movie', '1984', 'Drama'), ('tt0083969', 'Die Frau mit dem roten Hut', 'Movie', '1984', 'Drama'), ('tt0084384', \"Naitou l'orpheline\", 'Movie', '1984', 'Drama'), ('tt0084388', 'Napló gyermekeimnek', 'Movie', '1984', 'Drama'), ('tt0082491', 'Habanera', 'Movie', '1984', 'Drama'), ('tt0083852', 'The Dream Chasers', 'Movie', '1984', 'Drama'), ('tt0075745', 'Beyond Reason', 'Movie', '1985', 'Drama'), ('tt0084324', 'Meri Jung', 'Movie', '1985', 'Drama'), ('tt0085155', 'Amada', 'Movie', '1985', 'Drama'), ('tt0085185', 'Atrapados en el miedo', 'Movie', '1985', 'Drama'), ('tt0085309', 'El caso Matías', 'Movie', '1985', 'Drama'), ('tt0067625', 'Proverka na dorogakh', 'Movie', '1986', 'Drama'), ('tt0086021', 'A Noite e a Madrugada', 'Movie', '1986', 'Drama'), ('tt0085986', 'Le médecin de Gafire', 'Movie', '1986', 'Drama'), ('tt0086909', \"L'araignée de satin\", 'Movie', '1986', 'Drama'), ('tt0087210', 'Epizod Berlin West', 'Movie', '1986', 'Drama'), ('tt0087944', 'The Princess and the Call Girl', 'Movie', '1986', 'Drama'), ('tt0067694', 'Die Russen kommen', 'Movie', '1987', 'Drama'), ('tt0076900', 'Vtoraya popytka Viktora Krokhina', 'Movie', '1987', 'Drama'), ('tt0084549', 'Przypadek', 'Movie', '1987', 'Drama'), ('tt0084460', 'P.K. and the Kid', 'Movie', '1987', 'Drama'), ('tt0085916', 'Matka Królów', 'Movie', '1987', 'Drama'), ('tt0086584', 'Wierna rzeka', 'Movie', '1987', 'Drama'), ('tt0086836', '1000-nen kizami no hidokei', 'Movie', '1987', 'Drama'), ('tt0072818', 'Contra la pared', 'Movie', '1988', 'Drama'), ('tt0082668', 'Lo que vendrá', 'Movie', '1988', 'Drama'), ('tt0088274', 'A Time to Remember', 'Movie', '1988', 'Drama'), ('tt0090292', 'Un maledetto soldato', 'Movie', '1988', 'Drama'), ('tt0065108', 'Tolko tri nochi', 'Movie', '1989', 'Drama'), ('tt0083731', 'Chasing Dreams', 'Movie', '1989', 'Drama'), ('tt0084548', 'Przesluchanie', 'Movie', '1989', 'Drama'), ('tt0087374', 'The Gunrunner', 'Movie', '1989', 'Drama'), ('tt0088900', 'Champagne amer', 'Movie', '1989', 'Drama'), ('tt0089996', 'Qi pi liang', 'Movie', '1989', 'Drama'), ('tt0089382', 'Joshilaay', 'Movie', '1989', 'Drama'), ('tt0091234', 'The Humpty Dumpty Man', 'Movie', '1989', 'Drama'), ('tt0059325', 'Jahrgang 45', 'Movie', '1990', 'Drama'), ('tt0059900', 'Wenn du groß bist, lieber Adam', 'Movie', '1990', 'Drama'), ('tt0065188', 'Vojtech, receny sirotek', 'Movie', '1990', 'Drama'), ('tt0068494', 'Domo Arigato', 'Movie', '1990', 'Drama'), ('tt0075259', 'Spy Story', 'Movie', '1990', 'Drama'), ('tt0081721', 'Vincent et moi', 'Movie', '1990', 'Drama'), ('tt0090665', 'Asfour Stah', 'Movie', '1990', 'Drama'), ('tt0093646', 'Nonstop', 'Short', '1990', 'Drama'), ('tt0077432', 'Dip huet kei bing', 'Movie', '1991', 'Drama'), ('tt0084015', 'Goodbye Paradise', 'Movie', '1991', 'Drama'), ('tt0092507', 'Abhimanyu', 'Movie', '1991', 'Drama'), ('tt0094841', 'La casa del sorriso', 'Movie', '1991', 'Drama'), ('tt0094900', 'Committed', 'Movie', '1991', 'Drama'), ('tt0095111', 'El heroob', 'Movie', '1991', 'Drama'), ('tt0082891', 'Peep Show', 'Short', '1992', 'Drama'), ('tt0084447', 'Open House', 'Short', '1992', 'Drama'), ('tt0095761', \"La nuit de l'océan\", 'Movie', '1992', 'Drama'), ('tt0096222', 'Tao xue wai zhuan', 'Movie', '1992', 'Drama'), ('tt0097631', 'Judgement', 'Movie', '1992', 'Drama'), ('tt0099104', 'Ng yuet yam seon', 'Movie', '1992', 'Drama'), ('tt0099437', 'Disha', 'Movie', '1992', 'Drama'), ('tt0099639', \"Coupable d'innocence ou Quand la raison dort\", 'Movie', '1992', 'Drama'), ('tt0015724', 'Dama de noche', 'Movie', '1993', 'Drama'), ('tt0081145', 'Me and the Kid', 'Movie', '1993', 'Drama'), ('tt0084551', 'Pu ti you hun', 'Movie', '1993', 'Drama'), ('tt0091490', \"Martina's Playhouse\", 'Short', '1993', 'Drama'), ('tt0095745', 'Ninja Vengeance', 'Movie', '1993', 'Drama'), ('tt0097984', 'Shen tong', 'Movie', '1993', 'Drama'), ('tt0099640', 'El general y la fiebre', 'Movie', '1993', 'Drama'), ('tt0099917', 'Kamen raidâ Zetto Ô', 'Movie', '1993', 'Drama'), ('tt0099996', 'Legacy', 'Movie', '1993', 'Drama'), ('tt0100267', 'Nobat e Asheghi', 'Movie', '1995', 'Drama'), ('tt0102739', '¡Que vivan los crotos!', 'Movie', '1995', 'Drama'), ('tt0105096', 'Paraíso Perdido', 'Movie', '1995', 'Drama'), ('tt0105298', 'Running Wild', 'Movie', '1995', 'Drama'), ('tt0106616', 'Las cosas del querer 2ª parte', 'Movie', '1995', 'Drama'), ('tt0107070', 'Halbe Welt', 'Movie', '1995', 'Drama')]\n"
     ]
    },
    {
     "name": "stderr",
     "output_type": "stream",
     "text": [
      "\n"
     ]
    }
   ],
   "source": [
    "## extraccion datos por genero de película y años \n",
    "\n",
    "genreList = ['Drama']\n",
    "dramamovielist = []\n",
    "\n",
    "for genre in genreList:\n",
    "    print(genre)\n",
    "    \n",
    "    for year in tqdm(range(1980,1996)):\n",
    "        print(year)\n",
    "        url = f\"https://dev.adalab.es/api/cinema/movies?year={year}&genre={genre}\"\n",
    "        sleep(2)\n",
    "        response = requests.get(url)\n",
    "        if response.status_code == 200:\n",
    "            movies = response.json()['results']\n",
    "            for index,movie in enumerate(movies):\n",
    "                if movie ['type'] == 'Movie' or movie ['type'] == 'Short':\n",
    "                    resultado = []\n",
    "                    resultado.append(movie['idOwner'])\n",
    "                    resultado.append(movie['title'])\n",
    "                    resultado.append(movie['type'])\n",
    "                    resultado.append(movie['year'])\n",
    "                    resultado.append(movie['genre'])\n",
    "\n",
    "                    dramamovielist.append(tuple(resultado))            \n",
    "        else: \n",
    "            print(f\"Vaya, algo ha ido mal, el motivo es {response.status_code}\")\n",
    "\n",
    "print(dramamovielist)"
   ]
  },
  {
   "cell_type": "code",
   "execution_count": 6,
   "metadata": {},
   "outputs": [],
   "source": [
    "## convertirlo en un Dataframe\n",
    "\n",
    "df = pd.DataFrame(dramamovielist, columns = ['idOwner','Title','Type','Year','Genre'])\n",
    "\n",
    "df.duplicated()\n",
    "\n",
    "df_clean = df.drop_duplicates()\n",
    "\n",
    "df_clean.to_csv('Drama.csv')\n"
   ]
  }
 ],
 "metadata": {
  "kernelspec": {
   "display_name": "Python 3",
   "language": "python",
   "name": "python3"
  },
  "language_info": {
   "codemirror_mode": {
    "name": "ipython",
    "version": 3
   },
   "file_extension": ".py",
   "mimetype": "text/x-python",
   "name": "python",
   "nbconvert_exporter": "python",
   "pygments_lexer": "ipython3",
   "version": "3.12.4"
  }
 },
 "nbformat": 4,
 "nbformat_minor": 2
}
