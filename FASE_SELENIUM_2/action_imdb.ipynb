{
 "cells": [
  {
   "cell_type": "code",
   "execution_count": 1,
   "metadata": {},
   "outputs": [],
   "source": [
    "import pandas as pd\n",
    "from selenium import webdriver  # Selenium es una herramienta para automatizar la interacción con navegadores web.\n",
    "from webdriver_manager.chrome import ChromeDriverManager  # ChromeDriverManager gestiona la instalación del controlador de Chrome.\n",
    "from selenium.webdriver.common.keys import Keys  # Keys es útil para simular eventos de teclado en Selenium.\n",
    "from selenium.webdriver.support.ui import Select  # Select se utiliza para interactuar con elementos <select> en páginas web.\n",
    "from time import sleep"
   ]
  },
  {
   "cell_type": "code",
   "execution_count": 2,
   "metadata": {},
   "outputs": [
    {
     "name": "stdout",
     "output_type": "stream",
     "text": [
      "    Unnamed: 0    idOwner                       Title   Type  Year   Genre\n",
      "0            0  tt0077634  The Great Skycopter Rescue  Movie  1980  Action\n",
      "1            1  tt0076709                  Si wang ta  Movie  1980  Action\n",
      "2            2  tt0078428         Shao Lin yu Wu Dang  Movie  1980  Action\n",
      "3            3  tt0077645               Mie jue qi qi  Movie  1980  Action\n",
      "4            4  tt0079106      L'empreinte des géants  Movie  1980  Action\n",
      "..         ...        ...                         ...    ...   ...     ...\n",
      "91          91  tt0101928                 Full Impact  Movie  1993  Action\n",
      "92          92  tt0105881            Magkasangga 2000  Movie  1995  Action\n",
      "93          93  tt0109178                   Automatic  Movie  1995  Action\n",
      "94          94  tt0109033    Abducted II: The Reunion  Movie  1995  Action\n",
      "95          95  tt0109536               The Dangerous  Movie  1995  Action\n",
      "\n",
      "[96 rows x 6 columns]\n",
      "['tt0077634', 'tt0076709', 'tt0078428', 'tt0077645', 'tt0079106', 'tt0078941', 'tt0078726', 'tt0078918', 'tt0079712', 'tt0079896', 'tt0079888', 'tt0080501', 'tt0080441', 'tt0080514', 'tt0080481', 'tt0079899', 'tt0080872', 'tt0082133', 'tt0082338', 'tt0082673', 'tt0082250', 'tt0082532', 'tt0078393', 'tt0082566', 'tt0083062', 'tt0084256', 'tt0084297', 'tt0084540', 'tt0084836', 'tt0083061', 'tt0083541', 'tt0085289', 'tt0085454', 'tt0085312', 'tt0084279', 'tt0085460', 'tt0085540', 'tt0084738', 'tt0083509', 'tt0086566', 'tt0088137', 'tt0087130', 'tt0066151', 'tt0081236', 'tt0084668', 'tt0086930', 'tt0089861', 'tt0087368', 'tt0089930', 'tt0090170', 'tt0088962', 'tt0090302', 'tt0089563', 'tt0091012', 'tt0090847', 'tt0090956', 'tt0090902', 'tt0090587', 'tt0092841', 'tt0092787', 'tt0093171', 'tt0091285', 'tt0093983', 'tt0092582', 'tt0093663', 'tt0090334', 'tt0094386', 'tt0094384', 'tt0094607', 'tt0092531', 'tt0094620', 'tt0090869', 'tt0092926', 'tt0094376', 'tt0094004', 'tt0093989', 'tt0095095', 'tt0095290', 'tt0096469', 'tt0094926', 'tt0097318', 'tt0097864', 'tt0095335', 'tt0097064', 'tt0099814', 'tt0099793', 'tt0100195', 'tt0101828', 'tt0101288', 'tt0102073', 'tt0096090', 'tt0101928', 'tt0105881', 'tt0109178', 'tt0109033', 'tt0109536']\n"
     ]
    }
   ],
   "source": [
    "df_action = pd.read_csv(\"../FASE_API_1/Action.csv\")\n",
    "\n",
    "print(df_action)\n",
    "\n",
    "idOwner = []\n",
    "\n",
    "for i in df_action[\"idOwner\"]:\n",
    "    idOwner.append(i)\n",
    "    \n",
    "\n",
    "print(idOwner)\n",
    "    "
   ]
  },
  {
   "cell_type": "code",
   "execution_count": 44,
   "metadata": {},
   "outputs": [],
   "source": [
    "# EXTRACCION DATOS IBDM Y LO GUARDAMOS EN LISTAS\n",
    "\n",
    "driver = webdriver.Chrome()\n",
    "\n",
    "driver.get('https://www.imdb.com/')\n",
    "\n",
    "driver.maximize_window()\n",
    "\n",
    "sleep (3)\n",
    "\n",
    "# aceptamos cookies\n",
    "\n",
    "driver.find_element('css selector','#__next > div > div > div.sc-jrcTuL.bPmWiM > div > button.icb-btn.sc-bcXHqe.sc-dkrFOg.sc-iBYQkv.dcvrLS.ddtuHe.dRCGjd').click()\n",
    "\n",
    "nota_imbd = []\n",
    "direccion = []\n",
    "guionista = []\n",
    "argumento = []\n",
    "duracion = []\n",
    "nombre = []\n",
    "\n",
    "\n",
    "for i in idOwner:\n",
    "        driver.find_element('css selector','#suggestion-search').send_keys(i, Keys.ENTER)\n",
    "        sleep(5)\n",
    "        \n",
    "        nombre.append(driver.find_element('css selector', '#__next > main > div > section.ipc-page-background.ipc-page-background--base.sc-c41b9732-0.NeSef > section > div:nth-child(5) > section > section > div.sc-491663c0-3.bdjVSf > div.sc-1f50b7c-0.PUxFE > h1 > span').text)\n",
    "        try: \n",
    "                nota_imbd.append(driver.find_element('xpath', '//*[@id=\"__next\"]/main/div/section[1]/section/div[3]/section/section/div[2]/div[2]/div/div[1]/a/span/div/div[2]/div[1]/span[1]').text)\n",
    "        except:\n",
    "                nota_imbd.append(None)\n",
    "\n",
    "        try:        \n",
    "                direccion.append(driver.find_element('css selector', '#__next > main > div > section.ipc-page-background.ipc-page-background--base.sc-c41b9732-0.NeSef > section > div:nth-child(5) > section > section > div.sc-491663c0-4.gEsAEH > div.sc-491663c0-6.eQRCDK > div.sc-491663c0-10.emoxHI > section > div.sc-1f50b7c-3.ZYFjc > div > ul > li:nth-child(1) > div > ul > li > a').text)                                                                                   \n",
    "                guionista.append(driver.find_element('css selector', '#__next > main > div > section.ipc-page-background.ipc-page-background--base.sc-c41b9732-0.NeSef > section > div:nth-child(5) > section > section > div.sc-491663c0-4.gEsAEH > div.sc-491663c0-6.eQRCDK > div.sc-491663c0-10.emoxHI > section > div.sc-1f50b7c-3.ZYFjc > div > ul > li:nth-child(2) > div').text)\n",
    "\n",
    "        except:\n",
    "\n",
    "                direccion.append(driver.find_element('css selector', '#__next > main > div > section.ipc-page-background.ipc-page-background--base.sc-c41b9732-0.NeSef > section > div:nth-child(5) > section > section > div.sc-491663c0-4.yjUiO > div.sc-491663c0-6.lnlBxO > div.sc-491663c0-10.rbXFE > section > div.sc-1f50b7c-3.ZYFjc > div > ul > li:nth-child(1) > div > ul > li > a').text)                                                  \n",
    "                guionista.append(driver.find_element('css selector', '#__next > main > div > section.ipc-page-background.ipc-page-background--base.sc-c41b9732-0.NeSef > section > div:nth-child(5) > section > section > div.sc-491663c0-4.yjUiO > div.sc-491663c0-6.lnlBxO > div.sc-491663c0-10.rbXFE > section > div.sc-1f50b7c-3.ZYFjc > div > ul > li:nth-child(2) > div > ul > li > a').text)                                                   \n",
    "\n",
    "\n",
    "        try: \n",
    "                duracion.append(driver.find_element('css selector', '#__next > main > div > section.ipc-page-background.ipc-page-background--base.sc-c41b9732-0.NeSef > section > div:nth-child(5) > section > section > div.sc-491663c0-3.bdjVSf > div.sc-1f50b7c-0.PUxFE > ul > li:nth-child(3)').text)\n",
    "        except:\n",
    "                try:\n",
    "                        duracion.append(driver.find_element('xpath', '//*[@id=\"__next\"]/main/div/section[1]/section/div[3]/section/section/div[2]/div[1]/ul/li[2]').text)\n",
    "                except:\n",
    "                        duracion.append(None)  \n",
    "  \n",
    "        try:\n",
    "                argumento.append(driver.find_element('css selector', '#__next > main > div > section.ipc-page-background.ipc-page-background--base.sc-c41b9732-0.NeSef > section > div:nth-child(5) > section > section > div.sc-491663c0-4.gEsAEH > div.sc-491663c0-6.eQRCDK > div.sc-491663c0-10.emoxHI > section > p > span.sc-2d37a7c7-2.PeLXr').text)\n",
    "        except:\n",
    "                argumento.append(driver.find_element('css selector', '#__next > main > div > section.ipc-page-background.ipc-page-background--base.sc-c41b9732-0.NeSef > section > div:nth-child(5) > section > section > div.sc-491663c0-4.yjUiO > div.sc-491663c0-6.lnlBxO > div.sc-491663c0-10.rbXFE > section > p > span.sc-2d37a7c7-2.PeLXr').text)\n",
    "\n",
    "driver.close()\n",
    "\n",
    "    \n",
    "\n"
   ]
  },
  {
   "cell_type": "code",
   "execution_count": 45,
   "metadata": {},
   "outputs": [
    {
     "name": "stdout",
     "output_type": "stream",
     "text": [
      "['Cuando se descubre petróleo en un pequeño pueblo, unos codiciosos buscadores contratan salvajes moteros para ahuyentar a los habitantes. Sin embargo, cuando un grupo de jóvenes pilotos se topa con la trama, planean una represalia.', 'Mientras investigaba la muerte de su amigo Chin Ku, Billy Lo es muerto. Su hermano menor, Bobby Lo, investiga ambas muertes', 'The Wu Tang chief sends out his men, each of whom is given a symbol so they can recognize each other. The largest is given to Lee, whom the others are to obey.', 'Dos agentes de la CIA, un maestro de kung fu y un mujeriego elegante, siguen la pista de la fórmula robada de una droga superesterilizante desde España hasta Hong Kong, luchando contra terroristas neonazis.', 'The life of workers and their families in a construction site of a highway in 1965.', \"After killing his underworld boss, a man turns to the CIA for help, but finds the opposite extreme of terrorism, as he must answer to the CIA's double cross demands for the return of his kidnapped family.\", 'A new bandit with superb kung fu causes panic and fear among the merchants of Wuiyang County. The merchants hire Wu Chin Ping to escort boxes of beautiful and previous stones to Wuiyang County. Wu gathers a group of experienced and courageous martial artists to protect the treasure and kill the masked bandit.', 'Una espada samurái de acero que iba a ser entregada al embajador americano por el emperador de Japón es robada. Marineros estadounidenses y samuráis japoneses son enviados a buscarla.', 'After serving his sentence, \"perro\" returns to his old neighborhood.', \"The third installment of The Brave Archer series brings Guo Jing and Huang Rong closer together as they struggle to find a cure for the Iron Palm Clan's deadly blows.\"]\n"
     ]
    }
   ],
   "source": [
    "print(argumento)"
   ]
  },
  {
   "cell_type": "code",
   "execution_count": 20,
   "metadata": {},
   "outputs": [],
   "source": [
    "argumento = []\n",
    "\n",
    "#argumento.append(driver.find_element('css selector', '#__next > main > div > section.ipc-page-background.ipc-page-background--base.sc-c41b9732-0.NeSef > section > div:nth-child(5) > section > section > div.sc-491663c0-4.gEsAEH > div.sc-491663c0-6.eQRCDK > div.sc-491663c0-10.emoxHI > section > p > span.sc-2d37a7c7-1.eSoBYy').text)\n",
    "\n",
    "argumento.append(driver.find_element('css selector', '#__next > main > div > section.ipc-page-background.ipc-page-background--base.sc-c41b9732-0.NeSef > section > div:nth-child(5) > section > section > div.sc-491663c0-4.gEsAEH > div.sc-491663c0-6.eQRCDK > div.sc-491663c0-10.emoxHI > section > p').text)\n",
    "\n",
    "\n",
    "\n",
    "\n"
   ]
  },
  {
   "cell_type": "code",
   "execution_count": 21,
   "metadata": {},
   "outputs": [
    {
     "name": "stdout",
     "output_type": "stream",
     "text": [
      "['Cuando se descubre petróleo en un pequeño pueblo, unos codiciosos buscadores contratan salvajes moteros para ahuyentar a los habitantes. Sin embargo, cuando un grupo de jóvenes pilotos se topa con la trama, planean una represalia.']\n"
     ]
    }
   ],
   "source": [
    "print(argumento)"
   ]
  },
  {
   "cell_type": "code",
   "execution_count": 12,
   "metadata": {},
   "outputs": [
    {
     "ename": "NoSuchElementException",
     "evalue": "Message: no such element: Unable to locate element: {\"method\":\"xpath\",\"selector\":\"//*[@id=\"__next\"]/main/div/section[1]/div/section/div/div[1]/section[4]/div[2]/div[1]/div/div/div\"}\n  (Session info: chrome=126.0.6478.127); For documentation on this error, please visit: https://www.selenium.dev/documentation/webdriver/troubleshooting/errors#no-such-element-exception\nStacktrace:\n\tGetHandleVerifier [0x00007FF60F38EEB2+31554]\n\t(No symbol) [0x00007FF60F307EE9]\n\t(No symbol) [0x00007FF60F1C872A]\n\t(No symbol) [0x00007FF60F218434]\n\t(No symbol) [0x00007FF60F21853C]\n\t(No symbol) [0x00007FF60F25F6A7]\n\t(No symbol) [0x00007FF60F23D06F]\n\t(No symbol) [0x00007FF60F25C977]\n\t(No symbol) [0x00007FF60F23CDD3]\n\t(No symbol) [0x00007FF60F20A33B]\n\t(No symbol) [0x00007FF60F20AED1]\n\tGetHandleVerifier [0x00007FF60F698B2D+3217341]\n\tGetHandleVerifier [0x00007FF60F6E5AF3+3532675]\n\tGetHandleVerifier [0x00007FF60F6DB0F0+3489152]\n\tGetHandleVerifier [0x00007FF60F43E786+750614]\n\t(No symbol) [0x00007FF60F31376F]\n\t(No symbol) [0x00007FF60F30EB24]\n\t(No symbol) [0x00007FF60F30ECB2]\n\t(No symbol) [0x00007FF60F2FE17F]\n\tBaseThreadInitThunk [0x00007FFB00FF257D+29]\n\tRtlUserThreadStart [0x00007FFB01D4AF28+40]\n",
     "output_type": "error",
     "traceback": [
      "\u001b[1;31m---------------------------------------------------------------------------\u001b[0m",
      "\u001b[1;31mNoSuchElementException\u001b[0m                    Traceback (most recent call last)",
      "Cell \u001b[1;32mIn[12], line 1\u001b[0m\n\u001b[1;32m----> 1\u001b[0m argumento\u001b[38;5;241m.\u001b[39mappend(\u001b[43mdriver\u001b[49m\u001b[38;5;241;43m.\u001b[39;49m\u001b[43mfind_element\u001b[49m\u001b[43m(\u001b[49m\u001b[38;5;124;43m'\u001b[39;49m\u001b[38;5;124;43mxpath\u001b[39;49m\u001b[38;5;124;43m'\u001b[39;49m\u001b[43m,\u001b[49m\u001b[43m \u001b[49m\u001b[38;5;124;43m'\u001b[39;49m\u001b[38;5;124;43m//*[@id=\u001b[39;49m\u001b[38;5;124;43m\"\u001b[39;49m\u001b[38;5;124;43m__next\u001b[39;49m\u001b[38;5;124;43m\"\u001b[39;49m\u001b[38;5;124;43m]/main/div/section[1]/div/section/div/div[1]/section[4]/div[2]/div[1]/div/div/div\u001b[39;49m\u001b[38;5;124;43m'\u001b[39;49m\u001b[43m)\u001b[49m\u001b[38;5;241m.\u001b[39mtext)\n\u001b[0;32m      2\u001b[0m \u001b[38;5;66;03m#__next > main > div > section.ipc-page-background.ipc-page-background--base.sc-c41b9732-0.NeSef > div > section > div > div.sc-978e9339-1.ihWZgK.ipc-page-grid__item.ipc-page-grid__item--span-2 > section:nth-child(19) > div.sc-20579f43-0.kJbyJL > div.ipc-overflowText.ipc-overflowText--pageSection.ipc-overflowText--base > div > div > div\u001b[39;00m\n",
      "File \u001b[1;32m~\\AppData\\Local\\Packages\\PythonSoftwareFoundation.Python.3.11_qbz5n2kfra8p0\\LocalCache\\local-packages\\Python311\\site-packages\\selenium\\webdriver\\remote\\webdriver.py:741\u001b[0m, in \u001b[0;36mWebDriver.find_element\u001b[1;34m(self, by, value)\u001b[0m\n\u001b[0;32m    738\u001b[0m     by \u001b[38;5;241m=\u001b[39m By\u001b[38;5;241m.\u001b[39mCSS_SELECTOR\n\u001b[0;32m    739\u001b[0m     value \u001b[38;5;241m=\u001b[39m \u001b[38;5;124mf\u001b[39m\u001b[38;5;124m'\u001b[39m\u001b[38;5;124m[name=\u001b[39m\u001b[38;5;124m\"\u001b[39m\u001b[38;5;132;01m{\u001b[39;00mvalue\u001b[38;5;132;01m}\u001b[39;00m\u001b[38;5;124m\"\u001b[39m\u001b[38;5;124m]\u001b[39m\u001b[38;5;124m'\u001b[39m\n\u001b[1;32m--> 741\u001b[0m \u001b[38;5;28;01mreturn\u001b[39;00m \u001b[38;5;28;43mself\u001b[39;49m\u001b[38;5;241;43m.\u001b[39;49m\u001b[43mexecute\u001b[49m\u001b[43m(\u001b[49m\u001b[43mCommand\u001b[49m\u001b[38;5;241;43m.\u001b[39;49m\u001b[43mFIND_ELEMENT\u001b[49m\u001b[43m,\u001b[49m\u001b[43m \u001b[49m\u001b[43m{\u001b[49m\u001b[38;5;124;43m\"\u001b[39;49m\u001b[38;5;124;43musing\u001b[39;49m\u001b[38;5;124;43m\"\u001b[39;49m\u001b[43m:\u001b[49m\u001b[43m \u001b[49m\u001b[43mby\u001b[49m\u001b[43m,\u001b[49m\u001b[43m \u001b[49m\u001b[38;5;124;43m\"\u001b[39;49m\u001b[38;5;124;43mvalue\u001b[39;49m\u001b[38;5;124;43m\"\u001b[39;49m\u001b[43m:\u001b[49m\u001b[43m \u001b[49m\u001b[43mvalue\u001b[49m\u001b[43m}\u001b[49m\u001b[43m)\u001b[49m[\u001b[38;5;124m\"\u001b[39m\u001b[38;5;124mvalue\u001b[39m\u001b[38;5;124m\"\u001b[39m]\n",
      "File \u001b[1;32m~\\AppData\\Local\\Packages\\PythonSoftwareFoundation.Python.3.11_qbz5n2kfra8p0\\LocalCache\\local-packages\\Python311\\site-packages\\selenium\\webdriver\\remote\\webdriver.py:347\u001b[0m, in \u001b[0;36mWebDriver.execute\u001b[1;34m(self, driver_command, params)\u001b[0m\n\u001b[0;32m    345\u001b[0m response \u001b[38;5;241m=\u001b[39m \u001b[38;5;28mself\u001b[39m\u001b[38;5;241m.\u001b[39mcommand_executor\u001b[38;5;241m.\u001b[39mexecute(driver_command, params)\n\u001b[0;32m    346\u001b[0m \u001b[38;5;28;01mif\u001b[39;00m response:\n\u001b[1;32m--> 347\u001b[0m     \u001b[38;5;28;43mself\u001b[39;49m\u001b[38;5;241;43m.\u001b[39;49m\u001b[43merror_handler\u001b[49m\u001b[38;5;241;43m.\u001b[39;49m\u001b[43mcheck_response\u001b[49m\u001b[43m(\u001b[49m\u001b[43mresponse\u001b[49m\u001b[43m)\u001b[49m\n\u001b[0;32m    348\u001b[0m     response[\u001b[38;5;124m\"\u001b[39m\u001b[38;5;124mvalue\u001b[39m\u001b[38;5;124m\"\u001b[39m] \u001b[38;5;241m=\u001b[39m \u001b[38;5;28mself\u001b[39m\u001b[38;5;241m.\u001b[39m_unwrap_value(response\u001b[38;5;241m.\u001b[39mget(\u001b[38;5;124m\"\u001b[39m\u001b[38;5;124mvalue\u001b[39m\u001b[38;5;124m\"\u001b[39m, \u001b[38;5;28;01mNone\u001b[39;00m))\n\u001b[0;32m    349\u001b[0m     \u001b[38;5;28;01mreturn\u001b[39;00m response\n",
      "File \u001b[1;32m~\\AppData\\Local\\Packages\\PythonSoftwareFoundation.Python.3.11_qbz5n2kfra8p0\\LocalCache\\local-packages\\Python311\\site-packages\\selenium\\webdriver\\remote\\errorhandler.py:229\u001b[0m, in \u001b[0;36mErrorHandler.check_response\u001b[1;34m(self, response)\u001b[0m\n\u001b[0;32m    227\u001b[0m         alert_text \u001b[38;5;241m=\u001b[39m value[\u001b[38;5;124m\"\u001b[39m\u001b[38;5;124malert\u001b[39m\u001b[38;5;124m\"\u001b[39m]\u001b[38;5;241m.\u001b[39mget(\u001b[38;5;124m\"\u001b[39m\u001b[38;5;124mtext\u001b[39m\u001b[38;5;124m\"\u001b[39m)\n\u001b[0;32m    228\u001b[0m     \u001b[38;5;28;01mraise\u001b[39;00m exception_class(message, screen, stacktrace, alert_text)  \u001b[38;5;66;03m# type: ignore[call-arg]  # mypy is not smart enough here\u001b[39;00m\n\u001b[1;32m--> 229\u001b[0m \u001b[38;5;28;01mraise\u001b[39;00m exception_class(message, screen, stacktrace)\n",
      "\u001b[1;31mNoSuchElementException\u001b[0m: Message: no such element: Unable to locate element: {\"method\":\"xpath\",\"selector\":\"//*[@id=\"__next\"]/main/div/section[1]/div/section/div/div[1]/section[4]/div[2]/div[1]/div/div/div\"}\n  (Session info: chrome=126.0.6478.127); For documentation on this error, please visit: https://www.selenium.dev/documentation/webdriver/troubleshooting/errors#no-such-element-exception\nStacktrace:\n\tGetHandleVerifier [0x00007FF60F38EEB2+31554]\n\t(No symbol) [0x00007FF60F307EE9]\n\t(No symbol) [0x00007FF60F1C872A]\n\t(No symbol) [0x00007FF60F218434]\n\t(No symbol) [0x00007FF60F21853C]\n\t(No symbol) [0x00007FF60F25F6A7]\n\t(No symbol) [0x00007FF60F23D06F]\n\t(No symbol) [0x00007FF60F25C977]\n\t(No symbol) [0x00007FF60F23CDD3]\n\t(No symbol) [0x00007FF60F20A33B]\n\t(No symbol) [0x00007FF60F20AED1]\n\tGetHandleVerifier [0x00007FF60F698B2D+3217341]\n\tGetHandleVerifier [0x00007FF60F6E5AF3+3532675]\n\tGetHandleVerifier [0x00007FF60F6DB0F0+3489152]\n\tGetHandleVerifier [0x00007FF60F43E786+750614]\n\t(No symbol) [0x00007FF60F31376F]\n\t(No symbol) [0x00007FF60F30EB24]\n\t(No symbol) [0x00007FF60F30ECB2]\n\t(No symbol) [0x00007FF60F2FE17F]\n\tBaseThreadInitThunk [0x00007FFB00FF257D+29]\n\tRtlUserThreadStart [0x00007FFB01D4AF28+40]\n"
     ]
    }
   ],
   "source": [
    "argumento.append(driver.find_element('xpath', '//*[@id=\"__next\"]/main/div/section[1]/div/section/div/div[1]/section[4]/div[2]/div[1]/div/div/div').text)\n",
    "#__next > main > div > section.ipc-page-background.ipc-page-background--base.sc-c41b9732-0.NeSef > div > section > div > div.sc-978e9339-1.ihWZgK.ipc-page-grid__item.ipc-page-grid__item--span-2 > section:nth-child(19) > div.sc-20579f43-0.kJbyJL > div.ipc-overflowText.ipc-overflowText--pageSection.ipc-overflowText--base > div > div > div"
   ]
  },
  {
   "cell_type": "code",
   "execution_count": 5,
   "metadata": {},
   "outputs": [
    {
     "ename": "NoSuchElementException",
     "evalue": "Message: no such element: Unable to locate element: {\"method\":\"xpath\",\"selector\":\"//*[@id=\"__next\"]/main/div/section[1]/div/section/div/div[1]/section[4]/div[2]/div[1]/div/div/div\"}\n  (Session info: chrome=126.0.6478.127); For documentation on this error, please visit: https://www.selenium.dev/documentation/webdriver/troubleshooting/errors#no-such-element-exception\nStacktrace:\n\tGetHandleVerifier [0x00007FF60F38EEB2+31554]\n\t(No symbol) [0x00007FF60F307EE9]\n\t(No symbol) [0x00007FF60F1C872A]\n\t(No symbol) [0x00007FF60F218434]\n\t(No symbol) [0x00007FF60F21853C]\n\t(No symbol) [0x00007FF60F25F6A7]\n\t(No symbol) [0x00007FF60F23D06F]\n\t(No symbol) [0x00007FF60F25C977]\n\t(No symbol) [0x00007FF60F23CDD3]\n\t(No symbol) [0x00007FF60F20A33B]\n\t(No symbol) [0x00007FF60F20AED1]\n\tGetHandleVerifier [0x00007FF60F698B2D+3217341]\n\tGetHandleVerifier [0x00007FF60F6E5AF3+3532675]\n\tGetHandleVerifier [0x00007FF60F6DB0F0+3489152]\n\tGetHandleVerifier [0x00007FF60F43E786+750614]\n\t(No symbol) [0x00007FF60F31376F]\n\t(No symbol) [0x00007FF60F30EB24]\n\t(No symbol) [0x00007FF60F30ECB2]\n\t(No symbol) [0x00007FF60F2FE17F]\n\tBaseThreadInitThunk [0x00007FFB00FF257D+29]\n\tRtlUserThreadStart [0x00007FFB01D4AF28+40]\n",
     "output_type": "error",
     "traceback": [
      "\u001b[1;31m---------------------------------------------------------------------------\u001b[0m",
      "\u001b[1;31mNoSuchElementException\u001b[0m                    Traceback (most recent call last)",
      "Cell \u001b[1;32mIn[5], line 3\u001b[0m\n\u001b[0;32m      1\u001b[0m argumento \u001b[38;5;241m=\u001b[39m []\n\u001b[0;32m      2\u001b[0m \u001b[38;5;66;03m# argumento.append(driver.find_element('css selector', '#__next > main > div > section.ipc-page-background.ipc-page-background--base.sc-c41b9732-0.NeSef > div > section > div > div.sc-978e9339-1.ihWZgK.ipc-page-grid__item.ipc-page-grid__item--span-2 > section:nth-child(19) > div.sc-20579f43-0.kJbyJL > div.ipc-overflowText.ipc-overflowText--pageSection.ipc-overflowText--base > div > div > div').text)\u001b[39;00m\n\u001b[1;32m----> 3\u001b[0m argumento\u001b[38;5;241m.\u001b[39mappend(\u001b[43mdriver\u001b[49m\u001b[38;5;241;43m.\u001b[39;49m\u001b[43mfind_element\u001b[49m\u001b[43m(\u001b[49m\u001b[38;5;124;43m'\u001b[39;49m\u001b[38;5;124;43mxpath\u001b[39;49m\u001b[38;5;124;43m'\u001b[39;49m\u001b[43m,\u001b[49m\u001b[43m \u001b[49m\u001b[38;5;124;43m'\u001b[39;49m\u001b[38;5;124;43m//*[@id=\u001b[39;49m\u001b[38;5;124;43m\"\u001b[39;49m\u001b[38;5;124;43m__next\u001b[39;49m\u001b[38;5;124;43m\"\u001b[39;49m\u001b[38;5;124;43m]/main/div/section[1]/div/section/div/div[1]/section[4]/div[2]/div[1]/div/div/div\u001b[39;49m\u001b[38;5;124;43m'\u001b[39;49m\u001b[43m)\u001b[49m\u001b[38;5;241m.\u001b[39mtext)\n",
      "File \u001b[1;32m~\\AppData\\Local\\Packages\\PythonSoftwareFoundation.Python.3.11_qbz5n2kfra8p0\\LocalCache\\local-packages\\Python311\\site-packages\\selenium\\webdriver\\remote\\webdriver.py:741\u001b[0m, in \u001b[0;36mWebDriver.find_element\u001b[1;34m(self, by, value)\u001b[0m\n\u001b[0;32m    738\u001b[0m     by \u001b[38;5;241m=\u001b[39m By\u001b[38;5;241m.\u001b[39mCSS_SELECTOR\n\u001b[0;32m    739\u001b[0m     value \u001b[38;5;241m=\u001b[39m \u001b[38;5;124mf\u001b[39m\u001b[38;5;124m'\u001b[39m\u001b[38;5;124m[name=\u001b[39m\u001b[38;5;124m\"\u001b[39m\u001b[38;5;132;01m{\u001b[39;00mvalue\u001b[38;5;132;01m}\u001b[39;00m\u001b[38;5;124m\"\u001b[39m\u001b[38;5;124m]\u001b[39m\u001b[38;5;124m'\u001b[39m\n\u001b[1;32m--> 741\u001b[0m \u001b[38;5;28;01mreturn\u001b[39;00m \u001b[38;5;28;43mself\u001b[39;49m\u001b[38;5;241;43m.\u001b[39;49m\u001b[43mexecute\u001b[49m\u001b[43m(\u001b[49m\u001b[43mCommand\u001b[49m\u001b[38;5;241;43m.\u001b[39;49m\u001b[43mFIND_ELEMENT\u001b[49m\u001b[43m,\u001b[49m\u001b[43m \u001b[49m\u001b[43m{\u001b[49m\u001b[38;5;124;43m\"\u001b[39;49m\u001b[38;5;124;43musing\u001b[39;49m\u001b[38;5;124;43m\"\u001b[39;49m\u001b[43m:\u001b[49m\u001b[43m \u001b[49m\u001b[43mby\u001b[49m\u001b[43m,\u001b[49m\u001b[43m \u001b[49m\u001b[38;5;124;43m\"\u001b[39;49m\u001b[38;5;124;43mvalue\u001b[39;49m\u001b[38;5;124;43m\"\u001b[39;49m\u001b[43m:\u001b[49m\u001b[43m \u001b[49m\u001b[43mvalue\u001b[49m\u001b[43m}\u001b[49m\u001b[43m)\u001b[49m[\u001b[38;5;124m\"\u001b[39m\u001b[38;5;124mvalue\u001b[39m\u001b[38;5;124m\"\u001b[39m]\n",
      "File \u001b[1;32m~\\AppData\\Local\\Packages\\PythonSoftwareFoundation.Python.3.11_qbz5n2kfra8p0\\LocalCache\\local-packages\\Python311\\site-packages\\selenium\\webdriver\\remote\\webdriver.py:347\u001b[0m, in \u001b[0;36mWebDriver.execute\u001b[1;34m(self, driver_command, params)\u001b[0m\n\u001b[0;32m    345\u001b[0m response \u001b[38;5;241m=\u001b[39m \u001b[38;5;28mself\u001b[39m\u001b[38;5;241m.\u001b[39mcommand_executor\u001b[38;5;241m.\u001b[39mexecute(driver_command, params)\n\u001b[0;32m    346\u001b[0m \u001b[38;5;28;01mif\u001b[39;00m response:\n\u001b[1;32m--> 347\u001b[0m     \u001b[38;5;28;43mself\u001b[39;49m\u001b[38;5;241;43m.\u001b[39;49m\u001b[43merror_handler\u001b[49m\u001b[38;5;241;43m.\u001b[39;49m\u001b[43mcheck_response\u001b[49m\u001b[43m(\u001b[49m\u001b[43mresponse\u001b[49m\u001b[43m)\u001b[49m\n\u001b[0;32m    348\u001b[0m     response[\u001b[38;5;124m\"\u001b[39m\u001b[38;5;124mvalue\u001b[39m\u001b[38;5;124m\"\u001b[39m] \u001b[38;5;241m=\u001b[39m \u001b[38;5;28mself\u001b[39m\u001b[38;5;241m.\u001b[39m_unwrap_value(response\u001b[38;5;241m.\u001b[39mget(\u001b[38;5;124m\"\u001b[39m\u001b[38;5;124mvalue\u001b[39m\u001b[38;5;124m\"\u001b[39m, \u001b[38;5;28;01mNone\u001b[39;00m))\n\u001b[0;32m    349\u001b[0m     \u001b[38;5;28;01mreturn\u001b[39;00m response\n",
      "File \u001b[1;32m~\\AppData\\Local\\Packages\\PythonSoftwareFoundation.Python.3.11_qbz5n2kfra8p0\\LocalCache\\local-packages\\Python311\\site-packages\\selenium\\webdriver\\remote\\errorhandler.py:229\u001b[0m, in \u001b[0;36mErrorHandler.check_response\u001b[1;34m(self, response)\u001b[0m\n\u001b[0;32m    227\u001b[0m         alert_text \u001b[38;5;241m=\u001b[39m value[\u001b[38;5;124m\"\u001b[39m\u001b[38;5;124malert\u001b[39m\u001b[38;5;124m\"\u001b[39m]\u001b[38;5;241m.\u001b[39mget(\u001b[38;5;124m\"\u001b[39m\u001b[38;5;124mtext\u001b[39m\u001b[38;5;124m\"\u001b[39m)\n\u001b[0;32m    228\u001b[0m     \u001b[38;5;28;01mraise\u001b[39;00m exception_class(message, screen, stacktrace, alert_text)  \u001b[38;5;66;03m# type: ignore[call-arg]  # mypy is not smart enough here\u001b[39;00m\n\u001b[1;32m--> 229\u001b[0m \u001b[38;5;28;01mraise\u001b[39;00m exception_class(message, screen, stacktrace)\n",
      "\u001b[1;31mNoSuchElementException\u001b[0m: Message: no such element: Unable to locate element: {\"method\":\"xpath\",\"selector\":\"//*[@id=\"__next\"]/main/div/section[1]/div/section/div/div[1]/section[4]/div[2]/div[1]/div/div/div\"}\n  (Session info: chrome=126.0.6478.127); For documentation on this error, please visit: https://www.selenium.dev/documentation/webdriver/troubleshooting/errors#no-such-element-exception\nStacktrace:\n\tGetHandleVerifier [0x00007FF60F38EEB2+31554]\n\t(No symbol) [0x00007FF60F307EE9]\n\t(No symbol) [0x00007FF60F1C872A]\n\t(No symbol) [0x00007FF60F218434]\n\t(No symbol) [0x00007FF60F21853C]\n\t(No symbol) [0x00007FF60F25F6A7]\n\t(No symbol) [0x00007FF60F23D06F]\n\t(No symbol) [0x00007FF60F25C977]\n\t(No symbol) [0x00007FF60F23CDD3]\n\t(No symbol) [0x00007FF60F20A33B]\n\t(No symbol) [0x00007FF60F20AED1]\n\tGetHandleVerifier [0x00007FF60F698B2D+3217341]\n\tGetHandleVerifier [0x00007FF60F6E5AF3+3532675]\n\tGetHandleVerifier [0x00007FF60F6DB0F0+3489152]\n\tGetHandleVerifier [0x00007FF60F43E786+750614]\n\t(No symbol) [0x00007FF60F31376F]\n\t(No symbol) [0x00007FF60F30EB24]\n\t(No symbol) [0x00007FF60F30ECB2]\n\t(No symbol) [0x00007FF60F2FE17F]\n\tBaseThreadInitThunk [0x00007FFB00FF257D+29]\n\tRtlUserThreadStart [0x00007FFB01D4AF28+40]\n"
     ]
    }
   ],
   "source": [
    "argumento = []\n",
    "# argumento.append(driver.find_element('css selector', '#__next > main > div > section.ipc-page-background.ipc-page-background--base.sc-c41b9732-0.NeSef > div > section > div > div.sc-978e9339-1.ihWZgK.ipc-page-grid__item.ipc-page-grid__item--span-2 > section:nth-child(19) > div.sc-20579f43-0.kJbyJL > div.ipc-overflowText.ipc-overflowText--pageSection.ipc-overflowText--base > div > div > div').text)\n",
    "argumento.append(driver.find_element('xpath', '//*[@id=\"__next\"]/main/div/section[1]/div/section/div/div[1]/section[4]/div[2]/div[1]/div/div/div').text)\n",
    "\n"
   ]
  },
  {
   "cell_type": "code",
   "execution_count": 89,
   "metadata": {},
   "outputs": [
    {
     "name": "stdout",
     "output_type": "stream",
     "text": [
      "['The Wu Tang chief sends out his men, each of whom is given a symbol so they can recognize each other. The largest is given to Lee, whom the others are to obey.']\n"
     ]
    }
   ],
   "source": [
    "print(argumento)"
   ]
  },
  {
   "cell_type": "code",
   "execution_count": 6,
   "metadata": {},
   "outputs": [
    {
     "ename": "NoSuchElementException",
     "evalue": "Message: no such element: Unable to locate element: {\"method\":\"css selector\",\"selector\":\"#__next > main > div > section.ipc-page-background.ipc-page-background--base.sc-c41b9732-0.NeSef > div > section > div > div.sc-978e9339-1.ihWZgK.ipc-page-grid__item.ipc-page-grid__item--span-2 > section:nth-child(19) > div.sc-20579f43-0.kJbyJL > div.ipc-overflowText.ipc-overflowText--pageSection.ipc-overflowText--base > div > div > div\"}\n  (Session info: chrome=126.0.6478.127); For documentation on this error, please visit: https://www.selenium.dev/documentation/webdriver/troubleshooting/errors#no-such-element-exception\nStacktrace:\n\tGetHandleVerifier [0x00007FF60F38EEB2+31554]\n\t(No symbol) [0x00007FF60F307EE9]\n\t(No symbol) [0x00007FF60F1C872A]\n\t(No symbol) [0x00007FF60F218434]\n\t(No symbol) [0x00007FF60F21853C]\n\t(No symbol) [0x00007FF60F25F6A7]\n\t(No symbol) [0x00007FF60F23D06F]\n\t(No symbol) [0x00007FF60F25C977]\n\t(No symbol) [0x00007FF60F23CDD3]\n\t(No symbol) [0x00007FF60F20A33B]\n\t(No symbol) [0x00007FF60F20AED1]\n\tGetHandleVerifier [0x00007FF60F698B2D+3217341]\n\tGetHandleVerifier [0x00007FF60F6E5AF3+3532675]\n\tGetHandleVerifier [0x00007FF60F6DB0F0+3489152]\n\tGetHandleVerifier [0x00007FF60F43E786+750614]\n\t(No symbol) [0x00007FF60F31376F]\n\t(No symbol) [0x00007FF60F30EB24]\n\t(No symbol) [0x00007FF60F30ECB2]\n\t(No symbol) [0x00007FF60F2FE17F]\n\tBaseThreadInitThunk [0x00007FFB00FF257D+29]\n\tRtlUserThreadStart [0x00007FFB01D4AF28+40]\n",
     "output_type": "error",
     "traceback": [
      "\u001b[1;31m---------------------------------------------------------------------------\u001b[0m",
      "\u001b[1;31mNoSuchElementException\u001b[0m                    Traceback (most recent call last)",
      "Cell \u001b[1;32mIn[6], line 1\u001b[0m\n\u001b[1;32m----> 1\u001b[0m argumento\u001b[38;5;241m.\u001b[39mappend(\u001b[43mdriver\u001b[49m\u001b[38;5;241;43m.\u001b[39;49m\u001b[43mfind_element\u001b[49m\u001b[43m(\u001b[49m\u001b[38;5;124;43m'\u001b[39;49m\u001b[38;5;124;43mcss selector\u001b[39;49m\u001b[38;5;124;43m'\u001b[39;49m\u001b[43m,\u001b[49m\u001b[43m \u001b[49m\u001b[38;5;124;43m'\u001b[39;49m\u001b[38;5;124;43m#__next > main > div > section.ipc-page-background.ipc-page-background--base.sc-c41b9732-0.NeSef > div > section > div > div.sc-978e9339-1.ihWZgK.ipc-page-grid__item.ipc-page-grid__item--span-2 > section:nth-child(19) > div.sc-20579f43-0.kJbyJL > div.ipc-overflowText.ipc-overflowText--pageSection.ipc-overflowText--base > div > div > div\u001b[39;49m\u001b[38;5;124;43m'\u001b[39;49m\u001b[43m)\u001b[49m\u001b[38;5;241m.\u001b[39mtext)\n",
      "File \u001b[1;32m~\\AppData\\Local\\Packages\\PythonSoftwareFoundation.Python.3.11_qbz5n2kfra8p0\\LocalCache\\local-packages\\Python311\\site-packages\\selenium\\webdriver\\remote\\webdriver.py:741\u001b[0m, in \u001b[0;36mWebDriver.find_element\u001b[1;34m(self, by, value)\u001b[0m\n\u001b[0;32m    738\u001b[0m     by \u001b[38;5;241m=\u001b[39m By\u001b[38;5;241m.\u001b[39mCSS_SELECTOR\n\u001b[0;32m    739\u001b[0m     value \u001b[38;5;241m=\u001b[39m \u001b[38;5;124mf\u001b[39m\u001b[38;5;124m'\u001b[39m\u001b[38;5;124m[name=\u001b[39m\u001b[38;5;124m\"\u001b[39m\u001b[38;5;132;01m{\u001b[39;00mvalue\u001b[38;5;132;01m}\u001b[39;00m\u001b[38;5;124m\"\u001b[39m\u001b[38;5;124m]\u001b[39m\u001b[38;5;124m'\u001b[39m\n\u001b[1;32m--> 741\u001b[0m \u001b[38;5;28;01mreturn\u001b[39;00m \u001b[38;5;28;43mself\u001b[39;49m\u001b[38;5;241;43m.\u001b[39;49m\u001b[43mexecute\u001b[49m\u001b[43m(\u001b[49m\u001b[43mCommand\u001b[49m\u001b[38;5;241;43m.\u001b[39;49m\u001b[43mFIND_ELEMENT\u001b[49m\u001b[43m,\u001b[49m\u001b[43m \u001b[49m\u001b[43m{\u001b[49m\u001b[38;5;124;43m\"\u001b[39;49m\u001b[38;5;124;43musing\u001b[39;49m\u001b[38;5;124;43m\"\u001b[39;49m\u001b[43m:\u001b[49m\u001b[43m \u001b[49m\u001b[43mby\u001b[49m\u001b[43m,\u001b[49m\u001b[43m \u001b[49m\u001b[38;5;124;43m\"\u001b[39;49m\u001b[38;5;124;43mvalue\u001b[39;49m\u001b[38;5;124;43m\"\u001b[39;49m\u001b[43m:\u001b[49m\u001b[43m \u001b[49m\u001b[43mvalue\u001b[49m\u001b[43m}\u001b[49m\u001b[43m)\u001b[49m[\u001b[38;5;124m\"\u001b[39m\u001b[38;5;124mvalue\u001b[39m\u001b[38;5;124m\"\u001b[39m]\n",
      "File \u001b[1;32m~\\AppData\\Local\\Packages\\PythonSoftwareFoundation.Python.3.11_qbz5n2kfra8p0\\LocalCache\\local-packages\\Python311\\site-packages\\selenium\\webdriver\\remote\\webdriver.py:347\u001b[0m, in \u001b[0;36mWebDriver.execute\u001b[1;34m(self, driver_command, params)\u001b[0m\n\u001b[0;32m    345\u001b[0m response \u001b[38;5;241m=\u001b[39m \u001b[38;5;28mself\u001b[39m\u001b[38;5;241m.\u001b[39mcommand_executor\u001b[38;5;241m.\u001b[39mexecute(driver_command, params)\n\u001b[0;32m    346\u001b[0m \u001b[38;5;28;01mif\u001b[39;00m response:\n\u001b[1;32m--> 347\u001b[0m     \u001b[38;5;28;43mself\u001b[39;49m\u001b[38;5;241;43m.\u001b[39;49m\u001b[43merror_handler\u001b[49m\u001b[38;5;241;43m.\u001b[39;49m\u001b[43mcheck_response\u001b[49m\u001b[43m(\u001b[49m\u001b[43mresponse\u001b[49m\u001b[43m)\u001b[49m\n\u001b[0;32m    348\u001b[0m     response[\u001b[38;5;124m\"\u001b[39m\u001b[38;5;124mvalue\u001b[39m\u001b[38;5;124m\"\u001b[39m] \u001b[38;5;241m=\u001b[39m \u001b[38;5;28mself\u001b[39m\u001b[38;5;241m.\u001b[39m_unwrap_value(response\u001b[38;5;241m.\u001b[39mget(\u001b[38;5;124m\"\u001b[39m\u001b[38;5;124mvalue\u001b[39m\u001b[38;5;124m\"\u001b[39m, \u001b[38;5;28;01mNone\u001b[39;00m))\n\u001b[0;32m    349\u001b[0m     \u001b[38;5;28;01mreturn\u001b[39;00m response\n",
      "File \u001b[1;32m~\\AppData\\Local\\Packages\\PythonSoftwareFoundation.Python.3.11_qbz5n2kfra8p0\\LocalCache\\local-packages\\Python311\\site-packages\\selenium\\webdriver\\remote\\errorhandler.py:229\u001b[0m, in \u001b[0;36mErrorHandler.check_response\u001b[1;34m(self, response)\u001b[0m\n\u001b[0;32m    227\u001b[0m         alert_text \u001b[38;5;241m=\u001b[39m value[\u001b[38;5;124m\"\u001b[39m\u001b[38;5;124malert\u001b[39m\u001b[38;5;124m\"\u001b[39m]\u001b[38;5;241m.\u001b[39mget(\u001b[38;5;124m\"\u001b[39m\u001b[38;5;124mtext\u001b[39m\u001b[38;5;124m\"\u001b[39m)\n\u001b[0;32m    228\u001b[0m     \u001b[38;5;28;01mraise\u001b[39;00m exception_class(message, screen, stacktrace, alert_text)  \u001b[38;5;66;03m# type: ignore[call-arg]  # mypy is not smart enough here\u001b[39;00m\n\u001b[1;32m--> 229\u001b[0m \u001b[38;5;28;01mraise\u001b[39;00m exception_class(message, screen, stacktrace)\n",
      "\u001b[1;31mNoSuchElementException\u001b[0m: Message: no such element: Unable to locate element: {\"method\":\"css selector\",\"selector\":\"#__next > main > div > section.ipc-page-background.ipc-page-background--base.sc-c41b9732-0.NeSef > div > section > div > div.sc-978e9339-1.ihWZgK.ipc-page-grid__item.ipc-page-grid__item--span-2 > section:nth-child(19) > div.sc-20579f43-0.kJbyJL > div.ipc-overflowText.ipc-overflowText--pageSection.ipc-overflowText--base > div > div > div\"}\n  (Session info: chrome=126.0.6478.127); For documentation on this error, please visit: https://www.selenium.dev/documentation/webdriver/troubleshooting/errors#no-such-element-exception\nStacktrace:\n\tGetHandleVerifier [0x00007FF60F38EEB2+31554]\n\t(No symbol) [0x00007FF60F307EE9]\n\t(No symbol) [0x00007FF60F1C872A]\n\t(No symbol) [0x00007FF60F218434]\n\t(No symbol) [0x00007FF60F21853C]\n\t(No symbol) [0x00007FF60F25F6A7]\n\t(No symbol) [0x00007FF60F23D06F]\n\t(No symbol) [0x00007FF60F25C977]\n\t(No symbol) [0x00007FF60F23CDD3]\n\t(No symbol) [0x00007FF60F20A33B]\n\t(No symbol) [0x00007FF60F20AED1]\n\tGetHandleVerifier [0x00007FF60F698B2D+3217341]\n\tGetHandleVerifier [0x00007FF60F6E5AF3+3532675]\n\tGetHandleVerifier [0x00007FF60F6DB0F0+3489152]\n\tGetHandleVerifier [0x00007FF60F43E786+750614]\n\t(No symbol) [0x00007FF60F31376F]\n\t(No symbol) [0x00007FF60F30EB24]\n\t(No symbol) [0x00007FF60F30ECB2]\n\t(No symbol) [0x00007FF60F2FE17F]\n\tBaseThreadInitThunk [0x00007FFB00FF257D+29]\n\tRtlUserThreadStart [0x00007FFB01D4AF28+40]\n"
     ]
    }
   ],
   "source": [
    "argumento.append(driver.find_element('css selector', '#__next > main > div > section.ipc-page-background.ipc-page-background--base.sc-c41b9732-0.NeSef > div > section > div > div.sc-978e9339-1.ihWZgK.ipc-page-grid__item.ipc-page-grid__item--span-2 > section:nth-child(19) > div.sc-20579f43-0.kJbyJL > div.ipc-overflowText.ipc-overflowText--pageSection.ipc-overflowText--base > div > div > div').text)\n"
   ]
  },
  {
   "cell_type": "code",
   "execution_count": 82,
   "metadata": {},
   "outputs": [
    {
     "name": "stdout",
     "output_type": "stream",
     "text": [
      "['When oil is discovered in a small-town, some greedy prospectors hire a gang of wild bikers to scare the townsfolk away. However, when a group of young pilots stumble across the underhanded plot, they plan an effective retaliation.']\n"
     ]
    }
   ],
   "source": [
    "print(argumento)"
   ]
  },
  {
   "cell_type": "code",
   "execution_count": 7,
   "metadata": {},
   "outputs": [
    {
     "ename": "NoSuchElementException",
     "evalue": "Message: no such element: Unable to locate element: {\"method\":\"css selector\",\"selector\":\"#__next > main > div > section.ipc-page-background.ipc-page-background--base.sc-c41b9732-0.NeSef > div > section > div > div.sc-978e9339-1.ihWZgK.ipc-page-grid__item.ipc-page-grid__item--span-2 > section:nth-child(19) > div.sc-20579f43-0.kJbyJL > div.ipc-overflowText.ipc-overflowText--pageSection.ipc-overflowText--base > div > div > div\"}\n  (Session info: chrome=126.0.6478.127); For documentation on this error, please visit: https://www.selenium.dev/documentation/webdriver/troubleshooting/errors#no-such-element-exception\nStacktrace:\n\tGetHandleVerifier [0x00007FF60F38EEB2+31554]\n\t(No symbol) [0x00007FF60F307EE9]\n\t(No symbol) [0x00007FF60F1C872A]\n\t(No symbol) [0x00007FF60F218434]\n\t(No symbol) [0x00007FF60F21853C]\n\t(No symbol) [0x00007FF60F25F6A7]\n\t(No symbol) [0x00007FF60F23D06F]\n\t(No symbol) [0x00007FF60F25C977]\n\t(No symbol) [0x00007FF60F23CDD3]\n\t(No symbol) [0x00007FF60F20A33B]\n\t(No symbol) [0x00007FF60F20AED1]\n\tGetHandleVerifier [0x00007FF60F698B2D+3217341]\n\tGetHandleVerifier [0x00007FF60F6E5AF3+3532675]\n\tGetHandleVerifier [0x00007FF60F6DB0F0+3489152]\n\tGetHandleVerifier [0x00007FF60F43E786+750614]\n\t(No symbol) [0x00007FF60F31376F]\n\t(No symbol) [0x00007FF60F30EB24]\n\t(No symbol) [0x00007FF60F30ECB2]\n\t(No symbol) [0x00007FF60F2FE17F]\n\tBaseThreadInitThunk [0x00007FFB00FF257D+29]\n\tRtlUserThreadStart [0x00007FFB01D4AF28+40]\n",
     "output_type": "error",
     "traceback": [
      "\u001b[1;31m---------------------------------------------------------------------------\u001b[0m",
      "\u001b[1;31mNoSuchElementException\u001b[0m                    Traceback (most recent call last)",
      "Cell \u001b[1;32mIn[7], line 2\u001b[0m\n\u001b[0;32m      1\u001b[0m argumento \u001b[38;5;241m=\u001b[39m []\n\u001b[1;32m----> 2\u001b[0m argumento\u001b[38;5;241m.\u001b[39mappend(\u001b[43mdriver\u001b[49m\u001b[38;5;241;43m.\u001b[39;49m\u001b[43mfind_element\u001b[49m\u001b[43m(\u001b[49m\u001b[38;5;124;43m'\u001b[39;49m\u001b[38;5;124;43mcss selector\u001b[39;49m\u001b[38;5;124;43m'\u001b[39;49m\u001b[43m,\u001b[49m\u001b[43m \u001b[49m\u001b[38;5;124;43m'\u001b[39;49m\u001b[38;5;124;43m#__next > main > div > section.ipc-page-background.ipc-page-background--base.sc-c41b9732-0.NeSef > div > section > div > div.sc-978e9339-1.ihWZgK.ipc-page-grid__item.ipc-page-grid__item--span-2 > section:nth-child(19) > div.sc-20579f43-0.kJbyJL > div.ipc-overflowText.ipc-overflowText--pageSection.ipc-overflowText--base > div > div > div\u001b[39;49m\u001b[38;5;124;43m'\u001b[39;49m\u001b[43m)\u001b[49m\u001b[38;5;241m.\u001b[39mtext)\n\u001b[0;32m      3\u001b[0m \u001b[38;5;66;03m#argumento.append(driver.find_element('xpath', '//*[@id=\"__next\"]/main/div/section[1]/div/section/div/div[1]/section[4]/div[2]/div[1]').text)\u001b[39;00m\n",
      "File \u001b[1;32m~\\AppData\\Local\\Packages\\PythonSoftwareFoundation.Python.3.11_qbz5n2kfra8p0\\LocalCache\\local-packages\\Python311\\site-packages\\selenium\\webdriver\\remote\\webdriver.py:741\u001b[0m, in \u001b[0;36mWebDriver.find_element\u001b[1;34m(self, by, value)\u001b[0m\n\u001b[0;32m    738\u001b[0m     by \u001b[38;5;241m=\u001b[39m By\u001b[38;5;241m.\u001b[39mCSS_SELECTOR\n\u001b[0;32m    739\u001b[0m     value \u001b[38;5;241m=\u001b[39m \u001b[38;5;124mf\u001b[39m\u001b[38;5;124m'\u001b[39m\u001b[38;5;124m[name=\u001b[39m\u001b[38;5;124m\"\u001b[39m\u001b[38;5;132;01m{\u001b[39;00mvalue\u001b[38;5;132;01m}\u001b[39;00m\u001b[38;5;124m\"\u001b[39m\u001b[38;5;124m]\u001b[39m\u001b[38;5;124m'\u001b[39m\n\u001b[1;32m--> 741\u001b[0m \u001b[38;5;28;01mreturn\u001b[39;00m \u001b[38;5;28;43mself\u001b[39;49m\u001b[38;5;241;43m.\u001b[39;49m\u001b[43mexecute\u001b[49m\u001b[43m(\u001b[49m\u001b[43mCommand\u001b[49m\u001b[38;5;241;43m.\u001b[39;49m\u001b[43mFIND_ELEMENT\u001b[49m\u001b[43m,\u001b[49m\u001b[43m \u001b[49m\u001b[43m{\u001b[49m\u001b[38;5;124;43m\"\u001b[39;49m\u001b[38;5;124;43musing\u001b[39;49m\u001b[38;5;124;43m\"\u001b[39;49m\u001b[43m:\u001b[49m\u001b[43m \u001b[49m\u001b[43mby\u001b[49m\u001b[43m,\u001b[49m\u001b[43m \u001b[49m\u001b[38;5;124;43m\"\u001b[39;49m\u001b[38;5;124;43mvalue\u001b[39;49m\u001b[38;5;124;43m\"\u001b[39;49m\u001b[43m:\u001b[49m\u001b[43m \u001b[49m\u001b[43mvalue\u001b[49m\u001b[43m}\u001b[49m\u001b[43m)\u001b[49m[\u001b[38;5;124m\"\u001b[39m\u001b[38;5;124mvalue\u001b[39m\u001b[38;5;124m\"\u001b[39m]\n",
      "File \u001b[1;32m~\\AppData\\Local\\Packages\\PythonSoftwareFoundation.Python.3.11_qbz5n2kfra8p0\\LocalCache\\local-packages\\Python311\\site-packages\\selenium\\webdriver\\remote\\webdriver.py:347\u001b[0m, in \u001b[0;36mWebDriver.execute\u001b[1;34m(self, driver_command, params)\u001b[0m\n\u001b[0;32m    345\u001b[0m response \u001b[38;5;241m=\u001b[39m \u001b[38;5;28mself\u001b[39m\u001b[38;5;241m.\u001b[39mcommand_executor\u001b[38;5;241m.\u001b[39mexecute(driver_command, params)\n\u001b[0;32m    346\u001b[0m \u001b[38;5;28;01mif\u001b[39;00m response:\n\u001b[1;32m--> 347\u001b[0m     \u001b[38;5;28;43mself\u001b[39;49m\u001b[38;5;241;43m.\u001b[39;49m\u001b[43merror_handler\u001b[49m\u001b[38;5;241;43m.\u001b[39;49m\u001b[43mcheck_response\u001b[49m\u001b[43m(\u001b[49m\u001b[43mresponse\u001b[49m\u001b[43m)\u001b[49m\n\u001b[0;32m    348\u001b[0m     response[\u001b[38;5;124m\"\u001b[39m\u001b[38;5;124mvalue\u001b[39m\u001b[38;5;124m\"\u001b[39m] \u001b[38;5;241m=\u001b[39m \u001b[38;5;28mself\u001b[39m\u001b[38;5;241m.\u001b[39m_unwrap_value(response\u001b[38;5;241m.\u001b[39mget(\u001b[38;5;124m\"\u001b[39m\u001b[38;5;124mvalue\u001b[39m\u001b[38;5;124m\"\u001b[39m, \u001b[38;5;28;01mNone\u001b[39;00m))\n\u001b[0;32m    349\u001b[0m     \u001b[38;5;28;01mreturn\u001b[39;00m response\n",
      "File \u001b[1;32m~\\AppData\\Local\\Packages\\PythonSoftwareFoundation.Python.3.11_qbz5n2kfra8p0\\LocalCache\\local-packages\\Python311\\site-packages\\selenium\\webdriver\\remote\\errorhandler.py:229\u001b[0m, in \u001b[0;36mErrorHandler.check_response\u001b[1;34m(self, response)\u001b[0m\n\u001b[0;32m    227\u001b[0m         alert_text \u001b[38;5;241m=\u001b[39m value[\u001b[38;5;124m\"\u001b[39m\u001b[38;5;124malert\u001b[39m\u001b[38;5;124m\"\u001b[39m]\u001b[38;5;241m.\u001b[39mget(\u001b[38;5;124m\"\u001b[39m\u001b[38;5;124mtext\u001b[39m\u001b[38;5;124m\"\u001b[39m)\n\u001b[0;32m    228\u001b[0m     \u001b[38;5;28;01mraise\u001b[39;00m exception_class(message, screen, stacktrace, alert_text)  \u001b[38;5;66;03m# type: ignore[call-arg]  # mypy is not smart enough here\u001b[39;00m\n\u001b[1;32m--> 229\u001b[0m \u001b[38;5;28;01mraise\u001b[39;00m exception_class(message, screen, stacktrace)\n",
      "\u001b[1;31mNoSuchElementException\u001b[0m: Message: no such element: Unable to locate element: {\"method\":\"css selector\",\"selector\":\"#__next > main > div > section.ipc-page-background.ipc-page-background--base.sc-c41b9732-0.NeSef > div > section > div > div.sc-978e9339-1.ihWZgK.ipc-page-grid__item.ipc-page-grid__item--span-2 > section:nth-child(19) > div.sc-20579f43-0.kJbyJL > div.ipc-overflowText.ipc-overflowText--pageSection.ipc-overflowText--base > div > div > div\"}\n  (Session info: chrome=126.0.6478.127); For documentation on this error, please visit: https://www.selenium.dev/documentation/webdriver/troubleshooting/errors#no-such-element-exception\nStacktrace:\n\tGetHandleVerifier [0x00007FF60F38EEB2+31554]\n\t(No symbol) [0x00007FF60F307EE9]\n\t(No symbol) [0x00007FF60F1C872A]\n\t(No symbol) [0x00007FF60F218434]\n\t(No symbol) [0x00007FF60F21853C]\n\t(No symbol) [0x00007FF60F25F6A7]\n\t(No symbol) [0x00007FF60F23D06F]\n\t(No symbol) [0x00007FF60F25C977]\n\t(No symbol) [0x00007FF60F23CDD3]\n\t(No symbol) [0x00007FF60F20A33B]\n\t(No symbol) [0x00007FF60F20AED1]\n\tGetHandleVerifier [0x00007FF60F698B2D+3217341]\n\tGetHandleVerifier [0x00007FF60F6E5AF3+3532675]\n\tGetHandleVerifier [0x00007FF60F6DB0F0+3489152]\n\tGetHandleVerifier [0x00007FF60F43E786+750614]\n\t(No symbol) [0x00007FF60F31376F]\n\t(No symbol) [0x00007FF60F30EB24]\n\t(No symbol) [0x00007FF60F30ECB2]\n\t(No symbol) [0x00007FF60F2FE17F]\n\tBaseThreadInitThunk [0x00007FFB00FF257D+29]\n\tRtlUserThreadStart [0x00007FFB01D4AF28+40]\n"
     ]
    }
   ],
   "source": [
    "argumento = []\n",
    "argumento.append(driver.find_element('css selector', '#__next > main > div > section.ipc-page-background.ipc-page-background--base.sc-c41b9732-0.NeSef > div > section > div > div.sc-978e9339-1.ihWZgK.ipc-page-grid__item.ipc-page-grid__item--span-2 > section:nth-child(19) > div.sc-20579f43-0.kJbyJL > div.ipc-overflowText.ipc-overflowText--pageSection.ipc-overflowText--base > div > div > div').text)\n",
    "#argumento.append(driver.find_element('xpath', '//*[@id=\"__next\"]/main/div/section[1]/div/section/div/div[1]/section[4]/div[2]/div[1]').text)"
   ]
  },
  {
   "cell_type": "code",
   "execution_count": 69,
   "metadata": {},
   "outputs": [
    {
     "name": "stdout",
     "output_type": "stream",
     "text": [
      "['When oil is discovered in a small-town, some greedy prospectors hire a gang of wild bikers to scare the townsfolk away. However, when a group of young pilots stumble across the underhanded plot, they plan an effective retaliation.']\n"
     ]
    }
   ],
   "source": [
    "print(argumento)"
   ]
  },
  {
   "cell_type": "code",
   "execution_count": 48,
   "metadata": {},
   "outputs": [
    {
     "name": "stdout",
     "output_type": "stream",
     "text": [
      "['El gran desafío en helicóptero', 'El último combate']\n",
      "['1h 36min', '1h 36min']\n"
     ]
    }
   ],
   "source": [
    "print(nombre)\n",
    "print(duracion)"
   ]
  },
  {
   "cell_type": "code",
   "execution_count": 44,
   "metadata": {},
   "outputs": [
    {
     "name": "stdout",
     "output_type": "stream",
     "text": [
      "[]\n"
     ]
    }
   ],
   "source": [
    "print(list(tuple(zip(nombre,nota_imbd,direccion,guionista,argumento,duracion))))\n",
    "\n",
    "\n",
    "\n"
   ]
  },
  {
   "cell_type": "code",
   "execution_count": 7,
   "metadata": {},
   "outputs": [],
   "source": [
    "df_action = df_action.drop(\"Unnamed: 0\", axis='columns')"
   ]
  },
  {
   "cell_type": "code",
   "execution_count": 8,
   "metadata": {},
   "outputs": [
    {
     "data": {
      "text/html": [
       "<div>\n",
       "<style scoped>\n",
       "    .dataframe tbody tr th:only-of-type {\n",
       "        vertical-align: middle;\n",
       "    }\n",
       "\n",
       "    .dataframe tbody tr th {\n",
       "        vertical-align: top;\n",
       "    }\n",
       "\n",
       "    .dataframe thead th {\n",
       "        text-align: right;\n",
       "    }\n",
       "</style>\n",
       "<table border=\"1\" class=\"dataframe\">\n",
       "  <thead>\n",
       "    <tr style=\"text-align: right;\">\n",
       "      <th></th>\n",
       "      <th>idOwner</th>\n",
       "      <th>Title</th>\n",
       "      <th>Type</th>\n",
       "      <th>Year</th>\n",
       "      <th>Genre</th>\n",
       "    </tr>\n",
       "  </thead>\n",
       "  <tbody>\n",
       "    <tr>\n",
       "      <th>0</th>\n",
       "      <td>tt0075859</td>\n",
       "      <td>De draken van Bruce Lee</td>\n",
       "      <td>Movie</td>\n",
       "      <td>1980</td>\n",
       "      <td>Action</td>\n",
       "    </tr>\n",
       "    <tr>\n",
       "      <th>1</th>\n",
       "      <td>tt0076321</td>\n",
       "      <td>Liu he ba fa</td>\n",
       "      <td>Movie</td>\n",
       "      <td>1980</td>\n",
       "      <td>Action</td>\n",
       "    </tr>\n",
       "    <tr>\n",
       "      <th>2</th>\n",
       "      <td>tt0076580</td>\n",
       "      <td>Qian zuo guai</td>\n",
       "      <td>Movie</td>\n",
       "      <td>1980</td>\n",
       "      <td>Action</td>\n",
       "    </tr>\n",
       "    <tr>\n",
       "      <th>3</th>\n",
       "      <td>tt0077634</td>\n",
       "      <td>The Great Skycopter Rescue</td>\n",
       "      <td>Movie</td>\n",
       "      <td>1980</td>\n",
       "      <td>Action</td>\n",
       "    </tr>\n",
       "    <tr>\n",
       "      <th>4</th>\n",
       "      <td>tt0076709</td>\n",
       "      <td>Si wang ta</td>\n",
       "      <td>Movie</td>\n",
       "      <td>1980</td>\n",
       "      <td>Action</td>\n",
       "    </tr>\n",
       "    <tr>\n",
       "      <th>...</th>\n",
       "      <td>...</td>\n",
       "      <td>...</td>\n",
       "      <td>...</td>\n",
       "      <td>...</td>\n",
       "      <td>...</td>\n",
       "    </tr>\n",
       "    <tr>\n",
       "      <th>126</th>\n",
       "      <td>tt0101616</td>\n",
       "      <td>Coolie No. 1</td>\n",
       "      <td>Movie</td>\n",
       "      <td>1995</td>\n",
       "      <td>Action</td>\n",
       "    </tr>\n",
       "    <tr>\n",
       "      <th>127</th>\n",
       "      <td>tt0105881</td>\n",
       "      <td>Magkasangga 2000</td>\n",
       "      <td>Movie</td>\n",
       "      <td>1995</td>\n",
       "      <td>Action</td>\n",
       "    </tr>\n",
       "    <tr>\n",
       "      <th>128</th>\n",
       "      <td>tt0109178</td>\n",
       "      <td>Automatic</td>\n",
       "      <td>Movie</td>\n",
       "      <td>1995</td>\n",
       "      <td>Action</td>\n",
       "    </tr>\n",
       "    <tr>\n",
       "      <th>129</th>\n",
       "      <td>tt0109033</td>\n",
       "      <td>Abducted II: The Reunion</td>\n",
       "      <td>Movie</td>\n",
       "      <td>1995</td>\n",
       "      <td>Action</td>\n",
       "    </tr>\n",
       "    <tr>\n",
       "      <th>130</th>\n",
       "      <td>tt0109536</td>\n",
       "      <td>The Dangerous</td>\n",
       "      <td>Movie</td>\n",
       "      <td>1995</td>\n",
       "      <td>Action</td>\n",
       "    </tr>\n",
       "  </tbody>\n",
       "</table>\n",
       "<p>131 rows × 5 columns</p>\n",
       "</div>"
      ],
      "text/plain": [
       "       idOwner                       Title   Type  Year   Genre\n",
       "0    tt0075859     De draken van Bruce Lee  Movie  1980  Action\n",
       "1    tt0076321                Liu he ba fa  Movie  1980  Action\n",
       "2    tt0076580               Qian zuo guai  Movie  1980  Action\n",
       "3    tt0077634  The Great Skycopter Rescue  Movie  1980  Action\n",
       "4    tt0076709                  Si wang ta  Movie  1980  Action\n",
       "..         ...                         ...    ...   ...     ...\n",
       "126  tt0101616                Coolie No. 1  Movie  1995  Action\n",
       "127  tt0105881            Magkasangga 2000  Movie  1995  Action\n",
       "128  tt0109178                   Automatic  Movie  1995  Action\n",
       "129  tt0109033    Abducted II: The Reunion  Movie  1995  Action\n",
       "130  tt0109536               The Dangerous  Movie  1995  Action\n",
       "\n",
       "[131 rows x 5 columns]"
      ]
     },
     "execution_count": 8,
     "metadata": {},
     "output_type": "execute_result"
    }
   ],
   "source": [
    "df_action"
   ]
  },
  {
   "cell_type": "code",
   "execution_count": 9,
   "metadata": {},
   "outputs": [],
   "source": [
    "imdb_action = list(tuple(zip(nota,director,guionista,argumento,duracion)))"
   ]
  },
  {
   "cell_type": "code",
   "execution_count": 10,
   "metadata": {},
   "outputs": [
    {
     "data": {
      "text/plain": [
       "[('La saga de Bruce Lee',\n",
       "  '4,3',\n",
       "  'Joseph Velasco',\n",
       "  'Kuang-Hsin Wu',\n",
       "  '',\n",
       "  '1h 31min'),\n",
       " ('Los puños de la lealtad',\n",
       "  '6,3',\n",
       "  'Tien-Yung Hsu',\n",
       "  'Hsiang-Ju Sung',\n",
       "  '',\n",
       "  'NULL'),\n",
       " ('Qian zuo guai', '5,3', 'John Woo', 'John Woo', '', '1h 41min'),\n",
       " ('El gran desafío en helicóptero',\n",
       "  '6,3',\n",
       "  'Lawrence David Foldes',\n",
       "  'Lawrence David FoldesHenry EdwardsTony Crechales',\n",
       "  '',\n",
       "  'NULL'),\n",
       " ('El último combate', '3,7', 'See-Yuen Ng', 'Tin-Shing Ho', '', '14'),\n",
       " ('Shao Lin yu Wu Dang',\n",
       "  '6,6',\n",
       "  'Cheh Chang',\n",
       "  'Cheh ChangKuang Ni',\n",
       "  '',\n",
       "  '1h 41min'),\n",
       " ('Duelo del Dragón y el Tigre',\n",
       "  '5,4',\n",
       "  'Bruce Le',\n",
       "  'Bruce LeFan Pan',\n",
       "  '',\n",
       "  'NULL'),\n",
       " (\"L'empreinte des géants\",\n",
       "  '6,8',\n",
       "  'Robert Enrico',\n",
       "  'François ChevallierHortense DufourRobert Enrico',\n",
       "  '',\n",
       "  'NULL'),\n",
       " ('Carlos el terrorista',\n",
       "  '4,6',\n",
       "  'René Cardona',\n",
       "  'René Cardona Jr.',\n",
       "  '',\n",
       "  '1h 37min'),\n",
       " ('Ba jue', '4,5', 'Hsueh-Li Pao', 'Shu-Mei ChinYu ChuKuang Ni', '', 'NULL'),\n",
       " ('Puño desnudo', '6,3', 'Cirio H. Santiago', 'Ken Metcalfe', '', 'R'),\n",
       " ('Jie quan da dong kau',\n",
       "  '3,2',\n",
       "  'Lu-Po Tu',\n",
       "  'Ryong KeoLik CheungBolo Yeung',\n",
       "  '',\n",
       "  'NULL'),\n",
       " ('La espada del samurái',\n",
       "  '7,1',\n",
       "  'Tsugunobu Kotani',\n",
       "  'William Overgard',\n",
       "  '',\n",
       "  '1h 44min'),\n",
       " ('Perro callejero II',\n",
       "  '5,9',\n",
       "  'Gilberto Gazcón',\n",
       "  'Gilberto Gazcón',\n",
       "  '',\n",
       "  'NULL'),\n",
       " ('She diao ying xiong chuan san ji',\n",
       "  '6,8',\n",
       "  'Cheh Chang',\n",
       "  'Louis ChaCheh ChangKuang Ni',\n",
       "  '',\n",
       "  '1h 32min'),\n",
       " ('Shang Hai Tan da ye', '6,6', 'Tso Nam Lee', 'Po-Sheng Lu', '', 'NULL'),\n",
       " ('Carrera salvaje',\n",
       "  '7,0',\n",
       "  'Antonio Margheriti',\n",
       "  'Marco Tullio GiordanaMassimo De RitaConcha Espina',\n",
       "  '',\n",
       "  'NULL'),\n",
       " ('Asalto al casino',\n",
       "  '7,2',\n",
       "  'Max H. Boulois',\n",
       "  'Max H. Boulois',\n",
       "  '',\n",
       "  '1h 44min'),\n",
       " ('Chakra',\n",
       "  '6,2',\n",
       "  'Rabindra Dharmaraj',\n",
       "  'Jaywant DalviRabindra Dharmaraj',\n",
       "  '',\n",
       "  'NULL'),\n",
       " ('Burning Rubber', '3,4', 'Norman Cohen', 'Dale CuttsBill Flynn', '', 'NULL'),\n",
       " ('Tennessee Stallion',\n",
       "  '3,9',\n",
       "  'Don Hulette',\n",
       "  'Frederick ColeDon HuletteJane Perry',\n",
       "  '',\n",
       "  'NULL'),\n",
       " ('La conspiración de Shaolin',\n",
       "  '4,9',\n",
       "  'Chao-Yung Li',\n",
       "  'Hsiang-Kan Chu',\n",
       "  '',\n",
       "  '1h 30min'),\n",
       " ('Shen diao xia lü',\n",
       "  '4,4',\n",
       "  'Cheh Chang',\n",
       "  'Louis ChaCheh ChangKuang Ni',\n",
       "  '',\n",
       "  '1h 40min'),\n",
       " ('Shao Lin si',\n",
       "  '4,1',\n",
       "  'Hsin-Yen Chang',\n",
       "  'Hau SitShau-Chang Lu',\n",
       "  '',\n",
       "  '1h 40min'),\n",
       " ('La cúspide',\n",
       "  '5,0',\n",
       "  'Peter Carter',\n",
       "  'Richard A. GuttmanIan Sutherland',\n",
       "  '',\n",
       "  '1h 28min'),\n",
       " ('Calígula 3, la historia jamás contada',\n",
       "  '7,1',\n",
       "  \"Joe D'Amato\",\n",
       "  \"George EastmanJoe D'AmatoMichele Soavi\",\n",
       "  '',\n",
       "  '2h 10min'),\n",
       " ('El imperio de la muerte',\n",
       "  '4,6',\n",
       "  'Brian Trenchard-Smith',\n",
       "  'Jon George',\n",
       "  '',\n",
       "  '18'),\n",
       " ('Long de ying zi', '4,2', 'Bruce Li', 'Yuen King', '', '1h 24min'),\n",
       " ('Yo soy la justicia', '5,0', 'Michael Winner', 'David Engelbach', '', '18'),\n",
       " ('El reposo de los valientes',\n",
       "  '4,3',\n",
       "  'Lindsay Shonteff',\n",
       "  'Lindsay ShonteffJeremy Lee Francis',\n",
       "  '',\n",
       "  'NULL'),\n",
       " ('Bing xue qing guan ying xiong dan',\n",
       "  '4,2',\n",
       "  'Hsueh-Li Pao',\n",
       "  'Louis ChaShu-Mei Chin',\n",
       "  '',\n",
       "  'NULL'),\n",
       " ('Tian can bian',\n",
       "  '4,4',\n",
       "  'Chun-Ku Lu',\n",
       "  'Kuo-Yuan ChangChun-Ku LuYing Wong',\n",
       "  '',\n",
       "  'NULL'),\n",
       " ('Fantasy Mission Force', '3,3', 'Yen-Ping Chu', 'Hsin Wei', '', 'R'),\n",
       " ('Operación Camboya',\n",
       "  '2,5',\n",
       "  'Jun Gallardo',\n",
       "  'Rodolfo Dabao Jr.Don Gordon Bell',\n",
       "  '',\n",
       "  '1h 30min'),\n",
       " ('Shao Lin yu Wu Dang',\n",
       "  '2,1',\n",
       "  'Chia-Hui Liu',\n",
       "  'Shu-Mei ChinPa-Ching HuangChi-kien Wong',\n",
       "  '',\n",
       "  '1h 27min'),\n",
       " ('Yang guo yu xiao long nu',\n",
       "  '3,9',\n",
       "  'Shan Hua',\n",
       "  'Louis ChaNing TamNai-Pin Tsai',\n",
       "  '',\n",
       "  '1h 36min'),\n",
       " ('Man tian shen fo', '3,0', 'Hsia Hsu', 'Chia Yeh', '', 'NULL'),\n",
       " ('El precio del peligro',\n",
       "  '4,5',\n",
       "  'Yves Boisset',\n",
       "  'Robert SheckleyYves BoissetJean Curtelin',\n",
       "  '',\n",
       "  '1h 38min'),\n",
       " ('USA, violación y venganza',\n",
       "  '5,6',\n",
       "  'José Luis Merino',\n",
       "  'José Luis Merino',\n",
       "  '',\n",
       "  'NULL'),\n",
       " ('Qing ren kan dao',\n",
       "  '5,3',\n",
       "  'Yang-Ming Tsai',\n",
       "  'Lung KuHsiang-Ju Sung',\n",
       "  '',\n",
       "  'NULL'),\n",
       " ('Shang Hai tan: Shi san tai bao',\n",
       "  '5,7',\n",
       "  'Cheh Chang',\n",
       "  'Cheh Chang',\n",
       "  '',\n",
       "  'NULL'),\n",
       " ('Alley Cat', '4,8', 'Victor M. Ordonez', 'Robert E. Waters', '', 'R'),\n",
       " ('Día de perros',\n",
       "  '4,3',\n",
       "  'Yves Boisset',\n",
       "  'Jean HermanMichel AudiardDominique Roulet',\n",
       "  '',\n",
       "  'NULL'),\n",
       " ('Don Camilo',\n",
       "  '5,5',\n",
       "  'Terence Hill',\n",
       "  'Lori HillGiovanni Guareschi',\n",
       "  '',\n",
       "  'NULL'),\n",
       " (\"Les cavaliers de l'orage\",\n",
       "  '4,3',\n",
       "  'Gérard Vergez',\n",
       "  'Gérard VergezDaniel BoulangerJean Giono',\n",
       "  '',\n",
       "  'NULL'),\n",
       " ('Luna de miel y de sangre',\n",
       "  '2,6',\n",
       "  'Luis Antúnez',\n",
       "  'Jose Luís ArcelusGloria López Villaseñor',\n",
       "  '',\n",
       "  '1h 25min'),\n",
       " ('Dreptate în lanturi',\n",
       "  '2,4',\n",
       "  'Dan Pita',\n",
       "  'Dan PitaMihai Stoian',\n",
       "  '',\n",
       "  'NULL'),\n",
       " ('Final executor', '6,6', 'Romolo Guerrieri', 'Roberto Leoni', '', 'NULL'),\n",
       " ('Confidentes de la muerte',\n",
       "  '5,2',\n",
       "  'Siu-Jun Wong',\n",
       "  'Siu-Jun Wong',\n",
       "  '',\n",
       "  'NULL'),\n",
       " ('Long fa wei',\n",
       "  '3,5',\n",
       "  'Chung-Hsing Chao',\n",
       "  'Chung-Hsing Chao',\n",
       "  '',\n",
       "  '1h 38min'),\n",
       " ('Meri Jung', '4,0', 'Subhash Ghai', 'Javed Akhtar', '', '2h 44min')]"
      ]
     },
     "execution_count": 10,
     "metadata": {},
     "output_type": "execute_result"
    }
   ],
   "source": [
    "imdb_action"
   ]
  }
 ],
 "metadata": {
  "kernelspec": {
   "display_name": "Python 3",
   "language": "python",
   "name": "python3"
  },
  "language_info": {
   "codemirror_mode": {
    "name": "ipython",
    "version": 3
   },
   "file_extension": ".py",
   "mimetype": "text/x-python",
   "name": "python",
   "nbconvert_exporter": "python",
   "pygments_lexer": "ipython3",
   "version": "3.11.9"
  }
 },
 "nbformat": 4,
 "nbformat_minor": 2
}
