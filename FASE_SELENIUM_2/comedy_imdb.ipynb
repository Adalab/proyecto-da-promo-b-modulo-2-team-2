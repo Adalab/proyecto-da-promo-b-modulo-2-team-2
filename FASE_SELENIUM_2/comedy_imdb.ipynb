{
 "cells": [
  {
   "cell_type": "code",
   "execution_count": 1,
   "metadata": {},
   "outputs": [],
   "source": [
    "import pandas as pd\n",
    "from selenium import webdriver  # Selenium es una herramienta para automatizar la interacción con navegadores web.\n",
    "from webdriver_manager.chrome import ChromeDriverManager  # ChromeDriverManager gestiona la instalación del controlador de Chrome.\n",
    "from selenium.webdriver.common.keys import Keys  # Keys es útil para simular eventos de teclado en Selenium.\n",
    "from selenium.webdriver.support.ui import Select  # Select se utiliza para interactuar con elementos <select> en páginas web.\n",
    "from time import sleep"
   ]
  },
  {
   "cell_type": "code",
   "execution_count": 2,
   "metadata": {},
   "outputs": [
    {
     "name": "stdout",
     "output_type": "stream",
     "text": [
      "    Unnamed: 0    idOwner                           Title   Type  Year   Genre\n",
      "0            0  tt0068745             Intime Liebschaften  Movie  1980  Comedy\n",
      "1            1  tt0075332  Zärtlich, aber frech wie Oskar  Movie  1980  Comedy\n",
      "2            2  tt0076464                   You ni mei ni  Movie  1980  Comedy\n",
      "3            3  tt0076580                   Qian zuo guai  Movie  1980  Comedy\n",
      "4            4  tt0077367          Consultorio sexológico  Movie  1980  Comedy\n",
      "..         ...        ...                             ...    ...   ...     ...\n",
      "82          82  tt0102952                    Prima Donnas  Movie  1995  Comedy\n",
      "83          83  tt0101616                    Coolie No. 1  Movie  1995  Comedy\n",
      "84          84  tt0102532                   Night Visions  Movie  1995  Comedy\n",
      "85          85  tt0108576                   Witch Academy  Movie  1995  Comedy\n",
      "86          86  tt0107537             Mécaniques célestes  Movie  1995  Comedy\n",
      "\n",
      "[87 rows x 6 columns]\n",
      "['tt0068745', 'tt0075332', 'tt0076464', 'tt0076580', 'tt0077367', 'tt0077428', 'tt0077883', 'tt0078853', 'tt0078304', 'tt0072173', 'tt0075816', 'tt0079396', 'tt0079650', 'tt0076041', 'tt0077731', 'tt0077885', 'tt0078411', 'tt0078834', 'tt0079720', 'tt0080393', 'tt0080680', 'tt0077173', 'tt0079509', 'tt0079915', 'tt0082788', 'tt0083715', 'tt0083518', 'tt0083640', 'tt0083592', 'tt0082469', 'tt0081674', 'tt0082670', 'tt0083013', 'tt0084533', 'tt0082674', 'tt0085455', 'tt0085860', 'tt0085437', 'tt0086595', 'tt0087560', 'tt0087978', 'tt0066020', 'tt0085690', 'tt0086025', 'tt0086028', 'tt0087945', 'tt0088468', 'tt0085708', 'tt0089727', 'tt0086964', 'tt0089758', 'tt0089878', 'tt0081766', 'tt0089280', 'tt0090681', 'tt0091158', 'tt0092773', 'tt0092503', 'tt0064820', 'tt0080828', 'tt0080755', 'tt0087634', 'tt0093268', 'tt0094735', 'tt0094123', 'tt0091899', 'tt0095840', 'tt0097253', 'tt0096506', 'tt0088267', 'tt0093309', 'tt0092984', 'tt0097122', 'tt0097111', 'tt0096154', 'tt0097775', 'tt0099089', 'tt0098965', 'tt0103592', 'tt0101644', 'tt0103951', 'tt0103770', 'tt0102952', 'tt0101616', 'tt0102532', 'tt0108576', 'tt0107537']\n"
     ]
    }
   ],
   "source": [
    "df_comedy = pd.read_csv(\"../FASE_API_1/Comedy.csv\")\n",
    "\n",
    "print(df_comedy)\n",
    "\n",
    "idOwner = []\n",
    "\n",
    "for i in df_comedy[\"idOwner\"]:\n",
    "    idOwner.append(i)\n",
    "    \n",
    "\n",
    "print(idOwner)\n",
    "    \n"
   ]
  },
  {
   "cell_type": "code",
   "execution_count": 10,
   "metadata": {},
   "outputs": [
    {
     "name": "stdout",
     "output_type": "stream",
     "text": [
      "tt0068745\n",
      "tt0076464\n",
      "tt0076580\n",
      "tt0077428\n"
     ]
    },
    {
     "ename": "NoSuchWindowException",
     "evalue": "Message: no such window: target window already closed\nfrom unknown error: web view not found\n  (Session info: chrome=126.0.6478.127)\nStacktrace:\n\tGetHandleVerifier [0x00007FF7F8C6EEA2+31554]\n\t(No symbol) [0x00007FF7F8BE7ED9]\n\t(No symbol) [0x00007FF7F8AA872A]\n\t(No symbol) [0x00007FF7F8A7D995]\n\t(No symbol) [0x00007FF7F8B244D7]\n\t(No symbol) [0x00007FF7F8B3C051]\n\t(No symbol) [0x00007FF7F8B1CDD3]\n\t(No symbol) [0x00007FF7F8AEA33B]\n\t(No symbol) [0x00007FF7F8AEAED1]\n\tGetHandleVerifier [0x00007FF7F8F78B1D+3217341]\n\tGetHandleVerifier [0x00007FF7F8FC5AE3+3532675]\n\tGetHandleVerifier [0x00007FF7F8FBB0E0+3489152]\n\tGetHandleVerifier [0x00007FF7F8D1E776+750614]\n\t(No symbol) [0x00007FF7F8BF375F]\n\t(No symbol) [0x00007FF7F8BEEB14]\n\t(No symbol) [0x00007FF7F8BEECA2]\n\t(No symbol) [0x00007FF7F8BDE16F]\n\tBaseThreadInitThunk [0x00007FFC42577374+20]\n\tRtlUserThreadStart [0x00007FFC4361CC91+33]\n",
     "output_type": "error",
     "traceback": [
      "\u001b[1;31m---------------------------------------------------------------------------\u001b[0m",
      "\u001b[1;31mNoSuchWindowException\u001b[0m                     Traceback (most recent call last)",
      "Cell \u001b[1;32mIn[10], line 21\u001b[0m\n\u001b[0;32m     17\u001b[0m duracion \u001b[38;5;241m=\u001b[39m []\n\u001b[0;32m     20\u001b[0m \u001b[38;5;28;01mfor\u001b[39;00m i \u001b[38;5;129;01min\u001b[39;00m idOwner[:\u001b[38;5;241m10\u001b[39m]:\n\u001b[1;32m---> 21\u001b[0m     \u001b[43mdriver\u001b[49m\u001b[38;5;241;43m.\u001b[39;49m\u001b[43mfind_element\u001b[49m\u001b[43m(\u001b[49m\u001b[38;5;124;43m'\u001b[39;49m\u001b[38;5;124;43mcss selector\u001b[39;49m\u001b[38;5;124;43m'\u001b[39;49m\u001b[43m,\u001b[49m\u001b[38;5;124;43m'\u001b[39;49m\u001b[38;5;124;43m#suggestion-search\u001b[39;49m\u001b[38;5;124;43m'\u001b[39;49m\u001b[43m)\u001b[49m\u001b[38;5;241m.\u001b[39msend_keys(i, Keys\u001b[38;5;241m.\u001b[39mENTER)\n\u001b[0;32m     22\u001b[0m     sleep(\u001b[38;5;241m5\u001b[39m)\n\u001b[0;32m     24\u001b[0m     \u001b[38;5;28;01mtry\u001b[39;00m:        \n",
      "File \u001b[1;32mc:\\Users\\July Sandoval Angel\\AppData\\Local\\Programs\\Python\\Python312\\Lib\\site-packages\\selenium\\webdriver\\remote\\webdriver.py:741\u001b[0m, in \u001b[0;36mWebDriver.find_element\u001b[1;34m(self, by, value)\u001b[0m\n\u001b[0;32m    738\u001b[0m     by \u001b[38;5;241m=\u001b[39m By\u001b[38;5;241m.\u001b[39mCSS_SELECTOR\n\u001b[0;32m    739\u001b[0m     value \u001b[38;5;241m=\u001b[39m \u001b[38;5;124mf\u001b[39m\u001b[38;5;124m'\u001b[39m\u001b[38;5;124m[name=\u001b[39m\u001b[38;5;124m\"\u001b[39m\u001b[38;5;132;01m{\u001b[39;00mvalue\u001b[38;5;132;01m}\u001b[39;00m\u001b[38;5;124m\"\u001b[39m\u001b[38;5;124m]\u001b[39m\u001b[38;5;124m'\u001b[39m\n\u001b[1;32m--> 741\u001b[0m \u001b[38;5;28;01mreturn\u001b[39;00m \u001b[38;5;28;43mself\u001b[39;49m\u001b[38;5;241;43m.\u001b[39;49m\u001b[43mexecute\u001b[49m\u001b[43m(\u001b[49m\u001b[43mCommand\u001b[49m\u001b[38;5;241;43m.\u001b[39;49m\u001b[43mFIND_ELEMENT\u001b[49m\u001b[43m,\u001b[49m\u001b[43m \u001b[49m\u001b[43m{\u001b[49m\u001b[38;5;124;43m\"\u001b[39;49m\u001b[38;5;124;43musing\u001b[39;49m\u001b[38;5;124;43m\"\u001b[39;49m\u001b[43m:\u001b[49m\u001b[43m \u001b[49m\u001b[43mby\u001b[49m\u001b[43m,\u001b[49m\u001b[43m \u001b[49m\u001b[38;5;124;43m\"\u001b[39;49m\u001b[38;5;124;43mvalue\u001b[39;49m\u001b[38;5;124;43m\"\u001b[39;49m\u001b[43m:\u001b[49m\u001b[43m \u001b[49m\u001b[43mvalue\u001b[49m\u001b[43m}\u001b[49m\u001b[43m)\u001b[49m[\u001b[38;5;124m\"\u001b[39m\u001b[38;5;124mvalue\u001b[39m\u001b[38;5;124m\"\u001b[39m]\n",
      "File \u001b[1;32mc:\\Users\\July Sandoval Angel\\AppData\\Local\\Programs\\Python\\Python312\\Lib\\site-packages\\selenium\\webdriver\\remote\\webdriver.py:347\u001b[0m, in \u001b[0;36mWebDriver.execute\u001b[1;34m(self, driver_command, params)\u001b[0m\n\u001b[0;32m    345\u001b[0m response \u001b[38;5;241m=\u001b[39m \u001b[38;5;28mself\u001b[39m\u001b[38;5;241m.\u001b[39mcommand_executor\u001b[38;5;241m.\u001b[39mexecute(driver_command, params)\n\u001b[0;32m    346\u001b[0m \u001b[38;5;28;01mif\u001b[39;00m response:\n\u001b[1;32m--> 347\u001b[0m     \u001b[38;5;28;43mself\u001b[39;49m\u001b[38;5;241;43m.\u001b[39;49m\u001b[43merror_handler\u001b[49m\u001b[38;5;241;43m.\u001b[39;49m\u001b[43mcheck_response\u001b[49m\u001b[43m(\u001b[49m\u001b[43mresponse\u001b[49m\u001b[43m)\u001b[49m\n\u001b[0;32m    348\u001b[0m     response[\u001b[38;5;124m\"\u001b[39m\u001b[38;5;124mvalue\u001b[39m\u001b[38;5;124m\"\u001b[39m] \u001b[38;5;241m=\u001b[39m \u001b[38;5;28mself\u001b[39m\u001b[38;5;241m.\u001b[39m_unwrap_value(response\u001b[38;5;241m.\u001b[39mget(\u001b[38;5;124m\"\u001b[39m\u001b[38;5;124mvalue\u001b[39m\u001b[38;5;124m\"\u001b[39m, \u001b[38;5;28;01mNone\u001b[39;00m))\n\u001b[0;32m    349\u001b[0m     \u001b[38;5;28;01mreturn\u001b[39;00m response\n",
      "File \u001b[1;32mc:\\Users\\July Sandoval Angel\\AppData\\Local\\Programs\\Python\\Python312\\Lib\\site-packages\\selenium\\webdriver\\remote\\errorhandler.py:229\u001b[0m, in \u001b[0;36mErrorHandler.check_response\u001b[1;34m(self, response)\u001b[0m\n\u001b[0;32m    227\u001b[0m         alert_text \u001b[38;5;241m=\u001b[39m value[\u001b[38;5;124m\"\u001b[39m\u001b[38;5;124malert\u001b[39m\u001b[38;5;124m\"\u001b[39m]\u001b[38;5;241m.\u001b[39mget(\u001b[38;5;124m\"\u001b[39m\u001b[38;5;124mtext\u001b[39m\u001b[38;5;124m\"\u001b[39m)\n\u001b[0;32m    228\u001b[0m     \u001b[38;5;28;01mraise\u001b[39;00m exception_class(message, screen, stacktrace, alert_text)  \u001b[38;5;66;03m# type: ignore[call-arg]  # mypy is not smart enough here\u001b[39;00m\n\u001b[1;32m--> 229\u001b[0m \u001b[38;5;28;01mraise\u001b[39;00m exception_class(message, screen, stacktrace)\n",
      "\u001b[1;31mNoSuchWindowException\u001b[0m: Message: no such window: target window already closed\nfrom unknown error: web view not found\n  (Session info: chrome=126.0.6478.127)\nStacktrace:\n\tGetHandleVerifier [0x00007FF7F8C6EEA2+31554]\n\t(No symbol) [0x00007FF7F8BE7ED9]\n\t(No symbol) [0x00007FF7F8AA872A]\n\t(No symbol) [0x00007FF7F8A7D995]\n\t(No symbol) [0x00007FF7F8B244D7]\n\t(No symbol) [0x00007FF7F8B3C051]\n\t(No symbol) [0x00007FF7F8B1CDD3]\n\t(No symbol) [0x00007FF7F8AEA33B]\n\t(No symbol) [0x00007FF7F8AEAED1]\n\tGetHandleVerifier [0x00007FF7F8F78B1D+3217341]\n\tGetHandleVerifier [0x00007FF7F8FC5AE3+3532675]\n\tGetHandleVerifier [0x00007FF7F8FBB0E0+3489152]\n\tGetHandleVerifier [0x00007FF7F8D1E776+750614]\n\t(No symbol) [0x00007FF7F8BF375F]\n\t(No symbol) [0x00007FF7F8BEEB14]\n\t(No symbol) [0x00007FF7F8BEECA2]\n\t(No symbol) [0x00007FF7F8BDE16F]\n\tBaseThreadInitThunk [0x00007FFC42577374+20]\n\tRtlUserThreadStart [0x00007FFC4361CC91+33]\n"
     ]
    }
   ],
   "source": [
    "# EXTRACCION DATOS IBDM Y LO GUARDAMOS EN LISTAS\n",
    "\n",
    "driver = webdriver.Chrome()\n",
    "\n",
    "driver.get('https://www.imdb.com/')\n",
    "\n",
    "driver.maximize_window()\n",
    "\n",
    "sleep (3)\n",
    "\n",
    "driver.find_element('css selector','#__next > div > div > div.sc-jrcTuL.bPmWiM > div > button.icb-btn.sc-bcXHqe.sc-dkrFOg.sc-iBYQkv.dcvrLS.ddtuHe.dRCGjd').click()\n",
    "\n",
    "nota_imbd = []\n",
    "direccion = []\n",
    "guionista = []\n",
    "argumento = []\n",
    "duracion = []\n",
    "\n",
    "\n",
    "for i in idOwner[:10]:\n",
    "    driver.find_element('css selector','#suggestion-search').send_keys(i, Keys.ENTER)\n",
    "    sleep(5)\n",
    "\n",
    "    try:        \n",
    "        direccion.append(driver.find_element('css selector', '#__next > main > div > section.ipc-page-background.ipc-page-background--base.sc-c41b9732-0.NeSef > section > div:nth-child(5) > section > section > div.sc-491663c0-4.gEsAEH > div.sc-491663c0-6.eQRCDK > div.sc-491663c0-10.emoxHI > section > div.sc-1f50b7c-3.ZYFjc > div > ul > li:nth-child(1) > div > ul > li > a').text)                                                                                   \n",
    "        guionista.append(driver.find_element('css selector', '#__next > main > div > section.ipc-page-background.ipc-page-background--base.sc-c41b9732-0.NeSef > section > div:nth-child(5) > section > section > div.sc-491663c0-4.gEsAEH > div.sc-491663c0-6.eQRCDK > div.sc-491663c0-10.emoxHI > section > div.sc-1f50b7c-3.ZYFjc > div > ul > li:nth-child(2) > div').text)\n",
    "        duracion.append(driver.find_element('css selector', '#__next > main > div > section.ipc-page-background.ipc-page-background--base.sc-c41b9732-0.NeSef > section > div:nth-child(5) > section > section > div.sc-491663c0-3.bdjVSf > div.sc-1f50b7c-0.PUxFE > ul > li:nth-child(3)').text)\n",
    "        nota_imbd.append(driver.find_element('xpath', '//*[@id=\"__next\"]/main/div/section[1]/section/div[3]/section/section/div[2]/div[2]/div/div[1]/a/span/div/div[2]/div[1]/span[1]').text)\n",
    "                                       \n",
    "    except:\n",
    "        try: \n",
    "            direccion.append(driver.find_element('css selector', '#__next > main > div > section.ipc-page-background.ipc-page-background--base.sc-c41b9732-0.NeSef > section > div:nth-child(5) > section > section > div.sc-491663c0-4.yjUiO > div.sc-491663c0-6.lnlBxO > div.sc-491663c0-10.rbXFE > section > div.sc-1f50b7c-3.ZYFjc > div > ul > li:nth-child(1) > div > ul > li > a').text)                                                  \n",
    "            guionista.append(driver.find_element('css selector', '#__next > main > div > section.ipc-page-background.ipc-page-background--base.sc-c41b9732-0.NeSef > section > div:nth-child(5) > section > section > div.sc-491663c0-4.yjUiO > div.sc-491663c0-6.lnlBxO > div.sc-491663c0-10.rbXFE > section > div.sc-1f50b7c-3.ZYFjc > div > ul > li:nth-child(2) > div > ul > li > a').text)                                                   \n",
    "            duracion.append(driver.find_element('xpath', '//*[@id=\"__next\"]/main/div/section[1]/section/div[3]/section/section/div[2]/div[1]/ul/li[2]').text)\n",
    "        except:\n",
    "            duracion.append(None)\n",
    "    \n",
    "    try:\n",
    "        argumento.append(driver.find_element('css selector', '#__next > main > div > section.ipc-page-background.ipc-page-background--base.sc-c41b9732-0.NeSef > section > div:nth-child(5) > section > section > div.sc-491663c0-4.gEsAEH > div.sc-491663c0-6.eQRCDK > div.sc-491663c0-10.emoxHI > section > p > span.sc-2d37a7c7-1.eSoBYy').text)\n",
    "    except: \n",
    "        print(i)\n",
    "        # argumento.append(driver.find_element('css selector', '#__next > main > div > section.ipc-page-background.ipc-page-background--base.sc-c41b9732-0.NeSef > section > div:nth-child(5) > section > section > div.sc-491663c0-4.yjUiO > div.sc-491663c0-6.lnlBxO > div.sc-491663c0-10.rbXFE > section > p > span.sc-2d37a7c7-0.caYjFF').text)\n"
   ]
  }
 ],
 "metadata": {
  "kernelspec": {
   "display_name": "Python 3",
   "language": "python",
   "name": "python3"
  },
  "language_info": {
   "codemirror_mode": {
    "name": "ipython",
    "version": 3
   },
   "file_extension": ".py",
   "mimetype": "text/x-python",
   "name": "python",
   "nbconvert_exporter": "python",
   "pygments_lexer": "ipython3",
   "version": "3.12.3"
  }
 },
 "nbformat": 4,
 "nbformat_minor": 2
}
