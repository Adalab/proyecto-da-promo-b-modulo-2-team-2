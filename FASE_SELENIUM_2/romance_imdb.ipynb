{
 "cells": [
  {
   "cell_type": "code",
   "execution_count": 2,
   "metadata": {},
   "outputs": [],
   "source": [
    "import pandas as pd\n",
    "from selenium import webdriver  # Selenium es una herramienta para automatizar la interacción con navegadores web.\n",
    "from webdriver_manager.chrome import ChromeDriverManager  # ChromeDriverManager gestiona la instalación del controlador de Chrome.\n",
    "from selenium.webdriver.common.keys import Keys  # Keys es útil para simular eventos de teclado en Selenium.\n",
    "from selenium.webdriver.support.ui import Select  # Select se utiliza para interactuar con elementos <select> en páginas web.\n",
    "from time import sleep\n",
    "from tqdm import tqdm"
   ]
  },
  {
   "cell_type": "code",
   "execution_count": 3,
   "metadata": {},
   "outputs": [
    {
     "name": "stdout",
     "output_type": "stream",
     "text": [
      "    Unnamed: 0    idOwner                        Title   Type  Year    Genre\n",
      "0            0  tt0079258                     Habfürdö  Movie  1980  Romance\n",
      "1            1  tt0079014             Cuentos eróticos  Movie  1980  Romance\n",
      "2            2  tt0079579       Moskva slezam ne verit  Movie  1980  Romance\n",
      "3            3  tt0079835  S lyubimymi ne rasstavaytes  Movie  1980  Romance\n",
      "4            4  tt0077648             Habibi, amor mío  Movie  1981  Romance\n",
      "..         ...        ...                          ...    ...   ...      ...\n",
      "69          69  tt0107834               La delegazione  Movie  1994  Romance\n",
      "70          70  tt0107677                  Nexus 2.431  Movie  1994  Romance\n",
      "71          71  tt0109363         Seeking the Cafe Bob  Movie  1995  Romance\n",
      "72          72  tt0109489                  Costa Brava  Movie  1995  Romance\n",
      "73          73  tt0109242             El beso perfecto  Short  1995  Romance\n",
      "\n",
      "[74 rows x 6 columns]\n",
      "['tt0079258', 'tt0079014', 'tt0079579', 'tt0079835', 'tt0077648', 'tt0080541', 'tt0080563', 'tt0080376', 'tt0080591', 'tt0080883', 'tt0082773', 'tt0082361', 'tt0081717', 'tt0082601', 'tt0080693', 'tt0081199', 'tt0084151', 'tt0084085', 'tt0083547', 'tt0083357', 'tt0085227', 'tt0085251', 'tt0085268', 'tt0085320', 'tt0085416', 'tt0086030', 'tt0086330', 'tt0086868', 'tt0086866', 'tt0086854', 'tt0088222', 'tt0088952', 'tt0089064', 'tt0089976', 'tt0089954', 'tt0087084', 'tt0088339', 'tt0087301', 'tt0089089', 'tt0090565', 'tt0090570', 'tt0092294', 'tt0092553', 'tt0092559', 'tt0093371', 'tt0092604', 'tt0092931', 'tt0092903', 'tt0094236', 'tt0092131', 'tt0094314', 'tt0093944', 'tt0096025', 'tt0099027', 'tt0100342', 'tt0100303', 'tt0100327', 'tt0100457', 'tt0099192', 'tt0101953', 'tt0101262', 'tt0101499', 'tt0102385', 'tt0102448', 'tt0103607', 'tt0101996', 'tt0104809', 'tt0103792', 'tt0097416', 'tt0107834', 'tt0107677', 'tt0109363', 'tt0109489', 'tt0109242']\n"
     ]
    }
   ],
   "source": [
    "df_romance = pd.read_csv(\"../FASE_API_1/Romance.csv\")\n",
    "\n",
    "print(df_romance)\n",
    "\n",
    "idOwner = []\n",
    "\n",
    "for i in df_romance[\"idOwner\"]:\n",
    "    idOwner.append(i)\n",
    "    \n",
    "\n",
    "print(idOwner)\n",
    "    "
   ]
  },
  {
   "cell_type": "code",
   "execution_count": 15,
   "metadata": {},
   "outputs": [
    {
     "name": "stderr",
     "output_type": "stream",
     "text": [
      "  1%|▏         | 1/74 [00:08<10:28,  8.62s/it]"
     ]
    },
    {
     "name": "stdout",
     "output_type": "stream",
     "text": [
      "bucle 1 - i:  1  iniciando....\n",
      "bucle 1 EXCEPT - i:  1  finalizado....\n",
      "bucle 2 - i:  1  iniciando....\n",
      "bucle 2 - i:  1  fin....\n",
      "bucle 2 - i:  2  iniciando....\n",
      "bucle 2 EXCEPT - i:  2  fin....\n"
     ]
    },
    {
     "name": "stderr",
     "output_type": "stream",
     "text": [
      "  3%|▎         | 2/74 [00:15<09:28,  7.89s/it]"
     ]
    },
    {
     "name": "stdout",
     "output_type": "stream",
     "text": [
      "bucle 1 - i:  1  iniciando....\n",
      "bucle 1 EXCEPT - i:  1  finalizado....\n",
      "bucle 2 - i:  1  iniciando....\n",
      "bucle 2 - i:  1  fin....\n",
      "bucle 2 - i:  2  iniciando....\n",
      "bucle 2 - i:  2  fin....\n",
      "bucle 2 - i:  3  iniciando....\n",
      "bucle 2 - i:  3  fin....\n",
      "bucle 2 - i:  4  iniciando....\n",
      "bucle 2 EXCEPT - i:  4  fin....\n"
     ]
    },
    {
     "name": "stderr",
     "output_type": "stream",
     "text": [
      "  4%|▍         | 3/74 [00:24<09:26,  7.97s/it]"
     ]
    },
    {
     "name": "stdout",
     "output_type": "stream",
     "text": [
      "bucle 1 - i:  1  iniciando....\n",
      "bucle 1 EXCEPT - i:  1  finalizado....\n",
      "bucle 2 - i:  1  iniciando....\n",
      "bucle 2 - i:  1  fin....\n",
      "bucle 2 - i:  2  iniciando....\n",
      "bucle 2 - i:  2  fin....\n",
      "bucle 2 - i:  3  iniciando....\n",
      "bucle 2 EXCEPT - i:  3  fin....\n"
     ]
    },
    {
     "name": "stderr",
     "output_type": "stream",
     "text": [
      "  5%|▌         | 4/74 [00:32<09:21,  8.02s/it]"
     ]
    },
    {
     "name": "stdout",
     "output_type": "stream",
     "text": [
      "bucle 1 - i:  1  iniciando....\n",
      "bucle 1 EXCEPT - i:  1  finalizado....\n",
      "bucle 2 - i:  1  iniciando....\n",
      "bucle 2 - i:  1  fin....\n",
      "bucle 2 - i:  2  iniciando....\n",
      "bucle 2 EXCEPT - i:  2  fin....\n"
     ]
    },
    {
     "name": "stderr",
     "output_type": "stream",
     "text": [
      "  7%|▋         | 5/74 [00:40<09:16,  8.07s/it]"
     ]
    },
    {
     "name": "stdout",
     "output_type": "stream",
     "text": [
      "bucle 1 - i:  1  iniciando....\n",
      "bucle 1 EXCEPT - i:  1  finalizado....\n",
      "bucle 2 - i:  1  iniciando....\n",
      "bucle 2 - i:  1  fin....\n",
      "bucle 2 - i:  2  iniciando....\n",
      "bucle 2 - i:  2  fin....\n",
      "bucle 2 - i:  3  iniciando....\n",
      "bucle 2 EXCEPT - i:  3  fin....\n"
     ]
    },
    {
     "name": "stderr",
     "output_type": "stream",
     "text": [
      "  8%|▊         | 6/74 [00:48<09:11,  8.11s/it]"
     ]
    },
    {
     "name": "stdout",
     "output_type": "stream",
     "text": [
      "bucle 1 - i:  1  iniciando....\n",
      "bucle 1 EXCEPT - i:  1  finalizado....\n",
      "bucle 2 - i:  1  iniciando....\n",
      "bucle 2 - i:  1  fin....\n",
      "bucle 2 - i:  2  iniciando....\n",
      "bucle 2 EXCEPT - i:  2  fin....\n"
     ]
    },
    {
     "name": "stderr",
     "output_type": "stream",
     "text": [
      "  9%|▉         | 7/74 [00:56<09:00,  8.06s/it]"
     ]
    },
    {
     "name": "stdout",
     "output_type": "stream",
     "text": [
      "bucle 1 - i:  1  iniciando....\n",
      "bucle 1 EXCEPT - i:  1  finalizado....\n",
      "bucle 2 - i:  1  iniciando....\n",
      "bucle 2 - i:  1  fin....\n",
      "bucle 2 - i:  2  iniciando....\n",
      "bucle 2 - i:  2  fin....\n",
      "bucle 2 - i:  3  iniciando....\n",
      "bucle 2 EXCEPT - i:  3  fin....\n"
     ]
    },
    {
     "name": "stderr",
     "output_type": "stream",
     "text": [
      " 11%|█         | 8/74 [01:05<09:05,  8.26s/it]"
     ]
    },
    {
     "name": "stdout",
     "output_type": "stream",
     "text": [
      "bucle 1 - i:  1  iniciando....\n",
      "bucle 1 EXCEPT - i:  1  finalizado....\n",
      "bucle 2 - i:  1  iniciando....\n",
      "bucle 2 - i:  1  fin....\n",
      "bucle 2 - i:  2  iniciando....\n",
      "bucle 2 - i:  2  fin....\n",
      "bucle 2 - i:  3  iniciando....\n",
      "bucle 2 - i:  3  fin....\n",
      "bucle 2 - i:  4  iniciando....\n",
      "bucle 2 EXCEPT - i:  4  fin....\n"
     ]
    },
    {
     "name": "stderr",
     "output_type": "stream",
     "text": [
      " 12%|█▏        | 9/74 [01:13<08:52,  8.19s/it]"
     ]
    },
    {
     "name": "stdout",
     "output_type": "stream",
     "text": [
      "bucle 1 - i:  1  iniciando....\n",
      "bucle 1 EXCEPT - i:  1  finalizado....\n",
      "bucle 2 - i:  1  iniciando....\n",
      "bucle 2 - i:  1  fin....\n",
      "bucle 2 - i:  2  iniciando....\n",
      "bucle 2 - i:  2  fin....\n",
      "bucle 2 - i:  3  iniciando....\n",
      "bucle 2 - i:  3  fin....\n",
      "bucle 2 - i:  4  iniciando....\n",
      "bucle 2 EXCEPT - i:  4  fin....\n"
     ]
    },
    {
     "name": "stderr",
     "output_type": "stream",
     "text": [
      " 14%|█▎        | 10/74 [01:20<08:21,  7.83s/it]"
     ]
    },
    {
     "name": "stdout",
     "output_type": "stream",
     "text": [
      "bucle 1 - i:  1  iniciando....\n",
      "bucle 1 EXCEPT - i:  1  finalizado....\n",
      "bucle 2 - i:  1  iniciando....\n",
      "bucle 2 - i:  1  fin....\n",
      "bucle 2 - i:  2  iniciando....\n",
      "bucle 2 - i:  2  fin....\n",
      "bucle 2 - i:  3  iniciando....\n",
      "bucle 2 EXCEPT - i:  3  fin....\n"
     ]
    },
    {
     "name": "stderr",
     "output_type": "stream",
     "text": [
      " 14%|█▎        | 10/74 [01:27<09:21,  8.77s/it]"
     ]
    },
    {
     "name": "stdout",
     "output_type": "stream",
     "text": [
      "bucle 1 - i:  1  iniciando....\n",
      "bucle 1 EXCEPT - i:  1  finalizado....\n"
     ]
    },
    {
     "name": "stderr",
     "output_type": "stream",
     "text": [
      "\n"
     ]
    },
    {
     "ename": "NoSuchElementException",
     "evalue": "Message: no such element: Unable to locate element: {\"method\":\"css selector\",\"selector\":\"#__next > main > div > section.ipc-page-background.ipc-page-background--base.sc-c41b9732-0.NeSef > section > div:nth-child(5) > section > section > div.sc-491663c0-4.gEsAEH > div.sc-491663c0-6.eQRCDK > div.sc-491663c0-10.emoxHI > section > div.sc-1f50b7c-3.ZYFjc > div > ul > li:nth-child(1) > div > ul > li > a\"}\n  (Session info: chrome=126.0.6478.128); For documentation on this error, please visit: https://www.selenium.dev/documentation/webdriver/troubleshooting/errors#no-such-element-exception\nStacktrace:\n\tGetHandleVerifier [0x00007FF6D3E5EEB2+31554]\n\t(No symbol) [0x00007FF6D3DD7EE9]\n\t(No symbol) [0x00007FF6D3C9872A]\n\t(No symbol) [0x00007FF6D3CE8434]\n\t(No symbol) [0x00007FF6D3CE853C]\n\t(No symbol) [0x00007FF6D3D2F6A7]\n\t(No symbol) [0x00007FF6D3D0D06F]\n\t(No symbol) [0x00007FF6D3D2C977]\n\t(No symbol) [0x00007FF6D3D0CDD3]\n\t(No symbol) [0x00007FF6D3CDA33B]\n\t(No symbol) [0x00007FF6D3CDAED1]\n\tGetHandleVerifier [0x00007FF6D4168B2D+3217341]\n\tGetHandleVerifier [0x00007FF6D41B5AF3+3532675]\n\tGetHandleVerifier [0x00007FF6D41AB0F0+3489152]\n\tGetHandleVerifier [0x00007FF6D3F0E786+750614]\n\t(No symbol) [0x00007FF6D3DE376F]\n\t(No symbol) [0x00007FF6D3DDEB24]\n\t(No symbol) [0x00007FF6D3DDECB2]\n\t(No symbol) [0x00007FF6D3DCE17F]\n\tBaseThreadInitThunk [0x00007FFDDB71257D+29]\n\tRtlUserThreadStart [0x00007FFDDC78AF28+40]\n",
     "output_type": "error",
     "traceback": [
      "\u001b[1;31m---------------------------------------------------------------------------\u001b[0m",
      "\u001b[1;31mNoSuchElementException\u001b[0m                    Traceback (most recent call last)",
      "Cell \u001b[1;32mIn[15], line 60\u001b[0m\n\u001b[0;32m     59\u001b[0m \u001b[38;5;28mprint\u001b[39m(\u001b[38;5;124m'\u001b[39m\u001b[38;5;124mbucle 1 - i: \u001b[39m\u001b[38;5;124m'\u001b[39m, i, \u001b[38;5;124m'\u001b[39m\u001b[38;5;124m iniciando....\u001b[39m\u001b[38;5;124m'\u001b[39m)\n\u001b[1;32m---> 60\u001b[0m direccion_multiple\u001b[38;5;241m.\u001b[39mappend(\u001b[43mdriver\u001b[49m\u001b[38;5;241;43m.\u001b[39;49m\u001b[43mfind_element\u001b[49m\u001b[43m(\u001b[49m\u001b[38;5;124;43m'\u001b[39;49m\u001b[38;5;124;43mcss selector\u001b[39;49m\u001b[38;5;124;43m'\u001b[39;49m\u001b[43m,\u001b[49m\u001b[43m \u001b[49m\u001b[38;5;124;43mf\u001b[39;49m\u001b[38;5;124;43m'\u001b[39;49m\u001b[38;5;124;43m#__next > main > div > section.ipc-page-background.ipc-page-background--base.sc-c41b9732-0.NeSef > section > div:nth-child(5) > section > section > div.sc-491663c0-4.yjUiO > div.sc-491663c0-6.lnlBxO > div.sc-491663c0-10.rbXFE > section > div.sc-1f50b7c-3.ZYFjc > div > ul > li:nth-child(1) > div > ul > li:nth-child(\u001b[39;49m\u001b[38;5;132;43;01m{\u001b[39;49;00m\u001b[43mi\u001b[49m\u001b[38;5;132;43;01m}\u001b[39;49;00m\u001b[38;5;124;43m) > a\u001b[39;49m\u001b[38;5;124;43m'\u001b[39;49m\u001b[43m)\u001b[49m\u001b[38;5;241m.\u001b[39mtext)\n\u001b[0;32m     61\u001b[0m \u001b[38;5;28mprint\u001b[39m(\u001b[38;5;124m'\u001b[39m\u001b[38;5;124mbucle 1 - i: \u001b[39m\u001b[38;5;124m'\u001b[39m, i, \u001b[38;5;124m'\u001b[39m\u001b[38;5;124m finalizado....\u001b[39m\u001b[38;5;124m'\u001b[39m)\n",
      "File \u001b[1;32mc:\\Users\\leyre\\AppData\\Local\\Programs\\Python\\Python312\\Lib\\site-packages\\selenium\\webdriver\\remote\\webdriver.py:741\u001b[0m, in \u001b[0;36mWebDriver.find_element\u001b[1;34m(self, by, value)\u001b[0m\n\u001b[0;32m    739\u001b[0m     value \u001b[38;5;241m=\u001b[39m \u001b[38;5;124mf\u001b[39m\u001b[38;5;124m'\u001b[39m\u001b[38;5;124m[name=\u001b[39m\u001b[38;5;124m\"\u001b[39m\u001b[38;5;132;01m{\u001b[39;00mvalue\u001b[38;5;132;01m}\u001b[39;00m\u001b[38;5;124m\"\u001b[39m\u001b[38;5;124m]\u001b[39m\u001b[38;5;124m'\u001b[39m\n\u001b[1;32m--> 741\u001b[0m \u001b[38;5;28;01mreturn\u001b[39;00m \u001b[38;5;28;43mself\u001b[39;49m\u001b[38;5;241;43m.\u001b[39;49m\u001b[43mexecute\u001b[49m\u001b[43m(\u001b[49m\u001b[43mCommand\u001b[49m\u001b[38;5;241;43m.\u001b[39;49m\u001b[43mFIND_ELEMENT\u001b[49m\u001b[43m,\u001b[49m\u001b[43m \u001b[49m\u001b[43m{\u001b[49m\u001b[38;5;124;43m\"\u001b[39;49m\u001b[38;5;124;43musing\u001b[39;49m\u001b[38;5;124;43m\"\u001b[39;49m\u001b[43m:\u001b[49m\u001b[43m \u001b[49m\u001b[43mby\u001b[49m\u001b[43m,\u001b[49m\u001b[43m \u001b[49m\u001b[38;5;124;43m\"\u001b[39;49m\u001b[38;5;124;43mvalue\u001b[39;49m\u001b[38;5;124;43m\"\u001b[39;49m\u001b[43m:\u001b[49m\u001b[43m \u001b[49m\u001b[43mvalue\u001b[49m\u001b[43m}\u001b[49m\u001b[43m)\u001b[49m[\u001b[38;5;124m\"\u001b[39m\u001b[38;5;124mvalue\u001b[39m\u001b[38;5;124m\"\u001b[39m]\n",
      "File \u001b[1;32mc:\\Users\\leyre\\AppData\\Local\\Programs\\Python\\Python312\\Lib\\site-packages\\selenium\\webdriver\\remote\\webdriver.py:347\u001b[0m, in \u001b[0;36mWebDriver.execute\u001b[1;34m(self, driver_command, params)\u001b[0m\n\u001b[0;32m    346\u001b[0m \u001b[38;5;28;01mif\u001b[39;00m response:\n\u001b[1;32m--> 347\u001b[0m     \u001b[38;5;28;43mself\u001b[39;49m\u001b[38;5;241;43m.\u001b[39;49m\u001b[43merror_handler\u001b[49m\u001b[38;5;241;43m.\u001b[39;49m\u001b[43mcheck_response\u001b[49m\u001b[43m(\u001b[49m\u001b[43mresponse\u001b[49m\u001b[43m)\u001b[49m\n\u001b[0;32m    348\u001b[0m     response[\u001b[38;5;124m\"\u001b[39m\u001b[38;5;124mvalue\u001b[39m\u001b[38;5;124m\"\u001b[39m] \u001b[38;5;241m=\u001b[39m \u001b[38;5;28mself\u001b[39m\u001b[38;5;241m.\u001b[39m_unwrap_value(response\u001b[38;5;241m.\u001b[39mget(\u001b[38;5;124m\"\u001b[39m\u001b[38;5;124mvalue\u001b[39m\u001b[38;5;124m\"\u001b[39m, \u001b[38;5;28;01mNone\u001b[39;00m))\n",
      "File \u001b[1;32mc:\\Users\\leyre\\AppData\\Local\\Programs\\Python\\Python312\\Lib\\site-packages\\selenium\\webdriver\\remote\\errorhandler.py:229\u001b[0m, in \u001b[0;36mErrorHandler.check_response\u001b[1;34m(self, response)\u001b[0m\n\u001b[0;32m    228\u001b[0m     \u001b[38;5;28;01mraise\u001b[39;00m exception_class(message, screen, stacktrace, alert_text)  \u001b[38;5;66;03m# type: ignore[call-arg]  # mypy is not smart enough here\u001b[39;00m\n\u001b[1;32m--> 229\u001b[0m \u001b[38;5;28;01mraise\u001b[39;00m exception_class(message, screen, stacktrace)\n",
      "\u001b[1;31mNoSuchElementException\u001b[0m: Message: no such element: Unable to locate element: {\"method\":\"css selector\",\"selector\":\"#__next > main > div > section.ipc-page-background.ipc-page-background--base.sc-c41b9732-0.NeSef > section > div:nth-child(5) > section > section > div.sc-491663c0-4.yjUiO > div.sc-491663c0-6.lnlBxO > div.sc-491663c0-10.rbXFE > section > div.sc-1f50b7c-3.ZYFjc > div > ul > li:nth-child(1) > div > ul > li:nth-child(1) > a\"}\n  (Session info: chrome=126.0.6478.128); For documentation on this error, please visit: https://www.selenium.dev/documentation/webdriver/troubleshooting/errors#no-such-element-exception\nStacktrace:\n\tGetHandleVerifier [0x00007FF6D3E5EEB2+31554]\n\t(No symbol) [0x00007FF6D3DD7EE9]\n\t(No symbol) [0x00007FF6D3C9872A]\n\t(No symbol) [0x00007FF6D3CE8434]\n\t(No symbol) [0x00007FF6D3CE853C]\n\t(No symbol) [0x00007FF6D3D2F6A7]\n\t(No symbol) [0x00007FF6D3D0D06F]\n\t(No symbol) [0x00007FF6D3D2C977]\n\t(No symbol) [0x00007FF6D3D0CDD3]\n\t(No symbol) [0x00007FF6D3CDA33B]\n\t(No symbol) [0x00007FF6D3CDAED1]\n\tGetHandleVerifier [0x00007FF6D4168B2D+3217341]\n\tGetHandleVerifier [0x00007FF6D41B5AF3+3532675]\n\tGetHandleVerifier [0x00007FF6D41AB0F0+3489152]\n\tGetHandleVerifier [0x00007FF6D3F0E786+750614]\n\t(No symbol) [0x00007FF6D3DE376F]\n\t(No symbol) [0x00007FF6D3DDEB24]\n\t(No symbol) [0x00007FF6D3DDECB2]\n\t(No symbol) [0x00007FF6D3DCE17F]\n\tBaseThreadInitThunk [0x00007FFDDB71257D+29]\n\tRtlUserThreadStart [0x00007FFDDC78AF28+40]\n",
      "\nDuring handling of the above exception, another exception occurred:\n",
      "\u001b[1;31mNoSuchElementException\u001b[0m                    Traceback (most recent call last)",
      "Cell \u001b[1;32mIn[15], line 69\u001b[0m\n\u001b[0;32m     67\u001b[0m                 \u001b[38;5;28;01mcontinue\u001b[39;00m\n\u001b[0;32m     68\u001b[0m         \u001b[38;5;28;01melse\u001b[39;00m:\n\u001b[1;32m---> 69\u001b[0m                 direccion\u001b[38;5;241m.\u001b[39mappend(\u001b[43mdriver\u001b[49m\u001b[38;5;241;43m.\u001b[39;49m\u001b[43mfind_element\u001b[49m\u001b[43m(\u001b[49m\u001b[38;5;124;43m'\u001b[39;49m\u001b[38;5;124;43mcss selector\u001b[39;49m\u001b[38;5;124;43m'\u001b[39;49m\u001b[43m,\u001b[49m\u001b[43m \u001b[49m\u001b[38;5;124;43m'\u001b[39;49m\u001b[38;5;124;43m#__next > main > div > section.ipc-page-background.ipc-page-background--base.sc-c41b9732-0.NeSef > section > div:nth-child(5) > section > section > div.sc-491663c0-4.gEsAEH > div.sc-491663c0-6.eQRCDK > div.sc-491663c0-10.emoxHI > section > div.sc-1f50b7c-3.ZYFjc > div > ul > li:nth-child(1) > div > ul > li > a\u001b[39;49m\u001b[38;5;124;43m'\u001b[39;49m\u001b[43m)\u001b[49m\u001b[38;5;241m.\u001b[39mtext)                                                                                   \n\u001b[0;32m     74\u001b[0m i\u001b[38;5;241m=\u001b[39m\u001b[38;5;241m0\u001b[39m\n\u001b[0;32m     75\u001b[0m guionista_multiple \u001b[38;5;241m=\u001b[39m []\n",
      "File \u001b[1;32mc:\\Users\\leyre\\AppData\\Local\\Programs\\Python\\Python312\\Lib\\site-packages\\selenium\\webdriver\\remote\\webdriver.py:741\u001b[0m, in \u001b[0;36mWebDriver.find_element\u001b[1;34m(self, by, value)\u001b[0m\n\u001b[0;32m    738\u001b[0m     by \u001b[38;5;241m=\u001b[39m By\u001b[38;5;241m.\u001b[39mCSS_SELECTOR\n\u001b[0;32m    739\u001b[0m     value \u001b[38;5;241m=\u001b[39m \u001b[38;5;124mf\u001b[39m\u001b[38;5;124m'\u001b[39m\u001b[38;5;124m[name=\u001b[39m\u001b[38;5;124m\"\u001b[39m\u001b[38;5;132;01m{\u001b[39;00mvalue\u001b[38;5;132;01m}\u001b[39;00m\u001b[38;5;124m\"\u001b[39m\u001b[38;5;124m]\u001b[39m\u001b[38;5;124m'\u001b[39m\n\u001b[1;32m--> 741\u001b[0m \u001b[38;5;28;01mreturn\u001b[39;00m \u001b[38;5;28;43mself\u001b[39;49m\u001b[38;5;241;43m.\u001b[39;49m\u001b[43mexecute\u001b[49m\u001b[43m(\u001b[49m\u001b[43mCommand\u001b[49m\u001b[38;5;241;43m.\u001b[39;49m\u001b[43mFIND_ELEMENT\u001b[49m\u001b[43m,\u001b[49m\u001b[43m \u001b[49m\u001b[43m{\u001b[49m\u001b[38;5;124;43m\"\u001b[39;49m\u001b[38;5;124;43musing\u001b[39;49m\u001b[38;5;124;43m\"\u001b[39;49m\u001b[43m:\u001b[49m\u001b[43m \u001b[49m\u001b[43mby\u001b[49m\u001b[43m,\u001b[49m\u001b[43m \u001b[49m\u001b[38;5;124;43m\"\u001b[39;49m\u001b[38;5;124;43mvalue\u001b[39;49m\u001b[38;5;124;43m\"\u001b[39;49m\u001b[43m:\u001b[49m\u001b[43m \u001b[49m\u001b[43mvalue\u001b[49m\u001b[43m}\u001b[49m\u001b[43m)\u001b[49m[\u001b[38;5;124m\"\u001b[39m\u001b[38;5;124mvalue\u001b[39m\u001b[38;5;124m\"\u001b[39m]\n",
      "File \u001b[1;32mc:\\Users\\leyre\\AppData\\Local\\Programs\\Python\\Python312\\Lib\\site-packages\\selenium\\webdriver\\remote\\webdriver.py:347\u001b[0m, in \u001b[0;36mWebDriver.execute\u001b[1;34m(self, driver_command, params)\u001b[0m\n\u001b[0;32m    345\u001b[0m response \u001b[38;5;241m=\u001b[39m \u001b[38;5;28mself\u001b[39m\u001b[38;5;241m.\u001b[39mcommand_executor\u001b[38;5;241m.\u001b[39mexecute(driver_command, params)\n\u001b[0;32m    346\u001b[0m \u001b[38;5;28;01mif\u001b[39;00m response:\n\u001b[1;32m--> 347\u001b[0m     \u001b[38;5;28;43mself\u001b[39;49m\u001b[38;5;241;43m.\u001b[39;49m\u001b[43merror_handler\u001b[49m\u001b[38;5;241;43m.\u001b[39;49m\u001b[43mcheck_response\u001b[49m\u001b[43m(\u001b[49m\u001b[43mresponse\u001b[49m\u001b[43m)\u001b[49m\n\u001b[0;32m    348\u001b[0m     response[\u001b[38;5;124m\"\u001b[39m\u001b[38;5;124mvalue\u001b[39m\u001b[38;5;124m\"\u001b[39m] \u001b[38;5;241m=\u001b[39m \u001b[38;5;28mself\u001b[39m\u001b[38;5;241m.\u001b[39m_unwrap_value(response\u001b[38;5;241m.\u001b[39mget(\u001b[38;5;124m\"\u001b[39m\u001b[38;5;124mvalue\u001b[39m\u001b[38;5;124m\"\u001b[39m, \u001b[38;5;28;01mNone\u001b[39;00m))\n\u001b[0;32m    349\u001b[0m     \u001b[38;5;28;01mreturn\u001b[39;00m response\n",
      "File \u001b[1;32mc:\\Users\\leyre\\AppData\\Local\\Programs\\Python\\Python312\\Lib\\site-packages\\selenium\\webdriver\\remote\\errorhandler.py:229\u001b[0m, in \u001b[0;36mErrorHandler.check_response\u001b[1;34m(self, response)\u001b[0m\n\u001b[0;32m    227\u001b[0m         alert_text \u001b[38;5;241m=\u001b[39m value[\u001b[38;5;124m\"\u001b[39m\u001b[38;5;124malert\u001b[39m\u001b[38;5;124m\"\u001b[39m]\u001b[38;5;241m.\u001b[39mget(\u001b[38;5;124m\"\u001b[39m\u001b[38;5;124mtext\u001b[39m\u001b[38;5;124m\"\u001b[39m)\n\u001b[0;32m    228\u001b[0m     \u001b[38;5;28;01mraise\u001b[39;00m exception_class(message, screen, stacktrace, alert_text)  \u001b[38;5;66;03m# type: ignore[call-arg]  # mypy is not smart enough here\u001b[39;00m\n\u001b[1;32m--> 229\u001b[0m \u001b[38;5;28;01mraise\u001b[39;00m exception_class(message, screen, stacktrace)\n",
      "\u001b[1;31mNoSuchElementException\u001b[0m: Message: no such element: Unable to locate element: {\"method\":\"css selector\",\"selector\":\"#__next > main > div > section.ipc-page-background.ipc-page-background--base.sc-c41b9732-0.NeSef > section > div:nth-child(5) > section > section > div.sc-491663c0-4.gEsAEH > div.sc-491663c0-6.eQRCDK > div.sc-491663c0-10.emoxHI > section > div.sc-1f50b7c-3.ZYFjc > div > ul > li:nth-child(1) > div > ul > li > a\"}\n  (Session info: chrome=126.0.6478.128); For documentation on this error, please visit: https://www.selenium.dev/documentation/webdriver/troubleshooting/errors#no-such-element-exception\nStacktrace:\n\tGetHandleVerifier [0x00007FF6D3E5EEB2+31554]\n\t(No symbol) [0x00007FF6D3DD7EE9]\n\t(No symbol) [0x00007FF6D3C9872A]\n\t(No symbol) [0x00007FF6D3CE8434]\n\t(No symbol) [0x00007FF6D3CE853C]\n\t(No symbol) [0x00007FF6D3D2F6A7]\n\t(No symbol) [0x00007FF6D3D0D06F]\n\t(No symbol) [0x00007FF6D3D2C977]\n\t(No symbol) [0x00007FF6D3D0CDD3]\n\t(No symbol) [0x00007FF6D3CDA33B]\n\t(No symbol) [0x00007FF6D3CDAED1]\n\tGetHandleVerifier [0x00007FF6D4168B2D+3217341]\n\tGetHandleVerifier [0x00007FF6D41B5AF3+3532675]\n\tGetHandleVerifier [0x00007FF6D41AB0F0+3489152]\n\tGetHandleVerifier [0x00007FF6D3F0E786+750614]\n\t(No symbol) [0x00007FF6D3DE376F]\n\t(No symbol) [0x00007FF6D3DDEB24]\n\t(No symbol) [0x00007FF6D3DDECB2]\n\t(No symbol) [0x00007FF6D3DCE17F]\n\tBaseThreadInitThunk [0x00007FFDDB71257D+29]\n\tRtlUserThreadStart [0x00007FFDDC78AF28+40]\n"
     ]
    }
   ],
   "source": [
    "# EXTRACCION DATOS IBDM Y LO GUARDAMOS EN LISTAS\n",
    "\n",
    "driver = webdriver.Chrome()\n",
    "\n",
    "driver.get('https://www.imdb.com/')\n",
    "\n",
    "driver.maximize_window()\n",
    "\n",
    "sleep (3)\n",
    "\n",
    "# aceptamos cookies\n",
    "\n",
    "driver.find_element('css selector','#__next > div > div > div.sc-jrcTuL.bPmWiM > div > button.icb-btn.sc-bcXHqe.sc-dkrFOg.sc-iBYQkv.dcvrLS.ddtuHe.dRCGjd').click()\n",
    "\n",
    "nota_imbd = []\n",
    "direccion = []\n",
    "guionista = []\n",
    "argumento = []\n",
    "duracion = []\n",
    "nombre = []\n",
    "\n",
    "\n",
    "for i in tqdm(idOwner):\n",
    "        driver.find_element('css selector','#suggestion-search').send_keys(i, Keys.ENTER)\n",
    "        sleep(5)\n",
    "        \n",
    "        nombre.append(driver.find_element('css selector', '#__next > main > div > section.ipc-page-background.ipc-page-background--base.sc-c41b9732-0.NeSef > section > div:nth-child(5) > section > section > div.sc-491663c0-3.bdjVSf > div.sc-1f50b7c-0.PUxFE > h1 > span').text)\n",
    "        \n",
    "        try: \n",
    "                nota_imbd.append(driver.find_element('xpath', '//*[@id=\"__next\"]/main/div/section[1]/section/div[3]/section/section/div[2]/div[2]/div/div[1]/a/span/div/div[2]/div[1]/span[1]').text)\n",
    "        except:\n",
    "                nota_imbd.append(None)\n",
    "\n",
    "        \n",
    "        try: \n",
    "                duracion.append(driver.find_element('css selector', '#__next > main > div > section.ipc-page-background.ipc-page-background--base.sc-c41b9732-0.NeSef > section > div:nth-child(5) > section > section > div.sc-491663c0-3.bdjVSf > div.sc-1f50b7c-0.PUxFE > ul > li:nth-child(3)').text)\n",
    "        except:\n",
    "                try:\n",
    "                        duracion.append(driver.find_element('xpath', '//*[@id=\"__next\"]/main/div/section[1]/section/div[3]/section/section/div[2]/div[1]/ul/li[2]').text)\n",
    "                \n",
    "                except:\n",
    "                        duracion.append(None)  \n",
    "                        \n",
    "        \n",
    "        \n",
    "        try:\n",
    "                argumento.append(driver.find_element('css selector', '#__next > main > div > section.ipc-page-background.ipc-page-background--base.sc-c41b9732-0.NeSef > section > div:nth-child(5) > section > section > div.sc-491663c0-4.gEsAEH > div.sc-491663c0-6.eQRCDK > div.sc-491663c0-10.emoxHI > section > p > span.sc-2d37a7c7-2.PeLXr').text)\n",
    "        except:\n",
    "                try:\n",
    "                        argumento.append(driver.find_element('css selector', '#__next > main > div > section.ipc-page-background.ipc-page-background--base.sc-c41b9732-0.NeSef > section > div:nth-child(5) > section > section > div.sc-491663c0-4.yjUiO > div.sc-491663c0-6.lnlBxO > div.sc-491663c0-10.rbXFE > section > p > span.sc-2d37a7c7-2.PeLXr').text)\n",
    "                \n",
    "                except: \n",
    "                        argumento.append(None)\n",
    "        i = 0\n",
    "        direccion_multiple = []\n",
    "        try:    \n",
    "                while True: \n",
    "                        i+=1\n",
    "                        print('bucle 1 - i: ', i, ' iniciando....')\n",
    "                        direccion_multiple.append(driver.find_element('css selector', f'#__next > main > div > section.ipc-page-background.ipc-page-background--base.sc-c41b9732-0.NeSef > section > div:nth-child(5) > section > section > div.sc-491663c0-4.yjUiO > div.sc-491663c0-6.lnlBxO > div.sc-491663c0-10.rbXFE > section > div.sc-1f50b7c-3.ZYFjc > div > ul > li:nth-child(1) > div > ul > li:nth-child({i}) > a').text)\n",
    "                        print('bucle 1 - i: ', i, ' finalizado....')\n",
    "\n",
    "        except:\n",
    "                print('bucle 1 EXCEPT - i: ', i, ' finalizado....')\n",
    "                if i > 1:\n",
    "                        direccion.append(tuple(direccion_multiple))\n",
    "                        continue\n",
    "                else:\n",
    "                        direccion.append(driver.find_element('css selector', '#__next > main > div > section.ipc-page-background.ipc-page-background--base.sc-c41b9732-0.NeSef > section > div:nth-child(5) > section > section > div.sc-491663c0-4.gEsAEH > div.sc-491663c0-6.eQRCDK > div.sc-491663c0-10.emoxHI > section > div.sc-1f50b7c-3.ZYFjc > div > ul > li:nth-child(1) > div > ul > li > a').text)                                                                                   \n",
    "        \n",
    "        \n",
    "\n",
    "               \n",
    "        i=0\n",
    "        guionista_multiple = []\n",
    "        try:\n",
    "                while True:\n",
    "                        i+=1\n",
    "                        print('bucle 2 - i: ', i, ' iniciando....')\n",
    "                        guionista_multiple.append(driver.find_element('css selector', f'#__next > main > div > section.ipc-page-background.ipc-page-background--base.sc-c41b9732-0.NeSef > section > div:nth-child(5) > section > section > div.sc-491663c0-4.gEsAEH > div.sc-491663c0-6.eQRCDK > div.sc-491663c0-10.emoxHI > section > div.sc-1f50b7c-3.ZYFjc > div > ul > li:nth-child(2) > div > ul > li:nth-child({i}) > a').text)\n",
    "                        print('bucle 2 - i: ', i, ' fin....')\n",
    "\n",
    "        except:\n",
    "                print('bucle 2 EXCEPT - i: ', i, ' fin....')\n",
    "                if i > 1:\n",
    "                        guionista.append(tuple(guionista_multiple))\n",
    "                        continue\n",
    "                else:\n",
    "                        guionista.append(driver.find_element('css selector', '#__next > main > div > section.ipc-page-background.ipc-page-background--base.sc-c41b9732-0.NeSef > section > div:nth-child(5) > section > section > div.sc-491663c0-4.yjUiO > div.sc-491663c0-6.lnlBxO > div.sc-491663c0-10.rbXFE > section > div.sc-1f50b7c-3.ZYFjc > div > ul > li:nth-child(2) > div > ul > li > a').text)                                        \n",
    "                          \n",
    "\n",
    "\n",
    "driver.close()\n",
    "\n",
    "    \n",
    "\n"
   ]
  },
  {
   "cell_type": "code",
   "execution_count": 5,
   "metadata": {},
   "outputs": [],
   "source": [
    "duracion_mins = []\n",
    "\n",
    "for peli in duracion:\n",
    "        \n",
    "        if peli == None:\n",
    "                duracion_mins.append(None)\n",
    "                \n",
    "        elif 'h' in peli:\n",
    "                horas,minutos = peli.split('h')\n",
    "                horas = int(horas.strip())\n",
    "                minutos = int(minutos.replace('min', '').strip())\n",
    "                total_minutos = horas * 60 + minutos\n",
    "                duracion_mins.append(total_minutos)\n",
    "\n",
    "        elif 'min' in peli:\n",
    "\n",
    "                minutos = int(peli.replace('min'))\n",
    "                total_minutos = int(peli.replace('min', '').strip())\n",
    "                duracion_mins.append(total_minutos)\n"
   ]
  },
  {
   "cell_type": "code",
   "execution_count": 9,
   "metadata": {},
   "outputs": [],
   "source": [
    "romance_films_imdb = list(set(zip(nombre,nota_imbd,direccion,guionista,argumento,duracion_mins)))"
   ]
  },
  {
   "cell_type": "code",
   "execution_count": 10,
   "metadata": {},
   "outputs": [
    {
     "name": "stdout",
     "output_type": "stream",
     "text": [
      "[('Cuentos eróticos', '4,1', 'Enrique Brasó', ('Enrique Brasó', 'Jaime Chávarri', 'Fernando Colomo'), '', 99), ('Moscú no cree en las lágrimas', '8,0', 'Vladimir Menshov', ('Valentin Chernykh', 'Vladimir Menshov'), 'Esta es la historia de la vida de tres novias desde la juventud hasta el otoño. Sus sueños y deseos, el amor y las decepciones.', 150), ('Habfürdö', '7,1', 'György Kovásznai', ('György Kovásznai',), 'On his wedding day, eccentric 40-something shop decorator Zsolt Mohai visits Anna Parádi, asking her to call off his marriage to Klára Horváth. Drama and musical numbers follow as they discuss romance, loyalty, ambition.', 79)]\n"
     ]
    }
   ],
   "source": [
    "print(romance_films_imdb)"
   ]
  },
  {
   "cell_type": "code",
   "execution_count": 11,
   "metadata": {},
   "outputs": [],
   "source": [
    "romance_films_imdb_df = pd.DataFrame(romance_films_imdb, columns = [\"nombre\", \"nota imdb\", \"direccion\", \"guionista\", \"sinopsis\", \"duracion (minutos)\"])\n"
   ]
  },
  {
   "cell_type": "code",
   "execution_count": 12,
   "metadata": {},
   "outputs": [
    {
     "data": {
      "text/html": [
       "<div>\n",
       "<style scoped>\n",
       "    .dataframe tbody tr th:only-of-type {\n",
       "        vertical-align: middle;\n",
       "    }\n",
       "\n",
       "    .dataframe tbody tr th {\n",
       "        vertical-align: top;\n",
       "    }\n",
       "\n",
       "    .dataframe thead th {\n",
       "        text-align: right;\n",
       "    }\n",
       "</style>\n",
       "<table border=\"1\" class=\"dataframe\">\n",
       "  <thead>\n",
       "    <tr style=\"text-align: right;\">\n",
       "      <th></th>\n",
       "      <th>nombre</th>\n",
       "      <th>nota imdb</th>\n",
       "      <th>direccion</th>\n",
       "      <th>guionista</th>\n",
       "      <th>sinopsis</th>\n",
       "      <th>duracion (minutos)</th>\n",
       "    </tr>\n",
       "  </thead>\n",
       "  <tbody>\n",
       "    <tr>\n",
       "      <th>0</th>\n",
       "      <td>Cuentos eróticos</td>\n",
       "      <td>4,1</td>\n",
       "      <td>Enrique Brasó</td>\n",
       "      <td>(Enrique Brasó, Jaime Chávarri, Fernando Colomo)</td>\n",
       "      <td></td>\n",
       "      <td>99</td>\n",
       "    </tr>\n",
       "    <tr>\n",
       "      <th>1</th>\n",
       "      <td>Moscú no cree en las lágrimas</td>\n",
       "      <td>8,0</td>\n",
       "      <td>Vladimir Menshov</td>\n",
       "      <td>(Valentin Chernykh, Vladimir Menshov)</td>\n",
       "      <td>Esta es la historia de la vida de tres novias ...</td>\n",
       "      <td>150</td>\n",
       "    </tr>\n",
       "    <tr>\n",
       "      <th>2</th>\n",
       "      <td>Habfürdö</td>\n",
       "      <td>7,1</td>\n",
       "      <td>György Kovásznai</td>\n",
       "      <td>(György Kovásznai,)</td>\n",
       "      <td>On his wedding day, eccentric 40-something sho...</td>\n",
       "      <td>79</td>\n",
       "    </tr>\n",
       "  </tbody>\n",
       "</table>\n",
       "</div>"
      ],
      "text/plain": [
       "                          nombre nota imdb         direccion  \\\n",
       "0               Cuentos eróticos       4,1     Enrique Brasó   \n",
       "1  Moscú no cree en las lágrimas       8,0  Vladimir Menshov   \n",
       "2                       Habfürdö       7,1  György Kovásznai   \n",
       "\n",
       "                                          guionista  \\\n",
       "0  (Enrique Brasó, Jaime Chávarri, Fernando Colomo)   \n",
       "1             (Valentin Chernykh, Vladimir Menshov)   \n",
       "2                               (György Kovásznai,)   \n",
       "\n",
       "                                            sinopsis  duracion (minutos)  \n",
       "0                                                                     99  \n",
       "1  Esta es la historia de la vida de tres novias ...                 150  \n",
       "2  On his wedding day, eccentric 40-something sho...                  79  "
      ]
     },
     "execution_count": 12,
     "metadata": {},
     "output_type": "execute_result"
    }
   ],
   "source": [
    "romance_films_imdb_df"
   ]
  },
  {
   "cell_type": "code",
   "execution_count": 13,
   "metadata": {},
   "outputs": [],
   "source": [
    "romance_films_imdb_df.to_csv('Romance_imdb.csv')"
   ]
  }
 ],
 "metadata": {
  "kernelspec": {
   "display_name": "Python 3",
   "language": "python",
   "name": "python3"
  },
  "language_info": {
   "codemirror_mode": {
    "name": "ipython",
    "version": 3
   },
   "file_extension": ".py",
   "mimetype": "text/x-python",
   "name": "python",
   "nbconvert_exporter": "python",
   "pygments_lexer": "ipython3",
   "version": "3.12.4"
  }
 },
 "nbformat": 4,
 "nbformat_minor": 2
}
