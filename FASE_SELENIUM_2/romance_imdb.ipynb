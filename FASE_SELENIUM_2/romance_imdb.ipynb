{
 "cells": [
  {
   "cell_type": "code",
   "execution_count": 1,
   "metadata": {},
   "outputs": [],
   "source": [
    "import pandas as pd\n",
    "from selenium import webdriver  # Selenium es una herramienta para automatizar la interacción con navegadores web.\n",
    "from webdriver_manager.chrome import ChromeDriverManager  # ChromeDriverManager gestiona la instalación del controlador de Chrome.\n",
    "from selenium.webdriver.common.keys import Keys  # Keys es útil para simular eventos de teclado en Selenium.\n",
    "from selenium.webdriver.support.ui import Select  # Select se utiliza para interactuar con elementos <select> en páginas web.\n",
    "from time import sleep\n",
    "from tqdm import tqdm"
   ]
  },
  {
   "cell_type": "code",
   "execution_count": 2,
   "metadata": {},
   "outputs": [
    {
     "name": "stdout",
     "output_type": "stream",
     "text": [
      "    Unnamed: 0    idOwner                        Title   Type  Year    Genre\n",
      "0            0  tt0079258                     Habfürdö  Movie  1980  Romance\n",
      "1            1  tt0079014             Cuentos eróticos  Movie  1980  Romance\n",
      "2            2  tt0079579       Moskva slezam ne verit  Movie  1980  Romance\n",
      "3            3  tt0079835  S lyubimymi ne rasstavaytes  Movie  1980  Romance\n",
      "4            4  tt0077648             Habibi, amor mío  Movie  1981  Romance\n",
      "..         ...        ...                          ...    ...   ...      ...\n",
      "69          69  tt0107834               La delegazione  Movie  1994  Romance\n",
      "70          70  tt0107677                  Nexus 2.431  Movie  1994  Romance\n",
      "71          71  tt0109363         Seeking the Cafe Bob  Movie  1995  Romance\n",
      "72          72  tt0109489                  Costa Brava  Movie  1995  Romance\n",
      "73          73  tt0109242             El beso perfecto  Short  1995  Romance\n",
      "\n",
      "[74 rows x 6 columns]\n",
      "['tt0079258', 'tt0079014', 'tt0079579', 'tt0079835', 'tt0077648', 'tt0080541', 'tt0080563', 'tt0080376', 'tt0080591', 'tt0080883', 'tt0082773', 'tt0082361', 'tt0081717', 'tt0082601', 'tt0080693', 'tt0081199', 'tt0084151', 'tt0084085', 'tt0083547', 'tt0083357', 'tt0085227', 'tt0085251', 'tt0085268', 'tt0085320', 'tt0085416', 'tt0086030', 'tt0086330', 'tt0086868', 'tt0086866', 'tt0086854', 'tt0088222', 'tt0088952', 'tt0089064', 'tt0089976', 'tt0089954', 'tt0087084', 'tt0088339', 'tt0087301', 'tt0089089', 'tt0090565', 'tt0090570', 'tt0092294', 'tt0092553', 'tt0092559', 'tt0093371', 'tt0092604', 'tt0092931', 'tt0092903', 'tt0094236', 'tt0092131', 'tt0094314', 'tt0093944', 'tt0096025', 'tt0099027', 'tt0100342', 'tt0100303', 'tt0100327', 'tt0100457', 'tt0099192', 'tt0101953', 'tt0101262', 'tt0101499', 'tt0102385', 'tt0102448', 'tt0103607', 'tt0101996', 'tt0104809', 'tt0103792', 'tt0097416', 'tt0107834', 'tt0107677', 'tt0109363', 'tt0109489', 'tt0109242']\n"
     ]
    }
   ],
   "source": [
    "df_romance = pd.read_csv(\"../FASE_API_1/Romance.csv\")\n",
    "\n",
    "print(df_romance)\n",
    "\n",
    "idOwner = []\n",
    "\n",
    "for i in df_romance[\"idOwner\"]:\n",
    "    idOwner.append(i)\n",
    "    \n",
    "\n",
    "print(idOwner)\n",
    "    "
   ]
  },
  {
   "cell_type": "code",
   "execution_count": 3,
   "metadata": {},
   "outputs": [
    {
     "name": "stderr",
     "output_type": "stream",
     "text": [
      "  1%|▏         | 1/74 [00:11<13:29, 11.09s/it]"
     ]
    },
    {
     "name": "stdout",
     "output_type": "stream",
     "text": [
      "bucle 1 - i:  1  iniciando....\n",
      "bucle 1 EXCEPT - i:  1  finalizado....\n",
      "bucle 2 - i:  1  iniciando....\n",
      "bucle 2 - i:  1  fin....\n",
      "bucle 2 - i:  2  iniciando....\n",
      "bucle 2 EXCEPT - i:  2  fin....\n"
     ]
    },
    {
     "name": "stderr",
     "output_type": "stream",
     "text": [
      "  3%|▎         | 2/74 [00:20<11:50,  9.87s/it]"
     ]
    },
    {
     "name": "stdout",
     "output_type": "stream",
     "text": [
      "bucle 1 - i:  1  iniciando....\n",
      "bucle 1 EXCEPT - i:  1  finalizado....\n",
      "bucle 2 - i:  1  iniciando....\n",
      "bucle 2 - i:  1  fin....\n",
      "bucle 2 - i:  2  iniciando....\n",
      "bucle 2 - i:  2  fin....\n",
      "bucle 2 - i:  3  iniciando....\n",
      "bucle 2 - i:  3  fin....\n",
      "bucle 2 - i:  4  iniciando....\n",
      "bucle 2 EXCEPT - i:  4  fin....\n"
     ]
    },
    {
     "name": "stderr",
     "output_type": "stream",
     "text": [
      "  4%|▍         | 3/74 [00:28<11:04,  9.36s/it]"
     ]
    },
    {
     "name": "stdout",
     "output_type": "stream",
     "text": [
      "bucle 1 - i:  1  iniciando....\n",
      "bucle 1 EXCEPT - i:  1  finalizado....\n",
      "bucle 2 - i:  1  iniciando....\n",
      "bucle 2 - i:  1  fin....\n",
      "bucle 2 - i:  2  iniciando....\n",
      "bucle 2 - i:  2  fin....\n",
      "bucle 2 - i:  3  iniciando....\n",
      "bucle 2 EXCEPT - i:  3  fin....\n"
     ]
    },
    {
     "name": "stderr",
     "output_type": "stream",
     "text": [
      "  5%|▌         | 4/74 [00:37<10:37,  9.10s/it]"
     ]
    },
    {
     "name": "stdout",
     "output_type": "stream",
     "text": [
      "bucle 1 - i:  1  iniciando....\n",
      "bucle 1 EXCEPT - i:  1  finalizado....\n",
      "bucle 2 - i:  1  iniciando....\n",
      "bucle 2 - i:  1  fin....\n",
      "bucle 2 - i:  2  iniciando....\n",
      "bucle 2 EXCEPT - i:  2  fin....\n"
     ]
    },
    {
     "name": "stderr",
     "output_type": "stream",
     "text": [
      "  7%|▋         | 5/74 [00:46<10:20,  8.99s/it]"
     ]
    },
    {
     "name": "stdout",
     "output_type": "stream",
     "text": [
      "bucle 1 - i:  1  iniciando....\n",
      "bucle 1 EXCEPT - i:  1  finalizado....\n",
      "bucle 2 - i:  1  iniciando....\n",
      "bucle 2 - i:  1  fin....\n",
      "bucle 2 - i:  2  iniciando....\n",
      "bucle 2 - i:  2  fin....\n",
      "bucle 2 - i:  3  iniciando....\n",
      "bucle 2 EXCEPT - i:  3  fin....\n"
     ]
    },
    {
     "name": "stderr",
     "output_type": "stream",
     "text": [
      "  8%|▊         | 6/74 [00:54<10:02,  8.86s/it]"
     ]
    },
    {
     "name": "stdout",
     "output_type": "stream",
     "text": [
      "bucle 1 - i:  1  iniciando....\n",
      "bucle 1 EXCEPT - i:  1  finalizado....\n",
      "bucle 2 - i:  1  iniciando....\n",
      "bucle 2 - i:  1  fin....\n",
      "bucle 2 - i:  2  iniciando....\n",
      "bucle 2 EXCEPT - i:  2  fin....\n"
     ]
    },
    {
     "name": "stderr",
     "output_type": "stream",
     "text": [
      "  9%|▉         | 7/74 [01:02<09:35,  8.59s/it]"
     ]
    },
    {
     "name": "stdout",
     "output_type": "stream",
     "text": [
      "bucle 1 - i:  1  iniciando....\n",
      "bucle 1 EXCEPT - i:  1  finalizado....\n",
      "bucle 2 - i:  1  iniciando....\n",
      "bucle 2 - i:  1  fin....\n",
      "bucle 2 - i:  2  iniciando....\n",
      "bucle 2 - i:  2  fin....\n",
      "bucle 2 - i:  3  iniciando....\n",
      "bucle 2 EXCEPT - i:  3  fin....\n"
     ]
    },
    {
     "name": "stderr",
     "output_type": "stream",
     "text": [
      " 11%|█         | 8/74 [01:12<09:37,  8.76s/it]"
     ]
    },
    {
     "name": "stdout",
     "output_type": "stream",
     "text": [
      "bucle 1 - i:  1  iniciando....\n",
      "bucle 1 EXCEPT - i:  1  finalizado....\n",
      "bucle 2 - i:  1  iniciando....\n",
      "bucle 2 - i:  1  fin....\n",
      "bucle 2 - i:  2  iniciando....\n",
      "bucle 2 - i:  2  fin....\n",
      "bucle 2 - i:  3  iniciando....\n",
      "bucle 2 - i:  3  fin....\n",
      "bucle 2 - i:  4  iniciando....\n",
      "bucle 2 EXCEPT - i:  4  fin....\n"
     ]
    },
    {
     "name": "stderr",
     "output_type": "stream",
     "text": [
      " 12%|█▏        | 9/74 [01:21<09:37,  8.89s/it]"
     ]
    },
    {
     "name": "stdout",
     "output_type": "stream",
     "text": [
      "bucle 1 - i:  1  iniciando....\n",
      "bucle 1 EXCEPT - i:  1  finalizado....\n",
      "bucle 2 - i:  1  iniciando....\n",
      "bucle 2 - i:  1  fin....\n",
      "bucle 2 - i:  2  iniciando....\n",
      "bucle 2 - i:  2  fin....\n",
      "bucle 2 - i:  3  iniciando....\n",
      "bucle 2 - i:  3  fin....\n",
      "bucle 2 - i:  4  iniciando....\n",
      "bucle 2 EXCEPT - i:  4  fin....\n"
     ]
    },
    {
     "name": "stderr",
     "output_type": "stream",
     "text": [
      " 14%|█▎        | 10/74 [01:29<09:14,  8.67s/it]"
     ]
    },
    {
     "name": "stdout",
     "output_type": "stream",
     "text": [
      "bucle 1 - i:  1  iniciando....\n",
      "bucle 1 EXCEPT - i:  1  finalizado....\n",
      "bucle 2 - i:  1  iniciando....\n",
      "bucle 2 - i:  1  fin....\n",
      "bucle 2 - i:  2  iniciando....\n",
      "bucle 2 - i:  2  fin....\n",
      "bucle 2 - i:  3  iniciando....\n",
      "bucle 2 EXCEPT - i:  3  fin....\n"
     ]
    },
    {
     "name": "stderr",
     "output_type": "stream",
     "text": [
      " 15%|█▍        | 11/74 [01:37<08:54,  8.49s/it]"
     ]
    },
    {
     "name": "stdout",
     "output_type": "stream",
     "text": [
      "bucle 1 - i:  1  iniciando....\n",
      "bucle 1 EXCEPT - i:  1  finalizado....\n",
      "bucle 2 - i:  1  iniciando....\n",
      "bucle 2 EXCEPT - i:  1  fin....\n"
     ]
    },
    {
     "name": "stderr",
     "output_type": "stream",
     "text": [
      " 16%|█▌        | 12/74 [01:46<08:58,  8.68s/it]"
     ]
    },
    {
     "name": "stdout",
     "output_type": "stream",
     "text": [
      "bucle 1 - i:  1  iniciando....\n",
      "bucle 1 - i:  1  finalizado....\n",
      "bucle 1 - i:  2  iniciando....\n",
      "bucle 1 EXCEPT - i:  2  finalizado....\n"
     ]
    },
    {
     "name": "stderr",
     "output_type": "stream",
     "text": [
      " 18%|█▊        | 13/74 [01:55<08:54,  8.76s/it]"
     ]
    },
    {
     "name": "stdout",
     "output_type": "stream",
     "text": [
      "bucle 1 - i:  1  iniciando....\n",
      "bucle 1 EXCEPT - i:  1  finalizado....\n",
      "bucle 2 - i:  1  iniciando....\n",
      "bucle 2 - i:  1  fin....\n",
      "bucle 2 - i:  2  iniciando....\n",
      "bucle 2 - i:  2  fin....\n",
      "bucle 2 - i:  3  iniciando....\n",
      "bucle 2 - i:  3  fin....\n",
      "bucle 2 - i:  4  iniciando....\n",
      "bucle 2 EXCEPT - i:  4  fin....\n"
     ]
    },
    {
     "name": "stderr",
     "output_type": "stream",
     "text": [
      " 19%|█▉        | 14/74 [02:11<10:48, 10.81s/it]"
     ]
    },
    {
     "name": "stdout",
     "output_type": "stream",
     "text": [
      "bucle 1 - i:  1  iniciando....\n",
      "bucle 1 EXCEPT - i:  1  finalizado....\n",
      "bucle 2 - i:  1  iniciando....\n",
      "bucle 2 - i:  1  fin....\n",
      "bucle 2 - i:  2  iniciando....\n",
      "bucle 2 EXCEPT - i:  2  fin....\n"
     ]
    },
    {
     "name": "stderr",
     "output_type": "stream",
     "text": [
      " 20%|██        | 15/74 [02:18<09:42,  9.88s/it]"
     ]
    },
    {
     "name": "stdout",
     "output_type": "stream",
     "text": [
      "bucle 1 - i:  1  iniciando....\n",
      "bucle 1 EXCEPT - i:  1  finalizado....\n",
      "bucle 2 - i:  1  iniciando....\n",
      "bucle 2 EXCEPT - i:  1  fin....\n"
     ]
    },
    {
     "name": "stderr",
     "output_type": "stream",
     "text": [
      " 22%|██▏       | 16/74 [02:26<08:59,  9.30s/it]"
     ]
    },
    {
     "name": "stdout",
     "output_type": "stream",
     "text": [
      "bucle 1 - i:  1  iniciando....\n",
      "bucle 1 EXCEPT - i:  1  finalizado....\n",
      "bucle 2 - i:  1  iniciando....\n",
      "bucle 2 - i:  1  fin....\n",
      "bucle 2 - i:  2  iniciando....\n",
      "bucle 2 - i:  2  fin....\n",
      "bucle 2 - i:  3  iniciando....\n",
      "bucle 2 EXCEPT - i:  3  fin....\n"
     ]
    },
    {
     "name": "stderr",
     "output_type": "stream",
     "text": [
      " 23%|██▎       | 17/74 [02:35<08:41,  9.16s/it]"
     ]
    },
    {
     "name": "stdout",
     "output_type": "stream",
     "text": [
      "bucle 1 - i:  1  iniciando....\n",
      "bucle 1 EXCEPT - i:  1  finalizado....\n",
      "bucle 2 - i:  1  iniciando....\n",
      "bucle 2 - i:  1  fin....\n",
      "bucle 2 - i:  2  iniciando....\n",
      "bucle 2 - i:  2  fin....\n",
      "bucle 2 - i:  3  iniciando....\n",
      "bucle 2 - i:  3  fin....\n",
      "bucle 2 - i:  4  iniciando....\n",
      "bucle 2 EXCEPT - i:  4  fin....\n"
     ]
    },
    {
     "name": "stderr",
     "output_type": "stream",
     "text": [
      " 24%|██▍       | 18/74 [02:44<08:26,  9.04s/it]"
     ]
    },
    {
     "name": "stdout",
     "output_type": "stream",
     "text": [
      "bucle 1 - i:  1  iniciando....\n",
      "bucle 1 - i:  1  finalizado....\n",
      "bucle 1 - i:  2  iniciando....\n",
      "bucle 1 EXCEPT - i:  2  finalizado....\n"
     ]
    },
    {
     "name": "stderr",
     "output_type": "stream",
     "text": [
      " 26%|██▌       | 19/74 [02:53<08:18,  9.06s/it]"
     ]
    },
    {
     "name": "stdout",
     "output_type": "stream",
     "text": [
      "bucle 1 - i:  1  iniciando....\n",
      "bucle 1 EXCEPT - i:  1  finalizado....\n",
      "bucle 2 - i:  1  iniciando....\n",
      "bucle 2 - i:  1  fin....\n",
      "bucle 2 - i:  2  iniciando....\n",
      "bucle 2 - i:  2  fin....\n",
      "bucle 2 - i:  3  iniciando....\n",
      "bucle 2 - i:  3  fin....\n",
      "bucle 2 - i:  4  iniciando....\n",
      "bucle 2 EXCEPT - i:  4  fin....\n"
     ]
    },
    {
     "name": "stderr",
     "output_type": "stream",
     "text": [
      " 27%|██▋       | 20/74 [03:01<07:58,  8.87s/it]"
     ]
    },
    {
     "name": "stdout",
     "output_type": "stream",
     "text": [
      "bucle 1 - i:  1  iniciando....\n",
      "bucle 1 EXCEPT - i:  1  finalizado....\n",
      "bucle 2 - i:  1  iniciando....\n",
      "bucle 2 - i:  1  fin....\n",
      "bucle 2 - i:  2  iniciando....\n",
      "bucle 2 EXCEPT - i:  2  fin....\n"
     ]
    },
    {
     "name": "stderr",
     "output_type": "stream",
     "text": [
      " 28%|██▊       | 21/74 [03:10<07:46,  8.80s/it]"
     ]
    },
    {
     "name": "stdout",
     "output_type": "stream",
     "text": [
      "bucle 1 - i:  1  iniciando....\n",
      "bucle 1 EXCEPT - i:  1  finalizado....\n",
      "bucle 2 - i:  1  iniciando....\n",
      "bucle 2 - i:  1  fin....\n",
      "bucle 2 - i:  2  iniciando....\n",
      "bucle 2 EXCEPT - i:  2  fin....\n"
     ]
    },
    {
     "name": "stderr",
     "output_type": "stream",
     "text": [
      " 30%|██▉       | 22/74 [03:19<07:34,  8.74s/it]"
     ]
    },
    {
     "name": "stdout",
     "output_type": "stream",
     "text": [
      "bucle 1 - i:  1  iniciando....\n",
      "bucle 1 EXCEPT - i:  1  finalizado....\n",
      "bucle 2 - i:  1  iniciando....\n",
      "bucle 2 - i:  1  fin....\n",
      "bucle 2 - i:  2  iniciando....\n",
      "bucle 2 EXCEPT - i:  2  fin....\n"
     ]
    },
    {
     "name": "stderr",
     "output_type": "stream",
     "text": [
      " 31%|███       | 23/74 [03:27<07:13,  8.51s/it]"
     ]
    },
    {
     "name": "stdout",
     "output_type": "stream",
     "text": [
      "bucle 1 - i:  1  iniciando....\n",
      "bucle 1 EXCEPT - i:  1  finalizado....\n",
      "bucle 2 - i:  1  iniciando....\n",
      "bucle 2 - i:  1  fin....\n",
      "bucle 2 - i:  2  iniciando....\n",
      "bucle 2 EXCEPT - i:  2  fin....\n"
     ]
    },
    {
     "name": "stderr",
     "output_type": "stream",
     "text": [
      " 32%|███▏      | 24/74 [03:36<07:17,  8.74s/it]"
     ]
    },
    {
     "name": "stdout",
     "output_type": "stream",
     "text": [
      "bucle 1 - i:  1  iniciando....\n",
      "bucle 1 EXCEPT - i:  1  finalizado....\n",
      "bucle 2 - i:  1  iniciando....\n",
      "bucle 2 - i:  1  fin....\n",
      "bucle 2 - i:  2  iniciando....\n",
      "bucle 2 - i:  2  fin....\n",
      "bucle 2 - i:  3  iniciando....\n",
      "bucle 2 - i:  3  fin....\n",
      "bucle 2 - i:  4  iniciando....\n",
      "bucle 2 EXCEPT - i:  4  fin....\n"
     ]
    },
    {
     "name": "stderr",
     "output_type": "stream",
     "text": [
      " 34%|███▍      | 25/74 [03:45<07:07,  8.72s/it]"
     ]
    },
    {
     "name": "stdout",
     "output_type": "stream",
     "text": [
      "bucle 1 - i:  1  iniciando....\n",
      "bucle 1 EXCEPT - i:  1  finalizado....\n",
      "bucle 2 - i:  1  iniciando....\n",
      "bucle 2 - i:  1  fin....\n",
      "bucle 2 - i:  2  iniciando....\n",
      "bucle 2 EXCEPT - i:  2  fin....\n"
     ]
    },
    {
     "name": "stderr",
     "output_type": "stream",
     "text": [
      " 35%|███▌      | 26/74 [03:53<06:54,  8.63s/it]"
     ]
    },
    {
     "name": "stdout",
     "output_type": "stream",
     "text": [
      "bucle 1 - i:  1  iniciando....\n",
      "bucle 1 EXCEPT - i:  1  finalizado....\n",
      "bucle 2 - i:  1  iniciando....\n",
      "bucle 2 - i:  1  fin....\n",
      "bucle 2 - i:  2  iniciando....\n",
      "bucle 2 - i:  2  fin....\n",
      "bucle 2 - i:  3  iniciando....\n",
      "bucle 2 - i:  3  fin....\n",
      "bucle 2 - i:  4  iniciando....\n",
      "bucle 2 EXCEPT - i:  4  fin....\n"
     ]
    },
    {
     "name": "stderr",
     "output_type": "stream",
     "text": [
      " 36%|███▋      | 27/74 [04:02<06:48,  8.68s/it]"
     ]
    },
    {
     "name": "stdout",
     "output_type": "stream",
     "text": [
      "bucle 1 - i:  1  iniciando....\n",
      "bucle 1 EXCEPT - i:  1  finalizado....\n",
      "bucle 2 - i:  1  iniciando....\n",
      "bucle 2 - i:  1  fin....\n",
      "bucle 2 - i:  2  iniciando....\n",
      "bucle 2 - i:  2  fin....\n",
      "bucle 2 - i:  3  iniciando....\n",
      "bucle 2 EXCEPT - i:  3  fin....\n"
     ]
    },
    {
     "name": "stderr",
     "output_type": "stream",
     "text": [
      " 38%|███▊      | 28/74 [04:11<06:44,  8.79s/it]"
     ]
    },
    {
     "name": "stdout",
     "output_type": "stream",
     "text": [
      "bucle 1 - i:  1  iniciando....\n",
      "bucle 1 EXCEPT - i:  1  finalizado....\n",
      "bucle 2 - i:  1  iniciando....\n",
      "bucle 2 - i:  1  fin....\n",
      "bucle 2 - i:  2  iniciando....\n",
      "bucle 2 EXCEPT - i:  2  fin....\n"
     ]
    },
    {
     "name": "stderr",
     "output_type": "stream",
     "text": [
      " 39%|███▉      | 29/74 [04:20<06:35,  8.78s/it]"
     ]
    },
    {
     "name": "stdout",
     "output_type": "stream",
     "text": [
      "bucle 1 - i:  1  iniciando....\n",
      "bucle 1 EXCEPT - i:  1  finalizado....\n",
      "bucle 2 - i:  1  iniciando....\n",
      "bucle 2 - i:  1  fin....\n",
      "bucle 2 - i:  2  iniciando....\n",
      "bucle 2 EXCEPT - i:  2  fin....\n"
     ]
    },
    {
     "name": "stderr",
     "output_type": "stream",
     "text": [
      " 41%|████      | 30/74 [04:28<06:16,  8.55s/it]"
     ]
    },
    {
     "name": "stdout",
     "output_type": "stream",
     "text": [
      "bucle 1 - i:  1  iniciando....\n",
      "bucle 1 EXCEPT - i:  1  finalizado....\n",
      "bucle 2 - i:  1  iniciando....\n",
      "bucle 2 - i:  1  fin....\n",
      "bucle 2 - i:  2  iniciando....\n",
      "bucle 2 EXCEPT - i:  2  fin....\n"
     ]
    },
    {
     "name": "stderr",
     "output_type": "stream",
     "text": [
      " 42%|████▏     | 31/74 [04:37<06:18,  8.79s/it]"
     ]
    },
    {
     "name": "stdout",
     "output_type": "stream",
     "text": [
      "bucle 1 - i:  1  iniciando....\n",
      "bucle 1 EXCEPT - i:  1  finalizado....\n",
      "bucle 2 - i:  1  iniciando....\n",
      "bucle 2 - i:  1  fin....\n",
      "bucle 2 - i:  2  iniciando....\n",
      "bucle 2 EXCEPT - i:  2  fin....\n"
     ]
    },
    {
     "name": "stderr",
     "output_type": "stream",
     "text": [
      " 43%|████▎     | 32/74 [04:46<06:10,  8.83s/it]"
     ]
    },
    {
     "name": "stdout",
     "output_type": "stream",
     "text": [
      "bucle 1 - i:  1  iniciando....\n",
      "bucle 1 EXCEPT - i:  1  finalizado....\n",
      "bucle 2 - i:  1  iniciando....\n",
      "bucle 2 - i:  1  fin....\n",
      "bucle 2 - i:  2  iniciando....\n",
      "bucle 2 - i:  2  fin....\n",
      "bucle 2 - i:  3  iniciando....\n",
      "bucle 2 EXCEPT - i:  3  fin....\n"
     ]
    },
    {
     "name": "stderr",
     "output_type": "stream",
     "text": [
      " 45%|████▍     | 33/74 [04:55<06:04,  8.89s/it]"
     ]
    },
    {
     "name": "stdout",
     "output_type": "stream",
     "text": [
      "bucle 1 - i:  1  iniciando....\n",
      "bucle 1 EXCEPT - i:  1  finalizado....\n",
      "bucle 2 - i:  1  iniciando....\n",
      "bucle 2 - i:  1  fin....\n",
      "bucle 2 - i:  2  iniciando....\n",
      "bucle 2 - i:  2  fin....\n",
      "bucle 2 - i:  3  iniciando....\n",
      "bucle 2 EXCEPT - i:  3  fin....\n"
     ]
    },
    {
     "name": "stderr",
     "output_type": "stream",
     "text": [
      " 46%|████▌     | 34/74 [05:03<05:47,  8.69s/it]"
     ]
    },
    {
     "name": "stdout",
     "output_type": "stream",
     "text": [
      "bucle 1 - i:  1  iniciando....\n",
      "bucle 1 EXCEPT - i:  1  finalizado....\n",
      "bucle 2 - i:  1  iniciando....\n",
      "bucle 2 - i:  1  fin....\n",
      "bucle 2 - i:  2  iniciando....\n",
      "bucle 2 EXCEPT - i:  2  fin....\n"
     ]
    },
    {
     "name": "stderr",
     "output_type": "stream",
     "text": [
      " 47%|████▋     | 35/74 [05:12<05:40,  8.72s/it]"
     ]
    },
    {
     "name": "stdout",
     "output_type": "stream",
     "text": [
      "bucle 1 - i:  1  iniciando....\n",
      "bucle 1 EXCEPT - i:  1  finalizado....\n",
      "bucle 2 - i:  1  iniciando....\n",
      "bucle 2 - i:  1  fin....\n",
      "bucle 2 - i:  2  iniciando....\n",
      "bucle 2 EXCEPT - i:  2  fin....\n"
     ]
    },
    {
     "name": "stderr",
     "output_type": "stream",
     "text": [
      " 49%|████▊     | 36/74 [05:21<05:30,  8.69s/it]"
     ]
    },
    {
     "name": "stdout",
     "output_type": "stream",
     "text": [
      "bucle 1 - i:  1  iniciando....\n",
      "bucle 1 EXCEPT - i:  1  finalizado....\n",
      "bucle 2 - i:  1  iniciando....\n",
      "bucle 2 EXCEPT - i:  1  fin....\n"
     ]
    },
    {
     "name": "stderr",
     "output_type": "stream",
     "text": [
      " 50%|█████     | 37/74 [05:29<05:20,  8.66s/it]"
     ]
    },
    {
     "name": "stdout",
     "output_type": "stream",
     "text": [
      "bucle 1 - i:  1  iniciando....\n",
      "bucle 1 EXCEPT - i:  1  finalizado....\n",
      "bucle 2 - i:  1  iniciando....\n",
      "bucle 2 - i:  1  fin....\n",
      "bucle 2 - i:  2  iniciando....\n",
      "bucle 2 EXCEPT - i:  2  fin....\n"
     ]
    },
    {
     "name": "stderr",
     "output_type": "stream",
     "text": [
      " 51%|█████▏    | 38/74 [05:38<05:16,  8.80s/it]"
     ]
    },
    {
     "name": "stdout",
     "output_type": "stream",
     "text": [
      "bucle 1 - i:  1  iniciando....\n",
      "bucle 1 EXCEPT - i:  1  finalizado....\n",
      "bucle 2 - i:  1  iniciando....\n",
      "bucle 2 - i:  1  fin....\n",
      "bucle 2 - i:  2  iniciando....\n",
      "bucle 2 - i:  2  fin....\n",
      "bucle 2 - i:  3  iniciando....\n",
      "bucle 2 - i:  3  fin....\n",
      "bucle 2 - i:  4  iniciando....\n",
      "bucle 2 EXCEPT - i:  4  fin....\n"
     ]
    },
    {
     "name": "stderr",
     "output_type": "stream",
     "text": [
      " 53%|█████▎    | 39/74 [05:47<05:08,  8.81s/it]"
     ]
    },
    {
     "name": "stdout",
     "output_type": "stream",
     "text": [
      "bucle 1 - i:  1  iniciando....\n",
      "bucle 1 EXCEPT - i:  1  finalizado....\n",
      "bucle 2 - i:  1  iniciando....\n",
      "bucle 2 - i:  1  fin....\n",
      "bucle 2 - i:  2  iniciando....\n",
      "bucle 2 - i:  2  fin....\n",
      "bucle 2 - i:  3  iniciando....\n",
      "bucle 2 EXCEPT - i:  3  fin....\n"
     ]
    },
    {
     "name": "stderr",
     "output_type": "stream",
     "text": [
      " 54%|█████▍    | 40/74 [05:57<05:09,  9.09s/it]"
     ]
    },
    {
     "name": "stdout",
     "output_type": "stream",
     "text": [
      "bucle 1 - i:  1  iniciando....\n",
      "bucle 1 - i:  1  finalizado....\n",
      "bucle 1 - i:  2  iniciando....\n",
      "bucle 1 EXCEPT - i:  2  finalizado....\n"
     ]
    },
    {
     "name": "stderr",
     "output_type": "stream",
     "text": [
      " 55%|█████▌    | 41/74 [06:06<05:02,  9.17s/it]"
     ]
    },
    {
     "name": "stdout",
     "output_type": "stream",
     "text": [
      "bucle 1 - i:  1  iniciando....\n",
      "bucle 1 - i:  1  finalizado....\n",
      "bucle 1 - i:  2  iniciando....\n",
      "bucle 1 EXCEPT - i:  2  finalizado....\n"
     ]
    },
    {
     "name": "stderr",
     "output_type": "stream",
     "text": [
      " 57%|█████▋    | 42/74 [06:15<04:44,  8.90s/it]"
     ]
    },
    {
     "name": "stdout",
     "output_type": "stream",
     "text": [
      "bucle 1 - i:  1  iniciando....\n",
      "bucle 1 EXCEPT - i:  1  finalizado....\n",
      "bucle 2 - i:  1  iniciando....\n",
      "bucle 2 - i:  1  fin....\n",
      "bucle 2 - i:  2  iniciando....\n",
      "bucle 2 - i:  2  fin....\n",
      "bucle 2 - i:  3  iniciando....\n",
      "bucle 2 - i:  3  fin....\n",
      "bucle 2 - i:  4  iniciando....\n",
      "bucle 2 EXCEPT - i:  4  fin....\n"
     ]
    },
    {
     "name": "stderr",
     "output_type": "stream",
     "text": [
      " 58%|█████▊    | 43/74 [06:24<04:40,  9.04s/it]"
     ]
    },
    {
     "name": "stdout",
     "output_type": "stream",
     "text": [
      "bucle 1 - i:  1  iniciando....\n",
      "bucle 1 EXCEPT - i:  1  finalizado....\n",
      "bucle 2 - i:  1  iniciando....\n",
      "bucle 2 - i:  1  fin....\n",
      "bucle 2 - i:  2  iniciando....\n",
      "bucle 2 - i:  2  fin....\n",
      "bucle 2 - i:  3  iniciando....\n",
      "bucle 2 EXCEPT - i:  3  fin....\n"
     ]
    },
    {
     "name": "stderr",
     "output_type": "stream",
     "text": [
      " 59%|█████▉    | 44/74 [06:33<04:32,  9.08s/it]"
     ]
    },
    {
     "name": "stdout",
     "output_type": "stream",
     "text": [
      "bucle 1 - i:  1  iniciando....\n",
      "bucle 1 - i:  1  finalizado....\n",
      "bucle 1 - i:  2  iniciando....\n",
      "bucle 1 EXCEPT - i:  2  finalizado....\n"
     ]
    },
    {
     "name": "stderr",
     "output_type": "stream",
     "text": [
      " 61%|██████    | 45/74 [06:42<04:24,  9.10s/it]"
     ]
    },
    {
     "name": "stdout",
     "output_type": "stream",
     "text": [
      "bucle 1 - i:  1  iniciando....\n",
      "bucle 1 - i:  1  finalizado....\n",
      "bucle 1 - i:  2  iniciando....\n",
      "bucle 1 EXCEPT - i:  2  finalizado....\n"
     ]
    },
    {
     "name": "stderr",
     "output_type": "stream",
     "text": [
      " 62%|██████▏   | 46/74 [06:51<04:12,  9.00s/it]"
     ]
    },
    {
     "name": "stdout",
     "output_type": "stream",
     "text": [
      "bucle 1 - i:  1  iniciando....\n",
      "bucle 1 EXCEPT - i:  1  finalizado....\n",
      "bucle 2 - i:  1  iniciando....\n",
      "bucle 2 - i:  1  fin....\n",
      "bucle 2 - i:  2  iniciando....\n",
      "bucle 2 EXCEPT - i:  2  fin....\n"
     ]
    },
    {
     "name": "stderr",
     "output_type": "stream",
     "text": [
      " 64%|██████▎   | 47/74 [07:00<04:02,  8.98s/it]"
     ]
    },
    {
     "name": "stdout",
     "output_type": "stream",
     "text": [
      "bucle 1 - i:  1  iniciando....\n",
      "bucle 1 EXCEPT - i:  1  finalizado....\n",
      "bucle 2 - i:  1  iniciando....\n",
      "bucle 2 - i:  1  fin....\n",
      "bucle 2 - i:  2  iniciando....\n",
      "bucle 2 - i:  2  fin....\n",
      "bucle 2 - i:  3  iniciando....\n",
      "bucle 2 EXCEPT - i:  3  fin....\n"
     ]
    },
    {
     "name": "stderr",
     "output_type": "stream",
     "text": [
      " 65%|██████▍   | 48/74 [07:08<03:50,  8.85s/it]"
     ]
    },
    {
     "name": "stdout",
     "output_type": "stream",
     "text": [
      "bucle 1 - i:  1  iniciando....\n",
      "bucle 1 EXCEPT - i:  1  finalizado....\n",
      "bucle 2 - i:  1  iniciando....\n",
      "bucle 2 - i:  1  fin....\n",
      "bucle 2 - i:  2  iniciando....\n",
      "bucle 2 - i:  2  fin....\n",
      "bucle 2 - i:  3  iniciando....\n",
      "bucle 2 EXCEPT - i:  3  fin....\n"
     ]
    },
    {
     "name": "stderr",
     "output_type": "stream",
     "text": [
      " 66%|██████▌   | 49/74 [07:17<03:40,  8.81s/it]"
     ]
    },
    {
     "name": "stdout",
     "output_type": "stream",
     "text": [
      "bucle 1 - i:  1  iniciando....\n",
      "bucle 1 EXCEPT - i:  1  finalizado....\n",
      "bucle 2 - i:  1  iniciando....\n",
      "bucle 2 - i:  1  fin....\n",
      "bucle 2 - i:  2  iniciando....\n",
      "bucle 2 EXCEPT - i:  2  fin....\n"
     ]
    },
    {
     "name": "stderr",
     "output_type": "stream",
     "text": [
      " 68%|██████▊   | 50/74 [07:26<03:30,  8.75s/it]"
     ]
    },
    {
     "name": "stdout",
     "output_type": "stream",
     "text": [
      "bucle 1 - i:  1  iniciando....\n",
      "bucle 1 EXCEPT - i:  1  finalizado....\n",
      "bucle 2 - i:  1  iniciando....\n",
      "bucle 2 - i:  1  fin....\n",
      "bucle 2 - i:  2  iniciando....\n",
      "bucle 2 - i:  2  fin....\n",
      "bucle 2 - i:  3  iniciando....\n",
      "bucle 2 - i:  3  fin....\n",
      "bucle 2 - i:  4  iniciando....\n",
      "bucle 2 EXCEPT - i:  4  fin....\n"
     ]
    },
    {
     "name": "stderr",
     "output_type": "stream",
     "text": [
      " 69%|██████▉   | 51/74 [07:34<03:19,  8.67s/it]"
     ]
    },
    {
     "name": "stdout",
     "output_type": "stream",
     "text": [
      "bucle 1 - i:  1  iniciando....\n",
      "bucle 1 EXCEPT - i:  1  finalizado....\n",
      "bucle 2 - i:  1  iniciando....\n",
      "bucle 2 - i:  1  fin....\n",
      "bucle 2 - i:  2  iniciando....\n",
      "bucle 2 - i:  2  fin....\n",
      "bucle 2 - i:  3  iniciando....\n",
      "bucle 2 - i:  3  fin....\n",
      "bucle 2 - i:  4  iniciando....\n",
      "bucle 2 EXCEPT - i:  4  fin....\n"
     ]
    },
    {
     "name": "stderr",
     "output_type": "stream",
     "text": [
      " 70%|███████   | 52/74 [07:43<03:14,  8.83s/it]"
     ]
    },
    {
     "name": "stdout",
     "output_type": "stream",
     "text": [
      "bucle 1 - i:  1  iniciando....\n",
      "bucle 1 EXCEPT - i:  1  finalizado....\n",
      "bucle 2 - i:  1  iniciando....\n",
      "bucle 2 - i:  1  fin....\n",
      "bucle 2 - i:  2  iniciando....\n",
      "bucle 2 - i:  2  fin....\n",
      "bucle 2 - i:  3  iniciando....\n",
      "bucle 2 EXCEPT - i:  3  fin....\n"
     ]
    },
    {
     "name": "stderr",
     "output_type": "stream",
     "text": [
      " 72%|███████▏  | 53/74 [07:52<03:00,  8.61s/it]"
     ]
    },
    {
     "name": "stdout",
     "output_type": "stream",
     "text": [
      "bucle 1 - i:  1  iniciando....\n",
      "bucle 1 EXCEPT - i:  1  finalizado....\n",
      "bucle 2 - i:  1  iniciando....\n",
      "bucle 2 - i:  1  fin....\n",
      "bucle 2 - i:  2  iniciando....\n",
      "bucle 2 - i:  2  fin....\n",
      "bucle 2 - i:  3  iniciando....\n",
      "bucle 2 EXCEPT - i:  3  fin....\n"
     ]
    },
    {
     "name": "stderr",
     "output_type": "stream",
     "text": [
      " 73%|███████▎  | 54/74 [08:00<02:53,  8.68s/it]"
     ]
    },
    {
     "name": "stdout",
     "output_type": "stream",
     "text": [
      "bucle 1 - i:  1  iniciando....\n",
      "bucle 1 EXCEPT - i:  1  finalizado....\n",
      "bucle 2 - i:  1  iniciando....\n",
      "bucle 2 - i:  1  fin....\n",
      "bucle 2 - i:  2  iniciando....\n",
      "bucle 2 - i:  2  fin....\n",
      "bucle 2 - i:  3  iniciando....\n",
      "bucle 2 - i:  3  fin....\n",
      "bucle 2 - i:  4  iniciando....\n",
      "bucle 2 EXCEPT - i:  4  fin....\n"
     ]
    },
    {
     "name": "stderr",
     "output_type": "stream",
     "text": [
      " 74%|███████▍  | 55/74 [08:11<02:54,  9.20s/it]"
     ]
    },
    {
     "name": "stdout",
     "output_type": "stream",
     "text": [
      "bucle 1 - i:  1  iniciando....\n",
      "bucle 1 EXCEPT - i:  1  finalizado....\n",
      "bucle 2 - i:  1  iniciando....\n",
      "bucle 2 - i:  1  fin....\n",
      "bucle 2 - i:  2  iniciando....\n",
      "bucle 2 EXCEPT - i:  2  fin....\n"
     ]
    },
    {
     "name": "stderr",
     "output_type": "stream",
     "text": [
      " 76%|███████▌  | 56/74 [08:23<03:00, 10.01s/it]"
     ]
    },
    {
     "name": "stdout",
     "output_type": "stream",
     "text": [
      "bucle 1 - i:  1  iniciando....\n",
      "bucle 1 - i:  1  finalizado....\n",
      "bucle 1 - i:  2  iniciando....\n",
      "bucle 1 EXCEPT - i:  2  finalizado....\n"
     ]
    },
    {
     "name": "stderr",
     "output_type": "stream",
     "text": [
      " 77%|███████▋  | 57/74 [08:33<02:52, 10.15s/it]"
     ]
    },
    {
     "name": "stdout",
     "output_type": "stream",
     "text": [
      "bucle 1 - i:  1  iniciando....\n",
      "bucle 1 EXCEPT - i:  1  finalizado....\n",
      "bucle 2 - i:  1  iniciando....\n",
      "bucle 2 - i:  1  fin....\n",
      "bucle 2 - i:  2  iniciando....\n",
      "bucle 2 - i:  2  fin....\n",
      "bucle 2 - i:  3  iniciando....\n",
      "bucle 2 EXCEPT - i:  3  fin....\n"
     ]
    },
    {
     "name": "stderr",
     "output_type": "stream",
     "text": [
      " 78%|███████▊  | 58/74 [08:44<02:44, 10.27s/it]"
     ]
    },
    {
     "name": "stdout",
     "output_type": "stream",
     "text": [
      "bucle 1 - i:  1  iniciando....\n",
      "bucle 1 EXCEPT - i:  1  finalizado....\n",
      "bucle 2 - i:  1  iniciando....\n",
      "bucle 2 - i:  1  fin....\n",
      "bucle 2 - i:  2  iniciando....\n",
      "bucle 2 - i:  2  fin....\n",
      "bucle 2 - i:  3  iniciando....\n",
      "bucle 2 EXCEPT - i:  3  fin....\n"
     ]
    },
    {
     "name": "stderr",
     "output_type": "stream",
     "text": [
      " 80%|███████▉  | 59/74 [08:52<02:26,  9.74s/it]"
     ]
    },
    {
     "name": "stdout",
     "output_type": "stream",
     "text": [
      "bucle 1 - i:  1  iniciando....\n",
      "bucle 1 EXCEPT - i:  1  finalizado....\n",
      "bucle 2 - i:  1  iniciando....\n",
      "bucle 2 EXCEPT - i:  1  fin....\n"
     ]
    },
    {
     "name": "stderr",
     "output_type": "stream",
     "text": [
      " 81%|████████  | 60/74 [09:03<02:20, 10.07s/it]"
     ]
    },
    {
     "name": "stdout",
     "output_type": "stream",
     "text": [
      "bucle 1 - i:  1  iniciando....\n",
      "bucle 1 EXCEPT - i:  1  finalizado....\n",
      "bucle 2 - i:  1  iniciando....\n",
      "bucle 2 - i:  1  fin....\n",
      "bucle 2 - i:  2  iniciando....\n",
      "bucle 2 EXCEPT - i:  2  fin....\n"
     ]
    },
    {
     "name": "stderr",
     "output_type": "stream",
     "text": [
      " 82%|████████▏ | 61/74 [09:13<02:10, 10.03s/it]"
     ]
    },
    {
     "name": "stdout",
     "output_type": "stream",
     "text": [
      "bucle 1 - i:  1  iniciando....\n",
      "bucle 1 EXCEPT - i:  1  finalizado....\n",
      "bucle 2 - i:  1  iniciando....\n",
      "bucle 2 - i:  1  fin....\n",
      "bucle 2 - i:  2  iniciando....\n",
      "bucle 2 - i:  2  fin....\n",
      "bucle 2 - i:  3  iniciando....\n",
      "bucle 2 - i:  3  fin....\n",
      "bucle 2 - i:  4  iniciando....\n",
      "bucle 2 EXCEPT - i:  4  fin....\n"
     ]
    },
    {
     "name": "stderr",
     "output_type": "stream",
     "text": [
      " 84%|████████▍ | 62/74 [09:21<01:53,  9.50s/it]"
     ]
    },
    {
     "name": "stdout",
     "output_type": "stream",
     "text": [
      "bucle 1 - i:  1  iniciando....\n",
      "bucle 1 EXCEPT - i:  1  finalizado....\n",
      "bucle 2 - i:  1  iniciando....\n",
      "bucle 2 - i:  1  fin....\n",
      "bucle 2 - i:  2  iniciando....\n",
      "bucle 2 EXCEPT - i:  2  fin....\n"
     ]
    },
    {
     "name": "stderr",
     "output_type": "stream",
     "text": [
      " 85%|████████▌ | 63/74 [09:31<01:45,  9.63s/it]"
     ]
    },
    {
     "name": "stdout",
     "output_type": "stream",
     "text": [
      "bucle 1 - i:  1  iniciando....\n",
      "bucle 1 EXCEPT - i:  1  finalizado....\n",
      "bucle 2 - i:  1  iniciando....\n",
      "bucle 2 - i:  1  fin....\n",
      "bucle 2 - i:  2  iniciando....\n",
      "bucle 2 EXCEPT - i:  2  fin....\n"
     ]
    },
    {
     "name": "stderr",
     "output_type": "stream",
     "text": [
      " 86%|████████▋ | 64/74 [09:41<01:36,  9.62s/it]"
     ]
    },
    {
     "name": "stdout",
     "output_type": "stream",
     "text": [
      "bucle 1 - i:  1  iniciando....\n",
      "bucle 1 EXCEPT - i:  1  finalizado....\n",
      "bucle 2 - i:  1  iniciando....\n",
      "bucle 2 - i:  1  fin....\n",
      "bucle 2 - i:  2  iniciando....\n",
      "bucle 2 - i:  2  fin....\n",
      "bucle 2 - i:  3  iniciando....\n",
      "bucle 2 EXCEPT - i:  3  fin....\n"
     ]
    },
    {
     "name": "stderr",
     "output_type": "stream",
     "text": [
      " 88%|████████▊ | 65/74 [09:50<01:24,  9.37s/it]"
     ]
    },
    {
     "name": "stdout",
     "output_type": "stream",
     "text": [
      "bucle 1 - i:  1  iniciando....\n",
      "bucle 1 EXCEPT - i:  1  finalizado....\n",
      "bucle 2 - i:  1  iniciando....\n",
      "bucle 2 - i:  1  fin....\n",
      "bucle 2 - i:  2  iniciando....\n",
      "bucle 2 - i:  2  fin....\n",
      "bucle 2 - i:  3  iniciando....\n",
      "bucle 2 - i:  3  fin....\n",
      "bucle 2 - i:  4  iniciando....\n",
      "bucle 2 EXCEPT - i:  4  fin....\n"
     ]
    },
    {
     "name": "stderr",
     "output_type": "stream",
     "text": [
      " 89%|████████▉ | 66/74 [10:00<01:16,  9.62s/it]"
     ]
    },
    {
     "name": "stdout",
     "output_type": "stream",
     "text": [
      "bucle 1 - i:  1  iniciando....\n",
      "bucle 1 EXCEPT - i:  1  finalizado....\n",
      "bucle 2 - i:  1  iniciando....\n",
      "bucle 2 - i:  1  fin....\n",
      "bucle 2 - i:  2  iniciando....\n",
      "bucle 2 - i:  2  fin....\n",
      "bucle 2 - i:  3  iniciando....\n",
      "bucle 2 - i:  3  fin....\n",
      "bucle 2 - i:  4  iniciando....\n",
      "bucle 2 EXCEPT - i:  4  fin....\n"
     ]
    },
    {
     "name": "stderr",
     "output_type": "stream",
     "text": [
      " 91%|█████████ | 67/74 [10:08<01:03,  9.10s/it]"
     ]
    },
    {
     "name": "stdout",
     "output_type": "stream",
     "text": [
      "bucle 1 - i:  1  iniciando....\n",
      "bucle 1 EXCEPT - i:  1  finalizado....\n",
      "bucle 2 - i:  1  iniciando....\n",
      "bucle 2 - i:  1  fin....\n",
      "bucle 2 - i:  2  iniciando....\n",
      "bucle 2 - i:  2  fin....\n",
      "bucle 2 - i:  3  iniciando....\n",
      "bucle 2 EXCEPT - i:  3  fin....\n"
     ]
    },
    {
     "name": "stderr",
     "output_type": "stream",
     "text": [
      " 92%|█████████▏| 68/74 [10:17<00:54,  9.12s/it]"
     ]
    },
    {
     "name": "stdout",
     "output_type": "stream",
     "text": [
      "bucle 1 - i:  1  iniciando....\n",
      "bucle 1 EXCEPT - i:  1  finalizado....\n",
      "bucle 2 - i:  1  iniciando....\n",
      "bucle 2 - i:  1  fin....\n",
      "bucle 2 - i:  2  iniciando....\n",
      "bucle 2 - i:  2  fin....\n",
      "bucle 2 - i:  3  iniciando....\n",
      "bucle 2 - i:  3  fin....\n",
      "bucle 2 - i:  4  iniciando....\n",
      "bucle 2 EXCEPT - i:  4  fin....\n"
     ]
    },
    {
     "name": "stderr",
     "output_type": "stream",
     "text": [
      " 93%|█████████▎| 69/74 [10:26<00:46,  9.25s/it]"
     ]
    },
    {
     "name": "stdout",
     "output_type": "stream",
     "text": [
      "bucle 1 - i:  1  iniciando....\n",
      "bucle 1 - i:  1  finalizado....\n",
      "bucle 1 - i:  2  iniciando....\n",
      "bucle 1 EXCEPT - i:  2  finalizado....\n"
     ]
    },
    {
     "name": "stderr",
     "output_type": "stream",
     "text": [
      " 95%|█████████▍| 70/74 [10:35<00:35,  8.96s/it]"
     ]
    },
    {
     "name": "stdout",
     "output_type": "stream",
     "text": [
      "bucle 1 - i:  1  iniciando....\n",
      "bucle 1 EXCEPT - i:  1  finalizado....\n",
      "bucle 2 - i:  1  iniciando....\n",
      "bucle 2 - i:  1  fin....\n",
      "bucle 2 - i:  2  iniciando....\n",
      "bucle 2 EXCEPT - i:  2  fin....\n"
     ]
    },
    {
     "name": "stderr",
     "output_type": "stream",
     "text": [
      " 96%|█████████▌| 71/74 [10:44<00:27,  9.10s/it]"
     ]
    },
    {
     "name": "stdout",
     "output_type": "stream",
     "text": [
      "bucle 1 - i:  1  iniciando....\n",
      "bucle 1 EXCEPT - i:  1  finalizado....\n",
      "bucle 2 - i:  1  iniciando....\n",
      "bucle 2 - i:  1  fin....\n",
      "bucle 2 - i:  2  iniciando....\n",
      "bucle 2 - i:  2  fin....\n",
      "bucle 2 - i:  3  iniciando....\n",
      "bucle 2 - i:  3  fin....\n",
      "bucle 2 - i:  4  iniciando....\n",
      "bucle 2 EXCEPT - i:  4  fin....\n"
     ]
    },
    {
     "name": "stderr",
     "output_type": "stream",
     "text": [
      " 97%|█████████▋| 72/74 [10:52<00:17,  8.76s/it]"
     ]
    },
    {
     "name": "stdout",
     "output_type": "stream",
     "text": [
      "bucle 1 - i:  1  iniciando....\n",
      "bucle 1 EXCEPT - i:  1  finalizado....\n",
      "bucle 2 - i:  1  iniciando....\n",
      "bucle 2 EXCEPT - i:  1  fin....\n"
     ]
    },
    {
     "name": "stderr",
     "output_type": "stream",
     "text": [
      " 99%|█████████▊| 73/74 [11:00<00:08,  8.51s/it]"
     ]
    },
    {
     "name": "stdout",
     "output_type": "stream",
     "text": [
      "bucle 1 - i:  1  iniciando....\n",
      "bucle 1 EXCEPT - i:  1  finalizado....\n",
      "bucle 2 - i:  1  iniciando....\n",
      "bucle 2 - i:  1  fin....\n",
      "bucle 2 - i:  2  iniciando....\n",
      "bucle 2 - i:  2  fin....\n",
      "bucle 2 - i:  3  iniciando....\n",
      "bucle 2 EXCEPT - i:  3  fin....\n"
     ]
    },
    {
     "name": "stderr",
     "output_type": "stream",
     "text": [
      "100%|██████████| 74/74 [11:08<00:00,  9.04s/it]"
     ]
    },
    {
     "name": "stdout",
     "output_type": "stream",
     "text": [
      "bucle 1 - i:  1  iniciando....\n",
      "bucle 1 EXCEPT - i:  1  finalizado....\n",
      "bucle 2 - i:  1  iniciando....\n",
      "bucle 2 EXCEPT - i:  1  fin....\n"
     ]
    },
    {
     "name": "stderr",
     "output_type": "stream",
     "text": [
      "\n"
     ]
    }
   ],
   "source": [
    "# EXTRACCION DATOS IBDM Y LO GUARDAMOS EN LISTAS\n",
    "\n",
    "driver = webdriver.Chrome()\n",
    "\n",
    "driver.get('https://www.imdb.com/')\n",
    "\n",
    "driver.maximize_window()\n",
    "\n",
    "sleep (3)\n",
    "\n",
    "# aceptamos cookies\n",
    "\n",
    "driver.find_element('css selector','#__next > div > div > div.sc-jrcTuL.bPmWiM > div > button.icb-btn.sc-bcXHqe.sc-dkrFOg.sc-iBYQkv.dcvrLS.ddtuHe.dRCGjd').click()\n",
    "\n",
    "nota_imbd = []\n",
    "direccion = []\n",
    "guionista = []\n",
    "argumento = []\n",
    "duracion = []\n",
    "nombre = []\n",
    "\n",
    "\n",
    "for i in tqdm(idOwner):\n",
    "        driver.find_element('css selector','#suggestion-search').send_keys(i, Keys.ENTER)\n",
    "        sleep(5)\n",
    "        \n",
    "        nombre.append(driver.find_element('css selector', '#__next > main > div > section.ipc-page-background.ipc-page-background--base.sc-c41b9732-0.NeSef > section > div:nth-child(5) > section > section > div.sc-491663c0-3.bdjVSf > div.sc-1f50b7c-0.PUxFE > h1 > span').text)\n",
    "        \n",
    "        try: \n",
    "                nota_imbd.append(driver.find_element('xpath', '//*[@id=\"__next\"]/main/div/section[1]/section/div[3]/section/section/div[2]/div[2]/div/div[1]/a/span/div/div[2]/div[1]/span[1]').text)\n",
    "        except:\n",
    "                nota_imbd.append(None)\n",
    "\n",
    "        \n",
    "        try: \n",
    "                duracion.append(driver.find_element('css selector', '#__next > main > div > section.ipc-page-background.ipc-page-background--base.sc-c41b9732-0.NeSef > section > div:nth-child(5) > section > section > div.sc-491663c0-3.bdjVSf > div.sc-1f50b7c-0.PUxFE > ul > li:nth-child(3)').text)\n",
    "        except:\n",
    "                try:\n",
    "                        duracion.append(driver.find_element('xpath', '//*[@id=\"__next\"]/main/div/section[1]/section/div[3]/section/section/div[2]/div[1]/ul/li[2]').text)\n",
    "                \n",
    "                except:\n",
    "                        duracion.append(None)  \n",
    "                        \n",
    "        \n",
    "        \n",
    "        try:\n",
    "                argumento.append(driver.find_element('css selector', '#__next > main > div > section.ipc-page-background.ipc-page-background--base.sc-c41b9732-0.NeSef > section > div:nth-child(5) > section > section > div.sc-491663c0-4.gEsAEH > div.sc-491663c0-6.eQRCDK > div.sc-491663c0-10.emoxHI > section > p > span.sc-2d37a7c7-2.PeLXr').text)\n",
    "        except:\n",
    "                try:\n",
    "                        argumento.append(driver.find_element('css selector', '#__next > main > div > section.ipc-page-background.ipc-page-background--base.sc-c41b9732-0.NeSef > section > div:nth-child(5) > section > section > div.sc-491663c0-4.yjUiO > div.sc-491663c0-6.lnlBxO > div.sc-491663c0-10.rbXFE > section > p > span.sc-2d37a7c7-2.PeLXr').text)\n",
    "                \n",
    "                except: \n",
    "                        argumento.append(None)\n",
    "        i = 0\n",
    "        direccion_multiple = []\n",
    "        try:    \n",
    "                while True: \n",
    "                        i+=1\n",
    "                        print('bucle 1 - i: ', i, ' iniciando....')\n",
    "                        direccion_multiple.append(driver.find_element('css selector', f'#__next > main > div > section.ipc-page-background.ipc-page-background--base.sc-c41b9732-0.NeSef > section > div:nth-child(5) > section > section > div.sc-491663c0-4.yjUiO > div.sc-491663c0-6.lnlBxO > div.sc-491663c0-10.rbXFE > section > div.sc-1f50b7c-3.ZYFjc > div > ul > li:nth-child(1) > div > ul > li:nth-child({i}) > a').text)\n",
    "                        print('bucle 1 - i: ', i, ' finalizado....')\n",
    "\n",
    "        except:\n",
    "                print('bucle 1 EXCEPT - i: ', i, ' finalizado....')\n",
    "                if i > 1:\n",
    "                        direccion.append(tuple(direccion_multiple))\n",
    "                        continue\n",
    "                else:\n",
    "                        try:\n",
    "                                \n",
    "                                direccion.append(driver.find_element('css selector', '#__next > main > div > section.ipc-page-background.ipc-page-background--base.sc-c41b9732-0.NeSef > section > div:nth-child(5) > section > section > div.sc-491663c0-4.gEsAEH > div.sc-491663c0-6.eQRCDK > div.sc-491663c0-10.emoxHI > section > div.sc-1f50b7c-3.ZYFjc > div > ul > li:nth-child(1) > div > ul > li > a').text)                                                                                   \n",
    "                        \n",
    "                        except:\n",
    "                                direccion.append(driver.find_element('css selector', '#__next > main > div > section.ipc-page-background.ipc-page-background--base.sc-c41b9732-0.NeSef > section > div:nth-child(5) > section > section > div.sc-491663c0-4.fVGakt > div > div.sc-491663c0-10.RRTJr > section > div.sc-1f50b7c-3.ZYFjc > div > ul > li:nth-child(1) > div > ul > li > a').text)\n",
    "        \n",
    "        \n",
    "\n",
    "               \n",
    "        i=0\n",
    "        guionista_multiple = []\n",
    "        try:\n",
    "                while True:\n",
    "                        i+=1\n",
    "                        print('bucle 2 - i: ', i, ' iniciando....')\n",
    "                        guionista_multiple.append(driver.find_element('css selector', f'#__next > main > div > section.ipc-page-background.ipc-page-background--base.sc-c41b9732-0.NeSef > section > div:nth-child(5) > section > section > div.sc-491663c0-4.gEsAEH > div.sc-491663c0-6.eQRCDK > div.sc-491663c0-10.emoxHI > section > div.sc-1f50b7c-3.ZYFjc > div > ul > li:nth-child(2) > div > ul > li:nth-child({i}) > a').text)\n",
    "                        print('bucle 2 - i: ', i, ' fin....')\n",
    "\n",
    "        except:\n",
    "                print('bucle 2 EXCEPT - i: ', i, ' fin....')\n",
    "                if i > 1:\n",
    "                        guionista.append(tuple(guionista_multiple))\n",
    "                        continue\n",
    "                else:\n",
    "                        try:\n",
    "                                guionista.append(driver.find_element('css selector', '#__next > main > div > section.ipc-page-background.ipc-page-background--base.sc-c41b9732-0.NeSef > section > div:nth-child(5) > section > section > div.sc-491663c0-4.yjUiO > div.sc-491663c0-6.lnlBxO > div.sc-491663c0-10.rbXFE > section > div.sc-1f50b7c-3.ZYFjc > div > ul > li:nth-child(2) > div > ul > li > a').text)                                                  \n",
    "                          \n",
    "                        except:\n",
    "                                guionista.append(driver.find_element('css selector', '#__next > main > div > section.ipc-page-background.ipc-page-background--base.sc-c41b9732-0.NeSef > section > div:nth-child(5) > section > section > div.sc-491663c0-4.fVGakt > div > div.sc-491663c0-11.hqAHXl > div.sc-1f50b7c-2.gHiRzc > div > ul > li:nth-child(2) > div > ul > li > a').text)\n",
    "\n",
    "\n",
    "driver.close()\n",
    "\n",
    "    \n",
    "\n"
   ]
  },
  {
   "cell_type": "code",
   "execution_count": 6,
   "metadata": {},
   "outputs": [],
   "source": [
    "duracion_mins = []\n",
    "\n",
    "for peli in duracion:\n",
    "\n",
    "    if peli is None:\n",
    "        duracion_mins.append(None)\n",
    "        continue\n",
    "    \n",
    "    elif 'h' in peli:\n",
    "        partes = peli.split('h')\n",
    "        horas = int(partes[0].strip())\n",
    "        if len(partes) > 1 and 'min' in partes[1]:\n",
    "            minutos = int(partes[1].replace('min', '').strip())\n",
    "        else:\n",
    "            minutos = 0\n",
    "    \n",
    "\n",
    "    \n",
    "    else:\n",
    "        horas = 0\n",
    "        minutos = int(peli.replace('min', '').strip())\n",
    "    \n",
    "    total_minutos = horas * 60 + minutos\n",
    "    duracion_mins.append(total_minutos)\n"
   ]
  },
  {
   "cell_type": "code",
   "execution_count": 7,
   "metadata": {},
   "outputs": [],
   "source": [
    "romance_films_imdb = list(set(zip(nombre,nota_imbd,direccion,guionista,argumento,duracion_mins)))"
   ]
  },
  {
   "cell_type": "code",
   "execution_count": 8,
   "metadata": {},
   "outputs": [
    {
     "name": "stdout",
     "output_type": "stream",
     "text": [
      "[('El hombre del Grande Río (Mundo verde)', '4,8', 'Miguel Ángel Rincón', ('Miguel Ángel Rincón', 'Aldo Sambrell'), '', 92), ('Boszorkányszombat', '6,4', 'János Rózsa', ('Philip Yordan',), '', 87), (\"Sailors Don't Cry\", '5,7', 'Marc Didden', ('Saturday Rosenberg',), 'Hilde earns just enough to support herself and her son, but when his father returns the troubles begin.', 90), ('Bille en tête', '6,1', 'Carlo Cotti', ('Joaquín Edwards Bello', 'Raúl Ruiz', 'Valeria Sarmiento'), 'The irresistible rise of a young man, whose grandmother is extraordinary, and who wants everything immediately and who succeeds.', 92), ('Kamata kôshinkyoku', '6,9', 'Kinji Fukasaku', '', \"A lowly obsequious member of a movie star's entourage agrees to marry his boss's pregnant mistress so he can continue his feckless lifestyle. He then takes up dangerous work as a stunt man to support his new family. Duty and loyalty turn into something deeper.\", 109), ('Operación Chuleta de Ternera', '6,1', ('Jean-Marie Poiré',), ('Eleanor Antin',), 'Un as del espionaje es llamado desde Sudamérica para llevar a cabo una operación, cuyo objetivo es desmantelar el tráfico internacional de armas ideado por un importante funcionario del Gobierno francés.', 105), ('Vaudeville', '5,2', 'Jean Marboeuf', ('Luis Ariño', 'José Luis Lozano'), 'This film features a husband who is tired of playing the eternal husband and his wife who would like to live one last love story with her lover.', 85), ('Aasmaan Se Gira', '6,9', 'Pankaj Parashar', ('Sergei Bodrov', 'Jean-Philippe Jaccard', 'Ganna Oganisyan-Slutski'), 'A young prince frustrated with his royal lifestyle encounters a man, Trishanku, who has come from a far away planet. As their friendship blooms, they develop a deep bond with each other. But soon, Trishanku has to return to his home planet.', 88), ('Hammers Over the Anvil', '5,6', 'Ann Turner', '', 'Set in 1910 in Australia, the film follows the story of a 14 year old motherless youth, stricken with Polio and entering the forbidding world of adults.', 97), ('Deuda de sangre', '5,1', 'Russell Solberg', ('Kelly Rebar',), 'An escaped con goes after a drug-dealing killer.', 94), ('O strannostyakh lyubvi', None, 'Teodor Vulfovich', ('Ugo Moretti',), \"The botanic-scientist and his beautiful pupil are looking forward to find a new kind of an apricot tree. Unexpected events and meetings with different people take place at the same time. The mind of scientists and young people's love caused a lucky and happy end.\", 84), ('Un pueblo llamado Hibisco', '8,1', 'Jin Xie', ('Alexander Grin', 'Aleksandr Muratov', 'Vladimir Sosyura'), 'Love, humiliation, and politics play out in a distant village of China during the Cultural Revolution.', 164), ('The Man Without a World', '6,6', 'Eleanor Antin', ('Juan Piquer Simón', 'José María Forqué', 'Álvaro Forqué'), \"In this modern recreation of a silent , a merchant's daughter is betrothed to a local butcher but loves a poet.\", 98), ('Mundo mágico', '3,0', 'Luis Mandoki', ('Francesco Nuti', 'Franco Ferrini', 'Enrico Oldoini'), 'Anthology movie that presents 3 stories about romance.', 90), ('Kung-fu master!', '6,9', ('Agnès Varda',), ('David Rathod', 'Jim Block', 'Ned Miller'), 'Mary-Jane, una madre solitaria de unos cuarenta años, se ve inmersa en un romance sentimental con un chico de 14 años.', 80), ('Rama Dama', '6,4', 'Joseph Vilsmaier', ('Azhar Sulaiman', 'Deanna Yusoff', 'Rahim Razali'), \"Felix Zeiler doesn't return after the end of World War II. His wife - alone with 2 little children - meets Hans and they are slowly getting closer.\", 107), ('Los amores de Kafka', '7,2', 'Beda Docampo Feijóo', ('Leonard Gardner',), 'A movie director from Argentine travels to Prague to make a film about Franz Kafka and Milena Jesenská.', 103), ('Habibi, amor mío', '6,3', 'Luis Gómez Valdivieso', ('Furio Scarpelli', 'Bernardino Zapponi'), '', 95), ('La carta final', '7,4', ('David Hugh Jones',), ('François Dupeyron', 'Dominique Faysse'), 'La verdadera historia de como una lectora en Nueva York y un librero en Londres vieron su correspondencia comercial convertirse en una fantástica amistad.', 100), ('Baby Blues', '5,6', 'Daniel Moosmann', ('Koon-Chung Chan', 'Kan-Cheung Tsang'), 'Michel, 35, wants to be a father, but no woman wants to have a child with him.', 91), ('Blondinka za uglom', '6,5', 'Vladimir Bortko', ('Bob Champion', 'Jonathan Powell', 'Evan Jones'), 'An unemployed astrophysicist finds a job of a docker at a grocery store, where he falls in love with a street-wise saleswoman in the produce department. But the groom runs away at the wedding reception.', 83), ('El regreso de Valentino', '5,8', 'Peter Hoffman', ('Corey Michael Eubanks',), 'Un sábado por la noche, en un pequeño pueblo californiano de los años 50, un joven cuyos padres están a punto de divorciarse saca a pasear su flamante Cadillac rosa para conocer chicas. Se enrolla con la hija del predicador del pueblo.', 102), ('Der Fan', '6,6', ('Eckhart Schmidt',), ('Luís Galvão Teles', 'Nicolau Breyner', 'Amadeu Lopes Sabino'), 'The hero-worship that Simone has for a pop singer is built to a crescendo until she passes out when she finally sees him up-close in a crowd of fans. She is later shocked when he lets her know that he does not love her.', 92), ('Salon krasoty', '5,2', 'Aleksandr Pankratov-Chyornyy', ('Jean Marboeuf',), \"Ofelia and Maria are working together as hairdressers. Ofelia has a lot of problems with her husband and always wants Maria's help. Maria has had to reason with Ofelia's husband so many times that soon she feels that she's falling in love with him.\", 89), ('Belye rosy', '7,5', 'Igor Dobrolyubov', ('István Kardos',), 'An old war veteran worries about his three sons - a smart one, a strong one and a kind one.', 84), ('Moscú no cree en las lágrimas', '8,0', 'Vladimir Menshov', ('Valentin Chernykh', 'Vladimir Menshov'), 'Esta es la historia de la vida de tres novias desde la juventud hasta el otoño. Sus sueños y deseos, el amor y las decepciones.', 150), ('S lyubimymi ne rasstavaytes', '7,0', 'Pavel Arsenov', ('Aleksandr Volodin',), 'Mitya stops believing his wife Katya. He is tormented, tormented by jealousy, despite the fact that his wife did not cheat. They are getting divorced. Shortly after the divorce, Katya ends up in the hospital. Quiet, with dull eyes, Mitya visits her. Their date is coming to an end. And suddenly she screams, choking with sobs: \"I miss you, Mitya!\" Suspicions, doubts, je... Leer todo', 76), ('Habfürdö', '7,1', 'György Kovásznai', ('György Kovásznai',), 'On his wedding day, eccentric 40-something shop decorator Zsolt Mohai visits Anna Parádi, asking her to call off his marriage to Klára Horváth. Drama and musical numbers follow as they discuss romance, loyalty, ambition.', 79), ('Contactos', None, 'Leandro Ferreira', ('Cheng Ah', 'Hua Gu', 'Jin Xie'), None, 80), ('A Vida É Bela?!', '4,2', 'Luís Galvão Teles', ('Kôhei Tsuka',), 'Hipólito is a self-made man, who went up in life in devious ways, and used for profit the social turmoil when Portugal changed from a monarchy into a republic, and then to a military regime. Finally, he is forced into exile. Back in 1935 to family, friends, and lovers, he is in a mix-mesh of lies, and scheming, again.', 98), ('The Girl Who Came Late', '4,6', 'Kathy Mueller', ('Hera Lind', 'Peter Timm'), \"Nell Tiscowitz is a struggling actress with an affinity for horses. She meets a wealthy rock music promoter and stable owner Digby Olsen. After Nell uses her 'telepathy' to help Digby tame horses, they eventually fall in love.\", 82), ('Io, Chiara e lo scuro', '6,7', 'Maurizio Ponzi', ('Steve Lustgarten', 'Nicole Harrison', 'Jay Horenstein'), \"Francesco, nicknamed 'Toscano', is a very good pool player but he never wins when he plays for money. He meets Chiara, a saxophone player, on a late night bus by swapping his case containing the cue with her one, containing the sax. The two fall in love, but in the meantime Francesco loses a big amount of money playing versus 'Scuro', the long-time Italian champion. H... Leer todo\", 103), ('El hombre herido', '6,7', ('Patrice Chéreau',), ('Janusz Przymanowski',), 'A young man discovers his homosexuality and begins a relationship with a manipulative hustler / petty criminal that he meets at a train station.', 109), ('American Taboo', '4,6', 'Steve Lustgarten', ('Aleksey Dudarev',), 'Un introvertido treintañero inestable, que trabaja como ayudante de fotógrafo, se obsesiona con su vecina menor de edad, quien, para su horror, corresponde a sus sentimientos debido a un posible complejo de Electra.', 94), ('Damy priglashayut kavalerov', '6,6', 'Ivan Kiasashvili', ('Aleksandr Borodyanskiy', 'Karen Shakhnazarov', 'Lev Slavin'), \"Ana Pozdnjakova wants to have loving husband, kids and family happiness. She is more than 30 and, despite being kind and sweet, She can't find man to start family with. But, She found candidate in caracter of soldiers Viktor.\", 76), ('Taifû kurabu', '7,0', 'Shinji Sômai', ('Pola Gojawiczynska', 'Barbara Sass'), 'The movie takes place in the five-day period before, during and after a ferocious, seemingly liberating typhoon, which several students endure while marooned in their school gymnasium.', 115), ('Zolotaya tsep', '6,3', 'Aleksandr Muratov', ('Alexandre Jardin', 'Carlo Cotti'), '', 91), ('Rotonda', '6,2', 'Pierre Pradinas', ('Maria Nurowska', 'Janusz Zaorski'), 'Al and Elsa have been a couple for some time, but the chances that their relationship will be long-lived are few. For one thing, Al is appallingly dependent on Elsa for his every emotional need. For another, Elsa is an incredibly elusive person, extremely difficult to pin down about anything - especially whatever is bothering her. How they have managed to survive this... Leer todo', 80), ('Bush Pilots', '5,4', 'Michael Craig', ('Alan Marshall', 'Peter Hepworth', 'Ann Turner'), None, 87), ('Sat sau woo dip mung', '6,9', 'Patrick Tam', '', 'Two lovers are willing to do anything to reunite after criminals separate them.', 90), ('Panny i wdowy', '5,5', 'Janusz Zaorski', ('Chiu-Wing Lam', 'Kee-To Lam'), 'After the fall of the January Uprising, those who fought in the insurgent ranks are massively deported to Siberia. A wealthy landowner, Ewelina, like many other Polish ladies, decides to follow her beloved man, Jan Darski, there. She is not even stopped by the despair of her only beloved daughter, Karolina, who cannot imagine her life without her mother. Ewelina reach... Leer todo', 145), ('Reto al destino', '6,5', 'John Irvin', ('Irina Mej', 'Viktor Vitkovich', 'Teodor Vulfovich'), 'A British steeple chase jockey who, in the late 1970s, was diagnosed with cancer. Rather than succumb to the disease, however, Bob stages a miraculous recovery and goes on to win the 1981 Grand National steeplechase on the horse Aldaniti.', 106), ('The Dark Side to Love', '5,6', 'John Carr', ('Marcel Albertini', 'Rino Di Silvestro'), 'Glen se enamora perdidamente de Gretta, una actriz de cine que toca el piano en un club nocturno de mala muerte.', 90), ('Corazón de cristal', '5,1', 'Gil Bettman', ('Lutz Konermann',), 'Un joven de 22 años que ha vivido dentro de una habitación de cristal a causa de una extraña enfermedad, conoce a una prometedora estrella del rock y ambos se enamoran.', 103), ('Ming yuet chiu Zim Dung', '5,7', 'Taylor Wong', '', 'A cop falls in love with a karaoke singer, while her violent, and psychotic gangster-boyfriend, known as Prince, is away on business.', 86), ('Conversa Acabada', '6,2', 'João Botelho', ('João Botelho', 'Helena Domingos'), 'The film was to be a documentary, but evolved during production to a fictional film. It nevertheless adheres strictly to the poems and letters exchanged by two of the most outstanding names of the Modernist Movement, Fernando Pessoa (in Lisbon) and Mário de Sá-Carneiro (in Paris). Their endless conversation was dramatically and suddenly terminated.', 100), (\"Abang '92\", '7,1', 'Rahim Razali', ('Marta Balletbò-Coll', 'Ana Simón Cerezo'), \"Imran assumed responsibility as a guardian to his younger siblings, Adibah, Azura, Izam and Azmah when both of their parents, Zainal Abidin and Wan Atikah died due to a road accident. At first, he wanted to hand over the responsibility to Pak Long and Pak Surya, but changed his mind after learning that his two uncles always embezzled the company's money and wanted to ... Leer todo\", 90), ('En penumbra', '4,9', 'José Luis Lozano', ('Beda Docampo Feijóo', 'Juan Bautista Stagnaro'), '', 89), ('Barsaat Ki Ek Raat', '6,1', 'Shakti Samanta', ('Kamleshwar', 'Shaktipada Rajguru', 'Shakti Samanta'), 'Rajini, a blind woman, marries Abhijit, an inspector, after he puts a violent thug named Kaliram behind bars. However, their married life later turns into a nightmare when Kaaliram is released.', 142), ('Los Sueños Eróticos de Cleopatra', '3,8', 'Rino Di Silvestro', ('Franco Rossetti',), 'Caesar brings the Egyptian queen Cleopatra to Rome.', 86), ('Cuatro aventuras de Reinette y Mirabelle', '7,5', ('Éric Rohmer',), ('Daniel Goldenberg',), 'Dos chicas diferentes van a conocer el mundo de la otra: la hermosa campiña y la bulliciosa París.', 99), ('Dziewczeta z Nowolipek', '6,0', 'Barbara Sass', ('Yelena Zykova',), 'Coming of age story of four girls living in the same poor district of Warsaw just before the outbreak of World War One.', 86), ('Bordertown Cafe', '7,0', 'Norma Bailey', ('Aleksandr Galin',), 'Marlene is the owner of a nostalgic cafe on the border of Canada and the USA. Filled with quirky and charming characters, life at the cafe is exciting, entertaining and sometimes chaotic.', 101), ('Un extraño lugar para un encuentro', '6,4', 'François Dupeyron', ('Marc Didden', 'Annemarie Vandeputte'), 'A woman thrown out of a car by her husband and a surgeon repairing his car are meeting at a highway rest stop. Both are slowly coming closer.', 100), ('Cuentos eróticos', '4,1', 'Enrique Brasó', ('Enrique Brasó', 'Jaime Chávarri', 'Fernando Colomo'), '', 99), ('Adiós, Roberto', '5,9', 'Enrique Dawi', ('Alberto Vázquez Figueroa', 'Linda Shayne'), \"Roberto separates from his wife and needs a place to stay. When he moves in with gay Marcelo, he is clueless about Marcello's sexuality and the two become close friends. One night after many drinks Roberto has sex with Marcelo and must confront his feelings and the potential ridicule of his family.\", 90), ('Clara et les Chics Types', '5,7', 'Jacques Monnet', ('Jean-Loup Dabadie',), 'Three days in the lives of six friends who are nearly 30 years old, live in Grenoble, and have a rock band called the \"Why Notes?\". They\\'re to play in Paris at Charles\\'s school reunion. In getting to Paris and back, the characters interact with Aimee\\'s ex-husband and her abrasive, cruel ex-mentor, Louise\\'s would-be lover who turns out to have a husband, Mickey\\'s long-... Leer todo', 110), ('Mouche', None, 'Mark Ward', '', None, 118), ('Altri desideri particolari', '2,7', 'Andrea Bianchi', ('Benito Alazraki', 'Francisco Rojas González'), None, 84), ('La alcoba', '4,7', \"Joe D'Amato\", ('Lito Espinosa',), \"In 1936 Italy, Elio returns home from Africa with a present for his wife in the form of Zerbal, the daughter of a tribal king. Unbeknown to him, his neglected wife Alessandra has formed a relationship with Elio's otherwise frigid secretary Velma who is less than pleased at Elio's return.\", 86), ('Al limite, cioè, non glielo dico', None, 'Franco Rossetti', ('Yuji Kato',), '', 105), ('Schwarz und ohne Zucker', '7,9', 'Lutz Konermann', '', 'During a holiday in Italy, a young German falls in love with an Icelandic actress. Until the happy ending, they have to go the wrong ways and detours, which are also related to the dreamlike \"mission\" of the acting group.', 82), ('West Is West', '7,1', 'David Rathod', ('Martin Kluger', 'Joseph Vilsmaier'), 'Una emigrante india conoce a un rockero punk y al dueño de un hotel mientras esquiva a los funcionarios de inmigración estadounidenses.', 80), ('Zasieki', '4,4', 'Andrzej Jerzy Piotrowski', ('Aleksandr Chervinsky',), \"Set in 1943, the film deals with the battle of Lenino, even though not openly stated. Central to the story are three recruits to the 2nd Polish Army: Pawel, who is listed as Soviet soldier since September of 1939, Andrzej, who joned this second army from General Anders' troops, and Ernest, a Silesian deserter from Wehrmacht.\", 98), ('Y la creó para el escándalo', '4,4', ('Roger Vadim',), ('Alain Gautre', 'Pierre Pradinas', 'Simon Pradinas'), \"Aspiring and incarcerated rock singer, Robin Shea (Rebecca De Mornay) seduces hardworking carpenter Billy Moran (Vincent Spano). Robin marries Billy to get out of jail, but Robin's concerns are on politician James Tiernan (Frank Langella).\", 98), (\"Amelia Lópes O'Neill\", '6,2', 'Valeria Sarmiento', ('Abhishek Chitlangia', 'Raghubir Yadav', 'Anupam Kher'), 'A well-bred young woman who prizes the virtue of fidelity remains faithful to the doctor who deflowers her, even after he marries her invalid sister.', 100)]\n"
     ]
    }
   ],
   "source": [
    "print(romance_films_imdb)"
   ]
  },
  {
   "cell_type": "code",
   "execution_count": 9,
   "metadata": {},
   "outputs": [],
   "source": [
    "romance_films_imdb_df = pd.DataFrame(romance_films_imdb, columns = [\"nombre\", \"nota imdb\", \"direccion\", \"guionista\", \"sinopsis\", \"duracion (minutos)\"])\n"
   ]
  },
  {
   "cell_type": "code",
   "execution_count": 10,
   "metadata": {},
   "outputs": [
    {
     "data": {
      "text/html": [
       "<div>\n",
       "<style scoped>\n",
       "    .dataframe tbody tr th:only-of-type {\n",
       "        vertical-align: middle;\n",
       "    }\n",
       "\n",
       "    .dataframe tbody tr th {\n",
       "        vertical-align: top;\n",
       "    }\n",
       "\n",
       "    .dataframe thead th {\n",
       "        text-align: right;\n",
       "    }\n",
       "</style>\n",
       "<table border=\"1\" class=\"dataframe\">\n",
       "  <thead>\n",
       "    <tr style=\"text-align: right;\">\n",
       "      <th></th>\n",
       "      <th>nombre</th>\n",
       "      <th>nota imdb</th>\n",
       "      <th>direccion</th>\n",
       "      <th>guionista</th>\n",
       "      <th>sinopsis</th>\n",
       "      <th>duracion (minutos)</th>\n",
       "    </tr>\n",
       "  </thead>\n",
       "  <tbody>\n",
       "    <tr>\n",
       "      <th>0</th>\n",
       "      <td>El hombre del Grande Río (Mundo verde)</td>\n",
       "      <td>4,8</td>\n",
       "      <td>Miguel Ángel Rincón</td>\n",
       "      <td>(Miguel Ángel Rincón, Aldo Sambrell)</td>\n",
       "      <td></td>\n",
       "      <td>92</td>\n",
       "    </tr>\n",
       "    <tr>\n",
       "      <th>1</th>\n",
       "      <td>Boszorkányszombat</td>\n",
       "      <td>6,4</td>\n",
       "      <td>János Rózsa</td>\n",
       "      <td>(Philip Yordan,)</td>\n",
       "      <td></td>\n",
       "      <td>87</td>\n",
       "    </tr>\n",
       "    <tr>\n",
       "      <th>2</th>\n",
       "      <td>Sailors Don't Cry</td>\n",
       "      <td>5,7</td>\n",
       "      <td>Marc Didden</td>\n",
       "      <td>(Saturday Rosenberg,)</td>\n",
       "      <td>Hilde earns just enough to support herself and...</td>\n",
       "      <td>90</td>\n",
       "    </tr>\n",
       "    <tr>\n",
       "      <th>3</th>\n",
       "      <td>Bille en tête</td>\n",
       "      <td>6,1</td>\n",
       "      <td>Carlo Cotti</td>\n",
       "      <td>(Joaquín Edwards Bello, Raúl Ruiz, Valeria Sar...</td>\n",
       "      <td>The irresistible rise of a young man, whose gr...</td>\n",
       "      <td>92</td>\n",
       "    </tr>\n",
       "    <tr>\n",
       "      <th>4</th>\n",
       "      <td>Kamata kôshinkyoku</td>\n",
       "      <td>6,9</td>\n",
       "      <td>Kinji Fukasaku</td>\n",
       "      <td></td>\n",
       "      <td>A lowly obsequious member of a movie star's en...</td>\n",
       "      <td>109</td>\n",
       "    </tr>\n",
       "    <tr>\n",
       "      <th>...</th>\n",
       "      <td>...</td>\n",
       "      <td>...</td>\n",
       "      <td>...</td>\n",
       "      <td>...</td>\n",
       "      <td>...</td>\n",
       "      <td>...</td>\n",
       "    </tr>\n",
       "    <tr>\n",
       "      <th>61</th>\n",
       "      <td>Schwarz und ohne Zucker</td>\n",
       "      <td>7,9</td>\n",
       "      <td>Lutz Konermann</td>\n",
       "      <td></td>\n",
       "      <td>During a holiday in Italy, a young German fall...</td>\n",
       "      <td>82</td>\n",
       "    </tr>\n",
       "    <tr>\n",
       "      <th>62</th>\n",
       "      <td>West Is West</td>\n",
       "      <td>7,1</td>\n",
       "      <td>David Rathod</td>\n",
       "      <td>(Martin Kluger, Joseph Vilsmaier)</td>\n",
       "      <td>Una emigrante india conoce a un rockero punk y...</td>\n",
       "      <td>80</td>\n",
       "    </tr>\n",
       "    <tr>\n",
       "      <th>63</th>\n",
       "      <td>Zasieki</td>\n",
       "      <td>4,4</td>\n",
       "      <td>Andrzej Jerzy Piotrowski</td>\n",
       "      <td>(Aleksandr Chervinsky,)</td>\n",
       "      <td>Set in 1943, the film deals with the battle of...</td>\n",
       "      <td>98</td>\n",
       "    </tr>\n",
       "    <tr>\n",
       "      <th>64</th>\n",
       "      <td>Y la creó para el escándalo</td>\n",
       "      <td>4,4</td>\n",
       "      <td>(Roger Vadim,)</td>\n",
       "      <td>(Alain Gautre, Pierre Pradinas, Simon Pradinas)</td>\n",
       "      <td>Aspiring and incarcerated rock singer, Robin S...</td>\n",
       "      <td>98</td>\n",
       "    </tr>\n",
       "    <tr>\n",
       "      <th>65</th>\n",
       "      <td>Amelia Lópes O'Neill</td>\n",
       "      <td>6,2</td>\n",
       "      <td>Valeria Sarmiento</td>\n",
       "      <td>(Abhishek Chitlangia, Raghubir Yadav, Anupam K...</td>\n",
       "      <td>A well-bred young woman who prizes the virtue ...</td>\n",
       "      <td>100</td>\n",
       "    </tr>\n",
       "  </tbody>\n",
       "</table>\n",
       "<p>66 rows × 6 columns</p>\n",
       "</div>"
      ],
      "text/plain": [
       "                                    nombre nota imdb  \\\n",
       "0   El hombre del Grande Río (Mundo verde)       4,8   \n",
       "1                        Boszorkányszombat       6,4   \n",
       "2                        Sailors Don't Cry       5,7   \n",
       "3                            Bille en tête       6,1   \n",
       "4                       Kamata kôshinkyoku       6,9   \n",
       "..                                     ...       ...   \n",
       "61                 Schwarz und ohne Zucker       7,9   \n",
       "62                            West Is West       7,1   \n",
       "63                                 Zasieki       4,4   \n",
       "64             Y la creó para el escándalo       4,4   \n",
       "65                    Amelia Lópes O'Neill       6,2   \n",
       "\n",
       "                   direccion  \\\n",
       "0        Miguel Ángel Rincón   \n",
       "1                János Rózsa   \n",
       "2                Marc Didden   \n",
       "3                Carlo Cotti   \n",
       "4             Kinji Fukasaku   \n",
       "..                       ...   \n",
       "61            Lutz Konermann   \n",
       "62              David Rathod   \n",
       "63  Andrzej Jerzy Piotrowski   \n",
       "64            (Roger Vadim,)   \n",
       "65         Valeria Sarmiento   \n",
       "\n",
       "                                            guionista  \\\n",
       "0                (Miguel Ángel Rincón, Aldo Sambrell)   \n",
       "1                                    (Philip Yordan,)   \n",
       "2                               (Saturday Rosenberg,)   \n",
       "3   (Joaquín Edwards Bello, Raúl Ruiz, Valeria Sar...   \n",
       "4                                                       \n",
       "..                                                ...   \n",
       "61                                                      \n",
       "62                  (Martin Kluger, Joseph Vilsmaier)   \n",
       "63                            (Aleksandr Chervinsky,)   \n",
       "64    (Alain Gautre, Pierre Pradinas, Simon Pradinas)   \n",
       "65  (Abhishek Chitlangia, Raghubir Yadav, Anupam K...   \n",
       "\n",
       "                                             sinopsis  duracion (minutos)  \n",
       "0                                                                      92  \n",
       "1                                                                      87  \n",
       "2   Hilde earns just enough to support herself and...                  90  \n",
       "3   The irresistible rise of a young man, whose gr...                  92  \n",
       "4   A lowly obsequious member of a movie star's en...                 109  \n",
       "..                                                ...                 ...  \n",
       "61  During a holiday in Italy, a young German fall...                  82  \n",
       "62  Una emigrante india conoce a un rockero punk y...                  80  \n",
       "63  Set in 1943, the film deals with the battle of...                  98  \n",
       "64  Aspiring and incarcerated rock singer, Robin S...                  98  \n",
       "65  A well-bred young woman who prizes the virtue ...                 100  \n",
       "\n",
       "[66 rows x 6 columns]"
      ]
     },
     "execution_count": 10,
     "metadata": {},
     "output_type": "execute_result"
    }
   ],
   "source": [
    "romance_films_imdb_df"
   ]
  },
  {
   "cell_type": "code",
   "execution_count": 11,
   "metadata": {},
   "outputs": [],
   "source": [
    "romance_films_imdb_df.to_csv('Romance_imdb.csv')"
   ]
  }
 ],
 "metadata": {
  "kernelspec": {
   "display_name": "Python 3",
   "language": "python",
   "name": "python3"
  },
  "language_info": {
   "codemirror_mode": {
    "name": "ipython",
    "version": 3
   },
   "file_extension": ".py",
   "mimetype": "text/x-python",
   "name": "python",
   "nbconvert_exporter": "python",
   "pygments_lexer": "ipython3",
   "version": "3.11.9"
  }
 },
 "nbformat": 4,
 "nbformat_minor": 2
}
