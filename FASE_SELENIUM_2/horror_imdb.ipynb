{
 "cells": [
  {
   "cell_type": "code",
   "execution_count": 1,
   "metadata": {},
   "outputs": [],
   "source": [
    "import pandas as pd\n",
    "from selenium import webdriver  # Selenium es una herramienta para automatizar la interacción con navegadores web.\n",
    "from webdriver_manager.chrome import ChromeDriverManager  # ChromeDriverManager gestiona la instalación del controlador de Chrome.\n",
    "from selenium.webdriver.common.keys import Keys  # Keys es útil para simular eventos de teclado en Selenium.\n",
    "from selenium.webdriver.support.ui import Select  # Select se utiliza para interactuar con elementos <select> en páginas web.\n",
    "from time import sleep\n",
    "from tqdm import tqdm"
   ]
  },
  {
   "cell_type": "code",
   "execution_count": 2,
   "metadata": {},
   "outputs": [
    {
     "name": "stdout",
     "output_type": "stream",
     "text": [
      "     Unnamed: 0    idOwner                        Title   Type  Year   Genre\n",
      "0             0  tt0074994              Tempyo no iraka  Movie  1980  Horror\n",
      "1             1  tt0078113                     Primitif  Movie  1980  Horror\n",
      "2             2  tt0077567           The Sleep of Death  Movie  1980  Horror\n",
      "3             3  tt0078791  Aquella casa en las afueras  Movie  1980  Horror\n",
      "4             4  tt0078806                    The Attic  Movie  1980  Horror\n",
      "..          ...        ...                          ...    ...   ...     ...\n",
      "104         104  tt0109723       Embrace of the Vampire  Movie  1995  Horror\n",
      "105         105  tt0110604                  Témoin muet  Movie  1995  Horror\n",
      "106         106  tt0111574       The Upstairs Neighbour  Movie  1995  Horror\n",
      "107         107  tt0111464                     Toughguy  Movie  1995  Horror\n",
      "108         108  tt0111244                    Sorceress  Movie  1995  Horror\n",
      "\n",
      "[109 rows x 6 columns]\n",
      "['tt0074994', 'tt0078113', 'tt0077567', 'tt0078791', 'tt0078806', 'tt0078936', 'tt0078749', 'tt0078880', 'tt0078935', 'tt0073604', 'tt0073706', 'tt0078871', 'tt0078751', 'tt0080362', 'tt0080440', 'tt0080607', 'tt0073537', 'tt0075035', 'tt0080438', 'tt0080787', 'tt0082537', 'tt0082334', 'tt0082025', 'tt0081432', 'tt0083146', 'tt0082914', 'tt0082379', 'tt0083973', 'tt0082841', 'tt0083361', 'tt0084678', 'tt0085233', 'tt0073265', 'tt0081366', 'tt0084107', 'tt0085364', 'tt0085628', 'tt0085442', 'tt0086176', 'tt0086563', 'tt0068958', 'tt0080583', 'tt0086288', 'tt0086849', 'tt0087909', 'tt0087798', 'tt0089395', 'tt0089850', 'tt0088092', 'tt0089993', 'tt0088745', 'tt0090057', 'tt0090364', 'tt0085253', 'tt0087319', 'tt0089238', 'tt0088959', 'tt0090271', 'tt0090644', 'tt0089561', 'tt0088828', 'tt0093090', 'tt0092863', 'tt0092853', 'tt0092254', 'tt0089452', 'tt0091192', 'tt0094720', 'tt0094271', 'tt0094693', 'tt0093523', 'tt0093211', 'tt0094997', 'tt0096871', 'tt0096830', 'tt0095878', 'tt0096954', 'tt0097726', 'tt0098136', 'tt0099180', 'tt0078006', 'tt0100430', 'tt0100483', 'tt0100688', 'tt0099059', 'tt0099722', 'tt0099562', 'tt0100108', 'tt0099757', 'tt0101368', 'tt0101652', 'tt0101493', 'tt0101628', 'tt0102222', 'tt0103743', 'tt0104053', 'tt0105883', 'tt0105785', 'tt0100881', 'tt0106402', 'tt0106983', 'tt0106790', 'tt0109546', 'tt0109415', 'tt0109723', 'tt0110604', 'tt0111574', 'tt0111464', 'tt0111244']\n"
     ]
    }
   ],
   "source": [
    "df_horror = pd.read_csv(\"Horror.csv\")\n",
    "\n",
    "print(df_horror)\n",
    "\n",
    "idOwner = []\n",
    "\n",
    "for i in df_horror[\"idOwner\"]:\n",
    "    idOwner.append(i)\n",
    "    \n",
    "\n",
    "print(idOwner)\n"
   ]
  },
  {
   "cell_type": "code",
   "execution_count": 3,
   "metadata": {},
   "outputs": [
    {
     "name": "stderr",
     "output_type": "stream",
     "text": [
      "  1%|          | 1/109 [00:08<15:50,  8.80s/it]"
     ]
    },
    {
     "name": "stdout",
     "output_type": "stream",
     "text": [
      "bucle 1 - i:  1  iniciando....\n",
      "bucle 1 EXCEPT - i:  1  finalizado....\n",
      "bucle 2 - i:  1  iniciando....\n",
      "bucle 2 - i:  1  fin....\n",
      "bucle 2 - i:  2  iniciando....\n",
      "bucle 2 EXCEPT - i:  2  fin....\n"
     ]
    },
    {
     "name": "stderr",
     "output_type": "stream",
     "text": [
      "  2%|▏         | 2/109 [00:17<15:46,  8.85s/it]"
     ]
    },
    {
     "name": "stdout",
     "output_type": "stream",
     "text": [
      "bucle 1 - i:  1  iniciando....\n",
      "bucle 1 EXCEPT - i:  1  finalizado....\n",
      "bucle 2 - i:  1  iniciando....\n",
      "bucle 2 - i:  1  fin....\n",
      "bucle 2 - i:  2  iniciando....\n",
      "bucle 2 - i:  2  fin....\n",
      "bucle 2 - i:  3  iniciando....\n",
      "bucle 2 EXCEPT - i:  3  fin....\n"
     ]
    },
    {
     "name": "stderr",
     "output_type": "stream",
     "text": [
      "  3%|▎         | 3/109 [00:26<15:29,  8.77s/it]"
     ]
    },
    {
     "name": "stdout",
     "output_type": "stream",
     "text": [
      "bucle 1 - i:  1  iniciando....\n",
      "bucle 1 EXCEPT - i:  1  finalizado....\n",
      "bucle 2 - i:  1  iniciando....\n",
      "bucle 2 - i:  1  fin....\n",
      "bucle 2 - i:  2  iniciando....\n",
      "bucle 2 - i:  2  fin....\n",
      "bucle 2 - i:  3  iniciando....\n",
      "bucle 2 - i:  3  fin....\n",
      "bucle 2 - i:  4  iniciando....\n",
      "bucle 2 EXCEPT - i:  4  fin....\n"
     ]
    },
    {
     "name": "stderr",
     "output_type": "stream",
     "text": [
      "  4%|▎         | 4/109 [00:35<15:38,  8.93s/it]"
     ]
    },
    {
     "name": "stdout",
     "output_type": "stream",
     "text": [
      "bucle 1 - i:  1  iniciando....\n",
      "bucle 1 EXCEPT - i:  1  finalizado....\n",
      "bucle 2 - i:  1  iniciando....\n",
      "bucle 2 - i:  1  fin....\n",
      "bucle 2 - i:  2  iniciando....\n",
      "bucle 2 - i:  2  fin....\n",
      "bucle 2 - i:  3  iniciando....\n",
      "bucle 2 - i:  3  fin....\n",
      "bucle 2 - i:  4  iniciando....\n",
      "bucle 2 EXCEPT - i:  4  fin....\n"
     ]
    },
    {
     "name": "stderr",
     "output_type": "stream",
     "text": [
      "  5%|▍         | 5/109 [00:44<15:42,  9.06s/it]"
     ]
    },
    {
     "name": "stdout",
     "output_type": "stream",
     "text": [
      "bucle 1 - i:  1  iniciando....\n",
      "bucle 1 EXCEPT - i:  1  finalizado....\n",
      "bucle 2 - i:  1  iniciando....\n",
      "bucle 2 - i:  1  fin....\n",
      "bucle 2 - i:  2  iniciando....\n",
      "bucle 2 - i:  2  fin....\n",
      "bucle 2 - i:  3  iniciando....\n",
      "bucle 2 EXCEPT - i:  3  fin....\n"
     ]
    },
    {
     "name": "stderr",
     "output_type": "stream",
     "text": [
      "  6%|▌         | 6/109 [00:54<15:41,  9.14s/it]"
     ]
    },
    {
     "name": "stdout",
     "output_type": "stream",
     "text": [
      "bucle 1 - i:  1  iniciando....\n",
      "bucle 1 EXCEPT - i:  1  finalizado....\n",
      "bucle 2 - i:  1  iniciando....\n",
      "bucle 2 - i:  1  fin....\n",
      "bucle 2 - i:  2  iniciando....\n",
      "bucle 2 - i:  2  fin....\n",
      "bucle 2 - i:  3  iniciando....\n",
      "bucle 2 EXCEPT - i:  3  fin....\n"
     ]
    },
    {
     "name": "stderr",
     "output_type": "stream",
     "text": [
      "  6%|▋         | 7/109 [01:04<16:24,  9.65s/it]"
     ]
    },
    {
     "name": "stdout",
     "output_type": "stream",
     "text": [
      "bucle 1 - i:  1  iniciando....\n",
      "bucle 1 - i:  1  finalizado....\n",
      "bucle 1 - i:  2  iniciando....\n",
      "bucle 1 - i:  2  finalizado....\n",
      "bucle 1 - i:  3  iniciando....\n",
      "bucle 1 EXCEPT - i:  3  finalizado....\n"
     ]
    },
    {
     "name": "stderr",
     "output_type": "stream",
     "text": [
      "  7%|▋         | 8/109 [01:14<16:16,  9.67s/it]"
     ]
    },
    {
     "name": "stdout",
     "output_type": "stream",
     "text": [
      "bucle 1 - i:  1  iniciando....\n",
      "bucle 1 EXCEPT - i:  1  finalizado....\n",
      "bucle 2 - i:  1  iniciando....\n",
      "bucle 2 - i:  1  fin....\n",
      "bucle 2 - i:  2  iniciando....\n",
      "bucle 2 EXCEPT - i:  2  fin....\n"
     ]
    },
    {
     "name": "stderr",
     "output_type": "stream",
     "text": [
      "  8%|▊         | 9/109 [01:24<16:16,  9.77s/it]"
     ]
    },
    {
     "name": "stdout",
     "output_type": "stream",
     "text": [
      "bucle 1 - i:  1  iniciando....\n",
      "bucle 1 - i:  1  finalizado....\n",
      "bucle 1 - i:  2  iniciando....\n",
      "bucle 1 EXCEPT - i:  2  finalizado....\n"
     ]
    },
    {
     "name": "stderr",
     "output_type": "stream",
     "text": [
      "  9%|▉         | 10/109 [01:33<15:57,  9.68s/it]"
     ]
    },
    {
     "name": "stdout",
     "output_type": "stream",
     "text": [
      "bucle 1 - i:  1  iniciando....\n",
      "bucle 1 EXCEPT - i:  1  finalizado....\n",
      "bucle 2 - i:  1  iniciando....\n",
      "bucle 2 - i:  1  fin....\n",
      "bucle 2 - i:  2  iniciando....\n",
      "bucle 2 - i:  2  fin....\n",
      "bucle 2 - i:  3  iniciando....\n",
      "bucle 2 - i:  3  fin....\n",
      "bucle 2 - i:  4  iniciando....\n",
      "bucle 2 EXCEPT - i:  4  fin....\n"
     ]
    },
    {
     "name": "stderr",
     "output_type": "stream",
     "text": [
      " 10%|█         | 11/109 [01:42<15:18,  9.37s/it]"
     ]
    },
    {
     "name": "stdout",
     "output_type": "stream",
     "text": [
      "bucle 1 - i:  1  iniciando....\n",
      "bucle 1 EXCEPT - i:  1  finalizado....\n",
      "bucle 2 - i:  1  iniciando....\n",
      "bucle 2 - i:  1  fin....\n",
      "bucle 2 - i:  2  iniciando....\n",
      "bucle 2 - i:  2  fin....\n",
      "bucle 2 - i:  3  iniciando....\n",
      "bucle 2 EXCEPT - i:  3  fin....\n"
     ]
    },
    {
     "name": "stderr",
     "output_type": "stream",
     "text": [
      " 11%|█         | 12/109 [01:51<15:01,  9.29s/it]"
     ]
    },
    {
     "name": "stdout",
     "output_type": "stream",
     "text": [
      "bucle 1 - i:  1  iniciando....\n",
      "bucle 1 EXCEPT - i:  1  finalizado....\n",
      "bucle 2 - i:  1  iniciando....\n",
      "bucle 2 - i:  1  fin....\n",
      "bucle 2 - i:  2  iniciando....\n",
      "bucle 2 EXCEPT - i:  2  fin....\n"
     ]
    },
    {
     "name": "stderr",
     "output_type": "stream",
     "text": [
      " 12%|█▏        | 13/109 [02:01<15:12,  9.51s/it]"
     ]
    },
    {
     "name": "stdout",
     "output_type": "stream",
     "text": [
      "bucle 1 - i:  1  iniciando....\n",
      "bucle 1 - i:  1  finalizado....\n",
      "bucle 1 - i:  2  iniciando....\n",
      "bucle 1 EXCEPT - i:  2  finalizado....\n"
     ]
    },
    {
     "name": "stderr",
     "output_type": "stream",
     "text": [
      " 13%|█▎        | 14/109 [02:10<14:52,  9.40s/it]"
     ]
    },
    {
     "name": "stdout",
     "output_type": "stream",
     "text": [
      "bucle 1 - i:  1  iniciando....\n",
      "bucle 1 - i:  1  finalizado....\n",
      "bucle 1 - i:  2  iniciando....\n",
      "bucle 1 EXCEPT - i:  2  finalizado....\n"
     ]
    },
    {
     "name": "stderr",
     "output_type": "stream",
     "text": [
      " 14%|█▍        | 15/109 [02:20<14:39,  9.35s/it]"
     ]
    },
    {
     "name": "stdout",
     "output_type": "stream",
     "text": [
      "bucle 1 - i:  1  iniciando....\n",
      "bucle 1 - i:  1  finalizado....\n",
      "bucle 1 - i:  2  iniciando....\n",
      "bucle 1 EXCEPT - i:  2  finalizado....\n"
     ]
    },
    {
     "name": "stderr",
     "output_type": "stream",
     "text": [
      " 15%|█▍        | 16/109 [02:29<14:22,  9.28s/it]"
     ]
    },
    {
     "name": "stdout",
     "output_type": "stream",
     "text": [
      "bucle 1 - i:  1  iniciando....\n",
      "bucle 1 EXCEPT - i:  1  finalizado....\n",
      "bucle 2 - i:  1  iniciando....\n",
      "bucle 2 - i:  1  fin....\n",
      "bucle 2 - i:  2  iniciando....\n",
      "bucle 2 - i:  2  fin....\n",
      "bucle 2 - i:  3  iniciando....\n",
      "bucle 2 EXCEPT - i:  3  fin....\n"
     ]
    },
    {
     "name": "stderr",
     "output_type": "stream",
     "text": [
      " 16%|█▌        | 17/109 [02:38<14:05,  9.19s/it]"
     ]
    },
    {
     "name": "stdout",
     "output_type": "stream",
     "text": [
      "bucle 1 - i:  1  iniciando....\n",
      "bucle 1 EXCEPT - i:  1  finalizado....\n",
      "bucle 2 - i:  1  iniciando....\n",
      "bucle 2 - i:  1  fin....\n",
      "bucle 2 - i:  2  iniciando....\n",
      "bucle 2 EXCEPT - i:  2  fin....\n"
     ]
    },
    {
     "name": "stderr",
     "output_type": "stream",
     "text": [
      " 17%|█▋        | 18/109 [02:47<13:57,  9.20s/it]"
     ]
    },
    {
     "name": "stdout",
     "output_type": "stream",
     "text": [
      "bucle 1 - i:  1  iniciando....\n",
      "bucle 1 EXCEPT - i:  1  finalizado....\n",
      "bucle 2 - i:  1  iniciando....\n",
      "bucle 2 - i:  1  fin....\n",
      "bucle 2 - i:  2  iniciando....\n",
      "bucle 2 - i:  2  fin....\n",
      "bucle 2 - i:  3  iniciando....\n",
      "bucle 2 EXCEPT - i:  3  fin....\n"
     ]
    },
    {
     "name": "stderr",
     "output_type": "stream",
     "text": [
      " 17%|█▋        | 19/109 [02:55<13:28,  8.99s/it]"
     ]
    },
    {
     "name": "stdout",
     "output_type": "stream",
     "text": [
      "bucle 1 - i:  1  iniciando....\n",
      "bucle 1 - i:  1  finalizado....\n",
      "bucle 1 - i:  2  iniciando....\n",
      "bucle 1 EXCEPT - i:  2  finalizado....\n"
     ]
    },
    {
     "name": "stderr",
     "output_type": "stream",
     "text": [
      " 18%|█▊        | 20/109 [03:04<13:17,  8.96s/it]"
     ]
    },
    {
     "name": "stdout",
     "output_type": "stream",
     "text": [
      "bucle 1 - i:  1  iniciando....\n",
      "bucle 1 EXCEPT - i:  1  finalizado....\n",
      "bucle 2 - i:  1  iniciando....\n",
      "bucle 2 - i:  1  fin....\n",
      "bucle 2 - i:  2  iniciando....\n",
      "bucle 2 - i:  2  fin....\n",
      "bucle 2 - i:  3  iniciando....\n",
      "bucle 2 EXCEPT - i:  3  fin....\n"
     ]
    },
    {
     "name": "stderr",
     "output_type": "stream",
     "text": [
      " 19%|█▉        | 21/109 [03:14<13:36,  9.28s/it]"
     ]
    },
    {
     "name": "stdout",
     "output_type": "stream",
     "text": [
      "bucle 1 - i:  1  iniciando....\n",
      "bucle 1 - i:  1  finalizado....\n",
      "bucle 1 - i:  2  iniciando....\n",
      "bucle 1 EXCEPT - i:  2  finalizado....\n"
     ]
    },
    {
     "name": "stderr",
     "output_type": "stream",
     "text": [
      " 20%|██        | 22/109 [03:24<13:44,  9.47s/it]"
     ]
    },
    {
     "name": "stdout",
     "output_type": "stream",
     "text": [
      "bucle 1 - i:  1  iniciando....\n",
      "bucle 1 - i:  1  finalizado....\n",
      "bucle 1 - i:  2  iniciando....\n",
      "bucle 1 EXCEPT - i:  2  finalizado....\n"
     ]
    },
    {
     "name": "stderr",
     "output_type": "stream",
     "text": [
      " 21%|██        | 23/109 [03:34<13:27,  9.39s/it]"
     ]
    },
    {
     "name": "stdout",
     "output_type": "stream",
     "text": [
      "bucle 1 - i:  1  iniciando....\n",
      "bucle 1 EXCEPT - i:  1  finalizado....\n",
      "bucle 2 - i:  1  iniciando....\n",
      "bucle 2 - i:  1  fin....\n",
      "bucle 2 - i:  2  iniciando....\n",
      "bucle 2 EXCEPT - i:  2  fin....\n"
     ]
    },
    {
     "name": "stderr",
     "output_type": "stream",
     "text": [
      " 22%|██▏       | 24/109 [03:42<13:02,  9.21s/it]"
     ]
    },
    {
     "name": "stdout",
     "output_type": "stream",
     "text": [
      "bucle 1 - i:  1  iniciando....\n",
      "bucle 1 EXCEPT - i:  1  finalizado....\n",
      "bucle 2 - i:  1  iniciando....\n",
      "bucle 2 - i:  1  fin....\n",
      "bucle 2 - i:  2  iniciando....\n",
      "bucle 2 EXCEPT - i:  2  fin....\n"
     ]
    },
    {
     "name": "stderr",
     "output_type": "stream",
     "text": [
      " 23%|██▎       | 25/109 [03:52<13:05,  9.36s/it]"
     ]
    },
    {
     "name": "stdout",
     "output_type": "stream",
     "text": [
      "bucle 1 - i:  1  iniciando....\n",
      "bucle 1 - i:  1  finalizado....\n",
      "bucle 1 - i:  2  iniciando....\n",
      "bucle 1 EXCEPT - i:  2  finalizado....\n"
     ]
    },
    {
     "name": "stderr",
     "output_type": "stream",
     "text": [
      " 24%|██▍       | 26/109 [04:01<12:46,  9.23s/it]"
     ]
    },
    {
     "name": "stdout",
     "output_type": "stream",
     "text": [
      "bucle 1 - i:  1  iniciando....\n",
      "bucle 1 EXCEPT - i:  1  finalizado....\n",
      "bucle 2 - i:  1  iniciando....\n",
      "bucle 2 - i:  1  fin....\n",
      "bucle 2 - i:  2  iniciando....\n",
      "bucle 2 EXCEPT - i:  2  fin....\n"
     ]
    },
    {
     "name": "stderr",
     "output_type": "stream",
     "text": [
      " 25%|██▍       | 27/109 [04:10<12:30,  9.15s/it]"
     ]
    },
    {
     "name": "stdout",
     "output_type": "stream",
     "text": [
      "bucle 1 - i:  1  iniciando....\n",
      "bucle 1 - i:  1  finalizado....\n",
      "bucle 1 - i:  2  iniciando....\n",
      "bucle 1 EXCEPT - i:  2  finalizado....\n"
     ]
    },
    {
     "name": "stderr",
     "output_type": "stream",
     "text": [
      " 26%|██▌       | 28/109 [04:19<12:12,  9.04s/it]"
     ]
    },
    {
     "name": "stdout",
     "output_type": "stream",
     "text": [
      "bucle 1 - i:  1  iniciando....\n",
      "bucle 1 - i:  1  finalizado....\n",
      "bucle 1 - i:  2  iniciando....\n",
      "bucle 1 EXCEPT - i:  2  finalizado....\n"
     ]
    },
    {
     "name": "stderr",
     "output_type": "stream",
     "text": [
      " 27%|██▋       | 29/109 [04:28<11:59,  8.99s/it]"
     ]
    },
    {
     "name": "stdout",
     "output_type": "stream",
     "text": [
      "bucle 1 - i:  1  iniciando....\n",
      "bucle 1 - i:  1  finalizado....\n",
      "bucle 1 - i:  2  iniciando....\n",
      "bucle 1 EXCEPT - i:  2  finalizado....\n"
     ]
    },
    {
     "name": "stderr",
     "output_type": "stream",
     "text": [
      " 28%|██▊       | 30/109 [04:36<11:44,  8.92s/it]"
     ]
    },
    {
     "name": "stdout",
     "output_type": "stream",
     "text": [
      "bucle 1 - i:  1  iniciando....\n",
      "bucle 1 EXCEPT - i:  1  finalizado....\n",
      "bucle 2 - i:  1  iniciando....\n",
      "bucle 2 - i:  1  fin....\n",
      "bucle 2 - i:  2  iniciando....\n",
      "bucle 2 - i:  2  fin....\n",
      "bucle 2 - i:  3  iniciando....\n",
      "bucle 2 EXCEPT - i:  3  fin....\n"
     ]
    },
    {
     "name": "stderr",
     "output_type": "stream",
     "text": [
      " 28%|██▊       | 31/109 [04:45<11:37,  8.95s/it]"
     ]
    },
    {
     "name": "stdout",
     "output_type": "stream",
     "text": [
      "bucle 1 - i:  1  iniciando....\n",
      "bucle 1 EXCEPT - i:  1  finalizado....\n",
      "bucle 2 - i:  1  iniciando....\n",
      "bucle 2 - i:  1  fin....\n",
      "bucle 2 - i:  2  iniciando....\n",
      "bucle 2 - i:  2  fin....\n",
      "bucle 2 - i:  3  iniciando....\n",
      "bucle 2 - i:  3  fin....\n",
      "bucle 2 - i:  4  iniciando....\n",
      "bucle 2 EXCEPT - i:  4  fin....\n"
     ]
    },
    {
     "name": "stderr",
     "output_type": "stream",
     "text": [
      " 29%|██▉       | 32/109 [04:54<11:28,  8.94s/it]"
     ]
    },
    {
     "name": "stdout",
     "output_type": "stream",
     "text": [
      "bucle 1 - i:  1  iniciando....\n",
      "bucle 1 EXCEPT - i:  1  finalizado....\n",
      "bucle 2 - i:  1  iniciando....\n",
      "bucle 2 - i:  1  fin....\n",
      "bucle 2 - i:  2  iniciando....\n",
      "bucle 2 EXCEPT - i:  2  fin....\n"
     ]
    },
    {
     "name": "stderr",
     "output_type": "stream",
     "text": [
      " 30%|███       | 33/109 [05:03<11:05,  8.75s/it]"
     ]
    },
    {
     "name": "stdout",
     "output_type": "stream",
     "text": [
      "bucle 1 - i:  1  iniciando....\n",
      "bucle 1 EXCEPT - i:  1  finalizado....\n",
      "bucle 2 - i:  1  iniciando....\n",
      "bucle 2 - i:  1  fin....\n",
      "bucle 2 - i:  2  iniciando....\n",
      "bucle 2 - i:  2  fin....\n",
      "bucle 2 - i:  3  iniciando....\n",
      "bucle 2 EXCEPT - i:  3  fin....\n"
     ]
    },
    {
     "name": "stderr",
     "output_type": "stream",
     "text": [
      " 31%|███       | 34/109 [05:12<11:13,  8.98s/it]"
     ]
    },
    {
     "name": "stdout",
     "output_type": "stream",
     "text": [
      "bucle 1 - i:  1  iniciando....\n",
      "bucle 1 - i:  1  finalizado....\n",
      "bucle 1 - i:  2  iniciando....\n",
      "bucle 1 - i:  2  finalizado....\n",
      "bucle 1 - i:  3  iniciando....\n",
      "bucle 1 EXCEPT - i:  3  finalizado....\n"
     ]
    },
    {
     "name": "stderr",
     "output_type": "stream",
     "text": [
      " 32%|███▏      | 35/109 [05:20<10:49,  8.78s/it]"
     ]
    },
    {
     "name": "stdout",
     "output_type": "stream",
     "text": [
      "bucle 1 - i:  1  iniciando....\n",
      "bucle 1 EXCEPT - i:  1  finalizado....\n",
      "bucle 2 - i:  1  iniciando....\n",
      "bucle 2 - i:  1  fin....\n",
      "bucle 2 - i:  2  iniciando....\n",
      "bucle 2 EXCEPT - i:  2  fin....\n"
     ]
    },
    {
     "name": "stderr",
     "output_type": "stream",
     "text": [
      " 33%|███▎      | 36/109 [05:29<10:45,  8.84s/it]"
     ]
    },
    {
     "name": "stdout",
     "output_type": "stream",
     "text": [
      "bucle 1 - i:  1  iniciando....\n",
      "bucle 1 EXCEPT - i:  1  finalizado....\n",
      "bucle 2 - i:  1  iniciando....\n",
      "bucle 2 - i:  1  fin....\n",
      "bucle 2 - i:  2  iniciando....\n",
      "bucle 2 - i:  2  fin....\n",
      "bucle 2 - i:  3  iniciando....\n",
      "bucle 2 EXCEPT - i:  3  fin....\n"
     ]
    },
    {
     "name": "stderr",
     "output_type": "stream",
     "text": [
      " 34%|███▍      | 37/109 [05:38<10:34,  8.81s/it]"
     ]
    },
    {
     "name": "stdout",
     "output_type": "stream",
     "text": [
      "bucle 1 - i:  1  iniciando....\n",
      "bucle 1 EXCEPT - i:  1  finalizado....\n",
      "bucle 2 - i:  1  iniciando....\n",
      "bucle 2 - i:  1  fin....\n",
      "bucle 2 - i:  2  iniciando....\n",
      "bucle 2 - i:  2  fin....\n",
      "bucle 2 - i:  3  iniciando....\n",
      "bucle 2 EXCEPT - i:  3  fin....\n"
     ]
    },
    {
     "name": "stderr",
     "output_type": "stream",
     "text": [
      " 35%|███▍      | 38/109 [05:46<10:16,  8.68s/it]"
     ]
    },
    {
     "name": "stdout",
     "output_type": "stream",
     "text": [
      "bucle 1 - i:  1  iniciando....\n",
      "bucle 1 EXCEPT - i:  1  finalizado....\n",
      "bucle 2 - i:  1  iniciando....\n",
      "bucle 2 - i:  1  fin....\n",
      "bucle 2 - i:  2  iniciando....\n",
      "bucle 2 - i:  2  fin....\n",
      "bucle 2 - i:  3  iniciando....\n",
      "bucle 2 EXCEPT - i:  3  fin....\n"
     ]
    },
    {
     "name": "stderr",
     "output_type": "stream",
     "text": [
      " 36%|███▌      | 39/109 [05:55<10:07,  8.68s/it]"
     ]
    },
    {
     "name": "stdout",
     "output_type": "stream",
     "text": [
      "bucle 1 - i:  1  iniciando....\n",
      "bucle 1 EXCEPT - i:  1  finalizado....\n",
      "bucle 2 - i:  1  iniciando....\n",
      "bucle 2 - i:  1  fin....\n",
      "bucle 2 - i:  2  iniciando....\n",
      "bucle 2 - i:  2  fin....\n",
      "bucle 2 - i:  3  iniciando....\n",
      "bucle 2 - i:  3  fin....\n",
      "bucle 2 - i:  4  iniciando....\n",
      "bucle 2 EXCEPT - i:  4  fin....\n"
     ]
    },
    {
     "name": "stderr",
     "output_type": "stream",
     "text": [
      " 37%|███▋      | 40/109 [06:04<09:57,  8.66s/it]"
     ]
    },
    {
     "name": "stdout",
     "output_type": "stream",
     "text": [
      "bucle 1 - i:  1  iniciando....\n",
      "bucle 1 EXCEPT - i:  1  finalizado....\n",
      "bucle 2 - i:  1  iniciando....\n",
      "bucle 2 - i:  1  fin....\n",
      "bucle 2 - i:  2  iniciando....\n",
      "bucle 2 EXCEPT - i:  2  fin....\n"
     ]
    },
    {
     "name": "stderr",
     "output_type": "stream",
     "text": [
      " 38%|███▊      | 41/109 [06:11<09:17,  8.20s/it]"
     ]
    },
    {
     "name": "stdout",
     "output_type": "stream",
     "text": [
      "bucle 1 - i:  1  iniciando....\n",
      "bucle 1 EXCEPT - i:  1  finalizado....\n",
      "bucle 2 - i:  1  iniciando....\n",
      "bucle 2 - i:  1  fin....\n",
      "bucle 2 - i:  2  iniciando....\n",
      "bucle 2 EXCEPT - i:  2  fin....\n"
     ]
    },
    {
     "name": "stderr",
     "output_type": "stream",
     "text": [
      " 39%|███▊      | 42/109 [06:19<09:08,  8.19s/it]"
     ]
    },
    {
     "name": "stdout",
     "output_type": "stream",
     "text": [
      "bucle 1 - i:  1  iniciando....\n",
      "bucle 1 EXCEPT - i:  1  finalizado....\n",
      "bucle 2 - i:  1  iniciando....\n",
      "bucle 2 - i:  1  fin....\n",
      "bucle 2 - i:  2  iniciando....\n",
      "bucle 2 EXCEPT - i:  2  fin....\n"
     ]
    },
    {
     "name": "stderr",
     "output_type": "stream",
     "text": [
      " 39%|███▉      | 43/109 [06:28<09:15,  8.42s/it]"
     ]
    },
    {
     "name": "stdout",
     "output_type": "stream",
     "text": [
      "bucle 1 - i:  1  iniciando....\n",
      "bucle 1 EXCEPT - i:  1  finalizado....\n",
      "bucle 2 - i:  1  iniciando....\n",
      "bucle 2 - i:  1  fin....\n",
      "bucle 2 - i:  2  iniciando....\n",
      "bucle 2 - i:  2  fin....\n",
      "bucle 2 - i:  3  iniciando....\n",
      "bucle 2 EXCEPT - i:  3  fin....\n"
     ]
    },
    {
     "name": "stderr",
     "output_type": "stream",
     "text": [
      " 40%|████      | 44/109 [06:36<09:01,  8.34s/it]"
     ]
    },
    {
     "name": "stdout",
     "output_type": "stream",
     "text": [
      "bucle 1 - i:  1  iniciando....\n",
      "bucle 1 EXCEPT - i:  1  finalizado....\n",
      "bucle 2 - i:  1  iniciando....\n",
      "bucle 2 - i:  1  fin....\n",
      "bucle 2 - i:  2  iniciando....\n",
      "bucle 2 - i:  2  fin....\n",
      "bucle 2 - i:  3  iniciando....\n",
      "bucle 2 - i:  3  fin....\n",
      "bucle 2 - i:  4  iniciando....\n",
      "bucle 2 EXCEPT - i:  4  fin....\n"
     ]
    },
    {
     "name": "stderr",
     "output_type": "stream",
     "text": [
      " 41%|████▏     | 45/109 [06:45<09:01,  8.46s/it]"
     ]
    },
    {
     "name": "stdout",
     "output_type": "stream",
     "text": [
      "bucle 1 - i:  1  iniciando....\n",
      "bucle 1 - i:  1  finalizado....\n",
      "bucle 1 - i:  2  iniciando....\n",
      "bucle 1 EXCEPT - i:  2  finalizado....\n"
     ]
    },
    {
     "name": "stderr",
     "output_type": "stream",
     "text": [
      " 42%|████▏     | 46/109 [06:54<09:00,  8.59s/it]"
     ]
    },
    {
     "name": "stdout",
     "output_type": "stream",
     "text": [
      "bucle 1 - i:  1  iniciando....\n",
      "bucle 1 EXCEPT - i:  1  finalizado....\n",
      "bucle 2 - i:  1  iniciando....\n",
      "bucle 2 - i:  1  fin....\n",
      "bucle 2 - i:  2  iniciando....\n",
      "bucle 2 EXCEPT - i:  2  fin....\n"
     ]
    },
    {
     "name": "stderr",
     "output_type": "stream",
     "text": [
      " 43%|████▎     | 47/109 [07:02<08:51,  8.58s/it]"
     ]
    },
    {
     "name": "stdout",
     "output_type": "stream",
     "text": [
      "bucle 1 - i:  1  iniciando....\n",
      "bucle 1 EXCEPT - i:  1  finalizado....\n",
      "bucle 2 - i:  1  iniciando....\n",
      "bucle 2 - i:  1  fin....\n",
      "bucle 2 - i:  2  iniciando....\n",
      "bucle 2 - i:  2  fin....\n",
      "bucle 2 - i:  3  iniciando....\n",
      "bucle 2 - i:  3  fin....\n",
      "bucle 2 - i:  4  iniciando....\n",
      "bucle 2 EXCEPT - i:  4  fin....\n"
     ]
    },
    {
     "name": "stderr",
     "output_type": "stream",
     "text": [
      " 44%|████▍     | 48/109 [07:11<08:40,  8.54s/it]"
     ]
    },
    {
     "name": "stdout",
     "output_type": "stream",
     "text": [
      "bucle 1 - i:  1  iniciando....\n",
      "bucle 1 EXCEPT - i:  1  finalizado....\n",
      "bucle 2 - i:  1  iniciando....\n",
      "bucle 2 - i:  1  fin....\n",
      "bucle 2 - i:  2  iniciando....\n",
      "bucle 2 - i:  2  fin....\n",
      "bucle 2 - i:  3  iniciando....\n",
      "bucle 2 EXCEPT - i:  3  fin....\n"
     ]
    },
    {
     "name": "stderr",
     "output_type": "stream",
     "text": [
      " 45%|████▍     | 49/109 [07:19<08:25,  8.43s/it]"
     ]
    },
    {
     "name": "stdout",
     "output_type": "stream",
     "text": [
      "bucle 1 - i:  1  iniciando....\n",
      "bucle 1 EXCEPT - i:  1  finalizado....\n",
      "bucle 2 - i:  1  iniciando....\n",
      "bucle 2 - i:  1  fin....\n",
      "bucle 2 - i:  2  iniciando....\n",
      "bucle 2 - i:  2  fin....\n",
      "bucle 2 - i:  3  iniciando....\n",
      "bucle 2 EXCEPT - i:  3  fin....\n"
     ]
    },
    {
     "name": "stderr",
     "output_type": "stream",
     "text": [
      " 46%|████▌     | 50/109 [07:27<08:16,  8.41s/it]"
     ]
    },
    {
     "name": "stdout",
     "output_type": "stream",
     "text": [
      "bucle 1 - i:  1  iniciando....\n",
      "bucle 1 EXCEPT - i:  1  finalizado....\n",
      "bucle 2 - i:  1  iniciando....\n",
      "bucle 2 - i:  1  fin....\n",
      "bucle 2 - i:  2  iniciando....\n",
      "bucle 2 EXCEPT - i:  2  fin....\n"
     ]
    },
    {
     "name": "stderr",
     "output_type": "stream",
     "text": [
      " 47%|████▋     | 51/109 [07:36<08:11,  8.48s/it]"
     ]
    },
    {
     "name": "stdout",
     "output_type": "stream",
     "text": [
      "bucle 1 - i:  1  iniciando....\n",
      "bucle 1 EXCEPT - i:  1  finalizado....\n",
      "bucle 2 - i:  1  iniciando....\n",
      "bucle 2 - i:  1  fin....\n",
      "bucle 2 - i:  2  iniciando....\n",
      "bucle 2 - i:  2  fin....\n",
      "bucle 2 - i:  3  iniciando....\n",
      "bucle 2 - i:  3  fin....\n",
      "bucle 2 - i:  4  iniciando....\n",
      "bucle 2 EXCEPT - i:  4  fin....\n"
     ]
    },
    {
     "name": "stderr",
     "output_type": "stream",
     "text": [
      " 48%|████▊     | 52/109 [07:45<08:07,  8.56s/it]"
     ]
    },
    {
     "name": "stdout",
     "output_type": "stream",
     "text": [
      "bucle 1 - i:  1  iniciando....\n",
      "bucle 1 - i:  1  finalizado....\n",
      "bucle 1 - i:  2  iniciando....\n",
      "bucle 1 - i:  2  finalizado....\n",
      "bucle 1 - i:  3  iniciando....\n",
      "bucle 1 - i:  3  finalizado....\n",
      "bucle 1 - i:  4  iniciando....\n",
      "bucle 1 EXCEPT - i:  4  finalizado....\n"
     ]
    },
    {
     "name": "stderr",
     "output_type": "stream",
     "text": [
      " 49%|████▊     | 53/109 [07:53<07:58,  8.54s/it]"
     ]
    },
    {
     "name": "stdout",
     "output_type": "stream",
     "text": [
      "bucle 1 - i:  1  iniciando....\n",
      "bucle 1 EXCEPT - i:  1  finalizado....\n",
      "bucle 2 - i:  1  iniciando....\n",
      "bucle 2 - i:  1  fin....\n",
      "bucle 2 - i:  2  iniciando....\n",
      "bucle 2 EXCEPT - i:  2  fin....\n"
     ]
    },
    {
     "name": "stderr",
     "output_type": "stream",
     "text": [
      " 50%|████▉     | 54/109 [08:02<07:57,  8.68s/it]"
     ]
    },
    {
     "name": "stdout",
     "output_type": "stream",
     "text": [
      "bucle 1 - i:  1  iniciando....\n",
      "bucle 1 - i:  1  finalizado....\n",
      "bucle 1 - i:  2  iniciando....\n",
      "bucle 1 EXCEPT - i:  2  finalizado....\n"
     ]
    },
    {
     "name": "stderr",
     "output_type": "stream",
     "text": [
      " 50%|█████     | 55/109 [08:11<07:44,  8.61s/it]"
     ]
    },
    {
     "name": "stdout",
     "output_type": "stream",
     "text": [
      "bucle 1 - i:  1  iniciando....\n",
      "bucle 1 EXCEPT - i:  1  finalizado....\n",
      "bucle 2 - i:  1  iniciando....\n",
      "bucle 2 - i:  1  fin....\n",
      "bucle 2 - i:  2  iniciando....\n",
      "bucle 2 EXCEPT - i:  2  fin....\n"
     ]
    },
    {
     "name": "stderr",
     "output_type": "stream",
     "text": [
      " 51%|█████▏    | 56/109 [08:19<07:39,  8.67s/it]"
     ]
    },
    {
     "name": "stdout",
     "output_type": "stream",
     "text": [
      "bucle 1 - i:  1  iniciando....\n",
      "bucle 1 EXCEPT - i:  1  finalizado....\n",
      "bucle 2 - i:  1  iniciando....\n",
      "bucle 2 - i:  1  fin....\n",
      "bucle 2 - i:  2  iniciando....\n",
      "bucle 2 EXCEPT - i:  2  fin....\n"
     ]
    },
    {
     "name": "stderr",
     "output_type": "stream",
     "text": [
      " 52%|█████▏    | 57/109 [08:29<07:36,  8.78s/it]"
     ]
    },
    {
     "name": "stdout",
     "output_type": "stream",
     "text": [
      "bucle 1 - i:  1  iniciando....\n",
      "bucle 1 EXCEPT - i:  1  finalizado....\n",
      "bucle 2 - i:  1  iniciando....\n",
      "bucle 2 - i:  1  fin....\n",
      "bucle 2 - i:  2  iniciando....\n",
      "bucle 2 EXCEPT - i:  2  fin....\n"
     ]
    },
    {
     "name": "stderr",
     "output_type": "stream",
     "text": [
      " 53%|█████▎    | 58/109 [08:37<07:29,  8.82s/it]"
     ]
    },
    {
     "name": "stdout",
     "output_type": "stream",
     "text": [
      "bucle 1 - i:  1  iniciando....\n",
      "bucle 1 EXCEPT - i:  1  finalizado....\n",
      "bucle 2 - i:  1  iniciando....\n",
      "bucle 2 - i:  1  fin....\n",
      "bucle 2 - i:  2  iniciando....\n",
      "bucle 2 - i:  2  fin....\n",
      "bucle 2 - i:  3  iniciando....\n",
      "bucle 2 EXCEPT - i:  3  fin....\n"
     ]
    },
    {
     "name": "stderr",
     "output_type": "stream",
     "text": [
      " 54%|█████▍    | 59/109 [08:46<07:23,  8.87s/it]"
     ]
    },
    {
     "name": "stdout",
     "output_type": "stream",
     "text": [
      "bucle 1 - i:  1  iniciando....\n",
      "bucle 1 EXCEPT - i:  1  finalizado....\n",
      "bucle 2 - i:  1  iniciando....\n",
      "bucle 2 - i:  1  fin....\n",
      "bucle 2 - i:  2  iniciando....\n",
      "bucle 2 - i:  2  fin....\n",
      "bucle 2 - i:  3  iniciando....\n",
      "bucle 2 EXCEPT - i:  3  fin....\n"
     ]
    },
    {
     "name": "stderr",
     "output_type": "stream",
     "text": [
      " 55%|█████▌    | 60/109 [08:55<07:13,  8.85s/it]"
     ]
    },
    {
     "name": "stdout",
     "output_type": "stream",
     "text": [
      "bucle 1 - i:  1  iniciando....\n",
      "bucle 1 EXCEPT - i:  1  finalizado....\n",
      "bucle 2 - i:  1  iniciando....\n",
      "bucle 2 - i:  1  fin....\n",
      "bucle 2 - i:  2  iniciando....\n",
      "bucle 2 EXCEPT - i:  2  fin....\n"
     ]
    },
    {
     "name": "stderr",
     "output_type": "stream",
     "text": [
      " 56%|█████▌    | 61/109 [09:04<07:01,  8.78s/it]"
     ]
    },
    {
     "name": "stdout",
     "output_type": "stream",
     "text": [
      "bucle 1 - i:  1  iniciando....\n",
      "bucle 1 EXCEPT - i:  1  finalizado....\n",
      "bucle 2 - i:  1  iniciando....\n",
      "bucle 2 - i:  1  fin....\n",
      "bucle 2 - i:  2  iniciando....\n",
      "bucle 2 EXCEPT - i:  2  fin....\n"
     ]
    },
    {
     "name": "stderr",
     "output_type": "stream",
     "text": [
      " 57%|█████▋    | 62/109 [09:13<07:01,  8.96s/it]"
     ]
    },
    {
     "name": "stdout",
     "output_type": "stream",
     "text": [
      "bucle 1 - i:  1  iniciando....\n",
      "bucle 1 - i:  1  finalizado....\n",
      "bucle 1 - i:  2  iniciando....\n",
      "bucle 1 EXCEPT - i:  2  finalizado....\n"
     ]
    },
    {
     "name": "stderr",
     "output_type": "stream",
     "text": [
      " 58%|█████▊    | 63/109 [09:22<06:55,  9.02s/it]"
     ]
    },
    {
     "name": "stdout",
     "output_type": "stream",
     "text": [
      "bucle 1 - i:  1  iniciando....\n",
      "bucle 1 - i:  1  finalizado....\n",
      "bucle 1 - i:  2  iniciando....\n",
      "bucle 1 EXCEPT - i:  2  finalizado....\n"
     ]
    },
    {
     "name": "stderr",
     "output_type": "stream",
     "text": [
      " 59%|█████▊    | 64/109 [09:32<06:55,  9.24s/it]"
     ]
    },
    {
     "name": "stdout",
     "output_type": "stream",
     "text": [
      "bucle 1 - i:  1  iniciando....\n",
      "bucle 1 EXCEPT - i:  1  finalizado....\n",
      "bucle 2 - i:  1  iniciando....\n",
      "bucle 2 - i:  1  fin....\n",
      "bucle 2 - i:  2  iniciando....\n",
      "bucle 2 - i:  2  fin....\n",
      "bucle 2 - i:  3  iniciando....\n",
      "bucle 2 - i:  3  fin....\n",
      "bucle 2 - i:  4  iniciando....\n",
      "bucle 2 EXCEPT - i:  4  fin....\n"
     ]
    },
    {
     "name": "stderr",
     "output_type": "stream",
     "text": [
      " 60%|█████▉    | 65/109 [09:42<06:59,  9.53s/it]"
     ]
    },
    {
     "name": "stdout",
     "output_type": "stream",
     "text": [
      "bucle 1 - i:  1  iniciando....\n",
      "bucle 1 EXCEPT - i:  1  finalizado....\n",
      "bucle 2 - i:  1  iniciando....\n",
      "bucle 2 - i:  1  fin....\n",
      "bucle 2 - i:  2  iniciando....\n",
      "bucle 2 EXCEPT - i:  2  fin....\n",
      "bucle 1 - i:  1  iniciando....\n",
      "bucle 1 EXCEPT - i:  1  finalizado....\n",
      "bucle 2 - i:  1  iniciando....\n",
      "bucle 2 EXCEPT - i:  1  fin....\n"
     ]
    },
    {
     "name": "stderr",
     "output_type": "stream",
     "text": [
      " 61%|██████▏   | 67/109 [10:02<06:43,  9.61s/it]"
     ]
    },
    {
     "name": "stdout",
     "output_type": "stream",
     "text": [
      "bucle 1 - i:  1  iniciando....\n",
      "bucle 1 EXCEPT - i:  1  finalizado....\n",
      "bucle 2 - i:  1  iniciando....\n",
      "bucle 2 - i:  1  fin....\n",
      "bucle 2 - i:  2  iniciando....\n",
      "bucle 2 - i:  2  fin....\n",
      "bucle 2 - i:  3  iniciando....\n",
      "bucle 2 EXCEPT - i:  3  fin....\n"
     ]
    },
    {
     "name": "stderr",
     "output_type": "stream",
     "text": [
      " 62%|██████▏   | 68/109 [10:11<06:26,  9.42s/it]"
     ]
    },
    {
     "name": "stdout",
     "output_type": "stream",
     "text": [
      "bucle 1 - i:  1  iniciando....\n",
      "bucle 1 EXCEPT - i:  1  finalizado....\n",
      "bucle 2 - i:  1  iniciando....\n",
      "bucle 2 - i:  1  fin....\n",
      "bucle 2 - i:  2  iniciando....\n",
      "bucle 2 - i:  2  fin....\n",
      "bucle 2 - i:  3  iniciando....\n",
      "bucle 2 EXCEPT - i:  3  fin....\n"
     ]
    },
    {
     "name": "stderr",
     "output_type": "stream",
     "text": [
      " 63%|██████▎   | 69/109 [10:19<06:09,  9.23s/it]"
     ]
    },
    {
     "name": "stdout",
     "output_type": "stream",
     "text": [
      "bucle 1 - i:  1  iniciando....\n",
      "bucle 1 EXCEPT - i:  1  finalizado....\n",
      "bucle 2 - i:  1  iniciando....\n",
      "bucle 2 - i:  1  fin....\n",
      "bucle 2 - i:  2  iniciando....\n",
      "bucle 2 EXCEPT - i:  2  fin....\n"
     ]
    },
    {
     "name": "stderr",
     "output_type": "stream",
     "text": [
      " 64%|██████▍   | 70/109 [10:28<05:55,  9.12s/it]"
     ]
    },
    {
     "name": "stdout",
     "output_type": "stream",
     "text": [
      "bucle 1 - i:  1  iniciando....\n",
      "bucle 1 EXCEPT - i:  1  finalizado....\n",
      "bucle 2 - i:  1  iniciando....\n",
      "bucle 2 - i:  1  fin....\n",
      "bucle 2 - i:  2  iniciando....\n",
      "bucle 2 - i:  2  fin....\n",
      "bucle 2 - i:  3  iniciando....\n",
      "bucle 2 EXCEPT - i:  3  fin....\n"
     ]
    },
    {
     "name": "stderr",
     "output_type": "stream",
     "text": [
      " 65%|██████▌   | 71/109 [10:37<05:40,  8.96s/it]"
     ]
    },
    {
     "name": "stdout",
     "output_type": "stream",
     "text": [
      "bucle 1 - i:  1  iniciando....\n",
      "bucle 1 EXCEPT - i:  1  finalizado....\n",
      "bucle 2 - i:  1  iniciando....\n",
      "bucle 2 - i:  1  fin....\n",
      "bucle 2 - i:  2  iniciando....\n",
      "bucle 2 EXCEPT - i:  2  fin....\n"
     ]
    },
    {
     "name": "stderr",
     "output_type": "stream",
     "text": [
      " 66%|██████▌   | 72/109 [10:44<05:15,  8.54s/it]"
     ]
    },
    {
     "name": "stdout",
     "output_type": "stream",
     "text": [
      "bucle 1 - i:  1  iniciando....\n",
      "bucle 1 EXCEPT - i:  1  finalizado....\n",
      "bucle 2 - i:  1  iniciando....\n",
      "bucle 2 - i:  1  fin....\n",
      "bucle 2 - i:  2  iniciando....\n",
      "bucle 2 EXCEPT - i:  2  fin....\n"
     ]
    },
    {
     "name": "stderr",
     "output_type": "stream",
     "text": [
      " 67%|██████▋   | 73/109 [10:53<05:11,  8.66s/it]"
     ]
    },
    {
     "name": "stdout",
     "output_type": "stream",
     "text": [
      "bucle 1 - i:  1  iniciando....\n",
      "bucle 1 - i:  1  finalizado....\n",
      "bucle 1 - i:  2  iniciando....\n",
      "bucle 1 EXCEPT - i:  2  finalizado....\n"
     ]
    },
    {
     "name": "stderr",
     "output_type": "stream",
     "text": [
      " 68%|██████▊   | 74/109 [11:02<05:03,  8.68s/it]"
     ]
    },
    {
     "name": "stdout",
     "output_type": "stream",
     "text": [
      "bucle 1 - i:  1  iniciando....\n",
      "bucle 1 - i:  1  finalizado....\n",
      "bucle 1 - i:  2  iniciando....\n",
      "bucle 1 EXCEPT - i:  2  finalizado....\n"
     ]
    },
    {
     "name": "stderr",
     "output_type": "stream",
     "text": [
      " 69%|██████▉   | 75/109 [11:11<04:52,  8.61s/it]"
     ]
    },
    {
     "name": "stdout",
     "output_type": "stream",
     "text": [
      "bucle 1 - i:  1  iniciando....\n",
      "bucle 1 EXCEPT - i:  1  finalizado....\n",
      "bucle 2 - i:  1  iniciando....\n",
      "bucle 2 - i:  1  fin....\n",
      "bucle 2 - i:  2  iniciando....\n",
      "bucle 2 - i:  2  fin....\n",
      "bucle 2 - i:  3  iniciando....\n",
      "bucle 2 EXCEPT - i:  3  fin....\n"
     ]
    },
    {
     "name": "stderr",
     "output_type": "stream",
     "text": [
      " 70%|██████▉   | 76/109 [11:20<04:49,  8.78s/it]"
     ]
    },
    {
     "name": "stdout",
     "output_type": "stream",
     "text": [
      "bucle 1 - i:  1  iniciando....\n",
      "bucle 1 - i:  1  finalizado....\n",
      "bucle 1 - i:  2  iniciando....\n",
      "bucle 1 EXCEPT - i:  2  finalizado....\n"
     ]
    },
    {
     "name": "stderr",
     "output_type": "stream",
     "text": [
      " 71%|███████   | 77/109 [11:28<04:37,  8.69s/it]"
     ]
    },
    {
     "name": "stdout",
     "output_type": "stream",
     "text": [
      "bucle 1 - i:  1  iniciando....\n",
      "bucle 1 EXCEPT - i:  1  finalizado....\n",
      "bucle 2 - i:  1  iniciando....\n",
      "bucle 2 - i:  1  fin....\n",
      "bucle 2 - i:  2  iniciando....\n",
      "bucle 2 EXCEPT - i:  2  fin....\n"
     ]
    },
    {
     "name": "stderr",
     "output_type": "stream",
     "text": [
      " 72%|███████▏  | 78/109 [11:36<04:23,  8.50s/it]"
     ]
    },
    {
     "name": "stdout",
     "output_type": "stream",
     "text": [
      "bucle 1 - i:  1  iniciando....\n",
      "bucle 1 - i:  1  finalizado....\n",
      "bucle 1 - i:  2  iniciando....\n",
      "bucle 1 EXCEPT - i:  2  finalizado....\n"
     ]
    },
    {
     "name": "stderr",
     "output_type": "stream",
     "text": [
      " 72%|███████▏  | 79/109 [11:45<04:16,  8.56s/it]"
     ]
    },
    {
     "name": "stdout",
     "output_type": "stream",
     "text": [
      "bucle 1 - i:  1  iniciando....\n",
      "bucle 1 - i:  1  finalizado....\n",
      "bucle 1 - i:  2  iniciando....\n",
      "bucle 1 - i:  2  finalizado....\n",
      "bucle 1 - i:  3  iniciando....\n",
      "bucle 1 EXCEPT - i:  3  finalizado....\n"
     ]
    },
    {
     "name": "stderr",
     "output_type": "stream",
     "text": [
      " 73%|███████▎  | 80/109 [11:54<04:08,  8.58s/it]"
     ]
    },
    {
     "name": "stdout",
     "output_type": "stream",
     "text": [
      "bucle 1 - i:  1  iniciando....\n",
      "bucle 1 - i:  1  finalizado....\n",
      "bucle 1 - i:  2  iniciando....\n",
      "bucle 1 EXCEPT - i:  2  finalizado....\n"
     ]
    },
    {
     "name": "stderr",
     "output_type": "stream",
     "text": [
      " 74%|███████▍  | 81/109 [12:01<03:53,  8.34s/it]"
     ]
    },
    {
     "name": "stdout",
     "output_type": "stream",
     "text": [
      "bucle 1 - i:  1  iniciando....\n",
      "bucle 1 EXCEPT - i:  1  finalizado....\n",
      "bucle 2 - i:  1  iniciando....\n",
      "bucle 2 - i:  1  fin....\n",
      "bucle 2 - i:  2  iniciando....\n",
      "bucle 2 - i:  2  fin....\n",
      "bucle 2 - i:  3  iniciando....\n",
      "bucle 2 EXCEPT - i:  3  fin....\n"
     ]
    },
    {
     "name": "stderr",
     "output_type": "stream",
     "text": [
      " 75%|███████▌  | 82/109 [12:12<04:04,  9.06s/it]"
     ]
    },
    {
     "name": "stdout",
     "output_type": "stream",
     "text": [
      "bucle 1 - i:  1  iniciando....\n",
      "bucle 1 EXCEPT - i:  1  finalizado....\n",
      "bucle 2 - i:  1  iniciando....\n",
      "bucle 2 - i:  1  fin....\n",
      "bucle 2 - i:  2  iniciando....\n",
      "bucle 2 - i:  2  fin....\n",
      "bucle 2 - i:  3  iniciando....\n",
      "bucle 2 - i:  3  fin....\n",
      "bucle 2 - i:  4  iniciando....\n",
      "bucle 2 EXCEPT - i:  4  fin....\n"
     ]
    },
    {
     "name": "stderr",
     "output_type": "stream",
     "text": [
      " 76%|███████▌  | 83/109 [12:20<03:47,  8.73s/it]"
     ]
    },
    {
     "name": "stdout",
     "output_type": "stream",
     "text": [
      "bucle 1 - i:  1  iniciando....\n",
      "bucle 1 EXCEPT - i:  1  finalizado....\n",
      "bucle 2 - i:  1  iniciando....\n",
      "bucle 2 - i:  1  fin....\n",
      "bucle 2 - i:  2  iniciando....\n",
      "bucle 2 - i:  2  fin....\n",
      "bucle 2 - i:  3  iniciando....\n",
      "bucle 2 - i:  3  fin....\n",
      "bucle 2 - i:  4  iniciando....\n",
      "bucle 2 EXCEPT - i:  4  fin....\n"
     ]
    },
    {
     "name": "stderr",
     "output_type": "stream",
     "text": [
      " 77%|███████▋  | 84/109 [12:29<03:37,  8.72s/it]"
     ]
    },
    {
     "name": "stdout",
     "output_type": "stream",
     "text": [
      "bucle 1 - i:  1  iniciando....\n",
      "bucle 1 - i:  1  finalizado....\n",
      "bucle 1 - i:  2  iniciando....\n",
      "bucle 1 EXCEPT - i:  2  finalizado....\n"
     ]
    },
    {
     "name": "stderr",
     "output_type": "stream",
     "text": [
      " 78%|███████▊  | 85/109 [12:37<03:26,  8.58s/it]"
     ]
    },
    {
     "name": "stdout",
     "output_type": "stream",
     "text": [
      "bucle 1 - i:  1  iniciando....\n",
      "bucle 1 EXCEPT - i:  1  finalizado....\n",
      "bucle 2 - i:  1  iniciando....\n",
      "bucle 2 - i:  1  fin....\n",
      "bucle 2 - i:  2  iniciando....\n",
      "bucle 2 EXCEPT - i:  2  fin....\n"
     ]
    },
    {
     "name": "stderr",
     "output_type": "stream",
     "text": [
      " 79%|███████▉  | 86/109 [12:44<03:07,  8.16s/it]"
     ]
    },
    {
     "name": "stdout",
     "output_type": "stream",
     "text": [
      "bucle 1 - i:  1  iniciando....\n",
      "bucle 1 EXCEPT - i:  1  finalizado....\n",
      "bucle 2 - i:  1  iniciando....\n",
      "bucle 2 - i:  1  fin....\n",
      "bucle 2 - i:  2  iniciando....\n",
      "bucle 2 - i:  2  fin....\n",
      "bucle 2 - i:  3  iniciando....\n",
      "bucle 2 EXCEPT - i:  3  fin....\n"
     ]
    },
    {
     "name": "stderr",
     "output_type": "stream",
     "text": [
      " 80%|███████▉  | 87/109 [12:53<03:00,  8.22s/it]"
     ]
    },
    {
     "name": "stdout",
     "output_type": "stream",
     "text": [
      "bucle 1 - i:  1  iniciando....\n",
      "bucle 1 EXCEPT - i:  1  finalizado....\n",
      "bucle 2 - i:  1  iniciando....\n",
      "bucle 2 - i:  1  fin....\n",
      "bucle 2 - i:  2  iniciando....\n",
      "bucle 2 EXCEPT - i:  2  fin....\n"
     ]
    },
    {
     "name": "stderr",
     "output_type": "stream",
     "text": [
      " 81%|████████  | 88/109 [13:01<02:53,  8.28s/it]"
     ]
    },
    {
     "name": "stdout",
     "output_type": "stream",
     "text": [
      "bucle 1 - i:  1  iniciando....\n",
      "bucle 1 EXCEPT - i:  1  finalizado....\n",
      "bucle 2 - i:  1  iniciando....\n",
      "bucle 2 - i:  1  fin....\n",
      "bucle 2 - i:  2  iniciando....\n",
      "bucle 2 - i:  2  fin....\n",
      "bucle 2 - i:  3  iniciando....\n",
      "bucle 2 - i:  3  fin....\n",
      "bucle 2 - i:  4  iniciando....\n",
      "bucle 2 EXCEPT - i:  4  fin....\n"
     ]
    },
    {
     "name": "stderr",
     "output_type": "stream",
     "text": [
      " 82%|████████▏ | 89/109 [13:10<02:49,  8.48s/it]"
     ]
    },
    {
     "name": "stdout",
     "output_type": "stream",
     "text": [
      "bucle 1 - i:  1  iniciando....\n",
      "bucle 1 EXCEPT - i:  1  finalizado....\n",
      "bucle 2 - i:  1  iniciando....\n",
      "bucle 2 - i:  1  fin....\n",
      "bucle 2 - i:  2  iniciando....\n",
      "bucle 2 EXCEPT - i:  2  fin....\n"
     ]
    },
    {
     "name": "stderr",
     "output_type": "stream",
     "text": [
      " 83%|████████▎ | 90/109 [13:19<02:43,  8.61s/it]"
     ]
    },
    {
     "name": "stdout",
     "output_type": "stream",
     "text": [
      "bucle 1 - i:  1  iniciando....\n",
      "bucle 1 EXCEPT - i:  1  finalizado....\n",
      "bucle 2 - i:  1  iniciando....\n",
      "bucle 2 - i:  1  fin....\n",
      "bucle 2 - i:  2  iniciando....\n",
      "bucle 2 - i:  2  fin....\n",
      "bucle 2 - i:  3  iniciando....\n",
      "bucle 2 - i:  3  fin....\n",
      "bucle 2 - i:  4  iniciando....\n",
      "bucle 2 EXCEPT - i:  4  fin....\n"
     ]
    },
    {
     "name": "stderr",
     "output_type": "stream",
     "text": [
      " 83%|████████▎ | 91/109 [13:27<02:34,  8.58s/it]"
     ]
    },
    {
     "name": "stdout",
     "output_type": "stream",
     "text": [
      "bucle 1 - i:  1  iniciando....\n",
      "bucle 1 - i:  1  finalizado....\n",
      "bucle 1 - i:  2  iniciando....\n",
      "bucle 1 EXCEPT - i:  2  finalizado....\n"
     ]
    },
    {
     "name": "stderr",
     "output_type": "stream",
     "text": [
      " 84%|████████▍ | 92/109 [13:36<02:25,  8.57s/it]"
     ]
    },
    {
     "name": "stdout",
     "output_type": "stream",
     "text": [
      "bucle 1 - i:  1  iniciando....\n",
      "bucle 1 EXCEPT - i:  1  finalizado....\n",
      "bucle 2 - i:  1  iniciando....\n",
      "bucle 2 - i:  1  fin....\n",
      "bucle 2 - i:  2  iniciando....\n",
      "bucle 2 - i:  2  fin....\n",
      "bucle 2 - i:  3  iniciando....\n",
      "bucle 2 - i:  3  fin....\n",
      "bucle 2 - i:  4  iniciando....\n",
      "bucle 2 EXCEPT - i:  4  fin....\n"
     ]
    },
    {
     "name": "stderr",
     "output_type": "stream",
     "text": [
      " 85%|████████▌ | 93/109 [13:44<02:16,  8.52s/it]"
     ]
    },
    {
     "name": "stdout",
     "output_type": "stream",
     "text": [
      "bucle 1 - i:  1  iniciando....\n",
      "bucle 1 - i:  1  finalizado....\n",
      "bucle 1 - i:  2  iniciando....\n",
      "bucle 1 EXCEPT - i:  2  finalizado....\n"
     ]
    },
    {
     "name": "stderr",
     "output_type": "stream",
     "text": [
      " 86%|████████▌ | 94/109 [13:52<02:04,  8.30s/it]"
     ]
    },
    {
     "name": "stdout",
     "output_type": "stream",
     "text": [
      "bucle 1 - i:  1  iniciando....\n",
      "bucle 1 EXCEPT - i:  1  finalizado....\n",
      "bucle 2 - i:  1  iniciando....\n",
      "bucle 2 - i:  1  fin....\n",
      "bucle 2 - i:  2  iniciando....\n",
      "bucle 2 EXCEPT - i:  2  fin....\n"
     ]
    },
    {
     "name": "stderr",
     "output_type": "stream",
     "text": [
      " 87%|████████▋ | 95/109 [14:01<01:57,  8.37s/it]"
     ]
    },
    {
     "name": "stdout",
     "output_type": "stream",
     "text": [
      "bucle 1 - i:  1  iniciando....\n",
      "bucle 1 EXCEPT - i:  1  finalizado....\n",
      "bucle 2 - i:  1  iniciando....\n",
      "bucle 2 - i:  1  fin....\n",
      "bucle 2 - i:  2  iniciando....\n",
      "bucle 2 - i:  2  fin....\n",
      "bucle 2 - i:  3  iniciando....\n",
      "bucle 2 EXCEPT - i:  3  fin....\n"
     ]
    },
    {
     "name": "stderr",
     "output_type": "stream",
     "text": [
      " 88%|████████▊ | 96/109 [14:09<01:48,  8.37s/it]"
     ]
    },
    {
     "name": "stdout",
     "output_type": "stream",
     "text": [
      "bucle 1 - i:  1  iniciando....\n",
      "bucle 1 - i:  1  finalizado....\n",
      "bucle 1 - i:  2  iniciando....\n",
      "bucle 1 EXCEPT - i:  2  finalizado....\n"
     ]
    },
    {
     "name": "stderr",
     "output_type": "stream",
     "text": [
      " 89%|████████▉ | 97/109 [14:17<01:38,  8.22s/it]"
     ]
    },
    {
     "name": "stdout",
     "output_type": "stream",
     "text": [
      "bucle 1 - i:  1  iniciando....\n",
      "bucle 1 EXCEPT - i:  1  finalizado....\n",
      "bucle 2 - i:  1  iniciando....\n",
      "bucle 2 - i:  1  fin....\n",
      "bucle 2 - i:  2  iniciando....\n",
      "bucle 2 - i:  2  fin....\n",
      "bucle 2 - i:  3  iniciando....\n",
      "bucle 2 - i:  3  fin....\n",
      "bucle 2 - i:  4  iniciando....\n",
      "bucle 2 EXCEPT - i:  4  fin....\n"
     ]
    },
    {
     "name": "stderr",
     "output_type": "stream",
     "text": [
      " 90%|████████▉ | 98/109 [14:25<01:30,  8.21s/it]"
     ]
    },
    {
     "name": "stdout",
     "output_type": "stream",
     "text": [
      "bucle 1 - i:  1  iniciando....\n",
      "bucle 1 EXCEPT - i:  1  finalizado....\n",
      "bucle 2 - i:  1  iniciando....\n",
      "bucle 2 - i:  1  fin....\n",
      "bucle 2 - i:  2  iniciando....\n",
      "bucle 2 EXCEPT - i:  2  fin....\n"
     ]
    },
    {
     "name": "stderr",
     "output_type": "stream",
     "text": [
      " 91%|█████████ | 99/109 [14:35<01:26,  8.70s/it]"
     ]
    },
    {
     "name": "stdout",
     "output_type": "stream",
     "text": [
      "bucle 1 - i:  1  iniciando....\n",
      "bucle 1 EXCEPT - i:  1  finalizado....\n",
      "bucle 2 - i:  1  iniciando....\n",
      "bucle 2 - i:  1  fin....\n",
      "bucle 2 - i:  2  iniciando....\n",
      "bucle 2 - i:  2  fin....\n",
      "bucle 2 - i:  3  iniciando....\n",
      "bucle 2 - i:  3  fin....\n",
      "bucle 2 - i:  4  iniciando....\n",
      "bucle 2 EXCEPT - i:  4  fin....\n"
     ]
    },
    {
     "name": "stderr",
     "output_type": "stream",
     "text": [
      " 92%|█████████▏| 100/109 [14:44<01:18,  8.70s/it]"
     ]
    },
    {
     "name": "stdout",
     "output_type": "stream",
     "text": [
      "bucle 1 - i:  1  iniciando....\n",
      "bucle 1 EXCEPT - i:  1  finalizado....\n",
      "bucle 2 - i:  1  iniciando....\n",
      "bucle 2 - i:  1  fin....\n",
      "bucle 2 - i:  2  iniciando....\n",
      "bucle 2 - i:  2  fin....\n",
      "bucle 2 - i:  3  iniciando....\n",
      "bucle 2 - i:  3  fin....\n",
      "bucle 2 - i:  4  iniciando....\n",
      "bucle 2 EXCEPT - i:  4  fin....\n"
     ]
    },
    {
     "name": "stderr",
     "output_type": "stream",
     "text": [
      " 93%|█████████▎| 101/109 [14:55<01:15,  9.44s/it]"
     ]
    },
    {
     "name": "stdout",
     "output_type": "stream",
     "text": [
      "bucle 1 - i:  1  iniciando....\n",
      "bucle 1 - i:  1  finalizado....\n",
      "bucle 1 - i:  2  iniciando....\n",
      "bucle 1 - i:  2  finalizado....\n",
      "bucle 1 - i:  3  iniciando....\n",
      "bucle 1 - i:  3  finalizado....\n",
      "bucle 1 - i:  4  iniciando....\n",
      "bucle 1 EXCEPT - i:  4  finalizado....\n"
     ]
    },
    {
     "name": "stderr",
     "output_type": "stream",
     "text": [
      " 94%|█████████▎| 102/109 [15:03<01:02,  8.93s/it]"
     ]
    },
    {
     "name": "stdout",
     "output_type": "stream",
     "text": [
      "bucle 1 - i:  1  iniciando....\n",
      "bucle 1 EXCEPT - i:  1  finalizado....\n",
      "bucle 2 - i:  1  iniciando....\n",
      "bucle 2 - i:  1  fin....\n",
      "bucle 2 - i:  2  iniciando....\n",
      "bucle 2 EXCEPT - i:  2  fin....\n"
     ]
    },
    {
     "name": "stderr",
     "output_type": "stream",
     "text": [
      " 94%|█████████▍| 103/109 [15:11<00:52,  8.74s/it]"
     ]
    },
    {
     "name": "stdout",
     "output_type": "stream",
     "text": [
      "bucle 1 - i:  1  iniciando....\n",
      "bucle 1 EXCEPT - i:  1  finalizado....\n",
      "bucle 2 - i:  1  iniciando....\n",
      "bucle 2 - i:  1  fin....\n",
      "bucle 2 - i:  2  iniciando....\n",
      "bucle 2 EXCEPT - i:  2  fin....\n"
     ]
    },
    {
     "name": "stderr",
     "output_type": "stream",
     "text": [
      " 95%|█████████▌| 104/109 [15:19<00:43,  8.69s/it]"
     ]
    },
    {
     "name": "stdout",
     "output_type": "stream",
     "text": [
      "bucle 1 - i:  1  iniciando....\n",
      "bucle 1 - i:  1  finalizado....\n",
      "bucle 1 - i:  2  iniciando....\n",
      "bucle 1 EXCEPT - i:  2  finalizado....\n"
     ]
    },
    {
     "name": "stderr",
     "output_type": "stream",
     "text": [
      " 96%|█████████▋| 105/109 [15:28<00:34,  8.60s/it]"
     ]
    },
    {
     "name": "stdout",
     "output_type": "stream",
     "text": [
      "bucle 1 - i:  1  iniciando....\n",
      "bucle 1 - i:  1  finalizado....\n",
      "bucle 1 - i:  2  iniciando....\n",
      "bucle 1 EXCEPT - i:  2  finalizado....\n"
     ]
    },
    {
     "name": "stderr",
     "output_type": "stream",
     "text": [
      " 97%|█████████▋| 106/109 [15:36<00:25,  8.53s/it]"
     ]
    },
    {
     "name": "stdout",
     "output_type": "stream",
     "text": [
      "bucle 1 - i:  1  iniciando....\n",
      "bucle 1 EXCEPT - i:  1  finalizado....\n",
      "bucle 2 - i:  1  iniciando....\n",
      "bucle 2 - i:  1  fin....\n",
      "bucle 2 - i:  2  iniciando....\n",
      "bucle 2 EXCEPT - i:  2  fin....\n"
     ]
    },
    {
     "name": "stderr",
     "output_type": "stream",
     "text": [
      " 98%|█████████▊| 107/109 [15:45<00:17,  8.55s/it]"
     ]
    },
    {
     "name": "stdout",
     "output_type": "stream",
     "text": [
      "bucle 1 - i:  1  iniciando....\n",
      "bucle 1 EXCEPT - i:  1  finalizado....\n",
      "bucle 2 - i:  1  iniciando....\n",
      "bucle 2 - i:  1  fin....\n",
      "bucle 2 - i:  2  iniciando....\n",
      "bucle 2 EXCEPT - i:  2  fin....\n"
     ]
    },
    {
     "name": "stderr",
     "output_type": "stream",
     "text": [
      " 99%|█████████▉| 108/109 [15:53<00:08,  8.47s/it]"
     ]
    },
    {
     "name": "stdout",
     "output_type": "stream",
     "text": [
      "bucle 1 - i:  1  iniciando....\n",
      "bucle 1 EXCEPT - i:  1  finalizado....\n",
      "bucle 2 - i:  1  iniciando....\n",
      "bucle 2 - i:  1  fin....\n",
      "bucle 2 - i:  2  iniciando....\n",
      "bucle 2 - i:  2  fin....\n",
      "bucle 2 - i:  3  iniciando....\n",
      "bucle 2 EXCEPT - i:  3  fin....\n"
     ]
    },
    {
     "name": "stderr",
     "output_type": "stream",
     "text": [
      "100%|██████████| 109/109 [16:02<00:00,  8.83s/it]"
     ]
    },
    {
     "name": "stdout",
     "output_type": "stream",
     "text": [
      "bucle 1 - i:  1  iniciando....\n",
      "bucle 1 EXCEPT - i:  1  finalizado....\n",
      "bucle 2 - i:  1  iniciando....\n",
      "bucle 2 - i:  1  fin....\n",
      "bucle 2 - i:  2  iniciando....\n",
      "bucle 2 EXCEPT - i:  2  fin....\n"
     ]
    },
    {
     "name": "stderr",
     "output_type": "stream",
     "text": [
      "\n"
     ]
    }
   ],
   "source": [
    "# EXTRACCION DATOS IMDB Y LO GUARDAMOS EN LISTAS\n",
    "\n",
    "driver = webdriver.Chrome()\n",
    "\n",
    "notas_imdb =[]\n",
    "\n",
    "driver.get('https://www.imdb.com/')\n",
    "\n",
    "driver.maximize_window()\n",
    "\n",
    "sleep (3)\n",
    "\n",
    "driver.find_element('css selector','#__next > div > div > div.sc-jrcTuL.bPmWiM > div > button.icb-btn.sc-bcXHqe.sc-dkrFOg.sc-iBYQkv.dcvrLS.ddtuHe.dRCGjd').click()\n",
    "\n",
    "nombre = []\n",
    "nota_imdb = []\n",
    "direccion = []\n",
    "guionista = []\n",
    "argumento = []\n",
    "duracion = []\n",
    "\n",
    "for i in tqdm(idOwner):\n",
    "        driver.find_element('css selector','#suggestion-search').send_keys(i, Keys.ENTER)\n",
    "        sleep(5)\n",
    "        \n",
    "        nombre.append(driver.find_element('css selector', '#__next > main > div > section.ipc-page-background.ipc-page-background--base.sc-c41b9732-0.NeSef > section > div:nth-child(5) > section > section > div.sc-491663c0-3.bdjVSf > div.sc-1f50b7c-0.PUxFE > h1 > span').text)\n",
    "        \n",
    "        try: \n",
    "                nota_imdb.append(driver.find_element('xpath', '//*[@id=\"__next\"]/main/div/section[1]/section/div[3]/section/section/div[2]/div[2]/div/div[1]/a/span/div/div[2]/div[1]/span[1]').text)\n",
    "        except:\n",
    "                nota_imdb.append(None)\n",
    "\n",
    "        \n",
    "        try: \n",
    "                duracion.append(driver.find_element('css selector', '#__next > main > div > section.ipc-page-background.ipc-page-background--base.sc-c41b9732-0.NeSef > section > div:nth-child(5) > section > section > div.sc-491663c0-3.bdjVSf > div.sc-1f50b7c-0.PUxFE > ul > li:nth-child(3)').text)\n",
    "        except:\n",
    "                try:\n",
    "                        duracion.append(driver.find_element('xpath', '//*[@id=\"__next\"]/main/div/section[1]/section/div[3]/section/section/div[2]/div[1]/ul/li[2]').text)\n",
    "                \n",
    "                except:\n",
    "                        duracion.append(None)  \n",
    "                        \n",
    "       \n",
    "        try:\n",
    "                argumento.append(driver.find_element('css selector', '#__next > main > div > section.ipc-page-background.ipc-page-background--base.sc-c41b9732-0.NeSef > section > div:nth-child(5) > section > section > div.sc-491663c0-4.gEsAEH > div.sc-491663c0-6.eQRCDK > div.sc-491663c0-10.emoxHI > section > p > span.sc-2d37a7c7-2.PeLXr').text)\n",
    "        except:\n",
    "                try:\n",
    "                        argumento.append(driver.find_element('css selector', '#__next > main > div > section.ipc-page-background.ipc-page-background--base.sc-c41b9732-0.NeSef > section > div:nth-child(5) > section > section > div.sc-491663c0-4.yjUiO > div.sc-491663c0-6.lnlBxO > div.sc-491663c0-10.rbXFE > section > p > span.sc-2d37a7c7-2.PeLXr').text)\n",
    "                except:\n",
    "                        argumento.append(None)\n",
    "                        \n",
    "\n",
    "               \n",
    "        i=0\n",
    "        direccion_multiple = []\n",
    "        try:    \n",
    "                while True: \n",
    "                        i+=1\n",
    "                        print('bucle 1 - i: ', i, ' iniciando....')\n",
    "                        direccion_multiple.append(driver.find_element('css selector', f'#__next > main > div > section.ipc-page-background.ipc-page-background--base.sc-c41b9732-0.NeSef > section > div:nth-child(5) > section > section > div.sc-491663c0-4.yjUiO > div.sc-491663c0-6.lnlBxO > div.sc-491663c0-10.rbXFE > section > div.sc-1f50b7c-3.ZYFjc > div > ul > li:nth-child(1) > div > ul > li:nth-child({i}) > a').text)\n",
    "                        print('bucle 1 - i: ', i, ' finalizado....')\n",
    "\n",
    "        except:\n",
    "                print('bucle 1 EXCEPT - i: ', i, ' finalizado....')\n",
    "                if i > 1:\n",
    "                        direccion.append(tuple(direccion_multiple))\n",
    "                        continue\n",
    "                else:\n",
    "                        try:\n",
    "                                \n",
    "                                direccion.append(driver.find_element('css selector', '#__next > main > div > section.ipc-page-background.ipc-page-background--base.sc-c41b9732-0.NeSef > section > div:nth-child(5) > section > section > div.sc-491663c0-4.gEsAEH > div.sc-491663c0-6.eQRCDK > div.sc-491663c0-10.emoxHI > section > div.sc-1f50b7c-3.ZYFjc > div > ul > li:nth-child(1) > div > ul > li > a').text)                                                                                   \n",
    "                        \n",
    "                        except:\n",
    "                                direccion.append(driver.find_element('css selector', '#__next > main > div > section.ipc-page-background.ipc-page-background--base.sc-c41b9732-0.NeSef > section > div:nth-child(5) > section > section > div.sc-491663c0-4.fVGakt > div > div.sc-491663c0-10.RRTJr > section > div.sc-1f50b7c-3.ZYFjc > div > ul > li:nth-child(1) > div > ul > li').text)\n",
    "                                                                                      #__next > main > div > section.ipc-page-background.ipc-page-background--base.sc-c41b9732-0.NeSef > section > div:nth-child(5) > section > section > div.sc-491663c0-4.fVGakt > div > div.sc-491663c0-10.RRTJr > section > div.sc-1f50b7c-3.ZYFjc > div > ul > li:nth-child(1) > div > ul > li > a\n",
    "        \n",
    "        i=0\n",
    "        guionista_multiple = []\n",
    "        try:\n",
    "                while True:\n",
    "                        i+=1\n",
    "                        print('bucle 2 - i: ', i, ' iniciando....')\n",
    "                        guionista_multiple.append(driver.find_element('css selector', f'#__next > main > div > section.ipc-page-background.ipc-page-background--base.sc-c41b9732-0.NeSef > section > div:nth-child(5) > section > section > div.sc-491663c0-4.gEsAEH > div.sc-491663c0-6.eQRCDK > div.sc-491663c0-10.emoxHI > section > div.sc-1f50b7c-3.ZYFjc > div > ul > li:nth-child(2) > div > ul > li:nth-child({i}) > a').text)\n",
    "                        print('bucle 2 - i: ', i, ' fin....')\n",
    "\n",
    "        except:\n",
    "                print('bucle 2 EXCEPT - i: ', i, ' fin....')\n",
    "                if i > 1:\n",
    "                        guionista.append(tuple(guionista_multiple))\n",
    "                        continue\n",
    "                else:\n",
    "                        try:\n",
    "                                guionista.append(driver.find_element('css selector', '#__next > main > div > section.ipc-page-background.ipc-page-background--base.sc-c41b9732-0.NeSef > section > div:nth-child(5) > section > section > div.sc-491663c0-4.yjUiO > div.sc-491663c0-6.lnlBxO > div.sc-491663c0-10.rbXFE > section > div.sc-1f50b7c-3.ZYFjc > div > ul > li:nth-child(2) > div > ul > li > a').text)                                                  \n",
    "                          \n",
    "                        except:\n",
    "                                guionista.append(driver.find_element('css selector', '#__next > main > div > section.ipc-page-background.ipc-page-background--base.sc-c41b9732-0.NeSef > section > div:nth-child(5) > section > section > div.sc-491663c0-4.fVGakt > div > div.sc-491663c0-10.RRTJr > section > div.sc-1f50b7c-3.ZYFjc > div > ul > li:nth-child(2) > div > ul > li').text)\n",
    "\n",
    "driver.close()"
   ]
  },
  {
   "cell_type": "code",
   "execution_count": 5,
   "metadata": {},
   "outputs": [],
   "source": [
    "\n",
    "duracion_mins = []\n",
    "\n",
    "for peli in duracion:\n",
    "\n",
    "    if peli is None:\n",
    "        duracion_mins.append(None)\n",
    "        continue\n",
    "    \n",
    "    elif 'h' in peli:\n",
    "        partes = peli.split('h')\n",
    "        horas = int(partes[0].strip())\n",
    "        if len(partes) > 1 and 'min' in partes[1]:\n",
    "            minutos = int(partes[1].replace('min', '').strip())\n",
    "        else:\n",
    "            minutos = 0\n",
    "    \n",
    "\n",
    "    \n",
    "    else:\n",
    "        horas = 0\n",
    "        minutos = int(peli.replace('min', '').strip())\n",
    "    \n",
    "    total_minutos = horas * 60 + minutos\n",
    "    duracion_mins.append(total_minutos)\n",
    "\n"
   ]
  },
  {
   "cell_type": "code",
   "execution_count": 2,
   "metadata": {},
   "outputs": [
    {
     "ename": "NameError",
     "evalue": "name 'nota_imdb' is not defined",
     "output_type": "error",
     "traceback": [
      "\u001b[1;31m---------------------------------------------------------------------------\u001b[0m",
      "\u001b[1;31mNameError\u001b[0m                                 Traceback (most recent call last)",
      "Cell \u001b[1;32mIn[2], line 1\u001b[0m\n\u001b[1;32m----> 1\u001b[0m imdb_horror \u001b[38;5;241m=\u001b[39m \u001b[38;5;28mlist\u001b[39m(\u001b[38;5;28mtuple\u001b[39m(\u001b[38;5;28mzip\u001b[39m(\u001b[43mnota_imdb\u001b[49m,direccion,guionista,argumento,duracion_mins)))\n",
      "\u001b[1;31mNameError\u001b[0m: name 'nota_imdb' is not defined"
     ]
    }
   ],
   "source": [
    "imdb_horror = list(tuple(zip(nota_imdb,direccion,guionista,argumento,duracion_mins)))"
   ]
  },
  {
   "cell_type": "code",
   "execution_count": 9,
   "metadata": {},
   "outputs": [
    {
     "data": {
      "text/html": [
       "<div>\n",
       "<style scoped>\n",
       "    .dataframe tbody tr th:only-of-type {\n",
       "        vertical-align: middle;\n",
       "    }\n",
       "\n",
       "    .dataframe tbody tr th {\n",
       "        vertical-align: top;\n",
       "    }\n",
       "\n",
       "    .dataframe thead th {\n",
       "        text-align: right;\n",
       "    }\n",
       "</style>\n",
       "<table border=\"1\" class=\"dataframe\">\n",
       "  <thead>\n",
       "    <tr style=\"text-align: right;\">\n",
       "      <th></th>\n",
       "      <th>0</th>\n",
       "      <th>1</th>\n",
       "      <th>2</th>\n",
       "      <th>3</th>\n",
       "      <th>4</th>\n",
       "    </tr>\n",
       "  </thead>\n",
       "  <tbody>\n",
       "    <tr>\n",
       "      <th>0</th>\n",
       "      <td>6,1</td>\n",
       "      <td>Kei Kumai</td>\n",
       "      <td>(Yoshikata Yoda,)</td>\n",
       "      <td>Set in Japan's Tenpyou era, four young monks a...</td>\n",
       "      <td>120.0</td>\n",
       "    </tr>\n",
       "    <tr>\n",
       "      <th>1</th>\n",
       "      <td>3,7</td>\n",
       "      <td>Sisworo Gautama Putra</td>\n",
       "      <td>(Imam Tantowi, Rukman Lukito)</td>\n",
       "      <td>After a raft accident in the jungle, three ant...</td>\n",
       "      <td>90.0</td>\n",
       "    </tr>\n",
       "    <tr>\n",
       "      <th>2</th>\n",
       "      <td>4,8</td>\n",
       "      <td>Calvin Floyd</td>\n",
       "      <td>(Calvin Floyd, Yvonne Floyd, Sheridan Le Fanu)</td>\n",
       "      <td>Set in 1815, a young Englishman touring Europe...</td>\n",
       "      <td>90.0</td>\n",
       "    </tr>\n",
       "    <tr>\n",
       "      <th>3</th>\n",
       "      <td>5,7</td>\n",
       "      <td>Eugenio Martín</td>\n",
       "      <td>(Chumy Chúmez, Antonio Cuevas, Eugenio Martín)</td>\n",
       "      <td>A young girl's husband rents a lovely home jus...</td>\n",
       "      <td>95.0</td>\n",
       "    </tr>\n",
       "    <tr>\n",
       "      <th>4</th>\n",
       "      <td>5,6</td>\n",
       "      <td>George Edwards</td>\n",
       "      <td>(Tony Crechales, George Edwards)</td>\n",
       "      <td>Una bibliotecaria dedica su vida a cuidar de s...</td>\n",
       "      <td>101.0</td>\n",
       "    </tr>\n",
       "    <tr>\n",
       "      <th>...</th>\n",
       "      <td>...</td>\n",
       "      <td>...</td>\n",
       "      <td>...</td>\n",
       "      <td>...</td>\n",
       "      <td>...</td>\n",
       "    </tr>\n",
       "    <tr>\n",
       "      <th>73</th>\n",
       "      <td>6,0</td>\n",
       "      <td>(Alain Robak,)</td>\n",
       "      <td>(Melissa Mitchell,)</td>\n",
       "      <td>Cuando una extraña criatura se mete en el úter...</td>\n",
       "      <td>88.0</td>\n",
       "    </tr>\n",
       "    <tr>\n",
       "      <th>74</th>\n",
       "      <td>4,0</td>\n",
       "      <td>Álvaro Sáenz de Heredia</td>\n",
       "      <td>(Anthony Waller,)</td>\n",
       "      <td>El Conde de Capranegra, acompañado de su chamb...</td>\n",
       "      <td>88.0</td>\n",
       "    </tr>\n",
       "    <tr>\n",
       "      <th>75</th>\n",
       "      <td>4,6</td>\n",
       "      <td>(Paul Ziller,)</td>\n",
       "      <td>(James Merendino,)</td>\n",
       "      <td>Young Sid es atacado con ácido como novatada. ...</td>\n",
       "      <td>86.0</td>\n",
       "    </tr>\n",
       "    <tr>\n",
       "      <th>76</th>\n",
       "      <td>4,6</td>\n",
       "      <td>Alec Mills</td>\n",
       "      <td>(Megan Heath, James Merendino)</td>\n",
       "      <td>Un asesino en serie anda suelto en un colegio ...</td>\n",
       "      <td>100.0</td>\n",
       "    </tr>\n",
       "    <tr>\n",
       "      <th>77</th>\n",
       "      <td>4,0</td>\n",
       "      <td>(Yakov Bentsvi,)</td>\n",
       "      <td>(Mark Thomas McGee,)</td>\n",
       "      <td>Billy Hamilton, high-school football star, and...</td>\n",
       "      <td>90.0</td>\n",
       "    </tr>\n",
       "  </tbody>\n",
       "</table>\n",
       "<p>78 rows × 5 columns</p>\n",
       "</div>"
      ],
      "text/plain": [
       "      0                        1  \\\n",
       "0   6,1                Kei Kumai   \n",
       "1   3,7    Sisworo Gautama Putra   \n",
       "2   4,8             Calvin Floyd   \n",
       "3   5,7           Eugenio Martín   \n",
       "4   5,6           George Edwards   \n",
       "..  ...                      ...   \n",
       "73  6,0           (Alain Robak,)   \n",
       "74  4,0  Álvaro Sáenz de Heredia   \n",
       "75  4,6           (Paul Ziller,)   \n",
       "76  4,6               Alec Mills   \n",
       "77  4,0         (Yakov Bentsvi,)   \n",
       "\n",
       "                                                 2  \\\n",
       "0                                (Yoshikata Yoda,)   \n",
       "1                    (Imam Tantowi, Rukman Lukito)   \n",
       "2   (Calvin Floyd, Yvonne Floyd, Sheridan Le Fanu)   \n",
       "3   (Chumy Chúmez, Antonio Cuevas, Eugenio Martín)   \n",
       "4                 (Tony Crechales, George Edwards)   \n",
       "..                                             ...   \n",
       "73                             (Melissa Mitchell,)   \n",
       "74                               (Anthony Waller,)   \n",
       "75                              (James Merendino,)   \n",
       "76                  (Megan Heath, James Merendino)   \n",
       "77                            (Mark Thomas McGee,)   \n",
       "\n",
       "                                                    3      4  \n",
       "0   Set in Japan's Tenpyou era, four young monks a...  120.0  \n",
       "1   After a raft accident in the jungle, three ant...   90.0  \n",
       "2   Set in 1815, a young Englishman touring Europe...   90.0  \n",
       "3   A young girl's husband rents a lovely home jus...   95.0  \n",
       "4   Una bibliotecaria dedica su vida a cuidar de s...  101.0  \n",
       "..                                                ...    ...  \n",
       "73  Cuando una extraña criatura se mete en el úter...   88.0  \n",
       "74  El Conde de Capranegra, acompañado de su chamb...   88.0  \n",
       "75  Young Sid es atacado con ácido como novatada. ...   86.0  \n",
       "76  Un asesino en serie anda suelto en un colegio ...  100.0  \n",
       "77  Billy Hamilton, high-school football star, and...   90.0  \n",
       "\n",
       "[78 rows x 5 columns]"
      ]
     },
     "execution_count": 9,
     "metadata": {},
     "output_type": "execute_result"
    }
   ],
   "source": [
    "df_horror_imdb = pd.DataFrame(imdb_horror)\n",
    "df_horror_imdb"
   ]
  },
  {
   "cell_type": "code",
   "execution_count": 10,
   "metadata": {},
   "outputs": [],
   "source": [
    "df_horror_imdb.to_csv('Horror_imdb.csv')"
   ]
  }
 ],
 "metadata": {
  "kernelspec": {
   "display_name": "Python 3",
   "language": "python",
   "name": "python3"
  },
  "language_info": {
   "codemirror_mode": {
    "name": "ipython",
    "version": 3
   },
   "file_extension": ".py",
   "mimetype": "text/x-python",
   "name": "python",
   "nbconvert_exporter": "python",
   "pygments_lexer": "ipython3",
   "version": "3.12.4"
  }
 },
 "nbformat": 4,
 "nbformat_minor": 2
}
