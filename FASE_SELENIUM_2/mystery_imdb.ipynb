{
 "cells": [
  {
   "cell_type": "code",
   "execution_count": 1,
   "metadata": {},
   "outputs": [],
   "source": [
    "import pandas as pd\n",
    "from selenium import webdriver  # Selenium es una herramienta para automatizar la interacción con navegadores web.\n",
    "from webdriver_manager.chrome import ChromeDriverManager  # ChromeDriverManager gestiona la instalación del controlador de Chrome.\n",
    "from selenium.webdriver.common.keys import Keys  # Keys es útil para simular eventos de teclado en Selenium.\n",
    "from selenium.webdriver.support.ui import Select  # Select se utiliza para interactuar con elementos <select> en páginas web.\n",
    "from time import sleep\n",
    "from tqdm import tqdm"
   ]
  },
  {
   "cell_type": "code",
   "execution_count": 2,
   "metadata": {},
   "outputs": [
    {
     "name": "stdout",
     "output_type": "stream",
     "text": [
      "    Unnamed: 0    idOwner                                         Title  \\\n",
      "0            0  tt0079120                                       Estigma   \n",
      "1            1  tt0080054                              La tía Alejandra   \n",
      "2            2  tt0078546           Ángela Morante, ¿crimen o suicidio?   \n",
      "3            3  tt0081435                                      Romaneto   \n",
      "4            4  tt0081315                                      Patrizia   \n",
      "..         ...        ...                                           ...   \n",
      "56          56  tt0109264                                 The Bicyclist   \n",
      "57          57  tt0109642                             Dolores Claiborne   \n",
      "58          58  tt0110217                                Jupiter's Wife   \n",
      "59          59  tt0111151                       Mad Dogs and Englishmen   \n",
      "60          60  tt0111269  Die Knickerbocker-Bande: Das sprechende Grab   \n",
      "\n",
      "     Type  Year    Genre  \n",
      "0   Movie  1980  Mystery  \n",
      "1   Movie  1980  Mystery  \n",
      "2   Movie  1981  Mystery  \n",
      "3   Movie  1981  Mystery  \n",
      "4   Movie  1981  Mystery  \n",
      "..    ...   ...      ...  \n",
      "56  Short  1995  Mystery  \n",
      "57  Movie  1995  Mystery  \n",
      "58  Movie  1995  Mystery  \n",
      "59  Movie  1995  Mystery  \n",
      "60  Movie  1995  Mystery  \n",
      "\n",
      "[61 rows x 6 columns]\n",
      "['tt0079120', 'tt0080054', 'tt0078546', 'tt0081435', 'tt0081315', 'tt0081513', 'tt0082531', 'tt0081203', 'tt0082324', 'tt0082279', 'tt0082748', 'tt0082278', 'tt0082285', 'tt0083811', 'tt0083558', 'tt0085965', 'tt0086162', 'tt0086343', 'tt0089283', 'tt0087512', 'tt0089409', 'tt0090086', 'tt0088920', 'tt0089857', 'tt0088872', 'tt0089151', 'tt0089678', 'tt0090978', 'tt0090689', 'tt0092840', 'tt0092632', 'tt0092847', 'tt0092879', 'tt0092588', 'tt0092961', 'tt0094627', 'tt0092577', 'tt0094709', 'tt0094949', 'tt0095400', 'tt0092589', 'tt0096177', 'tt0097573', 'tt0099397', 'tt0100338', 'tt0099723', 'tt0101404', 'tt0102238', 'tt0101625', 'tt0098707', 'tt0103124', 'tt0103968', 'tt0086847', 'tt0106261', 'tt0108045', 'tt0109028', 'tt0109264', 'tt0109642', 'tt0110217', 'tt0111151', 'tt0111269']\n"
     ]
    }
   ],
   "source": [
    "df_mystery = pd.read_csv(\"../FASE_API_1/Mystery.csv\")\n",
    "\n",
    "print(df_mystery)\n",
    "\n",
    "idOwner = []\n",
    "\n",
    "for i in df_mystery[\"idOwner\"]:\n",
    "    idOwner.append(i)\n",
    "    \n",
    "\n",
    "print(idOwner)\n"
   ]
  },
  {
   "cell_type": "code",
   "execution_count": 3,
   "metadata": {},
   "outputs": [
    {
     "name": "stderr",
     "output_type": "stream",
     "text": [
      "  2%|▏         | 1/61 [00:10<10:08, 10.14s/it]"
     ]
    },
    {
     "name": "stdout",
     "output_type": "stream",
     "text": [
      "bucle 1 - i:  1  iniciando....\n",
      "bucle 1 EXCEPT - i:  1  finalizado....\n",
      "bucle 2 - i:  1  iniciando....\n",
      "bucle 2 - i:  1  fin....\n",
      "bucle 2 - i:  2  iniciando....\n",
      "bucle 2 - i:  2  fin....\n",
      "bucle 2 - i:  3  iniciando....\n",
      "bucle 2 EXCEPT - i:  3  fin....\n"
     ]
    },
    {
     "name": "stderr",
     "output_type": "stream",
     "text": [
      "  3%|▎         | 2/61 [00:18<09:09,  9.31s/it]"
     ]
    },
    {
     "name": "stdout",
     "output_type": "stream",
     "text": [
      "bucle 1 - i:  1  iniciando....\n",
      "bucle 1 EXCEPT - i:  1  finalizado....\n",
      "bucle 2 - i:  1  iniciando....\n",
      "bucle 2 - i:  1  fin....\n",
      "bucle 2 - i:  2  iniciando....\n",
      "bucle 2 - i:  2  fin....\n",
      "bucle 2 - i:  3  iniciando....\n",
      "bucle 2 EXCEPT - i:  3  fin....\n"
     ]
    },
    {
     "name": "stderr",
     "output_type": "stream",
     "text": [
      "  5%|▍         | 3/61 [00:27<08:36,  8.91s/it]"
     ]
    },
    {
     "name": "stdout",
     "output_type": "stream",
     "text": [
      "bucle 1 - i:  1  iniciando....\n",
      "bucle 1 EXCEPT - i:  1  finalizado....\n",
      "bucle 2 - i:  1  iniciando....\n",
      "bucle 2 - i:  1  fin....\n",
      "bucle 2 - i:  2  iniciando....\n",
      "bucle 2 - i:  2  fin....\n",
      "bucle 2 - i:  3  iniciando....\n",
      "bucle 2 EXCEPT - i:  3  fin....\n"
     ]
    },
    {
     "name": "stderr",
     "output_type": "stream",
     "text": [
      "  7%|▋         | 4/61 [00:35<08:02,  8.46s/it]"
     ]
    },
    {
     "name": "stdout",
     "output_type": "stream",
     "text": [
      "bucle 1 - i:  1  iniciando....\n",
      "bucle 1 EXCEPT - i:  1  finalizado....\n",
      "bucle 2 - i:  1  iniciando....\n",
      "bucle 2 - i:  1  fin....\n",
      "bucle 2 - i:  2  iniciando....\n",
      "bucle 2 - i:  2  fin....\n",
      "bucle 2 - i:  3  iniciando....\n",
      "bucle 2 EXCEPT - i:  3  fin....\n"
     ]
    },
    {
     "name": "stderr",
     "output_type": "stream",
     "text": [
      "  8%|▊         | 5/61 [00:43<07:56,  8.51s/it]"
     ]
    },
    {
     "name": "stdout",
     "output_type": "stream",
     "text": [
      "bucle 1 - i:  1  iniciando....\n",
      "bucle 1 EXCEPT - i:  1  finalizado....\n",
      "bucle 2 - i:  1  iniciando....\n",
      "bucle 2 - i:  1  fin....\n",
      "bucle 2 - i:  2  iniciando....\n",
      "bucle 2 - i:  2  fin....\n",
      "bucle 2 - i:  3  iniciando....\n",
      "bucle 2 EXCEPT - i:  3  fin....\n"
     ]
    },
    {
     "name": "stderr",
     "output_type": "stream",
     "text": [
      " 10%|▉         | 6/61 [00:51<07:39,  8.36s/it]"
     ]
    },
    {
     "name": "stdout",
     "output_type": "stream",
     "text": [
      "bucle 1 - i:  1  iniciando....\n",
      "bucle 1 EXCEPT - i:  1  finalizado....\n",
      "bucle 2 - i:  1  iniciando....\n",
      "bucle 2 - i:  1  fin....\n",
      "bucle 2 - i:  2  iniciando....\n",
      "bucle 2 - i:  2  fin....\n",
      "bucle 2 - i:  3  iniciando....\n",
      "bucle 2 - i:  3  fin....\n",
      "bucle 2 - i:  4  iniciando....\n",
      "bucle 2 EXCEPT - i:  4  fin....\n"
     ]
    },
    {
     "name": "stderr",
     "output_type": "stream",
     "text": [
      " 10%|▉         | 6/61 [00:59<09:05,  9.93s/it]"
     ]
    },
    {
     "name": "stdout",
     "output_type": "stream",
     "text": [
      "bucle 1 - i:  1  iniciando....\n",
      "bucle 1 EXCEPT - i:  1  finalizado....\n"
     ]
    },
    {
     "name": "stderr",
     "output_type": "stream",
     "text": [
      "\n"
     ]
    },
    {
     "ename": "NoSuchElementException",
     "evalue": "Message: no such element: Unable to locate element: {\"method\":\"css selector\",\"selector\":\"#__next > main > div > section.ipc-page-background.ipc-page-background--base.sc-c41b9732-0.NeSef > section > div:nth-child(5) > section > section > div.sc-491663c0-4.gEsAEH > div.sc-491663c0-6.eQRCDK > div.sc-491663c0-10.emoxHI > section > div.sc-1f50b7c-3.ZYFjc > div > ul > li:nth-child(1) > div > ul > li > a\"}\n  (Session info: chrome=126.0.6478.128); For documentation on this error, please visit: https://www.selenium.dev/documentation/webdriver/troubleshooting/errors#no-such-element-exception\nStacktrace:\n\tGetHandleVerifier [0x00007FF6D3E5EEB2+31554]\n\t(No symbol) [0x00007FF6D3DD7EE9]\n\t(No symbol) [0x00007FF6D3C9872A]\n\t(No symbol) [0x00007FF6D3CE8434]\n\t(No symbol) [0x00007FF6D3CE853C]\n\t(No symbol) [0x00007FF6D3D2F6A7]\n\t(No symbol) [0x00007FF6D3D0D06F]\n\t(No symbol) [0x00007FF6D3D2C977]\n\t(No symbol) [0x00007FF6D3D0CDD3]\n\t(No symbol) [0x00007FF6D3CDA33B]\n\t(No symbol) [0x00007FF6D3CDAED1]\n\tGetHandleVerifier [0x00007FF6D4168B2D+3217341]\n\tGetHandleVerifier [0x00007FF6D41B5AF3+3532675]\n\tGetHandleVerifier [0x00007FF6D41AB0F0+3489152]\n\tGetHandleVerifier [0x00007FF6D3F0E786+750614]\n\t(No symbol) [0x00007FF6D3DE376F]\n\t(No symbol) [0x00007FF6D3DDEB24]\n\t(No symbol) [0x00007FF6D3DDECB2]\n\t(No symbol) [0x00007FF6D3DCE17F]\n\tBaseThreadInitThunk [0x00007FFDDB71257D+29]\n\tRtlUserThreadStart [0x00007FFDDC78AF28+40]\n",
     "output_type": "error",
     "traceback": [
      "\u001b[1;31m---------------------------------------------------------------------------\u001b[0m",
      "\u001b[1;31mNoSuchElementException\u001b[0m                    Traceback (most recent call last)",
      "Cell \u001b[1;32mIn[3], line 60\u001b[0m\n\u001b[0;32m     59\u001b[0m \u001b[38;5;28mprint\u001b[39m(\u001b[38;5;124m'\u001b[39m\u001b[38;5;124mbucle 1 - i: \u001b[39m\u001b[38;5;124m'\u001b[39m, i, \u001b[38;5;124m'\u001b[39m\u001b[38;5;124m iniciando....\u001b[39m\u001b[38;5;124m'\u001b[39m)\n\u001b[1;32m---> 60\u001b[0m direccion_multiple\u001b[38;5;241m.\u001b[39mappend(\u001b[43mdriver\u001b[49m\u001b[38;5;241;43m.\u001b[39;49m\u001b[43mfind_element\u001b[49m\u001b[43m(\u001b[49m\u001b[38;5;124;43m'\u001b[39;49m\u001b[38;5;124;43mcss selector\u001b[39;49m\u001b[38;5;124;43m'\u001b[39;49m\u001b[43m,\u001b[49m\u001b[43m \u001b[49m\u001b[38;5;124;43mf\u001b[39;49m\u001b[38;5;124;43m'\u001b[39;49m\u001b[38;5;124;43m#__next > main > div > section.ipc-page-background.ipc-page-background--base.sc-c41b9732-0.NeSef > section > div:nth-child(5) > section > section > div.sc-491663c0-4.yjUiO > div.sc-491663c0-6.lnlBxO > div.sc-491663c0-10.rbXFE > section > div.sc-1f50b7c-3.ZYFjc > div > ul > li:nth-child(1) > div > ul > li:nth-child(\u001b[39;49m\u001b[38;5;132;43;01m{\u001b[39;49;00m\u001b[43mi\u001b[49m\u001b[38;5;132;43;01m}\u001b[39;49;00m\u001b[38;5;124;43m) > a\u001b[39;49m\u001b[38;5;124;43m'\u001b[39;49m\u001b[43m)\u001b[49m\u001b[38;5;241m.\u001b[39mtext)\n\u001b[0;32m     61\u001b[0m \u001b[38;5;28mprint\u001b[39m(\u001b[38;5;124m'\u001b[39m\u001b[38;5;124mbucle 1 - i: \u001b[39m\u001b[38;5;124m'\u001b[39m, i, \u001b[38;5;124m'\u001b[39m\u001b[38;5;124m finalizado....\u001b[39m\u001b[38;5;124m'\u001b[39m)\n",
      "File \u001b[1;32mc:\\Users\\leyre\\AppData\\Local\\Programs\\Python\\Python312\\Lib\\site-packages\\selenium\\webdriver\\remote\\webdriver.py:741\u001b[0m, in \u001b[0;36mWebDriver.find_element\u001b[1;34m(self, by, value)\u001b[0m\n\u001b[0;32m    739\u001b[0m     value \u001b[38;5;241m=\u001b[39m \u001b[38;5;124mf\u001b[39m\u001b[38;5;124m'\u001b[39m\u001b[38;5;124m[name=\u001b[39m\u001b[38;5;124m\"\u001b[39m\u001b[38;5;132;01m{\u001b[39;00mvalue\u001b[38;5;132;01m}\u001b[39;00m\u001b[38;5;124m\"\u001b[39m\u001b[38;5;124m]\u001b[39m\u001b[38;5;124m'\u001b[39m\n\u001b[1;32m--> 741\u001b[0m \u001b[38;5;28;01mreturn\u001b[39;00m \u001b[38;5;28;43mself\u001b[39;49m\u001b[38;5;241;43m.\u001b[39;49m\u001b[43mexecute\u001b[49m\u001b[43m(\u001b[49m\u001b[43mCommand\u001b[49m\u001b[38;5;241;43m.\u001b[39;49m\u001b[43mFIND_ELEMENT\u001b[49m\u001b[43m,\u001b[49m\u001b[43m \u001b[49m\u001b[43m{\u001b[49m\u001b[38;5;124;43m\"\u001b[39;49m\u001b[38;5;124;43musing\u001b[39;49m\u001b[38;5;124;43m\"\u001b[39;49m\u001b[43m:\u001b[49m\u001b[43m \u001b[49m\u001b[43mby\u001b[49m\u001b[43m,\u001b[49m\u001b[43m \u001b[49m\u001b[38;5;124;43m\"\u001b[39;49m\u001b[38;5;124;43mvalue\u001b[39;49m\u001b[38;5;124;43m\"\u001b[39;49m\u001b[43m:\u001b[49m\u001b[43m \u001b[49m\u001b[43mvalue\u001b[49m\u001b[43m}\u001b[49m\u001b[43m)\u001b[49m[\u001b[38;5;124m\"\u001b[39m\u001b[38;5;124mvalue\u001b[39m\u001b[38;5;124m\"\u001b[39m]\n",
      "File \u001b[1;32mc:\\Users\\leyre\\AppData\\Local\\Programs\\Python\\Python312\\Lib\\site-packages\\selenium\\webdriver\\remote\\webdriver.py:347\u001b[0m, in \u001b[0;36mWebDriver.execute\u001b[1;34m(self, driver_command, params)\u001b[0m\n\u001b[0;32m    346\u001b[0m \u001b[38;5;28;01mif\u001b[39;00m response:\n\u001b[1;32m--> 347\u001b[0m     \u001b[38;5;28;43mself\u001b[39;49m\u001b[38;5;241;43m.\u001b[39;49m\u001b[43merror_handler\u001b[49m\u001b[38;5;241;43m.\u001b[39;49m\u001b[43mcheck_response\u001b[49m\u001b[43m(\u001b[49m\u001b[43mresponse\u001b[49m\u001b[43m)\u001b[49m\n\u001b[0;32m    348\u001b[0m     response[\u001b[38;5;124m\"\u001b[39m\u001b[38;5;124mvalue\u001b[39m\u001b[38;5;124m\"\u001b[39m] \u001b[38;5;241m=\u001b[39m \u001b[38;5;28mself\u001b[39m\u001b[38;5;241m.\u001b[39m_unwrap_value(response\u001b[38;5;241m.\u001b[39mget(\u001b[38;5;124m\"\u001b[39m\u001b[38;5;124mvalue\u001b[39m\u001b[38;5;124m\"\u001b[39m, \u001b[38;5;28;01mNone\u001b[39;00m))\n",
      "File \u001b[1;32mc:\\Users\\leyre\\AppData\\Local\\Programs\\Python\\Python312\\Lib\\site-packages\\selenium\\webdriver\\remote\\errorhandler.py:229\u001b[0m, in \u001b[0;36mErrorHandler.check_response\u001b[1;34m(self, response)\u001b[0m\n\u001b[0;32m    228\u001b[0m     \u001b[38;5;28;01mraise\u001b[39;00m exception_class(message, screen, stacktrace, alert_text)  \u001b[38;5;66;03m# type: ignore[call-arg]  # mypy is not smart enough here\u001b[39;00m\n\u001b[1;32m--> 229\u001b[0m \u001b[38;5;28;01mraise\u001b[39;00m exception_class(message, screen, stacktrace)\n",
      "\u001b[1;31mNoSuchElementException\u001b[0m: Message: no such element: Unable to locate element: {\"method\":\"css selector\",\"selector\":\"#__next > main > div > section.ipc-page-background.ipc-page-background--base.sc-c41b9732-0.NeSef > section > div:nth-child(5) > section > section > div.sc-491663c0-4.yjUiO > div.sc-491663c0-6.lnlBxO > div.sc-491663c0-10.rbXFE > section > div.sc-1f50b7c-3.ZYFjc > div > ul > li:nth-child(1) > div > ul > li:nth-child(1) > a\"}\n  (Session info: chrome=126.0.6478.128); For documentation on this error, please visit: https://www.selenium.dev/documentation/webdriver/troubleshooting/errors#no-such-element-exception\nStacktrace:\n\tGetHandleVerifier [0x00007FF6D3E5EEB2+31554]\n\t(No symbol) [0x00007FF6D3DD7EE9]\n\t(No symbol) [0x00007FF6D3C9872A]\n\t(No symbol) [0x00007FF6D3CE8434]\n\t(No symbol) [0x00007FF6D3CE853C]\n\t(No symbol) [0x00007FF6D3D2F6A7]\n\t(No symbol) [0x00007FF6D3D0D06F]\n\t(No symbol) [0x00007FF6D3D2C977]\n\t(No symbol) [0x00007FF6D3D0CDD3]\n\t(No symbol) [0x00007FF6D3CDA33B]\n\t(No symbol) [0x00007FF6D3CDAED1]\n\tGetHandleVerifier [0x00007FF6D4168B2D+3217341]\n\tGetHandleVerifier [0x00007FF6D41B5AF3+3532675]\n\tGetHandleVerifier [0x00007FF6D41AB0F0+3489152]\n\tGetHandleVerifier [0x00007FF6D3F0E786+750614]\n\t(No symbol) [0x00007FF6D3DE376F]\n\t(No symbol) [0x00007FF6D3DDEB24]\n\t(No symbol) [0x00007FF6D3DDECB2]\n\t(No symbol) [0x00007FF6D3DCE17F]\n\tBaseThreadInitThunk [0x00007FFDDB71257D+29]\n\tRtlUserThreadStart [0x00007FFDDC78AF28+40]\n",
      "\nDuring handling of the above exception, another exception occurred:\n",
      "\u001b[1;31mNoSuchElementException\u001b[0m                    Traceback (most recent call last)",
      "Cell \u001b[1;32mIn[3], line 69\u001b[0m\n\u001b[0;32m     67\u001b[0m                 \u001b[38;5;28;01mcontinue\u001b[39;00m\n\u001b[0;32m     68\u001b[0m         \u001b[38;5;28;01melse\u001b[39;00m:\n\u001b[1;32m---> 69\u001b[0m                 direccion\u001b[38;5;241m.\u001b[39mappend(\u001b[43mdriver\u001b[49m\u001b[38;5;241;43m.\u001b[39;49m\u001b[43mfind_element\u001b[49m\u001b[43m(\u001b[49m\u001b[38;5;124;43m'\u001b[39;49m\u001b[38;5;124;43mcss selector\u001b[39;49m\u001b[38;5;124;43m'\u001b[39;49m\u001b[43m,\u001b[49m\u001b[43m \u001b[49m\u001b[38;5;124;43m'\u001b[39;49m\u001b[38;5;124;43m#__next > main > div > section.ipc-page-background.ipc-page-background--base.sc-c41b9732-0.NeSef > section > div:nth-child(5) > section > section > div.sc-491663c0-4.gEsAEH > div.sc-491663c0-6.eQRCDK > div.sc-491663c0-10.emoxHI > section > div.sc-1f50b7c-3.ZYFjc > div > ul > li:nth-child(1) > div > ul > li > a\u001b[39;49m\u001b[38;5;124;43m'\u001b[39;49m\u001b[43m)\u001b[49m\u001b[38;5;241m.\u001b[39mtext)                                                                                   \n\u001b[0;32m     73\u001b[0m i\u001b[38;5;241m=\u001b[39m\u001b[38;5;241m0\u001b[39m\n\u001b[0;32m     74\u001b[0m guionista_multiple \u001b[38;5;241m=\u001b[39m []\n",
      "File \u001b[1;32mc:\\Users\\leyre\\AppData\\Local\\Programs\\Python\\Python312\\Lib\\site-packages\\selenium\\webdriver\\remote\\webdriver.py:741\u001b[0m, in \u001b[0;36mWebDriver.find_element\u001b[1;34m(self, by, value)\u001b[0m\n\u001b[0;32m    738\u001b[0m     by \u001b[38;5;241m=\u001b[39m By\u001b[38;5;241m.\u001b[39mCSS_SELECTOR\n\u001b[0;32m    739\u001b[0m     value \u001b[38;5;241m=\u001b[39m \u001b[38;5;124mf\u001b[39m\u001b[38;5;124m'\u001b[39m\u001b[38;5;124m[name=\u001b[39m\u001b[38;5;124m\"\u001b[39m\u001b[38;5;132;01m{\u001b[39;00mvalue\u001b[38;5;132;01m}\u001b[39;00m\u001b[38;5;124m\"\u001b[39m\u001b[38;5;124m]\u001b[39m\u001b[38;5;124m'\u001b[39m\n\u001b[1;32m--> 741\u001b[0m \u001b[38;5;28;01mreturn\u001b[39;00m \u001b[38;5;28;43mself\u001b[39;49m\u001b[38;5;241;43m.\u001b[39;49m\u001b[43mexecute\u001b[49m\u001b[43m(\u001b[49m\u001b[43mCommand\u001b[49m\u001b[38;5;241;43m.\u001b[39;49m\u001b[43mFIND_ELEMENT\u001b[49m\u001b[43m,\u001b[49m\u001b[43m \u001b[49m\u001b[43m{\u001b[49m\u001b[38;5;124;43m\"\u001b[39;49m\u001b[38;5;124;43musing\u001b[39;49m\u001b[38;5;124;43m\"\u001b[39;49m\u001b[43m:\u001b[49m\u001b[43m \u001b[49m\u001b[43mby\u001b[49m\u001b[43m,\u001b[49m\u001b[43m \u001b[49m\u001b[38;5;124;43m\"\u001b[39;49m\u001b[38;5;124;43mvalue\u001b[39;49m\u001b[38;5;124;43m\"\u001b[39;49m\u001b[43m:\u001b[49m\u001b[43m \u001b[49m\u001b[43mvalue\u001b[49m\u001b[43m}\u001b[49m\u001b[43m)\u001b[49m[\u001b[38;5;124m\"\u001b[39m\u001b[38;5;124mvalue\u001b[39m\u001b[38;5;124m\"\u001b[39m]\n",
      "File \u001b[1;32mc:\\Users\\leyre\\AppData\\Local\\Programs\\Python\\Python312\\Lib\\site-packages\\selenium\\webdriver\\remote\\webdriver.py:347\u001b[0m, in \u001b[0;36mWebDriver.execute\u001b[1;34m(self, driver_command, params)\u001b[0m\n\u001b[0;32m    345\u001b[0m response \u001b[38;5;241m=\u001b[39m \u001b[38;5;28mself\u001b[39m\u001b[38;5;241m.\u001b[39mcommand_executor\u001b[38;5;241m.\u001b[39mexecute(driver_command, params)\n\u001b[0;32m    346\u001b[0m \u001b[38;5;28;01mif\u001b[39;00m response:\n\u001b[1;32m--> 347\u001b[0m     \u001b[38;5;28;43mself\u001b[39;49m\u001b[38;5;241;43m.\u001b[39;49m\u001b[43merror_handler\u001b[49m\u001b[38;5;241;43m.\u001b[39;49m\u001b[43mcheck_response\u001b[49m\u001b[43m(\u001b[49m\u001b[43mresponse\u001b[49m\u001b[43m)\u001b[49m\n\u001b[0;32m    348\u001b[0m     response[\u001b[38;5;124m\"\u001b[39m\u001b[38;5;124mvalue\u001b[39m\u001b[38;5;124m\"\u001b[39m] \u001b[38;5;241m=\u001b[39m \u001b[38;5;28mself\u001b[39m\u001b[38;5;241m.\u001b[39m_unwrap_value(response\u001b[38;5;241m.\u001b[39mget(\u001b[38;5;124m\"\u001b[39m\u001b[38;5;124mvalue\u001b[39m\u001b[38;5;124m\"\u001b[39m, \u001b[38;5;28;01mNone\u001b[39;00m))\n\u001b[0;32m    349\u001b[0m     \u001b[38;5;28;01mreturn\u001b[39;00m response\n",
      "File \u001b[1;32mc:\\Users\\leyre\\AppData\\Local\\Programs\\Python\\Python312\\Lib\\site-packages\\selenium\\webdriver\\remote\\errorhandler.py:229\u001b[0m, in \u001b[0;36mErrorHandler.check_response\u001b[1;34m(self, response)\u001b[0m\n\u001b[0;32m    227\u001b[0m         alert_text \u001b[38;5;241m=\u001b[39m value[\u001b[38;5;124m\"\u001b[39m\u001b[38;5;124malert\u001b[39m\u001b[38;5;124m\"\u001b[39m]\u001b[38;5;241m.\u001b[39mget(\u001b[38;5;124m\"\u001b[39m\u001b[38;5;124mtext\u001b[39m\u001b[38;5;124m\"\u001b[39m)\n\u001b[0;32m    228\u001b[0m     \u001b[38;5;28;01mraise\u001b[39;00m exception_class(message, screen, stacktrace, alert_text)  \u001b[38;5;66;03m# type: ignore[call-arg]  # mypy is not smart enough here\u001b[39;00m\n\u001b[1;32m--> 229\u001b[0m \u001b[38;5;28;01mraise\u001b[39;00m exception_class(message, screen, stacktrace)\n",
      "\u001b[1;31mNoSuchElementException\u001b[0m: Message: no such element: Unable to locate element: {\"method\":\"css selector\",\"selector\":\"#__next > main > div > section.ipc-page-background.ipc-page-background--base.sc-c41b9732-0.NeSef > section > div:nth-child(5) > section > section > div.sc-491663c0-4.gEsAEH > div.sc-491663c0-6.eQRCDK > div.sc-491663c0-10.emoxHI > section > div.sc-1f50b7c-3.ZYFjc > div > ul > li:nth-child(1) > div > ul > li > a\"}\n  (Session info: chrome=126.0.6478.128); For documentation on this error, please visit: https://www.selenium.dev/documentation/webdriver/troubleshooting/errors#no-such-element-exception\nStacktrace:\n\tGetHandleVerifier [0x00007FF6D3E5EEB2+31554]\n\t(No symbol) [0x00007FF6D3DD7EE9]\n\t(No symbol) [0x00007FF6D3C9872A]\n\t(No symbol) [0x00007FF6D3CE8434]\n\t(No symbol) [0x00007FF6D3CE853C]\n\t(No symbol) [0x00007FF6D3D2F6A7]\n\t(No symbol) [0x00007FF6D3D0D06F]\n\t(No symbol) [0x00007FF6D3D2C977]\n\t(No symbol) [0x00007FF6D3D0CDD3]\n\t(No symbol) [0x00007FF6D3CDA33B]\n\t(No symbol) [0x00007FF6D3CDAED1]\n\tGetHandleVerifier [0x00007FF6D4168B2D+3217341]\n\tGetHandleVerifier [0x00007FF6D41B5AF3+3532675]\n\tGetHandleVerifier [0x00007FF6D41AB0F0+3489152]\n\tGetHandleVerifier [0x00007FF6D3F0E786+750614]\n\t(No symbol) [0x00007FF6D3DE376F]\n\t(No symbol) [0x00007FF6D3DDEB24]\n\t(No symbol) [0x00007FF6D3DDECB2]\n\t(No symbol) [0x00007FF6D3DCE17F]\n\tBaseThreadInitThunk [0x00007FFDDB71257D+29]\n\tRtlUserThreadStart [0x00007FFDDC78AF28+40]\n"
     ]
    }
   ],
   "source": [
    "# EXTRACCION DATOS IMDB Y LO GUARDAMOS EN LISTAS\n",
    "\n",
    "driver = webdriver.Chrome()\n",
    "\n",
    "notas_imdb =[]\n",
    "\n",
    "driver.get('https://www.imdb.com/')\n",
    "\n",
    "driver.maximize_window()\n",
    "\n",
    "sleep (3)\n",
    "\n",
    "driver.find_element('css selector','#__next > div > div > div.sc-jrcTuL.bPmWiM > div > button.icb-btn.sc-bcXHqe.sc-dkrFOg.sc-iBYQkv.dcvrLS.ddtuHe.dRCGjd').click()\n",
    "\n",
    "nombre = []\n",
    "nota_imdb = []\n",
    "direccion = []\n",
    "guionista = []\n",
    "argumento = []\n",
    "duracion = []\n",
    "\n",
    "for i in tqdm(idOwner):\n",
    "        driver.find_element('css selector','#suggestion-search').send_keys(i, Keys.ENTER)\n",
    "        sleep(5)\n",
    "        \n",
    "        nombre.append(driver.find_element('css selector', '#__next > main > div > section.ipc-page-background.ipc-page-background--base.sc-c41b9732-0.NeSef > section > div:nth-child(5) > section > section > div.sc-491663c0-3.bdjVSf > div.sc-1f50b7c-0.PUxFE > h1 > span').text)\n",
    "        \n",
    "        try: \n",
    "                nota_imdb.append(driver.find_element('xpath', '//*[@id=\"__next\"]/main/div/section[1]/section/div[3]/section/section/div[2]/div[2]/div/div[1]/a/span/div/div[2]/div[1]/span[1]').text)\n",
    "        except:\n",
    "                nota_imdb.append(None)\n",
    "\n",
    "        \n",
    "        try: \n",
    "                duracion.append(driver.find_element('css selector', '#__next > main > div > section.ipc-page-background.ipc-page-background--base.sc-c41b9732-0.NeSef > section > div:nth-child(5) > section > section > div.sc-491663c0-3.bdjVSf > div.sc-1f50b7c-0.PUxFE > ul > li:nth-child(3)').text)\n",
    "        except:\n",
    "                try:\n",
    "                        duracion.append(driver.find_element('xpath', '//*[@id=\"__next\"]/main/div/section[1]/section/div[3]/section/section/div[2]/div[1]/ul/li[2]').text)\n",
    "                \n",
    "                except:\n",
    "                        duracion.append(None)  \n",
    "                        \n",
    "       \n",
    "        try:\n",
    "                argumento.append(driver.find_element('css selector', '#__next > main > div > section.ipc-page-background.ipc-page-background--base.sc-c41b9732-0.NeSef > section > div:nth-child(5) > section > section > div.sc-491663c0-4.gEsAEH > div.sc-491663c0-6.eQRCDK > div.sc-491663c0-10.emoxHI > section > p > span.sc-2d37a7c7-2.PeLXr').text)\n",
    "        except:\n",
    "                try:\n",
    "                        argumento.append(driver.find_element('css selector', '#__next > main > div > section.ipc-page-background.ipc-page-background--base.sc-c41b9732-0.NeSef > section > div:nth-child(5) > section > section > div.sc-491663c0-4.yjUiO > div.sc-491663c0-6.lnlBxO > div.sc-491663c0-10.rbXFE > section > p > span.sc-2d37a7c7-2.PeLXr').text)\n",
    "                except:\n",
    "                        argumento.append(None)\n",
    "                        \n",
    "\n",
    "               \n",
    "        i=0\n",
    "        direccion_multiple = []\n",
    "        try:    \n",
    "                while True: \n",
    "                        i+=1\n",
    "                        print('bucle 1 - i: ', i, ' iniciando....')\n",
    "                        direccion_multiple.append(driver.find_element('css selector', f'#__next > main > div > section.ipc-page-background.ipc-page-background--base.sc-c41b9732-0.NeSef > section > div:nth-child(5) > section > section > div.sc-491663c0-4.yjUiO > div.sc-491663c0-6.lnlBxO > div.sc-491663c0-10.rbXFE > section > div.sc-1f50b7c-3.ZYFjc > div > ul > li:nth-child(1) > div > ul > li:nth-child({i}) > a').text)\n",
    "                        print('bucle 1 - i: ', i, ' finalizado....')\n",
    "\n",
    "        except:\n",
    "                print('bucle 1 EXCEPT - i: ', i, ' finalizado....')\n",
    "                if i > 1:\n",
    "                        direccion.append(tuple(direccion_multiple))\n",
    "                        continue\n",
    "                else:\n",
    "                        direccion.append(driver.find_element('css selector', '#__next > main > div > section.ipc-page-background.ipc-page-background--base.sc-c41b9732-0.NeSef > section > div:nth-child(5) > section > section > div.sc-491663c0-4.gEsAEH > div.sc-491663c0-6.eQRCDK > div.sc-491663c0-10.emoxHI > section > div.sc-1f50b7c-3.ZYFjc > div > ul > li:nth-child(1) > div > ul > li > a').text)                                                                                   \n",
    "        \n",
    "        \n",
    "               \n",
    "        i=0\n",
    "        guionista_multiple = []\n",
    "        try:\n",
    "                while True:\n",
    "                        i+=1\n",
    "                        print('bucle 2 - i: ', i, ' iniciando....')\n",
    "                        guionista_multiple.append(driver.find_element('css selector', f'#__next > main > div > section.ipc-page-background.ipc-page-background--base.sc-c41b9732-0.NeSef > section > div:nth-child(5) > section > section > div.sc-491663c0-4.gEsAEH > div.sc-491663c0-6.eQRCDK > div.sc-491663c0-10.emoxHI > section > div.sc-1f50b7c-3.ZYFjc > div > ul > li:nth-child(2) > div > ul > li:nth-child({i}) > a').text)\n",
    "                        print('bucle 2 - i: ', i, ' fin....')\n",
    "\n",
    "        except:\n",
    "                print('bucle 2 EXCEPT - i: ', i, ' fin....')\n",
    "                if i > 1:\n",
    "                        guionista.append(tuple(guionista_multiple))\n",
    "                        continue\n",
    "                else:\n",
    "                        guionista.append(driver.find_element('css selector', '#__next > main > div > section.ipc-page-background.ipc-page-background--base.sc-c41b9732-0.NeSef > section > div:nth-child(5) > section > section > div.sc-491663c0-4.yjUiO > div.sc-491663c0-6.lnlBxO > div.sc-491663c0-10.rbXFE > section > div.sc-1f50b7c-3.ZYFjc > div > ul > li:nth-child(2) > div > ul > li > a').text)                                                  \n",
    "                          \n",
    "\n",
    "\n",
    "driver.close()"
   ]
  },
  {
   "cell_type": "code",
   "execution_count": 4,
   "metadata": {},
   "outputs": [],
   "source": [
    "\n",
    "duracion_mins = []\n",
    "\n",
    "for peli in duracion:\n",
    "\n",
    "    if peli is None:\n",
    "        duracion_mins.append(None)\n",
    "        continue\n",
    "    \n",
    "    elif 'h' in peli:\n",
    "        partes = peli.split('h')\n",
    "        horas = int(partes[0].strip())\n",
    "        if len(partes) > 1 and 'min' in partes[1]:\n",
    "            minutos = int(partes[1].replace('min', '').strip())\n",
    "        else:\n",
    "            minutos = 0\n",
    "    \n",
    "\n",
    "    \n",
    "    else:\n",
    "        horas = 0\n",
    "        minutos = int(peli.replace('min', '').strip())\n",
    "    \n",
    "    total_minutos = horas * 60 + minutos\n",
    "    duracion_mins.append(total_minutos)\n",
    "\n"
   ]
  },
  {
   "cell_type": "code",
   "execution_count": 5,
   "metadata": {},
   "outputs": [
    {
     "data": {
      "text/plain": [
       "[('5,4',\n",
       "  'José Ramón Larraz',\n",
       "  ('José Ramón Larraz', 'Sergio Pastore'),\n",
       "  \"The death of Sebastian's father engenders in him pathological fears and hallucinations. His death wishes seem to cause horrible accidents, which he is unable to control. When his older brother dies, he feels that he has caused it. He undergoes hypnosis, but his apparent supernatural powers continue. As his own life nears its end, he becomes even more violent and sadis... Leer todo\",\n",
       "  86),\n",
       " ('7,0',\n",
       "  'Arturo Ripstein',\n",
       "  ('Delfina Careaga', 'Sabina Berman'),\n",
       "  \"Old aunt Alejandra goes to live with a Mexican middle-class family; she's bitter and the children tease her and make her life miserable, but the old woman is truly a witch, and takes revenge.\",\n",
       "  98),\n",
       " ('5,5', 'José Estrada', ('José Estrada', 'Mauricio Mondolfi'), '', 98),\n",
       " ('5,7',\n",
       "  'Jaroslav Soukup',\n",
       "  ('Rudolf Ráz', 'Jaroslav Soukup'),\n",
       "  'An eerie atmosphere, full of chilling dampness and darkness, follows the fate of a desperate searcher who tries in vain to uncover the supposed secret of the altarpiece.',\n",
       "  87),\n",
       " ('4,1',\n",
       "  'Hubert Frank',\n",
       "  ('Hubert Frank', 'Ricard Reguant'),\n",
       "  'Una joven heredera lleva una vida de excesos y quiere casarse con un hombre al que su rico padre desprecia.',\n",
       "  101),\n",
       " ('5,3',\n",
       "  'Marc Simenon',\n",
       "  ('Francis Blanche', 'Pierre Dac', 'Xavier Gélin'),\n",
       "  \"The notorious and mysterious criminal Furax steals France's famous monuments, replacing them with replicas.\",\n",
       "  90)]"
      ]
     },
     "execution_count": 5,
     "metadata": {},
     "output_type": "execute_result"
    }
   ],
   "source": [
    "imdb_mystery = list(tuple(zip(nota_imdb,direccion,guionista,argumento,duracion_mins)))\n",
    "\n",
    "imdb_mystery"
   ]
  },
  {
   "cell_type": "code",
   "execution_count": 6,
   "metadata": {},
   "outputs": [
    {
     "data": {
      "text/html": [
       "<div>\n",
       "<style scoped>\n",
       "    .dataframe tbody tr th:only-of-type {\n",
       "        vertical-align: middle;\n",
       "    }\n",
       "\n",
       "    .dataframe tbody tr th {\n",
       "        vertical-align: top;\n",
       "    }\n",
       "\n",
       "    .dataframe thead th {\n",
       "        text-align: right;\n",
       "    }\n",
       "</style>\n",
       "<table border=\"1\" class=\"dataframe\">\n",
       "  <thead>\n",
       "    <tr style=\"text-align: right;\">\n",
       "      <th></th>\n",
       "      <th>0</th>\n",
       "      <th>1</th>\n",
       "      <th>2</th>\n",
       "      <th>3</th>\n",
       "      <th>4</th>\n",
       "    </tr>\n",
       "  </thead>\n",
       "  <tbody>\n",
       "    <tr>\n",
       "      <th>0</th>\n",
       "      <td>5,4</td>\n",
       "      <td>José Ramón Larraz</td>\n",
       "      <td>(José Ramón Larraz, Sergio Pastore)</td>\n",
       "      <td>The death of Sebastian's father engenders in h...</td>\n",
       "      <td>86</td>\n",
       "    </tr>\n",
       "    <tr>\n",
       "      <th>1</th>\n",
       "      <td>7,0</td>\n",
       "      <td>Arturo Ripstein</td>\n",
       "      <td>(Delfina Careaga, Sabina Berman)</td>\n",
       "      <td>Old aunt Alejandra goes to live with a Mexican...</td>\n",
       "      <td>98</td>\n",
       "    </tr>\n",
       "    <tr>\n",
       "      <th>2</th>\n",
       "      <td>5,5</td>\n",
       "      <td>José Estrada</td>\n",
       "      <td>(José Estrada, Mauricio Mondolfi)</td>\n",
       "      <td></td>\n",
       "      <td>98</td>\n",
       "    </tr>\n",
       "    <tr>\n",
       "      <th>3</th>\n",
       "      <td>5,7</td>\n",
       "      <td>Jaroslav Soukup</td>\n",
       "      <td>(Rudolf Ráz, Jaroslav Soukup)</td>\n",
       "      <td>An eerie atmosphere, full of chilling dampness...</td>\n",
       "      <td>87</td>\n",
       "    </tr>\n",
       "    <tr>\n",
       "      <th>4</th>\n",
       "      <td>4,1</td>\n",
       "      <td>Hubert Frank</td>\n",
       "      <td>(Hubert Frank, Ricard Reguant)</td>\n",
       "      <td>Una joven heredera lleva una vida de excesos y...</td>\n",
       "      <td>101</td>\n",
       "    </tr>\n",
       "    <tr>\n",
       "      <th>5</th>\n",
       "      <td>5,3</td>\n",
       "      <td>Marc Simenon</td>\n",
       "      <td>(Francis Blanche, Pierre Dac, Xavier Gélin)</td>\n",
       "      <td>The notorious and mysterious criminal Furax st...</td>\n",
       "      <td>90</td>\n",
       "    </tr>\n",
       "  </tbody>\n",
       "</table>\n",
       "</div>"
      ],
      "text/plain": [
       "     0                  1                                            2  \\\n",
       "0  5,4  José Ramón Larraz          (José Ramón Larraz, Sergio Pastore)   \n",
       "1  7,0    Arturo Ripstein             (Delfina Careaga, Sabina Berman)   \n",
       "2  5,5       José Estrada            (José Estrada, Mauricio Mondolfi)   \n",
       "3  5,7    Jaroslav Soukup                (Rudolf Ráz, Jaroslav Soukup)   \n",
       "4  4,1       Hubert Frank               (Hubert Frank, Ricard Reguant)   \n",
       "5  5,3       Marc Simenon  (Francis Blanche, Pierre Dac, Xavier Gélin)   \n",
       "\n",
       "                                                   3    4  \n",
       "0  The death of Sebastian's father engenders in h...   86  \n",
       "1  Old aunt Alejandra goes to live with a Mexican...   98  \n",
       "2                                                      98  \n",
       "3  An eerie atmosphere, full of chilling dampness...   87  \n",
       "4  Una joven heredera lleva una vida de excesos y...  101  \n",
       "5  The notorious and mysterious criminal Furax st...   90  "
      ]
     },
     "execution_count": 6,
     "metadata": {},
     "output_type": "execute_result"
    }
   ],
   "source": [
    "df_mystery_imdb = pd.DataFrame(imdb_mystery)\n",
    "df_mystery_imdb"
   ]
  },
  {
   "cell_type": "code",
   "execution_count": 7,
   "metadata": {},
   "outputs": [],
   "source": [
    "df_mystery_imdb.to_csv('Mystery_imdb.csv')"
   ]
  }
 ],
 "metadata": {
  "kernelspec": {
   "display_name": "Python 3",
   "language": "python",
   "name": "python3"
  },
  "language_info": {
   "codemirror_mode": {
    "name": "ipython",
    "version": 3
   },
   "file_extension": ".py",
   "mimetype": "text/x-python",
   "name": "python",
   "nbconvert_exporter": "python",
   "pygments_lexer": "ipython3",
   "version": "3.12.4"
  }
 },
 "nbformat": 4,
 "nbformat_minor": 2
}
