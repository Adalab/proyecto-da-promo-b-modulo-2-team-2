{
 "cells": [
  {
   "cell_type": "code",
   "execution_count": 9,
   "metadata": {},
   "outputs": [],
   "source": [
    "import pandas as pd\n",
    "from selenium import webdriver  # Selenium es una herramienta para automatizar la interacción con navegadores web.\n",
    "from webdriver_manager.chrome import ChromeDriverManager  # ChromeDriverManager gestiona la instalación del controlador de Chrome.\n",
    "from selenium.webdriver.common.keys import Keys  # Keys es útil para simular eventos de teclado en Selenium.\n",
    "from selenium.webdriver.support.ui import Select  # Select se utiliza para interactuar con elementos <select> en páginas web.\n",
    "from time import sleep\n",
    "from tqdm import tqdm"
   ]
  },
  {
   "cell_type": "code",
   "execution_count": 4,
   "metadata": {},
   "outputs": [
    {
     "name": "stdout",
     "output_type": "stream",
     "text": [
      "    Unnamed: 0    idOwner                                Title   Type  Year  \\\n",
      "0            0  tt0078508                            Wolf Lake  Movie  1980   \n",
      "1            1  tt0078805                           Attentatet  Movie  1980   \n",
      "2            2  tt0078895                           The Border  Movie  1980   \n",
      "3            3  tt0079145                        La femme flic  Movie  1980   \n",
      "4            4  tt0078053  Ópalo de fuego: Mercaderes del sexo  Movie  1980   \n",
      "5            5  tt0079181                      Fuego en el mar  Movie  1981   \n",
      "6            6  tt0079341      El infierno de todos tan temido  Movie  1981   \n",
      "7            7  tt0079706                              Paydirt  Movie  1981   \n",
      "8            8  tt0080608                Demasiado para Gálvez  Movie  1981   \n",
      "9            9  tt0080915                   Image of the Beast  Movie  1981   \n",
      "10          10  tt0082504                            Haathkadi  Movie  1982   \n",
      "11          11  tt0082342                     Espion, lève-toi  Movie  1982   \n",
      "12          12  tt0083906                               Eureka  Movie  1983   \n",
      "13          13  tt0083581              Asalto al Banco Central  Movie  1983   \n",
      "14          14  tt0084158                J'ai épousé une ombre  Movie  1983   \n",
      "15          15  tt0085528                           Les fauves  Movie  1984   \n",
      "16          16  tt0085627           I guerrieri dell'anno 2072  Movie  1984   \n",
      "17          17  tt0085645                       Hanyatt-homlok  Movie  1984   \n",
      "18          18  tt0085420               Delitto in Formula Uno  Movie  1984   \n",
      "19          19  tt0087882                        Parfait amour  Movie  1985   \n",
      "20          20  tt0086931                         Bahía blanca  Movie  1985   \n",
      "21          21  tt0087942                           Prime Risk  Movie  1985   \n",
      "22          22  tt0087344                        Godzilla 1985  Movie  1985   \n",
      "23          23  tt0089923                           Robachicos  Movie  1986   \n",
      "24          24  tt0088809                        Birds of Prey  Movie  1986   \n",
      "25          25  tt0089499                                 Lola  Movie  1986   \n",
      "26          26  tt0089118                                  F/X  Movie  1986   \n",
      "27          27  tt0089972                              Schmutz  Movie  1987   \n",
      "28          28  tt0090738                          Black Widow  Movie  1987   \n",
      "29          29  tt0090765              Boran - Zeit zum Zielen  Movie  1987   \n",
      "30          30  tt0092771               El complot dels anells  Movie  1988   \n",
      "31          31  tt0092966                   En toute innocence  Movie  1988   \n",
      "32          32  tt0094710                        Bangkok Story  Movie  1989   \n",
      "33          33  tt0093662                     Object of Desire  Movie  1990   \n",
      "34          34  tt0094666                      Any Man's Death  Movie  1990   \n",
      "35          35  tt0094857                   Chi se da feng bao  Movie  1990   \n",
      "36          36  tt0099587               Flight of the Intruder  Movie  1991   \n",
      "37          37  tt0099577                             Firehead  Movie  1991   \n",
      "38          38  tt0097928                         Murder Blues  Movie  1991   \n",
      "39          39  tt0100111                    Los mares del sur  Movie  1992   \n",
      "40          40  tt0101860                       Fatal Instinct  Movie  1992   \n",
      "41          41  tt0102000               Happy Birthday, Türke!  Movie  1992   \n",
      "42          42  tt0101395                          Backsliding  Movie  1992   \n",
      "43          43  tt0101759                     A Woman's Secret  Movie  1992   \n",
      "44          44  tt0101736                  Diplomatic Immunity  Movie  1992   \n",
      "45          45  tt0102253                  El laberinto griego  Movie  1993   \n",
      "46          46  tt0104683                           Laser Moon  Movie  1993   \n",
      "47          47  tt0102821                      Russian Holiday  Movie  1993   \n",
      "48          48  tt0104807                  Maang lui 72 siu si  Movie  1993   \n",
      "49          49  tt0103022               In a Moment of Passion  Movie  1993   \n",
      "50          50  tt0105054                  Sul filo del rasoio  Movie  1994   \n",
      "51          51  tt0105230                             Redheads  Movie  1994   \n",
      "52          52  tt0105463                            April One  Movie  1994   \n",
      "53          53  tt0106946                       Forced to Kill  Movie  1994   \n",
      "54          54  tt0106874                           Fatal Past  Movie  1994   \n",
      "55          55  tt0106479                       Breaking Point  Movie  1994   \n",
      "56          56  tt0095102              Les ennemis de la mafia  Movie  1995   \n",
      "57          57  tt0109034                      Above Suspicion  Movie  1995   \n",
      "58          58  tt0109532               Dangerous Indiscretion  Movie  1995   \n",
      "\n",
      "       Genre  \n",
      "0   Thriller  \n",
      "1   Thriller  \n",
      "2   Thriller  \n",
      "3   Thriller  \n",
      "4   Thriller  \n",
      "5   Thriller  \n",
      "6   Thriller  \n",
      "7   Thriller  \n",
      "8   Thriller  \n",
      "9   Thriller  \n",
      "10  Thriller  \n",
      "11  Thriller  \n",
      "12  Thriller  \n",
      "13  Thriller  \n",
      "14  Thriller  \n",
      "15  Thriller  \n",
      "16  Thriller  \n",
      "17  Thriller  \n",
      "18  Thriller  \n",
      "19  Thriller  \n",
      "20  Thriller  \n",
      "21  Thriller  \n",
      "22  Thriller  \n",
      "23  Thriller  \n",
      "24  Thriller  \n",
      "25  Thriller  \n",
      "26  Thriller  \n",
      "27  Thriller  \n",
      "28  Thriller  \n",
      "29  Thriller  \n",
      "30  Thriller  \n",
      "31  Thriller  \n",
      "32  Thriller  \n",
      "33  Thriller  \n",
      "34  Thriller  \n",
      "35  Thriller  \n",
      "36  Thriller  \n",
      "37  Thriller  \n",
      "38  Thriller  \n",
      "39  Thriller  \n",
      "40  Thriller  \n",
      "41  Thriller  \n",
      "42  Thriller  \n",
      "43  Thriller  \n",
      "44  Thriller  \n",
      "45  Thriller  \n",
      "46  Thriller  \n",
      "47  Thriller  \n",
      "48  Thriller  \n",
      "49  Thriller  \n",
      "50  Thriller  \n",
      "51  Thriller  \n",
      "52  Thriller  \n",
      "53  Thriller  \n",
      "54  Thriller  \n",
      "55  Thriller  \n",
      "56  Thriller  \n",
      "57  Thriller  \n",
      "58  Thriller  \n",
      "['tt0078508', 'tt0078805', 'tt0078895', 'tt0079145', 'tt0078053', 'tt0079181', 'tt0079341', 'tt0079706', 'tt0080608', 'tt0080915', 'tt0082504', 'tt0082342', 'tt0083906', 'tt0083581', 'tt0084158', 'tt0085528', 'tt0085627', 'tt0085645', 'tt0085420', 'tt0087882', 'tt0086931', 'tt0087942', 'tt0087344', 'tt0089923', 'tt0088809', 'tt0089499', 'tt0089118', 'tt0089972', 'tt0090738', 'tt0090765', 'tt0092771', 'tt0092966', 'tt0094710', 'tt0093662', 'tt0094666', 'tt0094857', 'tt0099587', 'tt0099577', 'tt0097928', 'tt0100111', 'tt0101860', 'tt0102000', 'tt0101395', 'tt0101759', 'tt0101736', 'tt0102253', 'tt0104683', 'tt0102821', 'tt0104807', 'tt0103022', 'tt0105054', 'tt0105230', 'tt0105463', 'tt0106946', 'tt0106874', 'tt0106479', 'tt0095102', 'tt0109034', 'tt0109532']\n",
      "59\n"
     ]
    }
   ],
   "source": [
    "df_thriller = pd.read_csv(\"../info_tablas_csv/Thriller.csv\")\n",
    "\n",
    "print(df_thriller)\n",
    "\n",
    "idOwner = []\n",
    "\n",
    "for i in df_thriller[\"idOwner\"]:\n",
    "    idOwner.append(i)\n",
    "    \n",
    "print(idOwner)\n",
    "print(len(idOwner))"
   ]
  },
  {
   "cell_type": "code",
   "execution_count": 10,
   "metadata": {},
   "outputs": [
    {
     "name": "stderr",
     "output_type": "stream",
     "text": [
      "  2%|▏         | 1/52 [00:11<09:50, 11.57s/it]"
     ]
    },
    {
     "name": "stdout",
     "output_type": "stream",
     "text": [
      "bucle 1 - i:  1  iniciando....\n",
      "bucle 1 EXCEPT - i:  1  finalizado....\n",
      "bucle 2 - i:  1  iniciando....\n",
      "bucle 2 - i:  1  fin....\n",
      "bucle 2 - i:  2  iniciando....\n",
      "bucle 2 EXCEPT - i:  2  fin....\n"
     ]
    },
    {
     "name": "stderr",
     "output_type": "stream",
     "text": [
      "  4%|▍         | 2/52 [00:19<08:03,  9.67s/it]"
     ]
    },
    {
     "name": "stdout",
     "output_type": "stream",
     "text": [
      "bucle 1 - i:  1  iniciando....\n",
      "bucle 1 EXCEPT - i:  1  finalizado....\n",
      "bucle 2 - i:  1  iniciando....\n",
      "bucle 2 - i:  1  fin....\n",
      "bucle 2 - i:  2  iniciando....\n",
      "bucle 2 - i:  2  fin....\n",
      "bucle 2 - i:  3  iniciando....\n",
      "bucle 2 EXCEPT - i:  3  fin....\n"
     ]
    },
    {
     "name": "stderr",
     "output_type": "stream",
     "text": [
      "  6%|▌         | 3/52 [00:29<07:51,  9.63s/it]"
     ]
    },
    {
     "name": "stdout",
     "output_type": "stream",
     "text": [
      "bucle 1 - i:  1  iniciando....\n",
      "bucle 1 EXCEPT - i:  1  finalizado....\n",
      "bucle 2 - i:  1  iniciando....\n",
      "bucle 2 - i:  1  fin....\n",
      "bucle 2 - i:  2  iniciando....\n",
      "bucle 2 - i:  2  fin....\n",
      "bucle 2 - i:  3  iniciando....\n",
      "bucle 2 EXCEPT - i:  3  fin....\n"
     ]
    },
    {
     "name": "stderr",
     "output_type": "stream",
     "text": [
      "  8%|▊         | 4/52 [00:38<07:33,  9.45s/it]"
     ]
    },
    {
     "name": "stdout",
     "output_type": "stream",
     "text": [
      "bucle 1 - i:  1  iniciando....\n",
      "bucle 1 EXCEPT - i:  1  finalizado....\n",
      "bucle 2 - i:  1  iniciando....\n",
      "bucle 2 - i:  1  fin....\n",
      "bucle 2 - i:  2  iniciando....\n",
      "bucle 2 - i:  2  fin....\n",
      "bucle 2 - i:  3  iniciando....\n",
      "bucle 2 - i:  3  fin....\n",
      "bucle 2 - i:  4  iniciando....\n",
      "bucle 2 EXCEPT - i:  4  fin....\n"
     ]
    },
    {
     "name": "stderr",
     "output_type": "stream",
     "text": [
      " 10%|▉         | 5/52 [00:48<07:24,  9.46s/it]"
     ]
    },
    {
     "name": "stdout",
     "output_type": "stream",
     "text": [
      "bucle 1 - i:  1  iniciando....\n",
      "bucle 1 EXCEPT - i:  1  finalizado....\n",
      "bucle 2 - i:  1  iniciando....\n",
      "bucle 2 - i:  1  fin....\n",
      "bucle 2 - i:  2  iniciando....\n",
      "bucle 2 - i:  2  fin....\n",
      "bucle 2 - i:  3  iniciando....\n",
      "bucle 2 - i:  3  fin....\n",
      "bucle 2 - i:  4  iniciando....\n",
      "bucle 2 EXCEPT - i:  4  fin....\n"
     ]
    },
    {
     "name": "stderr",
     "output_type": "stream",
     "text": [
      " 12%|█▏        | 6/52 [00:58<07:21,  9.60s/it]"
     ]
    },
    {
     "name": "stdout",
     "output_type": "stream",
     "text": [
      "bucle 1 - i:  1  iniciando....\n",
      "bucle 1 - i:  1  finalizado....\n",
      "bucle 1 - i:  2  iniciando....\n",
      "bucle 1 EXCEPT - i:  2  finalizado....\n"
     ]
    },
    {
     "name": "stderr",
     "output_type": "stream",
     "text": [
      " 13%|█▎        | 7/52 [01:07<07:04,  9.43s/it]"
     ]
    },
    {
     "name": "stdout",
     "output_type": "stream",
     "text": [
      "bucle 1 - i:  1  iniciando....\n",
      "bucle 1 EXCEPT - i:  1  finalizado....\n",
      "bucle 2 - i:  1  iniciando....\n",
      "bucle 2 - i:  1  fin....\n",
      "bucle 2 - i:  2  iniciando....\n",
      "bucle 2 - i:  2  fin....\n",
      "bucle 2 - i:  3  iniciando....\n",
      "bucle 2 EXCEPT - i:  3  fin....\n"
     ]
    },
    {
     "name": "stderr",
     "output_type": "stream",
     "text": [
      " 15%|█▌        | 8/52 [01:16<07:01,  9.58s/it]"
     ]
    },
    {
     "name": "stdout",
     "output_type": "stream",
     "text": [
      "bucle 1 - i:  1  iniciando....\n",
      "bucle 1 EXCEPT - i:  1  finalizado....\n",
      "bucle 2 - i:  1  iniciando....\n",
      "bucle 2 - i:  1  fin....\n",
      "bucle 2 - i:  2  iniciando....\n",
      "bucle 2 - i:  2  fin....\n",
      "bucle 2 - i:  3  iniciando....\n",
      "bucle 2 - i:  3  fin....\n",
      "bucle 2 - i:  4  iniciando....\n",
      "bucle 2 EXCEPT - i:  4  fin....\n"
     ]
    },
    {
     "name": "stderr",
     "output_type": "stream",
     "text": [
      " 17%|█▋        | 9/52 [01:27<07:07,  9.94s/it]"
     ]
    },
    {
     "name": "stdout",
     "output_type": "stream",
     "text": [
      "bucle 1 - i:  1  iniciando....\n",
      "bucle 1 - i:  1  finalizado....\n",
      "bucle 1 - i:  2  iniciando....\n",
      "bucle 1 EXCEPT - i:  2  finalizado....\n"
     ]
    },
    {
     "name": "stderr",
     "output_type": "stream",
     "text": [
      " 19%|█▉        | 10/52 [01:37<06:51,  9.81s/it]"
     ]
    },
    {
     "name": "stdout",
     "output_type": "stream",
     "text": [
      "bucle 1 - i:  1  iniciando....\n",
      "bucle 1 EXCEPT - i:  1  finalizado....\n",
      "bucle 2 - i:  1  iniciando....\n",
      "bucle 2 - i:  1  fin....\n",
      "bucle 2 - i:  2  iniciando....\n",
      "bucle 2 - i:  2  fin....\n",
      "bucle 2 - i:  3  iniciando....\n",
      "bucle 2 - i:  3  fin....\n",
      "bucle 2 - i:  4  iniciando....\n",
      "bucle 2 EXCEPT - i:  4  fin....\n"
     ]
    },
    {
     "name": "stderr",
     "output_type": "stream",
     "text": [
      " 21%|██        | 11/52 [01:45<06:28,  9.48s/it]"
     ]
    },
    {
     "name": "stdout",
     "output_type": "stream",
     "text": [
      "bucle 1 - i:  1  iniciando....\n",
      "bucle 1 EXCEPT - i:  1  finalizado....\n",
      "bucle 2 - i:  1  iniciando....\n",
      "bucle 2 - i:  1  fin....\n",
      "bucle 2 - i:  2  iniciando....\n",
      "bucle 2 EXCEPT - i:  2  fin....\n"
     ]
    },
    {
     "name": "stderr",
     "output_type": "stream",
     "text": [
      " 23%|██▎       | 12/52 [01:55<06:20,  9.51s/it]"
     ]
    },
    {
     "name": "stdout",
     "output_type": "stream",
     "text": [
      "bucle 1 - i:  1  iniciando....\n",
      "bucle 1 EXCEPT - i:  1  finalizado....\n",
      "bucle 2 - i:  1  iniciando....\n",
      "bucle 2 - i:  1  fin....\n",
      "bucle 2 - i:  2  iniciando....\n",
      "bucle 2 - i:  2  fin....\n",
      "bucle 2 - i:  3  iniciando....\n",
      "bucle 2 EXCEPT - i:  3  fin....\n"
     ]
    },
    {
     "name": "stderr",
     "output_type": "stream",
     "text": [
      " 25%|██▌       | 13/52 [02:04<05:59,  9.22s/it]"
     ]
    },
    {
     "name": "stdout",
     "output_type": "stream",
     "text": [
      "bucle 1 - i:  1  iniciando....\n",
      "bucle 1 EXCEPT - i:  1  finalizado....\n",
      "bucle 2 - i:  1  iniciando....\n",
      "bucle 2 - i:  1  fin....\n",
      "bucle 2 - i:  2  iniciando....\n",
      "bucle 2 EXCEPT - i:  2  fin....\n"
     ]
    },
    {
     "name": "stderr",
     "output_type": "stream",
     "text": [
      " 27%|██▋       | 14/52 [02:13<05:46,  9.12s/it]"
     ]
    },
    {
     "name": "stdout",
     "output_type": "stream",
     "text": [
      "bucle 1 - i:  1  iniciando....\n",
      "bucle 1 EXCEPT - i:  1  finalizado....\n",
      "bucle 2 - i:  1  iniciando....\n",
      "bucle 2 - i:  1  fin....\n",
      "bucle 2 - i:  2  iniciando....\n",
      "bucle 2 EXCEPT - i:  2  fin....\n"
     ]
    },
    {
     "name": "stderr",
     "output_type": "stream",
     "text": [
      " 29%|██▉       | 15/52 [02:23<05:48,  9.42s/it]"
     ]
    },
    {
     "name": "stdout",
     "output_type": "stream",
     "text": [
      "bucle 1 - i:  1  iniciando....\n",
      "bucle 1 EXCEPT - i:  1  finalizado....\n",
      "bucle 2 - i:  1  iniciando....\n",
      "bucle 2 - i:  1  fin....\n",
      "bucle 2 - i:  2  iniciando....\n",
      "bucle 2 EXCEPT - i:  2  fin....\n"
     ]
    },
    {
     "name": "stderr",
     "output_type": "stream",
     "text": [
      " 31%|███       | 16/52 [02:32<05:42,  9.50s/it]"
     ]
    },
    {
     "name": "stdout",
     "output_type": "stream",
     "text": [
      "bucle 1 - i:  1  iniciando....\n",
      "bucle 1 - i:  1  finalizado....\n",
      "bucle 1 - i:  2  iniciando....\n",
      "bucle 1 - i:  2  finalizado....\n",
      "bucle 1 - i:  3  iniciando....\n",
      "bucle 1 - i:  3  finalizado....\n",
      "bucle 1 - i:  4  iniciando....\n",
      "bucle 1 EXCEPT - i:  4  finalizado....\n"
     ]
    },
    {
     "name": "stderr",
     "output_type": "stream",
     "text": [
      " 33%|███▎      | 17/52 [02:41<05:24,  9.27s/it]"
     ]
    },
    {
     "name": "stdout",
     "output_type": "stream",
     "text": [
      "bucle 1 - i:  1  iniciando....\n",
      "bucle 1 EXCEPT - i:  1  finalizado....\n",
      "bucle 2 - i:  1  iniciando....\n",
      "bucle 2 - i:  1  fin....\n",
      "bucle 2 - i:  2  iniciando....\n",
      "bucle 2 - i:  2  fin....\n",
      "bucle 2 - i:  3  iniciando....\n",
      "bucle 2 EXCEPT - i:  3  fin....\n"
     ]
    },
    {
     "name": "stderr",
     "output_type": "stream",
     "text": [
      " 35%|███▍      | 18/52 [02:51<05:26,  9.60s/it]"
     ]
    },
    {
     "name": "stdout",
     "output_type": "stream",
     "text": [
      "bucle 1 - i:  1  iniciando....\n",
      "bucle 1 EXCEPT - i:  1  finalizado....\n",
      "bucle 2 - i:  1  iniciando....\n",
      "bucle 2 - i:  1  fin....\n",
      "bucle 2 - i:  2  iniciando....\n",
      "bucle 2 - i:  2  fin....\n",
      "bucle 2 - i:  3  iniciando....\n",
      "bucle 2 EXCEPT - i:  3  fin....\n"
     ]
    },
    {
     "name": "stderr",
     "output_type": "stream",
     "text": [
      " 37%|███▋      | 19/52 [03:01<05:16,  9.59s/it]"
     ]
    },
    {
     "name": "stdout",
     "output_type": "stream",
     "text": [
      "bucle 1 - i:  1  iniciando....\n",
      "bucle 1 EXCEPT - i:  1  finalizado....\n",
      "bucle 2 - i:  1  iniciando....\n",
      "bucle 2 - i:  1  fin....\n",
      "bucle 2 - i:  2  iniciando....\n",
      "bucle 2 - i:  2  fin....\n",
      "bucle 2 - i:  3  iniciando....\n",
      "bucle 2 - i:  3  fin....\n",
      "bucle 2 - i:  4  iniciando....\n",
      "bucle 2 EXCEPT - i:  4  fin....\n"
     ]
    },
    {
     "name": "stderr",
     "output_type": "stream",
     "text": [
      " 38%|███▊      | 20/52 [03:12<05:23, 10.11s/it]"
     ]
    },
    {
     "name": "stdout",
     "output_type": "stream",
     "text": [
      "bucle 1 - i:  1  iniciando....\n",
      "bucle 1 - i:  1  finalizado....\n",
      "bucle 1 - i:  2  iniciando....\n",
      "bucle 1 EXCEPT - i:  2  finalizado....\n"
     ]
    },
    {
     "name": "stderr",
     "output_type": "stream",
     "text": [
      " 40%|████      | 21/52 [03:22<05:09, 10.00s/it]"
     ]
    },
    {
     "name": "stdout",
     "output_type": "stream",
     "text": [
      "bucle 1 - i:  1  iniciando....\n",
      "bucle 1 EXCEPT - i:  1  finalizado....\n",
      "bucle 2 - i:  1  iniciando....\n",
      "bucle 2 - i:  1  fin....\n",
      "bucle 2 - i:  2  iniciando....\n",
      "bucle 2 - i:  2  fin....\n",
      "bucle 2 - i:  3  iniciando....\n",
      "bucle 2 EXCEPT - i:  3  fin....\n"
     ]
    },
    {
     "name": "stderr",
     "output_type": "stream",
     "text": [
      " 42%|████▏     | 22/52 [03:34<05:20, 10.68s/it]"
     ]
    },
    {
     "name": "stdout",
     "output_type": "stream",
     "text": [
      "bucle 1 - i:  1  iniciando....\n",
      "bucle 1 - i:  1  finalizado....\n",
      "bucle 1 - i:  2  iniciando....\n",
      "bucle 1 EXCEPT - i:  2  finalizado....\n",
      "bucle 1 - i:  1  iniciando....\n",
      "bucle 1 EXCEPT - i:  1  finalizado....\n",
      "bucle 2 - i:  1  iniciando....\n",
      "bucle 2 - i:  1  fin....\n",
      "bucle 2 - i:  2  iniciando....\n",
      "bucle 2 - i:  2  fin....\n",
      "bucle 2 - i:  3  iniciando....\n"
     ]
    },
    {
     "name": "stderr",
     "output_type": "stream",
     "text": [
      " 44%|████▍     | 23/52 [03:46<05:14, 10.86s/it]"
     ]
    },
    {
     "name": "stdout",
     "output_type": "stream",
     "text": [
      "bucle 2 EXCEPT - i:  3  fin....\n"
     ]
    },
    {
     "name": "stderr",
     "output_type": "stream",
     "text": [
      " 46%|████▌     | 24/52 [03:55<04:55, 10.56s/it]"
     ]
    },
    {
     "name": "stdout",
     "output_type": "stream",
     "text": [
      "bucle 1 - i:  1  iniciando....\n",
      "bucle 1 EXCEPT - i:  1  finalizado....\n",
      "bucle 2 - i:  1  iniciando....\n",
      "bucle 2 - i:  1  fin....\n",
      "bucle 2 - i:  2  iniciando....\n",
      "bucle 2 - i:  2  fin....\n",
      "bucle 2 - i:  3  iniciando....\n",
      "bucle 2 EXCEPT - i:  3  fin....\n"
     ]
    },
    {
     "name": "stderr",
     "output_type": "stream",
     "text": [
      " 48%|████▊     | 25/52 [04:04<04:32, 10.11s/it]"
     ]
    },
    {
     "name": "stdout",
     "output_type": "stream",
     "text": [
      "bucle 1 - i:  1  iniciando....\n",
      "bucle 1 EXCEPT - i:  1  finalizado....\n",
      "bucle 2 - i:  1  iniciando....\n",
      "bucle 2 - i:  1  fin....\n",
      "bucle 2 - i:  2  iniciando....\n",
      "bucle 2 - i:  2  fin....\n",
      "bucle 2 - i:  3  iniciando....\n",
      "bucle 2 - i:  3  fin....\n",
      "bucle 2 - i:  4  iniciando....\n",
      "bucle 2 EXCEPT - i:  4  fin....\n"
     ]
    },
    {
     "name": "stderr",
     "output_type": "stream",
     "text": [
      " 50%|█████     | 26/52 [04:13<04:12,  9.70s/it]"
     ]
    },
    {
     "name": "stdout",
     "output_type": "stream",
     "text": [
      "bucle 1 - i:  1  iniciando....\n",
      "bucle 1 EXCEPT - i:  1  finalizado....\n",
      "bucle 2 - i:  1  iniciando....\n",
      "bucle 2 - i:  1  fin....\n",
      "bucle 2 - i:  2  iniciando....\n",
      "bucle 2 - i:  2  fin....\n",
      "bucle 2 - i:  3  iniciando....\n",
      "bucle 2 - i:  3  fin....\n",
      "bucle 2 - i:  4  iniciando....\n",
      "bucle 2 EXCEPT - i:  4  fin....\n"
     ]
    },
    {
     "name": "stderr",
     "output_type": "stream",
     "text": [
      " 52%|█████▏    | 27/52 [04:22<03:56,  9.48s/it]"
     ]
    },
    {
     "name": "stdout",
     "output_type": "stream",
     "text": [
      "bucle 1 - i:  1  iniciando....\n",
      "bucle 1 EXCEPT - i:  1  finalizado....\n",
      "bucle 2 - i:  1  iniciando....\n",
      "bucle 2 - i:  1  fin....\n",
      "bucle 2 - i:  2  iniciando....\n",
      "bucle 2 EXCEPT - i:  2  fin....\n"
     ]
    },
    {
     "name": "stderr",
     "output_type": "stream",
     "text": [
      " 54%|█████▍    | 28/52 [04:31<03:45,  9.40s/it]"
     ]
    },
    {
     "name": "stdout",
     "output_type": "stream",
     "text": [
      "bucle 1 - i:  1  iniciando....\n",
      "bucle 1 EXCEPT - i:  1  finalizado....\n",
      "bucle 2 - i:  1  iniciando....\n",
      "bucle 2 - i:  1  fin....\n",
      "bucle 2 - i:  2  iniciando....\n",
      "bucle 2 - i:  2  fin....\n",
      "bucle 2 - i:  3  iniciando....\n",
      "bucle 2 EXCEPT - i:  3  fin....\n"
     ]
    },
    {
     "name": "stderr",
     "output_type": "stream",
     "text": [
      " 56%|█████▌    | 29/52 [04:40<03:33,  9.27s/it]"
     ]
    },
    {
     "name": "stdout",
     "output_type": "stream",
     "text": [
      "bucle 1 - i:  1  iniciando....\n",
      "bucle 1 EXCEPT - i:  1  finalizado....\n",
      "bucle 2 - i:  1  iniciando....\n",
      "bucle 2 - i:  1  fin....\n",
      "bucle 2 - i:  2  iniciando....\n",
      "bucle 2 EXCEPT - i:  2  fin....\n"
     ]
    },
    {
     "name": "stderr",
     "output_type": "stream",
     "text": [
      " 58%|█████▊    | 30/52 [04:50<03:28,  9.50s/it]"
     ]
    },
    {
     "name": "stdout",
     "output_type": "stream",
     "text": [
      "bucle 1 - i:  1  iniciando....\n",
      "bucle 1 - i:  1  finalizado....\n",
      "bucle 1 - i:  2  iniciando....\n",
      "bucle 1 EXCEPT - i:  2  finalizado....\n"
     ]
    },
    {
     "name": "stderr",
     "output_type": "stream",
     "text": [
      " 60%|█████▉    | 31/52 [05:01<03:25,  9.80s/it]"
     ]
    },
    {
     "name": "stdout",
     "output_type": "stream",
     "text": [
      "bucle 1 - i:  1  iniciando....\n",
      "bucle 1 EXCEPT - i:  1  finalizado....\n",
      "bucle 2 - i:  1  iniciando....\n",
      "bucle 2 - i:  1  fin....\n",
      "bucle 2 - i:  2  iniciando....\n",
      "bucle 2 - i:  2  fin....\n",
      "bucle 2 - i:  3  iniciando....\n",
      "bucle 2 EXCEPT - i:  3  fin....\n"
     ]
    },
    {
     "name": "stderr",
     "output_type": "stream",
     "text": [
      " 62%|██████▏   | 32/52 [05:11<03:15,  9.77s/it]"
     ]
    },
    {
     "name": "stdout",
     "output_type": "stream",
     "text": [
      "bucle 1 - i:  1  iniciando....\n",
      "bucle 1 EXCEPT - i:  1  finalizado....\n",
      "bucle 2 - i:  1  iniciando....\n",
      "bucle 2 - i:  1  fin....\n",
      "bucle 2 - i:  2  iniciando....\n",
      "bucle 2 EXCEPT - i:  2  fin....\n"
     ]
    },
    {
     "name": "stderr",
     "output_type": "stream",
     "text": [
      " 63%|██████▎   | 33/52 [05:20<03:01,  9.55s/it]"
     ]
    },
    {
     "name": "stdout",
     "output_type": "stream",
     "text": [
      "bucle 1 - i:  1  iniciando....\n",
      "bucle 1 EXCEPT - i:  1  finalizado....\n",
      "bucle 2 - i:  1  iniciando....\n",
      "bucle 2 EXCEPT - i:  1  fin....\n"
     ]
    },
    {
     "name": "stderr",
     "output_type": "stream",
     "text": [
      " 65%|██████▌   | 34/52 [05:28<02:47,  9.33s/it]"
     ]
    },
    {
     "name": "stdout",
     "output_type": "stream",
     "text": [
      "bucle 1 - i:  1  iniciando....\n",
      "bucle 1 EXCEPT - i:  1  finalizado....\n",
      "bucle 2 - i:  1  iniciando....\n",
      "bucle 2 - i:  1  fin....\n",
      "bucle 2 - i:  2  iniciando....\n",
      "bucle 2 EXCEPT - i:  2  fin....\n"
     ]
    },
    {
     "name": "stderr",
     "output_type": "stream",
     "text": [
      " 67%|██████▋   | 35/52 [05:37<02:35,  9.16s/it]"
     ]
    },
    {
     "name": "stdout",
     "output_type": "stream",
     "text": [
      "bucle 1 - i:  1  iniciando....\n",
      "bucle 1 EXCEPT - i:  1  finalizado....\n",
      "bucle 2 - i:  1  iniciando....\n",
      "bucle 2 - i:  1  fin....\n",
      "bucle 2 - i:  2  iniciando....\n",
      "bucle 2 - i:  2  fin....\n",
      "bucle 2 - i:  3  iniciando....\n",
      "bucle 2 EXCEPT - i:  3  fin....\n"
     ]
    },
    {
     "name": "stderr",
     "output_type": "stream",
     "text": [
      " 69%|██████▉   | 36/52 [05:47<02:28,  9.25s/it]"
     ]
    },
    {
     "name": "stdout",
     "output_type": "stream",
     "text": [
      "bucle 1 - i:  1  iniciando....\n",
      "bucle 1 EXCEPT - i:  1  finalizado....\n",
      "bucle 2 - i:  1  iniciando....\n",
      "bucle 2 - i:  1  fin....\n",
      "bucle 2 - i:  2  iniciando....\n",
      "bucle 2 - i:  2  fin....\n",
      "bucle 2 - i:  3  iniciando....\n",
      "bucle 2 EXCEPT - i:  3  fin....\n"
     ]
    },
    {
     "name": "stderr",
     "output_type": "stream",
     "text": [
      " 71%|███████   | 37/52 [05:56<02:18,  9.24s/it]"
     ]
    },
    {
     "name": "stdout",
     "output_type": "stream",
     "text": [
      "bucle 1 - i:  1  iniciando....\n",
      "bucle 1 EXCEPT - i:  1  finalizado....\n",
      "bucle 2 - i:  1  iniciando....\n",
      "bucle 2 - i:  1  fin....\n",
      "bucle 2 - i:  2  iniciando....\n",
      "bucle 2 EXCEPT - i:  2  fin....\n"
     ]
    },
    {
     "name": "stderr",
     "output_type": "stream",
     "text": [
      " 73%|███████▎  | 38/52 [06:05<02:08,  9.15s/it]"
     ]
    },
    {
     "name": "stdout",
     "output_type": "stream",
     "text": [
      "bucle 1 - i:  1  iniciando....\n",
      "bucle 1 EXCEPT - i:  1  finalizado....\n",
      "bucle 2 - i:  1  iniciando....\n",
      "bucle 2 EXCEPT - i:  1  fin....\n"
     ]
    },
    {
     "name": "stderr",
     "output_type": "stream",
     "text": [
      " 75%|███████▌  | 39/52 [06:14<01:59,  9.22s/it]"
     ]
    },
    {
     "name": "stdout",
     "output_type": "stream",
     "text": [
      "bucle 1 - i:  1  iniciando....\n",
      "bucle 1 EXCEPT - i:  1  finalizado....\n",
      "bucle 2 - i:  1  iniciando....\n",
      "bucle 2 - i:  1  fin....\n",
      "bucle 2 - i:  2  iniciando....\n",
      "bucle 2 - i:  2  fin....\n",
      "bucle 2 - i:  3  iniciando....\n",
      "bucle 2 EXCEPT - i:  3  fin....\n"
     ]
    },
    {
     "name": "stderr",
     "output_type": "stream",
     "text": [
      " 77%|███████▋  | 40/52 [06:24<01:51,  9.32s/it]"
     ]
    },
    {
     "name": "stdout",
     "output_type": "stream",
     "text": [
      "bucle 1 - i:  1  iniciando....\n",
      "bucle 1 EXCEPT - i:  1  finalizado....\n",
      "bucle 2 - i:  1  iniciando....\n",
      "bucle 2 - i:  1  fin....\n",
      "bucle 2 - i:  2  iniciando....\n",
      "bucle 2 EXCEPT - i:  2  fin....\n"
     ]
    },
    {
     "name": "stderr",
     "output_type": "stream",
     "text": [
      " 79%|███████▉  | 41/52 [06:34<01:44,  9.50s/it]"
     ]
    },
    {
     "name": "stdout",
     "output_type": "stream",
     "text": [
      "bucle 1 - i:  1  iniciando....\n",
      "bucle 1 EXCEPT - i:  1  finalizado....\n",
      "bucle 2 - i:  1  iniciando....\n",
      "bucle 2 - i:  1  fin....\n",
      "bucle 2 - i:  2  iniciando....\n",
      "bucle 2 EXCEPT - i:  2  fin....\n"
     ]
    },
    {
     "name": "stderr",
     "output_type": "stream",
     "text": [
      " 81%|████████  | 42/52 [06:44<01:37,  9.78s/it]"
     ]
    },
    {
     "name": "stdout",
     "output_type": "stream",
     "text": [
      "bucle 1 - i:  1  iniciando....\n",
      "bucle 1 - i:  1  finalizado....\n",
      "bucle 1 - i:  2  iniciando....\n",
      "bucle 1 EXCEPT - i:  2  finalizado....\n"
     ]
    },
    {
     "name": "stderr",
     "output_type": "stream",
     "text": [
      " 83%|████████▎ | 43/52 [06:54<01:27,  9.74s/it]"
     ]
    },
    {
     "name": "stdout",
     "output_type": "stream",
     "text": [
      "bucle 1 - i:  1  iniciando....\n",
      "bucle 1 EXCEPT - i:  1  finalizado....\n",
      "bucle 2 - i:  1  iniciando....\n",
      "bucle 2 - i:  1  fin....\n",
      "bucle 2 - i:  2  iniciando....\n",
      "bucle 2 - i:  2  fin....\n",
      "bucle 2 - i:  3  iniciando....\n",
      "bucle 2 EXCEPT - i:  3  fin....\n"
     ]
    },
    {
     "name": "stderr",
     "output_type": "stream",
     "text": [
      " 85%|████████▍ | 44/52 [07:03<01:17,  9.63s/it]"
     ]
    },
    {
     "name": "stdout",
     "output_type": "stream",
     "text": [
      "bucle 1 - i:  1  iniciando....\n",
      "bucle 1 EXCEPT - i:  1  finalizado....\n",
      "bucle 2 - i:  1  iniciando....\n",
      "bucle 2 - i:  1  fin....\n",
      "bucle 2 - i:  2  iniciando....\n",
      "bucle 2 EXCEPT - i:  2  fin....\n"
     ]
    },
    {
     "name": "stderr",
     "output_type": "stream",
     "text": [
      " 87%|████████▋ | 45/52 [07:12<01:06,  9.54s/it]"
     ]
    },
    {
     "name": "stdout",
     "output_type": "stream",
     "text": [
      "bucle 1 - i:  1  iniciando....\n",
      "bucle 1 EXCEPT - i:  1  finalizado....\n",
      "bucle 2 - i:  1  iniciando....\n",
      "bucle 2 - i:  1  fin....\n",
      "bucle 2 - i:  2  iniciando....\n",
      "bucle 2 EXCEPT - i:  2  fin....\n"
     ]
    },
    {
     "name": "stderr",
     "output_type": "stream",
     "text": [
      " 88%|████████▊ | 46/52 [07:21<00:55,  9.27s/it]"
     ]
    },
    {
     "name": "stdout",
     "output_type": "stream",
     "text": [
      "bucle 1 - i:  1  iniciando....\n",
      "bucle 1 EXCEPT - i:  1  finalizado....\n",
      "bucle 2 - i:  1  iniciando....\n",
      "bucle 2 EXCEPT - i:  1  fin....\n"
     ]
    },
    {
     "name": "stderr",
     "output_type": "stream",
     "text": [
      " 90%|█████████ | 47/52 [07:31<00:46,  9.36s/it]"
     ]
    },
    {
     "name": "stdout",
     "output_type": "stream",
     "text": [
      "bucle 1 - i:  1  iniciando....\n",
      "bucle 1 EXCEPT - i:  1  finalizado....\n",
      "bucle 2 - i:  1  iniciando....\n",
      "bucle 2 - i:  1  fin....\n",
      "bucle 2 - i:  2  iniciando....\n",
      "bucle 2 EXCEPT - i:  2  fin....\n"
     ]
    },
    {
     "name": "stderr",
     "output_type": "stream",
     "text": [
      " 92%|█████████▏| 48/52 [07:40<00:37,  9.32s/it]"
     ]
    },
    {
     "name": "stdout",
     "output_type": "stream",
     "text": [
      "bucle 1 - i:  1  iniciando....\n",
      "bucle 1 EXCEPT - i:  1  finalizado....\n",
      "bucle 2 - i:  1  iniciando....\n",
      "bucle 2 - i:  1  fin....\n",
      "bucle 2 - i:  2  iniciando....\n",
      "bucle 2 EXCEPT - i:  2  fin....\n"
     ]
    },
    {
     "name": "stderr",
     "output_type": "stream",
     "text": [
      " 94%|█████████▍| 49/52 [07:49<00:28,  9.34s/it]"
     ]
    },
    {
     "name": "stdout",
     "output_type": "stream",
     "text": [
      "bucle 1 - i:  1  iniciando....\n",
      "bucle 1 EXCEPT - i:  1  finalizado....\n",
      "bucle 2 - i:  1  iniciando....\n",
      "bucle 2 - i:  1  fin....\n",
      "bucle 2 - i:  2  iniciando....\n",
      "bucle 2 - i:  2  fin....\n",
      "bucle 2 - i:  3  iniciando....\n",
      "bucle 2 EXCEPT - i:  3  fin....\n"
     ]
    },
    {
     "name": "stderr",
     "output_type": "stream",
     "text": [
      " 96%|█████████▌| 50/52 [07:58<00:18,  9.15s/it]"
     ]
    },
    {
     "name": "stdout",
     "output_type": "stream",
     "text": [
      "bucle 1 - i:  1  iniciando....\n",
      "bucle 1 EXCEPT - i:  1  finalizado....\n",
      "bucle 2 - i:  1  iniciando....\n",
      "bucle 2 - i:  1  fin....\n",
      "bucle 2 - i:  2  iniciando....\n",
      "bucle 2 - i:  2  fin....\n",
      "bucle 2 - i:  3  iniciando....\n",
      "bucle 2 EXCEPT - i:  3  fin....\n",
      "bucle 1 - i:  1  iniciando....\n",
      "bucle 1 EXCEPT - i:  1  finalizado....\n",
      "bucle 2 - i:  1  iniciando....\n",
      "bucle 2 - i:  1  fin....\n",
      "bucle 2 - i:  2  iniciando....\n",
      "bucle 2 - i:  2  fin....\n",
      "bucle 2 - i:  3  iniciando....\n"
     ]
    },
    {
     "name": "stderr",
     "output_type": "stream",
     "text": [
      " 98%|█████████▊| 51/52 [08:07<00:09,  9.22s/it]"
     ]
    },
    {
     "name": "stdout",
     "output_type": "stream",
     "text": [
      "bucle 2 - i:  3  fin....\n",
      "bucle 2 - i:  4  iniciando....\n",
      "bucle 2 EXCEPT - i:  4  fin....\n"
     ]
    },
    {
     "name": "stderr",
     "output_type": "stream",
     "text": [
      "100%|██████████| 52/52 [08:17<00:00,  9.56s/it]"
     ]
    },
    {
     "name": "stdout",
     "output_type": "stream",
     "text": [
      "bucle 1 - i:  1  iniciando....\n",
      "bucle 1 EXCEPT - i:  1  finalizado....\n",
      "bucle 2 - i:  1  iniciando....\n",
      "bucle 2 - i:  1  fin....\n",
      "bucle 2 - i:  2  iniciando....\n",
      "bucle 2 - i:  2  fin....\n",
      "bucle 2 - i:  3  iniciando....\n",
      "bucle 2 EXCEPT - i:  3  fin....\n"
     ]
    },
    {
     "name": "stderr",
     "output_type": "stream",
     "text": [
      "\n"
     ]
    }
   ],
   "source": [
    "driver = webdriver.Chrome()\n",
    "\n",
    "notas_imdb =[]\n",
    "\n",
    "driver.get('https://www.imdb.com/')\n",
    "\n",
    "driver.maximize_window()\n",
    "\n",
    "sleep (3)\n",
    "\n",
    "driver.find_element('css selector','#__next > div > div > div.sc-jrcTuL.bPmWiM > div > button.icb-btn.sc-bcXHqe.sc-dkrFOg.sc-iBYQkv.dcvrLS.ddtuHe.dRCGjd').click()\n",
    "\n",
    "nombre = []\n",
    "nota_imdb = []\n",
    "direccion = []\n",
    "guionista = []\n",
    "argumento = []\n",
    "duracion = []\n",
    "\n",
    "for i in tqdm(idOwner[7:]):\n",
    "        driver.find_element('css selector','#suggestion-search').send_keys(i, Keys.ENTER)\n",
    "        sleep(5)\n",
    "        \n",
    "        nombre.append(driver.find_element('css selector', '#__next > main > div > section.ipc-page-background.ipc-page-background--base.sc-c41b9732-0.NeSef > section > div:nth-child(5) > section > section > div.sc-491663c0-3.bdjVSf > div.sc-1f50b7c-0.PUxFE > h1 > span').text)\n",
    "        \n",
    "        try: \n",
    "                nota_imdb.append(driver.find_element('xpath', '//*[@id=\"__next\"]/main/div/section[1]/section/div[3]/section/section/div[2]/div[2]/div/div[1]/a/span/div/div[2]/div[1]/span[1]').text)\n",
    "        except:\n",
    "                nota_imdb.append(None)\n",
    "\n",
    "        \n",
    "        try: \n",
    "                duracion.append(driver.find_element('css selector', '#__next > main > div > section.ipc-page-background.ipc-page-background--base.sc-c41b9732-0.NeSef > section > div:nth-child(5) > section > section > div.sc-491663c0-3.bdjVSf > div.sc-1f50b7c-0.PUxFE > ul > li:nth-child(3)').text)\n",
    "        except:\n",
    "                try:\n",
    "                        duracion.append(driver.find_element('xpath', '//*[@id=\"__next\"]/main/div/section[1]/section/div[3]/section/section/div[2]/div[1]/ul/li[2]').text)\n",
    "                \n",
    "                except:\n",
    "                        duracion.append(None)  \n",
    "                        \n",
    "       \n",
    "        try:\n",
    "                argumento.append(driver.find_element('css selector', '#__next > main > div > section.ipc-page-background.ipc-page-background--base.sc-c41b9732-0.NeSef > section > div:nth-child(5) > section > section > div.sc-491663c0-4.gEsAEH > div.sc-491663c0-6.eQRCDK > div.sc-491663c0-10.emoxHI > section > p > span.sc-2d37a7c7-2.PeLXr').text)\n",
    "        except:\n",
    "                try:\n",
    "                        argumento.append(driver.find_element('css selector', '#__next > main > div > section.ipc-page-background.ipc-page-background--base.sc-c41b9732-0.NeSef > section > div:nth-child(5) > section > section > div.sc-491663c0-4.yjUiO > div.sc-491663c0-6.lnlBxO > div.sc-491663c0-10.rbXFE > section > p > span.sc-2d37a7c7-2.PeLXr').text)\n",
    "                except:\n",
    "                        argumento.append(None)\n",
    "                        \n",
    "\n",
    "               \n",
    "        i=0\n",
    "        direccion_multiple = []\n",
    "        try:    \n",
    "                while True: \n",
    "                        i+=1\n",
    "                        print('bucle 1 - i: ', i, ' iniciando....')\n",
    "                        direccion_multiple.append(driver.find_element('css selector', f'#__next > main > div > section.ipc-page-background.ipc-page-background--base.sc-c41b9732-0.NeSef > section > div:nth-child(5) > section > section > div.sc-491663c0-4.yjUiO > div.sc-491663c0-6.lnlBxO > div.sc-491663c0-10.rbXFE > section > div.sc-1f50b7c-3.ZYFjc > div > ul > li:nth-child(1) > div > ul > li:nth-child({i}) > a').text)\n",
    "                        print('bucle 1 - i: ', i, ' finalizado....')\n",
    "\n",
    "        except:\n",
    "                print('bucle 1 EXCEPT - i: ', i, ' finalizado....')\n",
    "                if i > 1:\n",
    "                        direccion.append(tuple(direccion_multiple))\n",
    "                        continue\n",
    "                else:\n",
    "                        try:\n",
    "                                \n",
    "                                direccion.append(driver.find_element('css selector', '#__next > main > div > section.ipc-page-background.ipc-page-background--base.sc-c41b9732-0.NeSef > section > div:nth-child(5) > section > section > div.sc-491663c0-4.gEsAEH > div.sc-491663c0-6.eQRCDK > div.sc-491663c0-10.emoxHI > section > div.sc-1f50b7c-3.ZYFjc > div > ul > li:nth-child(1) > div > ul > li > a').text)                                                                                   \n",
    "                        \n",
    "                        except:\n",
    "                                direccion.append(driver.find_element('css selector', '#__next > main > div > section.ipc-page-background.ipc-page-background--base.sc-c41b9732-0.NeSef > section > div:nth-child(5) > section > section > div.sc-491663c0-4.fVGakt > div > div.sc-491663c0-10.RRTJr > section > div.sc-1f50b7c-3.ZYFjc > div > ul > li:nth-child(1) > div > ul > li > a').text)\n",
    "                                                                              \n",
    "\n",
    "        \n",
    "               \n",
    "        i=0\n",
    "        guionista_multiple = []\n",
    "        try:\n",
    "                while True:\n",
    "                        i+=1\n",
    "                        print('bucle 2 - i: ', i, ' iniciando....')\n",
    "                        guionista_multiple.append(driver.find_element('css selector', f'#__next > main > div > section.ipc-page-background.ipc-page-background--base.sc-c41b9732-0.NeSef > section > div:nth-child(5) > section > section > div.sc-491663c0-4.gEsAEH > div.sc-491663c0-6.eQRCDK > div.sc-491663c0-10.emoxHI > section > div.sc-1f50b7c-3.ZYFjc > div > ul > li:nth-child(2) > div > ul > li:nth-child({i}) > a').text)\n",
    "                        print('bucle 2 - i: ', i, ' fin....')\n",
    "\n",
    "        except:\n",
    "                print('bucle 2 EXCEPT - i: ', i, ' fin....')\n",
    "                if i > 1:\n",
    "                        guionista.append(tuple(guionista_multiple))\n",
    "                        continue\n",
    "                else:\n",
    "                        try:\n",
    "                                guionista.append(driver.find_element('css selector', '#__next > main > div > section.ipc-page-background.ipc-page-background--base.sc-c41b9732-0.NeSef > section > div:nth-child(5) > section > section > div.sc-491663c0-4.yjUiO > div.sc-491663c0-6.lnlBxO > div.sc-491663c0-10.rbXFE > section > div.sc-1f50b7c-3.ZYFjc > div > ul > li:nth-child(2) > div > ul > li > a').text)                                                  \n",
    "                          \n",
    "                        except:\n",
    "                                guionista.append(driver.find_element('css selector', '#__next > main > div > section.ipc-page-background.ipc-page-background--base.sc-c41b9732-0.NeSef > section > div:nth-child(5) > section > section > div.sc-491663c0-4.fVGakt > div > div.sc-491663c0-11.hqAHXl > div.sc-1f50b7c-2.gHiRzc > div > ul > li:nth-child(2) > div > ul > li > a').text)\n",
    "\n",
    "\n",
    "driver.close()"
   ]
  },
  {
   "cell_type": "code",
   "execution_count": 11,
   "metadata": {},
   "outputs": [],
   "source": [
    "duracion_mins = []\n",
    "\n",
    "for peli in duracion:\n",
    "\n",
    "    if peli is None:\n",
    "        duracion_mins.append(None)\n",
    "        continue\n",
    "    \n",
    "    elif 'h' in peli:\n",
    "        partes = peli.split('h')\n",
    "        horas = int(partes[0].strip())\n",
    "        if len(partes) > 1 and 'min' in partes[1]:\n",
    "            minutos = int(partes[1].replace('min', '').strip())\n",
    "        else:\n",
    "            minutos = 0\n",
    "    \n",
    "    else:\n",
    "        horas = 0\n",
    "        minutos = int(peli.replace('min', '').strip())\n",
    "    \n",
    "    total_minutos = horas * 60 + minutos\n",
    "    duracion_mins.append(total_minutos)"
   ]
  },
  {
   "cell_type": "code",
   "execution_count": 12,
   "metadata": {},
   "outputs": [
    {
     "data": {
      "text/plain": [
       "[('5,7',\n",
       "  'Penny Allen',\n",
       "  ('Penny Allen',),\n",
       "  'En este thriller de bajo perfil, una comunidad de viticultores de Oregón necesitada de ingresos cultiva marihuana para financiar sus viñedos.',\n",
       "  95),\n",
       " ('5,7',\n",
       "  'Antonio Gonzalo',\n",
       "  ('Antonio Gonzalo', 'Jorge Martínez Reverte'),\n",
       "  'Gálvez, protagonista de varias novelas del género negro, es un periodista que investiga un caso de estafas inmobiliarias en la Costa del Sol, descubriendo más de lo que debe, poniendo en peligro su integridad física e incluso su vida.',\n",
       "  89),\n",
       " ('4,5',\n",
       "  'Donald W. Thompson',\n",
       "  ('Donald W. Thompson', 'Russell S. Doughten Jr.'),\n",
       "  'Tercera y más conocida entrada en la serie Mark IV de películas fundamentalistas de apocalipsis. El guerrillero cristiano fundamentalista David ayuda a escapar a los disidentes condenados, intenta subvertir la Marca de la Bestia.',\n",
       "  93),\n",
       " ('5,5',\n",
       "  'Surendra Mohan',\n",
       "  ('Sanjeev Kumar', 'Reena Roy', 'Shatrughan Sinha'),\n",
       "  'Harimohan lives with his wife, Shanta, and a his young son named, Sunil. He works for a lecherous male, who would like to have sex with Shanta. One night while Harimohan is sent on an errand, the boss molests Shanta, but due to bad weather, Harimohan returns early just in time to stop his boss from raping Shanta. A fight ensues between his boss and himself, and a resu... Leer todo',\n",
       "  156),\n",
       " ('6,7',\n",
       "  'Yves Boisset',\n",
       "  ('George Markstein', 'Michel Audiard', 'Claude Veillot'),\n",
       "  'Sébastien Grenier, a secret agent, eliminates all his rivals in order to decipher who has killed some of his associates.',\n",
       "  98),\n",
       " ('5,9',\n",
       "  ('Nicolas Roeg',),\n",
       "  ('Santiago Lapeira', 'Alberto Speratti'),\n",
       "  'En 1925, el buscador de oro del Ártico Jack McCann se convierte en un hombre rico cuando encuentra oro, pero veinte años después se enfrenta a grandes problemas personales y familiares.',\n",
       "  130),\n",
       " ('5,1',\n",
       "  'Santiago Lapeira',\n",
       "  ('Cornell Woolrich', 'Patrick Laurent', 'Robin Davis'),\n",
       "  'Un grupo de delincuentes intenta apoderarse de casi ochocientos millones de pesetas en la sede del Banco Central de Barcelona.',\n",
       "  94),\n",
       " ('6,4',\n",
       "  'Robin Davis',\n",
       "  ('Elisa Briganti', 'Cesare Frugoni', 'Lucio Fulci'),\n",
       "  'After a train accident, a woman survives and is mistaken for an other woman she just met on a train before the accident.',\n",
       "  110),\n",
       " ('4,3',\n",
       "  ('Jean-Louis Daniel',),\n",
       "  ('Miklós Vámos',),\n",
       "  'Berg es un joven piloto de acrobacias que abandona su profesión y empieza a trabajar en un servicio de seguridad privada.',\n",
       "  90),\n",
       " ('4,8',\n",
       "  'Lucio Fulci',\n",
       "  ('Mario Amendola', 'Bruno Corbucci'),\n",
       "  \"In 2072 Rome, Italy, the ruthless CEO of a TV network plots to stage a modern series of gladiator games for ratings while one 'contenstant' learns of a conspiracy behind the true nature of the results.\",\n",
       "  94),\n",
       " ('7,2',\n",
       "  'György Révész',\n",
       "  ('Jean van de Velde',),\n",
       "  \"A writer born in 1951 is abducted and accused by his kidnappers of a murder that occurred in 1949. Not being born is insufficient to convince his captors of his innocence so he must find another way to prove he didn't commit the crime.\",\n",
       "  82),\n",
       " ('5,8',\n",
       "  'Bruno Corbucci',\n",
       "  ('Jesús Franco',),\n",
       "  'While keeping an eye on his small time crook brother in law, Inspector Nico Giraldi gets involved in a murder case set in the world of Formula One racing. Giraldi is suspended for trying to cover up for his brother in law and becomes afraid his wife and son may be targeted next. Therefore he calls in the help of his childhood friend and chief informant, Venticello.',\n",
       "  102),\n",
       " (None, 'Jean van de Velde', ('Michael Farkas',), '', 95),\n",
       " ('5,5',\n",
       "  'Jesús Franco',\n",
       "  ('Alberto Bojórquez', 'Jaime Humberto Hermosillo'),\n",
       "  \"A sheriff covers up a man's murder in a small island occupied by two sisters. A local thug starts sexually assaulting one of the sisters, despite having a loving girlfriend, which triggers a violent sequence of events.\",\n",
       "  95),\n",
       " ('5,4',\n",
       "  'Michael Farkas',\n",
       "  ('Peter Haynes', 'Jorge Montesi'),\n",
       "  'Una ingeniera, con la ayuda de su amigo aspirante a piloto, descubre una forma de estafar a los cajeros automáticos, pero al hacerlo tropieza con un complot para destruir el sistema monetario de Estados Unidos.',\n",
       "  98),\n",
       " ('6,1',\n",
       "  ('Koji Hashimoto', 'R.J. Kizer', 'Ishirô Honda'),\n",
       "  ('Luis Hercé', 'Bigas Luna', 'Enrique Viciano'),\n",
       "  \"Thirty years after the original monster's rampage, a new Godzilla emerges and attacks Japan.\",\n",
       "  87),\n",
       " ('5,3',\n",
       "  'Alberto Bojórquez',\n",
       "  ('Paulus Manker', 'Franz Novotny'),\n",
       "  'One woman and a detective are looking for lost children, in México City.',\n",
       "  101),\n",
       " ('5,1',\n",
       "  'Jorge Montesi',\n",
       "  ('Bernhard Rud', 'Daniel Zuta'),\n",
       "  'A homicide detective finds himself being stalked by a killer responsible for a series of mob style executions.',\n",
       "  80),\n",
       " ('5,6',\n",
       "  'Bigas Luna',\n",
       "  ('Francesc Bellmunt', 'Ferran Torrent'),\n",
       "  'Lola, una trabajadora de una fábrica, finalmente decide huir de Mario, el hombre borracho y agresivo que ama.',\n",
       "  106),\n",
       " ('6,7',\n",
       "  ('Robert Mandel',),\n",
       "  ('Luc Béraud', 'Alain Jessua', 'André Lay'),\n",
       "  'Un experto en efectos especiales es contratado para fingir un asesinato de la mafia en la vida real para un plan de protección de testigos, pero encuentra su propia vida en peligro.',\n",
       "  109),\n",
       " ('6,5',\n",
       "  'Paulus Manker',\n",
       "  ('Detlef B. Blettenberg', 'Michael Kerwer', 'Christina Undritz'),\n",
       "  'Josef Schmutz is a custodian clerk given the task of guarding an outdated industrial plant.',\n",
       "  100),\n",
       " ('6,4',\n",
       "  ('Bob Rafelson',),\n",
       "  ('Mike Grady',),\n",
       "  'Un investigador federal rastrea a una mujer mala y calculadora que cambia constantemente de marido para matarlos y apoderarse de su herencia.',\n",
       "  102),\n",
       " (None, 'Daniel Zuta', ('Iain Roy', 'Chris Kelly'), '', 100),\n",
       " ('5,2', 'Francesc Bellmunt', ('Chi-Ming Pang',), '', 90),\n",
       " ('6,2',\n",
       "  'Alain Jessua',\n",
       "  ('Peter Yuval', 'Jeffrey Mandel'),\n",
       "  \"Paul Duchene, owner of a thriving enterprise, works with his son Thomas and his wife Catherine. Drama begins when Paul unexpectedly catch his daughter-in-law sleeping with one of his son's colleagues.\",\n",
       "  100),\n",
       " ('2,2', 'Rolf von Sydow', ('Anders Palm',), '', 110),\n",
       " ('5,8',\n",
       "  'Roger Duchowny',\n",
       "  '',\n",
       "  'A beautiful young soap opera star is stalked and terrorized by an obsessive admirer at a posh tropical resort.',\n",
       "  94),\n",
       " ('4,3',\n",
       "  'Tom Clegg',\n",
       "  ('George Putnam',),\n",
       "  'A veteran reporter is investigating the disappearance of a photo-journalist who was covering a civil war in Africa. The only clue is a roll of film he left behind. The reporter soon realizes he may have bitten more than he can chew.',\n",
       "  108),\n",
       " ('6,2',\n",
       "  'Yeung-Wah Kam',\n",
       "  ('Jakob Arjouni', 'Doris Dörrie'),\n",
       "  \"A Hong Kong police detective investigating weapons smuggling through the airport runs into a corrupt customs officer. Things escalate to a ruthless munitions smuggler kidnapping two security officers' daughter.\",\n",
       "  89),\n",
       " ('5,8',\n",
       "  ('John Milius',),\n",
       "  ('Simon Target', 'Ross Wilson'),\n",
       "  'El objetivo: un almacén de misiles en Hanói. El avión: el A-6 Intruder, un bombardero de baja altitud sin armas defensivas. El riesgo: un consejo de guerra de manos del comandante Camparelli... si es que sobreviven.',\n",
       "  115),\n",
       " ('2,6',\n",
       "  'Peter Yuval',\n",
       "  ('Daniele Stroppa',),\n",
       "  \"When a Russian cyborg with telekinetic powers terrorizes a city, an elite government agency intervenes. A chemist teams up with a special agent to capture the menace but they find out that the true villain isn't who they expected.\",\n",
       "  88),\n",
       " ('5,0',\n",
       "  'Anders Palm',\n",
       "  '',\n",
       "  'A detective becomes obsessed with bringing a man to justice, whom he is sure is a serial killer and the murderer of a woman with which both men were involved. However, the supposed killer may be as much a victim as the murdered people.',\n",
       "  90),\n",
       " ('5,9',\n",
       "  'Manel Esteban',\n",
       "  ('Rafael Alcázar', 'Manuel Vázquez Montalbán'),\n",
       "  None,\n",
       "  90),\n",
       " ('4,1',\n",
       "  'John Dirlam',\n",
       "  ('Douglas K. Grimm',),\n",
       "  'A detective falls in love with the woman he is investigating in the murder of a real estate tycoon.',\n",
       "  95),\n",
       " ('6,4',\n",
       "  'Doris Dörrie',\n",
       "  ('David Reskin',),\n",
       "  \"Kemal Kayankaya, a private detective, is hired by a Turkish woman, Ilter, to search for her husband Amend, who has been missing since the death of her father, Vassif. Unbeknownst to him, he was about to unravel the secrets of his client's family, as well as their various dealings with the underworld and the police. Being a Turk raised in a German foster family, he has... Leer todo\",\n",
       "  109),\n",
       " ('4,9',\n",
       "  'Simon Target',\n",
       "  ('Charles Haigh', 'Zbigniew Kaminski'),\n",
       "  \"While in prison, Jack had two momentous experiences: he got religion, and met the woman who would become his wife. He and Alison are devoted to the idea of staying in God's good graces, so they have moved to a remote power station in central Australia, far from anything. Into this possibly idyllic arrangement comes a rootless young man who the power company has hired ... Leer todo\",\n",
       "  88),\n",
       " ('5,0',\n",
       "  \"Joe D'Amato\",\n",
       "  ('Daniele Stroppa',),\n",
       "  \"After leaving her husband, Ellen Foster encounters a mysterious journalist in New Orleans and they quickly begin a passionate affair. Amidst Mardi Gras celebrations, the relationship begins to unravel when Ellen realizes that things aren't what they seem and learns that her life is in danger.\",\n",
       "  90),\n",
       " ('6,3', 'Sturla Gunnarsson', ('Danny Vendramini',), None, 94),\n",
       " ('4,9',\n",
       "  'Rafael Alcázar',\n",
       "  '',\n",
       "  'Two Frenchmen, Bernadette and Lebrum, arrive in Barcelona and hire detective Bardon to find Alekos, the former Greek lover of the woman.',\n",
       "  96),\n",
       " ('2,3',\n",
       "  'Douglas K. Grimm',\n",
       "  ('Corey Michael Eubanks',),\n",
       "  'A radio DJ helps two police detectives hunt down a serial killer who kills women using a surgical laser instrument during every full moon and whom makes taunting phone calls the radio station.',\n",
       "  91),\n",
       " ('3,6',\n",
       "  'Greydon Clark',\n",
       "  ('Richard Ryan',),\n",
       "  'When Susan Dennison, an American woman traveling in Russia, tires to smuggle priceless artifacts out of the country, her entire tour group suffers the repercussions. Not only does the Russian government suspect her companions of criminal behavior, but an unidentified killer starts stalking them. Susan witnesses a murder and uncovers that her tour group may not be as b... Leer todo',\n",
       "  89),\n",
       " ('5,7',\n",
       "  ('Wing-Chiu Chan',),\n",
       "  ('Michael Berlin', 'Eric Estrin'),\n",
       "  'La Sra. Ng, queda temporalmente ciega después de una operación. Su esposo se marcha a Macao por unos días. Poco después, un ex paciente, con motivos siniestros.',\n",
       "  88),\n",
       " ('3,7',\n",
       "  'Zbigniew Kaminski',\n",
       "  ('Wai-Yee Fong', 'Kwong-Yam Yip'),\n",
       "  'An aspiring actress falls for her leading man and passion ignites. When a series of murders haunts the estate where the actors are filming, her leading man no longer seems to be perfect and she is forced into a deadly choice.',\n",
       "  100),\n",
       " ('6,4',\n",
       "  \"Joe D'Amato\",\n",
       "  ('Jerry Lazarus', 'William H. Macy', 'Steven Schachter'),\n",
       "  'Young and beautiful, she moved into the lake house where her sister was murdered a year ago and finds herself on her own.',\n",
       "  92),\n",
       " ('5,8',\n",
       "  'Danny Vendramini',\n",
       "  ('Jack Tarpon', 'Richard Kletter'),\n",
       "  \"A prominent lawyer has an affair with a girl from juvie who wants a way out. She's taping their tryst when someone enters and kills the lawyer. Now he's after her and the tape. Her only chance is a stand up female public defender.\",\n",
       "  107)]"
      ]
     },
     "execution_count": 12,
     "metadata": {},
     "output_type": "execute_result"
    }
   ],
   "source": [
    "imdb_thriller = list(tuple(zip(nota_imdb,direccion,guionista,argumento,duracion_mins)))\n",
    "\n",
    "imdb_thriller"
   ]
  },
  {
   "cell_type": "code",
   "execution_count": 14,
   "metadata": {},
   "outputs": [
    {
     "data": {
      "text/html": [
       "<div>\n",
       "<style scoped>\n",
       "    .dataframe tbody tr th:only-of-type {\n",
       "        vertical-align: middle;\n",
       "    }\n",
       "\n",
       "    .dataframe tbody tr th {\n",
       "        vertical-align: top;\n",
       "    }\n",
       "\n",
       "    .dataframe thead th {\n",
       "        text-align: right;\n",
       "    }\n",
       "</style>\n",
       "<table border=\"1\" class=\"dataframe\">\n",
       "  <thead>\n",
       "    <tr style=\"text-align: right;\">\n",
       "      <th></th>\n",
       "      <th>0</th>\n",
       "      <th>1</th>\n",
       "      <th>2</th>\n",
       "      <th>3</th>\n",
       "      <th>4</th>\n",
       "    </tr>\n",
       "  </thead>\n",
       "  <tbody>\n",
       "    <tr>\n",
       "      <th>0</th>\n",
       "      <td>5,7</td>\n",
       "      <td>Penny Allen</td>\n",
       "      <td>(Penny Allen,)</td>\n",
       "      <td>En este thriller de bajo perfil, una comunidad...</td>\n",
       "      <td>95</td>\n",
       "    </tr>\n",
       "    <tr>\n",
       "      <th>1</th>\n",
       "      <td>5,7</td>\n",
       "      <td>Antonio Gonzalo</td>\n",
       "      <td>(Antonio Gonzalo, Jorge Martínez Reverte)</td>\n",
       "      <td>Gálvez, protagonista de varias novelas del gén...</td>\n",
       "      <td>89</td>\n",
       "    </tr>\n",
       "    <tr>\n",
       "      <th>2</th>\n",
       "      <td>4,5</td>\n",
       "      <td>Donald W. Thompson</td>\n",
       "      <td>(Donald W. Thompson, Russell S. Doughten Jr.)</td>\n",
       "      <td>Tercera y más conocida entrada en la serie Mar...</td>\n",
       "      <td>93</td>\n",
       "    </tr>\n",
       "    <tr>\n",
       "      <th>3</th>\n",
       "      <td>5,5</td>\n",
       "      <td>Surendra Mohan</td>\n",
       "      <td>(Sanjeev Kumar, Reena Roy, Shatrughan Sinha)</td>\n",
       "      <td>Harimohan lives with his wife, Shanta, and a h...</td>\n",
       "      <td>156</td>\n",
       "    </tr>\n",
       "    <tr>\n",
       "      <th>4</th>\n",
       "      <td>6,7</td>\n",
       "      <td>Yves Boisset</td>\n",
       "      <td>(George Markstein, Michel Audiard, Claude Veil...</td>\n",
       "      <td>Sébastien Grenier, a secret agent, eliminates ...</td>\n",
       "      <td>98</td>\n",
       "    </tr>\n",
       "    <tr>\n",
       "      <th>5</th>\n",
       "      <td>5,9</td>\n",
       "      <td>(Nicolas Roeg,)</td>\n",
       "      <td>(Santiago Lapeira, Alberto Speratti)</td>\n",
       "      <td>En 1925, el buscador de oro del Ártico Jack Mc...</td>\n",
       "      <td>130</td>\n",
       "    </tr>\n",
       "    <tr>\n",
       "      <th>6</th>\n",
       "      <td>5,1</td>\n",
       "      <td>Santiago Lapeira</td>\n",
       "      <td>(Cornell Woolrich, Patrick Laurent, Robin Davis)</td>\n",
       "      <td>Un grupo de delincuentes intenta apoderarse de...</td>\n",
       "      <td>94</td>\n",
       "    </tr>\n",
       "    <tr>\n",
       "      <th>7</th>\n",
       "      <td>6,4</td>\n",
       "      <td>Robin Davis</td>\n",
       "      <td>(Elisa Briganti, Cesare Frugoni, Lucio Fulci)</td>\n",
       "      <td>After a train accident, a woman survives and i...</td>\n",
       "      <td>110</td>\n",
       "    </tr>\n",
       "    <tr>\n",
       "      <th>8</th>\n",
       "      <td>4,3</td>\n",
       "      <td>(Jean-Louis Daniel,)</td>\n",
       "      <td>(Miklós Vámos,)</td>\n",
       "      <td>Berg es un joven piloto de acrobacias que aban...</td>\n",
       "      <td>90</td>\n",
       "    </tr>\n",
       "    <tr>\n",
       "      <th>9</th>\n",
       "      <td>4,8</td>\n",
       "      <td>Lucio Fulci</td>\n",
       "      <td>(Mario Amendola, Bruno Corbucci)</td>\n",
       "      <td>In 2072 Rome, Italy, the ruthless CEO of a TV ...</td>\n",
       "      <td>94</td>\n",
       "    </tr>\n",
       "    <tr>\n",
       "      <th>10</th>\n",
       "      <td>7,2</td>\n",
       "      <td>György Révész</td>\n",
       "      <td>(Jean van de Velde,)</td>\n",
       "      <td>A writer born in 1951 is abducted and accused ...</td>\n",
       "      <td>82</td>\n",
       "    </tr>\n",
       "    <tr>\n",
       "      <th>11</th>\n",
       "      <td>5,8</td>\n",
       "      <td>Bruno Corbucci</td>\n",
       "      <td>(Jesús Franco,)</td>\n",
       "      <td>While keeping an eye on his small time crook b...</td>\n",
       "      <td>102</td>\n",
       "    </tr>\n",
       "    <tr>\n",
       "      <th>12</th>\n",
       "      <td>None</td>\n",
       "      <td>Jean van de Velde</td>\n",
       "      <td>(Michael Farkas,)</td>\n",
       "      <td></td>\n",
       "      <td>95</td>\n",
       "    </tr>\n",
       "    <tr>\n",
       "      <th>13</th>\n",
       "      <td>5,5</td>\n",
       "      <td>Jesús Franco</td>\n",
       "      <td>(Alberto Bojórquez, Jaime Humberto Hermosillo)</td>\n",
       "      <td>A sheriff covers up a man's murder in a small ...</td>\n",
       "      <td>95</td>\n",
       "    </tr>\n",
       "    <tr>\n",
       "      <th>14</th>\n",
       "      <td>5,4</td>\n",
       "      <td>Michael Farkas</td>\n",
       "      <td>(Peter Haynes, Jorge Montesi)</td>\n",
       "      <td>Una ingeniera, con la ayuda de su amigo aspira...</td>\n",
       "      <td>98</td>\n",
       "    </tr>\n",
       "    <tr>\n",
       "      <th>15</th>\n",
       "      <td>6,1</td>\n",
       "      <td>(Koji Hashimoto, R.J. Kizer, Ishirô Honda)</td>\n",
       "      <td>(Luis Hercé, Bigas Luna, Enrique Viciano)</td>\n",
       "      <td>Thirty years after the original monster's ramp...</td>\n",
       "      <td>87</td>\n",
       "    </tr>\n",
       "    <tr>\n",
       "      <th>16</th>\n",
       "      <td>5,3</td>\n",
       "      <td>Alberto Bojórquez</td>\n",
       "      <td>(Paulus Manker, Franz Novotny)</td>\n",
       "      <td>One woman and a detective are looking for lost...</td>\n",
       "      <td>101</td>\n",
       "    </tr>\n",
       "    <tr>\n",
       "      <th>17</th>\n",
       "      <td>5,1</td>\n",
       "      <td>Jorge Montesi</td>\n",
       "      <td>(Bernhard Rud, Daniel Zuta)</td>\n",
       "      <td>A homicide detective finds himself being stalk...</td>\n",
       "      <td>80</td>\n",
       "    </tr>\n",
       "    <tr>\n",
       "      <th>18</th>\n",
       "      <td>5,6</td>\n",
       "      <td>Bigas Luna</td>\n",
       "      <td>(Francesc Bellmunt, Ferran Torrent)</td>\n",
       "      <td>Lola, una trabajadora de una fábrica, finalmen...</td>\n",
       "      <td>106</td>\n",
       "    </tr>\n",
       "    <tr>\n",
       "      <th>19</th>\n",
       "      <td>6,7</td>\n",
       "      <td>(Robert Mandel,)</td>\n",
       "      <td>(Luc Béraud, Alain Jessua, André Lay)</td>\n",
       "      <td>Un experto en efectos especiales es contratado...</td>\n",
       "      <td>109</td>\n",
       "    </tr>\n",
       "    <tr>\n",
       "      <th>20</th>\n",
       "      <td>6,5</td>\n",
       "      <td>Paulus Manker</td>\n",
       "      <td>(Detlef B. Blettenberg, Michael Kerwer, Christ...</td>\n",
       "      <td>Josef Schmutz is a custodian clerk given the t...</td>\n",
       "      <td>100</td>\n",
       "    </tr>\n",
       "    <tr>\n",
       "      <th>21</th>\n",
       "      <td>6,4</td>\n",
       "      <td>(Bob Rafelson,)</td>\n",
       "      <td>(Mike Grady,)</td>\n",
       "      <td>Un investigador federal rastrea a una mujer ma...</td>\n",
       "      <td>102</td>\n",
       "    </tr>\n",
       "    <tr>\n",
       "      <th>22</th>\n",
       "      <td>None</td>\n",
       "      <td>Daniel Zuta</td>\n",
       "      <td>(Iain Roy, Chris Kelly)</td>\n",
       "      <td></td>\n",
       "      <td>100</td>\n",
       "    </tr>\n",
       "    <tr>\n",
       "      <th>23</th>\n",
       "      <td>5,2</td>\n",
       "      <td>Francesc Bellmunt</td>\n",
       "      <td>(Chi-Ming Pang,)</td>\n",
       "      <td></td>\n",
       "      <td>90</td>\n",
       "    </tr>\n",
       "    <tr>\n",
       "      <th>24</th>\n",
       "      <td>6,2</td>\n",
       "      <td>Alain Jessua</td>\n",
       "      <td>(Peter Yuval, Jeffrey Mandel)</td>\n",
       "      <td>Paul Duchene, owner of a thriving enterprise, ...</td>\n",
       "      <td>100</td>\n",
       "    </tr>\n",
       "    <tr>\n",
       "      <th>25</th>\n",
       "      <td>2,2</td>\n",
       "      <td>Rolf von Sydow</td>\n",
       "      <td>(Anders Palm,)</td>\n",
       "      <td></td>\n",
       "      <td>110</td>\n",
       "    </tr>\n",
       "    <tr>\n",
       "      <th>26</th>\n",
       "      <td>5,8</td>\n",
       "      <td>Roger Duchowny</td>\n",
       "      <td></td>\n",
       "      <td>A beautiful young soap opera star is stalked a...</td>\n",
       "      <td>94</td>\n",
       "    </tr>\n",
       "    <tr>\n",
       "      <th>27</th>\n",
       "      <td>4,3</td>\n",
       "      <td>Tom Clegg</td>\n",
       "      <td>(George Putnam,)</td>\n",
       "      <td>A veteran reporter is investigating the disapp...</td>\n",
       "      <td>108</td>\n",
       "    </tr>\n",
       "    <tr>\n",
       "      <th>28</th>\n",
       "      <td>6,2</td>\n",
       "      <td>Yeung-Wah Kam</td>\n",
       "      <td>(Jakob Arjouni, Doris Dörrie)</td>\n",
       "      <td>A Hong Kong police detective investigating wea...</td>\n",
       "      <td>89</td>\n",
       "    </tr>\n",
       "    <tr>\n",
       "      <th>29</th>\n",
       "      <td>5,8</td>\n",
       "      <td>(John Milius,)</td>\n",
       "      <td>(Simon Target, Ross Wilson)</td>\n",
       "      <td>El objetivo: un almacén de misiles en Hanói. E...</td>\n",
       "      <td>115</td>\n",
       "    </tr>\n",
       "    <tr>\n",
       "      <th>30</th>\n",
       "      <td>2,6</td>\n",
       "      <td>Peter Yuval</td>\n",
       "      <td>(Daniele Stroppa,)</td>\n",
       "      <td>When a Russian cyborg with telekinetic powers ...</td>\n",
       "      <td>88</td>\n",
       "    </tr>\n",
       "    <tr>\n",
       "      <th>31</th>\n",
       "      <td>5,0</td>\n",
       "      <td>Anders Palm</td>\n",
       "      <td></td>\n",
       "      <td>A detective becomes obsessed with bringing a m...</td>\n",
       "      <td>90</td>\n",
       "    </tr>\n",
       "    <tr>\n",
       "      <th>32</th>\n",
       "      <td>5,9</td>\n",
       "      <td>Manel Esteban</td>\n",
       "      <td>(Rafael Alcázar, Manuel Vázquez Montalbán)</td>\n",
       "      <td>None</td>\n",
       "      <td>90</td>\n",
       "    </tr>\n",
       "    <tr>\n",
       "      <th>33</th>\n",
       "      <td>4,1</td>\n",
       "      <td>John Dirlam</td>\n",
       "      <td>(Douglas K. Grimm,)</td>\n",
       "      <td>A detective falls in love with the woman he is...</td>\n",
       "      <td>95</td>\n",
       "    </tr>\n",
       "    <tr>\n",
       "      <th>34</th>\n",
       "      <td>6,4</td>\n",
       "      <td>Doris Dörrie</td>\n",
       "      <td>(David Reskin,)</td>\n",
       "      <td>Kemal Kayankaya, a private detective, is hired...</td>\n",
       "      <td>109</td>\n",
       "    </tr>\n",
       "    <tr>\n",
       "      <th>35</th>\n",
       "      <td>4,9</td>\n",
       "      <td>Simon Target</td>\n",
       "      <td>(Charles Haigh, Zbigniew Kaminski)</td>\n",
       "      <td>While in prison, Jack had two momentous experi...</td>\n",
       "      <td>88</td>\n",
       "    </tr>\n",
       "    <tr>\n",
       "      <th>36</th>\n",
       "      <td>5,0</td>\n",
       "      <td>Joe D'Amato</td>\n",
       "      <td>(Daniele Stroppa,)</td>\n",
       "      <td>After leaving her husband, Ellen Foster encoun...</td>\n",
       "      <td>90</td>\n",
       "    </tr>\n",
       "    <tr>\n",
       "      <th>37</th>\n",
       "      <td>6,3</td>\n",
       "      <td>Sturla Gunnarsson</td>\n",
       "      <td>(Danny Vendramini,)</td>\n",
       "      <td>None</td>\n",
       "      <td>94</td>\n",
       "    </tr>\n",
       "    <tr>\n",
       "      <th>38</th>\n",
       "      <td>4,9</td>\n",
       "      <td>Rafael Alcázar</td>\n",
       "      <td></td>\n",
       "      <td>Two Frenchmen, Bernadette and Lebrum, arrive i...</td>\n",
       "      <td>96</td>\n",
       "    </tr>\n",
       "    <tr>\n",
       "      <th>39</th>\n",
       "      <td>2,3</td>\n",
       "      <td>Douglas K. Grimm</td>\n",
       "      <td>(Corey Michael Eubanks,)</td>\n",
       "      <td>A radio DJ helps two police detectives hunt do...</td>\n",
       "      <td>91</td>\n",
       "    </tr>\n",
       "    <tr>\n",
       "      <th>40</th>\n",
       "      <td>3,6</td>\n",
       "      <td>Greydon Clark</td>\n",
       "      <td>(Richard Ryan,)</td>\n",
       "      <td>When Susan Dennison, an American woman traveli...</td>\n",
       "      <td>89</td>\n",
       "    </tr>\n",
       "    <tr>\n",
       "      <th>41</th>\n",
       "      <td>5,7</td>\n",
       "      <td>(Wing-Chiu Chan,)</td>\n",
       "      <td>(Michael Berlin, Eric Estrin)</td>\n",
       "      <td>La Sra. Ng, queda temporalmente ciega después ...</td>\n",
       "      <td>88</td>\n",
       "    </tr>\n",
       "    <tr>\n",
       "      <th>42</th>\n",
       "      <td>3,7</td>\n",
       "      <td>Zbigniew Kaminski</td>\n",
       "      <td>(Wai-Yee Fong, Kwong-Yam Yip)</td>\n",
       "      <td>An aspiring actress falls for her leading man ...</td>\n",
       "      <td>100</td>\n",
       "    </tr>\n",
       "    <tr>\n",
       "      <th>43</th>\n",
       "      <td>6,4</td>\n",
       "      <td>Joe D'Amato</td>\n",
       "      <td>(Jerry Lazarus, William H. Macy, Steven Schach...</td>\n",
       "      <td>Young and beautiful, she moved into the lake h...</td>\n",
       "      <td>92</td>\n",
       "    </tr>\n",
       "    <tr>\n",
       "      <th>44</th>\n",
       "      <td>5,8</td>\n",
       "      <td>Danny Vendramini</td>\n",
       "      <td>(Jack Tarpon, Richard Kletter)</td>\n",
       "      <td>A prominent lawyer has an affair with a girl f...</td>\n",
       "      <td>107</td>\n",
       "    </tr>\n",
       "  </tbody>\n",
       "</table>\n",
       "</div>"
      ],
      "text/plain": [
       "       0                                           1  \\\n",
       "0    5,7                                 Penny Allen   \n",
       "1    5,7                             Antonio Gonzalo   \n",
       "2    4,5                          Donald W. Thompson   \n",
       "3    5,5                              Surendra Mohan   \n",
       "4    6,7                                Yves Boisset   \n",
       "5    5,9                             (Nicolas Roeg,)   \n",
       "6    5,1                            Santiago Lapeira   \n",
       "7    6,4                                 Robin Davis   \n",
       "8    4,3                        (Jean-Louis Daniel,)   \n",
       "9    4,8                                 Lucio Fulci   \n",
       "10   7,2                               György Révész   \n",
       "11   5,8                              Bruno Corbucci   \n",
       "12  None                           Jean van de Velde   \n",
       "13   5,5                                Jesús Franco   \n",
       "14   5,4                              Michael Farkas   \n",
       "15   6,1  (Koji Hashimoto, R.J. Kizer, Ishirô Honda)   \n",
       "16   5,3                           Alberto Bojórquez   \n",
       "17   5,1                               Jorge Montesi   \n",
       "18   5,6                                  Bigas Luna   \n",
       "19   6,7                            (Robert Mandel,)   \n",
       "20   6,5                               Paulus Manker   \n",
       "21   6,4                             (Bob Rafelson,)   \n",
       "22  None                                 Daniel Zuta   \n",
       "23   5,2                           Francesc Bellmunt   \n",
       "24   6,2                                Alain Jessua   \n",
       "25   2,2                              Rolf von Sydow   \n",
       "26   5,8                              Roger Duchowny   \n",
       "27   4,3                                   Tom Clegg   \n",
       "28   6,2                               Yeung-Wah Kam   \n",
       "29   5,8                              (John Milius,)   \n",
       "30   2,6                                 Peter Yuval   \n",
       "31   5,0                                 Anders Palm   \n",
       "32   5,9                               Manel Esteban   \n",
       "33   4,1                                 John Dirlam   \n",
       "34   6,4                                Doris Dörrie   \n",
       "35   4,9                                Simon Target   \n",
       "36   5,0                                 Joe D'Amato   \n",
       "37   6,3                           Sturla Gunnarsson   \n",
       "38   4,9                              Rafael Alcázar   \n",
       "39   2,3                            Douglas K. Grimm   \n",
       "40   3,6                               Greydon Clark   \n",
       "41   5,7                           (Wing-Chiu Chan,)   \n",
       "42   3,7                           Zbigniew Kaminski   \n",
       "43   6,4                                 Joe D'Amato   \n",
       "44   5,8                            Danny Vendramini   \n",
       "\n",
       "                                                    2  \\\n",
       "0                                      (Penny Allen,)   \n",
       "1           (Antonio Gonzalo, Jorge Martínez Reverte)   \n",
       "2       (Donald W. Thompson, Russell S. Doughten Jr.)   \n",
       "3        (Sanjeev Kumar, Reena Roy, Shatrughan Sinha)   \n",
       "4   (George Markstein, Michel Audiard, Claude Veil...   \n",
       "5                (Santiago Lapeira, Alberto Speratti)   \n",
       "6    (Cornell Woolrich, Patrick Laurent, Robin Davis)   \n",
       "7       (Elisa Briganti, Cesare Frugoni, Lucio Fulci)   \n",
       "8                                     (Miklós Vámos,)   \n",
       "9                    (Mario Amendola, Bruno Corbucci)   \n",
       "10                               (Jean van de Velde,)   \n",
       "11                                    (Jesús Franco,)   \n",
       "12                                  (Michael Farkas,)   \n",
       "13     (Alberto Bojórquez, Jaime Humberto Hermosillo)   \n",
       "14                      (Peter Haynes, Jorge Montesi)   \n",
       "15          (Luis Hercé, Bigas Luna, Enrique Viciano)   \n",
       "16                     (Paulus Manker, Franz Novotny)   \n",
       "17                        (Bernhard Rud, Daniel Zuta)   \n",
       "18                (Francesc Bellmunt, Ferran Torrent)   \n",
       "19              (Luc Béraud, Alain Jessua, André Lay)   \n",
       "20  (Detlef B. Blettenberg, Michael Kerwer, Christ...   \n",
       "21                                      (Mike Grady,)   \n",
       "22                            (Iain Roy, Chris Kelly)   \n",
       "23                                   (Chi-Ming Pang,)   \n",
       "24                      (Peter Yuval, Jeffrey Mandel)   \n",
       "25                                     (Anders Palm,)   \n",
       "26                                                      \n",
       "27                                   (George Putnam,)   \n",
       "28                      (Jakob Arjouni, Doris Dörrie)   \n",
       "29                        (Simon Target, Ross Wilson)   \n",
       "30                                 (Daniele Stroppa,)   \n",
       "31                                                      \n",
       "32         (Rafael Alcázar, Manuel Vázquez Montalbán)   \n",
       "33                                (Douglas K. Grimm,)   \n",
       "34                                    (David Reskin,)   \n",
       "35                 (Charles Haigh, Zbigniew Kaminski)   \n",
       "36                                 (Daniele Stroppa,)   \n",
       "37                                (Danny Vendramini,)   \n",
       "38                                                      \n",
       "39                           (Corey Michael Eubanks,)   \n",
       "40                                    (Richard Ryan,)   \n",
       "41                      (Michael Berlin, Eric Estrin)   \n",
       "42                      (Wai-Yee Fong, Kwong-Yam Yip)   \n",
       "43  (Jerry Lazarus, William H. Macy, Steven Schach...   \n",
       "44                     (Jack Tarpon, Richard Kletter)   \n",
       "\n",
       "                                                    3    4  \n",
       "0   En este thriller de bajo perfil, una comunidad...   95  \n",
       "1   Gálvez, protagonista de varias novelas del gén...   89  \n",
       "2   Tercera y más conocida entrada en la serie Mar...   93  \n",
       "3   Harimohan lives with his wife, Shanta, and a h...  156  \n",
       "4   Sébastien Grenier, a secret agent, eliminates ...   98  \n",
       "5   En 1925, el buscador de oro del Ártico Jack Mc...  130  \n",
       "6   Un grupo de delincuentes intenta apoderarse de...   94  \n",
       "7   After a train accident, a woman survives and i...  110  \n",
       "8   Berg es un joven piloto de acrobacias que aban...   90  \n",
       "9   In 2072 Rome, Italy, the ruthless CEO of a TV ...   94  \n",
       "10  A writer born in 1951 is abducted and accused ...   82  \n",
       "11  While keeping an eye on his small time crook b...  102  \n",
       "12                                                      95  \n",
       "13  A sheriff covers up a man's murder in a small ...   95  \n",
       "14  Una ingeniera, con la ayuda de su amigo aspira...   98  \n",
       "15  Thirty years after the original monster's ramp...   87  \n",
       "16  One woman and a detective are looking for lost...  101  \n",
       "17  A homicide detective finds himself being stalk...   80  \n",
       "18  Lola, una trabajadora de una fábrica, finalmen...  106  \n",
       "19  Un experto en efectos especiales es contratado...  109  \n",
       "20  Josef Schmutz is a custodian clerk given the t...  100  \n",
       "21  Un investigador federal rastrea a una mujer ma...  102  \n",
       "22                                                     100  \n",
       "23                                                      90  \n",
       "24  Paul Duchene, owner of a thriving enterprise, ...  100  \n",
       "25                                                     110  \n",
       "26  A beautiful young soap opera star is stalked a...   94  \n",
       "27  A veteran reporter is investigating the disapp...  108  \n",
       "28  A Hong Kong police detective investigating wea...   89  \n",
       "29  El objetivo: un almacén de misiles en Hanói. E...  115  \n",
       "30  When a Russian cyborg with telekinetic powers ...   88  \n",
       "31  A detective becomes obsessed with bringing a m...   90  \n",
       "32                                               None   90  \n",
       "33  A detective falls in love with the woman he is...   95  \n",
       "34  Kemal Kayankaya, a private detective, is hired...  109  \n",
       "35  While in prison, Jack had two momentous experi...   88  \n",
       "36  After leaving her husband, Ellen Foster encoun...   90  \n",
       "37                                               None   94  \n",
       "38  Two Frenchmen, Bernadette and Lebrum, arrive i...   96  \n",
       "39  A radio DJ helps two police detectives hunt do...   91  \n",
       "40  When Susan Dennison, an American woman traveli...   89  \n",
       "41  La Sra. Ng, queda temporalmente ciega después ...   88  \n",
       "42  An aspiring actress falls for her leading man ...  100  \n",
       "43  Young and beautiful, she moved into the lake h...   92  \n",
       "44  A prominent lawyer has an affair with a girl f...  107  "
      ]
     },
     "execution_count": 14,
     "metadata": {},
     "output_type": "execute_result"
    }
   ],
   "source": [
    "df_imdb_thriller = pd.DataFrame(imdb_thriller)\n",
    "df_imdb_thriller"
   ]
  },
  {
   "cell_type": "code",
   "execution_count": 15,
   "metadata": {},
   "outputs": [],
   "source": [
    "df_imdb_thriller.to_csv('Thriller_imdb.csv')"
   ]
  }
 ],
 "metadata": {
  "kernelspec": {
   "display_name": "Python 3",
   "language": "python",
   "name": "python3"
  },
  "language_info": {
   "codemirror_mode": {
    "name": "ipython",
    "version": 3
   },
   "file_extension": ".py",
   "mimetype": "text/x-python",
   "name": "python",
   "nbconvert_exporter": "python",
   "pygments_lexer": "ipython3",
   "version": "3.9.7"
  }
 },
 "nbformat": 4,
 "nbformat_minor": 2
}
