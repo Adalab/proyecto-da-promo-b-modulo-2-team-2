{
 "cells": [
  {
   "cell_type": "code",
   "execution_count": 1,
   "metadata": {},
   "outputs": [],
   "source": [
    "import pandas as pd\n",
    "from selenium import webdriver  # Selenium es una herramienta para automatizar la interacción con navegadores web.\n",
    "from webdriver_manager.chrome import ChromeDriverManager  # ChromeDriverManager gestiona la instalación del controlador de Chrome.\n",
    "from selenium.webdriver.common.keys import Keys  # Keys es útil para simular eventos de teclado en Selenium.\n",
    "from selenium.webdriver.support.ui import Select  # Select se utiliza para interactuar con elementos <select> en páginas web.\n",
    "from time import sleep\n",
    "from tqdm import tqdm"
   ]
  },
  {
   "cell_type": "code",
   "execution_count": 2,
   "metadata": {},
   "outputs": [
    {
     "name": "stdout",
     "output_type": "stream",
     "text": [
      "     Unnamed: 0    idOwner                          Title   Type  Year  Genre\n",
      "0             0  tt0075859        De draken van Bruce Lee  Movie  1980  Drama\n",
      "1             1  tt0075631       Acto dos Feitos da Guiné  Movie  1980  Drama\n",
      "2             2  tt0076043                      Fontamara  Movie  1980  Drama\n",
      "3             3  tt0076321                   Liu he ba fa  Movie  1980  Drama\n",
      "4             4  tt0076276                Ko to tamo peva  Movie  1980  Drama\n",
      "..          ...        ...                            ...    ...   ...    ...\n",
      "101         101  tt0102739         ¡Que vivan los crotos!  Movie  1995  Drama\n",
      "102         102  tt0105096                Paraíso Perdido  Movie  1995  Drama\n",
      "103         103  tt0105298                   Running Wild  Movie  1995  Drama\n",
      "104         104  tt0106616  Las cosas del querer 2ª parte  Movie  1995  Drama\n",
      "105         105  tt0107070                     Halbe Welt  Movie  1995  Drama\n",
      "\n",
      "[106 rows x 6 columns]\n",
      "['tt0075859', 'tt0075631', 'tt0076043', 'tt0076321', 'tt0076276', 'tt0077366', 'tt0062181', 'tt0067100', 'tt0075187', 'tt0077389', 'tt0076769', 'tt0077472', 'tt0077960', 'tt0078376', 'tt0077722', 'tt0078769', 'tt0078178', 'tt0079358', 'tt0079891', 'tt0079799', 'tt0080508', 'tt0080554', 'tt0036606', 'tt0057461', 'tt0065530', 'tt0077329', 'tt0079246', 'tt0080867', 'tt0080824', 'tt0082578', 'tt0071261', 'tt0080570', 'tt0081716', 'tt0082972', 'tt0083969', 'tt0084384', 'tt0084388', 'tt0082491', 'tt0083852', 'tt0075745', 'tt0084324', 'tt0085155', 'tt0085185', 'tt0085309', 'tt0067625', 'tt0086021', 'tt0085986', 'tt0086909', 'tt0087210', 'tt0087944', 'tt0067694', 'tt0076900', 'tt0084549', 'tt0084460', 'tt0085916', 'tt0086584', 'tt0086836', 'tt0072818', 'tt0082668', 'tt0088274', 'tt0090292', 'tt0065108', 'tt0083731', 'tt0084548', 'tt0087374', 'tt0088900', 'tt0089996', 'tt0089382', 'tt0091234', 'tt0059325', 'tt0059900', 'tt0065188', 'tt0068494', 'tt0075259', 'tt0081721', 'tt0090665', 'tt0093646', 'tt0077432', 'tt0084015', 'tt0092507', 'tt0094841', 'tt0094900', 'tt0095111', 'tt0082891', 'tt0084447', 'tt0095761', 'tt0096222', 'tt0097631', 'tt0099104', 'tt0099437', 'tt0099639', 'tt0015724', 'tt0081145', 'tt0084551', 'tt0091490', 'tt0095745', 'tt0097984', 'tt0099640', 'tt0099917', 'tt0099996', 'tt0100267', 'tt0102739', 'tt0105096', 'tt0105298', 'tt0106616', 'tt0107070']\n"
     ]
    }
   ],
   "source": [
    "df_drama = pd.read_csv(\"../FASE_API_1/Drama.csv\")\n",
    "\n",
    "print(df_drama)\n",
    "\n",
    "idOwner = []\n",
    "\n",
    "for i in df_drama[\"idOwner\"]:\n",
    "    idOwner.append(i)\n",
    "    \n",
    "\n",
    "print(idOwner)\n"
   ]
  },
  {
   "cell_type": "code",
   "execution_count": 9,
   "metadata": {},
   "outputs": [
    {
     "name": "stderr",
     "output_type": "stream",
     "text": [
      "  1%|          | 1/99 [00:14<22:52, 14.01s/it]"
     ]
    },
    {
     "name": "stdout",
     "output_type": "stream",
     "text": [
      "bucle 1 - i:  1  iniciando....\n",
      "bucle 1 - i:  1  finalizado....\n",
      "bucle 1 - i:  2  iniciando....\n",
      "bucle 1 EXCEPT - i:  2  finalizado....\n"
     ]
    },
    {
     "name": "stderr",
     "output_type": "stream",
     "text": [
      "  2%|▏         | 2/99 [00:30<24:52, 15.38s/it]"
     ]
    },
    {
     "name": "stdout",
     "output_type": "stream",
     "text": [
      "bucle 1 - i:  1  iniciando....\n",
      "bucle 1 EXCEPT - i:  1  finalizado....\n",
      "bucle 2 - i:  1  iniciando....\n",
      "bucle 2 EXCEPT - i:  1  fin....\n"
     ]
    },
    {
     "name": "stderr",
     "output_type": "stream",
     "text": [
      "  3%|▎         | 3/99 [00:49<27:30, 17.19s/it]"
     ]
    },
    {
     "name": "stdout",
     "output_type": "stream",
     "text": [
      "bucle 1 - i:  1  iniciando....\n",
      "bucle 1 EXCEPT - i:  1  finalizado....\n",
      "bucle 2 - i:  1  iniciando....\n",
      "bucle 2 - i:  1  fin....\n",
      "bucle 2 - i:  2  iniciando....\n",
      "bucle 2 EXCEPT - i:  2  fin....\n"
     ]
    },
    {
     "name": "stderr",
     "output_type": "stream",
     "text": [
      "  4%|▍         | 4/99 [00:58<21:50, 13.79s/it]"
     ]
    },
    {
     "name": "stdout",
     "output_type": "stream",
     "text": [
      "bucle 1 - i:  1  iniciando....\n",
      "bucle 1 EXCEPT - i:  1  finalizado....\n",
      "bucle 2 - i:  1  iniciando....\n",
      "bucle 2 EXCEPT - i:  1  fin....\n"
     ]
    },
    {
     "name": "stderr",
     "output_type": "stream",
     "text": [
      "  5%|▌         | 5/99 [01:07<19:09, 12.23s/it]"
     ]
    },
    {
     "name": "stdout",
     "output_type": "stream",
     "text": [
      "bucle 1 - i:  1  iniciando....\n",
      "bucle 1 EXCEPT - i:  1  finalizado....\n",
      "bucle 2 - i:  1  iniciando....\n",
      "bucle 2 - i:  1  fin....\n",
      "bucle 2 - i:  2  iniciando....\n",
      "bucle 2 - i:  2  fin....\n",
      "bucle 2 - i:  3  iniciando....\n",
      "bucle 2 - i:  3  fin....\n",
      "bucle 2 - i:  4  iniciando....\n",
      "bucle 2 EXCEPT - i:  4  fin....\n"
     ]
    },
    {
     "name": "stderr",
     "output_type": "stream",
     "text": [
      "  6%|▌         | 6/99 [01:17<17:39, 11.39s/it]"
     ]
    },
    {
     "name": "stdout",
     "output_type": "stream",
     "text": [
      "bucle 1 - i:  1  iniciando....\n",
      "bucle 1 EXCEPT - i:  1  finalizado....\n",
      "bucle 2 - i:  1  iniciando....\n",
      "bucle 2 - i:  1  fin....\n",
      "bucle 2 - i:  2  iniciando....\n",
      "bucle 2 - i:  2  fin....\n",
      "bucle 2 - i:  3  iniciando....\n",
      "bucle 2 EXCEPT - i:  3  fin....\n"
     ]
    },
    {
     "name": "stderr",
     "output_type": "stream",
     "text": [
      "  7%|▋         | 7/99 [01:26<16:21, 10.67s/it]"
     ]
    },
    {
     "name": "stdout",
     "output_type": "stream",
     "text": [
      "bucle 1 - i:  1  iniciando....\n",
      "bucle 1 EXCEPT - i:  1  finalizado....\n",
      "bucle 2 - i:  1  iniciando....\n",
      "bucle 2 - i:  1  fin....\n",
      "bucle 2 - i:  2  iniciando....\n",
      "bucle 2 - i:  2  fin....\n",
      "bucle 2 - i:  3  iniciando....\n",
      "bucle 2 - i:  3  fin....\n",
      "bucle 2 - i:  4  iniciando....\n",
      "bucle 2 EXCEPT - i:  4  fin....\n"
     ]
    },
    {
     "name": "stderr",
     "output_type": "stream",
     "text": [
      "  8%|▊         | 8/99 [01:36<15:35, 10.28s/it]"
     ]
    },
    {
     "name": "stdout",
     "output_type": "stream",
     "text": [
      "bucle 1 - i:  1  iniciando....\n",
      "bucle 1 EXCEPT - i:  1  finalizado....\n",
      "bucle 2 - i:  1  iniciando....\n",
      "bucle 2 - i:  1  fin....\n",
      "bucle 2 - i:  2  iniciando....\n",
      "bucle 2 - i:  2  fin....\n",
      "bucle 2 - i:  3  iniciando....\n",
      "bucle 2 - i:  3  fin....\n",
      "bucle 2 - i:  4  iniciando....\n",
      "bucle 2 EXCEPT - i:  4  fin....\n"
     ]
    },
    {
     "name": "stderr",
     "output_type": "stream",
     "text": [
      "  9%|▉         | 9/99 [01:44<14:38,  9.76s/it]"
     ]
    },
    {
     "name": "stdout",
     "output_type": "stream",
     "text": [
      "bucle 1 - i:  1  iniciando....\n",
      "bucle 1 EXCEPT - i:  1  finalizado....\n",
      "bucle 2 - i:  1  iniciando....\n",
      "bucle 2 - i:  1  fin....\n",
      "bucle 2 - i:  2  iniciando....\n",
      "bucle 2 - i:  2  fin....\n",
      "bucle 2 - i:  3  iniciando....\n",
      "bucle 2 EXCEPT - i:  3  fin....\n"
     ]
    },
    {
     "name": "stderr",
     "output_type": "stream",
     "text": [
      " 10%|█         | 10/99 [01:52<13:43,  9.25s/it]"
     ]
    },
    {
     "name": "stdout",
     "output_type": "stream",
     "text": [
      "bucle 1 - i:  1  iniciando....\n",
      "bucle 1 EXCEPT - i:  1  finalizado....\n",
      "bucle 2 - i:  1  iniciando....\n",
      "bucle 2 - i:  1  fin....\n",
      "bucle 2 - i:  2  iniciando....\n",
      "bucle 2 - i:  2  fin....\n",
      "bucle 2 - i:  3  iniciando....\n",
      "bucle 2 EXCEPT - i:  3  fin....\n"
     ]
    },
    {
     "name": "stderr",
     "output_type": "stream",
     "text": [
      " 11%|█         | 11/99 [02:00<13:02,  8.89s/it]"
     ]
    },
    {
     "name": "stdout",
     "output_type": "stream",
     "text": [
      "bucle 1 - i:  1  iniciando....\n",
      "bucle 1 EXCEPT - i:  1  finalizado....\n",
      "bucle 2 - i:  1  iniciando....\n",
      "bucle 2 - i:  1  fin....\n",
      "bucle 2 - i:  2  iniciando....\n",
      "bucle 2 EXCEPT - i:  2  fin....\n"
     ]
    },
    {
     "name": "stderr",
     "output_type": "stream",
     "text": [
      " 12%|█▏        | 12/99 [02:09<12:39,  8.73s/it]"
     ]
    },
    {
     "name": "stdout",
     "output_type": "stream",
     "text": [
      "bucle 1 - i:  1  iniciando....\n",
      "bucle 1 EXCEPT - i:  1  finalizado....\n",
      "bucle 2 - i:  1  iniciando....\n",
      "bucle 2 - i:  1  fin....\n",
      "bucle 2 - i:  2  iniciando....\n",
      "bucle 2 - i:  2  fin....\n",
      "bucle 2 - i:  3  iniciando....\n",
      "bucle 2 EXCEPT - i:  3  fin....\n"
     ]
    },
    {
     "name": "stderr",
     "output_type": "stream",
     "text": [
      " 13%|█▎        | 13/99 [02:17<12:17,  8.57s/it]"
     ]
    },
    {
     "name": "stdout",
     "output_type": "stream",
     "text": [
      "bucle 1 - i:  1  iniciando....\n",
      "bucle 1 EXCEPT - i:  1  finalizado....\n",
      "bucle 2 - i:  1  iniciando....\n",
      "bucle 2 - i:  1  fin....\n",
      "bucle 2 - i:  2  iniciando....\n",
      "bucle 2 EXCEPT - i:  2  fin....\n"
     ]
    },
    {
     "name": "stderr",
     "output_type": "stream",
     "text": [
      " 14%|█▍        | 14/99 [02:26<12:25,  8.77s/it]"
     ]
    },
    {
     "name": "stdout",
     "output_type": "stream",
     "text": [
      "bucle 1 - i:  1  iniciando....\n",
      "bucle 1 EXCEPT - i:  1  finalizado....\n",
      "bucle 2 - i:  1  iniciando....\n",
      "bucle 2 - i:  1  fin....\n",
      "bucle 2 - i:  2  iniciando....\n",
      "bucle 2 - i:  2  fin....\n",
      "bucle 2 - i:  3  iniciando....\n",
      "bucle 2 - i:  3  fin....\n",
      "bucle 2 - i:  4  iniciando....\n",
      "bucle 2 EXCEPT - i:  4  fin....\n"
     ]
    },
    {
     "name": "stderr",
     "output_type": "stream",
     "text": [
      " 15%|█▌        | 15/99 [02:36<12:36,  9.00s/it]"
     ]
    },
    {
     "name": "stdout",
     "output_type": "stream",
     "text": [
      "bucle 1 - i:  1  iniciando....\n",
      "bucle 1 - i:  1  finalizado....\n",
      "bucle 1 - i:  2  iniciando....\n",
      "bucle 1 EXCEPT - i:  2  finalizado....\n"
     ]
    },
    {
     "name": "stderr",
     "output_type": "stream",
     "text": [
      " 16%|█▌        | 16/99 [02:44<12:13,  8.84s/it]"
     ]
    },
    {
     "name": "stdout",
     "output_type": "stream",
     "text": [
      "bucle 1 - i:  1  iniciando....\n",
      "bucle 1 EXCEPT - i:  1  finalizado....\n",
      "bucle 2 - i:  1  iniciando....\n",
      "bucle 2 - i:  1  fin....\n",
      "bucle 2 - i:  2  iniciando....\n",
      "bucle 2 - i:  2  fin....\n",
      "bucle 2 - i:  3  iniciando....\n",
      "bucle 2 - i:  3  fin....\n",
      "bucle 2 - i:  4  iniciando....\n",
      "bucle 2 EXCEPT - i:  4  fin....\n"
     ]
    },
    {
     "name": "stderr",
     "output_type": "stream",
     "text": [
      " 17%|█▋        | 17/99 [02:52<11:46,  8.62s/it]"
     ]
    },
    {
     "name": "stdout",
     "output_type": "stream",
     "text": [
      "bucle 1 - i:  1  iniciando....\n",
      "bucle 1 EXCEPT - i:  1  finalizado....\n",
      "bucle 2 - i:  1  iniciando....\n",
      "bucle 2 - i:  1  fin....\n",
      "bucle 2 - i:  2  iniciando....\n",
      "bucle 2 - i:  2  fin....\n",
      "bucle 2 - i:  3  iniciando....\n",
      "bucle 2 - i:  3  fin....\n",
      "bucle 2 - i:  4  iniciando....\n",
      "bucle 2 EXCEPT - i:  4  fin....\n"
     ]
    },
    {
     "name": "stderr",
     "output_type": "stream",
     "text": [
      " 18%|█▊        | 18/99 [03:01<11:37,  8.61s/it]"
     ]
    },
    {
     "name": "stdout",
     "output_type": "stream",
     "text": [
      "bucle 1 - i:  1  iniciando....\n",
      "bucle 1 EXCEPT - i:  1  finalizado....\n",
      "bucle 2 - i:  1  iniciando....\n",
      "bucle 2 - i:  1  fin....\n",
      "bucle 2 - i:  2  iniciando....\n",
      "bucle 2 - i:  2  fin....\n",
      "bucle 2 - i:  3  iniciando....\n",
      "bucle 2 - i:  3  fin....\n",
      "bucle 2 - i:  4  iniciando....\n",
      "bucle 2 EXCEPT - i:  4  fin....\n"
     ]
    },
    {
     "name": "stderr",
     "output_type": "stream",
     "text": [
      " 19%|█▉        | 19/99 [03:09<11:16,  8.45s/it]"
     ]
    },
    {
     "name": "stdout",
     "output_type": "stream",
     "text": [
      "bucle 1 - i:  1  iniciando....\n",
      "bucle 1 EXCEPT - i:  1  finalizado....\n",
      "bucle 2 - i:  1  iniciando....\n",
      "bucle 2 - i:  1  fin....\n",
      "bucle 2 - i:  2  iniciando....\n",
      "bucle 2 - i:  2  fin....\n",
      "bucle 2 - i:  3  iniciando....\n",
      "bucle 2 EXCEPT - i:  3  fin....\n"
     ]
    },
    {
     "name": "stderr",
     "output_type": "stream",
     "text": [
      " 20%|██        | 20/99 [03:17<10:59,  8.35s/it]"
     ]
    },
    {
     "name": "stdout",
     "output_type": "stream",
     "text": [
      "bucle 1 - i:  1  iniciando....\n",
      "bucle 1 EXCEPT - i:  1  finalizado....\n",
      "bucle 2 - i:  1  iniciando....\n",
      "bucle 2 - i:  1  fin....\n",
      "bucle 2 - i:  2  iniciando....\n",
      "bucle 2 - i:  2  fin....\n",
      "bucle 2 - i:  3  iniciando....\n",
      "bucle 2 - i:  3  fin....\n",
      "bucle 2 - i:  4  iniciando....\n",
      "bucle 2 EXCEPT - i:  4  fin....\n"
     ]
    },
    {
     "name": "stderr",
     "output_type": "stream",
     "text": [
      " 21%|██        | 21/99 [03:26<11:04,  8.52s/it]"
     ]
    },
    {
     "name": "stdout",
     "output_type": "stream",
     "text": [
      "bucle 1 - i:  1  iniciando....\n",
      "bucle 1 - i:  1  finalizado....\n",
      "bucle 1 - i:  2  iniciando....\n",
      "bucle 1 EXCEPT - i:  2  finalizado....\n"
     ]
    },
    {
     "name": "stderr",
     "output_type": "stream",
     "text": [
      " 22%|██▏       | 22/99 [03:34<10:50,  8.45s/it]"
     ]
    },
    {
     "name": "stdout",
     "output_type": "stream",
     "text": [
      "bucle 1 - i:  1  iniciando....\n",
      "bucle 1 EXCEPT - i:  1  finalizado....\n",
      "bucle 2 - i:  1  iniciando....\n",
      "bucle 2 - i:  1  fin....\n",
      "bucle 2 - i:  2  iniciando....\n",
      "bucle 2 EXCEPT - i:  2  fin....\n"
     ]
    },
    {
     "name": "stderr",
     "output_type": "stream",
     "text": [
      " 23%|██▎       | 23/99 [03:42<10:31,  8.31s/it]"
     ]
    },
    {
     "name": "stdout",
     "output_type": "stream",
     "text": [
      "bucle 1 - i:  1  iniciando....\n",
      "bucle 1 EXCEPT - i:  1  finalizado....\n",
      "bucle 2 - i:  1  iniciando....\n",
      "bucle 2 - i:  1  fin....\n",
      "bucle 2 - i:  2  iniciando....\n",
      "bucle 2 - i:  2  fin....\n",
      "bucle 2 - i:  3  iniciando....\n",
      "bucle 2 EXCEPT - i:  3  fin....\n"
     ]
    },
    {
     "name": "stderr",
     "output_type": "stream",
     "text": [
      " 24%|██▍       | 24/99 [03:53<11:25,  9.14s/it]"
     ]
    },
    {
     "name": "stdout",
     "output_type": "stream",
     "text": [
      "bucle 1 - i:  1  iniciando....\n",
      "bucle 1 EXCEPT - i:  1  finalizado....\n",
      "bucle 2 - i:  1  iniciando....\n",
      "bucle 2 - i:  1  fin....\n",
      "bucle 2 - i:  2  iniciando....\n",
      "bucle 2 - i:  2  fin....\n",
      "bucle 2 - i:  3  iniciando....\n",
      "bucle 2 EXCEPT - i:  3  fin....\n"
     ]
    },
    {
     "name": "stderr",
     "output_type": "stream",
     "text": [
      " 25%|██▌       | 25/99 [04:02<11:00,  8.92s/it]"
     ]
    },
    {
     "name": "stdout",
     "output_type": "stream",
     "text": [
      "bucle 1 - i:  1  iniciando....\n",
      "bucle 1 EXCEPT - i:  1  finalizado....\n",
      "bucle 2 - i:  1  iniciando....\n",
      "bucle 2 - i:  1  fin....\n",
      "bucle 2 - i:  2  iniciando....\n",
      "bucle 2 EXCEPT - i:  2  fin....\n"
     ]
    },
    {
     "name": "stderr",
     "output_type": "stream",
     "text": [
      " 26%|██▋       | 26/99 [04:10<10:40,  8.77s/it]"
     ]
    },
    {
     "name": "stdout",
     "output_type": "stream",
     "text": [
      "bucle 1 - i:  1  iniciando....\n",
      "bucle 1 EXCEPT - i:  1  finalizado....\n",
      "bucle 2 - i:  1  iniciando....\n",
      "bucle 2 - i:  1  fin....\n",
      "bucle 2 - i:  2  iniciando....\n",
      "bucle 2 - i:  2  fin....\n",
      "bucle 2 - i:  3  iniciando....\n",
      "bucle 2 EXCEPT - i:  3  fin....\n"
     ]
    },
    {
     "name": "stderr",
     "output_type": "stream",
     "text": [
      " 27%|██▋       | 27/99 [04:18<10:08,  8.45s/it]"
     ]
    },
    {
     "name": "stdout",
     "output_type": "stream",
     "text": [
      "bucle 1 - i:  1  iniciando....\n",
      "bucle 1 EXCEPT - i:  1  finalizado....\n",
      "bucle 2 - i:  1  iniciando....\n",
      "bucle 2 - i:  1  fin....\n",
      "bucle 2 - i:  2  iniciando....\n",
      "bucle 2 - i:  2  fin....\n",
      "bucle 2 - i:  3  iniciando....\n",
      "bucle 2 EXCEPT - i:  3  fin....\n"
     ]
    },
    {
     "name": "stderr",
     "output_type": "stream",
     "text": [
      " 28%|██▊       | 28/99 [04:26<09:49,  8.30s/it]"
     ]
    },
    {
     "name": "stdout",
     "output_type": "stream",
     "text": [
      "bucle 1 - i:  1  iniciando....\n",
      "bucle 1 EXCEPT - i:  1  finalizado....\n",
      "bucle 2 - i:  1  iniciando....\n",
      "bucle 2 - i:  1  fin....\n",
      "bucle 2 - i:  2  iniciando....\n",
      "bucle 2 EXCEPT - i:  2  fin....\n"
     ]
    },
    {
     "name": "stderr",
     "output_type": "stream",
     "text": [
      " 29%|██▉       | 29/99 [04:33<09:24,  8.07s/it]"
     ]
    },
    {
     "name": "stdout",
     "output_type": "stream",
     "text": [
      "bucle 1 - i:  1  iniciando....\n",
      "bucle 1 EXCEPT - i:  1  finalizado....\n",
      "bucle 2 - i:  1  iniciando....\n",
      "bucle 2 EXCEPT - i:  1  fin....\n"
     ]
    },
    {
     "name": "stderr",
     "output_type": "stream",
     "text": [
      " 30%|███       | 30/99 [04:43<09:52,  8.58s/it]"
     ]
    },
    {
     "name": "stdout",
     "output_type": "stream",
     "text": [
      "bucle 1 - i:  1  iniciando....\n",
      "bucle 1 - i:  1  finalizado....\n",
      "bucle 1 - i:  2  iniciando....\n",
      "bucle 1 EXCEPT - i:  2  finalizado....\n"
     ]
    },
    {
     "name": "stderr",
     "output_type": "stream",
     "text": [
      " 31%|███▏      | 31/99 [04:51<09:20,  8.24s/it]"
     ]
    },
    {
     "name": "stdout",
     "output_type": "stream",
     "text": [
      "bucle 1 - i:  1  iniciando....\n",
      "bucle 1 EXCEPT - i:  1  finalizado....\n",
      "bucle 2 - i:  1  iniciando....\n",
      "bucle 2 - i:  1  fin....\n",
      "bucle 2 - i:  2  iniciando....\n",
      "bucle 2 - i:  2  fin....\n",
      "bucle 2 - i:  3  iniciando....\n",
      "bucle 2 EXCEPT - i:  3  fin....\n"
     ]
    },
    {
     "name": "stderr",
     "output_type": "stream",
     "text": [
      " 32%|███▏      | 32/99 [04:59<09:16,  8.30s/it]"
     ]
    },
    {
     "name": "stdout",
     "output_type": "stream",
     "text": [
      "bucle 1 - i:  1  iniciando....\n",
      "bucle 1 EXCEPT - i:  1  finalizado....\n",
      "bucle 2 - i:  1  iniciando....\n",
      "bucle 2 - i:  1  fin....\n",
      "bucle 2 - i:  2  iniciando....\n",
      "bucle 2 EXCEPT - i:  2  fin....\n"
     ]
    },
    {
     "name": "stderr",
     "output_type": "stream",
     "text": [
      " 33%|███▎      | 33/99 [05:08<09:12,  8.37s/it]"
     ]
    },
    {
     "name": "stdout",
     "output_type": "stream",
     "text": [
      "bucle 1 - i:  1  iniciando....\n",
      "bucle 1 EXCEPT - i:  1  finalizado....\n",
      "bucle 2 - i:  1  iniciando....\n",
      "bucle 2 - i:  1  fin....\n",
      "bucle 2 - i:  2  iniciando....\n",
      "bucle 2 EXCEPT - i:  2  fin....\n"
     ]
    },
    {
     "name": "stderr",
     "output_type": "stream",
     "text": [
      " 34%|███▍      | 34/99 [05:17<09:15,  8.54s/it]"
     ]
    },
    {
     "name": "stdout",
     "output_type": "stream",
     "text": [
      "bucle 1 - i:  1  iniciando....\n",
      "bucle 1 EXCEPT - i:  1  finalizado....\n",
      "bucle 2 - i:  1  iniciando....\n",
      "bucle 2 - i:  1  fin....\n",
      "bucle 2 - i:  2  iniciando....\n",
      "bucle 2 EXCEPT - i:  2  fin....\n"
     ]
    },
    {
     "name": "stderr",
     "output_type": "stream",
     "text": [
      " 35%|███▌      | 35/99 [05:25<08:59,  8.43s/it]"
     ]
    },
    {
     "name": "stdout",
     "output_type": "stream",
     "text": [
      "bucle 1 - i:  1  iniciando....\n",
      "bucle 1 EXCEPT - i:  1  finalizado....\n",
      "bucle 2 - i:  1  iniciando....\n",
      "bucle 2 - i:  1  fin....\n",
      "bucle 2 - i:  2  iniciando....\n",
      "bucle 2 - i:  2  fin....\n",
      "bucle 2 - i:  3  iniciando....\n",
      "bucle 2 - i:  3  fin....\n",
      "bucle 2 - i:  4  iniciando....\n",
      "bucle 2 EXCEPT - i:  4  fin....\n"
     ]
    },
    {
     "name": "stderr",
     "output_type": "stream",
     "text": [
      " 36%|███▋      | 36/99 [05:33<08:52,  8.45s/it]"
     ]
    },
    {
     "name": "stdout",
     "output_type": "stream",
     "text": [
      "bucle 1 - i:  1  iniciando....\n",
      "bucle 1 EXCEPT - i:  1  finalizado....\n",
      "bucle 2 - i:  1  iniciando....\n",
      "bucle 2 - i:  1  fin....\n",
      "bucle 2 - i:  2  iniciando....\n",
      "bucle 2 EXCEPT - i:  2  fin....\n"
     ]
    },
    {
     "name": "stderr",
     "output_type": "stream",
     "text": [
      " 37%|███▋      | 37/99 [05:42<08:59,  8.71s/it]"
     ]
    },
    {
     "name": "stdout",
     "output_type": "stream",
     "text": [
      "bucle 1 - i:  1  iniciando....\n",
      "bucle 1 EXCEPT - i:  1  finalizado....\n",
      "bucle 2 - i:  1  iniciando....\n",
      "bucle 2 - i:  1  fin....\n",
      "bucle 2 - i:  2  iniciando....\n",
      "bucle 2 - i:  2  fin....\n",
      "bucle 2 - i:  3  iniciando....\n",
      "bucle 2 EXCEPT - i:  3  fin....\n"
     ]
    },
    {
     "name": "stderr",
     "output_type": "stream",
     "text": [
      " 38%|███▊      | 38/99 [05:52<09:00,  8.86s/it]"
     ]
    },
    {
     "name": "stdout",
     "output_type": "stream",
     "text": [
      "bucle 1 - i:  1  iniciando....\n",
      "bucle 1 EXCEPT - i:  1  finalizado....\n",
      "bucle 2 - i:  1  iniciando....\n",
      "bucle 2 - i:  1  fin....\n",
      "bucle 2 - i:  2  iniciando....\n",
      "bucle 2 - i:  2  fin....\n",
      "bucle 2 - i:  3  iniciando....\n",
      "bucle 2 EXCEPT - i:  3  fin....\n"
     ]
    },
    {
     "name": "stderr",
     "output_type": "stream",
     "text": [
      " 39%|███▉      | 39/99 [06:00<08:49,  8.82s/it]"
     ]
    },
    {
     "name": "stdout",
     "output_type": "stream",
     "text": [
      "bucle 1 - i:  1  iniciando....\n",
      "bucle 1 EXCEPT - i:  1  finalizado....\n",
      "bucle 2 - i:  1  iniciando....\n",
      "bucle 2 - i:  1  fin....\n",
      "bucle 2 - i:  2  iniciando....\n",
      "bucle 2 - i:  2  fin....\n",
      "bucle 2 - i:  3  iniciando....\n",
      "bucle 2 EXCEPT - i:  3  fin....\n"
     ]
    },
    {
     "name": "stderr",
     "output_type": "stream",
     "text": [
      " 40%|████      | 40/99 [06:12<09:34,  9.74s/it]"
     ]
    },
    {
     "name": "stdout",
     "output_type": "stream",
     "text": [
      "bucle 1 - i:  1  iniciando....\n",
      "bucle 1 EXCEPT - i:  1  finalizado....\n",
      "bucle 2 - i:  1  iniciando....\n",
      "bucle 2 EXCEPT - i:  1  fin....\n"
     ]
    },
    {
     "name": "stderr",
     "output_type": "stream",
     "text": [
      " 41%|████▏     | 41/99 [06:21<09:06,  9.43s/it]"
     ]
    },
    {
     "name": "stdout",
     "output_type": "stream",
     "text": [
      "bucle 1 - i:  1  iniciando....\n",
      "bucle 1 EXCEPT - i:  1  finalizado....\n",
      "bucle 2 - i:  1  iniciando....\n",
      "bucle 2 - i:  1  fin....\n",
      "bucle 2 - i:  2  iniciando....\n",
      "bucle 2 - i:  2  fin....\n",
      "bucle 2 - i:  3  iniciando....\n",
      "bucle 2 - i:  3  fin....\n",
      "bucle 2 - i:  4  iniciando....\n",
      "bucle 2 EXCEPT - i:  4  fin....\n"
     ]
    },
    {
     "name": "stderr",
     "output_type": "stream",
     "text": [
      " 42%|████▏     | 42/99 [06:29<08:38,  9.10s/it]"
     ]
    },
    {
     "name": "stdout",
     "output_type": "stream",
     "text": [
      "bucle 1 - i:  1  iniciando....\n",
      "bucle 1 EXCEPT - i:  1  finalizado....\n",
      "bucle 2 - i:  1  iniciando....\n",
      "bucle 2 - i:  1  fin....\n",
      "bucle 2 - i:  2  iniciando....\n",
      "bucle 2 - i:  2  fin....\n",
      "bucle 2 - i:  3  iniciando....\n",
      "bucle 2 EXCEPT - i:  3  fin....\n"
     ]
    },
    {
     "name": "stderr",
     "output_type": "stream",
     "text": [
      " 43%|████▎     | 43/99 [06:38<08:25,  9.02s/it]"
     ]
    },
    {
     "name": "stdout",
     "output_type": "stream",
     "text": [
      "bucle 1 - i:  1  iniciando....\n",
      "bucle 1 EXCEPT - i:  1  finalizado....\n",
      "bucle 2 - i:  1  iniciando....\n",
      "bucle 2 - i:  1  fin....\n",
      "bucle 2 - i:  2  iniciando....\n",
      "bucle 2 - i:  2  fin....\n",
      "bucle 2 - i:  3  iniciando....\n",
      "bucle 2 EXCEPT - i:  3  fin....\n"
     ]
    },
    {
     "name": "stderr",
     "output_type": "stream",
     "text": [
      " 44%|████▍     | 44/99 [06:47<08:06,  8.85s/it]"
     ]
    },
    {
     "name": "stdout",
     "output_type": "stream",
     "text": [
      "bucle 1 - i:  1  iniciando....\n",
      "bucle 1 EXCEPT - i:  1  finalizado....\n",
      "bucle 2 - i:  1  iniciando....\n",
      "bucle 2 - i:  1  fin....\n",
      "bucle 2 - i:  2  iniciando....\n",
      "bucle 2 - i:  2  fin....\n",
      "bucle 2 - i:  3  iniciando....\n",
      "bucle 2 - i:  3  fin....\n",
      "bucle 2 - i:  4  iniciando....\n",
      "bucle 2 EXCEPT - i:  4  fin....\n"
     ]
    },
    {
     "name": "stderr",
     "output_type": "stream",
     "text": [
      " 45%|████▌     | 45/99 [06:55<07:42,  8.57s/it]"
     ]
    },
    {
     "name": "stdout",
     "output_type": "stream",
     "text": [
      "bucle 1 - i:  1  iniciando....\n",
      "bucle 1 EXCEPT - i:  1  finalizado....\n",
      "bucle 2 - i:  1  iniciando....\n",
      "bucle 2 - i:  1  fin....\n",
      "bucle 2 - i:  2  iniciando....\n",
      "bucle 2 EXCEPT - i:  2  fin....\n"
     ]
    },
    {
     "name": "stderr",
     "output_type": "stream",
     "text": [
      " 46%|████▋     | 46/99 [07:03<07:38,  8.64s/it]"
     ]
    },
    {
     "name": "stdout",
     "output_type": "stream",
     "text": [
      "bucle 1 - i:  1  iniciando....\n",
      "bucle 1 - i:  1  finalizado....\n",
      "bucle 1 - i:  2  iniciando....\n",
      "bucle 1 EXCEPT - i:  2  finalizado....\n"
     ]
    },
    {
     "name": "stderr",
     "output_type": "stream",
     "text": [
      " 47%|████▋     | 47/99 [07:12<07:29,  8.64s/it]"
     ]
    },
    {
     "name": "stdout",
     "output_type": "stream",
     "text": [
      "bucle 1 - i:  1  iniciando....\n",
      "bucle 1 EXCEPT - i:  1  finalizado....\n",
      "bucle 2 - i:  1  iniciando....\n",
      "bucle 2 - i:  1  fin....\n",
      "bucle 2 - i:  2  iniciando....\n",
      "bucle 2 EXCEPT - i:  2  fin....\n"
     ]
    },
    {
     "name": "stderr",
     "output_type": "stream",
     "text": [
      " 48%|████▊     | 48/99 [07:21<07:24,  8.72s/it]"
     ]
    },
    {
     "name": "stdout",
     "output_type": "stream",
     "text": [
      "bucle 1 - i:  1  iniciando....\n",
      "bucle 1 EXCEPT - i:  1  finalizado....\n",
      "bucle 2 - i:  1  iniciando....\n",
      "bucle 2 - i:  1  fin....\n",
      "bucle 2 - i:  2  iniciando....\n",
      "bucle 2 - i:  2  fin....\n",
      "bucle 2 - i:  3  iniciando....\n",
      "bucle 2 EXCEPT - i:  3  fin....\n"
     ]
    },
    {
     "name": "stderr",
     "output_type": "stream",
     "text": [
      " 49%|████▉     | 49/99 [07:30<07:14,  8.69s/it]"
     ]
    },
    {
     "name": "stdout",
     "output_type": "stream",
     "text": [
      "bucle 1 - i:  1  iniciando....\n",
      "bucle 1 EXCEPT - i:  1  finalizado....\n",
      "bucle 2 - i:  1  iniciando....\n",
      "bucle 2 - i:  1  fin....\n",
      "bucle 2 - i:  2  iniciando....\n",
      "bucle 2 - i:  2  fin....\n",
      "bucle 2 - i:  3  iniciando....\n",
      "bucle 2 - i:  3  fin....\n",
      "bucle 2 - i:  4  iniciando....\n",
      "bucle 2 EXCEPT - i:  4  fin....\n"
     ]
    },
    {
     "name": "stderr",
     "output_type": "stream",
     "text": [
      " 51%|█████     | 50/99 [07:38<06:56,  8.50s/it]"
     ]
    },
    {
     "name": "stdout",
     "output_type": "stream",
     "text": [
      "bucle 1 - i:  1  iniciando....\n",
      "bucle 1 EXCEPT - i:  1  finalizado....\n",
      "bucle 2 - i:  1  iniciando....\n",
      "bucle 2 - i:  1  fin....\n",
      "bucle 2 - i:  2  iniciando....\n",
      "bucle 2 - i:  2  fin....\n",
      "bucle 2 - i:  3  iniciando....\n",
      "bucle 2 - i:  3  fin....\n",
      "bucle 2 - i:  4  iniciando....\n",
      "bucle 2 EXCEPT - i:  4  fin....\n"
     ]
    },
    {
     "name": "stderr",
     "output_type": "stream",
     "text": [
      " 52%|█████▏    | 51/99 [07:46<06:40,  8.35s/it]"
     ]
    },
    {
     "name": "stdout",
     "output_type": "stream",
     "text": [
      "bucle 1 - i:  1  iniciando....\n",
      "bucle 1 EXCEPT - i:  1  finalizado....\n",
      "bucle 2 - i:  1  iniciando....\n",
      "bucle 2 - i:  1  fin....\n",
      "bucle 2 - i:  2  iniciando....\n",
      "bucle 2 - i:  2  fin....\n",
      "bucle 2 - i:  3  iniciando....\n",
      "bucle 2 - i:  3  fin....\n",
      "bucle 2 - i:  4  iniciando....\n",
      "bucle 2 EXCEPT - i:  4  fin....\n"
     ]
    },
    {
     "name": "stderr",
     "output_type": "stream",
     "text": [
      " 53%|█████▎    | 52/99 [07:54<06:34,  8.38s/it]"
     ]
    },
    {
     "name": "stdout",
     "output_type": "stream",
     "text": [
      "bucle 1 - i:  1  iniciando....\n",
      "bucle 1 EXCEPT - i:  1  finalizado....\n",
      "bucle 2 - i:  1  iniciando....\n",
      "bucle 2 - i:  1  fin....\n",
      "bucle 2 - i:  2  iniciando....\n",
      "bucle 2 EXCEPT - i:  2  fin....\n"
     ]
    },
    {
     "name": "stderr",
     "output_type": "stream",
     "text": [
      " 54%|█████▎    | 53/99 [08:02<06:24,  8.35s/it]"
     ]
    },
    {
     "name": "stdout",
     "output_type": "stream",
     "text": [
      "bucle 1 - i:  1  iniciando....\n",
      "bucle 1 EXCEPT - i:  1  finalizado....\n",
      "bucle 2 - i:  1  iniciando....\n",
      "bucle 2 - i:  1  fin....\n",
      "bucle 2 - i:  2  iniciando....\n",
      "bucle 2 EXCEPT - i:  2  fin....\n"
     ]
    },
    {
     "name": "stderr",
     "output_type": "stream",
     "text": [
      " 55%|█████▍    | 54/99 [08:11<06:19,  8.43s/it]"
     ]
    },
    {
     "name": "stdout",
     "output_type": "stream",
     "text": [
      "bucle 1 - i:  1  iniciando....\n",
      "bucle 1 EXCEPT - i:  1  finalizado....\n",
      "bucle 2 - i:  1  iniciando....\n",
      "bucle 2 - i:  1  fin....\n",
      "bucle 2 - i:  2  iniciando....\n",
      "bucle 2 EXCEPT - i:  2  fin....\n"
     ]
    },
    {
     "name": "stderr",
     "output_type": "stream",
     "text": [
      " 56%|█████▌    | 55/99 [08:19<06:05,  8.31s/it]"
     ]
    },
    {
     "name": "stdout",
     "output_type": "stream",
     "text": [
      "bucle 1 - i:  1  iniciando....\n",
      "bucle 1 EXCEPT - i:  1  finalizado....\n",
      "bucle 2 - i:  1  iniciando....\n",
      "bucle 2 - i:  1  fin....\n",
      "bucle 2 - i:  2  iniciando....\n",
      "bucle 2 EXCEPT - i:  2  fin....\n"
     ]
    },
    {
     "name": "stderr",
     "output_type": "stream",
     "text": [
      " 57%|█████▋    | 56/99 [08:28<06:12,  8.66s/it]"
     ]
    },
    {
     "name": "stdout",
     "output_type": "stream",
     "text": [
      "bucle 1 - i:  1  iniciando....\n",
      "bucle 1 - i:  1  finalizado....\n",
      "bucle 1 - i:  2  iniciando....\n",
      "bucle 1 - i:  2  finalizado....\n",
      "bucle 1 - i:  3  iniciando....\n",
      "bucle 1 EXCEPT - i:  3  finalizado....\n"
     ]
    },
    {
     "name": "stderr",
     "output_type": "stream",
     "text": [
      " 58%|█████▊    | 57/99 [08:37<06:01,  8.61s/it]"
     ]
    },
    {
     "name": "stdout",
     "output_type": "stream",
     "text": [
      "bucle 1 - i:  1  iniciando....\n",
      "bucle 1 EXCEPT - i:  1  finalizado....\n",
      "bucle 2 - i:  1  iniciando....\n",
      "bucle 2 - i:  1  fin....\n",
      "bucle 2 - i:  2  iniciando....\n",
      "bucle 2 - i:  2  fin....\n",
      "bucle 2 - i:  3  iniciando....\n",
      "bucle 2 EXCEPT - i:  3  fin....\n"
     ]
    },
    {
     "name": "stderr",
     "output_type": "stream",
     "text": [
      " 59%|█████▊    | 58/99 [08:46<05:53,  8.61s/it]"
     ]
    },
    {
     "name": "stdout",
     "output_type": "stream",
     "text": [
      "bucle 1 - i:  1  iniciando....\n",
      "bucle 1 EXCEPT - i:  1  finalizado....\n",
      "bucle 2 - i:  1  iniciando....\n",
      "bucle 2 - i:  1  fin....\n",
      "bucle 2 - i:  2  iniciando....\n",
      "bucle 2 EXCEPT - i:  2  fin....\n"
     ]
    },
    {
     "name": "stderr",
     "output_type": "stream",
     "text": [
      " 60%|█████▉    | 59/99 [08:55<05:51,  8.78s/it]"
     ]
    },
    {
     "name": "stdout",
     "output_type": "stream",
     "text": [
      "bucle 1 - i:  1  iniciando....\n",
      "bucle 1 EXCEPT - i:  1  finalizado....\n",
      "bucle 2 - i:  1  iniciando....\n",
      "bucle 2 - i:  1  fin....\n",
      "bucle 2 - i:  2  iniciando....\n",
      "bucle 2 - i:  2  fin....\n",
      "bucle 2 - i:  3  iniciando....\n",
      "bucle 2 - i:  3  fin....\n",
      "bucle 2 - i:  4  iniciando....\n",
      "bucle 2 EXCEPT - i:  4  fin....\n"
     ]
    },
    {
     "name": "stderr",
     "output_type": "stream",
     "text": [
      " 61%|██████    | 60/99 [09:03<05:32,  8.53s/it]"
     ]
    },
    {
     "name": "stdout",
     "output_type": "stream",
     "text": [
      "bucle 1 - i:  1  iniciando....\n",
      "bucle 1 EXCEPT - i:  1  finalizado....\n",
      "bucle 2 - i:  1  iniciando....\n",
      "bucle 2 - i:  1  fin....\n",
      "bucle 2 - i:  2  iniciando....\n",
      "bucle 2 - i:  2  fin....\n",
      "bucle 2 - i:  3  iniciando....\n",
      "bucle 2 EXCEPT - i:  3  fin....\n"
     ]
    },
    {
     "name": "stderr",
     "output_type": "stream",
     "text": [
      " 62%|██████▏   | 61/99 [09:12<05:29,  8.66s/it]"
     ]
    },
    {
     "name": "stdout",
     "output_type": "stream",
     "text": [
      "bucle 1 - i:  1  iniciando....\n",
      "bucle 1 EXCEPT - i:  1  finalizado....\n",
      "bucle 2 - i:  1  iniciando....\n",
      "bucle 2 - i:  1  fin....\n",
      "bucle 2 - i:  2  iniciando....\n",
      "bucle 2 EXCEPT - i:  2  fin....\n"
     ]
    },
    {
     "name": "stderr",
     "output_type": "stream",
     "text": [
      " 63%|██████▎   | 62/99 [09:20<05:16,  8.54s/it]"
     ]
    },
    {
     "name": "stdout",
     "output_type": "stream",
     "text": [
      "bucle 1 - i:  1  iniciando....\n",
      "bucle 1 EXCEPT - i:  1  finalizado....\n",
      "bucle 2 - i:  1  iniciando....\n",
      "bucle 2 - i:  1  fin....\n",
      "bucle 2 - i:  2  iniciando....\n",
      "bucle 2 - i:  2  fin....\n",
      "bucle 2 - i:  3  iniciando....\n",
      "bucle 2 - i:  3  fin....\n",
      "bucle 2 - i:  4  iniciando....\n",
      "bucle 2 EXCEPT - i:  4  fin....\n"
     ]
    },
    {
     "name": "stderr",
     "output_type": "stream",
     "text": [
      " 64%|██████▎   | 63/99 [09:28<05:07,  8.53s/it]"
     ]
    },
    {
     "name": "stdout",
     "output_type": "stream",
     "text": [
      "bucle 1 - i:  1  iniciando....\n",
      "bucle 1 EXCEPT - i:  1  finalizado....\n",
      "bucle 2 - i:  1  iniciando....\n",
      "bucle 2 - i:  1  fin....\n",
      "bucle 2 - i:  2  iniciando....\n",
      "bucle 2 - i:  2  fin....\n",
      "bucle 2 - i:  3  iniciando....\n",
      "bucle 2 EXCEPT - i:  3  fin....\n"
     ]
    },
    {
     "name": "stderr",
     "output_type": "stream",
     "text": [
      " 65%|██████▍   | 64/99 [09:37<04:58,  8.53s/it]"
     ]
    },
    {
     "name": "stdout",
     "output_type": "stream",
     "text": [
      "bucle 1 - i:  1  iniciando....\n",
      "bucle 1 EXCEPT - i:  1  finalizado....\n",
      "bucle 2 - i:  1  iniciando....\n",
      "bucle 2 - i:  1  fin....\n",
      "bucle 2 - i:  2  iniciando....\n",
      "bucle 2 - i:  2  fin....\n",
      "bucle 2 - i:  3  iniciando....\n",
      "bucle 2 EXCEPT - i:  3  fin....\n"
     ]
    },
    {
     "name": "stderr",
     "output_type": "stream",
     "text": [
      " 66%|██████▌   | 65/99 [09:45<04:47,  8.44s/it]"
     ]
    },
    {
     "name": "stdout",
     "output_type": "stream",
     "text": [
      "bucle 1 - i:  1  iniciando....\n",
      "bucle 1 EXCEPT - i:  1  finalizado....\n",
      "bucle 2 - i:  1  iniciando....\n",
      "bucle 2 EXCEPT - i:  1  fin....\n"
     ]
    },
    {
     "name": "stderr",
     "output_type": "stream",
     "text": [
      " 67%|██████▋   | 66/99 [09:53<04:35,  8.35s/it]"
     ]
    },
    {
     "name": "stdout",
     "output_type": "stream",
     "text": [
      "bucle 1 - i:  1  iniciando....\n",
      "bucle 1 EXCEPT - i:  1  finalizado....\n",
      "bucle 2 - i:  1  iniciando....\n",
      "bucle 2 - i:  1  fin....\n",
      "bucle 2 - i:  2  iniciando....\n",
      "bucle 2 EXCEPT - i:  2  fin....\n"
     ]
    },
    {
     "name": "stderr",
     "output_type": "stream",
     "text": [
      " 68%|██████▊   | 67/99 [10:02<04:30,  8.45s/it]"
     ]
    },
    {
     "name": "stdout",
     "output_type": "stream",
     "text": [
      "bucle 1 - i:  1  iniciando....\n",
      "bucle 1 EXCEPT - i:  1  finalizado....\n",
      "bucle 2 - i:  1  iniciando....\n",
      "bucle 2 - i:  1  fin....\n",
      "bucle 2 - i:  2  iniciando....\n",
      "bucle 2 EXCEPT - i:  2  fin....\n"
     ]
    },
    {
     "name": "stderr",
     "output_type": "stream",
     "text": [
      " 69%|██████▊   | 68/99 [10:10<04:20,  8.40s/it]"
     ]
    },
    {
     "name": "stdout",
     "output_type": "stream",
     "text": [
      "bucle 1 - i:  1  iniciando....\n",
      "bucle 1 EXCEPT - i:  1  finalizado....\n",
      "bucle 2 - i:  1  iniciando....\n",
      "bucle 2 - i:  1  fin....\n",
      "bucle 2 - i:  2  iniciando....\n",
      "bucle 2 EXCEPT - i:  2  fin....\n"
     ]
    },
    {
     "name": "stderr",
     "output_type": "stream",
     "text": [
      " 70%|██████▉   | 69/99 [10:19<04:16,  8.55s/it]"
     ]
    },
    {
     "name": "stdout",
     "output_type": "stream",
     "text": [
      "bucle 1 - i:  1  iniciando....\n",
      "bucle 1 EXCEPT - i:  1  finalizado....\n",
      "bucle 2 - i:  1  iniciando....\n",
      "bucle 2 - i:  1  fin....\n",
      "bucle 2 - i:  2  iniciando....\n",
      "bucle 2 - i:  2  fin....\n",
      "bucle 2 - i:  3  iniciando....\n",
      "bucle 2 - i:  3  fin....\n",
      "bucle 2 - i:  4  iniciando....\n",
      "bucle 2 EXCEPT - i:  4  fin....\n"
     ]
    },
    {
     "name": "stderr",
     "output_type": "stream",
     "text": [
      " 71%|███████   | 70/99 [10:27<04:04,  8.43s/it]"
     ]
    },
    {
     "name": "stdout",
     "output_type": "stream",
     "text": [
      "bucle 1 - i:  1  iniciando....\n",
      "bucle 1 EXCEPT - i:  1  finalizado....\n",
      "bucle 2 - i:  1  iniciando....\n",
      "bucle 2 EXCEPT - i:  1  fin....\n"
     ]
    },
    {
     "name": "stderr",
     "output_type": "stream",
     "text": [
      " 72%|███████▏  | 71/99 [10:35<03:51,  8.28s/it]"
     ]
    },
    {
     "name": "stdout",
     "output_type": "stream",
     "text": [
      "bucle 1 - i:  1  iniciando....\n",
      "bucle 1 EXCEPT - i:  1  finalizado....\n",
      "bucle 2 - i:  1  iniciando....\n",
      "bucle 2 - i:  1  fin....\n",
      "bucle 2 - i:  2  iniciando....\n",
      "bucle 2 - i:  2  fin....\n",
      "bucle 2 - i:  3  iniciando....\n",
      "bucle 2 EXCEPT - i:  3  fin....\n"
     ]
    },
    {
     "name": "stderr",
     "output_type": "stream",
     "text": [
      " 73%|███████▎  | 72/99 [10:44<03:44,  8.32s/it]"
     ]
    },
    {
     "name": "stdout",
     "output_type": "stream",
     "text": [
      "bucle 1 - i:  1  iniciando....\n",
      "bucle 1 EXCEPT - i:  1  finalizado....\n",
      "bucle 2 - i:  1  iniciando....\n",
      "bucle 2 - i:  1  fin....\n",
      "bucle 2 - i:  2  iniciando....\n",
      "bucle 2 - i:  2  fin....\n",
      "bucle 2 - i:  3  iniciando....\n",
      "bucle 2 EXCEPT - i:  3  fin....\n"
     ]
    },
    {
     "name": "stderr",
     "output_type": "stream",
     "text": [
      " 74%|███████▎  | 73/99 [10:52<03:37,  8.36s/it]"
     ]
    },
    {
     "name": "stdout",
     "output_type": "stream",
     "text": [
      "bucle 1 - i:  1  iniciando....\n",
      "bucle 1 EXCEPT - i:  1  finalizado....\n",
      "bucle 2 - i:  1  iniciando....\n",
      "bucle 2 - i:  1  fin....\n",
      "bucle 2 - i:  2  iniciando....\n",
      "bucle 2 - i:  2  fin....\n",
      "bucle 2 - i:  3  iniciando....\n",
      "bucle 2 - i:  3  fin....\n",
      "bucle 2 - i:  4  iniciando....\n",
      "bucle 2 EXCEPT - i:  4  fin....\n"
     ]
    },
    {
     "name": "stderr",
     "output_type": "stream",
     "text": [
      " 75%|███████▍  | 74/99 [11:01<03:30,  8.41s/it]"
     ]
    },
    {
     "name": "stdout",
     "output_type": "stream",
     "text": [
      "bucle 1 - i:  1  iniciando....\n",
      "bucle 1 EXCEPT - i:  1  finalizado....\n",
      "bucle 2 - i:  1  iniciando....\n",
      "bucle 2 - i:  1  fin....\n",
      "bucle 2 - i:  2  iniciando....\n",
      "bucle 2 - i:  2  fin....\n",
      "bucle 2 - i:  3  iniciando....\n",
      "bucle 2 - i:  3  fin....\n",
      "bucle 2 - i:  4  iniciando....\n",
      "bucle 2 EXCEPT - i:  4  fin....\n"
     ]
    },
    {
     "name": "stderr",
     "output_type": "stream",
     "text": [
      " 76%|███████▌  | 75/99 [11:09<03:23,  8.47s/it]"
     ]
    },
    {
     "name": "stdout",
     "output_type": "stream",
     "text": [
      "bucle 1 - i:  1  iniciando....\n",
      "bucle 1 EXCEPT - i:  1  finalizado....\n",
      "bucle 2 - i:  1  iniciando....\n",
      "bucle 2 - i:  1  fin....\n",
      "bucle 2 - i:  2  iniciando....\n",
      "bucle 2 - i:  2  fin....\n",
      "bucle 2 - i:  3  iniciando....\n",
      "bucle 2 - i:  3  fin....\n",
      "bucle 2 - i:  4  iniciando....\n",
      "bucle 2 EXCEPT - i:  4  fin....\n"
     ]
    },
    {
     "name": "stderr",
     "output_type": "stream",
     "text": [
      " 77%|███████▋  | 76/99 [11:18<03:16,  8.54s/it]"
     ]
    },
    {
     "name": "stdout",
     "output_type": "stream",
     "text": [
      "bucle 1 - i:  1  iniciando....\n",
      "bucle 1 EXCEPT - i:  1  finalizado....\n",
      "bucle 2 - i:  1  iniciando....\n",
      "bucle 2 - i:  1  fin....\n",
      "bucle 2 - i:  2  iniciando....\n",
      "bucle 2 - i:  2  fin....\n",
      "bucle 2 - i:  3  iniciando....\n",
      "bucle 2 - i:  3  fin....\n",
      "bucle 2 - i:  4  iniciando....\n",
      "bucle 2 EXCEPT - i:  4  fin....\n"
     ]
    },
    {
     "name": "stderr",
     "output_type": "stream",
     "text": [
      " 78%|███████▊  | 77/99 [11:26<03:06,  8.46s/it]"
     ]
    },
    {
     "name": "stdout",
     "output_type": "stream",
     "text": [
      "bucle 1 - i:  1  iniciando....\n",
      "bucle 1 EXCEPT - i:  1  finalizado....\n",
      "bucle 2 - i:  1  iniciando....\n",
      "bucle 2 - i:  1  fin....\n",
      "bucle 2 - i:  2  iniciando....\n",
      "bucle 2 EXCEPT - i:  2  fin....\n"
     ]
    },
    {
     "name": "stderr",
     "output_type": "stream",
     "text": [
      " 79%|███████▉  | 78/99 [11:34<02:56,  8.39s/it]"
     ]
    },
    {
     "name": "stdout",
     "output_type": "stream",
     "text": [
      "bucle 1 - i:  1  iniciando....\n",
      "bucle 1 EXCEPT - i:  1  finalizado....\n",
      "bucle 2 - i:  1  iniciando....\n",
      "bucle 2 EXCEPT - i:  1  fin....\n"
     ]
    },
    {
     "name": "stderr",
     "output_type": "stream",
     "text": [
      " 80%|███████▉  | 79/99 [11:43<02:46,  8.35s/it]"
     ]
    },
    {
     "name": "stdout",
     "output_type": "stream",
     "text": [
      "bucle 1 - i:  1  iniciando....\n",
      "bucle 1 EXCEPT - i:  1  finalizado....\n",
      "bucle 2 - i:  1  iniciando....\n",
      "bucle 2 - i:  1  fin....\n",
      "bucle 2 - i:  2  iniciando....\n",
      "bucle 2 - i:  2  fin....\n",
      "bucle 2 - i:  3  iniciando....\n",
      "bucle 2 - i:  3  fin....\n",
      "bucle 2 - i:  4  iniciando....\n",
      "bucle 2 EXCEPT - i:  4  fin....\n"
     ]
    },
    {
     "name": "stderr",
     "output_type": "stream",
     "text": [
      " 81%|████████  | 80/99 [11:51<02:40,  8.46s/it]"
     ]
    },
    {
     "name": "stdout",
     "output_type": "stream",
     "text": [
      "bucle 1 - i:  1  iniciando....\n",
      "bucle 1 EXCEPT - i:  1  finalizado....\n",
      "bucle 2 - i:  1  iniciando....\n",
      "bucle 2 - i:  1  fin....\n",
      "bucle 2 - i:  2  iniciando....\n",
      "bucle 2 EXCEPT - i:  2  fin....\n"
     ]
    },
    {
     "name": "stderr",
     "output_type": "stream",
     "text": [
      " 82%|████████▏ | 81/99 [12:00<02:31,  8.41s/it]"
     ]
    },
    {
     "name": "stdout",
     "output_type": "stream",
     "text": [
      "bucle 1 - i:  1  iniciando....\n",
      "bucle 1 EXCEPT - i:  1  finalizado....\n",
      "bucle 2 - i:  1  iniciando....\n",
      "bucle 2 - i:  1  fin....\n",
      "bucle 2 - i:  2  iniciando....\n",
      "bucle 2 EXCEPT - i:  2  fin....\n"
     ]
    },
    {
     "name": "stderr",
     "output_type": "stream",
     "text": [
      " 83%|████████▎ | 82/99 [12:10<02:31,  8.91s/it]"
     ]
    },
    {
     "name": "stdout",
     "output_type": "stream",
     "text": [
      "bucle 1 - i:  1  iniciando....\n",
      "bucle 1 EXCEPT - i:  1  finalizado....\n",
      "bucle 2 - i:  1  iniciando....\n",
      "bucle 2 - i:  1  fin....\n",
      "bucle 2 - i:  2  iniciando....\n",
      "bucle 2 - i:  2  fin....\n",
      "bucle 2 - i:  3  iniciando....\n",
      "bucle 2 EXCEPT - i:  3  fin....\n"
     ]
    },
    {
     "name": "stderr",
     "output_type": "stream",
     "text": [
      " 84%|████████▍ | 83/99 [12:18<02:21,  8.82s/it]"
     ]
    },
    {
     "name": "stdout",
     "output_type": "stream",
     "text": [
      "bucle 1 - i:  1  iniciando....\n",
      "bucle 1 EXCEPT - i:  1  finalizado....\n",
      "bucle 2 - i:  1  iniciando....\n",
      "bucle 2 - i:  1  fin....\n",
      "bucle 2 - i:  2  iniciando....\n",
      "bucle 2 EXCEPT - i:  2  fin....\n"
     ]
    },
    {
     "name": "stderr",
     "output_type": "stream",
     "text": [
      " 85%|████████▍ | 84/99 [12:27<02:09,  8.63s/it]"
     ]
    },
    {
     "name": "stdout",
     "output_type": "stream",
     "text": [
      "bucle 1 - i:  1  iniciando....\n",
      "bucle 1 EXCEPT - i:  1  finalizado....\n",
      "bucle 2 - i:  1  iniciando....\n",
      "bucle 2 - i:  1  fin....\n",
      "bucle 2 - i:  2  iniciando....\n",
      "bucle 2 - i:  2  fin....\n",
      "bucle 2 - i:  3  iniciando....\n",
      "bucle 2 - i:  3  fin....\n",
      "bucle 2 - i:  4  iniciando....\n",
      "bucle 2 EXCEPT - i:  4  fin....\n"
     ]
    },
    {
     "name": "stderr",
     "output_type": "stream",
     "text": [
      " 86%|████████▌ | 85/99 [12:35<01:58,  8.46s/it]"
     ]
    },
    {
     "name": "stdout",
     "output_type": "stream",
     "text": [
      "bucle 1 - i:  1  iniciando....\n",
      "bucle 1 EXCEPT - i:  1  finalizado....\n",
      "bucle 2 - i:  1  iniciando....\n",
      "bucle 2 - i:  1  fin....\n",
      "bucle 2 - i:  2  iniciando....\n",
      "bucle 2 - i:  2  fin....\n",
      "bucle 2 - i:  3  iniciando....\n",
      "bucle 2 EXCEPT - i:  3  fin....\n"
     ]
    },
    {
     "name": "stderr",
     "output_type": "stream",
     "text": [
      " 87%|████████▋ | 86/99 [12:43<01:49,  8.43s/it]"
     ]
    },
    {
     "name": "stdout",
     "output_type": "stream",
     "text": [
      "bucle 1 - i:  1  iniciando....\n",
      "bucle 1 EXCEPT - i:  1  finalizado....\n",
      "bucle 2 - i:  1  iniciando....\n",
      "bucle 2 - i:  1  fin....\n",
      "bucle 2 - i:  2  iniciando....\n",
      "bucle 2 - i:  2  fin....\n",
      "bucle 2 - i:  3  iniciando....\n",
      "bucle 2 EXCEPT - i:  3  fin....\n"
     ]
    },
    {
     "name": "stderr",
     "output_type": "stream",
     "text": [
      " 88%|████████▊ | 87/99 [12:51<01:40,  8.40s/it]"
     ]
    },
    {
     "name": "stdout",
     "output_type": "stream",
     "text": [
      "bucle 1 - i:  1  iniciando....\n",
      "bucle 1 EXCEPT - i:  1  finalizado....\n",
      "bucle 2 - i:  1  iniciando....\n",
      "bucle 2 - i:  1  fin....\n",
      "bucle 2 - i:  2  iniciando....\n",
      "bucle 2 - i:  2  fin....\n",
      "bucle 2 - i:  3  iniciando....\n",
      "bucle 2 - i:  3  fin....\n",
      "bucle 2 - i:  4  iniciando....\n",
      "bucle 2 EXCEPT - i:  4  fin....\n"
     ]
    },
    {
     "name": "stderr",
     "output_type": "stream",
     "text": [
      " 89%|████████▉ | 88/99 [13:00<01:31,  8.35s/it]"
     ]
    },
    {
     "name": "stdout",
     "output_type": "stream",
     "text": [
      "bucle 1 - i:  1  iniciando....\n",
      "bucle 1 EXCEPT - i:  1  finalizado....\n",
      "bucle 2 - i:  1  iniciando....\n",
      "bucle 2 EXCEPT - i:  1  fin....\n"
     ]
    },
    {
     "name": "stderr",
     "output_type": "stream",
     "text": [
      " 90%|████████▉ | 89/99 [13:08<01:23,  8.31s/it]"
     ]
    },
    {
     "name": "stdout",
     "output_type": "stream",
     "text": [
      "bucle 1 - i:  1  iniciando....\n",
      "bucle 1 EXCEPT - i:  1  finalizado....\n",
      "bucle 2 - i:  1  iniciando....\n",
      "bucle 2 - i:  1  fin....\n",
      "bucle 2 - i:  2  iniciando....\n",
      "bucle 2 - i:  2  fin....\n",
      "bucle 2 - i:  3  iniciando....\n",
      "bucle 2 EXCEPT - i:  3  fin....\n"
     ]
    },
    {
     "name": "stderr",
     "output_type": "stream",
     "text": [
      " 91%|█████████ | 90/99 [13:17<01:16,  8.45s/it]"
     ]
    },
    {
     "name": "stdout",
     "output_type": "stream",
     "text": [
      "bucle 1 - i:  1  iniciando....\n",
      "bucle 1 EXCEPT - i:  1  finalizado....\n",
      "bucle 2 - i:  1  iniciando....\n",
      "bucle 2 - i:  1  fin....\n",
      "bucle 2 - i:  2  iniciando....\n",
      "bucle 2 EXCEPT - i:  2  fin....\n"
     ]
    },
    {
     "name": "stderr",
     "output_type": "stream",
     "text": [
      " 92%|█████████▏| 91/99 [13:25<01:07,  8.43s/it]"
     ]
    },
    {
     "name": "stdout",
     "output_type": "stream",
     "text": [
      "bucle 1 - i:  1  iniciando....\n",
      "bucle 1 EXCEPT - i:  1  finalizado....\n",
      "bucle 2 - i:  1  iniciando....\n",
      "bucle 2 - i:  1  fin....\n",
      "bucle 2 - i:  2  iniciando....\n",
      "bucle 2 - i:  2  fin....\n",
      "bucle 2 - i:  3  iniciando....\n",
      "bucle 2 EXCEPT - i:  3  fin....\n"
     ]
    },
    {
     "name": "stderr",
     "output_type": "stream",
     "text": [
      " 93%|█████████▎| 92/99 [13:34<00:59,  8.51s/it]"
     ]
    },
    {
     "name": "stdout",
     "output_type": "stream",
     "text": [
      "bucle 1 - i:  1  iniciando....\n",
      "bucle 1 EXCEPT - i:  1  finalizado....\n",
      "bucle 2 - i:  1  iniciando....\n",
      "bucle 2 - i:  1  fin....\n",
      "bucle 2 - i:  2  iniciando....\n",
      "bucle 2 - i:  2  fin....\n",
      "bucle 2 - i:  3  iniciando....\n",
      "bucle 2 EXCEPT - i:  3  fin....\n"
     ]
    },
    {
     "name": "stderr",
     "output_type": "stream",
     "text": [
      " 94%|█████████▍| 93/99 [13:42<00:50,  8.44s/it]"
     ]
    },
    {
     "name": "stdout",
     "output_type": "stream",
     "text": [
      "bucle 1 - i:  1  iniciando....\n",
      "bucle 1 EXCEPT - i:  1  finalizado....\n",
      "bucle 2 - i:  1  iniciando....\n",
      "bucle 2 - i:  1  fin....\n",
      "bucle 2 - i:  2  iniciando....\n",
      "bucle 2 - i:  2  fin....\n",
      "bucle 2 - i:  3  iniciando....\n",
      "bucle 2 - i:  3  fin....\n",
      "bucle 2 - i:  4  iniciando....\n",
      "bucle 2 EXCEPT - i:  4  fin....\n"
     ]
    },
    {
     "name": "stderr",
     "output_type": "stream",
     "text": [
      " 95%|█████████▍| 94/99 [13:50<00:41,  8.40s/it]"
     ]
    },
    {
     "name": "stdout",
     "output_type": "stream",
     "text": [
      "bucle 1 - i:  1  iniciando....\n",
      "bucle 1 EXCEPT - i:  1  finalizado....\n",
      "bucle 2 - i:  1  iniciando....\n",
      "bucle 2 - i:  1  fin....\n",
      "bucle 2 - i:  2  iniciando....\n",
      "bucle 2 EXCEPT - i:  2  fin....\n"
     ]
    },
    {
     "name": "stderr",
     "output_type": "stream",
     "text": [
      " 96%|█████████▌| 95/99 [13:58<00:33,  8.34s/it]"
     ]
    },
    {
     "name": "stdout",
     "output_type": "stream",
     "text": [
      "bucle 1 - i:  1  iniciando....\n",
      "bucle 1 EXCEPT - i:  1  finalizado....\n",
      "bucle 2 - i:  1  iniciando....\n",
      "bucle 2 - i:  1  fin....\n",
      "bucle 2 - i:  2  iniciando....\n",
      "bucle 2 - i:  2  fin....\n",
      "bucle 2 - i:  3  iniciando....\n",
      "bucle 2 EXCEPT - i:  3  fin....\n"
     ]
    },
    {
     "name": "stderr",
     "output_type": "stream",
     "text": [
      " 97%|█████████▋| 96/99 [14:07<00:24,  8.27s/it]"
     ]
    },
    {
     "name": "stdout",
     "output_type": "stream",
     "text": [
      "bucle 1 - i:  1  iniciando....\n",
      "bucle 1 EXCEPT - i:  1  finalizado....\n",
      "bucle 2 - i:  1  iniciando....\n",
      "bucle 2 - i:  1  fin....\n",
      "bucle 2 - i:  2  iniciando....\n",
      "bucle 2 - i:  2  fin....\n",
      "bucle 2 - i:  3  iniciando....\n",
      "bucle 2 EXCEPT - i:  3  fin....\n"
     ]
    },
    {
     "name": "stderr",
     "output_type": "stream",
     "text": [
      " 98%|█████████▊| 97/99 [14:16<00:17,  8.51s/it]"
     ]
    },
    {
     "name": "stdout",
     "output_type": "stream",
     "text": [
      "bucle 1 - i:  1  iniciando....\n",
      "bucle 1 - i:  1  finalizado....\n",
      "bucle 1 - i:  2  iniciando....\n",
      "bucle 1 EXCEPT - i:  2  finalizado....\n"
     ]
    },
    {
     "name": "stderr",
     "output_type": "stream",
     "text": [
      " 99%|█████████▉| 98/99 [14:24<00:08,  8.38s/it]"
     ]
    },
    {
     "name": "stdout",
     "output_type": "stream",
     "text": [
      "bucle 1 - i:  1  iniciando....\n",
      "bucle 1 EXCEPT - i:  1  finalizado....\n",
      "bucle 2 - i:  1  iniciando....\n",
      "bucle 2 - i:  1  fin....\n",
      "bucle 2 - i:  2  iniciando....\n",
      "bucle 2 - i:  2  fin....\n",
      "bucle 2 - i:  3  iniciando....\n",
      "bucle 2 EXCEPT - i:  3  fin....\n"
     ]
    },
    {
     "name": "stderr",
     "output_type": "stream",
     "text": [
      "100%|██████████| 99/99 [14:32<00:00,  8.81s/it]"
     ]
    },
    {
     "name": "stdout",
     "output_type": "stream",
     "text": [
      "bucle 1 - i:  1  iniciando....\n",
      "bucle 1 EXCEPT - i:  1  finalizado....\n",
      "bucle 2 - i:  1  iniciando....\n",
      "bucle 2 - i:  1  fin....\n",
      "bucle 2 - i:  2  iniciando....\n",
      "bucle 2 - i:  2  fin....\n",
      "bucle 2 - i:  3  iniciando....\n",
      "bucle 2 EXCEPT - i:  3  fin....\n"
     ]
    },
    {
     "name": "stderr",
     "output_type": "stream",
     "text": [
      "\n"
     ]
    }
   ],
   "source": [
    "# EXTRACCION DATOS IMDB Y LO GUARDAMOS EN LISTAS\n",
    "\n",
    "driver = webdriver.Chrome()\n",
    "\n",
    "notas_imdb =[]\n",
    "\n",
    "driver.get('https://www.imdb.com/')\n",
    "\n",
    "driver.maximize_window()\n",
    "\n",
    "sleep (3)\n",
    "\n",
    "driver.find_element('css selector','#__next > div > div > div.sc-jrcTuL.bPmWiM > div > button.icb-btn.sc-bcXHqe.sc-dkrFOg.sc-iBYQkv.dcvrLS.ddtuHe.dRCGjd').click()\n",
    "\n",
    "nombre = []\n",
    "nota_imdb = []\n",
    "direccion = []\n",
    "guionista = []\n",
    "argumento = []\n",
    "duracion = []\n",
    "\n",
    "for i in tqdm(idOwner[7:]):\n",
    "        driver.find_element('css selector','#suggestion-search').send_keys(i, Keys.ENTER)\n",
    "        sleep(5)\n",
    "        \n",
    "        nombre.append(driver.find_element('css selector', '#__next > main > div > section.ipc-page-background.ipc-page-background--base.sc-c41b9732-0.NeSef > section > div:nth-child(5) > section > section > div.sc-491663c0-3.bdjVSf > div.sc-1f50b7c-0.PUxFE > h1 > span').text)\n",
    "        \n",
    "        try: \n",
    "                nota_imdb.append(driver.find_element('xpath', '//*[@id=\"__next\"]/main/div/section[1]/section/div[3]/section/section/div[2]/div[2]/div/div[1]/a/span/div/div[2]/div[1]/span[1]').text)\n",
    "        except:\n",
    "                nota_imdb.append(None)\n",
    "\n",
    "        \n",
    "        try: \n",
    "                duracion.append(driver.find_element('css selector', '#__next > main > div > section.ipc-page-background.ipc-page-background--base.sc-c41b9732-0.NeSef > section > div:nth-child(5) > section > section > div.sc-491663c0-3.bdjVSf > div.sc-1f50b7c-0.PUxFE > ul > li:nth-child(3)').text)\n",
    "        except:\n",
    "                try:\n",
    "                        duracion.append(driver.find_element('xpath', '//*[@id=\"__next\"]/main/div/section[1]/section/div[3]/section/section/div[2]/div[1]/ul/li[2]').text)\n",
    "                \n",
    "                except:\n",
    "                        duracion.append(None)  \n",
    "                        \n",
    "       \n",
    "        try:\n",
    "                argumento.append(driver.find_element('css selector', '#__next > main > div > section.ipc-page-background.ipc-page-background--base.sc-c41b9732-0.NeSef > section > div:nth-child(5) > section > section > div.sc-491663c0-4.gEsAEH > div.sc-491663c0-6.eQRCDK > div.sc-491663c0-10.emoxHI > section > p > span.sc-2d37a7c7-2.PeLXr').text)\n",
    "        except:\n",
    "                try:\n",
    "                        argumento.append(driver.find_element('css selector', '#__next > main > div > section.ipc-page-background.ipc-page-background--base.sc-c41b9732-0.NeSef > section > div:nth-child(5) > section > section > div.sc-491663c0-4.yjUiO > div.sc-491663c0-6.lnlBxO > div.sc-491663c0-10.rbXFE > section > p > span.sc-2d37a7c7-2.PeLXr').text)\n",
    "                except:\n",
    "                        argumento.append(None)\n",
    "                        \n",
    "\n",
    "               \n",
    "        i=0\n",
    "        direccion_multiple = []\n",
    "        try:    \n",
    "                while True: \n",
    "                        i+=1\n",
    "                        print('bucle 1 - i: ', i, ' iniciando....')\n",
    "                        direccion_multiple.append(driver.find_element('css selector', f'#__next > main > div > section.ipc-page-background.ipc-page-background--base.sc-c41b9732-0.NeSef > section > div:nth-child(5) > section > section > div.sc-491663c0-4.yjUiO > div.sc-491663c0-6.lnlBxO > div.sc-491663c0-10.rbXFE > section > div.sc-1f50b7c-3.ZYFjc > div > ul > li:nth-child(1) > div > ul > li:nth-child({i}) > a').text)\n",
    "                        print('bucle 1 - i: ', i, ' finalizado....')\n",
    "\n",
    "        except:\n",
    "                print('bucle 1 EXCEPT - i: ', i, ' finalizado....')\n",
    "                if i > 1:\n",
    "                        direccion.append(tuple(direccion_multiple))\n",
    "                        continue\n",
    "                else:\n",
    "                        try:\n",
    "                                \n",
    "                                direccion.append(driver.find_element('css selector', '#__next > main > div > section.ipc-page-background.ipc-page-background--base.sc-c41b9732-0.NeSef > section > div:nth-child(5) > section > section > div.sc-491663c0-4.gEsAEH > div.sc-491663c0-6.eQRCDK > div.sc-491663c0-10.emoxHI > section > div.sc-1f50b7c-3.ZYFjc > div > ul > li:nth-child(1) > div > ul > li > a').text)                                                                                   \n",
    "                        \n",
    "                        except:\n",
    "                                direccion.append(driver.find_element('css selector', '#__next > main > div > section.ipc-page-background.ipc-page-background--base.sc-c41b9732-0.NeSef > section > div:nth-child(5) > section > section > div.sc-491663c0-4.fVGakt > div > div.sc-491663c0-10.RRTJr > section > div.sc-1f50b7c-3.ZYFjc > div > ul > li:nth-child(1) > div > ul > li > a').text)\n",
    "                                                                              \n",
    "\n",
    "        \n",
    "               \n",
    "        i=0\n",
    "        guionista_multiple = []\n",
    "        try:\n",
    "                while True:\n",
    "                        i+=1\n",
    "                        print('bucle 2 - i: ', i, ' iniciando....')\n",
    "                        guionista_multiple.append(driver.find_element('css selector', f'#__next > main > div > section.ipc-page-background.ipc-page-background--base.sc-c41b9732-0.NeSef > section > div:nth-child(5) > section > section > div.sc-491663c0-4.gEsAEH > div.sc-491663c0-6.eQRCDK > div.sc-491663c0-10.emoxHI > section > div.sc-1f50b7c-3.ZYFjc > div > ul > li:nth-child(2) > div > ul > li:nth-child({i}) > a').text)\n",
    "                        print('bucle 2 - i: ', i, ' fin....')\n",
    "\n",
    "        except:\n",
    "                print('bucle 2 EXCEPT - i: ', i, ' fin....')\n",
    "                if i > 1:\n",
    "                        guionista.append(tuple(guionista_multiple))\n",
    "                        continue\n",
    "                else:\n",
    "                        try:\n",
    "                                guionista.append(driver.find_element('css selector', '#__next > main > div > section.ipc-page-background.ipc-page-background--base.sc-c41b9732-0.NeSef > section > div:nth-child(5) > section > section > div.sc-491663c0-4.yjUiO > div.sc-491663c0-6.lnlBxO > div.sc-491663c0-10.rbXFE > section > div.sc-1f50b7c-3.ZYFjc > div > ul > li:nth-child(2) > div > ul > li > a').text)                                                  \n",
    "                          \n",
    "                        except:\n",
    "                                guionista.append(driver.find_element('css selector', '#__next > main > div > section.ipc-page-background.ipc-page-background--base.sc-c41b9732-0.NeSef > section > div:nth-child(5) > section > section > div.sc-491663c0-4.fVGakt > div > div.sc-491663c0-11.hqAHXl > div.sc-1f50b7c-2.gHiRzc > div > ul > li:nth-child(2) > div > ul > li > a').text)\n",
    "\n",
    "\n",
    "driver.close()"
   ]
  },
  {
   "cell_type": "code",
   "execution_count": 8,
   "metadata": {},
   "outputs": [
    {
     "name": "stdout",
     "output_type": "stream",
     "text": [
      "[('Cirio H. Santiago',), 'Fernando Siro']\n"
     ]
    }
   ],
   "source": [
    "print(direccion)"
   ]
  },
  {
   "cell_type": "code",
   "execution_count": 11,
   "metadata": {},
   "outputs": [],
   "source": [
    "\n",
    "duracion_mins = []\n",
    "\n",
    "for peli in duracion:\n",
    "\n",
    "    if peli is None:\n",
    "        duracion_mins.append(None)\n",
    "        continue\n",
    "    \n",
    "    elif 'h' in peli:\n",
    "        partes = peli.split('h')\n",
    "        horas = int(partes[0].strip())\n",
    "        if len(partes) > 1 and 'min' in partes[1]:\n",
    "            minutos = int(partes[1].replace('min', '').strip())\n",
    "        else:\n",
    "            minutos = 0\n",
    "    \n",
    "\n",
    "    \n",
    "    else:\n",
    "        horas = 0\n",
    "        minutos = int(peli.replace('min', '').strip())\n",
    "    \n",
    "    total_minutos = horas * 60 + minutos\n",
    "    duracion_mins.append(total_minutos)\n",
    "\n"
   ]
  },
  {
   "cell_type": "code",
   "execution_count": 12,
   "metadata": {},
   "outputs": [
    {
     "data": {
      "text/plain": [
       "[('5,5',\n",
       "  ('Cirio H. Santiago',),\n",
       "  '',\n",
       "  'Una mujer fatal experta en artes marciales da una lección a la mafia.',\n",
       "  77),\n",
       " ('5,2', 'Fernando Siro', ('Emilio Carballido',), None, 90),\n",
       " ('5,7',\n",
       "  'Rogelio A. González',\n",
       "  '',\n",
       "  '\"Distrito Federal\" portrays and pays tribute to one of the most populated cities in the world: Mexico City. The city turns into a mirror and the scene for the funniest, most unusual situations, but also of the frustrations and sadness that muddle the inhabitants\\' lives.',\n",
       "  115),\n",
       " (None, 'Nick De Noia', ('Ryong Keo', 'Lik Cheung', 'Bolo Yeung'), None, 23),\n",
       " ('5,4',\n",
       "  'Lu-Po Tu',\n",
       "  ('Juan Manuel Herrera', 'Alfredo B. Crevenna'),\n",
       "  'Lee Han-sun recibe el encargo de transportar una lista de nombres mientras es perseguido por el ejército japonés,',\n",
       "  87),\n",
       " ('4,5',\n",
       "  'Alfredo B. Crevenna',\n",
       "  ('Frederick Cole', 'Don Hulette', 'Jane Perry'),\n",
       "  'At the King-Kong bar, presided by the statue of a menacing gorilla, topless dancer Lyn May is on stage for a lively rumba to the tune of \"1-2-3-4 Cha-Cha-Cha\" (cast credits roll). Damian is watching her from a front seat, lovingly, with his trademark white jacket and black cowboy hat. Then Alicia takes the stage singing a love song, \"Un poco de amor, nada más\". Sitti... Leer todo',\n",
       "  83),\n",
       " ('5,6',\n",
       "  'Don Hulette',\n",
       "  ('Wenceslau De Moraes', 'Sumiko Haneda', 'Tai Jung Kok'),\n",
       "  'Un entrenador de caballos de clase baja irrumpe en el aristocrático mundo de las carreras de pura sangre.',\n",
       "  87),\n",
       " ('7,3',\n",
       "  'Paulo Rocha',\n",
       "  ('Inácio Araújo', 'Carlos Reichenbach'),\n",
       "  'Drama teatral influido por el poema medieval portugués del mismo nombre, en que se describe una isla paradisiaca como tierra prometida por la Diosa Venus para los soldados lusitanos.',\n",
       "  170),\n",
       " ('6,6',\n",
       "  'Carlos Reichenbach',\n",
       "  ('Jean Echenoz', 'Robert Pansard-Besson'),\n",
       "  'Unemployed professor, Fernando is sustained by his factory worker girlfriend Rita. One day they go out to an afternoon picnic with a couple of friends, sexist and reactionary Luís Carlos and inexperienced Lilita.',\n",
       "  92),\n",
       " (None, 'Robert Pansard-Besson', ('Hsiang-Kan Chu',), '', 100),\n",
       " ('6,6',\n",
       "  'Chao-Yung Li',\n",
       "  ('Hau Sit', 'Shau-Chang Lu'),\n",
       "  'The Purple Jade Badger: is what all martial artists seek, a magical elixir that will transform the drinker into an all-powerful kung-fu master! The Flying Fox comes seeking the murderer of his wife, but becomes ensnared in the machinations of the sects and rogue masters who seek the Purple Jade Badger for their own purposes.',\n",
       "  90),\n",
       " ('6,8',\n",
       "  'Hsin-Yen Chang',\n",
       "  ('Alberto Bojórquez',),\n",
       "  'Un joven, acosado por un general psicópata, aprende artes marciales en el templo Shaolin para vengar la muerte de su padre.',\n",
       "  100),\n",
       " ('7,1',\n",
       "  'Alberto Bojórquez',\n",
       "  ('Jorge Ramos', 'Nelson Rodríguez', 'Humberto Solás'),\n",
       "  \"Irene is a young housewife and mother who tries to raise her young family, love her husband and keep her home all the while studying her masters' degree. Mario, her husband, is a good man, but he's tied by convention. When she has a strange mishap one day, her domestic life is catapulted in a whirl of horror and violence that will tear the fabric of her very existence... Leer todo\",\n",
       "  92),\n",
       " ('6,0',\n",
       "  'Humberto Solás',\n",
       "  ('Jessie Kesson', 'John Francis Lane', 'Michael Radford'),\n",
       "  \"Cecilia, a Cuban girl of mixed race in violent 19th-century Cuba, is raised by her mother and grandmother as a courtesan. Soon, pale-skinned Cecilia catches the eye of the estate owner's son, Leonardo. Cecilia bows to Leonardo's demands provided he agrees to shelter a wounded member of the resistance movement at his home. Leonardo's wealthy father, Cándido de Gamboa, ... Leer todo\",\n",
       "  127),\n",
       " ('6,5',\n",
       "  ('Eloy de la Iglesia',),\n",
       "  ('Jorge Díaz', 'Patricio Guzmán', 'Gloria Laso'),\n",
       "  'La relación entre dos amigos del extrarradio de Madrid. Cuando uno de ellos deja embarazada a la hermana del otro, tienen que encontrar la manera de pagar un aborto para evitar un conflicto con sus padres.',\n",
       "  98),\n",
       " ('6,5',\n",
       "  'Michael Radford',\n",
       "  ('Laure Bonin', 'Gustau Hernández Mor', \"Claude d'Anna\"),\n",
       "  \"Set in 1943 Scotland during World War II, Janie is a young housewife married to a man named Dougal, 15 years her senior. As part of a war rehabilitation program, Janie and Dougal welcome three Italian P.O.W.'s to work on their farm and Janie soon falls in love and enters into a doomed affair with one of the Italians named Luigi.\",\n",
       "  118),\n",
       " ('4,3',\n",
       "  'Patricio Guzmán',\n",
       "  ('Louis Cha', 'Shu-Mei Chin'),\n",
       "  'Exiled Chilean director Patricio Guzmán filmed in Cuba and in Venezuela to create this controversial statement on the creation and survival of Latin American culture from the late-15th century to the present. For some viewers, the film will be superficially symbolic and rhetorical, for others, it will be a strong and personal vision of several centuries of history.',\n",
       "  84),\n",
       " ('6,4',\n",
       "  \"Claude d'Anna\",\n",
       "  ('Orestes Matacena', 'Clara Hernandez', 'Jorge Ulla'),\n",
       "  'An aristocratic Sicilian family living in the 1950s. Count Villafratti has sex one night with his nymphomaniac daughter because he thinks she is his wife.',\n",
       "  108),\n",
       " ('5,9',\n",
       "  'Hsueh-Li Pao',\n",
       "  ('Git-Yan Ching',),\n",
       "  \"A naïve kung-fu student (Lung Ti) falls under the influence of a corrupt master. Soon the student realizes his master plans to dominate the martial arts community by stealing a legendary martial arts book that's supposed to bestow its owner with extraordinary powers. And his master will stop at nothing - including murder - to possess that book. Now, with the help of a... Leer todo\",\n",
       "  92),\n",
       " ('6,4',\n",
       "  'Jorge Ulla',\n",
       "  ('Milos Václav Kratochvíl', 'Otakar Vávra'),\n",
       "  'La historia de un sencillo montañés, Guaguasi, que se enamora de una bella corista, Marina, durante la Revolución Cubana. Guaguasi se une a los rebeldes y llega a La Habana al final de la dictadura de Batista.',\n",
       "  107),\n",
       " ('6,9',\n",
       "  ('Rafal Zielinski',),\n",
       "  ('Gyula Gazdag', 'Miklós Györffy'),\n",
       "  'Theresa (Yasmine Bleeth) is an imaginative, rebellious orphan from Brooklyn, who has dreams of show business success. She tries outrageous schemes to launch herself into the public eye, until finally meeting mentor, Sammy Cohen (Buddy Hackett), whose own career fizzled as a result of alcoholism. Official Selection Toronto and AFI Film Fest.',\n",
       "  101),\n",
       " ('7,3',\n",
       "  'Kuen Yeung',\n",
       "  ('Raúl Ugalde',),\n",
       "  'Tommy Chen wants to become a professional drummer. Because of his loud practice sessions at home he gets into trouble with the neighbors and his father. But especially his grandpa and his friends support his ambitions.',\n",
       "  None),\n",
       " ('5,4',\n",
       "  'Otakar Vávra',\n",
       "  ('Lung Ku', 'Hsiang-Ju Sung'),\n",
       "  'The dramatic story of Jan Amos Comenius, a 17th century Christian hero and a testimony of the persistence of Christian courage.',\n",
       "  147),\n",
       " ('6,9',\n",
       "  'Gyula Gazdag',\n",
       "  ('Stanley S. Canter', 'Garner Simmons'),\n",
       "  'Two librettists, Mr. Rezso and Mr. Dezso arrive and pluck people living in a bare valley, in order to turn them into operetta characters. The two librettists come up with a plot in which selected young men and women are designated into two opposing groups, both claiming ownership and intending to take possession and restore a house in ruin. Their fierce battle is anti... Leer todo',\n",
       "  76),\n",
       " (None,\n",
       "  'Alejandro Galindo',\n",
       "  ('Eiichi Uchida',),\n",
       "  'Juan is a singer who, during a visit to his town for a tour, meets the young Rosario and falls in love with her.',\n",
       "  92),\n",
       " ('5,7',\n",
       "  'Yang-Ming Tsai',\n",
       "  '',\n",
       "  \"The Yin Feng clan, headed by Chief Sheng are set to execute Wai Kai and Ling Er for breaking the rules stating love isn't allowed. Saved by friends and bodyguards Feng Chu and Feng Chi they are now the target of the entire martial world.\",\n",
       "  95),\n",
       " ('5,0',\n",
       "  'David Nelson',\n",
       "  ('Ambrosio Fornet', 'Pastor Vega'),\n",
       "  'La historia real de un caballo secuestrado en Italia y la búsqueda de una joven para recuperarlo.',\n",
       "  94),\n",
       " ('5,1', 'Tatsumi Kumashiro', ('Wesley Bishop',), '', 104),\n",
       " (None, 'Moussa Diakité', ('Telly Savalas',), None, 120),\n",
       " ('7,4',\n",
       "  ('Márta Mészáros',),\n",
       "  ('Javed Akhtar',),\n",
       "  'Una joven regresa a su tierra natal, solo para descubrir que los horrores de los que logró escapar también la han infectado.',\n",
       "  106),\n",
       " ('6,9',\n",
       "  'Pastor Vega',\n",
       "  ('Miguel de Carrión', 'Nelson Rodríguez', 'Humberto Solás'),\n",
       "  'In Havana, a mature psychiatrist seeks help from her best friend when she discovers that her husband is having an affair with one of her patients, a young student from Brazil.',\n",
       "  108),\n",
       " ('5,5',\n",
       "  'Arthur R. Dubs',\n",
       "  ('Carlos Aured',),\n",
       "  'Dos improbables compañeros se enfrentan a vaqueros armados y a sus propios conflictos familiares personales mientras aprenden la importancia de la amistad, la lealtad y el perdón.',\n",
       "  95),\n",
       " ('4,9',\n",
       "  'Telly Savalas',\n",
       "  ('Aníbal Di Salvo', 'Eduardo Mignogna'),\n",
       "  'Un psiquiatra aparentemente exitoso empieza a perder el control de la realidad y se embarca en un romance con una paciente.',\n",
       "  88),\n",
       " ('7,2',\n",
       "  'Subhash Ghai',\n",
       "  ('Yuri German', 'Eduard Volodarskiy'),\n",
       "  'Two top lawyers battle against each other while the whole city witnesses the battle.',\n",
       "  164),\n",
       " ('5,8',\n",
       "  'Nelson Rodríguez',\n",
       "  ('Carlos Coutinho', 'Artur Ramos'),\n",
       "  'In 1914, during World Ward I, Amada, a bourgeois wife, falls in love with her cousin Marcial, a young idealist who is fighting against the Cuban regime in power.',\n",
       "  105),\n",
       " ('3,9', 'Carlos Aured', '', '', 83),\n",
       " ('6,2',\n",
       "  'Aníbal Di Salvo',\n",
       "  ('Jacques Baratier', 'Slim Bouchoucha', 'Catherine Breillat'),\n",
       "  'A Polish man ends up locked up in an asylum in Argentina subjected to abuse from other patients and a nurse.',\n",
       "  90),\n",
       " ('7,9',\n",
       "  'Aleksey German',\n",
       "  ('Jerzy Ofierski', 'Jerzy Purzycki'),\n",
       "  'A Soviet POW joins the partisan guerrillas and proves his loyalty fighting the Germans.',\n",
       "  96),\n",
       " (None,\n",
       "  'Artur Ramos',\n",
       "  ('Radley Metzger', 'Pierre Serbie'),\n",
       "  'The intimate conflicts of smugglers and vagabonds, along with the struggle of the peasants against the attempts of the bourgeoisie and the State, to take possession of the vacancies they cultivate.',\n",
       "  100),\n",
       " (None,\n",
       "  'Mustapha Diop',\n",
       "  ('Heiner Carow', 'Hermann Herlinghaus', 'Claus Küchenmeister'),\n",
       "  None,\n",
       "  90),\n",
       " ('5,1',\n",
       "  'Jacques Baratier',\n",
       "  ('Eduard Volodarskiy',),\n",
       "  'A sultry French boarding school for girls, in the early twenties. The young pupil Lucienne evades but returns with a weird police inspector who should protect her. Against what or whom? Solange, the psychic unstable gym teacher? Or the voyeuristic principal Madame de Challens? Or other girls?',\n",
       "  82),\n",
       " ('4,0',\n",
       "  'Mieczyslaw Waskowski',\n",
       "  ('Neal Barbera',),\n",
       "  \"Jan Bard is a Polish intellectual and writer, who decides to stay in West Berlin and publish a new novel there. Things get complicated when he falls for his publisher's wife.\",\n",
       "  99),\n",
       " ('4,7',\n",
       "  'Gérard Loubeau',\n",
       "  ('Kazimierz Brandys', 'Janusz Zaorski'),\n",
       "  'Dos hermosas mujeres parecidas, una de la alta sociedad y la otra una prostituta de lujo, cambian de lugar para vivir nuevas experiencias.',\n",
       "  80),\n",
       " ('6,7',\n",
       "  'Heiner Carow',\n",
       "  ('Halina Chmielewska', 'Tadeusz Chmielewski', 'Stefan Zeromski'),\n",
       "  'Frühjahr 1945 in einem kleinen Ort an der Ostsee. Am Strand finden der 15-jährige Günter (Gert Krause-Melzer) und ein gleichaltriger russischer Fremdarbeiter (Viktor Perewalow) einen toten Soldaten. Wenig später hetzen Günter, der immer noch an den Endsieg glaubt, und eine Schar Jugendlicher den entflohenen jungen Russen durch den Wald. Während Günter ihn stellt und i... Leer todo',\n",
       "  92),\n",
       " ('7,0',\n",
       "  'Igor Sheshukov',\n",
       "  ('Tatsumi Hijikata', 'Junko Miyashita', 'Takahiro Tamura'),\n",
       "  '',\n",
       "  98),\n",
       " ('7,7',\n",
       "  ('Krzysztof Kieslowski',),\n",
       "  ('Víctor Barrera', 'Bernardo Fernández', 'José Luis García Sánchez'),\n",
       "  'Witek persigue a un tren. Se siguen tres variaciones de cómo un incidente tan aparentemente banal podría influir el resto de su vida.',\n",
       "  114),\n",
       " ('5,2',\n",
       "  'Lou Lombardo',\n",
       "  ('Gustavo Mosquera R.',),\n",
       "  'P.K. se escapa de casa porque su padrastro no deja de acosarla sexualmente y su madre ignora el problema. Se esconde en el espacio de carga de la camioneta de Kid Kane.',\n",
       "  89),\n",
       " ('7,3',\n",
       "  'Janusz Zaorski',\n",
       "  ('Thomas Travers',),\n",
       "  \"Story opens with Lucja Krol's husband under the tram. She gives birth to her fourth son on the floor of their new apartment. Neighbor Wiktor, a communist intellectual, befriends the poverty-stricken family but is soon arrested and sent to jail. During the war Lucja narrowly escapes a Nazi roundup at the black market. Her sons hold ardent Communist meetings in their ap... Leer todo\",\n",
       "  127),\n",
       " ('6,8',\n",
       "  'Tadeusz Chmielewski',\n",
       "  ('Ferdinando Baldi',),\n",
       "  \"Set during the insurgency of 1863, the story focuses on a tragic romance between a poor gentlewoman and a rebel noble. After a bloody battle a unit of insurgents have been wiped out and only one survived, but badly wounded. He eventually finds shelter and care from a landsteward's daughter, hiding in a burned-out manor with an old servant.\",\n",
       "  137),\n",
       " ('7,4',\n",
       "  'Shinsuke Ogawa',\n",
       "  ('Aleksandr Borshchagovskiy',),\n",
       "  'The movie compiles footage taken by Ogawa Production for a period of more than ten years after the collective moved to Magino village. Unique to this film are fictional reenactments of the history of the village in the sections titled \"The Tale of Horikiri Goddess\" and \"The Origins of Itsutsudomoe Shrine\". Ogawa combines all the techniques that were developed in his p... Leer todo',\n",
       "  222),\n",
       " (None, 'Bernardo Fernández', ('Ryszard Bugajski', 'Janusz Dymek'), '', 91),\n",
       " ('6,1',\n",
       "  'Gustavo Mosquera R.',\n",
       "  ('Arnie Gelbart',),\n",
       "  \"Against the backdrop of an increasingly-powerful police state, Miguel returns to Buenos Aires. An innocent bystander, he's shot by a rogue cop, Morea, at a political demonstration. To avoid scandal, the police place Miguel in the hospital as a John Doe, where nurses are drawn to his bedside. A tipster notifies the press and Miguel's father and also phones Morea with t... Leer todo\",\n",
       "  98),\n",
       " ('4,5',\n",
       "  'Thomas Travers',\n",
       "  ('Ridha Behi', 'Jacques Robert', 'Jean-Claude Islert'),\n",
       "  'USA. Años 50. Angelo Villano, de doce años, tiene un sueño: cantar algún día como su ídolo, Mario Lanza. Su abuela, Mamá Teresa, le anima y su hermosa voz llama la atención del formidable pero bondadoso Padre Walsh.',\n",
       "  77),\n",
       " ('4,2',\n",
       "  'Ferdinando Baldi',\n",
       "  ('Cheng-Hsin Lin', 'Yun-Chiao Yeh'),\n",
       "  'Far East. A commando led by the mercenary Ernst, a veteran of Vietnam, assaults a gold refinery to steal a load of raw nuggets belonging to an old comrade of Ernst.',\n",
       "  85),\n",
       " ('6,9',\n",
       "  'Gavriil Egiazarov',\n",
       "  ('Javed Akhtar',),\n",
       "  'Village love story. Lyuba has a child, Nikolai has a wife. Nikolay, having become a projectionist, now, once a week, brings cinema to the village of Babino, where Lyuba lives. Once they loved each other, but Nikolai, unexpectedly for everyone, married another and since then tried not to be in this village. And now feelings have surged again, and both are unable to res... Leer todo',\n",
       "  82),\n",
       " ('3,3',\n",
       "  ('Therese Conte', 'Sean Roche'),\n",
       "  ('Karl Zwicky', 'P.J. Hogan', 'Miranda Bain'),\n",
       "  'Un joven está atascado por su familia, su granja y su vida escolar, pero después de que el entrenador de béisbol le convence para jugar, encuentra un poco de consuelo en el deporte y termina sobresaliendo en él.',\n",
       "  94),\n",
       " ('7,9',\n",
       "  'Ryszard Bugajski',\n",
       "  ('Jürgen Böttcher', 'Klaus Poche'),\n",
       "  \"Tonia goes out drinking. She wakes up in prison, not having a clue why she's there. She is tortured to encourage her to confess to a crime she is not aware of.\",\n",
       "  118),\n",
       " ('3,9',\n",
       "  'Nardo Castillo',\n",
       "  ('Egon Günther', 'Helga Schütz'),\n",
       "  '1926. La guerra civil china. El vagabundo Ted Beaubien es capturado y obligado a presenciar la ejecución de su novia. Finalmente escapa y jura vengar su muerte emprendiendo una misión mortal para comprar armas en el extranjero.',\n",
       "  92),\n",
       " ('5,6',\n",
       "  'Ridha Behi',\n",
       "  '',\n",
       "  \"As French colonial rule unravels in Tunisia, Paul is having an affair with nightclub singer Betty. An Arab teenager develops a crush on her. It seems he's Paul illegitimate son. As the boy's attraction with his father's mistress goes out of bounds the friction between the Tunisians and the French also intensifies.\",\n",
       "  82),\n",
       " ('6,9', 'Yen-Ping Chu', ('Arch Oboler',), '', 90),\n",
       " ('5,6',\n",
       "  'Sibte Hassan Rizvi',\n",
       "  ('Len Deighton',),\n",
       "  \"Dara and Karan, the sons of two of the victims of dacoit Jogi Thakur, wait many years to exact their revenge. When the Thakur's colleague Raja Singh cheats him and runs away with his loot, Jogi is arrested and sentenced for life imprisonment. Years later Jogi escapes from the prison to get hold of Raja and take back his booty, but finds his face on all the posters in ... Leer todo\",\n",
       "  107),\n",
       " ('5,2',\n",
       "  'P.J. Hogan',\n",
       "  ('Michael Rubbo',),\n",
       "  'A story of intrigue, power, politics and murder set in Canberra, Australia.',\n",
       "  94),\n",
       " ('6,5',\n",
       "  'Jürgen Böttcher',\n",
       "  ('Férid Boughedir', 'Nouri Bouzid', 'Taoufik Jebali'),\n",
       "  'Li y Al, que llevan poco tiempo casados, quieren divorciarse. Se sienten atrapados en su matrimonio y en su apartamento de una sola habitación. Anhelan una vida poco convencional y con sentido, pero la búsqueda de éste les confunde.',\n",
       "  100),\n",
       " ('6,4',\n",
       "  'Egon Günther',\n",
       "  '',\n",
       "  \"Adam receives a flashlight with special powers: every liar it shines on flies into the air. Production was canceled in 1965 due to the film's political content. Only in 1989-1990 could the director reconstruct the film, replacing missing sounds and images with script inserts.\",\n",
       "  78),\n",
       " ('6,6', 'Zdenek Tyc', ('Shi-Hsin Fu', 'Chin-Lai Sung'), None, 80),\n",
       " ('5,0',\n",
       "  'Arch Oboler',\n",
       "  ('Dennis Christianson', 'Susan Killeen'),\n",
       "  'A young college student and a former G.I. on his way home from a tour in Viet Nam meet in Japan and decide to explore the country together.',\n",
       "  91),\n",
       " ('6,0',\n",
       "  'Lindsay Shonteff',\n",
       "  ('H R Bhargava', 'T. Damodaran', 'Lalladevi'),\n",
       "  'Un espía británico es incriminado, por lo que debe eludir al KGB, la CIA y la Inteligencia británica para llegar al corazón de la conspiración en el Ártico.',\n",
       "  103),\n",
       " ('6,2',\n",
       "  'Michael Rubbo',\n",
       "  ('Liliane Betti', 'Marco Ferreri', 'Antonino Marino'),\n",
       "  'Jo conoce a un misterioso marchante de arte que compra algunos de sus dibujos y le encarga que haga más. Pide ayuda a unos amigos y parte hacia Ámsterdam para buscar al hombre misterioso.',\n",
       "  100),\n",
       " ('6,7',\n",
       "  'Férid Boughedir',\n",
       "  ('Susan Claudia', 'Simon Last', 'Paul Mason'),\n",
       "  'Noura struggles to reconcile two worlds, Muslim women and men, while also dealing with his own sexuality.',\n",
       "  98),\n",
       " ('8,0',\n",
       "  'Kari Paljakka',\n",
       "  ('Ahmed Zaki', 'Hala Sedki', 'Salah Abdullah'),\n",
       "  None,\n",
       "  20),\n",
       " ('5,3', 'Chin-Lai Sung', ('Atom Egoyan',), '', 85),\n",
       " ('7,2',\n",
       "  'Dennis Christianson',\n",
       "  '',\n",
       "  \"It's the last night at the Paradise Inn, a sixty year-old Chinatown bar in Honolulu closing its doors in the wake of urban renewal. Joe Martin (Joe Moore), the veteran manager of the club, soon realizes the price of progress... and just who will have to pay. But after a lifetime of doing what he's told, can he do what's right?\",\n",
       "  101),\n",
       " ('7,3',\n",
       "  'Priyadarshan',\n",
       "  ('Catherine Breillat', 'Luigi De Angelis', 'Antoine Perset'),\n",
       "  \"A daily-wage welder from Bombay's red light district gets involved in the underworld.\",\n",
       "  140),\n",
       " ('6,5',\n",
       "  'Marco Ferreri',\n",
       "  ('John Chong',),\n",
       "  'A septuagenarian couple are attracted to each other in a retirement home but find the institution and their fellow patients frown on their relationship.',\n",
       "  110),\n",
       " ('5,0',\n",
       "  'William A. Levey',\n",
       "  ('William Sachs',),\n",
       "  'A nurse is taken hostage by a patient pretending to be a doctor and is forced to minister to everyone.',\n",
       "  90),\n",
       " ('7,7',\n",
       "  'Atef El-Tayeb',\n",
       "  ('Bing-Hon Kong', 'Yan-Lun Lee'),\n",
       "  'After his discharge from prison , Mansor take his revenge and become hunted by the police.',\n",
       "  122),\n",
       " ('5,4',\n",
       "  'Atom Egoyan',\n",
       "  ('Sai Paranjpye',),\n",
       "  'A man uses an instant photo booth with bizarre results.',\n",
       "  7),\n",
       " ('6,2',\n",
       "  'Atom Egoyan',\n",
       "  ('François-Emmanuel Porché', 'Andrzej Rychcik', 'Wojciech Ziminski'),\n",
       "  None,\n",
       "  25),\n",
       " ('5,0',\n",
       "  'Antoine Perset',\n",
       "  ('Eva López Sánchez', 'David Martin del Campo'),\n",
       "  '',\n",
       "  85),\n",
       " ('5,3',\n",
       "  'Yen-Ping Chu',\n",
       "  ('Stanley Cohen', 'Richard Tannenbaum'),\n",
       "  \"Ms. Chang is the new teacher of the class F4D, the most unruly and unmanageable class of Yuk Choi College. Dedicated to her students, she does her best to see them succeed in school and to help them with the personal issues they're facing.\",\n",
       "  90),\n",
       " ('4,2',\n",
       "  'William Sachs',\n",
       "  ('Wen-Liang Wu', 'Kai Huang', 'Man-Wah Cheng'),\n",
       "  'A tough female juvenile court judge goes out of her way to try to aid a young man whom she believes has innocently gotten involved with a gang, which puts her life in mortal danger.',\n",
       "  85),\n",
       " ('4,1',\n",
       "  'Gam Fung Lam',\n",
       "  '',\n",
       "  'A girl was gang raped by five men. After she committed suicide, her boyfriend and older sister swore to revenge.',\n",
       "  89),\n",
       " ('7,7',\n",
       "  'Sai Paranjpye',\n",
       "  ('Karl Armstrong', 'Carrie Armstrong'),\n",
       "  \"The Sarpat family, who live in Bhukari, consist of Parsaram, who has been involved in digging a well for the past over 12 years and is now called 'Pagal Parsa'; his brother, Soma, who gets some casual work in the fields; his wife, Hansa, who goes to work at a Bidi factory; and four children ironically named Sharmila, Jeetendra, Amitabh, and Kadhu. Soma's neighbor, Vas... Leer todo\",\n",
       "  135),\n",
       " ('8,2',\n",
       "  'Marcin Ziebinski',\n",
       "  ('Cheh Chang',),\n",
       "  'This sumptuously photographed period drama is set in 1791 Vienna. Maximilian Bardo, an opportunistic 18-year old Viennese man with aspirations to rise above his bourgeois upbringing, looks for a chance to shoehorn himself into the nobility. His hopes lead him to the castle of a wealthy inventor, Alexander Plant. It is here that a strange story is played out, as Maximi... Leer todo',\n",
       "  110),\n",
       " ('6,5',\n",
       "  'Eva López Sánchez',\n",
       "  ('Jorge Coscia', 'Julio Fernández Baraibar'),\n",
       "  \"Bruno, a novelist without luck, responds to the distress call of his love, Sofía, who finds herself in desolate Veracruz and doesn't know what to do with the corpse of her boyfriend. Bruno proposes to Sofía to get rid of the corpse.\",\n",
       "  102),\n",
       " ('5,4',\n",
       "  'Dan Curtis',\n",
       "  ('Shotaro Ishinomori', 'Noboru Sugimura'),\n",
       "  'Un niño rico, solitario y emocionalmente abandonado, se encariña con uno de los hombres que lo secuestran durante un robo frustrado de la caja fuerte de su padre.',\n",
       "  94),\n",
       " ('5,2',\n",
       "  'Lu-Chiang Chao',\n",
       "  ('Kathleen Beller', 'Benton Jennings', 'Steve Abolt'),\n",
       "  'A magic tree spirit lady and a young monk fight a bat-head guy.',\n",
       "  91),\n",
       " ('5,5', 'Peggy Ahwesh', ('Mohsen Makhmalbaf',), None, 20),\n",
       " ('2,6',\n",
       "  'Karl Armstrong',\n",
       "  ('Willi Behnisch', 'Ana Poliak'),\n",
       "  'After he witnesses the death of a black law student, Chris, an American ninja, decides to clean little redneck town from the Ku Klux Klan.',\n",
       "  87),\n",
       " ('5,2',\n",
       "  'Cheh Chang',\n",
       "  ('António Cabrita', 'Alberto Seixas Santos'),\n",
       "  \"When tragedy befalls Taoist master Yu at the hands of power hungry general Suen Cheuk, the Taoist master's students, the Five Element Ninja, decide that revenge is their only option. However, if they are to have their vengeance they must first infiltrate the inner circle of the general's closest allies.\",\n",
       "  92),\n",
       " ('3,9', 'Jorge Coscia', ('Antonio Larreta', 'Luis Sanz'), '', 85),\n",
       " ('7,0',\n",
       "  'Keita Amemiya',\n",
       "  ('Florian Flicker', 'Michael Sturminger'),\n",
       "  'As do most of the various KAMEN (MASKED) RIDER television series, RIDER ZO concerns itself with a human being who is transformed into a cyborg hero and subsequently challenges a ruthless and powerful menace (frequently an alien organization using a series of bizarre creatures to enforce their will) which rises to threaten the Earth. The transition into a Rider is freq... Leer todo',\n",
       "  50)]"
      ]
     },
     "execution_count": 12,
     "metadata": {},
     "output_type": "execute_result"
    }
   ],
   "source": [
    "imdb_drama = list(tuple(zip(nota_imdb,direccion,guionista,argumento,duracion_mins)))\n",
    "\n",
    "imdb_drama"
   ]
  },
  {
   "cell_type": "code",
   "execution_count": 13,
   "metadata": {},
   "outputs": [
    {
     "data": {
      "text/html": [
       "<div>\n",
       "<style scoped>\n",
       "    .dataframe tbody tr th:only-of-type {\n",
       "        vertical-align: middle;\n",
       "    }\n",
       "\n",
       "    .dataframe tbody tr th {\n",
       "        vertical-align: top;\n",
       "    }\n",
       "\n",
       "    .dataframe thead th {\n",
       "        text-align: right;\n",
       "    }\n",
       "</style>\n",
       "<table border=\"1\" class=\"dataframe\">\n",
       "  <thead>\n",
       "    <tr style=\"text-align: right;\">\n",
       "      <th></th>\n",
       "      <th>0</th>\n",
       "      <th>1</th>\n",
       "      <th>2</th>\n",
       "      <th>3</th>\n",
       "      <th>4</th>\n",
       "    </tr>\n",
       "  </thead>\n",
       "  <tbody>\n",
       "    <tr>\n",
       "      <th>0</th>\n",
       "      <td>5,5</td>\n",
       "      <td>(Cirio H. Santiago,)</td>\n",
       "      <td></td>\n",
       "      <td>Una mujer fatal experta en artes marciales da ...</td>\n",
       "      <td>77.0</td>\n",
       "    </tr>\n",
       "    <tr>\n",
       "      <th>1</th>\n",
       "      <td>5,2</td>\n",
       "      <td>Fernando Siro</td>\n",
       "      <td>(Emilio Carballido,)</td>\n",
       "      <td>None</td>\n",
       "      <td>90.0</td>\n",
       "    </tr>\n",
       "    <tr>\n",
       "      <th>2</th>\n",
       "      <td>5,7</td>\n",
       "      <td>Rogelio A. González</td>\n",
       "      <td></td>\n",
       "      <td>\"Distrito Federal\" portrays and pays tribute t...</td>\n",
       "      <td>115.0</td>\n",
       "    </tr>\n",
       "    <tr>\n",
       "      <th>3</th>\n",
       "      <td>None</td>\n",
       "      <td>Nick De Noia</td>\n",
       "      <td>(Ryong Keo, Lik Cheung, Bolo Yeung)</td>\n",
       "      <td>None</td>\n",
       "      <td>23.0</td>\n",
       "    </tr>\n",
       "    <tr>\n",
       "      <th>4</th>\n",
       "      <td>5,4</td>\n",
       "      <td>Lu-Po Tu</td>\n",
       "      <td>(Juan Manuel Herrera, Alfredo B. Crevenna)</td>\n",
       "      <td>Lee Han-sun recibe el encargo de transportar u...</td>\n",
       "      <td>87.0</td>\n",
       "    </tr>\n",
       "    <tr>\n",
       "      <th>...</th>\n",
       "      <td>...</td>\n",
       "      <td>...</td>\n",
       "      <td>...</td>\n",
       "      <td>...</td>\n",
       "      <td>...</td>\n",
       "    </tr>\n",
       "    <tr>\n",
       "      <th>87</th>\n",
       "      <td>5,5</td>\n",
       "      <td>Peggy Ahwesh</td>\n",
       "      <td>(Mohsen Makhmalbaf,)</td>\n",
       "      <td>None</td>\n",
       "      <td>20.0</td>\n",
       "    </tr>\n",
       "    <tr>\n",
       "      <th>88</th>\n",
       "      <td>2,6</td>\n",
       "      <td>Karl Armstrong</td>\n",
       "      <td>(Willi Behnisch, Ana Poliak)</td>\n",
       "      <td>After he witnesses the death of a black law st...</td>\n",
       "      <td>87.0</td>\n",
       "    </tr>\n",
       "    <tr>\n",
       "      <th>89</th>\n",
       "      <td>5,2</td>\n",
       "      <td>Cheh Chang</td>\n",
       "      <td>(António Cabrita, Alberto Seixas Santos)</td>\n",
       "      <td>When tragedy befalls Taoist master Yu at the h...</td>\n",
       "      <td>92.0</td>\n",
       "    </tr>\n",
       "    <tr>\n",
       "      <th>90</th>\n",
       "      <td>3,9</td>\n",
       "      <td>Jorge Coscia</td>\n",
       "      <td>(Antonio Larreta, Luis Sanz)</td>\n",
       "      <td></td>\n",
       "      <td>85.0</td>\n",
       "    </tr>\n",
       "    <tr>\n",
       "      <th>91</th>\n",
       "      <td>7,0</td>\n",
       "      <td>Keita Amemiya</td>\n",
       "      <td>(Florian Flicker, Michael Sturminger)</td>\n",
       "      <td>As do most of the various KAMEN (MASKED) RIDER...</td>\n",
       "      <td>50.0</td>\n",
       "    </tr>\n",
       "  </tbody>\n",
       "</table>\n",
       "<p>92 rows × 5 columns</p>\n",
       "</div>"
      ],
      "text/plain": [
       "       0                     1                                           2  \\\n",
       "0    5,5  (Cirio H. Santiago,)                                               \n",
       "1    5,2         Fernando Siro                        (Emilio Carballido,)   \n",
       "2    5,7   Rogelio A. González                                               \n",
       "3   None          Nick De Noia         (Ryong Keo, Lik Cheung, Bolo Yeung)   \n",
       "4    5,4              Lu-Po Tu  (Juan Manuel Herrera, Alfredo B. Crevenna)   \n",
       "..   ...                   ...                                         ...   \n",
       "87   5,5          Peggy Ahwesh                        (Mohsen Makhmalbaf,)   \n",
       "88   2,6        Karl Armstrong                (Willi Behnisch, Ana Poliak)   \n",
       "89   5,2            Cheh Chang    (António Cabrita, Alberto Seixas Santos)   \n",
       "90   3,9          Jorge Coscia                (Antonio Larreta, Luis Sanz)   \n",
       "91   7,0         Keita Amemiya       (Florian Flicker, Michael Sturminger)   \n",
       "\n",
       "                                                    3      4  \n",
       "0   Una mujer fatal experta en artes marciales da ...   77.0  \n",
       "1                                                None   90.0  \n",
       "2   \"Distrito Federal\" portrays and pays tribute t...  115.0  \n",
       "3                                                None   23.0  \n",
       "4   Lee Han-sun recibe el encargo de transportar u...   87.0  \n",
       "..                                                ...    ...  \n",
       "87                                               None   20.0  \n",
       "88  After he witnesses the death of a black law st...   87.0  \n",
       "89  When tragedy befalls Taoist master Yu at the h...   92.0  \n",
       "90                                                      85.0  \n",
       "91  As do most of the various KAMEN (MASKED) RIDER...   50.0  \n",
       "\n",
       "[92 rows x 5 columns]"
      ]
     },
     "execution_count": 13,
     "metadata": {},
     "output_type": "execute_result"
    }
   ],
   "source": [
    "df_imdb_drama = pd.DataFrame(imdb_drama)\n",
    "df_imdb_drama"
   ]
  },
  {
   "cell_type": "code",
   "execution_count": 14,
   "metadata": {},
   "outputs": [],
   "source": [
    "df_imdb_drama.to_csv('Drama_imdb.csv')"
   ]
  }
 ],
 "metadata": {
  "kernelspec": {
   "display_name": "Python 3",
   "language": "python",
   "name": "python3"
  },
  "language_info": {
   "codemirror_mode": {
    "name": "ipython",
    "version": 3
   },
   "file_extension": ".py",
   "mimetype": "text/x-python",
   "name": "python",
   "nbconvert_exporter": "python",
   "pygments_lexer": "ipython3",
   "version": "3.12.4"
  }
 },
 "nbformat": 4,
 "nbformat_minor": 2
}
