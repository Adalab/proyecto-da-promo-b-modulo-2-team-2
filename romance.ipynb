{
 "cells": [
  {
   "cell_type": "code",
   "execution_count": 1,
   "metadata": {},
   "outputs": [
    {
     "name": "stdout",
     "output_type": "stream",
     "text": [
      "Requirement already satisfied: tqdm in c:\\users\\laura romero\\appdata\\local\\packages\\pythonsoftwarefoundation.python.3.11_qbz5n2kfra8p0\\localcache\\local-packages\\python311\\site-packages (4.66.4)\n",
      "Requirement already satisfied: colorama in c:\\users\\laura romero\\appdata\\local\\packages\\pythonsoftwarefoundation.python.3.11_qbz5n2kfra8p0\\localcache\\local-packages\\python311\\site-packages (from tqdm) (0.4.6)\n"
     ]
    },
    {
     "name": "stderr",
     "output_type": "stream",
     "text": [
      "\n",
      "[notice] A new release of pip is available: 24.0 -> 24.1.1\n",
      "[notice] To update, run: C:\\Users\\Laura Romero\\AppData\\Local\\Microsoft\\WindowsApps\\PythonSoftwareFoundation.Python.3.11_qbz5n2kfra8p0\\python.exe -m pip install --upgrade pip\n"
     ]
    }
   ],
   "source": [
    "## instalamos la librería tqdm\n",
    "! pip install tqdm"
   ]
  },
  {
   "cell_type": "code",
   "execution_count": 2,
   "metadata": {},
   "outputs": [],
   "source": [
    "## importamos las librerias necesarias\n",
    "\n",
    "import requests\n",
    "import pandas as pd\n",
    "from time import sleep\n",
    "from tqdm import tqdm"
   ]
  },
  {
   "cell_type": "code",
   "execution_count": 3,
   "metadata": {},
   "outputs": [
    {
     "name": "stdout",
     "output_type": "stream",
     "text": [
      "Romance\n"
     ]
    },
    {
     "name": "stderr",
     "output_type": "stream",
     "text": [
      "  0%|          | 0/16 [00:00<?, ?it/s]"
     ]
    },
    {
     "name": "stdout",
     "output_type": "stream",
     "text": [
      "1980\n"
     ]
    },
    {
     "name": "stderr",
     "output_type": "stream",
     "text": [
      "  6%|▋         | 1/16 [00:07<01:48,  7.26s/it]"
     ]
    },
    {
     "name": "stdout",
     "output_type": "stream",
     "text": [
      "1981\n"
     ]
    },
    {
     "name": "stderr",
     "output_type": "stream",
     "text": [
      " 12%|█▎        | 2/16 [00:12<01:25,  6.14s/it]"
     ]
    },
    {
     "name": "stdout",
     "output_type": "stream",
     "text": [
      "1982\n"
     ]
    },
    {
     "name": "stderr",
     "output_type": "stream",
     "text": [
      " 19%|█▉        | 3/16 [00:17<01:15,  5.78s/it]"
     ]
    },
    {
     "name": "stdout",
     "output_type": "stream",
     "text": [
      "1983\n"
     ]
    },
    {
     "name": "stderr",
     "output_type": "stream",
     "text": [
      " 25%|██▌       | 4/16 [00:23<01:07,  5.60s/it]"
     ]
    },
    {
     "name": "stdout",
     "output_type": "stream",
     "text": [
      "1984\n"
     ]
    },
    {
     "name": "stderr",
     "output_type": "stream",
     "text": [
      " 31%|███▏      | 5/16 [00:28<01:00,  5.51s/it]"
     ]
    },
    {
     "name": "stdout",
     "output_type": "stream",
     "text": [
      "1985\n"
     ]
    },
    {
     "name": "stderr",
     "output_type": "stream",
     "text": [
      " 38%|███▊      | 6/16 [00:33<00:54,  5.45s/it]"
     ]
    },
    {
     "name": "stdout",
     "output_type": "stream",
     "text": [
      "1986\n"
     ]
    },
    {
     "name": "stderr",
     "output_type": "stream",
     "text": [
      " 44%|████▍     | 7/16 [00:39<00:48,  5.41s/it]"
     ]
    },
    {
     "name": "stdout",
     "output_type": "stream",
     "text": [
      "1987\n"
     ]
    },
    {
     "name": "stderr",
     "output_type": "stream",
     "text": [
      " 50%|█████     | 8/16 [00:44<00:43,  5.39s/it]"
     ]
    },
    {
     "name": "stdout",
     "output_type": "stream",
     "text": [
      "1988\n"
     ]
    },
    {
     "name": "stderr",
     "output_type": "stream",
     "text": [
      " 56%|█████▋    | 9/16 [00:50<00:38,  5.51s/it]"
     ]
    },
    {
     "name": "stdout",
     "output_type": "stream",
     "text": [
      "1989\n"
     ]
    },
    {
     "name": "stderr",
     "output_type": "stream",
     "text": [
      " 62%|██████▎   | 10/16 [00:55<00:32,  5.46s/it]"
     ]
    },
    {
     "name": "stdout",
     "output_type": "stream",
     "text": [
      "1990\n"
     ]
    },
    {
     "name": "stderr",
     "output_type": "stream",
     "text": [
      " 69%|██████▉   | 11/16 [01:01<00:27,  5.46s/it]"
     ]
    },
    {
     "name": "stdout",
     "output_type": "stream",
     "text": [
      "1991\n"
     ]
    },
    {
     "name": "stderr",
     "output_type": "stream",
     "text": [
      " 75%|███████▌  | 12/16 [01:06<00:21,  5.50s/it]"
     ]
    },
    {
     "name": "stdout",
     "output_type": "stream",
     "text": [
      "1992\n"
     ]
    },
    {
     "name": "stderr",
     "output_type": "stream",
     "text": [
      " 81%|████████▏ | 13/16 [01:12<00:16,  5.45s/it]"
     ]
    },
    {
     "name": "stdout",
     "output_type": "stream",
     "text": [
      "1993\n"
     ]
    },
    {
     "name": "stderr",
     "output_type": "stream",
     "text": [
      " 88%|████████▊ | 14/16 [01:17<00:10,  5.42s/it]"
     ]
    },
    {
     "name": "stdout",
     "output_type": "stream",
     "text": [
      "1994\n"
     ]
    },
    {
     "name": "stderr",
     "output_type": "stream",
     "text": [
      " 94%|█████████▍| 15/16 [01:22<00:05,  5.41s/it]"
     ]
    },
    {
     "name": "stdout",
     "output_type": "stream",
     "text": [
      "1995\n"
     ]
    },
    {
     "name": "stderr",
     "output_type": "stream",
     "text": [
      "100%|██████████| 16/16 [01:28<00:00,  5.52s/it]"
     ]
    },
    {
     "name": "stdout",
     "output_type": "stream",
     "text": [
      "[('tt0077883', 'Lásky mezi kapkami deste', 'Movie', '1980', 'Romance'), ('tt0079258', 'Habfürdö', 'Movie', '1980', 'Romance'), ('tt0079014', 'Cuentos eróticos', 'Movie', '1980', 'Romance'), ('tt0079106', \"L'empreinte des géants\", 'Movie', '1980', 'Romance'), ('tt0079293', 'Hi no tori 2772: Ai no kosumozôn', 'Movie', '1980', 'Romance'), ('tt0079749', 'Alibaba Aur 40 Chor', 'Movie', '1980', 'Romance'), ('tt0079579', 'Moskva slezam ne verit', 'Movie', '1980', 'Romance'), ('tt0079835', 'S lyubimymi ne rasstavaytes', 'Movie', '1980', 'Romance'), ('tt0079820', \"Le roi et l'oiseau\", 'Movie', '1980', 'Romance'), ('tt0077883', 'Lásky mezi kapkami deste', 'Movie', '1980', 'Romance'), ('tt0079258', 'Habfürdö', 'Movie', '1980', 'Romance'), ('tt0079014', 'Cuentos eróticos', 'Movie', '1980', 'Romance'), ('tt0079106', \"L'empreinte des géants\", 'Movie', '1980', 'Romance'), ('tt0079293', 'Hi no tori 2772: Ai no kosumozôn', 'Movie', '1980', 'Romance'), ('tt0079749', 'Alibaba Aur 40 Chor', 'Movie', '1980', 'Romance'), ('tt0079579', 'Moskva slezam ne verit', 'Movie', '1980', 'Romance'), ('tt0079835', 'S lyubimymi ne rasstavaytes', 'Movie', '1980', 'Romance'), ('tt0079820', \"Le roi et l'oiseau\", 'Movie', '1980', 'Romance'), ('tt0077883', 'Lásky mezi kapkami deste', 'Movie', '1980', 'Romance'), ('tt0079258', 'Habfürdö', 'Movie', '1980', 'Romance'), ('tt0079014', 'Cuentos eróticos', 'Movie', '1980', 'Romance'), ('tt0079106', \"L'empreinte des géants\", 'Movie', '1980', 'Romance'), ('tt0079293', 'Hi no tori 2772: Ai no kosumozôn', 'Movie', '1980', 'Romance'), ('tt0079749', 'Alibaba Aur 40 Chor', 'Movie', '1980', 'Romance'), ('tt0079579', 'Moskva slezam ne verit', 'Movie', '1980', 'Romance'), ('tt0079835', 'S lyubimymi ne rasstavaytes', 'Movie', '1980', 'Romance'), ('tt0079820', \"Le roi et l'oiseau\", 'Movie', '1980', 'Romance'), ('tt0077883', 'Lásky mezi kapkami deste', 'Movie', '1980', 'Romance'), ('tt0079258', 'Habfürdö', 'Movie', '1980', 'Romance'), ('tt0079014', 'Cuentos eróticos', 'Movie', '1980', 'Romance'), ('tt0079106', \"L'empreinte des géants\", 'Movie', '1980', 'Romance'), ('tt0079293', 'Hi no tori 2772: Ai no kosumozôn', 'Movie', '1980', 'Romance'), ('tt0079749', 'Alibaba Aur 40 Chor', 'Movie', '1980', 'Romance'), ('tt0079579', 'Moskva slezam ne verit', 'Movie', '1980', 'Romance'), ('tt0079835', 'S lyubimymi ne rasstavaytes', 'Movie', '1980', 'Romance'), ('tt0079820', \"Le roi et l'oiseau\", 'Movie', '1980', 'Romance'), ('tt0072173', 'Malibu Hot Summer', 'Movie', '1981', 'Romance'), ('tt0078349', 'Sekai meisaku dôwa: Hakuchô no mizûmi', 'Movie', '1981', 'Romance'), ('tt0077648', 'Habibi, amor mío', 'Movie', '1981', 'Romance'), ('tt0079492', 'Lovespell', 'Movie', '1981', 'Romance'), ('tt0080541', 'Clara et les Chics Types', 'Movie', '1981', 'Romance'), ('tt0080563', 'Conversa Acabada', 'Movie', '1981', 'Romance'), ('tt0080376', 'Barsaat Ki Ek Raat', 'Movie', '1981', 'Romance'), ('tt0080591', 'Damy priglashayut kavalerov', 'Movie', '1981', 'Romance'), ('tt0072173', 'Malibu Hot Summer', 'Movie', '1981', 'Romance'), ('tt0078349', 'Sekai meisaku dôwa: Hakuchô no mizûmi', 'Movie', '1981', 'Romance'), ('tt0077648', 'Habibi, amor mío', 'Movie', '1981', 'Romance'), ('tt0079492', 'Lovespell', 'Movie', '1981', 'Romance'), ('tt0080541', 'Clara et les Chics Types', 'Movie', '1981', 'Romance'), ('tt0080563', 'Conversa Acabada', 'Movie', '1981', 'Romance'), ('tt0080376', 'Barsaat Ki Ek Raat', 'Movie', '1981', 'Romance'), ('tt0080591', 'Damy priglashayut kavalerov', 'Movie', '1981', 'Romance'), ('tt0072173', 'Malibu Hot Summer', 'Movie', '1981', 'Romance'), ('tt0078349', 'Sekai meisaku dôwa: Hakuchô no mizûmi', 'Movie', '1981', 'Romance'), ('tt0077648', 'Habibi, amor mío', 'Movie', '1981', 'Romance'), ('tt0079492', 'Lovespell', 'Movie', '1981', 'Romance'), ('tt0080541', 'Clara et les Chics Types', 'Movie', '1981', 'Romance'), ('tt0080563', 'Conversa Acabada', 'Movie', '1981', 'Romance'), ('tt0080376', 'Barsaat Ki Ek Raat', 'Movie', '1981', 'Romance'), ('tt0080591', 'Damy priglashayut kavalerov', 'Movie', '1981', 'Romance'), ('tt0072173', 'Malibu Hot Summer', 'Movie', '1981', 'Romance'), ('tt0078349', 'Sekai meisaku dôwa: Hakuchô no mizûmi', 'Movie', '1981', 'Romance'), ('tt0077648', 'Habibi, amor mío', 'Movie', '1981', 'Romance'), ('tt0079492', 'Lovespell', 'Movie', '1981', 'Romance'), ('tt0080541', 'Clara et les Chics Types', 'Movie', '1981', 'Romance'), ('tt0080563', 'Conversa Acabada', 'Movie', '1981', 'Romance'), ('tt0080376', 'Barsaat Ki Ek Raat', 'Movie', '1981', 'Romance'), ('tt0080591', 'Damy priglashayut kavalerov', 'Movie', '1981', 'Romance'), ('tt0077885', 'Mademoiselle', 'Movie', '1982', 'Romance'), ('tt0077722', 'A Ilha dos Amores', 'Movie', '1982', 'Romance'), ('tt0079899', 'Shen diao xia lü', 'Movie', '1982', 'Romance'), ('tt0080883', 'Kapax del Amazonas', 'Movie', '1982', 'Romance'), ('tt0082537', 'Humongous', 'Movie', '1982', 'Romance'), ('tt0082773', 'Mouche', 'Movie', '1982', 'Romance'), ('tt0082361', 'Der Fan', 'Movie', '1982', 'Romance'), ('tt0081717', 'A Vida É Bela?!', 'Movie', '1982', 'Romance'), ('tt0082601', 'Kamata kôshinkyoku', 'Movie', '1982', 'Romance'), ('tt0077885', 'Mademoiselle', 'Movie', '1982', 'Romance'), ('tt0077722', 'A Ilha dos Amores', 'Movie', '1982', 'Romance'), ('tt0079899', 'Shen diao xia lü', 'Movie', '1982', 'Romance'), ('tt0080883', 'Kapax del Amazonas', 'Movie', '1982', 'Romance'), ('tt0082537', 'Humongous', 'Movie', '1982', 'Romance'), ('tt0082773', 'Mouche', 'Movie', '1982', 'Romance'), ('tt0082361', 'Der Fan', 'Movie', '1982', 'Romance'), ('tt0081717', 'A Vida É Bela?!', 'Movie', '1982', 'Romance'), ('tt0082601', 'Kamata kôshinkyoku', 'Movie', '1982', 'Romance'), ('tt0077885', 'Mademoiselle', 'Movie', '1982', 'Romance'), ('tt0077722', 'A Ilha dos Amores', 'Movie', '1982', 'Romance'), ('tt0079899', 'Shen diao xia lü', 'Movie', '1982', 'Romance'), ('tt0080883', 'Kapax del Amazonas', 'Movie', '1982', 'Romance'), ('tt0082537', 'Humongous', 'Movie', '1982', 'Romance'), ('tt0082773', 'Mouche', 'Movie', '1982', 'Romance'), ('tt0082361', 'Der Fan', 'Movie', '1982', 'Romance'), ('tt0081717', 'A Vida É Bela?!', 'Movie', '1982', 'Romance'), ('tt0082601', 'Kamata kôshinkyoku', 'Movie', '1982', 'Romance'), ('tt0077885', 'Mademoiselle', 'Movie', '1982', 'Romance'), ('tt0077722', 'A Ilha dos Amores', 'Movie', '1982', 'Romance'), ('tt0079899', 'Shen diao xia lü', 'Movie', '1982', 'Romance'), ('tt0080883', 'Kapax del Amazonas', 'Movie', '1982', 'Romance'), ('tt0082537', 'Humongous', 'Movie', '1982', 'Romance'), ('tt0082773', 'Mouche', 'Movie', '1982', 'Romance'), ('tt0082361', 'Der Fan', 'Movie', '1982', 'Romance'), ('tt0081717', 'A Vida É Bela?!', 'Movie', '1982', 'Romance'), ('tt0082601', 'Kamata kôshinkyoku', 'Movie', '1982', 'Romance'), ('tt0080693', 'Altri desideri particolari', 'Movie', '1983', 'Romance'), ('tt0081199', 'Mundo mágico', 'Movie', '1983', 'Romance'), ('tt0082841', 'Olivia', 'Movie', '1983', 'Romance'), ('tt0084151', 'Io, Chiara e lo scuro', 'Movie', '1983', 'Romance'), ('tt0084085', \"L'homme blessé\", 'Movie', '1983', 'Romance'), ('tt0083547', 'American Taboo', 'Movie', '1983', 'Romance'), ('tt0084256', 'Yang guo yu xiao long nu', 'Movie', '1983', 'Romance'), ('tt0083357', 'Zasieki', 'Movie', '1983', 'Romance'), ('tt0080693', 'Altri desideri particolari', 'Movie', '1983', 'Romance'), ('tt0081199', 'Mundo mágico', 'Movie', '1983', 'Romance'), ('tt0082841', 'Olivia', 'Movie', '1983', 'Romance'), ('tt0084151', 'Io, Chiara e lo scuro', 'Movie', '1983', 'Romance'), ('tt0084085', \"L'homme blessé\", 'Movie', '1983', 'Romance'), ('tt0083547', 'American Taboo', 'Movie', '1983', 'Romance'), ('tt0084256', 'Yang guo yu xiao long nu', 'Movie', '1983', 'Romance'), ('tt0083357', 'Zasieki', 'Movie', '1983', 'Romance'), ('tt0080693', 'Altri desideri particolari', 'Movie', '1983', 'Romance'), ('tt0081199', 'Mundo mágico', 'Movie', '1983', 'Romance'), ('tt0082841', 'Olivia', 'Movie', '1983', 'Romance'), ('tt0084151', 'Io, Chiara e lo scuro', 'Movie', '1983', 'Romance'), ('tt0084085', \"L'homme blessé\", 'Movie', '1983', 'Romance'), ('tt0083547', 'American Taboo', 'Movie', '1983', 'Romance'), ('tt0084256', 'Yang guo yu xiao long nu', 'Movie', '1983', 'Romance'), ('tt0083357', 'Zasieki', 'Movie', '1983', 'Romance'), ('tt0080693', 'Altri desideri particolari', 'Movie', '1983', 'Romance'), ('tt0081199', 'Mundo mágico', 'Movie', '1983', 'Romance'), ('tt0082841', 'Olivia', 'Movie', '1983', 'Romance'), ('tt0084151', 'Io, Chiara e lo scuro', 'Movie', '1983', 'Romance'), ('tt0084085', \"L'homme blessé\", 'Movie', '1983', 'Romance'), ('tt0083547', 'American Taboo', 'Movie', '1983', 'Romance'), ('tt0084256', 'Yang guo yu xiao long nu', 'Movie', '1983', 'Romance'), ('tt0083357', 'Zasieki', 'Movie', '1983', 'Romance'), ('tt0083853', 'Dreams Come True', 'Movie', '1984', 'Romance'), ('tt0085227', 'Belye rosy', 'Movie', '1984', 'Romance'), ('tt0085251', 'Blondinka za uglom', 'Movie', '1984', 'Romance'), ('tt0085268', 'Boszorkányszombat', 'Movie', '1984', 'Romance'), ('tt0085312', \"Les cavaliers de l'orage\", 'Movie', '1984', 'Romance'), ('tt0085320', 'Champions', 'Movie', '1984', 'Romance'), ('tt0085416', 'The Dark Side to Love', 'Movie', '1984', 'Romance'), ('tt0085364', 'El corazón de la noche', 'Movie', '1984', 'Romance'), ('tt0083853', 'Dreams Come True', 'Movie', '1984', 'Romance'), ('tt0085227', 'Belye rosy', 'Movie', '1984', 'Romance'), ('tt0085251', 'Blondinka za uglom', 'Movie', '1984', 'Romance'), ('tt0085268', 'Boszorkányszombat', 'Movie', '1984', 'Romance'), ('tt0085312', \"Les cavaliers de l'orage\", 'Movie', '1984', 'Romance'), ('tt0085320', 'Champions', 'Movie', '1984', 'Romance'), ('tt0085416', 'The Dark Side to Love', 'Movie', '1984', 'Romance'), ('tt0085364', 'El corazón de la noche', 'Movie', '1984', 'Romance'), ('tt0083853', 'Dreams Come True', 'Movie', '1984', 'Romance'), ('tt0085227', 'Belye rosy', 'Movie', '1984', 'Romance'), ('tt0085251', 'Blondinka za uglom', 'Movie', '1984', 'Romance'), ('tt0085268', 'Boszorkányszombat', 'Movie', '1984', 'Romance'), ('tt0085312', \"Les cavaliers de l'orage\", 'Movie', '1984', 'Romance'), ('tt0085320', 'Champions', 'Movie', '1984', 'Romance'), ('tt0085416', 'The Dark Side to Love', 'Movie', '1984', 'Romance'), ('tt0085364', 'El corazón de la noche', 'Movie', '1984', 'Romance'), ('tt0083853', 'Dreams Come True', 'Movie', '1984', 'Romance'), ('tt0085227', 'Belye rosy', 'Movie', '1984', 'Romance'), ('tt0085251', 'Blondinka za uglom', 'Movie', '1984', 'Romance'), ('tt0085268', 'Boszorkányszombat', 'Movie', '1984', 'Romance'), ('tt0085312', \"Les cavaliers de l'orage\", 'Movie', '1984', 'Romance'), ('tt0085320', 'Champions', 'Movie', '1984', 'Romance'), ('tt0085416', 'The Dark Side to Love', 'Movie', '1984', 'Romance'), ('tt0085364', 'El corazón de la noche', 'Movie', '1984', 'Romance'), ('tt0086030', 'O strannostyakh lyubvi', 'Movie', '1985', 'Romance'), ('tt0086330', 'Sogni erotici di Cleopatra', 'Movie', '1985', 'Romance'), ('tt0086595', 'Wo yuan yi', 'Movie', '1985', 'Romance'), ('tt0087449', 'I eshchyo odna noch Shakherazady', 'Movie', '1985', 'Romance'), ('tt0086868', \"L'alcova\", 'Movie', '1985', 'Romance'), ('tt0086866', 'Al limite, cioè, non glielo dico', 'Movie', '1985', 'Romance'), ('tt0086854', 'Adiós, Roberto', 'Movie', '1985', 'Romance'), ('tt0088222', 'Taifû kurabu', 'Movie', '1985', 'Romance'), ('tt0086030', 'O strannostyakh lyubvi', 'Movie', '1985', 'Romance'), ('tt0086330', 'Sogni erotici di Cleopatra', 'Movie', '1985', 'Romance'), ('tt0086595', 'Wo yuan yi', 'Movie', '1985', 'Romance'), ('tt0087449', 'I eshchyo odna noch Shakherazady', 'Movie', '1985', 'Romance'), ('tt0086868', \"L'alcova\", 'Movie', '1985', 'Romance'), ('tt0086866', 'Al limite, cioè, non glielo dico', 'Movie', '1985', 'Romance'), ('tt0086854', 'Adiós, Roberto', 'Movie', '1985', 'Romance'), ('tt0088222', 'Taifû kurabu', 'Movie', '1985', 'Romance'), ('tt0086030', 'O strannostyakh lyubvi', 'Movie', '1985', 'Romance'), ('tt0086330', 'Sogni erotici di Cleopatra', 'Movie', '1985', 'Romance'), ('tt0086595', 'Wo yuan yi', 'Movie', '1985', 'Romance'), ('tt0087449', 'I eshchyo odna noch Shakherazady', 'Movie', '1985', 'Romance'), ('tt0086868', \"L'alcova\", 'Movie', '1985', 'Romance'), ('tt0086866', 'Al limite, cioè, non glielo dico', 'Movie', '1985', 'Romance'), ('tt0086854', 'Adiós, Roberto', 'Movie', '1985', 'Romance'), ('tt0088222', 'Taifû kurabu', 'Movie', '1985', 'Romance'), ('tt0086030', 'O strannostyakh lyubvi', 'Movie', '1985', 'Romance'), ('tt0086330', 'Sogni erotici di Cleopatra', 'Movie', '1985', 'Romance'), ('tt0086595', 'Wo yuan yi', 'Movie', '1985', 'Romance'), ('tt0087449', 'I eshchyo odna noch Shakherazady', 'Movie', '1985', 'Romance'), ('tt0086868', \"L'alcova\", 'Movie', '1985', 'Romance'), ('tt0086866', 'Al limite, cioè, non glielo dico', 'Movie', '1985', 'Romance'), ('tt0086854', 'Adiós, Roberto', 'Movie', '1985', 'Romance'), ('tt0088222', 'Taifû kurabu', 'Movie', '1985', 'Romance'), ('tt0087944', 'The Princess and the Call Girl', 'Movie', '1986', 'Romance'), ('tt0088952', 'Crystal Heart', 'Movie', '1986', 'Romance'), ('tt0089064', 'Dziewczeta z Nowolipek', 'Movie', '1986', 'Romance'), ('tt0089976', 'Schwarz und ohne Zucker', 'Movie', '1986', 'Romance'), ('tt0089954', 'Salon krasoty', 'Movie', '1986', 'Romance'), ('tt0087084', 'Contactos', 'Movie', '1986', 'Romance'), ('tt0088339', 'Vaudeville', 'Movie', '1986', 'Romance'), ('tt0087944', 'The Princess and the Call Girl', 'Movie', '1986', 'Romance'), ('tt0088952', 'Crystal Heart', 'Movie', '1986', 'Romance'), ('tt0089064', 'Dziewczeta z Nowolipek', 'Movie', '1986', 'Romance'), ('tt0089976', 'Schwarz und ohne Zucker', 'Movie', '1986', 'Romance'), ('tt0089954', 'Salon krasoty', 'Movie', '1986', 'Romance'), ('tt0087084', 'Contactos', 'Movie', '1986', 'Romance'), ('tt0088339', 'Vaudeville', 'Movie', '1986', 'Romance'), ('tt0087944', 'The Princess and the Call Girl', 'Movie', '1986', 'Romance'), ('tt0088952', 'Crystal Heart', 'Movie', '1986', 'Romance'), ('tt0089064', 'Dziewczeta z Nowolipek', 'Movie', '1986', 'Romance'), ('tt0089976', 'Schwarz und ohne Zucker', 'Movie', '1986', 'Romance'), ('tt0089954', 'Salon krasoty', 'Movie', '1986', 'Romance'), ('tt0087084', 'Contactos', 'Movie', '1986', 'Romance'), ('tt0088339', 'Vaudeville', 'Movie', '1986', 'Romance'), ('tt0087944', 'The Princess and the Call Girl', 'Movie', '1986', 'Romance'), ('tt0088952', 'Crystal Heart', 'Movie', '1986', 'Romance'), ('tt0089064', 'Dziewczeta z Nowolipek', 'Movie', '1986', 'Romance'), ('tt0089976', 'Schwarz und ohne Zucker', 'Movie', '1986', 'Romance'), ('tt0089954', 'Salon krasoty', 'Movie', '1986', 'Romance'), ('tt0087084', 'Contactos', 'Movie', '1986', 'Romance'), ('tt0088339', 'Vaudeville', 'Movie', '1986', 'Romance'), ('tt0086584', 'Wierna rzeka', 'Movie', '1987', 'Romance'), ('tt0087301', 'Fu rong zhen', 'Movie', '1987', 'Romance'), ('tt0089089', 'En penumbra', 'Movie', '1987', 'Romance'), ('tt0089878', 'Rainbow War', 'Short', '1987', 'Romance'), ('tt0090565', '4 aventures de Reinette et Mirabelle', 'Movie', '1987', 'Romance'), ('tt0090570', '84 Charing Cross Road', 'Movie', '1987', 'Romance'), ('tt0086584', 'Wierna rzeka', 'Movie', '1987', 'Romance'), ('tt0087301', 'Fu rong zhen', 'Movie', '1987', 'Romance'), ('tt0089089', 'En penumbra', 'Movie', '1987', 'Romance'), ('tt0089878', 'Rainbow War', 'Short', '1987', 'Romance'), ('tt0090565', '4 aventures de Reinette et Mirabelle', 'Movie', '1987', 'Romance'), ('tt0090570', '84 Charing Cross Road', 'Movie', '1987', 'Romance'), ('tt0086584', 'Wierna rzeka', 'Movie', '1987', 'Romance'), ('tt0087301', 'Fu rong zhen', 'Movie', '1987', 'Romance'), ('tt0089089', 'En penumbra', 'Movie', '1987', 'Romance'), ('tt0089878', 'Rainbow War', 'Short', '1987', 'Romance'), ('tt0090565', '4 aventures de Reinette et Mirabelle', 'Movie', '1987', 'Romance'), ('tt0090570', '84 Charing Cross Road', 'Movie', '1987', 'Romance'), ('tt0086584', 'Wierna rzeka', 'Movie', '1987', 'Romance'), ('tt0087301', 'Fu rong zhen', 'Movie', '1987', 'Romance'), ('tt0089089', 'En penumbra', 'Movie', '1987', 'Romance'), ('tt0089878', 'Rainbow War', 'Short', '1987', 'Romance'), ('tt0090565', '4 aventures de Reinette et Mirabelle', 'Movie', '1987', 'Romance'), ('tt0090570', '84 Charing Cross Road', 'Movie', '1987', 'Romance'), ('tt0092294', 'Zolotaya tsep', 'Movie', '1988', 'Romance'), ('tt0092553', 'Los amores de Kafka', 'Movie', '1988', 'Romance'), ('tt0092559', 'And God Created Woman', 'Movie', '1988', 'Romance'), ('tt0093371', 'Kung-fu master!', 'Movie', '1988', 'Romance'), ('tt0092604', 'Baby Blues', 'Movie', '1988', 'Romance'), ('tt0092931', \"Drôle d'endroit pour une rencontre\", 'Movie', '1988', 'Romance'), ('tt0092294', 'Zolotaya tsep', 'Movie', '1988', 'Romance'), ('tt0092553', 'Los amores de Kafka', 'Movie', '1988', 'Romance'), ('tt0092559', 'And God Created Woman', 'Movie', '1988', 'Romance'), ('tt0093371', 'Kung-fu master!', 'Movie', '1988', 'Romance'), ('tt0092604', 'Baby Blues', 'Movie', '1988', 'Romance'), ('tt0092931', \"Drôle d'endroit pour une rencontre\", 'Movie', '1988', 'Romance'), ('tt0092294', 'Zolotaya tsep', 'Movie', '1988', 'Romance'), ('tt0092553', 'Los amores de Kafka', 'Movie', '1988', 'Romance'), ('tt0092559', 'And God Created Woman', 'Movie', '1988', 'Romance'), ('tt0093371', 'Kung-fu master!', 'Movie', '1988', 'Romance'), ('tt0092604', 'Baby Blues', 'Movie', '1988', 'Romance'), ('tt0092931', \"Drôle d'endroit pour une rencontre\", 'Movie', '1988', 'Romance'), ('tt0092294', 'Zolotaya tsep', 'Movie', '1988', 'Romance'), ('tt0092553', 'Los amores de Kafka', 'Movie', '1988', 'Romance'), ('tt0092559', 'And God Created Woman', 'Movie', '1988', 'Romance'), ('tt0093371', 'Kung-fu master!', 'Movie', '1988', 'Romance'), ('tt0092604', 'Baby Blues', 'Movie', '1988', 'Romance'), ('tt0092931', \"Drôle d'endroit pour une rencontre\", 'Movie', '1988', 'Romance'), ('tt0065108', 'Tolko tri nochi', 'Movie', '1989', 'Romance'), ('tt0089996', 'Qi pi liang', 'Movie', '1989', 'Romance'), ('tt0092903', 'Bille en tête', 'Movie', '1989', 'Romance'), ('tt0094236', 'Valentino Returns', 'Movie', '1989', 'Romance'), ('tt0092131', 'Un tour de manège', 'Movie', '1989', 'Romance'), ('tt0094314', 'West Is West', 'Movie', '1989', 'Romance'), ('tt0092577', \"Arabella l'angelo nero\", 'Movie', '1989', 'Romance'), ('tt0093944', 'Sat sau woo dip mung', 'Movie', '1989', 'Romance'), ('tt0065108', 'Tolko tri nochi', 'Movie', '1989', 'Romance'), ('tt0089996', 'Qi pi liang', 'Movie', '1989', 'Romance'), ('tt0092903', 'Bille en tête', 'Movie', '1989', 'Romance'), ('tt0094236', 'Valentino Returns', 'Movie', '1989', 'Romance'), ('tt0092131', 'Un tour de manège', 'Movie', '1989', 'Romance'), ('tt0094314', 'West Is West', 'Movie', '1989', 'Romance'), ('tt0092577', \"Arabella l'angelo nero\", 'Movie', '1989', 'Romance'), ('tt0093944', 'Sat sau woo dip mung', 'Movie', '1989', 'Romance'), ('tt0065108', 'Tolko tri nochi', 'Movie', '1989', 'Romance'), ('tt0089996', 'Qi pi liang', 'Movie', '1989', 'Romance'), ('tt0092903', 'Bille en tête', 'Movie', '1989', 'Romance'), ('tt0094236', 'Valentino Returns', 'Movie', '1989', 'Romance'), ('tt0092131', 'Un tour de manège', 'Movie', '1989', 'Romance'), ('tt0094314', 'West Is West', 'Movie', '1989', 'Romance'), ('tt0092577', \"Arabella l'angelo nero\", 'Movie', '1989', 'Romance'), ('tt0093944', 'Sat sau woo dip mung', 'Movie', '1989', 'Romance'), ('tt0065108', 'Tolko tri nochi', 'Movie', '1989', 'Romance'), ('tt0089996', 'Qi pi liang', 'Movie', '1989', 'Romance'), ('tt0092903', 'Bille en tête', 'Movie', '1989', 'Romance'), ('tt0094236', 'Valentino Returns', 'Movie', '1989', 'Romance'), ('tt0092131', 'Un tour de manège', 'Movie', '1989', 'Romance'), ('tt0094314', 'West Is West', 'Movie', '1989', 'Romance'), ('tt0092577', \"Arabella l'angelo nero\", 'Movie', '1989', 'Romance'), ('tt0093944', 'Sat sau woo dip mung', 'Movie', '1989', 'Romance'), ('tt0059325', 'Jahrgang 45', 'Movie', '1990', 'Romance'), ('tt0096025', \"Sailors Don't Cry\", 'Movie', '1990', 'Romance'), ('tt0059325', 'Jahrgang 45', 'Movie', '1990', 'Romance'), ('tt0096025', \"Sailors Don't Cry\", 'Movie', '1990', 'Romance'), ('tt0059325', 'Jahrgang 45', 'Movie', '1990', 'Romance'), ('tt0096025', \"Sailors Don't Cry\", 'Movie', '1990', 'Romance'), ('tt0059325', 'Jahrgang 45', 'Movie', '1990', 'Romance'), ('tt0096025', \"Sailors Don't Cry\", 'Movie', '1990', 'Romance'), ('tt0094841', 'La casa del sorriso', 'Movie', '1991', 'Romance'), ('tt0097122', 'Um Crime de Luxo', 'Movie', '1991', 'Romance'), ('tt0099027', \"Amelia Lópes O'Neill\", 'Movie', '1991', 'Romance'), ('tt0100342', 'Payback', 'Movie', '1991', 'Romance'), ('tt0100303', \"L'opération Corned Beef\", 'Movie', '1991', 'Romance'), ('tt0099388', 'Deathstalker IV: Match of Titans', 'Movie', '1991', 'Romance'), ('tt0100327', 'Panny i wdowy', 'Movie', '1991', 'Romance'), ('tt0100457', 'Rama Dama', 'Movie', '1991', 'Romance'), ('tt0094841', 'La casa del sorriso', 'Movie', '1991', 'Romance'), ('tt0097122', 'Um Crime de Luxo', 'Movie', '1991', 'Romance'), ('tt0099027', \"Amelia Lópes O'Neill\", 'Movie', '1991', 'Romance'), ('tt0100342', 'Payback', 'Movie', '1991', 'Romance'), ('tt0100303', \"L'opération Corned Beef\", 'Movie', '1991', 'Romance'), ('tt0099388', 'Deathstalker IV: Match of Titans', 'Movie', '1991', 'Romance'), ('tt0100327', 'Panny i wdowy', 'Movie', '1991', 'Romance'), ('tt0100457', 'Rama Dama', 'Movie', '1991', 'Romance'), ('tt0094841', 'La casa del sorriso', 'Movie', '1991', 'Romance'), ('tt0097122', 'Um Crime de Luxo', 'Movie', '1991', 'Romance'), ('tt0099027', \"Amelia Lópes O'Neill\", 'Movie', '1991', 'Romance'), ('tt0100342', 'Payback', 'Movie', '1991', 'Romance'), ('tt0100303', \"L'opération Corned Beef\", 'Movie', '1991', 'Romance'), ('tt0099388', 'Deathstalker IV: Match of Titans', 'Movie', '1991', 'Romance'), ('tt0100327', 'Panny i wdowy', 'Movie', '1991', 'Romance'), ('tt0100457', 'Rama Dama', 'Movie', '1991', 'Romance'), ('tt0094841', 'La casa del sorriso', 'Movie', '1991', 'Romance'), ('tt0097122', 'Um Crime de Luxo', 'Movie', '1991', 'Romance'), ('tt0099027', \"Amelia Lópes O'Neill\", 'Movie', '1991', 'Romance'), ('tt0100342', 'Payback', 'Movie', '1991', 'Romance'), ('tt0100303', \"L'opération Corned Beef\", 'Movie', '1991', 'Romance'), ('tt0099388', 'Deathstalker IV: Match of Titans', 'Movie', '1991', 'Romance'), ('tt0100327', 'Panny i wdowy', 'Movie', '1991', 'Romance'), ('tt0100457', 'Rama Dama', 'Movie', '1991', 'Romance'), ('tt0099192', 'Bush Pilots', 'Movie', '1992', 'Romance'), ('tt0101953', 'The Girl Who Came Late', 'Movie', '1992', 'Romance'), ('tt0101262', 'Aasmaan Se Gira', 'Movie', '1992', 'Romance'), ('tt0101499', 'Bordertown Cafe', 'Movie', '1992', 'Romance'), ('tt0102385', 'The Man Without a World', 'Movie', '1992', 'Romance'), ('tt0102448', 'Ming yuet chiu Zim Dung', 'Movie', '1992', 'Romance'), ('tt0103607', \"Abang '92\", 'Movie', '1992', 'Romance'), ('tt0099192', 'Bush Pilots', 'Movie', '1992', 'Romance'), ('tt0101953', 'The Girl Who Came Late', 'Movie', '1992', 'Romance'), ('tt0101262', 'Aasmaan Se Gira', 'Movie', '1992', 'Romance'), ('tt0101499', 'Bordertown Cafe', 'Movie', '1992', 'Romance'), ('tt0102385', 'The Man Without a World', 'Movie', '1992', 'Romance'), ('tt0102448', 'Ming yuet chiu Zim Dung', 'Movie', '1992', 'Romance'), ('tt0103607', \"Abang '92\", 'Movie', '1992', 'Romance'), ('tt0099192', 'Bush Pilots', 'Movie', '1992', 'Romance'), ('tt0101953', 'The Girl Who Came Late', 'Movie', '1992', 'Romance'), ('tt0101262', 'Aasmaan Se Gira', 'Movie', '1992', 'Romance'), ('tt0101499', 'Bordertown Cafe', 'Movie', '1992', 'Romance'), ('tt0102385', 'The Man Without a World', 'Movie', '1992', 'Romance'), ('tt0102448', 'Ming yuet chiu Zim Dung', 'Movie', '1992', 'Romance'), ('tt0103607', \"Abang '92\", 'Movie', '1992', 'Romance'), ('tt0099192', 'Bush Pilots', 'Movie', '1992', 'Romance'), ('tt0101953', 'The Girl Who Came Late', 'Movie', '1992', 'Romance'), ('tt0101262', 'Aasmaan Se Gira', 'Movie', '1992', 'Romance'), ('tt0101499', 'Bordertown Cafe', 'Movie', '1992', 'Romance'), ('tt0102385', 'The Man Without a World', 'Movie', '1992', 'Romance'), ('tt0102448', 'Ming yuet chiu Zim Dung', 'Movie', '1992', 'Romance'), ('tt0103607', \"Abang '92\", 'Movie', '1992', 'Romance'), ('tt0015724', 'Dama de noche', 'Movie', '1993', 'Romance'), ('tt0084551', 'Pu ti you hun', 'Movie', '1993', 'Romance'), ('tt0096090', 'Leung seung ching yuen', 'Movie', '1993', 'Romance'), ('tt0101644', 'Dai lau Gwong Cheong Lung', 'Movie', '1993', 'Romance'), ('tt0101996', 'Hammers Over the Anvil', 'Movie', '1993', 'Romance'), ('tt0103124', 'Tropical Heat', 'Movie', '1993', 'Romance'), ('tt0104809', 'Ein Mann für jede Tonart', 'Movie', '1993', 'Romance'), ('tt0103792', 'Belyy korol, krasnaya koroleva (Russkie)', 'Movie', '1993', 'Romance'), ('tt0015724', 'Dama de noche', 'Movie', '1993', 'Romance'), ('tt0084551', 'Pu ti you hun', 'Movie', '1993', 'Romance'), ('tt0096090', 'Leung seung ching yuen', 'Movie', '1993', 'Romance'), ('tt0101644', 'Dai lau Gwong Cheong Lung', 'Movie', '1993', 'Romance'), ('tt0101996', 'Hammers Over the Anvil', 'Movie', '1993', 'Romance'), ('tt0103124', 'Tropical Heat', 'Movie', '1993', 'Romance'), ('tt0104809', 'Ein Mann für jede Tonart', 'Movie', '1993', 'Romance'), ('tt0103792', 'Belyy korol, krasnaya koroleva (Russkie)', 'Movie', '1993', 'Romance'), ('tt0015724', 'Dama de noche', 'Movie', '1993', 'Romance'), ('tt0084551', 'Pu ti you hun', 'Movie', '1993', 'Romance'), ('tt0096090', 'Leung seung ching yuen', 'Movie', '1993', 'Romance'), ('tt0101644', 'Dai lau Gwong Cheong Lung', 'Movie', '1993', 'Romance'), ('tt0101996', 'Hammers Over the Anvil', 'Movie', '1993', 'Romance'), ('tt0103124', 'Tropical Heat', 'Movie', '1993', 'Romance'), ('tt0104809', 'Ein Mann für jede Tonart', 'Movie', '1993', 'Romance'), ('tt0103792', 'Belyy korol, krasnaya koroleva (Russkie)', 'Movie', '1993', 'Romance'), ('tt0015724', 'Dama de noche', 'Movie', '1993', 'Romance'), ('tt0084551', 'Pu ti you hun', 'Movie', '1993', 'Romance'), ('tt0096090', 'Leung seung ching yuen', 'Movie', '1993', 'Romance'), ('tt0101644', 'Dai lau Gwong Cheong Lung', 'Movie', '1993', 'Romance'), ('tt0101996', 'Hammers Over the Anvil', 'Movie', '1993', 'Romance'), ('tt0103124', 'Tropical Heat', 'Movie', '1993', 'Romance'), ('tt0104809', 'Ein Mann für jede Tonart', 'Movie', '1993', 'Romance'), ('tt0103792', 'Belyy korol, krasnaya koroleva (Russkie)', 'Movie', '1993', 'Romance'), ('tt0097416', 'Kadhalan', 'Movie', '1994', 'Romance'), ('tt0107834', 'La delegazione', 'Movie', '1994', 'Romance'), ('tt0107677', 'Nexus 2.431', 'Movie', '1994', 'Romance'), ('tt0097416', 'Kadhalan', 'Movie', '1994', 'Romance'), ('tt0107834', 'La delegazione', 'Movie', '1994', 'Romance'), ('tt0107677', 'Nexus 2.431', 'Movie', '1994', 'Romance'), ('tt0097416', 'Kadhalan', 'Movie', '1994', 'Romance'), ('tt0107834', 'La delegazione', 'Movie', '1994', 'Romance'), ('tt0107677', 'Nexus 2.431', 'Movie', '1994', 'Romance'), ('tt0097416', 'Kadhalan', 'Movie', '1994', 'Romance'), ('tt0107834', 'La delegazione', 'Movie', '1994', 'Romance'), ('tt0107677', 'Nexus 2.431', 'Movie', '1994', 'Romance'), ('tt0100267', 'Nobat e Asheghi', 'Movie', '1995', 'Romance'), ('tt0101616', 'Coolie No. 1', 'Movie', '1995', 'Romance'), ('tt0109363', 'Seeking the Cafe Bob', 'Movie', '1995', 'Romance'), ('tt0109489', 'Costa Brava', 'Movie', '1995', 'Romance'), ('tt0109242', 'El beso perfecto', 'Short', '1995', 'Romance'), ('tt0100267', 'Nobat e Asheghi', 'Movie', '1995', 'Romance'), ('tt0101616', 'Coolie No. 1', 'Movie', '1995', 'Romance'), ('tt0109363', 'Seeking the Cafe Bob', 'Movie', '1995', 'Romance'), ('tt0109489', 'Costa Brava', 'Movie', '1995', 'Romance'), ('tt0109242', 'El beso perfecto', 'Short', '1995', 'Romance'), ('tt0100267', 'Nobat e Asheghi', 'Movie', '1995', 'Romance'), ('tt0101616', 'Coolie No. 1', 'Movie', '1995', 'Romance'), ('tt0109363', 'Seeking the Cafe Bob', 'Movie', '1995', 'Romance'), ('tt0109489', 'Costa Brava', 'Movie', '1995', 'Romance'), ('tt0109242', 'El beso perfecto', 'Short', '1995', 'Romance'), ('tt0100267', 'Nobat e Asheghi', 'Movie', '1995', 'Romance'), ('tt0101616', 'Coolie No. 1', 'Movie', '1995', 'Romance'), ('tt0109363', 'Seeking the Cafe Bob', 'Movie', '1995', 'Romance'), ('tt0109489', 'Costa Brava', 'Movie', '1995', 'Romance'), ('tt0109242', 'El beso perfecto', 'Short', '1995', 'Romance')]\n"
     ]
    },
    {
     "name": "stderr",
     "output_type": "stream",
     "text": [
      "\n"
     ]
    }
   ],
   "source": [
    "genreList = ['Romance'] #, 'Mystery', 'Romance']\n",
    "romancemovielist = []\n",
    "\n",
    "for genre in genreList:\n",
    "    print(genre)\n",
    "    \n",
    "    for year in tqdm(range(1980,1996)):\n",
    "        print(year)\n",
    "        url = f\"https://dev.adalab.es/api/cinema/movies?year={year}&genre={genre}\"\n",
    "        sleep(5)\n",
    "        response = requests.get(url)\n",
    "        if response.status_code == 200:\n",
    "            movies = response.json()['results']\n",
    "            for index,movie in enumerate(movies):\n",
    "                if movie ['type'] == 'Movie' or movie ['type'] == 'Short':\n",
    "                    resultado = []\n",
    "                    resultado.append(movie['idOwner'])\n",
    "                    resultado.append(movie['title'])\n",
    "                    resultado.append(movie['type'])\n",
    "                    resultado.append(movie['year'])\n",
    "                    resultado.append(movie['genre'])\n",
    "\n",
    "                    romancemovielist.append(tuple(resultado))            \n",
    "        else: \n",
    "            \n",
    "            print(f\"Vaya, algo ha ido mal, error {response.status_code}\")\n",
    "\n",
    "print(romancemovielist)"
   ]
  },
  {
   "cell_type": "code",
   "execution_count": 7,
   "metadata": {},
   "outputs": [
    {
     "name": "stdout",
     "output_type": "stream",
     "text": [
      "       idOwner                             Title   Type  Year    Genre\n",
      "0    tt0077883          Lásky mezi kapkami deste  Movie  1980  Romance\n",
      "1    tt0079258                          Habfürdö  Movie  1980  Romance\n",
      "2    tt0079014                  Cuentos eróticos  Movie  1980  Romance\n",
      "3    tt0079106            L'empreinte des géants  Movie  1980  Romance\n",
      "4    tt0079293  Hi no tori 2772: Ai no kosumozôn  Movie  1980  Romance\n",
      "..         ...                               ...    ...   ...      ...\n",
      "435  tt0100267                   Nobat e Asheghi  Movie  1995  Romance\n",
      "436  tt0101616                      Coolie No. 1  Movie  1995  Romance\n",
      "437  tt0109363              Seeking the Cafe Bob  Movie  1995  Romance\n",
      "438  tt0109489                       Costa Brava  Movie  1995  Romance\n",
      "439  tt0109242                  El beso perfecto  Short  1995  Romance\n",
      "\n",
      "[440 rows x 5 columns]\n"
     ]
    }
   ],
   "source": [
    "## convertirlo en un Dataframe\n",
    "\n",
    "df = pd.DataFrame(romancemovielist, columns = ['idOwner','Title','Type','Year','Genre'])\n",
    "\n",
    "print(df)\n",
    "df.to_csv('Romance.csv')"
   ]
  }
 ],
 "metadata": {
  "kernelspec": {
   "display_name": "Python 3",
   "language": "python",
   "name": "python3"
  },
  "language_info": {
   "codemirror_mode": {
    "name": "ipython",
    "version": 3
   },
   "file_extension": ".py",
   "mimetype": "text/x-python",
   "name": "python",
   "nbconvert_exporter": "python",
   "pygments_lexer": "ipython3",
   "version": "3.11.9"
  }
 },
 "nbformat": 4,
 "nbformat_minor": 2
}
