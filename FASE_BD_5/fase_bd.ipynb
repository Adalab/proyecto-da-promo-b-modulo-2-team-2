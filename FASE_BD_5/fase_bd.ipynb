{
 "cells": [
  {
   "cell_type": "code",
   "execution_count": 1,
   "metadata": {},
   "outputs": [],
   "source": [
    "# Importar librería para la conexión con MySQL\n",
    "# -----------------------------------------------------------------------\n",
    "import mysql.connector\n",
    "from mysql.connector import errorcode\n",
    "\n",
    "\n",
    "# Importar librerías para manipulación y análisis de datos\n",
    "# -----------------------------------------------------------------------\n",
    "import pandas as pd"
   ]
  },
  {
   "cell_type": "code",
   "execution_count": 2,
   "metadata": {},
   "outputs": [
    {
     "name": "stdout",
     "output_type": "stream",
     "text": [
      "MySQLCursor: CREATE DATABASE IF NOT EXISTS CineParadi..\n"
     ]
    }
   ],
   "source": [
    "cnx = mysql.connector.connect(\n",
    "    user=\"root\",\n",
    "    password=\"AlumnaAdalab\",\n",
    "    host=\"127.0.0.1\",\n",
    "    auth_plugin='mysql_native_password'\n",
    ")\n",
    "\n",
    "mycursor = cnx.cursor()\n",
    "\n",
    "try:\n",
    "    mycursor.execute(\"CREATE DATABASE IF NOT EXISTS CineParadiso\")\n",
    "    print(mycursor)\n",
    "\n",
    "except mysql.connector.Error as err:\n",
    "    print(err)\n",
    "    print(\"Error code:\", err.errno)\n",
    "    print(\"SOLSTATE\", err.sqlstate)\n",
    "    print(\"Message\", err.msg)\n",
    "    \n",
    "cnx.close()"
   ]
  },
  {
   "cell_type": "code",
   "execution_count": 6,
   "metadata": {},
   "outputs": [
    {
     "name": "stdout",
     "output_type": "stream",
     "text": [
      "MySQLCursor: CREATE TABLE film (film_id INT AUTO_INCR..\n"
     ]
    }
   ],
   "source": [
    "# Tabla FILM\n",
    "\n",
    "cnx = mysql.connector.connect(\n",
    "    user=\"root\",\n",
    "    password=\"AlumnaAdalab\",\n",
    "    host=\"127.0.0.1\",\n",
    "    database=\"CineParadiso\",\n",
    "    auth_plugin='mysql_native_password'\n",
    ")\n",
    "\n",
    "mycursor = cnx.cursor()\n",
    "\n",
    "query = \"CREATE TABLE film (film_id INT AUTO_INCREMENT PRIMARY KEY, idOwner VARCHAR (30), title VARCHAR (100), type VARCHAR (30), year VARCHAR (10), genre VARCHAR (30), screenwriter VARCHAR (50), management VARCHAR (50), plot VARCHAR (1000), length INT, rating VARCHAR (10))\"\n",
    "\n",
    "try:\n",
    "    mycursor.execute(query)\n",
    "\n",
    "    print(mycursor)\n",
    "    \n",
    "except mysql.connector.Error as err:\n",
    "    print(err)\n",
    "    print(\"Error Code:\", err.errno)\n",
    "    print(\"SQLSTATE\", err.sqlstate)\n",
    "    print(\"Message\", err.msg)\n",
    "    \n",
    "cnx.close()\n"
   ]
  },
  {
   "cell_type": "code",
   "execution_count": 7,
   "metadata": {},
   "outputs": [
    {
     "name": "stdout",
     "output_type": "stream",
     "text": [
      "MySQLCursor: CREATE TABLE cast (cast_id INT AUTO_INCR..\n"
     ]
    }
   ],
   "source": [
    "# Tabla CAST\n",
    "\n",
    "cnx = mysql.connector.connect(\n",
    "    user=\"root\",\n",
    "    password=\"AlumnaAdalab\",\n",
    "    host=\"127.0.0.1\",\n",
    "    database=\"CineParadiso\",\n",
    "    auth_plugin='mysql_native_password'\n",
    ")\n",
    "\n",
    "mycursor = cnx.cursor()\n",
    "\n",
    "\n",
    "query = \"CREATE TABLE cast (cast_id INT AUTO_INCREMENT PRIMARY KEY, name VARCHAR (50), birth VARCHAR (30), award VARCHAR (60), nomination VARCHAR (60), known_for VARCHAR (500))\"\n",
    "\n",
    "try:\n",
    "    mycursor.execute(query)\n",
    "\n",
    "    print(mycursor)\n",
    "    \n",
    "except mysql.connector.Error as err:\n",
    "    print(err)\n",
    "    print(\"Error Code:\", err.errno)\n",
    "    print(\"SQLSTATE\", err.sqlstate)\n",
    "    print(\"Message\", err.msg)\n",
    "    \n",
    "cnx.close()"
   ]
  },
  {
   "cell_type": "code",
   "execution_count": 8,
   "metadata": {},
   "outputs": [
    {
     "name": "stdout",
     "output_type": "stream",
     "text": [
      "MySQLCursor: CREATE TABLE oscars (oscar_id INT AUTO_I..\n"
     ]
    }
   ],
   "source": [
    "# Tabla OSCARS\n",
    "\n",
    "cnx = mysql.connector.connect(\n",
    "    user=\"root\",\n",
    "    password=\"AlumnaAdalab\",\n",
    "    host=\"127.0.0.1\",\n",
    "    database=\"CineParadiso\",\n",
    "    auth_plugin='mysql_native_password'\n",
    ")\n",
    "\n",
    "mycursor = cnx.cursor()\n",
    "\n",
    "\n",
    "query = \"CREATE TABLE oscars (oscar_id INT AUTO_INCREMENT PRIMARY KEY, date VARCHAR (30), best_film VARCHAR (50), best_management VARCHAR (40), best_actor VARCHAR (40), best_actress VARCHAR (40))\"\n",
    "\n",
    "try:\n",
    "    mycursor.execute(query)\n",
    "\n",
    "    print(mycursor)\n",
    "    \n",
    "except mysql.connector.Error as err:\n",
    "    print(err)\n",
    "    print(\"Error Code:\", err.errno)\n",
    "    print(\"SQLSTATE\", err.sqlstate)\n",
    "    print(\"Message\", err.msg)\n",
    "    \n",
    "cnx.close()"
   ]
  },
  {
   "cell_type": "code",
   "execution_count": 12,
   "metadata": {},
   "outputs": [
    {
     "name": "stdout",
     "output_type": "stream",
     "text": [
      "MySQLCursor: \n",
      "         CREATE TABLE film_cast_oscars ..\n"
     ]
    }
   ],
   "source": [
    "# Tabla FILM_CAST_OSCARS\n",
    "\n",
    "cnx = mysql.connector.connect(\n",
    "    user=\"root\",\n",
    "    password=\"AlumnaAdalab\",\n",
    "    host=\"127.0.0.1\",\n",
    "    database=\"CineParadiso\",\n",
    "    auth_plugin='mysql_native_password'\n",
    ")\n",
    "\n",
    "mycursor = cnx.cursor()\n",
    "\n",
    "\n",
    "query = (\"\"\"\n",
    "         CREATE TABLE film_cast_oscars (\n",
    "    id_film_cast_oscars INT AUTO_INCREMENT PRIMARY KEY,\n",
    "    film_id INT,\n",
    "    cast_id INT,\n",
    "    oscar_id INT,\n",
    "    FOREIGN KEY (film_id) REFERENCES film(film_id),\n",
    "    FOREIGN KEY (cast_id) REFERENCES `cast`(cast_id),\n",
    "    FOREIGN KEY (oscar_id) REFERENCES oscars(oscar_id));\n",
    "    \"\"\")\n",
    "\n",
    "\n",
    "try:\n",
    "    mycursor.execute(query)\n",
    "\n",
    "    print(mycursor)\n",
    "    \n",
    "except mysql.connector.Error as err:\n",
    "    print(err)\n",
    "    print(\"Error Code:\", err.errno)\n",
    "    print(\"SQLSTATE\", err.sqlstate)\n",
    "    print(\"Message\", err.msg)\n",
    "    \n",
    "cnx.close()"
   ]
  },
  {
   "cell_type": "code",
   "execution_count": null,
   "metadata": {},
   "outputs": [],
   "source": [
    "\n",
    "cnx = mysql.connector.connect(\n",
    "    user=\"root\",\n",
    "    password=\"AlumnaAdalab\",\n",
    "    host=\"127.0.0.1\",\n",
    "    database=\"CinemExtract\"\n",
    "    auth_plugin='mysql_native_password'\n",
    ")\n",
    "\n",
    "mycursor = cnx.cursor()\n",
    "\n",
    "## Leer el CSV donde tengo la info:\n",
    "\n",
    "data_movies = pd.read_csv('CSVpelis.csv')\n",
    "data_movies_details = pd.read_csv('CSVinfopelis.csv')\n",
    "\n",
    "## Unir los df para tener todo junto con merge para unir los ids. Se tienen que llamar igual en los dos csv para unirlos\n",
    "\n",
    "df = pd.merge(data_movies, data_movies_details, on='id', how='inner')\n",
    "\n",
    "df\n",
    "\n",
    "## Insertar los datos en la tabla\n",
    "\n",
    "query = ''\n",
    "\n",
    "for _, row in df.iterrows():\n",
    "    \n",
    "    try:\n",
    "        mycursor.execute(query, tuple(row))\n",
    "    \n",
    "    except mysql.connector.Error as err:\n",
    "        print(f'Error insertando fila {row['id']}: {err}')\n",
    "        \n",
    "## Confirmar los cambios en la base de datos\n",
    "\n",
    "cnx.commit()\n",
    "\n",
    "## Cerrar el cursor y la conexión\n",
    "\n",
    "mycursor.close()\n",
    "cnx.close()\n",
    "\n",
    "\n",
    "\n",
    "\n",
    "\n",
    "\n",
    "\n"
   ]
  }
 ],
 "metadata": {
  "kernelspec": {
   "display_name": "Python 3",
   "language": "python",
   "name": "python3"
  },
  "language_info": {
   "codemirror_mode": {
    "name": "ipython",
    "version": 3
   },
   "file_extension": ".py",
   "mimetype": "text/x-python",
   "name": "python",
   "nbconvert_exporter": "python",
   "pygments_lexer": "ipython3",
   "version": "3.12.4"
  }
 },
 "nbformat": 4,
 "nbformat_minor": 2
}
